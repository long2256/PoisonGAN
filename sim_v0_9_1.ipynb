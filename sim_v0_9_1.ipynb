{
  "cells": [
    {
      "cell_type": "markdown",
      "metadata": {
        "id": "view-in-github",
        "colab_type": "text"
      },
      "source": [
        "<a href=\"https://colab.research.google.com/github/long2256/PoisonGAN/blob/main/sim_v0_9_1.ipynb\" target=\"_parent\"><img src=\"https://colab.research.google.com/assets/colab-badge.svg\" alt=\"Open In Colab\"/></a>"
      ]
    },
    {
      "cell_type": "code",
      "execution_count": 1,
      "metadata": {
        "colab": {
          "base_uri": "https://localhost:8080/"
        },
        "id": "zNTidNXQtiy6",
        "outputId": "2eeba4fc-dd74-4903-c26a-e523e3dccefc"
      },
      "outputs": [
        {
          "output_type": "stream",
          "name": "stdout",
          "text": [
            "\u001b[2K     \u001b[90m━━━━━━━━━━━━━━━━━━━━━━━━━━━━━━━━━━━━━━━━\u001b[0m \u001b[32m219.2/219.2 kB\u001b[0m \u001b[31m2.6 MB/s\u001b[0m eta \u001b[36m0:00:00\u001b[0m\n",
            "\u001b[2K     \u001b[90m━━━━━━━━━━━━━━━━━━━━━━━━━━━━━━━━━━━━━━━━\u001b[0m \u001b[32m2.1/2.1 MB\u001b[0m \u001b[31m13.9 MB/s\u001b[0m eta \u001b[36m0:00:00\u001b[0m\n",
            "\u001b[2K     \u001b[90m━━━━━━━━━━━━━━━━━━━━━━━━━━━━━━━━━━━━━━━━\u001b[0m \u001b[32m56.9/56.9 MB\u001b[0m \u001b[31m11.7 MB/s\u001b[0m eta \u001b[36m0:00:00\u001b[0m\n",
            "\u001b[?25hCollecting flwr_datasets[vision]\n",
            "  Downloading flwr_datasets-0.0.2-py3-none-any.whl (22 kB)\n",
            "Collecting datasets<3.0.0,>=2.14.3 (from flwr_datasets[vision])\n",
            "  Downloading datasets-2.16.1-py3-none-any.whl (507 kB)\n",
            "\u001b[2K     \u001b[90m━━━━━━━━━━━━━━━━━━━━━━━━━━━━━━━━━━━━━━━━\u001b[0m \u001b[32m507.1/507.1 kB\u001b[0m \u001b[31m6.4 MB/s\u001b[0m eta \u001b[36m0:00:00\u001b[0m\n",
            "\u001b[?25hRequirement already satisfied: numpy<2.0.0,>=1.21.0 in /usr/local/lib/python3.10/dist-packages (from flwr_datasets[vision]) (1.23.5)\n",
            "Requirement already satisfied: pillow>=6.2.1 in /usr/local/lib/python3.10/dist-packages (from flwr_datasets[vision]) (9.4.0)\n",
            "Requirement already satisfied: filelock in /usr/local/lib/python3.10/dist-packages (from datasets<3.0.0,>=2.14.3->flwr_datasets[vision]) (3.13.1)\n",
            "Requirement already satisfied: pyarrow>=8.0.0 in /usr/local/lib/python3.10/dist-packages (from datasets<3.0.0,>=2.14.3->flwr_datasets[vision]) (10.0.1)\n",
            "Requirement already satisfied: pyarrow-hotfix in /usr/local/lib/python3.10/dist-packages (from datasets<3.0.0,>=2.14.3->flwr_datasets[vision]) (0.6)\n",
            "Collecting dill<0.3.8,>=0.3.0 (from datasets<3.0.0,>=2.14.3->flwr_datasets[vision])\n",
            "  Downloading dill-0.3.7-py3-none-any.whl (115 kB)\n",
            "\u001b[2K     \u001b[90m━━━━━━━━━━━━━━━━━━━━━━━━━━━━━━━━━━━━━━━━\u001b[0m \u001b[32m115.3/115.3 kB\u001b[0m \u001b[31m9.8 MB/s\u001b[0m eta \u001b[36m0:00:00\u001b[0m\n",
            "\u001b[?25hRequirement already satisfied: pandas in /usr/local/lib/python3.10/dist-packages (from datasets<3.0.0,>=2.14.3->flwr_datasets[vision]) (1.5.3)\n",
            "Requirement already satisfied: requests>=2.19.0 in /usr/local/lib/python3.10/dist-packages (from datasets<3.0.0,>=2.14.3->flwr_datasets[vision]) (2.31.0)\n",
            "Requirement already satisfied: tqdm>=4.62.1 in /usr/local/lib/python3.10/dist-packages (from datasets<3.0.0,>=2.14.3->flwr_datasets[vision]) (4.66.1)\n",
            "Requirement already satisfied: xxhash in /usr/local/lib/python3.10/dist-packages (from datasets<3.0.0,>=2.14.3->flwr_datasets[vision]) (3.4.1)\n",
            "Collecting multiprocess (from datasets<3.0.0,>=2.14.3->flwr_datasets[vision])\n",
            "  Downloading multiprocess-0.70.15-py310-none-any.whl (134 kB)\n",
            "\u001b[2K     \u001b[90m━━━━━━━━━━━━━━━━━━━━━━━━━━━━━━━━━━━━━━━━\u001b[0m \u001b[32m134.8/134.8 kB\u001b[0m \u001b[31m8.8 MB/s\u001b[0m eta \u001b[36m0:00:00\u001b[0m\n",
            "\u001b[?25hRequirement already satisfied: fsspec[http]<=2023.10.0,>=2023.1.0 in /usr/local/lib/python3.10/dist-packages (from datasets<3.0.0,>=2.14.3->flwr_datasets[vision]) (2023.6.0)\n",
            "Requirement already satisfied: aiohttp in /usr/local/lib/python3.10/dist-packages (from datasets<3.0.0,>=2.14.3->flwr_datasets[vision]) (3.9.1)\n",
            "Requirement already satisfied: huggingface-hub>=0.19.4 in /usr/local/lib/python3.10/dist-packages (from datasets<3.0.0,>=2.14.3->flwr_datasets[vision]) (0.20.2)\n",
            "Requirement already satisfied: packaging in /usr/local/lib/python3.10/dist-packages (from datasets<3.0.0,>=2.14.3->flwr_datasets[vision]) (23.2)\n",
            "Requirement already satisfied: pyyaml>=5.1 in /usr/local/lib/python3.10/dist-packages (from datasets<3.0.0,>=2.14.3->flwr_datasets[vision]) (6.0.1)\n",
            "Requirement already satisfied: attrs>=17.3.0 in /usr/local/lib/python3.10/dist-packages (from aiohttp->datasets<3.0.0,>=2.14.3->flwr_datasets[vision]) (23.2.0)\n",
            "Requirement already satisfied: multidict<7.0,>=4.5 in /usr/local/lib/python3.10/dist-packages (from aiohttp->datasets<3.0.0,>=2.14.3->flwr_datasets[vision]) (6.0.4)\n",
            "Requirement already satisfied: yarl<2.0,>=1.0 in /usr/local/lib/python3.10/dist-packages (from aiohttp->datasets<3.0.0,>=2.14.3->flwr_datasets[vision]) (1.9.4)\n",
            "Requirement already satisfied: frozenlist>=1.1.1 in /usr/local/lib/python3.10/dist-packages (from aiohttp->datasets<3.0.0,>=2.14.3->flwr_datasets[vision]) (1.4.1)\n",
            "Requirement already satisfied: aiosignal>=1.1.2 in /usr/local/lib/python3.10/dist-packages (from aiohttp->datasets<3.0.0,>=2.14.3->flwr_datasets[vision]) (1.3.1)\n",
            "Requirement already satisfied: async-timeout<5.0,>=4.0 in /usr/local/lib/python3.10/dist-packages (from aiohttp->datasets<3.0.0,>=2.14.3->flwr_datasets[vision]) (4.0.3)\n",
            "Requirement already satisfied: typing-extensions>=3.7.4.3 in /usr/local/lib/python3.10/dist-packages (from huggingface-hub>=0.19.4->datasets<3.0.0,>=2.14.3->flwr_datasets[vision]) (4.5.0)\n",
            "Requirement already satisfied: charset-normalizer<4,>=2 in /usr/local/lib/python3.10/dist-packages (from requests>=2.19.0->datasets<3.0.0,>=2.14.3->flwr_datasets[vision]) (3.3.2)\n",
            "Requirement already satisfied: idna<4,>=2.5 in /usr/local/lib/python3.10/dist-packages (from requests>=2.19.0->datasets<3.0.0,>=2.14.3->flwr_datasets[vision]) (3.6)\n",
            "Requirement already satisfied: urllib3<3,>=1.21.1 in /usr/local/lib/python3.10/dist-packages (from requests>=2.19.0->datasets<3.0.0,>=2.14.3->flwr_datasets[vision]) (2.0.7)\n",
            "Requirement already satisfied: certifi>=2017.4.17 in /usr/local/lib/python3.10/dist-packages (from requests>=2.19.0->datasets<3.0.0,>=2.14.3->flwr_datasets[vision]) (2023.11.17)\n",
            "Requirement already satisfied: python-dateutil>=2.8.1 in /usr/local/lib/python3.10/dist-packages (from pandas->datasets<3.0.0,>=2.14.3->flwr_datasets[vision]) (2.8.2)\n",
            "Requirement already satisfied: pytz>=2020.1 in /usr/local/lib/python3.10/dist-packages (from pandas->datasets<3.0.0,>=2.14.3->flwr_datasets[vision]) (2023.3.post1)\n",
            "Requirement already satisfied: six>=1.5 in /usr/local/lib/python3.10/dist-packages (from python-dateutil>=2.8.1->pandas->datasets<3.0.0,>=2.14.3->flwr_datasets[vision]) (1.16.0)\n",
            "Installing collected packages: dill, multiprocess, datasets, flwr_datasets\n",
            "Successfully installed datasets-2.16.1 dill-0.3.7 flwr_datasets-0.0.2 multiprocess-0.70.15\n"
          ]
        }
      ],
      "source": [
        "# depending on your shell, you might need to add `\\` before `[` and `]`.\n",
        "!pip install -q flwr[simulation]\n",
        "!pip install flwr_datasets[vision]"
      ]
    },
    {
      "cell_type": "code",
      "execution_count": 2,
      "metadata": {
        "colab": {
          "base_uri": "https://localhost:8080/"
        },
        "outputId": "b50da64d-3700-4d00-c485-504523257954",
        "id": "WXOcHlPPtiy8"
      },
      "outputs": [
        {
          "output_type": "stream",
          "name": "stdout",
          "text": [
            "Requirement already satisfied: matplotlib in /usr/local/lib/python3.10/dist-packages (3.7.1)\n",
            "Requirement already satisfied: contourpy>=1.0.1 in /usr/local/lib/python3.10/dist-packages (from matplotlib) (1.2.0)\n",
            "Requirement already satisfied: cycler>=0.10 in /usr/local/lib/python3.10/dist-packages (from matplotlib) (0.12.1)\n",
            "Requirement already satisfied: fonttools>=4.22.0 in /usr/local/lib/python3.10/dist-packages (from matplotlib) (4.47.2)\n",
            "Requirement already satisfied: kiwisolver>=1.0.1 in /usr/local/lib/python3.10/dist-packages (from matplotlib) (1.4.5)\n",
            "Requirement already satisfied: numpy>=1.20 in /usr/local/lib/python3.10/dist-packages (from matplotlib) (1.23.5)\n",
            "Requirement already satisfied: packaging>=20.0 in /usr/local/lib/python3.10/dist-packages (from matplotlib) (23.2)\n",
            "Requirement already satisfied: pillow>=6.2.0 in /usr/local/lib/python3.10/dist-packages (from matplotlib) (9.4.0)\n",
            "Requirement already satisfied: pyparsing>=2.3.1 in /usr/local/lib/python3.10/dist-packages (from matplotlib) (3.1.1)\n",
            "Requirement already satisfied: python-dateutil>=2.7 in /usr/local/lib/python3.10/dist-packages (from matplotlib) (2.8.2)\n",
            "Requirement already satisfied: six>=1.5 in /usr/local/lib/python3.10/dist-packages (from python-dateutil>=2.7->matplotlib) (1.16.0)\n"
          ]
        }
      ],
      "source": [
        "!pip install matplotlib"
      ]
    },
    {
      "cell_type": "code",
      "execution_count": 3,
      "metadata": {
        "id": "e9K5nFNjtiy-",
        "outputId": "ed6e8074-c5dc-4241-aead-121f54124553",
        "colab": {
          "base_uri": "https://localhost:8080/",
          "height": 269,
          "referenced_widgets": [
            "76994498d19546feaa20bb95d7d7b268",
            "043b21607f3f4c67b8db723a42065bfd",
            "7affbee763ba49748ee8c04bf8b64742",
            "796a0314edfe44fba259b263d7478374",
            "24e9b895c8f04b4687861c33e54a297c",
            "e7a445901da2468e9f0c10ec6b559378",
            "fed807dc92064b859d8f70e6d3159b29",
            "e2cbeef918f449cc99ca7a4c7eb6b22d",
            "934aa230f8f64ee1be6e0cc1e9d83639",
            "c51822715bb443e58e17eed83a86f782",
            "243eb751074a44c6a554268b3e65ca03",
            "8544a8f1dd6c4218a65e4d8cf433e278",
            "835731d92b6b424f9c71b480e0ea8acc",
            "7f4b35f3fe6143f084d70093bfb11ace",
            "be76bc2f859d45bc81edbe8023a7982f",
            "85a75a9a95464af7bfc36b5aa32fa829",
            "f70442046b384f998a7ef4f5b3787d13",
            "c6648e3aa1ec43cf81693722c717404e",
            "3b971996946d443c97036dac50edb860",
            "249bb0c3eacd4faea5e5c2a2878758a4",
            "b5e7f48005ce4de69210a20f21529a07",
            "1b636631292e4c59824b90da71e46577",
            "94070256508d4360aa543c8a58a60dc8",
            "71a6040d35f44b008d6e0380623233b0",
            "d092b46e63f54ab9bc8f93791b6cd0b8",
            "a0a4f72ecb654ac8aa8526b95b90d85e",
            "af7f8a22d5d64b51b79db955c103d2be",
            "12dca575b9f74e4bbf7b298586f3c6b4",
            "3246acd401b24560902d645a12e49e83",
            "17e30cf9a67249ea9e48449d3ef41b2f",
            "93f3f5fb8ccd4409928f18f7de76d687",
            "a71a8f081a904588b0a62a878fcaeb3f",
            "c76f3c33a4f340c9abfda3fdb5ef4dd8",
            "7bbc734c5c24422ea652d4e13f4a064a",
            "7347f098b6ec48b78ad5b797eb230d95",
            "3bfa6282da6e4f819597e425c60fc635",
            "32f649e064be4f8fb6d48b814d7ab399",
            "68a3d1af9adc406987234b21d7d6320e",
            "5b910194f0d948769cfdcd837ea8d892",
            "4a9fa3dd1ad442bbbaab4ac38500b368",
            "de02a5034d2f43a5bec2ddfb28722c65",
            "15725a6931e54efd82316a3a6dc9f589",
            "5bb9a837d36e45d7afb35d798edb0d3b",
            "4e603bed8ac54018bb08f091749230c8"
          ]
        }
      },
      "outputs": [
        {
          "output_type": "stream",
          "name": "stderr",
          "text": [
            "/usr/local/lib/python3.10/dist-packages/huggingface_hub/utils/_token.py:88: UserWarning: \n",
            "The secret `HF_TOKEN` does not exist in your Colab secrets.\n",
            "To authenticate with the Hugging Face Hub, create a token in your settings tab (https://huggingface.co/settings/tokens), set it as secret in your Google Colab and restart your session.\n",
            "You will be able to reuse this secret in all of your notebooks.\n",
            "Please note that authentication is recommended but still optional to access public models or datasets.\n",
            "  warnings.warn(\n"
          ]
        },
        {
          "output_type": "display_data",
          "data": {
            "text/plain": [
              "Downloading data:   0%|          | 0.00/15.6M [00:00<?, ?B/s]"
            ],
            "application/vnd.jupyter.widget-view+json": {
              "version_major": 2,
              "version_minor": 0,
              "model_id": "76994498d19546feaa20bb95d7d7b268"
            }
          },
          "metadata": {}
        },
        {
          "output_type": "display_data",
          "data": {
            "text/plain": [
              "Downloading data:   0%|          | 0.00/2.60M [00:00<?, ?B/s]"
            ],
            "application/vnd.jupyter.widget-view+json": {
              "version_major": 2,
              "version_minor": 0,
              "model_id": "8544a8f1dd6c4218a65e4d8cf433e278"
            }
          },
          "metadata": {}
        },
        {
          "output_type": "display_data",
          "data": {
            "text/plain": [
              "Generating train split: 0 examples [00:00, ? examples/s]"
            ],
            "application/vnd.jupyter.widget-view+json": {
              "version_major": 2,
              "version_minor": 0,
              "model_id": "94070256508d4360aa543c8a58a60dc8"
            }
          },
          "metadata": {}
        },
        {
          "output_type": "display_data",
          "data": {
            "text/plain": [
              "Generating test split: 0 examples [00:00, ? examples/s]"
            ],
            "application/vnd.jupyter.widget-view+json": {
              "version_major": 2,
              "version_minor": 0,
              "model_id": "7bbc734c5c24422ea652d4e13f4a064a"
            }
          },
          "metadata": {}
        }
      ],
      "source": [
        "from datasets import Dataset\n",
        "from flwr_datasets import FederatedDataset\n",
        "from datasets.utils.logging import disable_progress_bar\n",
        "from torch.utils.data import TensorDataset\n",
        "\n",
        "# Let's set a simulation involving a total of 100 clients\n",
        "NUM_CLIENTS = 33\n",
        "\n",
        "# Download MNIST dataset and partition the \"train\" partition (so one can be assigned to each client)\n",
        "mnist_fds = FederatedDataset(dataset=\"mnist\", partitioners={\"train\": NUM_CLIENTS})\n",
        "# Let's keep the test set as is, and use it to evaluate the global model on the server\n",
        "centralized_testset = mnist_fds.load_full(\"test\")"
      ]
    },
    {
      "cell_type": "code",
      "execution_count": 4,
      "metadata": {
        "id": "b_T97AxStiy-"
      },
      "outputs": [],
      "source": [
        "from torchvision.transforms import ToTensor, Normalize, Compose, Resize\n",
        "\n",
        "\n",
        "def apply_transforms(batch):\n",
        "    \"\"\"Get transformation for MNIST dataset\"\"\"\n",
        "\n",
        "    # transformation to convert images to tensors and apply normalization\n",
        "    transforms = Compose([\n",
        "        ToTensor(),\n",
        "        Normalize((0.1307,), (0.3081,)),\n",
        "        Resize((64, 64), antialias=False)\n",
        "        ])\n",
        "    batch[\"image\"] = [transforms(img) for img in batch[\"image\"]]\n",
        "    return batch"
      ]
    },
    {
      "cell_type": "code",
      "execution_count": 5,
      "metadata": {
        "id": "e7NzdFp6tiy9"
      },
      "outputs": [],
      "source": [
        "import torch\n",
        "import torch.nn as nn\n",
        "import torch.nn.functional as F\n",
        "from torch.utils.data import DataLoader\n",
        "\n",
        "class Net(nn.Module):\n",
        "    def __init__(self, num_classes: int):\n",
        "        super(Net, self).__init__()\n",
        "        self.conv1 = nn.Conv2d(in_channels=1, out_channels=64, kernel_size=4, stride=2, padding=1)\n",
        "        self.leaky1 = nn.LeakyReLU()\n",
        "\n",
        "        self.conv2 = nn.Conv2d(in_channels=64, out_channels=64, kernel_size=4, stride=2, padding=1)\n",
        "        self.leaky2 = nn.LeakyReLU()\n",
        "\n",
        "        self.conv3 = nn.Conv2d(in_channels=64, out_channels=64, kernel_size=4, stride=2, padding=1)\n",
        "        self.leaky3 = nn.LeakyReLU()\n",
        "\n",
        "        self.conv4 = nn.Conv2d(in_channels=64, out_channels=128, kernel_size=3, stride=1, padding=1)\n",
        "        self.leaky4 = nn.LeakyReLU()\n",
        "\n",
        "        self.conv5 = nn.Conv2d(in_channels=128, out_channels=128, kernel_size=3, stride=1, padding=1)\n",
        "        self.leaky5 = nn.LeakyReLU()\n",
        "\n",
        "        self.conv6 = nn.Conv2d(in_channels=128, out_channels=128, kernel_size=3, stride=1, padding=1)\n",
        "        self.leaky6 = nn.LeakyReLU()\n",
        "\n",
        "        self.avgpool = nn.AvgPool2d(2, stride=2)\n",
        "\n",
        "        self.fc = nn.Linear(4 * 4 * 128, num_classes)  # 10 classes for MNIST\n",
        "        self.softmax = nn.Softmax(dim=1)\n",
        "\n",
        "    def forward(self, x):\n",
        "        x = self.conv1(x)\n",
        "        x = self.leaky1(x)\n",
        "\n",
        "        x = self.conv2(x)\n",
        "        x = self.leaky2(x)\n",
        "\n",
        "        x = self.conv3(x)\n",
        "        x = self.leaky3(x)\n",
        "\n",
        "        x = self.conv4(x)\n",
        "        x = self.leaky4(x)\n",
        "\n",
        "        x = self.conv5(x)\n",
        "        x = self.leaky5(x)\n",
        "\n",
        "        x = self.conv6(x)\n",
        "        x = self.leaky6(x)\n",
        "\n",
        "        x = self.avgpool(x)\n",
        "        x = x.view(x.size(0), -1)  # Flatten the output\n",
        "        x = self.fc(x)\n",
        "        x = self.softmax(x)\n",
        "\n",
        "        return x\n",
        "\n",
        "class Discriminator(nn.Module):\n",
        "    def __init__(self):\n",
        "        super(Discriminator, self).__init__()\n",
        "        self.conv1 = nn.Conv2d(in_channels=1, out_channels=64, kernel_size=4, stride=2, padding=1)\n",
        "        self.leaky1 = nn.LeakyReLU()\n",
        "        self.dropout = nn.Dropout()\n",
        "\n",
        "        self.conv2 = nn.Conv2d(in_channels=64, out_channels=64, kernel_size=4, stride=2, padding=1)\n",
        "        self.batchnorm1 = nn.BatchNorm2d(64)\n",
        "        self.leaky2 = nn.LeakyReLU()\n",
        "\n",
        "        self.conv3 = nn.Conv2d(in_channels=64, out_channels=64, kernel_size=4, stride=2, padding=1)\n",
        "        self.batchnorm2 = nn.BatchNorm2d(64)\n",
        "        self.leaky3 = nn.LeakyReLU()\n",
        "\n",
        "        self.conv4 = nn.Conv2d(in_channels=64, out_channels=128, kernel_size=3, stride=1, padding=1)\n",
        "        self.batchnorm3 = nn.BatchNorm2d(128)\n",
        "        self.leaky4 = nn.LeakyReLU()\n",
        "\n",
        "        self.conv5 = nn.Conv2d(in_channels=128, out_channels=128, kernel_size=3, stride=1, padding=1)\n",
        "        self.batchnorm4 = nn.BatchNorm2d(128)\n",
        "        self.leaky5 = nn.LeakyReLU()\n",
        "\n",
        "        self.conv6 = nn.Conv2d(in_channels=128, out_channels=128, kernel_size=3, stride=1, padding=1)\n",
        "        self.leaky6 = nn.LeakyReLU()\n",
        "\n",
        "        self.avgpool = nn.AvgPool2d(2, stride=2)\n",
        "\n",
        "        self.fc = nn.Linear(4 * 4 * 128, 1)\n",
        "        self.sigmoid = nn.Sigmoid()\n",
        "\n",
        "    def forward(self, x):\n",
        "        x = self.conv1(x)\n",
        "        x = self.leaky1(x)\n",
        "        x = self.dropout(x)\n",
        "\n",
        "        x = self.conv2(x)\n",
        "        x = self.batchnorm1(x)\n",
        "        x = self.leaky2(x)\n",
        "\n",
        "        x = self.conv3(x)\n",
        "        x = self.batchnorm2(x)\n",
        "        x = self.leaky3(x)\n",
        "\n",
        "        x = self.conv4(x)\n",
        "        x = self.batchnorm3(x)\n",
        "        x = self.leaky4(x)\n",
        "\n",
        "        x = self.conv5(x)\n",
        "        x = self.batchnorm4(x)\n",
        "        x = self.leaky5(x)\n",
        "\n",
        "        x = self.conv6(x)\n",
        "        x = self.leaky6(x)\n",
        "\n",
        "        x = self.avgpool(x)\n",
        "        x = x.view(x.size(0), -1)  # Flatten the output\n",
        "        x = self.fc(x)\n",
        "        x = self.sigmoid(x)\n",
        "\n",
        "        return x\n",
        "\n",
        "class Generator(nn.Module):\n",
        "    def __init__(self):\n",
        "        super(Generator, self).__init__()\n",
        "\n",
        "        self.conv1 = nn.ConvTranspose2d(100, 256, kernel_size=4, stride=4, padding=0, bias=False)\n",
        "        self.batchnorm1 = nn.BatchNorm2d(256)\n",
        "        self.relu1 = nn.LeakyReLU()\n",
        "\n",
        "        self.conv2 = nn.ConvTranspose2d(256, 128, kernel_size=4, stride=4, padding=0, bias=False)\n",
        "        self.batchnorm2 = nn.BatchNorm2d(128)\n",
        "        self.relu2 = nn.LeakyReLU()\n",
        "\n",
        "        self.conv3 = nn.ConvTranspose2d(128, 64, kernel_size=4, stride=2, padding=1, bias=False)\n",
        "        self.batchnorm3 = nn.BatchNorm2d(64)\n",
        "        self.relu3 = nn.LeakyReLU()\n",
        "\n",
        "        self.conv4 = nn.ConvTranspose2d(64, 1, kernel_size=4, stride=2, padding=1, bias=False)\n",
        "        self.tanh = nn.Tanh()\n",
        "\n",
        "    def forward(self, x):\n",
        "        x = self.conv1(x)\n",
        "        x = self.batchnorm1(x)\n",
        "        x = self.relu1(x)\n",
        "        x = self.conv2(x)\n",
        "        x = self.batchnorm2(x)\n",
        "        x = self.relu2(x)\n",
        "        x = self.conv3(x)\n",
        "        x = self.batchnorm3(x)\n",
        "        x = self.relu3(x)\n",
        "        x = self.conv4(x)\n",
        "        x = self.tanh(x)\n",
        "        return x"
      ]
    },
    {
      "cell_type": "code",
      "execution_count": 6,
      "metadata": {
        "id": "2BkZd5y0tiy-"
      },
      "outputs": [],
      "source": [
        "import torch.optim as optim\n",
        "import torch.optim.lr_scheduler as lr_scheduler\n",
        "def train(net, trainloader, optim, scheduler, criterion, epochs, device: str):\n",
        "    \"\"\"Train the network on the training set.\"\"\"\n",
        "    net.train()\n",
        "    for _ in range(epochs):\n",
        "        for batch in trainloader:\n",
        "            images, labels = batch[\"image\"].to(device), batch[\"label\"].to(device)\n",
        "            optim.zero_grad()\n",
        "            outputs = net(images)\n",
        "            loss = criterion(outputs, labels)\n",
        "            loss.backward()\n",
        "            optim.step()\n",
        "        scheduler.step()\n",
        "\n",
        "def test_standard(net, testloader, device: str):\n",
        "    \"\"\"Validate the network on the entire test set.\"\"\"\n",
        "    criterion = torch.nn.CrossEntropyLoss()\n",
        "    correct, loss = 0, 0.0\n",
        "    net.eval()\n",
        "    with torch.no_grad():\n",
        "        for data in testloader:\n",
        "            images, labels = data[\"image\"].to(device), data[\"label\"].to(device)\n",
        "            outputs = net(images)\n",
        "            loss += criterion(outputs, labels).item()\n",
        "            _, predicted = torch.max(outputs.data, 1)\n",
        "            correct += (predicted == labels).sum().item()\n",
        "    accuracy = 100 * correct / len(testloader.dataset)\n",
        "    return loss, accuracy\n"
      ]
    },
    {
      "cell_type": "code",
      "execution_count": 7,
      "metadata": {
        "id": "EftKsIuMtiy_"
      },
      "outputs": [],
      "source": [
        "import flwr as fl"
      ]
    },
    {
      "cell_type": "code",
      "execution_count": 8,
      "metadata": {
        "id": "TkpxfwT9tiy_"
      },
      "outputs": [],
      "source": [
        "from collections import OrderedDict\n",
        "from typing import Dict, List, Tuple, Union, Optional\n",
        "from flwr.server.client_proxy import ClientProxy\n",
        "from flwr.common import NDArrays, Scalar, Parameters\n",
        "\n",
        "\n",
        "class FlowerClient(fl.client.NumPyClient):\n",
        "    def __init__(self, cid, trainloader, valloader, testloader) -> None:\n",
        "        super().__init__()\n",
        "\n",
        "        self.trainloader = trainloader\n",
        "        self.valloader = valloader\n",
        "        self.testloader = testloader\n",
        "        self.cid = cid\n",
        "        self.model = Net(num_classes=10)\n",
        "        self.discriminator = Discriminator()\n",
        "        self.generator = Generator()\n",
        "        # Determine device\n",
        "        self.device = torch.device(\"cuda:0\" if torch.cuda.is_available() else \"cpu\")\n",
        "        self.model.to(self.device)  # send model to device\n",
        "        self.discriminator.to(self.device)\n",
        "        self.generator.to(self.device)\n",
        "\n",
        "    def set_parameters(self, parameters):\n",
        "        \"\"\"With the model paramters received from the server,\n",
        "        overwrite the uninitialise model in this class with them.\"\"\"\n",
        "\n",
        "        params_dict = zip(self.model.state_dict().keys(), parameters)\n",
        "        state_dict = OrderedDict({k: torch.Tensor(v) for k, v in params_dict})\n",
        "        # now replace the parameters\n",
        "        self.model.load_state_dict(state_dict, strict=True)\n",
        "\n",
        "    def get_parameters(self, config: Dict[str, Scalar]):\n",
        "        \"\"\"Extract all model parameters and conver them to a list of\n",
        "        NumPy arryas. The server doesn't work with PyTorch/TF/etc.\"\"\"\n",
        "        # print(f\"[Client {self.cid}] get_parameters\")\n",
        "        return [val.cpu().numpy() for _, val in self.model.state_dict().items()]\n",
        "\n",
        "    def fit(self, parameters, config):\n",
        "        \"\"\"This method train the model using the parameters sent by the\n",
        "        server on the dataset of this client. At then end, the parameters\n",
        "        of the locally trained model are communicated back to the server\"\"\"\n",
        "        # print(f\"[Client {self.cid}] fit, config: {config}\")\n",
        "        # copy parameters sent by the server into client's local model\n",
        "        self.set_parameters(parameters)\n",
        "        lr, epochs = config[\"lr\"], config[\"epochs\"]\n",
        "        optim = torch.optim.SGD(self.model.parameters(), lr=lr)\n",
        "        scheduler = lr_scheduler.StepLR(optim, step_size=2, gamma=0.1)\n",
        "        criterion = torch.nn.CrossEntropyLoss()\n",
        "        train(net=self.model, trainloader=self.trainloader, optim=optim, scheduler=scheduler, criterion=criterion, epochs=epochs, device=self.device)\n",
        "        # return the model parameters to the server as well as extra info (number of training examples in this case)\n",
        "        return self.get_parameters({}), len(self.trainloader), {}\n",
        "\n",
        "    def evaluate(self, parameters: NDArrays, config: Dict[str, Scalar]):\n",
        "        \"\"\"Evaluate the model sent by the server on this client's\n",
        "        local validation set. Then return performance metrics.\"\"\"\n",
        "\n",
        "        self.set_parameters(parameters)\n",
        "        loss, accuracy = test_standard(self.model, self.valloader, device=self.device)\n",
        "\n",
        "        return float(loss), len(self.valloader), {\"accuracy\": accuracy}"
      ]
    },
    {
      "cell_type": "code",
      "source": [
        "import glob\n",
        "import os\n",
        "def load_model_state_dict():\n",
        "    net = Net(10)\n",
        "    list_of_files = [fname for fname in glob.glob(\"./model_round_*\")]\n",
        "    latest_round_file = max(list_of_files, key=os.path.getctime)\n",
        "    # latest_round_file = './model_round_df.pth'\n",
        "    print(\"Loading pre-trained model from: \", latest_round_file)\n",
        "    state_dict = torch.load(latest_round_file)\n",
        "    net.load_state_dict(state_dict)\n",
        "    return net"
      ],
      "metadata": {
        "id": "FiR-tVieingX"
      },
      "execution_count": 9,
      "outputs": []
    },
    {
      "cell_type": "code",
      "execution_count": 10,
      "metadata": {
        "id": "BPJKeYr6tiy_"
      },
      "outputs": [],
      "source": [
        "def get_evaluate_fn(centralized_testset: Dataset):\n",
        "    \"\"\"This is a function that returns a function. The returned\n",
        "    function (i.e. `evaluate_fn`) will be executed by the strategy\n",
        "    at the end of each round to evaluate the stat of the global\n",
        "    model.\"\"\"\n",
        "\n",
        "    def evaluate_fn(server_round: int, parameters, config):\n",
        "        \"\"\"This function is executed by the strategy it will instantiate\n",
        "        a model and replace its parameters with those from the global model.\n",
        "        The, the model will be evaluate on the test set (recall this is the\n",
        "        whole MNIST test set).\"\"\"\n",
        "\n",
        "        model = Net(num_classes=10)\n",
        "\n",
        "        # Determine device\n",
        "        device = torch.device(\"cuda:0\" if torch.cuda.is_available() else \"cpu\")\n",
        "        model.to(device)  # send model to device\n",
        "\n",
        "        # set parameters to the model\n",
        "        params_dict = zip(model.state_dict().keys(), parameters)\n",
        "        state_dict = OrderedDict({k: torch.Tensor(v) for k, v in params_dict})\n",
        "        model.load_state_dict(state_dict, strict=True)\n",
        "\n",
        "        ###############################################################################\n",
        "        # device = torch.device(\"cuda:0\" if torch.cuda.is_available() else \"cpu\")\n",
        "        # model = load_model_state_dict()\n",
        "        # model.to(device)\n",
        "        ###############################################################################\n",
        "        # Apply transform to dataset\n",
        "        testset = centralized_testset.with_transform(apply_transforms)\n",
        "\n",
        "        testloader = DataLoader(testset, batch_size=50)\n",
        "        # call test\n",
        "        loss, accuracy = test_standard(model, testloader, device)\n",
        "        print('GLOBAL TEST')\n",
        "        return loss, {\"accuracy\": accuracy}\n",
        "\n",
        "    return evaluate_fn"
      ]
    },
    {
      "cell_type": "code",
      "execution_count": 11,
      "metadata": {
        "id": "uKusgaOAtiy_"
      },
      "outputs": [],
      "source": [
        "from flwr.common import Metrics, FitRes\n",
        "\n",
        "\n",
        "def fit_config(server_round: int) -> Dict[str, Scalar]:\n",
        "    \"\"\"Return a configuration with static batch size and (local) epochs.\"\"\"\n",
        "    config = {\n",
        "        \"epochs\": 10,  # Number of local epochs done by clients\n",
        "        \"lr\": 0.1,  # Learning rate to use by clients during fit()\n",
        "        \"attacker_epochs\": 20,\n",
        "        \"attacker_lr\": 0.05,\n",
        "    }\n",
        "    return config\n",
        "\n",
        "\n",
        "def weighted_average(metrics: List[Tuple[int, Metrics]]) -> Metrics:\n",
        "    \"\"\"Aggregation function for (federated) evaluation metrics, i.e. those returned by\n",
        "    the client's evaluate() method.\"\"\"\n",
        "    # Multiply accuracy of each client by number of examples used\n",
        "    accuracies = [num_examples * m[\"accuracy\"] for num_examples, m in metrics]\n",
        "    examples = [num_examples for num_examples, _ in metrics]\n",
        "\n",
        "    # Aggregate and return custom metric (weighted average)\n",
        "    return {\"accuracy\": sum(accuracies) / sum(examples)}"
      ]
    },
    {
      "cell_type": "code",
      "source": [
        "import numpy as np\n",
        "class SaveModelStrategy(fl.server.strategy.FedAvg):\n",
        "    def aggregate_fit(\n",
        "        self,\n",
        "        server_round: int,\n",
        "        results: List[Tuple[fl.server.client_proxy.ClientProxy, fl.common.FitRes]],\n",
        "        failures: List[Union[Tuple[ClientProxy, FitRes], BaseException]],\n",
        "    ) -> Tuple[Optional[Parameters], Dict[str, Scalar]]:\n",
        "        \"\"\"Aggregate model weights using weighted average and store checkpoint\"\"\"\n",
        "        model=Net(10)\n",
        "        # Call aggregate_fit from base class (FedAvg) to aggregate parameters and metrics\n",
        "        aggregated_parameters, aggregated_metrics = super().aggregate_fit(server_round, results, failures)\n",
        "\n",
        "        if aggregated_parameters is not None:\n",
        "            print(f\"Saving round {server_round} aggregated_parameters...\")\n",
        "\n",
        "            # Convert `Parameters` to `List[np.ndarray]`\n",
        "            aggregated_ndarrays: List[np.ndarray] = fl.common.parameters_to_ndarrays(aggregated_parameters)\n",
        "\n",
        "            # Convert `List[np.ndarray]` to PyTorch`state_dict`\n",
        "            params_dict = zip(model.state_dict().keys(), aggregated_ndarrays)\n",
        "            state_dict = OrderedDict({k: torch.tensor(v) for k, v in params_dict})\n",
        "            model.load_state_dict(state_dict, strict=True)\n",
        "\n",
        "            # Save the model\n",
        "            torch.save(model.state_dict(), f\"model_round_{server_round}.pth\")\n",
        "        return aggregated_parameters, aggregated_metrics"
      ],
      "metadata": {
        "id": "gIoh_OAxATO7"
      },
      "execution_count": 12,
      "outputs": []
    },
    {
      "cell_type": "code",
      "execution_count": 13,
      "metadata": {
        "id": "FpB15Xv3tizA"
      },
      "outputs": [],
      "source": [
        "strategy = SaveModelStrategy(\n",
        "    fraction_fit=0.31,  # Sample 10% of available clients for training\n",
        "    fraction_evaluate=0.31,  # Sample 5% of available clients for evaluation\n",
        "    on_fit_config_fn=fit_config,\n",
        "    evaluate_metrics_aggregation_fn=weighted_average,  # aggregates federated metrics\n",
        "    evaluate_fn=get_evaluate_fn(centralized_testset),  # global evaluation function\n",
        ")"
      ]
    },
    {
      "cell_type": "code",
      "execution_count": 14,
      "metadata": {
        "id": "g0HZTdGHtizA"
      },
      "outputs": [],
      "source": [
        "from torch.utils.data import DataLoader\n",
        "\n",
        "\n",
        "def get_client_fn(dataset: FederatedDataset):\n",
        "    \"\"\"Return a function to construct a client.\n",
        "\n",
        "    The VirtualClientEngine will execute this function whenever a client is sampled by\n",
        "    the strategy to participate.\n",
        "    \"\"\"\n",
        "\n",
        "    def client_fn(cid: str) -> fl.client.Client:\n",
        "        \"\"\"Construct a FlowerClient with its own dataset partition.\"\"\"\n",
        "\n",
        "        # Let's get the partition corresponding to the i-th client\n",
        "        client_dataset = dataset.load_partition(int(cid), \"train\")\n",
        "\n",
        "        # Now let's split it into train (90%) and validation (10%)\n",
        "        client_dataset_splits = client_dataset.train_test_split(test_size=0.1)\n",
        "\n",
        "        trainset = client_dataset_splits[\"train\"]\n",
        "        valset = client_dataset_splits[\"test\"]\n",
        "\n",
        "        # Now we apply the transform to each batch.\n",
        "        trainloader = DataLoader(\n",
        "            trainset.with_transform(apply_transforms), batch_size=256, shuffle=True\n",
        "        )\n",
        "        valloader = DataLoader(valset.with_transform(apply_transforms), batch_size=256)\n",
        "        testset = centralized_testset.with_transform(apply_transforms)\n",
        "\n",
        "        testloader = DataLoader(testset, batch_size=50)\n",
        "        # Create and return client\n",
        "        return FlowerClient(int(cid), trainloader, valloader, testloader)\n",
        "\n",
        "    return client_fn\n",
        "\n",
        "\n",
        "client_fn_callback = get_client_fn(mnist_fds)"
      ]
    },
    {
      "cell_type": "markdown",
      "metadata": {
        "id": "TRAALrO7tizA"
      },
      "source": [
        "Now we are ready to launch the FL experiment using Flower simulation:"
      ]
    },
    {
      "cell_type": "code",
      "execution_count": 15,
      "metadata": {
        "id": "WOOq8qkUtizA"
      },
      "outputs": [],
      "source": [
        "# # With a dictionary, you tell Flower's VirtualClientEngine that each\n",
        "# # client needs exclusive access to these many resources in order to run\n",
        "# client_resources = {\"num_cpus\": 0.2, \"num_gpus\": 0.1}\n",
        "\n",
        "# # Let's disable tqdm progress bar in the main thread (used by the server)\n",
        "# disable_progress_bar()\n",
        "\n",
        "# history = fl.simulation.start_simulation(\n",
        "#     client_fn=client_fn_callback,  # a callback to construct a client\n",
        "#     num_clients=NUM_CLIENTS,  # total number of clients in the experiment\n",
        "#     config=fl.server.ServerConfig(num_rounds=70),  # let's run for 10 rounds\n",
        "#     strategy=strategy,  # the strategy that will orchestrate the whole FL pipeline\n",
        "#     client_resources=client_resources,\n",
        "#     actor_kwargs={\n",
        "#         \"on_actor_init_fn\": disable_progress_bar  # disable tqdm on each actor/process spawning virtual clients\n",
        "#     },\n",
        "# )"
      ]
    },
    {
      "cell_type": "code",
      "execution_count": 16,
      "metadata": {
        "id": "-poMHY3BtizA"
      },
      "outputs": [],
      "source": [
        "# import matplotlib.pyplot as plt\n",
        "\n",
        "# print(f\"{history.metrics_centralized = }\")\n",
        "\n",
        "# global_accuracy_centralised = history.metrics_centralized[\"accuracy\"]\n",
        "# round = [data[0] for data in global_accuracy_centralised]\n",
        "# acc = [data[1] for data in global_accuracy_centralised]\n",
        "# plt.plot(round, acc)\n",
        "# plt.grid()\n",
        "# plt.ylabel(\"Accuracy (%)\")\n",
        "# plt.xlabel(\"Round\")\n",
        "# plt.title(\"MNIST - IID - 30 clients with 10 clients per round\")"
      ]
    },
    {
      "cell_type": "markdown",
      "metadata": {
        "id": "7dLYQcJ3tizA"
      },
      "source": [
        "Congratulations! With that, you built a Flower client, customized it's instantiation through the `client_fn`, customized the server-side execution through a `FedAvg` strategy configured for this workload, and started a simulation with 100 clients (each holding their own individual partition of the MNIST dataset).\n",
        "\n",
        "Next, you can continue to explore more advanced Flower topics:\n",
        "\n",
        "- Deploy server and clients on different machines using `start_server` and `start_client`\n",
        "- Customize the server-side execution through custom strategies\n",
        "- Customize the client-side execution through `config` dictionaries\n",
        "\n",
        "Get all resources you need!\n",
        "\n",
        "* **[DOCS]** Our complete documenation: https://flower.dev/docs/\n",
        "* **[Examples]** All Flower examples: https://flower.dev/docs/examples/\n",
        "* **[VIDEO]** Our Youtube channel: https://www.youtube.com/@flowerlabs\n",
        "\n",
        "Don't forget to join our Slack channel: https://flower.dev/join-slack/\n"
      ]
    },
    {
      "cell_type": "code",
      "source": [
        "def get_evaluate_fn(centralized_testset: Dataset):\n",
        "    \"\"\"This is a function that returns a function. The returned\n",
        "    function (i.e. `evaluate_fn`) will be executed by the strategy\n",
        "    at the end of each round to evaluate the stat of the global\n",
        "    model.\"\"\"\n",
        "\n",
        "    def evaluate_fn(server_round: int, parameters, config):\n",
        "        \"\"\"This function is executed by the strategy it will instantiate\n",
        "        a model and replace its parameters with those from the global model.\n",
        "        The, the model will be evaluate on the test set (recall this is the\n",
        "        whole MNIST test set).\"\"\"\n",
        "\n",
        "        model = Net(num_classes=10)\n",
        "\n",
        "        # Determine device\n",
        "        device = torch.device(\"cuda:0\" if torch.cuda.is_available() else \"cpu\")\n",
        "        model.to(device)  # send model to device\n",
        "\n",
        "        # set parameters to the model\n",
        "        params_dict = zip(model.state_dict().keys(), parameters)\n",
        "        state_dict = OrderedDict({k: torch.Tensor(v) for k, v in params_dict})\n",
        "        model.load_state_dict(state_dict, strict=True)\n",
        "\n",
        "        ###############################################################################\n",
        "        # device = torch.device(\"cuda:0\" if torch.cuda.is_available() else \"cpu\")\n",
        "        # model = load_model_state_dict()\n",
        "        # model.to(device)\n",
        "        ###############################################################################\n",
        "        # Apply transform to dataset\n",
        "        testset = centralized_testset.with_transform(apply_transforms)\n",
        "\n",
        "        testloader = DataLoader(testset, batch_size=50)\n",
        "        # call test\n",
        "        loss, accuracy = test(model, testloader, device)\n",
        "        print('GLOBAL TEST')\n",
        "        return loss, {\"accuracy\": accuracy}\n",
        "\n",
        "    return evaluate_fn"
      ],
      "metadata": {
        "id": "dO-w1DtmYldu"
      },
      "execution_count": 17,
      "outputs": []
    },
    {
      "cell_type": "code",
      "source": [
        "import random\n",
        "import numpy as np\n",
        "import os\n",
        "import glob\n",
        "import matplotlib.pyplot as plt\n",
        "def save_images(images, folder_path, prefix):\n",
        "    # Find the existing files to determine the count\n",
        "    existing_files = glob.glob(os.path.join(folder_path, f\"{prefix}_*.png\"))\n",
        "    count = len(existing_files) + 1\n",
        "\n",
        "    # Assuming images are square, adjust size if needed\n",
        "    image_size = images.shape[1]\n",
        "\n",
        "    plt.figure(figsize=(8, 8))\n",
        "\n",
        "    for i, img in enumerate(images):\n",
        "        plt.subplot(4, 4, i+1)\n",
        "        plt.imshow(img, cmap='gray', vmin=0, vmax=1)\n",
        "        plt.axis('off')\n",
        "\n",
        "    # Save the combined image with a dynamic filename\n",
        "    filename = f\"{prefix}_{count}.png\"\n",
        "    plt.savefig(os.path.join(folder_path, filename))\n",
        "    plt.close()\n",
        "\n",
        "\n",
        "def plot_generated(generator, save_folder, num_images=16, device='cuda'):\n",
        "    noise = torch.randn(num_images, 100, 1, 1).to(device)\n",
        "    generated_images = generator(noise)\n",
        "    generated_images = generated_images.squeeze().cpu().detach().numpy()\n",
        "\n",
        "    # Save the combined image\n",
        "    save_images(generated_images, save_folder, \"random_image\")\n"
      ],
      "metadata": {
        "id": "V49PI4f2-7Qm"
      },
      "execution_count": 18,
      "outputs": []
    },
    {
      "cell_type": "code",
      "source": [
        "main_loss_values = []\n",
        "main_acc_values = []\n",
        "standard_loss_values = []\n",
        "standard_acc_values = []"
      ],
      "metadata": {
        "id": "MQyjdNwdAXda"
      },
      "execution_count": 19,
      "outputs": []
    },
    {
      "cell_type": "code",
      "source": [
        "def test_other_classes(net, testloader, device: str):\n",
        "    \"\"\"Validate the network on the entire test set excluding class 2.\"\"\"\n",
        "    criterion = torch.nn.CrossEntropyLoss()\n",
        "    correct_non_poisoned = 0\n",
        "    total_non_poisoned = 0\n",
        "    loss = 0.0\n",
        "    net.eval()\n",
        "    with torch.no_grad():\n",
        "        for data in testloader:\n",
        "            images, labels = data[\"image\"].to(device), data[\"label\"].to(device)\n",
        "\n",
        "            # Exclude class 2\n",
        "            non_poisoned_mask = labels != 2\n",
        "            images_non_poisoned = images[non_poisoned_mask]\n",
        "            labels_non_poisoned = labels[non_poisoned_mask]\n",
        "\n",
        "            output = net(images_non_poisoned)\n",
        "            pred = output.argmax(dim=1, keepdim=True)\n",
        "\n",
        "            for i in range(len(labels_non_poisoned)):\n",
        "                if pred[i].item() == labels_non_poisoned[i].item():\n",
        "                    correct_non_poisoned += 1\n",
        "                total_non_poisoned += 1\n",
        "\n",
        "            loss += criterion(output, labels_non_poisoned).item()\n",
        "\n",
        "    non_poisoned_accuracy = 100 * correct_non_poisoned / total_non_poisoned if total_non_poisoned != 0 else 0\n",
        "    return loss, non_poisoned_accuracy\n"
      ],
      "metadata": {
        "id": "2LXCVuk-_kpu"
      },
      "execution_count": 20,
      "outputs": []
    },
    {
      "cell_type": "code",
      "source": [
        "import torch.optim as optim\n",
        "import torch.optim.lr_scheduler as lr_scheduler\n",
        "\n",
        "def test(net, testloader, device: str):\n",
        "    \"\"\"Validate the network on the entire test set.\"\"\"\n",
        "    criterion = torch.nn.CrossEntropyLoss()\n",
        "    correct_poisoned = 0\n",
        "    total_poisoned = 0\n",
        "    loss = 0.0\n",
        "    net.eval()\n",
        "    with torch.no_grad():\n",
        "        for data in testloader:\n",
        "            images, labels = data[\"image\"].to(device), data[\"label\"].to(device)\n",
        "            output = net(images)\n",
        "            pred = output.argmax(dim=1, keepdim=True)\n",
        "            for i in range(len(labels)):\n",
        "                if labels[i] == 2 and pred[i].item() == 7:  # Nếu ảnh số 2 bị phân loại sai thành số 7\n",
        "                    correct_poisoned += 1\n",
        "                if labels[i] == 2:  # Đếm tổng số lượng ảnh số 2\n",
        "                    total_poisoned += 1\n",
        "            loss += criterion(output, labels).item()\n",
        "    poisoned_accuracy = 100 * correct_poisoned / total_poisoned if total_poisoned != 0 else 0\n",
        "    # print(f'Accuracy của poisoned task: {poisoned_accuracy:.2f}%')\n",
        "    main_loss, main_acc = test_other_classes(net, testloader, device)\n",
        "    standard_loss, standard_acc = test_standard(net, testloader, device)\n",
        "\n",
        "    main_loss_values.append(main_loss)\n",
        "    main_acc_values.append(main_acc)\n",
        "    standard_loss_values.append(standard_loss)\n",
        "    standard_acc_values.append(standard_acc)\n",
        "    return loss, poisoned_accuracy"
      ],
      "metadata": {
        "id": "IDxk25bibt6P"
      },
      "execution_count": 21,
      "outputs": []
    },
    {
      "cell_type": "code",
      "source": [
        "from tqdm.notebook import tqdm\n",
        "import torch\n",
        "def poisontrain(net, generator, discriminator, trainloader,\n",
        "          optimizer_net, optimizer_g, optimizer_d,\n",
        "          scheduler_net, scheduler_g, scheduler_d,\n",
        "          criterion, criterion_d, epochs, device: str):\n",
        "    \"\"\"Train the network on the training set.\"\"\"\n",
        "    net.train()\n",
        "    for _ in range(epochs):\n",
        "        for batch in trainloader:\n",
        "            images, labels = batch[\"image\"].to(device), batch[\"label\"].to(device)\n",
        "            batch_size = images.size(0)\n",
        "            # Train discriminator with real images\n",
        "            optimizer_d.zero_grad()\n",
        "            outputs_real = discriminator(images)\n",
        "            real_labels = torch.full((batch_size, 1), 1.0, device=device)\n",
        "            loss_real = criterion_d(outputs_real, real_labels)\n",
        "            loss_real.backward()\n",
        "\n",
        "            # Train discriminator with fake images\n",
        "            noise = torch.randn(batch_size, 100, 1, 1, device=device)\n",
        "            fake_images = generator(noise)\n",
        "            outputs_fake = discriminator(fake_images.detach())\n",
        "            fake_labels = torch.full((batch_size, 1), 0.0, device=device)\n",
        "            loss_fake = criterion_d(outputs_fake, fake_labels)\n",
        "            loss_fake.backward()\n",
        "            d_loss = loss_fake + loss_real\n",
        "            optimizer_d.step()\n",
        "\n",
        "            # Train generator\n",
        "            optimizer_g.zero_grad()\n",
        "            outputs = discriminator(fake_images)\n",
        "            loss_generator = criterion_d(outputs, real_labels)\n",
        "            loss_generator.backward()\n",
        "            g_loss = loss_generator\n",
        "            optimizer_g.step()\n",
        "\n",
        "            outputs = generator(noise)\n",
        "            predictions = net(outputs)\n",
        "            predicted_labels = torch.max(predictions, dim=1).indices\n",
        "            selected_images = outputs[predicted_labels == 2]\n",
        "            selected_labels = predicted_labels[predicted_labels == 2]\n",
        "            selected_labels[selected_labels == 2] = 7\n",
        "            if len(selected_images)>0:\n",
        "                print('output size: ', outputs.size(0))\n",
        "                print('selected images size: ', selected_images.size(0))\n",
        "                optimizer_net.zero_grad()\n",
        "                outputs = net(selected_images)\n",
        "                loss = criterion(outputs, selected_labels)\n",
        "                loss.backward()\n",
        "                for param in net.parameters():\n",
        "                    param.grad *= 1\n",
        "                optimizer_net.step()\n",
        "        scheduler_net.step()\n",
        "        # scheduler_g.step()\n",
        "        # scheduler_d.step()\n",
        "    save_folder = \"content/images\"\n",
        "\n",
        "    # Tạo thư mục nếu nó chưa tồn tại\n",
        "    os.makedirs(save_folder, exist_ok=True)\n",
        "    plot_generated(generator, save_folder, num_images=16, device=device)"
      ],
      "metadata": {
        "id": "yVvWCzXUgiv-"
      },
      "execution_count": 22,
      "outputs": []
    },
    {
      "cell_type": "code",
      "source": [
        "class FlowerClient(FlowerClient):\n",
        "    def fit(self, parameters, config):\n",
        "        \"\"\"This method train the model using the parameters sent by the\n",
        "        server on the dataset of this client. At then end, the parameters\n",
        "        of the locally trained model are communicated back to the server\"\"\"\n",
        "        # print(f\"[Client {self.cid}] fit, config: {config}\")\n",
        "        # copy parameters sent by the server into client's local model\n",
        "        self.set_parameters(parameters)\n",
        "        lr, epochs = config[\"lr\"], config[\"epochs\"]\n",
        "\n",
        "        optimizer_net = torch.optim.SGD(self.model.parameters(), lr=lr)\n",
        "        criterion = torch.nn.CrossEntropyLoss()\n",
        "        scheduler_net = lr_scheduler.StepLR(optimizer_net, step_size=2, gamma=0.1)\n",
        "        i = 0\n",
        "        if self.cid in [0, 1, 2]:\n",
        "            print('ATTACKER')\n",
        "            attacker_lr, attacker_epochs = config[\"attacker_lr\"], config[\"attacker_epochs\"]\n",
        "            loss, accuracy = test(self.model, self.testloader, device=self.device)\n",
        "            criterion_d = torch.nn.BCELoss()\n",
        "            optimizer_g = torch.optim.Adam(self.generator.parameters(), lr=0.0002, betas=(0.5, 0.999))\n",
        "            scheduler_g = lr_scheduler.StepLR(optimizer_g, step_size=2, gamma=0.1)\n",
        "            optimizer_d = torch.optim.Adam(self.discriminator.parameters(), lr=0.0002, betas=(0.5, 0.999))\n",
        "            scheduler_d = lr_scheduler.StepLR(optimizer_d, step_size=2, gamma=0.1)\n",
        "\n",
        "            if accuracy > 60:\n",
        "                train(net=self.model, trainloader=self.trainloader, optim=optimizer_net, scheduler=scheduler_net, criterion=criterion, epochs=epochs, device=self.device)\n",
        "                poisontrain(self.model, self.generator, self.discriminator, self.trainloader,\n",
        "                          optimizer_net, optimizer_g, optimizer_d,\n",
        "                          scheduler_net, scheduler_g, scheduler_d,\n",
        "                          criterion, criterion_d, attacker_epochs, self.device)\n",
        "            else:\n",
        "                poisontrain(self.model, self.generator, self.discriminator, self.trainloader,\n",
        "                          optimizer_net, optimizer_g, optimizer_d,\n",
        "                          scheduler_net, scheduler_g, scheduler_d,\n",
        "                          criterion, criterion_d, attacker_epochs, self.device)\n",
        "        else:\n",
        "            train(net=self.model, trainloader=self.trainloader, optim=optimizer_net, scheduler=scheduler_net, criterion=criterion, epochs=epochs, device=self.device)\n",
        "\n",
        "        # return the model parameters to the server as well as extra info (number of training examples in this case)\n",
        "        return self.get_parameters({}), len(self.trainloader), {}\n",
        "\n",
        "    def evaluate(self, parameters: NDArrays, config: Dict[str, Scalar]):\n",
        "        \"\"\"Evaluate the model sent by the server on this client's\n",
        "        local validation set. Then return performance metrics.\"\"\"\n",
        "\n",
        "        self.set_parameters(parameters)\n",
        "        loss, accuracy = test(self.model, self.valloader, device=self.device)\n",
        "\n",
        "        return float(loss), len(self.valloader), {\"accuracy\": accuracy}"
      ],
      "metadata": {
        "id": "UYzulLVecDhh"
      },
      "execution_count": 23,
      "outputs": []
    },
    {
      "cell_type": "code",
      "source": [
        "import glob\n",
        "import os\n",
        "net = Net(10)\n",
        "# list_of_files = [fname for fname in glob.glob(\"./model_round_*\")]\n",
        "# latest_round_file = max(list_of_files, key=os.path.getctime)\n",
        "latest_round_file = './model_round_df.pth'\n",
        "print(\"Loading pre-trained model from: \", latest_round_file)\n",
        "state_dict = torch.load(latest_round_file)\n",
        "net.load_state_dict(state_dict)"
      ],
      "metadata": {
        "id": "nMbxpOIuciXY",
        "outputId": "86c50023-6533-407c-9cb1-54e1c67c71da",
        "colab": {
          "base_uri": "https://localhost:8080/"
        }
      },
      "execution_count": 24,
      "outputs": [
        {
          "output_type": "stream",
          "name": "stdout",
          "text": [
            "Loading pre-trained model from:  ./model_round_df.pth\n"
          ]
        },
        {
          "output_type": "execute_result",
          "data": {
            "text/plain": [
              "<All keys matched successfully>"
            ]
          },
          "metadata": {},
          "execution_count": 24
        }
      ]
    },
    {
      "cell_type": "code",
      "source": [
        "def get_parameters():\n",
        "    \"\"\"Extract all model parameters and conver them to a list of\n",
        "    NumPy arryas. The server doesn't work with PyTorch/TF/etc.\"\"\"\n",
        "    return [val.cpu().numpy() for _, val in net.state_dict().items()]"
      ],
      "metadata": {
        "id": "DAGYFxwKnosX"
      },
      "execution_count": 25,
      "outputs": []
    },
    {
      "cell_type": "code",
      "source": [
        "params = get_parameters()\n",
        "\n",
        "strategy = SaveModelStrategy(\n",
        "    fraction_fit=0.31,  # Sample 10% of available clients for training\n",
        "    fraction_evaluate=0.31,  # Sample 5% of available clients for evaluation\n",
        "    on_fit_config_fn=fit_config,\n",
        "    evaluate_metrics_aggregation_fn=weighted_average,  # aggregates federated metrics\n",
        "    evaluate_fn=get_evaluate_fn(centralized_testset),  # global evaluation function\n",
        "    initial_parameters=fl.common.ndarrays_to_parameters(params),\n",
        ")"
      ],
      "metadata": {
        "id": "3Hx55QIkdjce"
      },
      "execution_count": 26,
      "outputs": []
    },
    {
      "cell_type": "code",
      "source": [
        "# With a dictionary, you tell Flower's VirtualClientEngine that each\n",
        "# client needs exclusive access to these many resources in order to run\n",
        "client_resources = {\"num_cpus\": 2, \"num_gpus\": 1}\n",
        "\n",
        "# Let's disable tqdm progress bar in the main thread (used by the server)\n",
        "disable_progress_bar()\n",
        "history = fl.simulation.start_simulation(\n",
        "    client_fn=client_fn_callback,  # a callback to construct a client\n",
        "    num_clients=NUM_CLIENTS,  # total number of clients in the experiment\n",
        "    config=fl.server.ServerConfig(num_rounds=50),  # let's run for 10 rounds\n",
        "    strategy=strategy,  # the strategy that will orchestrate the whole FL pipeline\n",
        "    client_resources=client_resources,\n",
        "    actor_kwargs={\n",
        "        \"on_actor_init_fn\": disable_progress_bar  # disable tqdm on each actor/process spawning virtual clients\n",
        "    },\n",
        ")"
      ],
      "metadata": {
        "id": "kFfMZwVVchgj",
        "outputId": "f0b4f38b-750a-4c6f-b27a-02f5ae7d36fa",
        "colab": {
          "base_uri": "https://localhost:8080/"
        }
      },
      "execution_count": null,
      "outputs": [
        {
          "output_type": "stream",
          "name": "stderr",
          "text": [
            "INFO flwr 2024-01-19 15:19:03,471 | app.py:178 | Starting Flower simulation, config: ServerConfig(num_rounds=50, round_timeout=None)\n",
            "INFO:flwr:Starting Flower simulation, config: ServerConfig(num_rounds=50, round_timeout=None)\n",
            "2024-01-19 15:19:09,090\tINFO worker.py:1621 -- Started a local Ray instance.\n",
            "INFO flwr 2024-01-19 15:19:12,056 | app.py:213 | Flower VCE: Ray initialized with resources: {'CPU': 2.0, 'object_store_memory': 3946095820.0, 'node:__internal_head__': 1.0, 'GPU': 1.0, 'node:172.28.0.12': 1.0, 'memory': 7892191643.0}\n",
            "INFO:flwr:Flower VCE: Ray initialized with resources: {'CPU': 2.0, 'object_store_memory': 3946095820.0, 'node:__internal_head__': 1.0, 'GPU': 1.0, 'node:172.28.0.12': 1.0, 'memory': 7892191643.0}\n",
            "INFO flwr 2024-01-19 15:19:12,064 | app.py:219 | Optimize your simulation with Flower VCE: https://flower.dev/docs/framework/how-to-run-simulations.html\n",
            "INFO:flwr:Optimize your simulation with Flower VCE: https://flower.dev/docs/framework/how-to-run-simulations.html\n",
            "INFO flwr 2024-01-19 15:19:12,072 | app.py:242 | Flower VCE: Resources for each Virtual Client: {'num_cpus': 2, 'num_gpus': 1}\n",
            "INFO:flwr:Flower VCE: Resources for each Virtual Client: {'num_cpus': 2, 'num_gpus': 1}\n",
            "INFO flwr 2024-01-19 15:19:12,164 | app.py:288 | Flower VCE: Creating VirtualClientEngineActorPool with 1 actors\n",
            "INFO:flwr:Flower VCE: Creating VirtualClientEngineActorPool with 1 actors\n",
            "INFO flwr 2024-01-19 15:19:12,168 | server.py:89 | Initializing global parameters\n",
            "INFO:flwr:Initializing global parameters\n",
            "INFO flwr 2024-01-19 15:19:12,171 | server.py:272 | Using initial parameters provided by strategy\n",
            "INFO:flwr:Using initial parameters provided by strategy\n",
            "INFO flwr 2024-01-19 15:19:12,173 | server.py:91 | Evaluating initial parameters\n",
            "INFO:flwr:Evaluating initial parameters\n",
            "\u001b[2m\u001b[36m(pid=1009)\u001b[0m 2024-01-19 15:19:23.629769: E external/local_xla/xla/stream_executor/cuda/cuda_dnn.cc:9261] Unable to register cuDNN factory: Attempting to register factory for plugin cuDNN when one has already been registered\n",
            "\u001b[2m\u001b[36m(pid=1009)\u001b[0m 2024-01-19 15:19:23.629838: E external/local_xla/xla/stream_executor/cuda/cuda_fft.cc:607] Unable to register cuFFT factory: Attempting to register factory for plugin cuFFT when one has already been registered\n",
            "\u001b[2m\u001b[36m(pid=1009)\u001b[0m 2024-01-19 15:19:23.631383: E external/local_xla/xla/stream_executor/cuda/cuda_blas.cc:1515] Unable to register cuBLAS factory: Attempting to register factory for plugin cuBLAS when one has already been registered\n",
            "\u001b[2m\u001b[36m(pid=1009)\u001b[0m 2024-01-19 15:19:25.884001: W tensorflow/compiler/tf2tensorrt/utils/py_utils.cc:38] TF-TRT Warning: Could not find TensorRT\n",
            "INFO flwr 2024-01-19 15:19:38,825 | server.py:94 | initial parameters (loss, other metrics): 311.81925106048584, {'accuracy': 0.1937984496124031}\n",
            "INFO:flwr:initial parameters (loss, other metrics): 311.81925106048584, {'accuracy': 0.1937984496124031}\n",
            "INFO flwr 2024-01-19 15:19:38,829 | server.py:104 | FL starting\n",
            "INFO:flwr:FL starting\n",
            "DEBUG flwr 2024-01-19 15:19:38,832 | server.py:222 | fit_round 1: strategy sampled 10 clients (out of 33)\n",
            "DEBUG:flwr:fit_round 1: strategy sampled 10 clients (out of 33)\n"
          ]
        },
        {
          "output_type": "stream",
          "name": "stdout",
          "text": [
            "GLOBAL TEST\n"
          ]
        },
        {
          "output_type": "stream",
          "name": "stderr",
          "text": [
            "DEBUG flwr 2024-01-19 15:20:58,946 | server.py:236 | fit_round 1 received 10 results and 0 failures\n",
            "DEBUG:flwr:fit_round 1 received 10 results and 0 failures\n",
            "WARNING flwr 2024-01-19 15:20:59,047 | fedavg.py:242 | No fit_metrics_aggregation_fn provided\n",
            "WARNING:flwr:No fit_metrics_aggregation_fn provided\n"
          ]
        },
        {
          "output_type": "stream",
          "name": "stdout",
          "text": [
            "Saving round 1 aggregated_parameters...\n"
          ]
        },
        {
          "output_type": "stream",
          "name": "stderr",
          "text": [
            "INFO flwr 2024-01-19 15:21:14,873 | server.py:125 | fit progress: (1, 311.8120949268341, {'accuracy': 0.1937984496124031}, 96.04076973000002)\n",
            "INFO:flwr:fit progress: (1, 311.8120949268341, {'accuracy': 0.1937984496124031}, 96.04076973000002)\n",
            "DEBUG flwr 2024-01-19 15:21:14,876 | server.py:173 | evaluate_round 1: strategy sampled 10 clients (out of 33)\n",
            "DEBUG:flwr:evaluate_round 1: strategy sampled 10 clients (out of 33)\n"
          ]
        },
        {
          "output_type": "stream",
          "name": "stdout",
          "text": [
            "GLOBAL TEST\n"
          ]
        },
        {
          "output_type": "stream",
          "name": "stderr",
          "text": [
            "DEBUG flwr 2024-01-19 15:21:18,552 | server.py:187 | evaluate_round 1 received 10 results and 0 failures\n",
            "DEBUG:flwr:evaluate_round 1 received 10 results and 0 failures\n",
            "DEBUG flwr 2024-01-19 15:21:18,557 | server.py:222 | fit_round 2: strategy sampled 10 clients (out of 33)\n",
            "DEBUG:flwr:fit_round 2: strategy sampled 10 clients (out of 33)\n",
            "DEBUG flwr 2024-01-19 15:22:32,707 | server.py:236 | fit_round 2 received 10 results and 0 failures\n",
            "DEBUG:flwr:fit_round 2 received 10 results and 0 failures\n"
          ]
        },
        {
          "output_type": "stream",
          "name": "stdout",
          "text": [
            "Saving round 2 aggregated_parameters...\n"
          ]
        },
        {
          "output_type": "stream",
          "name": "stderr",
          "text": [
            "INFO flwr 2024-01-19 15:22:48,236 | server.py:125 | fit progress: (2, 311.80275452136993, {'accuracy': 0.1937984496124031}, 189.40466708000002)\n",
            "INFO:flwr:fit progress: (2, 311.80275452136993, {'accuracy': 0.1937984496124031}, 189.40466708000002)\n",
            "DEBUG flwr 2024-01-19 15:22:48,241 | server.py:173 | evaluate_round 2: strategy sampled 10 clients (out of 33)\n",
            "DEBUG:flwr:evaluate_round 2: strategy sampled 10 clients (out of 33)\n"
          ]
        },
        {
          "output_type": "stream",
          "name": "stdout",
          "text": [
            "GLOBAL TEST\n"
          ]
        },
        {
          "output_type": "stream",
          "name": "stderr",
          "text": [
            "DEBUG flwr 2024-01-19 15:22:52,984 | server.py:187 | evaluate_round 2 received 10 results and 0 failures\n",
            "DEBUG:flwr:evaluate_round 2 received 10 results and 0 failures\n",
            "DEBUG flwr 2024-01-19 15:22:52,987 | server.py:222 | fit_round 3: strategy sampled 10 clients (out of 33)\n",
            "DEBUG:flwr:fit_round 3: strategy sampled 10 clients (out of 33)\n"
          ]
        },
        {
          "output_type": "stream",
          "name": "stdout",
          "text": [
            "\u001b[2m\u001b[36m(DefaultActor pid=1009)\u001b[0m ATTACKER\n",
            "\u001b[2m\u001b[36m(DefaultActor pid=1009)\u001b[0m output size:  256\n",
            "\u001b[2m\u001b[36m(DefaultActor pid=1009)\u001b[0m selected images size:  87\n",
            "\u001b[2m\u001b[36m(DefaultActor pid=1009)\u001b[0m output size:  256\n",
            "\u001b[2m\u001b[36m(DefaultActor pid=1009)\u001b[0m selected images size:  68\n",
            "\u001b[2m\u001b[36m(DefaultActor pid=1009)\u001b[0m output size:  256\n",
            "\u001b[2m\u001b[36m(DefaultActor pid=1009)\u001b[0m selected images size:  46\n",
            "\u001b[2m\u001b[36m(DefaultActor pid=1009)\u001b[0m output size:  256\n",
            "\u001b[2m\u001b[36m(DefaultActor pid=1009)\u001b[0m selected images size:  39\n",
            "\u001b[2m\u001b[36m(DefaultActor pid=1009)\u001b[0m output size:  256\n",
            "\u001b[2m\u001b[36m(DefaultActor pid=1009)\u001b[0m selected images size:  3\n"
          ]
        },
        {
          "output_type": "stream",
          "name": "stderr",
          "text": [
            "DEBUG flwr 2024-01-19 15:24:54,007 | server.py:236 | fit_round 3 received 10 results and 0 failures\n",
            "DEBUG:flwr:fit_round 3 received 10 results and 0 failures\n"
          ]
        },
        {
          "output_type": "stream",
          "name": "stdout",
          "text": [
            "Saving round 3 aggregated_parameters...\n"
          ]
        },
        {
          "output_type": "stream",
          "name": "stderr",
          "text": [
            "INFO flwr 2024-01-19 15:25:09,798 | server.py:125 | fit progress: (3, 311.7745784521103, {'accuracy': 0.1937984496124031}, 330.966412814)\n",
            "INFO:flwr:fit progress: (3, 311.7745784521103, {'accuracy': 0.1937984496124031}, 330.966412814)\n",
            "DEBUG flwr 2024-01-19 15:25:09,802 | server.py:173 | evaluate_round 3: strategy sampled 10 clients (out of 33)\n",
            "DEBUG:flwr:evaluate_round 3: strategy sampled 10 clients (out of 33)\n"
          ]
        },
        {
          "output_type": "stream",
          "name": "stdout",
          "text": [
            "GLOBAL TEST\n"
          ]
        },
        {
          "output_type": "stream",
          "name": "stderr",
          "text": [
            "DEBUG flwr 2024-01-19 15:25:14,125 | server.py:187 | evaluate_round 3 received 10 results and 0 failures\n",
            "DEBUG:flwr:evaluate_round 3 received 10 results and 0 failures\n",
            "DEBUG flwr 2024-01-19 15:25:14,129 | server.py:222 | fit_round 4: strategy sampled 10 clients (out of 33)\n",
            "DEBUG:flwr:fit_round 4: strategy sampled 10 clients (out of 33)\n"
          ]
        },
        {
          "output_type": "stream",
          "name": "stdout",
          "text": [
            "\u001b[2m\u001b[36m(DefaultActor pid=1009)\u001b[0m ATTACKER\n",
            "\u001b[2m\u001b[36m(DefaultActor pid=1009)\u001b[0m output size:  256\n",
            "\u001b[2m\u001b[36m(DefaultActor pid=1009)\u001b[0m selected images size:  58\n",
            "\u001b[2m\u001b[36m(DefaultActor pid=1009)\u001b[0m output size:  256\n",
            "\u001b[2m\u001b[36m(DefaultActor pid=1009)\u001b[0m selected images size:  32\n",
            "\u001b[2m\u001b[36m(DefaultActor pid=1009)\u001b[0m output size:  256\n",
            "\u001b[2m\u001b[36m(DefaultActor pid=1009)\u001b[0m selected images size:  9\n"
          ]
        },
        {
          "output_type": "stream",
          "name": "stderr",
          "text": [
            "DEBUG flwr 2024-01-19 15:27:15,114 | server.py:236 | fit_round 4 received 10 results and 0 failures\n",
            "DEBUG:flwr:fit_round 4 received 10 results and 0 failures\n"
          ]
        },
        {
          "output_type": "stream",
          "name": "stdout",
          "text": [
            "Saving round 4 aggregated_parameters...\n"
          ]
        },
        {
          "output_type": "stream",
          "name": "stderr",
          "text": [
            "INFO flwr 2024-01-19 15:27:31,099 | server.py:125 | fit progress: (4, 311.791081905365, {'accuracy': 0.1937984496124031}, 472.267441512)\n",
            "INFO:flwr:fit progress: (4, 311.791081905365, {'accuracy': 0.1937984496124031}, 472.267441512)\n",
            "DEBUG flwr 2024-01-19 15:27:31,103 | server.py:173 | evaluate_round 4: strategy sampled 10 clients (out of 33)\n",
            "DEBUG:flwr:evaluate_round 4: strategy sampled 10 clients (out of 33)\n"
          ]
        },
        {
          "output_type": "stream",
          "name": "stdout",
          "text": [
            "GLOBAL TEST\n"
          ]
        },
        {
          "output_type": "stream",
          "name": "stderr",
          "text": [
            "DEBUG flwr 2024-01-19 15:27:35,210 | server.py:187 | evaluate_round 4 received 10 results and 0 failures\n",
            "DEBUG:flwr:evaluate_round 4 received 10 results and 0 failures\n",
            "DEBUG flwr 2024-01-19 15:27:35,216 | server.py:222 | fit_round 5: strategy sampled 10 clients (out of 33)\n",
            "DEBUG:flwr:fit_round 5: strategy sampled 10 clients (out of 33)\n"
          ]
        },
        {
          "output_type": "stream",
          "name": "stdout",
          "text": [
            "\u001b[2m\u001b[36m(DefaultActor pid=1009)\u001b[0m ATTACKER\n",
            "\u001b[2m\u001b[36m(DefaultActor pid=1009)\u001b[0m output size:  256\n",
            "\u001b[2m\u001b[36m(DefaultActor pid=1009)\u001b[0m selected images size:  41\n",
            "\u001b[2m\u001b[36m(DefaultActor pid=1009)\u001b[0m output size:  256\n",
            "\u001b[2m\u001b[36m(DefaultActor pid=1009)\u001b[0m selected images size:  60\n",
            "\u001b[2m\u001b[36m(DefaultActor pid=1009)\u001b[0m output size:  256\n",
            "\u001b[2m\u001b[36m(DefaultActor pid=1009)\u001b[0m selected images size:  1\n"
          ]
        },
        {
          "output_type": "stream",
          "name": "stderr",
          "text": [
            "DEBUG flwr 2024-01-19 15:29:35,567 | server.py:236 | fit_round 5 received 10 results and 0 failures\n",
            "DEBUG:flwr:fit_round 5 received 10 results and 0 failures\n"
          ]
        },
        {
          "output_type": "stream",
          "name": "stdout",
          "text": [
            "Saving round 5 aggregated_parameters...\n"
          ]
        },
        {
          "output_type": "stream",
          "name": "stderr",
          "text": [
            "INFO flwr 2024-01-19 15:29:51,278 | server.py:125 | fit progress: (5, 311.8701835870743, {'accuracy': 0.3875968992248062}, 612.446590162)\n",
            "INFO:flwr:fit progress: (5, 311.8701835870743, {'accuracy': 0.3875968992248062}, 612.446590162)\n",
            "DEBUG flwr 2024-01-19 15:29:51,282 | server.py:173 | evaluate_round 5: strategy sampled 10 clients (out of 33)\n",
            "DEBUG:flwr:evaluate_round 5: strategy sampled 10 clients (out of 33)\n"
          ]
        },
        {
          "output_type": "stream",
          "name": "stdout",
          "text": [
            "GLOBAL TEST\n"
          ]
        },
        {
          "output_type": "stream",
          "name": "stderr",
          "text": [
            "DEBUG flwr 2024-01-19 15:29:55,462 | server.py:187 | evaluate_round 5 received 10 results and 0 failures\n",
            "DEBUG:flwr:evaluate_round 5 received 10 results and 0 failures\n",
            "DEBUG flwr 2024-01-19 15:29:55,465 | server.py:222 | fit_round 6: strategy sampled 10 clients (out of 33)\n",
            "DEBUG:flwr:fit_round 6: strategy sampled 10 clients (out of 33)\n",
            "DEBUG flwr 2024-01-19 15:31:10,280 | server.py:236 | fit_round 6 received 10 results and 0 failures\n",
            "DEBUG:flwr:fit_round 6 received 10 results and 0 failures\n"
          ]
        },
        {
          "output_type": "stream",
          "name": "stdout",
          "text": [
            "Saving round 6 aggregated_parameters...\n"
          ]
        },
        {
          "output_type": "stream",
          "name": "stderr",
          "text": [
            "INFO flwr 2024-01-19 15:31:25,601 | server.py:125 | fit progress: (6, 311.79904294013977, {'accuracy': 0.29069767441860467}, 706.76890932)\n",
            "INFO:flwr:fit progress: (6, 311.79904294013977, {'accuracy': 0.29069767441860467}, 706.76890932)\n",
            "DEBUG flwr 2024-01-19 15:31:25,605 | server.py:173 | evaluate_round 6: strategy sampled 10 clients (out of 33)\n",
            "DEBUG:flwr:evaluate_round 6: strategy sampled 10 clients (out of 33)\n"
          ]
        },
        {
          "output_type": "stream",
          "name": "stdout",
          "text": [
            "GLOBAL TEST\n"
          ]
        },
        {
          "output_type": "stream",
          "name": "stderr",
          "text": [
            "DEBUG flwr 2024-01-19 15:31:29,342 | server.py:187 | evaluate_round 6 received 10 results and 0 failures\n",
            "DEBUG:flwr:evaluate_round 6 received 10 results and 0 failures\n",
            "DEBUG flwr 2024-01-19 15:31:29,345 | server.py:222 | fit_round 7: strategy sampled 10 clients (out of 33)\n",
            "DEBUG:flwr:fit_round 7: strategy sampled 10 clients (out of 33)\n"
          ]
        },
        {
          "output_type": "stream",
          "name": "stdout",
          "text": [
            "\u001b[2m\u001b[36m(DefaultActor pid=1009)\u001b[0m ATTACKER\n",
            "\u001b[2m\u001b[36m(DefaultActor pid=1009)\u001b[0m output size:  256\n",
            "\u001b[2m\u001b[36m(DefaultActor pid=1009)\u001b[0m selected images size:  24\n",
            "\u001b[2m\u001b[36m(DefaultActor pid=1009)\u001b[0m output size:  256\n",
            "\u001b[2m\u001b[36m(DefaultActor pid=1009)\u001b[0m selected images size:  2\n",
            "\u001b[2m\u001b[36m(DefaultActor pid=1009)\u001b[0m output size:  256\n",
            "\u001b[2m\u001b[36m(DefaultActor pid=1009)\u001b[0m selected images size:  3\n",
            "\u001b[2m\u001b[36m(DefaultActor pid=1009)\u001b[0m output size:  256\n",
            "\u001b[2m\u001b[36m(DefaultActor pid=1009)\u001b[0m selected images size:  1\n",
            "\u001b[2m\u001b[36m(DefaultActor pid=1009)\u001b[0m output size:  101\n",
            "\u001b[2m\u001b[36m(DefaultActor pid=1009)\u001b[0m selected images size:  1\n",
            "\u001b[2m\u001b[36m(DefaultActor pid=1009)\u001b[0m output size:  256\n",
            "\u001b[2m\u001b[36m(DefaultActor pid=1009)\u001b[0m selected images size:  1\n",
            "\u001b[2m\u001b[36m(DefaultActor pid=1009)\u001b[0m output size:  256\n",
            "\u001b[2m\u001b[36m(DefaultActor pid=1009)\u001b[0m selected images size:  1\n",
            "\u001b[2m\u001b[36m(DefaultActor pid=1009)\u001b[0m output size:  256\n",
            "\u001b[2m\u001b[36m(DefaultActor pid=1009)\u001b[0m selected images size:  1\n",
            "\u001b[2m\u001b[36m(DefaultActor pid=1009)\u001b[0m output size:  101\n",
            "\u001b[2m\u001b[36m(DefaultActor pid=1009)\u001b[0m selected images size:  1\n",
            "\u001b[2m\u001b[36m(DefaultActor pid=1009)\u001b[0m output size:  256\n",
            "\u001b[2m\u001b[36m(DefaultActor pid=1009)\u001b[0m selected images size:  1\n",
            "\u001b[2m\u001b[36m(DefaultActor pid=1009)\u001b[0m output size:  256\n",
            "\u001b[2m\u001b[36m(DefaultActor pid=1009)\u001b[0m selected images size:  1\n"
          ]
        },
        {
          "output_type": "stream",
          "name": "stderr",
          "text": [
            "DEBUG flwr 2024-01-19 15:33:30,446 | server.py:236 | fit_round 7 received 10 results and 0 failures\n",
            "DEBUG:flwr:fit_round 7 received 10 results and 0 failures\n"
          ]
        },
        {
          "output_type": "stream",
          "name": "stdout",
          "text": [
            "Saving round 7 aggregated_parameters...\n"
          ]
        },
        {
          "output_type": "stream",
          "name": "stderr",
          "text": [
            "INFO flwr 2024-01-19 15:33:45,852 | server.py:125 | fit progress: (7, 311.7929872274399, {'accuracy': 0.29069767441860467}, 847.020408733)\n",
            "INFO:flwr:fit progress: (7, 311.7929872274399, {'accuracy': 0.29069767441860467}, 847.020408733)\n",
            "DEBUG flwr 2024-01-19 15:33:45,856 | server.py:173 | evaluate_round 7: strategy sampled 10 clients (out of 33)\n",
            "DEBUG:flwr:evaluate_round 7: strategy sampled 10 clients (out of 33)\n"
          ]
        },
        {
          "output_type": "stream",
          "name": "stdout",
          "text": [
            "GLOBAL TEST\n"
          ]
        },
        {
          "output_type": "stream",
          "name": "stderr",
          "text": [
            "DEBUG flwr 2024-01-19 15:33:49,516 | server.py:187 | evaluate_round 7 received 10 results and 0 failures\n",
            "DEBUG:flwr:evaluate_round 7 received 10 results and 0 failures\n",
            "DEBUG flwr 2024-01-19 15:33:49,526 | server.py:222 | fit_round 8: strategy sampled 10 clients (out of 33)\n",
            "DEBUG:flwr:fit_round 8: strategy sampled 10 clients (out of 33)\n"
          ]
        },
        {
          "output_type": "stream",
          "name": "stdout",
          "text": [
            "\u001b[2m\u001b[36m(DefaultActor pid=1009)\u001b[0m ATTACKER\n",
            "\u001b[2m\u001b[36m(DefaultActor pid=1009)\u001b[0m output size:  256\n",
            "\u001b[2m\u001b[36m(DefaultActor pid=1009)\u001b[0m selected images size:  14\n",
            "\u001b[2m\u001b[36m(DefaultActor pid=1009)\u001b[0m output size:  256\n",
            "\u001b[2m\u001b[36m(DefaultActor pid=1009)\u001b[0m selected images size:  2\n",
            "\u001b[2m\u001b[36m(DefaultActor pid=1009)\u001b[0m ATTACKER\n",
            "\u001b[2m\u001b[36m(DefaultActor pid=1009)\u001b[0m output size:  256\n",
            "\u001b[2m\u001b[36m(DefaultActor pid=1009)\u001b[0m selected images size:  32\n",
            "\u001b[2m\u001b[36m(DefaultActor pid=1009)\u001b[0m output size:  256\n",
            "\u001b[2m\u001b[36m(DefaultActor pid=1009)\u001b[0m selected images size:  2\n",
            "\u001b[2m\u001b[36m(DefaultActor pid=1009)\u001b[0m output size:  256\n",
            "\u001b[2m\u001b[36m(DefaultActor pid=1009)\u001b[0m selected images size:  1\n",
            "\u001b[2m\u001b[36m(DefaultActor pid=1009)\u001b[0m output size:  256\n",
            "\u001b[2m\u001b[36m(DefaultActor pid=1009)\u001b[0m selected images size:  2\n",
            "\u001b[2m\u001b[36m(DefaultActor pid=1009)\u001b[0m output size:  256\n",
            "\u001b[2m\u001b[36m(DefaultActor pid=1009)\u001b[0m selected images size:  5\n",
            "\u001b[2m\u001b[36m(DefaultActor pid=1009)\u001b[0m output size:  256\n",
            "\u001b[2m\u001b[36m(DefaultActor pid=1009)\u001b[0m selected images size:  9\n",
            "\u001b[2m\u001b[36m(DefaultActor pid=1009)\u001b[0m output size:  101\n",
            "\u001b[2m\u001b[36m(DefaultActor pid=1009)\u001b[0m selected images size:  6\n",
            "\u001b[2m\u001b[36m(DefaultActor pid=1009)\u001b[0m output size:  256\n",
            "\u001b[2m\u001b[36m(DefaultActor pid=1009)\u001b[0m selected images size:  21\n",
            "\u001b[2m\u001b[36m(DefaultActor pid=1009)\u001b[0m output size:  256\n",
            "\u001b[2m\u001b[36m(DefaultActor pid=1009)\u001b[0m selected images size:  27\n",
            "\u001b[2m\u001b[36m(DefaultActor pid=1009)\u001b[0m output size:  256\n",
            "\u001b[2m\u001b[36m(DefaultActor pid=1009)\u001b[0m selected images size:  33\n",
            "\u001b[2m\u001b[36m(DefaultActor pid=1009)\u001b[0m output size:  256\n",
            "\u001b[2m\u001b[36m(DefaultActor pid=1009)\u001b[0m selected images size:  40\n",
            "\u001b[2m\u001b[36m(DefaultActor pid=1009)\u001b[0m output size:  256\n",
            "\u001b[2m\u001b[36m(DefaultActor pid=1009)\u001b[0m selected images size:  31\n",
            "\u001b[2m\u001b[36m(DefaultActor pid=1009)\u001b[0m output size:  256\n",
            "\u001b[2m\u001b[36m(DefaultActor pid=1009)\u001b[0m selected images size:  30\n",
            "\u001b[2m\u001b[36m(DefaultActor pid=1009)\u001b[0m output size:  101\n",
            "\u001b[2m\u001b[36m(DefaultActor pid=1009)\u001b[0m selected images size:  14\n",
            "\u001b[2m\u001b[36m(DefaultActor pid=1009)\u001b[0m output size:  256\n",
            "\u001b[2m\u001b[36m(DefaultActor pid=1009)\u001b[0m selected images size:  43\n",
            "\u001b[2m\u001b[36m(DefaultActor pid=1009)\u001b[0m output size:  256\n",
            "\u001b[2m\u001b[36m(DefaultActor pid=1009)\u001b[0m selected images size:  51\n",
            "\u001b[2m\u001b[36m(DefaultActor pid=1009)\u001b[0m output size:  256\n",
            "\u001b[2m\u001b[36m(DefaultActor pid=1009)\u001b[0m selected images size:  56\n",
            "\u001b[2m\u001b[36m(DefaultActor pid=1009)\u001b[0m output size:  256\n",
            "\u001b[2m\u001b[36m(DefaultActor pid=1009)\u001b[0m selected images size:  62\n",
            "\u001b[2m\u001b[36m(DefaultActor pid=1009)\u001b[0m output size:  256\n",
            "\u001b[2m\u001b[36m(DefaultActor pid=1009)\u001b[0m selected images size:  49\n",
            "\u001b[2m\u001b[36m(DefaultActor pid=1009)\u001b[0m output size:  256\n",
            "\u001b[2m\u001b[36m(DefaultActor pid=1009)\u001b[0m selected images size:  62\n",
            "\u001b[2m\u001b[36m(DefaultActor pid=1009)\u001b[0m output size:  101\n",
            "\u001b[2m\u001b[36m(DefaultActor pid=1009)\u001b[0m selected images size:  21\n",
            "\u001b[2m\u001b[36m(DefaultActor pid=1009)\u001b[0m output size:  256\n",
            "\u001b[2m\u001b[36m(DefaultActor pid=1009)\u001b[0m selected images size:  53\n",
            "\u001b[2m\u001b[36m(DefaultActor pid=1009)\u001b[0m output size:  256\n",
            "\u001b[2m\u001b[36m(DefaultActor pid=1009)\u001b[0m selected images size:  57\n",
            "\u001b[2m\u001b[36m(DefaultActor pid=1009)\u001b[0m output size:  256\n",
            "\u001b[2m\u001b[36m(DefaultActor pid=1009)\u001b[0m selected images size:  52\n",
            "\u001b[2m\u001b[36m(DefaultActor pid=1009)\u001b[0m output size:  256\n",
            "\u001b[2m\u001b[36m(DefaultActor pid=1009)\u001b[0m selected images size:  45\n",
            "\u001b[2m\u001b[36m(DefaultActor pid=1009)\u001b[0m output size:  256\n",
            "\u001b[2m\u001b[36m(DefaultActor pid=1009)\u001b[0m selected images size:  31\n",
            "\u001b[2m\u001b[36m(DefaultActor pid=1009)\u001b[0m output size:  256\n",
            "\u001b[2m\u001b[36m(DefaultActor pid=1009)\u001b[0m selected images size:  29\n",
            "\u001b[2m\u001b[36m(DefaultActor pid=1009)\u001b[0m output size:  101\n",
            "\u001b[2m\u001b[36m(DefaultActor pid=1009)\u001b[0m selected images size:  10\n",
            "\u001b[2m\u001b[36m(DefaultActor pid=1009)\u001b[0m output size:  256\n",
            "\u001b[2m\u001b[36m(DefaultActor pid=1009)\u001b[0m selected images size:  29\n",
            "\u001b[2m\u001b[36m(DefaultActor pid=1009)\u001b[0m output size:  256\n",
            "\u001b[2m\u001b[36m(DefaultActor pid=1009)\u001b[0m selected images size:  22\n",
            "\u001b[2m\u001b[36m(DefaultActor pid=1009)\u001b[0m output size:  256\n",
            "\u001b[2m\u001b[36m(DefaultActor pid=1009)\u001b[0m selected images size:  30\n",
            "\u001b[2m\u001b[36m(DefaultActor pid=1009)\u001b[0m output size:  256\n",
            "\u001b[2m\u001b[36m(DefaultActor pid=1009)\u001b[0m selected images size:  31\n",
            "\u001b[2m\u001b[36m(DefaultActor pid=1009)\u001b[0m output size:  256\n",
            "\u001b[2m\u001b[36m(DefaultActor pid=1009)\u001b[0m selected images size:  21\n",
            "\u001b[2m\u001b[36m(DefaultActor pid=1009)\u001b[0m output size:  256\n",
            "\u001b[2m\u001b[36m(DefaultActor pid=1009)\u001b[0m selected images size:  31\n",
            "\u001b[2m\u001b[36m(DefaultActor pid=1009)\u001b[0m output size:  101\n",
            "\u001b[2m\u001b[36m(DefaultActor pid=1009)\u001b[0m selected images size:  8\n",
            "\u001b[2m\u001b[36m(DefaultActor pid=1009)\u001b[0m output size:  256\n",
            "\u001b[2m\u001b[36m(DefaultActor pid=1009)\u001b[0m selected images size:  16\n",
            "\u001b[2m\u001b[36m(DefaultActor pid=1009)\u001b[0m output size:  256\n",
            "\u001b[2m\u001b[36m(DefaultActor pid=1009)\u001b[0m selected images size:  27\n",
            "\u001b[2m\u001b[36m(DefaultActor pid=1009)\u001b[0m output size:  256\n",
            "\u001b[2m\u001b[36m(DefaultActor pid=1009)\u001b[0m selected images size:  29\n",
            "\u001b[2m\u001b[36m(DefaultActor pid=1009)\u001b[0m output size:  256\n",
            "\u001b[2m\u001b[36m(DefaultActor pid=1009)\u001b[0m selected images size:  31\n",
            "\u001b[2m\u001b[36m(DefaultActor pid=1009)\u001b[0m output size:  256\n",
            "\u001b[2m\u001b[36m(DefaultActor pid=1009)\u001b[0m selected images size:  28\n",
            "\u001b[2m\u001b[36m(DefaultActor pid=1009)\u001b[0m output size:  256\n",
            "\u001b[2m\u001b[36m(DefaultActor pid=1009)\u001b[0m selected images size:  49\n",
            "\u001b[2m\u001b[36m(DefaultActor pid=1009)\u001b[0m output size:  101\n",
            "\u001b[2m\u001b[36m(DefaultActor pid=1009)\u001b[0m selected images size:  31\n",
            "\u001b[2m\u001b[36m(DefaultActor pid=1009)\u001b[0m output size:  256\n",
            "\u001b[2m\u001b[36m(DefaultActor pid=1009)\u001b[0m selected images size:  63\n",
            "\u001b[2m\u001b[36m(DefaultActor pid=1009)\u001b[0m output size:  256\n",
            "\u001b[2m\u001b[36m(DefaultActor pid=1009)\u001b[0m selected images size:  56\n",
            "\u001b[2m\u001b[36m(DefaultActor pid=1009)\u001b[0m output size:  256\n",
            "\u001b[2m\u001b[36m(DefaultActor pid=1009)\u001b[0m selected images size:  59\n",
            "\u001b[2m\u001b[36m(DefaultActor pid=1009)\u001b[0m output size:  256\n",
            "\u001b[2m\u001b[36m(DefaultActor pid=1009)\u001b[0m selected images size:  59\n",
            "\u001b[2m\u001b[36m(DefaultActor pid=1009)\u001b[0m output size:  256\n",
            "\u001b[2m\u001b[36m(DefaultActor pid=1009)\u001b[0m selected images size:  55\n",
            "\u001b[2m\u001b[36m(DefaultActor pid=1009)\u001b[0m output size:  256\n",
            "\u001b[2m\u001b[36m(DefaultActor pid=1009)\u001b[0m selected images size:  54\n",
            "\u001b[2m\u001b[36m(DefaultActor pid=1009)\u001b[0m output size:  101\n",
            "\u001b[2m\u001b[36m(DefaultActor pid=1009)\u001b[0m selected images size:  21\n",
            "\u001b[2m\u001b[36m(DefaultActor pid=1009)\u001b[0m output size:  256\n",
            "\u001b[2m\u001b[36m(DefaultActor pid=1009)\u001b[0m selected images size:  50\n",
            "\u001b[2m\u001b[36m(DefaultActor pid=1009)\u001b[0m output size:  256\n",
            "\u001b[2m\u001b[36m(DefaultActor pid=1009)\u001b[0m selected images size:  53\n",
            "\u001b[2m\u001b[36m(DefaultActor pid=1009)\u001b[0m output size:  256\n",
            "\u001b[2m\u001b[36m(DefaultActor pid=1009)\u001b[0m selected images size:  59\n",
            "\u001b[2m\u001b[36m(DefaultActor pid=1009)\u001b[0m output size:  256\n",
            "\u001b[2m\u001b[36m(DefaultActor pid=1009)\u001b[0m selected images size:  62\n",
            "\u001b[2m\u001b[36m(DefaultActor pid=1009)\u001b[0m output size:  256\n",
            "\u001b[2m\u001b[36m(DefaultActor pid=1009)\u001b[0m selected images size:  58\n",
            "\u001b[2m\u001b[36m(DefaultActor pid=1009)\u001b[0m output size:  256\n",
            "\u001b[2m\u001b[36m(DefaultActor pid=1009)\u001b[0m selected images size:  63\n",
            "\u001b[2m\u001b[36m(DefaultActor pid=1009)\u001b[0m output size:  101\n",
            "\u001b[2m\u001b[36m(DefaultActor pid=1009)\u001b[0m selected images size:  23\n",
            "\u001b[2m\u001b[36m(DefaultActor pid=1009)\u001b[0m output size:  256\n",
            "\u001b[2m\u001b[36m(DefaultActor pid=1009)\u001b[0m selected images size:  48\n",
            "\u001b[2m\u001b[36m(DefaultActor pid=1009)\u001b[0m output size:  256\n",
            "\u001b[2m\u001b[36m(DefaultActor pid=1009)\u001b[0m selected images size:  62\n",
            "\u001b[2m\u001b[36m(DefaultActor pid=1009)\u001b[0m output size:  256\n",
            "\u001b[2m\u001b[36m(DefaultActor pid=1009)\u001b[0m selected images size:  55\n",
            "\u001b[2m\u001b[36m(DefaultActor pid=1009)\u001b[0m output size:  256\n",
            "\u001b[2m\u001b[36m(DefaultActor pid=1009)\u001b[0m selected images size:  61\n",
            "\u001b[2m\u001b[36m(DefaultActor pid=1009)\u001b[0m output size:  256\n",
            "\u001b[2m\u001b[36m(DefaultActor pid=1009)\u001b[0m selected images size:  61\n",
            "\u001b[2m\u001b[36m(DefaultActor pid=1009)\u001b[0m output size:  256\n",
            "\u001b[2m\u001b[36m(DefaultActor pid=1009)\u001b[0m selected images size:  58\n",
            "\u001b[2m\u001b[36m(DefaultActor pid=1009)\u001b[0m output size:  101\n",
            "\u001b[2m\u001b[36m(DefaultActor pid=1009)\u001b[0m selected images size:  23\n",
            "\u001b[2m\u001b[36m(DefaultActor pid=1009)\u001b[0m output size:  256\n",
            "\u001b[2m\u001b[36m(DefaultActor pid=1009)\u001b[0m selected images size:  69\n",
            "\u001b[2m\u001b[36m(DefaultActor pid=1009)\u001b[0m output size:  256\n",
            "\u001b[2m\u001b[36m(DefaultActor pid=1009)\u001b[0m selected images size:  58\n",
            "\u001b[2m\u001b[36m(DefaultActor pid=1009)\u001b[0m output size:  256\n",
            "\u001b[2m\u001b[36m(DefaultActor pid=1009)\u001b[0m selected images size:  56\n",
            "\u001b[2m\u001b[36m(DefaultActor pid=1009)\u001b[0m output size:  256\n",
            "\u001b[2m\u001b[36m(DefaultActor pid=1009)\u001b[0m selected images size:  57\n",
            "\u001b[2m\u001b[36m(DefaultActor pid=1009)\u001b[0m output size:  256\n",
            "\u001b[2m\u001b[36m(DefaultActor pid=1009)\u001b[0m selected images size:  67\n",
            "\u001b[2m\u001b[36m(DefaultActor pid=1009)\u001b[0m output size:  256\n",
            "\u001b[2m\u001b[36m(DefaultActor pid=1009)\u001b[0m selected images size:  62\n",
            "\u001b[2m\u001b[36m(DefaultActor pid=1009)\u001b[0m output size:  101\n",
            "\u001b[2m\u001b[36m(DefaultActor pid=1009)\u001b[0m selected images size:  28\n",
            "\u001b[2m\u001b[36m(DefaultActor pid=1009)\u001b[0m output size:  256\n",
            "\u001b[2m\u001b[36m(DefaultActor pid=1009)\u001b[0m selected images size:  73\n",
            "\u001b[2m\u001b[36m(DefaultActor pid=1009)\u001b[0m output size:  256\n",
            "\u001b[2m\u001b[36m(DefaultActor pid=1009)\u001b[0m selected images size:  60\n",
            "\u001b[2m\u001b[36m(DefaultActor pid=1009)\u001b[0m output size:  256\n",
            "\u001b[2m\u001b[36m(DefaultActor pid=1009)\u001b[0m selected images size:  64\n",
            "\u001b[2m\u001b[36m(DefaultActor pid=1009)\u001b[0m output size:  256\n",
            "\u001b[2m\u001b[36m(DefaultActor pid=1009)\u001b[0m selected images size:  66\n",
            "\u001b[2m\u001b[36m(DefaultActor pid=1009)\u001b[0m output size:  256\n",
            "\u001b[2m\u001b[36m(DefaultActor pid=1009)\u001b[0m selected images size:  63\n",
            "\u001b[2m\u001b[36m(DefaultActor pid=1009)\u001b[0m output size:  256\n",
            "\u001b[2m\u001b[36m(DefaultActor pid=1009)\u001b[0m selected images size:  75\n",
            "\u001b[2m\u001b[36m(DefaultActor pid=1009)\u001b[0m output size:  101\n",
            "\u001b[2m\u001b[36m(DefaultActor pid=1009)\u001b[0m selected images size:  30\n",
            "\u001b[2m\u001b[36m(DefaultActor pid=1009)\u001b[0m output size:  256\n",
            "\u001b[2m\u001b[36m(DefaultActor pid=1009)\u001b[0m selected images size:  85\n",
            "\u001b[2m\u001b[36m(DefaultActor pid=1009)\u001b[0m output size:  256\n",
            "\u001b[2m\u001b[36m(DefaultActor pid=1009)\u001b[0m selected images size:  72\n",
            "\u001b[2m\u001b[36m(DefaultActor pid=1009)\u001b[0m output size:  256\n",
            "\u001b[2m\u001b[36m(DefaultActor pid=1009)\u001b[0m selected images size:  71\n",
            "\u001b[2m\u001b[36m(DefaultActor pid=1009)\u001b[0m output size:  256\n",
            "\u001b[2m\u001b[36m(DefaultActor pid=1009)\u001b[0m selected images size:  69\n",
            "\u001b[2m\u001b[36m(DefaultActor pid=1009)\u001b[0m output size:  256\n",
            "\u001b[2m\u001b[36m(DefaultActor pid=1009)\u001b[0m selected images size:  62\n",
            "\u001b[2m\u001b[36m(DefaultActor pid=1009)\u001b[0m output size:  256\n",
            "\u001b[2m\u001b[36m(DefaultActor pid=1009)\u001b[0m selected images size:  83\n",
            "\u001b[2m\u001b[36m(DefaultActor pid=1009)\u001b[0m output size:  101\n",
            "\u001b[2m\u001b[36m(DefaultActor pid=1009)\u001b[0m selected images size:  27\n",
            "\u001b[2m\u001b[36m(DefaultActor pid=1009)\u001b[0m output size:  256\n",
            "\u001b[2m\u001b[36m(DefaultActor pid=1009)\u001b[0m selected images size:  65\n",
            "\u001b[2m\u001b[36m(DefaultActor pid=1009)\u001b[0m output size:  256\n",
            "\u001b[2m\u001b[36m(DefaultActor pid=1009)\u001b[0m selected images size:  69\n",
            "\u001b[2m\u001b[36m(DefaultActor pid=1009)\u001b[0m output size:  256\n",
            "\u001b[2m\u001b[36m(DefaultActor pid=1009)\u001b[0m selected images size:  68\n",
            "\u001b[2m\u001b[36m(DefaultActor pid=1009)\u001b[0m output size:  256\n",
            "\u001b[2m\u001b[36m(DefaultActor pid=1009)\u001b[0m selected images size:  69\n",
            "\u001b[2m\u001b[36m(DefaultActor pid=1009)\u001b[0m output size:  256\n",
            "\u001b[2m\u001b[36m(DefaultActor pid=1009)\u001b[0m selected images size:  66\n",
            "\u001b[2m\u001b[36m(DefaultActor pid=1009)\u001b[0m output size:  256\n",
            "\u001b[2m\u001b[36m(DefaultActor pid=1009)\u001b[0m selected images size:  73\n",
            "\u001b[2m\u001b[36m(DefaultActor pid=1009)\u001b[0m output size:  101\n",
            "\u001b[2m\u001b[36m(DefaultActor pid=1009)\u001b[0m selected images size:  30\n",
            "\u001b[2m\u001b[36m(DefaultActor pid=1009)\u001b[0m ATTACKER\n",
            "\u001b[2m\u001b[36m(DefaultActor pid=1009)\u001b[0m output size:  256\n",
            "\u001b[2m\u001b[36m(DefaultActor pid=1009)\u001b[0m selected images size:  15\n",
            "\u001b[2m\u001b[36m(DefaultActor pid=1009)\u001b[0m output size:  256\n",
            "\u001b[2m\u001b[36m(DefaultActor pid=1009)\u001b[0m selected images size:  1\n",
            "\u001b[2m\u001b[36m(DefaultActor pid=1009)\u001b[0m output size:  256\n",
            "\u001b[2m\u001b[36m(DefaultActor pid=1009)\u001b[0m selected images size:  1\n",
            "\u001b[2m\u001b[36m(DefaultActor pid=1009)\u001b[0m output size:  256\n",
            "\u001b[2m\u001b[36m(DefaultActor pid=1009)\u001b[0m selected images size:  1\n",
            "\u001b[2m\u001b[36m(DefaultActor pid=1009)\u001b[0m output size:  256\n",
            "\u001b[2m\u001b[36m(DefaultActor pid=1009)\u001b[0m selected images size:  1\n",
            "\u001b[2m\u001b[36m(DefaultActor pid=1009)\u001b[0m output size:  256\n",
            "\u001b[2m\u001b[36m(DefaultActor pid=1009)\u001b[0m selected images size:  5\n",
            "\u001b[2m\u001b[36m(DefaultActor pid=1009)\u001b[0m output size:  256\n",
            "\u001b[2m\u001b[36m(DefaultActor pid=1009)\u001b[0m selected images size:  4\n",
            "\u001b[2m\u001b[36m(DefaultActor pid=1009)\u001b[0m output size:  256\n",
            "\u001b[2m\u001b[36m(DefaultActor pid=1009)\u001b[0m selected images size:  1\n",
            "\u001b[2m\u001b[36m(DefaultActor pid=1009)\u001b[0m output size:  256\n",
            "\u001b[2m\u001b[36m(DefaultActor pid=1009)\u001b[0m selected images size:  5\n",
            "\u001b[2m\u001b[36m(DefaultActor pid=1009)\u001b[0m output size:  101\n",
            "\u001b[2m\u001b[36m(DefaultActor pid=1009)\u001b[0m selected images size:  4\n",
            "\u001b[2m\u001b[36m(DefaultActor pid=1009)\u001b[0m output size:  256\n",
            "\u001b[2m\u001b[36m(DefaultActor pid=1009)\u001b[0m selected images size:  14\n",
            "\u001b[2m\u001b[36m(DefaultActor pid=1009)\u001b[0m output size:  256\n",
            "\u001b[2m\u001b[36m(DefaultActor pid=1009)\u001b[0m selected images size:  14\n",
            "\u001b[2m\u001b[36m(DefaultActor pid=1009)\u001b[0m output size:  256\n",
            "\u001b[2m\u001b[36m(DefaultActor pid=1009)\u001b[0m selected images size:  15\n",
            "\u001b[2m\u001b[36m(DefaultActor pid=1009)\u001b[0m output size:  256\n",
            "\u001b[2m\u001b[36m(DefaultActor pid=1009)\u001b[0m selected images size:  16\n",
            "\u001b[2m\u001b[36m(DefaultActor pid=1009)\u001b[0m output size:  256\n",
            "\u001b[2m\u001b[36m(DefaultActor pid=1009)\u001b[0m selected images size:  24\n",
            "\u001b[2m\u001b[36m(DefaultActor pid=1009)\u001b[0m output size:  256\n",
            "\u001b[2m\u001b[36m(DefaultActor pid=1009)\u001b[0m selected images size:  16\n",
            "\u001b[2m\u001b[36m(DefaultActor pid=1009)\u001b[0m output size:  101\n",
            "\u001b[2m\u001b[36m(DefaultActor pid=1009)\u001b[0m selected images size:  6\n",
            "\u001b[2m\u001b[36m(DefaultActor pid=1009)\u001b[0m output size:  256\n",
            "\u001b[2m\u001b[36m(DefaultActor pid=1009)\u001b[0m selected images size:  22\n",
            "\u001b[2m\u001b[36m(DefaultActor pid=1009)\u001b[0m output size:  256\n",
            "\u001b[2m\u001b[36m(DefaultActor pid=1009)\u001b[0m selected images size:  25\n",
            "\u001b[2m\u001b[36m(DefaultActor pid=1009)\u001b[0m output size:  256\n",
            "\u001b[2m\u001b[36m(DefaultActor pid=1009)\u001b[0m selected images size:  21\n",
            "\u001b[2m\u001b[36m(DefaultActor pid=1009)\u001b[0m output size:  256\n",
            "\u001b[2m\u001b[36m(DefaultActor pid=1009)\u001b[0m selected images size:  16\n",
            "\u001b[2m\u001b[36m(DefaultActor pid=1009)\u001b[0m output size:  256\n",
            "\u001b[2m\u001b[36m(DefaultActor pid=1009)\u001b[0m selected images size:  18\n",
            "\u001b[2m\u001b[36m(DefaultActor pid=1009)\u001b[0m output size:  256\n",
            "\u001b[2m\u001b[36m(DefaultActor pid=1009)\u001b[0m selected images size:  29\n",
            "\u001b[2m\u001b[36m(DefaultActor pid=1009)\u001b[0m output size:  101\n",
            "\u001b[2m\u001b[36m(DefaultActor pid=1009)\u001b[0m selected images size:  15\n",
            "\u001b[2m\u001b[36m(DefaultActor pid=1009)\u001b[0m output size:  256\n",
            "\u001b[2m\u001b[36m(DefaultActor pid=1009)\u001b[0m selected images size:  13\n",
            "\u001b[2m\u001b[36m(DefaultActor pid=1009)\u001b[0m output size:  256\n",
            "\u001b[2m\u001b[36m(DefaultActor pid=1009)\u001b[0m selected images size:  21\n",
            "\u001b[2m\u001b[36m(DefaultActor pid=1009)\u001b[0m output size:  256\n",
            "\u001b[2m\u001b[36m(DefaultActor pid=1009)\u001b[0m selected images size:  24\n",
            "\u001b[2m\u001b[36m(DefaultActor pid=1009)\u001b[0m output size:  256\n",
            "\u001b[2m\u001b[36m(DefaultActor pid=1009)\u001b[0m selected images size:  19\n",
            "\u001b[2m\u001b[36m(DefaultActor pid=1009)\u001b[0m output size:  256\n",
            "\u001b[2m\u001b[36m(DefaultActor pid=1009)\u001b[0m selected images size:  28\n",
            "\u001b[2m\u001b[36m(DefaultActor pid=1009)\u001b[0m output size:  256\n",
            "\u001b[2m\u001b[36m(DefaultActor pid=1009)\u001b[0m selected images size:  22\n",
            "\u001b[2m\u001b[36m(DefaultActor pid=1009)\u001b[0m output size:  101\n",
            "\u001b[2m\u001b[36m(DefaultActor pid=1009)\u001b[0m selected images size:  5\n",
            "\u001b[2m\u001b[36m(DefaultActor pid=1009)\u001b[0m output size:  256\n",
            "\u001b[2m\u001b[36m(DefaultActor pid=1009)\u001b[0m selected images size:  25\n",
            "\u001b[2m\u001b[36m(DefaultActor pid=1009)\u001b[0m output size:  256\n",
            "\u001b[2m\u001b[36m(DefaultActor pid=1009)\u001b[0m selected images size:  27\n",
            "\u001b[2m\u001b[36m(DefaultActor pid=1009)\u001b[0m output size:  256\n",
            "\u001b[2m\u001b[36m(DefaultActor pid=1009)\u001b[0m selected images size:  26\n",
            "\u001b[2m\u001b[36m(DefaultActor pid=1009)\u001b[0m output size:  256\n",
            "\u001b[2m\u001b[36m(DefaultActor pid=1009)\u001b[0m selected images size:  19\n",
            "\u001b[2m\u001b[36m(DefaultActor pid=1009)\u001b[0m output size:  256\n",
            "\u001b[2m\u001b[36m(DefaultActor pid=1009)\u001b[0m selected images size:  20\n",
            "\u001b[2m\u001b[36m(DefaultActor pid=1009)\u001b[0m output size:  256\n",
            "\u001b[2m\u001b[36m(DefaultActor pid=1009)\u001b[0m selected images size:  15\n",
            "\u001b[2m\u001b[36m(DefaultActor pid=1009)\u001b[0m output size:  101\n",
            "\u001b[2m\u001b[36m(DefaultActor pid=1009)\u001b[0m selected images size:  7\n",
            "\u001b[2m\u001b[36m(DefaultActor pid=1009)\u001b[0m output size:  256\n",
            "\u001b[2m\u001b[36m(DefaultActor pid=1009)\u001b[0m selected images size:  20\n",
            "\u001b[2m\u001b[36m(DefaultActor pid=1009)\u001b[0m output size:  256\n",
            "\u001b[2m\u001b[36m(DefaultActor pid=1009)\u001b[0m selected images size:  14\n",
            "\u001b[2m\u001b[36m(DefaultActor pid=1009)\u001b[0m output size:  256\n",
            "\u001b[2m\u001b[36m(DefaultActor pid=1009)\u001b[0m selected images size:  24\n",
            "\u001b[2m\u001b[36m(DefaultActor pid=1009)\u001b[0m output size:  256\n",
            "\u001b[2m\u001b[36m(DefaultActor pid=1009)\u001b[0m selected images size:  24\n",
            "\u001b[2m\u001b[36m(DefaultActor pid=1009)\u001b[0m output size:  256\n",
            "\u001b[2m\u001b[36m(DefaultActor pid=1009)\u001b[0m selected images size:  20\n",
            "\u001b[2m\u001b[36m(DefaultActor pid=1009)\u001b[0m output size:  256\n",
            "\u001b[2m\u001b[36m(DefaultActor pid=1009)\u001b[0m selected images size:  21\n",
            "\u001b[2m\u001b[36m(DefaultActor pid=1009)\u001b[0m output size:  101\n",
            "\u001b[2m\u001b[36m(DefaultActor pid=1009)\u001b[0m selected images size:  8\n",
            "\u001b[2m\u001b[36m(DefaultActor pid=1009)\u001b[0m output size:  256\n",
            "\u001b[2m\u001b[36m(DefaultActor pid=1009)\u001b[0m selected images size:  15\n",
            "\u001b[2m\u001b[36m(DefaultActor pid=1009)\u001b[0m output size:  256\n",
            "\u001b[2m\u001b[36m(DefaultActor pid=1009)\u001b[0m selected images size:  16\n",
            "\u001b[2m\u001b[36m(DefaultActor pid=1009)\u001b[0m output size:  256\n",
            "\u001b[2m\u001b[36m(DefaultActor pid=1009)\u001b[0m selected images size:  16\n",
            "\u001b[2m\u001b[36m(DefaultActor pid=1009)\u001b[0m output size:  256\n",
            "\u001b[2m\u001b[36m(DefaultActor pid=1009)\u001b[0m selected images size:  26\n",
            "\u001b[2m\u001b[36m(DefaultActor pid=1009)\u001b[0m output size:  256\n",
            "\u001b[2m\u001b[36m(DefaultActor pid=1009)\u001b[0m selected images size:  21\n",
            "\u001b[2m\u001b[36m(DefaultActor pid=1009)\u001b[0m output size:  256\n",
            "\u001b[2m\u001b[36m(DefaultActor pid=1009)\u001b[0m selected images size:  16\n",
            "\u001b[2m\u001b[36m(DefaultActor pid=1009)\u001b[0m output size:  101\n",
            "\u001b[2m\u001b[36m(DefaultActor pid=1009)\u001b[0m selected images size:  5\n",
            "\u001b[2m\u001b[36m(DefaultActor pid=1009)\u001b[0m output size:  256\n",
            "\u001b[2m\u001b[36m(DefaultActor pid=1009)\u001b[0m selected images size:  17\n",
            "\u001b[2m\u001b[36m(DefaultActor pid=1009)\u001b[0m output size:  256\n",
            "\u001b[2m\u001b[36m(DefaultActor pid=1009)\u001b[0m selected images size:  23\n",
            "\u001b[2m\u001b[36m(DefaultActor pid=1009)\u001b[0m output size:  256\n",
            "\u001b[2m\u001b[36m(DefaultActor pid=1009)\u001b[0m selected images size:  17\n",
            "\u001b[2m\u001b[36m(DefaultActor pid=1009)\u001b[0m output size:  256\n",
            "\u001b[2m\u001b[36m(DefaultActor pid=1009)\u001b[0m selected images size:  20\n",
            "\u001b[2m\u001b[36m(DefaultActor pid=1009)\u001b[0m output size:  256\n",
            "\u001b[2m\u001b[36m(DefaultActor pid=1009)\u001b[0m selected images size:  26\n",
            "\u001b[2m\u001b[36m(DefaultActor pid=1009)\u001b[0m output size:  256\n",
            "\u001b[2m\u001b[36m(DefaultActor pid=1009)\u001b[0m selected images size:  20\n",
            "\u001b[2m\u001b[36m(DefaultActor pid=1009)\u001b[0m output size:  101\n",
            "\u001b[2m\u001b[36m(DefaultActor pid=1009)\u001b[0m selected images size:  12\n",
            "\u001b[2m\u001b[36m(DefaultActor pid=1009)\u001b[0m output size:  256\n",
            "\u001b[2m\u001b[36m(DefaultActor pid=1009)\u001b[0m selected images size:  27\n",
            "\u001b[2m\u001b[36m(DefaultActor pid=1009)\u001b[0m output size:  256\n",
            "\u001b[2m\u001b[36m(DefaultActor pid=1009)\u001b[0m selected images size:  26\n",
            "\u001b[2m\u001b[36m(DefaultActor pid=1009)\u001b[0m output size:  256\n",
            "\u001b[2m\u001b[36m(DefaultActor pid=1009)\u001b[0m selected images size:  35\n",
            "\u001b[2m\u001b[36m(DefaultActor pid=1009)\u001b[0m output size:  256\n",
            "\u001b[2m\u001b[36m(DefaultActor pid=1009)\u001b[0m selected images size:  31\n",
            "\u001b[2m\u001b[36m(DefaultActor pid=1009)\u001b[0m output size:  256\n",
            "\u001b[2m\u001b[36m(DefaultActor pid=1009)\u001b[0m selected images size:  28\n",
            "\u001b[2m\u001b[36m(DefaultActor pid=1009)\u001b[0m output size:  256\n",
            "\u001b[2m\u001b[36m(DefaultActor pid=1009)\u001b[0m selected images size:  36\n",
            "\u001b[2m\u001b[36m(DefaultActor pid=1009)\u001b[0m output size:  101\n",
            "\u001b[2m\u001b[36m(DefaultActor pid=1009)\u001b[0m selected images size:  19\n",
            "\u001b[2m\u001b[36m(DefaultActor pid=1009)\u001b[0m output size:  256\n",
            "\u001b[2m\u001b[36m(DefaultActor pid=1009)\u001b[0m selected images size:  44\n",
            "\u001b[2m\u001b[36m(DefaultActor pid=1009)\u001b[0m output size:  256\n",
            "\u001b[2m\u001b[36m(DefaultActor pid=1009)\u001b[0m selected images size:  41\n",
            "\u001b[2m\u001b[36m(DefaultActor pid=1009)\u001b[0m output size:  256\n",
            "\u001b[2m\u001b[36m(DefaultActor pid=1009)\u001b[0m selected images size:  33\n",
            "\u001b[2m\u001b[36m(DefaultActor pid=1009)\u001b[0m output size:  256\n",
            "\u001b[2m\u001b[36m(DefaultActor pid=1009)\u001b[0m selected images size:  44\n",
            "\u001b[2m\u001b[36m(DefaultActor pid=1009)\u001b[0m output size:  256\n",
            "\u001b[2m\u001b[36m(DefaultActor pid=1009)\u001b[0m selected images size:  52\n",
            "\u001b[2m\u001b[36m(DefaultActor pid=1009)\u001b[0m output size:  256\n",
            "\u001b[2m\u001b[36m(DefaultActor pid=1009)\u001b[0m selected images size:  45\n",
            "\u001b[2m\u001b[36m(DefaultActor pid=1009)\u001b[0m output size:  101\n",
            "\u001b[2m\u001b[36m(DefaultActor pid=1009)\u001b[0m selected images size:  16\n"
          ]
        },
        {
          "output_type": "stream",
          "name": "stderr",
          "text": [
            "DEBUG flwr 2024-01-19 15:37:25,659 | server.py:236 | fit_round 8 received 10 results and 0 failures\n",
            "DEBUG:flwr:fit_round 8 received 10 results and 0 failures\n"
          ]
        },
        {
          "output_type": "stream",
          "name": "stdout",
          "text": [
            "Saving round 8 aggregated_parameters...\n"
          ]
        },
        {
          "output_type": "stream",
          "name": "stderr",
          "text": [
            "INFO flwr 2024-01-19 15:37:40,831 | server.py:125 | fit progress: (8, 311.8558084964752, {'accuracy': 0.5813953488372093}, 1081.9987927329998)\n",
            "INFO:flwr:fit progress: (8, 311.8558084964752, {'accuracy': 0.5813953488372093}, 1081.9987927329998)\n",
            "DEBUG flwr 2024-01-19 15:37:40,834 | server.py:173 | evaluate_round 8: strategy sampled 10 clients (out of 33)\n",
            "DEBUG:flwr:evaluate_round 8: strategy sampled 10 clients (out of 33)\n"
          ]
        },
        {
          "output_type": "stream",
          "name": "stdout",
          "text": [
            "GLOBAL TEST\n"
          ]
        },
        {
          "output_type": "stream",
          "name": "stderr",
          "text": [
            "DEBUG flwr 2024-01-19 15:37:44,219 | server.py:187 | evaluate_round 8 received 10 results and 0 failures\n",
            "DEBUG:flwr:evaluate_round 8 received 10 results and 0 failures\n",
            "DEBUG flwr 2024-01-19 15:37:44,222 | server.py:222 | fit_round 9: strategy sampled 10 clients (out of 33)\n",
            "DEBUG:flwr:fit_round 9: strategy sampled 10 clients (out of 33)\n"
          ]
        },
        {
          "output_type": "stream",
          "name": "stdout",
          "text": [
            "\u001b[2m\u001b[36m(DefaultActor pid=1009)\u001b[0m ATTACKER\n"
          ]
        },
        {
          "output_type": "stream",
          "name": "stderr",
          "text": [
            "\u001b[2m\u001b[36m(DefaultActor pid=1009)\u001b[0m /usr/local/lib/python3.10/dist-packages/torch/optim/lr_scheduler.py:136: UserWarning: Detected call of `lr_scheduler.step()` before `optimizer.step()`. In PyTorch 1.1.0 and later, you should call them in the opposite order: `optimizer.step()` before `lr_scheduler.step()`.  Failure to do this will result in PyTorch skipping the first value of the learning rate schedule. See more details at https://pytorch.org/docs/stable/optim.html#how-to-adjust-learning-rate\n",
            "\u001b[2m\u001b[36m(DefaultActor pid=1009)\u001b[0m   warnings.warn(\"Detected call of `lr_scheduler.step()` before `optimizer.step()`. \"\n"
          ]
        },
        {
          "output_type": "stream",
          "name": "stdout",
          "text": [
            "\u001b[2m\u001b[36m(DefaultActor pid=1009)\u001b[0m output size:  256\n",
            "\u001b[2m\u001b[36m(DefaultActor pid=1009)\u001b[0m selected images size:  2\n"
          ]
        },
        {
          "output_type": "stream",
          "name": "stderr",
          "text": [
            "DEBUG flwr 2024-01-19 15:39:45,015 | server.py:236 | fit_round 9 received 10 results and 0 failures\n",
            "DEBUG:flwr:fit_round 9 received 10 results and 0 failures\n"
          ]
        },
        {
          "output_type": "stream",
          "name": "stdout",
          "text": [
            "Saving round 9 aggregated_parameters...\n"
          ]
        },
        {
          "output_type": "stream",
          "name": "stderr",
          "text": [
            "INFO flwr 2024-01-19 15:40:00,264 | server.py:125 | fit progress: (9, 311.86109590530396, {'accuracy': 0.4844961240310077}, 1221.4324451399998)\n",
            "INFO:flwr:fit progress: (9, 311.86109590530396, {'accuracy': 0.4844961240310077}, 1221.4324451399998)\n",
            "DEBUG flwr 2024-01-19 15:40:00,268 | server.py:173 | evaluate_round 9: strategy sampled 10 clients (out of 33)\n",
            "DEBUG:flwr:evaluate_round 9: strategy sampled 10 clients (out of 33)\n"
          ]
        },
        {
          "output_type": "stream",
          "name": "stdout",
          "text": [
            "GLOBAL TEST\n"
          ]
        },
        {
          "output_type": "stream",
          "name": "stderr",
          "text": [
            "DEBUG flwr 2024-01-19 15:40:03,696 | server.py:187 | evaluate_round 9 received 10 results and 0 failures\n",
            "DEBUG:flwr:evaluate_round 9 received 10 results and 0 failures\n",
            "DEBUG flwr 2024-01-19 15:40:03,699 | server.py:222 | fit_round 10: strategy sampled 10 clients (out of 33)\n",
            "DEBUG:flwr:fit_round 10: strategy sampled 10 clients (out of 33)\n"
          ]
        },
        {
          "output_type": "stream",
          "name": "stdout",
          "text": [
            "\u001b[2m\u001b[36m(DefaultActor pid=1009)\u001b[0m ATTACKER\n",
            "\u001b[2m\u001b[36m(DefaultActor pid=1009)\u001b[0m output size:  256\n",
            "\u001b[2m\u001b[36m(DefaultActor pid=1009)\u001b[0m selected images size:  3\n"
          ]
        },
        {
          "output_type": "stream",
          "name": "stderr",
          "text": [
            "DEBUG flwr 2024-01-19 15:42:05,694 | server.py:236 | fit_round 10 received 10 results and 0 failures\n",
            "DEBUG:flwr:fit_round 10 received 10 results and 0 failures\n"
          ]
        },
        {
          "output_type": "stream",
          "name": "stdout",
          "text": [
            "Saving round 10 aggregated_parameters...\n"
          ]
        },
        {
          "output_type": "stream",
          "name": "stderr",
          "text": [
            "INFO flwr 2024-01-19 15:42:21,126 | server.py:125 | fit progress: (10, 311.7997943162918, {'accuracy': 0.29069767441860467}, 1362.294212791)\n",
            "INFO:flwr:fit progress: (10, 311.7997943162918, {'accuracy': 0.29069767441860467}, 1362.294212791)\n",
            "DEBUG flwr 2024-01-19 15:42:21,129 | server.py:173 | evaluate_round 10: strategy sampled 10 clients (out of 33)\n",
            "DEBUG:flwr:evaluate_round 10: strategy sampled 10 clients (out of 33)\n"
          ]
        },
        {
          "output_type": "stream",
          "name": "stdout",
          "text": [
            "GLOBAL TEST\n"
          ]
        },
        {
          "output_type": "stream",
          "name": "stderr",
          "text": [
            "DEBUG flwr 2024-01-19 15:42:25,019 | server.py:187 | evaluate_round 10 received 10 results and 0 failures\n",
            "DEBUG:flwr:evaluate_round 10 received 10 results and 0 failures\n",
            "DEBUG flwr 2024-01-19 15:42:25,023 | server.py:222 | fit_round 11: strategy sampled 10 clients (out of 33)\n",
            "DEBUG:flwr:fit_round 11: strategy sampled 10 clients (out of 33)\n",
            "DEBUG flwr 2024-01-19 15:43:43,090 | server.py:236 | fit_round 11 received 10 results and 0 failures\n",
            "DEBUG:flwr:fit_round 11 received 10 results and 0 failures\n"
          ]
        },
        {
          "output_type": "stream",
          "name": "stdout",
          "text": [
            "Saving round 11 aggregated_parameters...\n"
          ]
        },
        {
          "output_type": "stream",
          "name": "stderr",
          "text": [
            "INFO flwr 2024-01-19 15:43:58,744 | server.py:125 | fit progress: (11, 311.7494623661041, {'accuracy': 0.29069767441860467}, 1459.911855589)\n",
            "INFO:flwr:fit progress: (11, 311.7494623661041, {'accuracy': 0.29069767441860467}, 1459.911855589)\n",
            "DEBUG flwr 2024-01-19 15:43:58,747 | server.py:173 | evaluate_round 11: strategy sampled 10 clients (out of 33)\n",
            "DEBUG:flwr:evaluate_round 11: strategy sampled 10 clients (out of 33)\n"
          ]
        },
        {
          "output_type": "stream",
          "name": "stdout",
          "text": [
            "GLOBAL TEST\n"
          ]
        },
        {
          "output_type": "stream",
          "name": "stderr",
          "text": [
            "DEBUG flwr 2024-01-19 15:44:02,225 | server.py:187 | evaluate_round 11 received 10 results and 0 failures\n",
            "DEBUG:flwr:evaluate_round 11 received 10 results and 0 failures\n",
            "DEBUG flwr 2024-01-19 15:44:02,229 | server.py:222 | fit_round 12: strategy sampled 10 clients (out of 33)\n",
            "DEBUG:flwr:fit_round 12: strategy sampled 10 clients (out of 33)\n"
          ]
        },
        {
          "output_type": "stream",
          "name": "stdout",
          "text": [
            "\u001b[2m\u001b[36m(DefaultActor pid=1009)\u001b[0m ATTACKER\n",
            "\u001b[2m\u001b[36m(DefaultActor pid=1009)\u001b[0m output size:  256\n",
            "\u001b[2m\u001b[36m(DefaultActor pid=1009)\u001b[0m selected images size:  9\n",
            "\u001b[2m\u001b[36m(DefaultActor pid=1009)\u001b[0m output size:  256\n",
            "\u001b[2m\u001b[36m(DefaultActor pid=1009)\u001b[0m selected images size:  1\n"
          ]
        },
        {
          "output_type": "stream",
          "name": "stderr",
          "text": [
            "DEBUG flwr 2024-01-19 15:46:04,787 | server.py:236 | fit_round 12 received 10 results and 0 failures\n",
            "DEBUG:flwr:fit_round 12 received 10 results and 0 failures\n"
          ]
        },
        {
          "output_type": "stream",
          "name": "stdout",
          "text": [
            "Saving round 12 aggregated_parameters...\n"
          ]
        },
        {
          "output_type": "stream",
          "name": "stderr",
          "text": [
            "INFO flwr 2024-01-19 15:46:20,156 | server.py:125 | fit progress: (12, 311.75223088264465, {'accuracy': 0.29069767441860467}, 1601.323892727)\n",
            "INFO:flwr:fit progress: (12, 311.75223088264465, {'accuracy': 0.29069767441860467}, 1601.323892727)\n",
            "DEBUG flwr 2024-01-19 15:46:20,159 | server.py:173 | evaluate_round 12: strategy sampled 10 clients (out of 33)\n",
            "DEBUG:flwr:evaluate_round 12: strategy sampled 10 clients (out of 33)\n"
          ]
        },
        {
          "output_type": "stream",
          "name": "stdout",
          "text": [
            "GLOBAL TEST\n"
          ]
        },
        {
          "output_type": "stream",
          "name": "stderr",
          "text": [
            "DEBUG flwr 2024-01-19 15:46:23,595 | server.py:187 | evaluate_round 12 received 10 results and 0 failures\n",
            "DEBUG:flwr:evaluate_round 12 received 10 results and 0 failures\n",
            "DEBUG flwr 2024-01-19 15:46:23,598 | server.py:222 | fit_round 13: strategy sampled 10 clients (out of 33)\n",
            "DEBUG:flwr:fit_round 13: strategy sampled 10 clients (out of 33)\n",
            "DEBUG flwr 2024-01-19 15:47:41,148 | server.py:236 | fit_round 13 received 10 results and 0 failures\n",
            "DEBUG:flwr:fit_round 13 received 10 results and 0 failures\n"
          ]
        },
        {
          "output_type": "stream",
          "name": "stdout",
          "text": [
            "Saving round 13 aggregated_parameters...\n"
          ]
        },
        {
          "output_type": "stream",
          "name": "stderr",
          "text": [
            "INFO flwr 2024-01-19 15:47:56,647 | server.py:125 | fit progress: (13, 311.74682104587555, {'accuracy': 0.1937984496124031}, 1697.8149617630002)\n",
            "INFO:flwr:fit progress: (13, 311.74682104587555, {'accuracy': 0.1937984496124031}, 1697.8149617630002)\n",
            "DEBUG flwr 2024-01-19 15:47:56,650 | server.py:173 | evaluate_round 13: strategy sampled 10 clients (out of 33)\n",
            "DEBUG:flwr:evaluate_round 13: strategy sampled 10 clients (out of 33)\n"
          ]
        },
        {
          "output_type": "stream",
          "name": "stdout",
          "text": [
            "GLOBAL TEST\n"
          ]
        },
        {
          "output_type": "stream",
          "name": "stderr",
          "text": [
            "DEBUG flwr 2024-01-19 15:48:00,082 | server.py:187 | evaluate_round 13 received 10 results and 0 failures\n",
            "DEBUG:flwr:evaluate_round 13 received 10 results and 0 failures\n",
            "DEBUG flwr 2024-01-19 15:48:00,087 | server.py:222 | fit_round 14: strategy sampled 10 clients (out of 33)\n",
            "DEBUG:flwr:fit_round 14: strategy sampled 10 clients (out of 33)\n"
          ]
        },
        {
          "output_type": "stream",
          "name": "stdout",
          "text": [
            "\u001b[2m\u001b[36m(DefaultActor pid=1009)\u001b[0m ATTACKER\n",
            "\u001b[2m\u001b[36m(DefaultActor pid=1009)\u001b[0m output size:  256\n",
            "\u001b[2m\u001b[36m(DefaultActor pid=1009)\u001b[0m selected images size:  6\n",
            "\u001b[2m\u001b[36m(DefaultActor pid=1009)\u001b[0m output size:  256\n",
            "\u001b[2m\u001b[36m(DefaultActor pid=1009)\u001b[0m selected images size:  1\n",
            "\u001b[2m\u001b[36m(DefaultActor pid=1009)\u001b[0m ATTACKER\n",
            "\u001b[2m\u001b[36m(DefaultActor pid=1009)\u001b[0m output size:  256\n",
            "\u001b[2m\u001b[36m(DefaultActor pid=1009)\u001b[0m selected images size:  10\n",
            "\u001b[2m\u001b[36m(DefaultActor pid=1009)\u001b[0m output size:  256\n",
            "\u001b[2m\u001b[36m(DefaultActor pid=1009)\u001b[0m selected images size:  3\n",
            "\u001b[2m\u001b[36m(DefaultActor pid=1009)\u001b[0m output size:  256\n",
            "\u001b[2m\u001b[36m(DefaultActor pid=1009)\u001b[0m selected images size:  4\n",
            "\u001b[2m\u001b[36m(DefaultActor pid=1009)\u001b[0m output size:  256\n",
            "\u001b[2m\u001b[36m(DefaultActor pid=1009)\u001b[0m selected images size:  2\n",
            "\u001b[2m\u001b[36m(DefaultActor pid=1009)\u001b[0m output size:  256\n",
            "\u001b[2m\u001b[36m(DefaultActor pid=1009)\u001b[0m selected images size:  2\n",
            "\u001b[2m\u001b[36m(DefaultActor pid=1009)\u001b[0m output size:  256\n",
            "\u001b[2m\u001b[36m(DefaultActor pid=1009)\u001b[0m selected images size:  4\n",
            "\u001b[2m\u001b[36m(DefaultActor pid=1009)\u001b[0m output size:  101\n",
            "\u001b[2m\u001b[36m(DefaultActor pid=1009)\u001b[0m selected images size:  1\n",
            "\u001b[2m\u001b[36m(DefaultActor pid=1009)\u001b[0m output size:  256\n",
            "\u001b[2m\u001b[36m(DefaultActor pid=1009)\u001b[0m selected images size:  3\n",
            "\u001b[2m\u001b[36m(DefaultActor pid=1009)\u001b[0m output size:  256\n",
            "\u001b[2m\u001b[36m(DefaultActor pid=1009)\u001b[0m selected images size:  4\n",
            "\u001b[2m\u001b[36m(DefaultActor pid=1009)\u001b[0m output size:  256\n",
            "\u001b[2m\u001b[36m(DefaultActor pid=1009)\u001b[0m selected images size:  8\n",
            "\u001b[2m\u001b[36m(DefaultActor pid=1009)\u001b[0m output size:  256\n",
            "\u001b[2m\u001b[36m(DefaultActor pid=1009)\u001b[0m selected images size:  3\n",
            "\u001b[2m\u001b[36m(DefaultActor pid=1009)\u001b[0m output size:  256\n",
            "\u001b[2m\u001b[36m(DefaultActor pid=1009)\u001b[0m selected images size:  2\n",
            "\u001b[2m\u001b[36m(DefaultActor pid=1009)\u001b[0m output size:  256\n",
            "\u001b[2m\u001b[36m(DefaultActor pid=1009)\u001b[0m selected images size:  4\n",
            "\u001b[2m\u001b[36m(DefaultActor pid=1009)\u001b[0m output size:  101\n",
            "\u001b[2m\u001b[36m(DefaultActor pid=1009)\u001b[0m selected images size:  1\n",
            "\u001b[2m\u001b[36m(DefaultActor pid=1009)\u001b[0m output size:  256\n",
            "\u001b[2m\u001b[36m(DefaultActor pid=1009)\u001b[0m selected images size:  5\n",
            "\u001b[2m\u001b[36m(DefaultActor pid=1009)\u001b[0m output size:  256\n",
            "\u001b[2m\u001b[36m(DefaultActor pid=1009)\u001b[0m selected images size:  5\n",
            "\u001b[2m\u001b[36m(DefaultActor pid=1009)\u001b[0m output size:  256\n",
            "\u001b[2m\u001b[36m(DefaultActor pid=1009)\u001b[0m selected images size:  6\n",
            "\u001b[2m\u001b[36m(DefaultActor pid=1009)\u001b[0m output size:  256\n",
            "\u001b[2m\u001b[36m(DefaultActor pid=1009)\u001b[0m selected images size:  2\n",
            "\u001b[2m\u001b[36m(DefaultActor pid=1009)\u001b[0m output size:  256\n",
            "\u001b[2m\u001b[36m(DefaultActor pid=1009)\u001b[0m selected images size:  3\n",
            "\u001b[2m\u001b[36m(DefaultActor pid=1009)\u001b[0m output size:  256\n",
            "\u001b[2m\u001b[36m(DefaultActor pid=1009)\u001b[0m selected images size:  6\n",
            "\u001b[2m\u001b[36m(DefaultActor pid=1009)\u001b[0m output size:  101\n",
            "\u001b[2m\u001b[36m(DefaultActor pid=1009)\u001b[0m selected images size:  1\n",
            "\u001b[2m\u001b[36m(DefaultActor pid=1009)\u001b[0m output size:  256\n",
            "\u001b[2m\u001b[36m(DefaultActor pid=1009)\u001b[0m selected images size:  5\n",
            "\u001b[2m\u001b[36m(DefaultActor pid=1009)\u001b[0m output size:  256\n",
            "\u001b[2m\u001b[36m(DefaultActor pid=1009)\u001b[0m selected images size:  3\n",
            "\u001b[2m\u001b[36m(DefaultActor pid=1009)\u001b[0m output size:  256\n",
            "\u001b[2m\u001b[36m(DefaultActor pid=1009)\u001b[0m selected images size:  4\n",
            "\u001b[2m\u001b[36m(DefaultActor pid=1009)\u001b[0m output size:  256\n",
            "\u001b[2m\u001b[36m(DefaultActor pid=1009)\u001b[0m selected images size:  3\n",
            "\u001b[2m\u001b[36m(DefaultActor pid=1009)\u001b[0m output size:  256\n",
            "\u001b[2m\u001b[36m(DefaultActor pid=1009)\u001b[0m selected images size:  2\n",
            "\u001b[2m\u001b[36m(DefaultActor pid=1009)\u001b[0m output size:  256\n",
            "\u001b[2m\u001b[36m(DefaultActor pid=1009)\u001b[0m selected images size:  2\n",
            "\u001b[2m\u001b[36m(DefaultActor pid=1009)\u001b[0m output size:  256\n",
            "\u001b[2m\u001b[36m(DefaultActor pid=1009)\u001b[0m selected images size:  1\n",
            "\u001b[2m\u001b[36m(DefaultActor pid=1009)\u001b[0m output size:  256\n",
            "\u001b[2m\u001b[36m(DefaultActor pid=1009)\u001b[0m selected images size:  4\n",
            "\u001b[2m\u001b[36m(DefaultActor pid=1009)\u001b[0m output size:  256\n",
            "\u001b[2m\u001b[36m(DefaultActor pid=1009)\u001b[0m selected images size:  5\n",
            "\u001b[2m\u001b[36m(DefaultActor pid=1009)\u001b[0m output size:  256\n",
            "\u001b[2m\u001b[36m(DefaultActor pid=1009)\u001b[0m selected images size:  3\n",
            "\u001b[2m\u001b[36m(DefaultActor pid=1009)\u001b[0m output size:  101\n",
            "\u001b[2m\u001b[36m(DefaultActor pid=1009)\u001b[0m selected images size:  2\n",
            "\u001b[2m\u001b[36m(DefaultActor pid=1009)\u001b[0m output size:  256\n",
            "\u001b[2m\u001b[36m(DefaultActor pid=1009)\u001b[0m selected images size:  8\n",
            "\u001b[2m\u001b[36m(DefaultActor pid=1009)\u001b[0m output size:  256\n",
            "\u001b[2m\u001b[36m(DefaultActor pid=1009)\u001b[0m selected images size:  10\n",
            "\u001b[2m\u001b[36m(DefaultActor pid=1009)\u001b[0m output size:  256\n",
            "\u001b[2m\u001b[36m(DefaultActor pid=1009)\u001b[0m selected images size:  10\n",
            "\u001b[2m\u001b[36m(DefaultActor pid=1009)\u001b[0m output size:  256\n",
            "\u001b[2m\u001b[36m(DefaultActor pid=1009)\u001b[0m selected images size:  11\n",
            "\u001b[2m\u001b[36m(DefaultActor pid=1009)\u001b[0m output size:  256\n",
            "\u001b[2m\u001b[36m(DefaultActor pid=1009)\u001b[0m selected images size:  19\n",
            "\u001b[2m\u001b[36m(DefaultActor pid=1009)\u001b[0m output size:  256\n",
            "\u001b[2m\u001b[36m(DefaultActor pid=1009)\u001b[0m selected images size:  14\n",
            "\u001b[2m\u001b[36m(DefaultActor pid=1009)\u001b[0m output size:  101\n",
            "\u001b[2m\u001b[36m(DefaultActor pid=1009)\u001b[0m selected images size:  6\n",
            "\u001b[2m\u001b[36m(DefaultActor pid=1009)\u001b[0m output size:  256\n",
            "\u001b[2m\u001b[36m(DefaultActor pid=1009)\u001b[0m selected images size:  12\n",
            "\u001b[2m\u001b[36m(DefaultActor pid=1009)\u001b[0m output size:  256\n",
            "\u001b[2m\u001b[36m(DefaultActor pid=1009)\u001b[0m selected images size:  4\n",
            "\u001b[2m\u001b[36m(DefaultActor pid=1009)\u001b[0m output size:  256\n",
            "\u001b[2m\u001b[36m(DefaultActor pid=1009)\u001b[0m selected images size:  6\n",
            "\u001b[2m\u001b[36m(DefaultActor pid=1009)\u001b[0m output size:  256\n",
            "\u001b[2m\u001b[36m(DefaultActor pid=1009)\u001b[0m selected images size:  10\n",
            "\u001b[2m\u001b[36m(DefaultActor pid=1009)\u001b[0m output size:  256\n",
            "\u001b[2m\u001b[36m(DefaultActor pid=1009)\u001b[0m selected images size:  12\n",
            "\u001b[2m\u001b[36m(DefaultActor pid=1009)\u001b[0m output size:  256\n",
            "\u001b[2m\u001b[36m(DefaultActor pid=1009)\u001b[0m selected images size:  14\n",
            "\u001b[2m\u001b[36m(DefaultActor pid=1009)\u001b[0m output size:  101\n",
            "\u001b[2m\u001b[36m(DefaultActor pid=1009)\u001b[0m selected images size:  6\n",
            "\u001b[2m\u001b[36m(DefaultActor pid=1009)\u001b[0m output size:  256\n",
            "\u001b[2m\u001b[36m(DefaultActor pid=1009)\u001b[0m selected images size:  12\n",
            "\u001b[2m\u001b[36m(DefaultActor pid=1009)\u001b[0m output size:  256\n",
            "\u001b[2m\u001b[36m(DefaultActor pid=1009)\u001b[0m selected images size:  12\n",
            "\u001b[2m\u001b[36m(DefaultActor pid=1009)\u001b[0m output size:  256\n",
            "\u001b[2m\u001b[36m(DefaultActor pid=1009)\u001b[0m selected images size:  10\n",
            "\u001b[2m\u001b[36m(DefaultActor pid=1009)\u001b[0m output size:  256\n",
            "\u001b[2m\u001b[36m(DefaultActor pid=1009)\u001b[0m selected images size:  4\n",
            "\u001b[2m\u001b[36m(DefaultActor pid=1009)\u001b[0m output size:  256\n",
            "\u001b[2m\u001b[36m(DefaultActor pid=1009)\u001b[0m selected images size:  5\n",
            "\u001b[2m\u001b[36m(DefaultActor pid=1009)\u001b[0m output size:  101\n",
            "\u001b[2m\u001b[36m(DefaultActor pid=1009)\u001b[0m selected images size:  2\n",
            "\u001b[2m\u001b[36m(DefaultActor pid=1009)\u001b[0m output size:  256\n",
            "\u001b[2m\u001b[36m(DefaultActor pid=1009)\u001b[0m selected images size:  4\n",
            "\u001b[2m\u001b[36m(DefaultActor pid=1009)\u001b[0m output size:  256\n",
            "\u001b[2m\u001b[36m(DefaultActor pid=1009)\u001b[0m selected images size:  1\n",
            "\u001b[2m\u001b[36m(DefaultActor pid=1009)\u001b[0m output size:  256\n",
            "\u001b[2m\u001b[36m(DefaultActor pid=1009)\u001b[0m selected images size:  1\n",
            "\u001b[2m\u001b[36m(DefaultActor pid=1009)\u001b[0m output size:  256\n",
            "\u001b[2m\u001b[36m(DefaultActor pid=1009)\u001b[0m selected images size:  1\n",
            "\u001b[2m\u001b[36m(DefaultActor pid=1009)\u001b[0m output size:  101\n",
            "\u001b[2m\u001b[36m(DefaultActor pid=1009)\u001b[0m selected images size:  1\n",
            "\u001b[2m\u001b[36m(DefaultActor pid=1009)\u001b[0m output size:  256\n",
            "\u001b[2m\u001b[36m(DefaultActor pid=1009)\u001b[0m selected images size:  2\n",
            "\u001b[2m\u001b[36m(DefaultActor pid=1009)\u001b[0m output size:  256\n",
            "\u001b[2m\u001b[36m(DefaultActor pid=1009)\u001b[0m selected images size:  1\n",
            "\u001b[2m\u001b[36m(DefaultActor pid=1009)\u001b[0m output size:  256\n",
            "\u001b[2m\u001b[36m(DefaultActor pid=1009)\u001b[0m selected images size:  2\n",
            "\u001b[2m\u001b[36m(DefaultActor pid=1009)\u001b[0m output size:  256\n",
            "\u001b[2m\u001b[36m(DefaultActor pid=1009)\u001b[0m selected images size:  7\n",
            "\u001b[2m\u001b[36m(DefaultActor pid=1009)\u001b[0m output size:  256\n",
            "\u001b[2m\u001b[36m(DefaultActor pid=1009)\u001b[0m selected images size:  8\n",
            "\u001b[2m\u001b[36m(DefaultActor pid=1009)\u001b[0m output size:  101\n",
            "\u001b[2m\u001b[36m(DefaultActor pid=1009)\u001b[0m selected images size:  1\n"
          ]
        },
        {
          "output_type": "stream",
          "name": "stderr",
          "text": [
            "DEBUG flwr 2024-01-19 15:50:52,360 | server.py:236 | fit_round 14 received 10 results and 0 failures\n",
            "DEBUG:flwr:fit_round 14 received 10 results and 0 failures\n"
          ]
        },
        {
          "output_type": "stream",
          "name": "stdout",
          "text": [
            "Saving round 14 aggregated_parameters...\n"
          ]
        },
        {
          "output_type": "stream",
          "name": "stderr",
          "text": [
            "INFO flwr 2024-01-19 15:51:08,621 | server.py:125 | fit progress: (14, 311.86089754104614, {'accuracy': 0.5813953488372093}, 1889.7892260049998)\n",
            "INFO:flwr:fit progress: (14, 311.86089754104614, {'accuracy': 0.5813953488372093}, 1889.7892260049998)\n",
            "DEBUG flwr 2024-01-19 15:51:08,624 | server.py:173 | evaluate_round 14: strategy sampled 10 clients (out of 33)\n",
            "DEBUG:flwr:evaluate_round 14: strategy sampled 10 clients (out of 33)\n"
          ]
        },
        {
          "output_type": "stream",
          "name": "stdout",
          "text": [
            "GLOBAL TEST\n"
          ]
        },
        {
          "output_type": "stream",
          "name": "stderr",
          "text": [
            "DEBUG flwr 2024-01-19 15:51:12,133 | server.py:187 | evaluate_round 14 received 10 results and 0 failures\n",
            "DEBUG:flwr:evaluate_round 14 received 10 results and 0 failures\n",
            "DEBUG flwr 2024-01-19 15:51:12,136 | server.py:222 | fit_round 15: strategy sampled 10 clients (out of 33)\n",
            "DEBUG:flwr:fit_round 15: strategy sampled 10 clients (out of 33)\n"
          ]
        },
        {
          "output_type": "stream",
          "name": "stdout",
          "text": [
            "\u001b[2m\u001b[36m(DefaultActor pid=1009)\u001b[0m ATTACKER\n",
            "\u001b[2m\u001b[36m(DefaultActor pid=1009)\u001b[0m output size:  256\n",
            "\u001b[2m\u001b[36m(DefaultActor pid=1009)\u001b[0m selected images size:  1\n",
            "\u001b[2m\u001b[36m(DefaultActor pid=1009)\u001b[0m output size:  256\n",
            "\u001b[2m\u001b[36m(DefaultActor pid=1009)\u001b[0m selected images size:  2\n",
            "\u001b[2m\u001b[36m(DefaultActor pid=1009)\u001b[0m output size:  256\n",
            "\u001b[2m\u001b[36m(DefaultActor pid=1009)\u001b[0m selected images size:  1\n",
            "\u001b[2m\u001b[36m(DefaultActor pid=1009)\u001b[0m output size:  256\n",
            "\u001b[2m\u001b[36m(DefaultActor pid=1009)\u001b[0m selected images size:  1\n",
            "\u001b[2m\u001b[36m(DefaultActor pid=1009)\u001b[0m output size:  256\n",
            "\u001b[2m\u001b[36m(DefaultActor pid=1009)\u001b[0m selected images size:  1\n",
            "\u001b[2m\u001b[36m(DefaultActor pid=1009)\u001b[0m output size:  256\n",
            "\u001b[2m\u001b[36m(DefaultActor pid=1009)\u001b[0m selected images size:  3\n",
            "\u001b[2m\u001b[36m(DefaultActor pid=1009)\u001b[0m output size:  101\n",
            "\u001b[2m\u001b[36m(DefaultActor pid=1009)\u001b[0m selected images size:  1\n",
            "\u001b[2m\u001b[36m(DefaultActor pid=1009)\u001b[0m output size:  256\n",
            "\u001b[2m\u001b[36m(DefaultActor pid=1009)\u001b[0m selected images size:  2\n",
            "\u001b[2m\u001b[36m(DefaultActor pid=1009)\u001b[0m output size:  101\n",
            "\u001b[2m\u001b[36m(DefaultActor pid=1009)\u001b[0m selected images size:  2\n",
            "\u001b[2m\u001b[36m(DefaultActor pid=1009)\u001b[0m output size:  256\n",
            "\u001b[2m\u001b[36m(DefaultActor pid=1009)\u001b[0m selected images size:  2\n",
            "\u001b[2m\u001b[36m(DefaultActor pid=1009)\u001b[0m output size:  256\n",
            "\u001b[2m\u001b[36m(DefaultActor pid=1009)\u001b[0m selected images size:  2\n",
            "\u001b[2m\u001b[36m(DefaultActor pid=1009)\u001b[0m output size:  256\n",
            "\u001b[2m\u001b[36m(DefaultActor pid=1009)\u001b[0m selected images size:  3\n",
            "\u001b[2m\u001b[36m(DefaultActor pid=1009)\u001b[0m output size:  256\n",
            "\u001b[2m\u001b[36m(DefaultActor pid=1009)\u001b[0m selected images size:  2\n",
            "\u001b[2m\u001b[36m(DefaultActor pid=1009)\u001b[0m output size:  256\n",
            "\u001b[2m\u001b[36m(DefaultActor pid=1009)\u001b[0m selected images size:  9\n",
            "\u001b[2m\u001b[36m(DefaultActor pid=1009)\u001b[0m output size:  256\n",
            "\u001b[2m\u001b[36m(DefaultActor pid=1009)\u001b[0m selected images size:  16\n",
            "\u001b[2m\u001b[36m(DefaultActor pid=1009)\u001b[0m output size:  101\n",
            "\u001b[2m\u001b[36m(DefaultActor pid=1009)\u001b[0m selected images size:  3\n",
            "\u001b[2m\u001b[36m(DefaultActor pid=1009)\u001b[0m output size:  256\n",
            "\u001b[2m\u001b[36m(DefaultActor pid=1009)\u001b[0m selected images size:  14\n",
            "\u001b[2m\u001b[36m(DefaultActor pid=1009)\u001b[0m output size:  256\n",
            "\u001b[2m\u001b[36m(DefaultActor pid=1009)\u001b[0m selected images size:  15\n",
            "\u001b[2m\u001b[36m(DefaultActor pid=1009)\u001b[0m output size:  256\n",
            "\u001b[2m\u001b[36m(DefaultActor pid=1009)\u001b[0m selected images size:  17\n",
            "\u001b[2m\u001b[36m(DefaultActor pid=1009)\u001b[0m output size:  256\n",
            "\u001b[2m\u001b[36m(DefaultActor pid=1009)\u001b[0m selected images size:  16\n",
            "\u001b[2m\u001b[36m(DefaultActor pid=1009)\u001b[0m output size:  256\n",
            "\u001b[2m\u001b[36m(DefaultActor pid=1009)\u001b[0m selected images size:  20\n",
            "\u001b[2m\u001b[36m(DefaultActor pid=1009)\u001b[0m output size:  256\n",
            "\u001b[2m\u001b[36m(DefaultActor pid=1009)\u001b[0m selected images size:  17\n",
            "\u001b[2m\u001b[36m(DefaultActor pid=1009)\u001b[0m output size:  101\n",
            "\u001b[2m\u001b[36m(DefaultActor pid=1009)\u001b[0m selected images size:  5\n",
            "\u001b[2m\u001b[36m(DefaultActor pid=1009)\u001b[0m output size:  256\n",
            "\u001b[2m\u001b[36m(DefaultActor pid=1009)\u001b[0m selected images size:  25\n",
            "\u001b[2m\u001b[36m(DefaultActor pid=1009)\u001b[0m output size:  256\n",
            "\u001b[2m\u001b[36m(DefaultActor pid=1009)\u001b[0m selected images size:  16\n",
            "\u001b[2m\u001b[36m(DefaultActor pid=1009)\u001b[0m output size:  256\n",
            "\u001b[2m\u001b[36m(DefaultActor pid=1009)\u001b[0m selected images size:  18\n",
            "\u001b[2m\u001b[36m(DefaultActor pid=1009)\u001b[0m output size:  256\n",
            "\u001b[2m\u001b[36m(DefaultActor pid=1009)\u001b[0m selected images size:  17\n",
            "\u001b[2m\u001b[36m(DefaultActor pid=1009)\u001b[0m output size:  256\n",
            "\u001b[2m\u001b[36m(DefaultActor pid=1009)\u001b[0m selected images size:  13\n",
            "\u001b[2m\u001b[36m(DefaultActor pid=1009)\u001b[0m output size:  256\n",
            "\u001b[2m\u001b[36m(DefaultActor pid=1009)\u001b[0m selected images size:  21\n",
            "\u001b[2m\u001b[36m(DefaultActor pid=1009)\u001b[0m output size:  101\n",
            "\u001b[2m\u001b[36m(DefaultActor pid=1009)\u001b[0m selected images size:  8\n",
            "\u001b[2m\u001b[36m(DefaultActor pid=1009)\u001b[0m output size:  256\n",
            "\u001b[2m\u001b[36m(DefaultActor pid=1009)\u001b[0m selected images size:  15\n",
            "\u001b[2m\u001b[36m(DefaultActor pid=1009)\u001b[0m output size:  256\n",
            "\u001b[2m\u001b[36m(DefaultActor pid=1009)\u001b[0m selected images size:  20\n",
            "\u001b[2m\u001b[36m(DefaultActor pid=1009)\u001b[0m output size:  256\n",
            "\u001b[2m\u001b[36m(DefaultActor pid=1009)\u001b[0m selected images size:  10\n",
            "\u001b[2m\u001b[36m(DefaultActor pid=1009)\u001b[0m output size:  256\n",
            "\u001b[2m\u001b[36m(DefaultActor pid=1009)\u001b[0m selected images size:  19\n",
            "\u001b[2m\u001b[36m(DefaultActor pid=1009)\u001b[0m output size:  256\n",
            "\u001b[2m\u001b[36m(DefaultActor pid=1009)\u001b[0m selected images size:  11\n",
            "\u001b[2m\u001b[36m(DefaultActor pid=1009)\u001b[0m output size:  256\n",
            "\u001b[2m\u001b[36m(DefaultActor pid=1009)\u001b[0m selected images size:  15\n",
            "\u001b[2m\u001b[36m(DefaultActor pid=1009)\u001b[0m output size:  101\n",
            "\u001b[2m\u001b[36m(DefaultActor pid=1009)\u001b[0m selected images size:  4\n",
            "\u001b[2m\u001b[36m(DefaultActor pid=1009)\u001b[0m output size:  256\n",
            "\u001b[2m\u001b[36m(DefaultActor pid=1009)\u001b[0m selected images size:  12\n",
            "\u001b[2m\u001b[36m(DefaultActor pid=1009)\u001b[0m output size:  256\n",
            "\u001b[2m\u001b[36m(DefaultActor pid=1009)\u001b[0m selected images size:  11\n",
            "\u001b[2m\u001b[36m(DefaultActor pid=1009)\u001b[0m output size:  256\n",
            "\u001b[2m\u001b[36m(DefaultActor pid=1009)\u001b[0m selected images size:  9\n",
            "\u001b[2m\u001b[36m(DefaultActor pid=1009)\u001b[0m output size:  256\n",
            "\u001b[2m\u001b[36m(DefaultActor pid=1009)\u001b[0m selected images size:  14\n",
            "\u001b[2m\u001b[36m(DefaultActor pid=1009)\u001b[0m output size:  256\n",
            "\u001b[2m\u001b[36m(DefaultActor pid=1009)\u001b[0m selected images size:  6\n",
            "\u001b[2m\u001b[36m(DefaultActor pid=1009)\u001b[0m output size:  256\n",
            "\u001b[2m\u001b[36m(DefaultActor pid=1009)\u001b[0m selected images size:  8\n",
            "\u001b[2m\u001b[36m(DefaultActor pid=1009)\u001b[0m output size:  101\n",
            "\u001b[2m\u001b[36m(DefaultActor pid=1009)\u001b[0m selected images size:  3\n",
            "\u001b[2m\u001b[36m(DefaultActor pid=1009)\u001b[0m output size:  256\n",
            "\u001b[2m\u001b[36m(DefaultActor pid=1009)\u001b[0m selected images size:  2\n",
            "\u001b[2m\u001b[36m(DefaultActor pid=1009)\u001b[0m output size:  256\n",
            "\u001b[2m\u001b[36m(DefaultActor pid=1009)\u001b[0m selected images size:  4\n",
            "\u001b[2m\u001b[36m(DefaultActor pid=1009)\u001b[0m output size:  256\n",
            "\u001b[2m\u001b[36m(DefaultActor pid=1009)\u001b[0m selected images size:  5\n",
            "\u001b[2m\u001b[36m(DefaultActor pid=1009)\u001b[0m output size:  256\n",
            "\u001b[2m\u001b[36m(DefaultActor pid=1009)\u001b[0m selected images size:  2\n",
            "\u001b[2m\u001b[36m(DefaultActor pid=1009)\u001b[0m output size:  256\n",
            "\u001b[2m\u001b[36m(DefaultActor pid=1009)\u001b[0m selected images size:  2\n",
            "\u001b[2m\u001b[36m(DefaultActor pid=1009)\u001b[0m output size:  256\n",
            "\u001b[2m\u001b[36m(DefaultActor pid=1009)\u001b[0m selected images size:  4\n",
            "\u001b[2m\u001b[36m(DefaultActor pid=1009)\u001b[0m output size:  101\n",
            "\u001b[2m\u001b[36m(DefaultActor pid=1009)\u001b[0m selected images size:  1\n"
          ]
        },
        {
          "output_type": "stream",
          "name": "stderr",
          "text": [
            "DEBUG flwr 2024-01-19 15:53:15,833 | server.py:236 | fit_round 15 received 10 results and 0 failures\n",
            "DEBUG:flwr:fit_round 15 received 10 results and 0 failures\n"
          ]
        },
        {
          "output_type": "stream",
          "name": "stdout",
          "text": [
            "Saving round 15 aggregated_parameters...\n"
          ]
        },
        {
          "output_type": "stream",
          "name": "stderr",
          "text": [
            "INFO flwr 2024-01-19 15:53:31,425 | server.py:125 | fit progress: (15, 311.7520977258682, {'accuracy': 0.29069767441860467}, 2032.5933926029998)\n",
            "INFO:flwr:fit progress: (15, 311.7520977258682, {'accuracy': 0.29069767441860467}, 2032.5933926029998)\n",
            "DEBUG flwr 2024-01-19 15:53:31,429 | server.py:173 | evaluate_round 15: strategy sampled 10 clients (out of 33)\n",
            "DEBUG:flwr:evaluate_round 15: strategy sampled 10 clients (out of 33)\n"
          ]
        },
        {
          "output_type": "stream",
          "name": "stdout",
          "text": [
            "GLOBAL TEST\n"
          ]
        },
        {
          "output_type": "stream",
          "name": "stderr",
          "text": [
            "DEBUG flwr 2024-01-19 15:53:34,836 | server.py:187 | evaluate_round 15 received 10 results and 0 failures\n",
            "DEBUG:flwr:evaluate_round 15 received 10 results and 0 failures\n",
            "DEBUG flwr 2024-01-19 15:53:34,840 | server.py:222 | fit_round 16: strategy sampled 10 clients (out of 33)\n",
            "DEBUG:flwr:fit_round 16: strategy sampled 10 clients (out of 33)\n",
            "DEBUG flwr 2024-01-19 15:54:50,057 | server.py:236 | fit_round 16 received 10 results and 0 failures\n",
            "DEBUG:flwr:fit_round 16 received 10 results and 0 failures\n"
          ]
        },
        {
          "output_type": "stream",
          "name": "stdout",
          "text": [
            "Saving round 16 aggregated_parameters...\n"
          ]
        },
        {
          "output_type": "stream",
          "name": "stderr",
          "text": [
            "INFO flwr 2024-01-19 15:55:06,338 | server.py:125 | fit progress: (16, 311.70928740501404, {'accuracy': 0.1937984496124031}, 2127.505740692)\n",
            "INFO:flwr:fit progress: (16, 311.70928740501404, {'accuracy': 0.1937984496124031}, 2127.505740692)\n",
            "DEBUG flwr 2024-01-19 15:55:06,346 | server.py:173 | evaluate_round 16: strategy sampled 10 clients (out of 33)\n",
            "DEBUG:flwr:evaluate_round 16: strategy sampled 10 clients (out of 33)\n"
          ]
        },
        {
          "output_type": "stream",
          "name": "stdout",
          "text": [
            "GLOBAL TEST\n"
          ]
        },
        {
          "output_type": "stream",
          "name": "stderr",
          "text": [
            "DEBUG flwr 2024-01-19 15:55:10,190 | server.py:187 | evaluate_round 16 received 10 results and 0 failures\n",
            "DEBUG:flwr:evaluate_round 16 received 10 results and 0 failures\n",
            "DEBUG flwr 2024-01-19 15:55:10,194 | server.py:222 | fit_round 17: strategy sampled 10 clients (out of 33)\n",
            "DEBUG:flwr:fit_round 17: strategy sampled 10 clients (out of 33)\n"
          ]
        },
        {
          "output_type": "stream",
          "name": "stdout",
          "text": [
            "\u001b[2m\u001b[36m(DefaultActor pid=1009)\u001b[0m ATTACKER\n"
          ]
        },
        {
          "output_type": "stream",
          "name": "stderr",
          "text": [
            "DEBUG flwr 2024-01-19 15:57:11,292 | server.py:236 | fit_round 17 received 10 results and 0 failures\n",
            "DEBUG:flwr:fit_round 17 received 10 results and 0 failures\n"
          ]
        },
        {
          "output_type": "stream",
          "name": "stdout",
          "text": [
            "Saving round 17 aggregated_parameters...\n"
          ]
        },
        {
          "output_type": "stream",
          "name": "stderr",
          "text": [
            "INFO flwr 2024-01-19 15:57:27,156 | server.py:125 | fit progress: (17, 311.7011741399765, {'accuracy': 0.1937984496124031}, 2268.324246433)\n",
            "INFO:flwr:fit progress: (17, 311.7011741399765, {'accuracy': 0.1937984496124031}, 2268.324246433)\n",
            "DEBUG flwr 2024-01-19 15:57:27,160 | server.py:173 | evaluate_round 17: strategy sampled 10 clients (out of 33)\n",
            "DEBUG:flwr:evaluate_round 17: strategy sampled 10 clients (out of 33)\n"
          ]
        },
        {
          "output_type": "stream",
          "name": "stdout",
          "text": [
            "GLOBAL TEST\n"
          ]
        },
        {
          "output_type": "stream",
          "name": "stderr",
          "text": [
            "DEBUG flwr 2024-01-19 15:57:30,717 | server.py:187 | evaluate_round 17 received 10 results and 0 failures\n",
            "DEBUG:flwr:evaluate_round 17 received 10 results and 0 failures\n",
            "DEBUG flwr 2024-01-19 15:57:30,721 | server.py:222 | fit_round 18: strategy sampled 10 clients (out of 33)\n",
            "DEBUG:flwr:fit_round 18: strategy sampled 10 clients (out of 33)\n",
            "DEBUG flwr 2024-01-19 15:58:45,771 | server.py:236 | fit_round 18 received 10 results and 0 failures\n",
            "DEBUG:flwr:fit_round 18 received 10 results and 0 failures\n"
          ]
        },
        {
          "output_type": "stream",
          "name": "stdout",
          "text": [
            "Saving round 18 aggregated_parameters...\n"
          ]
        },
        {
          "output_type": "stream",
          "name": "stderr",
          "text": [
            "INFO flwr 2024-01-19 15:59:01,157 | server.py:125 | fit progress: (18, 311.70064556598663, {'accuracy': 0.1937984496124031}, 2362.325224404)\n",
            "INFO:flwr:fit progress: (18, 311.70064556598663, {'accuracy': 0.1937984496124031}, 2362.325224404)\n",
            "DEBUG flwr 2024-01-19 15:59:01,162 | server.py:173 | evaluate_round 18: strategy sampled 10 clients (out of 33)\n",
            "DEBUG:flwr:evaluate_round 18: strategy sampled 10 clients (out of 33)\n"
          ]
        },
        {
          "output_type": "stream",
          "name": "stdout",
          "text": [
            "GLOBAL TEST\n"
          ]
        },
        {
          "output_type": "stream",
          "name": "stderr",
          "text": [
            "DEBUG flwr 2024-01-19 15:59:05,738 | server.py:187 | evaluate_round 18 received 10 results and 0 failures\n",
            "DEBUG:flwr:evaluate_round 18 received 10 results and 0 failures\n",
            "DEBUG flwr 2024-01-19 15:59:05,741 | server.py:222 | fit_round 19: strategy sampled 10 clients (out of 33)\n",
            "DEBUG:flwr:fit_round 19: strategy sampled 10 clients (out of 33)\n"
          ]
        },
        {
          "output_type": "stream",
          "name": "stdout",
          "text": [
            "\u001b[2m\u001b[36m(DefaultActor pid=1009)\u001b[0m ATTACKER\n",
            "\u001b[2m\u001b[36m(DefaultActor pid=1009)\u001b[0m output size:  101\n",
            "\u001b[2m\u001b[36m(DefaultActor pid=1009)\u001b[0m selected images size:  2\n",
            "\u001b[2m\u001b[36m(DefaultActor pid=1009)\u001b[0m output size:  256\n",
            "\u001b[2m\u001b[36m(DefaultActor pid=1009)\u001b[0m selected images size:  5\n",
            "\u001b[2m\u001b[36m(DefaultActor pid=1009)\u001b[0m output size:  256\n",
            "\u001b[2m\u001b[36m(DefaultActor pid=1009)\u001b[0m selected images size:  9\n",
            "\u001b[2m\u001b[36m(DefaultActor pid=1009)\u001b[0m output size:  256\n",
            "\u001b[2m\u001b[36m(DefaultActor pid=1009)\u001b[0m selected images size:  9\n",
            "\u001b[2m\u001b[36m(DefaultActor pid=1009)\u001b[0m output size:  256\n",
            "\u001b[2m\u001b[36m(DefaultActor pid=1009)\u001b[0m selected images size:  16\n",
            "\u001b[2m\u001b[36m(DefaultActor pid=1009)\u001b[0m output size:  256\n",
            "\u001b[2m\u001b[36m(DefaultActor pid=1009)\u001b[0m selected images size:  28\n",
            "\u001b[2m\u001b[36m(DefaultActor pid=1009)\u001b[0m output size:  256\n",
            "\u001b[2m\u001b[36m(DefaultActor pid=1009)\u001b[0m selected images size:  41\n",
            "\u001b[2m\u001b[36m(DefaultActor pid=1009)\u001b[0m output size:  101\n",
            "\u001b[2m\u001b[36m(DefaultActor pid=1009)\u001b[0m selected images size:  19\n",
            "\u001b[2m\u001b[36m(DefaultActor pid=1009)\u001b[0m output size:  256\n",
            "\u001b[2m\u001b[36m(DefaultActor pid=1009)\u001b[0m selected images size:  76\n",
            "\u001b[2m\u001b[36m(DefaultActor pid=1009)\u001b[0m output size:  256\n",
            "\u001b[2m\u001b[36m(DefaultActor pid=1009)\u001b[0m selected images size:  84\n",
            "\u001b[2m\u001b[36m(DefaultActor pid=1009)\u001b[0m output size:  256\n",
            "\u001b[2m\u001b[36m(DefaultActor pid=1009)\u001b[0m selected images size:  116\n",
            "\u001b[2m\u001b[36m(DefaultActor pid=1009)\u001b[0m output size:  256\n",
            "\u001b[2m\u001b[36m(DefaultActor pid=1009)\u001b[0m selected images size:  128\n",
            "\u001b[2m\u001b[36m(DefaultActor pid=1009)\u001b[0m output size:  256\n",
            "\u001b[2m\u001b[36m(DefaultActor pid=1009)\u001b[0m selected images size:  167\n",
            "\u001b[2m\u001b[36m(DefaultActor pid=1009)\u001b[0m output size:  256\n",
            "\u001b[2m\u001b[36m(DefaultActor pid=1009)\u001b[0m selected images size:  158\n",
            "\u001b[2m\u001b[36m(DefaultActor pid=1009)\u001b[0m output size:  101\n",
            "\u001b[2m\u001b[36m(DefaultActor pid=1009)\u001b[0m selected images size:  74\n",
            "\u001b[2m\u001b[36m(DefaultActor pid=1009)\u001b[0m output size:  256\n",
            "\u001b[2m\u001b[36m(DefaultActor pid=1009)\u001b[0m selected images size:  186\n",
            "\u001b[2m\u001b[36m(DefaultActor pid=1009)\u001b[0m output size:  256\n",
            "\u001b[2m\u001b[36m(DefaultActor pid=1009)\u001b[0m selected images size:  189\n",
            "\u001b[2m\u001b[36m(DefaultActor pid=1009)\u001b[0m output size:  256\n",
            "\u001b[2m\u001b[36m(DefaultActor pid=1009)\u001b[0m selected images size:  184\n",
            "\u001b[2m\u001b[36m(DefaultActor pid=1009)\u001b[0m output size:  256\n",
            "\u001b[2m\u001b[36m(DefaultActor pid=1009)\u001b[0m selected images size:  190\n",
            "\u001b[2m\u001b[36m(DefaultActor pid=1009)\u001b[0m output size:  256\n",
            "\u001b[2m\u001b[36m(DefaultActor pid=1009)\u001b[0m selected images size:  185\n",
            "\u001b[2m\u001b[36m(DefaultActor pid=1009)\u001b[0m output size:  256\n",
            "\u001b[2m\u001b[36m(DefaultActor pid=1009)\u001b[0m selected images size:  206\n",
            "\u001b[2m\u001b[36m(DefaultActor pid=1009)\u001b[0m output size:  101\n",
            "\u001b[2m\u001b[36m(DefaultActor pid=1009)\u001b[0m selected images size:  82\n",
            "\u001b[2m\u001b[36m(DefaultActor pid=1009)\u001b[0m output size:  256\n",
            "\u001b[2m\u001b[36m(DefaultActor pid=1009)\u001b[0m selected images size:  204\n",
            "\u001b[2m\u001b[36m(DefaultActor pid=1009)\u001b[0m output size:  256\n",
            "\u001b[2m\u001b[36m(DefaultActor pid=1009)\u001b[0m selected images size:  211\n",
            "\u001b[2m\u001b[36m(DefaultActor pid=1009)\u001b[0m output size:  256\n",
            "\u001b[2m\u001b[36m(DefaultActor pid=1009)\u001b[0m selected images size:  200\n",
            "\u001b[2m\u001b[36m(DefaultActor pid=1009)\u001b[0m output size:  256\n",
            "\u001b[2m\u001b[36m(DefaultActor pid=1009)\u001b[0m selected images size:  203\n",
            "\u001b[2m\u001b[36m(DefaultActor pid=1009)\u001b[0m output size:  256\n",
            "\u001b[2m\u001b[36m(DefaultActor pid=1009)\u001b[0m selected images size:  189\n",
            "\u001b[2m\u001b[36m(DefaultActor pid=1009)\u001b[0m output size:  256\n",
            "\u001b[2m\u001b[36m(DefaultActor pid=1009)\u001b[0m selected images size:  194\n",
            "\u001b[2m\u001b[36m(DefaultActor pid=1009)\u001b[0m output size:  101\n",
            "\u001b[2m\u001b[36m(DefaultActor pid=1009)\u001b[0m selected images size:  69\n",
            "\u001b[2m\u001b[36m(DefaultActor pid=1009)\u001b[0m output size:  256\n",
            "\u001b[2m\u001b[36m(DefaultActor pid=1009)\u001b[0m selected images size:  151\n",
            "\u001b[2m\u001b[36m(DefaultActor pid=1009)\u001b[0m output size:  256\n",
            "\u001b[2m\u001b[36m(DefaultActor pid=1009)\u001b[0m selected images size:  164\n",
            "\u001b[2m\u001b[36m(DefaultActor pid=1009)\u001b[0m output size:  256\n",
            "\u001b[2m\u001b[36m(DefaultActor pid=1009)\u001b[0m selected images size:  169\n",
            "\u001b[2m\u001b[36m(DefaultActor pid=1009)\u001b[0m output size:  256\n",
            "\u001b[2m\u001b[36m(DefaultActor pid=1009)\u001b[0m selected images size:  170\n",
            "\u001b[2m\u001b[36m(DefaultActor pid=1009)\u001b[0m output size:  256\n",
            "\u001b[2m\u001b[36m(DefaultActor pid=1009)\u001b[0m selected images size:  183\n",
            "\u001b[2m\u001b[36m(DefaultActor pid=1009)\u001b[0m output size:  256\n",
            "\u001b[2m\u001b[36m(DefaultActor pid=1009)\u001b[0m selected images size:  195\n",
            "\u001b[2m\u001b[36m(DefaultActor pid=1009)\u001b[0m output size:  101\n",
            "\u001b[2m\u001b[36m(DefaultActor pid=1009)\u001b[0m selected images size:  71\n",
            "\u001b[2m\u001b[36m(DefaultActor pid=1009)\u001b[0m output size:  256\n",
            "\u001b[2m\u001b[36m(DefaultActor pid=1009)\u001b[0m selected images size:  184\n",
            "\u001b[2m\u001b[36m(DefaultActor pid=1009)\u001b[0m output size:  256\n",
            "\u001b[2m\u001b[36m(DefaultActor pid=1009)\u001b[0m selected images size:  175\n",
            "\u001b[2m\u001b[36m(DefaultActor pid=1009)\u001b[0m output size:  256\n",
            "\u001b[2m\u001b[36m(DefaultActor pid=1009)\u001b[0m selected images size:  168\n",
            "\u001b[2m\u001b[36m(DefaultActor pid=1009)\u001b[0m output size:  256\n",
            "\u001b[2m\u001b[36m(DefaultActor pid=1009)\u001b[0m selected images size:  176\n",
            "\u001b[2m\u001b[36m(DefaultActor pid=1009)\u001b[0m output size:  256\n",
            "\u001b[2m\u001b[36m(DefaultActor pid=1009)\u001b[0m selected images size:  144\n",
            "\u001b[2m\u001b[36m(DefaultActor pid=1009)\u001b[0m output size:  256\n",
            "\u001b[2m\u001b[36m(DefaultActor pid=1009)\u001b[0m selected images size:  155\n",
            "\u001b[2m\u001b[36m(DefaultActor pid=1009)\u001b[0m output size:  101\n",
            "\u001b[2m\u001b[36m(DefaultActor pid=1009)\u001b[0m selected images size:  62\n",
            "\u001b[2m\u001b[36m(DefaultActor pid=1009)\u001b[0m output size:  256\n",
            "\u001b[2m\u001b[36m(DefaultActor pid=1009)\u001b[0m selected images size:  149\n",
            "\u001b[2m\u001b[36m(DefaultActor pid=1009)\u001b[0m output size:  256\n",
            "\u001b[2m\u001b[36m(DefaultActor pid=1009)\u001b[0m selected images size:  139\n",
            "\u001b[2m\u001b[36m(DefaultActor pid=1009)\u001b[0m output size:  256\n",
            "\u001b[2m\u001b[36m(DefaultActor pid=1009)\u001b[0m selected images size:  141\n",
            "\u001b[2m\u001b[36m(DefaultActor pid=1009)\u001b[0m output size:  256\n",
            "\u001b[2m\u001b[36m(DefaultActor pid=1009)\u001b[0m selected images size:  150\n",
            "\u001b[2m\u001b[36m(DefaultActor pid=1009)\u001b[0m output size:  256\n",
            "\u001b[2m\u001b[36m(DefaultActor pid=1009)\u001b[0m selected images size:  152\n",
            "\u001b[2m\u001b[36m(DefaultActor pid=1009)\u001b[0m output size:  256\n",
            "\u001b[2m\u001b[36m(DefaultActor pid=1009)\u001b[0m selected images size:  148\n",
            "\u001b[2m\u001b[36m(DefaultActor pid=1009)\u001b[0m output size:  101\n",
            "\u001b[2m\u001b[36m(DefaultActor pid=1009)\u001b[0m selected images size:  56\n",
            "\u001b[2m\u001b[36m(DefaultActor pid=1009)\u001b[0m output size:  256\n",
            "\u001b[2m\u001b[36m(DefaultActor pid=1009)\u001b[0m selected images size:  141\n",
            "\u001b[2m\u001b[36m(DefaultActor pid=1009)\u001b[0m output size:  256\n",
            "\u001b[2m\u001b[36m(DefaultActor pid=1009)\u001b[0m selected images size:  141\n",
            "\u001b[2m\u001b[36m(DefaultActor pid=1009)\u001b[0m output size:  256\n",
            "\u001b[2m\u001b[36m(DefaultActor pid=1009)\u001b[0m selected images size:  136\n",
            "\u001b[2m\u001b[36m(DefaultActor pid=1009)\u001b[0m output size:  256\n",
            "\u001b[2m\u001b[36m(DefaultActor pid=1009)\u001b[0m selected images size:  139\n",
            "\u001b[2m\u001b[36m(DefaultActor pid=1009)\u001b[0m output size:  256\n",
            "\u001b[2m\u001b[36m(DefaultActor pid=1009)\u001b[0m selected images size:  134\n",
            "\u001b[2m\u001b[36m(DefaultActor pid=1009)\u001b[0m output size:  256\n",
            "\u001b[2m\u001b[36m(DefaultActor pid=1009)\u001b[0m selected images size:  134\n",
            "\u001b[2m\u001b[36m(DefaultActor pid=1009)\u001b[0m output size:  101\n",
            "\u001b[2m\u001b[36m(DefaultActor pid=1009)\u001b[0m selected images size:  52\n",
            "\u001b[2m\u001b[36m(DefaultActor pid=1009)\u001b[0m output size:  256\n",
            "\u001b[2m\u001b[36m(DefaultActor pid=1009)\u001b[0m selected images size:  124\n",
            "\u001b[2m\u001b[36m(DefaultActor pid=1009)\u001b[0m output size:  256\n",
            "\u001b[2m\u001b[36m(DefaultActor pid=1009)\u001b[0m selected images size:  120\n",
            "\u001b[2m\u001b[36m(DefaultActor pid=1009)\u001b[0m output size:  256\n",
            "\u001b[2m\u001b[36m(DefaultActor pid=1009)\u001b[0m selected images size:  124\n",
            "\u001b[2m\u001b[36m(DefaultActor pid=1009)\u001b[0m output size:  256\n",
            "\u001b[2m\u001b[36m(DefaultActor pid=1009)\u001b[0m selected images size:  124\n",
            "\u001b[2m\u001b[36m(DefaultActor pid=1009)\u001b[0m output size:  256\n",
            "\u001b[2m\u001b[36m(DefaultActor pid=1009)\u001b[0m selected images size:  132\n",
            "\u001b[2m\u001b[36m(DefaultActor pid=1009)\u001b[0m output size:  256\n",
            "\u001b[2m\u001b[36m(DefaultActor pid=1009)\u001b[0m selected images size:  118\n",
            "\u001b[2m\u001b[36m(DefaultActor pid=1009)\u001b[0m output size:  101\n",
            "\u001b[2m\u001b[36m(DefaultActor pid=1009)\u001b[0m selected images size:  52\n",
            "\u001b[2m\u001b[36m(DefaultActor pid=1009)\u001b[0m output size:  256\n",
            "\u001b[2m\u001b[36m(DefaultActor pid=1009)\u001b[0m selected images size:  131\n",
            "\u001b[2m\u001b[36m(DefaultActor pid=1009)\u001b[0m output size:  256\n",
            "\u001b[2m\u001b[36m(DefaultActor pid=1009)\u001b[0m selected images size:  104\n",
            "\u001b[2m\u001b[36m(DefaultActor pid=1009)\u001b[0m output size:  256\n",
            "\u001b[2m\u001b[36m(DefaultActor pid=1009)\u001b[0m selected images size:  119\n",
            "\u001b[2m\u001b[36m(DefaultActor pid=1009)\u001b[0m output size:  256\n",
            "\u001b[2m\u001b[36m(DefaultActor pid=1009)\u001b[0m selected images size:  108\n",
            "\u001b[2m\u001b[36m(DefaultActor pid=1009)\u001b[0m output size:  256\n",
            "\u001b[2m\u001b[36m(DefaultActor pid=1009)\u001b[0m selected images size:  104\n",
            "\u001b[2m\u001b[36m(DefaultActor pid=1009)\u001b[0m output size:  256\n",
            "\u001b[2m\u001b[36m(DefaultActor pid=1009)\u001b[0m selected images size:  97\n",
            "\u001b[2m\u001b[36m(DefaultActor pid=1009)\u001b[0m output size:  101\n",
            "\u001b[2m\u001b[36m(DefaultActor pid=1009)\u001b[0m selected images size:  32\n",
            "\u001b[2m\u001b[36m(DefaultActor pid=1009)\u001b[0m output size:  256\n",
            "\u001b[2m\u001b[36m(DefaultActor pid=1009)\u001b[0m selected images size:  84\n",
            "\u001b[2m\u001b[36m(DefaultActor pid=1009)\u001b[0m output size:  256\n",
            "\u001b[2m\u001b[36m(DefaultActor pid=1009)\u001b[0m selected images size:  116\n",
            "\u001b[2m\u001b[36m(DefaultActor pid=1009)\u001b[0m output size:  256\n",
            "\u001b[2m\u001b[36m(DefaultActor pid=1009)\u001b[0m selected images size:  95\n",
            "\u001b[2m\u001b[36m(DefaultActor pid=1009)\u001b[0m output size:  256\n",
            "\u001b[2m\u001b[36m(DefaultActor pid=1009)\u001b[0m selected images size:  80\n",
            "\u001b[2m\u001b[36m(DefaultActor pid=1009)\u001b[0m output size:  256\n",
            "\u001b[2m\u001b[36m(DefaultActor pid=1009)\u001b[0m selected images size:  51\n",
            "\u001b[2m\u001b[36m(DefaultActor pid=1009)\u001b[0m output size:  256\n",
            "\u001b[2m\u001b[36m(DefaultActor pid=1009)\u001b[0m selected images size:  54\n",
            "\u001b[2m\u001b[36m(DefaultActor pid=1009)\u001b[0m output size:  101\n",
            "\u001b[2m\u001b[36m(DefaultActor pid=1009)\u001b[0m selected images size:  12\n"
          ]
        },
        {
          "output_type": "stream",
          "name": "stderr",
          "text": [
            "DEBUG flwr 2024-01-19 16:01:10,864 | server.py:236 | fit_round 19 received 10 results and 0 failures\n",
            "DEBUG:flwr:fit_round 19 received 10 results and 0 failures\n"
          ]
        },
        {
          "output_type": "stream",
          "name": "stdout",
          "text": [
            "Saving round 19 aggregated_parameters...\n"
          ]
        },
        {
          "output_type": "stream",
          "name": "stderr",
          "text": [
            "INFO flwr 2024-01-19 16:01:26,650 | server.py:125 | fit progress: (19, 311.706800699234, {'accuracy': 0.1937984496124031}, 2507.817756946)\n",
            "INFO:flwr:fit progress: (19, 311.706800699234, {'accuracy': 0.1937984496124031}, 2507.817756946)\n",
            "DEBUG flwr 2024-01-19 16:01:26,653 | server.py:173 | evaluate_round 19: strategy sampled 10 clients (out of 33)\n",
            "DEBUG:flwr:evaluate_round 19: strategy sampled 10 clients (out of 33)\n"
          ]
        },
        {
          "output_type": "stream",
          "name": "stdout",
          "text": [
            "GLOBAL TEST\n"
          ]
        },
        {
          "output_type": "stream",
          "name": "stderr",
          "text": [
            "DEBUG flwr 2024-01-19 16:01:29,962 | server.py:187 | evaluate_round 19 received 10 results and 0 failures\n",
            "DEBUG:flwr:evaluate_round 19 received 10 results and 0 failures\n",
            "DEBUG flwr 2024-01-19 16:01:29,965 | server.py:222 | fit_round 20: strategy sampled 10 clients (out of 33)\n",
            "DEBUG:flwr:fit_round 20: strategy sampled 10 clients (out of 33)\n"
          ]
        },
        {
          "output_type": "stream",
          "name": "stdout",
          "text": [
            "\u001b[2m\u001b[36m(DefaultActor pid=1009)\u001b[0m ATTACKER\n",
            "\u001b[2m\u001b[36m(DefaultActor pid=1009)\u001b[0m output size:  256\n",
            "\u001b[2m\u001b[36m(DefaultActor pid=1009)\u001b[0m selected images size:  2\n"
          ]
        },
        {
          "output_type": "stream",
          "name": "stderr",
          "text": [
            "DEBUG flwr 2024-01-19 16:03:31,977 | server.py:236 | fit_round 20 received 10 results and 0 failures\n",
            "DEBUG:flwr:fit_round 20 received 10 results and 0 failures\n"
          ]
        },
        {
          "output_type": "stream",
          "name": "stdout",
          "text": [
            "Saving round 20 aggregated_parameters...\n"
          ]
        },
        {
          "output_type": "stream",
          "name": "stderr",
          "text": [
            "INFO flwr 2024-01-19 16:03:47,562 | server.py:125 | fit progress: (20, 311.71552324295044, {'accuracy': 0.29069767441860467}, 2648.73022854)\n",
            "INFO:flwr:fit progress: (20, 311.71552324295044, {'accuracy': 0.29069767441860467}, 2648.73022854)\n",
            "DEBUG flwr 2024-01-19 16:03:47,566 | server.py:173 | evaluate_round 20: strategy sampled 10 clients (out of 33)\n",
            "DEBUG:flwr:evaluate_round 20: strategy sampled 10 clients (out of 33)\n"
          ]
        },
        {
          "output_type": "stream",
          "name": "stdout",
          "text": [
            "GLOBAL TEST\n"
          ]
        },
        {
          "output_type": "stream",
          "name": "stderr",
          "text": [
            "DEBUG flwr 2024-01-19 16:03:50,925 | server.py:187 | evaluate_round 20 received 10 results and 0 failures\n",
            "DEBUG:flwr:evaluate_round 20 received 10 results and 0 failures\n",
            "DEBUG flwr 2024-01-19 16:03:50,928 | server.py:222 | fit_round 21: strategy sampled 10 clients (out of 33)\n",
            "DEBUG:flwr:fit_round 21: strategy sampled 10 clients (out of 33)\n",
            "DEBUG flwr 2024-01-19 16:05:07,288 | server.py:236 | fit_round 21 received 10 results and 0 failures\n",
            "DEBUG:flwr:fit_round 21 received 10 results and 0 failures\n"
          ]
        },
        {
          "output_type": "stream",
          "name": "stdout",
          "text": [
            "Saving round 21 aggregated_parameters...\n"
          ]
        },
        {
          "output_type": "stream",
          "name": "stderr",
          "text": [
            "INFO flwr 2024-01-19 16:05:23,464 | server.py:125 | fit progress: (21, 311.7050931453705, {'accuracy': 0.29069767441860467}, 2744.632186682)\n",
            "INFO:flwr:fit progress: (21, 311.7050931453705, {'accuracy': 0.29069767441860467}, 2744.632186682)\n",
            "DEBUG flwr 2024-01-19 16:05:23,468 | server.py:173 | evaluate_round 21: strategy sampled 10 clients (out of 33)\n",
            "DEBUG:flwr:evaluate_round 21: strategy sampled 10 clients (out of 33)\n"
          ]
        },
        {
          "output_type": "stream",
          "name": "stdout",
          "text": [
            "GLOBAL TEST\n"
          ]
        },
        {
          "output_type": "stream",
          "name": "stderr",
          "text": [
            "DEBUG flwr 2024-01-19 16:05:27,137 | server.py:187 | evaluate_round 21 received 10 results and 0 failures\n",
            "DEBUG:flwr:evaluate_round 21 received 10 results and 0 failures\n",
            "DEBUG flwr 2024-01-19 16:05:27,140 | server.py:222 | fit_round 22: strategy sampled 10 clients (out of 33)\n",
            "DEBUG:flwr:fit_round 22: strategy sampled 10 clients (out of 33)\n",
            "DEBUG flwr 2024-01-19 16:06:43,555 | server.py:236 | fit_round 22 received 10 results and 0 failures\n",
            "DEBUG:flwr:fit_round 22 received 10 results and 0 failures\n"
          ]
        },
        {
          "output_type": "stream",
          "name": "stdout",
          "text": [
            "Saving round 22 aggregated_parameters...\n"
          ]
        },
        {
          "output_type": "stream",
          "name": "stderr",
          "text": [
            "INFO flwr 2024-01-19 16:06:58,871 | server.py:125 | fit progress: (22, 311.6834305524826, {'accuracy': 0.1937984496124031}, 2840.039084943)\n",
            "INFO:flwr:fit progress: (22, 311.6834305524826, {'accuracy': 0.1937984496124031}, 2840.039084943)\n",
            "DEBUG flwr 2024-01-19 16:06:58,879 | server.py:173 | evaluate_round 22: strategy sampled 10 clients (out of 33)\n",
            "DEBUG:flwr:evaluate_round 22: strategy sampled 10 clients (out of 33)\n"
          ]
        },
        {
          "output_type": "stream",
          "name": "stdout",
          "text": [
            "GLOBAL TEST\n"
          ]
        },
        {
          "output_type": "stream",
          "name": "stderr",
          "text": [
            "DEBUG flwr 2024-01-19 16:07:03,436 | server.py:187 | evaluate_round 22 received 10 results and 0 failures\n",
            "DEBUG:flwr:evaluate_round 22 received 10 results and 0 failures\n",
            "DEBUG flwr 2024-01-19 16:07:03,439 | server.py:222 | fit_round 23: strategy sampled 10 clients (out of 33)\n",
            "DEBUG:flwr:fit_round 23: strategy sampled 10 clients (out of 33)\n"
          ]
        },
        {
          "output_type": "stream",
          "name": "stdout",
          "text": [
            "\u001b[2m\u001b[36m(DefaultActor pid=1009)\u001b[0m ATTACKER\n",
            "\u001b[2m\u001b[36m(DefaultActor pid=1009)\u001b[0m output size:  256\n",
            "\u001b[2m\u001b[36m(DefaultActor pid=1009)\u001b[0m selected images size:  1\n",
            "\u001b[2m\u001b[36m(DefaultActor pid=1009)\u001b[0m output size:  256\n",
            "\u001b[2m\u001b[36m(DefaultActor pid=1009)\u001b[0m selected images size:  1\n",
            "\u001b[2m\u001b[36m(DefaultActor pid=1009)\u001b[0m output size:  256\n",
            "\u001b[2m\u001b[36m(DefaultActor pid=1009)\u001b[0m selected images size:  1\n",
            "\u001b[2m\u001b[36m(DefaultActor pid=1009)\u001b[0m output size:  256\n",
            "\u001b[2m\u001b[36m(DefaultActor pid=1009)\u001b[0m selected images size:  5\n",
            "\u001b[2m\u001b[36m(DefaultActor pid=1009)\u001b[0m output size:  101\n",
            "\u001b[2m\u001b[36m(DefaultActor pid=1009)\u001b[0m selected images size:  4\n",
            "\u001b[2m\u001b[36m(DefaultActor pid=1009)\u001b[0m output size:  256\n",
            "\u001b[2m\u001b[36m(DefaultActor pid=1009)\u001b[0m selected images size:  17\n",
            "\u001b[2m\u001b[36m(DefaultActor pid=1009)\u001b[0m output size:  256\n",
            "\u001b[2m\u001b[36m(DefaultActor pid=1009)\u001b[0m selected images size:  13\n",
            "\u001b[2m\u001b[36m(DefaultActor pid=1009)\u001b[0m output size:  256\n",
            "\u001b[2m\u001b[36m(DefaultActor pid=1009)\u001b[0m selected images size:  16\n",
            "\u001b[2m\u001b[36m(DefaultActor pid=1009)\u001b[0m output size:  256\n",
            "\u001b[2m\u001b[36m(DefaultActor pid=1009)\u001b[0m selected images size:  16\n",
            "\u001b[2m\u001b[36m(DefaultActor pid=1009)\u001b[0m output size:  256\n",
            "\u001b[2m\u001b[36m(DefaultActor pid=1009)\u001b[0m selected images size:  18\n",
            "\u001b[2m\u001b[36m(DefaultActor pid=1009)\u001b[0m output size:  256\n",
            "\u001b[2m\u001b[36m(DefaultActor pid=1009)\u001b[0m selected images size:  25\n",
            "\u001b[2m\u001b[36m(DefaultActor pid=1009)\u001b[0m output size:  101\n",
            "\u001b[2m\u001b[36m(DefaultActor pid=1009)\u001b[0m selected images size:  5\n",
            "\u001b[2m\u001b[36m(DefaultActor pid=1009)\u001b[0m output size:  256\n",
            "\u001b[2m\u001b[36m(DefaultActor pid=1009)\u001b[0m selected images size:  20\n",
            "\u001b[2m\u001b[36m(DefaultActor pid=1009)\u001b[0m output size:  256\n",
            "\u001b[2m\u001b[36m(DefaultActor pid=1009)\u001b[0m selected images size:  13\n",
            "\u001b[2m\u001b[36m(DefaultActor pid=1009)\u001b[0m output size:  256\n",
            "\u001b[2m\u001b[36m(DefaultActor pid=1009)\u001b[0m selected images size:  8\n",
            "\u001b[2m\u001b[36m(DefaultActor pid=1009)\u001b[0m output size:  256\n",
            "\u001b[2m\u001b[36m(DefaultActor pid=1009)\u001b[0m selected images size:  3\n",
            "\u001b[2m\u001b[36m(DefaultActor pid=1009)\u001b[0m output size:  256\n",
            "\u001b[2m\u001b[36m(DefaultActor pid=1009)\u001b[0m selected images size:  1\n",
            "\u001b[2m\u001b[36m(DefaultActor pid=1009)\u001b[0m output size:  256\n",
            "\u001b[2m\u001b[36m(DefaultActor pid=1009)\u001b[0m selected images size:  1\n",
            "\u001b[2m\u001b[36m(DefaultActor pid=1009)\u001b[0m output size:  256\n",
            "\u001b[2m\u001b[36m(DefaultActor pid=1009)\u001b[0m selected images size:  1\n",
            "\u001b[2m\u001b[36m(DefaultActor pid=1009)\u001b[0m output size:  256\n",
            "\u001b[2m\u001b[36m(DefaultActor pid=1009)\u001b[0m selected images size:  2\n",
            "\u001b[2m\u001b[36m(DefaultActor pid=1009)\u001b[0m output size:  256\n",
            "\u001b[2m\u001b[36m(DefaultActor pid=1009)\u001b[0m selected images size:  6\n",
            "\u001b[2m\u001b[36m(DefaultActor pid=1009)\u001b[0m output size:  256\n",
            "\u001b[2m\u001b[36m(DefaultActor pid=1009)\u001b[0m selected images size:  5\n",
            "\u001b[2m\u001b[36m(DefaultActor pid=1009)\u001b[0m output size:  101\n",
            "\u001b[2m\u001b[36m(DefaultActor pid=1009)\u001b[0m selected images size:  2\n",
            "\u001b[2m\u001b[36m(DefaultActor pid=1009)\u001b[0m output size:  256\n",
            "\u001b[2m\u001b[36m(DefaultActor pid=1009)\u001b[0m selected images size:  7\n",
            "\u001b[2m\u001b[36m(DefaultActor pid=1009)\u001b[0m output size:  256\n",
            "\u001b[2m\u001b[36m(DefaultActor pid=1009)\u001b[0m selected images size:  10\n",
            "\u001b[2m\u001b[36m(DefaultActor pid=1009)\u001b[0m output size:  256\n",
            "\u001b[2m\u001b[36m(DefaultActor pid=1009)\u001b[0m selected images size:  4\n",
            "\u001b[2m\u001b[36m(DefaultActor pid=1009)\u001b[0m output size:  256\n",
            "\u001b[2m\u001b[36m(DefaultActor pid=1009)\u001b[0m selected images size:  9\n",
            "\u001b[2m\u001b[36m(DefaultActor pid=1009)\u001b[0m output size:  256\n",
            "\u001b[2m\u001b[36m(DefaultActor pid=1009)\u001b[0m selected images size:  6\n",
            "\u001b[2m\u001b[36m(DefaultActor pid=1009)\u001b[0m output size:  256\n",
            "\u001b[2m\u001b[36m(DefaultActor pid=1009)\u001b[0m selected images size:  4\n",
            "\u001b[2m\u001b[36m(DefaultActor pid=1009)\u001b[0m output size:  101\n",
            "\u001b[2m\u001b[36m(DefaultActor pid=1009)\u001b[0m selected images size:  4\n",
            "\u001b[2m\u001b[36m(DefaultActor pid=1009)\u001b[0m output size:  256\n",
            "\u001b[2m\u001b[36m(DefaultActor pid=1009)\u001b[0m selected images size:  9\n",
            "\u001b[2m\u001b[36m(DefaultActor pid=1009)\u001b[0m output size:  256\n",
            "\u001b[2m\u001b[36m(DefaultActor pid=1009)\u001b[0m selected images size:  13\n",
            "\u001b[2m\u001b[36m(DefaultActor pid=1009)\u001b[0m output size:  256\n",
            "\u001b[2m\u001b[36m(DefaultActor pid=1009)\u001b[0m selected images size:  9\n",
            "\u001b[2m\u001b[36m(DefaultActor pid=1009)\u001b[0m output size:  256\n",
            "\u001b[2m\u001b[36m(DefaultActor pid=1009)\u001b[0m selected images size:  18\n",
            "\u001b[2m\u001b[36m(DefaultActor pid=1009)\u001b[0m output size:  256\n",
            "\u001b[2m\u001b[36m(DefaultActor pid=1009)\u001b[0m selected images size:  13\n",
            "\u001b[2m\u001b[36m(DefaultActor pid=1009)\u001b[0m output size:  256\n",
            "\u001b[2m\u001b[36m(DefaultActor pid=1009)\u001b[0m selected images size:  20\n",
            "\u001b[2m\u001b[36m(DefaultActor pid=1009)\u001b[0m output size:  101\n",
            "\u001b[2m\u001b[36m(DefaultActor pid=1009)\u001b[0m selected images size:  4\n",
            "\u001b[2m\u001b[36m(DefaultActor pid=1009)\u001b[0m output size:  256\n",
            "\u001b[2m\u001b[36m(DefaultActor pid=1009)\u001b[0m selected images size:  19\n",
            "\u001b[2m\u001b[36m(DefaultActor pid=1009)\u001b[0m output size:  256\n",
            "\u001b[2m\u001b[36m(DefaultActor pid=1009)\u001b[0m selected images size:  14\n",
            "\u001b[2m\u001b[36m(DefaultActor pid=1009)\u001b[0m output size:  256\n",
            "\u001b[2m\u001b[36m(DefaultActor pid=1009)\u001b[0m selected images size:  19\n",
            "\u001b[2m\u001b[36m(DefaultActor pid=1009)\u001b[0m output size:  256\n",
            "\u001b[2m\u001b[36m(DefaultActor pid=1009)\u001b[0m selected images size:  19\n",
            "\u001b[2m\u001b[36m(DefaultActor pid=1009)\u001b[0m output size:  256\n",
            "\u001b[2m\u001b[36m(DefaultActor pid=1009)\u001b[0m selected images size:  29\n",
            "\u001b[2m\u001b[36m(DefaultActor pid=1009)\u001b[0m output size:  256\n",
            "\u001b[2m\u001b[36m(DefaultActor pid=1009)\u001b[0m selected images size:  29\n",
            "\u001b[2m\u001b[36m(DefaultActor pid=1009)\u001b[0m output size:  101\n",
            "\u001b[2m\u001b[36m(DefaultActor pid=1009)\u001b[0m selected images size:  9\n",
            "\u001b[2m\u001b[36m(DefaultActor pid=1009)\u001b[0m output size:  256\n",
            "\u001b[2m\u001b[36m(DefaultActor pid=1009)\u001b[0m selected images size:  31\n",
            "\u001b[2m\u001b[36m(DefaultActor pid=1009)\u001b[0m output size:  256\n",
            "\u001b[2m\u001b[36m(DefaultActor pid=1009)\u001b[0m selected images size:  21\n",
            "\u001b[2m\u001b[36m(DefaultActor pid=1009)\u001b[0m output size:  256\n",
            "\u001b[2m\u001b[36m(DefaultActor pid=1009)\u001b[0m selected images size:  32\n",
            "\u001b[2m\u001b[36m(DefaultActor pid=1009)\u001b[0m output size:  256\n",
            "\u001b[2m\u001b[36m(DefaultActor pid=1009)\u001b[0m selected images size:  37\n",
            "\u001b[2m\u001b[36m(DefaultActor pid=1009)\u001b[0m output size:  256\n",
            "\u001b[2m\u001b[36m(DefaultActor pid=1009)\u001b[0m selected images size:  47\n",
            "\u001b[2m\u001b[36m(DefaultActor pid=1009)\u001b[0m output size:  256\n",
            "\u001b[2m\u001b[36m(DefaultActor pid=1009)\u001b[0m selected images size:  28\n",
            "\u001b[2m\u001b[36m(DefaultActor pid=1009)\u001b[0m output size:  101\n",
            "\u001b[2m\u001b[36m(DefaultActor pid=1009)\u001b[0m selected images size:  11\n"
          ]
        },
        {
          "output_type": "stream",
          "name": "stderr",
          "text": [
            "DEBUG flwr 2024-01-19 16:09:04,848 | server.py:236 | fit_round 23 received 10 results and 0 failures\n",
            "DEBUG:flwr:fit_round 23 received 10 results and 0 failures\n"
          ]
        },
        {
          "output_type": "stream",
          "name": "stdout",
          "text": [
            "Saving round 23 aggregated_parameters...\n"
          ]
        },
        {
          "output_type": "stream",
          "name": "stderr",
          "text": [
            "INFO flwr 2024-01-19 16:09:21,619 | server.py:125 | fit progress: (23, 311.69658410549164, {'accuracy': 0.29069767441860467}, 2982.7869780349997)\n",
            "INFO:flwr:fit progress: (23, 311.69658410549164, {'accuracy': 0.29069767441860467}, 2982.7869780349997)\n",
            "DEBUG flwr 2024-01-19 16:09:21,627 | server.py:173 | evaluate_round 23: strategy sampled 10 clients (out of 33)\n",
            "DEBUG:flwr:evaluate_round 23: strategy sampled 10 clients (out of 33)\n"
          ]
        },
        {
          "output_type": "stream",
          "name": "stdout",
          "text": [
            "GLOBAL TEST\n"
          ]
        },
        {
          "output_type": "stream",
          "name": "stderr",
          "text": [
            "DEBUG flwr 2024-01-19 16:09:25,457 | server.py:187 | evaluate_round 23 received 10 results and 0 failures\n",
            "DEBUG:flwr:evaluate_round 23 received 10 results and 0 failures\n",
            "DEBUG flwr 2024-01-19 16:09:25,461 | server.py:222 | fit_round 24: strategy sampled 10 clients (out of 33)\n",
            "DEBUG:flwr:fit_round 24: strategy sampled 10 clients (out of 33)\n"
          ]
        },
        {
          "output_type": "stream",
          "name": "stdout",
          "text": [
            "\u001b[2m\u001b[36m(DefaultActor pid=1009)\u001b[0m ATTACKER\n",
            "\u001b[2m\u001b[36m(DefaultActor pid=1009)\u001b[0m output size:  256\n",
            "\u001b[2m\u001b[36m(DefaultActor pid=1009)\u001b[0m selected images size:  2\n",
            "\u001b[2m\u001b[36m(DefaultActor pid=1009)\u001b[0m output size:  256\n",
            "\u001b[2m\u001b[36m(DefaultActor pid=1009)\u001b[0m selected images size:  1\n",
            "\u001b[2m\u001b[36m(DefaultActor pid=1009)\u001b[0m output size:  256\n",
            "\u001b[2m\u001b[36m(DefaultActor pid=1009)\u001b[0m selected images size:  2\n",
            "\u001b[2m\u001b[36m(DefaultActor pid=1009)\u001b[0m output size:  256\n",
            "\u001b[2m\u001b[36m(DefaultActor pid=1009)\u001b[0m selected images size:  1\n",
            "\u001b[2m\u001b[36m(DefaultActor pid=1009)\u001b[0m output size:  101\n",
            "\u001b[2m\u001b[36m(DefaultActor pid=1009)\u001b[0m selected images size:  1\n",
            "\u001b[2m\u001b[36m(DefaultActor pid=1009)\u001b[0m output size:  256\n",
            "\u001b[2m\u001b[36m(DefaultActor pid=1009)\u001b[0m selected images size:  2\n",
            "\u001b[2m\u001b[36m(DefaultActor pid=1009)\u001b[0m output size:  256\n",
            "\u001b[2m\u001b[36m(DefaultActor pid=1009)\u001b[0m selected images size:  2\n",
            "\u001b[2m\u001b[36m(DefaultActor pid=1009)\u001b[0m output size:  256\n",
            "\u001b[2m\u001b[36m(DefaultActor pid=1009)\u001b[0m selected images size:  4\n",
            "\u001b[2m\u001b[36m(DefaultActor pid=1009)\u001b[0m output size:  256\n",
            "\u001b[2m\u001b[36m(DefaultActor pid=1009)\u001b[0m selected images size:  1\n",
            "\u001b[2m\u001b[36m(DefaultActor pid=1009)\u001b[0m output size:  256\n",
            "\u001b[2m\u001b[36m(DefaultActor pid=1009)\u001b[0m selected images size:  2\n",
            "\u001b[2m\u001b[36m(DefaultActor pid=1009)\u001b[0m output size:  256\n",
            "\u001b[2m\u001b[36m(DefaultActor pid=1009)\u001b[0m selected images size:  1\n",
            "\u001b[2m\u001b[36m(DefaultActor pid=1009)\u001b[0m output size:  101\n",
            "\u001b[2m\u001b[36m(DefaultActor pid=1009)\u001b[0m selected images size:  1\n",
            "\u001b[2m\u001b[36m(DefaultActor pid=1009)\u001b[0m output size:  256\n",
            "\u001b[2m\u001b[36m(DefaultActor pid=1009)\u001b[0m selected images size:  4\n",
            "\u001b[2m\u001b[36m(DefaultActor pid=1009)\u001b[0m output size:  256\n",
            "\u001b[2m\u001b[36m(DefaultActor pid=1009)\u001b[0m selected images size:  4\n",
            "\u001b[2m\u001b[36m(DefaultActor pid=1009)\u001b[0m output size:  256\n",
            "\u001b[2m\u001b[36m(DefaultActor pid=1009)\u001b[0m selected images size:  6\n",
            "\u001b[2m\u001b[36m(DefaultActor pid=1009)\u001b[0m output size:  256\n",
            "\u001b[2m\u001b[36m(DefaultActor pid=1009)\u001b[0m selected images size:  15\n",
            "\u001b[2m\u001b[36m(DefaultActor pid=1009)\u001b[0m output size:  256\n",
            "\u001b[2m\u001b[36m(DefaultActor pid=1009)\u001b[0m selected images size:  22\n",
            "\u001b[2m\u001b[36m(DefaultActor pid=1009)\u001b[0m output size:  256\n",
            "\u001b[2m\u001b[36m(DefaultActor pid=1009)\u001b[0m selected images size:  23\n",
            "\u001b[2m\u001b[36m(DefaultActor pid=1009)\u001b[0m output size:  101\n",
            "\u001b[2m\u001b[36m(DefaultActor pid=1009)\u001b[0m selected images size:  9\n",
            "\u001b[2m\u001b[36m(DefaultActor pid=1009)\u001b[0m output size:  256\n",
            "\u001b[2m\u001b[36m(DefaultActor pid=1009)\u001b[0m selected images size:  28\n",
            "\u001b[2m\u001b[36m(DefaultActor pid=1009)\u001b[0m output size:  256\n",
            "\u001b[2m\u001b[36m(DefaultActor pid=1009)\u001b[0m selected images size:  25\n",
            "\u001b[2m\u001b[36m(DefaultActor pid=1009)\u001b[0m output size:  256\n",
            "\u001b[2m\u001b[36m(DefaultActor pid=1009)\u001b[0m selected images size:  29\n",
            "\u001b[2m\u001b[36m(DefaultActor pid=1009)\u001b[0m output size:  256\n",
            "\u001b[2m\u001b[36m(DefaultActor pid=1009)\u001b[0m selected images size:  27\n",
            "\u001b[2m\u001b[36m(DefaultActor pid=1009)\u001b[0m output size:  256\n",
            "\u001b[2m\u001b[36m(DefaultActor pid=1009)\u001b[0m selected images size:  23\n",
            "\u001b[2m\u001b[36m(DefaultActor pid=1009)\u001b[0m output size:  256\n",
            "\u001b[2m\u001b[36m(DefaultActor pid=1009)\u001b[0m selected images size:  13\n",
            "\u001b[2m\u001b[36m(DefaultActor pid=1009)\u001b[0m output size:  101\n",
            "\u001b[2m\u001b[36m(DefaultActor pid=1009)\u001b[0m selected images size:  15\n",
            "\u001b[2m\u001b[36m(DefaultActor pid=1009)\u001b[0m output size:  256\n",
            "\u001b[2m\u001b[36m(DefaultActor pid=1009)\u001b[0m selected images size:  13\n",
            "\u001b[2m\u001b[36m(DefaultActor pid=1009)\u001b[0m output size:  256\n",
            "\u001b[2m\u001b[36m(DefaultActor pid=1009)\u001b[0m selected images size:  11\n",
            "\u001b[2m\u001b[36m(DefaultActor pid=1009)\u001b[0m output size:  256\n",
            "\u001b[2m\u001b[36m(DefaultActor pid=1009)\u001b[0m selected images size:  13\n",
            "\u001b[2m\u001b[36m(DefaultActor pid=1009)\u001b[0m output size:  256\n",
            "\u001b[2m\u001b[36m(DefaultActor pid=1009)\u001b[0m selected images size:  11\n",
            "\u001b[2m\u001b[36m(DefaultActor pid=1009)\u001b[0m output size:  256\n",
            "\u001b[2m\u001b[36m(DefaultActor pid=1009)\u001b[0m selected images size:  12\n",
            "\u001b[2m\u001b[36m(DefaultActor pid=1009)\u001b[0m output size:  256\n",
            "\u001b[2m\u001b[36m(DefaultActor pid=1009)\u001b[0m selected images size:  18\n",
            "\u001b[2m\u001b[36m(DefaultActor pid=1009)\u001b[0m output size:  101\n",
            "\u001b[2m\u001b[36m(DefaultActor pid=1009)\u001b[0m selected images size:  7\n",
            "\u001b[2m\u001b[36m(DefaultActor pid=1009)\u001b[0m output size:  256\n",
            "\u001b[2m\u001b[36m(DefaultActor pid=1009)\u001b[0m selected images size:  9\n"
          ]
        }
      ]
    },
    {
      "cell_type": "code",
      "source": [
        "print(len(main_acc_values))\n",
        "global_accuracy_centralised = history.metrics_centralized[\"accuracy\"]\n",
        "global_accuracy_distributed = history.metrics_distributed[\"accuracy\"]\n",
        "\n",
        "# Rút trích thông tin từ dữ liệu\n",
        "# round_centralised = [data[0] for data in global_accuracy_centralised]\n",
        "round_distributed = [data[0] for data in global_accuracy_distributed]\n",
        "\n",
        "# Vẽ đồ thị\n",
        "plt.plot(range(1, 52), [data[1] for data in global_accuracy_centralised], label=\"Global - Centralised\")\n",
        "# plt.plot(range(1, 21), [data[1] for data in global_accuracy_distributed], label=\"Global - Distributed\")\n",
        "plt.plot(range(1, 52), main_acc_values, label=\"Main Task\")\n",
        "plt.plot(range(1, 52), standard_acc_values, label=\"Standard Task\")\n",
        "\n",
        "# Thiết lập định dạng của biểu đồ\n",
        "plt.grid()\n",
        "plt.ylabel(\"Accuracy (%)\")\n",
        "plt.xlabel(\"Round\")\n",
        "plt.title(\"Accuracy Comparison\")\n",
        "plt.legend()\n",
        "xticks_result = plt.xticks(range(1, 52))\n"
      ],
      "metadata": {
        "id": "E33BylpJA_CV"
      },
      "execution_count": null,
      "outputs": []
    },
    {
      "cell_type": "code",
      "source": [
        "import matplotlib.pyplot as plt\n",
        "\n",
        "print(f\"{history.metrics_centralized = }\")\n",
        "# print(f\"{history.metrics_distributed = }\")\n",
        "\n",
        "\n",
        "global_accuracy_centralised = history.metrics_centralized[\"accuracy\"]\n",
        "# global_accuracy_centralised = history.metrics_distributed[\"accuracy\"]\n",
        "\n",
        "round = [data[0] for data in global_accuracy_centralised]\n",
        "acc = [data[1] for data in global_accuracy_centralised]\n",
        "plt.plot(round, acc)\n",
        "plt.grid()\n",
        "plt.ylabel(\"Accuracy (%)\")\n",
        "plt.xlabel(\"Round\")\n",
        "plt.title(\"MNIST - IID - 30 clients with 10 clients per round\")\n",
        "xticks_result = plt.xticks(range(1, 21))\n",
        "# plt.yticks(range(0, 100))"
      ],
      "metadata": {
        "id": "NECbOpWgcxdV"
      },
      "execution_count": null,
      "outputs": []
    }
  ],
  "metadata": {
    "colab": {
      "provenance": [],
      "gpuType": "T4",
      "include_colab_link": true
    },
    "kernelspec": {
      "display_name": "Python 3",
      "name": "python3"
    },
    "accelerator": "GPU",
    "widgets": {
      "application/vnd.jupyter.widget-state+json": {
        "76994498d19546feaa20bb95d7d7b268": {
          "model_module": "@jupyter-widgets/controls",
          "model_name": "HBoxModel",
          "model_module_version": "1.5.0",
          "state": {
            "_dom_classes": [],
            "_model_module": "@jupyter-widgets/controls",
            "_model_module_version": "1.5.0",
            "_model_name": "HBoxModel",
            "_view_count": null,
            "_view_module": "@jupyter-widgets/controls",
            "_view_module_version": "1.5.0",
            "_view_name": "HBoxView",
            "box_style": "",
            "children": [
              "IPY_MODEL_043b21607f3f4c67b8db723a42065bfd",
              "IPY_MODEL_7affbee763ba49748ee8c04bf8b64742",
              "IPY_MODEL_796a0314edfe44fba259b263d7478374"
            ],
            "layout": "IPY_MODEL_24e9b895c8f04b4687861c33e54a297c"
          }
        },
        "043b21607f3f4c67b8db723a42065bfd": {
          "model_module": "@jupyter-widgets/controls",
          "model_name": "HTMLModel",
          "model_module_version": "1.5.0",
          "state": {
            "_dom_classes": [],
            "_model_module": "@jupyter-widgets/controls",
            "_model_module_version": "1.5.0",
            "_model_name": "HTMLModel",
            "_view_count": null,
            "_view_module": "@jupyter-widgets/controls",
            "_view_module_version": "1.5.0",
            "_view_name": "HTMLView",
            "description": "",
            "description_tooltip": null,
            "layout": "IPY_MODEL_e7a445901da2468e9f0c10ec6b559378",
            "placeholder": "​",
            "style": "IPY_MODEL_fed807dc92064b859d8f70e6d3159b29",
            "value": "Downloading data: 100%"
          }
        },
        "7affbee763ba49748ee8c04bf8b64742": {
          "model_module": "@jupyter-widgets/controls",
          "model_name": "FloatProgressModel",
          "model_module_version": "1.5.0",
          "state": {
            "_dom_classes": [],
            "_model_module": "@jupyter-widgets/controls",
            "_model_module_version": "1.5.0",
            "_model_name": "FloatProgressModel",
            "_view_count": null,
            "_view_module": "@jupyter-widgets/controls",
            "_view_module_version": "1.5.0",
            "_view_name": "ProgressView",
            "bar_style": "success",
            "description": "",
            "description_tooltip": null,
            "layout": "IPY_MODEL_e2cbeef918f449cc99ca7a4c7eb6b22d",
            "max": 15561616,
            "min": 0,
            "orientation": "horizontal",
            "style": "IPY_MODEL_934aa230f8f64ee1be6e0cc1e9d83639",
            "value": 15561616
          }
        },
        "796a0314edfe44fba259b263d7478374": {
          "model_module": "@jupyter-widgets/controls",
          "model_name": "HTMLModel",
          "model_module_version": "1.5.0",
          "state": {
            "_dom_classes": [],
            "_model_module": "@jupyter-widgets/controls",
            "_model_module_version": "1.5.0",
            "_model_name": "HTMLModel",
            "_view_count": null,
            "_view_module": "@jupyter-widgets/controls",
            "_view_module_version": "1.5.0",
            "_view_name": "HTMLView",
            "description": "",
            "description_tooltip": null,
            "layout": "IPY_MODEL_c51822715bb443e58e17eed83a86f782",
            "placeholder": "​",
            "style": "IPY_MODEL_243eb751074a44c6a554268b3e65ca03",
            "value": " 15.6M/15.6M [00:01&lt;00:00, 15.5MB/s]"
          }
        },
        "24e9b895c8f04b4687861c33e54a297c": {
          "model_module": "@jupyter-widgets/base",
          "model_name": "LayoutModel",
          "model_module_version": "1.2.0",
          "state": {
            "_model_module": "@jupyter-widgets/base",
            "_model_module_version": "1.2.0",
            "_model_name": "LayoutModel",
            "_view_count": null,
            "_view_module": "@jupyter-widgets/base",
            "_view_module_version": "1.2.0",
            "_view_name": "LayoutView",
            "align_content": null,
            "align_items": null,
            "align_self": null,
            "border": null,
            "bottom": null,
            "display": null,
            "flex": null,
            "flex_flow": null,
            "grid_area": null,
            "grid_auto_columns": null,
            "grid_auto_flow": null,
            "grid_auto_rows": null,
            "grid_column": null,
            "grid_gap": null,
            "grid_row": null,
            "grid_template_areas": null,
            "grid_template_columns": null,
            "grid_template_rows": null,
            "height": null,
            "justify_content": null,
            "justify_items": null,
            "left": null,
            "margin": null,
            "max_height": null,
            "max_width": null,
            "min_height": null,
            "min_width": null,
            "object_fit": null,
            "object_position": null,
            "order": null,
            "overflow": null,
            "overflow_x": null,
            "overflow_y": null,
            "padding": null,
            "right": null,
            "top": null,
            "visibility": null,
            "width": null
          }
        },
        "e7a445901da2468e9f0c10ec6b559378": {
          "model_module": "@jupyter-widgets/base",
          "model_name": "LayoutModel",
          "model_module_version": "1.2.0",
          "state": {
            "_model_module": "@jupyter-widgets/base",
            "_model_module_version": "1.2.0",
            "_model_name": "LayoutModel",
            "_view_count": null,
            "_view_module": "@jupyter-widgets/base",
            "_view_module_version": "1.2.0",
            "_view_name": "LayoutView",
            "align_content": null,
            "align_items": null,
            "align_self": null,
            "border": null,
            "bottom": null,
            "display": null,
            "flex": null,
            "flex_flow": null,
            "grid_area": null,
            "grid_auto_columns": null,
            "grid_auto_flow": null,
            "grid_auto_rows": null,
            "grid_column": null,
            "grid_gap": null,
            "grid_row": null,
            "grid_template_areas": null,
            "grid_template_columns": null,
            "grid_template_rows": null,
            "height": null,
            "justify_content": null,
            "justify_items": null,
            "left": null,
            "margin": null,
            "max_height": null,
            "max_width": null,
            "min_height": null,
            "min_width": null,
            "object_fit": null,
            "object_position": null,
            "order": null,
            "overflow": null,
            "overflow_x": null,
            "overflow_y": null,
            "padding": null,
            "right": null,
            "top": null,
            "visibility": null,
            "width": null
          }
        },
        "fed807dc92064b859d8f70e6d3159b29": {
          "model_module": "@jupyter-widgets/controls",
          "model_name": "DescriptionStyleModel",
          "model_module_version": "1.5.0",
          "state": {
            "_model_module": "@jupyter-widgets/controls",
            "_model_module_version": "1.5.0",
            "_model_name": "DescriptionStyleModel",
            "_view_count": null,
            "_view_module": "@jupyter-widgets/base",
            "_view_module_version": "1.2.0",
            "_view_name": "StyleView",
            "description_width": ""
          }
        },
        "e2cbeef918f449cc99ca7a4c7eb6b22d": {
          "model_module": "@jupyter-widgets/base",
          "model_name": "LayoutModel",
          "model_module_version": "1.2.0",
          "state": {
            "_model_module": "@jupyter-widgets/base",
            "_model_module_version": "1.2.0",
            "_model_name": "LayoutModel",
            "_view_count": null,
            "_view_module": "@jupyter-widgets/base",
            "_view_module_version": "1.2.0",
            "_view_name": "LayoutView",
            "align_content": null,
            "align_items": null,
            "align_self": null,
            "border": null,
            "bottom": null,
            "display": null,
            "flex": null,
            "flex_flow": null,
            "grid_area": null,
            "grid_auto_columns": null,
            "grid_auto_flow": null,
            "grid_auto_rows": null,
            "grid_column": null,
            "grid_gap": null,
            "grid_row": null,
            "grid_template_areas": null,
            "grid_template_columns": null,
            "grid_template_rows": null,
            "height": null,
            "justify_content": null,
            "justify_items": null,
            "left": null,
            "margin": null,
            "max_height": null,
            "max_width": null,
            "min_height": null,
            "min_width": null,
            "object_fit": null,
            "object_position": null,
            "order": null,
            "overflow": null,
            "overflow_x": null,
            "overflow_y": null,
            "padding": null,
            "right": null,
            "top": null,
            "visibility": null,
            "width": null
          }
        },
        "934aa230f8f64ee1be6e0cc1e9d83639": {
          "model_module": "@jupyter-widgets/controls",
          "model_name": "ProgressStyleModel",
          "model_module_version": "1.5.0",
          "state": {
            "_model_module": "@jupyter-widgets/controls",
            "_model_module_version": "1.5.0",
            "_model_name": "ProgressStyleModel",
            "_view_count": null,
            "_view_module": "@jupyter-widgets/base",
            "_view_module_version": "1.2.0",
            "_view_name": "StyleView",
            "bar_color": null,
            "description_width": ""
          }
        },
        "c51822715bb443e58e17eed83a86f782": {
          "model_module": "@jupyter-widgets/base",
          "model_name": "LayoutModel",
          "model_module_version": "1.2.0",
          "state": {
            "_model_module": "@jupyter-widgets/base",
            "_model_module_version": "1.2.0",
            "_model_name": "LayoutModel",
            "_view_count": null,
            "_view_module": "@jupyter-widgets/base",
            "_view_module_version": "1.2.0",
            "_view_name": "LayoutView",
            "align_content": null,
            "align_items": null,
            "align_self": null,
            "border": null,
            "bottom": null,
            "display": null,
            "flex": null,
            "flex_flow": null,
            "grid_area": null,
            "grid_auto_columns": null,
            "grid_auto_flow": null,
            "grid_auto_rows": null,
            "grid_column": null,
            "grid_gap": null,
            "grid_row": null,
            "grid_template_areas": null,
            "grid_template_columns": null,
            "grid_template_rows": null,
            "height": null,
            "justify_content": null,
            "justify_items": null,
            "left": null,
            "margin": null,
            "max_height": null,
            "max_width": null,
            "min_height": null,
            "min_width": null,
            "object_fit": null,
            "object_position": null,
            "order": null,
            "overflow": null,
            "overflow_x": null,
            "overflow_y": null,
            "padding": null,
            "right": null,
            "top": null,
            "visibility": null,
            "width": null
          }
        },
        "243eb751074a44c6a554268b3e65ca03": {
          "model_module": "@jupyter-widgets/controls",
          "model_name": "DescriptionStyleModel",
          "model_module_version": "1.5.0",
          "state": {
            "_model_module": "@jupyter-widgets/controls",
            "_model_module_version": "1.5.0",
            "_model_name": "DescriptionStyleModel",
            "_view_count": null,
            "_view_module": "@jupyter-widgets/base",
            "_view_module_version": "1.2.0",
            "_view_name": "StyleView",
            "description_width": ""
          }
        },
        "8544a8f1dd6c4218a65e4d8cf433e278": {
          "model_module": "@jupyter-widgets/controls",
          "model_name": "HBoxModel",
          "model_module_version": "1.5.0",
          "state": {
            "_dom_classes": [],
            "_model_module": "@jupyter-widgets/controls",
            "_model_module_version": "1.5.0",
            "_model_name": "HBoxModel",
            "_view_count": null,
            "_view_module": "@jupyter-widgets/controls",
            "_view_module_version": "1.5.0",
            "_view_name": "HBoxView",
            "box_style": "",
            "children": [
              "IPY_MODEL_835731d92b6b424f9c71b480e0ea8acc",
              "IPY_MODEL_7f4b35f3fe6143f084d70093bfb11ace",
              "IPY_MODEL_be76bc2f859d45bc81edbe8023a7982f"
            ],
            "layout": "IPY_MODEL_85a75a9a95464af7bfc36b5aa32fa829"
          }
        },
        "835731d92b6b424f9c71b480e0ea8acc": {
          "model_module": "@jupyter-widgets/controls",
          "model_name": "HTMLModel",
          "model_module_version": "1.5.0",
          "state": {
            "_dom_classes": [],
            "_model_module": "@jupyter-widgets/controls",
            "_model_module_version": "1.5.0",
            "_model_name": "HTMLModel",
            "_view_count": null,
            "_view_module": "@jupyter-widgets/controls",
            "_view_module_version": "1.5.0",
            "_view_name": "HTMLView",
            "description": "",
            "description_tooltip": null,
            "layout": "IPY_MODEL_f70442046b384f998a7ef4f5b3787d13",
            "placeholder": "​",
            "style": "IPY_MODEL_c6648e3aa1ec43cf81693722c717404e",
            "value": "Downloading data: 100%"
          }
        },
        "7f4b35f3fe6143f084d70093bfb11ace": {
          "model_module": "@jupyter-widgets/controls",
          "model_name": "FloatProgressModel",
          "model_module_version": "1.5.0",
          "state": {
            "_dom_classes": [],
            "_model_module": "@jupyter-widgets/controls",
            "_model_module_version": "1.5.0",
            "_model_name": "FloatProgressModel",
            "_view_count": null,
            "_view_module": "@jupyter-widgets/controls",
            "_view_module_version": "1.5.0",
            "_view_name": "ProgressView",
            "bar_style": "success",
            "description": "",
            "description_tooltip": null,
            "layout": "IPY_MODEL_3b971996946d443c97036dac50edb860",
            "max": 2595890,
            "min": 0,
            "orientation": "horizontal",
            "style": "IPY_MODEL_249bb0c3eacd4faea5e5c2a2878758a4",
            "value": 2595890
          }
        },
        "be76bc2f859d45bc81edbe8023a7982f": {
          "model_module": "@jupyter-widgets/controls",
          "model_name": "HTMLModel",
          "model_module_version": "1.5.0",
          "state": {
            "_dom_classes": [],
            "_model_module": "@jupyter-widgets/controls",
            "_model_module_version": "1.5.0",
            "_model_name": "HTMLModel",
            "_view_count": null,
            "_view_module": "@jupyter-widgets/controls",
            "_view_module_version": "1.5.0",
            "_view_name": "HTMLView",
            "description": "",
            "description_tooltip": null,
            "layout": "IPY_MODEL_b5e7f48005ce4de69210a20f21529a07",
            "placeholder": "​",
            "style": "IPY_MODEL_1b636631292e4c59824b90da71e46577",
            "value": " 2.60M/2.60M [00:00&lt;00:00, 12.5MB/s]"
          }
        },
        "85a75a9a95464af7bfc36b5aa32fa829": {
          "model_module": "@jupyter-widgets/base",
          "model_name": "LayoutModel",
          "model_module_version": "1.2.0",
          "state": {
            "_model_module": "@jupyter-widgets/base",
            "_model_module_version": "1.2.0",
            "_model_name": "LayoutModel",
            "_view_count": null,
            "_view_module": "@jupyter-widgets/base",
            "_view_module_version": "1.2.0",
            "_view_name": "LayoutView",
            "align_content": null,
            "align_items": null,
            "align_self": null,
            "border": null,
            "bottom": null,
            "display": null,
            "flex": null,
            "flex_flow": null,
            "grid_area": null,
            "grid_auto_columns": null,
            "grid_auto_flow": null,
            "grid_auto_rows": null,
            "grid_column": null,
            "grid_gap": null,
            "grid_row": null,
            "grid_template_areas": null,
            "grid_template_columns": null,
            "grid_template_rows": null,
            "height": null,
            "justify_content": null,
            "justify_items": null,
            "left": null,
            "margin": null,
            "max_height": null,
            "max_width": null,
            "min_height": null,
            "min_width": null,
            "object_fit": null,
            "object_position": null,
            "order": null,
            "overflow": null,
            "overflow_x": null,
            "overflow_y": null,
            "padding": null,
            "right": null,
            "top": null,
            "visibility": null,
            "width": null
          }
        },
        "f70442046b384f998a7ef4f5b3787d13": {
          "model_module": "@jupyter-widgets/base",
          "model_name": "LayoutModel",
          "model_module_version": "1.2.0",
          "state": {
            "_model_module": "@jupyter-widgets/base",
            "_model_module_version": "1.2.0",
            "_model_name": "LayoutModel",
            "_view_count": null,
            "_view_module": "@jupyter-widgets/base",
            "_view_module_version": "1.2.0",
            "_view_name": "LayoutView",
            "align_content": null,
            "align_items": null,
            "align_self": null,
            "border": null,
            "bottom": null,
            "display": null,
            "flex": null,
            "flex_flow": null,
            "grid_area": null,
            "grid_auto_columns": null,
            "grid_auto_flow": null,
            "grid_auto_rows": null,
            "grid_column": null,
            "grid_gap": null,
            "grid_row": null,
            "grid_template_areas": null,
            "grid_template_columns": null,
            "grid_template_rows": null,
            "height": null,
            "justify_content": null,
            "justify_items": null,
            "left": null,
            "margin": null,
            "max_height": null,
            "max_width": null,
            "min_height": null,
            "min_width": null,
            "object_fit": null,
            "object_position": null,
            "order": null,
            "overflow": null,
            "overflow_x": null,
            "overflow_y": null,
            "padding": null,
            "right": null,
            "top": null,
            "visibility": null,
            "width": null
          }
        },
        "c6648e3aa1ec43cf81693722c717404e": {
          "model_module": "@jupyter-widgets/controls",
          "model_name": "DescriptionStyleModel",
          "model_module_version": "1.5.0",
          "state": {
            "_model_module": "@jupyter-widgets/controls",
            "_model_module_version": "1.5.0",
            "_model_name": "DescriptionStyleModel",
            "_view_count": null,
            "_view_module": "@jupyter-widgets/base",
            "_view_module_version": "1.2.0",
            "_view_name": "StyleView",
            "description_width": ""
          }
        },
        "3b971996946d443c97036dac50edb860": {
          "model_module": "@jupyter-widgets/base",
          "model_name": "LayoutModel",
          "model_module_version": "1.2.0",
          "state": {
            "_model_module": "@jupyter-widgets/base",
            "_model_module_version": "1.2.0",
            "_model_name": "LayoutModel",
            "_view_count": null,
            "_view_module": "@jupyter-widgets/base",
            "_view_module_version": "1.2.0",
            "_view_name": "LayoutView",
            "align_content": null,
            "align_items": null,
            "align_self": null,
            "border": null,
            "bottom": null,
            "display": null,
            "flex": null,
            "flex_flow": null,
            "grid_area": null,
            "grid_auto_columns": null,
            "grid_auto_flow": null,
            "grid_auto_rows": null,
            "grid_column": null,
            "grid_gap": null,
            "grid_row": null,
            "grid_template_areas": null,
            "grid_template_columns": null,
            "grid_template_rows": null,
            "height": null,
            "justify_content": null,
            "justify_items": null,
            "left": null,
            "margin": null,
            "max_height": null,
            "max_width": null,
            "min_height": null,
            "min_width": null,
            "object_fit": null,
            "object_position": null,
            "order": null,
            "overflow": null,
            "overflow_x": null,
            "overflow_y": null,
            "padding": null,
            "right": null,
            "top": null,
            "visibility": null,
            "width": null
          }
        },
        "249bb0c3eacd4faea5e5c2a2878758a4": {
          "model_module": "@jupyter-widgets/controls",
          "model_name": "ProgressStyleModel",
          "model_module_version": "1.5.0",
          "state": {
            "_model_module": "@jupyter-widgets/controls",
            "_model_module_version": "1.5.0",
            "_model_name": "ProgressStyleModel",
            "_view_count": null,
            "_view_module": "@jupyter-widgets/base",
            "_view_module_version": "1.2.0",
            "_view_name": "StyleView",
            "bar_color": null,
            "description_width": ""
          }
        },
        "b5e7f48005ce4de69210a20f21529a07": {
          "model_module": "@jupyter-widgets/base",
          "model_name": "LayoutModel",
          "model_module_version": "1.2.0",
          "state": {
            "_model_module": "@jupyter-widgets/base",
            "_model_module_version": "1.2.0",
            "_model_name": "LayoutModel",
            "_view_count": null,
            "_view_module": "@jupyter-widgets/base",
            "_view_module_version": "1.2.0",
            "_view_name": "LayoutView",
            "align_content": null,
            "align_items": null,
            "align_self": null,
            "border": null,
            "bottom": null,
            "display": null,
            "flex": null,
            "flex_flow": null,
            "grid_area": null,
            "grid_auto_columns": null,
            "grid_auto_flow": null,
            "grid_auto_rows": null,
            "grid_column": null,
            "grid_gap": null,
            "grid_row": null,
            "grid_template_areas": null,
            "grid_template_columns": null,
            "grid_template_rows": null,
            "height": null,
            "justify_content": null,
            "justify_items": null,
            "left": null,
            "margin": null,
            "max_height": null,
            "max_width": null,
            "min_height": null,
            "min_width": null,
            "object_fit": null,
            "object_position": null,
            "order": null,
            "overflow": null,
            "overflow_x": null,
            "overflow_y": null,
            "padding": null,
            "right": null,
            "top": null,
            "visibility": null,
            "width": null
          }
        },
        "1b636631292e4c59824b90da71e46577": {
          "model_module": "@jupyter-widgets/controls",
          "model_name": "DescriptionStyleModel",
          "model_module_version": "1.5.0",
          "state": {
            "_model_module": "@jupyter-widgets/controls",
            "_model_module_version": "1.5.0",
            "_model_name": "DescriptionStyleModel",
            "_view_count": null,
            "_view_module": "@jupyter-widgets/base",
            "_view_module_version": "1.2.0",
            "_view_name": "StyleView",
            "description_width": ""
          }
        },
        "94070256508d4360aa543c8a58a60dc8": {
          "model_module": "@jupyter-widgets/controls",
          "model_name": "HBoxModel",
          "model_module_version": "1.5.0",
          "state": {
            "_dom_classes": [],
            "_model_module": "@jupyter-widgets/controls",
            "_model_module_version": "1.5.0",
            "_model_name": "HBoxModel",
            "_view_count": null,
            "_view_module": "@jupyter-widgets/controls",
            "_view_module_version": "1.5.0",
            "_view_name": "HBoxView",
            "box_style": "",
            "children": [
              "IPY_MODEL_71a6040d35f44b008d6e0380623233b0",
              "IPY_MODEL_d092b46e63f54ab9bc8f93791b6cd0b8",
              "IPY_MODEL_a0a4f72ecb654ac8aa8526b95b90d85e"
            ],
            "layout": "IPY_MODEL_af7f8a22d5d64b51b79db955c103d2be"
          }
        },
        "71a6040d35f44b008d6e0380623233b0": {
          "model_module": "@jupyter-widgets/controls",
          "model_name": "HTMLModel",
          "model_module_version": "1.5.0",
          "state": {
            "_dom_classes": [],
            "_model_module": "@jupyter-widgets/controls",
            "_model_module_version": "1.5.0",
            "_model_name": "HTMLModel",
            "_view_count": null,
            "_view_module": "@jupyter-widgets/controls",
            "_view_module_version": "1.5.0",
            "_view_name": "HTMLView",
            "description": "",
            "description_tooltip": null,
            "layout": "IPY_MODEL_12dca575b9f74e4bbf7b298586f3c6b4",
            "placeholder": "​",
            "style": "IPY_MODEL_3246acd401b24560902d645a12e49e83",
            "value": "Generating train split: "
          }
        },
        "d092b46e63f54ab9bc8f93791b6cd0b8": {
          "model_module": "@jupyter-widgets/controls",
          "model_name": "FloatProgressModel",
          "model_module_version": "1.5.0",
          "state": {
            "_dom_classes": [],
            "_model_module": "@jupyter-widgets/controls",
            "_model_module_version": "1.5.0",
            "_model_name": "FloatProgressModel",
            "_view_count": null,
            "_view_module": "@jupyter-widgets/controls",
            "_view_module_version": "1.5.0",
            "_view_name": "ProgressView",
            "bar_style": "success",
            "description": "",
            "description_tooltip": null,
            "layout": "IPY_MODEL_17e30cf9a67249ea9e48449d3ef41b2f",
            "max": 1,
            "min": 0,
            "orientation": "horizontal",
            "style": "IPY_MODEL_93f3f5fb8ccd4409928f18f7de76d687",
            "value": 1
          }
        },
        "a0a4f72ecb654ac8aa8526b95b90d85e": {
          "model_module": "@jupyter-widgets/controls",
          "model_name": "HTMLModel",
          "model_module_version": "1.5.0",
          "state": {
            "_dom_classes": [],
            "_model_module": "@jupyter-widgets/controls",
            "_model_module_version": "1.5.0",
            "_model_name": "HTMLModel",
            "_view_count": null,
            "_view_module": "@jupyter-widgets/controls",
            "_view_module_version": "1.5.0",
            "_view_name": "HTMLView",
            "description": "",
            "description_tooltip": null,
            "layout": "IPY_MODEL_a71a8f081a904588b0a62a878fcaeb3f",
            "placeholder": "​",
            "style": "IPY_MODEL_c76f3c33a4f340c9abfda3fdb5ef4dd8",
            "value": " 60000/0 [00:00&lt;00:00, 151053.28 examples/s]"
          }
        },
        "af7f8a22d5d64b51b79db955c103d2be": {
          "model_module": "@jupyter-widgets/base",
          "model_name": "LayoutModel",
          "model_module_version": "1.2.0",
          "state": {
            "_model_module": "@jupyter-widgets/base",
            "_model_module_version": "1.2.0",
            "_model_name": "LayoutModel",
            "_view_count": null,
            "_view_module": "@jupyter-widgets/base",
            "_view_module_version": "1.2.0",
            "_view_name": "LayoutView",
            "align_content": null,
            "align_items": null,
            "align_self": null,
            "border": null,
            "bottom": null,
            "display": null,
            "flex": null,
            "flex_flow": null,
            "grid_area": null,
            "grid_auto_columns": null,
            "grid_auto_flow": null,
            "grid_auto_rows": null,
            "grid_column": null,
            "grid_gap": null,
            "grid_row": null,
            "grid_template_areas": null,
            "grid_template_columns": null,
            "grid_template_rows": null,
            "height": null,
            "justify_content": null,
            "justify_items": null,
            "left": null,
            "margin": null,
            "max_height": null,
            "max_width": null,
            "min_height": null,
            "min_width": null,
            "object_fit": null,
            "object_position": null,
            "order": null,
            "overflow": null,
            "overflow_x": null,
            "overflow_y": null,
            "padding": null,
            "right": null,
            "top": null,
            "visibility": null,
            "width": null
          }
        },
        "12dca575b9f74e4bbf7b298586f3c6b4": {
          "model_module": "@jupyter-widgets/base",
          "model_name": "LayoutModel",
          "model_module_version": "1.2.0",
          "state": {
            "_model_module": "@jupyter-widgets/base",
            "_model_module_version": "1.2.0",
            "_model_name": "LayoutModel",
            "_view_count": null,
            "_view_module": "@jupyter-widgets/base",
            "_view_module_version": "1.2.0",
            "_view_name": "LayoutView",
            "align_content": null,
            "align_items": null,
            "align_self": null,
            "border": null,
            "bottom": null,
            "display": null,
            "flex": null,
            "flex_flow": null,
            "grid_area": null,
            "grid_auto_columns": null,
            "grid_auto_flow": null,
            "grid_auto_rows": null,
            "grid_column": null,
            "grid_gap": null,
            "grid_row": null,
            "grid_template_areas": null,
            "grid_template_columns": null,
            "grid_template_rows": null,
            "height": null,
            "justify_content": null,
            "justify_items": null,
            "left": null,
            "margin": null,
            "max_height": null,
            "max_width": null,
            "min_height": null,
            "min_width": null,
            "object_fit": null,
            "object_position": null,
            "order": null,
            "overflow": null,
            "overflow_x": null,
            "overflow_y": null,
            "padding": null,
            "right": null,
            "top": null,
            "visibility": null,
            "width": null
          }
        },
        "3246acd401b24560902d645a12e49e83": {
          "model_module": "@jupyter-widgets/controls",
          "model_name": "DescriptionStyleModel",
          "model_module_version": "1.5.0",
          "state": {
            "_model_module": "@jupyter-widgets/controls",
            "_model_module_version": "1.5.0",
            "_model_name": "DescriptionStyleModel",
            "_view_count": null,
            "_view_module": "@jupyter-widgets/base",
            "_view_module_version": "1.2.0",
            "_view_name": "StyleView",
            "description_width": ""
          }
        },
        "17e30cf9a67249ea9e48449d3ef41b2f": {
          "model_module": "@jupyter-widgets/base",
          "model_name": "LayoutModel",
          "model_module_version": "1.2.0",
          "state": {
            "_model_module": "@jupyter-widgets/base",
            "_model_module_version": "1.2.0",
            "_model_name": "LayoutModel",
            "_view_count": null,
            "_view_module": "@jupyter-widgets/base",
            "_view_module_version": "1.2.0",
            "_view_name": "LayoutView",
            "align_content": null,
            "align_items": null,
            "align_self": null,
            "border": null,
            "bottom": null,
            "display": null,
            "flex": null,
            "flex_flow": null,
            "grid_area": null,
            "grid_auto_columns": null,
            "grid_auto_flow": null,
            "grid_auto_rows": null,
            "grid_column": null,
            "grid_gap": null,
            "grid_row": null,
            "grid_template_areas": null,
            "grid_template_columns": null,
            "grid_template_rows": null,
            "height": null,
            "justify_content": null,
            "justify_items": null,
            "left": null,
            "margin": null,
            "max_height": null,
            "max_width": null,
            "min_height": null,
            "min_width": null,
            "object_fit": null,
            "object_position": null,
            "order": null,
            "overflow": null,
            "overflow_x": null,
            "overflow_y": null,
            "padding": null,
            "right": null,
            "top": null,
            "visibility": null,
            "width": "20px"
          }
        },
        "93f3f5fb8ccd4409928f18f7de76d687": {
          "model_module": "@jupyter-widgets/controls",
          "model_name": "ProgressStyleModel",
          "model_module_version": "1.5.0",
          "state": {
            "_model_module": "@jupyter-widgets/controls",
            "_model_module_version": "1.5.0",
            "_model_name": "ProgressStyleModel",
            "_view_count": null,
            "_view_module": "@jupyter-widgets/base",
            "_view_module_version": "1.2.0",
            "_view_name": "StyleView",
            "bar_color": null,
            "description_width": ""
          }
        },
        "a71a8f081a904588b0a62a878fcaeb3f": {
          "model_module": "@jupyter-widgets/base",
          "model_name": "LayoutModel",
          "model_module_version": "1.2.0",
          "state": {
            "_model_module": "@jupyter-widgets/base",
            "_model_module_version": "1.2.0",
            "_model_name": "LayoutModel",
            "_view_count": null,
            "_view_module": "@jupyter-widgets/base",
            "_view_module_version": "1.2.0",
            "_view_name": "LayoutView",
            "align_content": null,
            "align_items": null,
            "align_self": null,
            "border": null,
            "bottom": null,
            "display": null,
            "flex": null,
            "flex_flow": null,
            "grid_area": null,
            "grid_auto_columns": null,
            "grid_auto_flow": null,
            "grid_auto_rows": null,
            "grid_column": null,
            "grid_gap": null,
            "grid_row": null,
            "grid_template_areas": null,
            "grid_template_columns": null,
            "grid_template_rows": null,
            "height": null,
            "justify_content": null,
            "justify_items": null,
            "left": null,
            "margin": null,
            "max_height": null,
            "max_width": null,
            "min_height": null,
            "min_width": null,
            "object_fit": null,
            "object_position": null,
            "order": null,
            "overflow": null,
            "overflow_x": null,
            "overflow_y": null,
            "padding": null,
            "right": null,
            "top": null,
            "visibility": null,
            "width": null
          }
        },
        "c76f3c33a4f340c9abfda3fdb5ef4dd8": {
          "model_module": "@jupyter-widgets/controls",
          "model_name": "DescriptionStyleModel",
          "model_module_version": "1.5.0",
          "state": {
            "_model_module": "@jupyter-widgets/controls",
            "_model_module_version": "1.5.0",
            "_model_name": "DescriptionStyleModel",
            "_view_count": null,
            "_view_module": "@jupyter-widgets/base",
            "_view_module_version": "1.2.0",
            "_view_name": "StyleView",
            "description_width": ""
          }
        },
        "7bbc734c5c24422ea652d4e13f4a064a": {
          "model_module": "@jupyter-widgets/controls",
          "model_name": "HBoxModel",
          "model_module_version": "1.5.0",
          "state": {
            "_dom_classes": [],
            "_model_module": "@jupyter-widgets/controls",
            "_model_module_version": "1.5.0",
            "_model_name": "HBoxModel",
            "_view_count": null,
            "_view_module": "@jupyter-widgets/controls",
            "_view_module_version": "1.5.0",
            "_view_name": "HBoxView",
            "box_style": "",
            "children": [
              "IPY_MODEL_7347f098b6ec48b78ad5b797eb230d95",
              "IPY_MODEL_3bfa6282da6e4f819597e425c60fc635",
              "IPY_MODEL_32f649e064be4f8fb6d48b814d7ab399"
            ],
            "layout": "IPY_MODEL_68a3d1af9adc406987234b21d7d6320e"
          }
        },
        "7347f098b6ec48b78ad5b797eb230d95": {
          "model_module": "@jupyter-widgets/controls",
          "model_name": "HTMLModel",
          "model_module_version": "1.5.0",
          "state": {
            "_dom_classes": [],
            "_model_module": "@jupyter-widgets/controls",
            "_model_module_version": "1.5.0",
            "_model_name": "HTMLModel",
            "_view_count": null,
            "_view_module": "@jupyter-widgets/controls",
            "_view_module_version": "1.5.0",
            "_view_name": "HTMLView",
            "description": "",
            "description_tooltip": null,
            "layout": "IPY_MODEL_5b910194f0d948769cfdcd837ea8d892",
            "placeholder": "​",
            "style": "IPY_MODEL_4a9fa3dd1ad442bbbaab4ac38500b368",
            "value": "Generating test split: "
          }
        },
        "3bfa6282da6e4f819597e425c60fc635": {
          "model_module": "@jupyter-widgets/controls",
          "model_name": "FloatProgressModel",
          "model_module_version": "1.5.0",
          "state": {
            "_dom_classes": [],
            "_model_module": "@jupyter-widgets/controls",
            "_model_module_version": "1.5.0",
            "_model_name": "FloatProgressModel",
            "_view_count": null,
            "_view_module": "@jupyter-widgets/controls",
            "_view_module_version": "1.5.0",
            "_view_name": "ProgressView",
            "bar_style": "success",
            "description": "",
            "description_tooltip": null,
            "layout": "IPY_MODEL_de02a5034d2f43a5bec2ddfb28722c65",
            "max": 1,
            "min": 0,
            "orientation": "horizontal",
            "style": "IPY_MODEL_15725a6931e54efd82316a3a6dc9f589",
            "value": 1
          }
        },
        "32f649e064be4f8fb6d48b814d7ab399": {
          "model_module": "@jupyter-widgets/controls",
          "model_name": "HTMLModel",
          "model_module_version": "1.5.0",
          "state": {
            "_dom_classes": [],
            "_model_module": "@jupyter-widgets/controls",
            "_model_module_version": "1.5.0",
            "_model_name": "HTMLModel",
            "_view_count": null,
            "_view_module": "@jupyter-widgets/controls",
            "_view_module_version": "1.5.0",
            "_view_name": "HTMLView",
            "description": "",
            "description_tooltip": null,
            "layout": "IPY_MODEL_5bb9a837d36e45d7afb35d798edb0d3b",
            "placeholder": "​",
            "style": "IPY_MODEL_4e603bed8ac54018bb08f091749230c8",
            "value": " 10000/0 [00:00&lt;00:00, 85796.60 examples/s]"
          }
        },
        "68a3d1af9adc406987234b21d7d6320e": {
          "model_module": "@jupyter-widgets/base",
          "model_name": "LayoutModel",
          "model_module_version": "1.2.0",
          "state": {
            "_model_module": "@jupyter-widgets/base",
            "_model_module_version": "1.2.0",
            "_model_name": "LayoutModel",
            "_view_count": null,
            "_view_module": "@jupyter-widgets/base",
            "_view_module_version": "1.2.0",
            "_view_name": "LayoutView",
            "align_content": null,
            "align_items": null,
            "align_self": null,
            "border": null,
            "bottom": null,
            "display": null,
            "flex": null,
            "flex_flow": null,
            "grid_area": null,
            "grid_auto_columns": null,
            "grid_auto_flow": null,
            "grid_auto_rows": null,
            "grid_column": null,
            "grid_gap": null,
            "grid_row": null,
            "grid_template_areas": null,
            "grid_template_columns": null,
            "grid_template_rows": null,
            "height": null,
            "justify_content": null,
            "justify_items": null,
            "left": null,
            "margin": null,
            "max_height": null,
            "max_width": null,
            "min_height": null,
            "min_width": null,
            "object_fit": null,
            "object_position": null,
            "order": null,
            "overflow": null,
            "overflow_x": null,
            "overflow_y": null,
            "padding": null,
            "right": null,
            "top": null,
            "visibility": null,
            "width": null
          }
        },
        "5b910194f0d948769cfdcd837ea8d892": {
          "model_module": "@jupyter-widgets/base",
          "model_name": "LayoutModel",
          "model_module_version": "1.2.0",
          "state": {
            "_model_module": "@jupyter-widgets/base",
            "_model_module_version": "1.2.0",
            "_model_name": "LayoutModel",
            "_view_count": null,
            "_view_module": "@jupyter-widgets/base",
            "_view_module_version": "1.2.0",
            "_view_name": "LayoutView",
            "align_content": null,
            "align_items": null,
            "align_self": null,
            "border": null,
            "bottom": null,
            "display": null,
            "flex": null,
            "flex_flow": null,
            "grid_area": null,
            "grid_auto_columns": null,
            "grid_auto_flow": null,
            "grid_auto_rows": null,
            "grid_column": null,
            "grid_gap": null,
            "grid_row": null,
            "grid_template_areas": null,
            "grid_template_columns": null,
            "grid_template_rows": null,
            "height": null,
            "justify_content": null,
            "justify_items": null,
            "left": null,
            "margin": null,
            "max_height": null,
            "max_width": null,
            "min_height": null,
            "min_width": null,
            "object_fit": null,
            "object_position": null,
            "order": null,
            "overflow": null,
            "overflow_x": null,
            "overflow_y": null,
            "padding": null,
            "right": null,
            "top": null,
            "visibility": null,
            "width": null
          }
        },
        "4a9fa3dd1ad442bbbaab4ac38500b368": {
          "model_module": "@jupyter-widgets/controls",
          "model_name": "DescriptionStyleModel",
          "model_module_version": "1.5.0",
          "state": {
            "_model_module": "@jupyter-widgets/controls",
            "_model_module_version": "1.5.0",
            "_model_name": "DescriptionStyleModel",
            "_view_count": null,
            "_view_module": "@jupyter-widgets/base",
            "_view_module_version": "1.2.0",
            "_view_name": "StyleView",
            "description_width": ""
          }
        },
        "de02a5034d2f43a5bec2ddfb28722c65": {
          "model_module": "@jupyter-widgets/base",
          "model_name": "LayoutModel",
          "model_module_version": "1.2.0",
          "state": {
            "_model_module": "@jupyter-widgets/base",
            "_model_module_version": "1.2.0",
            "_model_name": "LayoutModel",
            "_view_count": null,
            "_view_module": "@jupyter-widgets/base",
            "_view_module_version": "1.2.0",
            "_view_name": "LayoutView",
            "align_content": null,
            "align_items": null,
            "align_self": null,
            "border": null,
            "bottom": null,
            "display": null,
            "flex": null,
            "flex_flow": null,
            "grid_area": null,
            "grid_auto_columns": null,
            "grid_auto_flow": null,
            "grid_auto_rows": null,
            "grid_column": null,
            "grid_gap": null,
            "grid_row": null,
            "grid_template_areas": null,
            "grid_template_columns": null,
            "grid_template_rows": null,
            "height": null,
            "justify_content": null,
            "justify_items": null,
            "left": null,
            "margin": null,
            "max_height": null,
            "max_width": null,
            "min_height": null,
            "min_width": null,
            "object_fit": null,
            "object_position": null,
            "order": null,
            "overflow": null,
            "overflow_x": null,
            "overflow_y": null,
            "padding": null,
            "right": null,
            "top": null,
            "visibility": null,
            "width": "20px"
          }
        },
        "15725a6931e54efd82316a3a6dc9f589": {
          "model_module": "@jupyter-widgets/controls",
          "model_name": "ProgressStyleModel",
          "model_module_version": "1.5.0",
          "state": {
            "_model_module": "@jupyter-widgets/controls",
            "_model_module_version": "1.5.0",
            "_model_name": "ProgressStyleModel",
            "_view_count": null,
            "_view_module": "@jupyter-widgets/base",
            "_view_module_version": "1.2.0",
            "_view_name": "StyleView",
            "bar_color": null,
            "description_width": ""
          }
        },
        "5bb9a837d36e45d7afb35d798edb0d3b": {
          "model_module": "@jupyter-widgets/base",
          "model_name": "LayoutModel",
          "model_module_version": "1.2.0",
          "state": {
            "_model_module": "@jupyter-widgets/base",
            "_model_module_version": "1.2.0",
            "_model_name": "LayoutModel",
            "_view_count": null,
            "_view_module": "@jupyter-widgets/base",
            "_view_module_version": "1.2.0",
            "_view_name": "LayoutView",
            "align_content": null,
            "align_items": null,
            "align_self": null,
            "border": null,
            "bottom": null,
            "display": null,
            "flex": null,
            "flex_flow": null,
            "grid_area": null,
            "grid_auto_columns": null,
            "grid_auto_flow": null,
            "grid_auto_rows": null,
            "grid_column": null,
            "grid_gap": null,
            "grid_row": null,
            "grid_template_areas": null,
            "grid_template_columns": null,
            "grid_template_rows": null,
            "height": null,
            "justify_content": null,
            "justify_items": null,
            "left": null,
            "margin": null,
            "max_height": null,
            "max_width": null,
            "min_height": null,
            "min_width": null,
            "object_fit": null,
            "object_position": null,
            "order": null,
            "overflow": null,
            "overflow_x": null,
            "overflow_y": null,
            "padding": null,
            "right": null,
            "top": null,
            "visibility": null,
            "width": null
          }
        },
        "4e603bed8ac54018bb08f091749230c8": {
          "model_module": "@jupyter-widgets/controls",
          "model_name": "DescriptionStyleModel",
          "model_module_version": "1.5.0",
          "state": {
            "_model_module": "@jupyter-widgets/controls",
            "_model_module_version": "1.5.0",
            "_model_name": "DescriptionStyleModel",
            "_view_count": null,
            "_view_module": "@jupyter-widgets/base",
            "_view_module_version": "1.2.0",
            "_view_name": "StyleView",
            "description_width": ""
          }
        }
      }
    }
  },
  "nbformat": 4,
  "nbformat_minor": 0
}