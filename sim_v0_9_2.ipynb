{
  "cells": [
    {
      "cell_type": "markdown",
      "metadata": {
        "id": "view-in-github",
        "colab_type": "text"
      },
      "source": [
        "<a href=\"https://colab.research.google.com/github/long2256/PoisonGAN/blob/main/sim_v0_9_2.ipynb\" target=\"_parent\"><img src=\"https://colab.research.google.com/assets/colab-badge.svg\" alt=\"Open In Colab\"/></a>"
      ]
    },
    {
      "cell_type": "code",
      "execution_count": 1,
      "metadata": {
        "colab": {
          "base_uri": "https://localhost:8080/"
        },
        "id": "zNTidNXQtiy6",
        "outputId": "893c75a9-8397-4a50-8576-31dde9a253d6"
      },
      "outputs": [
        {
          "output_type": "stream",
          "name": "stdout",
          "text": [
            "\u001b[2K     \u001b[90m━━━━━━━━━━━━━━━━━━━━━━━━━━━━━━━━━━━━━━━━\u001b[0m \u001b[32m219.2/219.2 kB\u001b[0m \u001b[31m2.0 MB/s\u001b[0m eta \u001b[36m0:00:00\u001b[0m\n",
            "\u001b[2K     \u001b[90m━━━━━━━━━━━━━━━━━━━━━━━━━━━━━━━━━━━━━━━━\u001b[0m \u001b[32m2.1/2.1 MB\u001b[0m \u001b[31m16.1 MB/s\u001b[0m eta \u001b[36m0:00:00\u001b[0m\n",
            "\u001b[2K     \u001b[90m━━━━━━━━━━━━━━━━━━━━━━━━━━━━━━━━━━━━━━━━\u001b[0m \u001b[32m56.9/56.9 MB\u001b[0m \u001b[31m14.0 MB/s\u001b[0m eta \u001b[36m0:00:00\u001b[0m\n",
            "\u001b[?25hCollecting flwr_datasets[vision]\n",
            "  Downloading flwr_datasets-0.0.2-py3-none-any.whl (22 kB)\n",
            "Collecting datasets<3.0.0,>=2.14.3 (from flwr_datasets[vision])\n",
            "  Downloading datasets-2.16.1-py3-none-any.whl (507 kB)\n",
            "\u001b[2K     \u001b[90m━━━━━━━━━━━━━━━━━━━━━━━━━━━━━━━━━━━━━━━━\u001b[0m \u001b[32m507.1/507.1 kB\u001b[0m \u001b[31m4.4 MB/s\u001b[0m eta \u001b[36m0:00:00\u001b[0m\n",
            "\u001b[?25hRequirement already satisfied: numpy<2.0.0,>=1.21.0 in /usr/local/lib/python3.10/dist-packages (from flwr_datasets[vision]) (1.23.5)\n",
            "Requirement already satisfied: pillow>=6.2.1 in /usr/local/lib/python3.10/dist-packages (from flwr_datasets[vision]) (9.4.0)\n",
            "Requirement already satisfied: filelock in /usr/local/lib/python3.10/dist-packages (from datasets<3.0.0,>=2.14.3->flwr_datasets[vision]) (3.13.1)\n",
            "Requirement already satisfied: pyarrow>=8.0.0 in /usr/local/lib/python3.10/dist-packages (from datasets<3.0.0,>=2.14.3->flwr_datasets[vision]) (10.0.1)\n",
            "Requirement already satisfied: pyarrow-hotfix in /usr/local/lib/python3.10/dist-packages (from datasets<3.0.0,>=2.14.3->flwr_datasets[vision]) (0.6)\n",
            "Collecting dill<0.3.8,>=0.3.0 (from datasets<3.0.0,>=2.14.3->flwr_datasets[vision])\n",
            "  Downloading dill-0.3.7-py3-none-any.whl (115 kB)\n",
            "\u001b[2K     \u001b[90m━━━━━━━━━━━━━━━━━━━━━━━━━━━━━━━━━━━━━━━━\u001b[0m \u001b[32m115.3/115.3 kB\u001b[0m \u001b[31m18.4 MB/s\u001b[0m eta \u001b[36m0:00:00\u001b[0m\n",
            "\u001b[?25hRequirement already satisfied: pandas in /usr/local/lib/python3.10/dist-packages (from datasets<3.0.0,>=2.14.3->flwr_datasets[vision]) (1.5.3)\n",
            "Requirement already satisfied: requests>=2.19.0 in /usr/local/lib/python3.10/dist-packages (from datasets<3.0.0,>=2.14.3->flwr_datasets[vision]) (2.31.0)\n",
            "Requirement already satisfied: tqdm>=4.62.1 in /usr/local/lib/python3.10/dist-packages (from datasets<3.0.0,>=2.14.3->flwr_datasets[vision]) (4.66.1)\n",
            "Requirement already satisfied: xxhash in /usr/local/lib/python3.10/dist-packages (from datasets<3.0.0,>=2.14.3->flwr_datasets[vision]) (3.4.1)\n",
            "Collecting multiprocess (from datasets<3.0.0,>=2.14.3->flwr_datasets[vision])\n",
            "  Downloading multiprocess-0.70.15-py310-none-any.whl (134 kB)\n",
            "\u001b[2K     \u001b[90m━━━━━━━━━━━━━━━━━━━━━━━━━━━━━━━━━━━━━━━━\u001b[0m \u001b[32m134.8/134.8 kB\u001b[0m \u001b[31m18.0 MB/s\u001b[0m eta \u001b[36m0:00:00\u001b[0m\n",
            "\u001b[?25hRequirement already satisfied: fsspec[http]<=2023.10.0,>=2023.1.0 in /usr/local/lib/python3.10/dist-packages (from datasets<3.0.0,>=2.14.3->flwr_datasets[vision]) (2023.6.0)\n",
            "Requirement already satisfied: aiohttp in /usr/local/lib/python3.10/dist-packages (from datasets<3.0.0,>=2.14.3->flwr_datasets[vision]) (3.9.1)\n",
            "Requirement already satisfied: huggingface-hub>=0.19.4 in /usr/local/lib/python3.10/dist-packages (from datasets<3.0.0,>=2.14.3->flwr_datasets[vision]) (0.20.2)\n",
            "Requirement already satisfied: packaging in /usr/local/lib/python3.10/dist-packages (from datasets<3.0.0,>=2.14.3->flwr_datasets[vision]) (23.2)\n",
            "Requirement already satisfied: pyyaml>=5.1 in /usr/local/lib/python3.10/dist-packages (from datasets<3.0.0,>=2.14.3->flwr_datasets[vision]) (6.0.1)\n",
            "Requirement already satisfied: attrs>=17.3.0 in /usr/local/lib/python3.10/dist-packages (from aiohttp->datasets<3.0.0,>=2.14.3->flwr_datasets[vision]) (23.2.0)\n",
            "Requirement already satisfied: multidict<7.0,>=4.5 in /usr/local/lib/python3.10/dist-packages (from aiohttp->datasets<3.0.0,>=2.14.3->flwr_datasets[vision]) (6.0.4)\n",
            "Requirement already satisfied: yarl<2.0,>=1.0 in /usr/local/lib/python3.10/dist-packages (from aiohttp->datasets<3.0.0,>=2.14.3->flwr_datasets[vision]) (1.9.4)\n",
            "Requirement already satisfied: frozenlist>=1.1.1 in /usr/local/lib/python3.10/dist-packages (from aiohttp->datasets<3.0.0,>=2.14.3->flwr_datasets[vision]) (1.4.1)\n",
            "Requirement already satisfied: aiosignal>=1.1.2 in /usr/local/lib/python3.10/dist-packages (from aiohttp->datasets<3.0.0,>=2.14.3->flwr_datasets[vision]) (1.3.1)\n",
            "Requirement already satisfied: async-timeout<5.0,>=4.0 in /usr/local/lib/python3.10/dist-packages (from aiohttp->datasets<3.0.0,>=2.14.3->flwr_datasets[vision]) (4.0.3)\n",
            "Requirement already satisfied: typing-extensions>=3.7.4.3 in /usr/local/lib/python3.10/dist-packages (from huggingface-hub>=0.19.4->datasets<3.0.0,>=2.14.3->flwr_datasets[vision]) (4.5.0)\n",
            "Requirement already satisfied: charset-normalizer<4,>=2 in /usr/local/lib/python3.10/dist-packages (from requests>=2.19.0->datasets<3.0.0,>=2.14.3->flwr_datasets[vision]) (3.3.2)\n",
            "Requirement already satisfied: idna<4,>=2.5 in /usr/local/lib/python3.10/dist-packages (from requests>=2.19.0->datasets<3.0.0,>=2.14.3->flwr_datasets[vision]) (3.6)\n",
            "Requirement already satisfied: urllib3<3,>=1.21.1 in /usr/local/lib/python3.10/dist-packages (from requests>=2.19.0->datasets<3.0.0,>=2.14.3->flwr_datasets[vision]) (2.0.7)\n",
            "Requirement already satisfied: certifi>=2017.4.17 in /usr/local/lib/python3.10/dist-packages (from requests>=2.19.0->datasets<3.0.0,>=2.14.3->flwr_datasets[vision]) (2023.11.17)\n",
            "Requirement already satisfied: python-dateutil>=2.8.1 in /usr/local/lib/python3.10/dist-packages (from pandas->datasets<3.0.0,>=2.14.3->flwr_datasets[vision]) (2.8.2)\n",
            "Requirement already satisfied: pytz>=2020.1 in /usr/local/lib/python3.10/dist-packages (from pandas->datasets<3.0.0,>=2.14.3->flwr_datasets[vision]) (2023.3.post1)\n",
            "Requirement already satisfied: six>=1.5 in /usr/local/lib/python3.10/dist-packages (from python-dateutil>=2.8.1->pandas->datasets<3.0.0,>=2.14.3->flwr_datasets[vision]) (1.16.0)\n",
            "Installing collected packages: dill, multiprocess, datasets, flwr_datasets\n",
            "Successfully installed datasets-2.16.1 dill-0.3.7 flwr_datasets-0.0.2 multiprocess-0.70.15\n"
          ]
        }
      ],
      "source": [
        "# depending on your shell, you might need to add `\\` before `[` and `]`.\n",
        "!pip install -q flwr[simulation]\n",
        "!pip install flwr_datasets[vision]"
      ]
    },
    {
      "cell_type": "code",
      "execution_count": 2,
      "metadata": {
        "colab": {
          "base_uri": "https://localhost:8080/"
        },
        "outputId": "4b574dff-dde2-46f2-9b01-3301e8997f0e",
        "id": "WXOcHlPPtiy8"
      },
      "outputs": [
        {
          "output_type": "stream",
          "name": "stdout",
          "text": [
            "Requirement already satisfied: matplotlib in /usr/local/lib/python3.10/dist-packages (3.7.1)\n",
            "Requirement already satisfied: contourpy>=1.0.1 in /usr/local/lib/python3.10/dist-packages (from matplotlib) (1.2.0)\n",
            "Requirement already satisfied: cycler>=0.10 in /usr/local/lib/python3.10/dist-packages (from matplotlib) (0.12.1)\n",
            "Requirement already satisfied: fonttools>=4.22.0 in /usr/local/lib/python3.10/dist-packages (from matplotlib) (4.47.2)\n",
            "Requirement already satisfied: kiwisolver>=1.0.1 in /usr/local/lib/python3.10/dist-packages (from matplotlib) (1.4.5)\n",
            "Requirement already satisfied: numpy>=1.20 in /usr/local/lib/python3.10/dist-packages (from matplotlib) (1.23.5)\n",
            "Requirement already satisfied: packaging>=20.0 in /usr/local/lib/python3.10/dist-packages (from matplotlib) (23.2)\n",
            "Requirement already satisfied: pillow>=6.2.0 in /usr/local/lib/python3.10/dist-packages (from matplotlib) (9.4.0)\n",
            "Requirement already satisfied: pyparsing>=2.3.1 in /usr/local/lib/python3.10/dist-packages (from matplotlib) (3.1.1)\n",
            "Requirement already satisfied: python-dateutil>=2.7 in /usr/local/lib/python3.10/dist-packages (from matplotlib) (2.8.2)\n",
            "Requirement already satisfied: six>=1.5 in /usr/local/lib/python3.10/dist-packages (from python-dateutil>=2.7->matplotlib) (1.16.0)\n"
          ]
        }
      ],
      "source": [
        "!pip install matplotlib"
      ]
    },
    {
      "cell_type": "code",
      "execution_count": 3,
      "metadata": {
        "id": "e9K5nFNjtiy-",
        "outputId": "1c26950e-9157-4341-aba9-8392d4ae68fb",
        "colab": {
          "base_uri": "https://localhost:8080/",
          "height": 304,
          "referenced_widgets": [
            "2f14ba3a6180416682388ede8243a423",
            "c87040b4d5374b0e910ba8d084284c99",
            "6b12ebbb7e8245d090cc7689474bcaa9",
            "3085f4191dad43fb9f38a96a37376a50",
            "1875f53e746c47a0b7d800e27ebfcf3f",
            "18c28feb96d54341865bef64b5bf02da",
            "5b7616475f1341638e4ca44926dc2c09",
            "df830296a6d44898b0288b955e9e5429",
            "6d3577f6e28b480794e5461c512c8a35",
            "ad21e35ab1c74a3bbb50ea0f64ca61d6",
            "c6aadc08c0b249f98751d4d295fe3a86",
            "afbc2214514142c98a3f6b7997584fca",
            "7a4c0a64b9f140f9bf1c1ba0319a1089",
            "9438d7a1d7104065b86e16d09e79a6ce",
            "ff31a09a410848858b240a6dd467e108",
            "2252a3888cb54226a27a6287a012dd65",
            "28a14270d86145d6bfb20e584eebc42d",
            "041afcd293994ae3a57d41046c64eee2",
            "d92876995df54b81920252e3cd684069",
            "b95760ac085d4a55a2aaf70ef9accb3d",
            "630e6ec3c3564cc7ba7b198e2b71281e",
            "47a59c112f4f4899841764a795a9b53e",
            "5a1fa1afda2a451c899173cd82bf7e51",
            "64ae3700f65343c480fd60942552e614",
            "1347cc06708a4f56a9f3a257bab5ec31",
            "67496d60217e48e5a42226241b4b078e",
            "9f4a4dc8b63445fd989a1822110c1767",
            "e6d6ad6bc4a245d385dfed24716f3fcb",
            "db89f49c953e467a9a969ab414de14dc",
            "6c6298b9bd0842e3bec3e7f8579def3c",
            "8c00b9e9eac74f998b96c1538cff9cba",
            "d105b8debf084e9487d3531a45e937d6",
            "480df0c9632947c18de9b8a2c9ece914",
            "834b7c3af30045e0ac2e968d1796feca",
            "9e7e52dbb2f74477b9cc256742d16551",
            "7ca775150a9245048c080b432750b308",
            "854836c39bc442f285829cc96901d98e",
            "6e0c9bad79ca48cba253e31fc210308b",
            "8b63506a75ce4bc4bdd9cd8e83ab8630",
            "d46206ab1dfe47a28dbd4196e7695593",
            "a6c5773841514df3ae56efc3a5a8fadd",
            "27026a21f5234e0aa47d146e46f07c56",
            "e548d6dfeeb5459bac93b04ee7dc467c",
            "c52959cf43654bffac9864876c14687b"
          ]
        }
      },
      "outputs": [
        {
          "output_type": "stream",
          "name": "stderr",
          "text": [
            "/usr/local/lib/python3.10/dist-packages/huggingface_hub/utils/_token.py:88: UserWarning: \n",
            "The secret `HF_TOKEN` does not exist in your Colab secrets.\n",
            "To authenticate with the Hugging Face Hub, create a token in your settings tab (https://huggingface.co/settings/tokens), set it as secret in your Google Colab and restart your session.\n",
            "You will be able to reuse this secret in all of your notebooks.\n",
            "Please note that authentication is recommended but still optional to access public models or datasets.\n",
            "  warnings.warn(\n"
          ]
        },
        {
          "output_type": "display_data",
          "data": {
            "text/plain": [
              "Downloading data:   0%|          | 0.00/15.6M [00:00<?, ?B/s]"
            ],
            "application/vnd.jupyter.widget-view+json": {
              "version_major": 2,
              "version_minor": 0,
              "model_id": "2f14ba3a6180416682388ede8243a423"
            }
          },
          "metadata": {}
        },
        {
          "output_type": "display_data",
          "data": {
            "text/plain": [
              "Downloading data:   0%|          | 0.00/2.60M [00:00<?, ?B/s]"
            ],
            "application/vnd.jupyter.widget-view+json": {
              "version_major": 2,
              "version_minor": 0,
              "model_id": "afbc2214514142c98a3f6b7997584fca"
            }
          },
          "metadata": {}
        },
        {
          "output_type": "display_data",
          "data": {
            "text/plain": [
              "Generating train split: 0 examples [00:00, ? examples/s]"
            ],
            "application/vnd.jupyter.widget-view+json": {
              "version_major": 2,
              "version_minor": 0,
              "model_id": "5a1fa1afda2a451c899173cd82bf7e51"
            }
          },
          "metadata": {}
        },
        {
          "output_type": "display_data",
          "data": {
            "text/plain": [
              "Generating test split: 0 examples [00:00, ? examples/s]"
            ],
            "application/vnd.jupyter.widget-view+json": {
              "version_major": 2,
              "version_minor": 0,
              "model_id": "834b7c3af30045e0ac2e968d1796feca"
            }
          },
          "metadata": {}
        },
        {
          "output_type": "execute_result",
          "data": {
            "text/plain": [
              "{'image': Image(decode=True, id=None),\n",
              " 'label': ClassLabel(names=['0', '1', '2', '3', '4', '5', '6', '7', '8', '9'], id=None)}"
            ]
          },
          "metadata": {},
          "execution_count": 3
        }
      ],
      "source": [
        "from datasets import Dataset\n",
        "from flwr_datasets import FederatedDataset\n",
        "from datasets.utils.logging import disable_progress_bar\n",
        "from torch.utils.data import TensorDataset\n",
        "\n",
        "# Let's set a simulation involving a total of 100 clients\n",
        "NUM_CLIENTS = 33\n",
        "\n",
        "# Download MNIST dataset and partition the \"train\" partition (so one can be assigned to each client)\n",
        "mnist_fds = FederatedDataset(dataset=\"mnist\", partitioners={\"train\": NUM_CLIENTS})\n",
        "# Let's keep the test set as is, and use it to evaluate the global model on the server\n",
        "centralized_testset = mnist_fds.load_full(\"test\")\n",
        "partition = mnist_fds.load_partition(0, \"train\")\n",
        "partition.features"
      ]
    },
    {
      "cell_type": "code",
      "source": [
        "import matplotlib.pyplot as plt\n",
        "def calculate_label_distribution(data_loaders):\n",
        "    label_counts = {}\n",
        "    for loader in data_loaders:\n",
        "        images = loader[\"image\"]\n",
        "        labels = [loader[\"label\"]]\n",
        "        for label in labels:\n",
        "            label = int(label)\n",
        "            if label in label_counts:\n",
        "                label_counts[label] += 1\n",
        "            else:\n",
        "                label_counts[label] = 1\n",
        "    return label_counts\n",
        "\n",
        "def plot_label_distribution(label_counts):\n",
        "    # Vẽ biểu đồ histogram\n",
        "    plt.bar(label_counts.keys(), label_counts.values())\n",
        "    plt.xlabel('Label')\n",
        "    plt.ylabel('Number of Images')\n",
        "    plt.title('Distribution of Labels in the Dataset')\n",
        "    plt.xticks(range(10))\n",
        "    plt.show()\n",
        "    # Tính toán phân phối nhãn từ tất cả các dataloader\n",
        "all_trainloaders = partition # Gộp tất cả các dataloader lại\n",
        "all_label_counts = calculate_label_distribution(all_trainloaders)\n",
        "\n",
        "# Vẽ biểu đồ tương quan giữa tất cả các dataloader\n",
        "plot_label_distribution(all_label_counts)"
      ],
      "metadata": {
        "id": "AAxfaOXFUcxf",
        "outputId": "efdd589c-5a0e-46c5-9548-f087c0985079",
        "colab": {
          "base_uri": "https://localhost:8080/",
          "height": 472
        }
      },
      "execution_count": 4,
      "outputs": [
        {
          "output_type": "display_data",
          "data": {
            "text/plain": [
              "<Figure size 640x480 with 1 Axes>"
            ],
            "image/png": "[encoded data removed]"
          },
          "metadata": {}
        }
      ]
    },
    {
      "cell_type": "code",
      "execution_count": 5,
      "metadata": {
        "id": "b_T97AxStiy-"
      },
      "outputs": [],
      "source": [
        "from torchvision.transforms import ToTensor, Normalize, Compose, Resize\n",
        "\n",
        "\n",
        "def apply_transforms(batch):\n",
        "    \"\"\"Get transformation for MNIST dataset\"\"\"\n",
        "\n",
        "    # transformation to convert images to tensors and apply normalization\n",
        "    transforms = Compose([\n",
        "        ToTensor(),\n",
        "        Normalize((0.5,), (0.5,)),\n",
        "        Resize((64, 64), antialias=False)\n",
        "        ])\n",
        "    batch[\"image\"] = [transforms(img) for img in batch[\"image\"]]\n",
        "    return batch"
      ]
    },
    {
      "cell_type": "code",
      "execution_count": 6,
      "metadata": {
        "id": "e7NzdFp6tiy9"
      },
      "outputs": [],
      "source": [
        "import torch\n",
        "import torch.nn as nn\n",
        "import torch.nn.functional as F\n",
        "from torch.utils.data import DataLoader\n",
        "\n",
        "class Net(nn.Module):\n",
        "    def __init__(self, num_classes: int):\n",
        "        super(Net, self).__init__()\n",
        "        self.conv1 = nn.Conv2d(in_channels=1, out_channels=64, kernel_size=4, stride=2, padding=1)\n",
        "        self.leaky1 = nn.LeakyReLU()\n",
        "\n",
        "        self.conv2 = nn.Conv2d(in_channels=64, out_channels=64, kernel_size=4, stride=2, padding=1)\n",
        "        self.leaky2 = nn.LeakyReLU()\n",
        "\n",
        "        self.conv3 = nn.Conv2d(in_channels=64, out_channels=64, kernel_size=4, stride=2, padding=1)\n",
        "        self.leaky3 = nn.LeakyReLU()\n",
        "\n",
        "        self.conv4 = nn.Conv2d(in_channels=64, out_channels=128, kernel_size=3, stride=1, padding=1)\n",
        "        self.leaky4 = nn.LeakyReLU()\n",
        "\n",
        "        self.conv5 = nn.Conv2d(in_channels=128, out_channels=128, kernel_size=3, stride=1, padding=1)\n",
        "        self.leaky5 = nn.LeakyReLU()\n",
        "\n",
        "        self.conv6 = nn.Conv2d(in_channels=128, out_channels=128, kernel_size=3, stride=1, padding=1)\n",
        "        self.leaky6 = nn.LeakyReLU()\n",
        "\n",
        "        self.avgpool = nn.AvgPool2d(2, stride=2)\n",
        "\n",
        "        self.fc = nn.Linear(4 * 4 * 128, num_classes)  # 10 classes for MNIST\n",
        "        self.softmax = nn.Softmax(dim=1)\n",
        "\n",
        "    def forward(self, x):\n",
        "        x = self.conv1(x)\n",
        "        x = self.leaky1(x)\n",
        "\n",
        "        x = self.conv2(x)\n",
        "        x = self.leaky2(x)\n",
        "\n",
        "        x = self.conv3(x)\n",
        "        x = self.leaky3(x)\n",
        "\n",
        "        x = self.conv4(x)\n",
        "        x = self.leaky4(x)\n",
        "\n",
        "        x = self.conv5(x)\n",
        "        x = self.leaky5(x)\n",
        "\n",
        "        x = self.conv6(x)\n",
        "        x = self.leaky6(x)\n",
        "\n",
        "        x = self.avgpool(x)\n",
        "        x = x.view(x.size(0), -1)  # Flatten the output\n",
        "        x = self.fc(x)\n",
        "        x = self.softmax(x)\n",
        "\n",
        "        return x\n",
        "\n",
        "class Discriminator(nn.Module):\n",
        "    def __init__(self):\n",
        "        super(Discriminator, self).__init__()\n",
        "        self.conv1 = nn.Conv2d(in_channels=1, out_channels=64, kernel_size=4, stride=2, padding=1)\n",
        "        self.leaky1 = nn.LeakyReLU()\n",
        "        self.dropout = nn.Dropout()\n",
        "\n",
        "        self.conv2 = nn.Conv2d(in_channels=64, out_channels=64, kernel_size=4, stride=2, padding=1)\n",
        "        self.batchnorm1 = nn.BatchNorm2d(64)\n",
        "        self.leaky2 = nn.LeakyReLU()\n",
        "\n",
        "        self.conv3 = nn.Conv2d(in_channels=64, out_channels=64, kernel_size=4, stride=2, padding=1)\n",
        "        self.batchnorm2 = nn.BatchNorm2d(64)\n",
        "        self.leaky3 = nn.LeakyReLU()\n",
        "\n",
        "        self.conv4 = nn.Conv2d(in_channels=64, out_channels=128, kernel_size=3, stride=1, padding=1)\n",
        "        self.batchnorm3 = nn.BatchNorm2d(128)\n",
        "        self.leaky4 = nn.LeakyReLU()\n",
        "\n",
        "        self.conv5 = nn.Conv2d(in_channels=128, out_channels=128, kernel_size=3, stride=1, padding=1)\n",
        "        self.batchnorm4 = nn.BatchNorm2d(128)\n",
        "        self.leaky5 = nn.LeakyReLU()\n",
        "\n",
        "        self.conv6 = nn.Conv2d(in_channels=128, out_channels=128, kernel_size=3, stride=1, padding=1)\n",
        "        self.leaky6 = nn.LeakyReLU()\n",
        "\n",
        "        self.avgpool = nn.AvgPool2d(2, stride=2)\n",
        "\n",
        "        self.fc = nn.Linear(4 * 4 * 128, 1)\n",
        "        self.sigmoid = nn.Sigmoid()\n",
        "\n",
        "    def forward(self, x):\n",
        "        x = self.conv1(x)\n",
        "        x = self.leaky1(x)\n",
        "        x = self.dropout(x)\n",
        "\n",
        "        x = self.conv2(x)\n",
        "        x = self.batchnorm1(x)\n",
        "        x = self.leaky2(x)\n",
        "\n",
        "        x = self.conv3(x)\n",
        "        x = self.batchnorm2(x)\n",
        "        x = self.leaky3(x)\n",
        "\n",
        "        x = self.conv4(x)\n",
        "        x = self.batchnorm3(x)\n",
        "        x = self.leaky4(x)\n",
        "\n",
        "        x = self.conv5(x)\n",
        "        x = self.batchnorm4(x)\n",
        "        x = self.leaky5(x)\n",
        "\n",
        "        x = self.conv6(x)\n",
        "        x = self.leaky6(x)\n",
        "\n",
        "        x = self.avgpool(x)\n",
        "        x = x.view(x.size(0), -1)  # Flatten the output\n",
        "        x = self.fc(x)\n",
        "        x = self.sigmoid(x)\n",
        "\n",
        "        return x.view(-1, 1).squeeze(1)\n",
        "\n",
        "\n",
        "class Generator(nn.Module):\n",
        "    def __init__(self):\n",
        "        super(Generator, self).__init__()\n",
        "\n",
        "        self.conv1 = nn.ConvTranspose2d(100, 256, kernel_size=4, stride=4, padding=0, bias=False)\n",
        "        self.batchnorm1 = nn.BatchNorm2d(256)\n",
        "        self.leaky1 = nn.LeakyReLU()\n",
        "\n",
        "        self.conv2 = nn.ConvTranspose2d(256, 128, kernel_size=4, stride=4, padding=0, bias=False)\n",
        "        self.batchnorm2 = nn.BatchNorm2d(128)\n",
        "        self.leaky2 = nn.LeakyReLU()\n",
        "\n",
        "        self.conv3 = nn.ConvTranspose2d(128, 64, kernel_size=4, stride=2, padding=1, bias=False)\n",
        "        self.batchnorm3 = nn.BatchNorm2d(64)\n",
        "        self.leaky3 = nn.LeakyReLU()\n",
        "\n",
        "        self.conv4 = nn.ConvTranspose2d(64, 1, kernel_size=4, stride=2, padding=1, bias=False)\n",
        "        self.tanh = nn.Tanh()\n",
        "\n",
        "    def forward(self, x):\n",
        "        x = self.conv1(x)\n",
        "        x = self.batchnorm1(x)\n",
        "        x = self.leaky1(x)\n",
        "        x = self.conv2(x)\n",
        "        x = self.batchnorm2(x)\n",
        "        x = self.leaky2(x)\n",
        "        x = self.conv3(x)\n",
        "        x = self.batchnorm3(x)\n",
        "        x = self.leaky3(x)\n",
        "        x = self.conv4(x)\n",
        "        x = self.tanh(x)\n",
        "        return x"
      ]
    },
    {
      "cell_type": "code",
      "execution_count": 7,
      "metadata": {
        "id": "2BkZd5y0tiy-"
      },
      "outputs": [],
      "source": [
        "import torch.optim as optim\n",
        "import torch.optim.lr_scheduler as lr_scheduler\n",
        "def train(net, trainloader, optim, scheduler, criterion, epochs, device: str):\n",
        "    \"\"\"Train the network on the training set.\"\"\"\n",
        "    net.train()\n",
        "    for _ in range(epochs):\n",
        "        for batch in trainloader:\n",
        "            images, labels = batch[\"image\"].to(device), batch[\"label\"].to(device)\n",
        "            optim.zero_grad()\n",
        "            outputs = net(images)\n",
        "            loss = criterion(outputs, labels)\n",
        "            loss.backward()\n",
        "            optim.step()\n",
        "        scheduler.step()\n",
        "\n",
        "def test_standard(net, testloader, device: str):\n",
        "    \"\"\"Validate the network on the entire test set.\"\"\"\n",
        "    criterion = torch.nn.CrossEntropyLoss()\n",
        "    correct, loss = 0, 0.0\n",
        "    net.eval()\n",
        "    with torch.no_grad():\n",
        "        for data in testloader:\n",
        "            images, labels = data[\"image\"].to(device), data[\"label\"].to(device)\n",
        "            outputs = net(images)\n",
        "            loss += criterion(outputs, labels).item()\n",
        "            _, predicted = torch.max(outputs.data, 1)\n",
        "            correct += (predicted == labels).sum().item()\n",
        "    accuracy = 100 * correct / len(testloader.dataset)\n",
        "    return loss, accuracy\n"
      ]
    },
    {
      "cell_type": "code",
      "execution_count": 8,
      "metadata": {
        "id": "EftKsIuMtiy_"
      },
      "outputs": [],
      "source": [
        "import flwr as fl"
      ]
    },
    {
      "cell_type": "code",
      "execution_count": 9,
      "metadata": {
        "id": "TkpxfwT9tiy_"
      },
      "outputs": [],
      "source": [
        "from collections import OrderedDict\n",
        "from typing import Dict, List, Tuple, Union, Optional\n",
        "from flwr.server.client_proxy import ClientProxy\n",
        "from flwr.common import NDArrays, Scalar, Parameters\n",
        "\n",
        "\n",
        "class FlowerClient(fl.client.NumPyClient):\n",
        "    def __init__(self, cid, trainloader, valloader, testloader) -> None:\n",
        "        super().__init__()\n",
        "\n",
        "        self.trainloader = trainloader\n",
        "        self.valloader = valloader\n",
        "        self.testloader = testloader\n",
        "        self.cid = cid\n",
        "        self.model = Net(num_classes=10)\n",
        "        # Determine device\n",
        "        self.device = torch.device(\"cuda:0\" if torch.cuda.is_available() else \"cpu\")\n",
        "        self.model.to(self.device)  # send model to device\n",
        "\n",
        "    def set_parameters(self, parameters):\n",
        "        \"\"\"With the model paramters received from the server,\n",
        "        overwrite the uninitialise model in this class with them.\"\"\"\n",
        "\n",
        "        params_dict = zip(self.model.state_dict().keys(), parameters)\n",
        "        state_dict = OrderedDict({k: torch.Tensor(v) for k, v in params_dict})\n",
        "        # now replace the parameters\n",
        "        self.model.load_state_dict(state_dict, strict=True)\n",
        "\n",
        "    def get_parameters(self, config: Dict[str, Scalar]):\n",
        "        \"\"\"Extract all model parameters and conver them to a list of\n",
        "        NumPy arryas. The server doesn't work with PyTorch/TF/etc.\"\"\"\n",
        "        # print(f\"[Client {self.cid}] get_parameters\")\n",
        "        return [val.cpu().numpy() for _, val in self.model.state_dict().items()]\n",
        "\n",
        "    def fit(self, parameters, config):\n",
        "        \"\"\"This method train the model using the parameters sent by the\n",
        "        server on the dataset of this client. At then end, the parameters\n",
        "        of the locally trained model are communicated back to the server\"\"\"\n",
        "        # print(f\"[Client {self.cid}] fit, config: {config}\")\n",
        "        # copy parameters sent by the server into client's local model\n",
        "        self.set_parameters(parameters)\n",
        "        lr, epochs = config[\"lr\"], config[\"epochs\"]\n",
        "        optim = torch.optim.SGD(self.model.parameters(), lr=lr)\n",
        "        scheduler = lr_scheduler.StepLR(optim, step_size=2, gamma=0.1)\n",
        "        criterion = torch.nn.CrossEntropyLoss()\n",
        "        train(net=self.model, trainloader=self.trainloader, optim=optim, scheduler=scheduler, criterion=criterion, epochs=epochs, device=self.device)\n",
        "        # return the model parameters to the server as well as extra info (number of training examples in this case)\n",
        "        return self.get_parameters({}), len(self.trainloader), {}\n",
        "\n",
        "    def evaluate(self, parameters: NDArrays, config: Dict[str, Scalar]):\n",
        "        \"\"\"Evaluate the model sent by the server on this client's\n",
        "        local validation set. Then return performance metrics.\"\"\"\n",
        "\n",
        "        self.set_parameters(parameters)\n",
        "        loss, accuracy = test_standard(self.model, self.valloader, device=self.device)\n",
        "\n",
        "        return float(loss), len(self.valloader), {\"accuracy\": accuracy}"
      ]
    },
    {
      "cell_type": "code",
      "source": [
        "import glob\n",
        "import os\n",
        "def load_model_state_dict():\n",
        "    net = Net(10)\n",
        "    list_of_files = [fname for fname in glob.glob(\"./model_round_*\")]\n",
        "    latest_round_file = max(list_of_files, key=os.path.getctime)\n",
        "    # latest_round_file = './model_round_df.pth'\n",
        "    print(\"Loading pre-trained model from: \", latest_round_file)\n",
        "    state_dict = torch.load(latest_round_file)\n",
        "    net.load_state_dict(state_dict)\n",
        "    return net"
      ],
      "metadata": {
        "id": "FiR-tVieingX"
      },
      "execution_count": 10,
      "outputs": []
    },
    {
      "cell_type": "code",
      "execution_count": 11,
      "metadata": {
        "id": "BPJKeYr6tiy_"
      },
      "outputs": [],
      "source": [
        "def get_evaluate_fn(centralized_testset: Dataset):\n",
        "    \"\"\"This is a function that returns a function. The returned\n",
        "    function (i.e. `evaluate_fn`) will be executed by the strategy\n",
        "    at the end of each round to evaluate the stat of the global\n",
        "    model.\"\"\"\n",
        "\n",
        "    def evaluate_fn(server_round: int, parameters, config):\n",
        "        \"\"\"This function is executed by the strategy it will instantiate\n",
        "        a model and replace its parameters with those from the global model.\n",
        "        The, the model will be evaluate on the test set (recall this is the\n",
        "        whole MNIST test set).\"\"\"\n",
        "\n",
        "        model = Net(num_classes=10)\n",
        "\n",
        "        # Determine device\n",
        "        device = torch.device(\"cuda:0\" if torch.cuda.is_available() else \"cpu\")\n",
        "        model.to(device)  # send model to device\n",
        "\n",
        "        # set parameters to the model\n",
        "        params_dict = zip(model.state_dict().keys(), parameters)\n",
        "        state_dict = OrderedDict({k: torch.Tensor(v) for k, v in params_dict})\n",
        "        model.load_state_dict(state_dict, strict=True)\n",
        "\n",
        "        ###############################################################################\n",
        "        # device = torch.device(\"cuda:0\" if torch.cuda.is_available() else \"cpu\")\n",
        "        # model = load_model_state_dict()\n",
        "        # model.to(device)\n",
        "        ###############################################################################\n",
        "        # Apply transform to dataset\n",
        "        testset = centralized_testset.with_transform(apply_transforms)\n",
        "\n",
        "        testloader = DataLoader(testset, batch_size=50)\n",
        "        # call test\n",
        "        loss, accuracy = test_standard(model, testloader, device)\n",
        "        print('GLOBAL TEST')\n",
        "        return loss, {\"accuracy\": accuracy}\n",
        "\n",
        "    return evaluate_fn"
      ]
    },
    {
      "cell_type": "code",
      "execution_count": 12,
      "metadata": {
        "id": "uKusgaOAtiy_"
      },
      "outputs": [],
      "source": [
        "from flwr.common import Metrics, FitRes\n",
        "\n",
        "\n",
        "def fit_config(server_round: int) -> Dict[str, Scalar]:\n",
        "    \"\"\"Return a configuration with static batch size and (local) epochs.\"\"\"\n",
        "    config = {\n",
        "        \"epochs\": 10,  # Number of local epochs done by clients\n",
        "        \"lr\": 0.1,  # Learning rate to use by clients during fit()\n",
        "        \"attacker_epochs\": 20,\n",
        "        \"attacker_lr\": 0.05,\n",
        "    }\n",
        "    return config\n",
        "\n",
        "\n",
        "def weighted_average(metrics: List[Tuple[int, Metrics]]) -> Metrics:\n",
        "    \"\"\"Aggregation function for (federated) evaluation metrics, i.e. those returned by\n",
        "    the client's evaluate() method.\"\"\"\n",
        "    # Multiply accuracy of each client by number of examples used\n",
        "    accuracies = [num_examples * m[\"accuracy\"] for num_examples, m in metrics]\n",
        "    examples = [num_examples for num_examples, _ in metrics]\n",
        "\n",
        "    # Aggregate and return custom metric (weighted average)\n",
        "    return {\"accuracy\": sum(accuracies) / sum(examples)}"
      ]
    },
    {
      "cell_type": "code",
      "source": [
        "import numpy as np\n",
        "class SaveModelStrategy(fl.server.strategy.FedAvg):\n",
        "    def aggregate_fit(\n",
        "        self,\n",
        "        server_round: int,\n",
        "        results: List[Tuple[fl.server.client_proxy.ClientProxy, fl.common.FitRes]],\n",
        "        failures: List[Union[Tuple[ClientProxy, FitRes], BaseException]],\n",
        "    ) -> Tuple[Optional[Parameters], Dict[str, Scalar]]:\n",
        "        \"\"\"Aggregate model weights using weighted average and store checkpoint\"\"\"\n",
        "        model=Net(10)\n",
        "        # Call aggregate_fit from base class (FedAvg) to aggregate parameters and metrics\n",
        "        aggregated_parameters, aggregated_metrics = super().aggregate_fit(server_round, results, failures)\n",
        "\n",
        "        if aggregated_parameters is not None:\n",
        "            print(f\"Saving round {server_round} aggregated_parameters...\")\n",
        "\n",
        "            # Convert `Parameters` to `List[np.ndarray]`\n",
        "            aggregated_ndarrays: List[np.ndarray] = fl.common.parameters_to_ndarrays(aggregated_parameters)\n",
        "\n",
        "            # Convert `List[np.ndarray]` to PyTorch`state_dict`\n",
        "            params_dict = zip(model.state_dict().keys(), aggregated_ndarrays)\n",
        "            state_dict = OrderedDict({k: torch.tensor(v) for k, v in params_dict})\n",
        "            model.load_state_dict(state_dict, strict=True)\n",
        "\n",
        "            # Save the model\n",
        "            torch.save(model.state_dict(), f\"model_round_{server_round}.pth\")\n",
        "        return aggregated_parameters, aggregated_metrics"
      ],
      "metadata": {
        "id": "gIoh_OAxATO7"
      },
      "execution_count": 13,
      "outputs": []
    },
    {
      "cell_type": "code",
      "execution_count": 14,
      "metadata": {
        "id": "FpB15Xv3tizA"
      },
      "outputs": [],
      "source": [
        "strategy = SaveModelStrategy(\n",
        "    fraction_fit=0.31,  # Sample 10% of available clients for training\n",
        "    fraction_evaluate=0.31,  # Sample 5% of available clients for evaluation\n",
        "    on_fit_config_fn=fit_config,\n",
        "    evaluate_metrics_aggregation_fn=weighted_average,  # aggregates federated metrics\n",
        "    evaluate_fn=get_evaluate_fn(centralized_testset),  # global evaluation function\n",
        ")"
      ]
    },
    {
      "cell_type": "code",
      "execution_count": 15,
      "metadata": {
        "id": "g0HZTdGHtizA"
      },
      "outputs": [],
      "source": [
        "from torch.utils.data import DataLoader\n",
        "\n",
        "\n",
        "def get_client_fn(dataset: FederatedDataset):\n",
        "    \"\"\"Return a function to construct a client.\n",
        "\n",
        "    The VirtualClientEngine will execute this function whenever a client is sampled by\n",
        "    the strategy to participate.\n",
        "    \"\"\"\n",
        "\n",
        "    def client_fn(cid: str) -> fl.client.Client:\n",
        "        \"\"\"Construct a FlowerClient with its own dataset partition.\"\"\"\n",
        "\n",
        "        # Let's get the partition corresponding to the i-th client\n",
        "        client_dataset = dataset.load_partition(int(cid), \"train\")\n",
        "\n",
        "        # Now let's split it into train (90%) and validation (10%)\n",
        "        client_dataset_splits = client_dataset.train_test_split(test_size=0.1)\n",
        "\n",
        "        trainset = client_dataset_splits[\"train\"]\n",
        "        valset = client_dataset_splits[\"test\"]\n",
        "\n",
        "        # Now we apply the transform to each batch.\n",
        "        trainloader = DataLoader(\n",
        "            trainset.with_transform(apply_transforms), batch_size=256, shuffle=True\n",
        "        )\n",
        "        valloader = DataLoader(valset.with_transform(apply_transforms), batch_size=256)\n",
        "        testset = centralized_testset.with_transform(apply_transforms)\n",
        "\n",
        "        testloader = DataLoader(testset, batch_size=50)\n",
        "        # Create and return client\n",
        "        return FlowerClient(int(cid), trainloader, valloader, testloader)\n",
        "\n",
        "    return client_fn\n",
        "\n",
        "\n",
        "client_fn_callback = get_client_fn(mnist_fds)"
      ]
    },
    {
      "cell_type": "markdown",
      "metadata": {
        "id": "TRAALrO7tizA"
      },
      "source": [
        "Now we are ready to launch the FL experiment using Flower simulation:"
      ]
    },
    {
      "cell_type": "code",
      "execution_count": 16,
      "metadata": {
        "id": "WOOq8qkUtizA"
      },
      "outputs": [],
      "source": [
        "# # With a dictionary, you tell Flower's VirtualClientEngine that each\n",
        "# # client needs exclusive access to these many resources in order to run\n",
        "# client_resources = {\"num_cpus\": 0.2, \"num_gpus\": 0.1}\n",
        "\n",
        "# # Let's disable tqdm progress bar in the main thread (used by the server)\n",
        "# disable_progress_bar()\n",
        "\n",
        "# history = fl.simulation.start_simulation(\n",
        "#     client_fn=client_fn_callback,  # a callback to construct a client\n",
        "#     num_clients=NUM_CLIENTS,  # total number of clients in the experiment\n",
        "#     config=fl.server.ServerConfig(num_rounds=70),  # let's run for 10 rounds\n",
        "#     strategy=strategy,  # the strategy that will orchestrate the whole FL pipeline\n",
        "#     client_resources=client_resources,\n",
        "#     actor_kwargs={\n",
        "#         \"on_actor_init_fn\": disable_progress_bar  # disable tqdm on each actor/process spawning virtual clients\n",
        "#     },\n",
        "# )"
      ]
    },
    {
      "cell_type": "code",
      "execution_count": 17,
      "metadata": {
        "id": "-poMHY3BtizA"
      },
      "outputs": [],
      "source": [
        "# import matplotlib.pyplot as plt\n",
        "\n",
        "# print(f\"{history.metrics_centralized = }\")\n",
        "\n",
        "# global_accuracy_centralised = history.metrics_centralized[\"accuracy\"]\n",
        "# round = [data[0] for data in global_accuracy_centralised]\n",
        "# acc = [data[1] for data in global_accuracy_centralised]\n",
        "# plt.plot(round, acc)\n",
        "# plt.grid()\n",
        "# plt.ylabel(\"Accuracy (%)\")\n",
        "# plt.xlabel(\"Round\")\n",
        "# plt.title(\"MNIST - IID - 30 clients with 10 clients per round\")"
      ]
    },
    {
      "cell_type": "markdown",
      "metadata": {
        "id": "7dLYQcJ3tizA"
      },
      "source": [
        "Congratulations! With that, you built a Flower client, customized it's instantiation through the `client_fn`, customized the server-side execution through a `FedAvg` strategy configured for this workload, and started a simulation with 100 clients (each holding their own individual partition of the MNIST dataset).\n",
        "\n",
        "Next, you can continue to explore more advanced Flower topics:\n",
        "\n",
        "- Deploy server and clients on different machines using `start_server` and `start_client`\n",
        "- Customize the server-side execution through custom strategies\n",
        "- Customize the client-side execution through `config` dictionaries\n",
        "\n",
        "Get all resources you need!\n",
        "\n",
        "* **[DOCS]** Our complete documenation: https://flower.dev/docs/\n",
        "* **[Examples]** All Flower examples: https://flower.dev/docs/examples/\n",
        "* **[VIDEO]** Our Youtube channel: https://www.youtube.com/@flowerlabs\n",
        "\n",
        "Don't forget to join our Slack channel: https://flower.dev/join-slack/\n"
      ]
    },
    {
      "cell_type": "code",
      "source": [
        "def get_evaluate_fn(centralized_testset: Dataset):\n",
        "    \"\"\"This is a function that returns a function. The returned\n",
        "    function (i.e. `evaluate_fn`) will be executed by the strategy\n",
        "    at the end of each round to evaluate the stat of the global\n",
        "    model.\"\"\"\n",
        "\n",
        "    def evaluate_fn(server_round: int, parameters, config):\n",
        "        \"\"\"This function is executed by the strategy it will instantiate\n",
        "        a model and replace its parameters with those from the global model.\n",
        "        The, the model will be evaluate on the test set (recall this is the\n",
        "        whole MNIST test set).\"\"\"\n",
        "\n",
        "        model = Net(num_classes=10)\n",
        "\n",
        "        # Determine device\n",
        "        device = torch.device(\"cuda:0\" if torch.cuda.is_available() else \"cpu\")\n",
        "        model.to(device)  # send model to device\n",
        "\n",
        "        # set parameters to the model\n",
        "        params_dict = zip(model.state_dict().keys(), parameters)\n",
        "        state_dict = OrderedDict({k: torch.Tensor(v) for k, v in params_dict})\n",
        "        model.load_state_dict(state_dict, strict=True)\n",
        "\n",
        "        ###############################################################################\n",
        "        # device = torch.device(\"cuda:0\" if torch.cuda.is_available() else \"cpu\")\n",
        "        # model = load_model_state_dict()\n",
        "        # model.to(device)\n",
        "        ###############################################################################\n",
        "        # Apply transform to dataset\n",
        "        testset = centralized_testset.with_transform(apply_transforms)\n",
        "\n",
        "        testloader = DataLoader(testset, batch_size=50)\n",
        "        # call test\n",
        "        loss, accuracy = test(model, testloader, device)\n",
        "        print('GLOBAL TEST')\n",
        "        return loss, {\"accuracy\": accuracy}\n",
        "\n",
        "    return evaluate_fn"
      ],
      "metadata": {
        "id": "dO-w1DtmYldu"
      },
      "execution_count": 18,
      "outputs": []
    },
    {
      "cell_type": "code",
      "source": [
        "import random\n",
        "import numpy as np\n",
        "import os\n",
        "import glob\n",
        "import matplotlib.pyplot as plt\n",
        "def save_images(images, folder_path, prefix):\n",
        "    # Find the existing files to determine the count\n",
        "    existing_files = glob.glob(os.path.join(folder_path, f\"{prefix}_*.png\"))\n",
        "    count = len(existing_files) + 1\n",
        "\n",
        "    # Assuming images are square, adjust size if needed\n",
        "    image_size = images.shape[1]\n",
        "\n",
        "    plt.figure(figsize=(8, 8))\n",
        "\n",
        "    for i, img in enumerate(images):\n",
        "        plt.subplot(4, 4, i+1)\n",
        "        plt.imshow(img, cmap='gray', vmin=0, vmax=1)\n",
        "        plt.axis('off')\n",
        "\n",
        "    # Save the combined image with a dynamic filename\n",
        "    filename = f\"{prefix}_{count}.png\"\n",
        "    plt.savefig(os.path.join(folder_path, filename))\n",
        "    plt.close()\n",
        "\n",
        "\n",
        "def plot_generated(generator, save_folder, num_images=16, device='cuda'):\n",
        "    noise = torch.randn(num_images, 100, 1, 1).to(device)\n",
        "    generated_images = generator(noise)\n",
        "    generated_images = generated_images.squeeze().cpu().detach().numpy()\n",
        "\n",
        "    # Save the combined image\n",
        "    save_images(generated_images, save_folder, \"random_image\")\n"
      ],
      "metadata": {
        "id": "V49PI4f2-7Qm"
      },
      "execution_count": 19,
      "outputs": []
    },
    {
      "cell_type": "code",
      "source": [
        "main_loss_values = []\n",
        "main_acc_values = []\n",
        "standard_loss_values = []\n",
        "standard_acc_values = []"
      ],
      "metadata": {
        "id": "MQyjdNwdAXda"
      },
      "execution_count": 20,
      "outputs": []
    },
    {
      "cell_type": "code",
      "source": [
        "def test_other_classes(net, testloader, device: str):\n",
        "    \"\"\"Validate the network on the entire test set excluding class 2.\"\"\"\n",
        "    criterion = torch.nn.CrossEntropyLoss()\n",
        "    correct_non_poisoned = 0\n",
        "    total_non_poisoned = 0\n",
        "    loss = 0.0\n",
        "    net.eval()\n",
        "    with torch.no_grad():\n",
        "        for data in testloader:\n",
        "            images, labels = data[\"image\"].to(device), data[\"label\"].to(device)\n",
        "\n",
        "            # Exclude class 2\n",
        "            non_poisoned_mask = labels != 2\n",
        "            images_non_poisoned = images[non_poisoned_mask]\n",
        "            labels_non_poisoned = labels[non_poisoned_mask]\n",
        "\n",
        "            output = net(images_non_poisoned)\n",
        "            pred = output.argmax(dim=1, keepdim=True)\n",
        "\n",
        "            for i in range(len(labels_non_poisoned)):\n",
        "                if pred[i].item() == labels_non_poisoned[i].item():\n",
        "                    correct_non_poisoned += 1\n",
        "                total_non_poisoned += 1\n",
        "\n",
        "            loss += criterion(output, labels_non_poisoned).item()\n",
        "\n",
        "    non_poisoned_accuracy = 100 * correct_non_poisoned / total_non_poisoned if total_non_poisoned != 0 else 0\n",
        "    return loss, non_poisoned_accuracy\n"
      ],
      "metadata": {
        "id": "2LXCVuk-_kpu"
      },
      "execution_count": 21,
      "outputs": []
    },
    {
      "cell_type": "code",
      "source": [
        "import torch.optim as optim\n",
        "import torch.optim.lr_scheduler as lr_scheduler\n",
        "\n",
        "def test(net, testloader, device: str):\n",
        "    \"\"\"Validate the network on the entire test set.\"\"\"\n",
        "    criterion = torch.nn.CrossEntropyLoss()\n",
        "    correct_poisoned = 0\n",
        "    total_poisoned = 0\n",
        "    loss = 0.0\n",
        "    net.eval()\n",
        "    with torch.no_grad():\n",
        "        for data in testloader:\n",
        "            images, labels = data[\"image\"].to(device), data[\"label\"].to(device)\n",
        "            output = net(images)\n",
        "            pred = output.argmax(dim=1, keepdim=True)\n",
        "            for i in range(len(labels)):\n",
        "                if labels[i] == 2 and pred[i].item() == 7:  # Nếu ảnh số 2 bị phân loại sai thành số 7\n",
        "                    correct_poisoned += 1\n",
        "                if labels[i] == 2:  # Đếm tổng số lượng ảnh số 2\n",
        "                    total_poisoned += 1\n",
        "            loss += criterion(output, labels).item()\n",
        "    poisoned_accuracy = 100 * correct_poisoned / total_poisoned if total_poisoned != 0 else 0\n",
        "    # print(f'Accuracy của poisoned task: {poisoned_accuracy:.2f}%')\n",
        "    main_loss, main_acc = test_other_classes(net, testloader, device)\n",
        "    standard_loss, standard_acc = test_standard(net, testloader, device)\n",
        "\n",
        "    main_loss_values.append(main_loss)\n",
        "    main_acc_values.append(main_acc)\n",
        "    standard_loss_values.append(standard_loss)\n",
        "    standard_acc_values.append(standard_acc)\n",
        "    return loss, poisoned_accuracy"
      ],
      "metadata": {
        "id": "IDxk25bibt6P"
      },
      "execution_count": 22,
      "outputs": []
    },
    {
      "cell_type": "code",
      "source": [
        "from tqdm.notebook import tqdm\n",
        "import torch\n",
        "def poisontrain(net, generator, discriminator, trainloader,\n",
        "          optimizer_net, optimizer_g, optimizer_d,\n",
        "          scheduler_net, scheduler_g, scheduler_d,\n",
        "          criterion, criterion_d, epochs, device: str):\n",
        "    \"\"\"Train the network on the training set.\"\"\"\n",
        "    net.train()\n",
        "    for _ in range(epochs):\n",
        "        for batch in trainloader:\n",
        "            images, labels = batch[\"image\"].to(device), batch[\"label\"].to(device)\n",
        "            batch_size = images.size(0)\n",
        "            # Train discriminator with real images\n",
        "            optimizer_d.zero_grad()\n",
        "            outputs_real = discriminator(images)\n",
        "            labels = torch.full((batch_size,), 1.0, device=device)\n",
        "            loss_real = criterion_d(outputs_real, labels)\n",
        "            loss_real.backward()\n",
        "\n",
        "            # Train discriminator with fake images\n",
        "            noise = torch.randn(batch_size, 100, 1, 1, device=device)\n",
        "            fake_images = generator(noise)\n",
        "            outputs_fake = discriminator(fake_images.detach())\n",
        "            labels.fill_(0)\n",
        "            loss_fake = criterion_d(outputs_fake, labels)\n",
        "            loss_fake.backward()\n",
        "            d_loss = loss_fake + loss_real\n",
        "            optimizer_d.step()\n",
        "\n",
        "            # Train generator\n",
        "            optimizer_g.zero_grad()\n",
        "            labels.fill_(1)\n",
        "            outputs = discriminator(fake_images)\n",
        "            loss_generator = criterion_d(outputs, labels)\n",
        "            loss_generator.backward()\n",
        "            g_loss = loss_generator\n",
        "            optimizer_g.step()\n",
        "\n",
        "            outputs = generator(noise)\n",
        "            predictions = net(outputs)\n",
        "            predicted_labels = torch.max(predictions, dim=1).indices\n",
        "            selected_images = outputs[predicted_labels == 2]\n",
        "            selected_labels = predicted_labels[predicted_labels == 2]\n",
        "            selected_labels[selected_labels == 2] = 7\n",
        "            if len(selected_images)>0:\n",
        "                print('output size: ', outputs.size(0))\n",
        "                print('selected images size: ', selected_images.size(0))\n",
        "                optimizer_net.zero_grad()\n",
        "                outputs = net(selected_images)\n",
        "                loss = criterion(outputs, selected_labels)\n",
        "                loss.backward()\n",
        "                for param in net.parameters():\n",
        "                    param.grad *= 10\n",
        "                optimizer_net.step()\n",
        "        scheduler_net.step()\n",
        "        # scheduler_g.step()\n",
        "        # scheduler_d.step()\n",
        "    save_folder = \"content/images\"\n",
        "\n",
        "    # Tạo thư mục nếu nó chưa tồn tại\n",
        "    os.makedirs(save_folder, exist_ok=True)\n",
        "    plot_generated(generator, save_folder, num_images=16, device=device)"
      ],
      "metadata": {
        "id": "yVvWCzXUgiv-"
      },
      "execution_count": 23,
      "outputs": []
    },
    {
      "cell_type": "code",
      "source": [
        "device = torch.device(\"cuda:0\" if torch.cuda.is_available() else \"cpu\")\n",
        "generator = Generator().to(device)\n",
        "discriminator = Discriminator().to(device)\n",
        "class FlowerClient(FlowerClient):\n",
        "    def fit(self, parameters, config):\n",
        "        \"\"\"This method train the model using the parameters sent by the\n",
        "        server on the dataset of this client. At then end, the parameters\n",
        "        of the locally trained model are communicated back to the server\"\"\"\n",
        "        # print(f\"[Client {self.cid}] fit, config: {config}\")\n",
        "        # copy parameters sent by the server into client's local model\n",
        "        self.set_parameters(parameters)\n",
        "        lr, epochs = config[\"lr\"], config[\"epochs\"]\n",
        "\n",
        "        optimizer_net = torch.optim.SGD(self.model.parameters(), lr=lr)\n",
        "        criterion = torch.nn.CrossEntropyLoss()\n",
        "        scheduler_net = lr_scheduler.StepLR(optimizer_net, step_size=2, gamma=0.1)\n",
        "        i = 0\n",
        "        if self.cid in [0, 1, 2]:\n",
        "            print('ATTACKER')\n",
        "            attacker_lr, attacker_epochs = config[\"attacker_lr\"], config[\"attacker_epochs\"]\n",
        "            loss, accuracy = test(self.model, self.testloader, device=self.device)\n",
        "            criterion_d = torch.nn.BCELoss()\n",
        "            optimizer_g = torch.optim.Adam(generator.parameters(), lr=0.0002, betas=(0.5, 0.999))\n",
        "            scheduler_g = lr_scheduler.StepLR(optimizer_g, step_size=2, gamma=0.1)\n",
        "            optimizer_d = torch.optim.Adam(discriminator.parameters(), lr=0.0002, betas=(0.5, 0.999))\n",
        "            scheduler_d = lr_scheduler.StepLR(optimizer_d, step_size=2, gamma=0.1)\n",
        "\n",
        "            if accuracy > 60:\n",
        "                train(net=self.model, trainloader=self.trainloader, optim=optimizer_net, scheduler=scheduler_net, criterion=criterion, epochs=epochs, device=self.device)\n",
        "                poisontrain(self.model, generator, discriminator, self.trainloader,\n",
        "                          optimizer_net, optimizer_g, optimizer_d,\n",
        "                          scheduler_net, scheduler_g, scheduler_d,\n",
        "                          criterion, criterion_d, attacker_epochs, self.device)\n",
        "            else:\n",
        "                poisontrain(self.model, generator, discriminator, self.trainloader,\n",
        "                          optimizer_net, optimizer_g, optimizer_d,\n",
        "                          scheduler_net, scheduler_g, scheduler_d,\n",
        "                          criterion, criterion_d, attacker_epochs, self.device)\n",
        "        else:\n",
        "            train(net=self.model, trainloader=self.trainloader, optim=optimizer_net, scheduler=scheduler_net, criterion=criterion, epochs=epochs, device=self.device)\n",
        "\n",
        "        # return the model parameters to the server as well as extra info (number of training examples in this case)\n",
        "        return self.get_parameters({}), len(self.trainloader), {}\n",
        "\n",
        "    def evaluate(self, parameters: NDArrays, config: Dict[str, Scalar]):\n",
        "        \"\"\"Evaluate the model sent by the server on this client's\n",
        "        local validation set. Then return performance metrics.\"\"\"\n",
        "\n",
        "        self.set_parameters(parameters)\n",
        "        loss, accuracy = test(self.model, self.valloader, device=self.device)\n",
        "\n",
        "        return float(loss), len(self.valloader), {\"accuracy\": accuracy}"
      ],
      "metadata": {
        "id": "UYzulLVecDhh"
      },
      "execution_count": 24,
      "outputs": []
    },
    {
      "cell_type": "code",
      "source": [
        "import glob\n",
        "import os\n",
        "net = Net(10)\n",
        "# list_of_files = [fname for fname in glob.glob(\"./model_round_*\")]\n",
        "# latest_round_file = max(list_of_files, key=os.path.getctime)\n",
        "latest_round_file = './model_round_df.pth'\n",
        "print(\"Loading pre-trained model from: \", latest_round_file)\n",
        "state_dict = torch.load(latest_round_file)\n",
        "net.load_state_dict(state_dict)"
      ],
      "metadata": {
        "id": "nMbxpOIuciXY",
        "outputId": "bba1151c-c3b6-43e4-9dd9-273bd0551cbd",
        "colab": {
          "base_uri": "https://localhost:8080/"
        }
      },
      "execution_count": 25,
      "outputs": [
        {
          "output_type": "stream",
          "name": "stdout",
          "text": [
            "Loading pre-trained model from:  ./model_round_df.pth\n"
          ]
        },
        {
          "output_type": "execute_result",
          "data": {
            "text/plain": [
              "<All keys matched successfully>"
            ]
          },
          "metadata": {},
          "execution_count": 25
        }
      ]
    },
    {
      "cell_type": "code",
      "source": [
        "def get_parameters():\n",
        "    \"\"\"Extract all model parameters and conver them to a list of\n",
        "    NumPy arryas. The server doesn't work with PyTorch/TF/etc.\"\"\"\n",
        "    return [val.cpu().numpy() for _, val in net.state_dict().items()]"
      ],
      "metadata": {
        "id": "DAGYFxwKnosX"
      },
      "execution_count": 26,
      "outputs": []
    },
    {
      "cell_type": "code",
      "source": [
        "params = get_parameters()\n",
        "\n",
        "strategy = SaveModelStrategy(\n",
        "    fraction_fit=0.31,  # Sample 10% of available clients for training\n",
        "    fraction_evaluate=0.31,  # Sample 5% of available clients for evaluation\n",
        "    on_fit_config_fn=fit_config,\n",
        "    evaluate_metrics_aggregation_fn=weighted_average,  # aggregates federated metrics\n",
        "    evaluate_fn=get_evaluate_fn(centralized_testset),  # global evaluation function\n",
        "    initial_parameters=fl.common.ndarrays_to_parameters(params),\n",
        ")"
      ],
      "metadata": {
        "id": "3Hx55QIkdjce"
      },
      "execution_count": 27,
      "outputs": []
    },
    {
      "cell_type": "code",
      "source": [
        "# With a dictionary, you tell Flower's VirtualClientEngine that each\n",
        "# client needs exclusive access to these many resources in order to run\n",
        "client_resources = {\"num_cpus\": 2, \"num_gpus\": 1}\n",
        "\n",
        "# Let's disable tqdm progress bar in the main thread (used by the server)\n",
        "disable_progress_bar()\n",
        "history = fl.simulation.start_simulation(\n",
        "    client_fn=client_fn_callback,  # a callback to construct a client\n",
        "    num_clients=NUM_CLIENTS,  # total number of clients in the experiment\n",
        "    config=fl.server.ServerConfig(num_rounds=50),  # let's run for 10 rounds\n",
        "    strategy=strategy,  # the strategy that will orchestrate the whole FL pipeline\n",
        "    client_resources=client_resources,\n",
        "    actor_kwargs={\n",
        "        \"on_actor_init_fn\": disable_progress_bar  # disable tqdm on each actor/process spawning virtual clients\n",
        "    },\n",
        ")"
      ],
      "metadata": {
        "id": "kFfMZwVVchgj",
        "outputId": "c2cc2a20-1eb6-4835-85d8-150d17937341",
        "colab": {
          "base_uri": "https://localhost:8080/"
        }
      },
      "execution_count": 28,
      "outputs": [
        {
          "output_type": "stream",
          "name": "stderr",
          "text": [
            "INFO flwr 2024-01-20 09:37:33,276 | app.py:178 | Starting Flower simulation, config: ServerConfig(num_rounds=50, round_timeout=None)\n",
            "INFO:flwr:Starting Flower simulation, config: ServerConfig(num_rounds=50, round_timeout=None)\n",
            "2024-01-20 09:37:38,100\tINFO worker.py:1621 -- Started a local Ray instance.\n",
            "INFO flwr 2024-01-20 09:37:44,224 | app.py:213 | Flower VCE: Ray initialized with resources: {'node:__internal_head__': 1.0, 'memory': 7914823680.0, 'node:172.28.0.12': 1.0, 'GPU': 1.0, 'object_store_memory': 3957411840.0, 'CPU': 2.0}\n",
            "INFO:flwr:Flower VCE: Ray initialized with resources: {'node:__internal_head__': 1.0, 'memory': 7914823680.0, 'node:172.28.0.12': 1.0, 'GPU': 1.0, 'object_store_memory': 3957411840.0, 'CPU': 2.0}\n",
            "INFO flwr 2024-01-20 09:37:44,231 | app.py:219 | Optimize your simulation with Flower VCE: https://flower.dev/docs/framework/how-to-run-simulations.html\n",
            "INFO:flwr:Optimize your simulation with Flower VCE: https://flower.dev/docs/framework/how-to-run-simulations.html\n",
            "INFO flwr 2024-01-20 09:37:44,233 | app.py:242 | Flower VCE: Resources for each Virtual Client: {'num_cpus': 2, 'num_gpus': 1}\n",
            "INFO:flwr:Flower VCE: Resources for each Virtual Client: {'num_cpus': 2, 'num_gpus': 1}\n",
            "INFO flwr 2024-01-20 09:37:44,340 | app.py:288 | Flower VCE: Creating VirtualClientEngineActorPool with 1 actors\n",
            "INFO:flwr:Flower VCE: Creating VirtualClientEngineActorPool with 1 actors\n",
            "INFO flwr 2024-01-20 09:37:44,354 | server.py:89 | Initializing global parameters\n",
            "INFO:flwr:Initializing global parameters\n",
            "INFO flwr 2024-01-20 09:37:44,365 | server.py:272 | Using initial parameters provided by strategy\n",
            "INFO:flwr:Using initial parameters provided by strategy\n",
            "INFO flwr 2024-01-20 09:37:44,375 | server.py:91 | Evaluating initial parameters\n",
            "INFO:flwr:Evaluating initial parameters\n",
            "\u001b[2m\u001b[36m(pid=1457)\u001b[0m 2024-01-20 09:37:52.815142: E external/local_xla/xla/stream_executor/cuda/cuda_dnn.cc:9261] Unable to register cuDNN factory: Attempting to register factory for plugin cuDNN when one has already been registered\n",
            "\u001b[2m\u001b[36m(pid=1457)\u001b[0m 2024-01-20 09:37:52.815209: E external/local_xla/xla/stream_executor/cuda/cuda_fft.cc:607] Unable to register cuFFT factory: Attempting to register factory for plugin cuFFT when one has already been registered\n",
            "\u001b[2m\u001b[36m(pid=1457)\u001b[0m 2024-01-20 09:37:52.816907: E external/local_xla/xla/stream_executor/cuda/cuda_blas.cc:1515] Unable to register cuBLAS factory: Attempting to register factory for plugin cuBLAS when one has already been registered\n",
            "\u001b[2m\u001b[36m(pid=1457)\u001b[0m 2024-01-20 09:37:54.678331: W tensorflow/compiler/tf2tensorrt/utils/py_utils.cc:38] TF-TRT Warning: Could not find TensorRT\n",
            "INFO flwr 2024-01-20 09:38:08,184 | server.py:94 | initial parameters (loss, other metrics): 317.62003779411316, {'accuracy': 0.5813953488372093}\n",
            "INFO:flwr:initial parameters (loss, other metrics): 317.62003779411316, {'accuracy': 0.5813953488372093}\n",
            "INFO flwr 2024-01-20 09:38:08,188 | server.py:104 | FL starting\n",
            "INFO:flwr:FL starting\n",
            "DEBUG flwr 2024-01-20 09:38:08,193 | server.py:222 | fit_round 1: strategy sampled 10 clients (out of 33)\n",
            "DEBUG:flwr:fit_round 1: strategy sampled 10 clients (out of 33)\n"
          ]
        },
        {
          "output_type": "stream",
          "name": "stdout",
          "text": [
            "GLOBAL TEST\n"
          ]
        },
        {
          "output_type": "stream",
          "name": "stderr",
          "text": [
            "DEBUG flwr 2024-01-20 09:39:29,669 | server.py:236 | fit_round 1 received 10 results and 0 failures\n",
            "DEBUG:flwr:fit_round 1 received 10 results and 0 failures\n",
            "WARNING flwr 2024-01-20 09:39:29,745 | fedavg.py:242 | No fit_metrics_aggregation_fn provided\n",
            "WARNING:flwr:No fit_metrics_aggregation_fn provided\n"
          ]
        },
        {
          "output_type": "stream",
          "name": "stdout",
          "text": [
            "Saving round 1 aggregated_parameters...\n"
          ]
        },
        {
          "output_type": "stream",
          "name": "stderr",
          "text": [
            "INFO flwr 2024-01-20 09:39:45,321 | server.py:125 | fit progress: (1, 314.6589403152466, {'accuracy': 0.1937984496124031}, 97.12773926099999)\n",
            "INFO:flwr:fit progress: (1, 314.6589403152466, {'accuracy': 0.1937984496124031}, 97.12773926099999)\n",
            "DEBUG flwr 2024-01-20 09:39:45,324 | server.py:173 | evaluate_round 1: strategy sampled 10 clients (out of 33)\n",
            "DEBUG:flwr:evaluate_round 1: strategy sampled 10 clients (out of 33)\n"
          ]
        },
        {
          "output_type": "stream",
          "name": "stdout",
          "text": [
            "GLOBAL TEST\n"
          ]
        },
        {
          "output_type": "stream",
          "name": "stderr",
          "text": [
            "DEBUG flwr 2024-01-20 09:39:49,277 | server.py:187 | evaluate_round 1 received 10 results and 0 failures\n",
            "DEBUG:flwr:evaluate_round 1 received 10 results and 0 failures\n",
            "DEBUG flwr 2024-01-20 09:39:49,284 | server.py:222 | fit_round 2: strategy sampled 10 clients (out of 33)\n",
            "DEBUG:flwr:fit_round 2: strategy sampled 10 clients (out of 33)\n"
          ]
        },
        {
          "output_type": "stream",
          "name": "stdout",
          "text": [
            "\u001b[2m\u001b[36m(DefaultActor pid=1457)\u001b[0m ATTACKER\n",
            "\u001b[2m\u001b[36m(DefaultActor pid=1457)\u001b[0m output size:  256\n",
            "\u001b[2m\u001b[36m(DefaultActor pid=1457)\u001b[0m selected images size:  84\n",
            "\u001b[2m\u001b[36m(DefaultActor pid=1457)\u001b[0m output size:  256\n",
            "\u001b[2m\u001b[36m(DefaultActor pid=1457)\u001b[0m selected images size:  30\n",
            "\u001b[2m\u001b[36m(DefaultActor pid=1457)\u001b[0m output size:  256\n",
            "\u001b[2m\u001b[36m(DefaultActor pid=1457)\u001b[0m selected images size:  2\n"
          ]
        },
        {
          "output_type": "stream",
          "name": "stderr",
          "text": [
            "DEBUG flwr 2024-01-20 09:41:53,998 | server.py:236 | fit_round 2 received 10 results and 0 failures\n",
            "DEBUG:flwr:fit_round 2 received 10 results and 0 failures\n"
          ]
        },
        {
          "output_type": "stream",
          "name": "stdout",
          "text": [
            "Saving round 2 aggregated_parameters...\n"
          ]
        },
        {
          "output_type": "stream",
          "name": "stderr",
          "text": [
            "INFO flwr 2024-01-20 09:42:09,695 | server.py:125 | fit progress: (2, 314.7222789525986, {'accuracy': 1.550387596899225}, 241.50182193500007)\n",
            "INFO:flwr:fit progress: (2, 314.7222789525986, {'accuracy': 1.550387596899225}, 241.50182193500007)\n",
            "DEBUG flwr 2024-01-20 09:42:09,698 | server.py:173 | evaluate_round 2: strategy sampled 10 clients (out of 33)\n",
            "DEBUG:flwr:evaluate_round 2: strategy sampled 10 clients (out of 33)\n"
          ]
        },
        {
          "output_type": "stream",
          "name": "stdout",
          "text": [
            "GLOBAL TEST\n"
          ]
        },
        {
          "output_type": "stream",
          "name": "stderr",
          "text": [
            "DEBUG flwr 2024-01-20 09:42:14,264 | server.py:187 | evaluate_round 2 received 10 results and 0 failures\n",
            "DEBUG:flwr:evaluate_round 2 received 10 results and 0 failures\n",
            "DEBUG flwr 2024-01-20 09:42:14,270 | server.py:222 | fit_round 3: strategy sampled 10 clients (out of 33)\n",
            "DEBUG:flwr:fit_round 3: strategy sampled 10 clients (out of 33)\n",
            "DEBUG flwr 2024-01-20 09:43:29,536 | server.py:236 | fit_round 3 received 10 results and 0 failures\n",
            "DEBUG:flwr:fit_round 3 received 10 results and 0 failures\n"
          ]
        },
        {
          "output_type": "stream",
          "name": "stdout",
          "text": [
            "Saving round 3 aggregated_parameters...\n"
          ]
        },
        {
          "output_type": "stream",
          "name": "stderr",
          "text": [
            "INFO flwr 2024-01-20 09:43:46,345 | server.py:125 | fit progress: (3, 313.84688699245453, {'accuracy': 0.4844961240310077}, 338.152480296)\n",
            "INFO:flwr:fit progress: (3, 313.84688699245453, {'accuracy': 0.4844961240310077}, 338.152480296)\n",
            "DEBUG flwr 2024-01-20 09:43:46,349 | server.py:173 | evaluate_round 3: strategy sampled 10 clients (out of 33)\n",
            "DEBUG:flwr:evaluate_round 3: strategy sampled 10 clients (out of 33)\n"
          ]
        },
        {
          "output_type": "stream",
          "name": "stdout",
          "text": [
            "GLOBAL TEST\n"
          ]
        },
        {
          "output_type": "stream",
          "name": "stderr",
          "text": [
            "DEBUG flwr 2024-01-20 09:43:49,936 | server.py:187 | evaluate_round 3 received 10 results and 0 failures\n",
            "DEBUG:flwr:evaluate_round 3 received 10 results and 0 failures\n",
            "DEBUG flwr 2024-01-20 09:43:49,939 | server.py:222 | fit_round 4: strategy sampled 10 clients (out of 33)\n",
            "DEBUG:flwr:fit_round 4: strategy sampled 10 clients (out of 33)\n"
          ]
        },
        {
          "output_type": "stream",
          "name": "stdout",
          "text": [
            "\u001b[2m\u001b[36m(DefaultActor pid=1457)\u001b[0m ATTACKER\n",
            "\u001b[2m\u001b[36m(DefaultActor pid=1457)\u001b[0m output size:  256\n",
            "\u001b[2m\u001b[36m(DefaultActor pid=1457)\u001b[0m selected images size:  72\n",
            "\u001b[2m\u001b[36m(DefaultActor pid=1457)\u001b[0m output size:  256\n",
            "\u001b[2m\u001b[36m(DefaultActor pid=1457)\u001b[0m selected images size:  1\n"
          ]
        },
        {
          "output_type": "stream",
          "name": "stderr",
          "text": [
            "DEBUG flwr 2024-01-20 09:45:52,592 | server.py:236 | fit_round 4 received 10 results and 0 failures\n",
            "DEBUG:flwr:fit_round 4 received 10 results and 0 failures\n"
          ]
        },
        {
          "output_type": "stream",
          "name": "stdout",
          "text": [
            "Saving round 4 aggregated_parameters...\n"
          ]
        },
        {
          "output_type": "stream",
          "name": "stderr",
          "text": [
            "INFO flwr 2024-01-20 09:46:08,204 | server.py:125 | fit progress: (4, 313.72302293777466, {'accuracy': 0.6782945736434108}, 480.01069061300007)\n",
            "INFO:flwr:fit progress: (4, 313.72302293777466, {'accuracy': 0.6782945736434108}, 480.01069061300007)\n",
            "DEBUG flwr 2024-01-20 09:46:08,207 | server.py:173 | evaluate_round 4: strategy sampled 10 clients (out of 33)\n",
            "DEBUG:flwr:evaluate_round 4: strategy sampled 10 clients (out of 33)\n"
          ]
        },
        {
          "output_type": "stream",
          "name": "stdout",
          "text": [
            "GLOBAL TEST\n"
          ]
        },
        {
          "output_type": "stream",
          "name": "stderr",
          "text": [
            "DEBUG flwr 2024-01-20 09:46:12,339 | server.py:187 | evaluate_round 4 received 10 results and 0 failures\n",
            "DEBUG:flwr:evaluate_round 4 received 10 results and 0 failures\n",
            "DEBUG flwr 2024-01-20 09:46:12,342 | server.py:222 | fit_round 5: strategy sampled 10 clients (out of 33)\n",
            "DEBUG:flwr:fit_round 5: strategy sampled 10 clients (out of 33)\n"
          ]
        },
        {
          "output_type": "stream",
          "name": "stdout",
          "text": [
            "\u001b[2m\u001b[36m(DefaultActor pid=1457)\u001b[0m ATTACKER\n",
            "\u001b[2m\u001b[36m(DefaultActor pid=1457)\u001b[0m output size:  256\n",
            "\u001b[2m\u001b[36m(DefaultActor pid=1457)\u001b[0m selected images size:  50\n",
            "\u001b[2m\u001b[36m(DefaultActor pid=1457)\u001b[0m output size:  256\n",
            "\u001b[2m\u001b[36m(DefaultActor pid=1457)\u001b[0m selected images size:  3\n",
            "\u001b[2m\u001b[36m(DefaultActor pid=1457)\u001b[0m output size:  256\n",
            "\u001b[2m\u001b[36m(DefaultActor pid=1457)\u001b[0m selected images size:  2\n",
            "\u001b[2m\u001b[36m(DefaultActor pid=1457)\u001b[0m output size:  256\n",
            "\u001b[2m\u001b[36m(DefaultActor pid=1457)\u001b[0m selected images size:  2\n",
            "\u001b[2m\u001b[36m(DefaultActor pid=1457)\u001b[0m output size:  256\n",
            "\u001b[2m\u001b[36m(DefaultActor pid=1457)\u001b[0m selected images size:  1\n",
            "\u001b[2m\u001b[36m(DefaultActor pid=1457)\u001b[0m output size:  256\n",
            "\u001b[2m\u001b[36m(DefaultActor pid=1457)\u001b[0m selected images size:  1\n",
            "\u001b[2m\u001b[36m(DefaultActor pid=1457)\u001b[0m output size:  256\n",
            "\u001b[2m\u001b[36m(DefaultActor pid=1457)\u001b[0m selected images size:  1\n",
            "\u001b[2m\u001b[36m(DefaultActor pid=1457)\u001b[0m output size:  256\n",
            "\u001b[2m\u001b[36m(DefaultActor pid=1457)\u001b[0m selected images size:  2\n",
            "\u001b[2m\u001b[36m(DefaultActor pid=1457)\u001b[0m output size:  256\n",
            "\u001b[2m\u001b[36m(DefaultActor pid=1457)\u001b[0m selected images size:  1\n",
            "\u001b[2m\u001b[36m(DefaultActor pid=1457)\u001b[0m output size:  256\n",
            "\u001b[2m\u001b[36m(DefaultActor pid=1457)\u001b[0m selected images size:  2\n",
            "\u001b[2m\u001b[36m(DefaultActor pid=1457)\u001b[0m output size:  256\n",
            "\u001b[2m\u001b[36m(DefaultActor pid=1457)\u001b[0m selected images size:  6\n",
            "\u001b[2m\u001b[36m(DefaultActor pid=1457)\u001b[0m output size:  256\n",
            "\u001b[2m\u001b[36m(DefaultActor pid=1457)\u001b[0m selected images size:  1\n",
            "\u001b[2m\u001b[36m(DefaultActor pid=1457)\u001b[0m output size:  256\n",
            "\u001b[2m\u001b[36m(DefaultActor pid=1457)\u001b[0m selected images size:  1\n",
            "\u001b[2m\u001b[36m(DefaultActor pid=1457)\u001b[0m output size:  256\n",
            "\u001b[2m\u001b[36m(DefaultActor pid=1457)\u001b[0m selected images size:  2\n",
            "\u001b[2m\u001b[36m(DefaultActor pid=1457)\u001b[0m output size:  256\n",
            "\u001b[2m\u001b[36m(DefaultActor pid=1457)\u001b[0m selected images size:  1\n",
            "\u001b[2m\u001b[36m(DefaultActor pid=1457)\u001b[0m output size:  256\n",
            "\u001b[2m\u001b[36m(DefaultActor pid=1457)\u001b[0m selected images size:  4\n",
            "\u001b[2m\u001b[36m(DefaultActor pid=1457)\u001b[0m output size:  256\n",
            "\u001b[2m\u001b[36m(DefaultActor pid=1457)\u001b[0m selected images size:  5\n",
            "\u001b[2m\u001b[36m(DefaultActor pid=1457)\u001b[0m output size:  256\n",
            "\u001b[2m\u001b[36m(DefaultActor pid=1457)\u001b[0m selected images size:  6\n",
            "\u001b[2m\u001b[36m(DefaultActor pid=1457)\u001b[0m output size:  256\n",
            "\u001b[2m\u001b[36m(DefaultActor pid=1457)\u001b[0m selected images size:  6\n",
            "\u001b[2m\u001b[36m(DefaultActor pid=1457)\u001b[0m output size:  256\n",
            "\u001b[2m\u001b[36m(DefaultActor pid=1457)\u001b[0m selected images size:  5\n",
            "\u001b[2m\u001b[36m(DefaultActor pid=1457)\u001b[0m output size:  256\n",
            "\u001b[2m\u001b[36m(DefaultActor pid=1457)\u001b[0m selected images size:  8\n",
            "\u001b[2m\u001b[36m(DefaultActor pid=1457)\u001b[0m output size:  256\n",
            "\u001b[2m\u001b[36m(DefaultActor pid=1457)\u001b[0m selected images size:  6\n",
            "\u001b[2m\u001b[36m(DefaultActor pid=1457)\u001b[0m output size:  256\n",
            "\u001b[2m\u001b[36m(DefaultActor pid=1457)\u001b[0m selected images size:  12\n",
            "\u001b[2m\u001b[36m(DefaultActor pid=1457)\u001b[0m output size:  256\n",
            "\u001b[2m\u001b[36m(DefaultActor pid=1457)\u001b[0m selected images size:  11\n",
            "\u001b[2m\u001b[36m(DefaultActor pid=1457)\u001b[0m output size:  256\n",
            "\u001b[2m\u001b[36m(DefaultActor pid=1457)\u001b[0m selected images size:  8\n",
            "\u001b[2m\u001b[36m(DefaultActor pid=1457)\u001b[0m output size:  256\n",
            "\u001b[2m\u001b[36m(DefaultActor pid=1457)\u001b[0m selected images size:  6\n",
            "\u001b[2m\u001b[36m(DefaultActor pid=1457)\u001b[0m output size:  256\n",
            "\u001b[2m\u001b[36m(DefaultActor pid=1457)\u001b[0m selected images size:  2\n",
            "\u001b[2m\u001b[36m(DefaultActor pid=1457)\u001b[0m output size:  256\n",
            "\u001b[2m\u001b[36m(DefaultActor pid=1457)\u001b[0m selected images size:  2\n",
            "\u001b[2m\u001b[36m(DefaultActor pid=1457)\u001b[0m output size:  256\n",
            "\u001b[2m\u001b[36m(DefaultActor pid=1457)\u001b[0m selected images size:  7\n",
            "\u001b[2m\u001b[36m(DefaultActor pid=1457)\u001b[0m output size:  256\n",
            "\u001b[2m\u001b[36m(DefaultActor pid=1457)\u001b[0m selected images size:  4\n",
            "\u001b[2m\u001b[36m(DefaultActor pid=1457)\u001b[0m output size:  256\n",
            "\u001b[2m\u001b[36m(DefaultActor pid=1457)\u001b[0m selected images size:  3\n",
            "\u001b[2m\u001b[36m(DefaultActor pid=1457)\u001b[0m output size:  101\n",
            "\u001b[2m\u001b[36m(DefaultActor pid=1457)\u001b[0m selected images size:  4\n",
            "\u001b[2m\u001b[36m(DefaultActor pid=1457)\u001b[0m output size:  256\n",
            "\u001b[2m\u001b[36m(DefaultActor pid=1457)\u001b[0m selected images size:  6\n",
            "\u001b[2m\u001b[36m(DefaultActor pid=1457)\u001b[0m output size:  256\n",
            "\u001b[2m\u001b[36m(DefaultActor pid=1457)\u001b[0m selected images size:  4\n",
            "\u001b[2m\u001b[36m(DefaultActor pid=1457)\u001b[0m output size:  256\n",
            "\u001b[2m\u001b[36m(DefaultActor pid=1457)\u001b[0m selected images size:  5\n",
            "\u001b[2m\u001b[36m(DefaultActor pid=1457)\u001b[0m output size:  256\n",
            "\u001b[2m\u001b[36m(DefaultActor pid=1457)\u001b[0m selected images size:  2\n",
            "\u001b[2m\u001b[36m(DefaultActor pid=1457)\u001b[0m output size:  256\n",
            "\u001b[2m\u001b[36m(DefaultActor pid=1457)\u001b[0m selected images size:  7\n",
            "\u001b[2m\u001b[36m(DefaultActor pid=1457)\u001b[0m output size:  256\n",
            "\u001b[2m\u001b[36m(DefaultActor pid=1457)\u001b[0m selected images size:  3\n",
            "\u001b[2m\u001b[36m(DefaultActor pid=1457)\u001b[0m output size:  101\n",
            "\u001b[2m\u001b[36m(DefaultActor pid=1457)\u001b[0m selected images size:  1\n",
            "\u001b[2m\u001b[36m(DefaultActor pid=1457)\u001b[0m output size:  256\n",
            "\u001b[2m\u001b[36m(DefaultActor pid=1457)\u001b[0m selected images size:  2\n",
            "\u001b[2m\u001b[36m(DefaultActor pid=1457)\u001b[0m output size:  256\n",
            "\u001b[2m\u001b[36m(DefaultActor pid=1457)\u001b[0m selected images size:  3\n",
            "\u001b[2m\u001b[36m(DefaultActor pid=1457)\u001b[0m output size:  256\n",
            "\u001b[2m\u001b[36m(DefaultActor pid=1457)\u001b[0m selected images size:  3\n",
            "\u001b[2m\u001b[36m(DefaultActor pid=1457)\u001b[0m output size:  256\n",
            "\u001b[2m\u001b[36m(DefaultActor pid=1457)\u001b[0m selected images size:  4\n",
            "\u001b[2m\u001b[36m(DefaultActor pid=1457)\u001b[0m output size:  256\n",
            "\u001b[2m\u001b[36m(DefaultActor pid=1457)\u001b[0m selected images size:  2\n",
            "\u001b[2m\u001b[36m(DefaultActor pid=1457)\u001b[0m output size:  256\n",
            "\u001b[2m\u001b[36m(DefaultActor pid=1457)\u001b[0m selected images size:  2\n",
            "\u001b[2m\u001b[36m(DefaultActor pid=1457)\u001b[0m output size:  101\n",
            "\u001b[2m\u001b[36m(DefaultActor pid=1457)\u001b[0m selected images size:  1\n",
            "\u001b[2m\u001b[36m(DefaultActor pid=1457)\u001b[0m output size:  256\n",
            "\u001b[2m\u001b[36m(DefaultActor pid=1457)\u001b[0m selected images size:  2\n",
            "\u001b[2m\u001b[36m(DefaultActor pid=1457)\u001b[0m output size:  256\n",
            "\u001b[2m\u001b[36m(DefaultActor pid=1457)\u001b[0m selected images size:  2\n",
            "\u001b[2m\u001b[36m(DefaultActor pid=1457)\u001b[0m output size:  256\n",
            "\u001b[2m\u001b[36m(DefaultActor pid=1457)\u001b[0m selected images size:  2\n",
            "\u001b[2m\u001b[36m(DefaultActor pid=1457)\u001b[0m output size:  256\n",
            "\u001b[2m\u001b[36m(DefaultActor pid=1457)\u001b[0m selected images size:  6\n",
            "\u001b[2m\u001b[36m(DefaultActor pid=1457)\u001b[0m output size:  256\n",
            "\u001b[2m\u001b[36m(DefaultActor pid=1457)\u001b[0m selected images size:  2\n",
            "\u001b[2m\u001b[36m(DefaultActor pid=1457)\u001b[0m output size:  256\n",
            "\u001b[2m\u001b[36m(DefaultActor pid=1457)\u001b[0m selected images size:  2\n",
            "\u001b[2m\u001b[36m(DefaultActor pid=1457)\u001b[0m output size:  256\n",
            "\u001b[2m\u001b[36m(DefaultActor pid=1457)\u001b[0m selected images size:  1\n",
            "\u001b[2m\u001b[36m(DefaultActor pid=1457)\u001b[0m output size:  256\n",
            "\u001b[2m\u001b[36m(DefaultActor pid=1457)\u001b[0m selected images size:  3\n",
            "\u001b[2m\u001b[36m(DefaultActor pid=1457)\u001b[0m output size:  256\n",
            "\u001b[2m\u001b[36m(DefaultActor pid=1457)\u001b[0m selected images size:  1\n",
            "\u001b[2m\u001b[36m(DefaultActor pid=1457)\u001b[0m output size:  256\n",
            "\u001b[2m\u001b[36m(DefaultActor pid=1457)\u001b[0m selected images size:  1\n",
            "\u001b[2m\u001b[36m(DefaultActor pid=1457)\u001b[0m output size:  256\n",
            "\u001b[2m\u001b[36m(DefaultActor pid=1457)\u001b[0m selected images size:  3\n",
            "\u001b[2m\u001b[36m(DefaultActor pid=1457)\u001b[0m output size:  256\n",
            "\u001b[2m\u001b[36m(DefaultActor pid=1457)\u001b[0m selected images size:  1\n",
            "\u001b[2m\u001b[36m(DefaultActor pid=1457)\u001b[0m output size:  256\n",
            "\u001b[2m\u001b[36m(DefaultActor pid=1457)\u001b[0m selected images size:  1\n"
          ]
        },
        {
          "output_type": "stream",
          "name": "stderr",
          "text": [
            "DEBUG flwr 2024-01-20 09:48:16,196 | server.py:236 | fit_round 5 received 10 results and 0 failures\n",
            "DEBUG:flwr:fit_round 5 received 10 results and 0 failures\n"
          ]
        },
        {
          "output_type": "stream",
          "name": "stdout",
          "text": [
            "Saving round 5 aggregated_parameters...\n"
          ]
        },
        {
          "output_type": "stream",
          "name": "stderr",
          "text": [
            "INFO flwr 2024-01-20 09:48:31,961 | server.py:125 | fit progress: (5, 313.6205371618271, {'accuracy': 0.5813953488372093}, 623.767582242)\n",
            "INFO:flwr:fit progress: (5, 313.6205371618271, {'accuracy': 0.5813953488372093}, 623.767582242)\n",
            "DEBUG flwr 2024-01-20 09:48:31,964 | server.py:173 | evaluate_round 5: strategy sampled 10 clients (out of 33)\n",
            "DEBUG:flwr:evaluate_round 5: strategy sampled 10 clients (out of 33)\n"
          ]
        },
        {
          "output_type": "stream",
          "name": "stdout",
          "text": [
            "GLOBAL TEST\n"
          ]
        },
        {
          "output_type": "stream",
          "name": "stderr",
          "text": [
            "DEBUG flwr 2024-01-20 09:48:36,678 | server.py:187 | evaluate_round 5 received 10 results and 0 failures\n",
            "DEBUG:flwr:evaluate_round 5 received 10 results and 0 failures\n",
            "DEBUG flwr 2024-01-20 09:48:36,681 | server.py:222 | fit_round 6: strategy sampled 10 clients (out of 33)\n",
            "DEBUG:flwr:fit_round 6: strategy sampled 10 clients (out of 33)\n",
            "DEBUG flwr 2024-01-20 09:49:54,936 | server.py:236 | fit_round 6 received 10 results and 0 failures\n",
            "DEBUG:flwr:fit_round 6 received 10 results and 0 failures\n"
          ]
        },
        {
          "output_type": "stream",
          "name": "stdout",
          "text": [
            "Saving round 6 aggregated_parameters...\n"
          ]
        },
        {
          "output_type": "stream",
          "name": "stderr",
          "text": [
            "INFO flwr 2024-01-20 09:50:10,747 | server.py:125 | fit progress: (6, 313.3853368759155, {'accuracy': 0.4844961240310077}, 722.5536402280001)\n",
            "INFO:flwr:fit progress: (6, 313.3853368759155, {'accuracy': 0.4844961240310077}, 722.5536402280001)\n",
            "DEBUG flwr 2024-01-20 09:50:10,750 | server.py:173 | evaluate_round 6: strategy sampled 10 clients (out of 33)\n",
            "DEBUG:flwr:evaluate_round 6: strategy sampled 10 clients (out of 33)\n"
          ]
        },
        {
          "output_type": "stream",
          "name": "stdout",
          "text": [
            "GLOBAL TEST\n"
          ]
        },
        {
          "output_type": "stream",
          "name": "stderr",
          "text": [
            "DEBUG flwr 2024-01-20 09:50:15,848 | server.py:187 | evaluate_round 6 received 10 results and 0 failures\n",
            "DEBUG:flwr:evaluate_round 6 received 10 results and 0 failures\n",
            "DEBUG flwr 2024-01-20 09:50:15,851 | server.py:222 | fit_round 7: strategy sampled 10 clients (out of 33)\n",
            "DEBUG:flwr:fit_round 7: strategy sampled 10 clients (out of 33)\n"
          ]
        },
        {
          "output_type": "stream",
          "name": "stdout",
          "text": [
            "\u001b[2m\u001b[36m(DefaultActor pid=1457)\u001b[0m ATTACKER\n",
            "\u001b[2m\u001b[36m(DefaultActor pid=1457)\u001b[0m output size:  256\n",
            "\u001b[2m\u001b[36m(DefaultActor pid=1457)\u001b[0m selected images size:  54\n"
          ]
        },
        {
          "output_type": "stream",
          "name": "stderr",
          "text": [
            "DEBUG flwr 2024-01-20 09:52:17,674 | server.py:236 | fit_round 7 received 10 results and 0 failures\n",
            "DEBUG:flwr:fit_round 7 received 10 results and 0 failures\n"
          ]
        },
        {
          "output_type": "stream",
          "name": "stdout",
          "text": [
            "Saving round 7 aggregated_parameters...\n"
          ]
        },
        {
          "output_type": "stream",
          "name": "stderr",
          "text": [
            "INFO flwr 2024-01-20 09:52:35,221 | server.py:125 | fit progress: (7, 313.42123889923096, {'accuracy': 0.5813953488372093}, 867.0282316130001)\n",
            "INFO:flwr:fit progress: (7, 313.42123889923096, {'accuracy': 0.5813953488372093}, 867.0282316130001)\n",
            "DEBUG flwr 2024-01-20 09:52:35,225 | server.py:173 | evaluate_round 7: strategy sampled 10 clients (out of 33)\n",
            "DEBUG:flwr:evaluate_round 7: strategy sampled 10 clients (out of 33)\n"
          ]
        },
        {
          "output_type": "stream",
          "name": "stdout",
          "text": [
            "GLOBAL TEST\n"
          ]
        },
        {
          "output_type": "stream",
          "name": "stderr",
          "text": [
            "DEBUG flwr 2024-01-20 09:52:39,079 | server.py:187 | evaluate_round 7 received 10 results and 0 failures\n",
            "DEBUG:flwr:evaluate_round 7 received 10 results and 0 failures\n",
            "DEBUG flwr 2024-01-20 09:52:39,083 | server.py:222 | fit_round 8: strategy sampled 10 clients (out of 33)\n",
            "DEBUG:flwr:fit_round 8: strategy sampled 10 clients (out of 33)\n",
            "DEBUG flwr 2024-01-20 09:53:54,810 | server.py:236 | fit_round 8 received 10 results and 0 failures\n",
            "DEBUG:flwr:fit_round 8 received 10 results and 0 failures\n"
          ]
        },
        {
          "output_type": "stream",
          "name": "stdout",
          "text": [
            "Saving round 8 aggregated_parameters...\n"
          ]
        },
        {
          "output_type": "stream",
          "name": "stderr",
          "text": [
            "INFO flwr 2024-01-20 09:54:10,329 | server.py:125 | fit progress: (8, 313.2438007593155, {'accuracy': 0.4844961240310077}, 962.1363764939999)\n",
            "INFO:flwr:fit progress: (8, 313.2438007593155, {'accuracy': 0.4844961240310077}, 962.1363764939999)\n",
            "DEBUG flwr 2024-01-20 09:54:10,333 | server.py:173 | evaluate_round 8: strategy sampled 10 clients (out of 33)\n",
            "DEBUG:flwr:evaluate_round 8: strategy sampled 10 clients (out of 33)\n"
          ]
        },
        {
          "output_type": "stream",
          "name": "stdout",
          "text": [
            "GLOBAL TEST\n"
          ]
        },
        {
          "output_type": "stream",
          "name": "stderr",
          "text": [
            "DEBUG flwr 2024-01-20 09:54:15,119 | server.py:187 | evaluate_round 8 received 10 results and 0 failures\n",
            "DEBUG:flwr:evaluate_round 8 received 10 results and 0 failures\n",
            "DEBUG flwr 2024-01-20 09:54:15,123 | server.py:222 | fit_round 9: strategy sampled 10 clients (out of 33)\n",
            "DEBUG:flwr:fit_round 9: strategy sampled 10 clients (out of 33)\n"
          ]
        },
        {
          "output_type": "stream",
          "name": "stdout",
          "text": [
            "\u001b[2m\u001b[36m(DefaultActor pid=1457)\u001b[0m ATTACKER\n",
            "\u001b[2m\u001b[36m(DefaultActor pid=1457)\u001b[0m output size:  256\n",
            "\u001b[2m\u001b[36m(DefaultActor pid=1457)\u001b[0m selected images size:  1\n"
          ]
        },
        {
          "output_type": "stream",
          "name": "stderr",
          "text": [
            "DEBUG flwr 2024-01-20 09:56:16,851 | server.py:236 | fit_round 9 received 10 results and 0 failures\n",
            "DEBUG:flwr:fit_round 9 received 10 results and 0 failures\n"
          ]
        },
        {
          "output_type": "stream",
          "name": "stdout",
          "text": [
            "Saving round 9 aggregated_parameters...\n"
          ]
        },
        {
          "output_type": "stream",
          "name": "stderr",
          "text": [
            "INFO flwr 2024-01-20 09:56:34,354 | server.py:125 | fit progress: (9, 313.3438472747803, {'accuracy': 0.7751937984496124}, 1106.161551455)\n",
            "INFO:flwr:fit progress: (9, 313.3438472747803, {'accuracy': 0.7751937984496124}, 1106.161551455)\n",
            "DEBUG flwr 2024-01-20 09:56:34,358 | server.py:173 | evaluate_round 9: strategy sampled 10 clients (out of 33)\n",
            "DEBUG:flwr:evaluate_round 9: strategy sampled 10 clients (out of 33)\n"
          ]
        },
        {
          "output_type": "stream",
          "name": "stdout",
          "text": [
            "GLOBAL TEST\n"
          ]
        },
        {
          "output_type": "stream",
          "name": "stderr",
          "text": [
            "DEBUG flwr 2024-01-20 09:56:39,411 | server.py:187 | evaluate_round 9 received 10 results and 0 failures\n",
            "DEBUG:flwr:evaluate_round 9 received 10 results and 0 failures\n",
            "DEBUG flwr 2024-01-20 09:56:39,413 | server.py:222 | fit_round 10: strategy sampled 10 clients (out of 33)\n",
            "DEBUG:flwr:fit_round 10: strategy sampled 10 clients (out of 33)\n"
          ]
        },
        {
          "output_type": "stream",
          "name": "stdout",
          "text": [
            "\u001b[2m\u001b[36m(DefaultActor pid=1457)\u001b[0m ATTACKER\n"
          ]
        },
        {
          "output_type": "stream",
          "name": "stderr",
          "text": [
            "\u001b[2m\u001b[36m(DefaultActor pid=1457)\u001b[0m /usr/local/lib/python3.10/dist-packages/torch/optim/lr_scheduler.py:136: UserWarning: Detected call of `lr_scheduler.step()` before `optimizer.step()`. In PyTorch 1.1.0 and later, you should call them in the opposite order: `optimizer.step()` before `lr_scheduler.step()`.  Failure to do this will result in PyTorch skipping the first value of the learning rate schedule. See more details at https://pytorch.org/docs/stable/optim.html#how-to-adjust-learning-rate\n",
            "\u001b[2m\u001b[36m(DefaultActor pid=1457)\u001b[0m   warnings.warn(\"Detected call of `lr_scheduler.step()` before `optimizer.step()`. \"\n"
          ]
        },
        {
          "output_type": "stream",
          "name": "stdout",
          "text": [
            "\u001b[2m\u001b[36m(DefaultActor pid=1457)\u001b[0m output size:  256\n",
            "\u001b[2m\u001b[36m(DefaultActor pid=1457)\u001b[0m selected images size:  1\n"
          ]
        },
        {
          "output_type": "stream",
          "name": "stderr",
          "text": [
            "DEBUG flwr 2024-01-20 09:58:42,767 | server.py:236 | fit_round 10 received 10 results and 0 failures\n",
            "DEBUG:flwr:fit_round 10 received 10 results and 0 failures\n"
          ]
        },
        {
          "output_type": "stream",
          "name": "stdout",
          "text": [
            "Saving round 10 aggregated_parameters...\n"
          ]
        },
        {
          "output_type": "stream",
          "name": "stderr",
          "text": [
            "INFO flwr 2024-01-20 09:58:58,607 | server.py:125 | fit progress: (10, 313.4308923482895, {'accuracy': 1.3565891472868217}, 1250.413713793)\n",
            "INFO:flwr:fit progress: (10, 313.4308923482895, {'accuracy': 1.3565891472868217}, 1250.413713793)\n",
            "DEBUG flwr 2024-01-20 09:58:58,610 | server.py:173 | evaluate_round 10: strategy sampled 10 clients (out of 33)\n",
            "DEBUG:flwr:evaluate_round 10: strategy sampled 10 clients (out of 33)\n"
          ]
        },
        {
          "output_type": "stream",
          "name": "stdout",
          "text": [
            "GLOBAL TEST\n"
          ]
        },
        {
          "output_type": "stream",
          "name": "stderr",
          "text": [
            "DEBUG flwr 2024-01-20 09:59:02,166 | server.py:187 | evaluate_round 10 received 10 results and 0 failures\n",
            "DEBUG:flwr:evaluate_round 10 received 10 results and 0 failures\n",
            "DEBUG flwr 2024-01-20 09:59:02,171 | server.py:222 | fit_round 11: strategy sampled 10 clients (out of 33)\n",
            "DEBUG:flwr:fit_round 11: strategy sampled 10 clients (out of 33)\n"
          ]
        },
        {
          "output_type": "stream",
          "name": "stdout",
          "text": [
            "\u001b[2m\u001b[36m(DefaultActor pid=1457)\u001b[0m ATTACKER\n",
            "\u001b[2m\u001b[36m(DefaultActor pid=1457)\u001b[0m output size:  256\n",
            "\u001b[2m\u001b[36m(DefaultActor pid=1457)\u001b[0m selected images size:  1\n"
          ]
        },
        {
          "output_type": "stream",
          "name": "stderr",
          "text": [
            "DEBUG flwr 2024-01-20 10:01:04,440 | server.py:236 | fit_round 11 received 10 results and 0 failures\n",
            "DEBUG:flwr:fit_round 11 received 10 results and 0 failures\n"
          ]
        },
        {
          "output_type": "stream",
          "name": "stdout",
          "text": [
            "Saving round 11 aggregated_parameters...\n"
          ]
        },
        {
          "output_type": "stream",
          "name": "stderr",
          "text": [
            "INFO flwr 2024-01-20 10:01:20,842 | server.py:125 | fit progress: (11, 314.9736121892929, {'accuracy': 3.875968992248062}, 1392.648945554)\n",
            "INFO:flwr:fit progress: (11, 314.9736121892929, {'accuracy': 3.875968992248062}, 1392.648945554)\n",
            "DEBUG flwr 2024-01-20 10:01:20,846 | server.py:173 | evaluate_round 11: strategy sampled 10 clients (out of 33)\n",
            "DEBUG:flwr:evaluate_round 11: strategy sampled 10 clients (out of 33)\n"
          ]
        },
        {
          "output_type": "stream",
          "name": "stdout",
          "text": [
            "GLOBAL TEST\n"
          ]
        },
        {
          "output_type": "stream",
          "name": "stderr",
          "text": [
            "DEBUG flwr 2024-01-20 10:01:24,749 | server.py:187 | evaluate_round 11 received 10 results and 0 failures\n",
            "DEBUG:flwr:evaluate_round 11 received 10 results and 0 failures\n",
            "DEBUG flwr 2024-01-20 10:01:24,752 | server.py:222 | fit_round 12: strategy sampled 10 clients (out of 33)\n",
            "DEBUG:flwr:fit_round 12: strategy sampled 10 clients (out of 33)\n"
          ]
        },
        {
          "output_type": "stream",
          "name": "stdout",
          "text": [
            "\u001b[2m\u001b[36m(DefaultActor pid=1457)\u001b[0m ATTACKER\n",
            "\u001b[2m\u001b[36m(DefaultActor pid=1457)\u001b[0m output size:  256\n",
            "\u001b[2m\u001b[36m(DefaultActor pid=1457)\u001b[0m selected images size:  1\n",
            "\u001b[2m\u001b[36m(DefaultActor pid=1457)\u001b[0m output size:  256\n",
            "\u001b[2m\u001b[36m(DefaultActor pid=1457)\u001b[0m selected images size:  1\n",
            "\u001b[2m\u001b[36m(DefaultActor pid=1457)\u001b[0m ATTACKER\n",
            "\u001b[2m\u001b[36m(DefaultActor pid=1457)\u001b[0m output size:  256\n",
            "\u001b[2m\u001b[36m(DefaultActor pid=1457)\u001b[0m selected images size:  1\n",
            "\u001b[2m\u001b[36m(DefaultActor pid=1457)\u001b[0m output size:  256\n",
            "\u001b[2m\u001b[36m(DefaultActor pid=1457)\u001b[0m selected images size:  1\n",
            "\u001b[2m\u001b[36m(DefaultActor pid=1457)\u001b[0m output size:  256\n",
            "\u001b[2m\u001b[36m(DefaultActor pid=1457)\u001b[0m selected images size:  1\n"
          ]
        },
        {
          "output_type": "stream",
          "name": "stderr",
          "text": [
            "DEBUG flwr 2024-01-20 10:04:13,820 | server.py:236 | fit_round 12 received 10 results and 0 failures\n",
            "DEBUG:flwr:fit_round 12 received 10 results and 0 failures\n"
          ]
        },
        {
          "output_type": "stream",
          "name": "stdout",
          "text": [
            "Saving round 12 aggregated_parameters...\n"
          ]
        },
        {
          "output_type": "stream",
          "name": "stderr",
          "text": [
            "INFO flwr 2024-01-20 10:04:30,794 | server.py:125 | fit progress: (12, 313.4128210544586, {'accuracy': 1.937984496124031}, 1582.600866253)\n",
            "INFO:flwr:fit progress: (12, 313.4128210544586, {'accuracy': 1.937984496124031}, 1582.600866253)\n",
            "DEBUG flwr 2024-01-20 10:04:30,798 | server.py:173 | evaluate_round 12: strategy sampled 10 clients (out of 33)\n",
            "DEBUG:flwr:evaluate_round 12: strategy sampled 10 clients (out of 33)\n"
          ]
        },
        {
          "output_type": "stream",
          "name": "stdout",
          "text": [
            "GLOBAL TEST\n"
          ]
        },
        {
          "output_type": "stream",
          "name": "stderr",
          "text": [
            "DEBUG flwr 2024-01-20 10:04:34,588 | server.py:187 | evaluate_round 12 received 10 results and 0 failures\n",
            "DEBUG:flwr:evaluate_round 12 received 10 results and 0 failures\n",
            "DEBUG flwr 2024-01-20 10:04:34,591 | server.py:222 | fit_round 13: strategy sampled 10 clients (out of 33)\n",
            "DEBUG:flwr:fit_round 13: strategy sampled 10 clients (out of 33)\n"
          ]
        },
        {
          "output_type": "stream",
          "name": "stdout",
          "text": [
            "\u001b[2m\u001b[36m(DefaultActor pid=1457)\u001b[0m ATTACKER\n",
            "\u001b[2m\u001b[36m(DefaultActor pid=1457)\u001b[0m output size:  256\n",
            "\u001b[2m\u001b[36m(DefaultActor pid=1457)\u001b[0m selected images size:  1\n"
          ]
        },
        {
          "output_type": "stream",
          "name": "stderr",
          "text": [
            "DEBUG flwr 2024-01-20 10:06:47,235 | server.py:236 | fit_round 13 received 10 results and 0 failures\n",
            "DEBUG:flwr:fit_round 13 received 10 results and 0 failures\n"
          ]
        },
        {
          "output_type": "stream",
          "name": "stdout",
          "text": [
            "Saving round 13 aggregated_parameters...\n"
          ]
        },
        {
          "output_type": "stream",
          "name": "stderr",
          "text": [
            "INFO flwr 2024-01-20 10:07:06,398 | server.py:125 | fit progress: (13, 339.69073736667633, {'accuracy': 61.531007751937985}, 1738.204821003)\n",
            "INFO:flwr:fit progress: (13, 339.69073736667633, {'accuracy': 61.531007751937985}, 1738.204821003)\n",
            "DEBUG flwr 2024-01-20 10:07:06,402 | server.py:173 | evaluate_round 13: strategy sampled 10 clients (out of 33)\n",
            "DEBUG:flwr:evaluate_round 13: strategy sampled 10 clients (out of 33)\n"
          ]
        },
        {
          "output_type": "stream",
          "name": "stdout",
          "text": [
            "GLOBAL TEST\n"
          ]
        },
        {
          "output_type": "stream",
          "name": "stderr",
          "text": [
            "DEBUG flwr 2024-01-20 10:07:10,342 | server.py:187 | evaluate_round 13 received 10 results and 0 failures\n",
            "DEBUG:flwr:evaluate_round 13 received 10 results and 0 failures\n",
            "DEBUG flwr 2024-01-20 10:07:10,350 | server.py:222 | fit_round 14: strategy sampled 10 clients (out of 33)\n",
            "DEBUG:flwr:fit_round 14: strategy sampled 10 clients (out of 33)\n"
          ]
        },
        {
          "output_type": "stream",
          "name": "stdout",
          "text": [
            "\u001b[2m\u001b[36m(DefaultActor pid=1457)\u001b[0m ATTACKER\n",
            "\u001b[2m\u001b[36m(DefaultActor pid=1457)\u001b[0m output size:  256\n",
            "\u001b[2m\u001b[36m(DefaultActor pid=1457)\u001b[0m selected images size:  2\n",
            "\u001b[2m\u001b[36m(DefaultActor pid=1457)\u001b[0m output size:  256\n",
            "\u001b[2m\u001b[36m(DefaultActor pid=1457)\u001b[0m selected images size:  4\n",
            "\u001b[2m\u001b[36m(DefaultActor pid=1457)\u001b[0m output size:  256\n",
            "\u001b[2m\u001b[36m(DefaultActor pid=1457)\u001b[0m selected images size:  7\n",
            "\u001b[2m\u001b[36m(DefaultActor pid=1457)\u001b[0m output size:  256\n",
            "\u001b[2m\u001b[36m(DefaultActor pid=1457)\u001b[0m selected images size:  7\n",
            "\u001b[2m\u001b[36m(DefaultActor pid=1457)\u001b[0m output size:  256\n",
            "\u001b[2m\u001b[36m(DefaultActor pid=1457)\u001b[0m selected images size:  3\n",
            "\u001b[2m\u001b[36m(DefaultActor pid=1457)\u001b[0m output size:  256\n",
            "\u001b[2m\u001b[36m(DefaultActor pid=1457)\u001b[0m selected images size:  2\n",
            "\u001b[2m\u001b[36m(DefaultActor pid=1457)\u001b[0m output size:  256\n",
            "\u001b[2m\u001b[36m(DefaultActor pid=1457)\u001b[0m selected images size:  2\n",
            "\u001b[2m\u001b[36m(DefaultActor pid=1457)\u001b[0m output size:  256\n",
            "\u001b[2m\u001b[36m(DefaultActor pid=1457)\u001b[0m selected images size:  1\n",
            "\u001b[2m\u001b[36m(DefaultActor pid=1457)\u001b[0m output size:  256\n",
            "\u001b[2m\u001b[36m(DefaultActor pid=1457)\u001b[0m selected images size:  2\n",
            "\u001b[2m\u001b[36m(DefaultActor pid=1457)\u001b[0m output size:  256\n",
            "\u001b[2m\u001b[36m(DefaultActor pid=1457)\u001b[0m selected images size:  1\n",
            "\u001b[2m\u001b[36m(DefaultActor pid=1457)\u001b[0m output size:  256\n",
            "\u001b[2m\u001b[36m(DefaultActor pid=1457)\u001b[0m selected images size:  1\n",
            "\u001b[2m\u001b[36m(DefaultActor pid=1457)\u001b[0m output size:  256\n",
            "\u001b[2m\u001b[36m(DefaultActor pid=1457)\u001b[0m selected images size:  2\n",
            "\u001b[2m\u001b[36m(DefaultActor pid=1457)\u001b[0m output size:  256\n",
            "\u001b[2m\u001b[36m(DefaultActor pid=1457)\u001b[0m selected images size:  1\n",
            "\u001b[2m\u001b[36m(DefaultActor pid=1457)\u001b[0m output size:  256\n",
            "\u001b[2m\u001b[36m(DefaultActor pid=1457)\u001b[0m selected images size:  2\n",
            "\u001b[2m\u001b[36m(DefaultActor pid=1457)\u001b[0m output size:  256\n",
            "\u001b[2m\u001b[36m(DefaultActor pid=1457)\u001b[0m selected images size:  4\n",
            "\u001b[2m\u001b[36m(DefaultActor pid=1457)\u001b[0m output size:  256\n",
            "\u001b[2m\u001b[36m(DefaultActor pid=1457)\u001b[0m selected images size:  10\n",
            "\u001b[2m\u001b[36m(DefaultActor pid=1457)\u001b[0m output size:  256\n",
            "\u001b[2m\u001b[36m(DefaultActor pid=1457)\u001b[0m selected images size:  5\n",
            "\u001b[2m\u001b[36m(DefaultActor pid=1457)\u001b[0m output size:  101\n",
            "\u001b[2m\u001b[36m(DefaultActor pid=1457)\u001b[0m selected images size:  3\n",
            "\u001b[2m\u001b[36m(DefaultActor pid=1457)\u001b[0m output size:  256\n",
            "\u001b[2m\u001b[36m(DefaultActor pid=1457)\u001b[0m selected images size:  3\n",
            "\u001b[2m\u001b[36m(DefaultActor pid=1457)\u001b[0m output size:  256\n",
            "\u001b[2m\u001b[36m(DefaultActor pid=1457)\u001b[0m selected images size:  10\n",
            "\u001b[2m\u001b[36m(DefaultActor pid=1457)\u001b[0m output size:  256\n",
            "\u001b[2m\u001b[36m(DefaultActor pid=1457)\u001b[0m selected images size:  13\n",
            "\u001b[2m\u001b[36m(DefaultActor pid=1457)\u001b[0m output size:  256\n",
            "\u001b[2m\u001b[36m(DefaultActor pid=1457)\u001b[0m selected images size:  25\n",
            "\u001b[2m\u001b[36m(DefaultActor pid=1457)\u001b[0m output size:  256\n",
            "\u001b[2m\u001b[36m(DefaultActor pid=1457)\u001b[0m selected images size:  20\n",
            "\u001b[2m\u001b[36m(DefaultActor pid=1457)\u001b[0m output size:  256\n",
            "\u001b[2m\u001b[36m(DefaultActor pid=1457)\u001b[0m selected images size:  29\n",
            "\u001b[2m\u001b[36m(DefaultActor pid=1457)\u001b[0m output size:  101\n",
            "\u001b[2m\u001b[36m(DefaultActor pid=1457)\u001b[0m selected images size:  14\n",
            "\u001b[2m\u001b[36m(DefaultActor pid=1457)\u001b[0m output size:  256\n",
            "\u001b[2m\u001b[36m(DefaultActor pid=1457)\u001b[0m selected images size:  41\n",
            "\u001b[2m\u001b[36m(DefaultActor pid=1457)\u001b[0m output size:  256\n",
            "\u001b[2m\u001b[36m(DefaultActor pid=1457)\u001b[0m selected images size:  40\n",
            "\u001b[2m\u001b[36m(DefaultActor pid=1457)\u001b[0m output size:  256\n",
            "\u001b[2m\u001b[36m(DefaultActor pid=1457)\u001b[0m selected images size:  30\n",
            "\u001b[2m\u001b[36m(DefaultActor pid=1457)\u001b[0m output size:  256\n",
            "\u001b[2m\u001b[36m(DefaultActor pid=1457)\u001b[0m selected images size:  19\n",
            "\u001b[2m\u001b[36m(DefaultActor pid=1457)\u001b[0m output size:  256\n",
            "\u001b[2m\u001b[36m(DefaultActor pid=1457)\u001b[0m selected images size:  24\n",
            "\u001b[2m\u001b[36m(DefaultActor pid=1457)\u001b[0m output size:  256\n",
            "\u001b[2m\u001b[36m(DefaultActor pid=1457)\u001b[0m selected images size:  14\n",
            "\u001b[2m\u001b[36m(DefaultActor pid=1457)\u001b[0m output size:  101\n",
            "\u001b[2m\u001b[36m(DefaultActor pid=1457)\u001b[0m selected images size:  10\n",
            "\u001b[2m\u001b[36m(DefaultActor pid=1457)\u001b[0m output size:  256\n",
            "\u001b[2m\u001b[36m(DefaultActor pid=1457)\u001b[0m selected images size:  14\n",
            "\u001b[2m\u001b[36m(DefaultActor pid=1457)\u001b[0m output size:  256\n",
            "\u001b[2m\u001b[36m(DefaultActor pid=1457)\u001b[0m selected images size:  15\n",
            "\u001b[2m\u001b[36m(DefaultActor pid=1457)\u001b[0m output size:  256\n",
            "\u001b[2m\u001b[36m(DefaultActor pid=1457)\u001b[0m selected images size:  20\n",
            "\u001b[2m\u001b[36m(DefaultActor pid=1457)\u001b[0m output size:  256\n",
            "\u001b[2m\u001b[36m(DefaultActor pid=1457)\u001b[0m selected images size:  16\n",
            "\u001b[2m\u001b[36m(DefaultActor pid=1457)\u001b[0m output size:  256\n",
            "\u001b[2m\u001b[36m(DefaultActor pid=1457)\u001b[0m selected images size:  21\n",
            "\u001b[2m\u001b[36m(DefaultActor pid=1457)\u001b[0m output size:  256\n",
            "\u001b[2m\u001b[36m(DefaultActor pid=1457)\u001b[0m selected images size:  27\n",
            "\u001b[2m\u001b[36m(DefaultActor pid=1457)\u001b[0m output size:  101\n",
            "\u001b[2m\u001b[36m(DefaultActor pid=1457)\u001b[0m selected images size:  8\n",
            "\u001b[2m\u001b[36m(DefaultActor pid=1457)\u001b[0m output size:  256\n",
            "\u001b[2m\u001b[36m(DefaultActor pid=1457)\u001b[0m selected images size:  15\n",
            "\u001b[2m\u001b[36m(DefaultActor pid=1457)\u001b[0m output size:  256\n",
            "\u001b[2m\u001b[36m(DefaultActor pid=1457)\u001b[0m selected images size:  21\n",
            "\u001b[2m\u001b[36m(DefaultActor pid=1457)\u001b[0m output size:  256\n",
            "\u001b[2m\u001b[36m(DefaultActor pid=1457)\u001b[0m selected images size:  18\n",
            "\u001b[2m\u001b[36m(DefaultActor pid=1457)\u001b[0m output size:  256\n",
            "\u001b[2m\u001b[36m(DefaultActor pid=1457)\u001b[0m selected images size:  19\n",
            "\u001b[2m\u001b[36m(DefaultActor pid=1457)\u001b[0m output size:  256\n",
            "\u001b[2m\u001b[36m(DefaultActor pid=1457)\u001b[0m selected images size:  18\n",
            "\u001b[2m\u001b[36m(DefaultActor pid=1457)\u001b[0m output size:  256\n",
            "\u001b[2m\u001b[36m(DefaultActor pid=1457)\u001b[0m selected images size:  29\n",
            "\u001b[2m\u001b[36m(DefaultActor pid=1457)\u001b[0m output size:  101\n",
            "\u001b[2m\u001b[36m(DefaultActor pid=1457)\u001b[0m selected images size:  8\n",
            "\u001b[2m\u001b[36m(DefaultActor pid=1457)\u001b[0m output size:  256\n",
            "\u001b[2m\u001b[36m(DefaultActor pid=1457)\u001b[0m selected images size:  27\n",
            "\u001b[2m\u001b[36m(DefaultActor pid=1457)\u001b[0m output size:  256\n",
            "\u001b[2m\u001b[36m(DefaultActor pid=1457)\u001b[0m selected images size:  31\n",
            "\u001b[2m\u001b[36m(DefaultActor pid=1457)\u001b[0m output size:  256\n",
            "\u001b[2m\u001b[36m(DefaultActor pid=1457)\u001b[0m selected images size:  30\n",
            "\u001b[2m\u001b[36m(DefaultActor pid=1457)\u001b[0m output size:  256\n",
            "\u001b[2m\u001b[36m(DefaultActor pid=1457)\u001b[0m selected images size:  43\n",
            "\u001b[2m\u001b[36m(DefaultActor pid=1457)\u001b[0m output size:  256\n",
            "\u001b[2m\u001b[36m(DefaultActor pid=1457)\u001b[0m selected images size:  38\n",
            "\u001b[2m\u001b[36m(DefaultActor pid=1457)\u001b[0m output size:  256\n",
            "\u001b[2m\u001b[36m(DefaultActor pid=1457)\u001b[0m selected images size:  55\n",
            "\u001b[2m\u001b[36m(DefaultActor pid=1457)\u001b[0m output size:  101\n",
            "\u001b[2m\u001b[36m(DefaultActor pid=1457)\u001b[0m selected images size:  12\n",
            "\u001b[2m\u001b[36m(DefaultActor pid=1457)\u001b[0m output size:  256\n",
            "\u001b[2m\u001b[36m(DefaultActor pid=1457)\u001b[0m selected images size:  50\n",
            "\u001b[2m\u001b[36m(DefaultActor pid=1457)\u001b[0m output size:  256\n",
            "\u001b[2m\u001b[36m(DefaultActor pid=1457)\u001b[0m selected images size:  53\n",
            "\u001b[2m\u001b[36m(DefaultActor pid=1457)\u001b[0m output size:  256\n",
            "\u001b[2m\u001b[36m(DefaultActor pid=1457)\u001b[0m selected images size:  87\n",
            "\u001b[2m\u001b[36m(DefaultActor pid=1457)\u001b[0m output size:  256\n",
            "\u001b[2m\u001b[36m(DefaultActor pid=1457)\u001b[0m selected images size:  65\n",
            "\u001b[2m\u001b[36m(DefaultActor pid=1457)\u001b[0m output size:  256\n",
            "\u001b[2m\u001b[36m(DefaultActor pid=1457)\u001b[0m selected images size:  74\n",
            "\u001b[2m\u001b[36m(DefaultActor pid=1457)\u001b[0m output size:  256\n",
            "\u001b[2m\u001b[36m(DefaultActor pid=1457)\u001b[0m selected images size:  79\n",
            "\u001b[2m\u001b[36m(DefaultActor pid=1457)\u001b[0m output size:  101\n",
            "\u001b[2m\u001b[36m(DefaultActor pid=1457)\u001b[0m selected images size:  33\n",
            "\u001b[2m\u001b[36m(DefaultActor pid=1457)\u001b[0m output size:  256\n",
            "\u001b[2m\u001b[36m(DefaultActor pid=1457)\u001b[0m selected images size:  94\n",
            "\u001b[2m\u001b[36m(DefaultActor pid=1457)\u001b[0m output size:  256\n",
            "\u001b[2m\u001b[36m(DefaultActor pid=1457)\u001b[0m selected images size:  80\n",
            "\u001b[2m\u001b[36m(DefaultActor pid=1457)\u001b[0m output size:  256\n",
            "\u001b[2m\u001b[36m(DefaultActor pid=1457)\u001b[0m selected images size:  87\n",
            "\u001b[2m\u001b[36m(DefaultActor pid=1457)\u001b[0m output size:  256\n",
            "\u001b[2m\u001b[36m(DefaultActor pid=1457)\u001b[0m selected images size:  97\n",
            "\u001b[2m\u001b[36m(DefaultActor pid=1457)\u001b[0m output size:  256\n",
            "\u001b[2m\u001b[36m(DefaultActor pid=1457)\u001b[0m selected images size:  109\n",
            "\u001b[2m\u001b[36m(DefaultActor pid=1457)\u001b[0m output size:  256\n",
            "\u001b[2m\u001b[36m(DefaultActor pid=1457)\u001b[0m selected images size:  94\n",
            "\u001b[2m\u001b[36m(DefaultActor pid=1457)\u001b[0m output size:  101\n",
            "\u001b[2m\u001b[36m(DefaultActor pid=1457)\u001b[0m selected images size:  37\n",
            "\u001b[2m\u001b[36m(DefaultActor pid=1457)\u001b[0m output size:  256\n",
            "\u001b[2m\u001b[36m(DefaultActor pid=1457)\u001b[0m selected images size:  107\n",
            "\u001b[2m\u001b[36m(DefaultActor pid=1457)\u001b[0m output size:  256\n",
            "\u001b[2m\u001b[36m(DefaultActor pid=1457)\u001b[0m selected images size:  107\n",
            "\u001b[2m\u001b[36m(DefaultActor pid=1457)\u001b[0m output size:  256\n",
            "\u001b[2m\u001b[36m(DefaultActor pid=1457)\u001b[0m selected images size:  124\n",
            "\u001b[2m\u001b[36m(DefaultActor pid=1457)\u001b[0m output size:  256\n",
            "\u001b[2m\u001b[36m(DefaultActor pid=1457)\u001b[0m selected images size:  116\n",
            "\u001b[2m\u001b[36m(DefaultActor pid=1457)\u001b[0m output size:  256\n",
            "\u001b[2m\u001b[36m(DefaultActor pid=1457)\u001b[0m selected images size:  122\n",
            "\u001b[2m\u001b[36m(DefaultActor pid=1457)\u001b[0m output size:  256\n",
            "\u001b[2m\u001b[36m(DefaultActor pid=1457)\u001b[0m selected images size:  119\n",
            "\u001b[2m\u001b[36m(DefaultActor pid=1457)\u001b[0m output size:  101\n",
            "\u001b[2m\u001b[36m(DefaultActor pid=1457)\u001b[0m selected images size:  41\n",
            "\u001b[2m\u001b[36m(DefaultActor pid=1457)\u001b[0m output size:  256\n",
            "\u001b[2m\u001b[36m(DefaultActor pid=1457)\u001b[0m selected images size:  120\n",
            "\u001b[2m\u001b[36m(DefaultActor pid=1457)\u001b[0m output size:  256\n",
            "\u001b[2m\u001b[36m(DefaultActor pid=1457)\u001b[0m selected images size:  136\n",
            "\u001b[2m\u001b[36m(DefaultActor pid=1457)\u001b[0m output size:  256\n",
            "\u001b[2m\u001b[36m(DefaultActor pid=1457)\u001b[0m selected images size:  124\n",
            "\u001b[2m\u001b[36m(DefaultActor pid=1457)\u001b[0m output size:  256\n",
            "\u001b[2m\u001b[36m(DefaultActor pid=1457)\u001b[0m selected images size:  119\n",
            "\u001b[2m\u001b[36m(DefaultActor pid=1457)\u001b[0m output size:  256\n",
            "\u001b[2m\u001b[36m(DefaultActor pid=1457)\u001b[0m selected images size:  118\n",
            "\u001b[2m\u001b[36m(DefaultActor pid=1457)\u001b[0m output size:  256\n",
            "\u001b[2m\u001b[36m(DefaultActor pid=1457)\u001b[0m selected images size:  111\n",
            "\u001b[2m\u001b[36m(DefaultActor pid=1457)\u001b[0m output size:  101\n",
            "\u001b[2m\u001b[36m(DefaultActor pid=1457)\u001b[0m selected images size:  44\n",
            "\u001b[2m\u001b[36m(DefaultActor pid=1457)\u001b[0m output size:  256\n",
            "\u001b[2m\u001b[36m(DefaultActor pid=1457)\u001b[0m selected images size:  122\n",
            "\u001b[2m\u001b[36m(DefaultActor pid=1457)\u001b[0m output size:  256\n",
            "\u001b[2m\u001b[36m(DefaultActor pid=1457)\u001b[0m selected images size:  146\n",
            "\u001b[2m\u001b[36m(DefaultActor pid=1457)\u001b[0m output size:  256\n",
            "\u001b[2m\u001b[36m(DefaultActor pid=1457)\u001b[0m selected images size:  130\n",
            "\u001b[2m\u001b[36m(DefaultActor pid=1457)\u001b[0m output size:  256\n",
            "\u001b[2m\u001b[36m(DefaultActor pid=1457)\u001b[0m selected images size:  136\n",
            "\u001b[2m\u001b[36m(DefaultActor pid=1457)\u001b[0m output size:  256\n",
            "\u001b[2m\u001b[36m(DefaultActor pid=1457)\u001b[0m selected images size:  129\n",
            "\u001b[2m\u001b[36m(DefaultActor pid=1457)\u001b[0m output size:  256\n",
            "\u001b[2m\u001b[36m(DefaultActor pid=1457)\u001b[0m selected images size:  124\n",
            "\u001b[2m\u001b[36m(DefaultActor pid=1457)\u001b[0m output size:  101\n",
            "\u001b[2m\u001b[36m(DefaultActor pid=1457)\u001b[0m selected images size:  52\n",
            "\u001b[2m\u001b[36m(DefaultActor pid=1457)\u001b[0m output size:  256\n",
            "\u001b[2m\u001b[36m(DefaultActor pid=1457)\u001b[0m selected images size:  133\n",
            "\u001b[2m\u001b[36m(DefaultActor pid=1457)\u001b[0m output size:  256\n",
            "\u001b[2m\u001b[36m(DefaultActor pid=1457)\u001b[0m selected images size:  132\n",
            "\u001b[2m\u001b[36m(DefaultActor pid=1457)\u001b[0m output size:  256\n",
            "\u001b[2m\u001b[36m(DefaultActor pid=1457)\u001b[0m selected images size:  136\n",
            "\u001b[2m\u001b[36m(DefaultActor pid=1457)\u001b[0m output size:  256\n",
            "\u001b[2m\u001b[36m(DefaultActor pid=1457)\u001b[0m selected images size:  133\n",
            "\u001b[2m\u001b[36m(DefaultActor pid=1457)\u001b[0m output size:  256\n",
            "\u001b[2m\u001b[36m(DefaultActor pid=1457)\u001b[0m selected images size:  125\n",
            "\u001b[2m\u001b[36m(DefaultActor pid=1457)\u001b[0m output size:  256\n",
            "\u001b[2m\u001b[36m(DefaultActor pid=1457)\u001b[0m selected images size:  114\n",
            "\u001b[2m\u001b[36m(DefaultActor pid=1457)\u001b[0m output size:  101\n",
            "\u001b[2m\u001b[36m(DefaultActor pid=1457)\u001b[0m selected images size:  46\n",
            "\u001b[2m\u001b[36m(DefaultActor pid=1457)\u001b[0m output size:  256\n",
            "\u001b[2m\u001b[36m(DefaultActor pid=1457)\u001b[0m selected images size:  124\n",
            "\u001b[2m\u001b[36m(DefaultActor pid=1457)\u001b[0m output size:  256\n",
            "\u001b[2m\u001b[36m(DefaultActor pid=1457)\u001b[0m selected images size:  109\n",
            "\u001b[2m\u001b[36m(DefaultActor pid=1457)\u001b[0m output size:  256\n",
            "\u001b[2m\u001b[36m(DefaultActor pid=1457)\u001b[0m selected images size:  100\n",
            "\u001b[2m\u001b[36m(DefaultActor pid=1457)\u001b[0m output size:  256\n",
            "\u001b[2m\u001b[36m(DefaultActor pid=1457)\u001b[0m selected images size:  104\n",
            "\u001b[2m\u001b[36m(DefaultActor pid=1457)\u001b[0m output size:  256\n",
            "\u001b[2m\u001b[36m(DefaultActor pid=1457)\u001b[0m selected images size:  91\n",
            "\u001b[2m\u001b[36m(DefaultActor pid=1457)\u001b[0m output size:  256\n",
            "\u001b[2m\u001b[36m(DefaultActor pid=1457)\u001b[0m selected images size:  96\n",
            "\u001b[2m\u001b[36m(DefaultActor pid=1457)\u001b[0m output size:  101\n",
            "\u001b[2m\u001b[36m(DefaultActor pid=1457)\u001b[0m selected images size:  34\n",
            "\u001b[2m\u001b[36m(DefaultActor pid=1457)\u001b[0m output size:  256\n",
            "\u001b[2m\u001b[36m(DefaultActor pid=1457)\u001b[0m selected images size:  84\n",
            "\u001b[2m\u001b[36m(DefaultActor pid=1457)\u001b[0m output size:  256\n",
            "\u001b[2m\u001b[36m(DefaultActor pid=1457)\u001b[0m selected images size:  95\n",
            "\u001b[2m\u001b[36m(DefaultActor pid=1457)\u001b[0m output size:  256\n",
            "\u001b[2m\u001b[36m(DefaultActor pid=1457)\u001b[0m selected images size:  80\n",
            "\u001b[2m\u001b[36m(DefaultActor pid=1457)\u001b[0m output size:  256\n",
            "\u001b[2m\u001b[36m(DefaultActor pid=1457)\u001b[0m selected images size:  76\n",
            "\u001b[2m\u001b[36m(DefaultActor pid=1457)\u001b[0m output size:  256\n",
            "\u001b[2m\u001b[36m(DefaultActor pid=1457)\u001b[0m selected images size:  84\n",
            "\u001b[2m\u001b[36m(DefaultActor pid=1457)\u001b[0m output size:  256\n",
            "\u001b[2m\u001b[36m(DefaultActor pid=1457)\u001b[0m selected images size:  81\n",
            "\u001b[2m\u001b[36m(DefaultActor pid=1457)\u001b[0m output size:  101\n",
            "\u001b[2m\u001b[36m(DefaultActor pid=1457)\u001b[0m selected images size:  31\n",
            "\u001b[2m\u001b[36m(DefaultActor pid=1457)\u001b[0m output size:  256\n",
            "\u001b[2m\u001b[36m(DefaultActor pid=1457)\u001b[0m selected images size:  70\n",
            "\u001b[2m\u001b[36m(DefaultActor pid=1457)\u001b[0m output size:  256\n",
            "\u001b[2m\u001b[36m(DefaultActor pid=1457)\u001b[0m selected images size:  58\n",
            "\u001b[2m\u001b[36m(DefaultActor pid=1457)\u001b[0m output size:  256\n",
            "\u001b[2m\u001b[36m(DefaultActor pid=1457)\u001b[0m selected images size:  72\n",
            "\u001b[2m\u001b[36m(DefaultActor pid=1457)\u001b[0m output size:  256\n",
            "\u001b[2m\u001b[36m(DefaultActor pid=1457)\u001b[0m selected images size:  78\n",
            "\u001b[2m\u001b[36m(DefaultActor pid=1457)\u001b[0m output size:  256\n",
            "\u001b[2m\u001b[36m(DefaultActor pid=1457)\u001b[0m selected images size:  64\n",
            "\u001b[2m\u001b[36m(DefaultActor pid=1457)\u001b[0m output size:  256\n",
            "\u001b[2m\u001b[36m(DefaultActor pid=1457)\u001b[0m selected images size:  83\n",
            "\u001b[2m\u001b[36m(DefaultActor pid=1457)\u001b[0m output size:  101\n",
            "\u001b[2m\u001b[36m(DefaultActor pid=1457)\u001b[0m selected images size:  28\n"
          ]
        },
        {
          "output_type": "stream",
          "name": "stderr",
          "text": [
            "DEBUG flwr 2024-01-20 10:09:27,710 | server.py:236 | fit_round 14 received 10 results and 0 failures\n",
            "DEBUG:flwr:fit_round 14 received 10 results and 0 failures\n"
          ]
        },
        {
          "output_type": "stream",
          "name": "stdout",
          "text": [
            "Saving round 14 aggregated_parameters...\n"
          ]
        },
        {
          "output_type": "stream",
          "name": "stderr",
          "text": [
            "INFO flwr 2024-01-20 10:09:43,391 | server.py:125 | fit progress: (14, 299.0589369535446, {'accuracy': 0.3875968992248062}, 1895.1980621220002)\n",
            "INFO:flwr:fit progress: (14, 299.0589369535446, {'accuracy': 0.3875968992248062}, 1895.1980621220002)\n",
            "DEBUG flwr 2024-01-20 10:09:43,394 | server.py:173 | evaluate_round 14: strategy sampled 10 clients (out of 33)\n",
            "DEBUG:flwr:evaluate_round 14: strategy sampled 10 clients (out of 33)\n"
          ]
        },
        {
          "output_type": "stream",
          "name": "stdout",
          "text": [
            "GLOBAL TEST\n"
          ]
        },
        {
          "output_type": "stream",
          "name": "stderr",
          "text": [
            "DEBUG flwr 2024-01-20 10:09:47,880 | server.py:187 | evaluate_round 14 received 10 results and 0 failures\n",
            "DEBUG:flwr:evaluate_round 14 received 10 results and 0 failures\n",
            "DEBUG flwr 2024-01-20 10:09:47,883 | server.py:222 | fit_round 15: strategy sampled 10 clients (out of 33)\n",
            "DEBUG:flwr:fit_round 15: strategy sampled 10 clients (out of 33)\n",
            "DEBUG flwr 2024-01-20 10:11:07,035 | server.py:236 | fit_round 15 received 10 results and 0 failures\n",
            "DEBUG:flwr:fit_round 15 received 10 results and 0 failures\n"
          ]
        },
        {
          "output_type": "stream",
          "name": "stdout",
          "text": [
            "Saving round 15 aggregated_parameters...\n"
          ]
        },
        {
          "output_type": "stream",
          "name": "stderr",
          "text": [
            "INFO flwr 2024-01-20 10:11:22,658 | server.py:125 | fit progress: (15, 297.75017261505127, {'accuracy': 0.3875968992248062}, 1994.464745354)\n",
            "INFO:flwr:fit progress: (15, 297.75017261505127, {'accuracy': 0.3875968992248062}, 1994.464745354)\n",
            "DEBUG flwr 2024-01-20 10:11:22,662 | server.py:173 | evaluate_round 15: strategy sampled 10 clients (out of 33)\n",
            "DEBUG:flwr:evaluate_round 15: strategy sampled 10 clients (out of 33)\n"
          ]
        },
        {
          "output_type": "stream",
          "name": "stdout",
          "text": [
            "GLOBAL TEST\n"
          ]
        },
        {
          "output_type": "stream",
          "name": "stderr",
          "text": [
            "DEBUG flwr 2024-01-20 10:11:26,943 | server.py:187 | evaluate_round 15 received 10 results and 0 failures\n",
            "DEBUG:flwr:evaluate_round 15 received 10 results and 0 failures\n",
            "DEBUG flwr 2024-01-20 10:11:26,948 | server.py:222 | fit_round 16: strategy sampled 10 clients (out of 33)\n",
            "DEBUG:flwr:fit_round 16: strategy sampled 10 clients (out of 33)\n"
          ]
        },
        {
          "output_type": "stream",
          "name": "stdout",
          "text": [
            "\u001b[2m\u001b[36m(DefaultActor pid=1457)\u001b[0m ATTACKER\n",
            "\u001b[2m\u001b[36m(DefaultActor pid=1457)\u001b[0m output size:  256\n",
            "\u001b[2m\u001b[36m(DefaultActor pid=1457)\u001b[0m selected images size:  1\n",
            "\u001b[2m\u001b[36m(DefaultActor pid=1457)\u001b[0m ATTACKER\n",
            "\u001b[2m\u001b[36m(DefaultActor pid=1457)\u001b[0m output size:  256\n",
            "\u001b[2m\u001b[36m(DefaultActor pid=1457)\u001b[0m selected images size:  1\n"
          ]
        },
        {
          "output_type": "stream",
          "name": "stderr",
          "text": [
            "DEBUG flwr 2024-01-20 10:14:19,386 | server.py:236 | fit_round 16 received 10 results and 0 failures\n",
            "DEBUG:flwr:fit_round 16 received 10 results and 0 failures\n"
          ]
        },
        {
          "output_type": "stream",
          "name": "stdout",
          "text": [
            "Saving round 16 aggregated_parameters...\n"
          ]
        },
        {
          "output_type": "stream",
          "name": "stderr",
          "text": [
            "INFO flwr 2024-01-20 10:14:35,020 | server.py:125 | fit progress: (16, 306.8296808004379, {'accuracy': 15.116279069767442}, 2186.827548057)\n",
            "INFO:flwr:fit progress: (16, 306.8296808004379, {'accuracy': 15.116279069767442}, 2186.827548057)\n",
            "DEBUG flwr 2024-01-20 10:14:35,024 | server.py:173 | evaluate_round 16: strategy sampled 10 clients (out of 33)\n",
            "DEBUG:flwr:evaluate_round 16: strategy sampled 10 clients (out of 33)\n"
          ]
        },
        {
          "output_type": "stream",
          "name": "stdout",
          "text": [
            "GLOBAL TEST\n"
          ]
        },
        {
          "output_type": "stream",
          "name": "stderr",
          "text": [
            "DEBUG flwr 2024-01-20 10:14:38,611 | server.py:187 | evaluate_round 16 received 10 results and 0 failures\n",
            "DEBUG:flwr:evaluate_round 16 received 10 results and 0 failures\n",
            "DEBUG flwr 2024-01-20 10:14:38,619 | server.py:222 | fit_round 17: strategy sampled 10 clients (out of 33)\n",
            "DEBUG:flwr:fit_round 17: strategy sampled 10 clients (out of 33)\n"
          ]
        },
        {
          "output_type": "stream",
          "name": "stdout",
          "text": [
            "\u001b[2m\u001b[36m(DefaultActor pid=1457)\u001b[0m ATTACKER\n",
            "\u001b[2m\u001b[36m(DefaultActor pid=1457)\u001b[0m output size:  256\n",
            "\u001b[2m\u001b[36m(DefaultActor pid=1457)\u001b[0m selected images size:  1\n",
            "\u001b[2m\u001b[36m(DefaultActor pid=1457)\u001b[0m output size:  256\n",
            "\u001b[2m\u001b[36m(DefaultActor pid=1457)\u001b[0m selected images size:  1\n",
            "\u001b[2m\u001b[36m(DefaultActor pid=1457)\u001b[0m output size:  256\n",
            "\u001b[2m\u001b[36m(DefaultActor pid=1457)\u001b[0m selected images size:  1\n",
            "\u001b[2m\u001b[36m(DefaultActor pid=1457)\u001b[0m output size:  256\n",
            "\u001b[2m\u001b[36m(DefaultActor pid=1457)\u001b[0m selected images size:  1\n",
            "\u001b[2m\u001b[36m(DefaultActor pid=1457)\u001b[0m output size:  256\n",
            "\u001b[2m\u001b[36m(DefaultActor pid=1457)\u001b[0m selected images size:  2\n",
            "\u001b[2m\u001b[36m(DefaultActor pid=1457)\u001b[0m output size:  256\n",
            "\u001b[2m\u001b[36m(DefaultActor pid=1457)\u001b[0m selected images size:  2\n",
            "\u001b[2m\u001b[36m(DefaultActor pid=1457)\u001b[0m output size:  256\n",
            "\u001b[2m\u001b[36m(DefaultActor pid=1457)\u001b[0m selected images size:  1\n",
            "\u001b[2m\u001b[36m(DefaultActor pid=1457)\u001b[0m output size:  256\n",
            "\u001b[2m\u001b[36m(DefaultActor pid=1457)\u001b[0m selected images size:  2\n",
            "\u001b[2m\u001b[36m(DefaultActor pid=1457)\u001b[0m output size:  256\n",
            "\u001b[2m\u001b[36m(DefaultActor pid=1457)\u001b[0m selected images size:  1\n",
            "\u001b[2m\u001b[36m(DefaultActor pid=1457)\u001b[0m output size:  256\n",
            "\u001b[2m\u001b[36m(DefaultActor pid=1457)\u001b[0m selected images size:  2\n",
            "\u001b[2m\u001b[36m(DefaultActor pid=1457)\u001b[0m output size:  256\n",
            "\u001b[2m\u001b[36m(DefaultActor pid=1457)\u001b[0m selected images size:  1\n",
            "\u001b[2m\u001b[36m(DefaultActor pid=1457)\u001b[0m output size:  256\n",
            "\u001b[2m\u001b[36m(DefaultActor pid=1457)\u001b[0m selected images size:  2\n",
            "\u001b[2m\u001b[36m(DefaultActor pid=1457)\u001b[0m output size:  256\n",
            "\u001b[2m\u001b[36m(DefaultActor pid=1457)\u001b[0m selected images size:  2\n",
            "\u001b[2m\u001b[36m(DefaultActor pid=1457)\u001b[0m output size:  256\n",
            "\u001b[2m\u001b[36m(DefaultActor pid=1457)\u001b[0m selected images size:  5\n",
            "\u001b[2m\u001b[36m(DefaultActor pid=1457)\u001b[0m output size:  256\n",
            "\u001b[2m\u001b[36m(DefaultActor pid=1457)\u001b[0m selected images size:  2\n",
            "\u001b[2m\u001b[36m(DefaultActor pid=1457)\u001b[0m output size:  256\n",
            "\u001b[2m\u001b[36m(DefaultActor pid=1457)\u001b[0m selected images size:  3\n",
            "\u001b[2m\u001b[36m(DefaultActor pid=1457)\u001b[0m output size:  101\n",
            "\u001b[2m\u001b[36m(DefaultActor pid=1457)\u001b[0m selected images size:  1\n",
            "\u001b[2m\u001b[36m(DefaultActor pid=1457)\u001b[0m output size:  256\n",
            "\u001b[2m\u001b[36m(DefaultActor pid=1457)\u001b[0m selected images size:  3\n",
            "\u001b[2m\u001b[36m(DefaultActor pid=1457)\u001b[0m output size:  256\n",
            "\u001b[2m\u001b[36m(DefaultActor pid=1457)\u001b[0m selected images size:  7\n",
            "\u001b[2m\u001b[36m(DefaultActor pid=1457)\u001b[0m output size:  256\n",
            "\u001b[2m\u001b[36m(DefaultActor pid=1457)\u001b[0m selected images size:  4\n",
            "\u001b[2m\u001b[36m(DefaultActor pid=1457)\u001b[0m output size:  256\n",
            "\u001b[2m\u001b[36m(DefaultActor pid=1457)\u001b[0m selected images size:  6\n",
            "\u001b[2m\u001b[36m(DefaultActor pid=1457)\u001b[0m output size:  256\n",
            "\u001b[2m\u001b[36m(DefaultActor pid=1457)\u001b[0m selected images size:  10\n",
            "\u001b[2m\u001b[36m(DefaultActor pid=1457)\u001b[0m output size:  101\n",
            "\u001b[2m\u001b[36m(DefaultActor pid=1457)\u001b[0m selected images size:  5\n",
            "\u001b[2m\u001b[36m(DefaultActor pid=1457)\u001b[0m output size:  256\n",
            "\u001b[2m\u001b[36m(DefaultActor pid=1457)\u001b[0m selected images size:  7\n",
            "\u001b[2m\u001b[36m(DefaultActor pid=1457)\u001b[0m output size:  256\n",
            "\u001b[2m\u001b[36m(DefaultActor pid=1457)\u001b[0m selected images size:  10\n",
            "\u001b[2m\u001b[36m(DefaultActor pid=1457)\u001b[0m output size:  256\n",
            "\u001b[2m\u001b[36m(DefaultActor pid=1457)\u001b[0m selected images size:  14\n",
            "\u001b[2m\u001b[36m(DefaultActor pid=1457)\u001b[0m output size:  256\n",
            "\u001b[2m\u001b[36m(DefaultActor pid=1457)\u001b[0m selected images size:  14\n",
            "\u001b[2m\u001b[36m(DefaultActor pid=1457)\u001b[0m output size:  256\n",
            "\u001b[2m\u001b[36m(DefaultActor pid=1457)\u001b[0m selected images size:  10\n",
            "\u001b[2m\u001b[36m(DefaultActor pid=1457)\u001b[0m output size:  256\n",
            "\u001b[2m\u001b[36m(DefaultActor pid=1457)\u001b[0m selected images size:  10\n",
            "\u001b[2m\u001b[36m(DefaultActor pid=1457)\u001b[0m output size:  101\n",
            "\u001b[2m\u001b[36m(DefaultActor pid=1457)\u001b[0m selected images size:  5\n",
            "\u001b[2m\u001b[36m(DefaultActor pid=1457)\u001b[0m output size:  256\n",
            "\u001b[2m\u001b[36m(DefaultActor pid=1457)\u001b[0m selected images size:  10\n",
            "\u001b[2m\u001b[36m(DefaultActor pid=1457)\u001b[0m output size:  256\n",
            "\u001b[2m\u001b[36m(DefaultActor pid=1457)\u001b[0m selected images size:  12\n",
            "\u001b[2m\u001b[36m(DefaultActor pid=1457)\u001b[0m output size:  256\n",
            "\u001b[2m\u001b[36m(DefaultActor pid=1457)\u001b[0m selected images size:  8\n",
            "\u001b[2m\u001b[36m(DefaultActor pid=1457)\u001b[0m output size:  256\n",
            "\u001b[2m\u001b[36m(DefaultActor pid=1457)\u001b[0m selected images size:  6\n",
            "\u001b[2m\u001b[36m(DefaultActor pid=1457)\u001b[0m output size:  256\n",
            "\u001b[2m\u001b[36m(DefaultActor pid=1457)\u001b[0m selected images size:  3\n",
            "\u001b[2m\u001b[36m(DefaultActor pid=1457)\u001b[0m output size:  256\n",
            "\u001b[2m\u001b[36m(DefaultActor pid=1457)\u001b[0m selected images size:  6\n",
            "\u001b[2m\u001b[36m(DefaultActor pid=1457)\u001b[0m output size:  101\n",
            "\u001b[2m\u001b[36m(DefaultActor pid=1457)\u001b[0m selected images size:  3\n",
            "\u001b[2m\u001b[36m(DefaultActor pid=1457)\u001b[0m output size:  256\n",
            "\u001b[2m\u001b[36m(DefaultActor pid=1457)\u001b[0m selected images size:  3\n",
            "\u001b[2m\u001b[36m(DefaultActor pid=1457)\u001b[0m output size:  256\n",
            "\u001b[2m\u001b[36m(DefaultActor pid=1457)\u001b[0m selected images size:  2\n",
            "\u001b[2m\u001b[36m(DefaultActor pid=1457)\u001b[0m output size:  256\n",
            "\u001b[2m\u001b[36m(DefaultActor pid=1457)\u001b[0m selected images size:  5\n",
            "\u001b[2m\u001b[36m(DefaultActor pid=1457)\u001b[0m output size:  256\n",
            "\u001b[2m\u001b[36m(DefaultActor pid=1457)\u001b[0m selected images size:  5\n",
            "\u001b[2m\u001b[36m(DefaultActor pid=1457)\u001b[0m output size:  256\n",
            "\u001b[2m\u001b[36m(DefaultActor pid=1457)\u001b[0m selected images size:  4\n",
            "\u001b[2m\u001b[36m(DefaultActor pid=1457)\u001b[0m output size:  256\n",
            "\u001b[2m\u001b[36m(DefaultActor pid=1457)\u001b[0m selected images size:  2\n",
            "\u001b[2m\u001b[36m(DefaultActor pid=1457)\u001b[0m output size:  101\n",
            "\u001b[2m\u001b[36m(DefaultActor pid=1457)\u001b[0m selected images size:  2\n",
            "\u001b[2m\u001b[36m(DefaultActor pid=1457)\u001b[0m output size:  256\n",
            "\u001b[2m\u001b[36m(DefaultActor pid=1457)\u001b[0m selected images size:  3\n",
            "\u001b[2m\u001b[36m(DefaultActor pid=1457)\u001b[0m output size:  256\n",
            "\u001b[2m\u001b[36m(DefaultActor pid=1457)\u001b[0m selected images size:  1\n",
            "\u001b[2m\u001b[36m(DefaultActor pid=1457)\u001b[0m output size:  256\n",
            "\u001b[2m\u001b[36m(DefaultActor pid=1457)\u001b[0m selected images size:  8\n",
            "\u001b[2m\u001b[36m(DefaultActor pid=1457)\u001b[0m output size:  256\n",
            "\u001b[2m\u001b[36m(DefaultActor pid=1457)\u001b[0m selected images size:  3\n",
            "\u001b[2m\u001b[36m(DefaultActor pid=1457)\u001b[0m output size:  256\n",
            "\u001b[2m\u001b[36m(DefaultActor pid=1457)\u001b[0m selected images size:  2\n",
            "\u001b[2m\u001b[36m(DefaultActor pid=1457)\u001b[0m output size:  256\n",
            "\u001b[2m\u001b[36m(DefaultActor pid=1457)\u001b[0m selected images size:  1\n",
            "\u001b[2m\u001b[36m(DefaultActor pid=1457)\u001b[0m output size:  101\n",
            "\u001b[2m\u001b[36m(DefaultActor pid=1457)\u001b[0m selected images size:  1\n",
            "\u001b[2m\u001b[36m(DefaultActor pid=1457)\u001b[0m output size:  256\n",
            "\u001b[2m\u001b[36m(DefaultActor pid=1457)\u001b[0m selected images size:  5\n",
            "\u001b[2m\u001b[36m(DefaultActor pid=1457)\u001b[0m output size:  256\n",
            "\u001b[2m\u001b[36m(DefaultActor pid=1457)\u001b[0m selected images size:  3\n",
            "\u001b[2m\u001b[36m(DefaultActor pid=1457)\u001b[0m output size:  256\n",
            "\u001b[2m\u001b[36m(DefaultActor pid=1457)\u001b[0m selected images size:  3\n",
            "\u001b[2m\u001b[36m(DefaultActor pid=1457)\u001b[0m output size:  256\n",
            "\u001b[2m\u001b[36m(DefaultActor pid=1457)\u001b[0m selected images size:  2\n",
            "\u001b[2m\u001b[36m(DefaultActor pid=1457)\u001b[0m output size:  256\n",
            "\u001b[2m\u001b[36m(DefaultActor pid=1457)\u001b[0m selected images size:  6\n",
            "\u001b[2m\u001b[36m(DefaultActor pid=1457)\u001b[0m output size:  256\n",
            "\u001b[2m\u001b[36m(DefaultActor pid=1457)\u001b[0m selected images size:  8\n",
            "\u001b[2m\u001b[36m(DefaultActor pid=1457)\u001b[0m output size:  101\n",
            "\u001b[2m\u001b[36m(DefaultActor pid=1457)\u001b[0m selected images size:  1\n",
            "\u001b[2m\u001b[36m(DefaultActor pid=1457)\u001b[0m output size:  256\n",
            "\u001b[2m\u001b[36m(DefaultActor pid=1457)\u001b[0m selected images size:  4\n",
            "\u001b[2m\u001b[36m(DefaultActor pid=1457)\u001b[0m output size:  256\n",
            "\u001b[2m\u001b[36m(DefaultActor pid=1457)\u001b[0m selected images size:  11\n",
            "\u001b[2m\u001b[36m(DefaultActor pid=1457)\u001b[0m output size:  256\n",
            "\u001b[2m\u001b[36m(DefaultActor pid=1457)\u001b[0m selected images size:  14\n",
            "\u001b[2m\u001b[36m(DefaultActor pid=1457)\u001b[0m output size:  256\n",
            "\u001b[2m\u001b[36m(DefaultActor pid=1457)\u001b[0m selected images size:  6\n",
            "\u001b[2m\u001b[36m(DefaultActor pid=1457)\u001b[0m output size:  256\n",
            "\u001b[2m\u001b[36m(DefaultActor pid=1457)\u001b[0m selected images size:  7\n",
            "\u001b[2m\u001b[36m(DefaultActor pid=1457)\u001b[0m output size:  256\n",
            "\u001b[2m\u001b[36m(DefaultActor pid=1457)\u001b[0m selected images size:  6\n",
            "\u001b[2m\u001b[36m(DefaultActor pid=1457)\u001b[0m output size:  101\n",
            "\u001b[2m\u001b[36m(DefaultActor pid=1457)\u001b[0m selected images size:  2\n",
            "\u001b[2m\u001b[36m(DefaultActor pid=1457)\u001b[0m output size:  256\n",
            "\u001b[2m\u001b[36m(DefaultActor pid=1457)\u001b[0m selected images size:  10\n",
            "\u001b[2m\u001b[36m(DefaultActor pid=1457)\u001b[0m output size:  256\n",
            "\u001b[2m\u001b[36m(DefaultActor pid=1457)\u001b[0m selected images size:  10\n",
            "\u001b[2m\u001b[36m(DefaultActor pid=1457)\u001b[0m output size:  256\n",
            "\u001b[2m\u001b[36m(DefaultActor pid=1457)\u001b[0m selected images size:  7\n",
            "\u001b[2m\u001b[36m(DefaultActor pid=1457)\u001b[0m output size:  256\n",
            "\u001b[2m\u001b[36m(DefaultActor pid=1457)\u001b[0m selected images size:  10\n",
            "\u001b[2m\u001b[36m(DefaultActor pid=1457)\u001b[0m output size:  256\n",
            "\u001b[2m\u001b[36m(DefaultActor pid=1457)\u001b[0m selected images size:  10\n",
            "\u001b[2m\u001b[36m(DefaultActor pid=1457)\u001b[0m output size:  256\n",
            "\u001b[2m\u001b[36m(DefaultActor pid=1457)\u001b[0m selected images size:  16\n",
            "\u001b[2m\u001b[36m(DefaultActor pid=1457)\u001b[0m output size:  101\n",
            "\u001b[2m\u001b[36m(DefaultActor pid=1457)\u001b[0m selected images size:  4\n",
            "\u001b[2m\u001b[36m(DefaultActor pid=1457)\u001b[0m output size:  256\n",
            "\u001b[2m\u001b[36m(DefaultActor pid=1457)\u001b[0m selected images size:  16\n",
            "\u001b[2m\u001b[36m(DefaultActor pid=1457)\u001b[0m output size:  256\n",
            "\u001b[2m\u001b[36m(DefaultActor pid=1457)\u001b[0m selected images size:  12\n",
            "\u001b[2m\u001b[36m(DefaultActor pid=1457)\u001b[0m output size:  256\n",
            "\u001b[2m\u001b[36m(DefaultActor pid=1457)\u001b[0m selected images size:  17\n",
            "\u001b[2m\u001b[36m(DefaultActor pid=1457)\u001b[0m output size:  256\n",
            "\u001b[2m\u001b[36m(DefaultActor pid=1457)\u001b[0m selected images size:  6\n",
            "\u001b[2m\u001b[36m(DefaultActor pid=1457)\u001b[0m output size:  256\n",
            "\u001b[2m\u001b[36m(DefaultActor pid=1457)\u001b[0m selected images size:  9\n",
            "\u001b[2m\u001b[36m(DefaultActor pid=1457)\u001b[0m output size:  256\n",
            "\u001b[2m\u001b[36m(DefaultActor pid=1457)\u001b[0m selected images size:  11\n",
            "\u001b[2m\u001b[36m(DefaultActor pid=1457)\u001b[0m output size:  101\n",
            "\u001b[2m\u001b[36m(DefaultActor pid=1457)\u001b[0m selected images size:  1\n"
          ]
        },
        {
          "output_type": "stream",
          "name": "stderr",
          "text": [
            "DEBUG flwr 2024-01-20 10:16:44,887 | server.py:236 | fit_round 17 received 10 results and 0 failures\n",
            "DEBUG:flwr:fit_round 17 received 10 results and 0 failures\n"
          ]
        },
        {
          "output_type": "stream",
          "name": "stdout",
          "text": [
            "Saving round 17 aggregated_parameters...\n"
          ]
        },
        {
          "output_type": "stream",
          "name": "stderr",
          "text": [
            "INFO flwr 2024-01-20 10:17:00,602 | server.py:125 | fit progress: (17, 297.7969754934311, {'accuracy': 0.872093023255814}, 2332.40882187)\n",
            "INFO:flwr:fit progress: (17, 297.7969754934311, {'accuracy': 0.872093023255814}, 2332.40882187)\n",
            "DEBUG flwr 2024-01-20 10:17:00,605 | server.py:173 | evaluate_round 17: strategy sampled 10 clients (out of 33)\n",
            "DEBUG:flwr:evaluate_round 17: strategy sampled 10 clients (out of 33)\n"
          ]
        },
        {
          "output_type": "stream",
          "name": "stdout",
          "text": [
            "GLOBAL TEST\n"
          ]
        },
        {
          "output_type": "stream",
          "name": "stderr",
          "text": [
            "DEBUG flwr 2024-01-20 10:17:04,174 | server.py:187 | evaluate_round 17 received 10 results and 0 failures\n",
            "DEBUG:flwr:evaluate_round 17 received 10 results and 0 failures\n",
            "DEBUG flwr 2024-01-20 10:17:04,183 | server.py:222 | fit_round 18: strategy sampled 10 clients (out of 33)\n",
            "DEBUG:flwr:fit_round 18: strategy sampled 10 clients (out of 33)\n"
          ]
        },
        {
          "output_type": "stream",
          "name": "stdout",
          "text": [
            "\u001b[2m\u001b[36m(DefaultActor pid=1457)\u001b[0m ATTACKER\n",
            "\u001b[2m\u001b[36m(DefaultActor pid=1457)\u001b[0m output size:  256\n",
            "\u001b[2m\u001b[36m(DefaultActor pid=1457)\u001b[0m selected images size:  1\n",
            "\u001b[2m\u001b[36m(DefaultActor pid=1457)\u001b[0m ATTACKER\n",
            "\u001b[2m\u001b[36m(DefaultActor pid=1457)\u001b[0m output size:  256\n",
            "\u001b[2m\u001b[36m(DefaultActor pid=1457)\u001b[0m selected images size:  1\n"
          ]
        },
        {
          "output_type": "stream",
          "name": "stderr",
          "text": [
            "DEBUG flwr 2024-01-20 10:19:58,555 | server.py:236 | fit_round 18 received 10 results and 0 failures\n",
            "DEBUG:flwr:fit_round 18 received 10 results and 0 failures\n"
          ]
        },
        {
          "output_type": "stream",
          "name": "stdout",
          "text": [
            "Saving round 18 aggregated_parameters...\n"
          ]
        },
        {
          "output_type": "stream",
          "name": "stderr",
          "text": [
            "INFO flwr 2024-01-20 10:20:14,243 | server.py:125 | fit progress: (18, 350.4124438762665, {'accuracy': 98.83720930232558}, 2526.049919884)\n",
            "INFO:flwr:fit progress: (18, 350.4124438762665, {'accuracy': 98.83720930232558}, 2526.049919884)\n",
            "DEBUG flwr 2024-01-20 10:20:14,246 | server.py:173 | evaluate_round 18: strategy sampled 10 clients (out of 33)\n",
            "DEBUG:flwr:evaluate_round 18: strategy sampled 10 clients (out of 33)\n"
          ]
        },
        {
          "output_type": "stream",
          "name": "stdout",
          "text": [
            "GLOBAL TEST\n"
          ]
        },
        {
          "output_type": "stream",
          "name": "stderr",
          "text": [
            "DEBUG flwr 2024-01-20 10:20:17,815 | server.py:187 | evaluate_round 18 received 10 results and 0 failures\n",
            "DEBUG:flwr:evaluate_round 18 received 10 results and 0 failures\n",
            "DEBUG flwr 2024-01-20 10:20:17,818 | server.py:222 | fit_round 19: strategy sampled 10 clients (out of 33)\n",
            "DEBUG:flwr:fit_round 19: strategy sampled 10 clients (out of 33)\n",
            "DEBUG flwr 2024-01-20 10:21:35,720 | server.py:236 | fit_round 19 received 10 results and 0 failures\n",
            "DEBUG:flwr:fit_round 19 received 10 results and 0 failures\n"
          ]
        },
        {
          "output_type": "stream",
          "name": "stdout",
          "text": [
            "Saving round 19 aggregated_parameters...\n"
          ]
        },
        {
          "output_type": "stream",
          "name": "stderr",
          "text": [
            "INFO flwr 2024-01-20 10:21:51,834 | server.py:125 | fit progress: (19, 297.3909568786621, {'accuracy': 0.6782945736434108}, 2623.6413851059997)\n",
            "INFO:flwr:fit progress: (19, 297.3909568786621, {'accuracy': 0.6782945736434108}, 2623.6413851059997)\n",
            "DEBUG flwr 2024-01-20 10:21:51,841 | server.py:173 | evaluate_round 19: strategy sampled 10 clients (out of 33)\n",
            "DEBUG:flwr:evaluate_round 19: strategy sampled 10 clients (out of 33)\n"
          ]
        },
        {
          "output_type": "stream",
          "name": "stdout",
          "text": [
            "GLOBAL TEST\n"
          ]
        },
        {
          "output_type": "stream",
          "name": "stderr",
          "text": [
            "DEBUG flwr 2024-01-20 10:21:55,438 | server.py:187 | evaluate_round 19 received 10 results and 0 failures\n",
            "DEBUG:flwr:evaluate_round 19 received 10 results and 0 failures\n",
            "DEBUG flwr 2024-01-20 10:21:55,440 | server.py:222 | fit_round 20: strategy sampled 10 clients (out of 33)\n",
            "DEBUG:flwr:fit_round 20: strategy sampled 10 clients (out of 33)\n",
            "DEBUG flwr 2024-01-20 10:23:15,532 | server.py:236 | fit_round 20 received 10 results and 0 failures\n",
            "DEBUG:flwr:fit_round 20 received 10 results and 0 failures\n"
          ]
        },
        {
          "output_type": "stream",
          "name": "stdout",
          "text": [
            "Saving round 20 aggregated_parameters...\n"
          ]
        },
        {
          "output_type": "stream",
          "name": "stderr",
          "text": [
            "INFO flwr 2024-01-20 10:23:31,249 | server.py:125 | fit progress: (20, 296.982460975647, {'accuracy': 0.5813953488372093}, 2723.05588635)\n",
            "INFO:flwr:fit progress: (20, 296.982460975647, {'accuracy': 0.5813953488372093}, 2723.05588635)\n",
            "DEBUG flwr 2024-01-20 10:23:31,252 | server.py:173 | evaluate_round 20: strategy sampled 10 clients (out of 33)\n",
            "DEBUG:flwr:evaluate_round 20: strategy sampled 10 clients (out of 33)\n"
          ]
        },
        {
          "output_type": "stream",
          "name": "stdout",
          "text": [
            "GLOBAL TEST\n"
          ]
        },
        {
          "output_type": "stream",
          "name": "stderr",
          "text": [
            "DEBUG flwr 2024-01-20 10:23:35,128 | server.py:187 | evaluate_round 20 received 10 results and 0 failures\n",
            "DEBUG:flwr:evaluate_round 20 received 10 results and 0 failures\n",
            "DEBUG flwr 2024-01-20 10:23:35,134 | server.py:222 | fit_round 21: strategy sampled 10 clients (out of 33)\n",
            "DEBUG:flwr:fit_round 21: strategy sampled 10 clients (out of 33)\n"
          ]
        },
        {
          "output_type": "stream",
          "name": "stdout",
          "text": [
            "\u001b[2m\u001b[36m(DefaultActor pid=1457)\u001b[0m ATTACKER\n",
            "\u001b[2m\u001b[36m(DefaultActor pid=1457)\u001b[0m output size:  256\n",
            "\u001b[2m\u001b[36m(DefaultActor pid=1457)\u001b[0m selected images size:  1\n",
            "\u001b[2m\u001b[36m(DefaultActor pid=1457)\u001b[0m ATTACKER\n",
            "\u001b[2m\u001b[36m(DefaultActor pid=1457)\u001b[0m output size:  256\n",
            "\u001b[2m\u001b[36m(DefaultActor pid=1457)\u001b[0m selected images size:  1\n"
          ]
        },
        {
          "output_type": "stream",
          "name": "stderr",
          "text": [
            "DEBUG flwr 2024-01-20 10:26:25,450 | server.py:236 | fit_round 21 received 10 results and 0 failures\n",
            "DEBUG:flwr:fit_round 21 received 10 results and 0 failures\n"
          ]
        },
        {
          "output_type": "stream",
          "name": "stdout",
          "text": [
            "Saving round 21 aggregated_parameters...\n"
          ]
        },
        {
          "output_type": "stream",
          "name": "stderr",
          "text": [
            "INFO flwr 2024-01-20 10:26:41,536 | server.py:125 | fit progress: (21, 324.1778482198715, {'accuracy': 93.21705426356588}, 2913.3432749000003)\n",
            "INFO:flwr:fit progress: (21, 324.1778482198715, {'accuracy': 93.21705426356588}, 2913.3432749000003)\n",
            "DEBUG flwr 2024-01-20 10:26:41,540 | server.py:173 | evaluate_round 21: strategy sampled 10 clients (out of 33)\n",
            "DEBUG:flwr:evaluate_round 21: strategy sampled 10 clients (out of 33)\n"
          ]
        },
        {
          "output_type": "stream",
          "name": "stdout",
          "text": [
            "GLOBAL TEST\n"
          ]
        },
        {
          "output_type": "stream",
          "name": "stderr",
          "text": [
            "DEBUG flwr 2024-01-20 10:26:46,130 | server.py:187 | evaluate_round 21 received 10 results and 0 failures\n",
            "DEBUG:flwr:evaluate_round 21 received 10 results and 0 failures\n",
            "DEBUG flwr 2024-01-20 10:26:46,137 | server.py:222 | fit_round 22: strategy sampled 10 clients (out of 33)\n",
            "DEBUG:flwr:fit_round 22: strategy sampled 10 clients (out of 33)\n",
            "DEBUG flwr 2024-01-20 10:28:04,558 | server.py:236 | fit_round 22 received 10 results and 0 failures\n",
            "DEBUG:flwr:fit_round 22 received 10 results and 0 failures\n"
          ]
        },
        {
          "output_type": "stream",
          "name": "stdout",
          "text": [
            "Saving round 22 aggregated_parameters...\n"
          ]
        },
        {
          "output_type": "stream",
          "name": "stderr",
          "text": [
            "INFO flwr 2024-01-20 10:28:21,782 | server.py:125 | fit progress: (22, 296.9339303970337, {'accuracy': 0.872093023255814}, 3013.589109824)\n",
            "INFO:flwr:fit progress: (22, 296.9339303970337, {'accuracy': 0.872093023255814}, 3013.589109824)\n",
            "DEBUG flwr 2024-01-20 10:28:21,786 | server.py:173 | evaluate_round 22: strategy sampled 10 clients (out of 33)\n",
            "DEBUG:flwr:evaluate_round 22: strategy sampled 10 clients (out of 33)\n"
          ]
        },
        {
          "output_type": "stream",
          "name": "stdout",
          "text": [
            "GLOBAL TEST\n"
          ]
        },
        {
          "output_type": "stream",
          "name": "stderr",
          "text": [
            "DEBUG flwr 2024-01-20 10:28:26,224 | server.py:187 | evaluate_round 22 received 10 results and 0 failures\n",
            "DEBUG:flwr:evaluate_round 22 received 10 results and 0 failures\n",
            "DEBUG flwr 2024-01-20 10:28:26,230 | server.py:222 | fit_round 23: strategy sampled 10 clients (out of 33)\n",
            "DEBUG:flwr:fit_round 23: strategy sampled 10 clients (out of 33)\n"
          ]
        },
        {
          "output_type": "stream",
          "name": "stdout",
          "text": [
            "\u001b[2m\u001b[36m(DefaultActor pid=1457)\u001b[0m ATTACKER\n",
            "\u001b[2m\u001b[36m(DefaultActor pid=1457)\u001b[0m output size:  256\n",
            "\u001b[2m\u001b[36m(DefaultActor pid=1457)\u001b[0m selected images size:  1\n",
            "\u001b[2m\u001b[36m(DefaultActor pid=1457)\u001b[0m output size:  256\n",
            "\u001b[2m\u001b[36m(DefaultActor pid=1457)\u001b[0m selected images size:  2\n",
            "\u001b[2m\u001b[36m(DefaultActor pid=1457)\u001b[0m output size:  256\n",
            "\u001b[2m\u001b[36m(DefaultActor pid=1457)\u001b[0m selected images size:  1\n"
          ]
        },
        {
          "output_type": "stream",
          "name": "stderr",
          "text": [
            "DEBUG flwr 2024-01-20 10:30:29,818 | server.py:236 | fit_round 23 received 10 results and 0 failures\n",
            "DEBUG:flwr:fit_round 23 received 10 results and 0 failures\n"
          ]
        },
        {
          "output_type": "stream",
          "name": "stdout",
          "text": [
            "Saving round 23 aggregated_parameters...\n"
          ]
        },
        {
          "output_type": "stream",
          "name": "stderr",
          "text": [
            "INFO flwr 2024-01-20 10:30:45,930 | server.py:125 | fit progress: (23, 296.69827008247375, {'accuracy': 1.1627906976744187}, 3157.737504429)\n",
            "INFO:flwr:fit progress: (23, 296.69827008247375, {'accuracy': 1.1627906976744187}, 3157.737504429)\n",
            "DEBUG flwr 2024-01-20 10:30:45,939 | server.py:173 | evaluate_round 23: strategy sampled 10 clients (out of 33)\n",
            "DEBUG:flwr:evaluate_round 23: strategy sampled 10 clients (out of 33)\n"
          ]
        },
        {
          "output_type": "stream",
          "name": "stdout",
          "text": [
            "GLOBAL TEST\n"
          ]
        },
        {
          "output_type": "stream",
          "name": "stderr",
          "text": [
            "DEBUG flwr 2024-01-20 10:30:50,363 | server.py:187 | evaluate_round 23 received 10 results and 0 failures\n",
            "DEBUG:flwr:evaluate_round 23 received 10 results and 0 failures\n",
            "DEBUG flwr 2024-01-20 10:30:50,368 | server.py:222 | fit_round 24: strategy sampled 10 clients (out of 33)\n",
            "DEBUG:flwr:fit_round 24: strategy sampled 10 clients (out of 33)\n"
          ]
        },
        {
          "output_type": "stream",
          "name": "stdout",
          "text": [
            "\u001b[2m\u001b[36m(DefaultActor pid=1457)\u001b[0m ATTACKER\n",
            "\u001b[2m\u001b[36m(DefaultActor pid=1457)\u001b[0m output size:  256\n",
            "\u001b[2m\u001b[36m(DefaultActor pid=1457)\u001b[0m selected images size:  3\n",
            "\u001b[2m\u001b[36m(DefaultActor pid=1457)\u001b[0m output size:  256\n",
            "\u001b[2m\u001b[36m(DefaultActor pid=1457)\u001b[0m selected images size:  3\n",
            "\u001b[2m\u001b[36m(DefaultActor pid=1457)\u001b[0m output size:  256\n",
            "\u001b[2m\u001b[36m(DefaultActor pid=1457)\u001b[0m selected images size:  4\n",
            "\u001b[2m\u001b[36m(DefaultActor pid=1457)\u001b[0m output size:  256\n",
            "\u001b[2m\u001b[36m(DefaultActor pid=1457)\u001b[0m selected images size:  6\n",
            "\u001b[2m\u001b[36m(DefaultActor pid=1457)\u001b[0m output size:  101\n",
            "\u001b[2m\u001b[36m(DefaultActor pid=1457)\u001b[0m selected images size:  2\n",
            "\u001b[2m\u001b[36m(DefaultActor pid=1457)\u001b[0m output size:  256\n",
            "\u001b[2m\u001b[36m(DefaultActor pid=1457)\u001b[0m selected images size:  2\n",
            "\u001b[2m\u001b[36m(DefaultActor pid=1457)\u001b[0m output size:  256\n",
            "\u001b[2m\u001b[36m(DefaultActor pid=1457)\u001b[0m selected images size:  1\n",
            "\u001b[2m\u001b[36m(DefaultActor pid=1457)\u001b[0m output size:  256\n",
            "\u001b[2m\u001b[36m(DefaultActor pid=1457)\u001b[0m selected images size:  3\n",
            "\u001b[2m\u001b[36m(DefaultActor pid=1457)\u001b[0m output size:  256\n",
            "\u001b[2m\u001b[36m(DefaultActor pid=1457)\u001b[0m selected images size:  3\n",
            "\u001b[2m\u001b[36m(DefaultActor pid=1457)\u001b[0m output size:  256\n",
            "\u001b[2m\u001b[36m(DefaultActor pid=1457)\u001b[0m selected images size:  2\n",
            "\u001b[2m\u001b[36m(DefaultActor pid=1457)\u001b[0m output size:  256\n",
            "\u001b[2m\u001b[36m(DefaultActor pid=1457)\u001b[0m selected images size:  3\n",
            "\u001b[2m\u001b[36m(DefaultActor pid=1457)\u001b[0m output size:  101\n",
            "\u001b[2m\u001b[36m(DefaultActor pid=1457)\u001b[0m selected images size:  2\n",
            "\u001b[2m\u001b[36m(DefaultActor pid=1457)\u001b[0m output size:  256\n",
            "\u001b[2m\u001b[36m(DefaultActor pid=1457)\u001b[0m selected images size:  1\n",
            "\u001b[2m\u001b[36m(DefaultActor pid=1457)\u001b[0m output size:  256\n",
            "\u001b[2m\u001b[36m(DefaultActor pid=1457)\u001b[0m selected images size:  3\n",
            "\u001b[2m\u001b[36m(DefaultActor pid=1457)\u001b[0m output size:  256\n",
            "\u001b[2m\u001b[36m(DefaultActor pid=1457)\u001b[0m selected images size:  4\n",
            "\u001b[2m\u001b[36m(DefaultActor pid=1457)\u001b[0m output size:  101\n",
            "\u001b[2m\u001b[36m(DefaultActor pid=1457)\u001b[0m selected images size:  2\n",
            "\u001b[2m\u001b[36m(DefaultActor pid=1457)\u001b[0m output size:  256\n",
            "\u001b[2m\u001b[36m(DefaultActor pid=1457)\u001b[0m selected images size:  2\n",
            "\u001b[2m\u001b[36m(DefaultActor pid=1457)\u001b[0m output size:  256\n",
            "\u001b[2m\u001b[36m(DefaultActor pid=1457)\u001b[0m selected images size:  2\n",
            "\u001b[2m\u001b[36m(DefaultActor pid=1457)\u001b[0m output size:  256\n",
            "\u001b[2m\u001b[36m(DefaultActor pid=1457)\u001b[0m selected images size:  1\n",
            "\u001b[2m\u001b[36m(DefaultActor pid=1457)\u001b[0m output size:  256\n",
            "\u001b[2m\u001b[36m(DefaultActor pid=1457)\u001b[0m selected images size:  1\n",
            "\u001b[2m\u001b[36m(DefaultActor pid=1457)\u001b[0m output size:  256\n",
            "\u001b[2m\u001b[36m(DefaultActor pid=1457)\u001b[0m selected images size:  1\n",
            "\u001b[2m\u001b[36m(DefaultActor pid=1457)\u001b[0m output size:  256\n",
            "\u001b[2m\u001b[36m(DefaultActor pid=1457)\u001b[0m selected images size:  1\n",
            "\u001b[2m\u001b[36m(DefaultActor pid=1457)\u001b[0m output size:  256\n",
            "\u001b[2m\u001b[36m(DefaultActor pid=1457)\u001b[0m selected images size:  1\n",
            "\u001b[2m\u001b[36m(DefaultActor pid=1457)\u001b[0m output size:  256\n",
            "\u001b[2m\u001b[36m(DefaultActor pid=1457)\u001b[0m selected images size:  1\n",
            "\u001b[2m\u001b[36m(DefaultActor pid=1457)\u001b[0m output size:  256\n",
            "\u001b[2m\u001b[36m(DefaultActor pid=1457)\u001b[0m selected images size:  2\n",
            "\u001b[2m\u001b[36m(DefaultActor pid=1457)\u001b[0m output size:  256\n",
            "\u001b[2m\u001b[36m(DefaultActor pid=1457)\u001b[0m selected images size:  4\n",
            "\u001b[2m\u001b[36m(DefaultActor pid=1457)\u001b[0m output size:  101\n",
            "\u001b[2m\u001b[36m(DefaultActor pid=1457)\u001b[0m selected images size:  3\n",
            "\u001b[2m\u001b[36m(DefaultActor pid=1457)\u001b[0m output size:  256\n",
            "\u001b[2m\u001b[36m(DefaultActor pid=1457)\u001b[0m selected images size:  3\n",
            "\u001b[2m\u001b[36m(DefaultActor pid=1457)\u001b[0m output size:  256\n",
            "\u001b[2m\u001b[36m(DefaultActor pid=1457)\u001b[0m selected images size:  5\n",
            "\u001b[2m\u001b[36m(DefaultActor pid=1457)\u001b[0m output size:  256\n",
            "\u001b[2m\u001b[36m(DefaultActor pid=1457)\u001b[0m selected images size:  5\n",
            "\u001b[2m\u001b[36m(DefaultActor pid=1457)\u001b[0m output size:  256\n",
            "\u001b[2m\u001b[36m(DefaultActor pid=1457)\u001b[0m selected images size:  7\n",
            "\u001b[2m\u001b[36m(DefaultActor pid=1457)\u001b[0m output size:  256\n",
            "\u001b[2m\u001b[36m(DefaultActor pid=1457)\u001b[0m selected images size:  9\n",
            "\u001b[2m\u001b[36m(DefaultActor pid=1457)\u001b[0m output size:  256\n",
            "\u001b[2m\u001b[36m(DefaultActor pid=1457)\u001b[0m selected images size:  4\n",
            "\u001b[2m\u001b[36m(DefaultActor pid=1457)\u001b[0m output size:  101\n",
            "\u001b[2m\u001b[36m(DefaultActor pid=1457)\u001b[0m selected images size:  4\n",
            "\u001b[2m\u001b[36m(DefaultActor pid=1457)\u001b[0m output size:  256\n",
            "\u001b[2m\u001b[36m(DefaultActor pid=1457)\u001b[0m selected images size:  7\n",
            "\u001b[2m\u001b[36m(DefaultActor pid=1457)\u001b[0m output size:  256\n",
            "\u001b[2m\u001b[36m(DefaultActor pid=1457)\u001b[0m selected images size:  8\n",
            "\u001b[2m\u001b[36m(DefaultActor pid=1457)\u001b[0m output size:  256\n",
            "\u001b[2m\u001b[36m(DefaultActor pid=1457)\u001b[0m selected images size:  2\n",
            "\u001b[2m\u001b[36m(DefaultActor pid=1457)\u001b[0m output size:  256\n",
            "\u001b[2m\u001b[36m(DefaultActor pid=1457)\u001b[0m selected images size:  8\n",
            "\u001b[2m\u001b[36m(DefaultActor pid=1457)\u001b[0m output size:  256\n",
            "\u001b[2m\u001b[36m(DefaultActor pid=1457)\u001b[0m selected images size:  4\n",
            "\u001b[2m\u001b[36m(DefaultActor pid=1457)\u001b[0m output size:  256\n",
            "\u001b[2m\u001b[36m(DefaultActor pid=1457)\u001b[0m selected images size:  6\n",
            "\u001b[2m\u001b[36m(DefaultActor pid=1457)\u001b[0m output size:  101\n",
            "\u001b[2m\u001b[36m(DefaultActor pid=1457)\u001b[0m selected images size:  2\n",
            "\u001b[2m\u001b[36m(DefaultActor pid=1457)\u001b[0m output size:  256\n",
            "\u001b[2m\u001b[36m(DefaultActor pid=1457)\u001b[0m selected images size:  6\n",
            "\u001b[2m\u001b[36m(DefaultActor pid=1457)\u001b[0m output size:  256\n",
            "\u001b[2m\u001b[36m(DefaultActor pid=1457)\u001b[0m selected images size:  2\n",
            "\u001b[2m\u001b[36m(DefaultActor pid=1457)\u001b[0m output size:  256\n",
            "\u001b[2m\u001b[36m(DefaultActor pid=1457)\u001b[0m selected images size:  1\n",
            "\u001b[2m\u001b[36m(DefaultActor pid=1457)\u001b[0m output size:  256\n",
            "\u001b[2m\u001b[36m(DefaultActor pid=1457)\u001b[0m selected images size:  3\n",
            "\u001b[2m\u001b[36m(DefaultActor pid=1457)\u001b[0m output size:  256\n",
            "\u001b[2m\u001b[36m(DefaultActor pid=1457)\u001b[0m selected images size:  1\n",
            "\u001b[2m\u001b[36m(DefaultActor pid=1457)\u001b[0m output size:  101\n",
            "\u001b[2m\u001b[36m(DefaultActor pid=1457)\u001b[0m selected images size:  1\n",
            "\u001b[2m\u001b[36m(DefaultActor pid=1457)\u001b[0m output size:  256\n",
            "\u001b[2m\u001b[36m(DefaultActor pid=1457)\u001b[0m selected images size:  1\n",
            "\u001b[2m\u001b[36m(DefaultActor pid=1457)\u001b[0m output size:  256\n",
            "\u001b[2m\u001b[36m(DefaultActor pid=1457)\u001b[0m selected images size:  1\n",
            "\u001b[2m\u001b[36m(DefaultActor pid=1457)\u001b[0m output size:  256\n",
            "\u001b[2m\u001b[36m(DefaultActor pid=1457)\u001b[0m selected images size:  1\n",
            "\u001b[2m\u001b[36m(DefaultActor pid=1457)\u001b[0m output size:  256\n",
            "\u001b[2m\u001b[36m(DefaultActor pid=1457)\u001b[0m selected images size:  1\n",
            "\u001b[2m\u001b[36m(DefaultActor pid=1457)\u001b[0m output size:  101\n",
            "\u001b[2m\u001b[36m(DefaultActor pid=1457)\u001b[0m selected images size:  1\n",
            "\u001b[2m\u001b[36m(DefaultActor pid=1457)\u001b[0m output size:  256\n",
            "\u001b[2m\u001b[36m(DefaultActor pid=1457)\u001b[0m selected images size:  1\n",
            "\u001b[2m\u001b[36m(DefaultActor pid=1457)\u001b[0m output size:  256\n",
            "\u001b[2m\u001b[36m(DefaultActor pid=1457)\u001b[0m selected images size:  1\n",
            "\u001b[2m\u001b[36m(DefaultActor pid=1457)\u001b[0m output size:  256\n",
            "\u001b[2m\u001b[36m(DefaultActor pid=1457)\u001b[0m selected images size:  2\n",
            "\u001b[2m\u001b[36m(DefaultActor pid=1457)\u001b[0m output size:  256\n",
            "\u001b[2m\u001b[36m(DefaultActor pid=1457)\u001b[0m selected images size:  1\n",
            "\u001b[2m\u001b[36m(DefaultActor pid=1457)\u001b[0m output size:  256\n",
            "\u001b[2m\u001b[36m(DefaultActor pid=1457)\u001b[0m selected images size:  2\n",
            "\u001b[2m\u001b[36m(DefaultActor pid=1457)\u001b[0m output size:  256\n",
            "\u001b[2m\u001b[36m(DefaultActor pid=1457)\u001b[0m selected images size:  6\n",
            "\u001b[2m\u001b[36m(DefaultActor pid=1457)\u001b[0m output size:  256\n",
            "\u001b[2m\u001b[36m(DefaultActor pid=1457)\u001b[0m selected images size:  3\n",
            "\u001b[2m\u001b[36m(DefaultActor pid=1457)\u001b[0m output size:  256\n",
            "\u001b[2m\u001b[36m(DefaultActor pid=1457)\u001b[0m selected images size:  3\n",
            "\u001b[2m\u001b[36m(DefaultActor pid=1457)\u001b[0m output size:  256\n",
            "\u001b[2m\u001b[36m(DefaultActor pid=1457)\u001b[0m selected images size:  16\n",
            "\u001b[2m\u001b[36m(DefaultActor pid=1457)\u001b[0m output size:  256\n",
            "\u001b[2m\u001b[36m(DefaultActor pid=1457)\u001b[0m selected images size:  12\n",
            "\u001b[2m\u001b[36m(DefaultActor pid=1457)\u001b[0m output size:  101\n",
            "\u001b[2m\u001b[36m(DefaultActor pid=1457)\u001b[0m selected images size:  4\n"
          ]
        },
        {
          "output_type": "stream",
          "name": "stderr",
          "text": [
            "DEBUG flwr 2024-01-20 10:32:56,715 | server.py:236 | fit_round 24 received 10 results and 0 failures\n",
            "DEBUG:flwr:fit_round 24 received 10 results and 0 failures\n"
          ]
        },
        {
          "output_type": "stream",
          "name": "stdout",
          "text": [
            "Saving round 24 aggregated_parameters...\n"
          ]
        },
        {
          "output_type": "stream",
          "name": "stderr",
          "text": [
            "INFO flwr 2024-01-20 10:33:12,541 | server.py:125 | fit progress: (24, 296.54482090473175, {'accuracy': 0.6782945736434108}, 3304.348172489)\n",
            "INFO:flwr:fit progress: (24, 296.54482090473175, {'accuracy': 0.6782945736434108}, 3304.348172489)\n",
            "DEBUG flwr 2024-01-20 10:33:12,545 | server.py:173 | evaluate_round 24: strategy sampled 10 clients (out of 33)\n",
            "DEBUG:flwr:evaluate_round 24: strategy sampled 10 clients (out of 33)\n"
          ]
        },
        {
          "output_type": "stream",
          "name": "stdout",
          "text": [
            "GLOBAL TEST\n"
          ]
        },
        {
          "output_type": "stream",
          "name": "stderr",
          "text": [
            "DEBUG flwr 2024-01-20 10:33:16,083 | server.py:187 | evaluate_round 24 received 10 results and 0 failures\n",
            "DEBUG:flwr:evaluate_round 24 received 10 results and 0 failures\n",
            "DEBUG flwr 2024-01-20 10:33:16,086 | server.py:222 | fit_round 25: strategy sampled 10 clients (out of 33)\n",
            "DEBUG:flwr:fit_round 25: strategy sampled 10 clients (out of 33)\n"
          ]
        },
        {
          "output_type": "stream",
          "name": "stdout",
          "text": [
            "\u001b[2m\u001b[36m(DefaultActor pid=1457)\u001b[0m ATTACKER\n",
            "\u001b[2m\u001b[36m(DefaultActor pid=1457)\u001b[0m output size:  256\n",
            "\u001b[2m\u001b[36m(DefaultActor pid=1457)\u001b[0m selected images size:  1\n",
            "\u001b[2m\u001b[36m(DefaultActor pid=1457)\u001b[0m output size:  256\n",
            "\u001b[2m\u001b[36m(DefaultActor pid=1457)\u001b[0m selected images size:  1\n",
            "\u001b[2m\u001b[36m(DefaultActor pid=1457)\u001b[0m output size:  256\n",
            "\u001b[2m\u001b[36m(DefaultActor pid=1457)\u001b[0m selected images size:  1\n",
            "\u001b[2m\u001b[36m(DefaultActor pid=1457)\u001b[0m output size:  256\n",
            "\u001b[2m\u001b[36m(DefaultActor pid=1457)\u001b[0m selected images size:  1\n",
            "\u001b[2m\u001b[36m(DefaultActor pid=1457)\u001b[0m output size:  256\n",
            "\u001b[2m\u001b[36m(DefaultActor pid=1457)\u001b[0m selected images size:  1\n",
            "\u001b[2m\u001b[36m(DefaultActor pid=1457)\u001b[0m output size:  256\n",
            "\u001b[2m\u001b[36m(DefaultActor pid=1457)\u001b[0m selected images size:  1\n",
            "\u001b[2m\u001b[36m(DefaultActor pid=1457)\u001b[0m output size:  256\n",
            "\u001b[2m\u001b[36m(DefaultActor pid=1457)\u001b[0m selected images size:  1\n",
            "\u001b[2m\u001b[36m(DefaultActor pid=1457)\u001b[0m output size:  256\n",
            "\u001b[2m\u001b[36m(DefaultActor pid=1457)\u001b[0m selected images size:  1\n",
            "\u001b[2m\u001b[36m(DefaultActor pid=1457)\u001b[0m output size:  256\n",
            "\u001b[2m\u001b[36m(DefaultActor pid=1457)\u001b[0m selected images size:  1\n",
            "\u001b[2m\u001b[36m(DefaultActor pid=1457)\u001b[0m output size:  256\n",
            "\u001b[2m\u001b[36m(DefaultActor pid=1457)\u001b[0m selected images size:  1\n",
            "\u001b[2m\u001b[36m(DefaultActor pid=1457)\u001b[0m output size:  256\n",
            "\u001b[2m\u001b[36m(DefaultActor pid=1457)\u001b[0m selected images size:  1\n",
            "\u001b[2m\u001b[36m(DefaultActor pid=1457)\u001b[0m output size:  256\n",
            "\u001b[2m\u001b[36m(DefaultActor pid=1457)\u001b[0m selected images size:  1\n",
            "\u001b[2m\u001b[36m(DefaultActor pid=1457)\u001b[0m output size:  256\n",
            "\u001b[2m\u001b[36m(DefaultActor pid=1457)\u001b[0m selected images size:  5\n",
            "\u001b[2m\u001b[36m(DefaultActor pid=1457)\u001b[0m output size:  256\n",
            "\u001b[2m\u001b[36m(DefaultActor pid=1457)\u001b[0m selected images size:  3\n",
            "\u001b[2m\u001b[36m(DefaultActor pid=1457)\u001b[0m output size:  256\n",
            "\u001b[2m\u001b[36m(DefaultActor pid=1457)\u001b[0m selected images size:  2\n",
            "\u001b[2m\u001b[36m(DefaultActor pid=1457)\u001b[0m output size:  256\n",
            "\u001b[2m\u001b[36m(DefaultActor pid=1457)\u001b[0m selected images size:  3\n",
            "\u001b[2m\u001b[36m(DefaultActor pid=1457)\u001b[0m output size:  101\n",
            "\u001b[2m\u001b[36m(DefaultActor pid=1457)\u001b[0m selected images size:  2\n"
          ]
        },
        {
          "output_type": "stream",
          "name": "stderr",
          "text": [
            "DEBUG flwr 2024-01-20 10:35:23,460 | server.py:236 | fit_round 25 received 10 results and 0 failures\n",
            "DEBUG:flwr:fit_round 25 received 10 results and 0 failures\n"
          ]
        },
        {
          "output_type": "stream",
          "name": "stdout",
          "text": [
            "Saving round 25 aggregated_parameters...\n"
          ]
        },
        {
          "output_type": "stream",
          "name": "stderr",
          "text": [
            "INFO flwr 2024-01-20 10:35:39,129 | server.py:125 | fit progress: (25, 296.48518419265747, {'accuracy': 0.6782945736434108}, 3450.9365405810004)\n",
            "INFO:flwr:fit progress: (25, 296.48518419265747, {'accuracy': 0.6782945736434108}, 3450.9365405810004)\n",
            "DEBUG flwr 2024-01-20 10:35:39,133 | server.py:173 | evaluate_round 25: strategy sampled 10 clients (out of 33)\n",
            "DEBUG:flwr:evaluate_round 25: strategy sampled 10 clients (out of 33)\n"
          ]
        },
        {
          "output_type": "stream",
          "name": "stdout",
          "text": [
            "GLOBAL TEST\n"
          ]
        },
        {
          "output_type": "stream",
          "name": "stderr",
          "text": [
            "DEBUG flwr 2024-01-20 10:35:42,923 | server.py:187 | evaluate_round 25 received 10 results and 0 failures\n",
            "DEBUG:flwr:evaluate_round 25 received 10 results and 0 failures\n",
            "DEBUG flwr 2024-01-20 10:35:42,927 | server.py:222 | fit_round 26: strategy sampled 10 clients (out of 33)\n",
            "DEBUG:flwr:fit_round 26: strategy sampled 10 clients (out of 33)\n"
          ]
        },
        {
          "output_type": "stream",
          "name": "stdout",
          "text": [
            "\u001b[2m\u001b[36m(DefaultActor pid=1457)\u001b[0m ATTACKER\n",
            "\u001b[2m\u001b[36m(DefaultActor pid=1457)\u001b[0m output size:  256\n",
            "\u001b[2m\u001b[36m(DefaultActor pid=1457)\u001b[0m selected images size:  2\n",
            "\u001b[2m\u001b[36m(DefaultActor pid=1457)\u001b[0m output size:  256\n",
            "\u001b[2m\u001b[36m(DefaultActor pid=1457)\u001b[0m selected images size:  1\n",
            "\u001b[2m\u001b[36m(DefaultActor pid=1457)\u001b[0m output size:  256\n",
            "\u001b[2m\u001b[36m(DefaultActor pid=1457)\u001b[0m selected images size:  1\n",
            "\u001b[2m\u001b[36m(DefaultActor pid=1457)\u001b[0m output size:  256\n",
            "\u001b[2m\u001b[36m(DefaultActor pid=1457)\u001b[0m selected images size:  2\n",
            "\u001b[2m\u001b[36m(DefaultActor pid=1457)\u001b[0m output size:  256\n",
            "\u001b[2m\u001b[36m(DefaultActor pid=1457)\u001b[0m selected images size:  1\n",
            "\u001b[2m\u001b[36m(DefaultActor pid=1457)\u001b[0m output size:  256\n",
            "\u001b[2m\u001b[36m(DefaultActor pid=1457)\u001b[0m selected images size:  1\n",
            "\u001b[2m\u001b[36m(DefaultActor pid=1457)\u001b[0m output size:  256\n",
            "\u001b[2m\u001b[36m(DefaultActor pid=1457)\u001b[0m selected images size:  2\n",
            "\u001b[2m\u001b[36m(DefaultActor pid=1457)\u001b[0m output size:  256\n",
            "\u001b[2m\u001b[36m(DefaultActor pid=1457)\u001b[0m selected images size:  3\n",
            "\u001b[2m\u001b[36m(DefaultActor pid=1457)\u001b[0m output size:  256\n",
            "\u001b[2m\u001b[36m(DefaultActor pid=1457)\u001b[0m selected images size:  1\n",
            "\u001b[2m\u001b[36m(DefaultActor pid=1457)\u001b[0m output size:  256\n",
            "\u001b[2m\u001b[36m(DefaultActor pid=1457)\u001b[0m selected images size:  2\n",
            "\u001b[2m\u001b[36m(DefaultActor pid=1457)\u001b[0m output size:  256\n",
            "\u001b[2m\u001b[36m(DefaultActor pid=1457)\u001b[0m selected images size:  1\n",
            "\u001b[2m\u001b[36m(DefaultActor pid=1457)\u001b[0m output size:  256\n",
            "\u001b[2m\u001b[36m(DefaultActor pid=1457)\u001b[0m selected images size:  2\n",
            "\u001b[2m\u001b[36m(DefaultActor pid=1457)\u001b[0m output size:  101\n",
            "\u001b[2m\u001b[36m(DefaultActor pid=1457)\u001b[0m selected images size:  1\n",
            "\u001b[2m\u001b[36m(DefaultActor pid=1457)\u001b[0m output size:  256\n",
            "\u001b[2m\u001b[36m(DefaultActor pid=1457)\u001b[0m selected images size:  1\n",
            "\u001b[2m\u001b[36m(DefaultActor pid=1457)\u001b[0m output size:  256\n",
            "\u001b[2m\u001b[36m(DefaultActor pid=1457)\u001b[0m selected images size:  1\n",
            "\u001b[2m\u001b[36m(DefaultActor pid=1457)\u001b[0m output size:  256\n",
            "\u001b[2m\u001b[36m(DefaultActor pid=1457)\u001b[0m selected images size:  6\n",
            "\u001b[2m\u001b[36m(DefaultActor pid=1457)\u001b[0m output size:  256\n",
            "\u001b[2m\u001b[36m(DefaultActor pid=1457)\u001b[0m selected images size:  3\n",
            "\u001b[2m\u001b[36m(DefaultActor pid=1457)\u001b[0m output size:  256\n",
            "\u001b[2m\u001b[36m(DefaultActor pid=1457)\u001b[0m selected images size:  5\n",
            "\u001b[2m\u001b[36m(DefaultActor pid=1457)\u001b[0m output size:  256\n",
            "\u001b[2m\u001b[36m(DefaultActor pid=1457)\u001b[0m selected images size:  3\n",
            "\u001b[2m\u001b[36m(DefaultActor pid=1457)\u001b[0m output size:  101\n",
            "\u001b[2m\u001b[36m(DefaultActor pid=1457)\u001b[0m selected images size:  1\n",
            "\u001b[2m\u001b[36m(DefaultActor pid=1457)\u001b[0m output size:  256\n",
            "\u001b[2m\u001b[36m(DefaultActor pid=1457)\u001b[0m selected images size:  2\n",
            "\u001b[2m\u001b[36m(DefaultActor pid=1457)\u001b[0m output size:  256\n",
            "\u001b[2m\u001b[36m(DefaultActor pid=1457)\u001b[0m selected images size:  3\n",
            "\u001b[2m\u001b[36m(DefaultActor pid=1457)\u001b[0m output size:  256\n",
            "\u001b[2m\u001b[36m(DefaultActor pid=1457)\u001b[0m selected images size:  2\n",
            "\u001b[2m\u001b[36m(DefaultActor pid=1457)\u001b[0m output size:  256\n",
            "\u001b[2m\u001b[36m(DefaultActor pid=1457)\u001b[0m selected images size:  2\n",
            "\u001b[2m\u001b[36m(DefaultActor pid=1457)\u001b[0m output size:  256\n",
            "\u001b[2m\u001b[36m(DefaultActor pid=1457)\u001b[0m selected images size:  4\n",
            "\u001b[2m\u001b[36m(DefaultActor pid=1457)\u001b[0m output size:  256\n",
            "\u001b[2m\u001b[36m(DefaultActor pid=1457)\u001b[0m selected images size:  7\n",
            "\u001b[2m\u001b[36m(DefaultActor pid=1457)\u001b[0m output size:  101\n",
            "\u001b[2m\u001b[36m(DefaultActor pid=1457)\u001b[0m selected images size:  1\n",
            "\u001b[2m\u001b[36m(DefaultActor pid=1457)\u001b[0m output size:  256\n",
            "\u001b[2m\u001b[36m(DefaultActor pid=1457)\u001b[0m selected images size:  9\n",
            "\u001b[2m\u001b[36m(DefaultActor pid=1457)\u001b[0m output size:  256\n",
            "\u001b[2m\u001b[36m(DefaultActor pid=1457)\u001b[0m selected images size:  3\n",
            "\u001b[2m\u001b[36m(DefaultActor pid=1457)\u001b[0m output size:  256\n",
            "\u001b[2m\u001b[36m(DefaultActor pid=1457)\u001b[0m selected images size:  9\n",
            "\u001b[2m\u001b[36m(DefaultActor pid=1457)\u001b[0m output size:  256\n",
            "\u001b[2m\u001b[36m(DefaultActor pid=1457)\u001b[0m selected images size:  3\n",
            "\u001b[2m\u001b[36m(DefaultActor pid=1457)\u001b[0m output size:  256\n",
            "\u001b[2m\u001b[36m(DefaultActor pid=1457)\u001b[0m selected images size:  5\n",
            "\u001b[2m\u001b[36m(DefaultActor pid=1457)\u001b[0m output size:  256\n",
            "\u001b[2m\u001b[36m(DefaultActor pid=1457)\u001b[0m selected images size:  1\n",
            "\u001b[2m\u001b[36m(DefaultActor pid=1457)\u001b[0m output size:  256\n",
            "\u001b[2m\u001b[36m(DefaultActor pid=1457)\u001b[0m selected images size:  2\n",
            "\u001b[2m\u001b[36m(DefaultActor pid=1457)\u001b[0m output size:  256\n",
            "\u001b[2m\u001b[36m(DefaultActor pid=1457)\u001b[0m selected images size:  2\n",
            "\u001b[2m\u001b[36m(DefaultActor pid=1457)\u001b[0m output size:  256\n",
            "\u001b[2m\u001b[36m(DefaultActor pid=1457)\u001b[0m selected images size:  2\n",
            "\u001b[2m\u001b[36m(DefaultActor pid=1457)\u001b[0m output size:  256\n",
            "\u001b[2m\u001b[36m(DefaultActor pid=1457)\u001b[0m selected images size:  1\n",
            "\u001b[2m\u001b[36m(DefaultActor pid=1457)\u001b[0m output size:  256\n",
            "\u001b[2m\u001b[36m(DefaultActor pid=1457)\u001b[0m selected images size:  2\n",
            "\u001b[2m\u001b[36m(DefaultActor pid=1457)\u001b[0m output size:  256\n",
            "\u001b[2m\u001b[36m(DefaultActor pid=1457)\u001b[0m selected images size:  4\n",
            "\u001b[2m\u001b[36m(DefaultActor pid=1457)\u001b[0m output size:  101\n",
            "\u001b[2m\u001b[36m(DefaultActor pid=1457)\u001b[0m selected images size:  1\n",
            "\u001b[2m\u001b[36m(DefaultActor pid=1457)\u001b[0m output size:  256\n",
            "\u001b[2m\u001b[36m(DefaultActor pid=1457)\u001b[0m selected images size:  1\n",
            "\u001b[2m\u001b[36m(DefaultActor pid=1457)\u001b[0m output size:  256\n",
            "\u001b[2m\u001b[36m(DefaultActor pid=1457)\u001b[0m selected images size:  3\n",
            "\u001b[2m\u001b[36m(DefaultActor pid=1457)\u001b[0m output size:  256\n",
            "\u001b[2m\u001b[36m(DefaultActor pid=1457)\u001b[0m selected images size:  1\n",
            "\u001b[2m\u001b[36m(DefaultActor pid=1457)\u001b[0m output size:  256\n",
            "\u001b[2m\u001b[36m(DefaultActor pid=1457)\u001b[0m selected images size:  2\n",
            "\u001b[2m\u001b[36m(DefaultActor pid=1457)\u001b[0m output size:  256\n",
            "\u001b[2m\u001b[36m(DefaultActor pid=1457)\u001b[0m selected images size:  3\n",
            "\u001b[2m\u001b[36m(DefaultActor pid=1457)\u001b[0m output size:  256\n",
            "\u001b[2m\u001b[36m(DefaultActor pid=1457)\u001b[0m selected images size:  3\n",
            "\u001b[2m\u001b[36m(DefaultActor pid=1457)\u001b[0m output size:  101\n",
            "\u001b[2m\u001b[36m(DefaultActor pid=1457)\u001b[0m selected images size:  6\n",
            "\u001b[2m\u001b[36m(DefaultActor pid=1457)\u001b[0m output size:  256\n",
            "\u001b[2m\u001b[36m(DefaultActor pid=1457)\u001b[0m selected images size:  6\n",
            "\u001b[2m\u001b[36m(DefaultActor pid=1457)\u001b[0m output size:  256\n",
            "\u001b[2m\u001b[36m(DefaultActor pid=1457)\u001b[0m selected images size:  5\n",
            "\u001b[2m\u001b[36m(DefaultActor pid=1457)\u001b[0m output size:  256\n",
            "\u001b[2m\u001b[36m(DefaultActor pid=1457)\u001b[0m selected images size:  8\n",
            "\u001b[2m\u001b[36m(DefaultActor pid=1457)\u001b[0m output size:  256\n",
            "\u001b[2m\u001b[36m(DefaultActor pid=1457)\u001b[0m selected images size:  6\n",
            "\u001b[2m\u001b[36m(DefaultActor pid=1457)\u001b[0m output size:  256\n",
            "\u001b[2m\u001b[36m(DefaultActor pid=1457)\u001b[0m selected images size:  10\n",
            "\u001b[2m\u001b[36m(DefaultActor pid=1457)\u001b[0m output size:  256\n",
            "\u001b[2m\u001b[36m(DefaultActor pid=1457)\u001b[0m selected images size:  10\n",
            "\u001b[2m\u001b[36m(DefaultActor pid=1457)\u001b[0m output size:  101\n",
            "\u001b[2m\u001b[36m(DefaultActor pid=1457)\u001b[0m selected images size:  5\n",
            "\u001b[2m\u001b[36m(DefaultActor pid=1457)\u001b[0m output size:  256\n",
            "\u001b[2m\u001b[36m(DefaultActor pid=1457)\u001b[0m selected images size:  8\n",
            "\u001b[2m\u001b[36m(DefaultActor pid=1457)\u001b[0m output size:  256\n",
            "\u001b[2m\u001b[36m(DefaultActor pid=1457)\u001b[0m selected images size:  11\n",
            "\u001b[2m\u001b[36m(DefaultActor pid=1457)\u001b[0m output size:  256\n",
            "\u001b[2m\u001b[36m(DefaultActor pid=1457)\u001b[0m selected images size:  11\n",
            "\u001b[2m\u001b[36m(DefaultActor pid=1457)\u001b[0m output size:  256\n",
            "\u001b[2m\u001b[36m(DefaultActor pid=1457)\u001b[0m selected images size:  12\n",
            "\u001b[2m\u001b[36m(DefaultActor pid=1457)\u001b[0m output size:  256\n",
            "\u001b[2m\u001b[36m(DefaultActor pid=1457)\u001b[0m selected images size:  7\n",
            "\u001b[2m\u001b[36m(DefaultActor pid=1457)\u001b[0m output size:  256\n",
            "\u001b[2m\u001b[36m(DefaultActor pid=1457)\u001b[0m selected images size:  15\n",
            "\u001b[2m\u001b[36m(DefaultActor pid=1457)\u001b[0m output size:  101\n",
            "\u001b[2m\u001b[36m(DefaultActor pid=1457)\u001b[0m selected images size:  3\n"
          ]
        },
        {
          "output_type": "stream",
          "name": "stderr",
          "text": [
            "DEBUG flwr 2024-01-20 10:37:49,080 | server.py:236 | fit_round 26 received 10 results and 0 failures\n",
            "DEBUG:flwr:fit_round 26 received 10 results and 0 failures\n"
          ]
        },
        {
          "output_type": "stream",
          "name": "stdout",
          "text": [
            "Saving round 26 aggregated_parameters...\n"
          ]
        },
        {
          "output_type": "stream",
          "name": "stderr",
          "text": [
            "INFO flwr 2024-01-20 10:38:05,601 | server.py:125 | fit progress: (26, 296.35425782203674, {'accuracy': 0.3875968992248062}, 3597.4083735570002)\n",
            "INFO:flwr:fit progress: (26, 296.35425782203674, {'accuracy': 0.3875968992248062}, 3597.4083735570002)\n",
            "DEBUG flwr 2024-01-20 10:38:05,605 | server.py:173 | evaluate_round 26: strategy sampled 10 clients (out of 33)\n",
            "DEBUG:flwr:evaluate_round 26: strategy sampled 10 clients (out of 33)\n"
          ]
        },
        {
          "output_type": "stream",
          "name": "stdout",
          "text": [
            "GLOBAL TEST\n"
          ]
        },
        {
          "output_type": "stream",
          "name": "stderr",
          "text": [
            "DEBUG flwr 2024-01-20 10:38:10,031 | server.py:187 | evaluate_round 26 received 10 results and 0 failures\n",
            "DEBUG:flwr:evaluate_round 26 received 10 results and 0 failures\n",
            "DEBUG flwr 2024-01-20 10:38:10,035 | server.py:222 | fit_round 27: strategy sampled 10 clients (out of 33)\n",
            "DEBUG:flwr:fit_round 27: strategy sampled 10 clients (out of 33)\n",
            "DEBUG flwr 2024-01-20 10:39:27,513 | server.py:236 | fit_round 27 received 10 results and 0 failures\n",
            "DEBUG:flwr:fit_round 27 received 10 results and 0 failures\n"
          ]
        },
        {
          "output_type": "stream",
          "name": "stdout",
          "text": [
            "Saving round 27 aggregated_parameters...\n"
          ]
        },
        {
          "output_type": "stream",
          "name": "stderr",
          "text": [
            "INFO flwr 2024-01-20 10:39:43,479 | server.py:125 | fit progress: (27, 296.2722781896591, {'accuracy': 0.3875968992248062}, 3695.2858153509997)\n",
            "INFO:flwr:fit progress: (27, 296.2722781896591, {'accuracy': 0.3875968992248062}, 3695.2858153509997)\n",
            "DEBUG flwr 2024-01-20 10:39:43,487 | server.py:173 | evaluate_round 27: strategy sampled 10 clients (out of 33)\n",
            "DEBUG:flwr:evaluate_round 27: strategy sampled 10 clients (out of 33)\n"
          ]
        },
        {
          "output_type": "stream",
          "name": "stdout",
          "text": [
            "GLOBAL TEST\n"
          ]
        },
        {
          "output_type": "stream",
          "name": "stderr",
          "text": [
            "DEBUG flwr 2024-01-20 10:39:48,097 | server.py:187 | evaluate_round 27 received 10 results and 0 failures\n",
            "DEBUG:flwr:evaluate_round 27 received 10 results and 0 failures\n",
            "DEBUG flwr 2024-01-20 10:39:48,100 | server.py:222 | fit_round 28: strategy sampled 10 clients (out of 33)\n",
            "DEBUG:flwr:fit_round 28: strategy sampled 10 clients (out of 33)\n"
          ]
        },
        {
          "output_type": "stream",
          "name": "stdout",
          "text": [
            "\u001b[2m\u001b[36m(DefaultActor pid=1457)\u001b[0m ATTACKER\n",
            "\u001b[2m\u001b[36m(DefaultActor pid=1457)\u001b[0m output size:  256\n",
            "\u001b[2m\u001b[36m(DefaultActor pid=1457)\u001b[0m selected images size:  3\n",
            "\u001b[2m\u001b[36m(DefaultActor pid=1457)\u001b[0m output size:  256\n",
            "\u001b[2m\u001b[36m(DefaultActor pid=1457)\u001b[0m selected images size:  2\n",
            "\u001b[2m\u001b[36m(DefaultActor pid=1457)\u001b[0m output size:  101\n",
            "\u001b[2m\u001b[36m(DefaultActor pid=1457)\u001b[0m selected images size:  3\n",
            "\u001b[2m\u001b[36m(DefaultActor pid=1457)\u001b[0m output size:  256\n",
            "\u001b[2m\u001b[36m(DefaultActor pid=1457)\u001b[0m selected images size:  2\n",
            "\u001b[2m\u001b[36m(DefaultActor pid=1457)\u001b[0m output size:  256\n",
            "\u001b[2m\u001b[36m(DefaultActor pid=1457)\u001b[0m selected images size:  2\n",
            "\u001b[2m\u001b[36m(DefaultActor pid=1457)\u001b[0m output size:  256\n",
            "\u001b[2m\u001b[36m(DefaultActor pid=1457)\u001b[0m selected images size:  2\n",
            "\u001b[2m\u001b[36m(DefaultActor pid=1457)\u001b[0m output size:  256\n",
            "\u001b[2m\u001b[36m(DefaultActor pid=1457)\u001b[0m selected images size:  3\n",
            "\u001b[2m\u001b[36m(DefaultActor pid=1457)\u001b[0m output size:  256\n",
            "\u001b[2m\u001b[36m(DefaultActor pid=1457)\u001b[0m selected images size:  3\n",
            "\u001b[2m\u001b[36m(DefaultActor pid=1457)\u001b[0m output size:  256\n",
            "\u001b[2m\u001b[36m(DefaultActor pid=1457)\u001b[0m selected images size:  3\n",
            "\u001b[2m\u001b[36m(DefaultActor pid=1457)\u001b[0m output size:  256\n",
            "\u001b[2m\u001b[36m(DefaultActor pid=1457)\u001b[0m selected images size:  6\n",
            "\u001b[2m\u001b[36m(DefaultActor pid=1457)\u001b[0m output size:  256\n",
            "\u001b[2m\u001b[36m(DefaultActor pid=1457)\u001b[0m selected images size:  4\n",
            "\u001b[2m\u001b[36m(DefaultActor pid=1457)\u001b[0m output size:  256\n",
            "\u001b[2m\u001b[36m(DefaultActor pid=1457)\u001b[0m selected images size:  2\n",
            "\u001b[2m\u001b[36m(DefaultActor pid=1457)\u001b[0m output size:  256\n",
            "\u001b[2m\u001b[36m(DefaultActor pid=1457)\u001b[0m selected images size:  2\n",
            "\u001b[2m\u001b[36m(DefaultActor pid=1457)\u001b[0m output size:  256\n",
            "\u001b[2m\u001b[36m(DefaultActor pid=1457)\u001b[0m selected images size:  3\n",
            "\u001b[2m\u001b[36m(DefaultActor pid=1457)\u001b[0m output size:  256\n",
            "\u001b[2m\u001b[36m(DefaultActor pid=1457)\u001b[0m selected images size:  3\n",
            "\u001b[2m\u001b[36m(DefaultActor pid=1457)\u001b[0m output size:  256\n",
            "\u001b[2m\u001b[36m(DefaultActor pid=1457)\u001b[0m selected images size:  2\n",
            "\u001b[2m\u001b[36m(DefaultActor pid=1457)\u001b[0m output size:  256\n",
            "\u001b[2m\u001b[36m(DefaultActor pid=1457)\u001b[0m selected images size:  5\n",
            "\u001b[2m\u001b[36m(DefaultActor pid=1457)\u001b[0m output size:  256\n",
            "\u001b[2m\u001b[36m(DefaultActor pid=1457)\u001b[0m selected images size:  3\n",
            "\u001b[2m\u001b[36m(DefaultActor pid=1457)\u001b[0m output size:  256\n",
            "\u001b[2m\u001b[36m(DefaultActor pid=1457)\u001b[0m selected images size:  3\n",
            "\u001b[2m\u001b[36m(DefaultActor pid=1457)\u001b[0m output size:  101\n",
            "\u001b[2m\u001b[36m(DefaultActor pid=1457)\u001b[0m selected images size:  1\n",
            "\u001b[2m\u001b[36m(DefaultActor pid=1457)\u001b[0m output size:  256\n",
            "\u001b[2m\u001b[36m(DefaultActor pid=1457)\u001b[0m selected images size:  3\n",
            "\u001b[2m\u001b[36m(DefaultActor pid=1457)\u001b[0m output size:  256\n",
            "\u001b[2m\u001b[36m(DefaultActor pid=1457)\u001b[0m selected images size:  1\n",
            "\u001b[2m\u001b[36m(DefaultActor pid=1457)\u001b[0m output size:  256\n",
            "\u001b[2m\u001b[36m(DefaultActor pid=1457)\u001b[0m selected images size:  1\n",
            "\u001b[2m\u001b[36m(DefaultActor pid=1457)\u001b[0m output size:  256\n",
            "\u001b[2m\u001b[36m(DefaultActor pid=1457)\u001b[0m selected images size:  1\n",
            "\u001b[2m\u001b[36m(DefaultActor pid=1457)\u001b[0m output size:  256\n",
            "\u001b[2m\u001b[36m(DefaultActor pid=1457)\u001b[0m selected images size:  1\n",
            "\u001b[2m\u001b[36m(DefaultActor pid=1457)\u001b[0m output size:  256\n",
            "\u001b[2m\u001b[36m(DefaultActor pid=1457)\u001b[0m selected images size:  1\n",
            "\u001b[2m\u001b[36m(DefaultActor pid=1457)\u001b[0m output size:  256\n",
            "\u001b[2m\u001b[36m(DefaultActor pid=1457)\u001b[0m selected images size:  2\n",
            "\u001b[2m\u001b[36m(DefaultActor pid=1457)\u001b[0m output size:  256\n",
            "\u001b[2m\u001b[36m(DefaultActor pid=1457)\u001b[0m selected images size:  1\n",
            "\u001b[2m\u001b[36m(DefaultActor pid=1457)\u001b[0m output size:  256\n",
            "\u001b[2m\u001b[36m(DefaultActor pid=1457)\u001b[0m selected images size:  2\n",
            "\u001b[2m\u001b[36m(DefaultActor pid=1457)\u001b[0m output size:  101\n",
            "\u001b[2m\u001b[36m(DefaultActor pid=1457)\u001b[0m selected images size:  1\n",
            "\u001b[2m\u001b[36m(DefaultActor pid=1457)\u001b[0m output size:  256\n",
            "\u001b[2m\u001b[36m(DefaultActor pid=1457)\u001b[0m selected images size:  3\n",
            "\u001b[2m\u001b[36m(DefaultActor pid=1457)\u001b[0m output size:  256\n",
            "\u001b[2m\u001b[36m(DefaultActor pid=1457)\u001b[0m selected images size:  12\n",
            "\u001b[2m\u001b[36m(DefaultActor pid=1457)\u001b[0m output size:  256\n",
            "\u001b[2m\u001b[36m(DefaultActor pid=1457)\u001b[0m selected images size:  8\n",
            "\u001b[2m\u001b[36m(DefaultActor pid=1457)\u001b[0m output size:  256\n",
            "\u001b[2m\u001b[36m(DefaultActor pid=1457)\u001b[0m selected images size:  8\n",
            "\u001b[2m\u001b[36m(DefaultActor pid=1457)\u001b[0m output size:  256\n",
            "\u001b[2m\u001b[36m(DefaultActor pid=1457)\u001b[0m selected images size:  7\n",
            "\u001b[2m\u001b[36m(DefaultActor pid=1457)\u001b[0m output size:  256\n",
            "\u001b[2m\u001b[36m(DefaultActor pid=1457)\u001b[0m selected images size:  12\n",
            "\u001b[2m\u001b[36m(DefaultActor pid=1457)\u001b[0m output size:  101\n",
            "\u001b[2m\u001b[36m(DefaultActor pid=1457)\u001b[0m selected images size:  2\n",
            "\u001b[2m\u001b[36m(DefaultActor pid=1457)\u001b[0m output size:  256\n",
            "\u001b[2m\u001b[36m(DefaultActor pid=1457)\u001b[0m selected images size:  11\n",
            "\u001b[2m\u001b[36m(DefaultActor pid=1457)\u001b[0m output size:  256\n",
            "\u001b[2m\u001b[36m(DefaultActor pid=1457)\u001b[0m selected images size:  13\n",
            "\u001b[2m\u001b[36m(DefaultActor pid=1457)\u001b[0m output size:  256\n",
            "\u001b[2m\u001b[36m(DefaultActor pid=1457)\u001b[0m selected images size:  11\n",
            "\u001b[2m\u001b[36m(DefaultActor pid=1457)\u001b[0m output size:  256\n",
            "\u001b[2m\u001b[36m(DefaultActor pid=1457)\u001b[0m selected images size:  18\n",
            "\u001b[2m\u001b[36m(DefaultActor pid=1457)\u001b[0m output size:  256\n",
            "\u001b[2m\u001b[36m(DefaultActor pid=1457)\u001b[0m selected images size:  19\n",
            "\u001b[2m\u001b[36m(DefaultActor pid=1457)\u001b[0m output size:  256\n",
            "\u001b[2m\u001b[36m(DefaultActor pid=1457)\u001b[0m selected images size:  13\n",
            "\u001b[2m\u001b[36m(DefaultActor pid=1457)\u001b[0m output size:  101\n",
            "\u001b[2m\u001b[36m(DefaultActor pid=1457)\u001b[0m selected images size:  11\n",
            "\u001b[2m\u001b[36m(DefaultActor pid=1457)\u001b[0m output size:  256\n",
            "\u001b[2m\u001b[36m(DefaultActor pid=1457)\u001b[0m selected images size:  26\n",
            "\u001b[2m\u001b[36m(DefaultActor pid=1457)\u001b[0m output size:  256\n",
            "\u001b[2m\u001b[36m(DefaultActor pid=1457)\u001b[0m selected images size:  16\n",
            "\u001b[2m\u001b[36m(DefaultActor pid=1457)\u001b[0m output size:  256\n",
            "\u001b[2m\u001b[36m(DefaultActor pid=1457)\u001b[0m selected images size:  19\n",
            "\u001b[2m\u001b[36m(DefaultActor pid=1457)\u001b[0m output size:  256\n",
            "\u001b[2m\u001b[36m(DefaultActor pid=1457)\u001b[0m selected images size:  10\n",
            "\u001b[2m\u001b[36m(DefaultActor pid=1457)\u001b[0m output size:  256\n",
            "\u001b[2m\u001b[36m(DefaultActor pid=1457)\u001b[0m selected images size:  15\n",
            "\u001b[2m\u001b[36m(DefaultActor pid=1457)\u001b[0m output size:  256\n",
            "\u001b[2m\u001b[36m(DefaultActor pid=1457)\u001b[0m selected images size:  9\n",
            "\u001b[2m\u001b[36m(DefaultActor pid=1457)\u001b[0m output size:  101\n",
            "\u001b[2m\u001b[36m(DefaultActor pid=1457)\u001b[0m selected images size:  5\n",
            "\u001b[2m\u001b[36m(DefaultActor pid=1457)\u001b[0m output size:  256\n",
            "\u001b[2m\u001b[36m(DefaultActor pid=1457)\u001b[0m selected images size:  5\n",
            "\u001b[2m\u001b[36m(DefaultActor pid=1457)\u001b[0m output size:  256\n",
            "\u001b[2m\u001b[36m(DefaultActor pid=1457)\u001b[0m selected images size:  5\n",
            "\u001b[2m\u001b[36m(DefaultActor pid=1457)\u001b[0m output size:  256\n",
            "\u001b[2m\u001b[36m(DefaultActor pid=1457)\u001b[0m selected images size:  5\n",
            "\u001b[2m\u001b[36m(DefaultActor pid=1457)\u001b[0m output size:  256\n",
            "\u001b[2m\u001b[36m(DefaultActor pid=1457)\u001b[0m selected images size:  4\n",
            "\u001b[2m\u001b[36m(DefaultActor pid=1457)\u001b[0m output size:  256\n",
            "\u001b[2m\u001b[36m(DefaultActor pid=1457)\u001b[0m selected images size:  3\n",
            "\u001b[2m\u001b[36m(DefaultActor pid=1457)\u001b[0m output size:  256\n",
            "\u001b[2m\u001b[36m(DefaultActor pid=1457)\u001b[0m selected images size:  3\n",
            "\u001b[2m\u001b[36m(DefaultActor pid=1457)\u001b[0m output size:  101\n",
            "\u001b[2m\u001b[36m(DefaultActor pid=1457)\u001b[0m selected images size:  1\n",
            "\u001b[2m\u001b[36m(DefaultActor pid=1457)\u001b[0m output size:  256\n",
            "\u001b[2m\u001b[36m(DefaultActor pid=1457)\u001b[0m selected images size:  1\n",
            "\u001b[2m\u001b[36m(DefaultActor pid=1457)\u001b[0m output size:  256\n",
            "\u001b[2m\u001b[36m(DefaultActor pid=1457)\u001b[0m selected images size:  3\n",
            "\u001b[2m\u001b[36m(DefaultActor pid=1457)\u001b[0m output size:  256\n",
            "\u001b[2m\u001b[36m(DefaultActor pid=1457)\u001b[0m selected images size:  2\n",
            "\u001b[2m\u001b[36m(DefaultActor pid=1457)\u001b[0m output size:  256\n",
            "\u001b[2m\u001b[36m(DefaultActor pid=1457)\u001b[0m selected images size:  2\n",
            "\u001b[2m\u001b[36m(DefaultActor pid=1457)\u001b[0m output size:  101\n",
            "\u001b[2m\u001b[36m(DefaultActor pid=1457)\u001b[0m selected images size:  2\n"
          ]
        },
        {
          "output_type": "stream",
          "name": "stderr",
          "text": [
            "DEBUG flwr 2024-01-20 10:41:54,604 | server.py:236 | fit_round 28 received 10 results and 0 failures\n",
            "DEBUG:flwr:fit_round 28 received 10 results and 0 failures\n"
          ]
        },
        {
          "output_type": "stream",
          "name": "stdout",
          "text": [
            "Saving round 28 aggregated_parameters...\n"
          ]
        },
        {
          "output_type": "stream",
          "name": "stderr",
          "text": [
            "INFO flwr 2024-01-20 10:42:10,461 | server.py:125 | fit progress: (28, 296.19972121715546, {'accuracy': 0.5813953488372093}, 3842.2683639919996)\n",
            "INFO:flwr:fit progress: (28, 296.19972121715546, {'accuracy': 0.5813953488372093}, 3842.2683639919996)\n",
            "DEBUG flwr 2024-01-20 10:42:10,465 | server.py:173 | evaluate_round 28: strategy sampled 10 clients (out of 33)\n",
            "DEBUG:flwr:evaluate_round 28: strategy sampled 10 clients (out of 33)\n"
          ]
        },
        {
          "output_type": "stream",
          "name": "stdout",
          "text": [
            "GLOBAL TEST\n"
          ]
        },
        {
          "output_type": "stream",
          "name": "stderr",
          "text": [
            "DEBUG flwr 2024-01-20 10:42:14,030 | server.py:187 | evaluate_round 28 received 10 results and 0 failures\n",
            "DEBUG:flwr:evaluate_round 28 received 10 results and 0 failures\n",
            "DEBUG flwr 2024-01-20 10:42:14,034 | server.py:222 | fit_round 29: strategy sampled 10 clients (out of 33)\n",
            "DEBUG:flwr:fit_round 29: strategy sampled 10 clients (out of 33)\n"
          ]
        },
        {
          "output_type": "stream",
          "name": "stdout",
          "text": [
            "\u001b[2m\u001b[36m(DefaultActor pid=1457)\u001b[0m ATTACKER\n",
            "\u001b[2m\u001b[36m(DefaultActor pid=1457)\u001b[0m output size:  256\n",
            "\u001b[2m\u001b[36m(DefaultActor pid=1457)\u001b[0m selected images size:  8\n",
            "\u001b[2m\u001b[36m(DefaultActor pid=1457)\u001b[0m output size:  256\n",
            "\u001b[2m\u001b[36m(DefaultActor pid=1457)\u001b[0m selected images size:  1\n",
            "\u001b[2m\u001b[36m(DefaultActor pid=1457)\u001b[0m output size:  256\n",
            "\u001b[2m\u001b[36m(DefaultActor pid=1457)\u001b[0m selected images size:  1\n",
            "\u001b[2m\u001b[36m(DefaultActor pid=1457)\u001b[0m output size:  256\n",
            "\u001b[2m\u001b[36m(DefaultActor pid=1457)\u001b[0m selected images size:  1\n",
            "\u001b[2m\u001b[36m(DefaultActor pid=1457)\u001b[0m output size:  256\n",
            "\u001b[2m\u001b[36m(DefaultActor pid=1457)\u001b[0m selected images size:  1\n",
            "\u001b[2m\u001b[36m(DefaultActor pid=1457)\u001b[0m output size:  256\n",
            "\u001b[2m\u001b[36m(DefaultActor pid=1457)\u001b[0m selected images size:  1\n",
            "\u001b[2m\u001b[36m(DefaultActor pid=1457)\u001b[0m output size:  256\n",
            "\u001b[2m\u001b[36m(DefaultActor pid=1457)\u001b[0m selected images size:  4\n",
            "\u001b[2m\u001b[36m(DefaultActor pid=1457)\u001b[0m output size:  256\n",
            "\u001b[2m\u001b[36m(DefaultActor pid=1457)\u001b[0m selected images size:  2\n",
            "\u001b[2m\u001b[36m(DefaultActor pid=1457)\u001b[0m output size:  256\n",
            "\u001b[2m\u001b[36m(DefaultActor pid=1457)\u001b[0m selected images size:  5\n",
            "\u001b[2m\u001b[36m(DefaultActor pid=1457)\u001b[0m output size:  256\n",
            "\u001b[2m\u001b[36m(DefaultActor pid=1457)\u001b[0m selected images size:  2\n",
            "\u001b[2m\u001b[36m(DefaultActor pid=1457)\u001b[0m output size:  256\n",
            "\u001b[2m\u001b[36m(DefaultActor pid=1457)\u001b[0m selected images size:  4\n",
            "\u001b[2m\u001b[36m(DefaultActor pid=1457)\u001b[0m output size:  256\n",
            "\u001b[2m\u001b[36m(DefaultActor pid=1457)\u001b[0m selected images size:  7\n",
            "\u001b[2m\u001b[36m(DefaultActor pid=1457)\u001b[0m output size:  101\n",
            "\u001b[2m\u001b[36m(DefaultActor pid=1457)\u001b[0m selected images size:  2\n",
            "\u001b[2m\u001b[36m(DefaultActor pid=1457)\u001b[0m output size:  256\n",
            "\u001b[2m\u001b[36m(DefaultActor pid=1457)\u001b[0m selected images size:  5\n",
            "\u001b[2m\u001b[36m(DefaultActor pid=1457)\u001b[0m output size:  256\n",
            "\u001b[2m\u001b[36m(DefaultActor pid=1457)\u001b[0m selected images size:  7\n",
            "\u001b[2m\u001b[36m(DefaultActor pid=1457)\u001b[0m output size:  256\n",
            "\u001b[2m\u001b[36m(DefaultActor pid=1457)\u001b[0m selected images size:  4\n",
            "\u001b[2m\u001b[36m(DefaultActor pid=1457)\u001b[0m output size:  256\n",
            "\u001b[2m\u001b[36m(DefaultActor pid=1457)\u001b[0m selected images size:  6\n",
            "\u001b[2m\u001b[36m(DefaultActor pid=1457)\u001b[0m output size:  256\n",
            "\u001b[2m\u001b[36m(DefaultActor pid=1457)\u001b[0m selected images size:  8\n",
            "\u001b[2m\u001b[36m(DefaultActor pid=1457)\u001b[0m output size:  256\n",
            "\u001b[2m\u001b[36m(DefaultActor pid=1457)\u001b[0m selected images size:  10\n",
            "\u001b[2m\u001b[36m(DefaultActor pid=1457)\u001b[0m output size:  101\n",
            "\u001b[2m\u001b[36m(DefaultActor pid=1457)\u001b[0m selected images size:  3\n",
            "\u001b[2m\u001b[36m(DefaultActor pid=1457)\u001b[0m output size:  256\n",
            "\u001b[2m\u001b[36m(DefaultActor pid=1457)\u001b[0m selected images size:  13\n",
            "\u001b[2m\u001b[36m(DefaultActor pid=1457)\u001b[0m output size:  256\n",
            "\u001b[2m\u001b[36m(DefaultActor pid=1457)\u001b[0m selected images size:  14\n",
            "\u001b[2m\u001b[36m(DefaultActor pid=1457)\u001b[0m output size:  256\n",
            "\u001b[2m\u001b[36m(DefaultActor pid=1457)\u001b[0m selected images size:  17\n",
            "\u001b[2m\u001b[36m(DefaultActor pid=1457)\u001b[0m output size:  256\n",
            "\u001b[2m\u001b[36m(DefaultActor pid=1457)\u001b[0m selected images size:  10\n",
            "\u001b[2m\u001b[36m(DefaultActor pid=1457)\u001b[0m output size:  256\n",
            "\u001b[2m\u001b[36m(DefaultActor pid=1457)\u001b[0m selected images size:  8\n",
            "\u001b[2m\u001b[36m(DefaultActor pid=1457)\u001b[0m output size:  256\n",
            "\u001b[2m\u001b[36m(DefaultActor pid=1457)\u001b[0m selected images size:  9\n",
            "\u001b[2m\u001b[36m(DefaultActor pid=1457)\u001b[0m output size:  101\n",
            "\u001b[2m\u001b[36m(DefaultActor pid=1457)\u001b[0m selected images size:  1\n",
            "\u001b[2m\u001b[36m(DefaultActor pid=1457)\u001b[0m output size:  256\n",
            "\u001b[2m\u001b[36m(DefaultActor pid=1457)\u001b[0m selected images size:  2\n",
            "\u001b[2m\u001b[36m(DefaultActor pid=1457)\u001b[0m output size:  256\n",
            "\u001b[2m\u001b[36m(DefaultActor pid=1457)\u001b[0m selected images size:  7\n",
            "\u001b[2m\u001b[36m(DefaultActor pid=1457)\u001b[0m output size:  256\n",
            "\u001b[2m\u001b[36m(DefaultActor pid=1457)\u001b[0m selected images size:  6\n",
            "\u001b[2m\u001b[36m(DefaultActor pid=1457)\u001b[0m output size:  256\n",
            "\u001b[2m\u001b[36m(DefaultActor pid=1457)\u001b[0m selected images size:  1\n",
            "\u001b[2m\u001b[36m(DefaultActor pid=1457)\u001b[0m output size:  256\n",
            "\u001b[2m\u001b[36m(DefaultActor pid=1457)\u001b[0m selected images size:  4\n",
            "\u001b[2m\u001b[36m(DefaultActor pid=1457)\u001b[0m output size:  256\n",
            "\u001b[2m\u001b[36m(DefaultActor pid=1457)\u001b[0m selected images size:  1\n",
            "\u001b[2m\u001b[36m(DefaultActor pid=1457)\u001b[0m output size:  256\n",
            "\u001b[2m\u001b[36m(DefaultActor pid=1457)\u001b[0m selected images size:  2\n",
            "\u001b[2m\u001b[36m(DefaultActor pid=1457)\u001b[0m output size:  256\n",
            "\u001b[2m\u001b[36m(DefaultActor pid=1457)\u001b[0m selected images size:  1\n",
            "\u001b[2m\u001b[36m(DefaultActor pid=1457)\u001b[0m output size:  256\n",
            "\u001b[2m\u001b[36m(DefaultActor pid=1457)\u001b[0m selected images size:  2\n",
            "\u001b[2m\u001b[36m(DefaultActor pid=1457)\u001b[0m output size:  256\n",
            "\u001b[2m\u001b[36m(DefaultActor pid=1457)\u001b[0m selected images size:  3\n",
            "\u001b[2m\u001b[36m(DefaultActor pid=1457)\u001b[0m output size:  256\n",
            "\u001b[2m\u001b[36m(DefaultActor pid=1457)\u001b[0m selected images size:  10\n",
            "\u001b[2m\u001b[36m(DefaultActor pid=1457)\u001b[0m output size:  256\n",
            "\u001b[2m\u001b[36m(DefaultActor pid=1457)\u001b[0m selected images size:  3\n",
            "\u001b[2m\u001b[36m(DefaultActor pid=1457)\u001b[0m output size:  256\n",
            "\u001b[2m\u001b[36m(DefaultActor pid=1457)\u001b[0m selected images size:  10\n",
            "\u001b[2m\u001b[36m(DefaultActor pid=1457)\u001b[0m output size:  101\n",
            "\u001b[2m\u001b[36m(DefaultActor pid=1457)\u001b[0m selected images size:  5\n",
            "\u001b[2m\u001b[36m(DefaultActor pid=1457)\u001b[0m output size:  256\n",
            "\u001b[2m\u001b[36m(DefaultActor pid=1457)\u001b[0m selected images size:  12\n",
            "\u001b[2m\u001b[36m(DefaultActor pid=1457)\u001b[0m output size:  256\n",
            "\u001b[2m\u001b[36m(DefaultActor pid=1457)\u001b[0m selected images size:  14\n",
            "\u001b[2m\u001b[36m(DefaultActor pid=1457)\u001b[0m output size:  256\n",
            "\u001b[2m\u001b[36m(DefaultActor pid=1457)\u001b[0m selected images size:  17\n",
            "\u001b[2m\u001b[36m(DefaultActor pid=1457)\u001b[0m output size:  256\n",
            "\u001b[2m\u001b[36m(DefaultActor pid=1457)\u001b[0m selected images size:  18\n",
            "\u001b[2m\u001b[36m(DefaultActor pid=1457)\u001b[0m output size:  256\n",
            "\u001b[2m\u001b[36m(DefaultActor pid=1457)\u001b[0m selected images size:  10\n",
            "\u001b[2m\u001b[36m(DefaultActor pid=1457)\u001b[0m output size:  256\n",
            "\u001b[2m\u001b[36m(DefaultActor pid=1457)\u001b[0m selected images size:  21\n",
            "\u001b[2m\u001b[36m(DefaultActor pid=1457)\u001b[0m output size:  101\n",
            "\u001b[2m\u001b[36m(DefaultActor pid=1457)\u001b[0m selected images size:  6\n",
            "\u001b[2m\u001b[36m(DefaultActor pid=1457)\u001b[0m output size:  256\n",
            "\u001b[2m\u001b[36m(DefaultActor pid=1457)\u001b[0m selected images size:  22\n",
            "\u001b[2m\u001b[36m(DefaultActor pid=1457)\u001b[0m output size:  256\n",
            "\u001b[2m\u001b[36m(DefaultActor pid=1457)\u001b[0m selected images size:  14\n",
            "\u001b[2m\u001b[36m(DefaultActor pid=1457)\u001b[0m output size:  256\n",
            "\u001b[2m\u001b[36m(DefaultActor pid=1457)\u001b[0m selected images size:  9\n",
            "\u001b[2m\u001b[36m(DefaultActor pid=1457)\u001b[0m output size:  256\n",
            "\u001b[2m\u001b[36m(DefaultActor pid=1457)\u001b[0m selected images size:  15\n",
            "\u001b[2m\u001b[36m(DefaultActor pid=1457)\u001b[0m output size:  256\n",
            "\u001b[2m\u001b[36m(DefaultActor pid=1457)\u001b[0m selected images size:  13\n",
            "\u001b[2m\u001b[36m(DefaultActor pid=1457)\u001b[0m output size:  256\n",
            "\u001b[2m\u001b[36m(DefaultActor pid=1457)\u001b[0m selected images size:  8\n",
            "\u001b[2m\u001b[36m(DefaultActor pid=1457)\u001b[0m output size:  101\n",
            "\u001b[2m\u001b[36m(DefaultActor pid=1457)\u001b[0m selected images size:  2\n",
            "\u001b[2m\u001b[36m(DefaultActor pid=1457)\u001b[0m output size:  256\n",
            "\u001b[2m\u001b[36m(DefaultActor pid=1457)\u001b[0m selected images size:  3\n",
            "\u001b[2m\u001b[36m(DefaultActor pid=1457)\u001b[0m output size:  256\n",
            "\u001b[2m\u001b[36m(DefaultActor pid=1457)\u001b[0m selected images size:  8\n",
            "\u001b[2m\u001b[36m(DefaultActor pid=1457)\u001b[0m output size:  256\n",
            "\u001b[2m\u001b[36m(DefaultActor pid=1457)\u001b[0m selected images size:  2\n",
            "\u001b[2m\u001b[36m(DefaultActor pid=1457)\u001b[0m output size:  256\n",
            "\u001b[2m\u001b[36m(DefaultActor pid=1457)\u001b[0m selected images size:  6\n",
            "\u001b[2m\u001b[36m(DefaultActor pid=1457)\u001b[0m output size:  256\n",
            "\u001b[2m\u001b[36m(DefaultActor pid=1457)\u001b[0m selected images size:  3\n",
            "\u001b[2m\u001b[36m(DefaultActor pid=1457)\u001b[0m output size:  256\n",
            "\u001b[2m\u001b[36m(DefaultActor pid=1457)\u001b[0m selected images size:  7\n"
          ]
        },
        {
          "output_type": "stream",
          "name": "stderr",
          "text": [
            "DEBUG flwr 2024-01-20 10:44:20,978 | server.py:236 | fit_round 29 received 10 results and 0 failures\n",
            "DEBUG:flwr:fit_round 29 received 10 results and 0 failures\n"
          ]
        },
        {
          "output_type": "stream",
          "name": "stdout",
          "text": [
            "Saving round 29 aggregated_parameters...\n"
          ]
        },
        {
          "output_type": "stream",
          "name": "stderr",
          "text": [
            "INFO flwr 2024-01-20 10:44:37,272 | server.py:125 | fit progress: (29, 296.1185142993927, {'accuracy': 0.5813953488372093}, 3989.079171034)\n",
            "INFO:flwr:fit progress: (29, 296.1185142993927, {'accuracy': 0.5813953488372093}, 3989.079171034)\n",
            "DEBUG flwr 2024-01-20 10:44:37,276 | server.py:173 | evaluate_round 29: strategy sampled 10 clients (out of 33)\n",
            "DEBUG:flwr:evaluate_round 29: strategy sampled 10 clients (out of 33)\n"
          ]
        },
        {
          "output_type": "stream",
          "name": "stdout",
          "text": [
            "GLOBAL TEST\n"
          ]
        },
        {
          "output_type": "stream",
          "name": "stderr",
          "text": [
            "DEBUG flwr 2024-01-20 10:44:40,853 | server.py:187 | evaluate_round 29 received 10 results and 0 failures\n",
            "DEBUG:flwr:evaluate_round 29 received 10 results and 0 failures\n",
            "DEBUG flwr 2024-01-20 10:44:40,856 | server.py:222 | fit_round 30: strategy sampled 10 clients (out of 33)\n",
            "DEBUG:flwr:fit_round 30: strategy sampled 10 clients (out of 33)\n"
          ]
        },
        {
          "output_type": "stream",
          "name": "stdout",
          "text": [
            "\u001b[2m\u001b[36m(DefaultActor pid=1457)\u001b[0m ATTACKER\n",
            "\u001b[2m\u001b[36m(DefaultActor pid=1457)\u001b[0m output size:  101\n",
            "\u001b[2m\u001b[36m(DefaultActor pid=1457)\u001b[0m selected images size:  1\n",
            "\u001b[2m\u001b[36m(DefaultActor pid=1457)\u001b[0m output size:  256\n",
            "\u001b[2m\u001b[36m(DefaultActor pid=1457)\u001b[0m selected images size:  1\n",
            "\u001b[2m\u001b[36m(DefaultActor pid=1457)\u001b[0m output size:  256\n",
            "\u001b[2m\u001b[36m(DefaultActor pid=1457)\u001b[0m selected images size:  4\n",
            "\u001b[2m\u001b[36m(DefaultActor pid=1457)\u001b[0m output size:  256\n",
            "\u001b[2m\u001b[36m(DefaultActor pid=1457)\u001b[0m selected images size:  1\n",
            "\u001b[2m\u001b[36m(DefaultActor pid=1457)\u001b[0m output size:  256\n",
            "\u001b[2m\u001b[36m(DefaultActor pid=1457)\u001b[0m selected images size:  3\n",
            "\u001b[2m\u001b[36m(DefaultActor pid=1457)\u001b[0m output size:  256\n",
            "\u001b[2m\u001b[36m(DefaultActor pid=1457)\u001b[0m selected images size:  11\n",
            "\u001b[2m\u001b[36m(DefaultActor pid=1457)\u001b[0m output size:  256\n",
            "\u001b[2m\u001b[36m(DefaultActor pid=1457)\u001b[0m selected images size:  6\n",
            "\u001b[2m\u001b[36m(DefaultActor pid=1457)\u001b[0m output size:  101\n",
            "\u001b[2m\u001b[36m(DefaultActor pid=1457)\u001b[0m selected images size:  3\n",
            "\u001b[2m\u001b[36m(DefaultActor pid=1457)\u001b[0m output size:  256\n",
            "\u001b[2m\u001b[36m(DefaultActor pid=1457)\u001b[0m selected images size:  1\n",
            "\u001b[2m\u001b[36m(DefaultActor pid=1457)\u001b[0m output size:  256\n",
            "\u001b[2m\u001b[36m(DefaultActor pid=1457)\u001b[0m selected images size:  1\n",
            "\u001b[2m\u001b[36m(DefaultActor pid=1457)\u001b[0m output size:  256\n",
            "\u001b[2m\u001b[36m(DefaultActor pid=1457)\u001b[0m selected images size:  3\n",
            "\u001b[2m\u001b[36m(DefaultActor pid=1457)\u001b[0m output size:  256\n",
            "\u001b[2m\u001b[36m(DefaultActor pid=1457)\u001b[0m selected images size:  1\n",
            "\u001b[2m\u001b[36m(DefaultActor pid=1457)\u001b[0m output size:  256\n",
            "\u001b[2m\u001b[36m(DefaultActor pid=1457)\u001b[0m selected images size:  3\n",
            "\u001b[2m\u001b[36m(DefaultActor pid=1457)\u001b[0m output size:  256\n",
            "\u001b[2m\u001b[36m(DefaultActor pid=1457)\u001b[0m selected images size:  1\n",
            "\u001b[2m\u001b[36m(DefaultActor pid=1457)\u001b[0m output size:  256\n",
            "\u001b[2m\u001b[36m(DefaultActor pid=1457)\u001b[0m selected images size:  2\n",
            "\u001b[2m\u001b[36m(DefaultActor pid=1457)\u001b[0m output size:  256\n",
            "\u001b[2m\u001b[36m(DefaultActor pid=1457)\u001b[0m selected images size:  1\n",
            "\u001b[2m\u001b[36m(DefaultActor pid=1457)\u001b[0m output size:  101\n",
            "\u001b[2m\u001b[36m(DefaultActor pid=1457)\u001b[0m selected images size:  2\n",
            "\u001b[2m\u001b[36m(DefaultActor pid=1457)\u001b[0m output size:  256\n",
            "\u001b[2m\u001b[36m(DefaultActor pid=1457)\u001b[0m selected images size:  3\n",
            "\u001b[2m\u001b[36m(DefaultActor pid=1457)\u001b[0m output size:  256\n",
            "\u001b[2m\u001b[36m(DefaultActor pid=1457)\u001b[0m selected images size:  3\n",
            "\u001b[2m\u001b[36m(DefaultActor pid=1457)\u001b[0m output size:  256\n",
            "\u001b[2m\u001b[36m(DefaultActor pid=1457)\u001b[0m selected images size:  3\n",
            "\u001b[2m\u001b[36m(DefaultActor pid=1457)\u001b[0m output size:  256\n",
            "\u001b[2m\u001b[36m(DefaultActor pid=1457)\u001b[0m selected images size:  1\n",
            "\u001b[2m\u001b[36m(DefaultActor pid=1457)\u001b[0m output size:  256\n",
            "\u001b[2m\u001b[36m(DefaultActor pid=1457)\u001b[0m selected images size:  1\n",
            "\u001b[2m\u001b[36m(DefaultActor pid=1457)\u001b[0m output size:  256\n",
            "\u001b[2m\u001b[36m(DefaultActor pid=1457)\u001b[0m selected images size:  1\n",
            "\u001b[2m\u001b[36m(DefaultActor pid=1457)\u001b[0m output size:  256\n",
            "\u001b[2m\u001b[36m(DefaultActor pid=1457)\u001b[0m selected images size:  1\n",
            "\u001b[2m\u001b[36m(DefaultActor pid=1457)\u001b[0m output size:  256\n",
            "\u001b[2m\u001b[36m(DefaultActor pid=1457)\u001b[0m selected images size:  1\n",
            "\u001b[2m\u001b[36m(DefaultActor pid=1457)\u001b[0m output size:  256\n",
            "\u001b[2m\u001b[36m(DefaultActor pid=1457)\u001b[0m selected images size:  3\n",
            "\u001b[2m\u001b[36m(DefaultActor pid=1457)\u001b[0m output size:  256\n",
            "\u001b[2m\u001b[36m(DefaultActor pid=1457)\u001b[0m selected images size:  3\n",
            "\u001b[2m\u001b[36m(DefaultActor pid=1457)\u001b[0m output size:  256\n",
            "\u001b[2m\u001b[36m(DefaultActor pid=1457)\u001b[0m selected images size:  2\n",
            "\u001b[2m\u001b[36m(DefaultActor pid=1457)\u001b[0m output size:  256\n",
            "\u001b[2m\u001b[36m(DefaultActor pid=1457)\u001b[0m selected images size:  4\n",
            "\u001b[2m\u001b[36m(DefaultActor pid=1457)\u001b[0m output size:  101\n",
            "\u001b[2m\u001b[36m(DefaultActor pid=1457)\u001b[0m selected images size:  2\n",
            "\u001b[2m\u001b[36m(DefaultActor pid=1457)\u001b[0m output size:  256\n",
            "\u001b[2m\u001b[36m(DefaultActor pid=1457)\u001b[0m selected images size:  3\n",
            "\u001b[2m\u001b[36m(DefaultActor pid=1457)\u001b[0m output size:  256\n",
            "\u001b[2m\u001b[36m(DefaultActor pid=1457)\u001b[0m selected images size:  4\n",
            "\u001b[2m\u001b[36m(DefaultActor pid=1457)\u001b[0m output size:  256\n",
            "\u001b[2m\u001b[36m(DefaultActor pid=1457)\u001b[0m selected images size:  8\n",
            "\u001b[2m\u001b[36m(DefaultActor pid=1457)\u001b[0m output size:  256\n",
            "\u001b[2m\u001b[36m(DefaultActor pid=1457)\u001b[0m selected images size:  2\n",
            "\u001b[2m\u001b[36m(DefaultActor pid=1457)\u001b[0m output size:  256\n",
            "\u001b[2m\u001b[36m(DefaultActor pid=1457)\u001b[0m selected images size:  4\n",
            "\u001b[2m\u001b[36m(DefaultActor pid=1457)\u001b[0m output size:  256\n",
            "\u001b[2m\u001b[36m(DefaultActor pid=1457)\u001b[0m selected images size:  4\n",
            "\u001b[2m\u001b[36m(DefaultActor pid=1457)\u001b[0m output size:  101\n",
            "\u001b[2m\u001b[36m(DefaultActor pid=1457)\u001b[0m selected images size:  2\n",
            "\u001b[2m\u001b[36m(DefaultActor pid=1457)\u001b[0m output size:  256\n",
            "\u001b[2m\u001b[36m(DefaultActor pid=1457)\u001b[0m selected images size:  8\n",
            "\u001b[2m\u001b[36m(DefaultActor pid=1457)\u001b[0m output size:  256\n",
            "\u001b[2m\u001b[36m(DefaultActor pid=1457)\u001b[0m selected images size:  10\n",
            "\u001b[2m\u001b[36m(DefaultActor pid=1457)\u001b[0m output size:  256\n",
            "\u001b[2m\u001b[36m(DefaultActor pid=1457)\u001b[0m selected images size:  14\n",
            "\u001b[2m\u001b[36m(DefaultActor pid=1457)\u001b[0m output size:  256\n",
            "\u001b[2m\u001b[36m(DefaultActor pid=1457)\u001b[0m selected images size:  8\n",
            "\u001b[2m\u001b[36m(DefaultActor pid=1457)\u001b[0m output size:  256\n",
            "\u001b[2m\u001b[36m(DefaultActor pid=1457)\u001b[0m selected images size:  12\n",
            "\u001b[2m\u001b[36m(DefaultActor pid=1457)\u001b[0m output size:  256\n",
            "\u001b[2m\u001b[36m(DefaultActor pid=1457)\u001b[0m selected images size:  23\n",
            "\u001b[2m\u001b[36m(DefaultActor pid=1457)\u001b[0m output size:  101\n",
            "\u001b[2m\u001b[36m(DefaultActor pid=1457)\u001b[0m selected images size:  9\n",
            "\u001b[2m\u001b[36m(DefaultActor pid=1457)\u001b[0m output size:  256\n",
            "\u001b[2m\u001b[36m(DefaultActor pid=1457)\u001b[0m selected images size:  20\n",
            "\u001b[2m\u001b[36m(DefaultActor pid=1457)\u001b[0m output size:  256\n",
            "\u001b[2m\u001b[36m(DefaultActor pid=1457)\u001b[0m selected images size:  9\n",
            "\u001b[2m\u001b[36m(DefaultActor pid=1457)\u001b[0m output size:  256\n",
            "\u001b[2m\u001b[36m(DefaultActor pid=1457)\u001b[0m selected images size:  8\n",
            "\u001b[2m\u001b[36m(DefaultActor pid=1457)\u001b[0m output size:  256\n",
            "\u001b[2m\u001b[36m(DefaultActor pid=1457)\u001b[0m selected images size:  10\n",
            "\u001b[2m\u001b[36m(DefaultActor pid=1457)\u001b[0m output size:  256\n",
            "\u001b[2m\u001b[36m(DefaultActor pid=1457)\u001b[0m selected images size:  9\n",
            "\u001b[2m\u001b[36m(DefaultActor pid=1457)\u001b[0m output size:  256\n",
            "\u001b[2m\u001b[36m(DefaultActor pid=1457)\u001b[0m selected images size:  8\n",
            "\u001b[2m\u001b[36m(DefaultActor pid=1457)\u001b[0m output size:  101\n",
            "\u001b[2m\u001b[36m(DefaultActor pid=1457)\u001b[0m selected images size:  5\n",
            "\u001b[2m\u001b[36m(DefaultActor pid=1457)\u001b[0m output size:  256\n",
            "\u001b[2m\u001b[36m(DefaultActor pid=1457)\u001b[0m selected images size:  9\n",
            "\u001b[2m\u001b[36m(DefaultActor pid=1457)\u001b[0m output size:  256\n",
            "\u001b[2m\u001b[36m(DefaultActor pid=1457)\u001b[0m selected images size:  12\n",
            "\u001b[2m\u001b[36m(DefaultActor pid=1457)\u001b[0m output size:  256\n",
            "\u001b[2m\u001b[36m(DefaultActor pid=1457)\u001b[0m selected images size:  12\n",
            "\u001b[2m\u001b[36m(DefaultActor pid=1457)\u001b[0m output size:  256\n",
            "\u001b[2m\u001b[36m(DefaultActor pid=1457)\u001b[0m selected images size:  7\n",
            "\u001b[2m\u001b[36m(DefaultActor pid=1457)\u001b[0m output size:  256\n",
            "\u001b[2m\u001b[36m(DefaultActor pid=1457)\u001b[0m selected images size:  13\n",
            "\u001b[2m\u001b[36m(DefaultActor pid=1457)\u001b[0m output size:  256\n",
            "\u001b[2m\u001b[36m(DefaultActor pid=1457)\u001b[0m selected images size:  14\n",
            "\u001b[2m\u001b[36m(DefaultActor pid=1457)\u001b[0m output size:  101\n",
            "\u001b[2m\u001b[36m(DefaultActor pid=1457)\u001b[0m selected images size:  2\n",
            "\u001b[2m\u001b[36m(DefaultActor pid=1457)\u001b[0m output size:  256\n",
            "\u001b[2m\u001b[36m(DefaultActor pid=1457)\u001b[0m selected images size:  11\n",
            "\u001b[2m\u001b[36m(DefaultActor pid=1457)\u001b[0m output size:  256\n",
            "\u001b[2m\u001b[36m(DefaultActor pid=1457)\u001b[0m selected images size:  6\n",
            "\u001b[2m\u001b[36m(DefaultActor pid=1457)\u001b[0m output size:  256\n",
            "\u001b[2m\u001b[36m(DefaultActor pid=1457)\u001b[0m selected images size:  7\n",
            "\u001b[2m\u001b[36m(DefaultActor pid=1457)\u001b[0m output size:  256\n",
            "\u001b[2m\u001b[36m(DefaultActor pid=1457)\u001b[0m selected images size:  8\n",
            "\u001b[2m\u001b[36m(DefaultActor pid=1457)\u001b[0m output size:  256\n",
            "\u001b[2m\u001b[36m(DefaultActor pid=1457)\u001b[0m selected images size:  5\n",
            "\u001b[2m\u001b[36m(DefaultActor pid=1457)\u001b[0m output size:  256\n",
            "\u001b[2m\u001b[36m(DefaultActor pid=1457)\u001b[0m selected images size:  11\n",
            "\u001b[2m\u001b[36m(DefaultActor pid=1457)\u001b[0m output size:  101\n",
            "\u001b[2m\u001b[36m(DefaultActor pid=1457)\u001b[0m selected images size:  4\n",
            "\u001b[2m\u001b[36m(DefaultActor pid=1457)\u001b[0m output size:  256\n",
            "\u001b[2m\u001b[36m(DefaultActor pid=1457)\u001b[0m selected images size:  12\n",
            "\u001b[2m\u001b[36m(DefaultActor pid=1457)\u001b[0m output size:  256\n",
            "\u001b[2m\u001b[36m(DefaultActor pid=1457)\u001b[0m selected images size:  14\n",
            "\u001b[2m\u001b[36m(DefaultActor pid=1457)\u001b[0m output size:  256\n",
            "\u001b[2m\u001b[36m(DefaultActor pid=1457)\u001b[0m selected images size:  24\n",
            "\u001b[2m\u001b[36m(DefaultActor pid=1457)\u001b[0m output size:  256\n",
            "\u001b[2m\u001b[36m(DefaultActor pid=1457)\u001b[0m selected images size:  24\n",
            "\u001b[2m\u001b[36m(DefaultActor pid=1457)\u001b[0m output size:  256\n",
            "\u001b[2m\u001b[36m(DefaultActor pid=1457)\u001b[0m selected images size:  25\n",
            "\u001b[2m\u001b[36m(DefaultActor pid=1457)\u001b[0m output size:  256\n",
            "\u001b[2m\u001b[36m(DefaultActor pid=1457)\u001b[0m selected images size:  32\n",
            "\u001b[2m\u001b[36m(DefaultActor pid=1457)\u001b[0m output size:  101\n",
            "\u001b[2m\u001b[36m(DefaultActor pid=1457)\u001b[0m selected images size:  15\n",
            "\u001b[2m\u001b[36m(DefaultActor pid=1457)\u001b[0m output size:  256\n",
            "\u001b[2m\u001b[36m(DefaultActor pid=1457)\u001b[0m selected images size:  28\n",
            "\u001b[2m\u001b[36m(DefaultActor pid=1457)\u001b[0m output size:  256\n",
            "\u001b[2m\u001b[36m(DefaultActor pid=1457)\u001b[0m selected images size:  34\n",
            "\u001b[2m\u001b[36m(DefaultActor pid=1457)\u001b[0m output size:  256\n",
            "\u001b[2m\u001b[36m(DefaultActor pid=1457)\u001b[0m selected images size:  27\n",
            "\u001b[2m\u001b[36m(DefaultActor pid=1457)\u001b[0m output size:  256\n",
            "\u001b[2m\u001b[36m(DefaultActor pid=1457)\u001b[0m selected images size:  25\n",
            "\u001b[2m\u001b[36m(DefaultActor pid=1457)\u001b[0m output size:  256\n",
            "\u001b[2m\u001b[36m(DefaultActor pid=1457)\u001b[0m selected images size:  23\n",
            "\u001b[2m\u001b[36m(DefaultActor pid=1457)\u001b[0m output size:  256\n",
            "\u001b[2m\u001b[36m(DefaultActor pid=1457)\u001b[0m selected images size:  30\n",
            "\u001b[2m\u001b[36m(DefaultActor pid=1457)\u001b[0m output size:  101\n",
            "\u001b[2m\u001b[36m(DefaultActor pid=1457)\u001b[0m selected images size:  8\n",
            "\u001b[2m\u001b[36m(DefaultActor pid=1457)\u001b[0m output size:  256\n",
            "\u001b[2m\u001b[36m(DefaultActor pid=1457)\u001b[0m selected images size:  22\n",
            "\u001b[2m\u001b[36m(DefaultActor pid=1457)\u001b[0m output size:  256\n",
            "\u001b[2m\u001b[36m(DefaultActor pid=1457)\u001b[0m selected images size:  25\n",
            "\u001b[2m\u001b[36m(DefaultActor pid=1457)\u001b[0m output size:  256\n",
            "\u001b[2m\u001b[36m(DefaultActor pid=1457)\u001b[0m selected images size:  30\n",
            "\u001b[2m\u001b[36m(DefaultActor pid=1457)\u001b[0m output size:  256\n",
            "\u001b[2m\u001b[36m(DefaultActor pid=1457)\u001b[0m selected images size:  30\n",
            "\u001b[2m\u001b[36m(DefaultActor pid=1457)\u001b[0m output size:  256\n",
            "\u001b[2m\u001b[36m(DefaultActor pid=1457)\u001b[0m selected images size:  28\n",
            "\u001b[2m\u001b[36m(DefaultActor pid=1457)\u001b[0m output size:  256\n",
            "\u001b[2m\u001b[36m(DefaultActor pid=1457)\u001b[0m selected images size:  30\n",
            "\u001b[2m\u001b[36m(DefaultActor pid=1457)\u001b[0m output size:  101\n",
            "\u001b[2m\u001b[36m(DefaultActor pid=1457)\u001b[0m selected images size:  7\n"
          ]
        },
        {
          "output_type": "stream",
          "name": "stderr",
          "text": [
            "DEBUG flwr 2024-01-20 10:46:47,847 | server.py:236 | fit_round 30 received 10 results and 0 failures\n",
            "DEBUG:flwr:fit_round 30 received 10 results and 0 failures\n"
          ]
        },
        {
          "output_type": "stream",
          "name": "stdout",
          "text": [
            "Saving round 30 aggregated_parameters...\n"
          ]
        },
        {
          "output_type": "stream",
          "name": "stderr",
          "text": [
            "INFO flwr 2024-01-20 10:47:04,187 | server.py:125 | fit progress: (30, 296.0570002794266, {'accuracy': 0.4844961240310077}, 4135.9939908119995)\n",
            "INFO:flwr:fit progress: (30, 296.0570002794266, {'accuracy': 0.4844961240310077}, 4135.9939908119995)\n",
            "DEBUG flwr 2024-01-20 10:47:04,196 | server.py:173 | evaluate_round 30: strategy sampled 10 clients (out of 33)\n",
            "DEBUG:flwr:evaluate_round 30: strategy sampled 10 clients (out of 33)\n"
          ]
        },
        {
          "output_type": "stream",
          "name": "stdout",
          "text": [
            "GLOBAL TEST\n"
          ]
        },
        {
          "output_type": "stream",
          "name": "stderr",
          "text": [
            "DEBUG flwr 2024-01-20 10:47:08,766 | server.py:187 | evaluate_round 30 received 10 results and 0 failures\n",
            "DEBUG:flwr:evaluate_round 30 received 10 results and 0 failures\n",
            "DEBUG flwr 2024-01-20 10:47:08,771 | server.py:222 | fit_round 31: strategy sampled 10 clients (out of 33)\n",
            "DEBUG:flwr:fit_round 31: strategy sampled 10 clients (out of 33)\n",
            "DEBUG flwr 2024-01-20 10:48:26,567 | server.py:236 | fit_round 31 received 10 results and 0 failures\n",
            "DEBUG:flwr:fit_round 31 received 10 results and 0 failures\n"
          ]
        },
        {
          "output_type": "stream",
          "name": "stdout",
          "text": [
            "Saving round 31 aggregated_parameters...\n"
          ]
        },
        {
          "output_type": "stream",
          "name": "stderr",
          "text": [
            "INFO flwr 2024-01-20 10:48:42,968 | server.py:125 | fit progress: (31, 295.9831733703613, {'accuracy': 0.4844961240310077}, 4234.775367681999)\n",
            "INFO:flwr:fit progress: (31, 295.9831733703613, {'accuracy': 0.4844961240310077}, 4234.775367681999)\n",
            "DEBUG flwr 2024-01-20 10:48:42,972 | server.py:173 | evaluate_round 31: strategy sampled 10 clients (out of 33)\n",
            "DEBUG:flwr:evaluate_round 31: strategy sampled 10 clients (out of 33)\n"
          ]
        },
        {
          "output_type": "stream",
          "name": "stdout",
          "text": [
            "GLOBAL TEST\n"
          ]
        },
        {
          "output_type": "stream",
          "name": "stderr",
          "text": [
            "DEBUG flwr 2024-01-20 10:48:47,636 | server.py:187 | evaluate_round 31 received 10 results and 0 failures\n",
            "DEBUG:flwr:evaluate_round 31 received 10 results and 0 failures\n",
            "DEBUG flwr 2024-01-20 10:48:47,639 | server.py:222 | fit_round 32: strategy sampled 10 clients (out of 33)\n",
            "DEBUG:flwr:fit_round 32: strategy sampled 10 clients (out of 33)\n"
          ]
        },
        {
          "output_type": "stream",
          "name": "stdout",
          "text": [
            "\u001b[2m\u001b[36m(DefaultActor pid=1457)\u001b[0m ATTACKER\n",
            "\u001b[2m\u001b[36m(DefaultActor pid=1457)\u001b[0m output size:  256\n",
            "\u001b[2m\u001b[36m(DefaultActor pid=1457)\u001b[0m selected images size:  1\n",
            "\u001b[2m\u001b[36m(DefaultActor pid=1457)\u001b[0m output size:  256\n",
            "\u001b[2m\u001b[36m(DefaultActor pid=1457)\u001b[0m selected images size:  3\n",
            "\u001b[2m\u001b[36m(DefaultActor pid=1457)\u001b[0m output size:  256\n",
            "\u001b[2m\u001b[36m(DefaultActor pid=1457)\u001b[0m selected images size:  1\n",
            "\u001b[2m\u001b[36m(DefaultActor pid=1457)\u001b[0m output size:  256\n",
            "\u001b[2m\u001b[36m(DefaultActor pid=1457)\u001b[0m selected images size:  2\n",
            "\u001b[2m\u001b[36m(DefaultActor pid=1457)\u001b[0m output size:  256\n",
            "\u001b[2m\u001b[36m(DefaultActor pid=1457)\u001b[0m selected images size:  2\n",
            "\u001b[2m\u001b[36m(DefaultActor pid=1457)\u001b[0m output size:  256\n",
            "\u001b[2m\u001b[36m(DefaultActor pid=1457)\u001b[0m selected images size:  5\n",
            "\u001b[2m\u001b[36m(DefaultActor pid=1457)\u001b[0m output size:  256\n",
            "\u001b[2m\u001b[36m(DefaultActor pid=1457)\u001b[0m selected images size:  11\n",
            "\u001b[2m\u001b[36m(DefaultActor pid=1457)\u001b[0m output size:  256\n",
            "\u001b[2m\u001b[36m(DefaultActor pid=1457)\u001b[0m selected images size:  24\n",
            "\u001b[2m\u001b[36m(DefaultActor pid=1457)\u001b[0m output size:  256\n",
            "\u001b[2m\u001b[36m(DefaultActor pid=1457)\u001b[0m selected images size:  28\n",
            "\u001b[2m\u001b[36m(DefaultActor pid=1457)\u001b[0m output size:  101\n",
            "\u001b[2m\u001b[36m(DefaultActor pid=1457)\u001b[0m selected images size:  5\n",
            "\u001b[2m\u001b[36m(DefaultActor pid=1457)\u001b[0m output size:  256\n",
            "\u001b[2m\u001b[36m(DefaultActor pid=1457)\u001b[0m selected images size:  11\n",
            "\u001b[2m\u001b[36m(DefaultActor pid=1457)\u001b[0m output size:  256\n",
            "\u001b[2m\u001b[36m(DefaultActor pid=1457)\u001b[0m selected images size:  10\n",
            "\u001b[2m\u001b[36m(DefaultActor pid=1457)\u001b[0m output size:  256\n",
            "\u001b[2m\u001b[36m(DefaultActor pid=1457)\u001b[0m selected images size:  13\n",
            "\u001b[2m\u001b[36m(DefaultActor pid=1457)\u001b[0m output size:  256\n",
            "\u001b[2m\u001b[36m(DefaultActor pid=1457)\u001b[0m selected images size:  5\n",
            "\u001b[2m\u001b[36m(DefaultActor pid=1457)\u001b[0m output size:  256\n",
            "\u001b[2m\u001b[36m(DefaultActor pid=1457)\u001b[0m selected images size:  5\n",
            "\u001b[2m\u001b[36m(DefaultActor pid=1457)\u001b[0m output size:  256\n",
            "\u001b[2m\u001b[36m(DefaultActor pid=1457)\u001b[0m selected images size:  8\n",
            "\u001b[2m\u001b[36m(DefaultActor pid=1457)\u001b[0m output size:  101\n",
            "\u001b[2m\u001b[36m(DefaultActor pid=1457)\u001b[0m selected images size:  3\n",
            "\u001b[2m\u001b[36m(DefaultActor pid=1457)\u001b[0m output size:  256\n",
            "\u001b[2m\u001b[36m(DefaultActor pid=1457)\u001b[0m selected images size:  3\n",
            "\u001b[2m\u001b[36m(DefaultActor pid=1457)\u001b[0m output size:  256\n",
            "\u001b[2m\u001b[36m(DefaultActor pid=1457)\u001b[0m selected images size:  1\n",
            "\u001b[2m\u001b[36m(DefaultActor pid=1457)\u001b[0m output size:  256\n",
            "\u001b[2m\u001b[36m(DefaultActor pid=1457)\u001b[0m selected images size:  4\n",
            "\u001b[2m\u001b[36m(DefaultActor pid=1457)\u001b[0m output size:  256\n",
            "\u001b[2m\u001b[36m(DefaultActor pid=1457)\u001b[0m selected images size:  11\n",
            "\u001b[2m\u001b[36m(DefaultActor pid=1457)\u001b[0m output size:  256\n",
            "\u001b[2m\u001b[36m(DefaultActor pid=1457)\u001b[0m selected images size:  2\n",
            "\u001b[2m\u001b[36m(DefaultActor pid=1457)\u001b[0m output size:  256\n",
            "\u001b[2m\u001b[36m(DefaultActor pid=1457)\u001b[0m selected images size:  9\n",
            "\u001b[2m\u001b[36m(DefaultActor pid=1457)\u001b[0m output size:  101\n",
            "\u001b[2m\u001b[36m(DefaultActor pid=1457)\u001b[0m selected images size:  5\n",
            "\u001b[2m\u001b[36m(DefaultActor pid=1457)\u001b[0m output size:  256\n",
            "\u001b[2m\u001b[36m(DefaultActor pid=1457)\u001b[0m selected images size:  10\n",
            "\u001b[2m\u001b[36m(DefaultActor pid=1457)\u001b[0m output size:  256\n",
            "\u001b[2m\u001b[36m(DefaultActor pid=1457)\u001b[0m selected images size:  16\n",
            "\u001b[2m\u001b[36m(DefaultActor pid=1457)\u001b[0m output size:  256\n",
            "\u001b[2m\u001b[36m(DefaultActor pid=1457)\u001b[0m selected images size:  11\n",
            "\u001b[2m\u001b[36m(DefaultActor pid=1457)\u001b[0m output size:  256\n",
            "\u001b[2m\u001b[36m(DefaultActor pid=1457)\u001b[0m selected images size:  10\n",
            "\u001b[2m\u001b[36m(DefaultActor pid=1457)\u001b[0m output size:  256\n",
            "\u001b[2m\u001b[36m(DefaultActor pid=1457)\u001b[0m selected images size:  7\n",
            "\u001b[2m\u001b[36m(DefaultActor pid=1457)\u001b[0m output size:  256\n",
            "\u001b[2m\u001b[36m(DefaultActor pid=1457)\u001b[0m selected images size:  9\n",
            "\u001b[2m\u001b[36m(DefaultActor pid=1457)\u001b[0m output size:  101\n",
            "\u001b[2m\u001b[36m(DefaultActor pid=1457)\u001b[0m selected images size:  2\n",
            "\u001b[2m\u001b[36m(DefaultActor pid=1457)\u001b[0m output size:  256\n",
            "\u001b[2m\u001b[36m(DefaultActor pid=1457)\u001b[0m selected images size:  8\n",
            "\u001b[2m\u001b[36m(DefaultActor pid=1457)\u001b[0m output size:  256\n",
            "\u001b[2m\u001b[36m(DefaultActor pid=1457)\u001b[0m selected images size:  4\n",
            "\u001b[2m\u001b[36m(DefaultActor pid=1457)\u001b[0m output size:  256\n",
            "\u001b[2m\u001b[36m(DefaultActor pid=1457)\u001b[0m selected images size:  9\n",
            "\u001b[2m\u001b[36m(DefaultActor pid=1457)\u001b[0m output size:  256\n",
            "\u001b[2m\u001b[36m(DefaultActor pid=1457)\u001b[0m selected images size:  4\n",
            "\u001b[2m\u001b[36m(DefaultActor pid=1457)\u001b[0m output size:  256\n",
            "\u001b[2m\u001b[36m(DefaultActor pid=1457)\u001b[0m selected images size:  4\n",
            "\u001b[2m\u001b[36m(DefaultActor pid=1457)\u001b[0m output size:  256\n",
            "\u001b[2m\u001b[36m(DefaultActor pid=1457)\u001b[0m selected images size:  4\n",
            "\u001b[2m\u001b[36m(DefaultActor pid=1457)\u001b[0m output size:  101\n",
            "\u001b[2m\u001b[36m(DefaultActor pid=1457)\u001b[0m selected images size:  1\n",
            "\u001b[2m\u001b[36m(DefaultActor pid=1457)\u001b[0m output size:  256\n",
            "\u001b[2m\u001b[36m(DefaultActor pid=1457)\u001b[0m selected images size:  7\n",
            "\u001b[2m\u001b[36m(DefaultActor pid=1457)\u001b[0m output size:  256\n",
            "\u001b[2m\u001b[36m(DefaultActor pid=1457)\u001b[0m selected images size:  6\n",
            "\u001b[2m\u001b[36m(DefaultActor pid=1457)\u001b[0m output size:  256\n",
            "\u001b[2m\u001b[36m(DefaultActor pid=1457)\u001b[0m selected images size:  4\n",
            "\u001b[2m\u001b[36m(DefaultActor pid=1457)\u001b[0m output size:  256\n",
            "\u001b[2m\u001b[36m(DefaultActor pid=1457)\u001b[0m selected images size:  8\n",
            "\u001b[2m\u001b[36m(DefaultActor pid=1457)\u001b[0m output size:  256\n",
            "\u001b[2m\u001b[36m(DefaultActor pid=1457)\u001b[0m selected images size:  14\n",
            "\u001b[2m\u001b[36m(DefaultActor pid=1457)\u001b[0m output size:  256\n",
            "\u001b[2m\u001b[36m(DefaultActor pid=1457)\u001b[0m selected images size:  12\n",
            "\u001b[2m\u001b[36m(DefaultActor pid=1457)\u001b[0m output size:  101\n",
            "\u001b[2m\u001b[36m(DefaultActor pid=1457)\u001b[0m selected images size:  6\n",
            "\u001b[2m\u001b[36m(DefaultActor pid=1457)\u001b[0m output size:  256\n",
            "\u001b[2m\u001b[36m(DefaultActor pid=1457)\u001b[0m selected images size:  21\n",
            "\u001b[2m\u001b[36m(DefaultActor pid=1457)\u001b[0m output size:  256\n",
            "\u001b[2m\u001b[36m(DefaultActor pid=1457)\u001b[0m selected images size:  18\n",
            "\u001b[2m\u001b[36m(DefaultActor pid=1457)\u001b[0m output size:  256\n",
            "\u001b[2m\u001b[36m(DefaultActor pid=1457)\u001b[0m selected images size:  18\n",
            "\u001b[2m\u001b[36m(DefaultActor pid=1457)\u001b[0m output size:  256\n",
            "\u001b[2m\u001b[36m(DefaultActor pid=1457)\u001b[0m selected images size:  25\n",
            "\u001b[2m\u001b[36m(DefaultActor pid=1457)\u001b[0m output size:  256\n",
            "\u001b[2m\u001b[36m(DefaultActor pid=1457)\u001b[0m selected images size:  26\n",
            "\u001b[2m\u001b[36m(DefaultActor pid=1457)\u001b[0m output size:  256\n",
            "\u001b[2m\u001b[36m(DefaultActor pid=1457)\u001b[0m selected images size:  17\n",
            "\u001b[2m\u001b[36m(DefaultActor pid=1457)\u001b[0m output size:  101\n",
            "\u001b[2m\u001b[36m(DefaultActor pid=1457)\u001b[0m selected images size:  9\n",
            "\u001b[2m\u001b[36m(DefaultActor pid=1457)\u001b[0m output size:  256\n",
            "\u001b[2m\u001b[36m(DefaultActor pid=1457)\u001b[0m selected images size:  27\n",
            "\u001b[2m\u001b[36m(DefaultActor pid=1457)\u001b[0m output size:  256\n",
            "\u001b[2m\u001b[36m(DefaultActor pid=1457)\u001b[0m selected images size:  31\n",
            "\u001b[2m\u001b[36m(DefaultActor pid=1457)\u001b[0m output size:  256\n",
            "\u001b[2m\u001b[36m(DefaultActor pid=1457)\u001b[0m selected images size:  21\n",
            "\u001b[2m\u001b[36m(DefaultActor pid=1457)\u001b[0m output size:  256\n",
            "\u001b[2m\u001b[36m(DefaultActor pid=1457)\u001b[0m selected images size:  34\n",
            "\u001b[2m\u001b[36m(DefaultActor pid=1457)\u001b[0m output size:  256\n",
            "\u001b[2m\u001b[36m(DefaultActor pid=1457)\u001b[0m selected images size:  22\n",
            "\u001b[2m\u001b[36m(DefaultActor pid=1457)\u001b[0m output size:  256\n",
            "\u001b[2m\u001b[36m(DefaultActor pid=1457)\u001b[0m selected images size:  36\n",
            "\u001b[2m\u001b[36m(DefaultActor pid=1457)\u001b[0m output size:  101\n",
            "\u001b[2m\u001b[36m(DefaultActor pid=1457)\u001b[0m selected images size:  10\n",
            "\u001b[2m\u001b[36m(DefaultActor pid=1457)\u001b[0m output size:  256\n",
            "\u001b[2m\u001b[36m(DefaultActor pid=1457)\u001b[0m selected images size:  29\n",
            "\u001b[2m\u001b[36m(DefaultActor pid=1457)\u001b[0m output size:  256\n",
            "\u001b[2m\u001b[36m(DefaultActor pid=1457)\u001b[0m selected images size:  23\n",
            "\u001b[2m\u001b[36m(DefaultActor pid=1457)\u001b[0m output size:  256\n",
            "\u001b[2m\u001b[36m(DefaultActor pid=1457)\u001b[0m selected images size:  27\n",
            "\u001b[2m\u001b[36m(DefaultActor pid=1457)\u001b[0m output size:  256\n",
            "\u001b[2m\u001b[36m(DefaultActor pid=1457)\u001b[0m selected images size:  35\n",
            "\u001b[2m\u001b[36m(DefaultActor pid=1457)\u001b[0m output size:  256\n",
            "\u001b[2m\u001b[36m(DefaultActor pid=1457)\u001b[0m selected images size:  21\n",
            "\u001b[2m\u001b[36m(DefaultActor pid=1457)\u001b[0m output size:  256\n",
            "\u001b[2m\u001b[36m(DefaultActor pid=1457)\u001b[0m selected images size:  19\n",
            "\u001b[2m\u001b[36m(DefaultActor pid=1457)\u001b[0m output size:  101\n",
            "\u001b[2m\u001b[36m(DefaultActor pid=1457)\u001b[0m selected images size:  14\n",
            "\u001b[2m\u001b[36m(DefaultActor pid=1457)\u001b[0m output size:  256\n",
            "\u001b[2m\u001b[36m(DefaultActor pid=1457)\u001b[0m selected images size:  17\n",
            "\u001b[2m\u001b[36m(DefaultActor pid=1457)\u001b[0m output size:  256\n",
            "\u001b[2m\u001b[36m(DefaultActor pid=1457)\u001b[0m selected images size:  26\n",
            "\u001b[2m\u001b[36m(DefaultActor pid=1457)\u001b[0m output size:  256\n",
            "\u001b[2m\u001b[36m(DefaultActor pid=1457)\u001b[0m selected images size:  31\n",
            "\u001b[2m\u001b[36m(DefaultActor pid=1457)\u001b[0m output size:  256\n",
            "\u001b[2m\u001b[36m(DefaultActor pid=1457)\u001b[0m selected images size:  33\n",
            "\u001b[2m\u001b[36m(DefaultActor pid=1457)\u001b[0m output size:  256\n",
            "\u001b[2m\u001b[36m(DefaultActor pid=1457)\u001b[0m selected images size:  31\n",
            "\u001b[2m\u001b[36m(DefaultActor pid=1457)\u001b[0m output size:  256\n",
            "\u001b[2m\u001b[36m(DefaultActor pid=1457)\u001b[0m selected images size:  32\n",
            "\u001b[2m\u001b[36m(DefaultActor pid=1457)\u001b[0m output size:  101\n",
            "\u001b[2m\u001b[36m(DefaultActor pid=1457)\u001b[0m selected images size:  7\n",
            "\u001b[2m\u001b[36m(DefaultActor pid=1457)\u001b[0m output size:  256\n",
            "\u001b[2m\u001b[36m(DefaultActor pid=1457)\u001b[0m selected images size:  25\n",
            "\u001b[2m\u001b[36m(DefaultActor pid=1457)\u001b[0m output size:  256\n",
            "\u001b[2m\u001b[36m(DefaultActor pid=1457)\u001b[0m selected images size:  33\n",
            "\u001b[2m\u001b[36m(DefaultActor pid=1457)\u001b[0m output size:  256\n",
            "\u001b[2m\u001b[36m(DefaultActor pid=1457)\u001b[0m selected images size:  23\n",
            "\u001b[2m\u001b[36m(DefaultActor pid=1457)\u001b[0m output size:  256\n",
            "\u001b[2m\u001b[36m(DefaultActor pid=1457)\u001b[0m selected images size:  17\n",
            "\u001b[2m\u001b[36m(DefaultActor pid=1457)\u001b[0m output size:  256\n",
            "\u001b[2m\u001b[36m(DefaultActor pid=1457)\u001b[0m selected images size:  18\n",
            "\u001b[2m\u001b[36m(DefaultActor pid=1457)\u001b[0m output size:  256\n",
            "\u001b[2m\u001b[36m(DefaultActor pid=1457)\u001b[0m selected images size:  24\n",
            "\u001b[2m\u001b[36m(DefaultActor pid=1457)\u001b[0m output size:  101\n",
            "\u001b[2m\u001b[36m(DefaultActor pid=1457)\u001b[0m selected images size:  8\n",
            "\u001b[2m\u001b[36m(DefaultActor pid=1457)\u001b[0m output size:  256\n",
            "\u001b[2m\u001b[36m(DefaultActor pid=1457)\u001b[0m selected images size:  17\n",
            "\u001b[2m\u001b[36m(DefaultActor pid=1457)\u001b[0m output size:  256\n",
            "\u001b[2m\u001b[36m(DefaultActor pid=1457)\u001b[0m selected images size:  26\n",
            "\u001b[2m\u001b[36m(DefaultActor pid=1457)\u001b[0m output size:  256\n",
            "\u001b[2m\u001b[36m(DefaultActor pid=1457)\u001b[0m selected images size:  22\n",
            "\u001b[2m\u001b[36m(DefaultActor pid=1457)\u001b[0m output size:  256\n",
            "\u001b[2m\u001b[36m(DefaultActor pid=1457)\u001b[0m selected images size:  23\n",
            "\u001b[2m\u001b[36m(DefaultActor pid=1457)\u001b[0m output size:  256\n",
            "\u001b[2m\u001b[36m(DefaultActor pid=1457)\u001b[0m selected images size:  22\n",
            "\u001b[2m\u001b[36m(DefaultActor pid=1457)\u001b[0m output size:  256\n",
            "\u001b[2m\u001b[36m(DefaultActor pid=1457)\u001b[0m selected images size:  32\n",
            "\u001b[2m\u001b[36m(DefaultActor pid=1457)\u001b[0m output size:  101\n",
            "\u001b[2m\u001b[36m(DefaultActor pid=1457)\u001b[0m selected images size:  18\n",
            "\u001b[2m\u001b[36m(DefaultActor pid=1457)\u001b[0m ATTACKER\n",
            "\u001b[2m\u001b[36m(DefaultActor pid=1457)\u001b[0m output size:  256\n",
            "\u001b[2m\u001b[36m(DefaultActor pid=1457)\u001b[0m selected images size:  1\n",
            "\u001b[2m\u001b[36m(DefaultActor pid=1457)\u001b[0m output size:  256\n",
            "\u001b[2m\u001b[36m(DefaultActor pid=1457)\u001b[0m selected images size:  2\n",
            "\u001b[2m\u001b[36m(DefaultActor pid=1457)\u001b[0m output size:  256\n",
            "\u001b[2m\u001b[36m(DefaultActor pid=1457)\u001b[0m selected images size:  2\n",
            "\u001b[2m\u001b[36m(DefaultActor pid=1457)\u001b[0m output size:  256\n",
            "\u001b[2m\u001b[36m(DefaultActor pid=1457)\u001b[0m selected images size:  3\n",
            "\u001b[2m\u001b[36m(DefaultActor pid=1457)\u001b[0m output size:  256\n",
            "\u001b[2m\u001b[36m(DefaultActor pid=1457)\u001b[0m selected images size:  3\n",
            "\u001b[2m\u001b[36m(DefaultActor pid=1457)\u001b[0m output size:  256\n",
            "\u001b[2m\u001b[36m(DefaultActor pid=1457)\u001b[0m selected images size:  1\n",
            "\u001b[2m\u001b[36m(DefaultActor pid=1457)\u001b[0m output size:  256\n",
            "\u001b[2m\u001b[36m(DefaultActor pid=1457)\u001b[0m selected images size:  7\n",
            "\u001b[2m\u001b[36m(DefaultActor pid=1457)\u001b[0m output size:  256\n",
            "\u001b[2m\u001b[36m(DefaultActor pid=1457)\u001b[0m selected images size:  7\n",
            "\u001b[2m\u001b[36m(DefaultActor pid=1457)\u001b[0m output size:  101\n",
            "\u001b[2m\u001b[36m(DefaultActor pid=1457)\u001b[0m selected images size:  2\n",
            "\u001b[2m\u001b[36m(DefaultActor pid=1457)\u001b[0m output size:  256\n",
            "\u001b[2m\u001b[36m(DefaultActor pid=1457)\u001b[0m selected images size:  11\n",
            "\u001b[2m\u001b[36m(DefaultActor pid=1457)\u001b[0m output size:  256\n",
            "\u001b[2m\u001b[36m(DefaultActor pid=1457)\u001b[0m selected images size:  5\n",
            "\u001b[2m\u001b[36m(DefaultActor pid=1457)\u001b[0m output size:  256\n",
            "\u001b[2m\u001b[36m(DefaultActor pid=1457)\u001b[0m selected images size:  9\n",
            "\u001b[2m\u001b[36m(DefaultActor pid=1457)\u001b[0m output size:  256\n",
            "\u001b[2m\u001b[36m(DefaultActor pid=1457)\u001b[0m selected images size:  8\n",
            "\u001b[2m\u001b[36m(DefaultActor pid=1457)\u001b[0m output size:  256\n",
            "\u001b[2m\u001b[36m(DefaultActor pid=1457)\u001b[0m selected images size:  13\n",
            "\u001b[2m\u001b[36m(DefaultActor pid=1457)\u001b[0m output size:  256\n",
            "\u001b[2m\u001b[36m(DefaultActor pid=1457)\u001b[0m selected images size:  23\n",
            "\u001b[2m\u001b[36m(DefaultActor pid=1457)\u001b[0m output size:  101\n",
            "\u001b[2m\u001b[36m(DefaultActor pid=1457)\u001b[0m selected images size:  5\n",
            "\u001b[2m\u001b[36m(DefaultActor pid=1457)\u001b[0m output size:  256\n",
            "\u001b[2m\u001b[36m(DefaultActor pid=1457)\u001b[0m selected images size:  14\n",
            "\u001b[2m\u001b[36m(DefaultActor pid=1457)\u001b[0m output size:  256\n",
            "\u001b[2m\u001b[36m(DefaultActor pid=1457)\u001b[0m selected images size:  16\n",
            "\u001b[2m\u001b[36m(DefaultActor pid=1457)\u001b[0m output size:  256\n",
            "\u001b[2m\u001b[36m(DefaultActor pid=1457)\u001b[0m selected images size:  17\n",
            "\u001b[2m\u001b[36m(DefaultActor pid=1457)\u001b[0m output size:  256\n",
            "\u001b[2m\u001b[36m(DefaultActor pid=1457)\u001b[0m selected images size:  15\n",
            "\u001b[2m\u001b[36m(DefaultActor pid=1457)\u001b[0m output size:  256\n",
            "\u001b[2m\u001b[36m(DefaultActor pid=1457)\u001b[0m selected images size:  22\n",
            "\u001b[2m\u001b[36m(DefaultActor pid=1457)\u001b[0m output size:  256\n",
            "\u001b[2m\u001b[36m(DefaultActor pid=1457)\u001b[0m selected images size:  16\n",
            "\u001b[2m\u001b[36m(DefaultActor pid=1457)\u001b[0m output size:  101\n",
            "\u001b[2m\u001b[36m(DefaultActor pid=1457)\u001b[0m selected images size:  5\n",
            "\u001b[2m\u001b[36m(DefaultActor pid=1457)\u001b[0m output size:  256\n",
            "\u001b[2m\u001b[36m(DefaultActor pid=1457)\u001b[0m selected images size:  27\n",
            "\u001b[2m\u001b[36m(DefaultActor pid=1457)\u001b[0m output size:  256\n",
            "\u001b[2m\u001b[36m(DefaultActor pid=1457)\u001b[0m selected images size:  19\n",
            "\u001b[2m\u001b[36m(DefaultActor pid=1457)\u001b[0m output size:  256\n",
            "\u001b[2m\u001b[36m(DefaultActor pid=1457)\u001b[0m selected images size:  27\n",
            "\u001b[2m\u001b[36m(DefaultActor pid=1457)\u001b[0m output size:  256\n",
            "\u001b[2m\u001b[36m(DefaultActor pid=1457)\u001b[0m selected images size:  34\n",
            "\u001b[2m\u001b[36m(DefaultActor pid=1457)\u001b[0m output size:  256\n",
            "\u001b[2m\u001b[36m(DefaultActor pid=1457)\u001b[0m selected images size:  21\n",
            "\u001b[2m\u001b[36m(DefaultActor pid=1457)\u001b[0m output size:  256\n",
            "\u001b[2m\u001b[36m(DefaultActor pid=1457)\u001b[0m selected images size:  20\n",
            "\u001b[2m\u001b[36m(DefaultActor pid=1457)\u001b[0m output size:  101\n",
            "\u001b[2m\u001b[36m(DefaultActor pid=1457)\u001b[0m selected images size:  8\n",
            "\u001b[2m\u001b[36m(DefaultActor pid=1457)\u001b[0m output size:  256\n",
            "\u001b[2m\u001b[36m(DefaultActor pid=1457)\u001b[0m selected images size:  33\n",
            "\u001b[2m\u001b[36m(DefaultActor pid=1457)\u001b[0m output size:  256\n",
            "\u001b[2m\u001b[36m(DefaultActor pid=1457)\u001b[0m selected images size:  32\n",
            "\u001b[2m\u001b[36m(DefaultActor pid=1457)\u001b[0m output size:  256\n",
            "\u001b[2m\u001b[36m(DefaultActor pid=1457)\u001b[0m selected images size:  30\n",
            "\u001b[2m\u001b[36m(DefaultActor pid=1457)\u001b[0m output size:  256\n",
            "\u001b[2m\u001b[36m(DefaultActor pid=1457)\u001b[0m selected images size:  19\n",
            "\u001b[2m\u001b[36m(DefaultActor pid=1457)\u001b[0m output size:  256\n",
            "\u001b[2m\u001b[36m(DefaultActor pid=1457)\u001b[0m selected images size:  21\n",
            "\u001b[2m\u001b[36m(DefaultActor pid=1457)\u001b[0m output size:  256\n",
            "\u001b[2m\u001b[36m(DefaultActor pid=1457)\u001b[0m selected images size:  20\n",
            "\u001b[2m\u001b[36m(DefaultActor pid=1457)\u001b[0m output size:  101\n",
            "\u001b[2m\u001b[36m(DefaultActor pid=1457)\u001b[0m selected images size:  8\n",
            "\u001b[2m\u001b[36m(DefaultActor pid=1457)\u001b[0m output size:  256\n",
            "\u001b[2m\u001b[36m(DefaultActor pid=1457)\u001b[0m selected images size:  19\n",
            "\u001b[2m\u001b[36m(DefaultActor pid=1457)\u001b[0m output size:  256\n",
            "\u001b[2m\u001b[36m(DefaultActor pid=1457)\u001b[0m selected images size:  15\n",
            "\u001b[2m\u001b[36m(DefaultActor pid=1457)\u001b[0m output size:  256\n",
            "\u001b[2m\u001b[36m(DefaultActor pid=1457)\u001b[0m selected images size:  19\n",
            "\u001b[2m\u001b[36m(DefaultActor pid=1457)\u001b[0m output size:  256\n",
            "\u001b[2m\u001b[36m(DefaultActor pid=1457)\u001b[0m selected images size:  18\n",
            "\u001b[2m\u001b[36m(DefaultActor pid=1457)\u001b[0m output size:  256\n",
            "\u001b[2m\u001b[36m(DefaultActor pid=1457)\u001b[0m selected images size:  15\n",
            "\u001b[2m\u001b[36m(DefaultActor pid=1457)\u001b[0m output size:  256\n",
            "\u001b[2m\u001b[36m(DefaultActor pid=1457)\u001b[0m selected images size:  17\n",
            "\u001b[2m\u001b[36m(DefaultActor pid=1457)\u001b[0m output size:  101\n",
            "\u001b[2m\u001b[36m(DefaultActor pid=1457)\u001b[0m selected images size:  3\n",
            "\u001b[2m\u001b[36m(DefaultActor pid=1457)\u001b[0m output size:  256\n",
            "\u001b[2m\u001b[36m(DefaultActor pid=1457)\u001b[0m selected images size:  8\n",
            "\u001b[2m\u001b[36m(DefaultActor pid=1457)\u001b[0m output size:  256\n",
            "\u001b[2m\u001b[36m(DefaultActor pid=1457)\u001b[0m selected images size:  9\n",
            "\u001b[2m\u001b[36m(DefaultActor pid=1457)\u001b[0m output size:  256\n",
            "\u001b[2m\u001b[36m(DefaultActor pid=1457)\u001b[0m selected images size:  13\n",
            "\u001b[2m\u001b[36m(DefaultActor pid=1457)\u001b[0m output size:  256\n",
            "\u001b[2m\u001b[36m(DefaultActor pid=1457)\u001b[0m selected images size:  4\n",
            "\u001b[2m\u001b[36m(DefaultActor pid=1457)\u001b[0m output size:  256\n",
            "\u001b[2m\u001b[36m(DefaultActor pid=1457)\u001b[0m selected images size:  5\n",
            "\u001b[2m\u001b[36m(DefaultActor pid=1457)\u001b[0m output size:  256\n",
            "\u001b[2m\u001b[36m(DefaultActor pid=1457)\u001b[0m selected images size:  5\n",
            "\u001b[2m\u001b[36m(DefaultActor pid=1457)\u001b[0m output size:  101\n",
            "\u001b[2m\u001b[36m(DefaultActor pid=1457)\u001b[0m selected images size:  4\n",
            "\u001b[2m\u001b[36m(DefaultActor pid=1457)\u001b[0m output size:  256\n",
            "\u001b[2m\u001b[36m(DefaultActor pid=1457)\u001b[0m selected images size:  5\n",
            "\u001b[2m\u001b[36m(DefaultActor pid=1457)\u001b[0m output size:  256\n",
            "\u001b[2m\u001b[36m(DefaultActor pid=1457)\u001b[0m selected images size:  11\n",
            "\u001b[2m\u001b[36m(DefaultActor pid=1457)\u001b[0m output size:  256\n",
            "\u001b[2m\u001b[36m(DefaultActor pid=1457)\u001b[0m selected images size:  1\n",
            "\u001b[2m\u001b[36m(DefaultActor pid=1457)\u001b[0m output size:  256\n",
            "\u001b[2m\u001b[36m(DefaultActor pid=1457)\u001b[0m selected images size:  1\n",
            "\u001b[2m\u001b[36m(DefaultActor pid=1457)\u001b[0m output size:  256\n",
            "\u001b[2m\u001b[36m(DefaultActor pid=1457)\u001b[0m selected images size:  1\n"
          ]
        },
        {
          "output_type": "stream",
          "name": "stderr",
          "text": [
            "DEBUG flwr 2024-01-20 10:51:38,882 | server.py:236 | fit_round 32 received 10 results and 0 failures\n",
            "DEBUG:flwr:fit_round 32 received 10 results and 0 failures\n"
          ]
        },
        {
          "output_type": "stream",
          "name": "stdout",
          "text": [
            "Saving round 32 aggregated_parameters...\n"
          ]
        },
        {
          "output_type": "stream",
          "name": "stderr",
          "text": [
            "INFO flwr 2024-01-20 10:51:55,930 | server.py:125 | fit progress: (32, 296.0661606788635, {'accuracy': 0.7751937984496124}, 4427.736886963)\n",
            "INFO:flwr:fit progress: (32, 296.0661606788635, {'accuracy': 0.7751937984496124}, 4427.736886963)\n",
            "DEBUG flwr 2024-01-20 10:51:55,933 | server.py:173 | evaluate_round 32: strategy sampled 10 clients (out of 33)\n",
            "DEBUG:flwr:evaluate_round 32: strategy sampled 10 clients (out of 33)\n"
          ]
        },
        {
          "output_type": "stream",
          "name": "stdout",
          "text": [
            "GLOBAL TEST\n"
          ]
        },
        {
          "output_type": "stream",
          "name": "stderr",
          "text": [
            "DEBUG flwr 2024-01-20 10:51:59,511 | server.py:187 | evaluate_round 32 received 10 results and 0 failures\n",
            "DEBUG:flwr:evaluate_round 32 received 10 results and 0 failures\n",
            "DEBUG flwr 2024-01-20 10:51:59,514 | server.py:222 | fit_round 33: strategy sampled 10 clients (out of 33)\n",
            "DEBUG:flwr:fit_round 33: strategy sampled 10 clients (out of 33)\n",
            "DEBUG flwr 2024-01-20 10:53:16,935 | server.py:236 | fit_round 33 received 10 results and 0 failures\n",
            "DEBUG:flwr:fit_round 33 received 10 results and 0 failures\n"
          ]
        },
        {
          "output_type": "stream",
          "name": "stdout",
          "text": [
            "Saving round 33 aggregated_parameters...\n"
          ]
        },
        {
          "output_type": "stream",
          "name": "stderr",
          "text": [
            "INFO flwr 2024-01-20 10:53:32,609 | server.py:125 | fit progress: (33, 295.9326423406601, {'accuracy': 0.4844961240310077}, 4524.415884065)\n",
            "INFO:flwr:fit progress: (33, 295.9326423406601, {'accuracy': 0.4844961240310077}, 4524.415884065)\n",
            "DEBUG flwr 2024-01-20 10:53:32,612 | server.py:173 | evaluate_round 33: strategy sampled 10 clients (out of 33)\n",
            "DEBUG:flwr:evaluate_round 33: strategy sampled 10 clients (out of 33)\n"
          ]
        },
        {
          "output_type": "stream",
          "name": "stdout",
          "text": [
            "GLOBAL TEST\n"
          ]
        },
        {
          "output_type": "stream",
          "name": "stderr",
          "text": [
            "DEBUG flwr 2024-01-20 10:53:36,224 | server.py:187 | evaluate_round 33 received 10 results and 0 failures\n",
            "DEBUG:flwr:evaluate_round 33 received 10 results and 0 failures\n",
            "DEBUG flwr 2024-01-20 10:53:36,227 | server.py:222 | fit_round 34: strategy sampled 10 clients (out of 33)\n",
            "DEBUG:flwr:fit_round 34: strategy sampled 10 clients (out of 33)\n"
          ]
        },
        {
          "output_type": "stream",
          "name": "stdout",
          "text": [
            "\u001b[2m\u001b[36m(DefaultActor pid=1457)\u001b[0m ATTACKER\n",
            "\u001b[2m\u001b[36m(DefaultActor pid=1457)\u001b[0m output size:  256\n",
            "\u001b[2m\u001b[36m(DefaultActor pid=1457)\u001b[0m selected images size:  2\n",
            "\u001b[2m\u001b[36m(DefaultActor pid=1457)\u001b[0m output size:  101\n",
            "\u001b[2m\u001b[36m(DefaultActor pid=1457)\u001b[0m selected images size:  1\n",
            "\u001b[2m\u001b[36m(DefaultActor pid=1457)\u001b[0m output size:  256\n",
            "\u001b[2m\u001b[36m(DefaultActor pid=1457)\u001b[0m selected images size:  4\n",
            "\u001b[2m\u001b[36m(DefaultActor pid=1457)\u001b[0m output size:  256\n",
            "\u001b[2m\u001b[36m(DefaultActor pid=1457)\u001b[0m selected images size:  10\n",
            "\u001b[2m\u001b[36m(DefaultActor pid=1457)\u001b[0m output size:  256\n",
            "\u001b[2m\u001b[36m(DefaultActor pid=1457)\u001b[0m selected images size:  1\n",
            "\u001b[2m\u001b[36m(DefaultActor pid=1457)\u001b[0m output size:  256\n",
            "\u001b[2m\u001b[36m(DefaultActor pid=1457)\u001b[0m selected images size:  3\n",
            "\u001b[2m\u001b[36m(DefaultActor pid=1457)\u001b[0m output size:  256\n",
            "\u001b[2m\u001b[36m(DefaultActor pid=1457)\u001b[0m selected images size:  2\n",
            "\u001b[2m\u001b[36m(DefaultActor pid=1457)\u001b[0m output size:  256\n",
            "\u001b[2m\u001b[36m(DefaultActor pid=1457)\u001b[0m selected images size:  6\n",
            "\u001b[2m\u001b[36m(DefaultActor pid=1457)\u001b[0m output size:  101\n",
            "\u001b[2m\u001b[36m(DefaultActor pid=1457)\u001b[0m selected images size:  1\n",
            "\u001b[2m\u001b[36m(DefaultActor pid=1457)\u001b[0m output size:  256\n",
            "\u001b[2m\u001b[36m(DefaultActor pid=1457)\u001b[0m selected images size:  6\n",
            "\u001b[2m\u001b[36m(DefaultActor pid=1457)\u001b[0m output size:  256\n",
            "\u001b[2m\u001b[36m(DefaultActor pid=1457)\u001b[0m selected images size:  9\n",
            "\u001b[2m\u001b[36m(DefaultActor pid=1457)\u001b[0m output size:  256\n",
            "\u001b[2m\u001b[36m(DefaultActor pid=1457)\u001b[0m selected images size:  14\n",
            "\u001b[2m\u001b[36m(DefaultActor pid=1457)\u001b[0m output size:  256\n",
            "\u001b[2m\u001b[36m(DefaultActor pid=1457)\u001b[0m selected images size:  15\n",
            "\u001b[2m\u001b[36m(DefaultActor pid=1457)\u001b[0m output size:  256\n",
            "\u001b[2m\u001b[36m(DefaultActor pid=1457)\u001b[0m selected images size:  18\n",
            "\u001b[2m\u001b[36m(DefaultActor pid=1457)\u001b[0m output size:  256\n",
            "\u001b[2m\u001b[36m(DefaultActor pid=1457)\u001b[0m selected images size:  16\n",
            "\u001b[2m\u001b[36m(DefaultActor pid=1457)\u001b[0m output size:  101\n",
            "\u001b[2m\u001b[36m(DefaultActor pid=1457)\u001b[0m selected images size:  6\n",
            "\u001b[2m\u001b[36m(DefaultActor pid=1457)\u001b[0m output size:  256\n",
            "\u001b[2m\u001b[36m(DefaultActor pid=1457)\u001b[0m selected images size:  22\n",
            "\u001b[2m\u001b[36m(DefaultActor pid=1457)\u001b[0m output size:  256\n",
            "\u001b[2m\u001b[36m(DefaultActor pid=1457)\u001b[0m selected images size:  15\n",
            "\u001b[2m\u001b[36m(DefaultActor pid=1457)\u001b[0m output size:  256\n",
            "\u001b[2m\u001b[36m(DefaultActor pid=1457)\u001b[0m selected images size:  12\n",
            "\u001b[2m\u001b[36m(DefaultActor pid=1457)\u001b[0m output size:  256\n",
            "\u001b[2m\u001b[36m(DefaultActor pid=1457)\u001b[0m selected images size:  15\n",
            "\u001b[2m\u001b[36m(DefaultActor pid=1457)\u001b[0m output size:  256\n",
            "\u001b[2m\u001b[36m(DefaultActor pid=1457)\u001b[0m selected images size:  8\n",
            "\u001b[2m\u001b[36m(DefaultActor pid=1457)\u001b[0m output size:  256\n",
            "\u001b[2m\u001b[36m(DefaultActor pid=1457)\u001b[0m selected images size:  7\n",
            "\u001b[2m\u001b[36m(DefaultActor pid=1457)\u001b[0m output size:  101\n",
            "\u001b[2m\u001b[36m(DefaultActor pid=1457)\u001b[0m selected images size:  3\n",
            "\u001b[2m\u001b[36m(DefaultActor pid=1457)\u001b[0m output size:  256\n",
            "\u001b[2m\u001b[36m(DefaultActor pid=1457)\u001b[0m selected images size:  8\n",
            "\u001b[2m\u001b[36m(DefaultActor pid=1457)\u001b[0m output size:  256\n",
            "\u001b[2m\u001b[36m(DefaultActor pid=1457)\u001b[0m selected images size:  9\n",
            "\u001b[2m\u001b[36m(DefaultActor pid=1457)\u001b[0m output size:  256\n",
            "\u001b[2m\u001b[36m(DefaultActor pid=1457)\u001b[0m selected images size:  6\n",
            "\u001b[2m\u001b[36m(DefaultActor pid=1457)\u001b[0m output size:  256\n",
            "\u001b[2m\u001b[36m(DefaultActor pid=1457)\u001b[0m selected images size:  15\n",
            "\u001b[2m\u001b[36m(DefaultActor pid=1457)\u001b[0m output size:  256\n",
            "\u001b[2m\u001b[36m(DefaultActor pid=1457)\u001b[0m selected images size:  8\n",
            "\u001b[2m\u001b[36m(DefaultActor pid=1457)\u001b[0m output size:  256\n",
            "\u001b[2m\u001b[36m(DefaultActor pid=1457)\u001b[0m selected images size:  3\n",
            "\u001b[2m\u001b[36m(DefaultActor pid=1457)\u001b[0m output size:  101\n",
            "\u001b[2m\u001b[36m(DefaultActor pid=1457)\u001b[0m selected images size:  1\n",
            "\u001b[2m\u001b[36m(DefaultActor pid=1457)\u001b[0m output size:  256\n",
            "\u001b[2m\u001b[36m(DefaultActor pid=1457)\u001b[0m selected images size:  7\n",
            "\u001b[2m\u001b[36m(DefaultActor pid=1457)\u001b[0m output size:  256\n",
            "\u001b[2m\u001b[36m(DefaultActor pid=1457)\u001b[0m selected images size:  6\n",
            "\u001b[2m\u001b[36m(DefaultActor pid=1457)\u001b[0m output size:  256\n",
            "\u001b[2m\u001b[36m(DefaultActor pid=1457)\u001b[0m selected images size:  7\n",
            "\u001b[2m\u001b[36m(DefaultActor pid=1457)\u001b[0m output size:  256\n",
            "\u001b[2m\u001b[36m(DefaultActor pid=1457)\u001b[0m selected images size:  9\n",
            "\u001b[2m\u001b[36m(DefaultActor pid=1457)\u001b[0m output size:  256\n",
            "\u001b[2m\u001b[36m(DefaultActor pid=1457)\u001b[0m selected images size:  7\n",
            "\u001b[2m\u001b[36m(DefaultActor pid=1457)\u001b[0m output size:  256\n",
            "\u001b[2m\u001b[36m(DefaultActor pid=1457)\u001b[0m selected images size:  8\n",
            "\u001b[2m\u001b[36m(DefaultActor pid=1457)\u001b[0m output size:  101\n",
            "\u001b[2m\u001b[36m(DefaultActor pid=1457)\u001b[0m selected images size:  4\n",
            "\u001b[2m\u001b[36m(DefaultActor pid=1457)\u001b[0m output size:  256\n",
            "\u001b[2m\u001b[36m(DefaultActor pid=1457)\u001b[0m selected images size:  8\n",
            "\u001b[2m\u001b[36m(DefaultActor pid=1457)\u001b[0m output size:  256\n",
            "\u001b[2m\u001b[36m(DefaultActor pid=1457)\u001b[0m selected images size:  5\n",
            "\u001b[2m\u001b[36m(DefaultActor pid=1457)\u001b[0m output size:  256\n",
            "\u001b[2m\u001b[36m(DefaultActor pid=1457)\u001b[0m selected images size:  7\n",
            "\u001b[2m\u001b[36m(DefaultActor pid=1457)\u001b[0m output size:  256\n",
            "\u001b[2m\u001b[36m(DefaultActor pid=1457)\u001b[0m selected images size:  4\n",
            "\u001b[2m\u001b[36m(DefaultActor pid=1457)\u001b[0m output size:  256\n",
            "\u001b[2m\u001b[36m(DefaultActor pid=1457)\u001b[0m selected images size:  4\n",
            "\u001b[2m\u001b[36m(DefaultActor pid=1457)\u001b[0m output size:  256\n",
            "\u001b[2m\u001b[36m(DefaultActor pid=1457)\u001b[0m selected images size:  8\n",
            "\u001b[2m\u001b[36m(DefaultActor pid=1457)\u001b[0m output size:  101\n",
            "\u001b[2m\u001b[36m(DefaultActor pid=1457)\u001b[0m selected images size:  2\n",
            "\u001b[2m\u001b[36m(DefaultActor pid=1457)\u001b[0m output size:  256\n",
            "\u001b[2m\u001b[36m(DefaultActor pid=1457)\u001b[0m selected images size:  6\n",
            "\u001b[2m\u001b[36m(DefaultActor pid=1457)\u001b[0m output size:  256\n",
            "\u001b[2m\u001b[36m(DefaultActor pid=1457)\u001b[0m selected images size:  15\n",
            "\u001b[2m\u001b[36m(DefaultActor pid=1457)\u001b[0m output size:  256\n",
            "\u001b[2m\u001b[36m(DefaultActor pid=1457)\u001b[0m selected images size:  20\n",
            "\u001b[2m\u001b[36m(DefaultActor pid=1457)\u001b[0m output size:  256\n",
            "\u001b[2m\u001b[36m(DefaultActor pid=1457)\u001b[0m selected images size:  20\n",
            "\u001b[2m\u001b[36m(DefaultActor pid=1457)\u001b[0m output size:  256\n",
            "\u001b[2m\u001b[36m(DefaultActor pid=1457)\u001b[0m selected images size:  15\n",
            "\u001b[2m\u001b[36m(DefaultActor pid=1457)\u001b[0m output size:  256\n",
            "\u001b[2m\u001b[36m(DefaultActor pid=1457)\u001b[0m selected images size:  13\n",
            "\u001b[2m\u001b[36m(DefaultActor pid=1457)\u001b[0m output size:  101\n",
            "\u001b[2m\u001b[36m(DefaultActor pid=1457)\u001b[0m selected images size:  9\n",
            "\u001b[2m\u001b[36m(DefaultActor pid=1457)\u001b[0m output size:  256\n",
            "\u001b[2m\u001b[36m(DefaultActor pid=1457)\u001b[0m selected images size:  15\n",
            "\u001b[2m\u001b[36m(DefaultActor pid=1457)\u001b[0m output size:  256\n",
            "\u001b[2m\u001b[36m(DefaultActor pid=1457)\u001b[0m selected images size:  10\n",
            "\u001b[2m\u001b[36m(DefaultActor pid=1457)\u001b[0m output size:  256\n",
            "\u001b[2m\u001b[36m(DefaultActor pid=1457)\u001b[0m selected images size:  9\n",
            "\u001b[2m\u001b[36m(DefaultActor pid=1457)\u001b[0m output size:  256\n",
            "\u001b[2m\u001b[36m(DefaultActor pid=1457)\u001b[0m selected images size:  11\n",
            "\u001b[2m\u001b[36m(DefaultActor pid=1457)\u001b[0m output size:  256\n",
            "\u001b[2m\u001b[36m(DefaultActor pid=1457)\u001b[0m selected images size:  10\n",
            "\u001b[2m\u001b[36m(DefaultActor pid=1457)\u001b[0m output size:  256\n",
            "\u001b[2m\u001b[36m(DefaultActor pid=1457)\u001b[0m selected images size:  13\n",
            "\u001b[2m\u001b[36m(DefaultActor pid=1457)\u001b[0m output size:  101\n",
            "\u001b[2m\u001b[36m(DefaultActor pid=1457)\u001b[0m selected images size:  3\n",
            "\u001b[2m\u001b[36m(DefaultActor pid=1457)\u001b[0m output size:  256\n",
            "\u001b[2m\u001b[36m(DefaultActor pid=1457)\u001b[0m selected images size:  7\n",
            "\u001b[2m\u001b[36m(DefaultActor pid=1457)\u001b[0m output size:  256\n",
            "\u001b[2m\u001b[36m(DefaultActor pid=1457)\u001b[0m selected images size:  12\n",
            "\u001b[2m\u001b[36m(DefaultActor pid=1457)\u001b[0m output size:  256\n",
            "\u001b[2m\u001b[36m(DefaultActor pid=1457)\u001b[0m selected images size:  6\n",
            "\u001b[2m\u001b[36m(DefaultActor pid=1457)\u001b[0m output size:  256\n",
            "\u001b[2m\u001b[36m(DefaultActor pid=1457)\u001b[0m selected images size:  9\n",
            "\u001b[2m\u001b[36m(DefaultActor pid=1457)\u001b[0m output size:  256\n",
            "\u001b[2m\u001b[36m(DefaultActor pid=1457)\u001b[0m selected images size:  14\n",
            "\u001b[2m\u001b[36m(DefaultActor pid=1457)\u001b[0m output size:  256\n",
            "\u001b[2m\u001b[36m(DefaultActor pid=1457)\u001b[0m selected images size:  10\n",
            "\u001b[2m\u001b[36m(DefaultActor pid=1457)\u001b[0m output size:  101\n",
            "\u001b[2m\u001b[36m(DefaultActor pid=1457)\u001b[0m selected images size:  3\n",
            "\u001b[2m\u001b[36m(DefaultActor pid=1457)\u001b[0m output size:  256\n",
            "\u001b[2m\u001b[36m(DefaultActor pid=1457)\u001b[0m selected images size:  13\n",
            "\u001b[2m\u001b[36m(DefaultActor pid=1457)\u001b[0m output size:  256\n",
            "\u001b[2m\u001b[36m(DefaultActor pid=1457)\u001b[0m selected images size:  15\n",
            "\u001b[2m\u001b[36m(DefaultActor pid=1457)\u001b[0m output size:  256\n",
            "\u001b[2m\u001b[36m(DefaultActor pid=1457)\u001b[0m selected images size:  10\n",
            "\u001b[2m\u001b[36m(DefaultActor pid=1457)\u001b[0m output size:  256\n",
            "\u001b[2m\u001b[36m(DefaultActor pid=1457)\u001b[0m selected images size:  10\n",
            "\u001b[2m\u001b[36m(DefaultActor pid=1457)\u001b[0m output size:  256\n",
            "\u001b[2m\u001b[36m(DefaultActor pid=1457)\u001b[0m selected images size:  9\n",
            "\u001b[2m\u001b[36m(DefaultActor pid=1457)\u001b[0m output size:  256\n",
            "\u001b[2m\u001b[36m(DefaultActor pid=1457)\u001b[0m selected images size:  14\n",
            "\u001b[2m\u001b[36m(DefaultActor pid=1457)\u001b[0m output size:  101\n",
            "\u001b[2m\u001b[36m(DefaultActor pid=1457)\u001b[0m selected images size:  10\n",
            "\u001b[2m\u001b[36m(DefaultActor pid=1457)\u001b[0m output size:  256\n",
            "\u001b[2m\u001b[36m(DefaultActor pid=1457)\u001b[0m selected images size:  18\n",
            "\u001b[2m\u001b[36m(DefaultActor pid=1457)\u001b[0m output size:  256\n",
            "\u001b[2m\u001b[36m(DefaultActor pid=1457)\u001b[0m selected images size:  22\n",
            "\u001b[2m\u001b[36m(DefaultActor pid=1457)\u001b[0m output size:  256\n",
            "\u001b[2m\u001b[36m(DefaultActor pid=1457)\u001b[0m selected images size:  27\n",
            "\u001b[2m\u001b[36m(DefaultActor pid=1457)\u001b[0m output size:  256\n",
            "\u001b[2m\u001b[36m(DefaultActor pid=1457)\u001b[0m selected images size:  33\n",
            "\u001b[2m\u001b[36m(DefaultActor pid=1457)\u001b[0m output size:  256\n",
            "\u001b[2m\u001b[36m(DefaultActor pid=1457)\u001b[0m selected images size:  39\n",
            "\u001b[2m\u001b[36m(DefaultActor pid=1457)\u001b[0m output size:  256\n",
            "\u001b[2m\u001b[36m(DefaultActor pid=1457)\u001b[0m selected images size:  32\n",
            "\u001b[2m\u001b[36m(DefaultActor pid=1457)\u001b[0m output size:  101\n",
            "\u001b[2m\u001b[36m(DefaultActor pid=1457)\u001b[0m selected images size:  13\n",
            "\u001b[2m\u001b[36m(DefaultActor pid=1457)\u001b[0m output size:  256\n",
            "\u001b[2m\u001b[36m(DefaultActor pid=1457)\u001b[0m selected images size:  35\n",
            "\u001b[2m\u001b[36m(DefaultActor pid=1457)\u001b[0m output size:  256\n",
            "\u001b[2m\u001b[36m(DefaultActor pid=1457)\u001b[0m selected images size:  37\n",
            "\u001b[2m\u001b[36m(DefaultActor pid=1457)\u001b[0m output size:  256\n",
            "\u001b[2m\u001b[36m(DefaultActor pid=1457)\u001b[0m selected images size:  49\n",
            "\u001b[2m\u001b[36m(DefaultActor pid=1457)\u001b[0m output size:  256\n",
            "\u001b[2m\u001b[36m(DefaultActor pid=1457)\u001b[0m selected images size:  45\n",
            "\u001b[2m\u001b[36m(DefaultActor pid=1457)\u001b[0m output size:  256\n",
            "\u001b[2m\u001b[36m(DefaultActor pid=1457)\u001b[0m selected images size:  48\n",
            "\u001b[2m\u001b[36m(DefaultActor pid=1457)\u001b[0m output size:  256\n",
            "\u001b[2m\u001b[36m(DefaultActor pid=1457)\u001b[0m selected images size:  38\n",
            "\u001b[2m\u001b[36m(DefaultActor pid=1457)\u001b[0m output size:  101\n",
            "\u001b[2m\u001b[36m(DefaultActor pid=1457)\u001b[0m selected images size:  9\n"
          ]
        },
        {
          "output_type": "stream",
          "name": "stderr",
          "text": [
            "DEBUG flwr 2024-01-20 10:55:41,596 | server.py:236 | fit_round 34 received 10 results and 0 failures\n",
            "DEBUG:flwr:fit_round 34 received 10 results and 0 failures\n"
          ]
        },
        {
          "output_type": "stream",
          "name": "stdout",
          "text": [
            "Saving round 34 aggregated_parameters...\n"
          ]
        },
        {
          "output_type": "stream",
          "name": "stderr",
          "text": [
            "INFO flwr 2024-01-20 10:55:57,183 | server.py:125 | fit progress: (34, 295.8844748735428, {'accuracy': 0.4844961240310077}, 4668.990257058)\n",
            "INFO:flwr:fit progress: (34, 295.8844748735428, {'accuracy': 0.4844961240310077}, 4668.990257058)\n",
            "DEBUG flwr 2024-01-20 10:55:57,188 | server.py:173 | evaluate_round 34: strategy sampled 10 clients (out of 33)\n",
            "DEBUG:flwr:evaluate_round 34: strategy sampled 10 clients (out of 33)\n"
          ]
        },
        {
          "output_type": "stream",
          "name": "stdout",
          "text": [
            "GLOBAL TEST\n"
          ]
        },
        {
          "output_type": "stream",
          "name": "stderr",
          "text": [
            "DEBUG flwr 2024-01-20 10:56:01,035 | server.py:187 | evaluate_round 34 received 10 results and 0 failures\n",
            "DEBUG:flwr:evaluate_round 34 received 10 results and 0 failures\n",
            "DEBUG flwr 2024-01-20 10:56:01,038 | server.py:222 | fit_round 35: strategy sampled 10 clients (out of 33)\n",
            "DEBUG:flwr:fit_round 35: strategy sampled 10 clients (out of 33)\n"
          ]
        },
        {
          "output_type": "stream",
          "name": "stdout",
          "text": [
            "\u001b[2m\u001b[36m(DefaultActor pid=1457)\u001b[0m ATTACKER\n",
            "\u001b[2m\u001b[36m(DefaultActor pid=1457)\u001b[0m output size:  256\n",
            "\u001b[2m\u001b[36m(DefaultActor pid=1457)\u001b[0m selected images size:  1\n",
            "\u001b[2m\u001b[36m(DefaultActor pid=1457)\u001b[0m output size:  256\n",
            "\u001b[2m\u001b[36m(DefaultActor pid=1457)\u001b[0m selected images size:  3\n",
            "\u001b[2m\u001b[36m(DefaultActor pid=1457)\u001b[0m output size:  256\n",
            "\u001b[2m\u001b[36m(DefaultActor pid=1457)\u001b[0m selected images size:  2\n",
            "\u001b[2m\u001b[36m(DefaultActor pid=1457)\u001b[0m output size:  256\n",
            "\u001b[2m\u001b[36m(DefaultActor pid=1457)\u001b[0m selected images size:  2\n",
            "\u001b[2m\u001b[36m(DefaultActor pid=1457)\u001b[0m output size:  256\n",
            "\u001b[2m\u001b[36m(DefaultActor pid=1457)\u001b[0m selected images size:  3\n",
            "\u001b[2m\u001b[36m(DefaultActor pid=1457)\u001b[0m output size:  256\n",
            "\u001b[2m\u001b[36m(DefaultActor pid=1457)\u001b[0m selected images size:  3\n",
            "\u001b[2m\u001b[36m(DefaultActor pid=1457)\u001b[0m output size:  256\n",
            "\u001b[2m\u001b[36m(DefaultActor pid=1457)\u001b[0m selected images size:  1\n",
            "\u001b[2m\u001b[36m(DefaultActor pid=1457)\u001b[0m output size:  101\n",
            "\u001b[2m\u001b[36m(DefaultActor pid=1457)\u001b[0m selected images size:  1\n",
            "\u001b[2m\u001b[36m(DefaultActor pid=1457)\u001b[0m output size:  256\n",
            "\u001b[2m\u001b[36m(DefaultActor pid=1457)\u001b[0m selected images size:  1\n",
            "\u001b[2m\u001b[36m(DefaultActor pid=1457)\u001b[0m output size:  256\n",
            "\u001b[2m\u001b[36m(DefaultActor pid=1457)\u001b[0m selected images size:  1\n",
            "\u001b[2m\u001b[36m(DefaultActor pid=1457)\u001b[0m output size:  256\n",
            "\u001b[2m\u001b[36m(DefaultActor pid=1457)\u001b[0m selected images size:  1\n",
            "\u001b[2m\u001b[36m(DefaultActor pid=1457)\u001b[0m output size:  256\n",
            "\u001b[2m\u001b[36m(DefaultActor pid=1457)\u001b[0m selected images size:  2\n",
            "\u001b[2m\u001b[36m(DefaultActor pid=1457)\u001b[0m output size:  101\n",
            "\u001b[2m\u001b[36m(DefaultActor pid=1457)\u001b[0m selected images size:  1\n",
            "\u001b[2m\u001b[36m(DefaultActor pid=1457)\u001b[0m output size:  256\n",
            "\u001b[2m\u001b[36m(DefaultActor pid=1457)\u001b[0m selected images size:  1\n",
            "\u001b[2m\u001b[36m(DefaultActor pid=1457)\u001b[0m output size:  256\n",
            "\u001b[2m\u001b[36m(DefaultActor pid=1457)\u001b[0m selected images size:  2\n",
            "\u001b[2m\u001b[36m(DefaultActor pid=1457)\u001b[0m output size:  256\n",
            "\u001b[2m\u001b[36m(DefaultActor pid=1457)\u001b[0m selected images size:  4\n",
            "\u001b[2m\u001b[36m(DefaultActor pid=1457)\u001b[0m output size:  256\n",
            "\u001b[2m\u001b[36m(DefaultActor pid=1457)\u001b[0m selected images size:  2\n",
            "\u001b[2m\u001b[36m(DefaultActor pid=1457)\u001b[0m output size:  256\n",
            "\u001b[2m\u001b[36m(DefaultActor pid=1457)\u001b[0m selected images size:  1\n",
            "\u001b[2m\u001b[36m(DefaultActor pid=1457)\u001b[0m output size:  101\n",
            "\u001b[2m\u001b[36m(DefaultActor pid=1457)\u001b[0m selected images size:  1\n",
            "\u001b[2m\u001b[36m(DefaultActor pid=1457)\u001b[0m output size:  256\n",
            "\u001b[2m\u001b[36m(DefaultActor pid=1457)\u001b[0m selected images size:  2\n",
            "\u001b[2m\u001b[36m(DefaultActor pid=1457)\u001b[0m output size:  256\n",
            "\u001b[2m\u001b[36m(DefaultActor pid=1457)\u001b[0m selected images size:  1\n",
            "\u001b[2m\u001b[36m(DefaultActor pid=1457)\u001b[0m output size:  256\n",
            "\u001b[2m\u001b[36m(DefaultActor pid=1457)\u001b[0m selected images size:  4\n",
            "\u001b[2m\u001b[36m(DefaultActor pid=1457)\u001b[0m output size:  256\n",
            "\u001b[2m\u001b[36m(DefaultActor pid=1457)\u001b[0m selected images size:  4\n",
            "\u001b[2m\u001b[36m(DefaultActor pid=1457)\u001b[0m output size:  101\n",
            "\u001b[2m\u001b[36m(DefaultActor pid=1457)\u001b[0m selected images size:  1\n",
            "\u001b[2m\u001b[36m(DefaultActor pid=1457)\u001b[0m output size:  256\n",
            "\u001b[2m\u001b[36m(DefaultActor pid=1457)\u001b[0m selected images size:  8\n",
            "\u001b[2m\u001b[36m(DefaultActor pid=1457)\u001b[0m output size:  256\n",
            "\u001b[2m\u001b[36m(DefaultActor pid=1457)\u001b[0m selected images size:  9\n",
            "\u001b[2m\u001b[36m(DefaultActor pid=1457)\u001b[0m output size:  256\n",
            "\u001b[2m\u001b[36m(DefaultActor pid=1457)\u001b[0m selected images size:  14\n",
            "\u001b[2m\u001b[36m(DefaultActor pid=1457)\u001b[0m output size:  256\n",
            "\u001b[2m\u001b[36m(DefaultActor pid=1457)\u001b[0m selected images size:  8\n",
            "\u001b[2m\u001b[36m(DefaultActor pid=1457)\u001b[0m output size:  256\n",
            "\u001b[2m\u001b[36m(DefaultActor pid=1457)\u001b[0m selected images size:  13\n",
            "\u001b[2m\u001b[36m(DefaultActor pid=1457)\u001b[0m output size:  256\n",
            "\u001b[2m\u001b[36m(DefaultActor pid=1457)\u001b[0m selected images size:  9\n",
            "\u001b[2m\u001b[36m(DefaultActor pid=1457)\u001b[0m output size:  101\n",
            "\u001b[2m\u001b[36m(DefaultActor pid=1457)\u001b[0m selected images size:  7\n",
            "\u001b[2m\u001b[36m(DefaultActor pid=1457)\u001b[0m output size:  256\n",
            "\u001b[2m\u001b[36m(DefaultActor pid=1457)\u001b[0m selected images size:  4\n",
            "\u001b[2m\u001b[36m(DefaultActor pid=1457)\u001b[0m output size:  256\n",
            "\u001b[2m\u001b[36m(DefaultActor pid=1457)\u001b[0m selected images size:  3\n",
            "\u001b[2m\u001b[36m(DefaultActor pid=1457)\u001b[0m output size:  256\n",
            "\u001b[2m\u001b[36m(DefaultActor pid=1457)\u001b[0m selected images size:  7\n",
            "\u001b[2m\u001b[36m(DefaultActor pid=1457)\u001b[0m output size:  256\n",
            "\u001b[2m\u001b[36m(DefaultActor pid=1457)\u001b[0m selected images size:  3\n",
            "\u001b[2m\u001b[36m(DefaultActor pid=1457)\u001b[0m output size:  256\n",
            "\u001b[2m\u001b[36m(DefaultActor pid=1457)\u001b[0m selected images size:  3\n",
            "\u001b[2m\u001b[36m(DefaultActor pid=1457)\u001b[0m output size:  256\n",
            "\u001b[2m\u001b[36m(DefaultActor pid=1457)\u001b[0m selected images size:  1\n",
            "\u001b[2m\u001b[36m(DefaultActor pid=1457)\u001b[0m output size:  256\n",
            "\u001b[2m\u001b[36m(DefaultActor pid=1457)\u001b[0m selected images size:  2\n",
            "\u001b[2m\u001b[36m(DefaultActor pid=1457)\u001b[0m output size:  256\n",
            "\u001b[2m\u001b[36m(DefaultActor pid=1457)\u001b[0m selected images size:  2\n",
            "\u001b[2m\u001b[36m(DefaultActor pid=1457)\u001b[0m output size:  256\n",
            "\u001b[2m\u001b[36m(DefaultActor pid=1457)\u001b[0m selected images size:  3\n",
            "\u001b[2m\u001b[36m(DefaultActor pid=1457)\u001b[0m output size:  256\n",
            "\u001b[2m\u001b[36m(DefaultActor pid=1457)\u001b[0m selected images size:  2\n",
            "\u001b[2m\u001b[36m(DefaultActor pid=1457)\u001b[0m output size:  101\n",
            "\u001b[2m\u001b[36m(DefaultActor pid=1457)\u001b[0m selected images size:  2\n",
            "\u001b[2m\u001b[36m(DefaultActor pid=1457)\u001b[0m output size:  256\n",
            "\u001b[2m\u001b[36m(DefaultActor pid=1457)\u001b[0m selected images size:  1\n",
            "\u001b[2m\u001b[36m(DefaultActor pid=1457)\u001b[0m output size:  256\n",
            "\u001b[2m\u001b[36m(DefaultActor pid=1457)\u001b[0m selected images size:  4\n",
            "\u001b[2m\u001b[36m(DefaultActor pid=1457)\u001b[0m output size:  256\n",
            "\u001b[2m\u001b[36m(DefaultActor pid=1457)\u001b[0m selected images size:  2\n",
            "\u001b[2m\u001b[36m(DefaultActor pid=1457)\u001b[0m output size:  256\n",
            "\u001b[2m\u001b[36m(DefaultActor pid=1457)\u001b[0m selected images size:  8\n",
            "\u001b[2m\u001b[36m(DefaultActor pid=1457)\u001b[0m output size:  256\n",
            "\u001b[2m\u001b[36m(DefaultActor pid=1457)\u001b[0m selected images size:  12\n",
            "\u001b[2m\u001b[36m(DefaultActor pid=1457)\u001b[0m output size:  256\n",
            "\u001b[2m\u001b[36m(DefaultActor pid=1457)\u001b[0m selected images size:  18\n",
            "\u001b[2m\u001b[36m(DefaultActor pid=1457)\u001b[0m output size:  101\n",
            "\u001b[2m\u001b[36m(DefaultActor pid=1457)\u001b[0m selected images size:  8\n",
            "\u001b[2m\u001b[36m(DefaultActor pid=1457)\u001b[0m output size:  256\n",
            "\u001b[2m\u001b[36m(DefaultActor pid=1457)\u001b[0m selected images size:  26\n",
            "\u001b[2m\u001b[36m(DefaultActor pid=1457)\u001b[0m output size:  256\n",
            "\u001b[2m\u001b[36m(DefaultActor pid=1457)\u001b[0m selected images size:  31\n",
            "\u001b[2m\u001b[36m(DefaultActor pid=1457)\u001b[0m output size:  256\n",
            "\u001b[2m\u001b[36m(DefaultActor pid=1457)\u001b[0m selected images size:  24\n",
            "\u001b[2m\u001b[36m(DefaultActor pid=1457)\u001b[0m output size:  256\n",
            "\u001b[2m\u001b[36m(DefaultActor pid=1457)\u001b[0m selected images size:  27\n",
            "\u001b[2m\u001b[36m(DefaultActor pid=1457)\u001b[0m output size:  256\n",
            "\u001b[2m\u001b[36m(DefaultActor pid=1457)\u001b[0m selected images size:  20\n",
            "\u001b[2m\u001b[36m(DefaultActor pid=1457)\u001b[0m output size:  256\n",
            "\u001b[2m\u001b[36m(DefaultActor pid=1457)\u001b[0m selected images size:  18\n",
            "\u001b[2m\u001b[36m(DefaultActor pid=1457)\u001b[0m output size:  101\n",
            "\u001b[2m\u001b[36m(DefaultActor pid=1457)\u001b[0m selected images size:  6\n",
            "\u001b[2m\u001b[36m(DefaultActor pid=1457)\u001b[0m output size:  256\n",
            "\u001b[2m\u001b[36m(DefaultActor pid=1457)\u001b[0m selected images size:  26\n",
            "\u001b[2m\u001b[36m(DefaultActor pid=1457)\u001b[0m output size:  256\n",
            "\u001b[2m\u001b[36m(DefaultActor pid=1457)\u001b[0m selected images size:  18\n",
            "\u001b[2m\u001b[36m(DefaultActor pid=1457)\u001b[0m output size:  256\n",
            "\u001b[2m\u001b[36m(DefaultActor pid=1457)\u001b[0m selected images size:  14\n",
            "\u001b[2m\u001b[36m(DefaultActor pid=1457)\u001b[0m output size:  256\n",
            "\u001b[2m\u001b[36m(DefaultActor pid=1457)\u001b[0m selected images size:  16\n",
            "\u001b[2m\u001b[36m(DefaultActor pid=1457)\u001b[0m output size:  256\n",
            "\u001b[2m\u001b[36m(DefaultActor pid=1457)\u001b[0m selected images size:  17\n",
            "\u001b[2m\u001b[36m(DefaultActor pid=1457)\u001b[0m output size:  256\n",
            "\u001b[2m\u001b[36m(DefaultActor pid=1457)\u001b[0m selected images size:  21\n",
            "\u001b[2m\u001b[36m(DefaultActor pid=1457)\u001b[0m output size:  101\n",
            "\u001b[2m\u001b[36m(DefaultActor pid=1457)\u001b[0m selected images size:  9\n",
            "\u001b[2m\u001b[36m(DefaultActor pid=1457)\u001b[0m output size:  256\n",
            "\u001b[2m\u001b[36m(DefaultActor pid=1457)\u001b[0m selected images size:  18\n",
            "\u001b[2m\u001b[36m(DefaultActor pid=1457)\u001b[0m output size:  256\n",
            "\u001b[2m\u001b[36m(DefaultActor pid=1457)\u001b[0m selected images size:  12\n",
            "\u001b[2m\u001b[36m(DefaultActor pid=1457)\u001b[0m output size:  256\n",
            "\u001b[2m\u001b[36m(DefaultActor pid=1457)\u001b[0m selected images size:  9\n",
            "\u001b[2m\u001b[36m(DefaultActor pid=1457)\u001b[0m output size:  256\n",
            "\u001b[2m\u001b[36m(DefaultActor pid=1457)\u001b[0m selected images size:  16\n",
            "\u001b[2m\u001b[36m(DefaultActor pid=1457)\u001b[0m output size:  256\n",
            "\u001b[2m\u001b[36m(DefaultActor pid=1457)\u001b[0m selected images size:  15\n",
            "\u001b[2m\u001b[36m(DefaultActor pid=1457)\u001b[0m output size:  256\n",
            "\u001b[2m\u001b[36m(DefaultActor pid=1457)\u001b[0m selected images size:  12\n",
            "\u001b[2m\u001b[36m(DefaultActor pid=1457)\u001b[0m output size:  101\n",
            "\u001b[2m\u001b[36m(DefaultActor pid=1457)\u001b[0m selected images size:  2\n",
            "\u001b[2m\u001b[36m(DefaultActor pid=1457)\u001b[0m output size:  256\n",
            "\u001b[2m\u001b[36m(DefaultActor pid=1457)\u001b[0m selected images size:  6\n",
            "\u001b[2m\u001b[36m(DefaultActor pid=1457)\u001b[0m output size:  256\n",
            "\u001b[2m\u001b[36m(DefaultActor pid=1457)\u001b[0m selected images size:  8\n",
            "\u001b[2m\u001b[36m(DefaultActor pid=1457)\u001b[0m output size:  256\n",
            "\u001b[2m\u001b[36m(DefaultActor pid=1457)\u001b[0m selected images size:  11\n",
            "\u001b[2m\u001b[36m(DefaultActor pid=1457)\u001b[0m output size:  256\n",
            "\u001b[2m\u001b[36m(DefaultActor pid=1457)\u001b[0m selected images size:  8\n",
            "\u001b[2m\u001b[36m(DefaultActor pid=1457)\u001b[0m output size:  256\n",
            "\u001b[2m\u001b[36m(DefaultActor pid=1457)\u001b[0m selected images size:  7\n",
            "\u001b[2m\u001b[36m(DefaultActor pid=1457)\u001b[0m output size:  256\n",
            "\u001b[2m\u001b[36m(DefaultActor pid=1457)\u001b[0m selected images size:  8\n",
            "\u001b[2m\u001b[36m(DefaultActor pid=1457)\u001b[0m output size:  101\n",
            "\u001b[2m\u001b[36m(DefaultActor pid=1457)\u001b[0m selected images size:  1\n",
            "\u001b[2m\u001b[36m(DefaultActor pid=1457)\u001b[0m output size:  256\n",
            "\u001b[2m\u001b[36m(DefaultActor pid=1457)\u001b[0m selected images size:  4\n",
            "\u001b[2m\u001b[36m(DefaultActor pid=1457)\u001b[0m output size:  256\n",
            "\u001b[2m\u001b[36m(DefaultActor pid=1457)\u001b[0m selected images size:  7\n",
            "\u001b[2m\u001b[36m(DefaultActor pid=1457)\u001b[0m output size:  256\n",
            "\u001b[2m\u001b[36m(DefaultActor pid=1457)\u001b[0m selected images size:  2\n",
            "\u001b[2m\u001b[36m(DefaultActor pid=1457)\u001b[0m output size:  256\n",
            "\u001b[2m\u001b[36m(DefaultActor pid=1457)\u001b[0m selected images size:  3\n",
            "\u001b[2m\u001b[36m(DefaultActor pid=1457)\u001b[0m output size:  256\n",
            "\u001b[2m\u001b[36m(DefaultActor pid=1457)\u001b[0m selected images size:  2\n",
            "\u001b[2m\u001b[36m(DefaultActor pid=1457)\u001b[0m output size:  256\n",
            "\u001b[2m\u001b[36m(DefaultActor pid=1457)\u001b[0m selected images size:  1\n"
          ]
        },
        {
          "output_type": "stream",
          "name": "stderr",
          "text": [
            "DEBUG flwr 2024-01-20 10:58:06,688 | server.py:236 | fit_round 35 received 10 results and 0 failures\n",
            "DEBUG:flwr:fit_round 35 received 10 results and 0 failures\n"
          ]
        },
        {
          "output_type": "stream",
          "name": "stdout",
          "text": [
            "Saving round 35 aggregated_parameters...\n"
          ]
        },
        {
          "output_type": "stream",
          "name": "stderr",
          "text": [
            "INFO flwr 2024-01-20 10:58:22,367 | server.py:125 | fit progress: (35, 295.8638449907303, {'accuracy': 0.4844961240310077}, 4814.174233171)\n",
            "INFO:flwr:fit progress: (35, 295.8638449907303, {'accuracy': 0.4844961240310077}, 4814.174233171)\n",
            "DEBUG flwr 2024-01-20 10:58:22,371 | server.py:173 | evaluate_round 35: strategy sampled 10 clients (out of 33)\n",
            "DEBUG:flwr:evaluate_round 35: strategy sampled 10 clients (out of 33)\n"
          ]
        },
        {
          "output_type": "stream",
          "name": "stdout",
          "text": [
            "GLOBAL TEST\n"
          ]
        },
        {
          "output_type": "stream",
          "name": "stderr",
          "text": [
            "DEBUG flwr 2024-01-20 10:58:27,139 | server.py:187 | evaluate_round 35 received 10 results and 0 failures\n",
            "DEBUG:flwr:evaluate_round 35 received 10 results and 0 failures\n",
            "DEBUG flwr 2024-01-20 10:58:27,142 | server.py:222 | fit_round 36: strategy sampled 10 clients (out of 33)\n",
            "DEBUG:flwr:fit_round 36: strategy sampled 10 clients (out of 33)\n",
            "DEBUG flwr 2024-01-20 10:59:43,956 | server.py:236 | fit_round 36 received 10 results and 0 failures\n",
            "DEBUG:flwr:fit_round 36 received 10 results and 0 failures\n"
          ]
        },
        {
          "output_type": "stream",
          "name": "stdout",
          "text": [
            "Saving round 36 aggregated_parameters...\n"
          ]
        },
        {
          "output_type": "stream",
          "name": "stderr",
          "text": [
            "INFO flwr 2024-01-20 10:59:59,481 | server.py:125 | fit progress: (36, 295.834349155426, {'accuracy': 0.29069767441860467}, 4911.2883554499995)\n",
            "INFO:flwr:fit progress: (36, 295.834349155426, {'accuracy': 0.29069767441860467}, 4911.2883554499995)\n",
            "DEBUG flwr 2024-01-20 10:59:59,485 | server.py:173 | evaluate_round 36: strategy sampled 10 clients (out of 33)\n",
            "DEBUG:flwr:evaluate_round 36: strategy sampled 10 clients (out of 33)\n"
          ]
        },
        {
          "output_type": "stream",
          "name": "stdout",
          "text": [
            "GLOBAL TEST\n"
          ]
        },
        {
          "output_type": "stream",
          "name": "stderr",
          "text": [
            "DEBUG flwr 2024-01-20 11:00:04,196 | server.py:187 | evaluate_round 36 received 10 results and 0 failures\n",
            "DEBUG:flwr:evaluate_round 36 received 10 results and 0 failures\n",
            "DEBUG flwr 2024-01-20 11:00:04,203 | server.py:222 | fit_round 37: strategy sampled 10 clients (out of 33)\n",
            "DEBUG:flwr:fit_round 37: strategy sampled 10 clients (out of 33)\n"
          ]
        },
        {
          "output_type": "stream",
          "name": "stdout",
          "text": [
            "\u001b[2m\u001b[36m(DefaultActor pid=1457)\u001b[0m ATTACKER\n",
            "\u001b[2m\u001b[36m(DefaultActor pid=1457)\u001b[0m output size:  256\n",
            "\u001b[2m\u001b[36m(DefaultActor pid=1457)\u001b[0m selected images size:  3\n",
            "\u001b[2m\u001b[36m(DefaultActor pid=1457)\u001b[0m output size:  256\n",
            "\u001b[2m\u001b[36m(DefaultActor pid=1457)\u001b[0m selected images size:  1\n",
            "\u001b[2m\u001b[36m(DefaultActor pid=1457)\u001b[0m output size:  256\n",
            "\u001b[2m\u001b[36m(DefaultActor pid=1457)\u001b[0m selected images size:  1\n",
            "\u001b[2m\u001b[36m(DefaultActor pid=1457)\u001b[0m output size:  256\n",
            "\u001b[2m\u001b[36m(DefaultActor pid=1457)\u001b[0m selected images size:  1\n",
            "\u001b[2m\u001b[36m(DefaultActor pid=1457)\u001b[0m output size:  256\n",
            "\u001b[2m\u001b[36m(DefaultActor pid=1457)\u001b[0m selected images size:  1\n",
            "\u001b[2m\u001b[36m(DefaultActor pid=1457)\u001b[0m output size:  256\n",
            "\u001b[2m\u001b[36m(DefaultActor pid=1457)\u001b[0m selected images size:  3\n",
            "\u001b[2m\u001b[36m(DefaultActor pid=1457)\u001b[0m output size:  101\n",
            "\u001b[2m\u001b[36m(DefaultActor pid=1457)\u001b[0m selected images size:  1\n",
            "\u001b[2m\u001b[36m(DefaultActor pid=1457)\u001b[0m output size:  256\n",
            "\u001b[2m\u001b[36m(DefaultActor pid=1457)\u001b[0m selected images size:  1\n",
            "\u001b[2m\u001b[36m(DefaultActor pid=1457)\u001b[0m output size:  256\n",
            "\u001b[2m\u001b[36m(DefaultActor pid=1457)\u001b[0m selected images size:  2\n",
            "\u001b[2m\u001b[36m(DefaultActor pid=1457)\u001b[0m output size:  256\n",
            "\u001b[2m\u001b[36m(DefaultActor pid=1457)\u001b[0m selected images size:  1\n",
            "\u001b[2m\u001b[36m(DefaultActor pid=1457)\u001b[0m output size:  256\n",
            "\u001b[2m\u001b[36m(DefaultActor pid=1457)\u001b[0m selected images size:  1\n",
            "\u001b[2m\u001b[36m(DefaultActor pid=1457)\u001b[0m output size:  256\n",
            "\u001b[2m\u001b[36m(DefaultActor pid=1457)\u001b[0m selected images size:  3\n",
            "\u001b[2m\u001b[36m(DefaultActor pid=1457)\u001b[0m output size:  101\n",
            "\u001b[2m\u001b[36m(DefaultActor pid=1457)\u001b[0m selected images size:  3\n",
            "\u001b[2m\u001b[36m(DefaultActor pid=1457)\u001b[0m output size:  256\n",
            "\u001b[2m\u001b[36m(DefaultActor pid=1457)\u001b[0m selected images size:  1\n",
            "\u001b[2m\u001b[36m(DefaultActor pid=1457)\u001b[0m output size:  256\n",
            "\u001b[2m\u001b[36m(DefaultActor pid=1457)\u001b[0m selected images size:  6\n",
            "\u001b[2m\u001b[36m(DefaultActor pid=1457)\u001b[0m output size:  256\n",
            "\u001b[2m\u001b[36m(DefaultActor pid=1457)\u001b[0m selected images size:  5\n",
            "\u001b[2m\u001b[36m(DefaultActor pid=1457)\u001b[0m output size:  256\n",
            "\u001b[2m\u001b[36m(DefaultActor pid=1457)\u001b[0m selected images size:  10\n",
            "\u001b[2m\u001b[36m(DefaultActor pid=1457)\u001b[0m output size:  256\n",
            "\u001b[2m\u001b[36m(DefaultActor pid=1457)\u001b[0m selected images size:  8\n",
            "\u001b[2m\u001b[36m(DefaultActor pid=1457)\u001b[0m output size:  256\n",
            "\u001b[2m\u001b[36m(DefaultActor pid=1457)\u001b[0m selected images size:  10\n",
            "\u001b[2m\u001b[36m(DefaultActor pid=1457)\u001b[0m output size:  101\n",
            "\u001b[2m\u001b[36m(DefaultActor pid=1457)\u001b[0m selected images size:  1\n",
            "\u001b[2m\u001b[36m(DefaultActor pid=1457)\u001b[0m output size:  256\n",
            "\u001b[2m\u001b[36m(DefaultActor pid=1457)\u001b[0m selected images size:  15\n",
            "\u001b[2m\u001b[36m(DefaultActor pid=1457)\u001b[0m output size:  256\n",
            "\u001b[2m\u001b[36m(DefaultActor pid=1457)\u001b[0m selected images size:  12\n",
            "\u001b[2m\u001b[36m(DefaultActor pid=1457)\u001b[0m output size:  256\n",
            "\u001b[2m\u001b[36m(DefaultActor pid=1457)\u001b[0m selected images size:  11\n",
            "\u001b[2m\u001b[36m(DefaultActor pid=1457)\u001b[0m output size:  256\n",
            "\u001b[2m\u001b[36m(DefaultActor pid=1457)\u001b[0m selected images size:  13\n",
            "\u001b[2m\u001b[36m(DefaultActor pid=1457)\u001b[0m output size:  256\n",
            "\u001b[2m\u001b[36m(DefaultActor pid=1457)\u001b[0m selected images size:  17\n",
            "\u001b[2m\u001b[36m(DefaultActor pid=1457)\u001b[0m output size:  256\n",
            "\u001b[2m\u001b[36m(DefaultActor pid=1457)\u001b[0m selected images size:  7\n",
            "\u001b[2m\u001b[36m(DefaultActor pid=1457)\u001b[0m output size:  101\n",
            "\u001b[2m\u001b[36m(DefaultActor pid=1457)\u001b[0m selected images size:  6\n",
            "\u001b[2m\u001b[36m(DefaultActor pid=1457)\u001b[0m output size:  256\n",
            "\u001b[2m\u001b[36m(DefaultActor pid=1457)\u001b[0m selected images size:  12\n",
            "\u001b[2m\u001b[36m(DefaultActor pid=1457)\u001b[0m output size:  256\n",
            "\u001b[2m\u001b[36m(DefaultActor pid=1457)\u001b[0m selected images size:  7\n",
            "\u001b[2m\u001b[36m(DefaultActor pid=1457)\u001b[0m output size:  256\n",
            "\u001b[2m\u001b[36m(DefaultActor pid=1457)\u001b[0m selected images size:  10\n",
            "\u001b[2m\u001b[36m(DefaultActor pid=1457)\u001b[0m output size:  256\n",
            "\u001b[2m\u001b[36m(DefaultActor pid=1457)\u001b[0m selected images size:  13\n",
            "\u001b[2m\u001b[36m(DefaultActor pid=1457)\u001b[0m output size:  256\n",
            "\u001b[2m\u001b[36m(DefaultActor pid=1457)\u001b[0m selected images size:  12\n",
            "\u001b[2m\u001b[36m(DefaultActor pid=1457)\u001b[0m output size:  256\n",
            "\u001b[2m\u001b[36m(DefaultActor pid=1457)\u001b[0m selected images size:  18\n",
            "\u001b[2m\u001b[36m(DefaultActor pid=1457)\u001b[0m output size:  101\n",
            "\u001b[2m\u001b[36m(DefaultActor pid=1457)\u001b[0m selected images size:  1\n",
            "\u001b[2m\u001b[36m(DefaultActor pid=1457)\u001b[0m output size:  256\n",
            "\u001b[2m\u001b[36m(DefaultActor pid=1457)\u001b[0m selected images size:  16\n",
            "\u001b[2m\u001b[36m(DefaultActor pid=1457)\u001b[0m output size:  256\n",
            "\u001b[2m\u001b[36m(DefaultActor pid=1457)\u001b[0m selected images size:  19\n",
            "\u001b[2m\u001b[36m(DefaultActor pid=1457)\u001b[0m output size:  256\n",
            "\u001b[2m\u001b[36m(DefaultActor pid=1457)\u001b[0m selected images size:  13\n",
            "\u001b[2m\u001b[36m(DefaultActor pid=1457)\u001b[0m output size:  256\n",
            "\u001b[2m\u001b[36m(DefaultActor pid=1457)\u001b[0m selected images size:  8\n",
            "\u001b[2m\u001b[36m(DefaultActor pid=1457)\u001b[0m output size:  256\n",
            "\u001b[2m\u001b[36m(DefaultActor pid=1457)\u001b[0m selected images size:  14\n",
            "\u001b[2m\u001b[36m(DefaultActor pid=1457)\u001b[0m output size:  256\n",
            "\u001b[2m\u001b[36m(DefaultActor pid=1457)\u001b[0m selected images size:  5\n",
            "\u001b[2m\u001b[36m(DefaultActor pid=1457)\u001b[0m output size:  101\n",
            "\u001b[2m\u001b[36m(DefaultActor pid=1457)\u001b[0m selected images size:  1\n",
            "\u001b[2m\u001b[36m(DefaultActor pid=1457)\u001b[0m output size:  256\n",
            "\u001b[2m\u001b[36m(DefaultActor pid=1457)\u001b[0m selected images size:  4\n",
            "\u001b[2m\u001b[36m(DefaultActor pid=1457)\u001b[0m output size:  256\n",
            "\u001b[2m\u001b[36m(DefaultActor pid=1457)\u001b[0m selected images size:  5\n",
            "\u001b[2m\u001b[36m(DefaultActor pid=1457)\u001b[0m output size:  256\n",
            "\u001b[2m\u001b[36m(DefaultActor pid=1457)\u001b[0m selected images size:  7\n",
            "\u001b[2m\u001b[36m(DefaultActor pid=1457)\u001b[0m output size:  256\n",
            "\u001b[2m\u001b[36m(DefaultActor pid=1457)\u001b[0m selected images size:  11\n",
            "\u001b[2m\u001b[36m(DefaultActor pid=1457)\u001b[0m output size:  256\n",
            "\u001b[2m\u001b[36m(DefaultActor pid=1457)\u001b[0m selected images size:  12\n",
            "\u001b[2m\u001b[36m(DefaultActor pid=1457)\u001b[0m output size:  256\n",
            "\u001b[2m\u001b[36m(DefaultActor pid=1457)\u001b[0m selected images size:  13\n",
            "\u001b[2m\u001b[36m(DefaultActor pid=1457)\u001b[0m output size:  101\n",
            "\u001b[2m\u001b[36m(DefaultActor pid=1457)\u001b[0m selected images size:  6\n",
            "\u001b[2m\u001b[36m(DefaultActor pid=1457)\u001b[0m output size:  256\n",
            "\u001b[2m\u001b[36m(DefaultActor pid=1457)\u001b[0m selected images size:  19\n",
            "\u001b[2m\u001b[36m(DefaultActor pid=1457)\u001b[0m output size:  256\n",
            "\u001b[2m\u001b[36m(DefaultActor pid=1457)\u001b[0m selected images size:  18\n",
            "\u001b[2m\u001b[36m(DefaultActor pid=1457)\u001b[0m output size:  256\n",
            "\u001b[2m\u001b[36m(DefaultActor pid=1457)\u001b[0m selected images size:  10\n",
            "\u001b[2m\u001b[36m(DefaultActor pid=1457)\u001b[0m output size:  256\n",
            "\u001b[2m\u001b[36m(DefaultActor pid=1457)\u001b[0m selected images size:  20\n",
            "\u001b[2m\u001b[36m(DefaultActor pid=1457)\u001b[0m output size:  256\n",
            "\u001b[2m\u001b[36m(DefaultActor pid=1457)\u001b[0m selected images size:  20\n",
            "\u001b[2m\u001b[36m(DefaultActor pid=1457)\u001b[0m output size:  256\n",
            "\u001b[2m\u001b[36m(DefaultActor pid=1457)\u001b[0m selected images size:  29\n",
            "\u001b[2m\u001b[36m(DefaultActor pid=1457)\u001b[0m output size:  101\n",
            "\u001b[2m\u001b[36m(DefaultActor pid=1457)\u001b[0m selected images size:  9\n",
            "\u001b[2m\u001b[36m(DefaultActor pid=1457)\u001b[0m output size:  256\n",
            "\u001b[2m\u001b[36m(DefaultActor pid=1457)\u001b[0m selected images size:  20\n",
            "\u001b[2m\u001b[36m(DefaultActor pid=1457)\u001b[0m output size:  256\n",
            "\u001b[2m\u001b[36m(DefaultActor pid=1457)\u001b[0m selected images size:  22\n",
            "\u001b[2m\u001b[36m(DefaultActor pid=1457)\u001b[0m output size:  256\n",
            "\u001b[2m\u001b[36m(DefaultActor pid=1457)\u001b[0m selected images size:  24\n",
            "\u001b[2m\u001b[36m(DefaultActor pid=1457)\u001b[0m output size:  256\n",
            "\u001b[2m\u001b[36m(DefaultActor pid=1457)\u001b[0m selected images size:  24\n",
            "\u001b[2m\u001b[36m(DefaultActor pid=1457)\u001b[0m output size:  256\n",
            "\u001b[2m\u001b[36m(DefaultActor pid=1457)\u001b[0m selected images size:  22\n",
            "\u001b[2m\u001b[36m(DefaultActor pid=1457)\u001b[0m output size:  256\n",
            "\u001b[2m\u001b[36m(DefaultActor pid=1457)\u001b[0m selected images size:  24\n",
            "\u001b[2m\u001b[36m(DefaultActor pid=1457)\u001b[0m output size:  101\n",
            "\u001b[2m\u001b[36m(DefaultActor pid=1457)\u001b[0m selected images size:  2\n",
            "\u001b[2m\u001b[36m(DefaultActor pid=1457)\u001b[0m output size:  256\n",
            "\u001b[2m\u001b[36m(DefaultActor pid=1457)\u001b[0m selected images size:  13\n",
            "\u001b[2m\u001b[36m(DefaultActor pid=1457)\u001b[0m output size:  256\n",
            "\u001b[2m\u001b[36m(DefaultActor pid=1457)\u001b[0m selected images size:  20\n",
            "\u001b[2m\u001b[36m(DefaultActor pid=1457)\u001b[0m output size:  256\n",
            "\u001b[2m\u001b[36m(DefaultActor pid=1457)\u001b[0m selected images size:  12\n",
            "\u001b[2m\u001b[36m(DefaultActor pid=1457)\u001b[0m output size:  256\n",
            "\u001b[2m\u001b[36m(DefaultActor pid=1457)\u001b[0m selected images size:  14\n",
            "\u001b[2m\u001b[36m(DefaultActor pid=1457)\u001b[0m output size:  256\n",
            "\u001b[2m\u001b[36m(DefaultActor pid=1457)\u001b[0m selected images size:  15\n",
            "\u001b[2m\u001b[36m(DefaultActor pid=1457)\u001b[0m output size:  256\n",
            "\u001b[2m\u001b[36m(DefaultActor pid=1457)\u001b[0m selected images size:  21\n",
            "\u001b[2m\u001b[36m(DefaultActor pid=1457)\u001b[0m output size:  101\n",
            "\u001b[2m\u001b[36m(DefaultActor pid=1457)\u001b[0m selected images size:  12\n",
            "\u001b[2m\u001b[36m(DefaultActor pid=1457)\u001b[0m output size:  256\n",
            "\u001b[2m\u001b[36m(DefaultActor pid=1457)\u001b[0m selected images size:  24\n",
            "\u001b[2m\u001b[36m(DefaultActor pid=1457)\u001b[0m output size:  256\n",
            "\u001b[2m\u001b[36m(DefaultActor pid=1457)\u001b[0m selected images size:  24\n",
            "\u001b[2m\u001b[36m(DefaultActor pid=1457)\u001b[0m output size:  256\n",
            "\u001b[2m\u001b[36m(DefaultActor pid=1457)\u001b[0m selected images size:  24\n",
            "\u001b[2m\u001b[36m(DefaultActor pid=1457)\u001b[0m output size:  256\n",
            "\u001b[2m\u001b[36m(DefaultActor pid=1457)\u001b[0m selected images size:  27\n",
            "\u001b[2m\u001b[36m(DefaultActor pid=1457)\u001b[0m output size:  256\n",
            "\u001b[2m\u001b[36m(DefaultActor pid=1457)\u001b[0m selected images size:  25\n",
            "\u001b[2m\u001b[36m(DefaultActor pid=1457)\u001b[0m output size:  256\n",
            "\u001b[2m\u001b[36m(DefaultActor pid=1457)\u001b[0m selected images size:  22\n",
            "\u001b[2m\u001b[36m(DefaultActor pid=1457)\u001b[0m output size:  101\n",
            "\u001b[2m\u001b[36m(DefaultActor pid=1457)\u001b[0m selected images size:  6\n",
            "\u001b[2m\u001b[36m(DefaultActor pid=1457)\u001b[0m output size:  256\n",
            "\u001b[2m\u001b[36m(DefaultActor pid=1457)\u001b[0m selected images size:  18\n",
            "\u001b[2m\u001b[36m(DefaultActor pid=1457)\u001b[0m output size:  256\n",
            "\u001b[2m\u001b[36m(DefaultActor pid=1457)\u001b[0m selected images size:  20\n",
            "\u001b[2m\u001b[36m(DefaultActor pid=1457)\u001b[0m output size:  256\n",
            "\u001b[2m\u001b[36m(DefaultActor pid=1457)\u001b[0m selected images size:  15\n",
            "\u001b[2m\u001b[36m(DefaultActor pid=1457)\u001b[0m output size:  256\n",
            "\u001b[2m\u001b[36m(DefaultActor pid=1457)\u001b[0m selected images size:  10\n",
            "\u001b[2m\u001b[36m(DefaultActor pid=1457)\u001b[0m output size:  256\n",
            "\u001b[2m\u001b[36m(DefaultActor pid=1457)\u001b[0m selected images size:  11\n",
            "\u001b[2m\u001b[36m(DefaultActor pid=1457)\u001b[0m output size:  256\n",
            "\u001b[2m\u001b[36m(DefaultActor pid=1457)\u001b[0m selected images size:  10\n",
            "\u001b[2m\u001b[36m(DefaultActor pid=1457)\u001b[0m output size:  101\n",
            "\u001b[2m\u001b[36m(DefaultActor pid=1457)\u001b[0m selected images size:  6\n"
          ]
        },
        {
          "output_type": "stream",
          "name": "stderr",
          "text": [
            "DEBUG flwr 2024-01-20 11:02:09,005 | server.py:236 | fit_round 37 received 10 results and 0 failures\n",
            "DEBUG:flwr:fit_round 37 received 10 results and 0 failures\n"
          ]
        },
        {
          "output_type": "stream",
          "name": "stdout",
          "text": [
            "Saving round 37 aggregated_parameters...\n"
          ]
        },
        {
          "output_type": "stream",
          "name": "stderr",
          "text": [
            "INFO flwr 2024-01-20 11:02:25,226 | server.py:125 | fit progress: (37, 295.8157889842987, {'accuracy': 0.4844961240310077}, 5057.033299468)\n",
            "INFO:flwr:fit progress: (37, 295.8157889842987, {'accuracy': 0.4844961240310077}, 5057.033299468)\n",
            "DEBUG flwr 2024-01-20 11:02:25,230 | server.py:173 | evaluate_round 37: strategy sampled 10 clients (out of 33)\n",
            "DEBUG:flwr:evaluate_round 37: strategy sampled 10 clients (out of 33)\n"
          ]
        },
        {
          "output_type": "stream",
          "name": "stdout",
          "text": [
            "GLOBAL TEST\n"
          ]
        },
        {
          "output_type": "stream",
          "name": "stderr",
          "text": [
            "DEBUG flwr 2024-01-20 11:02:29,506 | server.py:187 | evaluate_round 37 received 10 results and 0 failures\n",
            "DEBUG:flwr:evaluate_round 37 received 10 results and 0 failures\n",
            "DEBUG flwr 2024-01-20 11:02:29,509 | server.py:222 | fit_round 38: strategy sampled 10 clients (out of 33)\n",
            "DEBUG:flwr:fit_round 38: strategy sampled 10 clients (out of 33)\n"
          ]
        },
        {
          "output_type": "stream",
          "name": "stdout",
          "text": [
            "\u001b[2m\u001b[36m(DefaultActor pid=1457)\u001b[0m ATTACKER\n",
            "\u001b[2m\u001b[36m(DefaultActor pid=1457)\u001b[0m output size:  256\n",
            "\u001b[2m\u001b[36m(DefaultActor pid=1457)\u001b[0m selected images size:  2\n",
            "\u001b[2m\u001b[36m(DefaultActor pid=1457)\u001b[0m ATTACKER\n",
            "\u001b[2m\u001b[36m(DefaultActor pid=1457)\u001b[0m output size:  256\n",
            "\u001b[2m\u001b[36m(DefaultActor pid=1457)\u001b[0m selected images size:  1\n",
            "\u001b[2m\u001b[36m(DefaultActor pid=1457)\u001b[0m output size:  256\n",
            "\u001b[2m\u001b[36m(DefaultActor pid=1457)\u001b[0m selected images size:  1\n",
            "\u001b[2m\u001b[36m(DefaultActor pid=1457)\u001b[0m output size:  256\n",
            "\u001b[2m\u001b[36m(DefaultActor pid=1457)\u001b[0m selected images size:  1\n",
            "\u001b[2m\u001b[36m(DefaultActor pid=1457)\u001b[0m output size:  256\n",
            "\u001b[2m\u001b[36m(DefaultActor pid=1457)\u001b[0m selected images size:  1\n",
            "\u001b[2m\u001b[36m(DefaultActor pid=1457)\u001b[0m output size:  101\n",
            "\u001b[2m\u001b[36m(DefaultActor pid=1457)\u001b[0m selected images size:  1\n",
            "\u001b[2m\u001b[36m(DefaultActor pid=1457)\u001b[0m output size:  256\n",
            "\u001b[2m\u001b[36m(DefaultActor pid=1457)\u001b[0m selected images size:  1\n",
            "\u001b[2m\u001b[36m(DefaultActor pid=1457)\u001b[0m output size:  256\n",
            "\u001b[2m\u001b[36m(DefaultActor pid=1457)\u001b[0m selected images size:  2\n",
            "\u001b[2m\u001b[36m(DefaultActor pid=1457)\u001b[0m output size:  256\n",
            "\u001b[2m\u001b[36m(DefaultActor pid=1457)\u001b[0m selected images size:  2\n",
            "\u001b[2m\u001b[36m(DefaultActor pid=1457)\u001b[0m output size:  256\n",
            "\u001b[2m\u001b[36m(DefaultActor pid=1457)\u001b[0m selected images size:  1\n",
            "\u001b[2m\u001b[36m(DefaultActor pid=1457)\u001b[0m output size:  256\n",
            "\u001b[2m\u001b[36m(DefaultActor pid=1457)\u001b[0m selected images size:  1\n",
            "\u001b[2m\u001b[36m(DefaultActor pid=1457)\u001b[0m output size:  256\n",
            "\u001b[2m\u001b[36m(DefaultActor pid=1457)\u001b[0m selected images size:  3\n",
            "\u001b[2m\u001b[36m(DefaultActor pid=1457)\u001b[0m output size:  256\n",
            "\u001b[2m\u001b[36m(DefaultActor pid=1457)\u001b[0m selected images size:  2\n",
            "\u001b[2m\u001b[36m(DefaultActor pid=1457)\u001b[0m output size:  256\n",
            "\u001b[2m\u001b[36m(DefaultActor pid=1457)\u001b[0m selected images size:  1\n",
            "\u001b[2m\u001b[36m(DefaultActor pid=1457)\u001b[0m output size:  256\n",
            "\u001b[2m\u001b[36m(DefaultActor pid=1457)\u001b[0m selected images size:  6\n",
            "\u001b[2m\u001b[36m(DefaultActor pid=1457)\u001b[0m output size:  256\n",
            "\u001b[2m\u001b[36m(DefaultActor pid=1457)\u001b[0m selected images size:  3\n",
            "\u001b[2m\u001b[36m(DefaultActor pid=1457)\u001b[0m output size:  256\n",
            "\u001b[2m\u001b[36m(DefaultActor pid=1457)\u001b[0m selected images size:  8\n",
            "\u001b[2m\u001b[36m(DefaultActor pid=1457)\u001b[0m output size:  256\n",
            "\u001b[2m\u001b[36m(DefaultActor pid=1457)\u001b[0m selected images size:  5\n",
            "\u001b[2m\u001b[36m(DefaultActor pid=1457)\u001b[0m output size:  101\n",
            "\u001b[2m\u001b[36m(DefaultActor pid=1457)\u001b[0m selected images size:  2\n",
            "\u001b[2m\u001b[36m(DefaultActor pid=1457)\u001b[0m output size:  256\n",
            "\u001b[2m\u001b[36m(DefaultActor pid=1457)\u001b[0m selected images size:  5\n",
            "\u001b[2m\u001b[36m(DefaultActor pid=1457)\u001b[0m output size:  256\n",
            "\u001b[2m\u001b[36m(DefaultActor pid=1457)\u001b[0m selected images size:  6\n",
            "\u001b[2m\u001b[36m(DefaultActor pid=1457)\u001b[0m output size:  256\n",
            "\u001b[2m\u001b[36m(DefaultActor pid=1457)\u001b[0m selected images size:  10\n",
            "\u001b[2m\u001b[36m(DefaultActor pid=1457)\u001b[0m output size:  256\n",
            "\u001b[2m\u001b[36m(DefaultActor pid=1457)\u001b[0m selected images size:  7\n",
            "\u001b[2m\u001b[36m(DefaultActor pid=1457)\u001b[0m output size:  256\n",
            "\u001b[2m\u001b[36m(DefaultActor pid=1457)\u001b[0m selected images size:  11\n",
            "\u001b[2m\u001b[36m(DefaultActor pid=1457)\u001b[0m output size:  256\n",
            "\u001b[2m\u001b[36m(DefaultActor pid=1457)\u001b[0m selected images size:  12\n",
            "\u001b[2m\u001b[36m(DefaultActor pid=1457)\u001b[0m output size:  101\n",
            "\u001b[2m\u001b[36m(DefaultActor pid=1457)\u001b[0m selected images size:  7\n",
            "\u001b[2m\u001b[36m(DefaultActor pid=1457)\u001b[0m output size:  256\n",
            "\u001b[2m\u001b[36m(DefaultActor pid=1457)\u001b[0m selected images size:  4\n",
            "\u001b[2m\u001b[36m(DefaultActor pid=1457)\u001b[0m output size:  256\n",
            "\u001b[2m\u001b[36m(DefaultActor pid=1457)\u001b[0m selected images size:  9\n",
            "\u001b[2m\u001b[36m(DefaultActor pid=1457)\u001b[0m output size:  256\n",
            "\u001b[2m\u001b[36m(DefaultActor pid=1457)\u001b[0m selected images size:  15\n",
            "\u001b[2m\u001b[36m(DefaultActor pid=1457)\u001b[0m output size:  256\n",
            "\u001b[2m\u001b[36m(DefaultActor pid=1457)\u001b[0m selected images size:  9\n",
            "\u001b[2m\u001b[36m(DefaultActor pid=1457)\u001b[0m output size:  256\n",
            "\u001b[2m\u001b[36m(DefaultActor pid=1457)\u001b[0m selected images size:  7\n",
            "\u001b[2m\u001b[36m(DefaultActor pid=1457)\u001b[0m output size:  256\n",
            "\u001b[2m\u001b[36m(DefaultActor pid=1457)\u001b[0m selected images size:  10\n",
            "\u001b[2m\u001b[36m(DefaultActor pid=1457)\u001b[0m output size:  101\n",
            "\u001b[2m\u001b[36m(DefaultActor pid=1457)\u001b[0m selected images size:  7\n",
            "\u001b[2m\u001b[36m(DefaultActor pid=1457)\u001b[0m output size:  256\n",
            "\u001b[2m\u001b[36m(DefaultActor pid=1457)\u001b[0m selected images size:  7\n",
            "\u001b[2m\u001b[36m(DefaultActor pid=1457)\u001b[0m output size:  256\n",
            "\u001b[2m\u001b[36m(DefaultActor pid=1457)\u001b[0m selected images size:  6\n",
            "\u001b[2m\u001b[36m(DefaultActor pid=1457)\u001b[0m output size:  256\n",
            "\u001b[2m\u001b[36m(DefaultActor pid=1457)\u001b[0m selected images size:  6\n",
            "\u001b[2m\u001b[36m(DefaultActor pid=1457)\u001b[0m output size:  256\n",
            "\u001b[2m\u001b[36m(DefaultActor pid=1457)\u001b[0m selected images size:  3\n",
            "\u001b[2m\u001b[36m(DefaultActor pid=1457)\u001b[0m output size:  256\n",
            "\u001b[2m\u001b[36m(DefaultActor pid=1457)\u001b[0m selected images size:  7\n",
            "\u001b[2m\u001b[36m(DefaultActor pid=1457)\u001b[0m output size:  256\n",
            "\u001b[2m\u001b[36m(DefaultActor pid=1457)\u001b[0m selected images size:  2\n",
            "\u001b[2m\u001b[36m(DefaultActor pid=1457)\u001b[0m output size:  101\n",
            "\u001b[2m\u001b[36m(DefaultActor pid=1457)\u001b[0m selected images size:  1\n"
          ]
        },
        {
          "output_type": "stream",
          "name": "stderr",
          "text": [
            "DEBUG flwr 2024-01-20 11:05:18,388 | server.py:236 | fit_round 38 received 10 results and 0 failures\n",
            "DEBUG:flwr:fit_round 38 received 10 results and 0 failures\n"
          ]
        },
        {
          "output_type": "stream",
          "name": "stdout",
          "text": [
            "Saving round 38 aggregated_parameters...\n"
          ]
        },
        {
          "output_type": "stream",
          "name": "stderr",
          "text": [
            "INFO flwr 2024-01-20 11:05:34,122 | server.py:125 | fit progress: (38, 298.1128942966461, {'accuracy': 6.976744186046512}, 5245.929186087999)\n",
            "INFO:flwr:fit progress: (38, 298.1128942966461, {'accuracy': 6.976744186046512}, 5245.929186087999)\n",
            "DEBUG flwr 2024-01-20 11:05:34,126 | server.py:173 | evaluate_round 38: strategy sampled 10 clients (out of 33)\n",
            "DEBUG:flwr:evaluate_round 38: strategy sampled 10 clients (out of 33)\n"
          ]
        },
        {
          "output_type": "stream",
          "name": "stdout",
          "text": [
            "GLOBAL TEST\n"
          ]
        },
        {
          "output_type": "stream",
          "name": "stderr",
          "text": [
            "DEBUG flwr 2024-01-20 11:05:37,726 | server.py:187 | evaluate_round 38 received 10 results and 0 failures\n",
            "DEBUG:flwr:evaluate_round 38 received 10 results and 0 failures\n",
            "DEBUG flwr 2024-01-20 11:05:37,729 | server.py:222 | fit_round 39: strategy sampled 10 clients (out of 33)\n",
            "DEBUG:flwr:fit_round 39: strategy sampled 10 clients (out of 33)\n"
          ]
        },
        {
          "output_type": "stream",
          "name": "stdout",
          "text": [
            "\u001b[2m\u001b[36m(DefaultActor pid=1457)\u001b[0m ATTACKER\n",
            "\u001b[2m\u001b[36m(DefaultActor pid=1457)\u001b[0m output size:  256\n",
            "\u001b[2m\u001b[36m(DefaultActor pid=1457)\u001b[0m selected images size:  1\n"
          ]
        },
        {
          "output_type": "stream",
          "name": "stderr",
          "text": [
            "DEBUG flwr 2024-01-20 11:07:42,510 | server.py:236 | fit_round 39 received 10 results and 0 failures\n",
            "DEBUG:flwr:fit_round 39 received 10 results and 0 failures\n"
          ]
        },
        {
          "output_type": "stream",
          "name": "stdout",
          "text": [
            "Saving round 39 aggregated_parameters...\n"
          ]
        },
        {
          "output_type": "stream",
          "name": "stderr",
          "text": [
            "INFO flwr 2024-01-20 11:07:58,171 | server.py:125 | fit progress: (39, 296.25106942653656, {'accuracy': 1.937984496124031}, 5389.978111583)\n",
            "INFO:flwr:fit progress: (39, 296.25106942653656, {'accuracy': 1.937984496124031}, 5389.978111583)\n",
            "DEBUG flwr 2024-01-20 11:07:58,174 | server.py:173 | evaluate_round 39: strategy sampled 10 clients (out of 33)\n",
            "DEBUG:flwr:evaluate_round 39: strategy sampled 10 clients (out of 33)\n"
          ]
        },
        {
          "output_type": "stream",
          "name": "stdout",
          "text": [
            "GLOBAL TEST\n"
          ]
        },
        {
          "output_type": "stream",
          "name": "stderr",
          "text": [
            "DEBUG flwr 2024-01-20 11:08:01,939 | server.py:187 | evaluate_round 39 received 10 results and 0 failures\n",
            "DEBUG:flwr:evaluate_round 39 received 10 results and 0 failures\n",
            "DEBUG flwr 2024-01-20 11:08:01,942 | server.py:222 | fit_round 40: strategy sampled 10 clients (out of 33)\n",
            "DEBUG:flwr:fit_round 40: strategy sampled 10 clients (out of 33)\n"
          ]
        },
        {
          "output_type": "stream",
          "name": "stdout",
          "text": [
            "\u001b[2m\u001b[36m(DefaultActor pid=1457)\u001b[0m ATTACKER\n",
            "\u001b[2m\u001b[36m(DefaultActor pid=1457)\u001b[0m output size:  256\n",
            "\u001b[2m\u001b[36m(DefaultActor pid=1457)\u001b[0m selected images size:  1\n",
            "\u001b[2m\u001b[36m(DefaultActor pid=1457)\u001b[0m output size:  256\n",
            "\u001b[2m\u001b[36m(DefaultActor pid=1457)\u001b[0m selected images size:  3\n",
            "\u001b[2m\u001b[36m(DefaultActor pid=1457)\u001b[0m output size:  256\n",
            "\u001b[2m\u001b[36m(DefaultActor pid=1457)\u001b[0m selected images size:  2\n",
            "\u001b[2m\u001b[36m(DefaultActor pid=1457)\u001b[0m output size:  101\n",
            "\u001b[2m\u001b[36m(DefaultActor pid=1457)\u001b[0m selected images size:  2\n",
            "\u001b[2m\u001b[36m(DefaultActor pid=1457)\u001b[0m output size:  256\n",
            "\u001b[2m\u001b[36m(DefaultActor pid=1457)\u001b[0m selected images size:  6\n",
            "\u001b[2m\u001b[36m(DefaultActor pid=1457)\u001b[0m output size:  256\n",
            "\u001b[2m\u001b[36m(DefaultActor pid=1457)\u001b[0m selected images size:  2\n",
            "\u001b[2m\u001b[36m(DefaultActor pid=1457)\u001b[0m output size:  256\n",
            "\u001b[2m\u001b[36m(DefaultActor pid=1457)\u001b[0m selected images size:  4\n",
            "\u001b[2m\u001b[36m(DefaultActor pid=1457)\u001b[0m output size:  256\n",
            "\u001b[2m\u001b[36m(DefaultActor pid=1457)\u001b[0m selected images size:  11\n",
            "\u001b[2m\u001b[36m(DefaultActor pid=1457)\u001b[0m output size:  256\n",
            "\u001b[2m\u001b[36m(DefaultActor pid=1457)\u001b[0m selected images size:  6\n",
            "\u001b[2m\u001b[36m(DefaultActor pid=1457)\u001b[0m output size:  101\n",
            "\u001b[2m\u001b[36m(DefaultActor pid=1457)\u001b[0m selected images size:  2\n",
            "\u001b[2m\u001b[36m(DefaultActor pid=1457)\u001b[0m output size:  256\n",
            "\u001b[2m\u001b[36m(DefaultActor pid=1457)\u001b[0m selected images size:  11\n",
            "\u001b[2m\u001b[36m(DefaultActor pid=1457)\u001b[0m output size:  256\n",
            "\u001b[2m\u001b[36m(DefaultActor pid=1457)\u001b[0m selected images size:  12\n",
            "\u001b[2m\u001b[36m(DefaultActor pid=1457)\u001b[0m output size:  256\n",
            "\u001b[2m\u001b[36m(DefaultActor pid=1457)\u001b[0m selected images size:  7\n",
            "\u001b[2m\u001b[36m(DefaultActor pid=1457)\u001b[0m output size:  256\n",
            "\u001b[2m\u001b[36m(DefaultActor pid=1457)\u001b[0m selected images size:  5\n",
            "\u001b[2m\u001b[36m(DefaultActor pid=1457)\u001b[0m output size:  256\n",
            "\u001b[2m\u001b[36m(DefaultActor pid=1457)\u001b[0m selected images size:  3\n",
            "\u001b[2m\u001b[36m(DefaultActor pid=1457)\u001b[0m output size:  256\n",
            "\u001b[2m\u001b[36m(DefaultActor pid=1457)\u001b[0m selected images size:  1\n",
            "\u001b[2m\u001b[36m(DefaultActor pid=1457)\u001b[0m output size:  101\n",
            "\u001b[2m\u001b[36m(DefaultActor pid=1457)\u001b[0m selected images size:  2\n",
            "\u001b[2m\u001b[36m(DefaultActor pid=1457)\u001b[0m output size:  256\n",
            "\u001b[2m\u001b[36m(DefaultActor pid=1457)\u001b[0m selected images size:  2\n",
            "\u001b[2m\u001b[36m(DefaultActor pid=1457)\u001b[0m output size:  256\n",
            "\u001b[2m\u001b[36m(DefaultActor pid=1457)\u001b[0m selected images size:  1\n",
            "\u001b[2m\u001b[36m(DefaultActor pid=1457)\u001b[0m output size:  256\n",
            "\u001b[2m\u001b[36m(DefaultActor pid=1457)\u001b[0m selected images size:  2\n",
            "\u001b[2m\u001b[36m(DefaultActor pid=1457)\u001b[0m output size:  256\n",
            "\u001b[2m\u001b[36m(DefaultActor pid=1457)\u001b[0m selected images size:  1\n",
            "\u001b[2m\u001b[36m(DefaultActor pid=1457)\u001b[0m output size:  256\n",
            "\u001b[2m\u001b[36m(DefaultActor pid=1457)\u001b[0m selected images size:  1\n",
            "\u001b[2m\u001b[36m(DefaultActor pid=1457)\u001b[0m output size:  256\n",
            "\u001b[2m\u001b[36m(DefaultActor pid=1457)\u001b[0m selected images size:  1\n",
            "\u001b[2m\u001b[36m(DefaultActor pid=1457)\u001b[0m output size:  256\n",
            "\u001b[2m\u001b[36m(DefaultActor pid=1457)\u001b[0m selected images size:  1\n",
            "\u001b[2m\u001b[36m(DefaultActor pid=1457)\u001b[0m output size:  256\n",
            "\u001b[2m\u001b[36m(DefaultActor pid=1457)\u001b[0m selected images size:  6\n",
            "\u001b[2m\u001b[36m(DefaultActor pid=1457)\u001b[0m output size:  256\n",
            "\u001b[2m\u001b[36m(DefaultActor pid=1457)\u001b[0m selected images size:  2\n",
            "\u001b[2m\u001b[36m(DefaultActor pid=1457)\u001b[0m output size:  101\n",
            "\u001b[2m\u001b[36m(DefaultActor pid=1457)\u001b[0m selected images size:  1\n",
            "\u001b[2m\u001b[36m(DefaultActor pid=1457)\u001b[0m output size:  256\n",
            "\u001b[2m\u001b[36m(DefaultActor pid=1457)\u001b[0m selected images size:  5\n",
            "\u001b[2m\u001b[36m(DefaultActor pid=1457)\u001b[0m output size:  256\n",
            "\u001b[2m\u001b[36m(DefaultActor pid=1457)\u001b[0m selected images size:  2\n",
            "\u001b[2m\u001b[36m(DefaultActor pid=1457)\u001b[0m output size:  256\n",
            "\u001b[2m\u001b[36m(DefaultActor pid=1457)\u001b[0m selected images size:  9\n",
            "\u001b[2m\u001b[36m(DefaultActor pid=1457)\u001b[0m output size:  256\n",
            "\u001b[2m\u001b[36m(DefaultActor pid=1457)\u001b[0m selected images size:  8\n",
            "\u001b[2m\u001b[36m(DefaultActor pid=1457)\u001b[0m output size:  256\n",
            "\u001b[2m\u001b[36m(DefaultActor pid=1457)\u001b[0m selected images size:  11\n",
            "\u001b[2m\u001b[36m(DefaultActor pid=1457)\u001b[0m output size:  256\n",
            "\u001b[2m\u001b[36m(DefaultActor pid=1457)\u001b[0m selected images size:  4\n",
            "\u001b[2m\u001b[36m(DefaultActor pid=1457)\u001b[0m output size:  101\n",
            "\u001b[2m\u001b[36m(DefaultActor pid=1457)\u001b[0m selected images size:  4\n",
            "\u001b[2m\u001b[36m(DefaultActor pid=1457)\u001b[0m output size:  256\n",
            "\u001b[2m\u001b[36m(DefaultActor pid=1457)\u001b[0m selected images size:  7\n",
            "\u001b[2m\u001b[36m(DefaultActor pid=1457)\u001b[0m output size:  256\n",
            "\u001b[2m\u001b[36m(DefaultActor pid=1457)\u001b[0m selected images size:  10\n",
            "\u001b[2m\u001b[36m(DefaultActor pid=1457)\u001b[0m output size:  256\n",
            "\u001b[2m\u001b[36m(DefaultActor pid=1457)\u001b[0m selected images size:  11\n",
            "\u001b[2m\u001b[36m(DefaultActor pid=1457)\u001b[0m output size:  256\n",
            "\u001b[2m\u001b[36m(DefaultActor pid=1457)\u001b[0m selected images size:  7\n",
            "\u001b[2m\u001b[36m(DefaultActor pid=1457)\u001b[0m output size:  256\n",
            "\u001b[2m\u001b[36m(DefaultActor pid=1457)\u001b[0m selected images size:  12\n",
            "\u001b[2m\u001b[36m(DefaultActor pid=1457)\u001b[0m output size:  256\n",
            "\u001b[2m\u001b[36m(DefaultActor pid=1457)\u001b[0m selected images size:  16\n",
            "\u001b[2m\u001b[36m(DefaultActor pid=1457)\u001b[0m output size:  101\n",
            "\u001b[2m\u001b[36m(DefaultActor pid=1457)\u001b[0m selected images size:  5\n",
            "\u001b[2m\u001b[36m(DefaultActor pid=1457)\u001b[0m output size:  256\n",
            "\u001b[2m\u001b[36m(DefaultActor pid=1457)\u001b[0m selected images size:  18\n",
            "\u001b[2m\u001b[36m(DefaultActor pid=1457)\u001b[0m output size:  256\n",
            "\u001b[2m\u001b[36m(DefaultActor pid=1457)\u001b[0m selected images size:  18\n",
            "\u001b[2m\u001b[36m(DefaultActor pid=1457)\u001b[0m output size:  \n",
            "\u001b[2m\u001b[36m(DefaultActor pid=1457)\u001b[0m 256\n",
            "\u001b[2m\u001b[36m(DefaultActor pid=1457)\u001b[0m selected images size:  33\n",
            "\u001b[2m\u001b[36m(DefaultActor pid=1457)\u001b[0m output size:  256\n",
            "\u001b[2m\u001b[36m(DefaultActor pid=1457)\u001b[0m selected images size:  14\n",
            "\u001b[2m\u001b[36m(DefaultActor pid=1457)\u001b[0m output size:  256\n",
            "\u001b[2m\u001b[36m(DefaultActor pid=1457)\u001b[0m selected images size:  24\n",
            "\u001b[2m\u001b[36m(DefaultActor pid=1457)\u001b[0m output size:  256\n",
            "\u001b[2m\u001b[36m(DefaultActor pid=1457)\u001b[0m selected images size:  19\n",
            "\u001b[2m\u001b[36m(DefaultActor pid=1457)\u001b[0m output size:  101\n",
            "\u001b[2m\u001b[36m(DefaultActor pid=1457)\u001b[0m selected images size:  5\n",
            "\u001b[2m\u001b[36m(DefaultActor pid=1457)\u001b[0m output size:  256\n",
            "\u001b[2m\u001b[36m(DefaultActor pid=1457)\u001b[0m selected images size:  20\n",
            "\u001b[2m\u001b[36m(DefaultActor pid=1457)\u001b[0m output size:  256\n",
            "\u001b[2m\u001b[36m(DefaultActor pid=1457)\u001b[0m selected images size:  17\n",
            "\u001b[2m\u001b[36m(DefaultActor pid=1457)\u001b[0m output size:  256\n",
            "\u001b[2m\u001b[36m(DefaultActor pid=1457)\u001b[0m selected images size:  24\n",
            "\u001b[2m\u001b[36m(DefaultActor pid=1457)\u001b[0m output size:  256\n",
            "\u001b[2m\u001b[36m(DefaultActor pid=1457)\u001b[0m selected images size:  20\n",
            "\u001b[2m\u001b[36m(DefaultActor pid=1457)\u001b[0m output size:  256\n",
            "\u001b[2m\u001b[36m(DefaultActor pid=1457)\u001b[0m selected images size:  9\n",
            "\u001b[2m\u001b[36m(DefaultActor pid=1457)\u001b[0m output size:  256\n",
            "\u001b[2m\u001b[36m(DefaultActor pid=1457)\u001b[0m selected images size:  9\n",
            "\u001b[2m\u001b[36m(DefaultActor pid=1457)\u001b[0m output size:  101\n",
            "\u001b[2m\u001b[36m(DefaultActor pid=1457)\u001b[0m selected images size:  5\n",
            "\u001b[2m\u001b[36m(DefaultActor pid=1457)\u001b[0m output size:  256\n",
            "\u001b[2m\u001b[36m(DefaultActor pid=1457)\u001b[0m selected images size:  5\n",
            "\u001b[2m\u001b[36m(DefaultActor pid=1457)\u001b[0m output size:  256\n",
            "\u001b[2m\u001b[36m(DefaultActor pid=1457)\u001b[0m selected images size:  5\n",
            "\u001b[2m\u001b[36m(DefaultActor pid=1457)\u001b[0m output size:  256\n",
            "\u001b[2m\u001b[36m(DefaultActor pid=1457)\u001b[0m selected images size:  2\n",
            "\u001b[2m\u001b[36m(DefaultActor pid=1457)\u001b[0m output size:  256\n",
            "\u001b[2m\u001b[36m(DefaultActor pid=1457)\u001b[0m selected images size:  1\n",
            "\u001b[2m\u001b[36m(DefaultActor pid=1457)\u001b[0m output size:  256\n",
            "\u001b[2m\u001b[36m(DefaultActor pid=1457)\u001b[0m selected images size:  2\n",
            "\u001b[2m\u001b[36m(DefaultActor pid=1457)\u001b[0m output size:  256\n",
            "\u001b[2m\u001b[36m(DefaultActor pid=1457)\u001b[0m selected images size:  2\n",
            "\u001b[2m\u001b[36m(DefaultActor pid=1457)\u001b[0m output size:  256\n",
            "\u001b[2m\u001b[36m(DefaultActor pid=1457)\u001b[0m selected images size:  1\n",
            "\u001b[2m\u001b[36m(DefaultActor pid=1457)\u001b[0m output size:  256\n",
            "\u001b[2m\u001b[36m(DefaultActor pid=1457)\u001b[0m selected images size:  1\n",
            "\u001b[2m\u001b[36m(DefaultActor pid=1457)\u001b[0m output size:  256\n",
            "\u001b[2m\u001b[36m(DefaultActor pid=1457)\u001b[0m selected images size:  1\n",
            "\u001b[2m\u001b[36m(DefaultActor pid=1457)\u001b[0m output size:  101\n",
            "\u001b[2m\u001b[36m(DefaultActor pid=1457)\u001b[0m selected images size:  1\n"
          ]
        },
        {
          "output_type": "stream",
          "name": "stderr",
          "text": [
            "DEBUG flwr 2024-01-20 11:10:07,602 | server.py:236 | fit_round 40 received 10 results and 0 failures\n",
            "DEBUG:flwr:fit_round 40 received 10 results and 0 failures\n"
          ]
        },
        {
          "output_type": "stream",
          "name": "stdout",
          "text": [
            "Saving round 40 aggregated_parameters...\n"
          ]
        },
        {
          "output_type": "stream",
          "name": "stderr",
          "text": [
            "INFO flwr 2024-01-20 11:10:23,791 | server.py:125 | fit progress: (40, 295.80183815956116, {'accuracy': 0.872093023255814}, 5535.598209469999)\n",
            "INFO:flwr:fit progress: (40, 295.80183815956116, {'accuracy': 0.872093023255814}, 5535.598209469999)\n",
            "DEBUG flwr 2024-01-20 11:10:23,797 | server.py:173 | evaluate_round 40: strategy sampled 10 clients (out of 33)\n",
            "DEBUG:flwr:evaluate_round 40: strategy sampled 10 clients (out of 33)\n"
          ]
        },
        {
          "output_type": "stream",
          "name": "stdout",
          "text": [
            "GLOBAL TEST\n"
          ]
        },
        {
          "output_type": "stream",
          "name": "stderr",
          "text": [
            "DEBUG flwr 2024-01-20 11:10:28,277 | server.py:187 | evaluate_round 40 received 10 results and 0 failures\n",
            "DEBUG:flwr:evaluate_round 40 received 10 results and 0 failures\n",
            "DEBUG flwr 2024-01-20 11:10:28,283 | server.py:222 | fit_round 41: strategy sampled 10 clients (out of 33)\n",
            "DEBUG:flwr:fit_round 41: strategy sampled 10 clients (out of 33)\n"
          ]
        },
        {
          "output_type": "stream",
          "name": "stdout",
          "text": [
            "\u001b[2m\u001b[36m(DefaultActor pid=1457)\u001b[0m ATTACKER\n",
            "\u001b[2m\u001b[36m(DefaultActor pid=1457)\u001b[0m output size:  256\n",
            "\u001b[2m\u001b[36m(DefaultActor pid=1457)\u001b[0m selected images size:  3\n",
            "\u001b[2m\u001b[36m(DefaultActor pid=1457)\u001b[0m output size:  256\n",
            "\u001b[2m\u001b[36m(DefaultActor pid=1457)\u001b[0m selected images size:  6\n",
            "\u001b[2m\u001b[36m(DefaultActor pid=1457)\u001b[0m output size:  256\n",
            "\u001b[2m\u001b[36m(DefaultActor pid=1457)\u001b[0m selected images size:  11\n",
            "\u001b[2m\u001b[36m(DefaultActor pid=1457)\u001b[0m output size:  101\n",
            "\u001b[2m\u001b[36m(DefaultActor pid=1457)\u001b[0m selected images size:  5\n",
            "\u001b[2m\u001b[36m(DefaultActor pid=1457)\u001b[0m output size:  256\n",
            "\u001b[2m\u001b[36m(DefaultActor pid=1457)\u001b[0m selected images size:  18\n",
            "\u001b[2m\u001b[36m(DefaultActor pid=1457)\u001b[0m output size:  256\n",
            "\u001b[2m\u001b[36m(DefaultActor pid=1457)\u001b[0m selected images size:  9\n",
            "\u001b[2m\u001b[36m(DefaultActor pid=1457)\u001b[0m output size:  256\n",
            "\u001b[2m\u001b[36m(DefaultActor pid=1457)\u001b[0m selected images size:  11\n",
            "\u001b[2m\u001b[36m(DefaultActor pid=1457)\u001b[0m output size:  256\n",
            "\u001b[2m\u001b[36m(DefaultActor pid=1457)\u001b[0m selected images size:  11\n",
            "\u001b[2m\u001b[36m(DefaultActor pid=1457)\u001b[0m output size:  256\n",
            "\u001b[2m\u001b[36m(DefaultActor pid=1457)\u001b[0m selected images size:  8\n",
            "\u001b[2m\u001b[36m(DefaultActor pid=1457)\u001b[0m output size:  256\n",
            "\u001b[2m\u001b[36m(DefaultActor pid=1457)\u001b[0m selected images size:  5\n",
            "\u001b[2m\u001b[36m(DefaultActor pid=1457)\u001b[0m output size:  256\n",
            "\u001b[2m\u001b[36m(DefaultActor pid=1457)\u001b[0m selected images size:  2\n",
            "\u001b[2m\u001b[36m(DefaultActor pid=1457)\u001b[0m output size:  256\n",
            "\u001b[2m\u001b[36m(DefaultActor pid=1457)\u001b[0m selected images size:  1\n",
            "\u001b[2m\u001b[36m(DefaultActor pid=1457)\u001b[0m output size:  256\n",
            "\u001b[2m\u001b[36m(DefaultActor pid=1457)\u001b[0m selected images size:  3\n",
            "\u001b[2m\u001b[36m(DefaultActor pid=1457)\u001b[0m output size:  256\n",
            "\u001b[2m\u001b[36m(DefaultActor pid=1457)\u001b[0m selected images size:  1\n",
            "\u001b[2m\u001b[36m(DefaultActor pid=1457)\u001b[0m output size:  256\n",
            "\u001b[2m\u001b[36m(DefaultActor pid=1457)\u001b[0m selected images size:  7\n",
            "\u001b[2m\u001b[36m(DefaultActor pid=1457)\u001b[0m output size:  256\n",
            "\u001b[2m\u001b[36m(DefaultActor pid=1457)\u001b[0m selected images size:  6\n",
            "\u001b[2m\u001b[36m(DefaultActor pid=1457)\u001b[0m output size:  101\n",
            "\u001b[2m\u001b[36m(DefaultActor pid=1457)\u001b[0m selected images size:  4\n",
            "\u001b[2m\u001b[36m(DefaultActor pid=1457)\u001b[0m output size:  256\n",
            "\u001b[2m\u001b[36m(DefaultActor pid=1457)\u001b[0m selected images size:  10\n",
            "\u001b[2m\u001b[36m(DefaultActor pid=1457)\u001b[0m output size:  256\n",
            "\u001b[2m\u001b[36m(DefaultActor pid=1457)\u001b[0m selected images size:  1\n",
            "\u001b[2m\u001b[36m(DefaultActor pid=1457)\u001b[0m output size:  256\n",
            "\u001b[2m\u001b[36m(DefaultActor pid=1457)\u001b[0m selected images size:  3\n",
            "\u001b[2m\u001b[36m(DefaultActor pid=1457)\u001b[0m output size:  256\n",
            "\u001b[2m\u001b[36m(DefaultActor pid=1457)\u001b[0m selected images size:  4\n",
            "\u001b[2m\u001b[36m(DefaultActor pid=1457)\u001b[0m output size:  256\n",
            "\u001b[2m\u001b[36m(DefaultActor pid=1457)\u001b[0m selected images size:  4\n",
            "\u001b[2m\u001b[36m(DefaultActor pid=1457)\u001b[0m output size:  256\n",
            "\u001b[2m\u001b[36m(DefaultActor pid=1457)\u001b[0m selected images size:  3\n",
            "\u001b[2m\u001b[36m(DefaultActor pid=1457)\u001b[0m output size:  101\n",
            "\u001b[2m\u001b[36m(DefaultActor pid=1457)\u001b[0m selected images size:  1\n",
            "\u001b[2m\u001b[36m(DefaultActor pid=1457)\u001b[0m output size:  256\n",
            "\u001b[2m\u001b[36m(DefaultActor pid=1457)\u001b[0m selected images size:  1\n",
            "\u001b[2m\u001b[36m(DefaultActor pid=1457)\u001b[0m output size:  256\n",
            "\u001b[2m\u001b[36m(DefaultActor pid=1457)\u001b[0m selected images size:  1\n",
            "\u001b[2m\u001b[36m(DefaultActor pid=1457)\u001b[0m output size:  256\n",
            "\u001b[2m\u001b[36m(DefaultActor pid=1457)\u001b[0m selected images size:  1\n",
            "\u001b[2m\u001b[36m(DefaultActor pid=1457)\u001b[0m output size:  256\n",
            "\u001b[2m\u001b[36m(DefaultActor pid=1457)\u001b[0m selected images size:  2\n",
            "\u001b[2m\u001b[36m(DefaultActor pid=1457)\u001b[0m output size:  256\n",
            "\u001b[2m\u001b[36m(DefaultActor pid=1457)\u001b[0m selected images size:  3\n",
            "\u001b[2m\u001b[36m(DefaultActor pid=1457)\u001b[0m output size:  256\n",
            "\u001b[2m\u001b[36m(DefaultActor pid=1457)\u001b[0m selected images size:  6\n",
            "\u001b[2m\u001b[36m(DefaultActor pid=1457)\u001b[0m output size:  256\n",
            "\u001b[2m\u001b[36m(DefaultActor pid=1457)\u001b[0m selected images size:  3\n",
            "\u001b[2m\u001b[36m(DefaultActor pid=1457)\u001b[0m output size:  256\n",
            "\u001b[2m\u001b[36m(DefaultActor pid=1457)\u001b[0m selected images size:  3\n",
            "\u001b[2m\u001b[36m(DefaultActor pid=1457)\u001b[0m output size:  256\n",
            "\u001b[2m\u001b[36m(DefaultActor pid=1457)\u001b[0m selected images size:  2\n",
            "\u001b[2m\u001b[36m(DefaultActor pid=1457)\u001b[0m output size:  256\n",
            "\u001b[2m\u001b[36m(DefaultActor pid=1457)\u001b[0m selected images size:  2\n",
            "\u001b[2m\u001b[36m(DefaultActor pid=1457)\u001b[0m output size:  256\n",
            "\u001b[2m\u001b[36m(DefaultActor pid=1457)\u001b[0m selected images size:  1\n",
            "\u001b[2m\u001b[36m(DefaultActor pid=1457)\u001b[0m output size:  101\n",
            "\u001b[2m\u001b[36m(DefaultActor pid=1457)\u001b[0m selected images size:  1\n",
            "\u001b[2m\u001b[36m(DefaultActor pid=1457)\u001b[0m output size:  256\n",
            "\u001b[2m\u001b[36m(DefaultActor pid=1457)\u001b[0m selected images size:  1\n",
            "\u001b[2m\u001b[36m(DefaultActor pid=1457)\u001b[0m output size:  256\n",
            "\u001b[2m\u001b[36m(DefaultActor pid=1457)\u001b[0m selected images size:  1\n",
            "\u001b[2m\u001b[36m(DefaultActor pid=1457)\u001b[0m output size:  256\n",
            "\u001b[2m\u001b[36m(DefaultActor pid=1457)\u001b[0m selected images size:  1\n",
            "\u001b[2m\u001b[36m(DefaultActor pid=1457)\u001b[0m output size:  256\n",
            "\u001b[2m\u001b[36m(DefaultActor pid=1457)\u001b[0m selected images size:  1\n",
            "\u001b[2m\u001b[36m(DefaultActor pid=1457)\u001b[0m output size:  256\n",
            "\u001b[2m\u001b[36m(DefaultActor pid=1457)\u001b[0m selected images size:  1\n",
            "\u001b[2m\u001b[36m(DefaultActor pid=1457)\u001b[0m output size:  256\n",
            "\u001b[2m\u001b[36m(DefaultActor pid=1457)\u001b[0m selected images size:  1\n",
            "\u001b[2m\u001b[36m(DefaultActor pid=1457)\u001b[0m output size:  256\n",
            "\u001b[2m\u001b[36m(DefaultActor pid=1457)\u001b[0m selected images size:  1\n",
            "\u001b[2m\u001b[36m(DefaultActor pid=1457)\u001b[0m output size:  101\n",
            "\u001b[2m\u001b[36m(DefaultActor pid=1457)\u001b[0m selected images size:  3\n",
            "\u001b[2m\u001b[36m(DefaultActor pid=1457)\u001b[0m output size:  256\n",
            "\u001b[2m\u001b[36m(DefaultActor pid=1457)\u001b[0m selected images size:  2\n",
            "\u001b[2m\u001b[36m(DefaultActor pid=1457)\u001b[0m output size:  256\n",
            "\u001b[2m\u001b[36m(DefaultActor pid=1457)\u001b[0m selected images size:  2\n",
            "\u001b[2m\u001b[36m(DefaultActor pid=1457)\u001b[0m output size:  256\n",
            "\u001b[2m\u001b[36m(DefaultActor pid=1457)\u001b[0m selected images size:  4\n",
            "\u001b[2m\u001b[36m(DefaultActor pid=1457)\u001b[0m output size:  256\n",
            "\u001b[2m\u001b[36m(DefaultActor pid=1457)\u001b[0m selected images size:  2\n",
            "\u001b[2m\u001b[36m(DefaultActor pid=1457)\u001b[0m output size:  256\n",
            "\u001b[2m\u001b[36m(DefaultActor pid=1457)\u001b[0m selected images size:  1\n",
            "\u001b[2m\u001b[36m(DefaultActor pid=1457)\u001b[0m output size:  256\n",
            "\u001b[2m\u001b[36m(DefaultActor pid=1457)\u001b[0m selected images size:  2\n",
            "\u001b[2m\u001b[36m(DefaultActor pid=1457)\u001b[0m output size:  256\n",
            "\u001b[2m\u001b[36m(DefaultActor pid=1457)\u001b[0m selected images size:  1\n",
            "\u001b[2m\u001b[36m(DefaultActor pid=1457)\u001b[0m output size:  256\n",
            "\u001b[2m\u001b[36m(DefaultActor pid=1457)\u001b[0m selected images size:  1\n",
            "\u001b[2m\u001b[36m(DefaultActor pid=1457)\u001b[0m output size:  256\n",
            "\u001b[2m\u001b[36m(DefaultActor pid=1457)\u001b[0m selected images size:  1\n",
            "\u001b[2m\u001b[36m(DefaultActor pid=1457)\u001b[0m output size:  256\n",
            "\u001b[2m\u001b[36m(DefaultActor pid=1457)\u001b[0m selected images size:  1\n",
            "\u001b[2m\u001b[36m(DefaultActor pid=1457)\u001b[0m output size:  256\n",
            "\u001b[2m\u001b[36m(DefaultActor pid=1457)\u001b[0m selected images size:  2\n",
            "\u001b[2m\u001b[36m(DefaultActor pid=1457)\u001b[0m output size:  101\n",
            "\u001b[2m\u001b[36m(DefaultActor pid=1457)\u001b[0m selected images size:  1\n",
            "\u001b[2m\u001b[36m(DefaultActor pid=1457)\u001b[0m output size:  256\n",
            "\u001b[2m\u001b[36m(DefaultActor pid=1457)\u001b[0m selected images size:  2\n",
            "\u001b[2m\u001b[36m(DefaultActor pid=1457)\u001b[0m output size:  256\n",
            "\u001b[2m\u001b[36m(DefaultActor pid=1457)\u001b[0m selected images size:  2\n",
            "\u001b[2m\u001b[36m(DefaultActor pid=1457)\u001b[0m output size:  256\n",
            "\u001b[2m\u001b[36m(DefaultActor pid=1457)\u001b[0m selected images size:  1\n",
            "\u001b[2m\u001b[36m(DefaultActor pid=1457)\u001b[0m output size:  256\n",
            "\u001b[2m\u001b[36m(DefaultActor pid=1457)\u001b[0m selected images size:  4\n",
            "\u001b[2m\u001b[36m(DefaultActor pid=1457)\u001b[0m output size:  256\n",
            "\u001b[2m\u001b[36m(DefaultActor pid=1457)\u001b[0m selected images size:  1\n"
          ]
        },
        {
          "output_type": "stream",
          "name": "stderr",
          "text": [
            "DEBUG flwr 2024-01-20 11:12:35,200 | server.py:236 | fit_round 41 received 10 results and 0 failures\n",
            "DEBUG:flwr:fit_round 41 received 10 results and 0 failures\n"
          ]
        },
        {
          "output_type": "stream",
          "name": "stdout",
          "text": [
            "Saving round 41 aggregated_parameters...\n"
          ]
        },
        {
          "output_type": "stream",
          "name": "stderr",
          "text": [
            "INFO flwr 2024-01-20 11:12:51,209 | server.py:125 | fit progress: (41, 295.7035915851593, {'accuracy': 0.3875968992248062}, 5683.016043441)\n",
            "INFO:flwr:fit progress: (41, 295.7035915851593, {'accuracy': 0.3875968992248062}, 5683.016043441)\n",
            "DEBUG flwr 2024-01-20 11:12:51,212 | server.py:173 | evaluate_round 41: strategy sampled 10 clients (out of 33)\n",
            "DEBUG:flwr:evaluate_round 41: strategy sampled 10 clients (out of 33)\n"
          ]
        },
        {
          "output_type": "stream",
          "name": "stdout",
          "text": [
            "GLOBAL TEST\n"
          ]
        },
        {
          "output_type": "stream",
          "name": "stderr",
          "text": [
            "DEBUG flwr 2024-01-20 11:12:54,824 | server.py:187 | evaluate_round 41 received 10 results and 0 failures\n",
            "DEBUG:flwr:evaluate_round 41 received 10 results and 0 failures\n",
            "DEBUG flwr 2024-01-20 11:12:54,827 | server.py:222 | fit_round 42: strategy sampled 10 clients (out of 33)\n",
            "DEBUG:flwr:fit_round 42: strategy sampled 10 clients (out of 33)\n",
            "DEBUG flwr 2024-01-20 11:14:13,549 | server.py:236 | fit_round 42 received 10 results and 0 failures\n",
            "DEBUG:flwr:fit_round 42 received 10 results and 0 failures\n"
          ]
        },
        {
          "output_type": "stream",
          "name": "stdout",
          "text": [
            "Saving round 42 aggregated_parameters...\n"
          ]
        },
        {
          "output_type": "stream",
          "name": "stderr",
          "text": [
            "INFO flwr 2024-01-20 11:14:29,256 | server.py:125 | fit progress: (42, 295.6200544834137, {'accuracy': 0.1937984496124031}, 5781.063079774)\n",
            "INFO:flwr:fit progress: (42, 295.6200544834137, {'accuracy': 0.1937984496124031}, 5781.063079774)\n",
            "DEBUG flwr 2024-01-20 11:14:29,260 | server.py:173 | evaluate_round 42: strategy sampled 10 clients (out of 33)\n",
            "DEBUG:flwr:evaluate_round 42: strategy sampled 10 clients (out of 33)\n"
          ]
        },
        {
          "output_type": "stream",
          "name": "stdout",
          "text": [
            "GLOBAL TEST\n"
          ]
        },
        {
          "output_type": "stream",
          "name": "stderr",
          "text": [
            "DEBUG flwr 2024-01-20 11:14:32,822 | server.py:187 | evaluate_round 42 received 10 results and 0 failures\n",
            "DEBUG:flwr:evaluate_round 42 received 10 results and 0 failures\n",
            "DEBUG flwr 2024-01-20 11:14:32,826 | server.py:222 | fit_round 43: strategy sampled 10 clients (out of 33)\n",
            "DEBUG:flwr:fit_round 43: strategy sampled 10 clients (out of 33)\n",
            "DEBUG flwr 2024-01-20 11:15:53,434 | server.py:236 | fit_round 43 received 10 results and 0 failures\n",
            "DEBUG:flwr:fit_round 43 received 10 results and 0 failures\n"
          ]
        },
        {
          "output_type": "stream",
          "name": "stdout",
          "text": [
            "Saving round 43 aggregated_parameters...\n"
          ]
        },
        {
          "output_type": "stream",
          "name": "stderr",
          "text": [
            "INFO flwr 2024-01-20 11:16:09,251 | server.py:125 | fit progress: (43, 295.57729399204254, {'accuracy': 0.1937984496124031}, 5881.058191764)\n",
            "INFO:flwr:fit progress: (43, 295.57729399204254, {'accuracy': 0.1937984496124031}, 5881.058191764)\n",
            "DEBUG flwr 2024-01-20 11:16:09,256 | server.py:173 | evaluate_round 43: strategy sampled 10 clients (out of 33)\n",
            "DEBUG:flwr:evaluate_round 43: strategy sampled 10 clients (out of 33)\n"
          ]
        },
        {
          "output_type": "stream",
          "name": "stdout",
          "text": [
            "GLOBAL TEST\n"
          ]
        },
        {
          "output_type": "stream",
          "name": "stderr",
          "text": [
            "DEBUG flwr 2024-01-20 11:16:12,871 | server.py:187 | evaluate_round 43 received 10 results and 0 failures\n",
            "DEBUG:flwr:evaluate_round 43 received 10 results and 0 failures\n",
            "DEBUG flwr 2024-01-20 11:16:12,875 | server.py:222 | fit_round 44: strategy sampled 10 clients (out of 33)\n",
            "DEBUG:flwr:fit_round 44: strategy sampled 10 clients (out of 33)\n"
          ]
        },
        {
          "output_type": "stream",
          "name": "stdout",
          "text": [
            "\u001b[2m\u001b[36m(DefaultActor pid=1457)\u001b[0m ATTACKER\n",
            "\u001b[2m\u001b[36m(DefaultActor pid=1457)\u001b[0m output size:  101\n",
            "\u001b[2m\u001b[36m(DefaultActor pid=1457)\u001b[0m selected images size:  1\n",
            "\u001b[2m\u001b[36m(DefaultActor pid=1457)\u001b[0m output size:  101\n",
            "\u001b[2m\u001b[36m(DefaultActor pid=1457)\u001b[0m selected images size:  2\n",
            "\u001b[2m\u001b[36m(DefaultActor pid=1457)\u001b[0m output size:  256\n",
            "\u001b[2m\u001b[36m(DefaultActor pid=1457)\u001b[0m selected images size:  3\n",
            "\u001b[2m\u001b[36m(DefaultActor pid=1457)\u001b[0m output size:  256\n",
            "\u001b[2m\u001b[36m(DefaultActor pid=1457)\u001b[0m selected images size:  1\n",
            "\u001b[2m\u001b[36m(DefaultActor pid=1457)\u001b[0m output size:  256\n",
            "\u001b[2m\u001b[36m(DefaultActor pid=1457)\u001b[0m selected images size:  2\n",
            "\u001b[2m\u001b[36m(DefaultActor pid=1457)\u001b[0m output size:  256\n",
            "\u001b[2m\u001b[36m(DefaultActor pid=1457)\u001b[0m selected images size:  3\n",
            "\u001b[2m\u001b[36m(DefaultActor pid=1457)\u001b[0m output size:  256\n",
            "\u001b[2m\u001b[36m(DefaultActor pid=1457)\u001b[0m selected images size:  1\n",
            "\u001b[2m\u001b[36m(DefaultActor pid=1457)\u001b[0m output size:  101\n",
            "\u001b[2m\u001b[36m(DefaultActor pid=1457)\u001b[0m selected images size:  3\n",
            "\u001b[2m\u001b[36m(DefaultActor pid=1457)\u001b[0m output size:  256\n",
            "\u001b[2m\u001b[36m(DefaultActor pid=1457)\u001b[0m selected images size:  2\n",
            "\u001b[2m\u001b[36m(DefaultActor pid=1457)\u001b[0m output size:  256\n",
            "\u001b[2m\u001b[36m(DefaultActor pid=1457)\u001b[0m selected images size:  2\n",
            "\u001b[2m\u001b[36m(DefaultActor pid=1457)\u001b[0m output size:  256\n",
            "\u001b[2m\u001b[36m(DefaultActor pid=1457)\u001b[0m selected images size:  5\n",
            "\u001b[2m\u001b[36m(DefaultActor pid=1457)\u001b[0m output size:  256\n",
            "\u001b[2m\u001b[36m(DefaultActor pid=1457)\u001b[0m selected images size:  2\n",
            "\u001b[2m\u001b[36m(DefaultActor pid=1457)\u001b[0m output size:  256\n",
            "\u001b[2m\u001b[36m(DefaultActor pid=1457)\u001b[0m selected images size:  6\n",
            "\u001b[2m\u001b[36m(DefaultActor pid=1457)\u001b[0m output size:  256\n",
            "\u001b[2m\u001b[36m(DefaultActor pid=1457)\u001b[0m selected images size:  4\n",
            "\u001b[2m\u001b[36m(DefaultActor pid=1457)\u001b[0m output size:  101\n",
            "\u001b[2m\u001b[36m(DefaultActor pid=1457)\u001b[0m selected images size:  3\n",
            "\u001b[2m\u001b[36m(DefaultActor pid=1457)\u001b[0m output size:  256\n",
            "\u001b[2m\u001b[36m(DefaultActor pid=1457)\u001b[0m selected images size:  6\n",
            "\u001b[2m\u001b[36m(DefaultActor pid=1457)\u001b[0m output size:  256\n",
            "\u001b[2m\u001b[36m(DefaultActor pid=1457)\u001b[0m selected images size:  12\n",
            "\u001b[2m\u001b[36m(DefaultActor pid=1457)\u001b[0m output size:  256\n",
            "\u001b[2m\u001b[36m(DefaultActor pid=1457)\u001b[0m selected images size:  8\n",
            "\u001b[2m\u001b[36m(DefaultActor pid=1457)\u001b[0m output size:  256\n",
            "\u001b[2m\u001b[36m(DefaultActor pid=1457)\u001b[0m selected images size:  6\n",
            "\u001b[2m\u001b[36m(DefaultActor pid=1457)\u001b[0m output size:  256\n",
            "\u001b[2m\u001b[36m(DefaultActor pid=1457)\u001b[0m selected images size:  5\n",
            "\u001b[2m\u001b[36m(DefaultActor pid=1457)\u001b[0m output size:  256\n",
            "\u001b[2m\u001b[36m(DefaultActor pid=1457)\u001b[0m selected images size:  12\n",
            "\u001b[2m\u001b[36m(DefaultActor pid=1457)\u001b[0m output size:  101\n",
            "\u001b[2m\u001b[36m(DefaultActor pid=1457)\u001b[0m selected images size:  2\n",
            "\u001b[2m\u001b[36m(DefaultActor pid=1457)\u001b[0m output size:  256\n",
            "\u001b[2m\u001b[36m(DefaultActor pid=1457)\u001b[0m selected images size:  3\n",
            "\u001b[2m\u001b[36m(DefaultActor pid=1457)\u001b[0m output size:  256\n",
            "\u001b[2m\u001b[36m(DefaultActor pid=1457)\u001b[0m selected images size:  7\n",
            "\u001b[2m\u001b[36m(DefaultActor pid=1457)\u001b[0m output size:  256\n",
            "\u001b[2m\u001b[36m(DefaultActor pid=1457)\u001b[0m selected images size:  5\n",
            "\u001b[2m\u001b[36m(DefaultActor pid=1457)\u001b[0m output size:  256\n",
            "\u001b[2m\u001b[36m(DefaultActor pid=1457)\u001b[0m selected images size:  4\n",
            "\u001b[2m\u001b[36m(DefaultActor pid=1457)\u001b[0m output size:  256\n",
            "\u001b[2m\u001b[36m(DefaultActor pid=1457)\u001b[0m selected images size:  5\n",
            "\u001b[2m\u001b[36m(DefaultActor pid=1457)\u001b[0m output size:  256\n",
            "\u001b[2m\u001b[36m(DefaultActor pid=1457)\u001b[0m selected images size:  6\n",
            "\u001b[2m\u001b[36m(DefaultActor pid=1457)\u001b[0m output size:  101\n",
            "\u001b[2m\u001b[36m(DefaultActor pid=1457)\u001b[0m selected images size:  4\n",
            "\u001b[2m\u001b[36m(DefaultActor pid=1457)\u001b[0m output size:  256\n",
            "\u001b[2m\u001b[36m(DefaultActor pid=1457)\u001b[0m selected images size:  11\n",
            "\u001b[2m\u001b[36m(DefaultActor pid=1457)\u001b[0m output size:  256\n",
            "\u001b[2m\u001b[36m(DefaultActor pid=1457)\u001b[0m selected images size:  8\n",
            "\u001b[2m\u001b[36m(DefaultActor pid=1457)\u001b[0m output size:  256\n",
            "\u001b[2m\u001b[36m(DefaultActor pid=1457)\u001b[0m selected images size:  12\n",
            "\u001b[2m\u001b[36m(DefaultActor pid=1457)\u001b[0m output size:  256\n",
            "\u001b[2m\u001b[36m(DefaultActor pid=1457)\u001b[0m selected images size:  8\n",
            "\u001b[2m\u001b[36m(DefaultActor pid=1457)\u001b[0m output size:  256\n",
            "\u001b[2m\u001b[36m(DefaultActor pid=1457)\u001b[0m selected images size:  11\n",
            "\u001b[2m\u001b[36m(DefaultActor pid=1457)\u001b[0m output size:  256\n",
            "\u001b[2m\u001b[36m(DefaultActor pid=1457)\u001b[0m selected images size:  10\n",
            "\u001b[2m\u001b[36m(DefaultActor pid=1457)\u001b[0m output size:  101\n",
            "\u001b[2m\u001b[36m(DefaultActor pid=1457)\u001b[0m selected images size:  3\n",
            "\u001b[2m\u001b[36m(DefaultActor pid=1457)\u001b[0m output size:  256\n",
            "\u001b[2m\u001b[36m(DefaultActor pid=1457)\u001b[0m selected images size:  5\n",
            "\u001b[2m\u001b[36m(DefaultActor pid=1457)\u001b[0m output size:  256\n",
            "\u001b[2m\u001b[36m(DefaultActor pid=1457)\u001b[0m selected images size:  4\n",
            "\u001b[2m\u001b[36m(DefaultActor pid=1457)\u001b[0m output size:  256\n",
            "\u001b[2m\u001b[36m(DefaultActor pid=1457)\u001b[0m selected images size:  6\n",
            "\u001b[2m\u001b[36m(DefaultActor pid=1457)\u001b[0m output size:  256\n",
            "\u001b[2m\u001b[36m(DefaultActor pid=1457)\u001b[0m selected images size:  3\n",
            "\u001b[2m\u001b[36m(DefaultActor pid=1457)\u001b[0m output size:  256\n",
            "\u001b[2m\u001b[36m(DefaultActor pid=1457)\u001b[0m selected images size:  3\n",
            "\u001b[2m\u001b[36m(DefaultActor pid=1457)\u001b[0m output size:  101\n",
            "\u001b[2m\u001b[36m(DefaultActor pid=1457)\u001b[0m selected images size:  2\n",
            "\u001b[2m\u001b[36m(DefaultActor pid=1457)\u001b[0m output size:  256\n",
            "\u001b[2m\u001b[36m(DefaultActor pid=1457)\u001b[0m selected images size:  3\n",
            "\u001b[2m\u001b[36m(DefaultActor pid=1457)\u001b[0m output size:  256\n",
            "\u001b[2m\u001b[36m(DefaultActor pid=1457)\u001b[0m selected images size:  2\n",
            "\u001b[2m\u001b[36m(DefaultActor pid=1457)\u001b[0m output size:  256\n",
            "\u001b[2m\u001b[36m(DefaultActor pid=1457)\u001b[0m selected images size:  5\n",
            "\u001b[2m\u001b[36m(DefaultActor pid=1457)\u001b[0m output size:  256\n",
            "\u001b[2m\u001b[36m(DefaultActor pid=1457)\u001b[0m selected images size:  6\n",
            "\u001b[2m\u001b[36m(DefaultActor pid=1457)\u001b[0m output size:  256\n",
            "\u001b[2m\u001b[36m(DefaultActor pid=1457)\u001b[0m selected images size:  5\n",
            "\u001b[2m\u001b[36m(DefaultActor pid=1457)\u001b[0m output size:  256\n",
            "\u001b[2m\u001b[36m(DefaultActor pid=1457)\u001b[0m selected images size:  3\n",
            "\u001b[2m\u001b[36m(DefaultActor pid=1457)\u001b[0m output size:  101\n",
            "\u001b[2m\u001b[36m(DefaultActor pid=1457)\u001b[0m selected images size:  4\n",
            "\u001b[2m\u001b[36m(DefaultActor pid=1457)\u001b[0m output size:  256\n",
            "\u001b[2m\u001b[36m(DefaultActor pid=1457)\u001b[0m selected images size:  1\n",
            "\u001b[2m\u001b[36m(DefaultActor pid=1457)\u001b[0m output size:  256\n",
            "\u001b[2m\u001b[36m(DefaultActor pid=1457)\u001b[0m selected images size:  2\n",
            "\u001b[2m\u001b[36m(DefaultActor pid=1457)\u001b[0m output size:  256\n",
            "\u001b[2m\u001b[36m(DefaultActor pid=1457)\u001b[0m selected images size:  4\n",
            "\u001b[2m\u001b[36m(DefaultActor pid=1457)\u001b[0m output size:  256\n",
            "\u001b[2m\u001b[36m(DefaultActor pid=1457)\u001b[0m selected images size:  2\n",
            "\u001b[2m\u001b[36m(DefaultActor pid=1457)\u001b[0m output size:  256\n",
            "\u001b[2m\u001b[36m(DefaultActor pid=1457)\u001b[0m selected images size:  4\n",
            "\u001b[2m\u001b[36m(DefaultActor pid=1457)\u001b[0m output size:  101\n",
            "\u001b[2m\u001b[36m(DefaultActor pid=1457)\u001b[0m selected images size:  1\n",
            "\u001b[2m\u001b[36m(DefaultActor pid=1457)\u001b[0m output size:  256\n",
            "\u001b[2m\u001b[36m(DefaultActor pid=1457)\u001b[0m selected images size:  2\n",
            "\u001b[2m\u001b[36m(DefaultActor pid=1457)\u001b[0m output size:  256\n",
            "\u001b[2m\u001b[36m(DefaultActor pid=1457)\u001b[0m selected images size:  3\n",
            "\u001b[2m\u001b[36m(DefaultActor pid=1457)\u001b[0m output size:  256\n",
            "\u001b[2m\u001b[36m(DefaultActor pid=1457)\u001b[0m selected images size:  1\n",
            "\u001b[2m\u001b[36m(DefaultActor pid=1457)\u001b[0m output size:  256\n",
            "\u001b[2m\u001b[36m(DefaultActor pid=1457)\u001b[0m selected images size:  2\n",
            "\u001b[2m\u001b[36m(DefaultActor pid=1457)\u001b[0m output size:  256\n",
            "\u001b[2m\u001b[36m(DefaultActor pid=1457)\u001b[0m selected images size:  1\n",
            "\u001b[2m\u001b[36m(DefaultActor pid=1457)\u001b[0m output size:  256\n",
            "\u001b[2m\u001b[36m(DefaultActor pid=1457)\u001b[0m selected images size:  3\n",
            "\u001b[2m\u001b[36m(DefaultActor pid=1457)\u001b[0m output size:  256\n",
            "\u001b[2m\u001b[36m(DefaultActor pid=1457)\u001b[0m selected images size:  3\n",
            "\u001b[2m\u001b[36m(DefaultActor pid=1457)\u001b[0m output size:  256\n",
            "\u001b[2m\u001b[36m(DefaultActor pid=1457)\u001b[0m selected images size:  2\n",
            "\u001b[2m\u001b[36m(DefaultActor pid=1457)\u001b[0m output size:  256\n",
            "\u001b[2m\u001b[36m(DefaultActor pid=1457)\u001b[0m selected images size:  5\n",
            "\u001b[2m\u001b[36m(DefaultActor pid=1457)\u001b[0m output size:  256\n",
            "\u001b[2m\u001b[36m(DefaultActor pid=1457)\u001b[0m selected images size:  2\n",
            "\u001b[2m\u001b[36m(DefaultActor pid=1457)\u001b[0m output size:  256\n",
            "\u001b[2m\u001b[36m(DefaultActor pid=1457)\u001b[0m selected images size:  4\n",
            "\u001b[2m\u001b[36m(DefaultActor pid=1457)\u001b[0m output size:  256\n",
            "\u001b[2m\u001b[36m(DefaultActor pid=1457)\u001b[0m selected images size:  2\n",
            "\u001b[2m\u001b[36m(DefaultActor pid=1457)\u001b[0m output size:  256\n",
            "\u001b[2m\u001b[36m(DefaultActor pid=1457)\u001b[0m selected images size:  1\n",
            "\u001b[2m\u001b[36m(DefaultActor pid=1457)\u001b[0m output size:  256\n",
            "\u001b[2m\u001b[36m(DefaultActor pid=1457)\u001b[0m selected images size:  1\n",
            "\u001b[2m\u001b[36m(DefaultActor pid=1457)\u001b[0m output size:  256\n",
            "\u001b[2m\u001b[36m(DefaultActor pid=1457)\u001b[0m selected images size:  2\n",
            "\u001b[2m\u001b[36m(DefaultActor pid=1457)\u001b[0m output size:  101\n",
            "\u001b[2m\u001b[36m(DefaultActor pid=1457)\u001b[0m selected images size:  1\n"
          ]
        },
        {
          "output_type": "stream",
          "name": "stderr",
          "text": [
            "DEBUG flwr 2024-01-20 11:18:18,624 | server.py:236 | fit_round 44 received 10 results and 0 failures\n",
            "DEBUG:flwr:fit_round 44 received 10 results and 0 failures\n"
          ]
        },
        {
          "output_type": "stream",
          "name": "stdout",
          "text": [
            "Saving round 44 aggregated_parameters...\n"
          ]
        },
        {
          "output_type": "stream",
          "name": "stderr",
          "text": [
            "INFO flwr 2024-01-20 11:18:34,089 | server.py:125 | fit progress: (44, 295.59884464740753, {'accuracy': 0.3875968992248062}, 6025.895955315)\n",
            "INFO:flwr:fit progress: (44, 295.59884464740753, {'accuracy': 0.3875968992248062}, 6025.895955315)\n",
            "DEBUG flwr 2024-01-20 11:18:34,093 | server.py:173 | evaluate_round 44: strategy sampled 10 clients (out of 33)\n",
            "DEBUG:flwr:evaluate_round 44: strategy sampled 10 clients (out of 33)\n"
          ]
        },
        {
          "output_type": "stream",
          "name": "stdout",
          "text": [
            "GLOBAL TEST\n"
          ]
        },
        {
          "output_type": "stream",
          "name": "stderr",
          "text": [
            "DEBUG flwr 2024-01-20 11:18:37,614 | server.py:187 | evaluate_round 44 received 10 results and 0 failures\n",
            "DEBUG:flwr:evaluate_round 44 received 10 results and 0 failures\n",
            "DEBUG flwr 2024-01-20 11:18:37,617 | server.py:222 | fit_round 45: strategy sampled 10 clients (out of 33)\n",
            "DEBUG:flwr:fit_round 45: strategy sampled 10 clients (out of 33)\n",
            "DEBUG flwr 2024-01-20 11:19:54,461 | server.py:236 | fit_round 45 received 10 results and 0 failures\n",
            "DEBUG:flwr:fit_round 45 received 10 results and 0 failures\n"
          ]
        },
        {
          "output_type": "stream",
          "name": "stdout",
          "text": [
            "Saving round 45 aggregated_parameters...\n"
          ]
        },
        {
          "output_type": "stream",
          "name": "stderr",
          "text": [
            "INFO flwr 2024-01-20 11:20:10,647 | server.py:125 | fit progress: (45, 295.5483615398407, {'accuracy': 0.1937984496124031}, 6122.454376004)\n",
            "INFO:flwr:fit progress: (45, 295.5483615398407, {'accuracy': 0.1937984496124031}, 6122.454376004)\n",
            "DEBUG flwr 2024-01-20 11:20:10,651 | server.py:173 | evaluate_round 45: strategy sampled 10 clients (out of 33)\n",
            "DEBUG:flwr:evaluate_round 45: strategy sampled 10 clients (out of 33)\n"
          ]
        },
        {
          "output_type": "stream",
          "name": "stdout",
          "text": [
            "GLOBAL TEST\n"
          ]
        },
        {
          "output_type": "stream",
          "name": "stderr",
          "text": [
            "DEBUG flwr 2024-01-20 11:20:14,310 | server.py:187 | evaluate_round 45 received 10 results and 0 failures\n",
            "DEBUG:flwr:evaluate_round 45 received 10 results and 0 failures\n",
            "DEBUG flwr 2024-01-20 11:20:14,313 | server.py:222 | fit_round 46: strategy sampled 10 clients (out of 33)\n",
            "DEBUG:flwr:fit_round 46: strategy sampled 10 clients (out of 33)\n"
          ]
        },
        {
          "output_type": "stream",
          "name": "stdout",
          "text": [
            "\u001b[2m\u001b[36m(DefaultActor pid=1457)\u001b[0m ATTACKER\n",
            "\u001b[2m\u001b[36m(DefaultActor pid=1457)\u001b[0m output size:  256\n",
            "\u001b[2m\u001b[36m(DefaultActor pid=1457)\u001b[0m selected images size:  1\n",
            "\u001b[2m\u001b[36m(DefaultActor pid=1457)\u001b[0m output size:  256\n",
            "\u001b[2m\u001b[36m(DefaultActor pid=1457)\u001b[0m selected images size:  2\n",
            "\u001b[2m\u001b[36m(DefaultActor pid=1457)\u001b[0m output size:  256\n",
            "\u001b[2m\u001b[36m(DefaultActor pid=1457)\u001b[0m selected images size:  1\n",
            "\u001b[2m\u001b[36m(DefaultActor pid=1457)\u001b[0m output size:  256\n",
            "\u001b[2m\u001b[36m(DefaultActor pid=1457)\u001b[0m selected images size:  3\n",
            "\u001b[2m\u001b[36m(DefaultActor pid=1457)\u001b[0m output size:  256\n",
            "\u001b[2m\u001b[36m(DefaultActor pid=1457)\u001b[0m selected images size:  1\n",
            "\u001b[2m\u001b[36m(DefaultActor pid=1457)\u001b[0m output size:  256\n",
            "\u001b[2m\u001b[36m(DefaultActor pid=1457)\u001b[0m selected images size:  1\n",
            "\u001b[2m\u001b[36m(DefaultActor pid=1457)\u001b[0m output size:  256\n",
            "\u001b[2m\u001b[36m(DefaultActor pid=1457)\u001b[0m selected images size:  1\n",
            "\u001b[2m\u001b[36m(DefaultActor pid=1457)\u001b[0m output size:  256\n",
            "\u001b[2m\u001b[36m(DefaultActor pid=1457)\u001b[0m selected images size:  1\n",
            "\u001b[2m\u001b[36m(DefaultActor pid=1457)\u001b[0m output size:  256\n",
            "\u001b[2m\u001b[36m(DefaultActor pid=1457)\u001b[0m selected images size:  2\n",
            "\u001b[2m\u001b[36m(DefaultActor pid=1457)\u001b[0m output size:  256\n",
            "\u001b[2m\u001b[36m(DefaultActor pid=1457)\u001b[0m selected images size:  3\n",
            "\u001b[2m\u001b[36m(DefaultActor pid=1457)\u001b[0m output size:  256\n",
            "\u001b[2m\u001b[36m(DefaultActor pid=1457)\u001b[0m selected images size:  1\n",
            "\u001b[2m\u001b[36m(DefaultActor pid=1457)\u001b[0m output size:  256\n",
            "\u001b[2m\u001b[36m(DefaultActor pid=1457)\u001b[0m selected images size:  1\n",
            "\u001b[2m\u001b[36m(DefaultActor pid=1457)\u001b[0m output size:  256\n",
            "\u001b[2m\u001b[36m(DefaultActor pid=1457)\u001b[0m selected images size:  1\n",
            "\u001b[2m\u001b[36m(DefaultActor pid=1457)\u001b[0m output size:  256\n",
            "\u001b[2m\u001b[36m(DefaultActor pid=1457)\u001b[0m selected images size:  1\n",
            "\u001b[2m\u001b[36m(DefaultActor pid=1457)\u001b[0m output size:  256\n",
            "\u001b[2m\u001b[36m(DefaultActor pid=1457)\u001b[0m selected images size:  1\n",
            "\u001b[2m\u001b[36m(DefaultActor pid=1457)\u001b[0m output size:  256\n",
            "\u001b[2m\u001b[36m(DefaultActor pid=1457)\u001b[0m selected images size:  2\n",
            "\u001b[2m\u001b[36m(DefaultActor pid=1457)\u001b[0m output size:  256\n",
            "\u001b[2m\u001b[36m(DefaultActor pid=1457)\u001b[0m selected images size:  3\n",
            "\u001b[2m\u001b[36m(DefaultActor pid=1457)\u001b[0m output size:  256\n",
            "\u001b[2m\u001b[36m(DefaultActor pid=1457)\u001b[0m selected images size:  2\n",
            "\u001b[2m\u001b[36m(DefaultActor pid=1457)\u001b[0m output size:  256\n",
            "\u001b[2m\u001b[36m(DefaultActor pid=1457)\u001b[0m selected images size:  3\n",
            "\u001b[2m\u001b[36m(DefaultActor pid=1457)\u001b[0m output size:  256\n",
            "\u001b[2m\u001b[36m(DefaultActor pid=1457)\u001b[0m selected images size:  6\n",
            "\u001b[2m\u001b[36m(DefaultActor pid=1457)\u001b[0m output size:  256\n",
            "\u001b[2m\u001b[36m(DefaultActor pid=1457)\u001b[0m selected images size:  6\n",
            "\u001b[2m\u001b[36m(DefaultActor pid=1457)\u001b[0m output size:  256\n",
            "\u001b[2m\u001b[36m(DefaultActor pid=1457)\u001b[0m selected images size:  3\n",
            "\u001b[2m\u001b[36m(DefaultActor pid=1457)\u001b[0m output size:  256\n",
            "\u001b[2m\u001b[36m(DefaultActor pid=1457)\u001b[0m selected images size:  7\n",
            "\u001b[2m\u001b[36m(DefaultActor pid=1457)\u001b[0m output size:  256\n",
            "\u001b[2m\u001b[36m(DefaultActor pid=1457)\u001b[0m selected images size:  4\n",
            "\u001b[2m\u001b[36m(DefaultActor pid=1457)\u001b[0m output size:  101\n",
            "\u001b[2m\u001b[36m(DefaultActor pid=1457)\u001b[0m selected images size:  1\n",
            "\u001b[2m\u001b[36m(DefaultActor pid=1457)\u001b[0m output size:  256\n",
            "\u001b[2m\u001b[36m(DefaultActor pid=1457)\u001b[0m selected images size:  3\n",
            "\u001b[2m\u001b[36m(DefaultActor pid=1457)\u001b[0m output size:  256\n",
            "\u001b[2m\u001b[36m(DefaultActor pid=1457)\u001b[0m selected images size:  4\n",
            "\u001b[2m\u001b[36m(DefaultActor pid=1457)\u001b[0m output size:  256\n",
            "\u001b[2m\u001b[36m(DefaultActor pid=1457)\u001b[0m selected images size:  4\n",
            "\u001b[2m\u001b[36m(DefaultActor pid=1457)\u001b[0m output size:  256\n",
            "\u001b[2m\u001b[36m(DefaultActor pid=1457)\u001b[0m selected images size:  3\n",
            "\u001b[2m\u001b[36m(DefaultActor pid=1457)\u001b[0m output size:  256\n",
            "\u001b[2m\u001b[36m(DefaultActor pid=1457)\u001b[0m selected images size:  7\n",
            "\u001b[2m\u001b[36m(DefaultActor pid=1457)\u001b[0m output size:  256\n",
            "\u001b[2m\u001b[36m(DefaultActor pid=1457)\u001b[0m selected images size:  6\n",
            "\u001b[2m\u001b[36m(DefaultActor pid=1457)\u001b[0m output size:  101\n",
            "\u001b[2m\u001b[36m(DefaultActor pid=1457)\u001b[0m selected images size:  2\n",
            "\u001b[2m\u001b[36m(DefaultActor pid=1457)\u001b[0m output size:  256\n",
            "\u001b[2m\u001b[36m(DefaultActor pid=1457)\u001b[0m selected images size:  2\n",
            "\u001b[2m\u001b[36m(DefaultActor pid=1457)\u001b[0m output size:  256\n",
            "\u001b[2m\u001b[36m(DefaultActor pid=1457)\u001b[0m selected images size:  3\n",
            "\u001b[2m\u001b[36m(DefaultActor pid=1457)\u001b[0m output size:  256\n",
            "\u001b[2m\u001b[36m(DefaultActor pid=1457)\u001b[0m selected images size:  2\n",
            "\u001b[2m\u001b[36m(DefaultActor pid=1457)\u001b[0m output size:  256\n",
            "\u001b[2m\u001b[36m(DefaultActor pid=1457)\u001b[0m selected images size:  2\n",
            "\u001b[2m\u001b[36m(DefaultActor pid=1457)\u001b[0m output size:  256\n",
            "\u001b[2m\u001b[36m(DefaultActor pid=1457)\u001b[0m selected images size:  5\n",
            "\u001b[2m\u001b[36m(DefaultActor pid=1457)\u001b[0m output size:  256\n",
            "\u001b[2m\u001b[36m(DefaultActor pid=1457)\u001b[0m selected images size:  2\n",
            "\u001b[2m\u001b[36m(DefaultActor pid=1457)\u001b[0m output size:  256\n",
            "\u001b[2m\u001b[36m(DefaultActor pid=1457)\u001b[0m selected images size:  3\n",
            "\u001b[2m\u001b[36m(DefaultActor pid=1457)\u001b[0m output size:  256\n",
            "\u001b[2m\u001b[36m(DefaultActor pid=1457)\u001b[0m selected images size:  1\n",
            "\u001b[2m\u001b[36m(DefaultActor pid=1457)\u001b[0m output size:  101\n",
            "\u001b[2m\u001b[36m(DefaultActor pid=1457)\u001b[0m selected images size:  1\n",
            "\u001b[2m\u001b[36m(DefaultActor pid=1457)\u001b[0m output size:  256\n",
            "\u001b[2m\u001b[36m(DefaultActor pid=1457)\u001b[0m selected images size:  1\n",
            "\u001b[2m\u001b[36m(DefaultActor pid=1457)\u001b[0m output size:  256\n",
            "\u001b[2m\u001b[36m(DefaultActor pid=1457)\u001b[0m selected images size:  1\n",
            "\u001b[2m\u001b[36m(DefaultActor pid=1457)\u001b[0m output size:  256\n",
            "\u001b[2m\u001b[36m(DefaultActor pid=1457)\u001b[0m selected images size:  1\n",
            "\u001b[2m\u001b[36m(DefaultActor pid=1457)\u001b[0m output size:  256\n",
            "\u001b[2m\u001b[36m(DefaultActor pid=1457)\u001b[0m selected images size:  1\n",
            "\u001b[2m\u001b[36m(DefaultActor pid=1457)\u001b[0m output size:  256\n",
            "\u001b[2m\u001b[36m(DefaultActor pid=1457)\u001b[0m selected images size:  1\n",
            "\u001b[2m\u001b[36m(DefaultActor pid=1457)\u001b[0m output size:  256\n",
            "\u001b[2m\u001b[36m(DefaultActor pid=1457)\u001b[0m selected images size:  2\n",
            "\u001b[2m\u001b[36m(DefaultActor pid=1457)\u001b[0m output size:  256\n",
            "\u001b[2m\u001b[36m(DefaultActor pid=1457)\u001b[0m selected images size:  3\n",
            "\u001b[2m\u001b[36m(DefaultActor pid=1457)\u001b[0m output size:  101\n",
            "\u001b[2m\u001b[36m(DefaultActor pid=1457)\u001b[0m selected images size:  2\n",
            "\u001b[2m\u001b[36m(DefaultActor pid=1457)\u001b[0m output size:  256\n",
            "\u001b[2m\u001b[36m(DefaultActor pid=1457)\u001b[0m selected images size:  8\n",
            "\u001b[2m\u001b[36m(DefaultActor pid=1457)\u001b[0m output size:  256\n",
            "\u001b[2m\u001b[36m(DefaultActor pid=1457)\u001b[0m selected images size:  2\n",
            "\u001b[2m\u001b[36m(DefaultActor pid=1457)\u001b[0m output size:  256\n",
            "\u001b[2m\u001b[36m(DefaultActor pid=1457)\u001b[0m selected images size:  4\n",
            "\u001b[2m\u001b[36m(DefaultActor pid=1457)\u001b[0m output size:  256\n",
            "\u001b[2m\u001b[36m(DefaultActor pid=1457)\u001b[0m selected images size:  2\n",
            "\u001b[2m\u001b[36m(DefaultActor pid=1457)\u001b[0m output size:  256\n",
            "\u001b[2m\u001b[36m(DefaultActor pid=1457)\u001b[0m selected images size:  4\n",
            "\u001b[2m\u001b[36m(DefaultActor pid=1457)\u001b[0m output size:  256\n",
            "\u001b[2m\u001b[36m(DefaultActor pid=1457)\u001b[0m selected images size:  1\n",
            "\u001b[2m\u001b[36m(DefaultActor pid=1457)\u001b[0m output size:  101\n",
            "\u001b[2m\u001b[36m(DefaultActor pid=1457)\u001b[0m selected images size:  1\n"
          ]
        },
        {
          "output_type": "stream",
          "name": "stderr",
          "text": [
            "DEBUG flwr 2024-01-20 11:22:19,437 | server.py:236 | fit_round 46 received 10 results and 0 failures\n",
            "DEBUG:flwr:fit_round 46 received 10 results and 0 failures\n"
          ]
        },
        {
          "output_type": "stream",
          "name": "stdout",
          "text": [
            "Saving round 46 aggregated_parameters...\n"
          ]
        },
        {
          "output_type": "stream",
          "name": "stderr",
          "text": [
            "INFO flwr 2024-01-20 11:22:35,030 | server.py:125 | fit progress: (46, 295.5257693529129, {'accuracy': 0.29069767441860467}, 6266.837502742)\n",
            "INFO:flwr:fit progress: (46, 295.5257693529129, {'accuracy': 0.29069767441860467}, 6266.837502742)\n",
            "DEBUG flwr 2024-01-20 11:22:35,034 | server.py:173 | evaluate_round 46: strategy sampled 10 clients (out of 33)\n",
            "DEBUG:flwr:evaluate_round 46: strategy sampled 10 clients (out of 33)\n"
          ]
        },
        {
          "output_type": "stream",
          "name": "stdout",
          "text": [
            "GLOBAL TEST\n"
          ]
        },
        {
          "output_type": "stream",
          "name": "stderr",
          "text": [
            "DEBUG flwr 2024-01-20 11:22:38,577 | server.py:187 | evaluate_round 46 received 10 results and 0 failures\n",
            "DEBUG:flwr:evaluate_round 46 received 10 results and 0 failures\n",
            "DEBUG flwr 2024-01-20 11:22:38,582 | server.py:222 | fit_round 47: strategy sampled 10 clients (out of 33)\n",
            "DEBUG:flwr:fit_round 47: strategy sampled 10 clients (out of 33)\n"
          ]
        },
        {
          "output_type": "stream",
          "name": "stdout",
          "text": [
            "\u001b[2m\u001b[36m(DefaultActor pid=1457)\u001b[0m ATTACKER\n",
            "\u001b[2m\u001b[36m(DefaultActor pid=1457)\u001b[0m output size:  256\n",
            "\u001b[2m\u001b[36m(DefaultActor pid=1457)\u001b[0m selected images size:  2\n",
            "\u001b[2m\u001b[36m(DefaultActor pid=1457)\u001b[0m output size:  256\n",
            "\u001b[2m\u001b[36m(DefaultActor pid=1457)\u001b[0m selected images size:  2\n",
            "\u001b[2m\u001b[36m(DefaultActor pid=1457)\u001b[0m output size:  256\n",
            "\u001b[2m\u001b[36m(DefaultActor pid=1457)\u001b[0m selected images size:  1\n",
            "\u001b[2m\u001b[36m(DefaultActor pid=1457)\u001b[0m output size:  256\n",
            "\u001b[2m\u001b[36m(DefaultActor pid=1457)\u001b[0m selected images size:  1\n",
            "\u001b[2m\u001b[36m(DefaultActor pid=1457)\u001b[0m output size:  256\n",
            "\u001b[2m\u001b[36m(DefaultActor pid=1457)\u001b[0m selected images size:  1\n",
            "\u001b[2m\u001b[36m(DefaultActor pid=1457)\u001b[0m output size:  256\n",
            "\u001b[2m\u001b[36m(DefaultActor pid=1457)\u001b[0m selected images size:  1\n",
            "\u001b[2m\u001b[36m(DefaultActor pid=1457)\u001b[0m output size:  101\n",
            "\u001b[2m\u001b[36m(DefaultActor pid=1457)\u001b[0m selected images size:  1\n",
            "\u001b[2m\u001b[36m(DefaultActor pid=1457)\u001b[0m output size:  256\n",
            "\u001b[2m\u001b[36m(DefaultActor pid=1457)\u001b[0m selected images size:  1\n",
            "\u001b[2m\u001b[36m(DefaultActor pid=1457)\u001b[0m output size:  256\n",
            "\u001b[2m\u001b[36m(DefaultActor pid=1457)\u001b[0m selected images size:  1\n",
            "\u001b[2m\u001b[36m(DefaultActor pid=1457)\u001b[0m output size:  101\n",
            "\u001b[2m\u001b[36m(DefaultActor pid=1457)\u001b[0m selected images size:  1\n",
            "\u001b[2m\u001b[36m(DefaultActor pid=1457)\u001b[0m output size:  256\n",
            "\u001b[2m\u001b[36m(DefaultActor pid=1457)\u001b[0m selected images size:  2\n",
            "\u001b[2m\u001b[36m(DefaultActor pid=1457)\u001b[0m output size:  256\n",
            "\u001b[2m\u001b[36m(DefaultActor pid=1457)\u001b[0m selected images size:  5\n",
            "\u001b[2m\u001b[36m(DefaultActor pid=1457)\u001b[0m output size:  256\n",
            "\u001b[2m\u001b[36m(DefaultActor pid=1457)\u001b[0m selected images size:  3\n",
            "\u001b[2m\u001b[36m(DefaultActor pid=1457)\u001b[0m output size:  256\n",
            "\u001b[2m\u001b[36m(DefaultActor pid=1457)\u001b[0m selected images size:  1\n",
            "\u001b[2m\u001b[36m(DefaultActor pid=1457)\u001b[0m output size:  256\n",
            "\u001b[2m\u001b[36m(DefaultActor pid=1457)\u001b[0m selected images size:  2\n",
            "\u001b[2m\u001b[36m(DefaultActor pid=1457)\u001b[0m output size:  256\n",
            "\u001b[2m\u001b[36m(DefaultActor pid=1457)\u001b[0m selected images size:  1\n",
            "\u001b[2m\u001b[36m(DefaultActor pid=1457)\u001b[0m output size:  256\n",
            "\u001b[2m\u001b[36m(DefaultActor pid=1457)\u001b[0m selected images size:  1\n",
            "\u001b[2m\u001b[36m(DefaultActor pid=1457)\u001b[0m output size:  256\n",
            "\u001b[2m\u001b[36m(DefaultActor pid=1457)\u001b[0m selected images size:  5\n",
            "\u001b[2m\u001b[36m(DefaultActor pid=1457)\u001b[0m output size:  256\n",
            "\u001b[2m\u001b[36m(DefaultActor pid=1457)\u001b[0m selected images size:  5\n",
            "\u001b[2m\u001b[36m(DefaultActor pid=1457)\u001b[0m output size:  256\n",
            "\u001b[2m\u001b[36m(DefaultActor pid=1457)\u001b[0m selected images size:  5\n",
            "\u001b[2m\u001b[36m(DefaultActor pid=1457)\u001b[0m output size:  256\n",
            "\u001b[2m\u001b[36m(DefaultActor pid=1457)\u001b[0m selected images size:  6\n",
            "\u001b[2m\u001b[36m(DefaultActor pid=1457)\u001b[0m output size:  101\n",
            "\u001b[2m\u001b[36m(DefaultActor pid=1457)\u001b[0m selected images size:  2\n",
            "\u001b[2m\u001b[36m(DefaultActor pid=1457)\u001b[0m output size:  256\n",
            "\u001b[2m\u001b[36m(DefaultActor pid=1457)\u001b[0m selected images size:  6\n",
            "\u001b[2m\u001b[36m(DefaultActor pid=1457)\u001b[0m output size:  256\n",
            "\u001b[2m\u001b[36m(DefaultActor pid=1457)\u001b[0m selected images size:  4\n",
            "\u001b[2m\u001b[36m(DefaultActor pid=1457)\u001b[0m output size:  256\n",
            "\u001b[2m\u001b[36m(DefaultActor pid=1457)\u001b[0m selected images size:  2\n",
            "\u001b[2m\u001b[36m(DefaultActor pid=1457)\u001b[0m output size:  256\n",
            "\u001b[2m\u001b[36m(DefaultActor pid=1457)\u001b[0m selected images size:  9\n",
            "\u001b[2m\u001b[36m(DefaultActor pid=1457)\u001b[0m output size:  256\n",
            "\u001b[2m\u001b[36m(DefaultActor pid=1457)\u001b[0m selected images size:  8\n",
            "\u001b[2m\u001b[36m(DefaultActor pid=1457)\u001b[0m output size:  256\n",
            "\u001b[2m\u001b[36m(DefaultActor pid=1457)\u001b[0m selected images size:  12\n",
            "\u001b[2m\u001b[36m(DefaultActor pid=1457)\u001b[0m output size:  101\n",
            "\u001b[2m\u001b[36m(DefaultActor pid=1457)\u001b[0m selected images size:  4\n",
            "\u001b[2m\u001b[36m(DefaultActor pid=1457)\u001b[0m output size:  256\n",
            "\u001b[2m\u001b[36m(DefaultActor pid=1457)\u001b[0m selected images size:  10\n",
            "\u001b[2m\u001b[36m(DefaultActor pid=1457)\u001b[0m output size:  256\n",
            "\u001b[2m\u001b[36m(DefaultActor pid=1457)\u001b[0m selected images size:  17\n",
            "\u001b[2m\u001b[36m(DefaultActor pid=1457)\u001b[0m output size:  256\n",
            "\u001b[2m\u001b[36m(DefaultActor pid=1457)\u001b[0m selected images size:  11\n",
            "\u001b[2m\u001b[36m(DefaultActor pid=1457)\u001b[0m output size:  256\n",
            "\u001b[2m\u001b[36m(DefaultActor pid=1457)\u001b[0m selected images size:  15\n",
            "\u001b[2m\u001b[36m(DefaultActor pid=1457)\u001b[0m output size:  256\n",
            "\u001b[2m\u001b[36m(DefaultActor pid=1457)\u001b[0m selected images size:  16\n",
            "\u001b[2m\u001b[36m(DefaultActor pid=1457)\u001b[0m output size:  256\n",
            "\u001b[2m\u001b[36m(DefaultActor pid=1457)\u001b[0m selected images size:  15\n",
            "\u001b[2m\u001b[36m(DefaultActor pid=1457)\u001b[0m output size:  101\n",
            "\u001b[2m\u001b[36m(DefaultActor pid=1457)\u001b[0m selected images size:  4\n",
            "\u001b[2m\u001b[36m(DefaultActor pid=1457)\u001b[0m output size:  256\n",
            "\u001b[2m\u001b[36m(DefaultActor pid=1457)\u001b[0m selected images size:  12\n",
            "\u001b[2m\u001b[36m(DefaultActor pid=1457)\u001b[0m output size:  256\n",
            "\u001b[2m\u001b[36m(DefaultActor pid=1457)\u001b[0m selected images size:  16\n",
            "\u001b[2m\u001b[36m(DefaultActor pid=1457)\u001b[0m output size:  256\n",
            "\u001b[2m\u001b[36m(DefaultActor pid=1457)\u001b[0m selected images size:  19\n",
            "\u001b[2m\u001b[36m(DefaultActor pid=1457)\u001b[0m output size:  256\n",
            "\u001b[2m\u001b[36m(DefaultActor pid=1457)\u001b[0m selected images size:  9\n",
            "\u001b[2m\u001b[36m(DefaultActor pid=1457)\u001b[0m output size:  256\n",
            "\u001b[2m\u001b[36m(DefaultActor pid=1457)\u001b[0m selected images size:  20\n",
            "\u001b[2m\u001b[36m(DefaultActor pid=1457)\u001b[0m output size:  256\n",
            "\u001b[2m\u001b[36m(DefaultActor pid=1457)\u001b[0m selected images size:  14\n",
            "\u001b[2m\u001b[36m(DefaultActor pid=1457)\u001b[0m output size:  101\n",
            "\u001b[2m\u001b[36m(DefaultActor pid=1457)\u001b[0m selected images size:  3\n",
            "\u001b[2m\u001b[36m(DefaultActor pid=1457)\u001b[0m output size:  256\n",
            "\u001b[2m\u001b[36m(DefaultActor pid=1457)\u001b[0m selected images size:  20\n",
            "\u001b[2m\u001b[36m(DefaultActor pid=1457)\u001b[0m output size:  256\n",
            "\u001b[2m\u001b[36m(DefaultActor pid=1457)\u001b[0m selected images size:  15\n",
            "\u001b[2m\u001b[36m(DefaultActor pid=1457)\u001b[0m output size:  256\n",
            "\u001b[2m\u001b[36m(DefaultActor pid=1457)\u001b[0m selected images size:  16\n",
            "\u001b[2m\u001b[36m(DefaultActor pid=1457)\u001b[0m output size:  256\n",
            "\u001b[2m\u001b[36m(DefaultActor pid=1457)\u001b[0m selected images size:  18\n",
            "\u001b[2m\u001b[36m(DefaultActor pid=1457)\u001b[0m output size:  256\n",
            "\u001b[2m\u001b[36m(DefaultActor pid=1457)\u001b[0m selected images size:  21\n",
            "\u001b[2m\u001b[36m(DefaultActor pid=1457)\u001b[0m output size:  256\n",
            "\u001b[2m\u001b[36m(DefaultActor pid=1457)\u001b[0m selected images size:  17\n",
            "\u001b[2m\u001b[36m(DefaultActor pid=1457)\u001b[0m output size:  101\n",
            "\u001b[2m\u001b[36m(DefaultActor pid=1457)\u001b[0m selected images size:  5\n",
            "\u001b[2m\u001b[36m(DefaultActor pid=1457)\u001b[0m output size:  256\n",
            "\u001b[2m\u001b[36m(DefaultActor pid=1457)\u001b[0m selected images size:  13\n",
            "\u001b[2m\u001b[36m(DefaultActor pid=1457)\u001b[0m output size:  256\n",
            "\u001b[2m\u001b[36m(DefaultActor pid=1457)\u001b[0m selected images size:  9\n",
            "\u001b[2m\u001b[36m(DefaultActor pid=1457)\u001b[0m output size:  256\n",
            "\u001b[2m\u001b[36m(DefaultActor pid=1457)\u001b[0m selected images size:  3\n",
            "\u001b[2m\u001b[36m(DefaultActor pid=1457)\u001b[0m output size:  256\n",
            "\u001b[2m\u001b[36m(DefaultActor pid=1457)\u001b[0m selected images size:  12\n",
            "\u001b[2m\u001b[36m(DefaultActor pid=1457)\u001b[0m output size:  256\n",
            "\u001b[2m\u001b[36m(DefaultActor pid=1457)\u001b[0m selected images size:  8\n",
            "\u001b[2m\u001b[36m(DefaultActor pid=1457)\u001b[0m output size:  256\n",
            "\u001b[2m\u001b[36m(DefaultActor pid=1457)\u001b[0m selected images size:  13\n",
            "\u001b[2m\u001b[36m(DefaultActor pid=1457)\u001b[0m output size:  101\n",
            "\u001b[2m\u001b[36m(DefaultActor pid=1457)\u001b[0m selected images size:  6\n",
            "\u001b[2m\u001b[36m(DefaultActor pid=1457)\u001b[0m output size:  256\n",
            "\u001b[2m\u001b[36m(DefaultActor pid=1457)\u001b[0m selected images size:  3\n",
            "\u001b[2m\u001b[36m(DefaultActor pid=1457)\u001b[0m output size:  256\n",
            "\u001b[2m\u001b[36m(DefaultActor pid=1457)\u001b[0m selected images size:  6\n",
            "\u001b[2m\u001b[36m(DefaultActor pid=1457)\u001b[0m output size:  256\n",
            "\u001b[2m\u001b[36m(DefaultActor pid=1457)\u001b[0m selected images size:  5\n",
            "\u001b[2m\u001b[36m(DefaultActor pid=1457)\u001b[0m output size:  256\n",
            "\u001b[2m\u001b[36m(DefaultActor pid=1457)\u001b[0m selected images size:  9\n",
            "\u001b[2m\u001b[36m(DefaultActor pid=1457)\u001b[0m output size:  256\n",
            "\u001b[2m\u001b[36m(DefaultActor pid=1457)\u001b[0m selected images size:  1\n",
            "\u001b[2m\u001b[36m(DefaultActor pid=1457)\u001b[0m output size:  256\n",
            "\u001b[2m\u001b[36m(DefaultActor pid=1457)\u001b[0m selected images size:  7\n",
            "\u001b[2m\u001b[36m(DefaultActor pid=1457)\u001b[0m output size:  101\n",
            "\u001b[2m\u001b[36m(DefaultActor pid=1457)\u001b[0m selected images size:  2\n"
          ]
        },
        {
          "output_type": "stream",
          "name": "stderr",
          "text": [
            "DEBUG flwr 2024-01-20 11:24:43,361 | server.py:236 | fit_round 47 received 10 results and 0 failures\n",
            "DEBUG:flwr:fit_round 47 received 10 results and 0 failures\n"
          ]
        },
        {
          "output_type": "stream",
          "name": "stdout",
          "text": [
            "Saving round 47 aggregated_parameters...\n"
          ]
        },
        {
          "output_type": "stream",
          "name": "stderr",
          "text": [
            "INFO flwr 2024-01-20 11:24:58,733 | server.py:125 | fit progress: (47, 295.51843106746674, {'accuracy': 0.3875968992248062}, 6410.53989356)\n",
            "INFO:flwr:fit progress: (47, 295.51843106746674, {'accuracy': 0.3875968992248062}, 6410.53989356)\n",
            "DEBUG flwr 2024-01-20 11:24:58,737 | server.py:173 | evaluate_round 47: strategy sampled 10 clients (out of 33)\n",
            "DEBUG:flwr:evaluate_round 47: strategy sampled 10 clients (out of 33)\n"
          ]
        },
        {
          "output_type": "stream",
          "name": "stdout",
          "text": [
            "GLOBAL TEST\n"
          ]
        },
        {
          "output_type": "stream",
          "name": "stderr",
          "text": [
            "DEBUG flwr 2024-01-20 11:25:02,252 | server.py:187 | evaluate_round 47 received 10 results and 0 failures\n",
            "DEBUG:flwr:evaluate_round 47 received 10 results and 0 failures\n",
            "DEBUG flwr 2024-01-20 11:25:02,259 | server.py:222 | fit_round 48: strategy sampled 10 clients (out of 33)\n",
            "DEBUG:flwr:fit_round 48: strategy sampled 10 clients (out of 33)\n",
            "DEBUG flwr 2024-01-20 11:26:21,861 | server.py:236 | fit_round 48 received 10 results and 0 failures\n",
            "DEBUG:flwr:fit_round 48 received 10 results and 0 failures\n"
          ]
        },
        {
          "output_type": "stream",
          "name": "stdout",
          "text": [
            "Saving round 48 aggregated_parameters...\n"
          ]
        },
        {
          "output_type": "stream",
          "name": "stderr",
          "text": [
            "INFO flwr 2024-01-20 11:26:37,498 | server.py:125 | fit progress: (48, 295.5100703239441, {'accuracy': 0.29069767441860467}, 6509.304896212)\n",
            "INFO:flwr:fit progress: (48, 295.5100703239441, {'accuracy': 0.29069767441860467}, 6509.304896212)\n",
            "DEBUG flwr 2024-01-20 11:26:37,502 | server.py:173 | evaluate_round 48: strategy sampled 10 clients (out of 33)\n",
            "DEBUG:flwr:evaluate_round 48: strategy sampled 10 clients (out of 33)\n"
          ]
        },
        {
          "output_type": "stream",
          "name": "stdout",
          "text": [
            "GLOBAL TEST\n"
          ]
        },
        {
          "output_type": "stream",
          "name": "stderr",
          "text": [
            "DEBUG flwr 2024-01-20 11:26:41,302 | server.py:187 | evaluate_round 48 received 10 results and 0 failures\n",
            "DEBUG:flwr:evaluate_round 48 received 10 results and 0 failures\n",
            "DEBUG flwr 2024-01-20 11:26:41,306 | server.py:222 | fit_round 49: strategy sampled 10 clients (out of 33)\n",
            "DEBUG:flwr:fit_round 49: strategy sampled 10 clients (out of 33)\n",
            "DEBUG flwr 2024-01-20 11:27:59,218 | server.py:236 | fit_round 49 received 10 results and 0 failures\n",
            "DEBUG:flwr:fit_round 49 received 10 results and 0 failures\n"
          ]
        },
        {
          "output_type": "stream",
          "name": "stdout",
          "text": [
            "Saving round 49 aggregated_parameters...\n"
          ]
        },
        {
          "output_type": "stream",
          "name": "stderr",
          "text": [
            "INFO flwr 2024-01-20 11:28:14,722 | server.py:125 | fit progress: (49, 295.5317825078964, {'accuracy': 0.29069767441860467}, 6606.529088865)\n",
            "INFO:flwr:fit progress: (49, 295.5317825078964, {'accuracy': 0.29069767441860467}, 6606.529088865)\n",
            "DEBUG flwr 2024-01-20 11:28:14,726 | server.py:173 | evaluate_round 49: strategy sampled 10 clients (out of 33)\n",
            "DEBUG:flwr:evaluate_round 49: strategy sampled 10 clients (out of 33)\n"
          ]
        },
        {
          "output_type": "stream",
          "name": "stdout",
          "text": [
            "GLOBAL TEST\n"
          ]
        },
        {
          "output_type": "stream",
          "name": "stderr",
          "text": [
            "DEBUG flwr 2024-01-20 11:28:18,281 | server.py:187 | evaluate_round 49 received 10 results and 0 failures\n",
            "DEBUG:flwr:evaluate_round 49 received 10 results and 0 failures\n",
            "DEBUG flwr 2024-01-20 11:28:18,285 | server.py:222 | fit_round 50: strategy sampled 10 clients (out of 33)\n",
            "DEBUG:flwr:fit_round 50: strategy sampled 10 clients (out of 33)\n",
            "DEBUG flwr 2024-01-20 11:29:37,039 | server.py:236 | fit_round 50 received 10 results and 0 failures\n",
            "DEBUG:flwr:fit_round 50 received 10 results and 0 failures\n"
          ]
        },
        {
          "output_type": "stream",
          "name": "stdout",
          "text": [
            "Saving round 50 aggregated_parameters...\n"
          ]
        },
        {
          "output_type": "stream",
          "name": "stderr",
          "text": [
            "INFO flwr 2024-01-20 11:29:52,708 | server.py:125 | fit progress: (50, 295.444526553154, {'accuracy': 0.1937984496124031}, 6704.515361295999)\n",
            "INFO:flwr:fit progress: (50, 295.444526553154, {'accuracy': 0.1937984496124031}, 6704.515361295999)\n",
            "DEBUG flwr 2024-01-20 11:29:52,714 | server.py:173 | evaluate_round 50: strategy sampled 10 clients (out of 33)\n",
            "DEBUG:flwr:evaluate_round 50: strategy sampled 10 clients (out of 33)\n"
          ]
        },
        {
          "output_type": "stream",
          "name": "stdout",
          "text": [
            "GLOBAL TEST\n"
          ]
        },
        {
          "output_type": "stream",
          "name": "stderr",
          "text": [
            "DEBUG flwr 2024-01-20 11:29:56,261 | server.py:187 | evaluate_round 50 received 10 results and 0 failures\n",
            "DEBUG:flwr:evaluate_round 50 received 10 results and 0 failures\n",
            "INFO flwr 2024-01-20 11:29:56,265 | server.py:153 | FL finished in 6708.071820979\n",
            "INFO:flwr:FL finished in 6708.071820979\n",
            "INFO flwr 2024-01-20 11:29:56,268 | app.py:226 | app_fit: losses_distributed [(1, 1.5810099244117737), (2, 1.5824933171272277), (3, 1.5635586023330688), (4, 1.5764729976654053), (5, 1.5715539455413818), (6, 1.5576681971549988), (7, 1.565124547481537), (8, 1.5590397119522095), (9, 1.5590184092521668), (10, 1.5715149879455566), (11, 1.5735656023025513), (12, 1.5707098841667175), (13, 1.7207149863243103), (14, 1.4921695470809937), (15, 1.4915036678314209), (16, 1.539663803577423), (17, 1.4910113573074342), (18, 1.7542341113090516), (19, 1.4863245010375976), (20, 1.4816596388816834), (21, 1.61075302362442), (22, 1.4852104663848877), (23, 1.48467458486557), (24, 1.4853678703308106), (25, 1.4839932322502136), (26, 1.4785991191864014), (27, 1.4836519241333008), (28, 1.4802193880081176), (29, 1.4814005851745606), (30, 1.4802986979484558), (31, 1.47845401763916), (32, 1.4896334528923034), (33, 1.4761365890502929), (34, 1.4828102111816406), (35, 1.4777017474174499), (36, 1.4794418454170226), (37, 1.471987521648407), (38, 1.4907207489013672), (39, 1.4824068069458007), (40, 1.476582407951355), (41, 1.4764411807060243), (42, 1.4768101692199707), (43, 1.473368728160858), (44, 1.4764541029930114), (45, 1.4827908515930175), (46, 1.4763677358627318), (47, 1.4779572486877441), (48, 1.47687087059021), (49, 1.474143671989441), (50, 1.476287591457367)]\n",
            "INFO:flwr:app_fit: losses_distributed [(1, 1.5810099244117737), (2, 1.5824933171272277), (3, 1.5635586023330688), (4, 1.5764729976654053), (5, 1.5715539455413818), (6, 1.5576681971549988), (7, 1.565124547481537), (8, 1.5590397119522095), (9, 1.5590184092521668), (10, 1.5715149879455566), (11, 1.5735656023025513), (12, 1.5707098841667175), (13, 1.7207149863243103), (14, 1.4921695470809937), (15, 1.4915036678314209), (16, 1.539663803577423), (17, 1.4910113573074342), (18, 1.7542341113090516), (19, 1.4863245010375976), (20, 1.4816596388816834), (21, 1.61075302362442), (22, 1.4852104663848877), (23, 1.48467458486557), (24, 1.4853678703308106), (25, 1.4839932322502136), (26, 1.4785991191864014), (27, 1.4836519241333008), (28, 1.4802193880081176), (29, 1.4814005851745606), (30, 1.4802986979484558), (31, 1.47845401763916), (32, 1.4896334528923034), (33, 1.4761365890502929), (34, 1.4828102111816406), (35, 1.4777017474174499), (36, 1.4794418454170226), (37, 1.471987521648407), (38, 1.4907207489013672), (39, 1.4824068069458007), (40, 1.476582407951355), (41, 1.4764411807060243), (42, 1.4768101692199707), (43, 1.473368728160858), (44, 1.4764541029930114), (45, 1.4827908515930175), (46, 1.4763677358627318), (47, 1.4779572486877441), (48, 1.47687087059021), (49, 1.474143671989441), (50, 1.476287591457367)]\n",
            "INFO flwr 2024-01-20 11:29:56,269 | app.py:227 | app_fit: metrics_distributed_fit {}\n",
            "INFO:flwr:app_fit: metrics_distributed_fit {}\n",
            "INFO flwr 2024-01-20 11:29:56,271 | app.py:228 | app_fit: metrics_distributed {'accuracy': [(1, 0.0), (2, 0.47619047619047616), (3, 0.5), (4, 1.518971224853578), (5, 0.0), (6, 0.0), (7, 0.0), (8, 0.38461538461538464), (9, 0.0), (10, 1.26984126984127), (11, 7.733459522933207), (12, 0.9523809523809523), (13, 62.22921138178911), (14, 1.1111111111111112), (15, 0.0), (16, 15.3728662977889), (17, 0.47619047619047616), (18, 99.47368421052632), (19, 0.8333333333333334), (20, 0.5882352941176471), (21, 91.08389958854356), (22, 0.0), (23, 0.8333333333333334), (24, 2.4656084656084656), (25, 1.4166666666666667), (26, 0.43478260869565216), (27, 0.0), (28, 0.625), (29, 0.6666666666666667), (30, 0.7692307692307693), (31, 0.6666666666666667), (32, 2.349786324786325), (33, 0.0), (34, 1.3333333333333335), (35, 0.0), (36, 0.5), (37, 0.4), (38, 10.918154343076946), (39, 2.0049019607843137), (40, 0.0), (41, 1.0), (42, 1.1437908496732025), (43, 0.0), (44, 1.0025062656641606), (45, 0.43478260869565216), (46, 0.5), (47, 1.1513157894736843), (48, 0.0), (49, 0.5555555555555556), (50, 1.222222222222222)]}\n",
            "INFO:flwr:app_fit: metrics_distributed {'accuracy': [(1, 0.0), (2, 0.47619047619047616), (3, 0.5), (4, 1.518971224853578), (5, 0.0), (6, 0.0), (7, 0.0), (8, 0.38461538461538464), (9, 0.0), (10, 1.26984126984127), (11, 7.733459522933207), (12, 0.9523809523809523), (13, 62.22921138178911), (14, 1.1111111111111112), (15, 0.0), (16, 15.3728662977889), (17, 0.47619047619047616), (18, 99.47368421052632), (19, 0.8333333333333334), (20, 0.5882352941176471), (21, 91.08389958854356), (22, 0.0), (23, 0.8333333333333334), (24, 2.4656084656084656), (25, 1.4166666666666667), (26, 0.43478260869565216), (27, 0.0), (28, 0.625), (29, 0.6666666666666667), (30, 0.7692307692307693), (31, 0.6666666666666667), (32, 2.349786324786325), (33, 0.0), (34, 1.3333333333333335), (35, 0.0), (36, 0.5), (37, 0.4), (38, 10.918154343076946), (39, 2.0049019607843137), (40, 0.0), (41, 1.0), (42, 1.1437908496732025), (43, 0.0), (44, 1.0025062656641606), (45, 0.43478260869565216), (46, 0.5), (47, 1.1513157894736843), (48, 0.0), (49, 0.5555555555555556), (50, 1.222222222222222)]}\n",
            "INFO flwr 2024-01-20 11:29:56,273 | app.py:229 | app_fit: losses_centralized [(0, 317.62003779411316), (1, 314.6589403152466), (2, 314.7222789525986), (3, 313.84688699245453), (4, 313.72302293777466), (5, 313.6205371618271), (6, 313.3853368759155), (7, 313.42123889923096), (8, 313.2438007593155), (9, 313.3438472747803), (10, 313.4308923482895), (11, 314.9736121892929), (12, 313.4128210544586), (13, 339.69073736667633), (14, 299.0589369535446), (15, 297.75017261505127), (16, 306.8296808004379), (17, 297.7969754934311), (18, 350.4124438762665), (19, 297.3909568786621), (20, 296.982460975647), (21, 324.1778482198715), (22, 296.9339303970337), (23, 296.69827008247375), (24, 296.54482090473175), (25, 296.48518419265747), (26, 296.35425782203674), (27, 296.2722781896591), (28, 296.19972121715546), (29, 296.1185142993927), (30, 296.0570002794266), (31, 295.9831733703613), (32, 296.0661606788635), (33, 295.9326423406601), (34, 295.8844748735428), (35, 295.8638449907303), (36, 295.834349155426), (37, 295.8157889842987), (38, 298.1128942966461), (39, 296.25106942653656), (40, 295.80183815956116), (41, 295.7035915851593), (42, 295.6200544834137), (43, 295.57729399204254), (44, 295.59884464740753), (45, 295.5483615398407), (46, 295.5257693529129), (47, 295.51843106746674), (48, 295.5100703239441), (49, 295.5317825078964), (50, 295.444526553154)]\n",
            "INFO:flwr:app_fit: losses_centralized [(0, 317.62003779411316), (1, 314.6589403152466), (2, 314.7222789525986), (3, 313.84688699245453), (4, 313.72302293777466), (5, 313.6205371618271), (6, 313.3853368759155), (7, 313.42123889923096), (8, 313.2438007593155), (9, 313.3438472747803), (10, 313.4308923482895), (11, 314.9736121892929), (12, 313.4128210544586), (13, 339.69073736667633), (14, 299.0589369535446), (15, 297.75017261505127), (16, 306.8296808004379), (17, 297.7969754934311), (18, 350.4124438762665), (19, 297.3909568786621), (20, 296.982460975647), (21, 324.1778482198715), (22, 296.9339303970337), (23, 296.69827008247375), (24, 296.54482090473175), (25, 296.48518419265747), (26, 296.35425782203674), (27, 296.2722781896591), (28, 296.19972121715546), (29, 296.1185142993927), (30, 296.0570002794266), (31, 295.9831733703613), (32, 296.0661606788635), (33, 295.9326423406601), (34, 295.8844748735428), (35, 295.8638449907303), (36, 295.834349155426), (37, 295.8157889842987), (38, 298.1128942966461), (39, 296.25106942653656), (40, 295.80183815956116), (41, 295.7035915851593), (42, 295.6200544834137), (43, 295.57729399204254), (44, 295.59884464740753), (45, 295.5483615398407), (46, 295.5257693529129), (47, 295.51843106746674), (48, 295.5100703239441), (49, 295.5317825078964), (50, 295.444526553154)]\n",
            "INFO flwr 2024-01-20 11:29:56,275 | app.py:230 | app_fit: metrics_centralized {'accuracy': [(0, 0.5813953488372093), (1, 0.1937984496124031), (2, 1.550387596899225), (3, 0.4844961240310077), (4, 0.6782945736434108), (5, 0.5813953488372093), (6, 0.4844961240310077), (7, 0.5813953488372093), (8, 0.4844961240310077), (9, 0.7751937984496124), (10, 1.3565891472868217), (11, 3.875968992248062), (12, 1.937984496124031), (13, 61.531007751937985), (14, 0.3875968992248062), (15, 0.3875968992248062), (16, 15.116279069767442), (17, 0.872093023255814), (18, 98.83720930232558), (19, 0.6782945736434108), (20, 0.5813953488372093), (21, 93.21705426356588), (22, 0.872093023255814), (23, 1.1627906976744187), (24, 0.6782945736434108), (25, 0.6782945736434108), (26, 0.3875968992248062), (27, 0.3875968992248062), (28, 0.5813953488372093), (29, 0.5813953488372093), (30, 0.4844961240310077), (31, 0.4844961240310077), (32, 0.7751937984496124), (33, 0.4844961240310077), (34, 0.4844961240310077), (35, 0.4844961240310077), (36, 0.29069767441860467), (37, 0.4844961240310077), (38, 6.976744186046512), (39, 1.937984496124031), (40, 0.872093023255814), (41, 0.3875968992248062), (42, 0.1937984496124031), (43, 0.1937984496124031), (44, 0.3875968992248062), (45, 0.1937984496124031), (46, 0.29069767441860467), (47, 0.3875968992248062), (48, 0.29069767441860467), (49, 0.29069767441860467), (50, 0.1937984496124031)]}\n",
            "INFO:flwr:app_fit: metrics_centralized {'accuracy': [(0, 0.5813953488372093), (1, 0.1937984496124031), (2, 1.550387596899225), (3, 0.4844961240310077), (4, 0.6782945736434108), (5, 0.5813953488372093), (6, 0.4844961240310077), (7, 0.5813953488372093), (8, 0.4844961240310077), (9, 0.7751937984496124), (10, 1.3565891472868217), (11, 3.875968992248062), (12, 1.937984496124031), (13, 61.531007751937985), (14, 0.3875968992248062), (15, 0.3875968992248062), (16, 15.116279069767442), (17, 0.872093023255814), (18, 98.83720930232558), (19, 0.6782945736434108), (20, 0.5813953488372093), (21, 93.21705426356588), (22, 0.872093023255814), (23, 1.1627906976744187), (24, 0.6782945736434108), (25, 0.6782945736434108), (26, 0.3875968992248062), (27, 0.3875968992248062), (28, 0.5813953488372093), (29, 0.5813953488372093), (30, 0.4844961240310077), (31, 0.4844961240310077), (32, 0.7751937984496124), (33, 0.4844961240310077), (34, 0.4844961240310077), (35, 0.4844961240310077), (36, 0.29069767441860467), (37, 0.4844961240310077), (38, 6.976744186046512), (39, 1.937984496124031), (40, 0.872093023255814), (41, 0.3875968992248062), (42, 0.1937984496124031), (43, 0.1937984496124031), (44, 0.3875968992248062), (45, 0.1937984496124031), (46, 0.29069767441860467), (47, 0.3875968992248062), (48, 0.29069767441860467), (49, 0.29069767441860467), (50, 0.1937984496124031)]}\n"
          ]
        }
      ]
    },
    {
      "cell_type": "code",
      "source": [
        "print(len(main_acc_values))\n",
        "global_accuracy_centralised = history.metrics_centralized[\"accuracy\"]\n",
        "global_accuracy_distributed = history.metrics_distributed[\"accuracy\"]\n",
        "\n",
        "# Rút trích thông tin từ dữ liệu\n",
        "# round_centralised = [data[0] for data in global_accuracy_centralised]\n",
        "round_distributed = [data[0] for data in global_accuracy_distributed]\n",
        "\n",
        "# Vẽ đồ thị\n",
        "# plt.plot(range(1, 52), [data[1] for data in global_accuracy_centralised], label=\"Poison Task\")\n",
        "plt.plot(range(1, 51), [data[1] for data in global_accuracy_distributed], label=\"Poison Task\")\n",
        "plt.plot(range(1, 52), main_acc_values, label=\"Main Task\")\n",
        "plt.plot(range(1, 52), standard_acc_values, label=\"Standard Task\")\n",
        "\n",
        "# Thiết lập định dạng của biểu đồ\n",
        "plt.grid()\n",
        "plt.ylabel(\"Accuracy (%)\")\n",
        "plt.xlabel(\"Round\")\n",
        "plt.title(\"Accuracy Comparison\")\n",
        "plt.legend()\n",
        "xticks_result = plt.xticks(range(5, 52, 5))\n",
        "# xticks_result = plt.xticks(range(1, 52))\n"
      ],
      "metadata": {
        "id": "E33BylpJA_CV",
        "outputId": "905589aa-1510-4619-c294-880f5aacfe95",
        "colab": {
          "base_uri": "https://localhost:8080/",
          "height": 489
        }
      },
      "execution_count": 36,
      "outputs": [
        {
          "output_type": "stream",
          "name": "stdout",
          "text": [
            "51\n"
          ]
        },
        {
          "output_type": "display_data",
          "data": {
            "text/plain": [
              "<Figure size 640x480 with 1 Axes>"
            ],
            "image/png": "[encoded data removed]"
          },
          "metadata": {}
        }
      ]
    },
    {
      "cell_type": "code",
      "source": [
        "import matplotlib.pyplot as plt\n",
        "\n",
        "print(f\"{history.metrics_centralized = }\")\n",
        "# print(f\"{history.metrics_distributed = }\")\n",
        "\n",
        "\n",
        "global_accuracy_centralised = history.metrics_centralized[\"accuracy\"]\n",
        "# global_accuracy_centralised = history.metrics_distributed[\"accuracy\"]\n",
        "\n",
        "round = [data[0] for data in global_accuracy_centralised]\n",
        "acc = [data[1] for data in global_accuracy_centralised]\n",
        "plt.plot(round, acc)\n",
        "plt.grid()\n",
        "plt.ylabel(\"Accuracy (%)\")\n",
        "plt.xlabel(\"Round\")\n",
        "plt.title(\"MNIST - IID - 30 clients with 10 clients per round\")\n",
        "xticks_result = plt.xticks(range(1, 21))\n",
        "# plt.yticks(range(0, 100))"
      ],
      "metadata": {
        "id": "NECbOpWgcxdV",
        "outputId": "9c1a8109-0a81-4d23-9717-8f1b3dfc0394",
        "colab": {
          "base_uri": "https://localhost:8080/",
          "height": 509
        }
      },
      "execution_count": 30,
      "outputs": [
        {
          "output_type": "stream",
          "name": "stdout",
          "text": [
            "history.metrics_centralized = {'accuracy': [(0, 0.5813953488372093), (1, 0.1937984496124031), (2, 1.550387596899225), (3, 0.4844961240310077), (4, 0.6782945736434108), (5, 0.5813953488372093), (6, 0.4844961240310077), (7, 0.5813953488372093), (8, 0.4844961240310077), (9, 0.7751937984496124), (10, 1.3565891472868217), (11, 3.875968992248062), (12, 1.937984496124031), (13, 61.531007751937985), (14, 0.3875968992248062), (15, 0.3875968992248062), (16, 15.116279069767442), (17, 0.872093023255814), (18, 98.83720930232558), (19, 0.6782945736434108), (20, 0.5813953488372093), (21, 93.21705426356588), (22, 0.872093023255814), (23, 1.1627906976744187), (24, 0.6782945736434108), (25, 0.6782945736434108), (26, 0.3875968992248062), (27, 0.3875968992248062), (28, 0.5813953488372093), (29, 0.5813953488372093), (30, 0.4844961240310077), (31, 0.4844961240310077), (32, 0.7751937984496124), (33, 0.4844961240310077), (34, 0.4844961240310077), (35, 0.4844961240310077), (36, 0.29069767441860467), (37, 0.4844961240310077), (38, 6.976744186046512), (39, 1.937984496124031), (40, 0.872093023255814), (41, 0.3875968992248062), (42, 0.1937984496124031), (43, 0.1937984496124031), (44, 0.3875968992248062), (45, 0.1937984496124031), (46, 0.29069767441860467), (47, 0.3875968992248062), (48, 0.29069767441860467), (49, 0.29069767441860467), (50, 0.1937984496124031)]}\n"
          ]
        },
        {
          "output_type": "display_data",
          "data": {
            "text/plain": [
              "<Figure size 640x480 with 1 Axes>"
            ],
            "image/png": "[encoded data removed]"
          },
          "metadata": {}
        }
      ]
    }
  ],
  "metadata": {
    "colab": {
      "provenance": [],
      "gpuType": "T4",
      "include_colab_link": true
    },
    "kernelspec": {
      "display_name": "Python 3",
      "name": "python3"
    },
    "accelerator": "GPU",
    "widgets": {
      "application/vnd.jupyter.widget-state+json": {
        "2f14ba3a6180416682388ede8243a423": {
          "model_module": "@jupyter-widgets/controls",
          "model_name": "HBoxModel",
          "model_module_version": "1.5.0",
          "state": {
            "_dom_classes": [],
            "_model_module": "@jupyter-widgets/controls",
            "_model_module_version": "1.5.0",
            "_model_name": "HBoxModel",
            "_view_count": null,
            "_view_module": "@jupyter-widgets/controls",
            "_view_module_version": "1.5.0",
            "_view_name": "HBoxView",
            "box_style": "",
            "children": [
              "IPY_MODEL_c87040b4d5374b0e910ba8d084284c99",
              "IPY_MODEL_6b12ebbb7e8245d090cc7689474bcaa9",
              "IPY_MODEL_3085f4191dad43fb9f38a96a37376a50"
            ],
            "layout": "IPY_MODEL_1875f53e746c47a0b7d800e27ebfcf3f"
          }
        },
        "c87040b4d5374b0e910ba8d084284c99": {
          "model_module": "@jupyter-widgets/controls",
          "model_name": "HTMLModel",
          "model_module_version": "1.5.0",
          "state": {
            "_dom_classes": [],
            "_model_module": "@jupyter-widgets/controls",
            "_model_module_version": "1.5.0",
            "_model_name": "HTMLModel",
            "_view_count": null,
            "_view_module": "@jupyter-widgets/controls",
            "_view_module_version": "1.5.0",
            "_view_name": "HTMLView",
            "description": "",
            "description_tooltip": null,
            "layout": "IPY_MODEL_18c28feb96d54341865bef64b5bf02da",
            "placeholder": "​",
            "style": "IPY_MODEL_5b7616475f1341638e4ca44926dc2c09",
            "value": "Downloading data: 100%"
          }
        },
        "6b12ebbb7e8245d090cc7689474bcaa9": {
          "model_module": "@jupyter-widgets/controls",
          "model_name": "FloatProgressModel",
          "model_module_version": "1.5.0",
          "state": {
            "_dom_classes": [],
            "_model_module": "@jupyter-widgets/controls",
            "_model_module_version": "1.5.0",
            "_model_name": "FloatProgressModel",
            "_view_count": null,
            "_view_module": "@jupyter-widgets/controls",
            "_view_module_version": "1.5.0",
            "_view_name": "ProgressView",
            "bar_style": "success",
            "description": "",
            "description_tooltip": null,
            "layout": "IPY_MODEL_df830296a6d44898b0288b955e9e5429",
            "max": 15561616,
            "min": 0,
            "orientation": "horizontal",
            "style": "IPY_MODEL_6d3577f6e28b480794e5461c512c8a35",
            "value": 15561616
          }
        },
        "3085f4191dad43fb9f38a96a37376a50": {
          "model_module": "@jupyter-widgets/controls",
          "model_name": "HTMLModel",
          "model_module_version": "1.5.0",
          "state": {
            "_dom_classes": [],
            "_model_module": "@jupyter-widgets/controls",
            "_model_module_version": "1.5.0",
            "_model_name": "HTMLModel",
            "_view_count": null,
            "_view_module": "@jupyter-widgets/controls",
            "_view_module_version": "1.5.0",
            "_view_name": "HTMLView",
            "description": "",
            "description_tooltip": null,
            "layout": "IPY_MODEL_ad21e35ab1c74a3bbb50ea0f64ca61d6",
            "placeholder": "​",
            "style": "IPY_MODEL_c6aadc08c0b249f98751d4d295fe3a86",
            "value": " 15.6M/15.6M [00:00&lt;00:00, 18.8MB/s]"
          }
        },
        "1875f53e746c47a0b7d800e27ebfcf3f": {
          "model_module": "@jupyter-widgets/base",
          "model_name": "LayoutModel",
          "model_module_version": "1.2.0",
          "state": {
            "_model_module": "@jupyter-widgets/base",
            "_model_module_version": "1.2.0",
            "_model_name": "LayoutModel",
            "_view_count": null,
            "_view_module": "@jupyter-widgets/base",
            "_view_module_version": "1.2.0",
            "_view_name": "LayoutView",
            "align_content": null,
            "align_items": null,
            "align_self": null,
            "border": null,
            "bottom": null,
            "display": null,
            "flex": null,
            "flex_flow": null,
            "grid_area": null,
            "grid_auto_columns": null,
            "grid_auto_flow": null,
            "grid_auto_rows": null,
            "grid_column": null,
            "grid_gap": null,
            "grid_row": null,
            "grid_template_areas": null,
            "grid_template_columns": null,
            "grid_template_rows": null,
            "height": null,
            "justify_content": null,
            "justify_items": null,
            "left": null,
            "margin": null,
            "max_height": null,
            "max_width": null,
            "min_height": null,
            "min_width": null,
            "object_fit": null,
            "object_position": null,
            "order": null,
            "overflow": null,
            "overflow_x": null,
            "overflow_y": null,
            "padding": null,
            "right": null,
            "top": null,
            "visibility": null,
            "width": null
          }
        },
        "18c28feb96d54341865bef64b5bf02da": {
          "model_module": "@jupyter-widgets/base",
          "model_name": "LayoutModel",
          "model_module_version": "1.2.0",
          "state": {
            "_model_module": "@jupyter-widgets/base",
            "_model_module_version": "1.2.0",
            "_model_name": "LayoutModel",
            "_view_count": null,
            "_view_module": "@jupyter-widgets/base",
            "_view_module_version": "1.2.0",
            "_view_name": "LayoutView",
            "align_content": null,
            "align_items": null,
            "align_self": null,
            "border": null,
            "bottom": null,
            "display": null,
            "flex": null,
            "flex_flow": null,
            "grid_area": null,
            "grid_auto_columns": null,
            "grid_auto_flow": null,
            "grid_auto_rows": null,
            "grid_column": null,
            "grid_gap": null,
            "grid_row": null,
            "grid_template_areas": null,
            "grid_template_columns": null,
            "grid_template_rows": null,
            "height": null,
            "justify_content": null,
            "justify_items": null,
            "left": null,
            "margin": null,
            "max_height": null,
            "max_width": null,
            "min_height": null,
            "min_width": null,
            "object_fit": null,
            "object_position": null,
            "order": null,
            "overflow": null,
            "overflow_x": null,
            "overflow_y": null,
            "padding": null,
            "right": null,
            "top": null,
            "visibility": null,
            "width": null
          }
        },
        "5b7616475f1341638e4ca44926dc2c09": {
          "model_module": "@jupyter-widgets/controls",
          "model_name": "DescriptionStyleModel",
          "model_module_version": "1.5.0",
          "state": {
            "_model_module": "@jupyter-widgets/controls",
            "_model_module_version": "1.5.0",
            "_model_name": "DescriptionStyleModel",
            "_view_count": null,
            "_view_module": "@jupyter-widgets/base",
            "_view_module_version": "1.2.0",
            "_view_name": "StyleView",
            "description_width": ""
          }
        },
        "df830296a6d44898b0288b955e9e5429": {
          "model_module": "@jupyter-widgets/base",
          "model_name": "LayoutModel",
          "model_module_version": "1.2.0",
          "state": {
            "_model_module": "@jupyter-widgets/base",
            "_model_module_version": "1.2.0",
            "_model_name": "LayoutModel",
            "_view_count": null,
            "_view_module": "@jupyter-widgets/base",
            "_view_module_version": "1.2.0",
            "_view_name": "LayoutView",
            "align_content": null,
            "align_items": null,
            "align_self": null,
            "border": null,
            "bottom": null,
            "display": null,
            "flex": null,
            "flex_flow": null,
            "grid_area": null,
            "grid_auto_columns": null,
            "grid_auto_flow": null,
            "grid_auto_rows": null,
            "grid_column": null,
            "grid_gap": null,
            "grid_row": null,
            "grid_template_areas": null,
            "grid_template_columns": null,
            "grid_template_rows": null,
            "height": null,
            "justify_content": null,
            "justify_items": null,
            "left": null,
            "margin": null,
            "max_height": null,
            "max_width": null,
            "min_height": null,
            "min_width": null,
            "object_fit": null,
            "object_position": null,
            "order": null,
            "overflow": null,
            "overflow_x": null,
            "overflow_y": null,
            "padding": null,
            "right": null,
            "top": null,
            "visibility": null,
            "width": null
          }
        },
        "6d3577f6e28b480794e5461c512c8a35": {
          "model_module": "@jupyter-widgets/controls",
          "model_name": "ProgressStyleModel",
          "model_module_version": "1.5.0",
          "state": {
            "_model_module": "@jupyter-widgets/controls",
            "_model_module_version": "1.5.0",
            "_model_name": "ProgressStyleModel",
            "_view_count": null,
            "_view_module": "@jupyter-widgets/base",
            "_view_module_version": "1.2.0",
            "_view_name": "StyleView",
            "bar_color": null,
            "description_width": ""
          }
        },
        "ad21e35ab1c74a3bbb50ea0f64ca61d6": {
          "model_module": "@jupyter-widgets/base",
          "model_name": "LayoutModel",
          "model_module_version": "1.2.0",
          "state": {
            "_model_module": "@jupyter-widgets/base",
            "_model_module_version": "1.2.0",
            "_model_name": "LayoutModel",
            "_view_count": null,
            "_view_module": "@jupyter-widgets/base",
            "_view_module_version": "1.2.0",
            "_view_name": "LayoutView",
            "align_content": null,
            "align_items": null,
            "align_self": null,
            "border": null,
            "bottom": null,
            "display": null,
            "flex": null,
            "flex_flow": null,
            "grid_area": null,
            "grid_auto_columns": null,
            "grid_auto_flow": null,
            "grid_auto_rows": null,
            "grid_column": null,
            "grid_gap": null,
            "grid_row": null,
            "grid_template_areas": null,
            "grid_template_columns": null,
            "grid_template_rows": null,
            "height": null,
            "justify_content": null,
            "justify_items": null,
            "left": null,
            "margin": null,
            "max_height": null,
            "max_width": null,
            "min_height": null,
            "min_width": null,
            "object_fit": null,
            "object_position": null,
            "order": null,
            "overflow": null,
            "overflow_x": null,
            "overflow_y": null,
            "padding": null,
            "right": null,
            "top": null,
            "visibility": null,
            "width": null
          }
        },
        "c6aadc08c0b249f98751d4d295fe3a86": {
          "model_module": "@jupyter-widgets/controls",
          "model_name": "DescriptionStyleModel",
          "model_module_version": "1.5.0",
          "state": {
            "_model_module": "@jupyter-widgets/controls",
            "_model_module_version": "1.5.0",
            "_model_name": "DescriptionStyleModel",
            "_view_count": null,
            "_view_module": "@jupyter-widgets/base",
            "_view_module_version": "1.2.0",
            "_view_name": "StyleView",
            "description_width": ""
          }
        },
        "afbc2214514142c98a3f6b7997584fca": {
          "model_module": "@jupyter-widgets/controls",
          "model_name": "HBoxModel",
          "model_module_version": "1.5.0",
          "state": {
            "_dom_classes": [],
            "_model_module": "@jupyter-widgets/controls",
            "_model_module_version": "1.5.0",
            "_model_name": "HBoxModel",
            "_view_count": null,
            "_view_module": "@jupyter-widgets/controls",
            "_view_module_version": "1.5.0",
            "_view_name": "HBoxView",
            "box_style": "",
            "children": [
              "IPY_MODEL_7a4c0a64b9f140f9bf1c1ba0319a1089",
              "IPY_MODEL_9438d7a1d7104065b86e16d09e79a6ce",
              "IPY_MODEL_ff31a09a410848858b240a6dd467e108"
            ],
            "layout": "IPY_MODEL_2252a3888cb54226a27a6287a012dd65"
          }
        },
        "7a4c0a64b9f140f9bf1c1ba0319a1089": {
          "model_module": "@jupyter-widgets/controls",
          "model_name": "HTMLModel",
          "model_module_version": "1.5.0",
          "state": {
            "_dom_classes": [],
            "_model_module": "@jupyter-widgets/controls",
            "_model_module_version": "1.5.0",
            "_model_name": "HTMLModel",
            "_view_count": null,
            "_view_module": "@jupyter-widgets/controls",
            "_view_module_version": "1.5.0",
            "_view_name": "HTMLView",
            "description": "",
            "description_tooltip": null,
            "layout": "IPY_MODEL_28a14270d86145d6bfb20e584eebc42d",
            "placeholder": "​",
            "style": "IPY_MODEL_041afcd293994ae3a57d41046c64eee2",
            "value": "Downloading data: 100%"
          }
        },
        "9438d7a1d7104065b86e16d09e79a6ce": {
          "model_module": "@jupyter-widgets/controls",
          "model_name": "FloatProgressModel",
          "model_module_version": "1.5.0",
          "state": {
            "_dom_classes": [],
            "_model_module": "@jupyter-widgets/controls",
            "_model_module_version": "1.5.0",
            "_model_name": "FloatProgressModel",
            "_view_count": null,
            "_view_module": "@jupyter-widgets/controls",
            "_view_module_version": "1.5.0",
            "_view_name": "ProgressView",
            "bar_style": "success",
            "description": "",
            "description_tooltip": null,
            "layout": "IPY_MODEL_d92876995df54b81920252e3cd684069",
            "max": 2595890,
            "min": 0,
            "orientation": "horizontal",
            "style": "IPY_MODEL_b95760ac085d4a55a2aaf70ef9accb3d",
            "value": 2595890
          }
        },
        "ff31a09a410848858b240a6dd467e108": {
          "model_module": "@jupyter-widgets/controls",
          "model_name": "HTMLModel",
          "model_module_version": "1.5.0",
          "state": {
            "_dom_classes": [],
            "_model_module": "@jupyter-widgets/controls",
            "_model_module_version": "1.5.0",
            "_model_name": "HTMLModel",
            "_view_count": null,
            "_view_module": "@jupyter-widgets/controls",
            "_view_module_version": "1.5.0",
            "_view_name": "HTMLView",
            "description": "",
            "description_tooltip": null,
            "layout": "IPY_MODEL_630e6ec3c3564cc7ba7b198e2b71281e",
            "placeholder": "​",
            "style": "IPY_MODEL_47a59c112f4f4899841764a795a9b53e",
            "value": " 2.60M/2.60M [00:00&lt;00:00, 18.1MB/s]"
          }
        },
        "2252a3888cb54226a27a6287a012dd65": {
          "model_module": "@jupyter-widgets/base",
          "model_name": "LayoutModel",
          "model_module_version": "1.2.0",
          "state": {
            "_model_module": "@jupyter-widgets/base",
            "_model_module_version": "1.2.0",
            "_model_name": "LayoutModel",
            "_view_count": null,
            "_view_module": "@jupyter-widgets/base",
            "_view_module_version": "1.2.0",
            "_view_name": "LayoutView",
            "align_content": null,
            "align_items": null,
            "align_self": null,
            "border": null,
            "bottom": null,
            "display": null,
            "flex": null,
            "flex_flow": null,
            "grid_area": null,
            "grid_auto_columns": null,
            "grid_auto_flow": null,
            "grid_auto_rows": null,
            "grid_column": null,
            "grid_gap": null,
            "grid_row": null,
            "grid_template_areas": null,
            "grid_template_columns": null,
            "grid_template_rows": null,
            "height": null,
            "justify_content": null,
            "justify_items": null,
            "left": null,
            "margin": null,
            "max_height": null,
            "max_width": null,
            "min_height": null,
            "min_width": null,
            "object_fit": null,
            "object_position": null,
            "order": null,
            "overflow": null,
            "overflow_x": null,
            "overflow_y": null,
            "padding": null,
            "right": null,
            "top": null,
            "visibility": null,
            "width": null
          }
        },
        "28a14270d86145d6bfb20e584eebc42d": {
          "model_module": "@jupyter-widgets/base",
          "model_name": "LayoutModel",
          "model_module_version": "1.2.0",
          "state": {
            "_model_module": "@jupyter-widgets/base",
            "_model_module_version": "1.2.0",
            "_model_name": "LayoutModel",
            "_view_count": null,
            "_view_module": "@jupyter-widgets/base",
            "_view_module_version": "1.2.0",
            "_view_name": "LayoutView",
            "align_content": null,
            "align_items": null,
            "align_self": null,
            "border": null,
            "bottom": null,
            "display": null,
            "flex": null,
            "flex_flow": null,
            "grid_area": null,
            "grid_auto_columns": null,
            "grid_auto_flow": null,
            "grid_auto_rows": null,
            "grid_column": null,
            "grid_gap": null,
            "grid_row": null,
            "grid_template_areas": null,
            "grid_template_columns": null,
            "grid_template_rows": null,
            "height": null,
            "justify_content": null,
            "justify_items": null,
            "left": null,
            "margin": null,
            "max_height": null,
            "max_width": null,
            "min_height": null,
            "min_width": null,
            "object_fit": null,
            "object_position": null,
            "order": null,
            "overflow": null,
            "overflow_x": null,
            "overflow_y": null,
            "padding": null,
            "right": null,
            "top": null,
            "visibility": null,
            "width": null
          }
        },
        "041afcd293994ae3a57d41046c64eee2": {
          "model_module": "@jupyter-widgets/controls",
          "model_name": "DescriptionStyleModel",
          "model_module_version": "1.5.0",
          "state": {
            "_model_module": "@jupyter-widgets/controls",
            "_model_module_version": "1.5.0",
            "_model_name": "DescriptionStyleModel",
            "_view_count": null,
            "_view_module": "@jupyter-widgets/base",
            "_view_module_version": "1.2.0",
            "_view_name": "StyleView",
            "description_width": ""
          }
        },
        "d92876995df54b81920252e3cd684069": {
          "model_module": "@jupyter-widgets/base",
          "model_name": "LayoutModel",
          "model_module_version": "1.2.0",
          "state": {
            "_model_module": "@jupyter-widgets/base",
            "_model_module_version": "1.2.0",
            "_model_name": "LayoutModel",
            "_view_count": null,
            "_view_module": "@jupyter-widgets/base",
            "_view_module_version": "1.2.0",
            "_view_name": "LayoutView",
            "align_content": null,
            "align_items": null,
            "align_self": null,
            "border": null,
            "bottom": null,
            "display": null,
            "flex": null,
            "flex_flow": null,
            "grid_area": null,
            "grid_auto_columns": null,
            "grid_auto_flow": null,
            "grid_auto_rows": null,
            "grid_column": null,
            "grid_gap": null,
            "grid_row": null,
            "grid_template_areas": null,
            "grid_template_columns": null,
            "grid_template_rows": null,
            "height": null,
            "justify_content": null,
            "justify_items": null,
            "left": null,
            "margin": null,
            "max_height": null,
            "max_width": null,
            "min_height": null,
            "min_width": null,
            "object_fit": null,
            "object_position": null,
            "order": null,
            "overflow": null,
            "overflow_x": null,
            "overflow_y": null,
            "padding": null,
            "right": null,
            "top": null,
            "visibility": null,
            "width": null
          }
        },
        "b95760ac085d4a55a2aaf70ef9accb3d": {
          "model_module": "@jupyter-widgets/controls",
          "model_name": "ProgressStyleModel",
          "model_module_version": "1.5.0",
          "state": {
            "_model_module": "@jupyter-widgets/controls",
            "_model_module_version": "1.5.0",
            "_model_name": "ProgressStyleModel",
            "_view_count": null,
            "_view_module": "@jupyter-widgets/base",
            "_view_module_version": "1.2.0",
            "_view_name": "StyleView",
            "bar_color": null,
            "description_width": ""
          }
        },
        "630e6ec3c3564cc7ba7b198e2b71281e": {
          "model_module": "@jupyter-widgets/base",
          "model_name": "LayoutModel",
          "model_module_version": "1.2.0",
          "state": {
            "_model_module": "@jupyter-widgets/base",
            "_model_module_version": "1.2.0",
            "_model_name": "LayoutModel",
            "_view_count": null,
            "_view_module": "@jupyter-widgets/base",
            "_view_module_version": "1.2.0",
            "_view_name": "LayoutView",
            "align_content": null,
            "align_items": null,
            "align_self": null,
            "border": null,
            "bottom": null,
            "display": null,
            "flex": null,
            "flex_flow": null,
            "grid_area": null,
            "grid_auto_columns": null,
            "grid_auto_flow": null,
            "grid_auto_rows": null,
            "grid_column": null,
            "grid_gap": null,
            "grid_row": null,
            "grid_template_areas": null,
            "grid_template_columns": null,
            "grid_template_rows": null,
            "height": null,
            "justify_content": null,
            "justify_items": null,
            "left": null,
            "margin": null,
            "max_height": null,
            "max_width": null,
            "min_height": null,
            "min_width": null,
            "object_fit": null,
            "object_position": null,
            "order": null,
            "overflow": null,
            "overflow_x": null,
            "overflow_y": null,
            "padding": null,
            "right": null,
            "top": null,
            "visibility": null,
            "width": null
          }
        },
        "47a59c112f4f4899841764a795a9b53e": {
          "model_module": "@jupyter-widgets/controls",
          "model_name": "DescriptionStyleModel",
          "model_module_version": "1.5.0",
          "state": {
            "_model_module": "@jupyter-widgets/controls",
            "_model_module_version": "1.5.0",
            "_model_name": "DescriptionStyleModel",
            "_view_count": null,
            "_view_module": "@jupyter-widgets/base",
            "_view_module_version": "1.2.0",
            "_view_name": "StyleView",
            "description_width": ""
          }
        },
        "5a1fa1afda2a451c899173cd82bf7e51": {
          "model_module": "@jupyter-widgets/controls",
          "model_name": "HBoxModel",
          "model_module_version": "1.5.0",
          "state": {
            "_dom_classes": [],
            "_model_module": "@jupyter-widgets/controls",
            "_model_module_version": "1.5.0",
            "_model_name": "HBoxModel",
            "_view_count": null,
            "_view_module": "@jupyter-widgets/controls",
            "_view_module_version": "1.5.0",
            "_view_name": "HBoxView",
            "box_style": "",
            "children": [
              "IPY_MODEL_64ae3700f65343c480fd60942552e614",
              "IPY_MODEL_1347cc06708a4f56a9f3a257bab5ec31",
              "IPY_MODEL_67496d60217e48e5a42226241b4b078e"
            ],
            "layout": "IPY_MODEL_9f4a4dc8b63445fd989a1822110c1767"
          }
        },
        "64ae3700f65343c480fd60942552e614": {
          "model_module": "@jupyter-widgets/controls",
          "model_name": "HTMLModel",
          "model_module_version": "1.5.0",
          "state": {
            "_dom_classes": [],
            "_model_module": "@jupyter-widgets/controls",
            "_model_module_version": "1.5.0",
            "_model_name": "HTMLModel",
            "_view_count": null,
            "_view_module": "@jupyter-widgets/controls",
            "_view_module_version": "1.5.0",
            "_view_name": "HTMLView",
            "description": "",
            "description_tooltip": null,
            "layout": "IPY_MODEL_e6d6ad6bc4a245d385dfed24716f3fcb",
            "placeholder": "​",
            "style": "IPY_MODEL_db89f49c953e467a9a969ab414de14dc",
            "value": "Generating train split: "
          }
        },
        "1347cc06708a4f56a9f3a257bab5ec31": {
          "model_module": "@jupyter-widgets/controls",
          "model_name": "FloatProgressModel",
          "model_module_version": "1.5.0",
          "state": {
            "_dom_classes": [],
            "_model_module": "@jupyter-widgets/controls",
            "_model_module_version": "1.5.0",
            "_model_name": "FloatProgressModel",
            "_view_count": null,
            "_view_module": "@jupyter-widgets/controls",
            "_view_module_version": "1.5.0",
            "_view_name": "ProgressView",
            "bar_style": "success",
            "description": "",
            "description_tooltip": null,
            "layout": "IPY_MODEL_6c6298b9bd0842e3bec3e7f8579def3c",
            "max": 1,
            "min": 0,
            "orientation": "horizontal",
            "style": "IPY_MODEL_8c00b9e9eac74f998b96c1538cff9cba",
            "value": 1
          }
        },
        "67496d60217e48e5a42226241b4b078e": {
          "model_module": "@jupyter-widgets/controls",
          "model_name": "HTMLModel",
          "model_module_version": "1.5.0",
          "state": {
            "_dom_classes": [],
            "_model_module": "@jupyter-widgets/controls",
            "_model_module_version": "1.5.0",
            "_model_name": "HTMLModel",
            "_view_count": null,
            "_view_module": "@jupyter-widgets/controls",
            "_view_module_version": "1.5.0",
            "_view_name": "HTMLView",
            "description": "",
            "description_tooltip": null,
            "layout": "IPY_MODEL_d105b8debf084e9487d3531a45e937d6",
            "placeholder": "​",
            "style": "IPY_MODEL_480df0c9632947c18de9b8a2c9ece914",
            "value": " 60000/0 [00:00&lt;00:00, 241139.99 examples/s]"
          }
        },
        "9f4a4dc8b63445fd989a1822110c1767": {
          "model_module": "@jupyter-widgets/base",
          "model_name": "LayoutModel",
          "model_module_version": "1.2.0",
          "state": {
            "_model_module": "@jupyter-widgets/base",
            "_model_module_version": "1.2.0",
            "_model_name": "LayoutModel",
            "_view_count": null,
            "_view_module": "@jupyter-widgets/base",
            "_view_module_version": "1.2.0",
            "_view_name": "LayoutView",
            "align_content": null,
            "align_items": null,
            "align_self": null,
            "border": null,
            "bottom": null,
            "display": null,
            "flex": null,
            "flex_flow": null,
            "grid_area": null,
            "grid_auto_columns": null,
            "grid_auto_flow": null,
            "grid_auto_rows": null,
            "grid_column": null,
            "grid_gap": null,
            "grid_row": null,
            "grid_template_areas": null,
            "grid_template_columns": null,
            "grid_template_rows": null,
            "height": null,
            "justify_content": null,
            "justify_items": null,
            "left": null,
            "margin": null,
            "max_height": null,
            "max_width": null,
            "min_height": null,
            "min_width": null,
            "object_fit": null,
            "object_position": null,
            "order": null,
            "overflow": null,
            "overflow_x": null,
            "overflow_y": null,
            "padding": null,
            "right": null,
            "top": null,
            "visibility": null,
            "width": null
          }
        },
        "e6d6ad6bc4a245d385dfed24716f3fcb": {
          "model_module": "@jupyter-widgets/base",
          "model_name": "LayoutModel",
          "model_module_version": "1.2.0",
          "state": {
            "_model_module": "@jupyter-widgets/base",
            "_model_module_version": "1.2.0",
            "_model_name": "LayoutModel",
            "_view_count": null,
            "_view_module": "@jupyter-widgets/base",
            "_view_module_version": "1.2.0",
            "_view_name": "LayoutView",
            "align_content": null,
            "align_items": null,
            "align_self": null,
            "border": null,
            "bottom": null,
            "display": null,
            "flex": null,
            "flex_flow": null,
            "grid_area": null,
            "grid_auto_columns": null,
            "grid_auto_flow": null,
            "grid_auto_rows": null,
            "grid_column": null,
            "grid_gap": null,
            "grid_row": null,
            "grid_template_areas": null,
            "grid_template_columns": null,
            "grid_template_rows": null,
            "height": null,
            "justify_content": null,
            "justify_items": null,
            "left": null,
            "margin": null,
            "max_height": null,
            "max_width": null,
            "min_height": null,
            "min_width": null,
            "object_fit": null,
            "object_position": null,
            "order": null,
            "overflow": null,
            "overflow_x": null,
            "overflow_y": null,
            "padding": null,
            "right": null,
            "top": null,
            "visibility": null,
            "width": null
          }
        },
        "db89f49c953e467a9a969ab414de14dc": {
          "model_module": "@jupyter-widgets/controls",
          "model_name": "DescriptionStyleModel",
          "model_module_version": "1.5.0",
          "state": {
            "_model_module": "@jupyter-widgets/controls",
            "_model_module_version": "1.5.0",
            "_model_name": "DescriptionStyleModel",
            "_view_count": null,
            "_view_module": "@jupyter-widgets/base",
            "_view_module_version": "1.2.0",
            "_view_name": "StyleView",
            "description_width": ""
          }
        },
        "6c6298b9bd0842e3bec3e7f8579def3c": {
          "model_module": "@jupyter-widgets/base",
          "model_name": "LayoutModel",
          "model_module_version": "1.2.0",
          "state": {
            "_model_module": "@jupyter-widgets/base",
            "_model_module_version": "1.2.0",
            "_model_name": "LayoutModel",
            "_view_count": null,
            "_view_module": "@jupyter-widgets/base",
            "_view_module_version": "1.2.0",
            "_view_name": "LayoutView",
            "align_content": null,
            "align_items": null,
            "align_self": null,
            "border": null,
            "bottom": null,
            "display": null,
            "flex": null,
            "flex_flow": null,
            "grid_area": null,
            "grid_auto_columns": null,
            "grid_auto_flow": null,
            "grid_auto_rows": null,
            "grid_column": null,
            "grid_gap": null,
            "grid_row": null,
            "grid_template_areas": null,
            "grid_template_columns": null,
            "grid_template_rows": null,
            "height": null,
            "justify_content": null,
            "justify_items": null,
            "left": null,
            "margin": null,
            "max_height": null,
            "max_width": null,
            "min_height": null,
            "min_width": null,
            "object_fit": null,
            "object_position": null,
            "order": null,
            "overflow": null,
            "overflow_x": null,
            "overflow_y": null,
            "padding": null,
            "right": null,
            "top": null,
            "visibility": null,
            "width": "20px"
          }
        },
        "8c00b9e9eac74f998b96c1538cff9cba": {
          "model_module": "@jupyter-widgets/controls",
          "model_name": "ProgressStyleModel",
          "model_module_version": "1.5.0",
          "state": {
            "_model_module": "@jupyter-widgets/controls",
            "_model_module_version": "1.5.0",
            "_model_name": "ProgressStyleModel",
            "_view_count": null,
            "_view_module": "@jupyter-widgets/base",
            "_view_module_version": "1.2.0",
            "_view_name": "StyleView",
            "bar_color": null,
            "description_width": ""
          }
        },
        "d105b8debf084e9487d3531a45e937d6": {
          "model_module": "@jupyter-widgets/base",
          "model_name": "LayoutModel",
          "model_module_version": "1.2.0",
          "state": {
            "_model_module": "@jupyter-widgets/base",
            "_model_module_version": "1.2.0",
            "_model_name": "LayoutModel",
            "_view_count": null,
            "_view_module": "@jupyter-widgets/base",
            "_view_module_version": "1.2.0",
            "_view_name": "LayoutView",
            "align_content": null,
            "align_items": null,
            "align_self": null,
            "border": null,
            "bottom": null,
            "display": null,
            "flex": null,
            "flex_flow": null,
            "grid_area": null,
            "grid_auto_columns": null,
            "grid_auto_flow": null,
            "grid_auto_rows": null,
            "grid_column": null,
            "grid_gap": null,
            "grid_row": null,
            "grid_template_areas": null,
            "grid_template_columns": null,
            "grid_template_rows": null,
            "height": null,
            "justify_content": null,
            "justify_items": null,
            "left": null,
            "margin": null,
            "max_height": null,
            "max_width": null,
            "min_height": null,
            "min_width": null,
            "object_fit": null,
            "object_position": null,
            "order": null,
            "overflow": null,
            "overflow_x": null,
            "overflow_y": null,
            "padding": null,
            "right": null,
            "top": null,
            "visibility": null,
            "width": null
          }
        },
        "480df0c9632947c18de9b8a2c9ece914": {
          "model_module": "@jupyter-widgets/controls",
          "model_name": "DescriptionStyleModel",
          "model_module_version": "1.5.0",
          "state": {
            "_model_module": "@jupyter-widgets/controls",
            "_model_module_version": "1.5.0",
            "_model_name": "DescriptionStyleModel",
            "_view_count": null,
            "_view_module": "@jupyter-widgets/base",
            "_view_module_version": "1.2.0",
            "_view_name": "StyleView",
            "description_width": ""
          }
        },
        "834b7c3af30045e0ac2e968d1796feca": {
          "model_module": "@jupyter-widgets/controls",
          "model_name": "HBoxModel",
          "model_module_version": "1.5.0",
          "state": {
            "_dom_classes": [],
            "_model_module": "@jupyter-widgets/controls",
            "_model_module_version": "1.5.0",
            "_model_name": "HBoxModel",
            "_view_count": null,
            "_view_module": "@jupyter-widgets/controls",
            "_view_module_version": "1.5.0",
            "_view_name": "HBoxView",
            "box_style": "",
            "children": [
              "IPY_MODEL_9e7e52dbb2f74477b9cc256742d16551",
              "IPY_MODEL_7ca775150a9245048c080b432750b308",
              "IPY_MODEL_854836c39bc442f285829cc96901d98e"
            ],
            "layout": "IPY_MODEL_6e0c9bad79ca48cba253e31fc210308b"
          }
        },
        "9e7e52dbb2f74477b9cc256742d16551": {
          "model_module": "@jupyter-widgets/controls",
          "model_name": "HTMLModel",
          "model_module_version": "1.5.0",
          "state": {
            "_dom_classes": [],
            "_model_module": "@jupyter-widgets/controls",
            "_model_module_version": "1.5.0",
            "_model_name": "HTMLModel",
            "_view_count": null,
            "_view_module": "@jupyter-widgets/controls",
            "_view_module_version": "1.5.0",
            "_view_name": "HTMLView",
            "description": "",
            "description_tooltip": null,
            "layout": "IPY_MODEL_8b63506a75ce4bc4bdd9cd8e83ab8630",
            "placeholder": "​",
            "style": "IPY_MODEL_d46206ab1dfe47a28dbd4196e7695593",
            "value": "Generating test split: "
          }
        },
        "7ca775150a9245048c080b432750b308": {
          "model_module": "@jupyter-widgets/controls",
          "model_name": "FloatProgressModel",
          "model_module_version": "1.5.0",
          "state": {
            "_dom_classes": [],
            "_model_module": "@jupyter-widgets/controls",
            "_model_module_version": "1.5.0",
            "_model_name": "FloatProgressModel",
            "_view_count": null,
            "_view_module": "@jupyter-widgets/controls",
            "_view_module_version": "1.5.0",
            "_view_name": "ProgressView",
            "bar_style": "success",
            "description": "",
            "description_tooltip": null,
            "layout": "IPY_MODEL_a6c5773841514df3ae56efc3a5a8fadd",
            "max": 1,
            "min": 0,
            "orientation": "horizontal",
            "style": "IPY_MODEL_27026a21f5234e0aa47d146e46f07c56",
            "value": 1
          }
        },
        "854836c39bc442f285829cc96901d98e": {
          "model_module": "@jupyter-widgets/controls",
          "model_name": "HTMLModel",
          "model_module_version": "1.5.0",
          "state": {
            "_dom_classes": [],
            "_model_module": "@jupyter-widgets/controls",
            "_model_module_version": "1.5.0",
            "_model_name": "HTMLModel",
            "_view_count": null,
            "_view_module": "@jupyter-widgets/controls",
            "_view_module_version": "1.5.0",
            "_view_name": "HTMLView",
            "description": "",
            "description_tooltip": null,
            "layout": "IPY_MODEL_e548d6dfeeb5459bac93b04ee7dc467c",
            "placeholder": "​",
            "style": "IPY_MODEL_c52959cf43654bffac9864876c14687b",
            "value": " 10000/0 [00:00&lt;00:00, 122040.61 examples/s]"
          }
        },
        "6e0c9bad79ca48cba253e31fc210308b": {
          "model_module": "@jupyter-widgets/base",
          "model_name": "LayoutModel",
          "model_module_version": "1.2.0",
          "state": {
            "_model_module": "@jupyter-widgets/base",
            "_model_module_version": "1.2.0",
            "_model_name": "LayoutModel",
            "_view_count": null,
            "_view_module": "@jupyter-widgets/base",
            "_view_module_version": "1.2.0",
            "_view_name": "LayoutView",
            "align_content": null,
            "align_items": null,
            "align_self": null,
            "border": null,
            "bottom": null,
            "display": null,
            "flex": null,
            "flex_flow": null,
            "grid_area": null,
            "grid_auto_columns": null,
            "grid_auto_flow": null,
            "grid_auto_rows": null,
            "grid_column": null,
            "grid_gap": null,
            "grid_row": null,
            "grid_template_areas": null,
            "grid_template_columns": null,
            "grid_template_rows": null,
            "height": null,
            "justify_content": null,
            "justify_items": null,
            "left": null,
            "margin": null,
            "max_height": null,
            "max_width": null,
            "min_height": null,
            "min_width": null,
            "object_fit": null,
            "object_position": null,
            "order": null,
            "overflow": null,
            "overflow_x": null,
            "overflow_y": null,
            "padding": null,
            "right": null,
            "top": null,
            "visibility": null,
            "width": null
          }
        },
        "8b63506a75ce4bc4bdd9cd8e83ab8630": {
          "model_module": "@jupyter-widgets/base",
          "model_name": "LayoutModel",
          "model_module_version": "1.2.0",
          "state": {
            "_model_module": "@jupyter-widgets/base",
            "_model_module_version": "1.2.0",
            "_model_name": "LayoutModel",
            "_view_count": null,
            "_view_module": "@jupyter-widgets/base",
            "_view_module_version": "1.2.0",
            "_view_name": "LayoutView",
            "align_content": null,
            "align_items": null,
            "align_self": null,
            "border": null,
            "bottom": null,
            "display": null,
            "flex": null,
            "flex_flow": null,
            "grid_area": null,
            "grid_auto_columns": null,
            "grid_auto_flow": null,
            "grid_auto_rows": null,
            "grid_column": null,
            "grid_gap": null,
            "grid_row": null,
            "grid_template_areas": null,
            "grid_template_columns": null,
            "grid_template_rows": null,
            "height": null,
            "justify_content": null,
            "justify_items": null,
            "left": null,
            "margin": null,
            "max_height": null,
            "max_width": null,
            "min_height": null,
            "min_width": null,
            "object_fit": null,
            "object_position": null,
            "order": null,
            "overflow": null,
            "overflow_x": null,
            "overflow_y": null,
            "padding": null,
            "right": null,
            "top": null,
            "visibility": null,
            "width": null
          }
        },
        "d46206ab1dfe47a28dbd4196e7695593": {
          "model_module": "@jupyter-widgets/controls",
          "model_name": "DescriptionStyleModel",
          "model_module_version": "1.5.0",
          "state": {
            "_model_module": "@jupyter-widgets/controls",
            "_model_module_version": "1.5.0",
            "_model_name": "DescriptionStyleModel",
            "_view_count": null,
            "_view_module": "@jupyter-widgets/base",
            "_view_module_version": "1.2.0",
            "_view_name": "StyleView",
            "description_width": ""
          }
        },
        "a6c5773841514df3ae56efc3a5a8fadd": {
          "model_module": "@jupyter-widgets/base",
          "model_name": "LayoutModel",
          "model_module_version": "1.2.0",
          "state": {
            "_model_module": "@jupyter-widgets/base",
            "_model_module_version": "1.2.0",
            "_model_name": "LayoutModel",
            "_view_count": null,
            "_view_module": "@jupyter-widgets/base",
            "_view_module_version": "1.2.0",
            "_view_name": "LayoutView",
            "align_content": null,
            "align_items": null,
            "align_self": null,
            "border": null,
            "bottom": null,
            "display": null,
            "flex": null,
            "flex_flow": null,
            "grid_area": null,
            "grid_auto_columns": null,
            "grid_auto_flow": null,
            "grid_auto_rows": null,
            "grid_column": null,
            "grid_gap": null,
            "grid_row": null,
            "grid_template_areas": null,
            "grid_template_columns": null,
            "grid_template_rows": null,
            "height": null,
            "justify_content": null,
            "justify_items": null,
            "left": null,
            "margin": null,
            "max_height": null,
            "max_width": null,
            "min_height": null,
            "min_width": null,
            "object_fit": null,
            "object_position": null,
            "order": null,
            "overflow": null,
            "overflow_x": null,
            "overflow_y": null,
            "padding": null,
            "right": null,
            "top": null,
            "visibility": null,
            "width": "20px"
          }
        },
        "27026a21f5234e0aa47d146e46f07c56": {
          "model_module": "@jupyter-widgets/controls",
          "model_name": "ProgressStyleModel",
          "model_module_version": "1.5.0",
          "state": {
            "_model_module": "@jupyter-widgets/controls",
            "_model_module_version": "1.5.0",
            "_model_name": "ProgressStyleModel",
            "_view_count": null,
            "_view_module": "@jupyter-widgets/base",
            "_view_module_version": "1.2.0",
            "_view_name": "StyleView",
            "bar_color": null,
            "description_width": ""
          }
        },
        "e548d6dfeeb5459bac93b04ee7dc467c": {
          "model_module": "@jupyter-widgets/base",
          "model_name": "LayoutModel",
          "model_module_version": "1.2.0",
          "state": {
            "_model_module": "@jupyter-widgets/base",
            "_model_module_version": "1.2.0",
            "_model_name": "LayoutModel",
            "_view_count": null,
            "_view_module": "@jupyter-widgets/base",
            "_view_module_version": "1.2.0",
            "_view_name": "LayoutView",
            "align_content": null,
            "align_items": null,
            "align_self": null,
            "border": null,
            "bottom": null,
            "display": null,
            "flex": null,
            "flex_flow": null,
            "grid_area": null,
            "grid_auto_columns": null,
            "grid_auto_flow": null,
            "grid_auto_rows": null,
            "grid_column": null,
            "grid_gap": null,
            "grid_row": null,
            "grid_template_areas": null,
            "grid_template_columns": null,
            "grid_template_rows": null,
            "height": null,
            "justify_content": null,
            "justify_items": null,
            "left": null,
            "margin": null,
            "max_height": null,
            "max_width": null,
            "min_height": null,
            "min_width": null,
            "object_fit": null,
            "object_position": null,
            "order": null,
            "overflow": null,
            "overflow_x": null,
            "overflow_y": null,
            "padding": null,
            "right": null,
            "top": null,
            "visibility": null,
            "width": null
          }
        },
        "c52959cf43654bffac9864876c14687b": {
          "model_module": "@jupyter-widgets/controls",
          "model_name": "DescriptionStyleModel",
          "model_module_version": "1.5.0",
          "state": {
            "_model_module": "@jupyter-widgets/controls",
            "_model_module_version": "1.5.0",
            "_model_name": "DescriptionStyleModel",
            "_view_count": null,
            "_view_module": "@jupyter-widgets/base",
            "_view_module_version": "1.2.0",
            "_view_name": "StyleView",
            "description_width": ""
          }
        }
      }
    }
  },
  "nbformat": 4,
  "nbformat_minor": 0
}