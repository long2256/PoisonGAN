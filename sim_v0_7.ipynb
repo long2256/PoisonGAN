{
  "cells": [
    {
      "cell_type": "markdown",
      "metadata": {
        "id": "view-in-github",
        "colab_type": "text"
      },
      "source": [
        "<a href=\"https://colab.research.google.com/github/long2256/PoisonGAN/blob/main/sim_v0_7.ipynb\" target=\"_parent\"><img src=\"https://colab.research.google.com/assets/colab-badge.svg\" alt=\"Open In Colab\"/></a>"
      ]
    },
    {
      "cell_type": "markdown",
      "metadata": {
        "id": "KxTwNkEtU6tr"
      },
      "source": [
        "# Environment Setup\n",
        "\n",
        "To start working with Flower, very little is required once you have activated your Python environment (e.g. via `conda`, `virtualenv`, `pyenv`, etc). If you are running this code on Colab, there is really nothing to do except to install Flower and other dependencies. The steps below have been verified to run in Colab.\n",
        "\n",
        "## Installing Flower\n",
        "\n",
        "You can install flower very conveniently from `pip`:"
      ]
    },
    {
      "cell_type": "code",
      "execution_count": 1,
      "metadata": {
        "colab": {
          "base_uri": "https://localhost:8080/"
        },
        "id": "bWcgETZxU6tt",
        "outputId": "df7d386e-1ed0-4528-a89b-ec643b819fbf"
      },
      "outputs": [
        {
          "output_type": "stream",
          "name": "stdout",
          "text": [
            "Requirement already satisfied: flwr_datasets[vision] in /usr/local/lib/python3.10/dist-packages (0.0.2)\n",
            "Requirement already satisfied: datasets<3.0.0,>=2.14.3 in /usr/local/lib/python3.10/dist-packages (from flwr_datasets[vision]) (2.16.0)\n",
            "Requirement already satisfied: numpy<2.0.0,>=1.21.0 in /usr/local/lib/python3.10/dist-packages (from flwr_datasets[vision]) (1.23.5)\n",
            "Requirement already satisfied: pillow>=6.2.1 in /usr/local/lib/python3.10/dist-packages (from flwr_datasets[vision]) (9.4.0)\n",
            "Requirement already satisfied: filelock in /usr/local/lib/python3.10/dist-packages (from datasets<3.0.0,>=2.14.3->flwr_datasets[vision]) (3.13.1)\n",
            "Requirement already satisfied: pyarrow>=8.0.0 in /usr/local/lib/python3.10/dist-packages (from datasets<3.0.0,>=2.14.3->flwr_datasets[vision]) (10.0.1)\n",
            "Requirement already satisfied: pyarrow-hotfix in /usr/local/lib/python3.10/dist-packages (from datasets<3.0.0,>=2.14.3->flwr_datasets[vision]) (0.6)\n",
            "Requirement already satisfied: dill<0.3.8,>=0.3.0 in /usr/local/lib/python3.10/dist-packages (from datasets<3.0.0,>=2.14.3->flwr_datasets[vision]) (0.3.7)\n",
            "Requirement already satisfied: pandas in /usr/local/lib/python3.10/dist-packages (from datasets<3.0.0,>=2.14.3->flwr_datasets[vision]) (1.5.3)\n",
            "Requirement already satisfied: requests>=2.19.0 in /usr/local/lib/python3.10/dist-packages (from datasets<3.0.0,>=2.14.3->flwr_datasets[vision]) (2.31.0)\n",
            "Requirement already satisfied: tqdm>=4.62.1 in /usr/local/lib/python3.10/dist-packages (from datasets<3.0.0,>=2.14.3->flwr_datasets[vision]) (4.66.1)\n",
            "Requirement already satisfied: xxhash in /usr/local/lib/python3.10/dist-packages (from datasets<3.0.0,>=2.14.3->flwr_datasets[vision]) (3.4.1)\n",
            "Requirement already satisfied: multiprocess in /usr/local/lib/python3.10/dist-packages (from datasets<3.0.0,>=2.14.3->flwr_datasets[vision]) (0.70.15)\n",
            "Requirement already satisfied: fsspec[http]<=2023.10.0,>=2023.1.0 in /usr/local/lib/python3.10/dist-packages (from datasets<3.0.0,>=2.14.3->flwr_datasets[vision]) (2023.6.0)\n",
            "Requirement already satisfied: aiohttp in /usr/local/lib/python3.10/dist-packages (from datasets<3.0.0,>=2.14.3->flwr_datasets[vision]) (3.9.1)\n",
            "Requirement already satisfied: huggingface-hub>=0.19.4 in /usr/local/lib/python3.10/dist-packages (from datasets<3.0.0,>=2.14.3->flwr_datasets[vision]) (0.19.4)\n",
            "Requirement already satisfied: packaging in /usr/local/lib/python3.10/dist-packages (from datasets<3.0.0,>=2.14.3->flwr_datasets[vision]) (23.2)\n",
            "Requirement already satisfied: pyyaml>=5.1 in /usr/local/lib/python3.10/dist-packages (from datasets<3.0.0,>=2.14.3->flwr_datasets[vision]) (6.0.1)\n",
            "Requirement already satisfied: attrs>=17.3.0 in /usr/local/lib/python3.10/dist-packages (from aiohttp->datasets<3.0.0,>=2.14.3->flwr_datasets[vision]) (23.1.0)\n",
            "Requirement already satisfied: multidict<7.0,>=4.5 in /usr/local/lib/python3.10/dist-packages (from aiohttp->datasets<3.0.0,>=2.14.3->flwr_datasets[vision]) (6.0.4)\n",
            "Requirement already satisfied: yarl<2.0,>=1.0 in /usr/local/lib/python3.10/dist-packages (from aiohttp->datasets<3.0.0,>=2.14.3->flwr_datasets[vision]) (1.9.4)\n",
            "Requirement already satisfied: frozenlist>=1.1.1 in /usr/local/lib/python3.10/dist-packages (from aiohttp->datasets<3.0.0,>=2.14.3->flwr_datasets[vision]) (1.4.1)\n",
            "Requirement already satisfied: aiosignal>=1.1.2 in /usr/local/lib/python3.10/dist-packages (from aiohttp->datasets<3.0.0,>=2.14.3->flwr_datasets[vision]) (1.3.1)\n",
            "Requirement already satisfied: async-timeout<5.0,>=4.0 in /usr/local/lib/python3.10/dist-packages (from aiohttp->datasets<3.0.0,>=2.14.3->flwr_datasets[vision]) (4.0.3)\n",
            "Requirement already satisfied: typing-extensions>=3.7.4.3 in /usr/local/lib/python3.10/dist-packages (from huggingface-hub>=0.19.4->datasets<3.0.0,>=2.14.3->flwr_datasets[vision]) (4.5.0)\n",
            "Requirement already satisfied: charset-normalizer<4,>=2 in /usr/local/lib/python3.10/dist-packages (from requests>=2.19.0->datasets<3.0.0,>=2.14.3->flwr_datasets[vision]) (3.3.2)\n",
            "Requirement already satisfied: idna<4,>=2.5 in /usr/local/lib/python3.10/dist-packages (from requests>=2.19.0->datasets<3.0.0,>=2.14.3->flwr_datasets[vision]) (3.6)\n",
            "Requirement already satisfied: urllib3<3,>=1.21.1 in /usr/local/lib/python3.10/dist-packages (from requests>=2.19.0->datasets<3.0.0,>=2.14.3->flwr_datasets[vision]) (2.0.7)\n",
            "Requirement already satisfied: certifi>=2017.4.17 in /usr/local/lib/python3.10/dist-packages (from requests>=2.19.0->datasets<3.0.0,>=2.14.3->flwr_datasets[vision]) (2023.11.17)\n",
            "Requirement already satisfied: python-dateutil>=2.8.1 in /usr/local/lib/python3.10/dist-packages (from pandas->datasets<3.0.0,>=2.14.3->flwr_datasets[vision]) (2.8.2)\n",
            "Requirement already satisfied: pytz>=2020.1 in /usr/local/lib/python3.10/dist-packages (from pandas->datasets<3.0.0,>=2.14.3->flwr_datasets[vision]) (2023.3.post1)\n",
            "Requirement already satisfied: six>=1.5 in /usr/local/lib/python3.10/dist-packages (from python-dateutil>=2.8.1->pandas->datasets<3.0.0,>=2.14.3->flwr_datasets[vision]) (1.16.0)\n"
          ]
        }
      ],
      "source": [
        "# depending on your shell, you might need to add `\\` before `[` and `]`.\n",
        "!pip install -q flwr[simulation]\n",
        "!pip install flwr_datasets[vision]"
      ]
    },
    {
      "cell_type": "code",
      "execution_count": 2,
      "metadata": {
        "colab": {
          "base_uri": "https://localhost:8080/"
        },
        "id": "fN9vsH9gU6tu",
        "outputId": "98aad715-254e-4960-a9b9-ed823c28471c"
      },
      "outputs": [
        {
          "output_type": "stream",
          "name": "stdout",
          "text": [
            "Requirement already satisfied: matplotlib in /usr/local/lib/python3.10/dist-packages (3.7.1)\n",
            "Requirement already satisfied: contourpy>=1.0.1 in /usr/local/lib/python3.10/dist-packages (from matplotlib) (1.2.0)\n",
            "Requirement already satisfied: cycler>=0.10 in /usr/local/lib/python3.10/dist-packages (from matplotlib) (0.12.1)\n",
            "Requirement already satisfied: fonttools>=4.22.0 in /usr/local/lib/python3.10/dist-packages (from matplotlib) (4.46.0)\n",
            "Requirement already satisfied: kiwisolver>=1.0.1 in /usr/local/lib/python3.10/dist-packages (from matplotlib) (1.4.5)\n",
            "Requirement already satisfied: numpy>=1.20 in /usr/local/lib/python3.10/dist-packages (from matplotlib) (1.23.5)\n",
            "Requirement already satisfied: packaging>=20.0 in /usr/local/lib/python3.10/dist-packages (from matplotlib) (23.2)\n",
            "Requirement already satisfied: pillow>=6.2.0 in /usr/local/lib/python3.10/dist-packages (from matplotlib) (9.4.0)\n",
            "Requirement already satisfied: pyparsing>=2.3.1 in /usr/local/lib/python3.10/dist-packages (from matplotlib) (3.1.1)\n",
            "Requirement already satisfied: python-dateutil>=2.7 in /usr/local/lib/python3.10/dist-packages (from matplotlib) (2.8.2)\n",
            "Requirement already satisfied: six>=1.5 in /usr/local/lib/python3.10/dist-packages (from python-dateutil>=2.7->matplotlib) (1.16.0)\n"
          ]
        }
      ],
      "source": [
        "!pip install matplotlib"
      ]
    },
    {
      "cell_type": "code",
      "execution_count": 21,
      "metadata": {
        "id": "O37lBkTdU6tw",
        "outputId": "fcbb3296-cdca-4abc-bdf9-d8e37f8e5ab9",
        "colab": {
          "base_uri": "https://localhost:8080/"
        }
      },
      "outputs": [
        {
          "output_type": "stream",
          "name": "stderr",
          "text": [
            "/usr/local/lib/python3.10/dist-packages/torchvision/transforms/functional.py:1603: UserWarning: The default value of the antialias parameter of all the resizing transforms (Resize(), RandomResizedCrop(), etc.) will change from None to True in v0.17, in order to be consistent across the PIL and Tensor backends. To suppress this warning, directly pass antialias=True (recommended, future default), antialias=None (current default, which means False for Tensors and True for PIL), or antialias=False (only works on Tensors - PIL will still use antialiasing). This also applies if you are using the inference transforms from the models weights: update the call to weights.transforms(antialias=True).\n",
            "  warnings.warn(\n"
          ]
        }
      ],
      "source": [
        "import torch\n",
        "from torchvision import datasets\n",
        "from torchvision.transforms import Compose, ToTensor, Resize\n",
        "from torch.utils.data import DataLoader, SubsetRandomSampler\n",
        "\n",
        "def devide_dataset(dataset, dataloader, num_classes: int, batch_size: int):\n",
        "    for i in range(num_classes):\n",
        "        # Get indices of samples for each class\n",
        "        indices = [idx for idx, (img, label) in enumerate(dataset) if label == i]\n",
        "\n",
        "        # Divide the indices into 3 subsets\n",
        "        subset_size = len(indices) // 3\n",
        "        subset_indices = [indices[j * subset_size: (j + 1) * subset_size] for j in range(3)]\n",
        "\n",
        "        # Create DataLoader for each subset and add to trainloaders\n",
        "        for subset_idx in subset_indices:\n",
        "            sampler = SubsetRandomSampler(subset_idx)\n",
        "            loader = DataLoader(dataset, batch_size=batch_size, sampler=sampler)\n",
        "            dataloader.append(loader)\n",
        "    return dataloader\n",
        "\n",
        "def prepare_dataset():\n",
        "    # Define transforms\n",
        "    transforms = Compose([\n",
        "        ToTensor(),\n",
        "        Resize((64, 64))\n",
        "    ])\n",
        "\n",
        "    # Download MNIST dataset\n",
        "    trainset = datasets.MNIST(root='./data', train=True, download=True, transform=transforms)\n",
        "    testset = datasets.MNIST(root='./data', train=False, download=True, transform=transforms)\n",
        "\n",
        "    alltestloader = DataLoader(testset)\n",
        "\n",
        "    testloaders = []\n",
        "    trainloaders = []\n",
        "    testloader = devide_dataset(testset, testloaders, 10, 256)\n",
        "    trainloader = devide_dataset(trainset, trainloaders, 10, 256)\n",
        "\n",
        "\n",
        "    return trainset, trainloaders, testset, testloader, alltestloader\n",
        "\n",
        "trainset, trainloader, testset, testloader, alltestloader = prepare_dataset()\n"
      ]
    },
    {
      "cell_type": "code",
      "source": [
        "from torch.utils.data import Subset\n",
        "import matplotlib.pyplot as plt\n",
        "def visualise_histogram(trainloader, loader_idx_list):\n",
        "    for idx in loader_idx_list:\n",
        "        subset_indices = trainloader[idx].sampler.indices\n",
        "        train_partition = Subset(trainloader[idx].dataset, subset_indices)\n",
        "\n",
        "        # Count data points\n",
        "        partition_indices = train_partition.indices\n",
        "        print(f\"Number of images: {len(partition_indices)}\")\n",
        "\n",
        "        # Visualize histogram\n",
        "        plt.hist(train_partition.dataset.targets[partition_indices], bins=10)\n",
        "        plt.grid()\n",
        "        plt.xticks(range(10))\n",
        "        plt.xlabel(\"Label\")\n",
        "        plt.ylabel(\"Number of images\")\n",
        "        plt.title(\"Class labels distribution for MNIST\")\n",
        "        plt.show()\n"
      ],
      "metadata": {
        "id": "Fw8PD0Hd0Lbo"
      },
      "execution_count": 22,
      "outputs": []
    },
    {
      "cell_type": "code",
      "source": [
        "visualise_histogram(testloader, [9, 10, 11])"
      ],
      "metadata": {
        "id": "Ae0hFajz4YiQ",
        "outputId": "31834ea9-3bc1-49c0-8249-d0da7ae9969f",
        "colab": {
          "base_uri": "https://localhost:8080/",
          "height": 1000
        }
      },
      "execution_count": 32,
      "outputs": [
        {
          "output_type": "stream",
          "name": "stdout",
          "text": [
            "Number of images: 336\n"
          ]
        },
        {
          "output_type": "display_data",
          "data": {
            "text/plain": [
              "<Figure size 640x480 with 1 Axes>"
            ],
            "image/png": "[encoded data removed]"
          },
          "metadata": {}
        },
        {
          "output_type": "stream",
          "name": "stdout",
          "text": [
            "Number of images: 336\n"
          ]
        },
        {
          "output_type": "display_data",
          "data": {
            "text/plain": [
              "<Figure size 640x480 with 1 Axes>"
            ],
            "image/png": "[encoded data removed]"
          },
          "metadata": {}
        },
        {
          "output_type": "stream",
          "name": "stdout",
          "text": [
            "Number of images: 336\n"
          ]
        },
        {
          "output_type": "display_data",
          "data": {
            "text/plain": [
              "<Figure size 640x480 with 1 Axes>"
            ],
            "image/png": "[encoded data removed]"
          },
          "metadata": {}
        }
      ]
    },
    {
      "cell_type": "code",
      "execution_count": 30,
      "metadata": {
        "id": "QiodpnqLU6tv"
      },
      "outputs": [],
      "source": [
        "import torch\n",
        "import torch.nn as nn\n",
        "import torch.nn.functional as F\n",
        "from torch.utils.data import DataLoader\n",
        "\n",
        "\n",
        "class Net(nn.Module):\n",
        "    def __init__(self):\n",
        "        super(Net, self).__init__()\n",
        "        self.conv1 = nn.Conv2d(in_channels=1, out_channels=64, kernel_size=4, stride=2, padding=1)\n",
        "        self.leaky1 = nn.LeakyReLU()\n",
        "\n",
        "        self.conv2 = nn.Conv2d(in_channels=64, out_channels=64, kernel_size=4, stride=2, padding=1)\n",
        "        self.leaky2 = nn.LeakyReLU()\n",
        "\n",
        "        self.conv3 = nn.Conv2d(in_channels=64, out_channels=64, kernel_size=4, stride=2, padding=1)\n",
        "        self.leaky3 = nn.LeakyReLU()\n",
        "\n",
        "        self.conv4 = nn.Conv2d(in_channels=64, out_channels=128, kernel_size=3, stride=1, padding=1)\n",
        "        self.leaky4 = nn.LeakyReLU()\n",
        "\n",
        "        self.conv5 = nn.Conv2d(in_channels=128, out_channels=128, kernel_size=3, stride=1, padding=1)\n",
        "        self.leaky5 = nn.LeakyReLU()\n",
        "\n",
        "        self.conv6 = nn.Conv2d(in_channels=128, out_channels=128, kernel_size=3, stride=1, padding=1)\n",
        "        self.leaky6 = nn.LeakyReLU()\n",
        "\n",
        "        self.avgpool = nn.AvgPool2d(2, stride=2)\n",
        "\n",
        "        self.fc = nn.Linear(4 * 4 * 128, 10)  # 11 classes for MNIST\n",
        "        self.softmax = nn.Softmax(dim=1)\n",
        "\n",
        "    def forward(self, x):\n",
        "        x = self.conv1(x)\n",
        "        x = self.leaky1(x)\n",
        "\n",
        "        x = self.conv2(x)\n",
        "        x = self.leaky2(x)\n",
        "\n",
        "        x = self.conv3(x)\n",
        "        x = self.leaky3(x)\n",
        "\n",
        "        x = self.conv4(x)\n",
        "        x = self.leaky4(x)\n",
        "\n",
        "        x = self.conv5(x)\n",
        "        x = self.leaky5(x)\n",
        "\n",
        "        x = self.conv6(x)\n",
        "        x = self.leaky6(x)\n",
        "\n",
        "        x = self.avgpool(x)\n",
        "        x = x.view(x.size(0), -1)  # Flatten the output\n",
        "        x = self.fc(x)\n",
        "        x = self.softmax(x)\n",
        "\n",
        "        return x\n",
        "\n",
        "class Discriminator(nn.Module):\n",
        "    def __init__(self):\n",
        "        super(Discriminator, self).__init__()\n",
        "        self.conv1 = nn.Conv2d(in_channels=1, out_channels=64, kernel_size=4, stride=2, padding=1)\n",
        "        self.leaky1 = nn.LeakyReLU()\n",
        "        self.dropout = nn.Dropout()\n",
        "\n",
        "        self.conv2 = nn.Conv2d(in_channels=64, out_channels=64, kernel_size=4, stride=2, padding=1)\n",
        "        self.batchnorm1 = nn.BatchNorm2d(64)\n",
        "        self.leaky2 = nn.LeakyReLU()\n",
        "\n",
        "        self.conv3 = nn.Conv2d(in_channels=64, out_channels=64, kernel_size=4, stride=2, padding=1)\n",
        "        self.batchnorm2 = nn.BatchNorm2d(64)\n",
        "        self.leaky3 = nn.LeakyReLU()\n",
        "\n",
        "        self.conv4 = nn.Conv2d(in_channels=64, out_channels=128, kernel_size=3, stride=1, padding=1)\n",
        "        self.batchnorm3 = nn.BatchNorm2d(128)\n",
        "        self.leaky4 = nn.LeakyReLU()\n",
        "\n",
        "        self.conv5 = nn.Conv2d(in_channels=128, out_channels=128, kernel_size=3, stride=1, padding=1)\n",
        "        self.batchnorm4 = nn.BatchNorm2d(128)\n",
        "        self.leaky5 = nn.LeakyReLU()\n",
        "\n",
        "        self.conv6 = nn.Conv2d(in_channels=128, out_channels=128, kernel_size=3, stride=1, padding=1)\n",
        "        self.leaky6 = nn.LeakyReLU()\n",
        "\n",
        "        self.avgpool = nn.AvgPool2d(2, stride=2)\n",
        "\n",
        "        self.fc = nn.Linear(4 * 4 * 128, 10)\n",
        "        self.softmax = nn.Softmax(dim=1)\n",
        "\n",
        "    def forward(self, x):\n",
        "        x = self.conv1(x)\n",
        "        x = self.leaky1(x)\n",
        "        x = self.dropout(x)\n",
        "\n",
        "        x = self.conv2(x)\n",
        "        x = self.batchnorm1(x)\n",
        "        x = self.leaky2(x)\n",
        "\n",
        "        x = self.conv3(x)\n",
        "        x = self.batchnorm2(x)\n",
        "        x = self.leaky3(x)\n",
        "\n",
        "        x = self.conv4(x)\n",
        "        x = self.batchnorm3(x)\n",
        "        x = self.leaky4(x)\n",
        "\n",
        "        x = self.conv5(x)\n",
        "        x = self.batchnorm4(x)\n",
        "        x = self.leaky5(x)\n",
        "\n",
        "        x = self.conv6(x)\n",
        "        x = self.leaky6(x)\n",
        "\n",
        "        x = self.avgpool(x)\n",
        "        x = x.view(x.size(0), -1)  # Flatten the output\n",
        "        x = self.fc(x)\n",
        "        x = self.softmax(x)\n",
        "\n",
        "        return x\n",
        "\n",
        "class Generator(nn.Module):\n",
        "    def __init__(self):\n",
        "        super(Generator, self).__init__()\n",
        "\n",
        "        self.conv1 = nn.ConvTranspose2d(100, 256, kernel_size=4, stride=4, padding=0, bias=False)\n",
        "        self.batchnorm1 = nn.BatchNorm2d(256)\n",
        "        self.relu1 = nn.ReLU()\n",
        "\n",
        "        self.conv2 = nn.ConvTranspose2d(256, 128, kernel_size=4, stride=4, padding=0, bias=False)\n",
        "        self.batchnorm2 = nn.BatchNorm2d(128)\n",
        "        self.relu2 = nn.ReLU()\n",
        "\n",
        "        self.conv3 = nn.ConvTranspose2d(128, 64, kernel_size=4, stride=2, padding=1, bias=False)\n",
        "        self.batchnorm3 = nn.BatchNorm2d(64)\n",
        "        self.relu3 = nn.ReLU()\n",
        "\n",
        "        self.conv4 = nn.ConvTranspose2d(64, 1, kernel_size=4, stride=2, padding=1, bias=False)\n",
        "        self.tanh = nn.Tanh()\n",
        "\n",
        "    def forward(self, x):\n",
        "        x = self.conv1(x)\n",
        "        x = self.batchnorm1(x)\n",
        "        x = self.relu1(x)\n",
        "        x = self.conv2(x)\n",
        "        x = self.batchnorm2(x)\n",
        "        x = self.relu2(x)\n",
        "        x = self.conv3(x)\n",
        "        x = self.batchnorm3(x)\n",
        "        x = self.relu3(x)\n",
        "        x = self.conv4(x)\n",
        "        x = self.tanh(x)\n",
        "        return x"
      ]
    },
    {
      "cell_type": "code",
      "execution_count": 31,
      "metadata": {
        "id": "-aefgeLCU6tw"
      },
      "outputs": [],
      "source": [
        "from tqdm import tqdm\n",
        "def train(net, trainloader, lr, epochs, device: str):\n",
        "    \"\"\"Train the network on the training set.\"\"\"\n",
        "    criterion = torch.nn.CrossEntropyLoss()\n",
        "    net.train()\n",
        "    for _ in range(epochs):\n",
        "        if epochs % 2 == 0 and epochs != 0:\n",
        "          lr /= 10\n",
        "        optim = torch.optim.SGD(net.parameters(), lr=lr)\n",
        "        # for batch in tqdm(trainloader, desc='Victim Training:'):\n",
        "        for batch in trainloader:\n",
        "            images, labels = batch\n",
        "            images, labels = images.to(device), labels.to(device)\n",
        "            optim.zero_grad()\n",
        "            loss = criterion(net(images), labels)\n",
        "            loss.backward()\n",
        "            optim.step()\n",
        "\n",
        "def poison_train(net, generator, discriminator, lr, epochs, device: str):\n",
        "    criterion = torch.nn.CrossEntropyLoss()\n",
        "    discriminator.eval()\n",
        "    generator.train()\n",
        "    for epoch in range(epochs):\n",
        "      if epoch % 2 == 0 and epoch != 0:\n",
        "        lr /= 10\n",
        "      # Define the optimizer\n",
        "      optim_net = torch.optim.SGD(net.parameters(), lr=lr)\n",
        "      optim_G = torch.optim.SGD(generator.parameters(), lr=lr)\n",
        "      # Training G\n",
        "      noise = torch.randn(2000, 32, 100, 1, 1).to(device)\n",
        "      # for batch_noisy in tqdm(noise, desc='Training G:'):\n",
        "      for batch_noisy in noise:\n",
        "          fake_images = generator(batch_noisy).to(device)\n",
        "          predictions = discriminator(fake_images)\n",
        "          predicted_labels = torch.max(predictions, dim=1).indices\n",
        "\n",
        "          images_is_2 = fake_images[predicted_labels == 2]\n",
        "          labels_is_2 = torch.full((len(images_is_2),), 2).to(device)\n",
        "\n",
        "          if(len(images_is_2) > 0):\n",
        "              optim_G.zero_grad()\n",
        "              criterion(discriminator(images_is_2.to(device)), labels_is_2.to(device)).backward()\n",
        "              optim_G.step()\n",
        "\n",
        "      # Training Net with poisonset\n",
        "      # for batch_noisy in tqdm(noise, desc='Poison Training:'):\n",
        "      for batch_noisy in noise:\n",
        "          fake_images = generator(batch_noisy).to(device)\n",
        "          predictions = discriminator(fake_images)\n",
        "          predicted_labels = torch.max(predictions, dim=1).indices\n",
        "\n",
        "          images_is_2 = fake_images[predicted_labels == 2]\n",
        "          labels_is_2 = torch.full((len(images_is_2),), 7).to(device)\n",
        "\n",
        "          if(len(images_is_2) > 0):\n",
        "              optim_net.zero_grad()\n",
        "              criterion(net(images_is_2.to(device)), labels_is_2.to(device)).backward()\n",
        "              optim_net.step()\n",
        "    print(\"#\"*30, \"ATTACKER\", \"#\"*30)\n",
        "\n",
        "\n",
        "def test(net, testloader, device: str):\n",
        "    \"\"\"Validate the network on the entire test set.\"\"\"\n",
        "    criterion = torch.nn.CrossEntropyLoss()\n",
        "    correct, loss = 0, 0.0\n",
        "    net.eval()\n",
        "    with torch.no_grad():\n",
        "        for images, labels in tqdm(testloader):\n",
        "            images, labels = images.to(device), labels.to(device)\n",
        "            outputs = net(images)\n",
        "            loss += criterion(outputs, labels).item()\n",
        "            _, predicted = torch.max(outputs.data, 1)\n",
        "            correct += (predicted == labels).sum().item()\n",
        "    accuracy = correct / len(testloader.dataset)\n",
        "    return loss, accuracy\n",
        "\n",
        "# def test(net, testloader, device: str):\n",
        "#     \"\"\"Validate the network on the entire test set.\"\"\"\n",
        "#     criterion = torch.nn.CrossEntropyLoss()\n",
        "#     correct_poisoned = 0\n",
        "#     total_poisoned = 0\n",
        "#     loss = 0.0\n",
        "#     net.eval()\n",
        "#     with torch.no_grad():\n",
        "#         for images, labels in testloader:\n",
        "#             images, labels = images.to(device), labels.to(device)\n",
        "#             output = net(images)\n",
        "#             pred = output.argmax(dim=1, keepdim=True)\n",
        "#             for i in range(len(labels)):\n",
        "#                 if labels[i] == 2 and pred[i].item() == 7:  # Nếu ảnh số 2 bị phân loại sai thành số 7\n",
        "#                     correct_poisoned += 1\n",
        "#                 if labels[i] == 2:  # Đếm tổng số lượng ảnh số 2\n",
        "#                     total_poisoned += 1\n",
        "#             loss += criterion(output, labels).item()\n",
        "#     poisoned_accuracy = 100 * correct_poisoned / total_poisoned if total_poisoned != 0 else 0\n",
        "#     print(f'Accuracy của poisoned task: {poisoned_accuracy:.2f}%')\n",
        "#     return loss, poisoned_accuracy"
      ]
    },
    {
      "cell_type": "code",
      "execution_count": 33,
      "metadata": {
        "id": "EfQOV56-U6tx"
      },
      "outputs": [],
      "source": [
        "import flwr as fl"
      ]
    },
    {
      "cell_type": "code",
      "execution_count": 34,
      "metadata": {
        "id": "oXmlxsZ2U6tx"
      },
      "outputs": [],
      "source": [
        "from collections import OrderedDict\n",
        "from typing import Dict, List, Tuple, Union, Optional\n",
        "from flwr.server.client_proxy import ClientProxy\n",
        "import random\n",
        "from flwr.common import NDArrays, Scalar, Parameters\n",
        "\n",
        "\n",
        "class FlowerClient(fl.client.NumPyClient):\n",
        "    def __init__(self, cid, trainloader, testloader):\n",
        "        super().__init__()\n",
        "\n",
        "        self.trainloader = trainloader\n",
        "        self.testloader = testloader\n",
        "        self.cid = cid\n",
        "        self.model = Net()\n",
        "        self.discriminator = Discriminator()\n",
        "        self.generator = Generator()\n",
        "        # Determine device\n",
        "        self.device = torch.device(\"cuda:0\" if torch.cuda.is_available() else \"cpu\")\n",
        "        self.model.to(self.device)  # send model to device\n",
        "        self.discriminator.to(self.device)\n",
        "        self.generator.to(self.device)\n",
        "\n",
        "    def set_parameters(self, parameters):\n",
        "        \"\"\"With the model paramters received from the server,\n",
        "        overwrite the uninitialise model in this class with them.\"\"\"\n",
        "\n",
        "        params_dict = zip(self.model.state_dict().keys(), parameters)\n",
        "        state_dict = OrderedDict({k: torch.Tensor(v) for k, v in params_dict})\n",
        "        # now replace the parameters\n",
        "        self.discriminator.load_state_dict(state_dict, strict=False)\n",
        "        self.model.load_state_dict(state_dict, strict=True)\n",
        "\n",
        "    def get_parameters(self, config: Dict[str, Scalar]):\n",
        "        \"\"\"Extract all model parameters and conver them to a list of\n",
        "        NumPy arryas. The server doesn't work with PyTorch/TF/etc.\"\"\"\n",
        "        print(f\"[Client {self.cid}] get_parameters\")\n",
        "        return [val.cpu().numpy() for _, val in self.model.state_dict().items()]\n",
        "\n",
        "    def fit(self, parameters, config):\n",
        "        \"\"\"This method train the model using the parameters sent by the\n",
        "        server on the dataset of this client. At then end, the parameters\n",
        "        of the locally trained model are communicated back to the server\"\"\"\n",
        "        print(f\"[Client {self.cid}] fit, config: {config}\")\n",
        "        # copy parameters sent by the server into client's local model\n",
        "        self.set_parameters(parameters)\n",
        "        lr, epochs = config[\"lr\"], config[\"epochs\"]\n",
        "        train(self.model, self.trainloader, lr, epochs=epochs, device=self.device)\n",
        "        # return the model parameters to the server as well as extra info (number of training examples in this case)\n",
        "        return self.get_parameters({}), len(self.trainloader), {}\n",
        "\n",
        "    def evaluate(self, parameters: NDArrays, config: Dict[str, Scalar]):\n",
        "        \"\"\"Evaluate the model sent by the server on this client's\n",
        "        local validation set. Then return performance metrics.\"\"\"\n",
        "        print(f\"[Client {self.cid}] evaluate, config: {config}\")\n",
        "        self.set_parameters(parameters)\n",
        "        loss, accuracy = test(self.model, self.testloader, device=self.device)\n",
        "        # send statistics back to the server\n",
        "        return float(loss), len(self.testloader), {\"accuracy\": accuracy}"
      ]
    },
    {
      "cell_type": "code",
      "execution_count": 35,
      "metadata": {
        "id": "M4qIvPT-U6tx"
      },
      "outputs": [],
      "source": [
        "def get_evaluate_fn(testloader):\n",
        "    \"\"\"This is a function that returns a function. The returned\n",
        "    function (i.e. `evaluate_fn`) will be executed by the strategy\n",
        "    at the end of each round to evaluate the stat of the global\n",
        "    model.\"\"\"\n",
        "\n",
        "    def evaluate_fn(server_round: int, parameters, config):\n",
        "        \"\"\"This function is executed by the strategy it will instantiate\n",
        "        a model and replace its parameters with those from the global model.\n",
        "        The, the model will be evaluate on the test set (recall this is the\n",
        "        whole MNIST test set).\"\"\"\n",
        "\n",
        "        model = Net()\n",
        "\n",
        "        # Determine device\n",
        "        device = torch.device(\"cuda:0\" if torch.cuda.is_available() else \"cpu\")\n",
        "        model.to(device)  # send model to device\n",
        "\n",
        "        # set parameters to the model\n",
        "        params_dict = zip(model.state_dict().keys(), parameters)\n",
        "        state_dict = OrderedDict({k: torch.Tensor(v) for k, v in params_dict})\n",
        "        model.load_state_dict(state_dict, strict=True)\n",
        "        # call test\n",
        "        print('GLOBAL EVALUATE')\n",
        "        loss, accuracy = test(model, testloader, device)\n",
        "        return loss, {\"accuracy\": accuracy}\n",
        "\n",
        "    return evaluate_fn"
      ]
    },
    {
      "cell_type": "code",
      "execution_count": 36,
      "metadata": {
        "id": "qLro1MJ0U6tx"
      },
      "outputs": [],
      "source": [
        "from flwr.common import Metrics, FitRes\n",
        "\n",
        "\n",
        "def fit_config(server_round: int) -> Dict[str, Scalar]:\n",
        "    \"\"\"Return a configuration with static batch size and (local) epochs.\"\"\"\n",
        "    config = {\n",
        "        \"epochs\": 10,  # Number of local epochs done by clients\n",
        "        \"lr\": 0.1,  # Learning rate to use by clients during fit()\n",
        "        \"attacker_epochs\": 20,\n",
        "        \"attacker_lr\": 0.05,\n",
        "    }\n",
        "    return config\n",
        "\n",
        "\n",
        "def weighted_average(metrics: List[Tuple[int, Metrics]]) -> Metrics:\n",
        "    \"\"\"Aggregation function for (federated) evaluation metrics, i.e. those returned by\n",
        "    the client's evaluate() method.\"\"\"\n",
        "    # Multiply accuracy of each client by number of examples used\n",
        "    accuracies = [num_examples * m[\"accuracy\"] for num_examples, m in metrics]\n",
        "    examples = [num_examples for num_examples, _ in metrics]\n",
        "\n",
        "    # Aggregate and return custom metric (weighted average)\n",
        "    return {\"accuracy\": sum(accuracies) / sum(examples)}"
      ]
    },
    {
      "cell_type": "markdown",
      "metadata": {
        "id": "5SDKardSU6tx"
      },
      "source": [
        "Now we can define our strategy:"
      ]
    },
    {
      "cell_type": "code",
      "source": [
        "import numpy as np\n",
        "class SaveModelStrategy(fl.server.strategy.FedAvg):\n",
        "    def aggregate_fit(\n",
        "        self,\n",
        "        server_round: int,\n",
        "        results: List[Tuple[fl.server.client_proxy.ClientProxy, fl.common.FitRes]],\n",
        "        failures: List[Union[Tuple[ClientProxy, FitRes], BaseException]],\n",
        "    ) -> Tuple[Optional[Parameters], Dict[str, Scalar]]:\n",
        "        \"\"\"Aggregate model weights using weighted average and store checkpoint\"\"\"\n",
        "        model=Net()\n",
        "        # Call aggregate_fit from base class (FedAvg) to aggregate parameters and metrics\n",
        "        aggregated_parameters, aggregated_metrics = super().aggregate_fit(server_round, results, failures)\n",
        "\n",
        "        if aggregated_parameters is not None:\n",
        "            print(f\"Saving round {server_round} aggregated_parameters...\")\n",
        "\n",
        "            # Convert `Parameters` to `List[np.ndarray]`\n",
        "            aggregated_ndarrays: List[np.ndarray] = fl.common.parameters_to_ndarrays(aggregated_parameters)\n",
        "\n",
        "            # Convert `List[np.ndarray]` to PyTorch`state_dict`\n",
        "            params_dict = zip(model.state_dict().keys(), aggregated_ndarrays)\n",
        "            state_dict = OrderedDict({k: torch.tensor(v) for k, v in params_dict})\n",
        "            model.load_state_dict(state_dict, strict=True)\n",
        "\n",
        "            # Save the model\n",
        "            torch.save(model.state_dict(), f\"model_round_{server_round}.pth\")\n",
        "        return aggregated_parameters, aggregated_metrics"
      ],
      "metadata": {
        "id": "ExtVPOzmDoc6"
      },
      "execution_count": 37,
      "outputs": []
    },
    {
      "cell_type": "code",
      "execution_count": 42,
      "metadata": {
        "id": "dbpajgBRU6ty"
      },
      "outputs": [],
      "source": [
        "strategy = SaveModelStrategy(\n",
        "    fraction_fit=0.38,  # Sample 10% of available clients for training\n",
        "    fraction_evaluate=0.38,  # Sample 10% of available clients for evaluation\n",
        "    on_fit_config_fn=fit_config,\n",
        "    evaluate_metrics_aggregation_fn=weighted_average,  # aggregates federated metrics\n",
        "    evaluate_fn=get_evaluate_fn(alltestloader),  # global evaluation function\n",
        ")"
      ]
    },
    {
      "cell_type": "code",
      "source": [
        "# def get_client_fn(trainloader, testloader):\n",
        "#     \"\"\"Return a function to construct a client.\n",
        "\n",
        "#     The VirtualClientEngine will execute this function whenever a client is sampled by\n",
        "#     the strategy to participate.\n",
        "#     \"\"\"\n",
        "\n",
        "#     def client_fn(cid: str) -> fl.client.Client:\n",
        "#         \"\"\"Construct a FlowerClient with its own dataset partition.\"\"\"\n",
        "#         return FlowerClient(trainloader=trainloader[int(cid)], testloader=testloader)\n",
        "\n",
        "#     return client_fn\n",
        "\n",
        "\n",
        "# client_fn_callback = get_client_fn(trainloader, testloader)"
      ],
      "metadata": {
        "id": "yEKS3DuLoFG9"
      },
      "execution_count": 43,
      "outputs": []
    },
    {
      "cell_type": "code",
      "source": [
        "import random\n",
        "def get_client_fn(trainloader, testloader):\n",
        "    \"\"\"Return a function to construct a client.\n",
        "\n",
        "    The VirtualClientEngine will execute this function whenever a client is sampled by\n",
        "    the strategy to participate.\n",
        "    \"\"\"\n",
        "\n",
        "    def client_fn(cid) -> FlowerClient:\n",
        "        \"\"\"Construct a FlowerClient with its own dataset partition.\"\"\"\n",
        "        return FlowerClient(cid, trainloader=trainloader[int(cid)], testloader=testloader[int(cid)])\n",
        "\n",
        "    return client_fn\n",
        "client_fn_callback = get_client_fn(trainloader, testloader)"
      ],
      "metadata": {
        "id": "PlK8c8QK9kTp"
      },
      "execution_count": 44,
      "outputs": []
    },
    {
      "cell_type": "code",
      "execution_count": 45,
      "metadata": {
        "id": "drd9s5QsU6ty",
        "colab": {
          "base_uri": "https://localhost:8080/"
        },
        "outputId": "36d6b802-e7bd-4e0a-d7b9-b8a0d1f35407"
      },
      "outputs": [
        {
          "output_type": "stream",
          "name": "stderr",
          "text": [
            "INFO flwr 2023-12-28 04:30:34,679 | app.py:178 | Starting Flower simulation, config: ServerConfig(num_rounds=20, round_timeout=None)\n",
            "INFO:flwr:Starting Flower simulation, config: ServerConfig(num_rounds=20, round_timeout=None)\n",
            "2023-12-28 04:30:41,108\tINFO worker.py:1621 -- Started a local Ray instance.\n",
            "INFO flwr 2023-12-28 04:30:42,929 | app.py:213 | Flower VCE: Ray initialized with resources: {'CPU': 2.0, 'node:__internal_head__': 1.0, 'memory': 7677874176.0, 'object_store_memory': 3838937088.0, 'GPU': 1.0, 'node:172.28.0.12': 1.0}\n",
            "INFO:flwr:Flower VCE: Ray initialized with resources: {'CPU': 2.0, 'node:__internal_head__': 1.0, 'memory': 7677874176.0, 'object_store_memory': 3838937088.0, 'GPU': 1.0, 'node:172.28.0.12': 1.0}\n",
            "INFO flwr 2023-12-28 04:30:42,935 | app.py:219 | Optimize your simulation with Flower VCE: https://flower.dev/docs/framework/how-to-run-simulations.html\n",
            "INFO:flwr:Optimize your simulation with Flower VCE: https://flower.dev/docs/framework/how-to-run-simulations.html\n",
            "INFO flwr 2023-12-28 04:30:42,937 | app.py:242 | Flower VCE: Resources for each Virtual Client: {'num_cpus': 0.2, 'num_gpus': 0.1}\n",
            "INFO:flwr:Flower VCE: Resources for each Virtual Client: {'num_cpus': 0.2, 'num_gpus': 0.1}\n",
            "INFO flwr 2023-12-28 04:30:42,990 | app.py:288 | Flower VCE: Creating VirtualClientEngineActorPool with 10 actors\n",
            "INFO:flwr:Flower VCE: Creating VirtualClientEngineActorPool with 10 actors\n",
            "INFO flwr 2023-12-28 04:30:42,999 | server.py:89 | Initializing global parameters\n",
            "INFO:flwr:Initializing global parameters\n",
            "INFO flwr 2023-12-28 04:30:43,002 | server.py:276 | Requesting initial parameters from one random client\n",
            "INFO:flwr:Requesting initial parameters from one random client\n",
            "2023-12-28 04:30:48,044\tWARNING worker.py:2037 -- WARNING: 8 PYTHON worker processes have been started on node: d87052897f4c5a2ec72f71acf05c10dd911c4ddbae54cd3ea424333d with address: 172.28.0.12. This could be a result of using a large number of actors, or due to tasks blocked in ray.get() calls (see https://github.com/ray-project/ray/issues/3644 for some discussion of workarounds).\n",
            "\u001b[2m\u001b[36m(pid=44434)\u001b[0m 2023-12-28 04:30:51.420881: E external/local_xla/xla/stream_executor/cuda/cuda_dnn.cc:9261] Unable to register cuDNN factory: Attempting to register factory for plugin cuDNN when one has already been registered\n",
            "\u001b[2m\u001b[36m(pid=44434)\u001b[0m 2023-12-28 04:30:51.420948: E external/local_xla/xla/stream_executor/cuda/cuda_fft.cc:607] Unable to register cuFFT factory: Attempting to register factory for plugin cuFFT when one has already been registered\n",
            "\u001b[2m\u001b[36m(pid=44434)\u001b[0m 2023-12-28 04:30:51.445766: E external/local_xla/xla/stream_executor/cuda/cuda_blas.cc:1515] Unable to register cuBLAS factory: Attempting to register factory for plugin cuBLAS when one has already been registered\n",
            "\u001b[2m\u001b[36m(pid=44434)\u001b[0m 2023-12-28 04:31:04.312099: W tensorflow/compiler/tf2tensorrt/utils/py_utils.cc:38] TF-TRT Warning: Could not find TensorRT\n",
            "\u001b[2m\u001b[36m(pid=44615)\u001b[0m 2023-12-28 04:30:54.440624: E external/local_xla/xla/stream_executor/cuda/cuda_dnn.cc:9261] Unable to register cuDNN factory: Attempting to register factory for plugin cuDNN when one has already been registered\u001b[32m [repeated 9x across cluster]\u001b[0m\n",
            "\u001b[2m\u001b[36m(pid=44615)\u001b[0m 2023-12-28 04:30:54.440693: E external/local_xla/xla/stream_executor/cuda/cuda_fft.cc:607] Unable to register cuFFT factory: Attempting to register factory for plugin cuFFT when one has already been registered\u001b[32m [repeated 9x across cluster]\u001b[0m\n",
            "\u001b[2m\u001b[36m(pid=44615)\u001b[0m 2023-12-28 04:30:54.469281: E external/local_xla/xla/stream_executor/cuda/cuda_blas.cc:1515] Unable to register cuBLAS factory: Attempting to register factory for plugin cuBLAS when one has already been registered\u001b[32m [repeated 9x across cluster]\u001b[0m\n",
            "INFO flwr 2023-12-28 04:31:26,665 | server.py:280 | Received initial parameters from one random client\n",
            "INFO:flwr:Received initial parameters from one random client\n",
            "INFO flwr 2023-12-28 04:31:26,670 | server.py:91 | Evaluating initial parameters\n",
            "INFO:flwr:Evaluating initial parameters\n"
          ]
        },
        {
          "output_type": "stream",
          "name": "stdout",
          "text": [
            "GLOBAL EVALUATE\n"
          ]
        },
        {
          "output_type": "stream",
          "name": "stderr",
          "text": [
            "  0%|          | 0/10000 [00:00<?, ?it/s]/usr/local/lib/python3.10/dist-packages/torchvision/transforms/functional.py:1603: UserWarning: The default value of the antialias parameter of all the resizing transforms (Resize(), RandomResizedCrop(), etc.) will change from None to True in v0.17, in order to be consistent across the PIL and Tensor backends. To suppress this warning, directly pass antialias=True (recommended, future default), antialias=None (current default, which means False for Tensors and True for PIL), or antialias=False (only works on Tensors - PIL will still use antialiasing). This also applies if you are using the inference transforms from the models weights: update the call to weights.transforms(antialias=True).\n",
            "  warnings.warn(\n",
            "  0%|          | 50/10000 [00:00<00:20, 490.54it/s]"
          ]
        },
        {
          "output_type": "stream",
          "name": "stdout",
          "text": [
            "\u001b[2m\u001b[36m(DefaultActor pid=44615)\u001b[0m [Client 18] get_parameters\n"
          ]
        },
        {
          "output_type": "stream",
          "name": "stderr",
          "text": [
            "100%|██████████| 10000/10000 [00:16<00:00, 622.64it/s]\n",
            "INFO flwr 2023-12-28 04:31:42,769 | server.py:94 | initial parameters (loss, other metrics): 23025.690645694733, {'accuracy': 0.101}\n",
            "INFO:flwr:initial parameters (loss, other metrics): 23025.690645694733, {'accuracy': 0.101}\n",
            "INFO flwr 2023-12-28 04:31:42,772 | server.py:104 | FL starting\n",
            "INFO:flwr:FL starting\n",
            "DEBUG flwr 2023-12-28 04:31:42,776 | server.py:222 | fit_round 1: strategy sampled 11 clients (out of 30)\n",
            "DEBUG:flwr:fit_round 1: strategy sampled 11 clients (out of 30)\n"
          ]
        },
        {
          "output_type": "stream",
          "name": "stdout",
          "text": [
            "\u001b[2m\u001b[36m(DefaultActor pid=44615)\u001b[0m [Client 4] fit, config: {'epochs': 10, 'lr': 0.1, 'attacker_epochs': 20, 'attacker_lr': 0.05}\n"
          ]
        },
        {
          "output_type": "stream",
          "name": "stderr",
          "text": [
            "\u001b[2m\u001b[36m(DefaultActor pid=44615)\u001b[0m /usr/local/lib/python3.10/dist-packages/torchvision/transforms/functional.py:1603: UserWarning: The default value of the antialias parameter of all the resizing transforms (Resize(), RandomResizedCrop(), etc.) will change from None to True in v0.17, in order to be consistent across the PIL and Tensor backends. To suppress this warning, directly pass antialias=True (recommended, future default), antialias=None (current default, which means False for Tensors and True for PIL), or antialias=False (only works on Tensors - PIL will still use antialiasing). This also applies if you are using the inference transforms from the models weights: update the call to weights.transforms(antialias=True).\n",
            "\u001b[2m\u001b[36m(DefaultActor pid=44615)\u001b[0m   warnings.warn(\n",
            "\u001b[2m\u001b[36m(pid=44615)\u001b[0m 2023-12-28 04:31:06.983927: W tensorflow/compiler/tf2tensorrt/utils/py_utils.cc:38] TF-TRT Warning: Could not find TensorRT\u001b[32m [repeated 9x across cluster]\u001b[0m\n",
            "\u001b[2m\u001b[36m(DefaultActor pid=44571)\u001b[0m /usr/local/lib/python3.10/dist-packages/torchvision/transforms/functional.py:1603: UserWarning: The default value of the antialias parameter of all the resizing transforms (Resize(), RandomResizedCrop(), etc.) will change from None to True in v0.17, in order to be consistent across the PIL and Tensor backends. To suppress this warning, directly pass antialias=True (recommended, future default), antialias=None (current default, which means False for Tensors and True for PIL), or antialias=False (only works on Tensors - PIL will still use antialiasing). This also applies if you are using the inference transforms from the models weights: update the call to weights.transforms(antialias=True).\n",
            "\u001b[2m\u001b[36m(DefaultActor pid=44571)\u001b[0m   warnings.warn(\n",
            "\u001b[2m\u001b[36m(DefaultActor pid=44552)\u001b[0m /usr/local/lib/python3.10/dist-packages/torchvision/transforms/functional.py:1603: UserWarning: The default value of the antialias parameter of all the resizing transforms (Resize(), RandomResizedCrop(), etc.) will change from None to True in v0.17, in order to be consistent across the PIL and Tensor backends. To suppress this warning, directly pass antialias=True (recommended, future default), antialias=None (current default, which means False for Tensors and True for PIL), or antialias=False (only works on Tensors - PIL will still use antialiasing). This also applies if you are using the inference transforms from the models weights: update the call to weights.transforms(antialias=True).\n",
            "\u001b[2m\u001b[36m(DefaultActor pid=44552)\u001b[0m   warnings.warn(\n"
          ]
        },
        {
          "output_type": "stream",
          "name": "stdout",
          "text": [
            "\u001b[2m\u001b[36m(DefaultActor pid=44571)\u001b[0m [Client 12] fit, config: {'epochs': 10, 'lr': 0.1, 'attacker_epochs': 20, 'attacker_lr': 0.05}\n",
            "\u001b[2m\u001b[36m(DefaultActor pid=44552)\u001b[0m [Client 15] fit, config: {'epochs': 10, 'lr': 0.1, 'attacker_epochs': 20, 'attacker_lr': 0.05}\n",
            "\u001b[2m\u001b[36m(DefaultActor pid=44615)\u001b[0m [Client 4] get_parameters\n",
            "\u001b[2m\u001b[36m(DefaultActor pid=44510)\u001b[0m [Client 21] fit, config: {'epochs': 10, 'lr': 0.1, 'attacker_epochs': 20, 'attacker_lr': 0.05}\u001b[32m [repeated 3x across cluster]\u001b[0m\n",
            "\u001b[2m\u001b[36m(DefaultActor pid=44552)\u001b[0m [Client 15] get_parameters\n",
            "\u001b[2m\u001b[36m(DefaultActor pid=44615)\u001b[0m [Client 8] fit, config: {'epochs': 10, 'lr': 0.1, 'attacker_epochs': 20, 'attacker_lr': 0.05}\n",
            "\u001b[2m\u001b[36m(DefaultActor pid=44552)\u001b[0m [Client 22] fit, config: {'epochs': 10, 'lr': 0.1, 'attacker_epochs': 20, 'attacker_lr': 0.05}\n",
            "\u001b[2m\u001b[36m(DefaultActor pid=44599)\u001b[0m [Client 23] get_parameters\n",
            "\u001b[2m\u001b[36m(DefaultActor pid=44529)\u001b[0m [Client 1] fit, config: {'epochs': 10, 'lr': 0.1, 'attacker_epochs': 20, 'attacker_lr': 0.05}\u001b[32m [repeated 3x across cluster]\u001b[0m\n",
            "\u001b[2m\u001b[36m(DefaultActor pid=44615)\u001b[0m [Client 8] get_parameters\u001b[32m [repeated 4x across cluster]\u001b[0m\n",
            "\u001b[2m\u001b[36m(DefaultActor pid=44552)\u001b[0m [Client 22] get_parameters\n",
            "\u001b[2m\u001b[36m(DefaultActor pid=44529)\u001b[0m [Client 1] get_parameters\n"
          ]
        },
        {
          "output_type": "stream",
          "name": "stderr",
          "text": [
            "DEBUG flwr 2023-12-28 04:33:08,166 | server.py:236 | fit_round 1 received 11 results and 0 failures\n",
            "DEBUG:flwr:fit_round 1 received 11 results and 0 failures\n",
            "WARNING flwr 2023-12-28 04:33:08,239 | fedavg.py:242 | No fit_metrics_aggregation_fn provided\n",
            "WARNING:flwr:No fit_metrics_aggregation_fn provided\n"
          ]
        },
        {
          "output_type": "stream",
          "name": "stdout",
          "text": [
            "Saving round 1 aggregated_parameters...\n",
            "GLOBAL EVALUATE\n"
          ]
        },
        {
          "output_type": "stream",
          "name": "stderr",
          "text": [
            "100%|██████████| 10000/10000 [00:15<00:00, 635.89it/s]\n",
            "INFO flwr 2023-12-28 04:33:24,007 | server.py:125 | fit progress: (1, 23025.64275097847, {'accuracy': 0.101}, 101.23057864099974)\n",
            "INFO:flwr:fit progress: (1, 23025.64275097847, {'accuracy': 0.101}, 101.23057864099974)\n",
            "DEBUG flwr 2023-12-28 04:33:24,013 | server.py:173 | evaluate_round 1: strategy sampled 11 clients (out of 30)\n",
            "DEBUG:flwr:evaluate_round 1: strategy sampled 11 clients (out of 30)\n"
          ]
        },
        {
          "output_type": "stream",
          "name": "stdout",
          "text": [
            "\u001b[2m\u001b[36m(DefaultActor pid=44599)\u001b[0m [Client 18] evaluate, config: {}\n",
            "\u001b[2m\u001b[36m(DefaultActor pid=44599)\u001b[0m [Client 3] get_parameters\u001b[32m [repeated 2x across cluster]\u001b[0m\n"
          ]
        },
        {
          "output_type": "stream",
          "name": "stderr",
          "text": [
            "\u001b[2m\u001b[36m(DefaultActor pid=44599)\u001b[0m \r  0%|          | 0/2 [00:00<?, ?it/s]\n",
            "\u001b[2m\u001b[36m(DefaultActor pid=44510)\u001b[0m /usr/local/lib/python3.10/dist-packages/torchvision/transforms/functional.py:1603: UserWarning: The default value of the antialias parameter of all the resizing transforms (Resize(), RandomResizedCrop(), etc.) will change from None to True in v0.17, in order to be consistent across the PIL and Tensor backends. To suppress this warning, directly pass antialias=True (recommended, future default), antialias=None (current default, which means False for Tensors and True for PIL), or antialias=False (only works on Tensors - PIL will still use antialiasing). This also applies if you are using the inference transforms from the models weights: update the call to weights.transforms(antialias=True).\u001b[32m [repeated 3x across cluster]\u001b[0m\n",
            "\u001b[2m\u001b[36m(DefaultActor pid=44510)\u001b[0m   warnings.warn(\u001b[32m [repeated 3x across cluster]\u001b[0m\n",
            " 50%|█████     | 1/2 [00:00<00:00,  3.48it/s]\n",
            "100%|██████████| 2/2 [00:00<00:00,  5.78it/s]\n",
            "DEBUG flwr 2023-12-28 04:33:27,221 | server.py:187 | evaluate_round 1 received 11 results and 0 failures\n",
            "DEBUG:flwr:evaluate_round 1 received 11 results and 0 failures\n",
            "DEBUG flwr 2023-12-28 04:33:27,224 | server.py:222 | fit_round 2: strategy sampled 11 clients (out of 30)\n",
            "DEBUG:flwr:fit_round 2: strategy sampled 11 clients (out of 30)\n"
          ]
        },
        {
          "output_type": "stream",
          "name": "stdout",
          "text": [
            "\u001b[2m\u001b[36m(DefaultActor pid=44615)\u001b[0m [Client 0] fit, config: {'epochs': 10, 'lr': 0.1, 'attacker_epochs': 20, 'attacker_lr': 0.05}\n",
            "\u001b[2m\u001b[36m(DefaultActor pid=44615)\u001b[0m [Client 14] evaluate, config: {}\u001b[32m [repeated 10x across cluster]\u001b[0m\n",
            "\u001b[2m\u001b[36m(DefaultActor pid=44510)\u001b[0m [Client 2] get_parameters\n",
            "\u001b[2m\u001b[36m(DefaultActor pid=44599)\u001b[0m [Client 25] fit, config: {'epochs': 10, 'lr': 0.1, 'attacker_epochs': 20, 'attacker_lr': 0.05}\u001b[32m [repeated 5x across cluster]\u001b[0m\n",
            "\u001b[2m\u001b[36m(DefaultActor pid=44615)\u001b[0m [Client 0] get_parameters\n",
            "\u001b[2m\u001b[36m(DefaultActor pid=44599)\u001b[0m [Client 15] fit, config: {'epochs': 10, 'lr': 0.1, 'attacker_epochs': 20, 'attacker_lr': 0.05}\u001b[32m [repeated 5x across cluster]\u001b[0m\n",
            "\u001b[2m\u001b[36m(DefaultActor pid=44599)\u001b[0m [Client 25] get_parameters\u001b[32m [repeated 3x across cluster]\u001b[0m\n",
            "\u001b[2m\u001b[36m(DefaultActor pid=44615)\u001b[0m [Client 16] get_parameters\u001b[32m [repeated 2x across cluster]\u001b[0m\n"
          ]
        },
        {
          "output_type": "stream",
          "name": "stderr",
          "text": [
            "DEBUG flwr 2023-12-28 04:34:42,872 | server.py:236 | fit_round 2 received 11 results and 0 failures\n",
            "DEBUG:flwr:fit_round 2 received 11 results and 0 failures\n"
          ]
        },
        {
          "output_type": "stream",
          "name": "stdout",
          "text": [
            "Saving round 2 aggregated_parameters...\n",
            "GLOBAL EVALUATE\n"
          ]
        },
        {
          "output_type": "stream",
          "name": "stderr",
          "text": [
            "100%|██████████| 10000/10000 [00:15<00:00, 639.15it/s]\n",
            "INFO flwr 2023-12-28 04:34:58,618 | server.py:125 | fit progress: (2, 23025.64751625061, {'accuracy': 0.101}, 195.84188696599995)\n",
            "INFO:flwr:fit progress: (2, 23025.64751625061, {'accuracy': 0.101}, 195.84188696599995)\n",
            "DEBUG flwr 2023-12-28 04:34:58,621 | server.py:173 | evaluate_round 2: strategy sampled 11 clients (out of 30)\n",
            "DEBUG:flwr:evaluate_round 2: strategy sampled 11 clients (out of 30)\n",
            "  0%|          | 0/2 [00:00<?, ?it/s]\u001b[32m [repeated 11x across cluster]\u001b[0m\n",
            " 50%|█████     | 1/2 [00:00<00:00,  8.67it/s]\u001b[32m [repeated 10x across cluster]\u001b[0m\n",
            "100%|██████████| 2/2 [00:00<00:00, 13.60it/s]\u001b[32m [repeated 10x across cluster]\u001b[0m\n"
          ]
        },
        {
          "output_type": "stream",
          "name": "stdout",
          "text": [
            "\u001b[2m\u001b[36m(DefaultActor pid=44571)\u001b[0m [Client 9] evaluate, config: {}\n",
            "\u001b[2m\u001b[36m(DefaultActor pid=44571)\u001b[0m [Client 21] get_parameters\u001b[32m [repeated 4x across cluster]\u001b[0m\n"
          ]
        },
        {
          "output_type": "stream",
          "name": "stderr",
          "text": [
            "DEBUG flwr 2023-12-28 04:35:01,695 | server.py:187 | evaluate_round 2 received 11 results and 0 failures\n",
            "DEBUG:flwr:evaluate_round 2 received 11 results and 0 failures\n",
            "DEBUG flwr 2023-12-28 04:35:01,698 | server.py:222 | fit_round 3: strategy sampled 11 clients (out of 30)\n",
            "DEBUG:flwr:fit_round 3: strategy sampled 11 clients (out of 30)\n"
          ]
        },
        {
          "output_type": "stream",
          "name": "stdout",
          "text": [
            "\u001b[2m\u001b[36m(DefaultActor pid=44510)\u001b[0m [Client 25] fit, config: {'epochs': 10, 'lr': 0.1, 'attacker_epochs': 20, 'attacker_lr': 0.05}\n",
            "\u001b[2m\u001b[36m(DefaultActor pid=44510)\u001b[0m [Client 7] evaluate, config: {}\u001b[32m [repeated 10x across cluster]\u001b[0m\n",
            "\u001b[2m\u001b[36m(DefaultActor pid=44510)\u001b[0m [Client 25] get_parameters\n",
            "\u001b[2m\u001b[36m(DefaultActor pid=44529)\u001b[0m [Client 12] fit, config: {'epochs': 10, 'lr': 0.1, 'attacker_epochs': 20, 'attacker_lr': 0.05}\u001b[32m [repeated 5x across cluster]\u001b[0m\n",
            "\u001b[2m\u001b[36m(DefaultActor pid=44599)\u001b[0m [Client 1] get_parameters\n",
            "\u001b[2m\u001b[36m(DefaultActor pid=44552)\u001b[0m [Client 16] fit, config: {'epochs': 10, 'lr': 0.1, 'attacker_epochs': 20, 'attacker_lr': 0.05}\u001b[32m [repeated 5x across cluster]\u001b[0m\n",
            "\u001b[2m\u001b[36m(DefaultActor pid=44510)\u001b[0m [Client 27] get_parameters\u001b[32m [repeated 5x across cluster]\u001b[0m\n"
          ]
        },
        {
          "output_type": "stream",
          "name": "stderr",
          "text": [
            "DEBUG flwr 2023-12-28 04:36:10,907 | server.py:236 | fit_round 3 received 11 results and 0 failures\n",
            "DEBUG:flwr:fit_round 3 received 11 results and 0 failures\n"
          ]
        },
        {
          "output_type": "stream",
          "name": "stdout",
          "text": [
            "Saving round 3 aggregated_parameters...\n",
            "GLOBAL EVALUATE\n"
          ]
        },
        {
          "output_type": "stream",
          "name": "stderr",
          "text": [
            "100%|██████████| 10000/10000 [00:16<00:00, 622.11it/s]\n",
            "INFO flwr 2023-12-28 04:36:27,109 | server.py:125 | fit progress: (3, 23025.660692453384, {'accuracy': 0.101}, 284.3327466110004)\n",
            "INFO:flwr:fit progress: (3, 23025.660692453384, {'accuracy': 0.101}, 284.3327466110004)\n",
            "DEBUG flwr 2023-12-28 04:36:27,117 | server.py:173 | evaluate_round 3: strategy sampled 11 clients (out of 30)\n",
            "DEBUG:flwr:evaluate_round 3: strategy sampled 11 clients (out of 30)\n",
            "  0%|          | 0/2 [00:00<?, ?it/s]\u001b[32m [repeated 11x across cluster]\u001b[0m\n",
            "100%|██████████| 2/2 [00:00<00:00,  7.61it/s]\u001b[32m [repeated 11x across cluster]\u001b[0m\n",
            "100%|██████████| 2/2 [00:00<00:00,  6.16it/s]\u001b[32m [repeated 8x across cluster]\u001b[0m\n"
          ]
        },
        {
          "output_type": "stream",
          "name": "stdout",
          "text": [
            "\u001b[2m\u001b[36m(DefaultActor pid=44571)\u001b[0m [Client 25] evaluate, config: {}\n",
            "\u001b[2m\u001b[36m(DefaultActor pid=44571)\u001b[0m [Client 11] get_parameters\u001b[32m [repeated 4x across cluster]\u001b[0m\n"
          ]
        },
        {
          "output_type": "stream",
          "name": "stderr",
          "text": [
            "DEBUG flwr 2023-12-28 04:36:31,023 | server.py:187 | evaluate_round 3 received 11 results and 0 failures\n",
            "DEBUG:flwr:evaluate_round 3 received 11 results and 0 failures\n",
            "DEBUG flwr 2023-12-28 04:36:31,029 | server.py:222 | fit_round 4: strategy sampled 11 clients (out of 30)\n",
            "DEBUG:flwr:fit_round 4: strategy sampled 11 clients (out of 30)\n"
          ]
        },
        {
          "output_type": "stream",
          "name": "stdout",
          "text": [
            "\u001b[2m\u001b[36m(DefaultActor pid=44510)\u001b[0m [Client 7] fit, config: {'epochs': 10, 'lr': 0.1, 'attacker_epochs': 20, 'attacker_lr': 0.05}\n",
            "\u001b[2m\u001b[36m(DefaultActor pid=44510)\u001b[0m [Client 29] evaluate, config: {}\u001b[32m [repeated 10x across cluster]\u001b[0m\n",
            "\u001b[2m\u001b[36m(DefaultActor pid=44510)\u001b[0m [Client 7] get_parameters\n",
            "\u001b[2m\u001b[36m(DefaultActor pid=44571)\u001b[0m [Client 24] fit, config: {'epochs': 10, 'lr': 0.1, 'attacker_epochs': 20, 'attacker_lr': 0.05}\u001b[32m [repeated 5x across cluster]\u001b[0m\n",
            "\u001b[2m\u001b[36m(DefaultActor pid=44599)\u001b[0m [Client 14] get_parameters\n",
            "\u001b[2m\u001b[36m(DefaultActor pid=44529)\u001b[0m [Client 3] fit, config: {'epochs': 10, 'lr': 0.1, 'attacker_epochs': 20, 'attacker_lr': 0.05}\u001b[32m [repeated 5x across cluster]\u001b[0m\n",
            "\u001b[2m\u001b[36m(DefaultActor pid=44552)\u001b[0m [Client 27] get_parameters\u001b[32m [repeated 5x across cluster]\u001b[0m\n"
          ]
        },
        {
          "output_type": "stream",
          "name": "stderr",
          "text": [
            "DEBUG flwr 2023-12-28 04:37:40,609 | server.py:236 | fit_round 4 received 11 results and 0 failures\n",
            "DEBUG:flwr:fit_round 4 received 11 results and 0 failures\n"
          ]
        },
        {
          "output_type": "stream",
          "name": "stdout",
          "text": [
            "Saving round 4 aggregated_parameters...\n",
            "GLOBAL EVALUATE\n"
          ]
        },
        {
          "output_type": "stream",
          "name": "stderr",
          "text": [
            "100%|██████████| 10000/10000 [00:15<00:00, 633.79it/s]\n",
            "INFO flwr 2023-12-28 04:37:56,477 | server.py:125 | fit progress: (4, 23025.62166786194, {'accuracy': 0.101}, 373.70125158299925)\n",
            "INFO:flwr:fit progress: (4, 23025.62166786194, {'accuracy': 0.101}, 373.70125158299925)\n",
            "DEBUG flwr 2023-12-28 04:37:56,482 | server.py:173 | evaluate_round 4: strategy sampled 11 clients (out of 30)\n",
            "DEBUG:flwr:evaluate_round 4: strategy sampled 11 clients (out of 30)\n"
          ]
        },
        {
          "output_type": "stream",
          "name": "stdout",
          "text": [
            "\u001b[2m\u001b[36m(DefaultActor pid=44529)\u001b[0m [Client 3] evaluate, config: {}\n",
            "\u001b[2m\u001b[36m(DefaultActor pid=44529)\u001b[0m [Client 3] get_parameters\u001b[32m [repeated 4x across cluster]\u001b[0m\n"
          ]
        },
        {
          "output_type": "stream",
          "name": "stderr",
          "text": [
            "\u001b[2m\u001b[36m(DefaultActor pid=44529)\u001b[0m \r  0%|          | 0/2 [00:00<?, ?it/s]\u001b[32m [repeated 11x across cluster]\u001b[0m\n",
            "\u001b[2m\u001b[36m(DefaultActor pid=44529)\u001b[0m \r 50%|█████     | 1/2 [00:00<00:00,  3.64it/s]\r100%|██████████| 2/2 [00:00<00:00,  6.35it/s]\u001b[32m [repeated 11x across cluster]\u001b[0m\n",
            "\u001b[2m\u001b[36m(DefaultActor pid=44599)\u001b[0m \r100%|██████████| 2/2 [00:00<00:00,  5.63it/s]\r100%|██████████| 2/2 [00:00<00:00,  5.15it/s]\u001b[32m [repeated 7x across cluster]\u001b[0m\n",
            "DEBUG flwr 2023-12-28 04:37:59,638 | server.py:187 | evaluate_round 4 received 11 results and 0 failures\n",
            "DEBUG:flwr:evaluate_round 4 received 11 results and 0 failures\n",
            "DEBUG flwr 2023-12-28 04:37:59,642 | server.py:222 | fit_round 5: strategy sampled 11 clients (out of 30)\n",
            "DEBUG:flwr:fit_round 5: strategy sampled 11 clients (out of 30)\n"
          ]
        },
        {
          "output_type": "stream",
          "name": "stdout",
          "text": [
            "\u001b[2m\u001b[36m(DefaultActor pid=44529)\u001b[0m [Client 3] fit, config: {'epochs': 10, 'lr': 0.1, 'attacker_epochs': 20, 'attacker_lr': 0.05}\n",
            "\u001b[2m\u001b[36m(DefaultActor pid=44599)\u001b[0m [Client 27] evaluate, config: {}\u001b[32m [repeated 10x across cluster]\u001b[0m\n",
            "\u001b[2m\u001b[36m(DefaultActor pid=44552)\u001b[0m [Client 15] get_parameters\n",
            "\u001b[2m\u001b[36m(DefaultActor pid=44552)\u001b[0m [Client 15] fit, config: {'epochs': 10, 'lr': 0.1, 'attacker_epochs': 20, 'attacker_lr': 0.05}\u001b[32m [repeated 5x across cluster]\u001b[0m\n",
            "\u001b[2m\u001b[36m(DefaultActor pid=44615)\u001b[0m [Client 27] get_parameters\n",
            "\u001b[2m\u001b[36m(DefaultActor pid=44571)\u001b[0m [Client 21] fit, config: {'epochs': 10, 'lr': 0.1, 'attacker_epochs': 20, 'attacker_lr': 0.05}\u001b[32m [repeated 4x across cluster]\u001b[0m\n",
            "\u001b[2m\u001b[36m(DefaultActor pid=44529)\u001b[0m [Client 3] get_parameters\u001b[32m [repeated 4x across cluster]\u001b[0m\n",
            "\u001b[2m\u001b[36m(DefaultActor pid=44599)\u001b[0m [Client 18] fit, config: {'epochs': 10, 'lr': 0.1, 'attacker_epochs': 20, 'attacker_lr': 0.05}\n",
            "\u001b[2m\u001b[36m(DefaultActor pid=44615)\u001b[0m [Client 16] get_parameters\n",
            "\u001b[2m\u001b[36m(DefaultActor pid=44510)\u001b[0m [Client 6] get_parameters\n"
          ]
        },
        {
          "output_type": "stream",
          "name": "stderr",
          "text": [
            "DEBUG flwr 2023-12-28 04:39:09,898 | server.py:236 | fit_round 5 received 11 results and 0 failures\n",
            "DEBUG:flwr:fit_round 5 received 11 results and 0 failures\n"
          ]
        },
        {
          "output_type": "stream",
          "name": "stdout",
          "text": [
            "Saving round 5 aggregated_parameters...\n",
            "GLOBAL EVALUATE\n"
          ]
        },
        {
          "output_type": "stream",
          "name": "stderr",
          "text": [
            "100%|██████████| 10000/10000 [00:15<00:00, 644.27it/s]\n",
            "INFO flwr 2023-12-28 04:39:25,506 | server.py:125 | fit progress: (5, 23025.59792160988, {'accuracy': 0.101}, 462.7303254189992)\n",
            "INFO:flwr:fit progress: (5, 23025.59792160988, {'accuracy': 0.101}, 462.7303254189992)\n",
            "DEBUG flwr 2023-12-28 04:39:25,510 | server.py:173 | evaluate_round 5: strategy sampled 11 clients (out of 30)\n",
            "DEBUG:flwr:evaluate_round 5: strategy sampled 11 clients (out of 30)\n"
          ]
        },
        {
          "output_type": "stream",
          "name": "stdout",
          "text": [
            "\u001b[2m\u001b[36m(DefaultActor pid=44599)\u001b[0m [Client 4] evaluate, config: {}\n",
            "\u001b[2m\u001b[36m(DefaultActor pid=44599)\u001b[0m [Client 18] get_parameters\u001b[32m [repeated 3x across cluster]\u001b[0m\n"
          ]
        },
        {
          "output_type": "stream",
          "name": "stderr",
          "text": [
            "\u001b[2m\u001b[36m(DefaultActor pid=44599)\u001b[0m \r  0%|          | 0/2 [00:00<?, ?it/s]\u001b[32m [repeated 11x across cluster]\u001b[0m\n",
            "\u001b[2m\u001b[36m(DefaultActor pid=44599)\u001b[0m \r 50%|█████     | 1/2 [00:00<00:00,  4.65it/s]\u001b[32m [repeated 11x across cluster]\u001b[0m\n",
            "\u001b[2m\u001b[36m(DefaultActor pid=44599)\u001b[0m \r100%|██████████| 2/2 [00:00<00:00,  6.37it/s]\u001b[32m [repeated 11x across cluster]\u001b[0m\n",
            "DEBUG flwr 2023-12-28 04:39:28,683 | server.py:187 | evaluate_round 5 received 11 results and 0 failures\n",
            "DEBUG:flwr:evaluate_round 5 received 11 results and 0 failures\n",
            "DEBUG flwr 2023-12-28 04:39:28,687 | server.py:222 | fit_round 6: strategy sampled 11 clients (out of 30)\n",
            "DEBUG:flwr:fit_round 6: strategy sampled 11 clients (out of 30)\n"
          ]
        },
        {
          "output_type": "stream",
          "name": "stdout",
          "text": [
            "\u001b[2m\u001b[36m(DefaultActor pid=44552)\u001b[0m [Client 29] fit, config: {'epochs': 10, 'lr': 0.1, 'attacker_epochs': 20, 'attacker_lr': 0.05}\n",
            "\u001b[2m\u001b[36m(DefaultActor pid=44615)\u001b[0m [Client 10] evaluate, config: {}\u001b[32m [repeated 10x across cluster]\u001b[0m\n",
            "\u001b[2m\u001b[36m(DefaultActor pid=44571)\u001b[0m [Client 27] get_parameters\n",
            "\u001b[2m\u001b[36m(DefaultActor pid=44529)\u001b[0m [Client 12] fit, config: {'epochs': 10, 'lr': 0.1, 'attacker_epochs': 20, 'attacker_lr': 0.05}\u001b[32m [repeated 5x across cluster]\u001b[0m\n",
            "\u001b[2m\u001b[36m(DefaultActor pid=44615)\u001b[0m [Client 17] get_parameters\n",
            "\u001b[2m\u001b[36m(DefaultActor pid=44529)\u001b[0m [Client 21] fit, config: {'epochs': 10, 'lr': 0.1, 'attacker_epochs': 20, 'attacker_lr': 0.05}\u001b[32m [repeated 5x across cluster]\u001b[0m\n",
            "\u001b[2m\u001b[36m(DefaultActor pid=44615)\u001b[0m [Client 20] get_parameters\u001b[32m [repeated 5x across cluster]\u001b[0m\n"
          ]
        },
        {
          "output_type": "stream",
          "name": "stderr",
          "text": [
            "DEBUG flwr 2023-12-28 04:40:37,538 | server.py:236 | fit_round 6 received 11 results and 0 failures\n",
            "DEBUG:flwr:fit_round 6 received 11 results and 0 failures\n"
          ]
        },
        {
          "output_type": "stream",
          "name": "stdout",
          "text": [
            "Saving round 6 aggregated_parameters...\n",
            "GLOBAL EVALUATE\n"
          ]
        },
        {
          "output_type": "stream",
          "name": "stderr",
          "text": [
            "100%|██████████| 10000/10000 [00:18<00:00, 531.86it/s]\n",
            "INFO flwr 2023-12-28 04:40:56,442 | server.py:125 | fit progress: (6, 23025.587387800217, {'accuracy': 0.101}, 553.666513999)\n",
            "INFO:flwr:fit progress: (6, 23025.587387800217, {'accuracy': 0.101}, 553.666513999)\n",
            "DEBUG flwr 2023-12-28 04:40:56,446 | server.py:173 | evaluate_round 6: strategy sampled 11 clients (out of 30)\n",
            "DEBUG:flwr:evaluate_round 6: strategy sampled 11 clients (out of 30)\n"
          ]
        },
        {
          "output_type": "stream",
          "name": "stdout",
          "text": [
            "\u001b[2m\u001b[36m(DefaultActor pid=44552)\u001b[0m [Client 3] evaluate, config: {}\n",
            "\u001b[2m\u001b[36m(DefaultActor pid=44552)\u001b[0m [Client 4] get_parameters\u001b[32m [repeated 4x across cluster]\u001b[0m\n"
          ]
        },
        {
          "output_type": "stream",
          "name": "stderr",
          "text": [
            "\u001b[2m\u001b[36m(DefaultActor pid=44552)\u001b[0m \r  0%|          | 0/2 [00:00<?, ?it/s]\u001b[32m [repeated 11x across cluster]\u001b[0m\n",
            "\u001b[2m\u001b[36m(DefaultActor pid=44552)\u001b[0m \r 50%|█████     | 1/2 [00:00<00:00,  1.76it/s]\r100%|██████████| 2/2 [00:00<00:00,  3.36it/s]\u001b[32m [repeated 11x across cluster]\u001b[0m\n",
            "\u001b[2m\u001b[36m(DefaultActor pid=44615)\u001b[0m \r100%|██████████| 2/2 [00:00<00:00,  8.51it/s]\u001b[32m [repeated 8x across cluster]\u001b[0m\n",
            "DEBUG flwr 2023-12-28 04:41:00,366 | server.py:187 | evaluate_round 6 received 11 results and 0 failures\n",
            "DEBUG:flwr:evaluate_round 6 received 11 results and 0 failures\n",
            "DEBUG flwr 2023-12-28 04:41:00,369 | server.py:222 | fit_round 7: strategy sampled 11 clients (out of 30)\n",
            "DEBUG:flwr:fit_round 7: strategy sampled 11 clients (out of 30)\n"
          ]
        },
        {
          "output_type": "stream",
          "name": "stdout",
          "text": [
            "\u001b[2m\u001b[36m(DefaultActor pid=44571)\u001b[0m [Client 12] fit, config: {'epochs': 10, 'lr': 0.1, 'attacker_epochs': 20, 'attacker_lr': 0.05}\n",
            "\u001b[2m\u001b[36m(DefaultActor pid=44510)\u001b[0m [Client 2] evaluate, config: {}\u001b[32m [repeated 10x across cluster]\u001b[0m\n",
            "\u001b[2m\u001b[36m(DefaultActor pid=44571)\u001b[0m [Client 12] get_parameters\n",
            "\u001b[2m\u001b[36m(DefaultActor pid=44552)\u001b[0m [Client 29] fit, config: {'epochs': 10, 'lr': 0.1, 'attacker_epochs': 20, 'attacker_lr': 0.05}\u001b[32m [repeated 5x across cluster]\u001b[0m\n",
            "\u001b[2m\u001b[36m(DefaultActor pid=44529)\u001b[0m [Client 2] get_parameters\n",
            "\u001b[2m\u001b[36m(DefaultActor pid=44552)\u001b[0m [Client 26] fit, config: {'epochs': 10, 'lr': 0.1, 'attacker_epochs': 20, 'attacker_lr': 0.05}\u001b[32m [repeated 5x across cluster]\u001b[0m\n",
            "\u001b[2m\u001b[36m(DefaultActor pid=44552)\u001b[0m [Client 26] get_parameters\u001b[32m [repeated 5x across cluster]\u001b[0m\n"
          ]
        },
        {
          "output_type": "stream",
          "name": "stderr",
          "text": [
            "DEBUG flwr 2023-12-28 04:42:10,187 | server.py:236 | fit_round 7 received 11 results and 0 failures\n",
            "DEBUG:flwr:fit_round 7 received 11 results and 0 failures\n"
          ]
        },
        {
          "output_type": "stream",
          "name": "stdout",
          "text": [
            "Saving round 7 aggregated_parameters...\n",
            "GLOBAL EVALUATE\n"
          ]
        },
        {
          "output_type": "stream",
          "name": "stderr",
          "text": [
            "100%|██████████| 10000/10000 [00:16<00:00, 608.52it/s]\n",
            "INFO flwr 2023-12-28 04:42:26,720 | server.py:125 | fit progress: (7, 23025.58287835121, {'accuracy': 0.101}, 643.9442174550004)\n",
            "INFO:flwr:fit progress: (7, 23025.58287835121, {'accuracy': 0.101}, 643.9442174550004)\n",
            "DEBUG flwr 2023-12-28 04:42:26,724 | server.py:173 | evaluate_round 7: strategy sampled 11 clients (out of 30)\n",
            "DEBUG:flwr:evaluate_round 7: strategy sampled 11 clients (out of 30)\n",
            "  0%|          | 0/2 [00:00<?, ?it/s]\u001b[32m [repeated 11x across cluster]\u001b[0m\n",
            " 50%|█████     | 1/2 [00:00<00:00,  3.76it/s]\u001b[32m [repeated 11x across cluster]\u001b[0m\n",
            "100%|██████████| 2/2 [00:00<00:00,  6.47it/s]\u001b[32m [repeated 10x across cluster]\u001b[0m\n"
          ]
        },
        {
          "output_type": "stream",
          "name": "stdout",
          "text": [
            "\u001b[2m\u001b[36m(DefaultActor pid=44571)\u001b[0m [Client 26] evaluate, config: {}\n",
            "\u001b[2m\u001b[36m(DefaultActor pid=44571)\u001b[0m [Client 4] get_parameters\u001b[32m [repeated 4x across cluster]\u001b[0m\n"
          ]
        },
        {
          "output_type": "stream",
          "name": "stderr",
          "text": [
            "DEBUG flwr 2023-12-28 04:42:29,709 | server.py:187 | evaluate_round 7 received 11 results and 0 failures\n",
            "DEBUG:flwr:evaluate_round 7 received 11 results and 0 failures\n",
            "DEBUG flwr 2023-12-28 04:42:29,714 | server.py:222 | fit_round 8: strategy sampled 11 clients (out of 30)\n",
            "DEBUG:flwr:fit_round 8: strategy sampled 11 clients (out of 30)\n"
          ]
        },
        {
          "output_type": "stream",
          "name": "stdout",
          "text": [
            "\u001b[2m\u001b[36m(DefaultActor pid=44529)\u001b[0m [Client 27] fit, config: {'epochs': 10, 'lr': 0.1, 'attacker_epochs': 20, 'attacker_lr': 0.05}\n",
            "\u001b[2m\u001b[36m(DefaultActor pid=44529)\u001b[0m [Client 23] evaluate, config: {}\u001b[32m [repeated 10x across cluster]\u001b[0m\n",
            "\u001b[2m\u001b[36m(DefaultActor pid=44552)\u001b[0m [Client 16] get_parameters\n",
            "\u001b[2m\u001b[36m(DefaultActor pid=44599)\u001b[0m [Client 24] fit, config: {'epochs': 10, 'lr': 0.1, 'attacker_epochs': 20, 'attacker_lr': 0.05}\u001b[32m [repeated 5x across cluster]\u001b[0m\n",
            "\u001b[2m\u001b[36m(DefaultActor pid=44510)\u001b[0m [Client 18] get_parameters\n",
            "\u001b[2m\u001b[36m(DefaultActor pid=44615)\u001b[0m [Client 5] fit, config: {'epochs': 10, 'lr': 0.1, 'attacker_epochs': 20, 'attacker_lr': 0.05}\u001b[32m [repeated 5x across cluster]\u001b[0m\n",
            "\u001b[2m\u001b[36m(DefaultActor pid=44510)\u001b[0m [Client 28] get_parameters\u001b[32m [repeated 5x across cluster]\u001b[0m\n"
          ]
        },
        {
          "output_type": "stream",
          "name": "stderr",
          "text": [
            "DEBUG flwr 2023-12-28 04:43:38,974 | server.py:236 | fit_round 8 received 11 results and 0 failures\n",
            "DEBUG:flwr:fit_round 8 received 11 results and 0 failures\n"
          ]
        },
        {
          "output_type": "stream",
          "name": "stdout",
          "text": [
            "Saving round 8 aggregated_parameters...\n",
            "GLOBAL EVALUATE\n"
          ]
        },
        {
          "output_type": "stream",
          "name": "stderr",
          "text": [
            "100%|██████████| 10000/10000 [00:16<00:00, 621.08it/s]\n",
            "INFO flwr 2023-12-28 04:43:55,206 | server.py:125 | fit progress: (8, 23025.591396331787, {'accuracy': 0.101}, 732.4303487840007)\n",
            "INFO:flwr:fit progress: (8, 23025.591396331787, {'accuracy': 0.101}, 732.4303487840007)\n",
            "DEBUG flwr 2023-12-28 04:43:55,210 | server.py:173 | evaluate_round 8: strategy sampled 11 clients (out of 30)\n",
            "DEBUG:flwr:evaluate_round 8: strategy sampled 11 clients (out of 30)\n"
          ]
        },
        {
          "output_type": "stream",
          "name": "stdout",
          "text": [
            "\u001b[2m\u001b[36m(DefaultActor pid=44615)\u001b[0m [Client 17] evaluate, config: {}\n",
            "\u001b[2m\u001b[36m(DefaultActor pid=44615)\u001b[0m [Client 5] get_parameters\u001b[32m [repeated 4x across cluster]\u001b[0m\n"
          ]
        },
        {
          "output_type": "stream",
          "name": "stderr",
          "text": [
            "\u001b[2m\u001b[36m(DefaultActor pid=44615)\u001b[0m \r  0%|          | 0/2 [00:00<?, ?it/s]\u001b[32m [repeated 11x across cluster]\u001b[0m\n",
            "\u001b[2m\u001b[36m(DefaultActor pid=44615)\u001b[0m \r 50%|█████     | 1/2 [00:00<00:00,  3.28it/s]\r100%|██████████| 2/2 [00:00<00:00,  5.61it/s]\u001b[32m [repeated 11x across cluster]\u001b[0m\n",
            "\u001b[2m\u001b[36m(DefaultActor pid=44510)\u001b[0m \r100%|██████████| 2/2 [00:00<00:00,  2.40it/s]\r100%|██████████| 2/2 [00:00<00:00,  2.14it/s]\u001b[32m [repeated 8x across cluster]\u001b[0m\n",
            "DEBUG flwr 2023-12-28 04:43:58,170 | server.py:187 | evaluate_round 8 received 11 results and 0 failures\n",
            "DEBUG:flwr:evaluate_round 8 received 11 results and 0 failures\n",
            "DEBUG flwr 2023-12-28 04:43:58,174 | server.py:222 | fit_round 9: strategy sampled 11 clients (out of 30)\n",
            "DEBUG:flwr:fit_round 9: strategy sampled 11 clients (out of 30)\n"
          ]
        },
        {
          "output_type": "stream",
          "name": "stdout",
          "text": [
            "\u001b[2m\u001b[36m(DefaultActor pid=44571)\u001b[0m [Client 8] fit, config: {'epochs': 10, 'lr': 0.1, 'attacker_epochs': 20, 'attacker_lr': 0.05}\n",
            "\u001b[2m\u001b[36m(DefaultActor pid=44571)\u001b[0m [Client 15] evaluate, config: {}\u001b[32m [repeated 10x across cluster]\u001b[0m\n",
            "\u001b[2m\u001b[36m(DefaultActor pid=44571)\u001b[0m [Client 8] get_parameters\n",
            "\u001b[2m\u001b[36m(DefaultActor pid=44510)\u001b[0m [Client 15] fit, config: {'epochs': 10, 'lr': 0.1, 'attacker_epochs': 20, 'attacker_lr': 0.05}\u001b[32m [repeated 5x across cluster]\u001b[0m\n",
            "\u001b[2m\u001b[36m(DefaultActor pid=44615)\u001b[0m [Client 16] get_parameters\n",
            "\u001b[2m\u001b[36m(DefaultActor pid=44529)\u001b[0m [Client 14] fit, config: {'epochs': 10, 'lr': 0.1, 'attacker_epochs': 20, 'attacker_lr': 0.05}\u001b[32m [repeated 5x across cluster]\u001b[0m\n",
            "\u001b[2m\u001b[36m(DefaultActor pid=44599)\u001b[0m [Client 20] get_parameters\u001b[32m [repeated 5x across cluster]\u001b[0m\n"
          ]
        },
        {
          "output_type": "stream",
          "name": "stderr",
          "text": [
            "DEBUG flwr 2023-12-28 04:45:06,640 | server.py:236 | fit_round 9 received 11 results and 0 failures\n",
            "DEBUG:flwr:fit_round 9 received 11 results and 0 failures\n"
          ]
        },
        {
          "output_type": "stream",
          "name": "stdout",
          "text": [
            "Saving round 9 aggregated_parameters...\n",
            "GLOBAL EVALUATE\n"
          ]
        },
        {
          "output_type": "stream",
          "name": "stderr",
          "text": [
            "100%|██████████| 10000/10000 [00:16<00:00, 618.86it/s]\n",
            "INFO flwr 2023-12-28 04:45:22,943 | server.py:125 | fit progress: (9, 23025.585277080536, {'accuracy': 0.101}, 820.1667180460008)\n",
            "INFO:flwr:fit progress: (9, 23025.585277080536, {'accuracy': 0.101}, 820.1667180460008)\n",
            "DEBUG flwr 2023-12-28 04:45:22,948 | server.py:173 | evaluate_round 9: strategy sampled 11 clients (out of 30)\n",
            "DEBUG:flwr:evaluate_round 9: strategy sampled 11 clients (out of 30)\n",
            "  0%|          | 0/2 [00:00<?, ?it/s]\u001b[32m [repeated 11x across cluster]\u001b[0m\n",
            "100%|██████████| 2/2 [00:00<00:00,  6.20it/s]\u001b[32m [repeated 11x across cluster]\u001b[0m\n",
            "100%|██████████| 2/2 [00:00<00:00,  8.32it/s]\u001b[32m [repeated 9x across cluster]\u001b[0m\n"
          ]
        },
        {
          "output_type": "stream",
          "name": "stdout",
          "text": [
            "\u001b[2m\u001b[36m(DefaultActor pid=44571)\u001b[0m [Client 6] evaluate, config: {}\n",
            "\u001b[2m\u001b[36m(DefaultActor pid=44571)\u001b[0m [Client 4] get_parameters\u001b[32m [repeated 4x across cluster]\u001b[0m\n"
          ]
        },
        {
          "output_type": "stream",
          "name": "stderr",
          "text": [
            "DEBUG flwr 2023-12-28 04:45:27,065 | server.py:187 | evaluate_round 9 received 11 results and 0 failures\n",
            "DEBUG:flwr:evaluate_round 9 received 11 results and 0 failures\n",
            "DEBUG flwr 2023-12-28 04:45:27,069 | server.py:222 | fit_round 10: strategy sampled 11 clients (out of 30)\n",
            "DEBUG:flwr:fit_round 10: strategy sampled 11 clients (out of 30)\n"
          ]
        },
        {
          "output_type": "stream",
          "name": "stdout",
          "text": [
            "\u001b[2m\u001b[36m(DefaultActor pid=44510)\u001b[0m [Client 11] fit, config: {'epochs': 10, 'lr': 0.1, 'attacker_epochs': 20, 'attacker_lr': 0.05}\n",
            "\u001b[2m\u001b[36m(DefaultActor pid=44510)\u001b[0m [Client 27] evaluate, config: {}\u001b[32m [repeated 10x across cluster]\u001b[0m\n",
            "\u001b[2m\u001b[36m(DefaultActor pid=44529)\u001b[0m [Client 29] get_parameters\n",
            "\u001b[2m\u001b[36m(DefaultActor pid=44552)\u001b[0m [Client 19] fit, config: {'epochs': 10, 'lr': 0.1, 'attacker_epochs': 20, 'attacker_lr': 0.05}\u001b[32m [repeated 5x across cluster]\u001b[0m\n",
            "\u001b[2m\u001b[36m(DefaultActor pid=44599)\u001b[0m [Client 16] get_parameters\u001b[32m [repeated 6x across cluster]\u001b[0m\n",
            "\u001b[2m\u001b[36m(DefaultActor pid=44510)\u001b[0m [Client 28] fit, config: {'epochs': 10, 'lr': 0.1, 'attacker_epochs': 20, 'attacker_lr': 0.05}\u001b[32m [repeated 5x across cluster]\u001b[0m\n"
          ]
        },
        {
          "output_type": "stream",
          "name": "stderr",
          "text": [
            "DEBUG flwr 2023-12-28 04:46:40,814 | server.py:236 | fit_round 10 received 11 results and 0 failures\n",
            "DEBUG:flwr:fit_round 10 received 11 results and 0 failures\n"
          ]
        },
        {
          "output_type": "stream",
          "name": "stdout",
          "text": [
            "Saving round 10 aggregated_parameters...\n",
            "GLOBAL EVALUATE\n"
          ]
        },
        {
          "output_type": "stream",
          "name": "stderr",
          "text": [
            "100%|██████████| 10000/10000 [00:16<00:00, 620.62it/s]\n",
            "INFO flwr 2023-12-28 04:46:57,016 | server.py:125 | fit progress: (10, 23025.584570884705, {'accuracy': 0.101}, 914.2396445560007)\n",
            "INFO:flwr:fit progress: (10, 23025.584570884705, {'accuracy': 0.101}, 914.2396445560007)\n",
            "DEBUG flwr 2023-12-28 04:46:57,019 | server.py:173 | evaluate_round 10: strategy sampled 11 clients (out of 30)\n",
            "DEBUG:flwr:evaluate_round 10: strategy sampled 11 clients (out of 30)\n"
          ]
        },
        {
          "output_type": "stream",
          "name": "stdout",
          "text": [
            "\u001b[2m\u001b[36m(DefaultActor pid=44552)\u001b[0m [Client 18] evaluate, config: {}\n",
            "\u001b[2m\u001b[36m(DefaultActor pid=44552)\u001b[0m [Client 3] get_parameters\u001b[32m [repeated 4x across cluster]\u001b[0m\n"
          ]
        },
        {
          "output_type": "stream",
          "name": "stderr",
          "text": [
            "\u001b[2m\u001b[36m(DefaultActor pid=44552)\u001b[0m \r  0%|          | 0/2 [00:00<?, ?it/s]\u001b[32m [repeated 11x across cluster]\u001b[0m\n",
            "\u001b[2m\u001b[36m(DefaultActor pid=44510)\u001b[0m \r 50%|█████     | 1/2 [00:00<00:00,  2.18it/s]\r100%|██████████| 2/2 [00:00<00:00,  3.92it/s]\u001b[32m [repeated 11x across cluster]\u001b[0m\n",
            "\u001b[2m\u001b[36m(DefaultActor pid=44615)\u001b[0m \r100%|██████████| 2/2 [00:00<00:00,  3.52it/s]\r100%|██████████| 2/2 [00:00<00:00,  3.22it/s]\u001b[32m [repeated 11x across cluster]\u001b[0m\n",
            "DEBUG flwr 2023-12-28 04:47:00,072 | server.py:187 | evaluate_round 10 received 11 results and 0 failures\n",
            "DEBUG:flwr:evaluate_round 10 received 11 results and 0 failures\n",
            "DEBUG flwr 2023-12-28 04:47:00,076 | server.py:222 | fit_round 11: strategy sampled 11 clients (out of 30)\n",
            "DEBUG:flwr:fit_round 11: strategy sampled 11 clients (out of 30)\n"
          ]
        },
        {
          "output_type": "stream",
          "name": "stdout",
          "text": [
            "\u001b[2m\u001b[36m(DefaultActor pid=44599)\u001b[0m [Client 1] fit, config: {'epochs': 10, 'lr': 0.1, 'attacker_epochs': 20, 'attacker_lr': 0.05}\n",
            "\u001b[2m\u001b[36m(DefaultActor pid=44599)\u001b[0m [Client 8] evaluate, config: {}\u001b[32m [repeated 10x across cluster]\u001b[0m\n",
            "\u001b[2m\u001b[36m(DefaultActor pid=44510)\u001b[0m [Client 16] get_parameters\n",
            "\u001b[2m\u001b[36m(DefaultActor pid=44571)\u001b[0m [Client 24] fit, config: {'epochs': 10, 'lr': 0.1, 'attacker_epochs': 20, 'attacker_lr': 0.05}\u001b[32m [repeated 5x across cluster]\u001b[0m\n",
            "\u001b[2m\u001b[36m(DefaultActor pid=44552)\u001b[0m [Client 12] get_parameters\n",
            "\u001b[2m\u001b[36m(DefaultActor pid=44615)\u001b[0m [Client 13] fit, config: {'epochs': 10, 'lr': 0.1, 'attacker_epochs': 20, 'attacker_lr': 0.05}\u001b[32m [repeated 3x across cluster]\u001b[0m\n",
            "\u001b[2m\u001b[36m(DefaultActor pid=44510)\u001b[0m [Client 15] get_parameters\u001b[32m [repeated 5x across cluster]\u001b[0m\n",
            "\u001b[2m\u001b[36m(DefaultActor pid=44571)\u001b[0m [Client 4] fit, config: {'epochs': 10, 'lr': 0.1, 'attacker_epochs': 20, 'attacker_lr': 0.05}\u001b[32m [repeated 2x across cluster]\u001b[0m\n",
            "\u001b[2m\u001b[36m(DefaultActor pid=44552)\u001b[0m [Client 14] get_parameters\n",
            "\u001b[2m\u001b[36m(DefaultActor pid=44615)\u001b[0m [Client 13] get_parameters\n"
          ]
        },
        {
          "output_type": "stream",
          "name": "stderr",
          "text": [
            "DEBUG flwr 2023-12-28 04:48:10,761 | server.py:236 | fit_round 11 received 11 results and 0 failures\n",
            "DEBUG:flwr:fit_round 11 received 11 results and 0 failures\n"
          ]
        },
        {
          "output_type": "stream",
          "name": "stdout",
          "text": [
            "Saving round 11 aggregated_parameters...\n",
            "GLOBAL EVALUATE\n"
          ]
        },
        {
          "output_type": "stream",
          "name": "stderr",
          "text": [
            "100%|██████████| 10000/10000 [00:16<00:00, 618.76it/s]\n",
            "INFO flwr 2023-12-28 04:48:27,063 | server.py:125 | fit progress: (11, 23025.590869665146, {'accuracy': 0.101}, 1004.2871913599993)\n",
            "INFO:flwr:fit progress: (11, 23025.590869665146, {'accuracy': 0.101}, 1004.2871913599993)\n",
            "DEBUG flwr 2023-12-28 04:48:27,068 | server.py:173 | evaluate_round 11: strategy sampled 11 clients (out of 30)\n",
            "DEBUG:flwr:evaluate_round 11: strategy sampled 11 clients (out of 30)\n",
            "  0%|          | 0/2 [00:00<?, ?it/s]\u001b[32m [repeated 11x across cluster]\u001b[0m\n",
            "100%|██████████| 2/2 [00:00<00:00, 10.32it/s]\u001b[32m [repeated 11x across cluster]\u001b[0m\n",
            "100%|██████████| 2/2 [00:00<00:00,  6.33it/s]\u001b[32m [repeated 9x across cluster]\u001b[0m\n"
          ]
        },
        {
          "output_type": "stream",
          "name": "stdout",
          "text": [
            "\u001b[2m\u001b[36m(DefaultActor pid=44571)\u001b[0m [Client 24] evaluate, config: {}\n",
            "\u001b[2m\u001b[36m(DefaultActor pid=44571)\u001b[0m [Client 4] get_parameters\u001b[32m [repeated 2x across cluster]\u001b[0m\n"
          ]
        },
        {
          "output_type": "stream",
          "name": "stderr",
          "text": [
            "DEBUG flwr 2023-12-28 04:48:30,042 | server.py:187 | evaluate_round 11 received 11 results and 0 failures\n",
            "DEBUG:flwr:evaluate_round 11 received 11 results and 0 failures\n",
            "DEBUG flwr 2023-12-28 04:48:30,046 | server.py:222 | fit_round 12: strategy sampled 11 clients (out of 30)\n",
            "DEBUG:flwr:fit_round 12: strategy sampled 11 clients (out of 30)\n"
          ]
        },
        {
          "output_type": "stream",
          "name": "stdout",
          "text": [
            "\u001b[2m\u001b[36m(DefaultActor pid=44529)\u001b[0m [Client 19] fit, config: {'epochs': 10, 'lr': 0.1, 'attacker_epochs': 20, 'attacker_lr': 0.05}\n",
            "\u001b[2m\u001b[36m(DefaultActor pid=44529)\u001b[0m [Client 20] evaluate, config: {}\u001b[32m [repeated 10x across cluster]\u001b[0m\n",
            "\u001b[2m\u001b[36m(DefaultActor pid=44552)\u001b[0m [Client 17] get_parameters\n",
            "\u001b[2m\u001b[36m(DefaultActor pid=44571)\u001b[0m [Client 21] fit, config: {'epochs': 10, 'lr': 0.1, 'attacker_epochs': 20, 'attacker_lr': 0.05}\u001b[32m [repeated 5x across cluster]\u001b[0m\n",
            "\u001b[2m\u001b[36m(DefaultActor pid=44529)\u001b[0m [Client 19] get_parameters\n",
            "\u001b[2m\u001b[36m(DefaultActor pid=44510)\u001b[0m [Client 4] fit, config: {'epochs': 10, 'lr': 0.1, 'attacker_epochs': 20, 'attacker_lr': 0.05}\u001b[32m [repeated 4x across cluster]\u001b[0m\n",
            "\u001b[2m\u001b[36m(DefaultActor pid=44571)\u001b[0m [Client 21] get_parameters\u001b[32m [repeated 3x across cluster]\u001b[0m\n",
            "\u001b[2m\u001b[36m(DefaultActor pid=44571)\u001b[0m [Client 9] fit, config: {'epochs': 10, 'lr': 0.1, 'attacker_epochs': 20, 'attacker_lr': 0.05}\n",
            "\u001b[2m\u001b[36m(DefaultActor pid=44529)\u001b[0m [Client 24] get_parameters\u001b[32m [repeated 2x across cluster]\u001b[0m\n"
          ]
        },
        {
          "output_type": "stream",
          "name": "stderr",
          "text": [
            "DEBUG flwr 2023-12-28 04:49:40,210 | server.py:236 | fit_round 12 received 11 results and 0 failures\n",
            "DEBUG:flwr:fit_round 12 received 11 results and 0 failures\n"
          ]
        },
        {
          "output_type": "stream",
          "name": "stdout",
          "text": [
            "Saving round 12 aggregated_parameters...\n",
            "GLOBAL EVALUATE\n"
          ]
        },
        {
          "output_type": "stream",
          "name": "stderr",
          "text": [
            "100%|██████████| 10000/10000 [00:16<00:00, 616.96it/s]\n",
            "INFO flwr 2023-12-28 04:49:56,519 | server.py:125 | fit progress: (12, 23025.55522584915, {'accuracy': 0.101}, 1093.742775705001)\n",
            "INFO:flwr:fit progress: (12, 23025.55522584915, {'accuracy': 0.101}, 1093.742775705001)\n",
            "DEBUG flwr 2023-12-28 04:49:56,525 | server.py:173 | evaluate_round 12: strategy sampled 11 clients (out of 30)\n",
            "DEBUG:flwr:evaluate_round 12: strategy sampled 11 clients (out of 30)\n",
            "  0%|          | 0/2 [00:00<?, ?it/s]\u001b[32m [repeated 11x across cluster]\u001b[0m\n",
            "100%|██████████| 2/2 [00:00<00:00,  9.03it/s]\u001b[32m [repeated 11x across cluster]\u001b[0m\n",
            "100%|██████████| 2/2 [00:00<00:00,  6.56it/s]\u001b[32m [repeated 9x across cluster]\u001b[0m\n"
          ]
        },
        {
          "output_type": "stream",
          "name": "stdout",
          "text": [
            "\u001b[2m\u001b[36m(DefaultActor pid=44510)\u001b[0m [Client 16] evaluate, config: {}\n",
            "\u001b[2m\u001b[36m(DefaultActor pid=44510)\u001b[0m [Client 4] get_parameters\u001b[32m [repeated 4x across cluster]\u001b[0m\n"
          ]
        },
        {
          "output_type": "stream",
          "name": "stderr",
          "text": [
            "DEBUG flwr 2023-12-28 04:50:00,974 | server.py:187 | evaluate_round 12 received 11 results and 0 failures\n",
            "DEBUG:flwr:evaluate_round 12 received 11 results and 0 failures\n",
            "DEBUG flwr 2023-12-28 04:50:00,981 | server.py:222 | fit_round 13: strategy sampled 11 clients (out of 30)\n",
            "DEBUG:flwr:fit_round 13: strategy sampled 11 clients (out of 30)\n"
          ]
        },
        {
          "output_type": "stream",
          "name": "stdout",
          "text": [
            "\u001b[2m\u001b[36m(DefaultActor pid=44529)\u001b[0m [Client 11] fit, config: {'epochs': 10, 'lr': 0.1, 'attacker_epochs': 20, 'attacker_lr': 0.05}\n",
            "\u001b[2m\u001b[36m(DefaultActor pid=44529)\u001b[0m [Client 14] evaluate, config: {}\u001b[32m [repeated 10x across cluster]\u001b[0m\n",
            "\u001b[2m\u001b[36m(DefaultActor pid=44615)\u001b[0m [Client 16] get_parameters\n",
            "\u001b[2m\u001b[36m(DefaultActor pid=44510)\u001b[0m [Client 15] fit, config: {'epochs': 10, 'lr': 0.1, 'attacker_epochs': 20, 'attacker_lr': 0.05}\u001b[32m [repeated 5x across cluster]\u001b[0m\n",
            "\u001b[2m\u001b[36m(DefaultActor pid=44571)\u001b[0m [Client 6] get_parameters\u001b[32m [repeated 4x across cluster]\u001b[0m\n",
            "\u001b[2m\u001b[36m(DefaultActor pid=44529)\u001b[0m [Client 20] fit, config: {'epochs': 10, 'lr': 0.1, 'attacker_epochs': 20, 'attacker_lr': 0.05}\u001b[32m [repeated 4x across cluster]\u001b[0m\n",
            "\u001b[2m\u001b[36m(DefaultActor pid=44510)\u001b[0m [Client 7] get_parameters\u001b[32m [repeated 2x across cluster]\u001b[0m\n",
            "\u001b[2m\u001b[36m(DefaultActor pid=44571)\u001b[0m [Client 10] fit, config: {'epochs': 10, 'lr': 0.1, 'attacker_epochs': 20, 'attacker_lr': 0.05}\n"
          ]
        },
        {
          "output_type": "stream",
          "name": "stderr",
          "text": [
            "DEBUG flwr 2023-12-28 04:51:12,985 | server.py:236 | fit_round 13 received 11 results and 0 failures\n",
            "DEBUG:flwr:fit_round 13 received 11 results and 0 failures\n"
          ]
        },
        {
          "output_type": "stream",
          "name": "stdout",
          "text": [
            "Saving round 13 aggregated_parameters...\n",
            "GLOBAL EVALUATE\n"
          ]
        },
        {
          "output_type": "stream",
          "name": "stderr",
          "text": [
            "100%|██████████| 10000/10000 [00:15<00:00, 635.47it/s]\n",
            "INFO flwr 2023-12-28 04:51:28,809 | server.py:125 | fit progress: (13, 23025.53270339966, {'accuracy': 0.101}, 1186.0333227709998)\n",
            "INFO:flwr:fit progress: (13, 23025.53270339966, {'accuracy': 0.101}, 1186.0333227709998)\n",
            "DEBUG flwr 2023-12-28 04:51:28,814 | server.py:173 | evaluate_round 13: strategy sampled 11 clients (out of 30)\n",
            "DEBUG:flwr:evaluate_round 13: strategy sampled 11 clients (out of 30)\n"
          ]
        },
        {
          "output_type": "stream",
          "name": "stdout",
          "text": [
            "\u001b[2m\u001b[36m(DefaultActor pid=44599)\u001b[0m [Client 15] evaluate, config: {}\n",
            "\u001b[2m\u001b[36m(DefaultActor pid=44599)\u001b[0m [Client 5] get_parameters\u001b[32m [repeated 4x across cluster]\u001b[0m\n"
          ]
        },
        {
          "output_type": "stream",
          "name": "stderr",
          "text": [
            "\u001b[2m\u001b[36m(DefaultActor pid=44599)\u001b[0m \r  0%|          | 0/2 [00:00<?, ?it/s]\u001b[32m [repeated 11x across cluster]\u001b[0m\n",
            "\u001b[2m\u001b[36m(DefaultActor pid=44529)\u001b[0m \r 50%|█████     | 1/2 [00:00<00:00,  4.14it/s]\u001b[32m [repeated 11x across cluster]\u001b[0m\n",
            "\u001b[2m\u001b[36m(DefaultActor pid=44529)\u001b[0m \r100%|██████████| 2/2 [00:00<00:00,  7.08it/s]\u001b[32m [repeated 9x across cluster]\u001b[0m\n",
            "DEBUG flwr 2023-12-28 04:51:31,827 | server.py:187 | evaluate_round 13 received 11 results and 0 failures\n",
            "DEBUG:flwr:evaluate_round 13 received 11 results and 0 failures\n",
            "DEBUG flwr 2023-12-28 04:51:31,831 | server.py:222 | fit_round 14: strategy sampled 11 clients (out of 30)\n",
            "DEBUG:flwr:fit_round 14: strategy sampled 11 clients (out of 30)\n"
          ]
        },
        {
          "output_type": "stream",
          "name": "stdout",
          "text": [
            "\u001b[2m\u001b[36m(DefaultActor pid=44571)\u001b[0m [Client 10] fit, config: {'epochs': 10, 'lr': 0.1, 'attacker_epochs': 20, 'attacker_lr': 0.05}\n",
            "\u001b[2m\u001b[36m(DefaultActor pid=44571)\u001b[0m [Client 21] evaluate, config: {}\u001b[32m [repeated 10x across cluster]\u001b[0m\n",
            "\u001b[2m\u001b[36m(DefaultActor pid=44529)\u001b[0m [Client 17] get_parameters\n",
            "\u001b[2m\u001b[36m(DefaultActor pid=44599)\u001b[0m [Client 14] fit, config: {'epochs': 10, 'lr': 0.1, 'attacker_epochs': 20, 'attacker_lr': 0.05}\u001b[32m [repeated 5x across cluster]\u001b[0m\n",
            "\u001b[2m\u001b[36m(DefaultActor pid=44510)\u001b[0m [Client 0] get_parameters\n",
            "\u001b[2m\u001b[36m(DefaultActor pid=44552)\u001b[0m [Client 25] fit, config: {'epochs': 10, 'lr': 0.1, 'attacker_epochs': 20, 'attacker_lr': 0.05}\u001b[32m [repeated 5x across cluster]\u001b[0m\n",
            "\u001b[2m\u001b[36m(DefaultActor pid=44529)\u001b[0m [Client 27] get_parameters\u001b[32m [repeated 5x across cluster]\u001b[0m\n"
          ]
        },
        {
          "output_type": "stream",
          "name": "stderr",
          "text": [
            "DEBUG flwr 2023-12-28 04:52:41,328 | server.py:236 | fit_round 14 received 11 results and 0 failures\n",
            "DEBUG:flwr:fit_round 14 received 11 results and 0 failures\n"
          ]
        },
        {
          "output_type": "stream",
          "name": "stdout",
          "text": [
            "Saving round 14 aggregated_parameters...\n",
            "GLOBAL EVALUATE\n"
          ]
        },
        {
          "output_type": "stream",
          "name": "stderr",
          "text": [
            "100%|██████████| 10000/10000 [00:16<00:00, 619.81it/s]\n",
            "INFO flwr 2023-12-28 04:52:57,587 | server.py:125 | fit progress: (14, 23025.547149419785, {'accuracy': 0.101}, 1274.8110316849998)\n",
            "INFO:flwr:fit progress: (14, 23025.547149419785, {'accuracy': 0.101}, 1274.8110316849998)\n",
            "DEBUG flwr 2023-12-28 04:52:57,593 | server.py:173 | evaluate_round 14: strategy sampled 11 clients (out of 30)\n",
            "DEBUG:flwr:evaluate_round 14: strategy sampled 11 clients (out of 30)\n",
            "  0%|          | 0/2 [00:00<?, ?it/s]\u001b[32m [repeated 11x across cluster]\u001b[0m\n",
            "100%|██████████| 2/2 [00:00<00:00,  6.27it/s]\u001b[32m [repeated 10x across cluster]\u001b[0m\n",
            "100%|██████████| 2/2 [00:00<00:00, 15.40it/s]\u001b[32m [repeated 7x across cluster]\u001b[0m\n"
          ]
        },
        {
          "output_type": "stream",
          "name": "stdout",
          "text": [
            "\u001b[2m\u001b[36m(DefaultActor pid=44510)\u001b[0m [Client 16] evaluate, config: {}\n",
            "\u001b[2m\u001b[36m(DefaultActor pid=44510)\u001b[0m [Client 23] get_parameters\u001b[32m [repeated 4x across cluster]\u001b[0m\n"
          ]
        },
        {
          "output_type": "stream",
          "name": "stderr",
          "text": [
            "DEBUG flwr 2023-12-28 04:53:00,547 | server.py:187 | evaluate_round 14 received 11 results and 0 failures\n",
            "DEBUG:flwr:evaluate_round 14 received 11 results and 0 failures\n",
            "DEBUG flwr 2023-12-28 04:53:00,550 | server.py:222 | fit_round 15: strategy sampled 11 clients (out of 30)\n",
            "DEBUG:flwr:fit_round 15: strategy sampled 11 clients (out of 30)\n"
          ]
        },
        {
          "output_type": "stream",
          "name": "stdout",
          "text": [
            "\u001b[2m\u001b[36m(DefaultActor pid=44599)\u001b[0m [Client 29] fit, config: {'epochs': 10, 'lr': 0.1, 'attacker_epochs': 20, 'attacker_lr': 0.05}\n",
            "\u001b[2m\u001b[36m(DefaultActor pid=44510)\u001b[0m [Client 12] evaluate, config: {}\u001b[32m [repeated 10x across cluster]\u001b[0m\n",
            "\u001b[2m\u001b[36m(DefaultActor pid=44552)\u001b[0m [Client 16] get_parameters\n",
            "\u001b[2m\u001b[36m(DefaultActor pid=44571)\u001b[0m [Client 1] fit, config: {'epochs': 10, 'lr': 0.1, 'attacker_epochs': 20, 'attacker_lr': 0.05}\u001b[32m [repeated 5x across cluster]\u001b[0m\n",
            "\u001b[2m\u001b[36m(DefaultActor pid=44615)\u001b[0m [Client 14] get_parameters\n",
            "\u001b[2m\u001b[36m(DefaultActor pid=44571)\u001b[0m [Client 8] fit, config: {'epochs': 10, 'lr': 0.1, 'attacker_epochs': 20, 'attacker_lr': 0.05}\u001b[32m [repeated 5x across cluster]\u001b[0m\n",
            "\u001b[2m\u001b[36m(DefaultActor pid=44552)\u001b[0m [Client 20] get_parameters\u001b[32m [repeated 5x across cluster]\u001b[0m\n"
          ]
        },
        {
          "output_type": "stream",
          "name": "stderr",
          "text": [
            "DEBUG flwr 2023-12-28 04:54:08,132 | server.py:236 | fit_round 15 received 11 results and 0 failures\n",
            "DEBUG:flwr:fit_round 15 received 11 results and 0 failures\n"
          ]
        },
        {
          "output_type": "stream",
          "name": "stdout",
          "text": [
            "Saving round 15 aggregated_parameters...\n",
            "GLOBAL EVALUATE\n"
          ]
        },
        {
          "output_type": "stream",
          "name": "stderr",
          "text": [
            "100%|██████████| 10000/10000 [00:16<00:00, 623.34it/s]\n",
            "INFO flwr 2023-12-28 04:54:24,259 | server.py:125 | fit progress: (15, 23025.575053691864, {'accuracy': 0.101}, 1361.483081294)\n",
            "INFO:flwr:fit progress: (15, 23025.575053691864, {'accuracy': 0.101}, 1361.483081294)\n",
            "DEBUG flwr 2023-12-28 04:54:24,265 | server.py:173 | evaluate_round 15: strategy sampled 11 clients (out of 30)\n",
            "DEBUG:flwr:evaluate_round 15: strategy sampled 11 clients (out of 30)\n"
          ]
        },
        {
          "output_type": "stream",
          "name": "stdout",
          "text": [
            "\u001b[2m\u001b[36m(DefaultActor pid=44599)\u001b[0m [Client 27] evaluate, config: {}\n",
            "\u001b[2m\u001b[36m(DefaultActor pid=44599)\u001b[0m [Client 23] get_parameters\u001b[32m [repeated 4x across cluster]\u001b[0m\n"
          ]
        },
        {
          "output_type": "stream",
          "name": "stderr",
          "text": [
            "\u001b[2m\u001b[36m(DefaultActor pid=44599)\u001b[0m \r  0%|          | 0/2 [00:00<?, ?it/s]\u001b[32m [repeated 11x across cluster]\u001b[0m\n",
            "\u001b[2m\u001b[36m(DefaultActor pid=44599)\u001b[0m \r 50%|█████     | 1/2 [00:00<00:00,  3.21it/s]\r100%|██████████| 2/2 [00:00<00:00,  5.73it/s]\u001b[32m [repeated 11x across cluster]\u001b[0m\n",
            "\u001b[2m\u001b[36m(DefaultActor pid=44615)\u001b[0m \r100%|██████████| 2/2 [00:00<00:00,  4.77it/s]\u001b[32m [repeated 6x across cluster]\u001b[0m\n",
            "DEBUG flwr 2023-12-28 04:54:27,466 | server.py:187 | evaluate_round 15 received 11 results and 0 failures\n",
            "DEBUG:flwr:evaluate_round 15 received 11 results and 0 failures\n",
            "DEBUG flwr 2023-12-28 04:54:27,471 | server.py:222 | fit_round 16: strategy sampled 11 clients (out of 30)\n",
            "DEBUG:flwr:fit_round 16: strategy sampled 11 clients (out of 30)\n"
          ]
        },
        {
          "output_type": "stream",
          "name": "stdout",
          "text": [
            "\u001b[2m\u001b[36m(DefaultActor pid=44510)\u001b[0m [Client 6] fit, config: {'epochs': 10, 'lr': 0.1, 'attacker_epochs': 20, 'attacker_lr': 0.05}\n",
            "\u001b[2m\u001b[36m(DefaultActor pid=44615)\u001b[0m [Client 23] evaluate, config: {}\u001b[32m [repeated 10x across cluster]\u001b[0m\n",
            "\u001b[2m\u001b[36m(DefaultActor pid=44552)\u001b[0m [Client 17] get_parameters\n",
            "\u001b[2m\u001b[36m(DefaultActor pid=44571)\u001b[0m [Client 20] fit, config: {'epochs': 10, 'lr': 0.1, 'attacker_epochs': 20, 'attacker_lr': 0.05}\u001b[32m [repeated 5x across cluster]\u001b[0m\n",
            "\u001b[2m\u001b[36m(DefaultActor pid=44510)\u001b[0m [Client 6] get_parameters\n",
            "\u001b[2m\u001b[36m(DefaultActor pid=44529)\u001b[0m [Client 18] fit, config: {'epochs': 10, 'lr': 0.1, 'attacker_epochs': 20, 'attacker_lr': 0.05}\u001b[32m [repeated 4x across cluster]\u001b[0m\n",
            "\u001b[2m\u001b[36m(DefaultActor pid=44599)\u001b[0m [Client 4] get_parameters\u001b[32m [repeated 4x across cluster]\u001b[0m\n",
            "\u001b[2m\u001b[36m(DefaultActor pid=44615)\u001b[0m [Client 23] fit, config: {'epochs': 10, 'lr': 0.1, 'attacker_epochs': 20, 'attacker_lr': 0.05}\n",
            "\u001b[2m\u001b[36m(DefaultActor pid=44529)\u001b[0m [Client 18] get_parameters\n",
            "\u001b[2m\u001b[36m(DefaultActor pid=44552)\u001b[0m [Client 28] get_parameters\n"
          ]
        },
        {
          "output_type": "stream",
          "name": "stderr",
          "text": [
            "DEBUG flwr 2023-12-28 04:55:39,377 | server.py:236 | fit_round 16 received 11 results and 0 failures\n",
            "DEBUG:flwr:fit_round 16 received 11 results and 0 failures\n"
          ]
        },
        {
          "output_type": "stream",
          "name": "stdout",
          "text": [
            "Saving round 16 aggregated_parameters...\n",
            "GLOBAL EVALUATE\n"
          ]
        },
        {
          "output_type": "stream",
          "name": "stderr",
          "text": [
            "100%|██████████| 10000/10000 [00:15<00:00, 630.16it/s]\n",
            "INFO flwr 2023-12-28 04:55:55,345 | server.py:125 | fit progress: (16, 23025.537661790848, {'accuracy': 0.101}, 1452.5686210019994)\n",
            "INFO:flwr:fit progress: (16, 23025.537661790848, {'accuracy': 0.101}, 1452.5686210019994)\n",
            "DEBUG flwr 2023-12-28 04:55:55,352 | server.py:173 | evaluate_round 16: strategy sampled 11 clients (out of 30)\n",
            "DEBUG:flwr:evaluate_round 16: strategy sampled 11 clients (out of 30)\n"
          ]
        },
        {
          "output_type": "stream",
          "name": "stdout",
          "text": [
            "\u001b[2m\u001b[36m(DefaultActor pid=44615)\u001b[0m [Client 11] evaluate, config: {}\n",
            "\u001b[2m\u001b[36m(DefaultActor pid=44615)\u001b[0m [Client 23] get_parameters\u001b[32m [repeated 3x across cluster]\u001b[0m\n"
          ]
        },
        {
          "output_type": "stream",
          "name": "stderr",
          "text": [
            "\u001b[2m\u001b[36m(DefaultActor pid=44615)\u001b[0m \r  0%|          | 0/2 [00:00<?, ?it/s]\u001b[32m [repeated 11x across cluster]\u001b[0m\n",
            "\u001b[2m\u001b[36m(DefaultActor pid=44615)\u001b[0m \r 50%|█████     | 1/2 [00:00<00:00,  3.73it/s]\u001b[32m [repeated 11x across cluster]\u001b[0m\n",
            "\u001b[2m\u001b[36m(DefaultActor pid=44615)\u001b[0m \r100%|██████████| 2/2 [00:00<00:00,  5.77it/s]\u001b[32m [repeated 11x across cluster]\u001b[0m\n",
            "DEBUG flwr 2023-12-28 04:55:58,403 | server.py:187 | evaluate_round 16 received 11 results and 0 failures\n",
            "DEBUG:flwr:evaluate_round 16 received 11 results and 0 failures\n",
            "DEBUG flwr 2023-12-28 04:55:58,407 | server.py:222 | fit_round 17: strategy sampled 11 clients (out of 30)\n",
            "DEBUG:flwr:fit_round 17: strategy sampled 11 clients (out of 30)\n"
          ]
        },
        {
          "output_type": "stream",
          "name": "stdout",
          "text": [
            "\u001b[2m\u001b[36m(DefaultActor pid=44529)\u001b[0m [Client 8] fit, config: {'epochs': 10, 'lr': 0.1, 'attacker_epochs': 20, 'attacker_lr': 0.05}\n",
            "\u001b[2m\u001b[36m(DefaultActor pid=44529)\u001b[0m [Client 9] evaluate, config: {}\u001b[32m [repeated 10x across cluster]\u001b[0m\n",
            "\u001b[2m\u001b[36m(DefaultActor pid=44571)\u001b[0m [Client 15] get_parameters\n",
            "\u001b[2m\u001b[36m(DefaultActor pid=44599)\u001b[0m [Client 24] fit, config: {'epochs': 10, 'lr': 0.1, 'attacker_epochs': 20, 'attacker_lr': 0.05}\u001b[32m [repeated 5x across cluster]\u001b[0m\n",
            "\u001b[2m\u001b[36m(DefaultActor pid=44599)\u001b[0m [Client 24] get_parameters\n",
            "\u001b[2m\u001b[36m(DefaultActor pid=44552)\u001b[0m [Client 22] fit, config: {'epochs': 10, 'lr': 0.1, 'attacker_epochs': 20, 'attacker_lr': 0.05}\u001b[32m [repeated 4x across cluster]\u001b[0m\n",
            "\u001b[2m\u001b[36m(DefaultActor pid=44529)\u001b[0m [Client 8] get_parameters\u001b[32m [repeated 4x across cluster]\u001b[0m\n",
            "\u001b[2m\u001b[36m(DefaultActor pid=44615)\u001b[0m [Client 12] fit, config: {'epochs': 10, 'lr': 0.1, 'attacker_epochs': 20, 'attacker_lr': 0.05}\n",
            "\u001b[2m\u001b[36m(DefaultActor pid=44571)\u001b[0m [Client 16] get_parameters\n",
            "\u001b[2m\u001b[36m(DefaultActor pid=44552)\u001b[0m [Client 22] get_parameters\n"
          ]
        },
        {
          "output_type": "stream",
          "name": "stderr",
          "text": [
            "DEBUG flwr 2023-12-28 04:57:07,571 | server.py:236 | fit_round 17 received 11 results and 0 failures\n",
            "DEBUG:flwr:fit_round 17 received 11 results and 0 failures\n"
          ]
        },
        {
          "output_type": "stream",
          "name": "stdout",
          "text": [
            "Saving round 17 aggregated_parameters...\n",
            "GLOBAL EVALUATE\n"
          ]
        },
        {
          "output_type": "stream",
          "name": "stderr",
          "text": [
            "100%|██████████| 10000/10000 [00:16<00:00, 620.59it/s]\n",
            "INFO flwr 2023-12-28 04:57:23,814 | server.py:125 | fit progress: (17, 23025.548372030258, {'accuracy': 0.101}, 1541.0377633669996)\n",
            "INFO:flwr:fit progress: (17, 23025.548372030258, {'accuracy': 0.101}, 1541.0377633669996)\n",
            "DEBUG flwr 2023-12-28 04:57:23,817 | server.py:173 | evaluate_round 17: strategy sampled 11 clients (out of 30)\n",
            "DEBUG:flwr:evaluate_round 17: strategy sampled 11 clients (out of 30)\n"
          ]
        },
        {
          "output_type": "stream",
          "name": "stdout",
          "text": [
            "\u001b[2m\u001b[36m(DefaultActor pid=44599)\u001b[0m [Client 2] evaluate, config: {}\n",
            "\u001b[2m\u001b[36m(DefaultActor pid=44599)\u001b[0m [Client 4] get_parameters\u001b[32m [repeated 3x across cluster]\u001b[0m\n"
          ]
        },
        {
          "output_type": "stream",
          "name": "stderr",
          "text": [
            "\u001b[2m\u001b[36m(DefaultActor pid=44599)\u001b[0m \r  0%|          | 0/2 [00:00<?, ?it/s]\u001b[32m [repeated 11x across cluster]\u001b[0m\n",
            "\u001b[2m\u001b[36m(DefaultActor pid=44529)\u001b[0m \r 50%|█████     | 1/2 [00:00<00:00,  9.97it/s]\r100%|██████████| 2/2 [00:00<00:00, 15.67it/s]\u001b[32m [repeated 11x across cluster]\u001b[0m\n",
            "\u001b[2m\u001b[36m(DefaultActor pid=44552)\u001b[0m \r100%|██████████| 2/2 [00:00<00:00,  4.36it/s]\u001b[32m [repeated 7x across cluster]\u001b[0m\n",
            "DEBUG flwr 2023-12-28 04:57:27,999 | server.py:187 | evaluate_round 17 received 11 results and 0 failures\n",
            "DEBUG:flwr:evaluate_round 17 received 11 results and 0 failures\n",
            "DEBUG flwr 2023-12-28 04:57:28,004 | server.py:222 | fit_round 18: strategy sampled 11 clients (out of 30)\n",
            "DEBUG:flwr:fit_round 18: strategy sampled 11 clients (out of 30)\n"
          ]
        },
        {
          "output_type": "stream",
          "name": "stdout",
          "text": [
            "\u001b[2m\u001b[36m(DefaultActor pid=44529)\u001b[0m [Client 12] fit, config: {'epochs': 10, 'lr': 0.1, 'attacker_epochs': 20, 'attacker_lr': 0.05}\n",
            "\u001b[2m\u001b[36m(DefaultActor pid=44529)\u001b[0m [Client 13] evaluate, config: {}\u001b[32m [repeated 10x across cluster]\u001b[0m\n",
            "\u001b[2m\u001b[36m(DefaultActor pid=44552)\u001b[0m [Client 15] get_parameters\n",
            "\u001b[2m\u001b[36m(DefaultActor pid=44571)\u001b[0m [Client 8] fit, config: {'epochs': 10, 'lr': 0.1, 'attacker_epochs': 20, 'attacker_lr': 0.05}\u001b[32m [repeated 5x across cluster]\u001b[0m\n",
            "\u001b[2m\u001b[36m(DefaultActor pid=44529)\u001b[0m [Client 12] get_parameters\n",
            "\u001b[2m\u001b[36m(DefaultActor pid=44599)\u001b[0m [Client 1] fit, config: {'epochs': 10, 'lr': 0.1, 'attacker_epochs': 20, 'attacker_lr': 0.05}\u001b[32m [repeated 5x across cluster]\u001b[0m\n",
            "\u001b[2m\u001b[36m(DefaultActor pid=44510)\u001b[0m [Client 3] get_parameters\u001b[32m [repeated 4x across cluster]\u001b[0m\n",
            "\u001b[2m\u001b[36m(DefaultActor pid=44552)\u001b[0m [Client 13] get_parameters\n",
            "\u001b[2m\u001b[36m(DefaultActor pid=44529)\u001b[0m [Client 27] get_parameters\n"
          ]
        },
        {
          "output_type": "stream",
          "name": "stderr",
          "text": [
            "DEBUG flwr 2023-12-28 04:58:38,964 | server.py:236 | fit_round 18 received 11 results and 0 failures\n",
            "DEBUG:flwr:fit_round 18 received 11 results and 0 failures\n"
          ]
        },
        {
          "output_type": "stream",
          "name": "stdout",
          "text": [
            "Saving round 18 aggregated_parameters...\n",
            "GLOBAL EVALUATE\n"
          ]
        },
        {
          "output_type": "stream",
          "name": "stderr",
          "text": [
            "100%|██████████| 10000/10000 [00:15<00:00, 631.46it/s]\n",
            "INFO flwr 2023-12-28 04:58:54,899 | server.py:125 | fit progress: (18, 23025.546445131302, {'accuracy': 0.101}, 1632.1225826400005)\n",
            "INFO:flwr:fit progress: (18, 23025.546445131302, {'accuracy': 0.101}, 1632.1225826400005)\n",
            "DEBUG flwr 2023-12-28 04:58:54,902 | server.py:173 | evaluate_round 18: strategy sampled 11 clients (out of 30)\n",
            "DEBUG:flwr:evaluate_round 18: strategy sampled 11 clients (out of 30)\n"
          ]
        },
        {
          "output_type": "stream",
          "name": "stdout",
          "text": [
            "\u001b[2m\u001b[36m(DefaultActor pid=44599)\u001b[0m [Client 13] evaluate, config: {}\n",
            "\u001b[2m\u001b[36m(DefaultActor pid=44599)\u001b[0m [Client 1] get_parameters\u001b[32m [repeated 3x across cluster]\u001b[0m\n"
          ]
        },
        {
          "output_type": "stream",
          "name": "stderr",
          "text": [
            "\u001b[2m\u001b[36m(DefaultActor pid=44599)\u001b[0m \r  0%|          | 0/2 [00:00<?, ?it/s]\u001b[32m [repeated 11x across cluster]\u001b[0m\n",
            "\u001b[2m\u001b[36m(DefaultActor pid=44615)\u001b[0m \r 50%|█████     | 1/2 [00:00<00:00,  4.50it/s]\r100%|██████████| 2/2 [00:00<00:00,  7.01it/s]\u001b[32m [repeated 11x across cluster]\u001b[0m\n",
            "\u001b[2m\u001b[36m(DefaultActor pid=44529)\u001b[0m \r100%|██████████| 2/2 [00:00<00:00, 10.04it/s]\u001b[32m [repeated 9x across cluster]\u001b[0m\n",
            "DEBUG flwr 2023-12-28 04:58:58,858 | server.py:187 | evaluate_round 18 received 11 results and 0 failures\n",
            "DEBUG:flwr:evaluate_round 18 received 11 results and 0 failures\n",
            "DEBUG flwr 2023-12-28 04:58:58,866 | server.py:222 | fit_round 19: strategy sampled 11 clients (out of 30)\n",
            "DEBUG:flwr:fit_round 19: strategy sampled 11 clients (out of 30)\n"
          ]
        },
        {
          "output_type": "stream",
          "name": "stdout",
          "text": [
            "\u001b[2m\u001b[36m(DefaultActor pid=44529)\u001b[0m [Client 7] fit, config: {'epochs': 10, 'lr': 0.1, 'attacker_epochs': 20, 'attacker_lr': 0.05}\n",
            "\u001b[2m\u001b[36m(DefaultActor pid=44529)\u001b[0m [Client 3] evaluate, config: {}\u001b[32m [repeated 10x across cluster]\u001b[0m\n",
            "\u001b[2m\u001b[36m(DefaultActor pid=44599)\u001b[0m [Client 18] get_parameters\n",
            "\u001b[2m\u001b[36m(DefaultActor pid=44599)\u001b[0m [Client 18] fit, config: {'epochs': 10, 'lr': 0.1, 'attacker_epochs': 20, 'attacker_lr': 0.05}\u001b[32m [repeated 5x across cluster]\u001b[0m\n",
            "\u001b[2m\u001b[36m(DefaultActor pid=44510)\u001b[0m [Client 16] get_parameters\u001b[32m [repeated 6x across cluster]\u001b[0m\n",
            "\u001b[2m\u001b[36m(DefaultActor pid=44552)\u001b[0m [Client 26] fit, config: {'epochs': 10, 'lr': 0.1, 'attacker_epochs': 20, 'attacker_lr': 0.05}\u001b[32m [repeated 5x across cluster]\u001b[0m\n"
          ]
        },
        {
          "output_type": "stream",
          "name": "stderr",
          "text": [
            "DEBUG flwr 2023-12-28 05:00:07,768 | server.py:236 | fit_round 19 received 11 results and 0 failures\n",
            "DEBUG:flwr:fit_round 19 received 11 results and 0 failures\n"
          ]
        },
        {
          "output_type": "stream",
          "name": "stdout",
          "text": [
            "Saving round 19 aggregated_parameters...\n",
            "GLOBAL EVALUATE\n"
          ]
        },
        {
          "output_type": "stream",
          "name": "stderr",
          "text": [
            "100%|██████████| 10000/10000 [00:15<00:00, 636.65it/s]\n",
            "INFO flwr 2023-12-28 05:00:23,562 | server.py:125 | fit progress: (19, 23025.569020032883, {'accuracy': 0.101}, 1720.786158072)\n",
            "INFO:flwr:fit progress: (19, 23025.569020032883, {'accuracy': 0.101}, 1720.786158072)\n",
            "DEBUG flwr 2023-12-28 05:00:23,567 | server.py:173 | evaluate_round 19: strategy sampled 11 clients (out of 30)\n",
            "DEBUG:flwr:evaluate_round 19: strategy sampled 11 clients (out of 30)\n"
          ]
        },
        {
          "output_type": "stream",
          "name": "stdout",
          "text": [
            "\u001b[2m\u001b[36m(DefaultActor pid=44552)\u001b[0m [Client 26] evaluate, config: {}\n",
            "\u001b[2m\u001b[36m(DefaultActor pid=44552)\u001b[0m [Client 26] get_parameters\u001b[32m [repeated 4x across cluster]\u001b[0m\n"
          ]
        },
        {
          "output_type": "stream",
          "name": "stderr",
          "text": [
            "\u001b[2m\u001b[36m(DefaultActor pid=44552)\u001b[0m \r  0%|          | 0/2 [00:00<?, ?it/s]\u001b[32m [repeated 11x across cluster]\u001b[0m\n",
            "\u001b[2m\u001b[36m(DefaultActor pid=44529)\u001b[0m \r 50%|█████     | 1/2 [00:00<00:00,  3.22it/s]\u001b[32m [repeated 11x across cluster]\u001b[0m\n",
            "\u001b[2m\u001b[36m(DefaultActor pid=44529)\u001b[0m \r100%|██████████| 2/2 [00:00<00:00,  5.32it/s]\u001b[32m [repeated 11x across cluster]\u001b[0m\n",
            "DEBUG flwr 2023-12-28 05:00:26,552 | server.py:187 | evaluate_round 19 received 11 results and 0 failures\n",
            "DEBUG:flwr:evaluate_round 19 received 11 results and 0 failures\n",
            "DEBUG flwr 2023-12-28 05:00:26,556 | server.py:222 | fit_round 20: strategy sampled 11 clients (out of 30)\n",
            "DEBUG:flwr:fit_round 20: strategy sampled 11 clients (out of 30)\n"
          ]
        },
        {
          "output_type": "stream",
          "name": "stdout",
          "text": [
            "\u001b[2m\u001b[36m(DefaultActor pid=44571)\u001b[0m [Client 2] fit, config: {'epochs': 10, 'lr': 0.1, 'attacker_epochs': 20, 'attacker_lr': 0.05}\n",
            "\u001b[2m\u001b[36m(DefaultActor pid=44571)\u001b[0m [Client 6] evaluate, config: {}\u001b[32m [repeated 10x across cluster]\u001b[0m\n",
            "\u001b[2m\u001b[36m(DefaultActor pid=44510)\u001b[0m [Client 29] get_parameters\n",
            "\u001b[2m\u001b[36m(DefaultActor pid=44615)\u001b[0m [Client 17] fit, config: {'epochs': 10, 'lr': 0.1, 'attacker_epochs': 20, 'attacker_lr': 0.05}\u001b[32m [repeated 5x across cluster]\u001b[0m\n",
            "\u001b[2m\u001b[36m(DefaultActor pid=44615)\u001b[0m [Client 17] get_parameters\n",
            "\u001b[2m\u001b[36m(DefaultActor pid=44599)\u001b[0m [Client 0] fit, config: {'epochs': 10, 'lr': 0.1, 'attacker_epochs': 20, 'attacker_lr': 0.05}\u001b[32m [repeated 5x across cluster]\u001b[0m\n",
            "\u001b[2m\u001b[36m(DefaultActor pid=44510)\u001b[0m [Client 24] get_parameters\u001b[32m [repeated 5x across cluster]\u001b[0m\n"
          ]
        },
        {
          "output_type": "stream",
          "name": "stderr",
          "text": [
            "DEBUG flwr 2023-12-28 05:01:36,806 | server.py:236 | fit_round 20 received 11 results and 0 failures\n",
            "DEBUG:flwr:fit_round 20 received 11 results and 0 failures\n"
          ]
        },
        {
          "output_type": "stream",
          "name": "stdout",
          "text": [
            "Saving round 20 aggregated_parameters...\n",
            "GLOBAL EVALUATE\n"
          ]
        },
        {
          "output_type": "stream",
          "name": "stderr",
          "text": [
            "100%|██████████| 10000/10000 [00:17<00:00, 586.14it/s]\n",
            "INFO flwr 2023-12-28 05:01:53,996 | server.py:125 | fit progress: (20, 23025.5681142807, {'accuracy': 0.101}, 1811.2200737910007)\n",
            "INFO:flwr:fit progress: (20, 23025.5681142807, {'accuracy': 0.101}, 1811.2200737910007)\n",
            "DEBUG flwr 2023-12-28 05:01:54,001 | server.py:173 | evaluate_round 20: strategy sampled 11 clients (out of 30)\n",
            "DEBUG:flwr:evaluate_round 20: strategy sampled 11 clients (out of 30)\n",
            "  0%|          | 0/2 [00:00<?, ?it/s]\u001b[32m [repeated 11x across cluster]\u001b[0m\n",
            "100%|██████████| 2/2 [00:00<00:00,  7.14it/s]\u001b[32m [repeated 11x across cluster]\u001b[0m\n",
            "100%|██████████| 2/2 [00:00<00:00, 10.85it/s]\u001b[32m [repeated 8x across cluster]\u001b[0m\n"
          ]
        },
        {
          "output_type": "stream",
          "name": "stdout",
          "text": [
            "\u001b[2m\u001b[36m(DefaultActor pid=44571)\u001b[0m [Client 14] evaluate, config: {}\n",
            "\u001b[2m\u001b[36m(DefaultActor pid=44615)\u001b[0m [Client 4] get_parameters\u001b[32m [repeated 4x across cluster]\u001b[0m\n"
          ]
        },
        {
          "output_type": "stream",
          "name": "stderr",
          "text": [
            "DEBUG flwr 2023-12-28 05:01:58,047 | server.py:187 | evaluate_round 20 received 11 results and 0 failures\n",
            "DEBUG:flwr:evaluate_round 20 received 11 results and 0 failures\n",
            "INFO flwr 2023-12-28 05:01:58,054 | server.py:153 | FL finished in 1815.2783342959992\n",
            "INFO:flwr:FL finished in 1815.2783342959992\n",
            "INFO flwr 2023-12-28 05:01:58,063 | app.py:226 | app_fit: losses_distributed [(1, 4.60421202399514), (2, 4.605983625758778), (3, 4.6041459170254795), (4, 4.605413350191983), (5, 4.603860226544467), (6, 4.605156508359042), (7, 4.604747208681974), (8, 4.605673703280362), (9, 4.604351390491832), (10, 4.605347763408314), (11, 4.60525766285983), (12, 4.6059241511605), (13, 4.605691042813388), (14, 4.6056412566791884), (15, 4.605203303423795), (16, 4.604580597444014), (17, 4.605087453668768), (18, 4.6055532802235), (19, 4.606145750392567), (20, 4.6049628691239795)]\n",
            "INFO:flwr:app_fit: losses_distributed [(1, 4.60421202399514), (2, 4.605983625758778), (3, 4.6041459170254795), (4, 4.605413350191983), (5, 4.603860226544467), (6, 4.605156508359042), (7, 4.604747208681974), (8, 4.605673703280362), (9, 4.604351390491832), (10, 4.605347763408314), (11, 4.60525766285983), (12, 4.6059241511605), (13, 4.605691042813388), (14, 4.6056412566791884), (15, 4.605203303423795), (16, 4.604580597444014), (17, 4.605087453668768), (18, 4.6055532802235), (19, 4.606145750392567), (20, 4.6049628691239795)]\n",
            "INFO flwr 2023-12-28 05:01:58,067 | app.py:227 | app_fit: metrics_distributed_fit {}\n",
            "INFO:flwr:app_fit: metrics_distributed_fit {}\n",
            "INFO flwr 2023-12-28 05:01:58,070 | app.py:228 | app_fit: metrics_distributed {'accuracy': [(1, 0.006109090909090909), (2, 0.0030545454545454543), (3, 0.0030545454545454543), (4, 0.0030545454545454543), (5, 0.009163636363636363), (6, 0.0030545454545454543), (7, 0.006109090909090909), (8, 0.0030545454545454543), (9, 0.0030545454545454543), (10, 0.0), (11, 0.0030545454545454543), (12, 0.0030545454545454543), (13, 0.0), (14, 0.0030545454545454543), (15, 0.0030545454545454543), (16, 0.006109090909090909), (17, 0.0030545454545454543), (18, 0.0), (19, 0.0), (20, 0.0030545454545454543)]}\n",
            "INFO:flwr:app_fit: metrics_distributed {'accuracy': [(1, 0.006109090909090909), (2, 0.0030545454545454543), (3, 0.0030545454545454543), (4, 0.0030545454545454543), (5, 0.009163636363636363), (6, 0.0030545454545454543), (7, 0.006109090909090909), (8, 0.0030545454545454543), (9, 0.0030545454545454543), (10, 0.0), (11, 0.0030545454545454543), (12, 0.0030545454545454543), (13, 0.0), (14, 0.0030545454545454543), (15, 0.0030545454545454543), (16, 0.006109090909090909), (17, 0.0030545454545454543), (18, 0.0), (19, 0.0), (20, 0.0030545454545454543)]}\n",
            "INFO flwr 2023-12-28 05:01:58,072 | app.py:229 | app_fit: losses_centralized [(0, 23025.690645694733), (1, 23025.64275097847), (2, 23025.64751625061), (3, 23025.660692453384), (4, 23025.62166786194), (5, 23025.59792160988), (6, 23025.587387800217), (7, 23025.58287835121), (8, 23025.591396331787), (9, 23025.585277080536), (10, 23025.584570884705), (11, 23025.590869665146), (12, 23025.55522584915), (13, 23025.53270339966), (14, 23025.547149419785), (15, 23025.575053691864), (16, 23025.537661790848), (17, 23025.548372030258), (18, 23025.546445131302), (19, 23025.569020032883), (20, 23025.5681142807)]\n",
            "INFO:flwr:app_fit: losses_centralized [(0, 23025.690645694733), (1, 23025.64275097847), (2, 23025.64751625061), (3, 23025.660692453384), (4, 23025.62166786194), (5, 23025.59792160988), (6, 23025.587387800217), (7, 23025.58287835121), (8, 23025.591396331787), (9, 23025.585277080536), (10, 23025.584570884705), (11, 23025.590869665146), (12, 23025.55522584915), (13, 23025.53270339966), (14, 23025.547149419785), (15, 23025.575053691864), (16, 23025.537661790848), (17, 23025.548372030258), (18, 23025.546445131302), (19, 23025.569020032883), (20, 23025.5681142807)]\n",
            "INFO flwr 2023-12-28 05:01:58,074 | app.py:230 | app_fit: metrics_centralized {'accuracy': [(0, 0.101), (1, 0.101), (2, 0.101), (3, 0.101), (4, 0.101), (5, 0.101), (6, 0.101), (7, 0.101), (8, 0.101), (9, 0.101), (10, 0.101), (11, 0.101), (12, 0.101), (13, 0.101), (14, 0.101), (15, 0.101), (16, 0.101), (17, 0.101), (18, 0.101), (19, 0.101), (20, 0.101)]}\n",
            "INFO:flwr:app_fit: metrics_centralized {'accuracy': [(0, 0.101), (1, 0.101), (2, 0.101), (3, 0.101), (4, 0.101), (5, 0.101), (6, 0.101), (7, 0.101), (8, 0.101), (9, 0.101), (10, 0.101), (11, 0.101), (12, 0.101), (13, 0.101), (14, 0.101), (15, 0.101), (16, 0.101), (17, 0.101), (18, 0.101), (19, 0.101), (20, 0.101)]}\n"
          ]
        }
      ],
      "source": [
        "from datasets.utils.logging import disable_progress_bar\n",
        "# With a dictionary, you tell Flower's VirtualClientEngine that each\n",
        "# client needs exclusive access to these many resources in order to run\n",
        "client_resources = {\"num_cpus\": 0.2, \"num_gpus\": 0.1}\n",
        "\n",
        "# Let's disable tqdm progress bar in the main thread (used by the server)\n",
        "disable_progress_bar()\n",
        "NUM_CLIENTS=30\n",
        "history = fl.simulation.start_simulation(\n",
        "    client_fn=client_fn_callback,  # a callback to construct a client\n",
        "    num_clients=NUM_CLIENTS,  # total number of clients in the experiment\n",
        "    config=fl.server.ServerConfig(num_rounds=20),  # let's run for 10 rounds\n",
        "    strategy=strategy,  # the strategy that will orchestrate the whole FL pipeline\n",
        "    client_resources=client_resources,\n",
        "    actor_kwargs={\n",
        "        \"on_actor_init_fn\": disable_progress_bar  # disable tqdm on each actor/process spawning virtual clients\n",
        "    },\n",
        ")"
      ]
    },
    {
      "cell_type": "code",
      "execution_count": 46,
      "metadata": {
        "id": "zjF9BiGVU6ty",
        "outputId": "e5a8ed09-c8fd-4a98-ffc6-b506a114a24f",
        "colab": {
          "base_uri": "https://localhost:8080/",
          "height": 527
        }
      },
      "outputs": [
        {
          "output_type": "stream",
          "name": "stdout",
          "text": [
            "history.metrics_centralized = {'accuracy': [(0, 0.101), (1, 0.101), (2, 0.101), (3, 0.101), (4, 0.101), (5, 0.101), (6, 0.101), (7, 0.101), (8, 0.101), (9, 0.101), (10, 0.101), (11, 0.101), (12, 0.101), (13, 0.101), (14, 0.101), (15, 0.101), (16, 0.101), (17, 0.101), (18, 0.101), (19, 0.101), (20, 0.101)]}\n"
          ]
        },
        {
          "output_type": "execute_result",
          "data": {
            "text/plain": [
              "Text(0.5, 1.0, 'MNIST - IID - 100 clients with 10 clients per round')"
            ]
          },
          "metadata": {},
          "execution_count": 46
        },
        {
          "output_type": "display_data",
          "data": {
            "text/plain": [
              "<Figure size 640x480 with 1 Axes>"
            ],
            "image/png": "[encoded data removed]"
          },
          "metadata": {}
        }
      ],
      "source": [
        "import matplotlib.pyplot as plt\n",
        "\n",
        "print(f\"{history.metrics_centralized = }\")\n",
        "\n",
        "global_accuracy_centralised = history.metrics_centralized[\"accuracy\"]\n",
        "round = [data[0] for data in global_accuracy_centralised]\n",
        "acc = [100 * data[1] for data in global_accuracy_centralised]\n",
        "plt.plot(round, acc)\n",
        "plt.grid()\n",
        "plt.ylabel(\"Accuracy (%)\")\n",
        "plt.xlabel(\"Round\")\n",
        "plt.title(\"MNIST - IID - 100 clients with 10 clients per round\")"
      ]
    },
    {
      "cell_type": "code",
      "source": [
        "num_clients = 27\n",
        "ids = [str(x) for x in range(num_clients)]\n",
        "for id in ids:\n",
        "    print(id)"
      ],
      "metadata": {
        "id": "LOEy17uJ_Zh_",
        "outputId": "bfc7b474-de0d-4500-c955-009aa37bcf88",
        "colab": {
          "base_uri": "https://localhost:8080/"
        }
      },
      "execution_count": 47,
      "outputs": [
        {
          "output_type": "stream",
          "name": "stdout",
          "text": [
            "0\n",
            "1\n",
            "2\n",
            "3\n",
            "4\n",
            "5\n",
            "6\n",
            "7\n",
            "8\n",
            "9\n",
            "10\n",
            "11\n",
            "12\n",
            "13\n",
            "14\n",
            "15\n",
            "16\n",
            "17\n",
            "18\n",
            "19\n",
            "20\n",
            "21\n",
            "22\n",
            "23\n",
            "24\n",
            "25\n",
            "26\n"
          ]
        }
      ]
    }
  ],
  "metadata": {
    "colab": {
      "provenance": [],
      "gpuType": "T4",
      "include_colab_link": true
    },
    "kernelspec": {
      "display_name": "Python 3",
      "name": "python3"
    },
    "language_info": {
      "codemirror_mode": {
        "name": "ipython",
        "version": 3
      },
      "file_extension": ".py",
      "mimetype": "text/x-python",
      "name": "python",
      "nbconvert_exporter": "python",
      "pygments_lexer": "ipython3",
      "version": "3.9.0"
    },
    "accelerator": "GPU"
  },
  "nbformat": 4,
  "nbformat_minor": 0
}