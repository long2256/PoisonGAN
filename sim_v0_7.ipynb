{
  "cells": [
    {
      "cell_type": "markdown",
      "metadata": {
        "id": "view-in-github",
        "colab_type": "text"
      },
      "source": [
        "<a href=\"https://colab.research.google.com/github/long2256/PoisonGAN/blob/main/sim_v0_7.ipynb\" target=\"_parent\"><img src=\"https://colab.research.google.com/assets/colab-badge.svg\" alt=\"Open In Colab\"/></a>"
      ]
    },
    {
      "cell_type": "markdown",
      "metadata": {
        "id": "KxTwNkEtU6tr"
      },
      "source": [
        "# Environment Setup\n",
        "\n",
        "To start working with Flower, very little is required once you have activated your Python environment (e.g. via `conda`, `virtualenv`, `pyenv`, etc). If you are running this code on Colab, there is really nothing to do except to install Flower and other dependencies. The steps below have been verified to run in Colab.\n",
        "\n",
        "## Installing Flower\n",
        "\n",
        "You can install flower very conveniently from `pip`:"
      ]
    },
    {
      "cell_type": "code",
      "source": [
        "import warnings\n",
        "\n",
        "# Tắt tất cả các cảnh báo\n",
        "warnings.filterwarnings(\"ignore\")\n",
        "\n",
        "# Tắt cảnh báo cụ thể với tên module\n",
        "# warnings.filterwarnings(\"ignore\", message=\"The default value of the antialias parameter*\", category=UserWarning)\n"
      ],
      "metadata": {
        "id": "atIwGIZfJbTY"
      },
      "execution_count": 1,
      "outputs": []
    },
    {
      "cell_type": "code",
      "execution_count": 2,
      "metadata": {
        "colab": {
          "base_uri": "https://localhost:8080/"
        },
        "id": "bWcgETZxU6tt",
        "outputId": "8c748a31-eb4d-4a81-ad59-1a41a548f47b"
      },
      "outputs": [
        {
          "output_type": "stream",
          "name": "stdout",
          "text": [
            "Requirement already satisfied: flwr_datasets[vision] in /usr/local/lib/python3.10/dist-packages (0.0.2)\n",
            "Requirement already satisfied: datasets<3.0.0,>=2.14.3 in /usr/local/lib/python3.10/dist-packages (from flwr_datasets[vision]) (2.16.0)\n",
            "Requirement already satisfied: numpy<2.0.0,>=1.21.0 in /usr/local/lib/python3.10/dist-packages (from flwr_datasets[vision]) (1.23.5)\n",
            "Requirement already satisfied: pillow>=6.2.1 in /usr/local/lib/python3.10/dist-packages (from flwr_datasets[vision]) (9.4.0)\n",
            "Requirement already satisfied: filelock in /usr/local/lib/python3.10/dist-packages (from datasets<3.0.0,>=2.14.3->flwr_datasets[vision]) (3.13.1)\n",
            "Requirement already satisfied: pyarrow>=8.0.0 in /usr/local/lib/python3.10/dist-packages (from datasets<3.0.0,>=2.14.3->flwr_datasets[vision]) (10.0.1)\n",
            "Requirement already satisfied: pyarrow-hotfix in /usr/local/lib/python3.10/dist-packages (from datasets<3.0.0,>=2.14.3->flwr_datasets[vision]) (0.6)\n",
            "Requirement already satisfied: dill<0.3.8,>=0.3.0 in /usr/local/lib/python3.10/dist-packages (from datasets<3.0.0,>=2.14.3->flwr_datasets[vision]) (0.3.7)\n",
            "Requirement already satisfied: pandas in /usr/local/lib/python3.10/dist-packages (from datasets<3.0.0,>=2.14.3->flwr_datasets[vision]) (1.5.3)\n",
            "Requirement already satisfied: requests>=2.19.0 in /usr/local/lib/python3.10/dist-packages (from datasets<3.0.0,>=2.14.3->flwr_datasets[vision]) (2.31.0)\n",
            "Requirement already satisfied: tqdm>=4.62.1 in /usr/local/lib/python3.10/dist-packages (from datasets<3.0.0,>=2.14.3->flwr_datasets[vision]) (4.66.1)\n",
            "Requirement already satisfied: xxhash in /usr/local/lib/python3.10/dist-packages (from datasets<3.0.0,>=2.14.3->flwr_datasets[vision]) (3.4.1)\n",
            "Requirement already satisfied: multiprocess in /usr/local/lib/python3.10/dist-packages (from datasets<3.0.0,>=2.14.3->flwr_datasets[vision]) (0.70.15)\n",
            "Requirement already satisfied: fsspec[http]<=2023.10.0,>=2023.1.0 in /usr/local/lib/python3.10/dist-packages (from datasets<3.0.0,>=2.14.3->flwr_datasets[vision]) (2023.6.0)\n",
            "Requirement already satisfied: aiohttp in /usr/local/lib/python3.10/dist-packages (from datasets<3.0.0,>=2.14.3->flwr_datasets[vision]) (3.9.1)\n",
            "Requirement already satisfied: huggingface-hub>=0.19.4 in /usr/local/lib/python3.10/dist-packages (from datasets<3.0.0,>=2.14.3->flwr_datasets[vision]) (0.19.4)\n",
            "Requirement already satisfied: packaging in /usr/local/lib/python3.10/dist-packages (from datasets<3.0.0,>=2.14.3->flwr_datasets[vision]) (23.2)\n",
            "Requirement already satisfied: pyyaml>=5.1 in /usr/local/lib/python3.10/dist-packages (from datasets<3.0.0,>=2.14.3->flwr_datasets[vision]) (6.0.1)\n",
            "Requirement already satisfied: attrs>=17.3.0 in /usr/local/lib/python3.10/dist-packages (from aiohttp->datasets<3.0.0,>=2.14.3->flwr_datasets[vision]) (23.1.0)\n",
            "Requirement already satisfied: multidict<7.0,>=4.5 in /usr/local/lib/python3.10/dist-packages (from aiohttp->datasets<3.0.0,>=2.14.3->flwr_datasets[vision]) (6.0.4)\n",
            "Requirement already satisfied: yarl<2.0,>=1.0 in /usr/local/lib/python3.10/dist-packages (from aiohttp->datasets<3.0.0,>=2.14.3->flwr_datasets[vision]) (1.9.4)\n",
            "Requirement already satisfied: frozenlist>=1.1.1 in /usr/local/lib/python3.10/dist-packages (from aiohttp->datasets<3.0.0,>=2.14.3->flwr_datasets[vision]) (1.4.1)\n",
            "Requirement already satisfied: aiosignal>=1.1.2 in /usr/local/lib/python3.10/dist-packages (from aiohttp->datasets<3.0.0,>=2.14.3->flwr_datasets[vision]) (1.3.1)\n",
            "Requirement already satisfied: async-timeout<5.0,>=4.0 in /usr/local/lib/python3.10/dist-packages (from aiohttp->datasets<3.0.0,>=2.14.3->flwr_datasets[vision]) (4.0.3)\n",
            "Requirement already satisfied: typing-extensions>=3.7.4.3 in /usr/local/lib/python3.10/dist-packages (from huggingface-hub>=0.19.4->datasets<3.0.0,>=2.14.3->flwr_datasets[vision]) (4.5.0)\n",
            "Requirement already satisfied: charset-normalizer<4,>=2 in /usr/local/lib/python3.10/dist-packages (from requests>=2.19.0->datasets<3.0.0,>=2.14.3->flwr_datasets[vision]) (3.3.2)\n",
            "Requirement already satisfied: idna<4,>=2.5 in /usr/local/lib/python3.10/dist-packages (from requests>=2.19.0->datasets<3.0.0,>=2.14.3->flwr_datasets[vision]) (3.6)\n",
            "Requirement already satisfied: urllib3<3,>=1.21.1 in /usr/local/lib/python3.10/dist-packages (from requests>=2.19.0->datasets<3.0.0,>=2.14.3->flwr_datasets[vision]) (2.0.7)\n",
            "Requirement already satisfied: certifi>=2017.4.17 in /usr/local/lib/python3.10/dist-packages (from requests>=2.19.0->datasets<3.0.0,>=2.14.3->flwr_datasets[vision]) (2023.11.17)\n",
            "Requirement already satisfied: python-dateutil>=2.8.1 in /usr/local/lib/python3.10/dist-packages (from pandas->datasets<3.0.0,>=2.14.3->flwr_datasets[vision]) (2.8.2)\n",
            "Requirement already satisfied: pytz>=2020.1 in /usr/local/lib/python3.10/dist-packages (from pandas->datasets<3.0.0,>=2.14.3->flwr_datasets[vision]) (2023.3.post1)\n",
            "Requirement already satisfied: six>=1.5 in /usr/local/lib/python3.10/dist-packages (from python-dateutil>=2.8.1->pandas->datasets<3.0.0,>=2.14.3->flwr_datasets[vision]) (1.16.0)\n"
          ]
        }
      ],
      "source": [
        "# depending on your shell, you might need to add `\\` before `[` and `]`.\n",
        "!pip install -q flwr[simulation]\n",
        "!pip install flwr_datasets[vision]"
      ]
    },
    {
      "cell_type": "code",
      "execution_count": 3,
      "metadata": {
        "colab": {
          "base_uri": "https://localhost:8080/"
        },
        "id": "fN9vsH9gU6tu",
        "outputId": "47477e20-6567-42d0-f889-7f0b9b0641e3"
      },
      "outputs": [
        {
          "output_type": "stream",
          "name": "stdout",
          "text": [
            "Requirement already satisfied: matplotlib in /usr/local/lib/python3.10/dist-packages (3.7.1)\n",
            "Requirement already satisfied: contourpy>=1.0.1 in /usr/local/lib/python3.10/dist-packages (from matplotlib) (1.2.0)\n",
            "Requirement already satisfied: cycler>=0.10 in /usr/local/lib/python3.10/dist-packages (from matplotlib) (0.12.1)\n",
            "Requirement already satisfied: fonttools>=4.22.0 in /usr/local/lib/python3.10/dist-packages (from matplotlib) (4.46.0)\n",
            "Requirement already satisfied: kiwisolver>=1.0.1 in /usr/local/lib/python3.10/dist-packages (from matplotlib) (1.4.5)\n",
            "Requirement already satisfied: numpy>=1.20 in /usr/local/lib/python3.10/dist-packages (from matplotlib) (1.23.5)\n",
            "Requirement already satisfied: packaging>=20.0 in /usr/local/lib/python3.10/dist-packages (from matplotlib) (23.2)\n",
            "Requirement already satisfied: pillow>=6.2.0 in /usr/local/lib/python3.10/dist-packages (from matplotlib) (9.4.0)\n",
            "Requirement already satisfied: pyparsing>=2.3.1 in /usr/local/lib/python3.10/dist-packages (from matplotlib) (3.1.1)\n",
            "Requirement already satisfied: python-dateutil>=2.7 in /usr/local/lib/python3.10/dist-packages (from matplotlib) (2.8.2)\n",
            "Requirement already satisfied: six>=1.5 in /usr/local/lib/python3.10/dist-packages (from python-dateutil>=2.7->matplotlib) (1.16.0)\n"
          ]
        }
      ],
      "source": [
        "!pip install matplotlib"
      ]
    },
    {
      "cell_type": "code",
      "execution_count": 4,
      "metadata": {
        "id": "O37lBkTdU6tw"
      },
      "outputs": [],
      "source": [
        "import torch\n",
        "from torchvision import datasets\n",
        "from torchvision.transforms import Compose, ToTensor, Resize\n",
        "from torch.utils.data import DataLoader, SubsetRandomSampler\n",
        "\n",
        "def devide_dataset(dataset, dataloader, num_classes: int, batch_size: int):\n",
        "    for i in range(num_classes):\n",
        "        # Get indices of samples for each class\n",
        "        indices = [idx for idx, (img, label) in enumerate(dataset) if label == i]\n",
        "\n",
        "        # Divide the indices into 3 subsets\n",
        "        subset_size = len(indices) // 3\n",
        "        subset_indices = [indices[j * subset_size: (j + 1) * subset_size] for j in range(3)]\n",
        "\n",
        "        # Create DataLoader for each subset and add to trainloaders\n",
        "        for subset_idx in subset_indices:\n",
        "            sampler = SubsetRandomSampler(subset_idx)\n",
        "            loader = DataLoader(dataset, batch_size=batch_size, sampler=sampler)\n",
        "            dataloader.append(loader)\n",
        "    return dataloader\n",
        "\n",
        "def prepare_dataset():\n",
        "    # Define transforms\n",
        "    transforms = Compose([\n",
        "        ToTensor(),\n",
        "        Resize((64, 64))\n",
        "    ])\n",
        "\n",
        "    # Download MNIST dataset\n",
        "    trainset = datasets.MNIST(root='./data', train=True, download=True, transform=transforms)\n",
        "    testset = datasets.MNIST(root='./data', train=False, download=True, transform=transforms)\n",
        "\n",
        "    alltestloader = DataLoader(testset)\n",
        "\n",
        "    testloaders = []\n",
        "    trainloaders = []\n",
        "    testloader = devide_dataset(testset, testloaders, 10, 256)\n",
        "    trainloader = devide_dataset(trainset, trainloaders, 10, 256)\n",
        "\n",
        "\n",
        "    return trainset, trainloaders, testset, testloader, alltestloader\n",
        "\n",
        "trainset, trainloader, testset, testloader, alltestloader = prepare_dataset()\n"
      ]
    },
    {
      "cell_type": "code",
      "source": [
        "from torch.utils.data import Subset\n",
        "import matplotlib.pyplot as plt\n",
        "def visualise_histogram(trainloader, loader_idx_list):\n",
        "    for idx in loader_idx_list:\n",
        "        subset_indices = trainloader[idx].sampler.indices\n",
        "        train_partition = Subset(trainloader[idx].dataset, subset_indices)\n",
        "\n",
        "        # Count data points\n",
        "        partition_indices = train_partition.indices\n",
        "        print(f\"Number of images: {len(partition_indices)}\")\n",
        "\n",
        "        # Visualize histogram\n",
        "        plt.hist(train_partition.dataset.targets[partition_indices], bins=10)\n",
        "        plt.grid()\n",
        "        plt.xticks(range(10))\n",
        "        plt.xlabel(\"Label\")\n",
        "        plt.ylabel(\"Number of images\")\n",
        "        plt.title(\"Class labels distribution for MNIST\")\n",
        "        plt.show()\n"
      ],
      "metadata": {
        "id": "Fw8PD0Hd0Lbo"
      },
      "execution_count": 5,
      "outputs": []
    },
    {
      "cell_type": "code",
      "source": [
        "visualise_histogram(testloader, [9, 10, 11])"
      ],
      "metadata": {
        "id": "Ae0hFajz4YiQ",
        "outputId": "b0a327b2-e31b-4767-cfd2-2e82717b12d3",
        "colab": {
          "base_uri": "https://localhost:8080/",
          "height": 1000
        }
      },
      "execution_count": 6,
      "outputs": [
        {
          "output_type": "stream",
          "name": "stdout",
          "text": [
            "Number of images: 336\n"
          ]
        },
        {
          "output_type": "display_data",
          "data": {
            "text/plain": [
              "<Figure size 640x480 with 1 Axes>"
            ],
            "image/png": "[encoded data removed]"
          },
          "metadata": {}
        },
        {
          "output_type": "stream",
          "name": "stdout",
          "text": [
            "Number of images: 336\n"
          ]
        },
        {
          "output_type": "display_data",
          "data": {
            "text/plain": [
              "<Figure size 640x480 with 1 Axes>"
            ],
            "image/png": "[encoded data removed]"
          },
          "metadata": {}
        },
        {
          "output_type": "stream",
          "name": "stdout",
          "text": [
            "Number of images: 336\n"
          ]
        },
        {
          "output_type": "display_data",
          "data": {
            "text/plain": [
              "<Figure size 640x480 with 1 Axes>"
            ],
            "image/png": "[encoded data removed]"
          },
          "metadata": {}
        }
      ]
    },
    {
      "cell_type": "code",
      "execution_count": 7,
      "metadata": {
        "id": "QiodpnqLU6tv"
      },
      "outputs": [],
      "source": [
        "import torch\n",
        "import torch.nn as nn\n",
        "import torch.nn.functional as F\n",
        "from torch.utils.data import DataLoader\n",
        "\n",
        "\n",
        "class Net(nn.Module):\n",
        "    def __init__(self):\n",
        "        super(Net, self).__init__()\n",
        "        self.conv1 = nn.Conv2d(in_channels=1, out_channels=64, kernel_size=4, stride=2, padding=1)\n",
        "        self.leaky1 = nn.LeakyReLU()\n",
        "\n",
        "        self.conv2 = nn.Conv2d(in_channels=64, out_channels=64, kernel_size=4, stride=2, padding=1)\n",
        "        self.leaky2 = nn.LeakyReLU()\n",
        "\n",
        "        self.conv3 = nn.Conv2d(in_channels=64, out_channels=64, kernel_size=4, stride=2, padding=1)\n",
        "        self.leaky3 = nn.LeakyReLU()\n",
        "\n",
        "        self.conv4 = nn.Conv2d(in_channels=64, out_channels=128, kernel_size=3, stride=1, padding=1)\n",
        "        self.leaky4 = nn.LeakyReLU()\n",
        "\n",
        "        self.conv5 = nn.Conv2d(in_channels=128, out_channels=128, kernel_size=3, stride=1, padding=1)\n",
        "        self.leaky5 = nn.LeakyReLU()\n",
        "\n",
        "        self.conv6 = nn.Conv2d(in_channels=128, out_channels=128, kernel_size=3, stride=1, padding=1)\n",
        "        self.leaky6 = nn.LeakyReLU()\n",
        "\n",
        "        self.avgpool = nn.AvgPool2d(2, stride=2)\n",
        "\n",
        "        self.fc = nn.Linear(4 * 4 * 128, 10)  # 11 classes for MNIST\n",
        "        self.softmax = nn.Softmax(dim=1)\n",
        "\n",
        "    def forward(self, x):\n",
        "        x = self.conv1(x)\n",
        "        x = self.leaky1(x)\n",
        "\n",
        "        x = self.conv2(x)\n",
        "        x = self.leaky2(x)\n",
        "\n",
        "        x = self.conv3(x)\n",
        "        x = self.leaky3(x)\n",
        "\n",
        "        x = self.conv4(x)\n",
        "        x = self.leaky4(x)\n",
        "\n",
        "        x = self.conv5(x)\n",
        "        x = self.leaky5(x)\n",
        "\n",
        "        x = self.conv6(x)\n",
        "        x = self.leaky6(x)\n",
        "\n",
        "        x = self.avgpool(x)\n",
        "        x = x.view(x.size(0), -1)  # Flatten the output\n",
        "        x = self.fc(x)\n",
        "        x = self.softmax(x)\n",
        "\n",
        "        return x\n",
        "\n",
        "class Discriminator(nn.Module):\n",
        "    def __init__(self):\n",
        "        super(Discriminator, self).__init__()\n",
        "        self.conv1 = nn.Conv2d(in_channels=1, out_channels=64, kernel_size=4, stride=2, padding=1)\n",
        "        self.leaky1 = nn.LeakyReLU()\n",
        "        self.dropout = nn.Dropout()\n",
        "\n",
        "        self.conv2 = nn.Conv2d(in_channels=64, out_channels=64, kernel_size=4, stride=2, padding=1)\n",
        "        self.batchnorm1 = nn.BatchNorm2d(64)\n",
        "        self.leaky2 = nn.LeakyReLU()\n",
        "\n",
        "        self.conv3 = nn.Conv2d(in_channels=64, out_channels=64, kernel_size=4, stride=2, padding=1)\n",
        "        self.batchnorm2 = nn.BatchNorm2d(64)\n",
        "        self.leaky3 = nn.LeakyReLU()\n",
        "\n",
        "        self.conv4 = nn.Conv2d(in_channels=64, out_channels=128, kernel_size=3, stride=1, padding=1)\n",
        "        self.batchnorm3 = nn.BatchNorm2d(128)\n",
        "        self.leaky4 = nn.LeakyReLU()\n",
        "\n",
        "        self.conv5 = nn.Conv2d(in_channels=128, out_channels=128, kernel_size=3, stride=1, padding=1)\n",
        "        self.batchnorm4 = nn.BatchNorm2d(128)\n",
        "        self.leaky5 = nn.LeakyReLU()\n",
        "\n",
        "        self.conv6 = nn.Conv2d(in_channels=128, out_channels=128, kernel_size=3, stride=1, padding=1)\n",
        "        self.leaky6 = nn.LeakyReLU()\n",
        "\n",
        "        self.avgpool = nn.AvgPool2d(2, stride=2)\n",
        "\n",
        "        self.fc = nn.Linear(4 * 4 * 128, 10)\n",
        "        self.softmax = nn.Softmax(dim=1)\n",
        "\n",
        "    def forward(self, x):\n",
        "        x = self.conv1(x)\n",
        "        x = self.leaky1(x)\n",
        "        x = self.dropout(x)\n",
        "\n",
        "        x = self.conv2(x)\n",
        "        x = self.batchnorm1(x)\n",
        "        x = self.leaky2(x)\n",
        "\n",
        "        x = self.conv3(x)\n",
        "        x = self.batchnorm2(x)\n",
        "        x = self.leaky3(x)\n",
        "\n",
        "        x = self.conv4(x)\n",
        "        x = self.batchnorm3(x)\n",
        "        x = self.leaky4(x)\n",
        "\n",
        "        x = self.conv5(x)\n",
        "        x = self.batchnorm4(x)\n",
        "        x = self.leaky5(x)\n",
        "\n",
        "        x = self.conv6(x)\n",
        "        x = self.leaky6(x)\n",
        "\n",
        "        x = self.avgpool(x)\n",
        "        x = x.view(x.size(0), -1)  # Flatten the output\n",
        "        x = self.fc(x)\n",
        "        x = self.softmax(x)\n",
        "\n",
        "        return x\n",
        "\n",
        "class Generator(nn.Module):\n",
        "    def __init__(self):\n",
        "        super(Generator, self).__init__()\n",
        "\n",
        "        self.conv1 = nn.ConvTranspose2d(100, 256, kernel_size=4, stride=4, padding=0, bias=False)\n",
        "        self.batchnorm1 = nn.BatchNorm2d(256)\n",
        "        self.relu1 = nn.ReLU()\n",
        "\n",
        "        self.conv2 = nn.ConvTranspose2d(256, 128, kernel_size=4, stride=4, padding=0, bias=False)\n",
        "        self.batchnorm2 = nn.BatchNorm2d(128)\n",
        "        self.relu2 = nn.ReLU()\n",
        "\n",
        "        self.conv3 = nn.ConvTranspose2d(128, 64, kernel_size=4, stride=2, padding=1, bias=False)\n",
        "        self.batchnorm3 = nn.BatchNorm2d(64)\n",
        "        self.relu3 = nn.ReLU()\n",
        "\n",
        "        self.conv4 = nn.ConvTranspose2d(64, 1, kernel_size=4, stride=2, padding=1, bias=False)\n",
        "        self.tanh = nn.Tanh()\n",
        "\n",
        "    def forward(self, x):\n",
        "        x = self.conv1(x)\n",
        "        x = self.batchnorm1(x)\n",
        "        x = self.relu1(x)\n",
        "        x = self.conv2(x)\n",
        "        x = self.batchnorm2(x)\n",
        "        x = self.relu2(x)\n",
        "        x = self.conv3(x)\n",
        "        x = self.batchnorm3(x)\n",
        "        x = self.relu3(x)\n",
        "        x = self.conv4(x)\n",
        "        x = self.tanh(x)\n",
        "        return x"
      ]
    },
    {
      "cell_type": "code",
      "execution_count": 8,
      "metadata": {
        "id": "-aefgeLCU6tw"
      },
      "outputs": [],
      "source": [
        "from tqdm import tqdm\n",
        "def train(net, trainloader, lr, epochs, device: str):\n",
        "    \"\"\"Train the network on the training set.\"\"\"\n",
        "    criterion = torch.nn.CrossEntropyLoss()\n",
        "    net.train()\n",
        "    for _ in range(epochs):\n",
        "        if epochs % 2 == 0 and epochs != 0:\n",
        "          lr /= 10\n",
        "        optim = torch.optim.SGD(net.parameters(), lr=lr)\n",
        "        for batch in tqdm(trainloader, desc='Victim Training:'):\n",
        "        # for batch in trainloader:\n",
        "            images, labels = batch\n",
        "            images, labels = images.to(device), labels.to(device)\n",
        "            optim.zero_grad()\n",
        "            loss = criterion(net(images), labels)\n",
        "            loss.backward()\n",
        "            optim.step()\n",
        "\n",
        "def poison_train(net, generator, discriminator, lr, epochs, device: str):\n",
        "    criterion = torch.nn.CrossEntropyLoss()\n",
        "    discriminator.eval()\n",
        "    generator.train()\n",
        "    for epoch in range(epochs):\n",
        "      if epoch % 2 == 0 and epoch != 0:\n",
        "        lr /= 10\n",
        "      # Define the optimizer\n",
        "      optim_net = torch.optim.SGD(net.parameters(), lr=lr)\n",
        "      optim_G = torch.optim.SGD(generator.parameters(), lr=lr)\n",
        "      # Training G\n",
        "      noise = torch.randn(2000, 32, 100, 1, 1).to(device)\n",
        "      # for batch_noisy in tqdm(noise, desc='Training G:'):\n",
        "      for batch_noisy in noise:\n",
        "          fake_images = generator(batch_noisy).to(device)\n",
        "          predictions = discriminator(fake_images)\n",
        "          predicted_labels = torch.max(predictions, dim=1).indices\n",
        "\n",
        "          images_is_2 = fake_images[predicted_labels == 2]\n",
        "          labels_is_2 = torch.full((len(images_is_2),), 2).to(device)\n",
        "\n",
        "          if(len(images_is_2) > 0):\n",
        "              optim_G.zero_grad()\n",
        "              criterion(discriminator(images_is_2.to(device)), labels_is_2.to(device)).backward()\n",
        "              optim_G.step()\n",
        "\n",
        "      # Training Net with poisonset\n",
        "      # for batch_noisy in tqdm(noise, desc='Poison Training:'):\n",
        "      for batch_noisy in noise:\n",
        "          fake_images = generator(batch_noisy).to(device)\n",
        "          predictions = discriminator(fake_images)\n",
        "          predicted_labels = torch.max(predictions, dim=1).indices\n",
        "\n",
        "          images_is_2 = fake_images[predicted_labels == 2]\n",
        "          labels_is_2 = torch.full((len(images_is_2),), 7).to(device)\n",
        "\n",
        "          if(len(images_is_2) > 0):\n",
        "              optim_net.zero_grad()\n",
        "              criterion(net(images_is_2.to(device)), labels_is_2.to(device)).backward()\n",
        "              optim_net.step()\n",
        "    print(\"#\"*30, \"ATTACKER\", \"#\"*30)\n",
        "\n",
        "\n",
        "def test(net, testloader, device: str):\n",
        "    \"\"\"Validate the network on the entire test set.\"\"\"\n",
        "    criterion = torch.nn.CrossEntropyLoss()\n",
        "    correct, loss = 0, 0.0\n",
        "    net.eval()\n",
        "    with torch.no_grad():\n",
        "        for images, labels in tqdm(testloader):\n",
        "            images, labels = images.to(device), labels.to(device)\n",
        "            outputs = net(images)\n",
        "            loss += criterion(outputs, labels).item()\n",
        "            _, predicted = torch.max(outputs.data, 1)\n",
        "            correct += (predicted == labels).sum().item()\n",
        "    accuracy = correct / len(testloader.dataset)\n",
        "    return loss, accuracy\n",
        "\n",
        "# def test(net, testloader, device: str):\n",
        "#     \"\"\"Validate the network on the entire test set.\"\"\"\n",
        "#     criterion = torch.nn.CrossEntropyLoss()\n",
        "#     correct_poisoned = 0\n",
        "#     total_poisoned = 0\n",
        "#     loss = 0.0\n",
        "#     net.eval()\n",
        "#     with torch.no_grad():\n",
        "#         for images, labels in testloader:\n",
        "#             images, labels = images.to(device), labels.to(device)\n",
        "#             output = net(images)\n",
        "#             pred = output.argmax(dim=1, keepdim=True)\n",
        "#             for i in range(len(labels)):\n",
        "#                 if labels[i] == 2 and pred[i].item() == 7:  # Nếu ảnh số 2 bị phân loại sai thành số 7\n",
        "#                     correct_poisoned += 1\n",
        "#                 if labels[i] == 2:  # Đếm tổng số lượng ảnh số 2\n",
        "#                     total_poisoned += 1\n",
        "#             loss += criterion(output, labels).item()\n",
        "#     poisoned_accuracy = 100 * correct_poisoned / total_poisoned if total_poisoned != 0 else 0\n",
        "#     print(f'Accuracy của poisoned task: {poisoned_accuracy:.2f}%')\n",
        "#     return loss, poisoned_accuracy"
      ]
    },
    {
      "cell_type": "code",
      "execution_count": 9,
      "metadata": {
        "id": "EfQOV56-U6tx"
      },
      "outputs": [],
      "source": [
        "import flwr as fl"
      ]
    },
    {
      "cell_type": "code",
      "execution_count": 10,
      "metadata": {
        "id": "oXmlxsZ2U6tx"
      },
      "outputs": [],
      "source": [
        "from collections import OrderedDict\n",
        "from typing import Dict, List, Tuple, Union, Optional\n",
        "from flwr.server.client_proxy import ClientProxy\n",
        "import random\n",
        "from flwr.common import NDArrays, Scalar, Parameters\n",
        "\n",
        "\n",
        "class FlowerClient(fl.client.NumPyClient):\n",
        "    def __init__(self, cid, trainloader, testloader):\n",
        "        super().__init__()\n",
        "\n",
        "        self.trainloader = trainloader\n",
        "        self.testloader = testloader\n",
        "        self.cid = cid\n",
        "        self.model = Net()\n",
        "        self.discriminator = Discriminator()\n",
        "        self.generator = Generator()\n",
        "        # Determine device\n",
        "        self.device = torch.device(\"cuda:0\" if torch.cuda.is_available() else \"cpu\")\n",
        "        self.model.to(self.device)  # send model to device\n",
        "        self.discriminator.to(self.device)\n",
        "        self.generator.to(self.device)\n",
        "\n",
        "    def set_parameters(self, parameters):\n",
        "        \"\"\"With the model paramters received from the server,\n",
        "        overwrite the uninitialise model in this class with them.\"\"\"\n",
        "\n",
        "        params_dict = zip(self.model.state_dict().keys(), parameters)\n",
        "        state_dict = OrderedDict({k: torch.Tensor(v) for k, v in params_dict})\n",
        "        # now replace the parameters\n",
        "        self.discriminator.load_state_dict(state_dict, strict=False)\n",
        "        self.model.load_state_dict(state_dict, strict=True)\n",
        "\n",
        "    def get_parameters(self, config: Dict[str, Scalar]):\n",
        "        \"\"\"Extract all model parameters and conver them to a list of\n",
        "        NumPy arryas. The server doesn't work with PyTorch/TF/etc.\"\"\"\n",
        "        print(f\"[Client {self.cid}] get_parameters\")\n",
        "        return [val.cpu().numpy() for _, val in self.model.state_dict().items()]\n",
        "\n",
        "    def fit(self, parameters, config):\n",
        "        \"\"\"This method train the model using the parameters sent by the\n",
        "        server on the dataset of this client. At then end, the parameters\n",
        "        of the locally trained model are communicated back to the server\"\"\"\n",
        "        print(f\"[Client {self.cid}] fit, config: {config}\")\n",
        "        # copy parameters sent by the server into client's local model\n",
        "        self.set_parameters(parameters)\n",
        "        lr, epochs = config[\"lr\"], config[\"epochs\"]\n",
        "        train(self.model, self.trainloader, lr=lr, epochs=epochs, device=self.device)\n",
        "        # return the model parameters to the server as well as extra info (number of training examples in this case)\n",
        "        return self.get_parameters({}), len(self.trainloader), {}\n",
        "\n",
        "    def evaluate(self, parameters: NDArrays, config: Dict[str, Scalar]):\n",
        "        \"\"\"Evaluate the model sent by the server on this client's\n",
        "        local validation set. Then return performance metrics.\"\"\"\n",
        "        print(f\"[Client {self.cid}] evaluate, config: {config}\")\n",
        "        self.set_parameters(parameters)\n",
        "        loss, accuracy = test(self.model, self.testloader, device=self.device)\n",
        "        # send statistics back to the server\n",
        "        print(\"local acc:\", 100 * accuracy)\n",
        "        return float(loss), len(self.testloader), {\"accuracy\": accuracy}"
      ]
    },
    {
      "cell_type": "code",
      "execution_count": 11,
      "metadata": {
        "id": "M4qIvPT-U6tx"
      },
      "outputs": [],
      "source": [
        "def get_evaluate_fn(testloader):\n",
        "    \"\"\"This is a function that returns a function. The returned\n",
        "    function (i.e. `evaluate_fn`) will be executed by the strategy\n",
        "    at the end of each round to evaluate the stat of the global\n",
        "    model.\"\"\"\n",
        "\n",
        "    def evaluate_fn(server_round: int, parameters, config):\n",
        "        \"\"\"This function is executed by the strategy it will instantiate\n",
        "        a model and replace its parameters with those from the global model.\n",
        "        The, the model will be evaluate on the test set (recall this is the\n",
        "        whole MNIST test set).\"\"\"\n",
        "\n",
        "        model = Net()\n",
        "\n",
        "        # Determine device\n",
        "        device = torch.device(\"cuda:0\" if torch.cuda.is_available() else \"cpu\")\n",
        "        model.to(device)  # send model to device\n",
        "\n",
        "        # set parameters to the model\n",
        "        params_dict = zip(model.state_dict().keys(), parameters)\n",
        "        state_dict = OrderedDict({k: torch.Tensor(v) for k, v in params_dict})\n",
        "        model.load_state_dict(state_dict, strict=True)\n",
        "        # call test\n",
        "        print('GLOBAL EVALUATE')\n",
        "        loss, accuracy = test(model, testloader, device)\n",
        "        return loss, {\"accuracy\": accuracy}\n",
        "\n",
        "    return evaluate_fn"
      ]
    },
    {
      "cell_type": "code",
      "execution_count": 12,
      "metadata": {
        "id": "qLro1MJ0U6tx"
      },
      "outputs": [],
      "source": [
        "from flwr.common import Metrics, FitRes\n",
        "\n",
        "\n",
        "def fit_config(server_round: int) -> Dict[str, Scalar]:\n",
        "    \"\"\"Return a configuration with static batch size and (local) epochs.\"\"\"\n",
        "    config = {\n",
        "        \"epochs\": 10,  # Number of local epochs done by clients\n",
        "        \"lr\": 0.1,  # Learning rate to use by clients during fit()\n",
        "        \"attacker_epochs\": 20,\n",
        "        \"attacker_lr\": 0.05,\n",
        "    }\n",
        "    return config\n",
        "\n",
        "\n",
        "def weighted_average(metrics: List[Tuple[int, Metrics]]) -> Metrics:\n",
        "    \"\"\"Aggregation function for (federated) evaluation metrics, i.e. those returned by\n",
        "    the client's evaluate() method.\"\"\"\n",
        "    # Multiply accuracy of each client by number of examples used\n",
        "    accuracies = [num_examples * m[\"accuracy\"] for num_examples, m in metrics]\n",
        "    examples = [num_examples for num_examples, _ in metrics]\n",
        "\n",
        "    # Aggregate and return custom metric (weighted average)\n",
        "    return {\"accuracy\": sum(accuracies) / sum(examples)}"
      ]
    },
    {
      "cell_type": "markdown",
      "metadata": {
        "id": "5SDKardSU6tx"
      },
      "source": [
        "Now we can define our strategy:"
      ]
    },
    {
      "cell_type": "code",
      "source": [
        "import numpy as np\n",
        "class SaveModelStrategy(fl.server.strategy.FedAvg):\n",
        "    def aggregate_fit(\n",
        "        self,\n",
        "        server_round: int,\n",
        "        results: List[Tuple[fl.server.client_proxy.ClientProxy, fl.common.FitRes]],\n",
        "        failures: List[Union[Tuple[ClientProxy, FitRes], BaseException]],\n",
        "    ) -> Tuple[Optional[Parameters], Dict[str, Scalar]]:\n",
        "        \"\"\"Aggregate model weights using weighted average and store checkpoint\"\"\"\n",
        "        model=Net()\n",
        "        # Call aggregate_fit from base class (FedAvg) to aggregate parameters and metrics\n",
        "        aggregated_parameters, aggregated_metrics = super().aggregate_fit(server_round, results, failures)\n",
        "\n",
        "        if aggregated_parameters is not None:\n",
        "            print(f\"Saving round {server_round} aggregated_parameters...\")\n",
        "\n",
        "            # Convert `Parameters` to `List[np.ndarray]`\n",
        "            aggregated_ndarrays: List[np.ndarray] = fl.common.parameters_to_ndarrays(aggregated_parameters)\n",
        "\n",
        "            # Convert `List[np.ndarray]` to PyTorch`state_dict`\n",
        "            params_dict = zip(model.state_dict().keys(), aggregated_ndarrays)\n",
        "            state_dict = OrderedDict({k: torch.tensor(v) for k, v in params_dict})\n",
        "            model.load_state_dict(state_dict, strict=True)\n",
        "\n",
        "            # Save the model\n",
        "            torch.save(model.state_dict(), f\"model_round_{server_round}.pth\")\n",
        "        return aggregated_parameters, aggregated_metrics"
      ],
      "metadata": {
        "id": "ExtVPOzmDoc6"
      },
      "execution_count": 13,
      "outputs": []
    },
    {
      "cell_type": "code",
      "execution_count": 14,
      "metadata": {
        "id": "dbpajgBRU6ty"
      },
      "outputs": [],
      "source": [
        "strategy = SaveModelStrategy(\n",
        "    fraction_fit=0.38,  # Sample 10% of available clients for training\n",
        "    fraction_evaluate=0.38,  # Sample 10% of available clients for evaluation\n",
        "    on_fit_config_fn=fit_config,\n",
        "    evaluate_metrics_aggregation_fn=weighted_average,  # aggregates federated metrics\n",
        "    evaluate_fn=get_evaluate_fn(alltestloader),  # global evaluation function\n",
        ")"
      ]
    },
    {
      "cell_type": "code",
      "source": [
        "# def get_client_fn(trainloader, testloader):\n",
        "#     \"\"\"Return a function to construct a client.\n",
        "\n",
        "#     The VirtualClientEngine will execute this function whenever a client is sampled by\n",
        "#     the strategy to participate.\n",
        "#     \"\"\"\n",
        "\n",
        "#     def client_fn(cid: str) -> fl.client.Client:\n",
        "#         \"\"\"Construct a FlowerClient with its own dataset partition.\"\"\"\n",
        "#         return FlowerClient(trainloader=trainloader[int(cid)], testloader=testloader)\n",
        "\n",
        "#     return client_fn\n",
        "\n",
        "\n",
        "# client_fn_callback = get_client_fn(trainloader, testloader)"
      ],
      "metadata": {
        "id": "yEKS3DuLoFG9"
      },
      "execution_count": 15,
      "outputs": []
    },
    {
      "cell_type": "code",
      "source": [
        "import random\n",
        "def get_client_fn(trainloader, testloader):\n",
        "    \"\"\"Return a function to construct a client.\n",
        "\n",
        "    The VirtualClientEngine will execute this function whenever a client is sampled by\n",
        "    the strategy to participate.\n",
        "    \"\"\"\n",
        "\n",
        "    def client_fn(cid) -> FlowerClient:\n",
        "        \"\"\"Construct a FlowerClient with its own dataset partition.\"\"\"\n",
        "        return FlowerClient(cid, trainloader=trainloader[int(cid)], testloader=testloader[int(cid)])\n",
        "\n",
        "    return client_fn\n",
        "client_fn_callback = get_client_fn(trainloader, testloader)"
      ],
      "metadata": {
        "id": "PlK8c8QK9kTp"
      },
      "execution_count": 16,
      "outputs": []
    },
    {
      "cell_type": "code",
      "execution_count": 17,
      "metadata": {
        "id": "drd9s5QsU6ty",
        "colab": {
          "base_uri": "https://localhost:8080/"
        },
        "outputId": "c58cfe89-d14a-495f-9342-da277c7a1224"
      },
      "outputs": [
        {
          "output_type": "stream",
          "name": "stderr",
          "text": [
            "INFO flwr 2023-12-28 07:11:53,091 | app.py:178 | Starting Flower simulation, config: ServerConfig(num_rounds=20, round_timeout=None)\n",
            "INFO:flwr:Starting Flower simulation, config: ServerConfig(num_rounds=20, round_timeout=None)\n",
            "2023-12-28 07:11:58,101\tINFO worker.py:1621 -- Started a local Ray instance.\n",
            "INFO flwr 2023-12-28 07:12:01,702 | app.py:213 | Flower VCE: Ray initialized with resources: {'CPU': 2.0, 'GPU': 1.0, 'node:172.28.0.12': 1.0, 'node:__internal_head__': 1.0, 'memory': 7689432270.0, 'object_store_memory': 3844716134.0}\n",
            "INFO:flwr:Flower VCE: Ray initialized with resources: {'CPU': 2.0, 'GPU': 1.0, 'node:172.28.0.12': 1.0, 'node:__internal_head__': 1.0, 'memory': 7689432270.0, 'object_store_memory': 3844716134.0}\n",
            "INFO flwr 2023-12-28 07:12:01,705 | app.py:219 | Optimize your simulation with Flower VCE: https://flower.dev/docs/framework/how-to-run-simulations.html\n",
            "INFO:flwr:Optimize your simulation with Flower VCE: https://flower.dev/docs/framework/how-to-run-simulations.html\n",
            "INFO flwr 2023-12-28 07:12:01,715 | app.py:242 | Flower VCE: Resources for each Virtual Client: {'num_cpus': 0.2, 'num_gpus': 0.1}\n",
            "INFO:flwr:Flower VCE: Resources for each Virtual Client: {'num_cpus': 0.2, 'num_gpus': 0.1}\n",
            "INFO flwr 2023-12-28 07:12:01,841 | app.py:288 | Flower VCE: Creating VirtualClientEngineActorPool with 10 actors\n",
            "INFO:flwr:Flower VCE: Creating VirtualClientEngineActorPool with 10 actors\n",
            "INFO flwr 2023-12-28 07:12:01,850 | server.py:89 | Initializing global parameters\n",
            "INFO:flwr:Initializing global parameters\n",
            "INFO flwr 2023-12-28 07:12:01,855 | server.py:276 | Requesting initial parameters from one random client\n",
            "INFO:flwr:Requesting initial parameters from one random client\n",
            "2023-12-28 07:12:13,193\tWARNING worker.py:2037 -- WARNING: 8 PYTHON worker processes have been started on node: b6c5fc7f38878e3cbda607eaa2a23a4f1f094a8ddb9e371c420c7fe3 with address: 172.28.0.12. This could be a result of using a large number of actors, or due to tasks blocked in ray.get() calls (see https://github.com/ray-project/ray/issues/3644 for some discussion of workarounds).\n",
            "\u001b[2m\u001b[36m(pid=13401)\u001b[0m 2023-12-28 07:12:18.751888: E external/local_xla/xla/stream_executor/cuda/cuda_dnn.cc:9261] Unable to register cuDNN factory: Attempting to register factory for plugin cuDNN when one has already been registered\n",
            "\u001b[2m\u001b[36m(pid=13401)\u001b[0m 2023-12-28 07:12:18.751952: E external/local_xla/xla/stream_executor/cuda/cuda_fft.cc:607] Unable to register cuFFT factory: Attempting to register factory for plugin cuFFT when one has already been registered\n",
            "\u001b[2m\u001b[36m(pid=13401)\u001b[0m 2023-12-28 07:12:18.769759: E external/local_xla/xla/stream_executor/cuda/cuda_blas.cc:1515] Unable to register cuBLAS factory: Attempting to register factory for plugin cuBLAS when one has already been registered\n",
            "\u001b[2m\u001b[36m(pid=13217)\u001b[0m 2023-12-28 07:12:28.949399: W tensorflow/compiler/tf2tensorrt/utils/py_utils.cc:38] TF-TRT Warning: Could not find TensorRT\n",
            "\u001b[2m\u001b[36m(pid=13426)\u001b[0m 2023-12-28 07:12:20.967971: E external/local_xla/xla/stream_executor/cuda/cuda_dnn.cc:9261] Unable to register cuDNN factory: Attempting to register factory for plugin cuDNN when one has already been registered\u001b[32m [repeated 9x across cluster] (Ray deduplicates logs by default. Set RAY_DEDUP_LOGS=0 to disable log deduplication, or see https://docs.ray.io/en/master/ray-observability/ray-logging.html#log-deduplication for more options.)\u001b[0m\n",
            "\u001b[2m\u001b[36m(pid=13426)\u001b[0m 2023-12-28 07:12:20.968035: E external/local_xla/xla/stream_executor/cuda/cuda_fft.cc:607] Unable to register cuFFT factory: Attempting to register factory for plugin cuFFT when one has already been registered\u001b[32m [repeated 9x across cluster]\u001b[0m\n",
            "\u001b[2m\u001b[36m(pid=13426)\u001b[0m 2023-12-28 07:12:20.978677: E external/local_xla/xla/stream_executor/cuda/cuda_blas.cc:1515] Unable to register cuBLAS factory: Attempting to register factory for plugin cuBLAS when one has already been registered\u001b[32m [repeated 9x across cluster]\u001b[0m\n",
            "INFO flwr 2023-12-28 07:12:50,494 | server.py:280 | Received initial parameters from one random client\n",
            "INFO:flwr:Received initial parameters from one random client\n",
            "INFO flwr 2023-12-28 07:12:50,497 | server.py:91 | Evaluating initial parameters\n",
            "INFO:flwr:Evaluating initial parameters\n"
          ]
        },
        {
          "output_type": "stream",
          "name": "stdout",
          "text": [
            "\u001b[2m\u001b[36m(DefaultActor pid=13426)\u001b[0m [Client 26] get_parameters\n",
            "GLOBAL EVALUATE\n"
          ]
        },
        {
          "output_type": "stream",
          "name": "stderr",
          "text": [
            "100%|██████████| 10000/10000 [00:16<00:00, 621.42it/s]\n",
            "INFO flwr 2023-12-28 07:13:06,899 | server.py:94 | initial parameters (loss, other metrics): 23025.871356725693, {'accuracy': 0.1032}\n",
            "INFO:flwr:initial parameters (loss, other metrics): 23025.871356725693, {'accuracy': 0.1032}\n",
            "INFO flwr 2023-12-28 07:13:06,901 | server.py:104 | FL starting\n",
            "INFO:flwr:FL starting\n",
            "DEBUG flwr 2023-12-28 07:13:06,905 | server.py:222 | fit_round 1: strategy sampled 11 clients (out of 30)\n",
            "DEBUG:flwr:fit_round 1: strategy sampled 11 clients (out of 30)\n",
            "Victim Training::   0%|          | 0/8 [00:00<?, ?it/s]\n",
            "\u001b[2m\u001b[36m(pid=13354)\u001b[0m 2023-12-28 07:12:30.691458: W tensorflow/compiler/tf2tensorrt/utils/py_utils.cc:38] TF-TRT Warning: Could not find TensorRT\u001b[32m [repeated 9x across cluster]\u001b[0m\n",
            "\u001b[2m\u001b[36m(DefaultActor pid=13426)\u001b[0m /usr/local/lib/python3.10/dist-packages/torchvision/transforms/functional.py:1603: UserWarning: The default value of the antialias parameter of all the resizing transforms (Resize(), RandomResizedCrop(), etc.) will change from None to True in v0.17, in order to be consistent across the PIL and Tensor backends. To suppress this warning, directly pass antialias=True (recommended, future default), antialias=None (current default, which means False for Tensors and True for PIL), or antialias=False (only works on Tensors - PIL will still use antialiasing). This also applies if you are using the inference transforms from the models weights: update the call to weights.transforms(antialias=True).\n",
            "\u001b[2m\u001b[36m(DefaultActor pid=13426)\u001b[0m   warnings.warn(\n"
          ]
        },
        {
          "output_type": "stream",
          "name": "stdout",
          "text": [
            "\u001b[2m\u001b[36m(DefaultActor pid=13426)\u001b[0m [Client 20] fit, config: {'epochs': 10, 'lr': 0.1, 'attacker_epochs': 20, 'attacker_lr': 0.05}\n"
          ]
        },
        {
          "output_type": "stream",
          "name": "stderr",
          "text": [
            "Victim Training::  12%|█▎        | 1/8 [00:02<00:15,  2.26s/it]\n",
            "Victim Training::  25%|██▌       | 2/8 [00:02<00:07,  1.25s/it]\n",
            "Victim Training::  38%|███▊      | 3/8 [00:03<00:04,  1.03it/s]\n",
            "Victim Training::  50%|█████     | 4/8 [00:03<00:03,  1.28it/s]\n",
            "Victim Training::  62%|██████▎   | 5/8 [00:04<00:01,  1.81it/s]\n",
            "Victim Training::  75%|███████▌  | 6/8 [00:04<00:01,  1.97it/s]\n",
            "Victim Training::  88%|████████▊ | 7/8 [00:04<00:00,  2.32it/s]\n",
            "Victim Training:: 100%|██████████| 8/8 [00:05<00:00,  1.55it/s]\n",
            "Victim Training::   0%|          | 0/8 [00:00<?, ?it/s]\n",
            "Victim Training::  12%|█▎        | 1/8 [00:00<00:02,  2.37it/s]\n",
            "Victim Training::  25%|██▌       | 2/8 [00:00<00:02,  2.21it/s]\n",
            "Victim Training::  38%|███▊      | 3/8 [00:01<00:01,  2.81it/s]\n",
            "Victim Training::  50%|█████     | 4/8 [00:01<00:01,  2.89it/s]\n",
            "Victim Training::  62%|██████▎   | 5/8 [00:01<00:01,  2.48it/s]\n",
            "Victim Training::  75%|███████▌  | 6/8 [00:02<00:00,  2.34it/s]\n",
            "Victim Training::  88%|████████▊ | 7/8 [00:02<00:00,  2.29it/s]\n",
            "Victim Training:: 100%|██████████| 8/8 [00:03<00:00,  2.45it/s]\n",
            "Victim Training::   0%|          | 0/8 [00:00<?, ?it/s]\n",
            "Victim Training::  12%|█▎        | 1/8 [00:00<00:03,  2.17it/s]\n",
            "Victim Training::  25%|██▌       | 2/8 [00:00<00:02,  2.02it/s]\n",
            "Victim Training::  38%|███▊      | 3/8 [00:01<00:02,  1.99it/s]\n",
            "Victim Training::  50%|█████     | 4/8 [00:02<00:02,  1.66it/s]\n",
            "Victim Training::  62%|██████▎   | 5/8 [00:02<00:01,  1.54it/s]\n",
            "Victim Training::  75%|███████▌  | 6/8 [00:03<00:01,  1.39it/s]\n"
          ]
        },
        {
          "output_type": "stream",
          "name": "stdout",
          "text": [
            "\u001b[2m\u001b[36m(DefaultActor pid=13377)\u001b[0m [Client 3] fit, config: {'epochs': 10, 'lr': 0.1, 'attacker_epochs': 20, 'attacker_lr': 0.05}\n"
          ]
        },
        {
          "output_type": "stream",
          "name": "stderr",
          "text": [
            "\u001b[2m\u001b[36m(DefaultActor pid=13377)\u001b[0m /usr/local/lib/python3.10/dist-packages/torchvision/transforms/functional.py:1603: UserWarning: The default value of the antialias parameter of all the resizing transforms (Resize(), RandomResizedCrop(), etc.) will change from None to True in v0.17, in order to be consistent across the PIL and Tensor backends. To suppress this warning, directly pass antialias=True (recommended, future default), antialias=None (current default, which means False for Tensors and True for PIL), or antialias=False (only works on Tensors - PIL will still use antialiasing). This also applies if you are using the inference transforms from the models weights: update the call to weights.transforms(antialias=True).\n",
            "\u001b[2m\u001b[36m(DefaultActor pid=13377)\u001b[0m   warnings.warn(\n",
            "Victim Training::  88%|████████▊ | 7/8 [00:04<00:00,  1.44it/s]\n",
            "Victim Training:: 100%|██████████| 8/8 [00:04<00:00,  1.63it/s]\n"
          ]
        },
        {
          "output_type": "stream",
          "name": "stdout",
          "text": [
            "\u001b[2m\u001b[36m(DefaultActor pid=13331)\u001b[0m [Client 22] fit, config: {'epochs': 10, 'lr': 0.1, 'attacker_epochs': 20, 'attacker_lr': 0.05}\n"
          ]
        },
        {
          "output_type": "stream",
          "name": "stderr",
          "text": [
            "\u001b[2m\u001b[36m(DefaultActor pid=13331)\u001b[0m \rVictim Training::   0%|          | 0/9 [00:00<?, ?it/s]/usr/local/lib/python3.10/dist-packages/torchvision/transforms/functional.py:1603: UserWarning: The default value of the antialias parameter of all the resizing transforms (Resize(), RandomResizedCrop(), etc.) will change from None to True in v0.17, in order to be consistent across the PIL and Tensor backends. To suppress this warning, directly pass antialias=True (recommended, future default), antialias=None (current default, which means False for Tensors and True for PIL), or antialias=False (only works on Tensors - PIL will still use antialiasing). This also applies if you are using the inference transforms from the models weights: update the call to weights.transforms(antialias=True).\n",
            "Victim Training::   0%|          | 0/8 [00:00<?, ?it/s]\u001b[32m [repeated 2x across cluster]\u001b[0m\n",
            "Victim Training::  12%|█▎        | 1/8 [00:00<00:05,  1.36it/s]\n",
            "Victim Training::  25%|██▌       | 2/8 [00:01<00:04,  1.50it/s]\n",
            "Victim Training::  38%|███▊      | 3/8 [00:02<00:03,  1.42it/s]\n",
            "Victim Training:: 100%|██████████| 8/8 [00:04<00:00,  1.93it/s]\n",
            "\u001b[2m\u001b[36m(DefaultActor pid=13306)\u001b[0m   warnings.warn(\u001b[32m [repeated 4x across cluster]\u001b[0m\n",
            "Victim Training::   0%|          | 0/8 [00:00<?, ?it/s]/usr/local/lib/python3.10/dist-packages/torchvision/transforms/functional.py:1603: UserWarning: The default value of the antialias parameter of all the resizing transforms (Resize(), RandomResizedCrop(), etc.) will change from None to True in v0.17, in order to be consistent across the PIL and Tensor backends. To suppress this warning, directly pass antialias=True (recommended, future default), antialias=None (current default, which means False for Tensors and True for PIL), or antialias=False (only works on Tensors - PIL will still use antialiasing). This also applies if you are using the inference transforms from the models weights: update the call to weights.transforms(antialias=True).\u001b[32m [repeated 3x across cluster]\u001b[0m\n",
            "Victim Training::   0%|          | 0/8 [00:00<?, ?it/s]\n",
            "Victim Training::  67%|██████▋   | 6/9 [00:03<00:01,  2.83it/s]\u001b[32m [repeated 31x across cluster]\u001b[0m\n",
            "Victim Training:: 100%|██████████| 9/9 [00:07<00:00,  1.27it/s]\n",
            "Victim Training::   0%|          | 0/9 [00:00<?, ?it/s]\n",
            "Victim Training:: 100%|██████████| 9/9 [00:05<00:00,  1.50it/s]\n",
            "Victim Training:: 100%|██████████| 8/8 [00:02<00:00,  2.85it/s]\n",
            "Victim Training::  38%|███▊      | 3/8 [00:01<00:02,  2.24it/s]\u001b[32m [repeated 70x across cluster]\u001b[0m\n",
            "Victim Training:: 100%|██████████| 8/8 [00:03<00:00,  2.58it/s]\u001b[32m [repeated 6x across cluster]\u001b[0m\n",
            "Victim Training::   0%|          | 0/8 [00:00<?, ?it/s]\u001b[32m [repeated 11x across cluster]\u001b[0m\n",
            "Victim Training:: 100%|██████████| 9/9 [00:03<00:00,  2.79it/s]\u001b[32m [repeated 3x across cluster]\u001b[0m\n",
            "Victim Training:: 100%|██████████| 8/8 [00:02<00:00,  2.87it/s]\n",
            "Victim Training::  11%|█         | 1/9 [00:02<00:17,  2.22s/it]\u001b[32m [repeated 43x across cluster]\u001b[0m\n",
            "Victim Training:: 100%|██████████| 8/8 [00:05<00:00,  1.47it/s]\u001b[32m [repeated 5x across cluster]\u001b[0m\n",
            "Victim Training::   0%|          | 0/8 [00:00<?, ?it/s]\u001b[32m [repeated 6x across cluster]\u001b[0m\n",
            "Victim Training:: 100%|██████████| 8/8 [00:05<00:00,  1.51it/s]\n",
            "Victim Training:: 100%|██████████| 9/9 [00:07<00:00,  1.27it/s]\n",
            "Victim Training::  22%|██▏       | 2/9 [00:00<00:01,  3.63it/s]\u001b[32m [repeated 47x across cluster]\u001b[0m\n",
            "Victim Training:: 100%|██████████| 8/8 [00:05<00:00,  1.39it/s]\u001b[32m [repeated 3x across cluster]\u001b[0m\n",
            "Victim Training::   0%|          | 0/8 [00:00<?, ?it/s]\u001b[32m [repeated 7x across cluster]\u001b[0m\n",
            "Victim Training:: 100%|██████████| 9/9 [00:05<00:00,  1.65it/s]\n",
            "Victim Training:: 100%|██████████| 8/8 [00:02<00:00,  2.95it/s]\n",
            "Victim Training:: 100%|██████████| 8/8 [00:03<00:00,  2.09it/s]\n",
            "Victim Training::  78%|███████▊  | 7/9 [00:03<00:00,  2.08it/s]\u001b[32m [repeated 71x across cluster]\u001b[0m\n",
            "Victim Training:: 100%|██████████| 8/8 [00:02<00:00,  3.00it/s]\n"
          ]
        },
        {
          "output_type": "stream",
          "name": "stdout",
          "text": [
            "\u001b[2m\u001b[36m(DefaultActor pid=13426)\u001b[0m [Client 20] get_parameters\n",
            "\u001b[2m\u001b[36m(DefaultActor pid=13306)\u001b[0m [Client 2] fit, config: {'epochs': 10, 'lr': 0.1, 'attacker_epochs': 20, 'attacker_lr': 0.05}\u001b[32m [repeated 3x across cluster]\u001b[0m\n"
          ]
        },
        {
          "output_type": "stream",
          "name": "stderr",
          "text": [
            "\u001b[2m\u001b[36m(DefaultActor pid=13306)\u001b[0m \rVictim Training:: 100%|██████████| 8/8 [00:03<00:00,  2.68it/s]\rVictim Training:: 100%|██████████| 8/8 [00:03<00:00,  2.36it/s]\u001b[32m [repeated 6x across cluster]\u001b[0m\n",
            "Victim Training::   0%|          | 0/8 [00:00<?, ?it/s]\u001b[32m [repeated 9x across cluster]\u001b[0m\n",
            "Victim Training:: 100%|██████████| 9/9 [00:03<00:00,  2.68it/s]\u001b[32m [repeated 3x across cluster]\u001b[0m\n",
            "Victim Training::  78%|███████▊  | 7/9 [00:03<00:01,  1.73it/s]\u001b[32m [repeated 58x across cluster]\u001b[0m\n",
            "Victim Training:: 100%|██████████| 9/9 [00:03<00:00,  2.52it/s]\n",
            "Victim Training:: 100%|██████████| 9/9 [00:04<00:00,  2.05it/s]\u001b[32m [repeated 5x across cluster]\u001b[0m\n",
            "Victim Training::   0%|          | 0/9 [00:00<?, ?it/s]\u001b[32m [repeated 9x across cluster]\u001b[0m\n",
            "Victim Training:: 100%|██████████| 8/8 [00:04<00:00,  1.97it/s]\n",
            "Victim Training:: 100%|██████████| 8/8 [00:04<00:00,  1.77it/s]\n",
            "Victim Training::  25%|██▌       | 2/8 [00:00<00:02,  2.29it/s]\u001b[32m [repeated 50x across cluster]\u001b[0m\n",
            "Victim Training:: 100%|██████████| 9/9 [00:04<00:00,  1.90it/s]\u001b[32m [repeated 3x across cluster]\u001b[0m\n",
            "Victim Training::   0%|          | 0/9 [00:00<?, ?it/s]\u001b[32m [repeated 6x across cluster]\u001b[0m\n"
          ]
        },
        {
          "output_type": "stream",
          "name": "stdout",
          "text": [
            "\u001b[2m\u001b[36m(DefaultActor pid=13401)\u001b[0m [Client 15] get_parameters\n",
            "\u001b[2m\u001b[36m(DefaultActor pid=13426)\u001b[0m [Client 23] fit, config: {'epochs': 10, 'lr': 0.1, 'attacker_epochs': 20, 'attacker_lr': 0.05}\n",
            "\u001b[2m\u001b[36m(DefaultActor pid=13401)\u001b[0m [Client 9] fit, config: {'epochs': 10, 'lr': 0.1, 'attacker_epochs': 20, 'attacker_lr': 0.05}\n"
          ]
        },
        {
          "output_type": "stream",
          "name": "stderr",
          "text": [
            "Victim Training:: 100%|██████████| 9/9 [00:03<00:00,  2.42it/s]\n",
            "Victim Training:: 100%|██████████| 9/9 [00:03<00:00,  2.80it/s]\u001b[32m [repeated 5x across cluster]\u001b[0m\n",
            "Victim Training::  56%|█████▌    | 5/9 [00:01<00:01,  2.67it/s]\u001b[32m [repeated 69x across cluster]\u001b[0m\n"
          ]
        },
        {
          "output_type": "stream",
          "name": "stdout",
          "text": [
            "\u001b[2m\u001b[36m(DefaultActor pid=13306)\u001b[0m [Client 2] get_parameters\n"
          ]
        },
        {
          "output_type": "stream",
          "name": "stderr",
          "text": [
            "\u001b[2m\u001b[36m(DefaultActor pid=13401)\u001b[0m \rVictim Training:: 100%|██████████| 8/8 [00:03<00:00,  1.92it/s]\rVictim Training:: 100%|██████████| 8/8 [00:03<00:00,  2.09it/s]\u001b[32m [repeated 4x across cluster]\u001b[0m\n",
            "\u001b[2m\u001b[36m(DefaultActor pid=13401)\u001b[0m \rVictim Training::   0%|          | 0/8 [00:00<?, ?it/s]\u001b[32m [repeated 7x across cluster]\u001b[0m\n"
          ]
        },
        {
          "output_type": "stream",
          "name": "stdout",
          "text": [
            "\u001b[2m\u001b[36m(DefaultActor pid=13354)\u001b[0m [Client 24] fit, config: {'epochs': 10, 'lr': 0.1, 'attacker_epochs': 20, 'attacker_lr': 0.05}\u001b[32m [repeated 2x across cluster]\u001b[0m\n"
          ]
        },
        {
          "output_type": "stream",
          "name": "stderr",
          "text": [
            "Victim Training:: 100%|██████████| 9/9 [00:04<00:00,  2.24it/s]\n",
            "Victim Training::  78%|███████▊  | 7/9 [00:02<00:00,  2.08it/s]\u001b[32m [repeated 55x across cluster]\u001b[0m\n",
            "Victim Training:: 100%|██████████| 8/8 [00:04<00:00,  1.93it/s]\u001b[32m [repeated 8x across cluster]\u001b[0m\n",
            "Victim Training::   0%|          | 0/8 [00:00<?, ?it/s]\u001b[32m [repeated 9x across cluster]\u001b[0m\n",
            "Victim Training:: 100%|██████████| 8/8 [00:03<00:00,  2.06it/s]\n",
            "Victim Training::  89%|████████▉ | 8/9 [00:04<00:00,  1.92it/s]\u001b[32m [repeated 42x across cluster]\u001b[0m\n",
            "Victim Training:: 100%|██████████| 9/9 [00:04<00:00,  2.04it/s]\u001b[32m [repeated 4x across cluster]\u001b[0m\n",
            "Victim Training::   0%|          | 0/9 [00:00<?, ?it/s]\u001b[32m [repeated 5x across cluster]\u001b[0m\n",
            "Victim Training:: 100%|██████████| 8/8 [00:02<00:00,  3.17it/s]\n",
            "Victim Training:: 100%|██████████| 8/8 [00:01<00:00,  4.03it/s]\n",
            "Victim Training:: 100%|██████████| 9/9 [00:02<00:00,  3.39it/s]\n",
            "Victim Training::  50%|█████     | 4/8 [00:00<00:00,  6.03it/s]\u001b[32m [repeated 67x across cluster]\u001b[0m\n",
            "Victim Training:: 100%|██████████| 8/8 [00:02<00:00,  3.07it/s]\u001b[32m [repeated 6x across cluster]\u001b[0m\n",
            "Victim Training::   0%|          | 0/9 [00:00<?, ?it/s]\u001b[32m [repeated 10x across cluster]\u001b[0m\n",
            "Victim Training:: 100%|██████████| 8/8 [00:02<00:00,  2.84it/s]\n",
            "Victim Training:: 100%|██████████| 9/9 [00:02<00:00,  3.15it/s]\n",
            "Victim Training::  67%|██████▋   | 6/9 [00:01<00:00,  4.01it/s]\u001b[32m [repeated 67x across cluster]\u001b[0m\n",
            "Victim Training:: 100%|██████████| 8/8 [00:03<00:00,  2.49it/s]\u001b[32m [repeated 6x across cluster]\u001b[0m\n",
            "Victim Training::   0%|          | 0/8 [00:00<?, ?it/s]\u001b[32m [repeated 9x across cluster]\u001b[0m\n"
          ]
        },
        {
          "output_type": "stream",
          "name": "stdout",
          "text": [
            "\u001b[2m\u001b[36m(DefaultActor pid=13426)\u001b[0m [Client 23] get_parameters\u001b[32m [repeated 4x across cluster]\u001b[0m\n",
            "\u001b[2m\u001b[36m(DefaultActor pid=13331)\u001b[0m [Client 17] fit, config: {'epochs': 10, 'lr': 0.1, 'attacker_epochs': 20, 'attacker_lr': 0.05}\n"
          ]
        },
        {
          "output_type": "stream",
          "name": "stderr",
          "text": [
            "Victim Training:: 100%|██████████| 8/8 [00:02<00:00,  3.23it/s]\u001b[32m [repeated 2x across cluster]\u001b[0m\n",
            "Victim Training:: 100%|██████████| 8/8 [00:02<00:00,  3.46it/s]\n",
            "Victim Training::  88%|████████▊ | 7/8 [00:03<00:00,  2.26it/s]\u001b[32m [repeated 46x across cluster]\u001b[0m\n",
            "Victim Training:: 100%|██████████| 8/8 [00:03<00:00,  2.24it/s]\u001b[32m [repeated 6x across cluster]\u001b[0m\n",
            "Victim Training::   0%|          | 0/8 [00:00<?, ?it/s]\u001b[32m [repeated 7x across cluster]\u001b[0m\n",
            "Victim Training:: 100%|██████████| 8/8 [00:03<00:00,  2.37it/s]\n",
            "Victim Training:: 100%|██████████| 8/8 [00:02<00:00,  3.34it/s]\n"
          ]
        },
        {
          "output_type": "stream",
          "name": "stdout",
          "text": [
            "\u001b[2m\u001b[36m(DefaultActor pid=13401)\u001b[0m [Client 9] get_parameters\n"
          ]
        },
        {
          "output_type": "stream",
          "name": "stderr",
          "text": [
            "\u001b[2m\u001b[36m(DefaultActor pid=13331)\u001b[0m \rVictim Training:: 100%|██████████| 8/8 [00:01<00:00,  4.81it/s]\n"
          ]
        },
        {
          "output_type": "stream",
          "name": "stdout",
          "text": [
            "\u001b[2m\u001b[36m(DefaultActor pid=13331)\u001b[0m [Client 17] get_parameters\n"
          ]
        },
        {
          "output_type": "stream",
          "name": "stderr",
          "text": [
            "DEBUG flwr 2023-12-28 07:14:32,748 | server.py:236 | fit_round 1 received 11 results and 0 failures\n",
            "DEBUG:flwr:fit_round 1 received 11 results and 0 failures\n",
            "WARNING flwr 2023-12-28 07:14:32,835 | fedavg.py:242 | No fit_metrics_aggregation_fn provided\n",
            "WARNING:flwr:No fit_metrics_aggregation_fn provided\n"
          ]
        },
        {
          "output_type": "stream",
          "name": "stdout",
          "text": [
            "Saving round 1 aggregated_parameters...\n",
            "GLOBAL EVALUATE\n"
          ]
        },
        {
          "output_type": "stream",
          "name": "stderr",
          "text": [
            "100%|██████████| 10000/10000 [00:15<00:00, 639.68it/s]\n",
            "INFO flwr 2023-12-28 07:14:48,507 | server.py:125 | fit progress: (1, 23025.87290740013, {'accuracy': 0.1032}, 101.60167145600008)\n",
            "INFO:flwr:fit progress: (1, 23025.87290740013, {'accuracy': 0.1032}, 101.60167145600008)\n",
            "DEBUG flwr 2023-12-28 07:14:48,511 | server.py:173 | evaluate_round 1: strategy sampled 11 clients (out of 30)\n",
            "DEBUG:flwr:evaluate_round 1: strategy sampled 11 clients (out of 30)\n",
            "  0%|          | 0/2 [00:00<?, ?it/s]\n",
            "Victim Training:: 100%|██████████| 8/8 [00:01<00:00,  4.59it/s]\n",
            "Victim Training::  75%|███████▌  | 6/8 [00:00<00:00,  6.75it/s]\u001b[32m [repeated 55x across cluster]\u001b[0m\n",
            "Victim Training:: 100%|██████████| 8/8 [00:01<00:00,  7.07it/s]\u001b[32m [repeated 5x across cluster]\u001b[0m\n",
            "Victim Training::   0%|          | 0/8 [00:00<?, ?it/s]\u001b[32m [repeated 4x across cluster]\u001b[0m\n"
          ]
        },
        {
          "output_type": "stream",
          "name": "stdout",
          "text": [
            "\u001b[2m\u001b[36m(DefaultActor pid=13354)\u001b[0m [Client 11] evaluate, config: {}\n",
            "\u001b[2m\u001b[36m(DefaultActor pid=13354)\u001b[0m [Client 24] get_parameters\u001b[32m [repeated 2x across cluster]\u001b[0m\n"
          ]
        },
        {
          "output_type": "stream",
          "name": "stderr",
          "text": [
            " 50%|█████     | 1/2 [00:00<00:00,  2.35it/s]\n",
            "100%|██████████| 2/2 [00:00<00:00,  2.86it/s]\n"
          ]
        },
        {
          "output_type": "stream",
          "name": "stdout",
          "text": [
            "\u001b[2m\u001b[36m(DefaultActor pid=13354)\u001b[0m local acc: 0.0\n"
          ]
        },
        {
          "output_type": "stream",
          "name": "stderr",
          "text": [
            "DEBUG flwr 2023-12-28 07:14:51,750 | server.py:187 | evaluate_round 1 received 11 results and 0 failures\n",
            "DEBUG:flwr:evaluate_round 1 received 11 results and 0 failures\n",
            "DEBUG flwr 2023-12-28 07:14:51,753 | server.py:222 | fit_round 2: strategy sampled 11 clients (out of 30)\n",
            "DEBUG:flwr:fit_round 2: strategy sampled 11 clients (out of 30)\n"
          ]
        },
        {
          "output_type": "stream",
          "name": "stdout",
          "text": [
            "\u001b[2m\u001b[36m(DefaultActor pid=13401)\u001b[0m [Client 23] fit, config: {'epochs': 10, 'lr': 0.1, 'attacker_epochs': 20, 'attacker_lr': 0.05}\n"
          ]
        },
        {
          "output_type": "stream",
          "name": "stderr",
          "text": [
            "\u001b[2m\u001b[36m(DefaultActor pid=13401)\u001b[0m \r  0%|          | 0/2 [00:00<?, ?it/s]\u001b[32m [repeated 10x across cluster]\u001b[0m\n",
            "\u001b[2m\u001b[36m(DefaultActor pid=13306)\u001b[0m \rVictim Training::  25%|██▌       | 2/8 [00:01<00:03,  1.93it/s]\u001b[32m [repeated 14x across cluster]\u001b[0m\n",
            "Victim Training::   0%|          | 0/9 [00:00<?, ?it/s]\u001b[32m [repeated 6x across cluster]\u001b[0m\n",
            " 50%|█████     | 1/2 [00:00<00:00,  6.17it/s]\u001b[32m [repeated 9x across cluster]\u001b[0m\n",
            "100%|██████████| 2/2 [00:00<00:00, 15.03it/s]\u001b[32m [repeated 10x across cluster]\u001b[0m\n",
            "Victim Training:: 100%|██████████| 8/8 [00:03<00:00,  2.06it/s]\n",
            "Victim Training::  12%|█▎        | 1/8 [00:00<00:05,  1.39it/s]\u001b[32m [repeated 43x across cluster]\u001b[0m\n",
            "Victim Training::   0%|          | 0/8 [00:00<?, ?it/s]\u001b[32m [repeated 6x across cluster]\u001b[0m\n",
            "Victim Training:: 100%|██████████| 8/8 [00:04<00:00,  1.83it/s]\n",
            "Victim Training:: 100%|██████████| 9/9 [00:04<00:00,  2.04it/s]\n",
            "Victim Training:: 100%|██████████| 8/8 [00:05<00:00,  1.49it/s]\u001b[32m [repeated 5x across cluster]\u001b[0m\n",
            "Victim Training::  75%|███████▌  | 6/8 [00:02<00:01,  1.99it/s]\u001b[32m [repeated 62x across cluster]\u001b[0m\n",
            "Victim Training::   0%|          | 0/8 [00:00<?, ?it/s]\u001b[32m [repeated 7x across cluster]\u001b[0m\n",
            "Victim Training:: 100%|██████████| 9/9 [00:03<00:00,  2.32it/s]\n",
            "Victim Training:: 100%|██████████| 8/8 [00:02<00:00,  2.89it/s]\u001b[32m [repeated 2x across cluster]\u001b[0m\n",
            "Victim Training:: 100%|██████████| 8/8 [00:03<00:00,  2.63it/s]\u001b[32m [repeated 7x across cluster]\u001b[0m\n",
            "Victim Training:: 100%|██████████| 8/8 [00:02<00:00,  2.69it/s]\n",
            "Victim Training::  38%|███▊      | 3/8 [00:00<00:01,  4.74it/s]\u001b[32m [repeated 61x across cluster]\u001b[0m\n",
            "Victim Training::   0%|          | 0/8 [00:00<?, ?it/s]\u001b[32m [repeated 9x across cluster]\u001b[0m\n",
            "Victim Training:: 100%|██████████| 8/8 [00:03<00:00,  2.16it/s]\u001b[32m [repeated 7x across cluster]\u001b[0m\n",
            "Victim Training:: 100%|██████████| 8/8 [00:03<00:00,  2.26it/s]\n",
            "Victim Training::  78%|███████▊  | 7/9 [00:04<00:01,  1.93it/s]\u001b[32m [repeated 52x across cluster]\u001b[0m\n",
            "Victim Training::   0%|          | 0/8 [00:00<?, ?it/s]\u001b[32m [repeated 6x across cluster]\u001b[0m\n",
            "Victim Training:: 100%|██████████| 8/8 [00:04<00:00,  1.80it/s]\n",
            "Victim Training:: 100%|██████████| 8/8 [00:04<00:00,  1.67it/s]\u001b[32m [repeated 5x across cluster]\u001b[0m\n",
            "Victim Training::  75%|███████▌  | 6/8 [00:02<00:00,  2.18it/s]\u001b[32m [repeated 58x across cluster]\u001b[0m\n",
            "Victim Training::   0%|          | 0/9 [00:00<?, ?it/s]\u001b[32m [repeated 9x across cluster]\u001b[0m\n",
            "Victim Training:: 100%|██████████| 8/8 [00:03<00:00,  2.51it/s]\n",
            "Victim Training:: 100%|██████████| 9/9 [00:03<00:00,  2.47it/s]\n",
            "Victim Training:: 100%|██████████| 8/8 [00:03<00:00,  2.42it/s]\u001b[32m [repeated 6x across cluster]\u001b[0m\n",
            "Victim Training:: 100%|██████████| 8/8 [00:02<00:00,  2.94it/s]\n",
            "Victim Training::  50%|█████     | 4/8 [00:01<00:01,  2.14it/s]\u001b[32m [repeated 66x across cluster]\u001b[0m\n",
            "Victim Training::   0%|          | 0/8 [00:00<?, ?it/s]\u001b[32m [repeated 11x across cluster]\u001b[0m\n",
            "Victim Training:: 100%|██████████| 9/9 [00:02<00:00,  3.32it/s]\u001b[32m [repeated 2x across cluster]\u001b[0m\n"
          ]
        },
        {
          "output_type": "stream",
          "name": "stdout",
          "text": [
            "\u001b[2m\u001b[36m(DefaultActor pid=13401)\u001b[0m [Client 29] evaluate, config: {}\u001b[32m [repeated 10x across cluster]\u001b[0m\n",
            "\u001b[2m\u001b[36m(DefaultActor pid=13377)\u001b[0m [Client 17] get_parameters\n",
            "\u001b[2m\u001b[36m(DefaultActor pid=13401)\u001b[0m local acc: 0.0\u001b[32m [repeated 10x across cluster]\u001b[0m\n",
            "\u001b[2m\u001b[36m(DefaultActor pid=13426)\u001b[0m [Client 21] fit, config: {'epochs': 10, 'lr': 0.1, 'attacker_epochs': 20, 'attacker_lr': 0.05}\u001b[32m [repeated 5x across cluster]\u001b[0m\n"
          ]
        },
        {
          "output_type": "stream",
          "name": "stderr",
          "text": [
            "Victim Training:: 100%|██████████| 8/8 [00:03<00:00,  2.33it/s]\u001b[32m [repeated 5x across cluster]\u001b[0m\n",
            "Victim Training:: 100%|██████████| 9/9 [00:03<00:00,  2.73it/s]\u001b[32m [repeated 3x across cluster]\u001b[0m\n",
            "Victim Training::  56%|█████▌    | 5/9 [00:03<00:02,  1.48it/s]\u001b[32m [repeated 51x across cluster]\u001b[0m\n",
            "Victim Training::   0%|          | 0/8 [00:00<?, ?it/s]\u001b[32m [repeated 6x across cluster]\u001b[0m\n"
          ]
        },
        {
          "output_type": "stream",
          "name": "stdout",
          "text": [
            "\u001b[2m\u001b[36m(DefaultActor pid=13306)\u001b[0m [Client 18] get_parameters\n",
            "\u001b[2m\u001b[36m(DefaultActor pid=13377)\u001b[0m [Client 26] fit, config: {'epochs': 10, 'lr': 0.1, 'attacker_epochs': 20, 'attacker_lr': 0.05}\n"
          ]
        },
        {
          "output_type": "stream",
          "name": "stderr",
          "text": [
            "\u001b[2m\u001b[36m(DefaultActor pid=13354)\u001b[0m \rVictim Training:: 100%|██████████| 8/8 [00:05<00:00,  1.52it/s]\rVictim Training:: 100%|██████████| 8/8 [00:05<00:00,  1.46it/s]\u001b[32m [repeated 5x across cluster]\u001b[0m\n"
          ]
        },
        {
          "output_type": "stream",
          "name": "stdout",
          "text": [
            "\u001b[2m\u001b[36m(DefaultActor pid=13354)\u001b[0m [Client 19] fit, config: {'epochs': 10, 'lr': 0.1, 'attacker_epochs': 20, 'attacker_lr': 0.05}\n"
          ]
        },
        {
          "output_type": "stream",
          "name": "stderr",
          "text": [
            "Victim Training:: 100%|██████████| 9/9 [00:04<00:00,  1.84it/s]\n",
            "Victim Training::  62%|██████▎   | 5/8 [00:02<00:01,  2.15it/s]\u001b[32m [repeated 46x across cluster]\u001b[0m\n",
            "Victim Training::   0%|          | 0/9 [00:00<?, ?it/s]\u001b[32m [repeated 5x across cluster]\u001b[0m\n",
            "Victim Training:: 100%|██████████| 8/8 [00:03<00:00,  2.45it/s]\u001b[32m [repeated 6x across cluster]\u001b[0m\n",
            "Victim Training::  38%|███▊      | 3/8 [00:01<00:01,  2.81it/s]\u001b[32m [repeated 65x across cluster]\u001b[0m\n",
            "Victim Training::   0%|          | 0/8 [00:00<?, ?it/s]\u001b[32m [repeated 9x across cluster]\u001b[0m\n",
            "Victim Training:: 100%|██████████| 8/8 [00:02<00:00,  2.70it/s]\u001b[32m [repeated 10x across cluster]\u001b[0m\n",
            "Victim Training::  38%|███▊      | 3/8 [00:01<00:02,  1.82it/s]\u001b[32m [repeated 53x across cluster]\u001b[0m\n",
            "Victim Training::   0%|          | 0/9 [00:00<?, ?it/s]\u001b[32m [repeated 8x across cluster]\u001b[0m\n",
            "Victim Training:: 100%|██████████| 8/8 [00:04<00:00,  1.86it/s]\u001b[32m [repeated 6x across cluster]\u001b[0m\n",
            "Victim Training::  75%|███████▌  | 6/8 [00:02<00:00,  2.68it/s]\u001b[32m [repeated 54x across cluster]\u001b[0m\n",
            "Victim Training::   0%|          | 0/8 [00:00<?, ?it/s]\u001b[32m [repeated 7x across cluster]\u001b[0m\n",
            "Victim Training:: 100%|██████████| 8/8 [00:02<00:00,  2.76it/s]\u001b[32m [repeated 9x across cluster]\u001b[0m\n",
            "Victim Training::  25%|██▌       | 2/8 [00:00<00:02,  2.69it/s]\u001b[32m [repeated 70x across cluster]\u001b[0m\n",
            "Victim Training::   0%|          | 0/8 [00:00<?, ?it/s]\u001b[32m [repeated 9x across cluster]\u001b[0m\n",
            "Victim Training:: 100%|██████████| 8/8 [00:02<00:00,  3.21it/s]\u001b[32m [repeated 9x across cluster]\u001b[0m\n",
            "Victim Training::  89%|████████▉ | 8/9 [00:03<00:00,  2.08it/s]\u001b[32m [repeated 58x across cluster]\u001b[0m\n",
            "Victim Training::   0%|          | 0/8 [00:00<?, ?it/s]\u001b[32m [repeated 8x across cluster]\u001b[0m\n"
          ]
        },
        {
          "output_type": "stream",
          "name": "stdout",
          "text": [
            "\u001b[2m\u001b[36m(DefaultActor pid=13377)\u001b[0m [Client 26] get_parameters\u001b[32m [repeated 5x across cluster]\u001b[0m\n",
            "\u001b[2m\u001b[36m(DefaultActor pid=13401)\u001b[0m [Client 24] fit, config: {'epochs': 10, 'lr': 0.1, 'attacker_epochs': 20, 'attacker_lr': 0.05}\u001b[32m [repeated 3x across cluster]\u001b[0m\n"
          ]
        },
        {
          "output_type": "stream",
          "name": "stderr",
          "text": [
            "\u001b[2m\u001b[36m(DefaultActor pid=13354)\u001b[0m \rVictim Training:: 100%|██████████| 8/8 [00:03<00:00,  2.65it/s]\rVictim Training:: 100%|██████████| 8/8 [00:03<00:00,  2.21it/s]\u001b[32m [repeated 8x across cluster]\u001b[0m\n",
            "DEBUG flwr 2023-12-28 07:16:04,951 | server.py:236 | fit_round 2 received 11 results and 0 failures\n",
            "DEBUG:flwr:fit_round 2 received 11 results and 0 failures\n"
          ]
        },
        {
          "output_type": "stream",
          "name": "stdout",
          "text": [
            "Saving round 2 aggregated_parameters...\n",
            "GLOBAL EVALUATE\n"
          ]
        },
        {
          "output_type": "stream",
          "name": "stderr",
          "text": [
            "100%|██████████| 10000/10000 [00:15<00:00, 640.68it/s]\n",
            "INFO flwr 2023-12-28 07:16:20,648 | server.py:125 | fit progress: (2, 23025.873520612717, {'accuracy': 0.1032}, 193.74355655099998)\n",
            "INFO:flwr:fit progress: (2, 23025.873520612717, {'accuracy': 0.1032}, 193.74355655099998)\n",
            "DEBUG flwr 2023-12-28 07:16:20,654 | server.py:173 | evaluate_round 2: strategy sampled 11 clients (out of 30)\n",
            "DEBUG:flwr:evaluate_round 2: strategy sampled 11 clients (out of 30)\n",
            "  0%|          | 0/2 [00:00<?, ?it/s]\n",
            "Victim Training::  78%|███████▊  | 7/9 [00:01<00:00,  8.11it/s]\u001b[32m [repeated 38x across cluster]\u001b[0m\n",
            "Victim Training::   0%|          | 0/9 [00:00<?, ?it/s]\u001b[32m [repeated 4x across cluster]\u001b[0m\n",
            "Victim Training:: 100%|██████████| 9/9 [00:01<00:00,  6.98it/s]\u001b[32m [repeated 4x across cluster]\u001b[0m\n"
          ]
        },
        {
          "output_type": "stream",
          "name": "stdout",
          "text": [
            "\u001b[2m\u001b[36m(DefaultActor pid=13331)\u001b[0m [Client 29] evaluate, config: {}\n",
            "\u001b[2m\u001b[36m(DefaultActor pid=13331)\u001b[0m [Client 3] get_parameters\u001b[32m [repeated 4x across cluster]\u001b[0m\n"
          ]
        },
        {
          "output_type": "stream",
          "name": "stderr",
          "text": [
            "\u001b[2m\u001b[36m(DefaultActor pid=13331)\u001b[0m \r 50%|█████     | 1/2 [00:00<00:00,  4.26it/s]\n",
            "\u001b[2m\u001b[36m(DefaultActor pid=13331)\u001b[0m \r100%|██████████| 2/2 [00:00<00:00,  5.19it/s]\r100%|██████████| 2/2 [00:00<00:00,  5.02it/s]\n"
          ]
        },
        {
          "output_type": "stream",
          "name": "stdout",
          "text": [
            "\u001b[2m\u001b[36m(DefaultActor pid=13331)\u001b[0m local acc: 0.0\n"
          ]
        },
        {
          "output_type": "stream",
          "name": "stderr",
          "text": [
            "DEBUG flwr 2023-12-28 07:16:23,703 | server.py:187 | evaluate_round 2 received 11 results and 0 failures\n",
            "DEBUG:flwr:evaluate_round 2 received 11 results and 0 failures\n",
            "DEBUG flwr 2023-12-28 07:16:23,707 | server.py:222 | fit_round 3: strategy sampled 11 clients (out of 30)\n",
            "DEBUG:flwr:fit_round 3: strategy sampled 11 clients (out of 30)\n"
          ]
        },
        {
          "output_type": "stream",
          "name": "stdout",
          "text": [
            "\u001b[2m\u001b[36m(DefaultActor pid=13306)\u001b[0m [Client 19] fit, config: {'epochs': 10, 'lr': 0.1, 'attacker_epochs': 20, 'attacker_lr': 0.05}\n"
          ]
        },
        {
          "output_type": "stream",
          "name": "stderr",
          "text": [
            "\u001b[2m\u001b[36m(DefaultActor pid=13306)\u001b[0m \r  0%|          | 0/2 [00:00<?, ?it/s]\u001b[32m [repeated 10x across cluster]\u001b[0m\n",
            "\u001b[2m\u001b[36m(DefaultActor pid=13306)\u001b[0m \rVictim Training::  50%|█████     | 4/8 [00:01<00:01,  2.07it/s]\u001b[32m [repeated 16x across cluster]\u001b[0m\n",
            "Victim Training::   0%|          | 0/8 [00:00<?, ?it/s]\u001b[32m [repeated 6x across cluster]\u001b[0m\n",
            "100%|██████████| 2/2 [00:00<00:00,  7.93it/s]\u001b[32m [repeated 10x across cluster]\u001b[0m\n",
            "100%|██████████| 2/2 [00:00<00:00,  5.62it/s]\u001b[32m [repeated 8x across cluster]\u001b[0m\n",
            "Victim Training:: 100%|██████████| 8/8 [00:03<00:00,  2.66it/s]\n",
            "Victim Training:: 100%|██████████| 8/8 [00:02<00:00,  2.75it/s]\n",
            "Victim Training::  88%|████████▊ | 7/8 [00:03<00:00,  1.89it/s]\u001b[32m [repeated 61x across cluster]\u001b[0m\n",
            "Victim Training::   0%|          | 0/8 [00:00<?, ?it/s]\u001b[32m [repeated 6x across cluster]\u001b[0m\n",
            "Victim Training:: 100%|██████████| 8/8 [00:03<00:00,  2.31it/s]\n",
            "Victim Training:: 100%|██████████| 8/8 [00:04<00:00,  1.81it/s]\u001b[32m [repeated 7x across cluster]\u001b[0m\n",
            "Victim Training::  88%|████████▊ | 7/8 [00:04<00:00,  1.76it/s]\u001b[32m [repeated 47x across cluster]\u001b[0m\n",
            "Victim Training::   0%|          | 0/8 [00:00<?, ?it/s]\u001b[32m [repeated 8x across cluster]\u001b[0m\n",
            "Victim Training:: 100%|██████████| 8/8 [00:04<00:00,  1.81it/s]\n",
            "Victim Training:: 100%|██████████| 8/8 [00:04<00:00,  1.80it/s]\u001b[32m [repeated 7x across cluster]\u001b[0m\n",
            "Victim Training:: 100%|██████████| 8/8 [00:03<00:00,  2.58it/s]\n",
            "Victim Training::  62%|██████▎   | 5/8 [00:01<00:01,  3.00it/s]\u001b[32m [repeated 65x across cluster]\u001b[0m\n",
            "Victim Training::   0%|          | 0/8 [00:00<?, ?it/s]\u001b[32m [repeated 10x across cluster]\u001b[0m\n",
            "Victim Training:: 100%|██████████| 8/8 [00:02<00:00,  2.95it/s]\u001b[32m [repeated 8x across cluster]\u001b[0m\n",
            "Victim Training:: 100%|██████████| 8/8 [00:03<00:00,  2.32it/s]\n",
            "Victim Training:: 100%|██████████| 8/8 [00:03<00:00,  2.36it/s]\n",
            "Victim Training::  75%|███████▌  | 6/8 [00:02<00:00,  2.36it/s]\u001b[32m [repeated 64x across cluster]\u001b[0m\n",
            "Victim Training::   0%|          | 0/8 [00:00<?, ?it/s]\u001b[32m [repeated 11x across cluster]\u001b[0m\n",
            "Victim Training:: 100%|██████████| 8/8 [00:03<00:00,  2.22it/s]\u001b[32m [repeated 7x across cluster]\u001b[0m\n",
            "Victim Training:: 100%|██████████| 8/8 [00:04<00:00,  1.99it/s]\n",
            "Victim Training::  25%|██▌       | 2/8 [00:01<00:03,  1.90it/s]\u001b[32m [repeated 44x across cluster]\u001b[0m\n",
            "Victim Training::   0%|          | 0/8 [00:00<?, ?it/s]\u001b[32m [repeated 6x across cluster]\u001b[0m\n",
            "Victim Training:: 100%|██████████| 8/8 [00:04<00:00,  1.63it/s]\u001b[32m [repeated 5x across cluster]\u001b[0m\n",
            "Victim Training:: 100%|██████████| 8/8 [00:03<00:00,  2.27it/s]\n",
            "Victim Training:: 100%|██████████| 8/8 [00:02<00:00,  3.28it/s]\n",
            "Victim Training::  75%|███████▌  | 6/8 [00:02<00:00,  2.14it/s]\u001b[32m [repeated 66x across cluster]\u001b[0m\n",
            "Victim Training::   0%|          | 0/8 [00:00<?, ?it/s]\u001b[32m [repeated 8x across cluster]\u001b[0m\n",
            "Victim Training:: 100%|██████████| 8/8 [00:03<00:00,  2.30it/s]\u001b[32m [repeated 8x across cluster]\u001b[0m\n"
          ]
        },
        {
          "output_type": "stream",
          "name": "stdout",
          "text": [
            "\u001b[2m\u001b[36m(DefaultActor pid=13401)\u001b[0m [Client 2] evaluate, config: {}\u001b[32m [repeated 10x across cluster]\u001b[0m\n",
            "\u001b[2m\u001b[36m(DefaultActor pid=13377)\u001b[0m [Client 11] get_parameters\n",
            "\u001b[2m\u001b[36m(DefaultActor pid=13306)\u001b[0m local acc: 0.0\u001b[32m [repeated 10x across cluster]\u001b[0m\n",
            "\u001b[2m\u001b[36m(DefaultActor pid=13331)\u001b[0m [Client 15] fit, config: {'epochs': 10, 'lr': 0.1, 'attacker_epochs': 20, 'attacker_lr': 0.05}\u001b[32m [repeated 5x across cluster]\u001b[0m\n",
            "\u001b[2m\u001b[36m(DefaultActor pid=13331)\u001b[0m [Client 15] get_parameters\n"
          ]
        },
        {
          "output_type": "stream",
          "name": "stderr",
          "text": [
            "Victim Training:: 100%|██████████| 8/8 [00:03<00:00,  2.37it/s]\n",
            "Victim Training::  75%|███████▌  | 6/8 [00:03<00:01,  1.87it/s]\u001b[32m [repeated 58x across cluster]\u001b[0m\n",
            "Victim Training::   0%|          | 0/8 [00:00<?, ?it/s]\u001b[32m [repeated 8x across cluster]\u001b[0m\n",
            "Victim Training:: 100%|██████████| 8/8 [00:03<00:00,  2.12it/s]\u001b[32m [repeated 7x across cluster]\u001b[0m\n",
            "Victim Training::  50%|█████     | 4/8 [00:01<00:01,  2.22it/s]\u001b[32m [repeated 47x across cluster]\u001b[0m\n",
            "Victim Training::   0%|          | 0/8 [00:00<?, ?it/s]\u001b[32m [repeated 7x across cluster]\u001b[0m\n",
            "Victim Training:: 100%|██████████| 8/8 [00:03<00:00,  2.02it/s]\u001b[32m [repeated 6x across cluster]\u001b[0m\n",
            "Victim Training:: 100%|██████████| 8/8 [00:03<00:00,  2.64it/s]\n",
            "Victim Training:: 100%|██████████| 9/9 [00:04<00:00,  2.14it/s]\n",
            "Victim Training:: 100%|██████████| 8/8 [00:02<00:00,  3.34it/s]\n",
            "Victim Training:: 100%|██████████| 9/9 [00:02<00:00,  3.48it/s]\n",
            "Victim Training::  12%|█▎        | 1/8 [00:00<00:01,  3.79it/s]\u001b[32m [repeated 62x across cluster]\u001b[0m\n",
            "Victim Training::   0%|          | 0/8 [00:00<?, ?it/s]\u001b[32m [repeated 9x across cluster]\u001b[0m\n",
            "Victim Training:: 100%|██████████| 8/8 [00:02<00:00,  3.51it/s]\n",
            "Victim Training:: 100%|██████████| 8/8 [00:02<00:00,  3.20it/s]\u001b[32m [repeated 6x across cluster]\u001b[0m\n",
            "Victim Training:: 100%|██████████| 9/9 [00:02<00:00,  3.00it/s]\n",
            "Victim Training:: 100%|██████████| 8/8 [00:02<00:00,  3.54it/s]\n",
            "Victim Training:: 100%|██████████| 8/8 [00:01<00:00,  4.79it/s]\n",
            "Victim Training::  89%|████████▉ | 8/9 [00:02<00:00,  3.12it/s]\u001b[32m [repeated 69x across cluster]\u001b[0m\n",
            "Victim Training::   0%|          | 0/8 [00:00<?, ?it/s]\u001b[32m [repeated 9x across cluster]\u001b[0m\n",
            "Victim Training:: 100%|██████████| 9/9 [00:02<00:00,  3.10it/s]\n",
            "Victim Training:: 100%|██████████| 8/8 [00:02<00:00,  3.23it/s]\u001b[32m [repeated 5x across cluster]\u001b[0m\n",
            "Victim Training:: 100%|██████████| 8/8 [00:03<00:00,  2.43it/s]\n",
            "Victim Training::  25%|██▌       | 2/8 [00:01<00:03,  1.89it/s]\u001b[32m [repeated 50x across cluster]\u001b[0m\n",
            "Victim Training::   0%|          | 0/8 [00:00<?, ?it/s]\u001b[32m [repeated 8x across cluster]\u001b[0m\n",
            "Victim Training:: 100%|██████████| 8/8 [00:03<00:00,  2.08it/s]\u001b[32m [repeated 5x across cluster]\u001b[0m\n",
            "Victim Training:: 100%|██████████| 8/8 [00:03<00:00,  2.02it/s]\n",
            "Victim Training:: 100%|██████████| 8/8 [00:03<00:00,  2.60it/s]\u001b[32m [repeated 3x across cluster]\u001b[0m\n",
            "Victim Training::  62%|██████▎   | 5/8 [00:01<00:01,  2.44it/s]\u001b[32m [repeated 58x across cluster]\u001b[0m\n",
            "Victim Training::   0%|          | 0/8 [00:00<?, ?it/s]\u001b[32m [repeated 8x across cluster]\u001b[0m\n",
            "Victim Training:: 100%|██████████| 8/8 [00:02<00:00,  2.91it/s]\u001b[32m [repeated 6x across cluster]\u001b[0m\n",
            "Victim Training:: 100%|██████████| 8/8 [00:02<00:00,  2.77it/s]\n"
          ]
        },
        {
          "output_type": "stream",
          "name": "stdout",
          "text": [
            "\u001b[2m\u001b[36m(DefaultActor pid=13306)\u001b[0m [Client 27] fit, config: {'epochs': 10, 'lr': 0.1, 'attacker_epochs': 20, 'attacker_lr': 0.05}\u001b[32m [repeated 5x across cluster]\u001b[0m\n",
            "\u001b[2m\u001b[36m(DefaultActor pid=13354)\u001b[0m [Client 17] get_parameters\u001b[32m [repeated 5x across cluster]\u001b[0m\n"
          ]
        },
        {
          "output_type": "stream",
          "name": "stderr",
          "text": [
            "\u001b[2m\u001b[36m(DefaultActor pid=13331)\u001b[0m \rVictim Training:: 100%|██████████| 9/9 [00:03<00:00,  2.91it/s]\n",
            "DEBUG flwr 2023-12-28 07:17:31,497 | server.py:236 | fit_round 3 received 11 results and 0 failures\n",
            "DEBUG:flwr:fit_round 3 received 11 results and 0 failures\n"
          ]
        },
        {
          "output_type": "stream",
          "name": "stdout",
          "text": [
            "Saving round 3 aggregated_parameters...\n",
            "GLOBAL EVALUATE\n"
          ]
        },
        {
          "output_type": "stream",
          "name": "stderr",
          "text": [
            "100%|██████████| 10000/10000 [00:15<00:00, 633.58it/s]\n",
            "INFO flwr 2023-12-28 07:17:47,374 | server.py:125 | fit progress: (3, 23025.90420651436, {'accuracy': 0.1032}, 280.46950796300007)\n",
            "INFO:flwr:fit progress: (3, 23025.90420651436, {'accuracy': 0.1032}, 280.46950796300007)\n",
            "DEBUG flwr 2023-12-28 07:17:47,378 | server.py:173 | evaluate_round 3: strategy sampled 11 clients (out of 30)\n",
            "DEBUG:flwr:evaluate_round 3: strategy sampled 11 clients (out of 30)\n",
            "  0%|          | 0/2 [00:00<?, ?it/s]\n",
            "Victim Training::  62%|██████▎   | 5/8 [00:00<00:00,  5.89it/s]\u001b[32m [repeated 59x across cluster]\u001b[0m\n",
            "Victim Training::   0%|          | 0/8 [00:00<?, ?it/s]\u001b[32m [repeated 6x across cluster]\u001b[0m\n",
            "Victim Training:: 100%|██████████| 8/8 [00:01<00:00,  4.88it/s]\u001b[32m [repeated 4x across cluster]\u001b[0m\n",
            "Victim Training:: 100%|██████████| 8/8 [00:01<00:00,  6.64it/s]\u001b[32m [repeated 3x across cluster]\u001b[0m\n"
          ]
        },
        {
          "output_type": "stream",
          "name": "stdout",
          "text": [
            "\u001b[2m\u001b[36m(DefaultActor pid=13401)\u001b[0m [Client 26] evaluate, config: {}\n",
            "\u001b[2m\u001b[36m(DefaultActor pid=13401)\u001b[0m [Client 13] get_parameters\u001b[32m [repeated 4x across cluster]\u001b[0m\n"
          ]
        },
        {
          "output_type": "stream",
          "name": "stderr",
          "text": [
            "\u001b[2m\u001b[36m(DefaultActor pid=13401)\u001b[0m \r 50%|█████     | 1/2 [00:00<00:00,  3.65it/s]\n",
            "\u001b[2m\u001b[36m(DefaultActor pid=13401)\u001b[0m \r100%|██████████| 2/2 [00:00<00:00,  5.58it/s]\n"
          ]
        },
        {
          "output_type": "stream",
          "name": "stdout",
          "text": [
            "\u001b[2m\u001b[36m(DefaultActor pid=13401)\u001b[0m local acc: 0.0\n"
          ]
        },
        {
          "output_type": "stream",
          "name": "stderr",
          "text": [
            "DEBUG flwr 2023-12-28 07:17:51,469 | server.py:187 | evaluate_round 3 received 11 results and 0 failures\n",
            "DEBUG:flwr:evaluate_round 3 received 11 results and 0 failures\n",
            "DEBUG flwr 2023-12-28 07:17:51,472 | server.py:222 | fit_round 4: strategy sampled 11 clients (out of 30)\n",
            "DEBUG:flwr:fit_round 4: strategy sampled 11 clients (out of 30)\n"
          ]
        },
        {
          "output_type": "stream",
          "name": "stdout",
          "text": [
            "\u001b[2m\u001b[36m(DefaultActor pid=13354)\u001b[0m [Client 28] fit, config: {'epochs': 10, 'lr': 0.1, 'attacker_epochs': 20, 'attacker_lr': 0.05}\n",
            "\u001b[2m\u001b[36m(DefaultActor pid=13354)\u001b[0m [Client 8] evaluate, config: {}\u001b[32m [repeated 10x across cluster]\u001b[0m\n"
          ]
        },
        {
          "output_type": "stream",
          "name": "stderr",
          "text": [
            "\u001b[2m\u001b[36m(DefaultActor pid=13354)\u001b[0m \r  0%|          | 0/2 [00:00<?, ?it/s]\u001b[32m [repeated 10x across cluster]\u001b[0m\n",
            "\u001b[2m\u001b[36m(DefaultActor pid=13306)\u001b[0m \rVictim Training::   0%|          | 0/8 [00:00<?, ?it/s]\u001b[32m [repeated 2x across cluster]\u001b[0m\n",
            "Victim Training::  12%|█▎        | 1/8 [00:00<00:06,  1.05it/s]\n",
            "100%|██████████| 2/2 [00:00<00:00, 10.91it/s]\u001b[32m [repeated 10x across cluster]\u001b[0m\n",
            "100%|██████████| 2/2 [00:00<00:00,  3.09it/s]\u001b[32m [repeated 11x across cluster]\u001b[0m\n"
          ]
        },
        {
          "output_type": "stream",
          "name": "stdout",
          "text": [
            "\u001b[2m\u001b[36m(DefaultActor pid=13354)\u001b[0m local acc: 3.44\u001b[32m [repeated 10x across cluster]\u001b[0m\n"
          ]
        },
        {
          "output_type": "stream",
          "name": "stderr",
          "text": [
            "Victim Training:: 100%|██████████| 8/8 [00:03<00:00,  2.50it/s]\n",
            "Victim Training:: 100%|██████████| 9/9 [00:04<00:00,  2.10it/s]\n",
            "Victim Training::   0%|          | 0/9 [00:00<?, ?it/s]\u001b[32m [repeated 10x across cluster]\u001b[0m\n",
            "Victim Training::  50%|█████     | 4/8 [00:01<00:02,  1.99it/s]\u001b[32m [repeated 53x across cluster]\u001b[0m\n",
            "Victim Training:: 100%|██████████| 9/9 [00:02<00:00,  3.06it/s]\n",
            "Victim Training:: 100%|██████████| 8/8 [00:03<00:00,  2.54it/s]\u001b[32m [repeated 7x across cluster]\u001b[0m\n",
            "Victim Training:: 100%|██████████| 9/9 [00:04<00:00,  2.05it/s]\n",
            "Victim Training::   0%|          | 0/8 [00:00<?, ?it/s]\u001b[32m [repeated 9x across cluster]\u001b[0m\n",
            "Victim Training::  25%|██▌       | 2/8 [00:00<00:01,  3.37it/s]\u001b[32m [repeated 70x across cluster]\u001b[0m\n",
            "Victim Training:: 100%|██████████| 9/9 [00:03<00:00,  2.64it/s]\n",
            "Victim Training:: 100%|██████████| 8/8 [00:03<00:00,  2.45it/s]\u001b[32m [repeated 7x across cluster]\u001b[0m\n",
            "Victim Training::   0%|          | 0/8 [00:00<?, ?it/s]\u001b[32m [repeated 7x across cluster]\u001b[0m\n",
            "Victim Training::  50%|█████     | 4/8 [00:02<00:02,  1.76it/s]\u001b[32m [repeated 52x across cluster]\u001b[0m\n",
            "Victim Training:: 100%|██████████| 8/8 [00:04<00:00,  1.78it/s]\u001b[32m [repeated 7x across cluster]\u001b[0m\n",
            "Victim Training:: 100%|██████████| 9/9 [00:03<00:00,  2.99it/s]\n",
            "Victim Training::   0%|          | 0/9 [00:00<?, ?it/s]\u001b[32m [repeated 7x across cluster]\u001b[0m\n",
            "Victim Training::  25%|██▌       | 2/8 [00:00<00:02,  2.06it/s]\u001b[32m [repeated 56x across cluster]\u001b[0m\n",
            "Victim Training:: 100%|██████████| 9/9 [00:04<00:00,  2.08it/s]\n",
            "Victim Training:: 100%|██████████| 9/9 [00:03<00:00,  2.87it/s]\n",
            "Victim Training:: 100%|██████████| 8/8 [00:03<00:00,  2.36it/s]\u001b[32m [repeated 6x across cluster]\u001b[0m\n",
            "Victim Training:: 100%|██████████| 9/9 [00:03<00:00,  2.34it/s]\n",
            "Victim Training::   0%|          | 0/9 [00:00<?, ?it/s]\u001b[32m [repeated 9x across cluster]\u001b[0m\n",
            "Victim Training::  25%|██▌       | 2/8 [00:01<00:03,  1.89it/s]\u001b[32m [repeated 68x across cluster]\u001b[0m\n",
            "Victim Training:: 100%|██████████| 9/9 [00:03<00:00,  2.69it/s]\n",
            "Victim Training:: 100%|██████████| 9/9 [00:02<00:00,  3.17it/s]\n",
            "Victim Training:: 100%|██████████| 8/8 [00:03<00:00,  2.36it/s]\u001b[32m [repeated 7x across cluster]\u001b[0m\n",
            "Victim Training::   0%|          | 0/8 [00:00<?, ?it/s]\u001b[32m [repeated 8x across cluster]\u001b[0m\n",
            "Victim Training::  62%|██████▎   | 5/8 [00:03<00:01,  1.58it/s]\u001b[32m [repeated 54x across cluster]\u001b[0m\n",
            "Victim Training:: 100%|██████████| 9/9 [00:04<00:00,  1.84it/s]\n",
            "Victim Training:: 100%|██████████| 9/9 [00:04<00:00,  1.84it/s]\n",
            "Victim Training:: 100%|██████████| 8/8 [00:04<00:00,  1.65it/s]\u001b[32m [repeated 3x across cluster]\u001b[0m\n",
            "Victim Training::   0%|          | 0/8 [00:00<?, ?it/s]\u001b[32m [repeated 6x across cluster]\u001b[0m\n",
            "Victim Training::  75%|███████▌  | 6/8 [00:03<00:01,  1.96it/s]\u001b[32m [repeated 52x across cluster]\u001b[0m\n"
          ]
        },
        {
          "output_type": "stream",
          "name": "stdout",
          "text": [
            "\u001b[2m\u001b[36m(DefaultActor pid=13354)\u001b[0m [Client 28] get_parameters\n",
            "\u001b[2m\u001b[36m(DefaultActor pid=13401)\u001b[0m [Client 21] fit, config: {'epochs': 10, 'lr': 0.1, 'attacker_epochs': 20, 'attacker_lr': 0.05}\u001b[32m [repeated 5x across cluster]\u001b[0m\n"
          ]
        },
        {
          "output_type": "stream",
          "name": "stderr",
          "text": [
            "Victim Training:: 100%|██████████| 8/8 [00:03<00:00,  2.06it/s]\u001b[32m [repeated 8x across cluster]\u001b[0m\n",
            "Victim Training:: 100%|██████████| 9/9 [00:03<00:00,  2.46it/s]\n",
            "Victim Training::   0%|          | 0/8 [00:00<?, ?it/s]\u001b[32m [repeated 9x across cluster]\u001b[0m\n",
            "Victim Training::  12%|█▎        | 1/8 [00:00<00:01,  3.58it/s]\u001b[32m [repeated 59x across cluster]\u001b[0m\n",
            "Victim Training:: 100%|██████████| 8/8 [00:02<00:00,  3.23it/s]\u001b[32m [repeated 9x across cluster]\u001b[0m\n",
            "Victim Training:: 100%|██████████| 8/8 [00:02<00:00,  2.41it/s]\n",
            "Victim Training::   0%|          | 0/8 [00:00<?, ?it/s]\u001b[32m [repeated 7x across cluster]\u001b[0m\n",
            "Victim Training:: 100%|██████████| 8/8 [00:02<00:00,  2.68it/s]\n",
            "Victim Training::  50%|█████     | 4/8 [00:01<00:01,  2.26it/s]\u001b[32m [repeated 60x across cluster]\u001b[0m\n",
            "Victim Training:: 100%|██████████| 8/8 [00:03<00:00,  2.07it/s]\u001b[32m [repeated 5x across cluster]\u001b[0m\n",
            "Victim Training::   0%|          | 0/8 [00:00<?, ?it/s]\u001b[32m [repeated 7x across cluster]\u001b[0m\n",
            "Victim Training::  50%|█████     | 4/8 [00:01<00:01,  3.15it/s]\u001b[32m [repeated 47x across cluster]\u001b[0m\n",
            "Victim Training:: 100%|██████████| 8/8 [00:02<00:00,  3.43it/s]\u001b[32m [repeated 9x across cluster]\u001b[0m\n",
            "Victim Training:: 100%|██████████| 8/8 [00:01<00:00,  6.71it/s]\n",
            "Victim Training::   0%|          | 0/8 [00:00<?, ?it/s]\u001b[32m [repeated 10x across cluster]\u001b[0m\n",
            "Victim Training::  12%|█▎        | 1/8 [00:00<00:03,  2.19it/s]\u001b[32m [repeated 68x across cluster]\u001b[0m\n",
            "Victim Training:: 100%|██████████| 8/8 [00:03<00:00,  2.58it/s]\u001b[32m [repeated 7x across cluster]\u001b[0m\n",
            "Victim Training:: 100%|██████████| 8/8 [00:01<00:00,  4.31it/s]\n",
            "Victim Training::   0%|          | 0/8 [00:00<?, ?it/s]\u001b[32m [repeated 9x across cluster]\u001b[0m\n",
            "Victim Training::  62%|██████▎   | 5/8 [00:02<00:01,  2.13it/s]\u001b[32m [repeated 66x across cluster]\u001b[0m\n",
            "Victim Training:: 100%|██████████| 8/8 [00:03<00:00,  2.15it/s]\u001b[32m [repeated 8x across cluster]\u001b[0m\n",
            "Victim Training::   0%|          | 0/8 [00:00<?, ?it/s]\u001b[32m [repeated 7x across cluster]\u001b[0m\n",
            "Victim Training::  62%|██████▎   | 5/8 [00:02<00:01,  1.88it/s]\u001b[32m [repeated 42x across cluster]\u001b[0m\n"
          ]
        },
        {
          "output_type": "stream",
          "name": "stdout",
          "text": [
            "\u001b[2m\u001b[36m(DefaultActor pid=13354)\u001b[0m [Client 18] get_parameters\u001b[32m [repeated 6x across cluster]\u001b[0m\n",
            "\u001b[2m\u001b[36m(DefaultActor pid=13426)\u001b[0m [Client 14] fit, config: {'epochs': 10, 'lr': 0.1, 'attacker_epochs': 20, 'attacker_lr': 0.05}\u001b[32m [repeated 5x across cluster]\u001b[0m\n"
          ]
        },
        {
          "output_type": "stream",
          "name": "stderr",
          "text": [
            "Victim Training:: 100%|██████████| 8/8 [00:03<00:00,  2.16it/s]\n",
            "Victim Training:: 100%|██████████| 8/8 [00:01<00:00,  5.21it/s]\n",
            "DEBUG flwr 2023-12-28 07:19:02,299 | server.py:236 | fit_round 4 received 11 results and 0 failures\n",
            "DEBUG:flwr:fit_round 4 received 11 results and 0 failures\n",
            "Victim Training:: 100%|██████████| 8/8 [00:00<00:00,  8.71it/s]\n"
          ]
        },
        {
          "output_type": "stream",
          "name": "stdout",
          "text": [
            "Saving round 4 aggregated_parameters...\n",
            "GLOBAL EVALUATE\n"
          ]
        },
        {
          "output_type": "stream",
          "name": "stderr",
          "text": [
            "100%|██████████| 10000/10000 [00:15<00:00, 637.59it/s]\n",
            "INFO flwr 2023-12-28 07:19:18,076 | server.py:125 | fit progress: (4, 23025.899085760117, {'accuracy': 0.1032}, 371.17099179100023)\n",
            "INFO:flwr:fit progress: (4, 23025.899085760117, {'accuracy': 0.1032}, 371.17099179100023)\n",
            "DEBUG flwr 2023-12-28 07:19:18,081 | server.py:173 | evaluate_round 4: strategy sampled 11 clients (out of 30)\n",
            "DEBUG:flwr:evaluate_round 4: strategy sampled 11 clients (out of 30)\n",
            "  0%|          | 0/2 [00:00<?, ?it/s]\n",
            "Victim Training:: 100%|██████████| 8/8 [00:01<00:00,  7.77it/s]\u001b[32m [repeated 7x across cluster]\u001b[0m\n",
            "Victim Training::   0%|          | 0/8 [00:00<?, ?it/s]\u001b[32m [repeated 3x across cluster]\u001b[0m\n",
            "Victim Training::  88%|████████▊ | 7/8 [00:00<00:00,  8.98it/s]\u001b[32m [repeated 36x across cluster]\u001b[0m\n",
            " 50%|█████     | 1/2 [00:00<00:00,  6.98it/s]\n"
          ]
        },
        {
          "output_type": "stream",
          "name": "stdout",
          "text": [
            "\u001b[2m\u001b[36m(DefaultActor pid=13426)\u001b[0m [Client 18] evaluate, config: {}\n",
            "\u001b[2m\u001b[36m(DefaultActor pid=13426)\u001b[0m [Client 14] get_parameters\u001b[32m [repeated 4x across cluster]\u001b[0m\n"
          ]
        },
        {
          "output_type": "stream",
          "name": "stderr",
          "text": [
            "\u001b[2m\u001b[36m(DefaultActor pid=13426)\u001b[0m \r100%|██████████| 2/2 [00:00<00:00,  4.43it/s]\r100%|██████████| 2/2 [00:00<00:00,  4.68it/s]\n"
          ]
        },
        {
          "output_type": "stream",
          "name": "stdout",
          "text": [
            "\u001b[2m\u001b[36m(DefaultActor pid=13426)\u001b[0m local acc: 0.0\n"
          ]
        },
        {
          "output_type": "stream",
          "name": "stderr",
          "text": [
            "DEBUG flwr 2023-12-28 07:19:21,039 | server.py:187 | evaluate_round 4 received 11 results and 0 failures\n",
            "DEBUG:flwr:evaluate_round 4 received 11 results and 0 failures\n",
            "DEBUG flwr 2023-12-28 07:19:21,043 | server.py:222 | fit_round 5: strategy sampled 11 clients (out of 30)\n",
            "DEBUG:flwr:fit_round 5: strategy sampled 11 clients (out of 30)\n"
          ]
        },
        {
          "output_type": "stream",
          "name": "stdout",
          "text": [
            "\u001b[2m\u001b[36m(DefaultActor pid=13354)\u001b[0m [Client 20] fit, config: {'epochs': 10, 'lr': 0.1, 'attacker_epochs': 20, 'attacker_lr': 0.05}\n"
          ]
        },
        {
          "output_type": "stream",
          "name": "stderr",
          "text": [
            "\u001b[2m\u001b[36m(DefaultActor pid=13354)\u001b[0m \r  0%|          | 0/2 [00:00<?, ?it/s]\u001b[32m [repeated 10x across cluster]\u001b[0m\n",
            "\u001b[2m\u001b[36m(DefaultActor pid=13426)\u001b[0m \rVictim Training::   0%|          | 0/9 [00:00<?, ?it/s]\u001b[32m [repeated 6x across cluster]\u001b[0m\n",
            "\u001b[2m\u001b[36m(DefaultActor pid=13331)\u001b[0m \rVictim Training::  33%|███▎      | 3/9 [00:01<00:02,  2.43it/s]\u001b[32m [repeated 16x across cluster]\u001b[0m\n",
            " 50%|█████     | 1/2 [00:00<00:00,  3.42it/s]\u001b[32m [repeated 10x across cluster]\u001b[0m\n",
            "100%|██████████| 2/2 [00:00<00:00,  6.04it/s]\u001b[32m [repeated 9x across cluster]\u001b[0m\n",
            "Victim Training:: 100%|██████████| 8/8 [00:02<00:00,  2.98it/s]\n",
            "Victim Training::   0%|          | 0/9 [00:00<?, ?it/s]\u001b[32m [repeated 6x across cluster]\u001b[0m\n",
            "Victim Training::  62%|██████▎   | 5/8 [00:03<00:01,  1.58it/s]\u001b[32m [repeated 50x across cluster]\u001b[0m\n",
            "Victim Training:: 100%|██████████| 8/8 [00:04<00:00,  1.82it/s]\u001b[32m [repeated 6x across cluster]\u001b[0m\n",
            "Victim Training:: 100%|██████████| 8/8 [00:04<00:00,  1.71it/s]\n",
            "Victim Training:: 100%|██████████| 9/9 [00:04<00:00,  1.81it/s]\n",
            "Victim Training:: 100%|██████████| 8/8 [00:02<00:00,  3.08it/s]\n",
            "Victim Training::   0%|          | 0/8 [00:00<?, ?it/s]\u001b[32m [repeated 8x across cluster]\u001b[0m\n",
            "Victim Training::  75%|███████▌  | 6/8 [00:02<00:00,  2.72it/s]\u001b[32m [repeated 59x across cluster]\u001b[0m\n",
            "Victim Training:: 100%|██████████| 8/8 [00:03<00:00,  2.33it/s]\u001b[32m [repeated 6x across cluster]\u001b[0m\n",
            "Victim Training:: 100%|██████████| 9/9 [00:03<00:00,  2.70it/s]\n",
            "Victim Training:: 100%|██████████| 8/8 [00:02<00:00,  2.89it/s]\n",
            "Victim Training::   0%|          | 0/9 [00:00<?, ?it/s]\u001b[32m [repeated 10x across cluster]\u001b[0m\n",
            "Victim Training::  50%|█████     | 4/8 [00:01<00:01,  2.78it/s]\u001b[32m [repeated 69x across cluster]\u001b[0m\n",
            "Victim Training:: 100%|██████████| 8/8 [00:03<00:00,  2.33it/s]\u001b[32m [repeated 5x across cluster]\u001b[0m\n",
            "Victim Training:: 100%|██████████| 8/8 [00:02<00:00,  2.85it/s]\u001b[32m [repeated 2x across cluster]\u001b[0m\n",
            "Victim Training::   0%|          | 0/9 [00:00<?, ?it/s]\u001b[32m [repeated 7x across cluster]\u001b[0m\n",
            "Victim Training::  50%|█████     | 4/8 [00:02<00:02,  1.64it/s]\u001b[32m [repeated 55x across cluster]\u001b[0m\n",
            "Victim Training:: 100%|██████████| 8/8 [00:04<00:00,  1.90it/s]\u001b[32m [repeated 6x across cluster]\u001b[0m\n",
            "Victim Training:: 100%|██████████| 8/8 [00:03<00:00,  2.58it/s]\n",
            "Victim Training:: 100%|██████████| 8/8 [00:04<00:00,  1.82it/s]\n",
            "Victim Training::   0%|          | 0/8 [00:00<?, ?it/s]\u001b[32m [repeated 8x across cluster]\u001b[0m\n",
            "Victim Training::  75%|███████▌  | 6/8 [00:03<00:01,  1.94it/s]\u001b[32m [repeated 50x across cluster]\u001b[0m\n",
            "Victim Training:: 100%|██████████| 8/8 [00:03<00:00,  2.18it/s]\n",
            "Victim Training:: 100%|██████████| 9/9 [00:04<00:00,  2.00it/s]\u001b[32m [repeated 6x across cluster]\u001b[0m\n",
            "Victim Training:: 100%|██████████| 9/9 [00:04<00:00,  1.98it/s]\n",
            "Victim Training:: 100%|██████████| 9/9 [00:04<00:00,  2.24it/s]\n",
            "Victim Training::   0%|          | 0/9 [00:00<?, ?it/s]\u001b[32m [repeated 8x across cluster]\u001b[0m\n",
            "Victim Training::  62%|██████▎   | 5/8 [00:01<00:01,  2.67it/s]\u001b[32m [repeated 70x across cluster]\u001b[0m\n",
            "Victim Training:: 100%|██████████| 9/9 [00:02<00:00,  3.12it/s]\n",
            "Victim Training:: 100%|██████████| 8/8 [00:03<00:00,  2.17it/s]\u001b[32m [repeated 5x across cluster]\u001b[0m\n"
          ]
        },
        {
          "output_type": "stream",
          "name": "stdout",
          "text": [
            "\u001b[2m\u001b[36m(DefaultActor pid=13306)\u001b[0m [Client 21] evaluate, config: {}\u001b[32m [repeated 10x across cluster]\u001b[0m\n",
            "\u001b[2m\u001b[36m(DefaultActor pid=13306)\u001b[0m [Client 15] get_parameters\n",
            "\u001b[2m\u001b[36m(DefaultActor pid=13354)\u001b[0m local acc: 0.0\u001b[32m [repeated 10x across cluster]\u001b[0m\n",
            "\u001b[2m\u001b[36m(DefaultActor pid=13426)\u001b[0m [Client 5] fit, config: {'epochs': 10, 'lr': 0.1, 'attacker_epochs': 20, 'attacker_lr': 0.05}\u001b[32m [repeated 5x across cluster]\u001b[0m\n"
          ]
        },
        {
          "output_type": "stream",
          "name": "stderr",
          "text": [
            "Victim Training:: 100%|██████████| 8/8 [00:02<00:00,  2.79it/s]\n",
            "Victim Training:: 100%|██████████| 8/8 [00:02<00:00,  3.02it/s]\n"
          ]
        },
        {
          "output_type": "stream",
          "name": "stdout",
          "text": [
            "\u001b[2m\u001b[36m(DefaultActor pid=13354)\u001b[0m [Client 20] get_parameters\n"
          ]
        },
        {
          "output_type": "stream",
          "name": "stderr",
          "text": [
            "\u001b[2m\u001b[36m(DefaultActor pid=13331)\u001b[0m \rVictim Training::   0%|          | 0/9 [00:00<?, ?it/s]\u001b[32m [repeated 7x across cluster]\u001b[0m\n",
            "Victim Training::  67%|██████▋   | 6/9 [00:03<00:02,  1.35it/s]\u001b[32m [repeated 54x across cluster]\u001b[0m\n",
            "Victim Training:: 100%|██████████| 8/8 [00:03<00:00,  2.20it/s]\u001b[32m [repeated 7x across cluster]\u001b[0m\n"
          ]
        },
        {
          "output_type": "stream",
          "name": "stdout",
          "text": [
            "\u001b[2m\u001b[36m(DefaultActor pid=13401)\u001b[0m [Client 8] fit, config: {'epochs': 10, 'lr': 0.1, 'attacker_epochs': 20, 'attacker_lr': 0.05}\u001b[32m [repeated 3x across cluster]\u001b[0m\n"
          ]
        },
        {
          "output_type": "stream",
          "name": "stderr",
          "text": [
            "\u001b[2m\u001b[36m(DefaultActor pid=13331)\u001b[0m \rVictim Training::  89%|████████▉ | 8/9 [00:05<00:00,  1.58it/s]\rVictim Training:: 100%|██████████| 9/9 [00:05<00:00,  1.62it/s]\n"
          ]
        },
        {
          "output_type": "stream",
          "name": "stdout",
          "text": [
            "\u001b[2m\u001b[36m(DefaultActor pid=13331)\u001b[0m [Client 22] get_parameters\u001b[32m [repeated 3x across cluster]\u001b[0m\n"
          ]
        },
        {
          "output_type": "stream",
          "name": "stderr",
          "text": [
            "\u001b[2m\u001b[36m(DefaultActor pid=13331)\u001b[0m \rVictim Training::   0%|          | 0/8 [00:00<?, ?it/s]\u001b[32m [repeated 8x across cluster]\u001b[0m\n",
            "Victim Training::  88%|████████▊ | 7/8 [00:04<00:00,  1.54it/s]\u001b[32m [repeated 39x across cluster]\u001b[0m\n",
            "Victim Training:: 100%|██████████| 8/8 [00:05<00:00,  1.59it/s]\u001b[32m [repeated 5x across cluster]\u001b[0m\n",
            "Victim Training::   0%|          | 0/8 [00:00<?, ?it/s]\u001b[32m [repeated 8x across cluster]\u001b[0m\n",
            "Victim Training::  50%|█████     | 4/8 [00:01<00:01,  3.17it/s]\u001b[32m [repeated 67x across cluster]\u001b[0m\n",
            "Victim Training:: 100%|██████████| 8/8 [00:02<00:00,  3.02it/s]\n",
            "Victim Training:: 100%|██████████| 8/8 [00:02<00:00,  2.79it/s]\u001b[32m [repeated 8x across cluster]\u001b[0m\n",
            "Victim Training::   0%|          | 0/8 [00:00<?, ?it/s]\u001b[32m [repeated 10x across cluster]\u001b[0m\n",
            "Victim Training::  25%|██▌       | 2/8 [00:00<00:02,  2.15it/s]\u001b[32m [repeated 64x across cluster]\u001b[0m\n",
            "Victim Training:: 100%|██████████| 8/8 [00:03<00:00,  2.67it/s]\u001b[32m [repeated 9x across cluster]\u001b[0m\n",
            "Victim Training::   0%|          | 0/8 [00:00<?, ?it/s]\u001b[32m [repeated 6x across cluster]\u001b[0m\n",
            "Victim Training::  50%|█████     | 4/8 [00:02<00:02,  1.79it/s]\u001b[32m [repeated 45x across cluster]\u001b[0m\n",
            "Victim Training:: 100%|██████████| 8/8 [00:04<00:00,  1.99it/s]\u001b[32m [repeated 6x across cluster]\u001b[0m\n",
            "Victim Training::   0%|          | 0/8 [00:00<?, ?it/s]\u001b[32m [repeated 9x across cluster]\u001b[0m\n",
            "Victim Training::  75%|███████▌  | 6/8 [00:03<00:01,  1.36it/s]\u001b[32m [repeated 68x across cluster]\u001b[0m\n",
            "Victim Training:: 100%|██████████| 8/8 [00:02<00:00,  3.24it/s]\u001b[32m [repeated 9x across cluster]\u001b[0m\n"
          ]
        },
        {
          "output_type": "stream",
          "name": "stdout",
          "text": [
            "\u001b[2m\u001b[36m(DefaultActor pid=13331)\u001b[0m [Client 0] fit, config: {'epochs': 10, 'lr': 0.1, 'attacker_epochs': 20, 'attacker_lr': 0.05}\u001b[32m [repeated 2x across cluster]\u001b[0m\n",
            "\u001b[2m\u001b[36m(DefaultActor pid=13401)\u001b[0m [Client 8] get_parameters\u001b[32m [repeated 2x across cluster]\u001b[0m\n"
          ]
        },
        {
          "output_type": "stream",
          "name": "stderr",
          "text": [
            "Victim Training:: 100%|██████████| 8/8 [00:01<00:00,  4.28it/s]\n",
            "Victim Training::   0%|          | 0/8 [00:00<?, ?it/s]\u001b[32m [repeated 8x across cluster]\u001b[0m\n",
            "Victim Training::  62%|██████▎   | 5/8 [00:01<00:00,  5.16it/s]\u001b[32m [repeated 63x across cluster]\u001b[0m\n",
            "Victim Training:: 100%|██████████| 8/8 [00:02<00:00,  2.74it/s]\u001b[32m [repeated 9x across cluster]\u001b[0m\n",
            "DEBUG flwr 2023-12-28 07:20:31,544 | server.py:236 | fit_round 5 received 11 results and 0 failures\n",
            "DEBUG:flwr:fit_round 5 received 11 results and 0 failures\n"
          ]
        },
        {
          "output_type": "stream",
          "name": "stdout",
          "text": [
            "Saving round 5 aggregated_parameters...\n",
            "GLOBAL EVALUATE\n"
          ]
        },
        {
          "output_type": "stream",
          "name": "stderr",
          "text": [
            "100%|██████████| 10000/10000 [00:16<00:00, 623.92it/s]\n",
            "INFO flwr 2023-12-28 07:20:47,702 | server.py:125 | fit progress: (5, 23025.89206814766, {'accuracy': 0.1032}, 460.7969051670002)\n",
            "INFO:flwr:fit progress: (5, 23025.89206814766, {'accuracy': 0.1032}, 460.7969051670002)\n",
            "DEBUG flwr 2023-12-28 07:20:47,707 | server.py:173 | evaluate_round 5: strategy sampled 11 clients (out of 30)\n",
            "DEBUG:flwr:evaluate_round 5: strategy sampled 11 clients (out of 30)\n"
          ]
        },
        {
          "output_type": "stream",
          "name": "stdout",
          "text": [
            "\u001b[2m\u001b[36m(DefaultActor pid=13306)\u001b[0m [Client 28] evaluate, config: {}\n",
            "\u001b[2m\u001b[36m(DefaultActor pid=13331)\u001b[0m [Client 0] get_parameters\u001b[32m [repeated 4x across cluster]\u001b[0m\n"
          ]
        },
        {
          "output_type": "stream",
          "name": "stderr",
          "text": [
            "\u001b[2m\u001b[36m(DefaultActor pid=13306)\u001b[0m \r  0%|          | 0/2 [00:00<?, ?it/s]\n",
            "\u001b[2m\u001b[36m(DefaultActor pid=13331)\u001b[0m \rVictim Training:: 100%|██████████| 8/8 [00:00<00:00,  9.55it/s]\u001b[32m [repeated 2x across cluster]\u001b[0m\n",
            "\u001b[2m\u001b[36m(DefaultActor pid=13331)\u001b[0m \rVictim Training::   0%|          | 0/8 [00:00<?, ?it/s]\n",
            "\u001b[2m\u001b[36m(DefaultActor pid=13331)\u001b[0m \rVictim Training::  88%|████████▊ | 7/8 [00:00<00:00,  9.22it/s]\u001b[32m [repeated 15x across cluster]\u001b[0m\n",
            "Victim Training:: 100%|██████████| 8/8 [00:02<00:00,  3.17it/s]\u001b[32m [repeated 2x across cluster]\u001b[0m\n",
            " 50%|█████     | 1/2 [00:00<00:00,  1.87it/s]\n",
            "100%|██████████| 2/2 [00:00<00:00,  2.64it/s]\n"
          ]
        },
        {
          "output_type": "stream",
          "name": "stdout",
          "text": [
            "\u001b[2m\u001b[36m(DefaultActor pid=13331)\u001b[0m local acc: 0.0\n"
          ]
        },
        {
          "output_type": "stream",
          "name": "stderr",
          "text": [
            "DEBUG flwr 2023-12-28 07:20:51,485 | server.py:187 | evaluate_round 5 received 11 results and 0 failures\n",
            "DEBUG:flwr:evaluate_round 5 received 11 results and 0 failures\n",
            "DEBUG flwr 2023-12-28 07:20:51,488 | server.py:222 | fit_round 6: strategy sampled 11 clients (out of 30)\n",
            "DEBUG:flwr:fit_round 6: strategy sampled 11 clients (out of 30)\n",
            "Victim Training::   0%|          | 0/8 [00:00<?, ?it/s]\n"
          ]
        },
        {
          "output_type": "stream",
          "name": "stdout",
          "text": [
            "\u001b[2m\u001b[36m(DefaultActor pid=13377)\u001b[0m [Client 6] fit, config: {'epochs': 10, 'lr': 0.1, 'attacker_epochs': 20, 'attacker_lr': 0.05}\n"
          ]
        },
        {
          "output_type": "stream",
          "name": "stderr",
          "text": [
            "\u001b[2m\u001b[36m(DefaultActor pid=13377)\u001b[0m \r  0%|          | 0/2 [00:00<?, ?it/s]\u001b[32m [repeated 10x across cluster]\u001b[0m\n",
            "Victim Training::  50%|█████     | 4/8 [00:01<00:01,  2.17it/s]\u001b[32m [repeated 22x across cluster]\u001b[0m\n",
            "Victim Training:: 100%|██████████| 8/8 [00:02<00:00,  3.06it/s]\n",
            " 50%|█████     | 1/2 [00:00<00:00,  5.94it/s]\u001b[32m [repeated 10x across cluster]\u001b[0m\n",
            "100%|██████████| 2/2 [00:00<00:00, 10.06it/s]\u001b[32m [repeated 8x across cluster]\u001b[0m\n",
            "Victim Training::   0%|          | 0/8 [00:00<?, ?it/s]\u001b[32m [repeated 11x across cluster]\u001b[0m\n",
            "Victim Training:: 100%|██████████| 8/8 [00:02<00:00,  2.86it/s]\n",
            "Victim Training::  88%|████████▊ | 7/8 [00:03<00:00,  2.23it/s]\u001b[32m [repeated 65x across cluster]\u001b[0m\n",
            "Victim Training:: 100%|██████████| 8/8 [00:03<00:00,  2.32it/s]\u001b[32m [repeated 10x across cluster]\u001b[0m\n",
            "Victim Training::   0%|          | 0/8 [00:00<?, ?it/s]\u001b[32m [repeated 7x across cluster]\u001b[0m\n",
            "Victim Training:: 100%|██████████| 8/8 [00:04<00:00,  1.96it/s]\n",
            "Victim Training:: 100%|██████████| 8/8 [00:04<00:00,  1.97it/s]\n",
            "Victim Training::  62%|██████▎   | 5/8 [00:02<00:01,  1.86it/s]\u001b[32m [repeated 44x across cluster]\u001b[0m\n",
            "Victim Training:: 100%|██████████| 8/8 [00:04<00:00,  1.72it/s]\u001b[32m [repeated 3x across cluster]\u001b[0m\n",
            "Victim Training::   0%|          | 0/8 [00:00<?, ?it/s]\u001b[32m [repeated 6x across cluster]\u001b[0m\n",
            "Victim Training:: 100%|██████████| 8/8 [00:04<00:00,  2.00it/s]\u001b[32m [repeated 2x across cluster]\u001b[0m\n",
            "Victim Training::  25%|██▌       | 2/8 [00:00<00:02,  2.98it/s]\u001b[32m [repeated 61x across cluster]\u001b[0m\n",
            "Victim Training:: 100%|██████████| 8/8 [00:03<00:00,  2.52it/s]\u001b[32m [repeated 7x across cluster]\u001b[0m\n",
            "Victim Training::   0%|          | 0/8 [00:00<?, ?it/s]\u001b[32m [repeated 11x across cluster]\u001b[0m\n",
            "Victim Training:: 100%|██████████| 8/8 [00:02<00:00,  2.69it/s]\n",
            "Victim Training:: 100%|██████████| 8/8 [00:02<00:00,  3.09it/s]\n",
            "Victim Training::  50%|█████     | 4/8 [00:01<00:01,  2.41it/s]\u001b[32m [repeated 68x across cluster]\u001b[0m\n",
            "Victim Training:: 100%|██████████| 8/8 [00:03<00:00,  2.61it/s]\u001b[32m [repeated 8x across cluster]\u001b[0m\n",
            "Victim Training:: 100%|██████████| 8/8 [00:03<00:00,  2.63it/s]\n",
            "Victim Training::   0%|          | 0/8 [00:00<?, ?it/s]\u001b[32m [repeated 8x across cluster]\u001b[0m\n",
            "Victim Training::  12%|█▎        | 1/8 [00:00<00:05,  1.40it/s]\u001b[32m [repeated 52x across cluster]\u001b[0m\n",
            "Victim Training:: 100%|██████████| 8/8 [00:04<00:00,  1.84it/s]\u001b[32m [repeated 7x across cluster]\u001b[0m\n",
            "Victim Training:: 100%|██████████| 8/8 [00:04<00:00,  1.86it/s]\n",
            "Victim Training::   0%|          | 0/8 [00:00<?, ?it/s]\u001b[32m [repeated 6x across cluster]\u001b[0m\n",
            "Victim Training:: 100%|██████████| 8/8 [00:03<00:00,  2.20it/s]\n",
            "Victim Training::  50%|█████     | 4/8 [00:01<00:01,  2.59it/s]\u001b[32m [repeated 58x across cluster]\u001b[0m\n",
            "Victim Training:: 100%|██████████| 8/8 [00:04<00:00,  1.98it/s]\u001b[32m [repeated 5x across cluster]\u001b[0m\n"
          ]
        },
        {
          "output_type": "stream",
          "name": "stdout",
          "text": [
            "\u001b[2m\u001b[36m(DefaultActor pid=13377)\u001b[0m [Client 10] evaluate, config: {}\u001b[32m [repeated 10x across cluster]\u001b[0m\n",
            "\u001b[2m\u001b[36m(DefaultActor pid=13306)\u001b[0m [Client 14] get_parameters\n",
            "\u001b[2m\u001b[36m(DefaultActor pid=13377)\u001b[0m local acc: 0.0\u001b[32m [repeated 10x across cluster]\u001b[0m\n",
            "\u001b[2m\u001b[36m(DefaultActor pid=13401)\u001b[0m [Client 0] fit, config: {'epochs': 10, 'lr': 0.1, 'attacker_epochs': 20, 'attacker_lr': 0.05}\u001b[32m [repeated 5x across cluster]\u001b[0m\n"
          ]
        },
        {
          "output_type": "stream",
          "name": "stderr",
          "text": [
            "\u001b[2m\u001b[36m(DefaultActor pid=13426)\u001b[0m \rVictim Training::  88%|████████▊ | 7/8 [00:03<00:00,  2.13it/s]\rVictim Training:: 100%|██████████| 8/8 [00:03<00:00,  2.54it/s]\n"
          ]
        },
        {
          "output_type": "stream",
          "name": "stdout",
          "text": [
            "\u001b[2m\u001b[36m(DefaultActor pid=13426)\u001b[0m [Client 15] get_parameters\n"
          ]
        },
        {
          "output_type": "stream",
          "name": "stderr",
          "text": [
            "Victim Training::   0%|          | 0/8 [00:00<?, ?it/s]\u001b[32m [repeated 11x across cluster]\u001b[0m\n",
            "Victim Training::  75%|███████▌  | 6/8 [00:02<00:00,  2.08it/s]\u001b[32m [repeated 56x across cluster]\u001b[0m\n",
            "Victim Training:: 100%|██████████| 8/8 [00:03<00:00,  2.09it/s]\u001b[32m [repeated 9x across cluster]\u001b[0m\n",
            "Victim Training::   0%|          | 0/8 [00:00<?, ?it/s]\u001b[32m [repeated 6x across cluster]\u001b[0m\n",
            "Victim Training::  12%|█▎        | 1/8 [00:00<00:03,  1.81it/s]\u001b[32m [repeated 53x across cluster]\u001b[0m\n",
            "Victim Training:: 100%|██████████| 8/8 [00:03<00:00,  2.10it/s]\u001b[32m [repeated 7x across cluster]\u001b[0m\n",
            "Victim Training::   0%|          | 0/8 [00:00<?, ?it/s]\u001b[32m [repeated 7x across cluster]\u001b[0m\n",
            "Victim Training::  50%|█████     | 4/8 [00:01<00:01,  3.17it/s]\u001b[32m [repeated 51x across cluster]\u001b[0m\n",
            "Victim Training:: 100%|██████████| 8/8 [00:03<00:00,  2.31it/s]\u001b[32m [repeated 7x across cluster]\u001b[0m\n",
            "Victim Training:: 100%|██████████| 9/9 [00:02<00:00,  3.01it/s]\n",
            "Victim Training::   0%|          | 0/8 [00:00<?, ?it/s]\u001b[32m [repeated 8x across cluster]\u001b[0m\n",
            "Victim Training:: 100%|██████████| 9/9 [00:02<00:00,  3.60it/s]\n",
            "Victim Training::  78%|███████▊  | 7/9 [00:01<00:00,  3.75it/s]\u001b[32m [repeated 68x across cluster]\u001b[0m\n",
            "Victim Training:: 100%|██████████| 9/9 [00:02<00:00,  3.88it/s]\n",
            "Victim Training:: 100%|██████████| 8/8 [00:02<00:00,  3.10it/s]\u001b[32m [repeated 8x across cluster]\u001b[0m\n",
            "Victim Training::   0%|          | 0/8 [00:00<?, ?it/s]\u001b[32m [repeated 10x across cluster]\u001b[0m\n",
            "Victim Training:: 100%|██████████| 9/9 [00:02<00:00,  3.17it/s]\n",
            "Victim Training::  38%|███▊      | 3/8 [00:01<00:02,  1.79it/s]\u001b[32m [repeated 58x across cluster]\u001b[0m\n",
            "Victim Training:: 100%|██████████| 8/8 [00:02<00:00,  2.68it/s]\u001b[32m [repeated 6x across cluster]\u001b[0m\n",
            "Victim Training:: 100%|██████████| 8/8 [00:03<00:00,  2.13it/s]\n",
            "Victim Training:: 100%|██████████| 8/8 [00:03<00:00,  2.10it/s]\n",
            "Victim Training::   0%|          | 0/8 [00:00<?, ?it/s]\u001b[32m [repeated 7x across cluster]\u001b[0m\n",
            "Victim Training::  75%|███████▌  | 6/8 [00:02<00:00,  2.53it/s]\u001b[32m [repeated 47x across cluster]\u001b[0m\n",
            "Victim Training:: 100%|██████████| 8/8 [00:03<00:00,  2.26it/s]\u001b[32m [repeated 5x across cluster]\u001b[0m\n",
            "Victim Training:: 100%|██████████| 9/9 [00:03<00:00,  2.57it/s]\n",
            "Victim Training:: 100%|██████████| 8/8 [00:02<00:00,  3.74it/s]\n",
            "Victim Training::   0%|          | 0/8 [00:00<?, ?it/s]\u001b[32m [repeated 9x across cluster]\u001b[0m\n",
            "Victim Training::  88%|████████▊ | 7/8 [00:04<00:00,  1.22it/s]\u001b[32m [repeated 45x across cluster]\u001b[0m\n",
            "Victim Training:: 100%|██████████| 9/9 [00:04<00:00,  2.09it/s]\n",
            "Victim Training:: 100%|██████████| 8/8 [00:04<00:00,  1.63it/s]\u001b[32m [repeated 4x across cluster]\u001b[0m\n"
          ]
        },
        {
          "output_type": "stream",
          "name": "stdout",
          "text": [
            "\u001b[2m\u001b[36m(DefaultActor pid=13401)\u001b[0m [Client 13] fit, config: {'epochs': 10, 'lr': 0.1, 'attacker_epochs': 20, 'attacker_lr': 0.05}\u001b[32m [repeated 5x across cluster]\u001b[0m\n",
            "\u001b[2m\u001b[36m(DefaultActor pid=13306)\u001b[0m [Client 10] get_parameters\u001b[32m [repeated 5x across cluster]\u001b[0m\n"
          ]
        },
        {
          "output_type": "stream",
          "name": "stderr",
          "text": [
            "\u001b[2m\u001b[36m(DefaultActor pid=13354)\u001b[0m \rVictim Training::  89%|████████▉ | 8/9 [00:01<00:00,  5.74it/s]\rVictim Training:: 100%|██████████| 9/9 [00:01<00:00,  4.80it/s]\n",
            "DEBUG flwr 2023-12-28 07:22:02,662 | server.py:236 | fit_round 6 received 11 results and 0 failures\n",
            "DEBUG:flwr:fit_round 6 received 11 results and 0 failures\n"
          ]
        },
        {
          "output_type": "stream",
          "name": "stdout",
          "text": [
            "Saving round 6 aggregated_parameters...\n",
            "GLOBAL EVALUATE\n"
          ]
        },
        {
          "output_type": "stream",
          "name": "stderr",
          "text": [
            "100%|██████████| 10000/10000 [00:15<00:00, 629.30it/s]\n",
            "INFO flwr 2023-12-28 07:22:18,654 | server.py:125 | fit progress: (6, 23025.911496162415, {'accuracy': 0.1032}, 551.7488498590001)\n",
            "INFO:flwr:fit progress: (6, 23025.911496162415, {'accuracy': 0.1032}, 551.7488498590001)\n",
            "DEBUG flwr 2023-12-28 07:22:18,658 | server.py:173 | evaluate_round 6: strategy sampled 11 clients (out of 30)\n",
            "DEBUG:flwr:evaluate_round 6: strategy sampled 11 clients (out of 30)\n",
            "  0%|          | 0/2 [00:00<?, ?it/s]\n",
            "Victim Training::   0%|          | 0/8 [00:00<?, ?it/s]\u001b[32m [repeated 2x across cluster]\u001b[0m\n",
            "Victim Training::  75%|███████▌  | 6/8 [00:01<00:00,  5.00it/s]\u001b[32m [repeated 24x across cluster]\u001b[0m\n",
            "Victim Training:: 100%|██████████| 8/8 [00:01<00:00,  4.58it/s]\n",
            "Victim Training:: 100%|██████████| 8/8 [00:04<00:00,  1.68it/s]\u001b[32m [repeated 3x across cluster]\u001b[0m\n"
          ]
        },
        {
          "output_type": "stream",
          "name": "stdout",
          "text": [
            "\u001b[2m\u001b[36m(DefaultActor pid=13401)\u001b[0m [Client 27] evaluate, config: {}\n",
            "\u001b[2m\u001b[36m(DefaultActor pid=13401)\u001b[0m [Client 13] get_parameters\u001b[32m [repeated 4x across cluster]\u001b[0m\n"
          ]
        },
        {
          "output_type": "stream",
          "name": "stderr",
          "text": [
            "\u001b[2m\u001b[36m(DefaultActor pid=13401)\u001b[0m \r 50%|█████     | 1/2 [00:00<00:00,  1.59it/s]\n",
            "\u001b[2m\u001b[36m(DefaultActor pid=13401)\u001b[0m \r100%|██████████| 2/2 [00:00<00:00,  3.06it/s]\r100%|██████████| 2/2 [00:00<00:00,  2.69it/s]\n"
          ]
        },
        {
          "output_type": "stream",
          "name": "stdout",
          "text": [
            "\u001b[2m\u001b[36m(DefaultActor pid=13401)\u001b[0m local acc: 0.0\n"
          ]
        },
        {
          "output_type": "stream",
          "name": "stderr",
          "text": [
            "DEBUG flwr 2023-12-28 07:22:22,715 | server.py:187 | evaluate_round 6 received 11 results and 0 failures\n",
            "DEBUG:flwr:evaluate_round 6 received 11 results and 0 failures\n",
            "DEBUG flwr 2023-12-28 07:22:22,722 | server.py:222 | fit_round 7: strategy sampled 11 clients (out of 30)\n",
            "DEBUG:flwr:fit_round 7: strategy sampled 11 clients (out of 30)\n"
          ]
        },
        {
          "output_type": "stream",
          "name": "stdout",
          "text": [
            "\u001b[2m\u001b[36m(DefaultActor pid=13306)\u001b[0m [Client 23] fit, config: {'epochs': 10, 'lr': 0.1, 'attacker_epochs': 20, 'attacker_lr': 0.05}\n"
          ]
        },
        {
          "output_type": "stream",
          "name": "stderr",
          "text": [
            "\u001b[2m\u001b[36m(DefaultActor pid=13306)\u001b[0m \r  0%|          | 0/2 [00:00<?, ?it/s]\u001b[32m [repeated 10x across cluster]\u001b[0m\n",
            "\u001b[2m\u001b[36m(DefaultActor pid=13306)\u001b[0m \rVictim Training::   0%|          | 0/9 [00:00<?, ?it/s]\n",
            "Victim Training::  11%|█         | 1/9 [00:00<00:06,  1.28it/s]\n",
            "Victim Training::   0%|          | 0/9 [00:00<?, ?it/s]\n"
          ]
        },
        {
          "output_type": "stream",
          "name": "stdout",
          "text": [
            "\u001b[2m\u001b[36m(DefaultActor pid=13306)\u001b[0m [Client 13] evaluate, config: {}\u001b[32m [repeated 10x across cluster]\u001b[0m\n"
          ]
        },
        {
          "output_type": "stream",
          "name": "stderr",
          "text": [
            "\u001b[2m\u001b[36m(DefaultActor pid=13306)\u001b[0m \r 50%|█████     | 1/2 [00:00<00:00,  4.82it/s]\r100%|██████████| 2/2 [00:00<00:00,  7.86it/s]\u001b[32m [repeated 10x across cluster]\u001b[0m\n",
            "\u001b[2m\u001b[36m(DefaultActor pid=13377)\u001b[0m \rVictim Training::  11%|█         | 1/9 [00:00<00:03,  2.23it/s]\n",
            "\u001b[2m\u001b[36m(DefaultActor pid=13377)\u001b[0m \r100%|██████████| 2/2 [00:00<00:00,  7.85it/s]\u001b[32m [repeated 9x across cluster]\u001b[0m\n"
          ]
        },
        {
          "output_type": "stream",
          "name": "stdout",
          "text": [
            "\u001b[2m\u001b[36m(DefaultActor pid=13377)\u001b[0m local acc: 0.0\u001b[32m [repeated 10x across cluster]\u001b[0m\n"
          ]
        },
        {
          "output_type": "stream",
          "name": "stderr",
          "text": [
            "Victim Training:: 100%|██████████| 8/8 [00:02<00:00,  2.96it/s]\n",
            "Victim Training::   0%|          | 0/9 [00:00<?, ?it/s]\u001b[32m [repeated 9x across cluster]\u001b[0m\n",
            "Victim Training:: 100%|██████████| 9/9 [00:01<00:00,  5.50it/s]\n",
            "Victim Training::  50%|█████     | 4/8 [00:01<00:01,  2.19it/s]\u001b[32m [repeated 63x across cluster]\u001b[0m\n",
            "Victim Training:: 100%|██████████| 9/9 [00:03<00:00,  2.47it/s]\u001b[32m [repeated 7x across cluster]\u001b[0m\n",
            "Victim Training::   0%|          | 0/8 [00:00<?, ?it/s]\u001b[32m [repeated 9x across cluster]\u001b[0m\n",
            "Victim Training:: 100%|██████████| 9/9 [00:03<00:00,  2.31it/s]\u001b[32m [repeated 5x across cluster]\u001b[0m\n",
            "Victim Training::  38%|███▊      | 3/8 [00:01<00:02,  2.22it/s]\u001b[32m [repeated 71x across cluster]\u001b[0m\n",
            "Victim Training:: 100%|██████████| 8/8 [00:03<00:00,  2.02it/s]\u001b[32m [repeated 4x across cluster]\u001b[0m\n",
            "Victim Training::   0%|          | 0/8 [00:00<?, ?it/s]\u001b[32m [repeated 7x across cluster]\u001b[0m\n",
            "Victim Training:: 100%|██████████| 9/9 [00:03<00:00,  2.40it/s]\u001b[32m [repeated 2x across cluster]\u001b[0m\n",
            "Victim Training::  89%|████████▉ | 8/9 [00:04<00:00,  1.77it/s]\u001b[32m [repeated 51x across cluster]\u001b[0m\n",
            "Victim Training:: 100%|██████████| 9/9 [00:04<00:00,  2.00it/s]\n",
            "Victim Training:: 100%|██████████| 8/8 [00:04<00:00,  1.77it/s]\u001b[32m [repeated 5x across cluster]\u001b[0m\n",
            "Victim Training::   0%|          | 0/8 [00:00<?, ?it/s]\u001b[32m [repeated 6x across cluster]\u001b[0m\n",
            "Victim Training:: 100%|██████████| 9/9 [00:04<00:00,  1.81it/s]\n",
            "Victim Training::  75%|███████▌  | 6/8 [00:02<00:00,  2.21it/s]\u001b[32m [repeated 58x across cluster]\u001b[0m\n",
            "Victim Training:: 100%|██████████| 9/9 [00:04<00:00,  2.17it/s]\u001b[32m [repeated 2x across cluster]\u001b[0m\n",
            "Victim Training:: 100%|██████████| 8/8 [00:02<00:00,  2.97it/s]\u001b[32m [repeated 5x across cluster]\u001b[0m\n",
            "Victim Training:: 100%|██████████| 9/9 [00:03<00:00,  2.61it/s]\n",
            "Victim Training::   0%|          | 0/8 [00:00<?, ?it/s]\u001b[32m [repeated 12x across cluster]\u001b[0m\n",
            "Victim Training::  56%|█████▌    | 5/9 [00:01<00:01,  2.45it/s]\u001b[32m [repeated 71x across cluster]\u001b[0m\n",
            "Victim Training:: 100%|██████████| 9/9 [00:03<00:00,  2.94it/s]\n",
            "Victim Training:: 100%|██████████| 8/8 [00:03<00:00,  2.27it/s]\u001b[32m [repeated 7x across cluster]\u001b[0m\n",
            "Victim Training:: 100%|██████████| 9/9 [00:03<00:00,  2.51it/s]\u001b[32m [repeated 2x across cluster]\u001b[0m\n",
            "Victim Training::   0%|          | 0/9 [00:00<?, ?it/s]\u001b[32m [repeated 6x across cluster]\u001b[0m\n",
            "Victim Training::  62%|██████▎   | 5/8 [00:02<00:01,  1.69it/s]\u001b[32m [repeated 54x across cluster]\u001b[0m\n",
            "Victim Training:: 100%|██████████| 9/9 [00:04<00:00,  1.92it/s]\n",
            "Victim Training:: 100%|██████████| 9/9 [00:05<00:00,  1.71it/s]\u001b[32m [repeated 5x across cluster]\u001b[0m\n",
            "Victim Training::   0%|          | 0/9 [00:00<?, ?it/s]\u001b[32m [repeated 6x across cluster]\u001b[0m\n"
          ]
        },
        {
          "output_type": "stream",
          "name": "stdout",
          "text": [
            "\u001b[2m\u001b[36m(DefaultActor pid=13426)\u001b[0m [Client 12] get_parameters\n",
            "\u001b[2m\u001b[36m(DefaultActor pid=13426)\u001b[0m [Client 12] fit, config: {'epochs': 10, 'lr': 0.1, 'attacker_epochs': 20, 'attacker_lr': 0.05}\u001b[32m [repeated 5x across cluster]\u001b[0m\n"
          ]
        },
        {
          "output_type": "stream",
          "name": "stderr",
          "text": [
            "Victim Training::  67%|██████▋   | 6/9 [00:03<00:01,  2.06it/s]\u001b[32m [repeated 53x across cluster]\u001b[0m\n",
            "Victim Training:: 100%|██████████| 9/9 [00:03<00:00,  2.39it/s]\u001b[32m [repeated 7x across cluster]\u001b[0m\n",
            "Victim Training:: 100%|██████████| 9/9 [00:02<00:00,  3.63it/s]\n",
            "Victim Training::   0%|          | 0/8 [00:00<?, ?it/s]\u001b[32m [repeated 9x across cluster]\u001b[0m\n",
            "Victim Training:: 100%|██████████| 9/9 [00:04<00:00,  2.06it/s]\n"
          ]
        },
        {
          "output_type": "stream",
          "name": "stdout",
          "text": [
            "\u001b[2m\u001b[36m(DefaultActor pid=13377)\u001b[0m [Client 4] get_parameters\u001b[32m [repeated 5x across cluster]\u001b[0m\n",
            "\u001b[2m\u001b[36m(DefaultActor pid=13401)\u001b[0m [Client 15] fit, config: {'epochs': 10, 'lr': 0.1, 'attacker_epochs': 20, 'attacker_lr': 0.05}\u001b[32m [repeated 4x across cluster]\u001b[0m\n"
          ]
        },
        {
          "output_type": "stream",
          "name": "stderr",
          "text": [
            "Victim Training::  50%|█████     | 4/8 [00:01<00:01,  2.93it/s]\u001b[32m [repeated 58x across cluster]\u001b[0m\n",
            "Victim Training:: 100%|██████████| 8/8 [00:02<00:00,  3.24it/s]\u001b[32m [repeated 5x across cluster]\u001b[0m\n",
            "Victim Training:: 100%|██████████| 8/8 [00:02<00:00,  3.27it/s]\u001b[32m [repeated 3x across cluster]\u001b[0m\n",
            "Victim Training::   0%|          | 0/8 [00:00<?, ?it/s]\u001b[32m [repeated 8x across cluster]\u001b[0m\n",
            "Victim Training::  12%|█▎        | 1/8 [00:00<00:03,  1.79it/s]\u001b[32m [repeated 56x across cluster]\u001b[0m\n",
            "Victim Training:: 100%|██████████| 8/8 [00:03<00:00,  2.23it/s]\n",
            "Victim Training:: 100%|██████████| 8/8 [00:03<00:00,  2.33it/s]\u001b[32m [repeated 4x across cluster]\u001b[0m\n",
            "Victim Training:: 100%|██████████| 8/8 [00:03<00:00,  2.39it/s]\n",
            "Victim Training:: 100%|██████████| 8/8 [00:03<00:00,  2.26it/s]\n",
            "Victim Training::   0%|          | 0/8 [00:00<?, ?it/s]\u001b[32m [repeated 7x across cluster]\u001b[0m\n",
            "Victim Training::  25%|██▌       | 2/8 [00:00<00:02,  2.48it/s]\u001b[32m [repeated 46x across cluster]\u001b[0m\n",
            "Victim Training:: 100%|██████████| 8/8 [00:04<00:00,  2.00it/s]\n",
            "Victim Training:: 100%|██████████| 8/8 [00:02<00:00,  3.64it/s]\n",
            "Victim Training:: 100%|██████████| 8/8 [00:02<00:00,  2.69it/s]\n",
            "Victim Training:: 100%|██████████| 8/8 [00:02<00:00,  3.05it/s]\u001b[32m [repeated 6x across cluster]\u001b[0m\n",
            "Victim Training:: 100%|██████████| 8/8 [00:02<00:00,  3.11it/s]\n",
            "Victim Training::   0%|          | 0/8 [00:00<?, ?it/s]\u001b[32m [repeated 11x across cluster]\u001b[0m\n",
            "Victim Training::  50%|█████     | 4/8 [00:01<00:01,  3.35it/s]\u001b[32m [repeated 70x across cluster]\u001b[0m\n",
            "Victim Training:: 100%|██████████| 8/8 [00:02<00:00,  3.40it/s]\n",
            "Victim Training:: 100%|██████████| 8/8 [00:02<00:00,  2.81it/s]\n",
            "Victim Training:: 100%|██████████| 8/8 [00:02<00:00,  3.29it/s]\n",
            "Victim Training:: 100%|██████████| 8/8 [00:02<00:00,  2.94it/s]\u001b[32m [repeated 4x across cluster]\u001b[0m\n",
            "Victim Training::   0%|          | 0/8 [00:00<?, ?it/s]\u001b[32m [repeated 9x across cluster]\u001b[0m\n",
            "Victim Training::  12%|█▎        | 1/8 [00:00<00:04,  1.74it/s]\u001b[32m [repeated 62x across cluster]\u001b[0m\n",
            "Victim Training:: 100%|██████████| 8/8 [00:02<00:00,  3.66it/s]\n",
            "Victim Training:: 100%|██████████| 8/8 [00:02<00:00,  3.23it/s]\u001b[32m [repeated 2x across cluster]\u001b[0m\n",
            "Victim Training:: 100%|██████████| 8/8 [00:03<00:00,  2.34it/s]\n",
            "Victim Training:: 100%|██████████| 8/8 [00:02<00:00,  2.70it/s]\u001b[32m [repeated 4x across cluster]\u001b[0m\n",
            "Victim Training::   0%|          | 0/8 [00:00<?, ?it/s]\u001b[32m [repeated 6x across cluster]\u001b[0m\n",
            "Victim Training::  62%|██████▎   | 5/8 [00:02<00:01,  1.98it/s]\u001b[32m [repeated 42x across cluster]\u001b[0m\n"
          ]
        },
        {
          "output_type": "stream",
          "name": "stdout",
          "text": [
            "\u001b[2m\u001b[36m(DefaultActor pid=13306)\u001b[0m [Client 17] get_parameters\n",
            "\u001b[2m\u001b[36m(DefaultActor pid=13354)\u001b[0m [Client 28] fit, config: {'epochs': 10, 'lr': 0.1, 'attacker_epochs': 20, 'attacker_lr': 0.05}\n",
            "\u001b[2m\u001b[36m(DefaultActor pid=13331)\u001b[0m [Client 24] get_parameters\n"
          ]
        },
        {
          "output_type": "stream",
          "name": "stderr",
          "text": [
            "Victim Training:: 100%|██████████| 8/8 [00:03<00:00,  2.23it/s]\u001b[32m [repeated 2x across cluster]\u001b[0m\n",
            "Victim Training:: 100%|██████████| 8/8 [00:03<00:00,  2.41it/s]\n",
            "Victim Training:: 100%|██████████| 8/8 [00:01<00:00,  5.00it/s]\n",
            "Victim Training:: 100%|██████████| 8/8 [00:03<00:00,  2.57it/s]\u001b[32m [repeated 5x across cluster]\u001b[0m\n",
            "DEBUG flwr 2023-12-28 07:23:33,354 | server.py:236 | fit_round 7 received 11 results and 0 failures\n",
            "DEBUG:flwr:fit_round 7 received 11 results and 0 failures\n"
          ]
        },
        {
          "output_type": "stream",
          "name": "stdout",
          "text": [
            "Saving round 7 aggregated_parameters...\n",
            "GLOBAL EVALUATE\n"
          ]
        },
        {
          "output_type": "stream",
          "name": "stderr",
          "text": [
            "100%|██████████| 10000/10000 [00:15<00:00, 634.33it/s]\n",
            "INFO flwr 2023-12-28 07:23:49,211 | server.py:125 | fit progress: (7, 23025.917184114456, {'accuracy': 0.1032}, 642.3062758010001)\n",
            "INFO:flwr:fit progress: (7, 23025.917184114456, {'accuracy': 0.1032}, 642.3062758010001)\n",
            "DEBUG flwr 2023-12-28 07:23:49,216 | server.py:173 | evaluate_round 7: strategy sampled 11 clients (out of 30)\n",
            "DEBUG:flwr:evaluate_round 7: strategy sampled 11 clients (out of 30)\n",
            "  0%|          | 0/2 [00:00<?, ?it/s]\n",
            "Victim Training::   0%|          | 0/8 [00:00<?, ?it/s]\u001b[32m [repeated 3x across cluster]\u001b[0m\n",
            "Victim Training::  75%|███████▌  | 6/8 [00:00<00:00, 10.64it/s]\u001b[32m [repeated 32x across cluster]\u001b[0m\n",
            "Victim Training:: 100%|██████████| 8/8 [00:02<00:00,  3.50it/s]\n",
            "Victim Training:: 100%|██████████| 8/8 [00:00<00:00, 10.68it/s]\n"
          ]
        },
        {
          "output_type": "stream",
          "name": "stdout",
          "text": [
            "\u001b[2m\u001b[36m(DefaultActor pid=13354)\u001b[0m [Client 28] evaluate, config: {}\n",
            "\u001b[2m\u001b[36m(DefaultActor pid=13354)\u001b[0m [Client 28] get_parameters\u001b[32m [repeated 3x across cluster]\u001b[0m\n"
          ]
        },
        {
          "output_type": "stream",
          "name": "stderr",
          "text": [
            "\u001b[2m\u001b[36m(DefaultActor pid=13354)\u001b[0m \r 50%|█████     | 1/2 [00:00<00:00,  2.82it/s]\n",
            "\u001b[2m\u001b[36m(DefaultActor pid=13354)\u001b[0m \r100%|██████████| 2/2 [00:00<00:00,  3.81it/s]\r100%|██████████| 2/2 [00:00<00:00,  3.62it/s]\n"
          ]
        },
        {
          "output_type": "stream",
          "name": "stdout",
          "text": [
            "\u001b[2m\u001b[36m(DefaultActor pid=13354)\u001b[0m local acc: 0.0\n"
          ]
        },
        {
          "output_type": "stream",
          "name": "stderr",
          "text": [
            "DEBUG flwr 2023-12-28 07:23:52,126 | server.py:187 | evaluate_round 7 received 11 results and 0 failures\n",
            "DEBUG:flwr:evaluate_round 7 received 11 results and 0 failures\n",
            "DEBUG flwr 2023-12-28 07:23:52,130 | server.py:222 | fit_round 8: strategy sampled 11 clients (out of 30)\n",
            "DEBUG:flwr:fit_round 8: strategy sampled 11 clients (out of 30)\n"
          ]
        },
        {
          "output_type": "stream",
          "name": "stdout",
          "text": [
            "\u001b[2m\u001b[36m(DefaultActor pid=13331)\u001b[0m [Client 13] fit, config: {'epochs': 10, 'lr': 0.1, 'attacker_epochs': 20, 'attacker_lr': 0.05}\n"
          ]
        },
        {
          "output_type": "stream",
          "name": "stderr",
          "text": [
            "\u001b[2m\u001b[36m(DefaultActor pid=13426)\u001b[0m \r  0%|          | 0/2 [00:00<?, ?it/s]\u001b[32m [repeated 10x across cluster]\u001b[0m\n",
            "\u001b[2m\u001b[36m(DefaultActor pid=13401)\u001b[0m \rVictim Training::   0%|          | 0/8 [00:00<?, ?it/s]\u001b[32m [repeated 6x across cluster]\u001b[0m\n",
            "Victim Training::  38%|███▊      | 3/8 [00:01<00:02,  2.40it/s]\u001b[32m [repeated 19x across cluster]\u001b[0m\n",
            "100%|██████████| 2/2 [00:00<00:00,  8.19it/s]\u001b[32m [repeated 10x across cluster]\u001b[0m\n",
            "100%|██████████| 2/2 [00:00<00:00,  2.68it/s]\u001b[32m [repeated 5x across cluster]\u001b[0m\n",
            "Victim Training:: 100%|██████████| 8/8 [00:02<00:00,  2.75it/s]\n",
            "Victim Training:: 100%|██████████| 8/8 [00:03<00:00,  2.35it/s]\n",
            "Victim Training::   0%|          | 0/8 [00:00<?, ?it/s]\u001b[32m [repeated 7x across cluster]\u001b[0m\n",
            "Victim Training::  38%|███▊      | 3/8 [00:01<00:02,  1.73it/s]\u001b[32m [repeated 48x across cluster]\u001b[0m\n",
            "Victim Training:: 100%|██████████| 8/8 [00:04<00:00,  1.94it/s]\u001b[32m [repeated 5x across cluster]\u001b[0m\n",
            "Victim Training:: 100%|██████████| 8/8 [00:04<00:00,  1.71it/s]\n",
            "Victim Training:: 100%|██████████| 8/8 [00:03<00:00,  2.28it/s]\n",
            "Victim Training::   0%|          | 0/8 [00:00<?, ?it/s]\u001b[32m [repeated 8x across cluster]\u001b[0m\n",
            "Victim Training::  38%|███▊      | 3/8 [00:01<00:01,  2.95it/s]\u001b[32m [repeated 58x across cluster]\u001b[0m\n",
            "Victim Training:: 100%|██████████| 8/8 [00:03<00:00,  2.35it/s]\u001b[32m [repeated 8x across cluster]\u001b[0m\n",
            "Victim Training:: 100%|██████████| 8/8 [00:02<00:00,  2.75it/s]\n",
            "Victim Training::   0%|          | 0/8 [00:00<?, ?it/s]\u001b[32m [repeated 10x across cluster]\u001b[0m\n",
            "Victim Training::  75%|███████▌  | 6/8 [00:02<00:00,  2.39it/s]\u001b[32m [repeated 68x across cluster]\u001b[0m\n",
            "Victim Training:: 100%|██████████| 8/8 [00:03<00:00,  2.65it/s]\n",
            "Victim Training:: 100%|██████████| 8/8 [00:03<00:00,  2.62it/s]\u001b[32m [repeated 7x across cluster]\u001b[0m\n",
            "Victim Training:: 100%|██████████| 8/8 [00:03<00:00,  2.19it/s]\n",
            "Victim Training::   0%|          | 0/8 [00:00<?, ?it/s]\u001b[32m [repeated 7x across cluster]\u001b[0m\n",
            "Victim Training::  75%|███████▌  | 6/8 [00:02<00:01,  1.78it/s]\u001b[32m [repeated 56x across cluster]\u001b[0m\n",
            "Victim Training:: 100%|██████████| 8/8 [00:02<00:00,  3.11it/s]\u001b[32m [repeated 5x across cluster]\u001b[0m\n",
            "Victim Training:: 100%|██████████| 8/8 [00:04<00:00,  1.76it/s]\n",
            "Victim Training::   0%|          | 0/8 [00:00<?, ?it/s]\u001b[32m [repeated 8x across cluster]\u001b[0m\n",
            "Victim Training::  12%|█▎        | 1/8 [00:00<00:01,  6.37it/s]\u001b[32m [repeated 48x across cluster]\u001b[0m\n",
            "Victim Training:: 100%|██████████| 8/8 [00:03<00:00,  2.10it/s]\u001b[32m [repeated 8x across cluster]\u001b[0m\n",
            "Victim Training:: 100%|██████████| 8/8 [00:03<00:00,  2.42it/s]\n",
            "Victim Training:: 100%|██████████| 8/8 [00:02<00:00,  3.07it/s]\n",
            "Victim Training::   0%|          | 0/8 [00:00<?, ?it/s]\u001b[32m [repeated 10x across cluster]\u001b[0m\n",
            "Victim Training::  88%|████████▊ | 7/8 [00:02<00:00,  2.50it/s]\u001b[32m [repeated 69x across cluster]\u001b[0m\n",
            "Victim Training:: 100%|██████████| 8/8 [00:02<00:00,  2.75it/s]\u001b[32m [repeated 8x across cluster]\u001b[0m\n"
          ]
        },
        {
          "output_type": "stream",
          "name": "stdout",
          "text": [
            "\u001b[2m\u001b[36m(DefaultActor pid=13426)\u001b[0m [Client 25] evaluate, config: {}\u001b[32m [repeated 10x across cluster]\u001b[0m\n",
            "\u001b[2m\u001b[36m(DefaultActor pid=13331)\u001b[0m [Client 13] get_parameters\n",
            "\u001b[2m\u001b[36m(DefaultActor pid=13331)\u001b[0m local acc: 0.0\u001b[32m [repeated 10x across cluster]\u001b[0m\n",
            "\u001b[2m\u001b[36m(DefaultActor pid=13401)\u001b[0m [Client 18] fit, config: {'epochs': 10, 'lr': 0.1, 'attacker_epochs': 20, 'attacker_lr': 0.05}\u001b[32m [repeated 5x across cluster]\u001b[0m\n",
            "\u001b[2m\u001b[36m(DefaultActor pid=13306)\u001b[0m [Client 15] get_parameters\n"
          ]
        },
        {
          "output_type": "stream",
          "name": "stderr",
          "text": [
            "Victim Training:: 100%|██████████| 8/8 [00:03<00:00,  2.51it/s]\n",
            "Victim Training::   0%|          | 0/8 [00:00<?, ?it/s]\u001b[32m [repeated 6x across cluster]\u001b[0m\n",
            "Victim Training::  75%|███████▌  | 6/8 [00:03<00:01,  1.60it/s]\u001b[32m [repeated 55x across cluster]\u001b[0m\n",
            "Victim Training:: 100%|██████████| 8/8 [00:03<00:00,  2.21it/s]\u001b[32m [repeated 5x across cluster]\u001b[0m\n"
          ]
        },
        {
          "output_type": "stream",
          "name": "stdout",
          "text": [
            "\u001b[2m\u001b[36m(DefaultActor pid=13426)\u001b[0m [Client 10] fit, config: {'epochs': 10, 'lr': 0.1, 'attacker_epochs': 20, 'attacker_lr': 0.05}\u001b[32m [repeated 4x across cluster]\u001b[0m\n"
          ]
        },
        {
          "output_type": "stream",
          "name": "stderr",
          "text": [
            "\u001b[2m\u001b[36m(DefaultActor pid=13401)\u001b[0m \rVictim Training::   0%|          | 0/8 [00:00<?, ?it/s]\u001b[32m [repeated 8x across cluster]\u001b[0m\n",
            "Victim Training::  50%|█████     | 4/8 [00:02<00:02,  1.91it/s]\u001b[32m [repeated 40x across cluster]\u001b[0m\n",
            "Victim Training:: 100%|██████████| 8/8 [00:03<00:00,  2.06it/s]\u001b[32m [repeated 9x across cluster]\u001b[0m\n",
            "Victim Training::   0%|          | 0/8 [00:00<?, ?it/s]\u001b[32m [repeated 8x across cluster]\u001b[0m\n",
            "Victim Training::  38%|███▊      | 3/8 [00:00<00:01,  3.38it/s]\u001b[32m [repeated 70x across cluster]\u001b[0m\n",
            "Victim Training:: 100%|██████████| 8/8 [00:02<00:00,  2.76it/s]\u001b[32m [repeated 9x across cluster]\u001b[0m\n",
            "Victim Training:: 100%|██████████| 8/8 [00:02<00:00,  3.16it/s]\n",
            "Victim Training:: 100%|██████████| 8/8 [00:02<00:00,  3.10it/s]\n",
            "Victim Training::   0%|          | 0/8 [00:00<?, ?it/s]\u001b[32m [repeated 10x across cluster]\u001b[0m\n",
            "Victim Training::  62%|██████▎   | 5/8 [00:01<00:01,  2.51it/s]\u001b[32m [repeated 64x across cluster]\u001b[0m\n",
            "Victim Training:: 100%|██████████| 8/8 [00:02<00:00,  3.44it/s]\u001b[32m [repeated 8x across cluster]\u001b[0m\n",
            "Victim Training::   0%|          | 0/8 [00:00<?, ?it/s]\u001b[32m [repeated 6x across cluster]\u001b[0m\n",
            "Victim Training::  50%|█████     | 4/8 [00:02<00:02,  1.75it/s]\u001b[32m [repeated 39x across cluster]\u001b[0m\n",
            "Victim Training:: 100%|██████████| 8/8 [00:04<00:00,  1.86it/s]\u001b[32m [repeated 5x across cluster]\u001b[0m\n",
            "Victim Training::   0%|          | 0/8 [00:00<?, ?it/s]\u001b[32m [repeated 5x across cluster]\u001b[0m\n",
            "Victim Training::  50%|█████     | 4/8 [00:01<00:01,  2.49it/s]\u001b[32m [repeated 42x across cluster]\u001b[0m\n",
            "Victim Training:: 100%|██████████| 8/8 [00:04<00:00,  1.75it/s]\u001b[32m [repeated 6x across cluster]\u001b[0m\n",
            "Victim Training::   0%|          | 0/8 [00:00<?, ?it/s]\u001b[32m [repeated 9x across cluster]\u001b[0m\n",
            "Victim Training::  38%|███▊      | 3/8 [00:01<00:01,  2.64it/s]\u001b[32m [repeated 54x across cluster]\u001b[0m\n",
            "Victim Training:: 100%|██████████| 8/8 [00:02<00:00,  3.14it/s]\u001b[32m [repeated 9x across cluster]\u001b[0m\n"
          ]
        },
        {
          "output_type": "stream",
          "name": "stdout",
          "text": [
            "\u001b[2m\u001b[36m(DefaultActor pid=13331)\u001b[0m [Client 20] get_parameters\u001b[32m [repeated 5x across cluster]\u001b[0m\n",
            "\u001b[2m\u001b[36m(DefaultActor pid=13401)\u001b[0m [Client 12] fit, config: {'epochs': 10, 'lr': 0.1, 'attacker_epochs': 20, 'attacker_lr': 0.05}\n"
          ]
        },
        {
          "output_type": "stream",
          "name": "stderr",
          "text": [
            "DEBUG flwr 2023-12-28 07:25:04,053 | server.py:236 | fit_round 8 received 11 results and 0 failures\n",
            "DEBUG:flwr:fit_round 8 received 11 results and 0 failures\n"
          ]
        },
        {
          "output_type": "stream",
          "name": "stdout",
          "text": [
            "Saving round 8 aggregated_parameters...\n",
            "GLOBAL EVALUATE\n"
          ]
        },
        {
          "output_type": "stream",
          "name": "stderr",
          "text": [
            "100%|██████████| 10000/10000 [00:15<00:00, 625.72it/s]\n",
            "INFO flwr 2023-12-28 07:25:20,168 | server.py:125 | fit progress: (8, 23025.955794095993, {'accuracy': 0.1032}, 733.2635309800003)\n",
            "INFO:flwr:fit progress: (8, 23025.955794095993, {'accuracy': 0.1032}, 733.2635309800003)\n",
            "DEBUG flwr 2023-12-28 07:25:20,171 | server.py:173 | evaluate_round 8: strategy sampled 11 clients (out of 30)\n",
            "DEBUG:flwr:evaluate_round 8: strategy sampled 11 clients (out of 30)\n",
            "  0%|          | 0/2 [00:00<?, ?it/s]\n",
            "Victim Training::   0%|          | 0/8 [00:00<?, ?it/s]\u001b[32m [repeated 2x across cluster]\u001b[0m\n",
            "Victim Training::  88%|████████▊ | 7/8 [00:01<00:00,  6.15it/s]\u001b[32m [repeated 36x across cluster]\u001b[0m\n",
            "Victim Training:: 100%|██████████| 8/8 [00:01<00:00,  5.39it/s]\u001b[32m [repeated 6x across cluster]\u001b[0m\n"
          ]
        },
        {
          "output_type": "stream",
          "name": "stdout",
          "text": [
            "\u001b[2m\u001b[36m(DefaultActor pid=13426)\u001b[0m [Client 6] evaluate, config: {}\n",
            "\u001b[2m\u001b[36m(DefaultActor pid=13426)\u001b[0m [Client 10] get_parameters\u001b[32m [repeated 4x across cluster]\u001b[0m\n"
          ]
        },
        {
          "output_type": "stream",
          "name": "stderr",
          "text": [
            " 50%|█████     | 1/2 [00:00<00:00,  1.72it/s]\n",
            "100%|██████████| 2/2 [00:00<00:00,  2.57it/s]\n"
          ]
        },
        {
          "output_type": "stream",
          "name": "stdout",
          "text": [
            "\u001b[2m\u001b[36m(DefaultActor pid=13401)\u001b[0m local acc: 0.0\n"
          ]
        },
        {
          "output_type": "stream",
          "name": "stderr",
          "text": [
            "DEBUG flwr 2023-12-28 07:25:24,430 | server.py:187 | evaluate_round 8 received 11 results and 0 failures\n",
            "DEBUG:flwr:evaluate_round 8 received 11 results and 0 failures\n",
            "DEBUG flwr 2023-12-28 07:25:24,434 | server.py:222 | fit_round 9: strategy sampled 11 clients (out of 30)\n",
            "DEBUG:flwr:fit_round 9: strategy sampled 11 clients (out of 30)\n"
          ]
        },
        {
          "output_type": "stream",
          "name": "stdout",
          "text": [
            "\u001b[2m\u001b[36m(DefaultActor pid=13306)\u001b[0m [Client 18] fit, config: {'epochs': 10, 'lr': 0.1, 'attacker_epochs': 20, 'attacker_lr': 0.05}\n"
          ]
        },
        {
          "output_type": "stream",
          "name": "stderr",
          "text": [
            "\u001b[2m\u001b[36m(DefaultActor pid=13306)\u001b[0m \r  0%|          | 0/2 [00:00<?, ?it/s]\u001b[32m [repeated 10x across cluster]\u001b[0m\n",
            "\u001b[2m\u001b[36m(DefaultActor pid=13377)\u001b[0m \rVictim Training::   0%|          | 0/8 [00:00<?, ?it/s]\u001b[32m [repeated 6x across cluster]\u001b[0m\n",
            "Victim Training::  12%|█▎        | 1/8 [00:00<00:04,  1.63it/s]\u001b[32m [repeated 11x across cluster]\u001b[0m\n",
            "100%|██████████| 2/2 [00:00<00:00,  5.77it/s]\u001b[32m [repeated 10x across cluster]\u001b[0m\n",
            "100%|██████████| 2/2 [00:00<00:00,  3.23it/s]\u001b[32m [repeated 8x across cluster]\u001b[0m\n",
            "Victim Training:: 100%|██████████| 8/8 [00:02<00:00,  3.54it/s]\n",
            "Victim Training:: 100%|██████████| 9/9 [00:03<00:00,  2.87it/s]\n",
            "Victim Training::   0%|          | 0/8 [00:00<?, ?it/s]\u001b[32m [repeated 8x across cluster]\u001b[0m\n",
            "Victim Training::  75%|███████▌  | 6/8 [00:02<00:00,  2.23it/s]\u001b[32m [repeated 69x across cluster]\u001b[0m\n",
            "Victim Training:: 100%|██████████| 9/9 [00:03<00:00,  2.60it/s]\u001b[32m [repeated 10x across cluster]\u001b[0m\n",
            "Victim Training::   0%|          | 0/8 [00:00<?, ?it/s]\u001b[32m [repeated 9x across cluster]\u001b[0m\n",
            "Victim Training::  12%|█▎        | 1/8 [00:00<00:04,  1.61it/s]\u001b[32m [repeated 55x across cluster]\u001b[0m\n",
            "Victim Training:: 100%|██████████| 9/9 [00:04<00:00,  1.82it/s]\u001b[32m [repeated 6x across cluster]\u001b[0m\n",
            "Victim Training::   0%|          | 0/8 [00:00<?, ?it/s]\u001b[32m [repeated 6x across cluster]\u001b[0m\n",
            "Victim Training::  75%|███████▌  | 6/8 [00:02<00:00,  2.78it/s]\u001b[32m [repeated 56x across cluster]\u001b[0m\n",
            "Victim Training:: 100%|██████████| 8/8 [00:02<00:00,  2.79it/s]\u001b[32m [repeated 8x across cluster]\u001b[0m\n",
            "Victim Training:: 100%|██████████| 8/8 [00:02<00:00,  2.68it/s]\n",
            "Victim Training::   0%|          | 0/8 [00:00<?, ?it/s]\u001b[32m [repeated 9x across cluster]\u001b[0m\n",
            "Victim Training::  50%|█████     | 4/8 [00:01<00:01,  3.15it/s]\u001b[32m [repeated 69x across cluster]\u001b[0m\n",
            "Victim Training:: 100%|██████████| 8/8 [00:02<00:00,  3.01it/s]\u001b[32m [repeated 8x across cluster]\u001b[0m\n",
            "Victim Training:: 100%|██████████| 9/9 [00:03<00:00,  2.73it/s]\n",
            "Victim Training::   0%|          | 0/8 [00:00<?, ?it/s]\u001b[32m [repeated 10x across cluster]\u001b[0m\n",
            "Victim Training::  12%|█▎        | 1/8 [00:00<00:04,  1.62it/s]\u001b[32m [repeated 55x across cluster]\u001b[0m\n",
            "Victim Training:: 100%|██████████| 9/9 [00:04<00:00,  2.23it/s]\n",
            "Victim Training:: 100%|██████████| 9/9 [00:04<00:00,  2.04it/s]\n",
            "Victim Training:: 100%|██████████| 8/8 [00:04<00:00,  1.90it/s]\u001b[32m [repeated 7x across cluster]\u001b[0m\n",
            "Victim Training:: 100%|██████████| 9/9 [00:04<00:00,  2.12it/s]\n",
            "Victim Training::   0%|          | 0/9 [00:00<?, ?it/s]\u001b[32m [repeated 8x across cluster]\u001b[0m\n",
            "Victim Training::  38%|███▊      | 3/8 [00:01<00:02,  2.08it/s]\u001b[32m [repeated 49x across cluster]\u001b[0m\n",
            "Victim Training:: 100%|██████████| 8/8 [00:04<00:00,  1.64it/s]\u001b[32m [repeated 5x across cluster]\u001b[0m\n"
          ]
        },
        {
          "output_type": "stream",
          "name": "stdout",
          "text": [
            "\u001b[2m\u001b[36m(DefaultActor pid=13306)\u001b[0m [Client 19] evaluate, config: {}\u001b[32m [repeated 10x across cluster]\u001b[0m\n",
            "\u001b[2m\u001b[36m(DefaultActor pid=13306)\u001b[0m [Client 18] get_parameters\n",
            "\u001b[2m\u001b[36m(DefaultActor pid=13354)\u001b[0m local acc: 0.0\u001b[32m [repeated 10x across cluster]\u001b[0m\n",
            "\u001b[2m\u001b[36m(DefaultActor pid=13377)\u001b[0m [Client 14] fit, config: {'epochs': 10, 'lr': 0.1, 'attacker_epochs': 20, 'attacker_lr': 0.05}\u001b[32m [repeated 5x across cluster]\u001b[0m\n",
            "\u001b[2m\u001b[36m(DefaultActor pid=13426)\u001b[0m [Client 27] get_parameters\n"
          ]
        },
        {
          "output_type": "stream",
          "name": "stderr",
          "text": [
            "\u001b[2m\u001b[36m(DefaultActor pid=13426)\u001b[0m \rVictim Training::   0%|          | 0/8 [00:00<?, ?it/s]\u001b[32m [repeated 6x across cluster]\u001b[0m\n",
            "Victim Training::  38%|███▊      | 3/8 [00:01<00:02,  1.92it/s]\u001b[32m [repeated 66x across cluster]\u001b[0m\n",
            "Victim Training:: 100%|██████████| 8/8 [00:03<00:00,  2.21it/s]\u001b[32m [repeated 9x across cluster]\u001b[0m\n",
            "Victim Training:: 100%|██████████| 9/9 [00:03<00:00,  2.52it/s]\n",
            "Victim Training::   0%|          | 0/8 [00:00<?, ?it/s]\u001b[32m [repeated 10x across cluster]\u001b[0m\n",
            "Victim Training::  38%|███▊      | 3/8 [00:01<00:02,  1.97it/s]\u001b[32m [repeated 57x across cluster]\u001b[0m\n",
            "Victim Training:: 100%|██████████| 8/8 [00:03<00:00,  2.60it/s]\u001b[32m [repeated 6x across cluster]\u001b[0m\n",
            "Victim Training:: 100%|██████████| 9/9 [00:02<00:00,  3.29it/s]\n",
            "Victim Training::   0%|          | 0/8 [00:00<?, ?it/s]\u001b[32m [repeated 5x across cluster]\u001b[0m\n",
            "Victim Training::  67%|██████▋   | 6/9 [00:02<00:01,  2.74it/s]\u001b[32m [repeated 44x across cluster]\u001b[0m\n",
            "Victim Training:: 100%|██████████| 9/9 [00:03<00:00,  2.65it/s]\n",
            "Victim Training:: 100%|██████████| 8/8 [00:03<00:00,  2.33it/s]\u001b[32m [repeated 6x across cluster]\u001b[0m\n",
            "Victim Training:: 100%|██████████| 9/9 [00:02<00:00,  3.10it/s]\n",
            "Victim Training::   0%|          | 0/8 [00:00<?, ?it/s]\u001b[32m [repeated 10x across cluster]\u001b[0m\n",
            "Victim Training::  25%|██▌       | 2/8 [00:00<00:01,  3.35it/s]\u001b[32m [repeated 71x across cluster]\u001b[0m\n",
            "Victim Training:: 100%|██████████| 8/8 [00:02<00:00,  2.96it/s]\u001b[32m [repeated 8x across cluster]\u001b[0m\n",
            "Victim Training:: 100%|██████████| 9/9 [00:02<00:00,  3.55it/s]\n",
            "Victim Training::   0%|          | 0/8 [00:00<?, ?it/s]\u001b[32m [repeated 10x across cluster]\u001b[0m\n",
            "Victim Training::  12%|█▎        | 1/8 [00:00<00:04,  1.63it/s]\u001b[32m [repeated 67x across cluster]\u001b[0m\n",
            "Victim Training:: 100%|██████████| 8/8 [00:02<00:00,  3.22it/s]\u001b[32m [repeated 6x across cluster]\u001b[0m\n",
            "Victim Training:: 100%|██████████| 9/9 [00:02<00:00,  3.48it/s]\u001b[32m [repeated 2x across cluster]\u001b[0m\n",
            "Victim Training::   0%|          | 0/8 [00:00<?, ?it/s]\u001b[32m [repeated 5x across cluster]\u001b[0m\n",
            "Victim Training::  38%|███▊      | 3/8 [00:01<00:02,  1.73it/s]\u001b[32m [repeated 45x across cluster]\u001b[0m\n",
            "Victim Training:: 100%|██████████| 8/8 [00:04<00:00,  1.92it/s]\u001b[32m [repeated 7x across cluster]\u001b[0m\n",
            "Victim Training:: 100%|██████████| 9/9 [00:04<00:00,  2.19it/s]\n"
          ]
        },
        {
          "output_type": "stream",
          "name": "stdout",
          "text": [
            "\u001b[2m\u001b[36m(DefaultActor pid=13401)\u001b[0m [Client 20] fit, config: {'epochs': 10, 'lr': 0.1, 'attacker_epochs': 20, 'attacker_lr': 0.05}\u001b[32m [repeated 5x across cluster]\u001b[0m\n",
            "\u001b[2m\u001b[36m(DefaultActor pid=13426)\u001b[0m [Client 2] get_parameters\u001b[32m [repeated 5x across cluster]\u001b[0m\n"
          ]
        },
        {
          "output_type": "stream",
          "name": "stderr",
          "text": [
            "Victim Training:: 100%|██████████| 9/9 [00:02<00:00,  3.31it/s]\n",
            "Victim Training::   0%|          | 0/8 [00:00<?, ?it/s]\u001b[32m [repeated 8x across cluster]\u001b[0m\n",
            "Victim Training::  67%|██████▋   | 6/9 [00:01<00:00,  5.65it/s]\u001b[32m [repeated 67x across cluster]\u001b[0m\n",
            "Victim Training:: 100%|██████████| 9/9 [00:01<00:00,  6.14it/s]\n",
            "DEBUG flwr 2023-12-28 07:26:33,509 | server.py:236 | fit_round 9 received 11 results and 0 failures\n",
            "DEBUG:flwr:fit_round 9 received 11 results and 0 failures\n"
          ]
        },
        {
          "output_type": "stream",
          "name": "stdout",
          "text": [
            "Saving round 9 aggregated_parameters...\n",
            "GLOBAL EVALUATE\n"
          ]
        },
        {
          "output_type": "stream",
          "name": "stderr",
          "text": [
            "100%|██████████| 10000/10000 [00:15<00:00, 634.69it/s]\n",
            "INFO flwr 2023-12-28 07:26:49,360 | server.py:125 | fit progress: (9, 23025.96374154091, {'accuracy': 0.1032}, 822.4549103510003)\n",
            "INFO:flwr:fit progress: (9, 23025.96374154091, {'accuracy': 0.1032}, 822.4549103510003)\n",
            "DEBUG flwr 2023-12-28 07:26:49,363 | server.py:173 | evaluate_round 9: strategy sampled 11 clients (out of 30)\n",
            "DEBUG:flwr:evaluate_round 9: strategy sampled 11 clients (out of 30)\n",
            "  0%|          | 0/2 [00:00<?, ?it/s]\n",
            "Victim Training:: 100%|██████████| 8/8 [00:01<00:00,  6.52it/s]\u001b[32m [repeated 8x across cluster]\u001b[0m\n",
            "Victim Training::  75%|███████▌  | 6/8 [00:01<00:00,  5.83it/s]\u001b[32m [repeated 5x across cluster]\u001b[0m\n"
          ]
        },
        {
          "output_type": "stream",
          "name": "stdout",
          "text": [
            "\u001b[2m\u001b[36m(DefaultActor pid=13401)\u001b[0m [Client 0] evaluate, config: {}\n",
            "\u001b[2m\u001b[36m(DefaultActor pid=13401)\u001b[0m [Client 20] get_parameters\u001b[32m [repeated 4x across cluster]\u001b[0m\n"
          ]
        },
        {
          "output_type": "stream",
          "name": "stderr",
          "text": [
            "\u001b[2m\u001b[36m(DefaultActor pid=13401)\u001b[0m \r 50%|█████     | 1/2 [00:00<00:00,  2.70it/s]\r100%|██████████| 2/2 [00:00<00:00,  4.86it/s]\n"
          ]
        },
        {
          "output_type": "stream",
          "name": "stdout",
          "text": [
            "\u001b[2m\u001b[36m(DefaultActor pid=13401)\u001b[0m local acc: 0.0\n"
          ]
        },
        {
          "output_type": "stream",
          "name": "stderr",
          "text": [
            "\u001b[2m\u001b[36m(DefaultActor pid=13331)\u001b[0m \r100%|██████████| 2/2 [00:00<00:00,  2.94it/s]\r100%|██████████| 2/2 [00:00<00:00,  2.75it/s]\n",
            "DEBUG flwr 2023-12-28 07:26:52,393 | server.py:187 | evaluate_round 9 received 11 results and 0 failures\n",
            "DEBUG:flwr:evaluate_round 9 received 11 results and 0 failures\n",
            "DEBUG flwr 2023-12-28 07:26:52,397 | server.py:222 | fit_round 10: strategy sampled 11 clients (out of 30)\n",
            "DEBUG:flwr:fit_round 10: strategy sampled 11 clients (out of 30)\n",
            "Victim Training::   0%|          | 0/9 [00:00<?, ?it/s]\n"
          ]
        },
        {
          "output_type": "stream",
          "name": "stdout",
          "text": [
            "\u001b[2m\u001b[36m(DefaultActor pid=13426)\u001b[0m [Client 22] fit, config: {'epochs': 10, 'lr': 0.1, 'attacker_epochs': 20, 'attacker_lr': 0.05}\n"
          ]
        },
        {
          "output_type": "stream",
          "name": "stderr",
          "text": [
            "\u001b[2m\u001b[36m(DefaultActor pid=13426)\u001b[0m \r  0%|          | 0/2 [00:00<?, ?it/s]\u001b[32m [repeated 10x across cluster]\u001b[0m\n",
            "Victim Training::  12%|█▎        | 1/8 [00:00<00:05,  1.39it/s]\u001b[32m [repeated 8x across cluster]\u001b[0m\n",
            "100%|██████████| 2/2 [00:00<00:00,  6.83it/s]\u001b[32m [repeated 10x across cluster]\u001b[0m\n",
            "100%|██████████| 2/2 [00:00<00:00,  5.38it/s]\u001b[32m [repeated 7x across cluster]\u001b[0m\n",
            "Victim Training:: 100%|██████████| 9/9 [00:04<00:00,  1.93it/s]\n",
            "Victim Training::   0%|          | 0/9 [00:00<?, ?it/s]\u001b[32m [repeated 6x across cluster]\u001b[0m\n",
            "Victim Training:: 100%|██████████| 9/9 [00:04<00:00,  1.86it/s]\n",
            "Victim Training::  38%|███▊      | 3/8 [00:01<00:01,  2.64it/s]\u001b[32m [repeated 48x across cluster]\u001b[0m\n",
            "Victim Training:: 100%|██████████| 9/9 [00:03<00:00,  2.32it/s]\n",
            "Victim Training:: 100%|██████████| 8/8 [00:03<00:00,  2.35it/s]\u001b[32m [repeated 2x across cluster]\u001b[0m\n",
            "Victim Training::   0%|          | 0/8 [00:00<?, ?it/s]\u001b[32m [repeated 11x across cluster]\u001b[0m\n",
            "Victim Training:: 100%|██████████| 8/8 [00:03<00:00,  2.16it/s]\u001b[32m [repeated 6x across cluster]\u001b[0m\n",
            "Victim Training::  88%|████████▊ | 7/8 [00:03<00:00,  2.12it/s]\u001b[32m [repeated 70x across cluster]\u001b[0m\n",
            "Victim Training:: 100%|██████████| 9/9 [00:02<00:00,  3.42it/s]\u001b[32m [repeated 3x across cluster]\u001b[0m\n",
            "Victim Training:: 100%|██████████| 8/8 [00:02<00:00,  2.82it/s]\n",
            "Victim Training::   0%|          | 0/9 [00:00<?, ?it/s]\u001b[32m [repeated 7x across cluster]\u001b[0m\n",
            "Victim Training:: 100%|██████████| 8/8 [00:03<00:00,  2.25it/s]\n",
            "Victim Training:: 100%|██████████| 8/8 [00:03<00:00,  2.47it/s]\u001b[32m [repeated 3x across cluster]\u001b[0m\n",
            "Victim Training::  38%|███▊      | 3/8 [00:01<00:02,  1.86it/s]\u001b[32m [repeated 65x across cluster]\u001b[0m\n",
            "Victim Training:: 100%|██████████| 9/9 [00:03<00:00,  2.50it/s]\u001b[32m [repeated 2x across cluster]\u001b[0m\n",
            "Victim Training:: 100%|██████████| 8/8 [00:03<00:00,  2.13it/s]\n",
            "Victim Training::   0%|          | 0/8 [00:00<?, ?it/s]\u001b[32m [repeated 8x across cluster]\u001b[0m\n",
            "Victim Training:: 100%|██████████| 8/8 [00:04<00:00,  1.68it/s]\u001b[32m [repeated 7x across cluster]\u001b[0m\n",
            "Victim Training::  56%|█████▌    | 5/9 [00:03<00:02,  1.45it/s]\u001b[32m [repeated 43x across cluster]\u001b[0m\n",
            "Victim Training:: 100%|██████████| 8/8 [00:04<00:00,  1.82it/s]\n",
            "Victim Training:: 100%|██████████| 9/9 [00:04<00:00,  2.16it/s]\n",
            "Victim Training::   0%|          | 0/8 [00:00<?, ?it/s]\u001b[32m [repeated 9x across cluster]\u001b[0m\n",
            "Victim Training:: 100%|██████████| 8/8 [00:04<00:00,  1.84it/s]\u001b[32m [repeated 4x across cluster]\u001b[0m\n",
            "Victim Training:: 100%|██████████| 8/8 [00:03<00:00,  2.54it/s]\n",
            "Victim Training::  88%|████████▊ | 7/8 [00:02<00:00,  3.11it/s]\u001b[32m [repeated 65x across cluster]\u001b[0m\n",
            "Victim Training:: 100%|██████████| 9/9 [00:04<00:00,  1.85it/s]\n",
            "Victim Training::   0%|          | 0/8 [00:00<?, ?it/s]\u001b[32m [repeated 8x across cluster]\u001b[0m\n",
            "Victim Training:: 100%|██████████| 8/8 [00:03<00:00,  2.46it/s]\u001b[32m [repeated 6x across cluster]\u001b[0m\n",
            "Victim Training:: 100%|██████████| 9/9 [00:03<00:00,  2.36it/s]\u001b[32m [repeated 4x across cluster]\u001b[0m\n",
            "Victim Training::  44%|████▍     | 4/9 [00:01<00:01,  2.79it/s]\u001b[32m [repeated 68x across cluster]\u001b[0m\n",
            "Victim Training:: 100%|██████████| 8/8 [00:03<00:00,  2.38it/s]\n",
            "Victim Training::   0%|          | 0/8 [00:00<?, ?it/s]\u001b[32m [repeated 7x across cluster]\u001b[0m\n",
            "Victim Training:: 100%|██████████| 8/8 [00:03<00:00,  2.49it/s]\u001b[32m [repeated 3x across cluster]\u001b[0m\n",
            "Victim Training:: 100%|██████████| 8/8 [00:04<00:00,  1.72it/s]\n"
          ]
        },
        {
          "output_type": "stream",
          "name": "stdout",
          "text": [
            "\u001b[2m\u001b[36m(DefaultActor pid=13426)\u001b[0m [Client 24] evaluate, config: {}\u001b[32m [repeated 10x across cluster]\u001b[0m\n",
            "\u001b[2m\u001b[36m(DefaultActor pid=13377)\u001b[0m [Client 15] get_parameters\n",
            "\u001b[2m\u001b[36m(DefaultActor pid=13426)\u001b[0m local acc: 0.0\u001b[32m [repeated 10x across cluster]\u001b[0m\n",
            "\u001b[2m\u001b[36m(DefaultActor pid=13354)\u001b[0m [Client 19] fit, config: {'epochs': 10, 'lr': 0.1, 'attacker_epochs': 20, 'attacker_lr': 0.05}\u001b[32m [repeated 5x across cluster]\u001b[0m\n"
          ]
        },
        {
          "output_type": "stream",
          "name": "stderr",
          "text": [
            "\u001b[2m\u001b[36m(DefaultActor pid=13331)\u001b[0m \rVictim Training::  33%|███▎      | 3/9 [00:01<00:03,  1.60it/s]\u001b[32m [repeated 41x across cluster]\u001b[0m\n",
            "\u001b[2m\u001b[36m(DefaultActor pid=13331)\u001b[0m \rVictim Training::  89%|████████▉ | 8/9 [00:04<00:00,  1.72it/s]\rVictim Training:: 100%|██████████| 9/9 [00:04<00:00,  1.87it/s]\n"
          ]
        },
        {
          "output_type": "stream",
          "name": "stdout",
          "text": [
            "\u001b[2m\u001b[36m(DefaultActor pid=13354)\u001b[0m [Client 19] get_parameters\n"
          ]
        },
        {
          "output_type": "stream",
          "name": "stderr",
          "text": [
            "Victim Training::   0%|          | 0/8 [00:00<?, ?it/s]\u001b[32m [repeated 6x across cluster]\u001b[0m\n",
            "Victim Training:: 100%|██████████| 8/8 [00:05<00:00,  1.51it/s]\u001b[32m [repeated 4x across cluster]\u001b[0m\n",
            "Victim Training:: 100%|██████████| 9/9 [00:04<00:00,  1.82it/s]\n",
            "Victim Training:: 100%|██████████| 9/9 [00:04<00:00,  2.05it/s]\n",
            "Victim Training::  38%|███▊      | 3/8 [00:01<00:01,  3.29it/s]\u001b[32m [repeated 48x across cluster]\u001b[0m\n",
            "Victim Training:: 100%|██████████| 8/8 [00:03<00:00,  2.00it/s]\n",
            "Victim Training::   0%|          | 0/8 [00:00<?, ?it/s]\u001b[32m [repeated 9x across cluster]\u001b[0m\n",
            "Victim Training:: 100%|██████████| 8/8 [00:02<00:00,  3.83it/s]\u001b[32m [repeated 6x across cluster]\u001b[0m\n",
            "Victim Training:: 100%|██████████| 8/8 [00:02<00:00,  2.92it/s]\n",
            "Victim Training:: 100%|██████████| 8/8 [00:02<00:00,  2.87it/s]\n",
            "Victim Training::  88%|████████▊ | 7/8 [00:02<00:00,  2.49it/s]\u001b[32m [repeated 66x across cluster]\u001b[0m\n",
            "Victim Training:: 100%|██████████| 8/8 [00:02<00:00,  2.98it/s]\n",
            "Victim Training:: 100%|██████████| 8/8 [00:02<00:00,  3.08it/s]\n",
            "Victim Training::   0%|          | 0/8 [00:00<?, ?it/s]\u001b[32m [repeated 8x across cluster]\u001b[0m\n",
            "Victim Training:: 100%|██████████| 8/8 [00:03<00:00,  2.14it/s]\u001b[32m [repeated 6x across cluster]\u001b[0m\n",
            "Victim Training::  12%|█▎        | 1/8 [00:00<00:04,  1.71it/s]\u001b[32m [repeated 47x across cluster]\u001b[0m\n",
            "Victim Training:: 100%|██████████| 8/8 [00:03<00:00,  2.24it/s]\u001b[32m [repeated 2x across cluster]\u001b[0m\n",
            "Victim Training::   0%|          | 0/8 [00:00<?, ?it/s]\u001b[32m [repeated 7x across cluster]\u001b[0m\n",
            "Victim Training:: 100%|██████████| 8/8 [00:04<00:00,  1.97it/s]\u001b[32m [repeated 3x across cluster]\u001b[0m\n",
            "Victim Training:: 100%|██████████| 8/8 [00:02<00:00,  3.33it/s]\n",
            "Victim Training::  12%|█▎        | 1/8 [00:00<00:01,  3.74it/s]\u001b[32m [repeated 55x across cluster]\u001b[0m\n",
            "Victim Training:: 100%|██████████| 8/8 [00:02<00:00,  2.86it/s]\u001b[32m [repeated 3x across cluster]\u001b[0m\n",
            "Victim Training::   0%|          | 0/8 [00:00<?, ?it/s]\u001b[32m [repeated 10x across cluster]\u001b[0m\n",
            "Victim Training:: 100%|██████████| 8/8 [00:02<00:00,  2.92it/s]\u001b[32m [repeated 6x across cluster]\u001b[0m\n",
            "Victim Training:: 100%|██████████| 8/8 [00:02<00:00,  3.27it/s]\u001b[32m [repeated 3x across cluster]\u001b[0m\n",
            "Victim Training::  88%|████████▊ | 7/8 [00:02<00:00,  2.70it/s]\u001b[32m [repeated 68x across cluster]\u001b[0m\n",
            "Victim Training:: 100%|██████████| 8/8 [00:02<00:00,  3.28it/s]\n",
            "Victim Training::   0%|          | 0/8 [00:00<?, ?it/s]\u001b[32m [repeated 11x across cluster]\u001b[0m\n",
            "Victim Training:: 100%|██████████| 8/8 [00:02<00:00,  2.95it/s]\u001b[32m [repeated 6x across cluster]\u001b[0m\n"
          ]
        },
        {
          "output_type": "stream",
          "name": "stdout",
          "text": [
            "\u001b[2m\u001b[36m(DefaultActor pid=13401)\u001b[0m [Client 17] fit, config: {'epochs': 10, 'lr': 0.1, 'attacker_epochs': 20, 'attacker_lr': 0.05}\u001b[32m [repeated 5x across cluster]\u001b[0m\n",
            "\u001b[2m\u001b[36m(DefaultActor pid=13377)\u001b[0m [Client 7] get_parameters\u001b[32m [repeated 5x across cluster]\u001b[0m\n"
          ]
        },
        {
          "output_type": "stream",
          "name": "stderr",
          "text": [
            "\u001b[2m\u001b[36m(DefaultActor pid=13306)\u001b[0m \rVictim Training:: 100%|██████████| 8/8 [00:02<00:00,  3.42it/s]\u001b[32m [repeated 2x across cluster]\u001b[0m\n",
            "Victim Training::  75%|███████▌  | 6/8 [00:02<00:00,  2.23it/s]\u001b[32m [repeated 58x across cluster]\u001b[0m\n",
            "Victim Training:: 100%|██████████| 8/8 [00:03<00:00,  2.16it/s]\n",
            "DEBUG flwr 2023-12-28 07:28:03,667 | server.py:236 | fit_round 10 received 11 results and 0 failures\n",
            "DEBUG:flwr:fit_round 10 received 11 results and 0 failures\n"
          ]
        },
        {
          "output_type": "stream",
          "name": "stdout",
          "text": [
            "Saving round 10 aggregated_parameters...\n",
            "GLOBAL EVALUATE\n"
          ]
        },
        {
          "output_type": "stream",
          "name": "stderr",
          "text": [
            "100%|██████████| 10000/10000 [00:15<00:00, 633.47it/s]\n",
            "INFO flwr 2023-12-28 07:28:19,584 | server.py:125 | fit progress: (10, 23026.004318237305, {'accuracy': 0.1032}, 912.6796574509999)\n",
            "INFO:flwr:fit progress: (10, 23026.004318237305, {'accuracy': 0.1032}, 912.6796574509999)\n",
            "DEBUG flwr 2023-12-28 07:28:19,589 | server.py:173 | evaluate_round 10: strategy sampled 11 clients (out of 30)\n",
            "DEBUG:flwr:evaluate_round 10: strategy sampled 11 clients (out of 30)\n",
            "  0%|          | 0/2 [00:00<?, ?it/s]\n",
            "Victim Training::   0%|          | 0/8 [00:00<?, ?it/s]\u001b[32m [repeated 2x across cluster]\u001b[0m\n",
            "Victim Training:: 100%|██████████| 8/8 [00:03<00:00,  2.25it/s]\u001b[32m [repeated 3x across cluster]\u001b[0m\n",
            "Victim Training:: 100%|██████████| 8/8 [00:01<00:00,  4.96it/s]\u001b[32m [repeated 3x across cluster]\u001b[0m\n",
            "Victim Training::  88%|████████▊ | 7/8 [00:01<00:00,  4.72it/s]\u001b[32m [repeated 20x across cluster]\u001b[0m\n",
            " 50%|█████     | 1/2 [00:00<00:00,  6.37it/s]\n",
            "100%|██████████| 2/2 [00:00<00:00,  7.71it/s]\n"
          ]
        },
        {
          "output_type": "stream",
          "name": "stdout",
          "text": [
            "\u001b[2m\u001b[36m(DefaultActor pid=13354)\u001b[0m [Client 17] evaluate, config: {}\n",
            "\u001b[2m\u001b[36m(DefaultActor pid=13354)\u001b[0m [Client 29] get_parameters\u001b[32m [repeated 4x across cluster]\u001b[0m\n",
            "\u001b[2m\u001b[36m(DefaultActor pid=13354)\u001b[0m local acc: 0.0\n"
          ]
        },
        {
          "output_type": "stream",
          "name": "stderr",
          "text": [
            "\u001b[2m\u001b[36m(DefaultActor pid=13354)\u001b[0m \r 50%|█████     | 1/2 [00:00<00:00,  7.25it/s]\n",
            "\u001b[2m\u001b[36m(DefaultActor pid=13354)\u001b[0m \r100%|██████████| 2/2 [00:00<00:00, 10.87it/s]\n"
          ]
        },
        {
          "output_type": "stream",
          "name": "stdout",
          "text": [
            "\u001b[2m\u001b[36m(DefaultActor pid=13354)\u001b[0m local acc: 0.0\n"
          ]
        },
        {
          "output_type": "stream",
          "name": "stderr",
          "text": [
            "DEBUG flwr 2023-12-28 07:28:22,539 | server.py:187 | evaluate_round 10 received 11 results and 0 failures\n",
            "DEBUG:flwr:evaluate_round 10 received 11 results and 0 failures\n",
            "DEBUG flwr 2023-12-28 07:28:22,542 | server.py:222 | fit_round 11: strategy sampled 11 clients (out of 30)\n",
            "DEBUG:flwr:fit_round 11: strategy sampled 11 clients (out of 30)\n"
          ]
        },
        {
          "output_type": "stream",
          "name": "stdout",
          "text": [
            "\u001b[2m\u001b[36m(DefaultActor pid=13306)\u001b[0m [Client 15] fit, config: {'epochs': 10, 'lr': 0.1, 'attacker_epochs': 20, 'attacker_lr': 0.05}\n"
          ]
        },
        {
          "output_type": "stream",
          "name": "stderr",
          "text": [
            "\u001b[2m\u001b[36m(DefaultActor pid=13306)\u001b[0m \r  0%|          | 0/2 [00:00<?, ?it/s]\u001b[32m [repeated 10x across cluster]\u001b[0m\n",
            "\u001b[2m\u001b[36m(DefaultActor pid=13377)\u001b[0m \rVictim Training::   0%|          | 0/8 [00:00<?, ?it/s]\u001b[32m [repeated 6x across cluster]\u001b[0m\n",
            "\u001b[2m\u001b[36m(DefaultActor pid=13306)\u001b[0m \rVictim Training::  62%|██████▎   | 5/8 [00:02<00:01,  2.36it/s]\u001b[32m [repeated 17x across cluster]\u001b[0m\n",
            "100%|██████████| 2/2 [00:00<00:00, 11.13it/s]\u001b[32m [repeated 9x across cluster]\u001b[0m\n",
            "100%|██████████| 2/2 [00:00<00:00,  6.78it/s]\u001b[32m [repeated 7x across cluster]\u001b[0m\n",
            "Victim Training:: 100%|██████████| 8/8 [00:03<00:00,  2.57it/s]\n",
            "Victim Training:: 100%|██████████| 8/8 [00:02<00:00,  2.80it/s]\n",
            "Victim Training:: 100%|██████████| 8/8 [00:02<00:00,  3.07it/s]\n",
            "Victim Training::   0%|          | 0/8 [00:00<?, ?it/s]\u001b[32m [repeated 9x across cluster]\u001b[0m\n",
            "Victim Training::  56%|█████▌    | 5/9 [00:02<00:02,  1.74it/s]\u001b[32m [repeated 63x across cluster]\u001b[0m\n",
            "Victim Training:: 100%|██████████| 8/8 [00:03<00:00,  2.24it/s]\n",
            "Victim Training:: 100%|██████████| 8/8 [00:03<00:00,  2.31it/s]\u001b[32m [repeated 2x across cluster]\u001b[0m\n",
            "Victim Training:: 100%|██████████| 8/8 [00:02<00:00,  2.93it/s]\u001b[32m [repeated 4x across cluster]\u001b[0m\n",
            "Victim Training:: 100%|██████████| 8/8 [00:03<00:00,  2.24it/s]\n",
            "Victim Training:: 100%|██████████| 8/8 [00:04<00:00,  1.69it/s]\n",
            "Victim Training::   0%|          | 0/8 [00:00<?, ?it/s]\u001b[32m [repeated 8x across cluster]\u001b[0m\n",
            "Victim Training::  56%|█████▌    | 5/9 [00:02<00:02,  1.84it/s]\u001b[32m [repeated 43x across cluster]\u001b[0m\n",
            "Victim Training:: 100%|██████████| 8/8 [00:04<00:00,  1.88it/s]\u001b[32m [repeated 4x across cluster]\u001b[0m\n",
            "Victim Training:: 100%|██████████| 8/8 [00:05<00:00,  1.50it/s]\u001b[32m [repeated 2x across cluster]\u001b[0m\n",
            "Victim Training:: 100%|██████████| 8/8 [00:03<00:00,  2.27it/s]\u001b[32m [repeated 2x across cluster]\u001b[0m\n",
            "Victim Training::   0%|          | 0/8 [00:00<?, ?it/s]\u001b[32m [repeated 8x across cluster]\u001b[0m\n",
            "Victim Training::  62%|██████▎   | 5/8 [00:02<00:01,  2.11it/s]\u001b[32m [repeated 72x across cluster]\u001b[0m\n",
            "Victim Training:: 100%|██████████| 8/8 [00:02<00:00,  2.77it/s]\u001b[32m [repeated 4x across cluster]\u001b[0m\n",
            "Victim Training:: 100%|██████████| 8/8 [00:03<00:00,  2.52it/s]\u001b[32m [repeated 5x across cluster]\u001b[0m\n",
            "Victim Training:: 100%|██████████| 8/8 [00:03<00:00,  2.37it/s]\u001b[32m [repeated 5x across cluster]\u001b[0m\n",
            "Victim Training::   0%|          | 0/8 [00:00<?, ?it/s]\u001b[32m [repeated 10x across cluster]\u001b[0m\n",
            "Victim Training::  33%|███▎      | 3/9 [00:01<00:02,  2.19it/s]\u001b[32m [repeated 61x across cluster]\u001b[0m\n",
            "Victim Training:: 100%|██████████| 8/8 [00:03<00:00,  2.07it/s]\n",
            "Victim Training:: 100%|██████████| 8/8 [00:03<00:00,  2.49it/s]\u001b[32m [repeated 2x across cluster]\u001b[0m\n",
            "Victim Training::   0%|          | 0/8 [00:00<?, ?it/s]\u001b[32m [repeated 5x across cluster]\u001b[0m\n",
            "Victim Training::  38%|███▊      | 3/8 [00:01<00:02,  1.70it/s]\u001b[32m [repeated 44x across cluster]\u001b[0m\n",
            "Victim Training:: 100%|██████████| 8/8 [00:06<00:00,  1.20it/s]\n",
            "Victim Training:: 100%|██████████| 8/8 [00:04<00:00,  1.88it/s]\u001b[32m [repeated 3x across cluster]\u001b[0m\n",
            "Victim Training:: 100%|██████████| 8/8 [00:04<00:00,  1.88it/s]\u001b[32m [repeated 4x across cluster]\u001b[0m\n",
            "Victim Training::   0%|          | 0/8 [00:00<?, ?it/s]\u001b[32m [repeated 10x across cluster]\u001b[0m\n",
            "Victim Training::  25%|██▌       | 2/8 [00:01<00:03,  1.79it/s]\u001b[32m [repeated 66x across cluster]\u001b[0m\n"
          ]
        },
        {
          "output_type": "stream",
          "name": "stdout",
          "text": [
            "\u001b[2m\u001b[36m(DefaultActor pid=13306)\u001b[0m [Client 5] evaluate, config: {}\u001b[32m [repeated 10x across cluster]\u001b[0m\n",
            "\u001b[2m\u001b[36m(DefaultActor pid=13354)\u001b[0m [Client 16] get_parameters\n",
            "\u001b[2m\u001b[36m(DefaultActor pid=13401)\u001b[0m local acc: 0.0\u001b[32m [repeated 9x across cluster]\u001b[0m\n",
            "\u001b[2m\u001b[36m(DefaultActor pid=13377)\u001b[0m [Client 17] fit, config: {'epochs': 10, 'lr': 0.1, 'attacker_epochs': 20, 'attacker_lr': 0.05}\u001b[32m [repeated 5x across cluster]\u001b[0m\n"
          ]
        },
        {
          "output_type": "stream",
          "name": "stderr",
          "text": [
            "Victim Training:: 100%|██████████| 8/8 [00:02<00:00,  2.70it/s]\u001b[32m [repeated 2x across cluster]\u001b[0m\n",
            "Victim Training:: 100%|██████████| 8/8 [00:01<00:00,  4.40it/s]\u001b[32m [repeated 3x across cluster]\u001b[0m\n",
            "Victim Training:: 100%|██████████| 9/9 [00:04<00:00,  2.24it/s]\u001b[32m [repeated 4x across cluster]\u001b[0m\n"
          ]
        },
        {
          "output_type": "stream",
          "name": "stdout",
          "text": [
            "\u001b[2m\u001b[36m(DefaultActor pid=13306)\u001b[0m [Client 15] get_parameters\n"
          ]
        },
        {
          "output_type": "stream",
          "name": "stderr",
          "text": [
            "\u001b[2m\u001b[36m(DefaultActor pid=13331)\u001b[0m \rVictim Training::   0%|          | 0/9 [00:00<?, ?it/s]\u001b[32m [repeated 10x across cluster]\u001b[0m\n",
            "Victim Training::  89%|████████▉ | 8/9 [00:03<00:00,  2.05it/s]\u001b[32m [repeated 53x across cluster]\u001b[0m\n",
            "Victim Training:: 100%|██████████| 8/8 [00:02<00:00,  2.74it/s]\u001b[32m [repeated 2x across cluster]\u001b[0m\n",
            "Victim Training:: 100%|██████████| 8/8 [00:03<00:00,  2.50it/s]\u001b[32m [repeated 2x across cluster]\u001b[0m\n",
            "Victim Training:: 100%|██████████| 9/9 [00:03<00:00,  2.38it/s]\u001b[32m [repeated 3x across cluster]\u001b[0m\n"
          ]
        },
        {
          "output_type": "stream",
          "name": "stdout",
          "text": [
            "\u001b[2m\u001b[36m(DefaultActor pid=13377)\u001b[0m [Client 5] fit, config: {'epochs': 10, 'lr': 0.1, 'attacker_epochs': 20, 'attacker_lr': 0.05}\u001b[32m [repeated 5x across cluster]\u001b[0m\n",
            "\u001b[2m\u001b[36m(DefaultActor pid=13331)\u001b[0m [Client 21] get_parameters\u001b[32m [repeated 4x across cluster]\u001b[0m\n"
          ]
        },
        {
          "output_type": "stream",
          "name": "stderr",
          "text": [
            "\u001b[2m\u001b[36m(DefaultActor pid=13377)\u001b[0m \rVictim Training::   0%|          | 0/9 [00:00<?, ?it/s]\u001b[32m [repeated 5x across cluster]\u001b[0m\n",
            "Victim Training::  50%|█████     | 4/8 [00:02<00:02,  1.76it/s]\u001b[32m [repeated 49x across cluster]\u001b[0m\n",
            "Victim Training:: 100%|██████████| 9/9 [00:03<00:00,  2.77it/s]\n",
            "Victim Training:: 100%|██████████| 9/9 [00:04<00:00,  1.87it/s]\u001b[32m [repeated 5x across cluster]\u001b[0m\n",
            "Victim Training:: 100%|██████████| 9/9 [00:03<00:00,  2.33it/s]\n",
            "Victim Training:: 100%|██████████| 9/9 [00:03<00:00,  2.29it/s]\n",
            "Victim Training::   0%|          | 0/9 [00:00<?, ?it/s]\u001b[32m [repeated 7x across cluster]\u001b[0m\n",
            "Victim Training::  88%|████████▊ | 7/8 [00:02<00:00,  2.81it/s]\u001b[32m [repeated 61x across cluster]\u001b[0m\n",
            "Victim Training:: 100%|██████████| 9/9 [00:02<00:00,  3.08it/s]\u001b[32m [repeated 6x across cluster]\u001b[0m\n",
            "Victim Training:: 100%|██████████| 9/9 [00:03<00:00,  2.93it/s]\u001b[32m [repeated 2x across cluster]\u001b[0m\n",
            "Victim Training::   0%|          | 0/9 [00:00<?, ?it/s]\u001b[32m [repeated 8x across cluster]\u001b[0m\n",
            "Victim Training::  89%|████████▉ | 8/9 [00:02<00:00,  3.25it/s]\u001b[32m [repeated 72x across cluster]\u001b[0m\n",
            "Victim Training:: 100%|██████████| 8/8 [00:02<00:00,  2.80it/s]\u001b[32m [repeated 6x across cluster]\u001b[0m\n",
            "Victim Training:: 100%|██████████| 9/9 [00:02<00:00,  3.74it/s]\u001b[32m [repeated 3x across cluster]\u001b[0m\n",
            "Victim Training::   0%|          | 0/8 [00:00<?, ?it/s]\u001b[32m [repeated 9x across cluster]\u001b[0m\n",
            "Victim Training::  56%|█████▌    | 5/9 [00:02<00:02,  1.73it/s]\u001b[32m [repeated 50x across cluster]\u001b[0m\n",
            "Victim Training:: 100%|██████████| 8/8 [00:03<00:00,  2.09it/s]\u001b[32m [repeated 3x across cluster]\u001b[0m\n",
            "Victim Training:: 100%|██████████| 9/9 [00:03<00:00,  2.51it/s]\u001b[32m [repeated 2x across cluster]\u001b[0m\n",
            "Victim Training::   0%|          | 0/8 [00:00<?, ?it/s]\u001b[32m [repeated 6x across cluster]\u001b[0m\n",
            "Victim Training::  75%|███████▌  | 6/8 [00:01<00:00,  3.29it/s]\u001b[32m [repeated 60x across cluster]\u001b[0m\n",
            "Victim Training:: 100%|██████████| 9/9 [00:03<00:00,  2.88it/s]\n",
            "Victim Training:: 100%|██████████| 8/8 [00:02<00:00,  3.21it/s]\u001b[32m [repeated 7x across cluster]\u001b[0m\n",
            "Victim Training:: 100%|██████████| 9/9 [00:02<00:00,  3.74it/s]\u001b[32m [repeated 2x across cluster]\u001b[0m\n"
          ]
        },
        {
          "output_type": "stream",
          "name": "stdout",
          "text": [
            "\u001b[2m\u001b[36m(DefaultActor pid=13354)\u001b[0m [Client 2] get_parameters\n",
            "\u001b[2m\u001b[36m(DefaultActor pid=13306)\u001b[0m [Client 26] get_parameters\n"
          ]
        },
        {
          "output_type": "stream",
          "name": "stderr",
          "text": [
            "\u001b[2m\u001b[36m(DefaultActor pid=13401)\u001b[0m \rVictim Training::   0%|          | 0/9 [00:00<?, ?it/s]\u001b[32m [repeated 8x across cluster]\u001b[0m\n",
            "\u001b[2m\u001b[36m(DefaultActor pid=13426)\u001b[0m \rVictim Training::  89%|████████▉ | 8/9 [00:01<00:00,  3.64it/s]\u001b[32m [repeated 68x across cluster]\u001b[0m\n",
            "DEBUG flwr 2023-12-28 07:29:31,705 | server.py:236 | fit_round 11 received 11 results and 0 failures\n",
            "DEBUG:flwr:fit_round 11 received 11 results and 0 failures\n",
            "Victim Training:: 100%|██████████| 9/9 [00:03<00:00,  2.87it/s]\n"
          ]
        },
        {
          "output_type": "stream",
          "name": "stdout",
          "text": [
            "Saving round 11 aggregated_parameters...\n",
            "GLOBAL EVALUATE\n"
          ]
        },
        {
          "output_type": "stream",
          "name": "stderr",
          "text": [
            "100%|██████████| 10000/10000 [00:15<00:00, 633.22it/s]\n",
            "INFO flwr 2023-12-28 07:29:47,587 | server.py:125 | fit progress: (11, 23026.02351284027, {'accuracy': 0.0937}, 1000.6825019500002)\n",
            "INFO:flwr:fit progress: (11, 23026.02351284027, {'accuracy': 0.0937}, 1000.6825019500002)\n",
            "DEBUG flwr 2023-12-28 07:29:47,591 | server.py:173 | evaluate_round 11: strategy sampled 11 clients (out of 30)\n",
            "DEBUG:flwr:evaluate_round 11: strategy sampled 11 clients (out of 30)\n"
          ]
        },
        {
          "output_type": "stream",
          "name": "stdout",
          "text": [
            "\u001b[2m\u001b[36m(DefaultActor pid=13377)\u001b[0m [Client 20] evaluate, config: {}\n",
            "\u001b[2m\u001b[36m(DefaultActor pid=13377)\u001b[0m [Client 5] get_parameters\u001b[32m [repeated 3x across cluster]\u001b[0m\n"
          ]
        },
        {
          "output_type": "stream",
          "name": "stderr",
          "text": [
            "\u001b[2m\u001b[36m(DefaultActor pid=13377)\u001b[0m \r  0%|          | 0/2 [00:00<?, ?it/s]\n",
            "\u001b[2m\u001b[36m(DefaultActor pid=13377)\u001b[0m \rVictim Training:: 100%|██████████| 9/9 [00:02<00:00,  5.67it/s]\rVictim Training:: 100%|██████████| 9/9 [00:02<00:00,  3.82it/s]\u001b[32m [repeated 6x across cluster]\u001b[0m\n",
            "\u001b[2m\u001b[36m(DefaultActor pid=13377)\u001b[0m \rVictim Training:: 100%|██████████| 9/9 [00:00<00:00, 12.89it/s]\u001b[32m [repeated 3x across cluster]\u001b[0m\n",
            "\u001b[2m\u001b[36m(DefaultActor pid=13377)\u001b[0m \rVictim Training::   0%|          | 0/9 [00:00<?, ?it/s]\n",
            "Victim Training::  89%|████████▉ | 8/9 [00:00<00:00, 12.68it/s]\u001b[32m [repeated 6x across cluster]\u001b[0m\n",
            " 50%|█████     | 1/2 [00:00<00:00,  1.24it/s]\n"
          ]
        },
        {
          "output_type": "stream",
          "name": "stdout",
          "text": [
            "\u001b[2m\u001b[36m(DefaultActor pid=13306)\u001b[0m local acc: 0.0\n"
          ]
        },
        {
          "output_type": "stream",
          "name": "stderr",
          "text": [
            "\u001b[2m\u001b[36m(DefaultActor pid=13306)\u001b[0m \r100%|██████████| 2/2 [00:01<00:00,  2.19it/s]\r100%|██████████| 2/2 [00:01<00:00,  1.93it/s]\n",
            "DEBUG flwr 2023-12-28 07:29:51,966 | server.py:187 | evaluate_round 11 received 11 results and 0 failures\n",
            "DEBUG:flwr:evaluate_round 11 received 11 results and 0 failures\n",
            "DEBUG flwr 2023-12-28 07:29:51,972 | server.py:222 | fit_round 12: strategy sampled 11 clients (out of 30)\n",
            "DEBUG:flwr:fit_round 12: strategy sampled 11 clients (out of 30)\n",
            "Victim Training::   0%|          | 0/8 [00:00<?, ?it/s]\n"
          ]
        },
        {
          "output_type": "stream",
          "name": "stdout",
          "text": [
            "\u001b[2m\u001b[36m(DefaultActor pid=13354)\u001b[0m [Client 1] fit, config: {'epochs': 10, 'lr': 0.1, 'attacker_epochs': 20, 'attacker_lr': 0.05}\n"
          ]
        },
        {
          "output_type": "stream",
          "name": "stderr",
          "text": [
            "\u001b[2m\u001b[36m(DefaultActor pid=13401)\u001b[0m \r  0%|          | 0/2 [00:00<?, ?it/s]\u001b[32m [repeated 10x across cluster]\u001b[0m\n",
            "\u001b[2m\u001b[36m(DefaultActor pid=13354)\u001b[0m \rVictim Training::  12%|█▎        | 1/8 [00:01<00:07,  1.11s/it]\n"
          ]
        },
        {
          "output_type": "stream",
          "name": "stdout",
          "text": [
            "\u001b[2m\u001b[36m(DefaultActor pid=13401)\u001b[0m [Client 14] evaluate, config: {}\u001b[32m [repeated 10x across cluster]\u001b[0m\n"
          ]
        },
        {
          "output_type": "stream",
          "name": "stderr",
          "text": [
            "\u001b[2m\u001b[36m(DefaultActor pid=13401)\u001b[0m \r 50%|█████     | 1/2 [00:00<00:00,  3.80it/s]\r100%|██████████| 2/2 [00:00<00:00,  6.35it/s]\u001b[32m [repeated 10x across cluster]\u001b[0m\n",
            "Victim Training::  25%|██▌       | 2/8 [00:01<00:04,  1.35it/s]\n",
            "100%|██████████| 2/2 [00:00<00:00,  4.70it/s]\u001b[32m [repeated 10x across cluster]\u001b[0m\n",
            "Victim Training:: 100%|██████████| 8/8 [00:04<00:00,  1.93it/s]\n",
            "Victim Training:: 100%|██████████| 8/8 [00:03<00:00,  2.66it/s]\n",
            "Victim Training::   0%|          | 0/8 [00:00<?, ?it/s]\u001b[32m [repeated 9x across cluster]\u001b[0m\n",
            "Victim Training::  44%|████▍     | 4/9 [00:01<00:02,  2.14it/s]\u001b[32m [repeated 66x across cluster]\u001b[0m\n",
            "Victim Training:: 100%|██████████| 8/8 [00:02<00:00,  2.91it/s]\n",
            "Victim Training:: 100%|██████████| 8/8 [00:03<00:00,  2.24it/s]\u001b[32m [repeated 7x across cluster]\u001b[0m\n",
            "Victim Training:: 100%|██████████| 9/9 [00:03<00:00,  2.51it/s]\n",
            "Victim Training::   0%|          | 0/8 [00:00<?, ?it/s]\u001b[32m [repeated 9x across cluster]\u001b[0m\n",
            "Victim Training:: 100%|██████████| 9/9 [00:03<00:00,  2.80it/s]\n",
            "Victim Training::  38%|███▊      | 3/8 [00:01<00:01,  2.86it/s]\u001b[32m [repeated 67x across cluster]\u001b[0m\n",
            "Victim Training:: 100%|██████████| 8/8 [00:02<00:00,  2.73it/s]\u001b[32m [repeated 2x across cluster]\u001b[0m\n",
            "Victim Training:: 100%|██████████| 8/8 [00:03<00:00,  2.65it/s]\u001b[32m [repeated 4x across cluster]\u001b[0m\n",
            "Victim Training::   0%|          | 0/8 [00:00<?, ?it/s]\u001b[32m [repeated 8x across cluster]\u001b[0m\n",
            "Victim Training::  89%|████████▉ | 8/9 [00:05<00:00,  1.58it/s]\u001b[32m [repeated 47x across cluster]\u001b[0m\n",
            "Victim Training:: 100%|██████████| 8/8 [00:03<00:00,  2.02it/s]\n",
            "Victim Training:: 100%|██████████| 8/8 [00:04<00:00,  1.96it/s]\n",
            "Victim Training:: 100%|██████████| 8/8 [00:04<00:00,  1.77it/s]\u001b[32m [repeated 7x across cluster]\u001b[0m\n",
            "Victim Training::   0%|          | 0/8 [00:00<?, ?it/s]\u001b[32m [repeated 7x across cluster]\u001b[0m\n",
            "Victim Training::  75%|███████▌  | 6/8 [00:02<00:00,  2.78it/s]\u001b[32m [repeated 62x across cluster]\u001b[0m\n",
            "Victim Training:: 100%|██████████| 8/8 [00:02<00:00,  2.79it/s]\u001b[32m [repeated 2x across cluster]\u001b[0m\n",
            "Victim Training:: 100%|██████████| 8/8 [00:02<00:00,  2.89it/s]\n",
            "Victim Training:: 100%|██████████| 9/9 [00:03<00:00,  2.57it/s]\u001b[32m [repeated 7x across cluster]\u001b[0m\n",
            "Victim Training::   0%|          | 0/8 [00:00<?, ?it/s]\u001b[32m [repeated 10x across cluster]\u001b[0m\n",
            "Victim Training::  78%|███████▊  | 7/9 [00:02<00:00,  2.60it/s]\u001b[32m [repeated 67x across cluster]\u001b[0m\n",
            "Victim Training:: 100%|██████████| 9/9 [00:03<00:00,  2.76it/s]\u001b[32m [repeated 2x across cluster]\u001b[0m\n",
            "Victim Training:: 100%|██████████| 8/8 [00:03<00:00,  2.08it/s]\u001b[32m [repeated 6x across cluster]\u001b[0m\n",
            "Victim Training::   0%|          | 0/8 [00:00<?, ?it/s]\u001b[32m [repeated 8x across cluster]\u001b[0m\n",
            "Victim Training::  78%|███████▊  | 7/9 [00:04<00:01,  1.58it/s]\u001b[32m [repeated 53x across cluster]\u001b[0m\n",
            "Victim Training:: 100%|██████████| 8/8 [00:03<00:00,  2.22it/s]\n",
            "Victim Training:: 100%|██████████| 8/8 [00:04<00:00,  1.99it/s]\n"
          ]
        },
        {
          "output_type": "stream",
          "name": "stdout",
          "text": [
            "\u001b[2m\u001b[36m(DefaultActor pid=13426)\u001b[0m [Client 16] get_parameters\n",
            "\u001b[2m\u001b[36m(DefaultActor pid=13401)\u001b[0m local acc: 0.0\u001b[32m [repeated 10x across cluster]\u001b[0m\n",
            "\u001b[2m\u001b[36m(DefaultActor pid=13377)\u001b[0m [Client 24] fit, config: {'epochs': 10, 'lr': 0.1, 'attacker_epochs': 20, 'attacker_lr': 0.05}\u001b[32m [repeated 5x across cluster]\u001b[0m\n"
          ]
        },
        {
          "output_type": "stream",
          "name": "stderr",
          "text": [
            "Victim Training:: 100%|██████████| 8/8 [00:04<00:00,  1.65it/s]\u001b[32m [repeated 6x across cluster]\u001b[0m\n",
            "Victim Training::   0%|          | 0/9 [00:00<?, ?it/s]\u001b[32m [repeated 8x across cluster]\u001b[0m\n",
            "Victim Training::  12%|█▎        | 1/8 [00:00<00:03,  2.17it/s]\u001b[32m [repeated 49x across cluster]\u001b[0m\n",
            "Victim Training:: 100%|██████████| 9/9 [00:04<00:00,  2.11it/s]\n"
          ]
        },
        {
          "output_type": "stream",
          "name": "stdout",
          "text": [
            "\u001b[2m\u001b[36m(DefaultActor pid=13331)\u001b[0m [Client 0] get_parameters\u001b[32m [repeated 4x across cluster]\u001b[0m\n",
            "\u001b[2m\u001b[36m(DefaultActor pid=13331)\u001b[0m [Client 5] fit, config: {'epochs': 10, 'lr': 0.1, 'attacker_epochs': 20, 'attacker_lr': 0.05}\u001b[32m [repeated 5x across cluster]\u001b[0m\n"
          ]
        },
        {
          "output_type": "stream",
          "name": "stderr",
          "text": [
            "Victim Training:: 100%|██████████| 9/9 [00:03<00:00,  2.48it/s]\u001b[32m [repeated 6x across cluster]\u001b[0m\n",
            "Victim Training::   0%|          | 0/8 [00:00<?, ?it/s]\u001b[32m [repeated 7x across cluster]\u001b[0m\n",
            "Victim Training:: 100%|██████████| 9/9 [00:03<00:00,  2.53it/s]\n",
            "Victim Training::  12%|█▎        | 1/8 [00:00<00:03,  2.16it/s]\u001b[32m [repeated 62x across cluster]\u001b[0m\n",
            "Victim Training:: 100%|██████████| 8/8 [00:02<00:00,  3.09it/s]\u001b[32m [repeated 8x across cluster]\u001b[0m\n",
            "Victim Training::   0%|          | 0/9 [00:00<?, ?it/s]\u001b[32m [repeated 8x across cluster]\u001b[0m\n",
            "Victim Training::  11%|█         | 1/9 [00:00<00:05,  1.54it/s]\u001b[32m [repeated 54x across cluster]\u001b[0m\n",
            "Victim Training:: 100%|██████████| 8/8 [00:03<00:00,  2.42it/s]\u001b[32m [repeated 5x across cluster]\u001b[0m\n",
            "Victim Training::   0%|          | 0/9 [00:00<?, ?it/s]\u001b[32m [repeated 6x across cluster]\u001b[0m\n",
            "Victim Training::  56%|█████▌    | 5/9 [00:01<00:01,  2.73it/s]\u001b[32m [repeated 51x across cluster]\u001b[0m\n",
            "Victim Training:: 100%|██████████| 8/8 [00:02<00:00,  2.81it/s]\u001b[32m [repeated 10x across cluster]\u001b[0m\n",
            "Victim Training::   0%|          | 0/8 [00:00<?, ?it/s]\u001b[32m [repeated 8x across cluster]\u001b[0m\n",
            "Victim Training::  22%|██▏       | 2/9 [00:00<00:02,  3.22it/s]\u001b[32m [repeated 68x across cluster]\u001b[0m\n",
            "Victim Training:: 100%|██████████| 9/9 [00:03<00:00,  2.99it/s]\u001b[32m [repeated 10x across cluster]\u001b[0m\n",
            "Victim Training::   0%|          | 0/9 [00:00<?, ?it/s]\u001b[32m [repeated 10x across cluster]\u001b[0m\n",
            "Victim Training::  78%|███████▊  | 7/9 [00:02<00:00,  2.10it/s]\u001b[32m [repeated 61x across cluster]\u001b[0m\n",
            "Victim Training:: 100%|██████████| 9/9 [00:04<00:00,  2.23it/s]\u001b[32m [repeated 5x across cluster]\u001b[0m\n",
            "Victim Training::   0%|          | 0/8 [00:00<?, ?it/s]\u001b[32m [repeated 7x across cluster]\u001b[0m\n",
            "Victim Training::  12%|█▎        | 1/8 [00:00<00:02,  3.21it/s]\u001b[32m [repeated 47x across cluster]\u001b[0m\n"
          ]
        },
        {
          "output_type": "stream",
          "name": "stdout",
          "text": [
            "\u001b[2m\u001b[36m(DefaultActor pid=13306)\u001b[0m [Client 20] get_parameters\u001b[32m [repeated 2x across cluster]\u001b[0m\n"
          ]
        },
        {
          "output_type": "stream",
          "name": "stderr",
          "text": [
            "\u001b[2m\u001b[36m(DefaultActor pid=13426)\u001b[0m \rVictim Training:: 100%|██████████| 9/9 [00:02<00:00,  6.14it/s]\rVictim Training:: 100%|██████████| 9/9 [00:02<00:00,  3.84it/s]\u001b[32m [repeated 10x across cluster]\u001b[0m\n",
            "DEBUG flwr 2023-12-28 07:31:02,950 | server.py:236 | fit_round 12 received 11 results and 0 failures\n",
            "DEBUG:flwr:fit_round 12 received 11 results and 0 failures\n",
            "Victim Training:: 100%|██████████| 9/9 [00:00<00:00, 11.19it/s]\n"
          ]
        },
        {
          "output_type": "stream",
          "name": "stdout",
          "text": [
            "Saving round 12 aggregated_parameters...\n",
            "GLOBAL EVALUATE\n"
          ]
        },
        {
          "output_type": "stream",
          "name": "stderr",
          "text": [
            "100%|██████████| 10000/10000 [00:15<00:00, 633.86it/s]\n",
            "INFO flwr 2023-12-28 07:31:18,823 | server.py:125 | fit progress: (12, 23025.998435020447, {'accuracy': 0.0926}, 1091.9185114760003)\n",
            "INFO:flwr:fit progress: (12, 23025.998435020447, {'accuracy': 0.0926}, 1091.9185114760003)\n",
            "DEBUG flwr 2023-12-28 07:31:18,828 | server.py:173 | evaluate_round 12: strategy sampled 11 clients (out of 30)\n",
            "DEBUG:flwr:evaluate_round 12: strategy sampled 11 clients (out of 30)\n",
            "  0%|          | 0/2 [00:00<?, ?it/s]\n",
            "Victim Training::   0%|          | 0/9 [00:00<?, ?it/s]\u001b[32m [repeated 4x across cluster]\u001b[0m\n",
            "Victim Training::  89%|████████▉ | 8/9 [00:00<00:00, 11.81it/s]\u001b[32m [repeated 35x across cluster]\u001b[0m\n"
          ]
        },
        {
          "output_type": "stream",
          "name": "stdout",
          "text": [
            "\u001b[2m\u001b[36m(DefaultActor pid=13331)\u001b[0m [Client 13] evaluate, config: {}\n",
            "\u001b[2m\u001b[36m(DefaultActor pid=13331)\u001b[0m [Client 5] get_parameters\u001b[32m [repeated 4x across cluster]\u001b[0m\n"
          ]
        },
        {
          "output_type": "stream",
          "name": "stderr",
          "text": [
            "\u001b[2m\u001b[36m(DefaultActor pid=13331)\u001b[0m \r 50%|█████     | 1/2 [00:00<00:00,  2.50it/s]\n",
            "\u001b[2m\u001b[36m(DefaultActor pid=13331)\u001b[0m \r100%|██████████| 2/2 [00:00<00:00,  4.42it/s]\r100%|██████████| 2/2 [00:00<00:00,  3.95it/s]\n"
          ]
        },
        {
          "output_type": "stream",
          "name": "stdout",
          "text": [
            "\u001b[2m\u001b[36m(DefaultActor pid=13331)\u001b[0m local acc: 0.0\n"
          ]
        },
        {
          "output_type": "stream",
          "name": "stderr",
          "text": [
            "DEBUG flwr 2023-12-28 07:31:21,747 | server.py:187 | evaluate_round 12 received 11 results and 0 failures\n",
            "DEBUG:flwr:evaluate_round 12 received 11 results and 0 failures\n",
            "DEBUG flwr 2023-12-28 07:31:21,750 | server.py:222 | fit_round 13: strategy sampled 11 clients (out of 30)\n",
            "DEBUG:flwr:fit_round 13: strategy sampled 11 clients (out of 30)\n"
          ]
        },
        {
          "output_type": "stream",
          "name": "stdout",
          "text": [
            "\u001b[2m\u001b[36m(DefaultActor pid=13377)\u001b[0m [Client 19] fit, config: {'epochs': 10, 'lr': 0.1, 'attacker_epochs': 20, 'attacker_lr': 0.05}\n"
          ]
        },
        {
          "output_type": "stream",
          "name": "stderr",
          "text": [
            "\u001b[2m\u001b[36m(DefaultActor pid=13377)\u001b[0m \r  0%|          | 0/2 [00:00<?, ?it/s]\u001b[32m [repeated 10x across cluster]\u001b[0m\n",
            "\u001b[2m\u001b[36m(DefaultActor pid=13426)\u001b[0m \rVictim Training::   0%|          | 0/8 [00:00<?, ?it/s]\u001b[32m [repeated 6x across cluster]\u001b[0m\n",
            "Victim Training::  38%|███▊      | 3/8 [00:01<00:02,  2.39it/s]\u001b[32m [repeated 17x across cluster]\u001b[0m\n",
            "100%|██████████| 2/2 [00:00<00:00,  8.53it/s]\u001b[32m [repeated 10x across cluster]\u001b[0m\n",
            "100%|██████████| 2/2 [00:00<00:00,  2.82it/s]\u001b[32m [repeated 6x across cluster]\u001b[0m\n",
            "Victim Training:: 100%|██████████| 8/8 [00:03<00:00,  2.49it/s]\n",
            "Victim Training:: 100%|██████████| 8/8 [00:04<00:00,  2.13it/s]\n",
            "Victim Training:: 100%|██████████| 8/8 [00:04<00:00,  1.88it/s]\n",
            "Victim Training::   0%|          | 0/9 [00:00<?, ?it/s]\u001b[32m [repeated 6x across cluster]\u001b[0m\n",
            "Victim Training::  38%|███▊      | 3/8 [00:01<00:03,  1.55it/s]\u001b[32m [repeated 47x across cluster]\u001b[0m\n",
            "Victim Training:: 100%|██████████| 9/9 [00:04<00:00,  1.85it/s]\u001b[32m [repeated 4x across cluster]\u001b[0m\n",
            "Victim Training::   0%|          | 0/9 [00:00<?, ?it/s]\u001b[32m [repeated 7x across cluster]\u001b[0m\n",
            "Victim Training::  33%|███▎      | 3/9 [00:01<00:02,  2.48it/s]\u001b[32m [repeated 62x across cluster]\u001b[0m\n",
            "Victim Training:: 100%|██████████| 8/8 [00:03<00:00,  2.15it/s]\u001b[32m [repeated 12x across cluster]\u001b[0m\n",
            "Victim Training::   0%|          | 0/8 [00:00<?, ?it/s]\u001b[32m [repeated 12x across cluster]\u001b[0m\n",
            "Victim Training::  88%|████████▊ | 7/8 [00:02<00:00,  2.95it/s]\u001b[32m [repeated 67x across cluster]\u001b[0m\n",
            "Victim Training:: 100%|██████████| 9/9 [00:03<00:00,  2.48it/s]\u001b[32m [repeated 9x across cluster]\u001b[0m\n",
            "Victim Training::   0%|          | 0/8 [00:00<?, ?it/s]\u001b[32m [repeated 7x across cluster]\u001b[0m\n",
            "Victim Training::  25%|██▌       | 2/8 [00:01<00:03,  1.50it/s]\u001b[32m [repeated 49x across cluster]\u001b[0m\n",
            "Victim Training:: 100%|██████████| 9/9 [00:05<00:00,  1.70it/s]\u001b[32m [repeated 6x across cluster]\u001b[0m\n",
            "Victim Training::   0%|          | 0/8 [00:00<?, ?it/s]\u001b[32m [repeated 6x across cluster]\u001b[0m\n",
            "Victim Training::  89%|████████▉ | 8/9 [00:04<00:00,  2.21it/s]\u001b[32m [repeated 58x across cluster]\u001b[0m\n",
            "Victim Training:: 100%|██████████| 8/8 [00:03<00:00,  2.29it/s]\u001b[32m [repeated 9x across cluster]\u001b[0m\n",
            "Victim Training:: 100%|██████████| 8/8 [00:02<00:00,  2.78it/s]\n",
            "Victim Training:: 100%|██████████| 8/8 [00:02<00:00,  3.11it/s]\n",
            "Victim Training::   0%|          | 0/8 [00:00<?, ?it/s]\u001b[32m [repeated 11x across cluster]\u001b[0m\n",
            "Victim Training::  25%|██▌       | 2/8 [00:00<00:02,  2.47it/s]\u001b[32m [repeated 68x across cluster]\u001b[0m\n"
          ]
        },
        {
          "output_type": "stream",
          "name": "stdout",
          "text": [
            "\u001b[2m\u001b[36m(DefaultActor pid=13377)\u001b[0m [Client 18] evaluate, config: {}\u001b[32m [repeated 10x across cluster]\u001b[0m\n",
            "\u001b[2m\u001b[36m(DefaultActor pid=13401)\u001b[0m [Client 28] get_parameters\n",
            "\u001b[2m\u001b[36m(DefaultActor pid=13377)\u001b[0m local acc: 0.0\u001b[32m [repeated 10x across cluster]\u001b[0m\n",
            "\u001b[2m\u001b[36m(DefaultActor pid=13426)\u001b[0m [Client 12] fit, config: {'epochs': 10, 'lr': 0.1, 'attacker_epochs': 20, 'attacker_lr': 0.05}\u001b[32m [repeated 5x across cluster]\u001b[0m\n"
          ]
        },
        {
          "output_type": "stream",
          "name": "stderr",
          "text": [
            "\u001b[2m\u001b[36m(DefaultActor pid=13354)\u001b[0m \rVictim Training:: 100%|██████████| 8/8 [00:03<00:00,  2.17it/s]\rVictim Training:: 100%|██████████| 8/8 [00:03<00:00,  2.20it/s]\u001b[32m [repeated 8x across cluster]\u001b[0m\n"
          ]
        },
        {
          "output_type": "stream",
          "name": "stdout",
          "text": [
            "\u001b[2m\u001b[36m(DefaultActor pid=13377)\u001b[0m [Client 19] get_parameters\n"
          ]
        },
        {
          "output_type": "stream",
          "name": "stderr",
          "text": [
            "\u001b[2m\u001b[36m(DefaultActor pid=13331)\u001b[0m \rVictim Training::   0%|          | 0/9 [00:00<?, ?it/s]\u001b[32m [repeated 5x across cluster]\u001b[0m\n",
            "\u001b[2m\u001b[36m(DefaultActor pid=13401)\u001b[0m \rVictim Training::  75%|███████▌  | 6/8 [00:05<00:03,  1.59s/it]\u001b[32m [repeated 37x across cluster]\u001b[0m\n",
            "\u001b[2m\u001b[36m(DefaultActor pid=13377)\u001b[0m \rVictim Training:: 100%|██████████| 8/8 [00:03<00:00,  2.45it/s]\rVictim Training:: 100%|██████████| 8/8 [00:03<00:00,  2.39it/s]\u001b[32m [repeated 4x across cluster]\u001b[0m\n"
          ]
        },
        {
          "output_type": "stream",
          "name": "stdout",
          "text": [
            "\u001b[2m\u001b[36m(DefaultActor pid=13377)\u001b[0m [Client 7] fit, config: {'epochs': 10, 'lr': 0.1, 'attacker_epochs': 20, 'attacker_lr': 0.05}\u001b[32m [repeated 2x across cluster]\u001b[0m\n",
            "\u001b[2m\u001b[36m(DefaultActor pid=13306)\u001b[0m [Client 24] get_parameters\n",
            "\u001b[2m\u001b[36m(DefaultActor pid=13354)\u001b[0m [Client 9] get_parameters\n"
          ]
        },
        {
          "output_type": "stream",
          "name": "stderr",
          "text": [
            "Victim Training:: 100%|██████████| 8/8 [00:02<00:00,  3.06it/s]\n",
            "Victim Training::   0%|          | 0/8 [00:00<?, ?it/s]\u001b[32m [repeated 8x across cluster]\u001b[0m\n",
            "Victim Training::  11%|█         | 1/9 [00:00<00:04,  1.81it/s]\u001b[32m [repeated 55x across cluster]\u001b[0m\n",
            "Victim Training:: 100%|██████████| 8/8 [00:03<00:00,  2.13it/s]\u001b[32m [repeated 6x across cluster]\u001b[0m\n",
            "Victim Training:: 100%|██████████| 8/8 [00:02<00:00,  2.91it/s]\n"
          ]
        },
        {
          "output_type": "stream",
          "name": "stdout",
          "text": [
            "\u001b[2m\u001b[36m(DefaultActor pid=13426)\u001b[0m [Client 5] fit, config: {'epochs': 10, 'lr': 0.1, 'attacker_epochs': 20, 'attacker_lr': 0.05}\u001b[32m [repeated 3x across cluster]\u001b[0m\n",
            "\u001b[2m\u001b[36m(DefaultActor pid=13331)\u001b[0m [Client 4] get_parameters\u001b[32m [repeated 2x across cluster]\u001b[0m\n"
          ]
        },
        {
          "output_type": "stream",
          "name": "stderr",
          "text": [
            "Victim Training:: 100%|██████████| 8/8 [00:02<00:00,  2.74it/s]\n",
            "Victim Training::   0%|          | 0/8 [00:00<?, ?it/s]\u001b[32m [repeated 7x across cluster]\u001b[0m\n",
            "Victim Training::  50%|█████     | 4/8 [00:01<00:01,  2.93it/s]\u001b[32m [repeated 65x across cluster]\u001b[0m\n",
            "Victim Training:: 100%|██████████| 8/8 [00:02<00:00,  2.79it/s]\u001b[32m [repeated 6x across cluster]\u001b[0m\n",
            "Victim Training:: 100%|██████████| 8/8 [00:02<00:00,  2.79it/s]\n",
            "Victim Training::   0%|          | 0/9 [00:00<?, ?it/s]\u001b[32m [repeated 9x across cluster]\u001b[0m\n",
            "Victim Training::  75%|███████▌  | 6/8 [00:03<00:00,  2.02it/s]\u001b[32m [repeated 48x across cluster]\u001b[0m\n",
            "Victim Training:: 100%|██████████| 9/9 [00:04<00:00,  2.18it/s]\u001b[32m [repeated 8x across cluster]\u001b[0m\n",
            "Victim Training:: 100%|██████████| 8/8 [00:03<00:00,  2.25it/s]\n",
            "Victim Training:: 100%|██████████| 8/8 [00:02<00:00,  2.84it/s]\n",
            "Victim Training::   0%|          | 0/8 [00:00<?, ?it/s]\u001b[32m [repeated 6x across cluster]\u001b[0m\n",
            "Victim Training::  75%|███████▌  | 6/8 [00:02<00:00,  2.95it/s]\u001b[32m [repeated 59x across cluster]\u001b[0m\n",
            "Victim Training:: 100%|██████████| 8/8 [00:04<00:00,  1.89it/s]\u001b[32m [repeated 4x across cluster]\u001b[0m\n",
            "Victim Training:: 100%|██████████| 8/8 [00:02<00:00,  3.67it/s]\n",
            "Victim Training:: 100%|██████████| 8/8 [00:02<00:00,  2.81it/s]\n",
            "Victim Training:: 100%|██████████| 8/8 [00:02<00:00,  3.21it/s]\n",
            "Victim Training::   0%|          | 0/8 [00:00<?, ?it/s]\u001b[32m [repeated 11x across cluster]\u001b[0m\n",
            "Victim Training::  75%|███████▌  | 6/8 [00:02<00:00,  2.97it/s]\u001b[32m [repeated 67x across cluster]\u001b[0m\n",
            "Victim Training:: 100%|██████████| 8/8 [00:01<00:00,  4.71it/s]\u001b[32m [repeated 8x across cluster]\u001b[0m\n",
            "Victim Training:: 100%|██████████| 8/8 [00:02<00:00,  3.86it/s]\n"
          ]
        },
        {
          "output_type": "stream",
          "name": "stdout",
          "text": [
            "\u001b[2m\u001b[36m(DefaultActor pid=13401)\u001b[0m [Client 15] get_parameters\n"
          ]
        },
        {
          "output_type": "stream",
          "name": "stderr",
          "text": [
            "\u001b[2m\u001b[36m(DefaultActor pid=13354)\u001b[0m \rVictim Training::   0%|          | 0/8 [00:00<?, ?it/s]\u001b[32m [repeated 6x across cluster]\u001b[0m\n",
            "\u001b[2m\u001b[36m(DefaultActor pid=13354)\u001b[0m \rVictim Training::  12%|█▎        | 1/8 [00:00<00:02,  2.40it/s]\u001b[32m [repeated 54x across cluster]\u001b[0m\n",
            "\u001b[2m\u001b[36m(DefaultActor pid=13354)\u001b[0m \rVictim Training:: 100%|██████████| 8/8 [00:03<00:00,  2.30it/s]\rVictim Training:: 100%|██████████| 8/8 [00:03<00:00,  2.46it/s]\u001b[32m [repeated 6x across cluster]\u001b[0m\n"
          ]
        },
        {
          "output_type": "stream",
          "name": "stdout",
          "text": [
            "\u001b[2m\u001b[36m(DefaultActor pid=13377)\u001b[0m [Client 7] get_parameters\n"
          ]
        },
        {
          "output_type": "stream",
          "name": "stderr",
          "text": [
            "DEBUG flwr 2023-12-28 07:32:35,276 | server.py:236 | fit_round 13 received 11 results and 0 failures\n",
            "DEBUG:flwr:fit_round 13 received 11 results and 0 failures\n",
            "Victim Training:: 100%|██████████| 9/9 [00:00<00:00,  9.72it/s]\n"
          ]
        },
        {
          "output_type": "stream",
          "name": "stdout",
          "text": [
            "Saving round 13 aggregated_parameters...\n",
            "GLOBAL EVALUATE\n"
          ]
        },
        {
          "output_type": "stream",
          "name": "stderr",
          "text": [
            "100%|██████████| 10000/10000 [00:15<00:00, 630.03it/s]\n",
            "INFO flwr 2023-12-28 07:32:51,245 | server.py:125 | fit progress: (13, 23025.973928689957, {'accuracy': 0.0931}, 1184.3401926870001)\n",
            "INFO:flwr:fit progress: (13, 23025.973928689957, {'accuracy': 0.0931}, 1184.3401926870001)\n",
            "DEBUG flwr 2023-12-28 07:32:51,252 | server.py:173 | evaluate_round 13: strategy sampled 11 clients (out of 30)\n",
            "DEBUG:flwr:evaluate_round 13: strategy sampled 11 clients (out of 30)\n",
            "  0%|          | 0/2 [00:00<?, ?it/s]\n",
            "Victim Training::   0%|          | 0/9 [00:00<?, ?it/s]\u001b[32m [repeated 3x across cluster]\u001b[0m\n",
            "Victim Training::  89%|████████▉ | 8/9 [00:00<00:00, 10.90it/s]\u001b[32m [repeated 31x across cluster]\u001b[0m\n",
            "Victim Training:: 100%|██████████| 8/8 [00:01<00:00,  6.02it/s]\u001b[32m [repeated 6x across cluster]\u001b[0m\n",
            " 50%|█████     | 1/2 [00:00<00:00,  3.91it/s]\n"
          ]
        },
        {
          "output_type": "stream",
          "name": "stdout",
          "text": [
            "\u001b[2m\u001b[36m(DefaultActor pid=13426)\u001b[0m [Client 12] evaluate, config: {}\n",
            "\u001b[2m\u001b[36m(DefaultActor pid=13426)\u001b[0m [Client 5] get_parameters\u001b[32m [repeated 3x across cluster]\u001b[0m\n"
          ]
        },
        {
          "output_type": "stream",
          "name": "stderr",
          "text": [
            "\u001b[2m\u001b[36m(DefaultActor pid=13426)\u001b[0m \r100%|██████████| 2/2 [00:00<00:00,  4.33it/s]\r100%|██████████| 2/2 [00:00<00:00,  4.25it/s]\n"
          ]
        },
        {
          "output_type": "stream",
          "name": "stdout",
          "text": [
            "\u001b[2m\u001b[36m(DefaultActor pid=13426)\u001b[0m local acc: 0.0\n"
          ]
        },
        {
          "output_type": "stream",
          "name": "stderr",
          "text": [
            "DEBUG flwr 2023-12-28 07:32:54,221 | server.py:187 | evaluate_round 13 received 11 results and 0 failures\n",
            "DEBUG:flwr:evaluate_round 13 received 11 results and 0 failures\n",
            "DEBUG flwr 2023-12-28 07:32:54,226 | server.py:222 | fit_round 14: strategy sampled 11 clients (out of 30)\n",
            "DEBUG:flwr:fit_round 14: strategy sampled 11 clients (out of 30)\n"
          ]
        },
        {
          "output_type": "stream",
          "name": "stdout",
          "text": [
            "\u001b[2m\u001b[36m(DefaultActor pid=13306)\u001b[0m [Client 29] fit, config: {'epochs': 10, 'lr': 0.1, 'attacker_epochs': 20, 'attacker_lr': 0.05}\n"
          ]
        },
        {
          "output_type": "stream",
          "name": "stderr",
          "text": [
            "\u001b[2m\u001b[36m(DefaultActor pid=13377)\u001b[0m \r  0%|          | 0/2 [00:00<?, ?it/s]\u001b[32m [repeated 10x across cluster]\u001b[0m\n",
            "\u001b[2m\u001b[36m(DefaultActor pid=13401)\u001b[0m \rVictim Training::   0%|          | 0/8 [00:00<?, ?it/s]\u001b[32m [repeated 6x across cluster]\u001b[0m\n",
            "Victim Training::  75%|███████▌  | 6/8 [00:01<00:00,  3.68it/s]\u001b[32m [repeated 17x across cluster]\u001b[0m\n",
            "100%|██████████| 2/2 [00:00<00:00,  7.93it/s]\u001b[32m [repeated 10x across cluster]\u001b[0m\n",
            "100%|██████████| 2/2 [00:00<00:00,  7.37it/s]\u001b[32m [repeated 7x across cluster]\u001b[0m\n",
            "Victim Training:: 100%|██████████| 8/8 [00:02<00:00,  3.56it/s]\n",
            "Victim Training::   0%|          | 0/8 [00:00<?, ?it/s]\u001b[32m [repeated 7x across cluster]\u001b[0m\n",
            "Victim Training::  50%|█████     | 4/8 [00:02<00:02,  1.51it/s]\u001b[32m [repeated 57x across cluster]\u001b[0m\n",
            "Victim Training:: 100%|██████████| 8/8 [00:03<00:00,  2.12it/s]\u001b[32m [repeated 7x across cluster]\u001b[0m\n",
            "Victim Training::   0%|          | 0/8 [00:00<?, ?it/s]\u001b[32m [repeated 7x across cluster]\u001b[0m\n",
            "Victim Training::  88%|████████▊ | 7/8 [00:02<00:00,  2.58it/s]\u001b[32m [repeated 49x across cluster]\u001b[0m\n",
            "Victim Training:: 100%|██████████| 8/8 [00:03<00:00,  2.14it/s]\u001b[32m [repeated 8x across cluster]\u001b[0m\n",
            "Victim Training::   0%|          | 0/8 [00:00<?, ?it/s]\u001b[32m [repeated 11x across cluster]\u001b[0m\n",
            "Victim Training::  25%|██▌       | 2/8 [00:00<00:02,  2.06it/s]\u001b[32m [repeated 66x across cluster]\u001b[0m\n",
            "Victim Training:: 100%|██████████| 8/8 [00:02<00:00,  2.85it/s]\u001b[32m [repeated 10x across cluster]\u001b[0m\n",
            "Victim Training::   0%|          | 0/8 [00:00<?, ?it/s]\u001b[32m [repeated 8x across cluster]\u001b[0m\n",
            "Victim Training::  38%|███▊      | 3/8 [00:01<00:02,  1.75it/s]\u001b[32m [repeated 62x across cluster]\u001b[0m\n",
            "Victim Training:: 100%|██████████| 8/8 [00:03<00:00,  2.44it/s]\u001b[32m [repeated 8x across cluster]\u001b[0m\n",
            "Victim Training::   0%|          | 0/8 [00:00<?, ?it/s]\u001b[32m [repeated 6x across cluster]\u001b[0m\n",
            "Victim Training::  25%|██▌       | 2/8 [00:01<00:03,  1.78it/s]\u001b[32m [repeated 43x across cluster]\u001b[0m\n",
            "Victim Training:: 100%|██████████| 8/8 [00:05<00:00,  1.59it/s]\u001b[32m [repeated 7x across cluster]\u001b[0m\n",
            "Victim Training::   0%|          | 0/8 [00:00<?, ?it/s]\u001b[32m [repeated 9x across cluster]\u001b[0m\n",
            "Victim Training::  75%|███████▌  | 6/8 [00:02<00:00,  2.39it/s]\u001b[32m [repeated 69x across cluster]\u001b[0m\n",
            "Victim Training:: 100%|██████████| 8/8 [00:03<00:00,  2.59it/s]\u001b[32m [repeated 11x across cluster]\u001b[0m\n"
          ]
        },
        {
          "output_type": "stream",
          "name": "stdout",
          "text": [
            "\u001b[2m\u001b[36m(DefaultActor pid=13306)\u001b[0m [Client 14] evaluate, config: {}\u001b[32m [repeated 10x across cluster]\u001b[0m\n",
            "\u001b[2m\u001b[36m(DefaultActor pid=13401)\u001b[0m [Client 13] get_parameters\n",
            "\u001b[2m\u001b[36m(DefaultActor pid=13306)\u001b[0m local acc: 0.0\u001b[32m [repeated 10x across cluster]\u001b[0m\n",
            "\u001b[2m\u001b[36m(DefaultActor pid=13401)\u001b[0m [Client 13] fit, config: {'epochs': 10, 'lr': 0.1, 'attacker_epochs': 20, 'attacker_lr': 0.05}\u001b[32m [repeated 5x across cluster]\u001b[0m\n",
            "\u001b[2m\u001b[36m(DefaultActor pid=13377)\u001b[0m [Client 10] get_parameters\n"
          ]
        },
        {
          "output_type": "stream",
          "name": "stderr",
          "text": [
            "\u001b[2m\u001b[36m(DefaultActor pid=13331)\u001b[0m \rVictim Training::   0%|          | 0/8 [00:00<?, ?it/s]\u001b[32m [repeated 9x across cluster]\u001b[0m\n",
            "Victim Training::  12%|█▎        | 1/8 [00:00<00:04,  1.52it/s]\u001b[32m [repeated 55x across cluster]\u001b[0m\n",
            "Victim Training:: 100%|██████████| 8/8 [00:03<00:00,  2.59it/s]\u001b[32m [repeated 7x across cluster]\u001b[0m\n"
          ]
        },
        {
          "output_type": "stream",
          "name": "stdout",
          "text": [
            "\u001b[2m\u001b[36m(DefaultActor pid=13306)\u001b[0m [Client 18] fit, config: {'epochs': 10, 'lr': 0.1, 'attacker_epochs': 20, 'attacker_lr': 0.05}\u001b[32m [repeated 5x across cluster]\u001b[0m\n"
          ]
        },
        {
          "output_type": "stream",
          "name": "stderr",
          "text": [
            "Victim Training:: 100%|██████████| 8/8 [00:03<00:00,  2.02it/s]\n",
            "Victim Training::   0%|          | 0/8 [00:00<?, ?it/s]\u001b[32m [repeated 6x across cluster]\u001b[0m\n",
            "Victim Training::  38%|███▊      | 3/8 [00:01<00:02,  1.73it/s]\u001b[32m [repeated 42x across cluster]\u001b[0m\n",
            "Victim Training:: 100%|██████████| 8/8 [00:04<00:00,  1.71it/s]\u001b[32m [repeated 5x across cluster]\u001b[0m\n",
            "Victim Training:: 100%|██████████| 8/8 [00:03<00:00,  2.44it/s]\n",
            "Victim Training:: 100%|██████████| 8/8 [00:02<00:00,  2.88it/s]\n",
            "Victim Training::   0%|          | 0/8 [00:00<?, ?it/s]\u001b[32m [repeated 8x across cluster]\u001b[0m\n",
            "Victim Training::  62%|██████▎   | 5/8 [00:01<00:01,  2.80it/s]\u001b[32m [repeated 66x across cluster]\u001b[0m\n",
            "Victim Training:: 100%|██████████| 8/8 [00:02<00:00,  2.89it/s]\u001b[32m [repeated 7x across cluster]\u001b[0m\n",
            "Victim Training:: 100%|██████████| 8/8 [00:02<00:00,  3.41it/s]\n",
            "Victim Training:: 100%|██████████| 8/8 [00:02<00:00,  2.93it/s]\n",
            "Victim Training:: 100%|██████████| 8/8 [00:02<00:00,  3.32it/s]\n",
            "Victim Training::   0%|          | 0/8 [00:00<?, ?it/s]\u001b[32m [repeated 11x across cluster]\u001b[0m\n",
            "Victim Training::  38%|███▊      | 3/8 [00:01<00:01,  2.78it/s]\u001b[32m [repeated 67x across cluster]\u001b[0m\n",
            "Victim Training:: 100%|██████████| 8/8 [00:02<00:00,  3.74it/s]\u001b[32m [repeated 5x across cluster]\u001b[0m\n",
            "Victim Training:: 100%|██████████| 8/8 [00:02<00:00,  3.09it/s]\u001b[32m [repeated 3x across cluster]\u001b[0m\n",
            "Victim Training::   0%|          | 0/8 [00:00<?, ?it/s]\u001b[32m [repeated 6x across cluster]\u001b[0m\n",
            "Victim Training::  88%|████████▊ | 7/8 [00:03<00:00,  1.91it/s]\u001b[32m [repeated 47x across cluster]\u001b[0m\n",
            "Victim Training:: 100%|██████████| 8/8 [00:04<00:00,  1.84it/s]\u001b[32m [repeated 7x across cluster]\u001b[0m\n",
            "Victim Training:: 100%|██████████| 8/8 [00:02<00:00,  2.91it/s]\n",
            "Victim Training:: 100%|██████████| 8/8 [00:03<00:00,  2.21it/s]\n",
            "Victim Training::   0%|          | 0/8 [00:00<?, ?it/s]\u001b[32m [repeated 8x across cluster]\u001b[0m\n",
            "Victim Training::  88%|████████▊ | 7/8 [00:01<00:00,  3.26it/s]\u001b[32m [repeated 59x across cluster]\u001b[0m\n",
            "Victim Training:: 100%|██████████| 8/8 [00:02<00:00,  2.96it/s]\n",
            "Victim Training:: 100%|██████████| 8/8 [00:02<00:00,  2.86it/s]\n",
            "Victim Training:: 100%|██████████| 8/8 [00:02<00:00,  3.19it/s]\u001b[32m [repeated 6x across cluster]\u001b[0m\n"
          ]
        },
        {
          "output_type": "stream",
          "name": "stdout",
          "text": [
            "\u001b[2m\u001b[36m(DefaultActor pid=13401)\u001b[0m [Client 20] get_parameters\u001b[32m [repeated 5x across cluster]\u001b[0m\n"
          ]
        },
        {
          "output_type": "stream",
          "name": "stderr",
          "text": [
            "DEBUG flwr 2023-12-28 07:34:02,702 | server.py:236 | fit_round 14 received 11 results and 0 failures\n",
            "DEBUG:flwr:fit_round 14 received 11 results and 0 failures\n",
            "Victim Training::   0%|          | 0/8 [00:00<?, ?it/s]\u001b[32m [repeated 8x across cluster]\u001b[0m\n",
            "Victim Training::  88%|████████▊ | 7/8 [00:00<00:00, 11.19it/s]\u001b[32m [repeated 63x across cluster]\u001b[0m\n"
          ]
        },
        {
          "output_type": "stream",
          "name": "stdout",
          "text": [
            "Saving round 14 aggregated_parameters...\n",
            "GLOBAL EVALUATE\n"
          ]
        },
        {
          "output_type": "stream",
          "name": "stderr",
          "text": [
            "100%|██████████| 10000/10000 [00:15<00:00, 633.88it/s]\n",
            "INFO flwr 2023-12-28 07:34:18,564 | server.py:125 | fit progress: (14, 23025.993895292282, {'accuracy': 0.0892}, 1271.659439041)\n",
            "INFO:flwr:fit progress: (14, 23025.993895292282, {'accuracy': 0.0892}, 1271.659439041)\n",
            "DEBUG flwr 2023-12-28 07:34:18,569 | server.py:173 | evaluate_round 14: strategy sampled 11 clients (out of 30)\n",
            "DEBUG:flwr:evaluate_round 14: strategy sampled 11 clients (out of 30)\n",
            "  0%|          | 0/2 [00:00<?, ?it/s]\n",
            "Victim Training:: 100%|██████████| 8/8 [00:00<00:00, 10.34it/s]\u001b[32m [repeated 3x across cluster]\u001b[0m\n",
            "Victim Training:: 100%|██████████| 8/8 [00:01<00:00,  4.09it/s]\u001b[32m [repeated 6x across cluster]\u001b[0m\n"
          ]
        },
        {
          "output_type": "stream",
          "name": "stdout",
          "text": [
            "\u001b[2m\u001b[36m(DefaultActor pid=13426)\u001b[0m [Client 11] evaluate, config: {}\n",
            "\u001b[2m\u001b[36m(DefaultActor pid=13426)\u001b[0m [Client 11] get_parameters\u001b[32m [repeated 4x across cluster]\u001b[0m\n"
          ]
        },
        {
          "output_type": "stream",
          "name": "stderr",
          "text": [
            " 50%|█████     | 1/2 [00:00<00:00,  1.18it/s]\n",
            "100%|██████████| 2/2 [00:01<00:00,  1.92it/s]\n"
          ]
        },
        {
          "output_type": "stream",
          "name": "stdout",
          "text": [
            "\u001b[2m\u001b[36m(DefaultActor pid=13426)\u001b[0m local acc: 0.0\n"
          ]
        },
        {
          "output_type": "stream",
          "name": "stderr",
          "text": [
            "DEBUG flwr 2023-12-28 07:34:23,105 | server.py:187 | evaluate_round 14 received 11 results and 0 failures\n",
            "DEBUG:flwr:evaluate_round 14 received 11 results and 0 failures\n",
            "DEBUG flwr 2023-12-28 07:34:23,109 | server.py:222 | fit_round 15: strategy sampled 11 clients (out of 30)\n",
            "DEBUG:flwr:fit_round 15: strategy sampled 11 clients (out of 30)\n"
          ]
        },
        {
          "output_type": "stream",
          "name": "stdout",
          "text": [
            "\u001b[2m\u001b[36m(DefaultActor pid=13331)\u001b[0m [Client 26] fit, config: {'epochs': 10, 'lr': 0.1, 'attacker_epochs': 20, 'attacker_lr': 0.05}\n"
          ]
        },
        {
          "output_type": "stream",
          "name": "stderr",
          "text": [
            "\u001b[2m\u001b[36m(DefaultActor pid=13331)\u001b[0m \rVictim Training::   0%|          | 0/8 [00:00<?, ?it/s]\n"
          ]
        },
        {
          "output_type": "stream",
          "name": "stdout",
          "text": [
            "\u001b[2m\u001b[36m(DefaultActor pid=13331)\u001b[0m [Client 14] evaluate, config: {}\u001b[32m [repeated 10x across cluster]\u001b[0m\n"
          ]
        },
        {
          "output_type": "stream",
          "name": "stderr",
          "text": [
            "  0%|          | 0/2 [00:00<?, ?it/s]\u001b[32m [repeated 10x across cluster]\u001b[0m\n",
            "Victim Training::  12%|█▎        | 1/8 [00:00<00:05,  1.33it/s]\n",
            "100%|██████████| 2/2 [00:00<00:00,  6.26it/s]\u001b[32m [repeated 10x across cluster]\u001b[0m\n",
            "100%|██████████| 2/2 [00:00<00:00,  3.34it/s]\u001b[32m [repeated 8x across cluster]\u001b[0m\n",
            "Victim Training:: 100%|██████████| 8/8 [00:02<00:00,  2.86it/s]\n",
            "Victim Training:: 100%|██████████| 8/8 [00:03<00:00,  2.08it/s]\n",
            "Victim Training::   0%|          | 0/9 [00:00<?, ?it/s]\u001b[32m [repeated 11x across cluster]\u001b[0m\n",
            "Victim Training::  62%|██████▎   | 5/8 [00:01<00:01,  2.68it/s]\u001b[32m [repeated 66x across cluster]\u001b[0m\n",
            "Victim Training:: 100%|██████████| 9/9 [00:03<00:00,  2.66it/s]\n",
            "Victim Training:: 100%|██████████| 8/8 [00:02<00:00,  2.77it/s]\u001b[32m [repeated 2x across cluster]\u001b[0m\n",
            "Victim Training:: 100%|██████████| 9/9 [00:03<00:00,  2.33it/s]\u001b[32m [repeated 7x across cluster]\u001b[0m\n",
            "Victim Training::   0%|          | 0/8 [00:00<?, ?it/s]\u001b[32m [repeated 8x across cluster]\u001b[0m\n",
            "Victim Training::  38%|███▊      | 3/8 [00:01<00:02,  1.98it/s]\u001b[32m [repeated 68x across cluster]\u001b[0m\n",
            "Victim Training:: 100%|██████████| 8/8 [00:04<00:00,  1.80it/s]\u001b[32m [repeated 2x across cluster]\u001b[0m\n",
            "Victim Training:: 100%|██████████| 9/9 [00:03<00:00,  2.64it/s]\u001b[32m [repeated 5x across cluster]\u001b[0m\n",
            "Victim Training::   0%|          | 0/8 [00:00<?, ?it/s]\u001b[32m [repeated 6x across cluster]\u001b[0m\n",
            "Victim Training::  89%|████████▉ | 8/9 [00:04<00:00,  1.58it/s]\u001b[32m [repeated 46x across cluster]\u001b[0m\n",
            "Victim Training:: 100%|██████████| 8/8 [00:03<00:00,  2.30it/s]\n",
            "Victim Training:: 100%|██████████| 8/8 [00:04<00:00,  1.93it/s]\u001b[32m [repeated 6x across cluster]\u001b[0m\n",
            "Victim Training:: 100%|██████████| 9/9 [00:03<00:00,  2.39it/s]\n",
            "Victim Training::   0%|          | 0/8 [00:00<?, ?it/s]\u001b[32m [repeated 9x across cluster]\u001b[0m\n",
            "Victim Training::  33%|███▎      | 3/9 [00:01<00:03,  1.86it/s]\u001b[32m [repeated 62x across cluster]\u001b[0m\n",
            "Victim Training:: 100%|██████████| 8/8 [00:03<00:00,  2.61it/s]\n",
            "Victim Training:: 100%|██████████| 9/9 [00:03<00:00,  2.52it/s]\u001b[32m [repeated 6x across cluster]\u001b[0m\n",
            "Victim Training:: 100%|██████████| 8/8 [00:02<00:00,  3.29it/s]\n",
            "Victim Training:: 100%|██████████| 8/8 [00:02<00:00,  3.30it/s]\n",
            "Victim Training::   0%|          | 0/8 [00:00<?, ?it/s]\u001b[32m [repeated 10x across cluster]\u001b[0m\n",
            "Victim Training::  12%|█▎        | 1/8 [00:00<00:03,  2.22it/s]\u001b[32m [repeated 68x across cluster]\u001b[0m\n",
            "Victim Training:: 100%|██████████| 9/9 [00:03<00:00,  2.68it/s]\n",
            "Victim Training:: 100%|██████████| 8/8 [00:03<00:00,  2.20it/s]\n",
            "Victim Training:: 100%|██████████| 9/9 [00:04<00:00,  1.93it/s]\u001b[32m [repeated 7x across cluster]\u001b[0m\n",
            "Victim Training::   0%|          | 0/9 [00:00<?, ?it/s]\u001b[32m [repeated 6x across cluster]\u001b[0m\n",
            "Victim Training::  56%|█████▌    | 5/9 [00:03<00:03,  1.24it/s]\u001b[32m [repeated 45x across cluster]\u001b[0m\n",
            "Victim Training:: 100%|██████████| 8/8 [00:04<00:00,  1.62it/s]\n"
          ]
        },
        {
          "output_type": "stream",
          "name": "stdout",
          "text": [
            "\u001b[2m\u001b[36m(DefaultActor pid=13401)\u001b[0m [Client 16] get_parameters\n",
            "\u001b[2m\u001b[36m(DefaultActor pid=13331)\u001b[0m local acc: 0.0\u001b[32m [repeated 10x across cluster]\u001b[0m\n",
            "\u001b[2m\u001b[36m(DefaultActor pid=13401)\u001b[0m [Client 16] fit, config: {'epochs': 10, 'lr': 0.1, 'attacker_epochs': 20, 'attacker_lr': 0.05}\u001b[32m [repeated 5x across cluster]\u001b[0m\n"
          ]
        },
        {
          "output_type": "stream",
          "name": "stderr",
          "text": [
            "Victim Training:: 100%|██████████| 9/9 [00:06<00:00,  1.49it/s]\u001b[32m [repeated 4x across cluster]\u001b[0m\n",
            "Victim Training::   0%|          | 0/8 [00:00<?, ?it/s]\u001b[32m [repeated 7x across cluster]\u001b[0m\n",
            "Victim Training::  56%|█████▌    | 5/9 [00:02<00:01,  2.32it/s]\u001b[32m [repeated 54x across cluster]\u001b[0m\n",
            "Victim Training:: 100%|██████████| 8/8 [00:03<00:00,  2.01it/s]\u001b[32m [repeated 8x across cluster]\u001b[0m\n"
          ]
        },
        {
          "output_type": "stream",
          "name": "stdout",
          "text": [
            "\u001b[2m\u001b[36m(DefaultActor pid=13354)\u001b[0m [Client 3] get_parameters\u001b[32m [repeated 3x across cluster]\u001b[0m\n",
            "\u001b[2m\u001b[36m(DefaultActor pid=13306)\u001b[0m [Client 14] fit, config: {'epochs': 10, 'lr': 0.1, 'attacker_epochs': 20, 'attacker_lr': 0.05}\u001b[32m [repeated 3x across cluster]\u001b[0m\n"
          ]
        },
        {
          "output_type": "stream",
          "name": "stderr",
          "text": [
            "Victim Training::   0%|          | 0/8 [00:00<?, ?it/s]\u001b[32m [repeated 7x across cluster]\u001b[0m\n",
            "Victim Training::  38%|███▊      | 3/8 [00:00<00:01,  3.65it/s]\u001b[32m [repeated 59x across cluster]\u001b[0m\n",
            "Victim Training:: 100%|██████████| 8/8 [00:01<00:00,  4.99it/s]\u001b[32m [repeated 8x across cluster]\u001b[0m\n",
            "Victim Training::   0%|          | 0/8 [00:00<?, ?it/s]\u001b[32m [repeated 9x across cluster]\u001b[0m\n",
            "Victim Training::  38%|███▊      | 3/8 [00:01<00:02,  1.70it/s]\u001b[32m [repeated 51x across cluster]\u001b[0m\n",
            "Victim Training:: 100%|██████████| 8/8 [00:03<00:00,  2.17it/s]\u001b[32m [repeated 7x across cluster]\u001b[0m\n",
            "Victim Training::   0%|          | 0/8 [00:00<?, ?it/s]\u001b[32m [repeated 7x across cluster]\u001b[0m\n",
            "Victim Training::  88%|████████▊ | 7/8 [00:02<00:00,  3.64it/s]\u001b[32m [repeated 53x across cluster]\u001b[0m\n",
            "Victim Training:: 100%|██████████| 8/8 [00:02<00:00,  3.03it/s]\u001b[32m [repeated 9x across cluster]\u001b[0m\n",
            "Victim Training::   0%|          | 0/8 [00:00<?, ?it/s]\u001b[32m [repeated 9x across cluster]\u001b[0m\n",
            "Victim Training::  88%|████████▊ | 7/8 [00:02<00:00,  2.83it/s]\u001b[32m [repeated 68x across cluster]\u001b[0m\n",
            "Victim Training:: 100%|██████████| 8/8 [00:02<00:00,  3.96it/s]\n",
            "Victim Training:: 100%|██████████| 8/8 [00:02<00:00,  2.99it/s]\u001b[32m [repeated 9x across cluster]\u001b[0m\n",
            "Victim Training::   0%|          | 0/8 [00:00<?, ?it/s]\u001b[32m [repeated 9x across cluster]\u001b[0m\n",
            "Victim Training::  62%|██████▎   | 5/8 [00:02<00:01,  1.85it/s]\u001b[32m [repeated 58x across cluster]\u001b[0m\n",
            "Victim Training:: 100%|██████████| 8/8 [00:04<00:00,  1.94it/s]\u001b[32m [repeated 5x across cluster]\u001b[0m\n",
            "Victim Training::   0%|          | 0/8 [00:00<?, ?it/s]\u001b[32m [repeated 7x across cluster]\u001b[0m\n"
          ]
        },
        {
          "output_type": "stream",
          "name": "stdout",
          "text": [
            "\u001b[2m\u001b[36m(DefaultActor pid=13331)\u001b[0m [Client 7] get_parameters\u001b[32m [repeated 3x across cluster]\u001b[0m\n",
            "\u001b[2m\u001b[36m(DefaultActor pid=13426)\u001b[0m [Client 9] fit, config: {'epochs': 10, 'lr': 0.1, 'attacker_epochs': 20, 'attacker_lr': 0.05}\u001b[32m [repeated 2x across cluster]\u001b[0m\n"
          ]
        },
        {
          "output_type": "stream",
          "name": "stderr",
          "text": [
            "Victim Training::  75%|███████▌  | 6/8 [00:01<00:00,  3.77it/s]\u001b[32m [repeated 50x across cluster]\u001b[0m\n",
            "Victim Training:: 100%|██████████| 8/8 [00:01<00:00,  5.40it/s]\n",
            "Victim Training:: 100%|██████████| 8/8 [00:01<00:00,  4.68it/s]\u001b[32m [repeated 11x across cluster]\u001b[0m\n",
            "DEBUG flwr 2023-12-28 07:35:34,536 | server.py:236 | fit_round 15 received 11 results and 0 failures\n",
            "DEBUG:flwr:fit_round 15 received 11 results and 0 failures\n"
          ]
        },
        {
          "output_type": "stream",
          "name": "stdout",
          "text": [
            "Saving round 15 aggregated_parameters...\n",
            "GLOBAL EVALUATE\n"
          ]
        },
        {
          "output_type": "stream",
          "name": "stderr",
          "text": [
            "100%|██████████| 10000/10000 [00:16<00:00, 624.78it/s]\n",
            "INFO flwr 2023-12-28 07:35:50,629 | server.py:125 | fit progress: (15, 23025.968755483627, {'accuracy': 0.0892}, 1363.7245939)\n",
            "INFO:flwr:fit progress: (15, 23025.968755483627, {'accuracy': 0.0892}, 1363.7245939)\n",
            "DEBUG flwr 2023-12-28 07:35:50,634 | server.py:173 | evaluate_round 15: strategy sampled 11 clients (out of 30)\n",
            "DEBUG:flwr:evaluate_round 15: strategy sampled 11 clients (out of 30)\n",
            "  0%|          | 0/2 [00:00<?, ?it/s]\n",
            "Victim Training::   0%|          | 0/8 [00:00<?, ?it/s]\u001b[32m [repeated 4x across cluster]\u001b[0m\n",
            "Victim Training::  88%|████████▊ | 7/8 [00:00<00:00, 12.40it/s]\u001b[32m [repeated 39x across cluster]\u001b[0m\n",
            "Victim Training:: 100%|██████████| 8/8 [00:00<00:00, 11.97it/s]\n"
          ]
        },
        {
          "output_type": "stream",
          "name": "stdout",
          "text": [
            "\u001b[2m\u001b[36m(DefaultActor pid=13426)\u001b[0m [Client 22] evaluate, config: {}\n",
            "\u001b[2m\u001b[36m(DefaultActor pid=13426)\u001b[0m [Client 9] get_parameters\u001b[32m [repeated 4x across cluster]\u001b[0m\n"
          ]
        },
        {
          "output_type": "stream",
          "name": "stderr",
          "text": [
            "\u001b[2m\u001b[36m(DefaultActor pid=13426)\u001b[0m \r 50%|█████     | 1/2 [00:00<00:00,  1.97it/s]\n",
            "\u001b[2m\u001b[36m(DefaultActor pid=13426)\u001b[0m \r100%|██████████| 2/2 [00:00<00:00,  2.81it/s]\r100%|██████████| 2/2 [00:00<00:00,  2.64it/s]\n"
          ]
        },
        {
          "output_type": "stream",
          "name": "stdout",
          "text": [
            "\u001b[2m\u001b[36m(DefaultActor pid=13426)\u001b[0m local acc: 0.0\n"
          ]
        },
        {
          "output_type": "stream",
          "name": "stderr",
          "text": [
            "DEBUG flwr 2023-12-28 07:35:53,608 | server.py:187 | evaluate_round 15 received 11 results and 0 failures\n",
            "DEBUG:flwr:evaluate_round 15 received 11 results and 0 failures\n",
            "DEBUG flwr 2023-12-28 07:35:53,612 | server.py:222 | fit_round 16: strategy sampled 11 clients (out of 30)\n",
            "DEBUG:flwr:fit_round 16: strategy sampled 11 clients (out of 30)\n"
          ]
        },
        {
          "output_type": "stream",
          "name": "stdout",
          "text": [
            "\u001b[2m\u001b[36m(DefaultActor pid=13401)\u001b[0m [Client 11] fit, config: {'epochs': 10, 'lr': 0.1, 'attacker_epochs': 20, 'attacker_lr': 0.05}\n"
          ]
        },
        {
          "output_type": "stream",
          "name": "stderr",
          "text": [
            "\u001b[2m\u001b[36m(DefaultActor pid=13401)\u001b[0m \r  0%|          | 0/2 [00:00<?, ?it/s]\u001b[32m [repeated 10x across cluster]\u001b[0m\n",
            "\u001b[2m\u001b[36m(DefaultActor pid=13426)\u001b[0m \rVictim Training::   0%|          | 0/8 [00:00<?, ?it/s]\u001b[32m [repeated 6x across cluster]\u001b[0m\n",
            "Victim Training::  25%|██▌       | 2/8 [00:01<00:04,  1.44it/s]\u001b[32m [repeated 11x across cluster]\u001b[0m\n",
            "100%|██████████| 2/2 [00:00<00:00,  6.94it/s]\u001b[32m [repeated 9x across cluster]\u001b[0m\n",
            "100%|██████████| 2/2 [00:00<00:00, 15.93it/s]\u001b[32m [repeated 8x across cluster]\u001b[0m\n",
            "Victim Training:: 100%|██████████| 8/8 [00:04<00:00,  1.97it/s]\n",
            "Victim Training:: 100%|██████████| 8/8 [00:04<00:00,  1.99it/s]\n",
            "Victim Training::   0%|          | 0/8 [00:00<?, ?it/s]\u001b[32m [repeated 6x across cluster]\u001b[0m\n",
            "Victim Training::  38%|███▊      | 3/8 [00:02<00:03,  1.51it/s]\u001b[32m [repeated 44x across cluster]\u001b[0m\n",
            "Victim Training:: 100%|██████████| 8/8 [00:03<00:00,  2.19it/s]\n",
            "Victim Training:: 100%|██████████| 8/8 [00:03<00:00,  2.05it/s]\u001b[32m [repeated 6x across cluster]\u001b[0m\n",
            "Victim Training:: 100%|██████████| 8/8 [00:03<00:00,  2.53it/s]\n",
            "Victim Training:: 100%|██████████| 8/8 [00:02<00:00,  2.94it/s]\n",
            "Victim Training::   0%|          | 0/8 [00:00<?, ?it/s]\u001b[32m [repeated 10x across cluster]\u001b[0m\n",
            "Victim Training::  12%|█▎        | 1/8 [00:00<00:02,  2.43it/s]\u001b[32m [repeated 68x across cluster]\u001b[0m\n",
            "Victim Training:: 100%|██████████| 8/8 [00:03<00:00,  2.07it/s]\u001b[32m [repeated 7x across cluster]\u001b[0m\n",
            "Victim Training:: 100%|██████████| 8/8 [00:03<00:00,  2.59it/s]\n",
            "Victim Training::   0%|          | 0/8 [00:00<?, ?it/s]\u001b[32m [repeated 8x across cluster]\u001b[0m\n",
            "Victim Training::  38%|███▊      | 3/8 [00:01<00:02,  2.19it/s]\u001b[32m [repeated 66x across cluster]\u001b[0m\n",
            "Victim Training:: 100%|██████████| 8/8 [00:02<00:00,  2.90it/s]\n",
            "Victim Training:: 100%|██████████| 8/8 [00:04<00:00,  1.91it/s]\u001b[32m [repeated 7x across cluster]\u001b[0m\n",
            "Victim Training:: 100%|██████████| 8/8 [00:04<00:00,  1.82it/s]\n",
            "Victim Training::   0%|          | 0/8 [00:00<?, ?it/s]\u001b[32m [repeated 7x across cluster]\u001b[0m\n",
            "Victim Training::  25%|██▌       | 2/8 [00:00<00:03,  1.96it/s]\u001b[32m [repeated 44x across cluster]\u001b[0m\n",
            "Victim Training:: 100%|██████████| 8/8 [00:04<00:00,  1.81it/s]\u001b[32m [repeated 6x across cluster]\u001b[0m\n",
            "Victim Training:: 100%|██████████| 8/8 [00:03<00:00,  2.56it/s]\n",
            "Victim Training::   0%|          | 0/8 [00:00<?, ?it/s]\u001b[32m [repeated 9x across cluster]\u001b[0m\n",
            "Victim Training::  62%|██████▎   | 5/8 [00:02<00:01,  2.18it/s]\u001b[32m [repeated 60x across cluster]\u001b[0m\n",
            "Victim Training:: 100%|██████████| 8/8 [00:03<00:00,  2.59it/s]\n",
            "Victim Training:: 100%|██████████| 8/8 [00:03<00:00,  2.33it/s]\u001b[32m [repeated 7x across cluster]\u001b[0m\n",
            "Victim Training:: 100%|██████████| 8/8 [00:02<00:00,  2.91it/s]\n",
            "Victim Training::   0%|          | 0/8 [00:00<?, ?it/s]\u001b[32m [repeated 8x across cluster]\u001b[0m\n",
            "Victim Training::  38%|███▊      | 3/8 [00:01<00:02,  2.06it/s]\u001b[32m [repeated 68x across cluster]\u001b[0m\n",
            "Victim Training:: 100%|██████████| 8/8 [00:03<00:00,  2.26it/s]\n",
            "Victim Training:: 100%|██████████| 8/8 [00:02<00:00,  2.72it/s]\u001b[32m [repeated 9x across cluster]\u001b[0m\n"
          ]
        },
        {
          "output_type": "stream",
          "name": "stdout",
          "text": [
            "\u001b[2m\u001b[36m(DefaultActor pid=13401)\u001b[0m [Client 27] evaluate, config: {}\u001b[32m [repeated 10x across cluster]\u001b[0m\n",
            "\u001b[2m\u001b[36m(DefaultActor pid=13331)\u001b[0m [Client 15] get_parameters\n",
            "\u001b[2m\u001b[36m(DefaultActor pid=13401)\u001b[0m local acc: 0.0\u001b[32m [repeated 10x across cluster]\u001b[0m\n",
            "\u001b[2m\u001b[36m(DefaultActor pid=13426)\u001b[0m [Client 8] fit, config: {'epochs': 10, 'lr': 0.1, 'attacker_epochs': 20, 'attacker_lr': 0.05}\u001b[32m [repeated 5x across cluster]\u001b[0m\n",
            "\u001b[2m\u001b[36m(DefaultActor pid=13306)\u001b[0m [Client 1] get_parameters\n"
          ]
        },
        {
          "output_type": "stream",
          "name": "stderr",
          "text": [
            "\u001b[2m\u001b[36m(DefaultActor pid=13426)\u001b[0m \rVictim Training::   0%|          | 0/8 [00:00<?, ?it/s]\u001b[32m [repeated 7x across cluster]\u001b[0m\n",
            "Victim Training::  62%|██████▎   | 5/8 [00:03<00:02,  1.37it/s]\u001b[32m [repeated 45x across cluster]\u001b[0m\n",
            "Victim Training:: 100%|██████████| 8/8 [00:05<00:00,  1.44it/s]\u001b[32m [repeated 5x across cluster]\u001b[0m\n"
          ]
        },
        {
          "output_type": "stream",
          "name": "stdout",
          "text": [
            "\u001b[2m\u001b[36m(DefaultActor pid=13377)\u001b[0m [Client 4] fit, config: {'epochs': 10, 'lr': 0.1, 'attacker_epochs': 20, 'attacker_lr': 0.05}\u001b[32m [repeated 4x across cluster]\u001b[0m\n"
          ]
        },
        {
          "output_type": "stream",
          "name": "stderr",
          "text": [
            "Victim Training:: 100%|██████████| 9/9 [00:04<00:00,  2.19it/s]\n",
            "Victim Training::   0%|          | 0/9 [00:00<?, ?it/s]\u001b[32m [repeated 7x across cluster]\u001b[0m\n",
            "Victim Training::  62%|██████▎   | 5/8 [00:02<00:01,  2.38it/s]\u001b[32m [repeated 50x across cluster]\u001b[0m\n",
            "Victim Training:: 100%|██████████| 8/8 [00:03<00:00,  2.66it/s]\u001b[32m [repeated 6x across cluster]\u001b[0m\n",
            "Victim Training:: 100%|██████████| 9/9 [00:03<00:00,  2.93it/s]\n",
            "Victim Training::   0%|          | 0/8 [00:00<?, ?it/s]\u001b[32m [repeated 8x across cluster]\u001b[0m\n",
            "Victim Training::  67%|██████▋   | 6/9 [00:01<00:00,  3.43it/s]\u001b[32m [repeated 69x across cluster]\u001b[0m\n",
            "Victim Training:: 100%|██████████| 9/9 [00:03<00:00,  2.97it/s]\n",
            "Victim Training:: 100%|██████████| 8/8 [00:02<00:00,  2.93it/s]\u001b[32m [repeated 8x across cluster]\u001b[0m\n",
            "Victim Training:: 100%|██████████| 9/9 [00:04<00:00,  2.18it/s]\n",
            "Victim Training::   0%|          | 0/9 [00:00<?, ?it/s]\u001b[32m [repeated 9x across cluster]\u001b[0m\n",
            "Victim Training::  25%|██▌       | 2/8 [00:01<00:03,  1.85it/s]\u001b[32m [repeated 51x across cluster]\u001b[0m\n",
            "Victim Training:: 100%|██████████| 8/8 [00:03<00:00,  2.09it/s]\u001b[32m [repeated 4x across cluster]\u001b[0m\n",
            "Victim Training:: 100%|██████████| 9/9 [00:04<00:00,  2.17it/s]\n",
            "Victim Training::   0%|          | 0/8 [00:00<?, ?it/s]\u001b[32m [repeated 6x across cluster]\u001b[0m\n",
            "Victim Training::  38%|███▊      | 3/8 [00:01<00:01,  3.19it/s]\u001b[32m [repeated 55x across cluster]\u001b[0m\n",
            "Victim Training:: 100%|██████████| 9/9 [00:02<00:00,  4.21it/s]\n",
            "Victim Training:: 100%|██████████| 9/9 [00:03<00:00,  2.91it/s]\u001b[32m [repeated 8x across cluster]\u001b[0m\n",
            "Victim Training:: 100%|██████████| 9/9 [00:02<00:00,  3.57it/s]\n",
            "Victim Training::   0%|          | 0/9 [00:00<?, ?it/s]\u001b[32m [repeated 10x across cluster]\u001b[0m\n",
            "Victim Training::  25%|██▌       | 2/8 [00:00<00:02,  2.44it/s]\u001b[32m [repeated 67x across cluster]\u001b[0m\n",
            "Victim Training:: 100%|██████████| 9/9 [00:02<00:00,  3.36it/s]\n",
            "Victim Training:: 100%|██████████| 8/8 [00:02<00:00,  3.08it/s]\u001b[32m [repeated 6x across cluster]\u001b[0m\n"
          ]
        },
        {
          "output_type": "stream",
          "name": "stdout",
          "text": [
            "\u001b[2m\u001b[36m(DefaultActor pid=13331)\u001b[0m [Client 20] get_parameters\u001b[32m [repeated 5x across cluster]\u001b[0m\n",
            "\u001b[2m\u001b[36m(DefaultActor pid=13354)\u001b[0m [Client 2] fit, config: {'epochs': 10, 'lr': 0.1, 'attacker_epochs': 20, 'attacker_lr': 0.05}\n"
          ]
        },
        {
          "output_type": "stream",
          "name": "stderr",
          "text": [
            "\u001b[2m\u001b[36m(DefaultActor pid=13401)\u001b[0m \rVictim Training::   0%|          | 0/9 [00:00<?, ?it/s]\u001b[32m [repeated 6x across cluster]\u001b[0m\n",
            "Victim Training::  33%|███▎      | 3/9 [00:01<00:03,  1.97it/s]\u001b[32m [repeated 54x across cluster]\u001b[0m\n",
            "Victim Training:: 100%|██████████| 9/9 [00:04<00:00,  1.99it/s]\n",
            "Victim Training:: 100%|██████████| 9/9 [00:03<00:00,  2.31it/s]\u001b[32m [repeated 7x across cluster]\u001b[0m\n",
            "Victim Training:: 100%|██████████| 9/9 [00:02<00:00,  3.01it/s]\n",
            "DEBUG flwr 2023-12-28 07:37:06,125 | server.py:236 | fit_round 16 received 11 results and 0 failures\n",
            "DEBUG:flwr:fit_round 16 received 11 results and 0 failures\n"
          ]
        },
        {
          "output_type": "stream",
          "name": "stdout",
          "text": [
            "Saving round 16 aggregated_parameters...\n",
            "GLOBAL EVALUATE\n"
          ]
        },
        {
          "output_type": "stream",
          "name": "stderr",
          "text": [
            "100%|██████████| 10000/10000 [00:16<00:00, 621.55it/s]\n",
            "INFO flwr 2023-12-28 07:37:22,313 | server.py:125 | fit progress: (16, 23025.94033241272, {'accuracy': 0.0913}, 1455.4084742150003)\n",
            "INFO:flwr:fit progress: (16, 23025.94033241272, {'accuracy': 0.0913}, 1455.4084742150003)\n",
            "DEBUG flwr 2023-12-28 07:37:22,320 | server.py:173 | evaluate_round 16: strategy sampled 11 clients (out of 30)\n",
            "DEBUG:flwr:evaluate_round 16: strategy sampled 11 clients (out of 30)\n"
          ]
        },
        {
          "output_type": "stream",
          "name": "stdout",
          "text": [
            "\u001b[2m\u001b[36m(DefaultActor pid=13377)\u001b[0m [Client 27] evaluate, config: {}\n",
            "\u001b[2m\u001b[36m(DefaultActor pid=13401)\u001b[0m [Client 5] get_parameters\u001b[32m [repeated 4x across cluster]\u001b[0m\n"
          ]
        },
        {
          "output_type": "stream",
          "name": "stderr",
          "text": [
            "\u001b[2m\u001b[36m(DefaultActor pid=13377)\u001b[0m \r  0%|          | 0/2 [00:00<?, ?it/s]\n",
            "\u001b[2m\u001b[36m(DefaultActor pid=13401)\u001b[0m \rVictim Training::   0%|          | 0/9 [00:00<?, ?it/s]\u001b[32m [repeated 3x across cluster]\u001b[0m\n",
            "\u001b[2m\u001b[36m(DefaultActor pid=13401)\u001b[0m \rVictim Training::  89%|████████▉ | 8/9 [00:01<00:00,  5.78it/s]\u001b[32m [repeated 39x across cluster]\u001b[0m\n",
            "Victim Training:: 100%|██████████| 9/9 [00:01<00:00,  4.58it/s]\u001b[32m [repeated 2x across cluster]\u001b[0m\n",
            " 50%|█████     | 1/2 [00:00<00:00,  2.62it/s]\n",
            "100%|██████████| 2/2 [00:00<00:00,  3.14it/s]\n"
          ]
        },
        {
          "output_type": "stream",
          "name": "stdout",
          "text": [
            "\u001b[2m\u001b[36m(DefaultActor pid=13377)\u001b[0m local acc: 0.0\n"
          ]
        },
        {
          "output_type": "stream",
          "name": "stderr",
          "text": [
            "DEBUG flwr 2023-12-28 07:37:25,298 | server.py:187 | evaluate_round 16 received 11 results and 0 failures\n",
            "DEBUG:flwr:evaluate_round 16 received 11 results and 0 failures\n",
            "DEBUG flwr 2023-12-28 07:37:25,301 | server.py:222 | fit_round 17: strategy sampled 11 clients (out of 30)\n",
            "DEBUG:flwr:fit_round 17: strategy sampled 11 clients (out of 30)\n"
          ]
        },
        {
          "output_type": "stream",
          "name": "stdout",
          "text": [
            "\u001b[2m\u001b[36m(DefaultActor pid=13377)\u001b[0m [Client 14] fit, config: {'epochs': 10, 'lr': 0.1, 'attacker_epochs': 20, 'attacker_lr': 0.05}\n"
          ]
        },
        {
          "output_type": "stream",
          "name": "stderr",
          "text": [
            "\u001b[2m\u001b[36m(DefaultActor pid=13377)\u001b[0m \r  0%|          | 0/2 [00:00<?, ?it/s]\u001b[32m [repeated 10x across cluster]\u001b[0m\n",
            "\u001b[2m\u001b[36m(DefaultActor pid=13331)\u001b[0m \rVictim Training::   0%|          | 0/8 [00:00<?, ?it/s]\u001b[32m [repeated 6x across cluster]\u001b[0m\n",
            "Victim Training::  50%|█████     | 4/8 [00:01<00:01,  2.81it/s]\u001b[32m [repeated 20x across cluster]\u001b[0m\n",
            "100%|██████████| 2/2 [00:00<00:00, 12.61it/s]\u001b[32m [repeated 10x across cluster]\u001b[0m\n",
            "100%|██████████| 2/2 [00:00<00:00,  7.08it/s]\u001b[32m [repeated 7x across cluster]\u001b[0m\n",
            "Victim Training:: 100%|██████████| 9/9 [00:02<00:00,  3.16it/s]\n",
            "Victim Training:: 100%|██████████| 8/8 [00:03<00:00,  2.26it/s]\n",
            "Victim Training::   0%|          | 0/8 [00:00<?, ?it/s]\u001b[32m [repeated 7x across cluster]\u001b[0m\n",
            "Victim Training::  62%|██████▎   | 5/8 [00:02<00:01,  1.73it/s]\u001b[32m [repeated 56x across cluster]\u001b[0m\n",
            "Victim Training:: 100%|██████████| 9/9 [00:04<00:00,  2.13it/s]\n",
            "Victim Training:: 100%|██████████| 8/8 [00:04<00:00,  1.76it/s]\n",
            "Victim Training:: 100%|██████████| 8/8 [00:04<00:00,  1.89it/s]\u001b[32m [repeated 5x across cluster]\u001b[0m\n",
            "Victim Training:: 100%|██████████| 8/8 [00:04<00:00,  1.67it/s]\n",
            "Victim Training::   0%|          | 0/8 [00:00<?, ?it/s]\u001b[32m [repeated 8x across cluster]\u001b[0m\n",
            "Victim Training::  75%|███████▌  | 6/8 [00:01<00:00,  4.05it/s]\u001b[32m [repeated 48x across cluster]\u001b[0m\n",
            "Victim Training:: 100%|██████████| 8/8 [00:02<00:00,  3.37it/s]\n",
            "Victim Training:: 100%|██████████| 8/8 [00:04<00:00,  1.75it/s]\u001b[32m [repeated 7x across cluster]\u001b[0m\n",
            "Victim Training:: 100%|██████████| 8/8 [00:02<00:00,  3.13it/s]\n",
            "Victim Training::   0%|          | 0/9 [00:00<?, ?it/s]\u001b[32m [repeated 9x across cluster]\u001b[0m\n",
            "Victim Training::  88%|████████▊ | 7/8 [00:03<00:00,  1.94it/s]\u001b[32m [repeated 63x across cluster]\u001b[0m\n",
            "Victim Training:: 100%|██████████| 8/8 [00:03<00:00,  2.26it/s]\n",
            "Victim Training:: 100%|██████████| 8/8 [00:02<00:00,  3.16it/s]\n",
            "Victim Training:: 100%|██████████| 8/8 [00:03<00:00,  2.14it/s]\u001b[32m [repeated 7x across cluster]\u001b[0m\n",
            "Victim Training::   0%|          | 0/8 [00:00<?, ?it/s]\u001b[32m [repeated 9x across cluster]\u001b[0m\n",
            "Victim Training::  33%|███▎      | 3/9 [00:01<00:03,  1.58it/s]\u001b[32m [repeated 59x across cluster]\u001b[0m\n",
            "Victim Training:: 100%|██████████| 8/8 [00:03<00:00,  2.28it/s]\u001b[32m [repeated 2x across cluster]\u001b[0m\n",
            "Victim Training:: 100%|██████████| 8/8 [00:04<00:00,  1.90it/s]\u001b[32m [repeated 4x across cluster]\u001b[0m\n",
            "Victim Training::   0%|          | 0/8 [00:00<?, ?it/s]\u001b[32m [repeated 7x across cluster]\u001b[0m\n",
            "Victim Training::  33%|███▎      | 3/9 [00:02<00:04,  1.45it/s]\u001b[32m [repeated 46x across cluster]\u001b[0m\n",
            "Victim Training:: 100%|██████████| 8/8 [00:04<00:00,  1.83it/s]\n",
            "Victim Training:: 100%|██████████| 8/8 [00:04<00:00,  1.76it/s]\u001b[32m [repeated 5x across cluster]\u001b[0m\n",
            "Victim Training:: 100%|██████████| 9/9 [00:03<00:00,  2.31it/s]\n",
            "Victim Training::   0%|          | 0/8 [00:00<?, ?it/s]\u001b[32m [repeated 6x across cluster]\u001b[0m\n",
            "Victim Training::  78%|███████▊  | 7/9 [00:03<00:00,  2.05it/s]\u001b[32m [repeated 69x across cluster]\u001b[0m\n",
            "Victim Training:: 100%|██████████| 8/8 [00:02<00:00,  2.68it/s]\n",
            "Victim Training:: 100%|██████████| 8/8 [00:03<00:00,  2.63it/s]\u001b[32m [repeated 8x across cluster]\u001b[0m\n",
            "Victim Training:: 100%|██████████| 8/8 [00:03<00:00,  2.27it/s]\n"
          ]
        },
        {
          "output_type": "stream",
          "name": "stdout",
          "text": [
            "\u001b[2m\u001b[36m(DefaultActor pid=13377)\u001b[0m [Client 10] evaluate, config: {}\u001b[32m [repeated 10x across cluster]\u001b[0m\n",
            "\u001b[2m\u001b[36m(DefaultActor pid=13306)\u001b[0m [Client 18] get_parameters\n",
            "\u001b[2m\u001b[36m(DefaultActor pid=13377)\u001b[0m local acc: 0.0\u001b[32m [repeated 10x across cluster]\u001b[0m\n",
            "\u001b[2m\u001b[36m(DefaultActor pid=13331)\u001b[0m [Client 6] fit, config: {'epochs': 10, 'lr': 0.1, 'attacker_epochs': 20, 'attacker_lr': 0.05}\u001b[32m [repeated 5x across cluster]\u001b[0m\n"
          ]
        },
        {
          "output_type": "stream",
          "name": "stderr",
          "text": [
            "\u001b[2m\u001b[36m(DefaultActor pid=13426)\u001b[0m \rVictim Training:: 100%|██████████| 8/8 [00:03<00:00,  2.59it/s]\n"
          ]
        },
        {
          "output_type": "stream",
          "name": "stdout",
          "text": [
            "\u001b[2m\u001b[36m(DefaultActor pid=13426)\u001b[0m [Client 15] get_parameters\n"
          ]
        },
        {
          "output_type": "stream",
          "name": "stderr",
          "text": [
            "\u001b[2m\u001b[36m(DefaultActor pid=13331)\u001b[0m \rVictim Training::   0%|          | 0/8 [00:00<?, ?it/s]\u001b[32m [repeated 12x across cluster]\u001b[0m\n",
            "Victim Training::  12%|█▎        | 1/8 [00:00<00:01,  5.78it/s]\u001b[32m [repeated 51x across cluster]\u001b[0m\n",
            "Victim Training:: 100%|██████████| 8/8 [00:03<00:00,  2.02it/s]\u001b[32m [repeated 6x across cluster]\u001b[0m\n"
          ]
        },
        {
          "output_type": "stream",
          "name": "stdout",
          "text": [
            "\u001b[2m\u001b[36m(DefaultActor pid=13331)\u001b[0m [Client 29] fit, config: {'epochs': 10, 'lr': 0.1, 'attacker_epochs': 20, 'attacker_lr': 0.05}\u001b[32m [repeated 4x across cluster]\u001b[0m\n",
            "\u001b[2m\u001b[36m(DefaultActor pid=13401)\u001b[0m [Client 7] get_parameters\u001b[32m [repeated 3x across cluster]\u001b[0m\n"
          ]
        },
        {
          "output_type": "stream",
          "name": "stderr",
          "text": [
            "\u001b[2m\u001b[36m(DefaultActor pid=13331)\u001b[0m \rVictim Training::   0%|          | 0/8 [00:00<?, ?it/s]\u001b[32m [repeated 4x across cluster]\u001b[0m\n",
            "Victim Training::  38%|███▊      | 3/8 [00:01<00:02,  1.73it/s]\u001b[32m [repeated 47x across cluster]\u001b[0m\n",
            "Victim Training:: 100%|██████████| 9/9 [00:05<00:00,  1.58it/s]\u001b[32m [repeated 6x across cluster]\u001b[0m\n",
            "Victim Training:: 100%|██████████| 8/8 [00:02<00:00,  3.60it/s]\n",
            "Victim Training::   0%|          | 0/8 [00:00<?, ?it/s]\u001b[32m [repeated 8x across cluster]\u001b[0m\n",
            "Victim Training::  33%|███▎      | 3/9 [00:01<00:02,  2.53it/s]\u001b[32m [repeated 63x across cluster]\u001b[0m\n",
            "Victim Training:: 100%|██████████| 8/8 [00:01<00:00,  5.20it/s]\n",
            "Victim Training:: 100%|██████████| 8/8 [00:01<00:00,  4.47it/s]\n",
            "Victim Training:: 100%|██████████| 8/8 [00:02<00:00,  2.75it/s]\u001b[32m [repeated 8x across cluster]\u001b[0m\n",
            "Victim Training::   0%|          | 0/9 [00:00<?, ?it/s]\u001b[32m [repeated 10x across cluster]\u001b[0m\n",
            "Victim Training::  62%|██████▎   | 5/8 [00:01<00:00,  3.24it/s]\u001b[32m [repeated 71x across cluster]\u001b[0m\n",
            "Victim Training:: 100%|██████████| 8/8 [00:02<00:00,  2.82it/s]\u001b[32m [repeated 10x across cluster]\u001b[0m\n",
            "Victim Training::   0%|          | 0/8 [00:00<?, ?it/s]\u001b[32m [repeated 6x across cluster]\u001b[0m\n",
            "Victim Training::  75%|███████▌  | 6/8 [00:03<00:00,  2.10it/s]\u001b[32m [repeated 45x across cluster]\u001b[0m\n",
            "Victim Training:: 100%|██████████| 8/8 [00:04<00:00,  1.86it/s]\u001b[32m [repeated 5x across cluster]\u001b[0m\n",
            "Victim Training::   0%|          | 0/8 [00:00<?, ?it/s]\u001b[32m [repeated 9x across cluster]\u001b[0m\n",
            "Victim Training::  12%|█▎        | 1/8 [00:00<00:03,  2.32it/s]\u001b[32m [repeated 58x across cluster]\u001b[0m\n",
            "Victim Training:: 100%|██████████| 8/8 [00:01<00:00,  5.22it/s]\n",
            "Victim Training:: 100%|██████████| 9/9 [00:03<00:00,  2.67it/s]\u001b[32m [repeated 8x across cluster]\u001b[0m\n"
          ]
        },
        {
          "output_type": "stream",
          "name": "stdout",
          "text": [
            "\u001b[2m\u001b[36m(DefaultActor pid=13401)\u001b[0m [Client 3] fit, config: {'epochs': 10, 'lr': 0.1, 'attacker_epochs': 20, 'attacker_lr': 0.05}\n",
            "\u001b[2m\u001b[36m(DefaultActor pid=13306)\u001b[0m [Client 12] get_parameters\u001b[32m [repeated 2x across cluster]\u001b[0m\n"
          ]
        },
        {
          "output_type": "stream",
          "name": "stderr",
          "text": [
            "\u001b[2m\u001b[36m(DefaultActor pid=13331)\u001b[0m \rVictim Training::   0%|          | 0/8 [00:00<?, ?it/s]\u001b[32m [repeated 7x across cluster]\u001b[0m\n",
            "Victim Training::  50%|█████     | 4/8 [00:00<00:00,  5.58it/s]\u001b[32m [repeated 67x across cluster]\u001b[0m\n",
            "Victim Training:: 100%|██████████| 8/8 [00:01<00:00,  6.47it/s]\n",
            "Victim Training:: 100%|██████████| 9/9 [00:00<00:00, 11.79it/s]\u001b[32m [repeated 10x across cluster]\u001b[0m\n",
            "DEBUG flwr 2023-12-28 07:38:35,664 | server.py:236 | fit_round 17 received 11 results and 0 failures\n",
            "DEBUG:flwr:fit_round 17 received 11 results and 0 failures\n",
            "Victim Training:: 100%|██████████| 9/9 [00:00<00:00, 11.28it/s]\n"
          ]
        },
        {
          "output_type": "stream",
          "name": "stdout",
          "text": [
            "Saving round 17 aggregated_parameters...\n",
            "GLOBAL EVALUATE\n"
          ]
        },
        {
          "output_type": "stream",
          "name": "stderr",
          "text": [
            "100%|██████████| 10000/10000 [00:16<00:00, 604.43it/s]\n",
            "INFO flwr 2023-12-28 07:38:52,353 | server.py:125 | fit progress: (17, 23025.929134607315, {'accuracy': 0.1032}, 1545.4478642889999)\n",
            "INFO:flwr:fit progress: (17, 23025.929134607315, {'accuracy': 0.1032}, 1545.4478642889999)\n",
            "DEBUG flwr 2023-12-28 07:38:52,355 | server.py:173 | evaluate_round 17: strategy sampled 11 clients (out of 30)\n",
            "DEBUG:flwr:evaluate_round 17: strategy sampled 11 clients (out of 30)\n",
            "  0%|          | 0/2 [00:00<?, ?it/s]\n",
            "Victim Training::   0%|          | 0/9 [00:00<?, ?it/s]\u001b[32m [repeated 2x across cluster]\u001b[0m\n",
            "Victim Training::  89%|████████▉ | 8/9 [00:00<00:00, 10.80it/s]\u001b[32m [repeated 14x across cluster]\u001b[0m\n"
          ]
        },
        {
          "output_type": "stream",
          "name": "stdout",
          "text": [
            "\u001b[2m\u001b[36m(DefaultActor pid=13401)\u001b[0m [Client 20] evaluate, config: {}\n",
            "\u001b[2m\u001b[36m(DefaultActor pid=13401)\u001b[0m [Client 3] get_parameters\u001b[32m [repeated 4x across cluster]\u001b[0m\n"
          ]
        },
        {
          "output_type": "stream",
          "name": "stderr",
          "text": [
            " 50%|█████     | 1/2 [00:00<00:00,  2.31it/s]\n",
            "100%|██████████| 2/2 [00:00<00:00,  3.16it/s]\n"
          ]
        },
        {
          "output_type": "stream",
          "name": "stdout",
          "text": [
            "\u001b[2m\u001b[36m(DefaultActor pid=13401)\u001b[0m local acc: 0.0\n"
          ]
        },
        {
          "output_type": "stream",
          "name": "stderr",
          "text": [
            "DEBUG flwr 2023-12-28 07:38:56,680 | server.py:187 | evaluate_round 17 received 11 results and 0 failures\n",
            "DEBUG:flwr:evaluate_round 17 received 11 results and 0 failures\n",
            "DEBUG flwr 2023-12-28 07:38:56,686 | server.py:222 | fit_round 18: strategy sampled 11 clients (out of 30)\n",
            "DEBUG:flwr:fit_round 18: strategy sampled 11 clients (out of 30)\n"
          ]
        },
        {
          "output_type": "stream",
          "name": "stdout",
          "text": [
            "\u001b[2m\u001b[36m(DefaultActor pid=13377)\u001b[0m [Client 24] fit, config: {'epochs': 10, 'lr': 0.1, 'attacker_epochs': 20, 'attacker_lr': 0.05}\n"
          ]
        },
        {
          "output_type": "stream",
          "name": "stderr",
          "text": [
            "\u001b[2m\u001b[36m(DefaultActor pid=13377)\u001b[0m \r  0%|          | 0/2 [00:00<?, ?it/s]\u001b[32m [repeated 10x across cluster]\u001b[0m\n",
            "\u001b[2m\u001b[36m(DefaultActor pid=13306)\u001b[0m \rVictim Training::   0%|          | 0/9 [00:00<?, ?it/s]\u001b[32m [repeated 6x across cluster]\u001b[0m\n",
            "Victim Training::  25%|██▌       | 2/8 [00:00<00:02,  2.37it/s]\u001b[32m [repeated 11x across cluster]\u001b[0m\n",
            "100%|██████████| 2/2 [00:00<00:00,  9.01it/s]\u001b[32m [repeated 10x across cluster]\u001b[0m\n",
            "100%|██████████| 2/2 [00:00<00:00,  5.49it/s]\u001b[32m [repeated 9x across cluster]\u001b[0m\n",
            "Victim Training:: 100%|██████████| 8/8 [00:03<00:00,  2.56it/s]\n",
            "Victim Training:: 100%|██████████| 8/8 [00:03<00:00,  2.26it/s]\n",
            "Victim Training::   0%|          | 0/9 [00:00<?, ?it/s]\u001b[32m [repeated 6x across cluster]\u001b[0m\n",
            "Victim Training::  75%|███████▌  | 6/8 [00:02<00:00,  2.57it/s]\u001b[32m [repeated 68x across cluster]\u001b[0m\n",
            "Victim Training:: 100%|██████████| 8/8 [00:02<00:00,  3.14it/s]\n",
            "Victim Training:: 100%|██████████| 9/9 [00:03<00:00,  2.48it/s]\n",
            "Victim Training:: 100%|██████████| 8/8 [00:03<00:00,  2.54it/s]\u001b[32m [repeated 8x across cluster]\u001b[0m\n",
            "Victim Training::   0%|          | 0/8 [00:00<?, ?it/s]\u001b[32m [repeated 10x across cluster]\u001b[0m\n",
            "Victim Training::  12%|█▎        | 1/8 [00:00<00:03,  1.78it/s]\u001b[32m [repeated 50x across cluster]\u001b[0m\n",
            "Victim Training:: 100%|██████████| 8/8 [00:03<00:00,  2.29it/s]\n",
            "Victim Training:: 100%|██████████| 9/9 [00:04<00:00,  2.04it/s]\u001b[32m [repeated 5x across cluster]\u001b[0m\n",
            "Victim Training:: 100%|██████████| 8/8 [00:04<00:00,  1.82it/s]\n",
            "Victim Training::   0%|          | 0/8 [00:00<?, ?it/s]\u001b[32m [repeated 7x across cluster]\u001b[0m\n",
            "Victim Training::  38%|███▊      | 3/8 [00:01<00:02,  2.36it/s]\u001b[32m [repeated 54x across cluster]\u001b[0m\n",
            "Victim Training:: 100%|██████████| 8/8 [00:03<00:00,  2.49it/s]\n",
            "Victim Training:: 100%|██████████| 8/8 [00:03<00:00,  2.54it/s]\u001b[32m [repeated 6x across cluster]\u001b[0m\n",
            "Victim Training:: 100%|██████████| 8/8 [00:03<00:00,  2.35it/s]\n",
            "Victim Training::   0%|          | 0/8 [00:00<?, ?it/s]\u001b[32m [repeated 9x across cluster]\u001b[0m\n",
            "Victim Training::  75%|███████▌  | 6/8 [00:02<00:00,  2.34it/s]\u001b[32m [repeated 65x across cluster]\u001b[0m\n",
            "Victim Training:: 100%|██████████| 8/8 [00:03<00:00,  2.23it/s]\u001b[32m [repeated 8x across cluster]\u001b[0m\n",
            "Victim Training:: 100%|██████████| 8/8 [00:02<00:00,  2.93it/s]\n",
            "Victim Training:: 100%|██████████| 9/9 [00:03<00:00,  2.73it/s]\n",
            "Victim Training::   0%|          | 0/8 [00:00<?, ?it/s]\u001b[32m [repeated 8x across cluster]\u001b[0m\n",
            "Victim Training::  50%|█████     | 4/8 [00:02<00:02,  1.68it/s]\u001b[32m [repeated 56x across cluster]\u001b[0m\n",
            "Victim Training:: 100%|██████████| 8/8 [00:04<00:00,  1.85it/s]\n",
            "Victim Training:: 100%|██████████| 8/8 [00:04<00:00,  1.72it/s]\u001b[32m [repeated 4x across cluster]\u001b[0m\n",
            "Victim Training::   0%|          | 0/8 [00:00<?, ?it/s]\u001b[32m [repeated 7x across cluster]\u001b[0m\n",
            "Victim Training::  50%|█████     | 4/8 [00:02<00:02,  1.64it/s]\u001b[32m [repeated 43x across cluster]\u001b[0m\n",
            "Victim Training:: 100%|██████████| 8/8 [00:04<00:00,  1.93it/s]\n",
            "Victim Training:: 100%|██████████| 9/9 [00:04<00:00,  2.01it/s]\u001b[32m [repeated 7x across cluster]\u001b[0m\n",
            "Victim Training:: 100%|██████████| 8/8 [00:03<00:00,  2.32it/s]\n"
          ]
        },
        {
          "output_type": "stream",
          "name": "stdout",
          "text": [
            "\u001b[2m\u001b[36m(DefaultActor pid=13377)\u001b[0m [Client 29] evaluate, config: {}\u001b[32m [repeated 10x across cluster]\u001b[0m\n",
            "\u001b[2m\u001b[36m(DefaultActor pid=13426)\u001b[0m [Client 16] get_parameters\n",
            "\u001b[2m\u001b[36m(DefaultActor pid=13426)\u001b[0m local acc: 0.0\u001b[32m [repeated 10x across cluster]\u001b[0m\n",
            "\u001b[2m\u001b[36m(DefaultActor pid=13306)\u001b[0m [Client 21] fit, config: {'epochs': 10, 'lr': 0.1, 'attacker_epochs': 20, 'attacker_lr': 0.05}\u001b[32m [repeated 5x across cluster]\u001b[0m\n",
            "\u001b[2m\u001b[36m(DefaultActor pid=13331)\u001b[0m [Client 20] get_parameters\n"
          ]
        },
        {
          "output_type": "stream",
          "name": "stderr",
          "text": [
            "\u001b[2m\u001b[36m(DefaultActor pid=13306)\u001b[0m \rVictim Training::   0%|          | 0/9 [00:00<?, ?it/s]\u001b[32m [repeated 8x across cluster]\u001b[0m\n",
            "Victim Training::  25%|██▌       | 2/8 [00:00<00:02,  2.42it/s]\u001b[32m [repeated 64x across cluster]\u001b[0m\n",
            "Victim Training:: 100%|██████████| 9/9 [00:03<00:00,  2.67it/s]\n",
            "Victim Training:: 100%|██████████| 8/8 [00:03<00:00,  2.05it/s]\u001b[32m [repeated 6x across cluster]\u001b[0m\n",
            "Victim Training:: 100%|██████████| 9/9 [00:03<00:00,  2.85it/s]\n",
            "Victim Training::   0%|          | 0/8 [00:00<?, ?it/s]\u001b[32m [repeated 6x across cluster]\u001b[0m\n",
            "Victim Training::  50%|█████     | 4/8 [00:01<00:01,  2.51it/s]\u001b[32m [repeated 54x across cluster]\u001b[0m\n",
            "Victim Training:: 100%|██████████| 8/8 [00:03<00:00,  2.31it/s]\u001b[32m [repeated 8x across cluster]\u001b[0m\n",
            "Victim Training::   0%|          | 0/8 [00:00<?, ?it/s]\u001b[32m [repeated 5x across cluster]\u001b[0m\n",
            "Victim Training::  62%|██████▎   | 5/8 [00:03<00:01,  1.59it/s]\u001b[32m [repeated 42x across cluster]\u001b[0m\n",
            "Victim Training:: 100%|██████████| 8/8 [00:04<00:00,  1.84it/s]\u001b[32m [repeated 5x across cluster]\u001b[0m\n",
            "Victim Training:: 100%|██████████| 8/8 [00:02<00:00,  3.35it/s]\n",
            "Victim Training::   0%|          | 0/8 [00:00<?, ?it/s]\u001b[32m [repeated 11x across cluster]\u001b[0m\n",
            "Victim Training::  33%|███▎      | 3/9 [00:00<00:01,  3.27it/s]\u001b[32m [repeated 56x across cluster]\u001b[0m\n",
            "Victim Training:: 100%|██████████| 8/8 [00:02<00:00,  3.33it/s]\u001b[32m [repeated 5x across cluster]\u001b[0m\n",
            "Victim Training:: 100%|██████████| 9/9 [00:02<00:00,  3.01it/s]\u001b[32m [repeated 2x across cluster]\u001b[0m\n",
            "Victim Training::   0%|          | 0/8 [00:00<?, ?it/s]\u001b[32m [repeated 8x across cluster]\u001b[0m\n",
            "Victim Training::  12%|█▎        | 1/8 [00:00<00:02,  2.91it/s]\u001b[32m [repeated 63x across cluster]\u001b[0m\n",
            "Victim Training:: 100%|██████████| 9/9 [00:03<00:00,  2.82it/s]\n",
            "Victim Training:: 100%|██████████| 8/8 [00:02<00:00,  2.92it/s]\u001b[32m [repeated 7x across cluster]\u001b[0m\n",
            "Victim Training::   0%|          | 0/9 [00:00<?, ?it/s]\u001b[32m [repeated 7x across cluster]\u001b[0m\n",
            "Victim Training::  25%|██▌       | 2/8 [00:01<00:03,  1.76it/s]\u001b[32m [repeated 45x across cluster]\u001b[0m\n",
            "Victim Training:: 100%|██████████| 8/8 [00:03<00:00,  2.02it/s]\u001b[32m [repeated 6x across cluster]\u001b[0m\n",
            "Victim Training::   0%|          | 0/8 [00:00<?, ?it/s]\u001b[32m [repeated 6x across cluster]\u001b[0m\n",
            "Victim Training::  62%|██████▎   | 5/8 [00:01<00:00,  4.64it/s]\u001b[32m [repeated 52x across cluster]\u001b[0m\n",
            "Victim Training:: 100%|██████████| 9/9 [00:03<00:00,  2.92it/s]\n",
            "Victim Training:: 100%|██████████| 8/8 [00:03<00:00,  2.61it/s]\u001b[32m [repeated 8x across cluster]\u001b[0m\n"
          ]
        },
        {
          "output_type": "stream",
          "name": "stdout",
          "text": [
            "\u001b[2m\u001b[36m(DefaultActor pid=13401)\u001b[0m [Client 18] fit, config: {'epochs': 10, 'lr': 0.1, 'attacker_epochs': 20, 'attacker_lr': 0.05}\u001b[32m [repeated 5x across cluster]\u001b[0m\n",
            "\u001b[2m\u001b[36m(DefaultActor pid=13331)\u001b[0m [Client 14] get_parameters\u001b[32m [repeated 5x across cluster]\u001b[0m\n"
          ]
        },
        {
          "output_type": "stream",
          "name": "stderr",
          "text": [
            "\u001b[2m\u001b[36m(DefaultActor pid=13354)\u001b[0m \rVictim Training:: 100%|██████████| 9/9 [00:02<00:00,  3.56it/s]\n",
            "DEBUG flwr 2023-12-28 07:40:09,459 | server.py:236 | fit_round 18 received 11 results and 0 failures\n",
            "DEBUG:flwr:fit_round 18 received 11 results and 0 failures\n",
            "Victim Training:: 100%|██████████| 9/9 [00:00<00:00, 10.72it/s]\n",
            "Victim Training::   0%|          | 0/9 [00:00<?, ?it/s]\u001b[32m [repeated 6x across cluster]\u001b[0m\n",
            "Victim Training::  89%|████████▉ | 8/9 [00:00<00:00, 10.59it/s]\u001b[32m [repeated 58x across cluster]\u001b[0m\n"
          ]
        },
        {
          "output_type": "stream",
          "name": "stdout",
          "text": [
            "Saving round 18 aggregated_parameters...\n",
            "GLOBAL EVALUATE\n"
          ]
        },
        {
          "output_type": "stream",
          "name": "stderr",
          "text": [
            "100%|██████████| 10000/10000 [00:16<00:00, 591.23it/s]\n",
            "INFO flwr 2023-12-28 07:40:26,486 | server.py:125 | fit progress: (18, 23025.95244860649, {'accuracy': 0.0924}, 1639.5808285459998)\n",
            "INFO:flwr:fit progress: (18, 23025.95244860649, {'accuracy': 0.0924}, 1639.5808285459998)\n",
            "DEBUG flwr 2023-12-28 07:40:26,490 | server.py:173 | evaluate_round 18: strategy sampled 11 clients (out of 30)\n",
            "DEBUG:flwr:evaluate_round 18: strategy sampled 11 clients (out of 30)\n",
            "  0%|          | 0/2 [00:00<?, ?it/s]\n",
            "Victim Training:: 100%|██████████| 8/8 [00:01<00:00,  4.91it/s]\u001b[32m [repeated 5x across cluster]\u001b[0m\n"
          ]
        },
        {
          "output_type": "stream",
          "name": "stdout",
          "text": [
            "\u001b[2m\u001b[36m(DefaultActor pid=13354)\u001b[0m [Client 6] evaluate, config: {}\n",
            "\u001b[2m\u001b[36m(DefaultActor pid=13354)\u001b[0m [Client 22] get_parameters\u001b[32m [repeated 4x across cluster]\u001b[0m\n"
          ]
        },
        {
          "output_type": "stream",
          "name": "stderr",
          "text": [
            " 50%|█████     | 1/2 [00:00<00:00,  1.81it/s]\n",
            "100%|██████████| 2/2 [00:00<00:00,  2.49it/s]\n"
          ]
        },
        {
          "output_type": "stream",
          "name": "stdout",
          "text": [
            "\u001b[2m\u001b[36m(DefaultActor pid=13354)\u001b[0m local acc: 0.13999999999999999\n"
          ]
        },
        {
          "output_type": "stream",
          "name": "stderr",
          "text": [
            "DEBUG flwr 2023-12-28 07:40:30,598 | server.py:187 | evaluate_round 18 received 11 results and 0 failures\n",
            "DEBUG:flwr:evaluate_round 18 received 11 results and 0 failures\n",
            "DEBUG flwr 2023-12-28 07:40:30,602 | server.py:222 | fit_round 19: strategy sampled 11 clients (out of 30)\n",
            "DEBUG:flwr:fit_round 19: strategy sampled 11 clients (out of 30)\n",
            "Victim Training::   0%|          | 0/8 [00:00<?, ?it/s]\n"
          ]
        },
        {
          "output_type": "stream",
          "name": "stdout",
          "text": [
            "\u001b[2m\u001b[36m(DefaultActor pid=13354)\u001b[0m [Client 16] fit, config: {'epochs': 10, 'lr': 0.1, 'attacker_epochs': 20, 'attacker_lr': 0.05}\n",
            "\u001b[2m\u001b[36m(DefaultActor pid=13354)\u001b[0m [Client 24] evaluate, config: {}\u001b[32m [repeated 10x across cluster]\u001b[0m\n"
          ]
        },
        {
          "output_type": "stream",
          "name": "stderr",
          "text": [
            "\u001b[2m\u001b[36m(DefaultActor pid=13354)\u001b[0m \r  0%|          | 0/2 [00:00<?, ?it/s]\u001b[32m [repeated 10x across cluster]\u001b[0m\n",
            "Victim Training::  12%|█▎        | 1/8 [00:00<00:06,  1.04it/s]\n",
            " 50%|█████     | 1/2 [00:00<00:00,  2.98it/s]\u001b[32m [repeated 10x across cluster]\u001b[0m\n",
            "100%|██████████| 2/2 [00:00<00:00,  4.72it/s]\u001b[32m [repeated 10x across cluster]\u001b[0m\n",
            "Victim Training:: 100%|██████████| 9/9 [00:03<00:00,  2.88it/s]\n",
            "Victim Training:: 100%|██████████| 8/8 [00:04<00:00,  1.87it/s]\n",
            "Victim Training:: 100%|██████████| 8/8 [00:03<00:00,  2.01it/s]\n",
            "Victim Training::   0%|          | 0/8 [00:00<?, ?it/s]\u001b[32m [repeated 8x across cluster]\u001b[0m\n",
            "Victim Training::  25%|██▌       | 2/8 [00:00<00:01,  3.28it/s]\u001b[32m [repeated 53x across cluster]\u001b[0m\n",
            "Victim Training:: 100%|██████████| 8/8 [00:02<00:00,  2.75it/s]\n",
            "Victim Training:: 100%|██████████| 9/9 [00:03<00:00,  2.70it/s]\n",
            "Victim Training:: 100%|██████████| 9/9 [00:03<00:00,  2.56it/s]\u001b[32m [repeated 7x across cluster]\u001b[0m\n",
            "Victim Training:: 100%|██████████| 8/8 [00:02<00:00,  2.78it/s]\n",
            "Victim Training::   0%|          | 0/8 [00:00<?, ?it/s]\u001b[32m [repeated 10x across cluster]\u001b[0m\n",
            "Victim Training:: 100%|██████████| 9/9 [00:02<00:00,  3.14it/s]\n",
            "Victim Training::  75%|███████▌  | 6/8 [00:02<00:00,  2.84it/s]\u001b[32m [repeated 65x across cluster]\u001b[0m\n",
            "Victim Training:: 100%|██████████| 9/9 [00:03<00:00,  2.72it/s]\u001b[32m [repeated 4x across cluster]\u001b[0m\n",
            "Victim Training::   0%|          | 0/9 [00:00<?, ?it/s]\u001b[32m [repeated 7x across cluster]\u001b[0m\n",
            "Victim Training:: 100%|██████████| 9/9 [00:04<00:00,  2.16it/s]\u001b[32m [repeated 2x across cluster]\u001b[0m\n",
            "Victim Training::  22%|██▏       | 2/9 [00:01<00:04,  1.52it/s]\u001b[32m [repeated 49x across cluster]\u001b[0m\n",
            "Victim Training:: 100%|██████████| 9/9 [00:05<00:00,  1.79it/s]\n",
            "Victim Training:: 100%|██████████| 9/9 [00:05<00:00,  1.55it/s]\u001b[32m [repeated 4x across cluster]\u001b[0m\n",
            "Victim Training::   0%|          | 0/9 [00:00<?, ?it/s]\u001b[32m [repeated 6x across cluster]\u001b[0m\n",
            "Victim Training:: 100%|██████████| 8/8 [00:04<00:00,  1.68it/s]\n",
            "Victim Training::  67%|██████▋   | 6/9 [00:02<00:01,  2.89it/s]\u001b[32m [repeated 48x across cluster]\u001b[0m\n",
            "Victim Training:: 100%|██████████| 8/8 [00:03<00:00,  2.42it/s]\n",
            "Victim Training:: 100%|██████████| 8/8 [00:03<00:00,  2.28it/s]\u001b[32m [repeated 6x across cluster]\u001b[0m\n",
            "Victim Training::   0%|          | 0/8 [00:00<?, ?it/s]\u001b[32m [repeated 10x across cluster]\u001b[0m\n",
            "Victim Training::  78%|███████▊  | 7/9 [00:02<00:00,  2.37it/s]\u001b[32m [repeated 66x across cluster]\u001b[0m\n",
            "Victim Training:: 100%|██████████| 9/9 [00:03<00:00,  2.62it/s]\u001b[32m [repeated 3x across cluster]\u001b[0m\n",
            "Victim Training:: 100%|██████████| 9/9 [00:03<00:00,  2.40it/s]\u001b[32m [repeated 6x across cluster]\u001b[0m\n",
            "Victim Training::   0%|          | 0/9 [00:00<?, ?it/s]\u001b[32m [repeated 8x across cluster]\u001b[0m\n",
            "Victim Training::  75%|███████▌  | 6/8 [00:02<00:01,  1.75it/s]\u001b[32m [repeated 62x across cluster]\u001b[0m\n",
            "Victim Training:: 100%|██████████| 8/8 [00:04<00:00,  1.91it/s]\u001b[32m [repeated 2x across cluster]\u001b[0m\n",
            "Victim Training:: 100%|██████████| 9/9 [00:05<00:00,  1.60it/s]\u001b[32m [repeated 5x across cluster]\u001b[0m\n",
            "Victim Training::   0%|          | 0/9 [00:00<?, ?it/s]\u001b[32m [repeated 6x across cluster]\u001b[0m\n",
            "Victim Training::  11%|█         | 1/9 [00:00<00:05,  1.34it/s]\u001b[32m [repeated 45x across cluster]\u001b[0m\n",
            "Victim Training:: 100%|██████████| 8/8 [00:04<00:00,  1.78it/s]\n"
          ]
        },
        {
          "output_type": "stream",
          "name": "stdout",
          "text": [
            "\u001b[2m\u001b[36m(DefaultActor pid=13354)\u001b[0m [Client 16] get_parameters\n",
            "\u001b[2m\u001b[36m(DefaultActor pid=13426)\u001b[0m local acc: 0.0\u001b[32m [repeated 10x across cluster]\u001b[0m\n",
            "\u001b[2m\u001b[36m(DefaultActor pid=13331)\u001b[0m [Client 4] fit, config: {'epochs': 10, 'lr': 0.1, 'attacker_epochs': 20, 'attacker_lr': 0.05}\u001b[32m [repeated 5x across cluster]\u001b[0m\n"
          ]
        },
        {
          "output_type": "stream",
          "name": "stderr",
          "text": [
            "Victim Training:: 100%|██████████| 8/8 [00:04<00:00,  1.96it/s]\u001b[32m [repeated 2x across cluster]\u001b[0m\n",
            "Victim Training:: 100%|██████████| 9/9 [00:04<00:00,  2.05it/s]\u001b[32m [repeated 5x across cluster]\u001b[0m\n",
            "Victim Training::   0%|          | 0/8 [00:00<?, ?it/s]\u001b[32m [repeated 7x across cluster]\u001b[0m\n",
            "Victim Training::  38%|███▊      | 3/8 [00:01<00:01,  2.84it/s]\u001b[32m [repeated 53x across cluster]\u001b[0m\n"
          ]
        },
        {
          "output_type": "stream",
          "name": "stdout",
          "text": [
            "\u001b[2m\u001b[36m(DefaultActor pid=13331)\u001b[0m [Client 4] get_parameters\u001b[32m [repeated 5x across cluster]\u001b[0m\n",
            "\u001b[2m\u001b[36m(DefaultActor pid=13401)\u001b[0m [Client 27] fit, config: {'epochs': 10, 'lr': 0.1, 'attacker_epochs': 20, 'attacker_lr': 0.05}\u001b[32m [repeated 5x across cluster]\u001b[0m\n"
          ]
        },
        {
          "output_type": "stream",
          "name": "stderr",
          "text": [
            "Victim Training:: 100%|██████████| 9/9 [00:03<00:00,  2.56it/s]\u001b[32m [repeated 9x across cluster]\u001b[0m\n",
            "Victim Training::   0%|          | 0/9 [00:00<?, ?it/s]\u001b[32m [repeated 8x across cluster]\u001b[0m\n",
            "Victim Training::  75%|███████▌  | 6/8 [00:02<00:00,  2.11it/s]\u001b[32m [repeated 61x across cluster]\u001b[0m\n",
            "Victim Training:: 100%|██████████| 9/9 [00:04<00:00,  1.89it/s]\u001b[32m [repeated 5x across cluster]\u001b[0m\n",
            "Victim Training::   0%|          | 0/9 [00:00<?, ?it/s]\u001b[32m [repeated 5x across cluster]\u001b[0m\n",
            "Victim Training::  62%|██████▎   | 5/8 [00:02<00:01,  1.77it/s]\u001b[32m [repeated 39x across cluster]\u001b[0m\n",
            "Victim Training:: 100%|██████████| 8/8 [00:03<00:00,  2.56it/s]\u001b[32m [repeated 8x across cluster]\u001b[0m\n",
            "Victim Training::   0%|          | 0/8 [00:00<?, ?it/s]\u001b[32m [repeated 8x across cluster]\u001b[0m\n",
            "Victim Training::  62%|██████▎   | 5/8 [00:01<00:01,  2.38it/s]\u001b[32m [repeated 56x across cluster]\u001b[0m\n",
            "Victim Training:: 100%|██████████| 8/8 [00:04<00:00,  1.91it/s]\u001b[32m [repeated 6x across cluster]\u001b[0m\n",
            "Victim Training::   0%|          | 0/8 [00:00<?, ?it/s]\u001b[32m [repeated 6x across cluster]\u001b[0m\n",
            "Victim Training::  75%|███████▌  | 6/8 [00:03<00:01,  1.98it/s]\u001b[32m [repeated 40x across cluster]\u001b[0m\n",
            "Victim Training:: 100%|██████████| 8/8 [00:05<00:00,  1.47it/s]\u001b[32m [repeated 5x across cluster]\u001b[0m\n",
            "Victim Training::   0%|          | 0/8 [00:00<?, ?it/s]\u001b[32m [repeated 5x across cluster]\u001b[0m\n",
            "Victim Training::  44%|████▍     | 4/9 [00:03<00:03,  1.42it/s]\u001b[32m [repeated 35x across cluster]\u001b[0m\n",
            "Victim Training:: 100%|██████████| 8/8 [00:02<00:00,  2.71it/s]\u001b[32m [repeated 6x across cluster]\u001b[0m\n",
            "Victim Training::   0%|          | 0/8 [00:00<?, ?it/s]\u001b[32m [repeated 6x across cluster]\u001b[0m\n",
            "Victim Training::  56%|█████▌    | 5/9 [00:02<00:01,  2.17it/s]\u001b[32m [repeated 47x across cluster]\u001b[0m\n"
          ]
        },
        {
          "output_type": "stream",
          "name": "stdout",
          "text": [
            "\u001b[2m\u001b[36m(DefaultActor pid=13401)\u001b[0m [Client 27] get_parameters\n"
          ]
        },
        {
          "output_type": "stream",
          "name": "stderr",
          "text": [
            "\u001b[2m\u001b[36m(DefaultActor pid=13401)\u001b[0m \rVictim Training:: 100%|██████████| 8/8 [00:02<00:00,  2.97it/s]\rVictim Training:: 100%|██████████| 8/8 [00:02<00:00,  2.91it/s]\u001b[32m [repeated 9x across cluster]\u001b[0m\n",
            "Victim Training::   0%|          | 0/8 [00:00<?, ?it/s]\u001b[32m [repeated 8x across cluster]\u001b[0m\n",
            "Victim Training::  62%|██████▎   | 5/8 [00:01<00:00,  3.26it/s]\u001b[32m [repeated 64x across cluster]\u001b[0m\n"
          ]
        },
        {
          "output_type": "stream",
          "name": "stdout",
          "text": [
            "\u001b[2m\u001b[36m(DefaultActor pid=13426)\u001b[0m [Client 2] get_parameters\n"
          ]
        },
        {
          "output_type": "stream",
          "name": "stderr",
          "text": [
            "DEBUG flwr 2023-12-28 07:41:49,103 | server.py:236 | fit_round 19 received 11 results and 0 failures\n",
            "DEBUG:flwr:fit_round 19 received 11 results and 0 failures\n"
          ]
        },
        {
          "output_type": "stream",
          "name": "stdout",
          "text": [
            "Saving round 19 aggregated_parameters...\n",
            "GLOBAL EVALUATE\n"
          ]
        },
        {
          "output_type": "stream",
          "name": "stderr",
          "text": [
            "100%|██████████| 10000/10000 [00:19<00:00, 511.86it/s]\n",
            "INFO flwr 2023-12-28 07:42:08,739 | server.py:125 | fit progress: (19, 23025.91905617714, {'accuracy': 0.1031}, 1741.834155509)\n",
            "INFO:flwr:fit progress: (19, 23025.91905617714, {'accuracy': 0.1031}, 1741.834155509)\n",
            "DEBUG flwr 2023-12-28 07:42:08,743 | server.py:173 | evaluate_round 19: strategy sampled 11 clients (out of 30)\n",
            "DEBUG:flwr:evaluate_round 19: strategy sampled 11 clients (out of 30)\n",
            "  0%|          | 0/2 [00:00<?, ?it/s]\n",
            "Victim Training:: 100%|██████████| 9/9 [00:01<00:00,  6.19it/s]\u001b[32m [repeated 5x across cluster]\u001b[0m\n",
            "Victim Training::   0%|          | 0/9 [00:00<?, ?it/s]\n",
            "Victim Training::  78%|███████▊  | 7/9 [00:01<00:00,  6.83it/s]\u001b[32m [repeated 9x across cluster]\u001b[0m\n"
          ]
        },
        {
          "output_type": "stream",
          "name": "stdout",
          "text": [
            "\u001b[2m\u001b[36m(DefaultActor pid=13354)\u001b[0m [Client 26] evaluate, config: {}\n",
            "\u001b[2m\u001b[36m(DefaultActor pid=13354)\u001b[0m [Client 5] get_parameters\u001b[32m [repeated 3x across cluster]\u001b[0m\n"
          ]
        },
        {
          "output_type": "stream",
          "name": "stderr",
          "text": [
            "\u001b[2m\u001b[36m(DefaultActor pid=13354)\u001b[0m \r 50%|█████     | 1/2 [00:00<00:00,  1.45it/s]\n",
            "\u001b[2m\u001b[36m(DefaultActor pid=13354)\u001b[0m \r100%|██████████| 2/2 [00:00<00:00,  2.84it/s]\r100%|██████████| 2/2 [00:00<00:00,  2.47it/s]\n"
          ]
        },
        {
          "output_type": "stream",
          "name": "stdout",
          "text": [
            "\u001b[2m\u001b[36m(DefaultActor pid=13354)\u001b[0m local acc: 0.0\n"
          ]
        },
        {
          "output_type": "stream",
          "name": "stderr",
          "text": [
            "DEBUG flwr 2023-12-28 07:42:13,515 | server.py:187 | evaluate_round 19 received 11 results and 0 failures\n",
            "DEBUG:flwr:evaluate_round 19 received 11 results and 0 failures\n",
            "DEBUG flwr 2023-12-28 07:42:13,519 | server.py:222 | fit_round 20: strategy sampled 11 clients (out of 30)\n",
            "DEBUG:flwr:fit_round 20: strategy sampled 11 clients (out of 30)\n"
          ]
        },
        {
          "output_type": "stream",
          "name": "stdout",
          "text": [
            "\u001b[2m\u001b[36m(DefaultActor pid=13426)\u001b[0m [Client 6] fit, config: {'epochs': 10, 'lr': 0.1, 'attacker_epochs': 20, 'attacker_lr': 0.05}\n"
          ]
        },
        {
          "output_type": "stream",
          "name": "stderr",
          "text": [
            "\u001b[2m\u001b[36m(DefaultActor pid=13426)\u001b[0m \rVictim Training::   0%|          | 0/8 [00:00<?, ?it/s]\n"
          ]
        },
        {
          "output_type": "stream",
          "name": "stdout",
          "text": [
            "\u001b[2m\u001b[36m(DefaultActor pid=13426)\u001b[0m [Client 4] evaluate, config: {}\u001b[32m [repeated 10x across cluster]\u001b[0m\n"
          ]
        },
        {
          "output_type": "stream",
          "name": "stderr",
          "text": [
            "\u001b[2m\u001b[36m(DefaultActor pid=13306)\u001b[0m \r  0%|          | 0/2 [00:00<?, ?it/s]\u001b[32m [repeated 10x across cluster]\u001b[0m\n",
            "Victim Training::  12%|█▎        | 1/8 [00:00<00:05,  1.30it/s]\u001b[32m [repeated 4x across cluster]\u001b[0m\n",
            "100%|██████████| 2/2 [00:00<00:00,  4.92it/s]\u001b[32m [repeated 10x across cluster]\u001b[0m\n",
            "100%|██████████| 2/2 [00:01<00:00,  1.30it/s]\u001b[32m [repeated 5x across cluster]\u001b[0m\n",
            "Victim Training:: 100%|██████████| 8/8 [00:02<00:00,  2.85it/s]\n",
            "Victim Training::   0%|          | 0/8 [00:00<?, ?it/s]\u001b[32m [repeated 10x across cluster]\u001b[0m\n",
            "Victim Training:: 100%|██████████| 9/9 [00:03<00:00,  2.39it/s]\n",
            "Victim Training::  50%|█████     | 4/8 [00:01<00:01,  2.48it/s]\u001b[32m [repeated 65x across cluster]\u001b[0m\n",
            "Victim Training:: 100%|██████████| 9/9 [00:03<00:00,  2.83it/s]\n",
            "Victim Training:: 100%|██████████| 8/8 [00:03<00:00,  2.18it/s]\u001b[32m [repeated 9x across cluster]\u001b[0m\n",
            "Victim Training::   0%|          | 0/8 [00:00<?, ?it/s]\u001b[32m [repeated 7x across cluster]\u001b[0m\n",
            "Victim Training::  67%|██████▋   | 6/9 [00:03<00:01,  1.73it/s]\u001b[32m [repeated 53x across cluster]\u001b[0m\n",
            "Victim Training:: 100%|██████████| 9/9 [00:04<00:00,  1.98it/s]\n",
            "Victim Training:: 100%|██████████| 8/8 [00:05<00:00,  1.58it/s]\u001b[32m [repeated 5x across cluster]\u001b[0m\n",
            "Victim Training::   0%|          | 0/8 [00:00<?, ?it/s]\u001b[32m [repeated 6x across cluster]\u001b[0m\n",
            "Victim Training::  75%|███████▌  | 6/8 [00:03<00:00,  2.39it/s]\u001b[32m [repeated 47x across cluster]\u001b[0m\n",
            "Victim Training:: 100%|██████████| 9/9 [00:05<00:00,  1.80it/s]\u001b[32m [repeated 6x across cluster]\u001b[0m\n",
            "Victim Training::   0%|          | 0/8 [00:00<?, ?it/s]\u001b[32m [repeated 10x across cluster]\u001b[0m\n",
            "Victim Training::  38%|███▊      | 3/8 [00:01<00:02,  2.01it/s]\u001b[32m [repeated 65x across cluster]\u001b[0m\n",
            "Victim Training:: 100%|██████████| 8/8 [00:02<00:00,  2.92it/s]\n",
            "Victim Training:: 100%|██████████| 8/8 [00:03<00:00,  2.32it/s]\u001b[32m [repeated 10x across cluster]\u001b[0m\n",
            "Victim Training::   0%|          | 0/8 [00:00<?, ?it/s]\u001b[32m [repeated 10x across cluster]\u001b[0m\n",
            "Victim Training::  25%|██▌       | 2/8 [00:01<00:03,  1.57it/s]\u001b[32m [repeated 62x across cluster]\u001b[0m\n",
            "Victim Training:: 100%|██████████| 8/8 [00:03<00:00,  2.21it/s]\u001b[32m [repeated 3x across cluster]\u001b[0m\n",
            "Victim Training:: 100%|██████████| 8/8 [00:04<00:00,  1.93it/s]\u001b[32m [repeated 4x across cluster]\u001b[0m\n",
            "Victim Training::   0%|          | 0/9 [00:00<?, ?it/s]\u001b[32m [repeated 6x across cluster]\u001b[0m\n",
            "Victim Training::  22%|██▏       | 2/9 [00:01<00:04,  1.53it/s]\u001b[32m [repeated 43x across cluster]\u001b[0m\n",
            "Victim Training:: 100%|██████████| 9/9 [00:03<00:00,  2.32it/s]\u001b[32m [repeated 9x across cluster]\u001b[0m\n",
            "Victim Training::   0%|          | 0/8 [00:00<?, ?it/s]\u001b[32m [repeated 8x across cluster]\u001b[0m\n",
            "Victim Training::  25%|██▌       | 2/8 [00:01<00:03,  1.98it/s]\u001b[32m [repeated 63x across cluster]\u001b[0m\n"
          ]
        },
        {
          "output_type": "stream",
          "name": "stdout",
          "text": [
            "\u001b[2m\u001b[36m(DefaultActor pid=13306)\u001b[0m [Client 1] get_parameters\n",
            "\u001b[2m\u001b[36m(DefaultActor pid=13426)\u001b[0m local acc: 0.0\u001b[32m [repeated 10x across cluster]\u001b[0m\n",
            "\u001b[2m\u001b[36m(DefaultActor pid=13354)\u001b[0m [Client 23] fit, config: {'epochs': 10, 'lr': 0.1, 'attacker_epochs': 20, 'attacker_lr': 0.05}\u001b[32m [repeated 5x across cluster]\u001b[0m\n"
          ]
        },
        {
          "output_type": "stream",
          "name": "stderr",
          "text": [
            "Victim Training:: 100%|██████████| 8/8 [00:03<00:00,  2.11it/s]\u001b[32m [repeated 7x across cluster]\u001b[0m\n",
            "Victim Training::   0%|          | 0/9 [00:00<?, ?it/s]\u001b[32m [repeated 6x across cluster]\u001b[0m\n",
            "Victim Training:: 100%|██████████| 9/9 [00:03<00:00,  2.58it/s]\n",
            "Victim Training::  88%|████████▊ | 7/8 [00:03<00:00,  1.92it/s]\u001b[32m [repeated 49x across cluster]\u001b[0m\n",
            "Victim Training:: 100%|██████████| 8/8 [00:02<00:00,  2.72it/s]\n",
            "Victim Training:: 100%|██████████| 8/8 [00:03<00:00,  2.02it/s]\u001b[32m [repeated 4x across cluster]\u001b[0m\n",
            "Victim Training::   0%|          | 0/8 [00:00<?, ?it/s]\u001b[32m [repeated 7x across cluster]\u001b[0m\n",
            "Victim Training:: 100%|██████████| 8/8 [00:03<00:00,  2.06it/s]\n",
            "Victim Training::  25%|██▌       | 2/8 [00:01<00:03,  1.56it/s]\u001b[32m [repeated 45x across cluster]\u001b[0m\n",
            "Victim Training:: 100%|██████████| 9/9 [00:04<00:00,  2.12it/s]\u001b[32m [repeated 6x across cluster]\u001b[0m\n",
            "Victim Training:: 100%|██████████| 8/8 [00:02<00:00,  2.92it/s]\n",
            "Victim Training::   0%|          | 0/8 [00:00<?, ?it/s]\u001b[32m [repeated 7x across cluster]\u001b[0m\n",
            "Victim Training::  89%|████████▉ | 8/9 [00:02<00:00,  2.71it/s]\u001b[32m [repeated 58x across cluster]\u001b[0m\n",
            "Victim Training:: 100%|██████████| 8/8 [00:02<00:00,  2.89it/s]\n",
            "Victim Training:: 100%|██████████| 8/8 [00:01<00:00,  4.26it/s]\n",
            "Victim Training:: 100%|██████████| 8/8 [00:03<00:00,  2.52it/s]\u001b[32m [repeated 6x across cluster]\u001b[0m\n",
            "Victim Training::   0%|          | 0/8 [00:00<?, ?it/s]\u001b[32m [repeated 10x across cluster]\u001b[0m\n",
            "Victim Training:: 100%|██████████| 8/8 [00:02<00:00,  2.97it/s]\n",
            "Victim Training::  38%|███▊      | 3/8 [00:01<00:01,  2.72it/s]\u001b[32m [repeated 64x across cluster]\u001b[0m\n",
            "Victim Training:: 100%|██████████| 8/8 [00:02<00:00,  2.97it/s]\u001b[32m [repeated 8x across cluster]\u001b[0m\n",
            "Victim Training:: 100%|██████████| 8/8 [00:03<00:00,  2.63it/s]\n",
            "Victim Training::   0%|          | 0/8 [00:00<?, ?it/s]\u001b[32m [repeated 8x across cluster]\u001b[0m\n",
            "Victim Training::  78%|███████▊  | 7/9 [00:03<00:01,  1.79it/s]\u001b[32m [repeated 51x across cluster]\u001b[0m\n",
            "Victim Training:: 100%|██████████| 8/8 [00:03<00:00,  2.22it/s]\n",
            "Victim Training:: 100%|██████████| 8/8 [00:04<00:00,  1.90it/s]\u001b[32m [repeated 6x across cluster]\u001b[0m\n",
            "Victim Training::   0%|          | 0/8 [00:00<?, ?it/s]\u001b[32m [repeated 5x across cluster]\u001b[0m\n",
            "Victim Training:: 100%|██████████| 8/8 [00:03<00:00,  2.52it/s]\n",
            "Victim Training::  22%|██▏       | 2/9 [00:00<00:01,  4.14it/s]\u001b[32m [repeated 53x across cluster]\u001b[0m\n",
            "Victim Training:: 100%|██████████| 8/8 [00:02<00:00,  3.14it/s]\n"
          ]
        },
        {
          "output_type": "stream",
          "name": "stdout",
          "text": [
            "\u001b[2m\u001b[36m(DefaultActor pid=13401)\u001b[0m [Client 17] get_parameters\u001b[32m [repeated 6x across cluster]\u001b[0m\n",
            "\u001b[2m\u001b[36m(DefaultActor pid=13377)\u001b[0m [Client 26] fit, config: {'epochs': 10, 'lr': 0.1, 'attacker_epochs': 20, 'attacker_lr': 0.05}\u001b[32m [repeated 5x across cluster]\u001b[0m\n"
          ]
        },
        {
          "output_type": "stream",
          "name": "stderr",
          "text": [
            "Victim Training:: 100%|██████████| 9/9 [00:02<00:00,  3.70it/s]\u001b[32m [repeated 6x across cluster]\u001b[0m\n",
            "Victim Training::   0%|          | 0/9 [00:00<?, ?it/s]\u001b[32m [repeated 9x across cluster]\u001b[0m\n",
            "Victim Training:: 100%|██████████| 8/8 [00:01<00:00,  4.85it/s]\n",
            "DEBUG flwr 2023-12-28 07:43:25,951 | server.py:236 | fit_round 20 received 11 results and 0 failures\n",
            "DEBUG:flwr:fit_round 20 received 11 results and 0 failures\n"
          ]
        },
        {
          "output_type": "stream",
          "name": "stdout",
          "text": [
            "Saving round 20 aggregated_parameters...\n",
            "GLOBAL EVALUATE\n"
          ]
        },
        {
          "output_type": "stream",
          "name": "stderr",
          "text": [
            "100%|██████████| 10000/10000 [00:16<00:00, 595.47it/s]\n",
            "INFO flwr 2023-12-28 07:43:42,848 | server.py:125 | fit progress: (20, 23025.920924663544, {'accuracy': 0.1027}, 1835.9431494760001)\n",
            "INFO:flwr:fit progress: (20, 23025.920924663544, {'accuracy': 0.1027}, 1835.9431494760001)\n",
            "DEBUG flwr 2023-12-28 07:43:42,852 | server.py:173 | evaluate_round 20: strategy sampled 11 clients (out of 30)\n",
            "DEBUG:flwr:evaluate_round 20: strategy sampled 11 clients (out of 30)\n",
            "  0%|          | 0/2 [00:00<?, ?it/s]\n",
            "Victim Training::  78%|███████▊  | 7/9 [00:00<00:00,  8.87it/s]\u001b[32m [repeated 59x across cluster]\u001b[0m\n",
            "Victim Training:: 100%|██████████| 9/9 [00:01<00:00,  8.47it/s]\u001b[32m [repeated 5x across cluster]\u001b[0m\n"
          ]
        },
        {
          "output_type": "stream",
          "name": "stdout",
          "text": [
            "\u001b[2m\u001b[36m(DefaultActor pid=13331)\u001b[0m [Client 8] evaluate, config: {}\n",
            "\u001b[2m\u001b[36m(DefaultActor pid=13331)\u001b[0m [Client 5] get_parameters\u001b[32m [repeated 4x across cluster]\u001b[0m\n"
          ]
        },
        {
          "output_type": "stream",
          "name": "stderr",
          "text": [
            " 50%|█████     | 1/2 [00:00<00:00,  3.42it/s]\n",
            "100%|██████████| 2/2 [00:00<00:00,  3.23it/s]\n"
          ]
        },
        {
          "output_type": "stream",
          "name": "stdout",
          "text": [
            "\u001b[2m\u001b[36m(DefaultActor pid=13331)\u001b[0m local acc: 3.4299999999999997\n"
          ]
        },
        {
          "output_type": "stream",
          "name": "stderr",
          "text": [
            "DEBUG flwr 2023-12-28 07:43:46,831 | server.py:187 | evaluate_round 20 received 11 results and 0 failures\n",
            "DEBUG:flwr:evaluate_round 20 received 11 results and 0 failures\n",
            "INFO flwr 2023-12-28 07:43:46,840 | server.py:153 | FL finished in 1839.9352394380003\n",
            "INFO:flwr:FL finished in 1839.9352394380003\n",
            "INFO flwr 2023-12-28 07:43:46,846 | app.py:226 | app_fit: losses_distributed [(1, 4.604644038460472), (2, 4.605530023574829), (3, 4.603670575402), (4, 4.605482643300837), (5, 4.604999693957242), (6, 4.605492786927656), (7, 4.606264959682118), (8, 4.605713519183072), (9, 4.604386026209051), (10, 4.605407303029841), (11, 4.606250351125544), (12, 4.605393041263927), (13, 4.605829932472923), (14, 4.605072541670366), (15, 4.605221553282305), (16, 4.6045731631192295), (17, 4.606210470199585), (18, 4.604740901426836), (19, 4.605977166782726), (20, 4.605828783728859)]\n",
            "INFO:flwr:app_fit: losses_distributed [(1, 4.604644038460472), (2, 4.605530023574829), (3, 4.603670575402), (4, 4.605482643300837), (5, 4.604999693957242), (6, 4.605492786927656), (7, 4.606264959682118), (8, 4.605713519183072), (9, 4.604386026209051), (10, 4.605407303029841), (11, 4.606250351125544), (12, 4.605393041263927), (13, 4.605829932472923), (14, 4.605072541670366), (15, 4.605221553282305), (16, 4.6045731631192295), (17, 4.606210470199585), (18, 4.604740901426836), (19, 4.605977166782726), (20, 4.605828783728859)]\n",
            "INFO flwr 2023-12-28 07:43:46,853 | app.py:227 | app_fit: metrics_distributed_fit {}\n",
            "INFO:flwr:app_fit: metrics_distributed_fit {}\n",
            "INFO flwr 2023-12-28 07:43:46,856 | app.py:228 | app_fit: metrics_distributed {'accuracy': [(1, 0.0062545454545454545), (2, 0.0), (3, 0.009381818181818182), (4, 0.0031272727272727272), (5, 0.0031272727272727272), (6, 0.0031272727272727272), (7, 0.0), (8, 0.0031272727272727272), (9, 0.0062545454545454545), (10, 0.0), (11, 0.0004363636363636363), (12, 0.0027727272727272726), (13, 0.002927272727272727), (14, 0.0), (15, 0.0027), (16, 0.002927272727272727), (17, 0.003118181818181818), (18, 0.0029), (19, 9.090909090909091e-06), (20, 0.003118181818181818)]}\n",
            "INFO:flwr:app_fit: metrics_distributed {'accuracy': [(1, 0.0062545454545454545), (2, 0.0), (3, 0.009381818181818182), (4, 0.0031272727272727272), (5, 0.0031272727272727272), (6, 0.0031272727272727272), (7, 0.0), (8, 0.0031272727272727272), (9, 0.0062545454545454545), (10, 0.0), (11, 0.0004363636363636363), (12, 0.0027727272727272726), (13, 0.002927272727272727), (14, 0.0), (15, 0.0027), (16, 0.002927272727272727), (17, 0.003118181818181818), (18, 0.0029), (19, 9.090909090909091e-06), (20, 0.003118181818181818)]}\n",
            "INFO flwr 2023-12-28 07:43:46,860 | app.py:229 | app_fit: losses_centralized [(0, 23025.871356725693), (1, 23025.87290740013), (2, 23025.873520612717), (3, 23025.90420651436), (4, 23025.899085760117), (5, 23025.89206814766), (6, 23025.911496162415), (7, 23025.917184114456), (8, 23025.955794095993), (9, 23025.96374154091), (10, 23026.004318237305), (11, 23026.02351284027), (12, 23025.998435020447), (13, 23025.973928689957), (14, 23025.993895292282), (15, 23025.968755483627), (16, 23025.94033241272), (17, 23025.929134607315), (18, 23025.95244860649), (19, 23025.91905617714), (20, 23025.920924663544)]\n",
            "INFO:flwr:app_fit: losses_centralized [(0, 23025.871356725693), (1, 23025.87290740013), (2, 23025.873520612717), (3, 23025.90420651436), (4, 23025.899085760117), (5, 23025.89206814766), (6, 23025.911496162415), (7, 23025.917184114456), (8, 23025.955794095993), (9, 23025.96374154091), (10, 23026.004318237305), (11, 23026.02351284027), (12, 23025.998435020447), (13, 23025.973928689957), (14, 23025.993895292282), (15, 23025.968755483627), (16, 23025.94033241272), (17, 23025.929134607315), (18, 23025.95244860649), (19, 23025.91905617714), (20, 23025.920924663544)]\n",
            "INFO flwr 2023-12-28 07:43:46,864 | app.py:230 | app_fit: metrics_centralized {'accuracy': [(0, 0.1032), (1, 0.1032), (2, 0.1032), (3, 0.1032), (4, 0.1032), (5, 0.1032), (6, 0.1032), (7, 0.1032), (8, 0.1032), (9, 0.1032), (10, 0.1032), (11, 0.0937), (12, 0.0926), (13, 0.0931), (14, 0.0892), (15, 0.0892), (16, 0.0913), (17, 0.1032), (18, 0.0924), (19, 0.1031), (20, 0.1027)]}\n",
            "INFO:flwr:app_fit: metrics_centralized {'accuracy': [(0, 0.1032), (1, 0.1032), (2, 0.1032), (3, 0.1032), (4, 0.1032), (5, 0.1032), (6, 0.1032), (7, 0.1032), (8, 0.1032), (9, 0.1032), (10, 0.1032), (11, 0.0937), (12, 0.0926), (13, 0.0931), (14, 0.0892), (15, 0.0892), (16, 0.0913), (17, 0.1032), (18, 0.0924), (19, 0.1031), (20, 0.1027)]}\n"
          ]
        }
      ],
      "source": [
        "from datasets.utils.logging import disable_progress_bar\n",
        "# With a dictionary, you tell Flower's VirtualClientEngine that each\n",
        "# client needs exclusive access to these many resources in order to run\n",
        "client_resources = {\"num_cpus\": 0.2, \"num_gpus\": 0.1}\n",
        "\n",
        "# Let's disable tqdm progress bar in the main thread (used by the server)\n",
        "disable_progress_bar()\n",
        "NUM_CLIENTS=30\n",
        "history = fl.simulation.start_simulation(\n",
        "    client_fn=client_fn_callback,  # a callback to construct a client\n",
        "    num_clients=NUM_CLIENTS,  # total number of clients in the experiment\n",
        "    config=fl.server.ServerConfig(num_rounds=20),  # let's run for 10 rounds\n",
        "    strategy=strategy,  # the strategy that will orchestrate the whole FL pipeline\n",
        "    client_resources=client_resources,\n",
        "    actor_kwargs={\n",
        "        \"on_actor_init_fn\": disable_progress_bar  # disable tqdm on each actor/process spawning virtual clients\n",
        "    },\n",
        ")"
      ]
    },
    {
      "cell_type": "code",
      "execution_count": 18,
      "metadata": {
        "id": "zjF9BiGVU6ty",
        "colab": {
          "base_uri": "https://localhost:8080/",
          "height": 561
        },
        "outputId": "b4a4157f-1978-4394-e966-3c317f3c7ad5"
      },
      "outputs": [
        {
          "output_type": "stream",
          "name": "stdout",
          "text": [
            "history.metrics_centralized = {'accuracy': [(0, 0.1032), (1, 0.1032), (2, 0.1032), (3, 0.1032), (4, 0.1032), (5, 0.1032), (6, 0.1032), (7, 0.1032), (8, 0.1032), (9, 0.1032), (10, 0.1032), (11, 0.0937), (12, 0.0926), (13, 0.0931), (14, 0.0892), (15, 0.0892), (16, 0.0913), (17, 0.1032), (18, 0.0924), (19, 0.1031), (20, 0.1027)]}\n",
            "\u001b[2m\u001b[36m(DefaultActor pid=13331)\u001b[0m local acc: 0.0\n"
          ]
        },
        {
          "output_type": "stream",
          "name": "stderr",
          "text": [
            "\u001b[2m\u001b[36m(DefaultActor pid=13331)\u001b[0m \r100%|██████████| 2/2 [00:00<00:00,  5.80it/s]\n"
          ]
        },
        {
          "output_type": "execute_result",
          "data": {
            "text/plain": [
              "Text(0.5, 1.0, 'MNIST - IID - 100 clients with 10 clients per round')"
            ]
          },
          "metadata": {},
          "execution_count": 18
        },
        {
          "output_type": "display_data",
          "data": {
            "text/plain": [
              "<Figure size 640x480 with 1 Axes>"
            ],
            "image/png": "[encoded data removed]"
          },
          "metadata": {}
        }
      ],
      "source": [
        "import matplotlib.pyplot as plt\n",
        "\n",
        "print(f\"{history.metrics_centralized = }\")\n",
        "\n",
        "global_accuracy_centralised = history.metrics_centralized[\"accuracy\"]\n",
        "round = [data[0] for data in global_accuracy_centralised]\n",
        "acc = [100 * data[1] for data in global_accuracy_centralised]\n",
        "plt.plot(round, acc)\n",
        "plt.grid()\n",
        "plt.ylabel(\"Accuracy (%)\")\n",
        "plt.xlabel(\"Round\")\n",
        "plt.title(\"MNIST - IID - 100 clients with 10 clients per round\")"
      ]
    },
    {
      "cell_type": "code",
      "source": [
        "num_clients = 27\n",
        "ids = [str(x) for x in range(num_clients)]\n",
        "for id in ids:\n",
        "    print(id)"
      ],
      "metadata": {
        "id": "LOEy17uJ_Zh_",
        "colab": {
          "base_uri": "https://localhost:8080/"
        },
        "outputId": "d9ed2b49-91b1-4508-972c-06b78d5ddff2"
      },
      "execution_count": 19,
      "outputs": [
        {
          "output_type": "stream",
          "name": "stdout",
          "text": [
            "0\n",
            "1\n",
            "2\n",
            "3\n",
            "4\n",
            "5\n",
            "6\n",
            "7\n",
            "8\n",
            "9\n",
            "10\n",
            "11\n",
            "12\n",
            "13\n",
            "14\n",
            "15\n",
            "16\n",
            "17\n",
            "18\n",
            "19\n",
            "20\n",
            "21\n",
            "22\n",
            "23\n",
            "24\n",
            "25\n",
            "26\n"
          ]
        }
      ]
    }
  ],
  "metadata": {
    "colab": {
      "provenance": [],
      "gpuType": "T4",
      "include_colab_link": true
    },
    "kernelspec": {
      "display_name": "Python 3",
      "name": "python3"
    },
    "language_info": {
      "codemirror_mode": {
        "name": "ipython",
        "version": 3
      },
      "file_extension": ".py",
      "mimetype": "text/x-python",
      "name": "python",
      "nbconvert_exporter": "python",
      "pygments_lexer": "ipython3",
      "version": "3.9.0"
    },
    "accelerator": "GPU"
  },
  "nbformat": 4,
  "nbformat_minor": 0
}