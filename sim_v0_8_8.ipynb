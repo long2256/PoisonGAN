{
  "cells": [
    {
      "cell_type": "markdown",
      "metadata": {
        "id": "view-in-github",
        "colab_type": "text"
      },
      "source": [
        "<a href=\"https://colab.research.google.com/github/long2256/PoisonGAN/blob/main/sim_v0_8_8.ipynb\" target=\"_parent\"><img src=\"https://colab.research.google.com/assets/colab-badge.svg\" alt=\"Open In Colab\"/></a>"
      ]
    },
    {
      "cell_type": "code",
      "execution_count": 1,
      "metadata": {
        "colab": {
          "base_uri": "https://localhost:8080/"
        },
        "id": "zNTidNXQtiy6",
        "outputId": "a5a71d48-5161-4981-ffd0-905341f1f800"
      },
      "outputs": [
        {
          "output_type": "stream",
          "name": "stdout",
          "text": [
            "Requirement already satisfied: flwr_datasets[vision] in /usr/local/lib/python3.10/dist-packages (0.0.2)\n",
            "Requirement already satisfied: datasets<3.0.0,>=2.14.3 in /usr/local/lib/python3.10/dist-packages (from flwr_datasets[vision]) (2.16.1)\n",
            "Requirement already satisfied: numpy<2.0.0,>=1.21.0 in /usr/local/lib/python3.10/dist-packages (from flwr_datasets[vision]) (1.23.5)\n",
            "Requirement already satisfied: pillow>=6.2.1 in /usr/local/lib/python3.10/dist-packages (from flwr_datasets[vision]) (9.4.0)\n",
            "Requirement already satisfied: filelock in /usr/local/lib/python3.10/dist-packages (from datasets<3.0.0,>=2.14.3->flwr_datasets[vision]) (3.13.1)\n",
            "Requirement already satisfied: pyarrow>=8.0.0 in /usr/local/lib/python3.10/dist-packages (from datasets<3.0.0,>=2.14.3->flwr_datasets[vision]) (10.0.1)\n",
            "Requirement already satisfied: pyarrow-hotfix in /usr/local/lib/python3.10/dist-packages (from datasets<3.0.0,>=2.14.3->flwr_datasets[vision]) (0.6)\n",
            "Requirement already satisfied: dill<0.3.8,>=0.3.0 in /usr/local/lib/python3.10/dist-packages (from datasets<3.0.0,>=2.14.3->flwr_datasets[vision]) (0.3.7)\n",
            "Requirement already satisfied: pandas in /usr/local/lib/python3.10/dist-packages (from datasets<3.0.0,>=2.14.3->flwr_datasets[vision]) (1.5.3)\n",
            "Requirement already satisfied: requests>=2.19.0 in /usr/local/lib/python3.10/dist-packages (from datasets<3.0.0,>=2.14.3->flwr_datasets[vision]) (2.31.0)\n",
            "Requirement already satisfied: tqdm>=4.62.1 in /usr/local/lib/python3.10/dist-packages (from datasets<3.0.0,>=2.14.3->flwr_datasets[vision]) (4.66.1)\n",
            "Requirement already satisfied: xxhash in /usr/local/lib/python3.10/dist-packages (from datasets<3.0.0,>=2.14.3->flwr_datasets[vision]) (3.4.1)\n",
            "Requirement already satisfied: multiprocess in /usr/local/lib/python3.10/dist-packages (from datasets<3.0.0,>=2.14.3->flwr_datasets[vision]) (0.70.15)\n",
            "Requirement already satisfied: fsspec[http]<=2023.10.0,>=2023.1.0 in /usr/local/lib/python3.10/dist-packages (from datasets<3.0.0,>=2.14.3->flwr_datasets[vision]) (2023.6.0)\n",
            "Requirement already satisfied: aiohttp in /usr/local/lib/python3.10/dist-packages (from datasets<3.0.0,>=2.14.3->flwr_datasets[vision]) (3.9.1)\n",
            "Requirement already satisfied: huggingface-hub>=0.19.4 in /usr/local/lib/python3.10/dist-packages (from datasets<3.0.0,>=2.14.3->flwr_datasets[vision]) (0.20.2)\n",
            "Requirement already satisfied: packaging in /usr/local/lib/python3.10/dist-packages (from datasets<3.0.0,>=2.14.3->flwr_datasets[vision]) (23.2)\n",
            "Requirement already satisfied: pyyaml>=5.1 in /usr/local/lib/python3.10/dist-packages (from datasets<3.0.0,>=2.14.3->flwr_datasets[vision]) (6.0.1)\n",
            "Requirement already satisfied: attrs>=17.3.0 in /usr/local/lib/python3.10/dist-packages (from aiohttp->datasets<3.0.0,>=2.14.3->flwr_datasets[vision]) (23.2.0)\n",
            "Requirement already satisfied: multidict<7.0,>=4.5 in /usr/local/lib/python3.10/dist-packages (from aiohttp->datasets<3.0.0,>=2.14.3->flwr_datasets[vision]) (6.0.4)\n",
            "Requirement already satisfied: yarl<2.0,>=1.0 in /usr/local/lib/python3.10/dist-packages (from aiohttp->datasets<3.0.0,>=2.14.3->flwr_datasets[vision]) (1.9.4)\n",
            "Requirement already satisfied: frozenlist>=1.1.1 in /usr/local/lib/python3.10/dist-packages (from aiohttp->datasets<3.0.0,>=2.14.3->flwr_datasets[vision]) (1.4.1)\n",
            "Requirement already satisfied: aiosignal>=1.1.2 in /usr/local/lib/python3.10/dist-packages (from aiohttp->datasets<3.0.0,>=2.14.3->flwr_datasets[vision]) (1.3.1)\n",
            "Requirement already satisfied: async-timeout<5.0,>=4.0 in /usr/local/lib/python3.10/dist-packages (from aiohttp->datasets<3.0.0,>=2.14.3->flwr_datasets[vision]) (4.0.3)\n",
            "Requirement already satisfied: typing-extensions>=3.7.4.3 in /usr/local/lib/python3.10/dist-packages (from huggingface-hub>=0.19.4->datasets<3.0.0,>=2.14.3->flwr_datasets[vision]) (4.5.0)\n",
            "Requirement already satisfied: charset-normalizer<4,>=2 in /usr/local/lib/python3.10/dist-packages (from requests>=2.19.0->datasets<3.0.0,>=2.14.3->flwr_datasets[vision]) (3.3.2)\n",
            "Requirement already satisfied: idna<4,>=2.5 in /usr/local/lib/python3.10/dist-packages (from requests>=2.19.0->datasets<3.0.0,>=2.14.3->flwr_datasets[vision]) (3.6)\n",
            "Requirement already satisfied: urllib3<3,>=1.21.1 in /usr/local/lib/python3.10/dist-packages (from requests>=2.19.0->datasets<3.0.0,>=2.14.3->flwr_datasets[vision]) (2.0.7)\n",
            "Requirement already satisfied: certifi>=2017.4.17 in /usr/local/lib/python3.10/dist-packages (from requests>=2.19.0->datasets<3.0.0,>=2.14.3->flwr_datasets[vision]) (2023.11.17)\n",
            "Requirement already satisfied: python-dateutil>=2.8.1 in /usr/local/lib/python3.10/dist-packages (from pandas->datasets<3.0.0,>=2.14.3->flwr_datasets[vision]) (2.8.2)\n",
            "Requirement already satisfied: pytz>=2020.1 in /usr/local/lib/python3.10/dist-packages (from pandas->datasets<3.0.0,>=2.14.3->flwr_datasets[vision]) (2023.3.post1)\n",
            "Requirement already satisfied: six>=1.5 in /usr/local/lib/python3.10/dist-packages (from python-dateutil>=2.8.1->pandas->datasets<3.0.0,>=2.14.3->flwr_datasets[vision]) (1.16.0)\n"
          ]
        }
      ],
      "source": [
        "# depending on your shell, you might need to add `\\` before `[` and `]`.\n",
        "!pip install -q flwr[simulation]\n",
        "!pip install flwr_datasets[vision]"
      ]
    },
    {
      "cell_type": "code",
      "source": [
        "from google.colab import drive\n",
        "drive.mount('/content/drive')"
      ],
      "metadata": {
        "id": "V4mWDoE9dok9",
        "outputId": "b3e38273-e95b-46e3-8d34-34ff875c4cce",
        "colab": {
          "base_uri": "https://localhost:8080/"
        }
      },
      "execution_count": 2,
      "outputs": [
        {
          "output_type": "stream",
          "name": "stdout",
          "text": [
            "Drive already mounted at /content/drive; to attempt to forcibly remount, call drive.mount(\"/content/drive\", force_remount=True).\n"
          ]
        }
      ]
    },
    {
      "cell_type": "code",
      "execution_count": 3,
      "metadata": {
        "colab": {
          "base_uri": "https://localhost:8080/"
        },
        "outputId": "b67f4f9f-5ddc-4e7b-f144-c86a77bac0ee",
        "id": "WXOcHlPPtiy8"
      },
      "outputs": [
        {
          "output_type": "stream",
          "name": "stdout",
          "text": [
            "Requirement already satisfied: matplotlib in /usr/local/lib/python3.10/dist-packages (3.7.1)\n",
            "Requirement already satisfied: contourpy>=1.0.1 in /usr/local/lib/python3.10/dist-packages (from matplotlib) (1.2.0)\n",
            "Requirement already satisfied: cycler>=0.10 in /usr/local/lib/python3.10/dist-packages (from matplotlib) (0.12.1)\n",
            "Requirement already satisfied: fonttools>=4.22.0 in /usr/local/lib/python3.10/dist-packages (from matplotlib) (4.47.0)\n",
            "Requirement already satisfied: kiwisolver>=1.0.1 in /usr/local/lib/python3.10/dist-packages (from matplotlib) (1.4.5)\n",
            "Requirement already satisfied: numpy>=1.20 in /usr/local/lib/python3.10/dist-packages (from matplotlib) (1.23.5)\n",
            "Requirement already satisfied: packaging>=20.0 in /usr/local/lib/python3.10/dist-packages (from matplotlib) (23.2)\n",
            "Requirement already satisfied: pillow>=6.2.0 in /usr/local/lib/python3.10/dist-packages (from matplotlib) (9.4.0)\n",
            "Requirement already satisfied: pyparsing>=2.3.1 in /usr/local/lib/python3.10/dist-packages (from matplotlib) (3.1.1)\n",
            "Requirement already satisfied: python-dateutil>=2.7 in /usr/local/lib/python3.10/dist-packages (from matplotlib) (2.8.2)\n",
            "Requirement already satisfied: six>=1.5 in /usr/local/lib/python3.10/dist-packages (from python-dateutil>=2.7->matplotlib) (1.16.0)\n"
          ]
        }
      ],
      "source": [
        "!pip install matplotlib"
      ]
    },
    {
      "cell_type": "code",
      "execution_count": 4,
      "metadata": {
        "id": "e9K5nFNjtiy-",
        "outputId": "c5a3ef35-a1d2-4604-9f92-28b229ae0023",
        "colab": {
          "base_uri": "https://localhost:8080/"
        }
      },
      "outputs": [
        {
          "output_type": "stream",
          "name": "stderr",
          "text": [
            "/usr/local/lib/python3.10/dist-packages/huggingface_hub/utils/_token.py:88: UserWarning: \n",
            "The secret `HF_TOKEN` does not exist in your Colab secrets.\n",
            "To authenticate with the Hugging Face Hub, create a token in your settings tab (https://huggingface.co/settings/tokens), set it as secret in your Google Colab and restart your session.\n",
            "You will be able to reuse this secret in all of your notebooks.\n",
            "Please note that authentication is recommended but still optional to access public models or datasets.\n",
            "  warnings.warn(\n"
          ]
        }
      ],
      "source": [
        "from datasets import Dataset\n",
        "from flwr_datasets import FederatedDataset\n",
        "from datasets.utils.logging import disable_progress_bar\n",
        "from torch.utils.data import TensorDataset\n",
        "\n",
        "# Let's set a simulation involving a total of 100 clients\n",
        "NUM_CLIENTS = 33\n",
        "\n",
        "# Download MNIST dataset and partition the \"train\" partition (so one can be assigned to each client)\n",
        "mnist_fds = FederatedDataset(dataset=\"mnist\", partitioners={\"train\": NUM_CLIENTS})\n",
        "# Let's keep the test set as is, and use it to evaluate the global model on the server\n",
        "centralized_testset = mnist_fds.load_full(\"test\")"
      ]
    },
    {
      "cell_type": "code",
      "execution_count": 5,
      "metadata": {
        "id": "b_T97AxStiy-"
      },
      "outputs": [],
      "source": [
        "from torchvision.transforms import ToTensor, Normalize, Compose, Resize\n",
        "\n",
        "\n",
        "def apply_transforms(batch):\n",
        "    \"\"\"Get transformation for MNIST dataset\"\"\"\n",
        "\n",
        "    # transformation to convert images to tensors and apply normalization\n",
        "    transforms = Compose([\n",
        "        ToTensor(),\n",
        "        Normalize((0.1307,), (0.3081,)),\n",
        "        Resize((64, 64), antialias=False)\n",
        "        ])\n",
        "    batch[\"image\"] = [transforms(img) for img in batch[\"image\"]]\n",
        "    return batch"
      ]
    },
    {
      "cell_type": "code",
      "execution_count": 6,
      "metadata": {
        "id": "e7NzdFp6tiy9"
      },
      "outputs": [],
      "source": [
        "import torch\n",
        "import torch.nn as nn\n",
        "import torch.nn.functional as F\n",
        "from torch.utils.data import DataLoader\n",
        "\n",
        "class Net(nn.Module):\n",
        "    def __init__(self, num_classes: int):\n",
        "        super(Net, self).__init__()\n",
        "        self.conv1 = nn.Conv2d(in_channels=1, out_channels=64, kernel_size=4, stride=2, padding=1)\n",
        "        self.leaky1 = nn.LeakyReLU()\n",
        "\n",
        "        self.conv2 = nn.Conv2d(in_channels=64, out_channels=64, kernel_size=4, stride=2, padding=1)\n",
        "        self.leaky2 = nn.LeakyReLU()\n",
        "\n",
        "        self.conv3 = nn.Conv2d(in_channels=64, out_channels=64, kernel_size=4, stride=2, padding=1)\n",
        "        self.leaky3 = nn.LeakyReLU()\n",
        "\n",
        "        self.conv4 = nn.Conv2d(in_channels=64, out_channels=128, kernel_size=3, stride=1, padding=1)\n",
        "        self.leaky4 = nn.LeakyReLU()\n",
        "\n",
        "        self.conv5 = nn.Conv2d(in_channels=128, out_channels=128, kernel_size=3, stride=1, padding=1)\n",
        "        self.leaky5 = nn.LeakyReLU()\n",
        "\n",
        "        self.conv6 = nn.Conv2d(in_channels=128, out_channels=128, kernel_size=3, stride=1, padding=1)\n",
        "        self.leaky6 = nn.LeakyReLU()\n",
        "\n",
        "        self.avgpool = nn.AvgPool2d(2, stride=2)\n",
        "\n",
        "        self.fc = nn.Linear(4 * 4 * 128, num_classes)  # 10 classes for MNIST\n",
        "        self.softmax = nn.Softmax(dim=1)\n",
        "\n",
        "    def forward(self, x):\n",
        "        x = self.conv1(x)\n",
        "        x = self.leaky1(x)\n",
        "\n",
        "        x = self.conv2(x)\n",
        "        x = self.leaky2(x)\n",
        "\n",
        "        x = self.conv3(x)\n",
        "        x = self.leaky3(x)\n",
        "\n",
        "        x = self.conv4(x)\n",
        "        x = self.leaky4(x)\n",
        "\n",
        "        x = self.conv5(x)\n",
        "        x = self.leaky5(x)\n",
        "\n",
        "        x = self.conv6(x)\n",
        "        x = self.leaky6(x)\n",
        "\n",
        "        x = self.avgpool(x)\n",
        "        x = x.view(x.size(0), -1)  # Flatten the output\n",
        "        x = self.fc(x)\n",
        "        x = self.softmax(x)\n",
        "\n",
        "        return x\n",
        "\n",
        "class Discriminator(nn.Module):\n",
        "    def __init__(self):\n",
        "        super(Discriminator, self).__init__()\n",
        "        self.conv1 = nn.Conv2d(in_channels=1, out_channels=64, kernel_size=4, stride=2, padding=1)\n",
        "        self.leaky1 = nn.LeakyReLU()\n",
        "        self.dropout = nn.Dropout()\n",
        "\n",
        "        self.conv2 = nn.Conv2d(in_channels=64, out_channels=64, kernel_size=4, stride=2, padding=1)\n",
        "        self.batchnorm1 = nn.BatchNorm2d(64)\n",
        "        self.leaky2 = nn.LeakyReLU()\n",
        "\n",
        "        self.conv3 = nn.Conv2d(in_channels=64, out_channels=64, kernel_size=4, stride=2, padding=1)\n",
        "        self.batchnorm2 = nn.BatchNorm2d(64)\n",
        "        self.leaky3 = nn.LeakyReLU()\n",
        "\n",
        "        self.conv4 = nn.Conv2d(in_channels=64, out_channels=128, kernel_size=3, stride=1, padding=1)\n",
        "        self.batchnorm3 = nn.BatchNorm2d(128)\n",
        "        self.leaky4 = nn.LeakyReLU()\n",
        "\n",
        "        self.conv5 = nn.Conv2d(in_channels=128, out_channels=128, kernel_size=3, stride=1, padding=1)\n",
        "        self.batchnorm4 = nn.BatchNorm2d(128)\n",
        "        self.leaky5 = nn.LeakyReLU()\n",
        "\n",
        "        self.conv6 = nn.Conv2d(in_channels=128, out_channels=128, kernel_size=3, stride=1, padding=1)\n",
        "        self.leaky6 = nn.LeakyReLU()\n",
        "\n",
        "        self.avgpool = nn.AvgPool2d(2, stride=2)\n",
        "\n",
        "        self.fc = nn.Linear(4 * 4 * 128, 10)\n",
        "        self.softmax = nn.Softmax(dim=1)\n",
        "\n",
        "    def forward(self, x):\n",
        "        x = self.conv1(x)\n",
        "        x = self.leaky1(x)\n",
        "        x = self.dropout(x)\n",
        "\n",
        "        x = self.conv2(x)\n",
        "        x = self.batchnorm1(x)\n",
        "        x = self.leaky2(x)\n",
        "\n",
        "        x = self.conv3(x)\n",
        "        x = self.batchnorm2(x)\n",
        "        x = self.leaky3(x)\n",
        "\n",
        "        x = self.conv4(x)\n",
        "        x = self.batchnorm3(x)\n",
        "        x = self.leaky4(x)\n",
        "\n",
        "        x = self.conv5(x)\n",
        "        x = self.batchnorm4(x)\n",
        "        x = self.leaky5(x)\n",
        "\n",
        "        x = self.conv6(x)\n",
        "        x = self.leaky6(x)\n",
        "\n",
        "        x = self.avgpool(x)\n",
        "        x = x.view(x.size(0), -1)  # Flatten the output\n",
        "        x = self.fc(x)\n",
        "        x = self.softmax(x)\n",
        "\n",
        "        return x\n",
        "\n",
        "class Generator(nn.Module):\n",
        "    def __init__(self):\n",
        "        super(Generator, self).__init__()\n",
        "\n",
        "        self.conv1 = nn.ConvTranspose2d(100, 256, kernel_size=4, stride=4, padding=0, bias=False)\n",
        "        self.batchnorm1 = nn.BatchNorm2d(256)\n",
        "        self.relu1 = nn.ReLU()\n",
        "\n",
        "        self.conv2 = nn.ConvTranspose2d(256, 128, kernel_size=4, stride=4, padding=0, bias=False)\n",
        "        self.batchnorm2 = nn.BatchNorm2d(128)\n",
        "        self.relu2 = nn.ReLU()\n",
        "\n",
        "        self.conv3 = nn.ConvTranspose2d(128, 64, kernel_size=4, stride=2, padding=1, bias=False)\n",
        "        self.batchnorm3 = nn.BatchNorm2d(64)\n",
        "        self.relu3 = nn.ReLU()\n",
        "\n",
        "        self.conv4 = nn.ConvTranspose2d(64, 1, kernel_size=4, stride=2, padding=1, bias=False)\n",
        "        self.tanh = nn.Tanh()\n",
        "\n",
        "    def forward(self, x):\n",
        "        x = self.conv1(x)\n",
        "        x = self.batchnorm1(x)\n",
        "        x = self.relu1(x)\n",
        "        x = self.conv2(x)\n",
        "        x = self.batchnorm2(x)\n",
        "        x = self.relu2(x)\n",
        "        x = self.conv3(x)\n",
        "        x = self.batchnorm3(x)\n",
        "        x = self.relu3(x)\n",
        "        x = self.conv4(x)\n",
        "        x = self.tanh(x)\n",
        "        return x"
      ]
    },
    {
      "cell_type": "code",
      "execution_count": 7,
      "metadata": {
        "id": "2BkZd5y0tiy-"
      },
      "outputs": [],
      "source": [
        "import torch.optim as optim\n",
        "import torch.optim.lr_scheduler as lr_scheduler\n",
        "def train(net, trainloader, optim, scheduler, criterion, epochs, device: str):\n",
        "    \"\"\"Train the network on the training set.\"\"\"\n",
        "    net.train()\n",
        "    for _ in range(epochs):\n",
        "        for batch in trainloader:\n",
        "            images, labels = batch[\"image\"].to(device), batch[\"label\"].to(device)\n",
        "            optim.zero_grad()\n",
        "            outputs = net(images)\n",
        "            loss = criterion(outputs, labels)\n",
        "            loss.backward()\n",
        "            optim.step()\n",
        "        scheduler.step()\n",
        "\n",
        "def test(net, testloader, device: str):\n",
        "    \"\"\"Validate the network on the entire test set.\"\"\"\n",
        "    criterion = torch.nn.CrossEntropyLoss()\n",
        "    correct, loss = 0, 0.0\n",
        "    net.eval()\n",
        "    with torch.no_grad():\n",
        "        for data in testloader:\n",
        "            images, labels = data[\"image\"].to(device), data[\"label\"].to(device)\n",
        "            outputs = net(images)\n",
        "            loss += criterion(outputs, labels).item()\n",
        "            _, predicted = torch.max(outputs.data, 1)\n",
        "            correct += (predicted == labels).sum().item()\n",
        "    accuracy = correct / len(testloader.dataset)\n",
        "    return loss, accuracy\n"
      ]
    },
    {
      "cell_type": "code",
      "execution_count": 8,
      "metadata": {
        "id": "EftKsIuMtiy_"
      },
      "outputs": [],
      "source": [
        "import flwr as fl"
      ]
    },
    {
      "cell_type": "code",
      "execution_count": 9,
      "metadata": {
        "id": "TkpxfwT9tiy_"
      },
      "outputs": [],
      "source": [
        "from collections import OrderedDict\n",
        "from typing import Dict, List, Tuple, Union, Optional\n",
        "from flwr.server.client_proxy import ClientProxy\n",
        "from flwr.common import NDArrays, Scalar, Parameters\n",
        "\n",
        "\n",
        "class FlowerClient(fl.client.NumPyClient):\n",
        "    def __init__(self, cid, trainloader, valloader, testloader) -> None:\n",
        "        super().__init__()\n",
        "\n",
        "        self.trainloader = trainloader\n",
        "        self.valloader = valloader\n",
        "        self.testloader = testloader\n",
        "        self.cid = cid\n",
        "        self.model = Net(num_classes=10)\n",
        "        self.discriminator = Discriminator()\n",
        "        self.generator = Generator()\n",
        "        # Determine device\n",
        "        self.device = torch.device(\"cuda:0\" if torch.cuda.is_available() else \"cpu\")\n",
        "        self.model.to(self.device)  # send model to device\n",
        "        self.discriminator.to(self.device)\n",
        "        self.generator.to(self.device)\n",
        "\n",
        "    def set_parameters(self, parameters):\n",
        "        \"\"\"With the model paramters received from the server,\n",
        "        overwrite the uninitialise model in this class with them.\"\"\"\n",
        "\n",
        "        params_dict = zip(self.model.state_dict().keys(), parameters)\n",
        "        state_dict = OrderedDict({k: torch.Tensor(v) for k, v in params_dict})\n",
        "        # now replace the parameters\n",
        "        self.discriminator.load_state_dict(state_dict, strict=False)\n",
        "        self.model.load_state_dict(state_dict, strict=True)\n",
        "\n",
        "    def get_parameters(self, config: Dict[str, Scalar]):\n",
        "        \"\"\"Extract all model parameters and conver them to a list of\n",
        "        NumPy arryas. The server doesn't work with PyTorch/TF/etc.\"\"\"\n",
        "        # print(f\"[Client {self.cid}] get_parameters\")\n",
        "        return [val.cpu().numpy() for _, val in self.model.state_dict().items()]\n",
        "\n",
        "    def fit(self, parameters, config):\n",
        "        \"\"\"This method train the model using the parameters sent by the\n",
        "        server on the dataset of this client. At then end, the parameters\n",
        "        of the locally trained model are communicated back to the server\"\"\"\n",
        "        # print(f\"[Client {self.cid}] fit, config: {config}\")\n",
        "        # copy parameters sent by the server into client's local model\n",
        "        self.set_parameters(parameters)\n",
        "        lr, epochs = config[\"lr\"], config[\"epochs\"]\n",
        "        optim = torch.optim.SGD(self.model.parameters(), lr=lr)\n",
        "        scheduler = lr_scheduler.StepLR(optim, step_size=2, gamma=0.1)\n",
        "        criterion = torch.nn.CrossEntropyLoss()\n",
        "        train(net=self.model, trainloader=self.trainloader, optim=optim, scheduler=scheduler, criterion=criterion, epochs=epochs, device=self.device)\n",
        "        # return the model parameters to the server as well as extra info (number of training examples in this case)\n",
        "        return self.get_parameters({}), len(self.trainloader), {}\n",
        "\n",
        "    def evaluate(self, parameters: NDArrays, config: Dict[str, Scalar]):\n",
        "        \"\"\"Evaluate the model sent by the server on this client's\n",
        "        local validation set. Then return performance metrics.\"\"\"\n",
        "\n",
        "        self.set_parameters(parameters)\n",
        "        loss, accuracy = test(self.model, self.valloader, device=self.device)\n",
        "\n",
        "        return float(loss), len(self.valloader), {\"accuracy\": accuracy}"
      ]
    },
    {
      "cell_type": "code",
      "source": [
        "import glob\n",
        "import os\n",
        "def load_model_state_dict():\n",
        "    net = Net(10)\n",
        "    list_of_files = [fname for fname in glob.glob(\"./model_round_*\")]\n",
        "    latest_round_file = max(list_of_files, key=os.path.getctime)\n",
        "    # latest_round_file = './model_round_df.pth'\n",
        "    print(\"Loading pre-trained model from: \", latest_round_file)\n",
        "    state_dict = torch.load(latest_round_file)\n",
        "    net.load_state_dict(state_dict)\n",
        "    return net"
      ],
      "metadata": {
        "id": "FiR-tVieingX"
      },
      "execution_count": 10,
      "outputs": []
    },
    {
      "cell_type": "code",
      "execution_count": 11,
      "metadata": {
        "id": "BPJKeYr6tiy_"
      },
      "outputs": [],
      "source": [
        "def get_evaluate_fn(centralized_testset: Dataset):\n",
        "    \"\"\"This is a function that returns a function. The returned\n",
        "    function (i.e. `evaluate_fn`) will be executed by the strategy\n",
        "    at the end of each round to evaluate the stat of the global\n",
        "    model.\"\"\"\n",
        "\n",
        "    def evaluate_fn(server_round: int, parameters, config):\n",
        "        \"\"\"This function is executed by the strategy it will instantiate\n",
        "        a model and replace its parameters with those from the global model.\n",
        "        The, the model will be evaluate on the test set (recall this is the\n",
        "        whole MNIST test set).\"\"\"\n",
        "\n",
        "        model = Net(num_classes=10)\n",
        "\n",
        "        # Determine device\n",
        "        device = torch.device(\"cuda:0\" if torch.cuda.is_available() else \"cpu\")\n",
        "        model.to(device)  # send model to device\n",
        "\n",
        "        # set parameters to the model\n",
        "        params_dict = zip(model.state_dict().keys(), parameters)\n",
        "        state_dict = OrderedDict({k: torch.Tensor(v) for k, v in params_dict})\n",
        "        model.load_state_dict(state_dict, strict=True)\n",
        "\n",
        "        ###############################################################################\n",
        "        # device = torch.device(\"cuda:0\" if torch.cuda.is_available() else \"cpu\")\n",
        "        # model = load_model_state_dict()\n",
        "        # model.to(device)\n",
        "        ###############################################################################\n",
        "        # Apply transform to dataset\n",
        "        testset = centralized_testset.with_transform(apply_transforms)\n",
        "\n",
        "        testloader = DataLoader(testset, batch_size=50)\n",
        "        # call test\n",
        "        loss, accuracy = test(model, testloader, device)\n",
        "        print('GLOBAL TEST')\n",
        "        return loss, {\"accuracy\": accuracy}\n",
        "\n",
        "    return evaluate_fn"
      ]
    },
    {
      "cell_type": "code",
      "execution_count": 12,
      "metadata": {
        "id": "uKusgaOAtiy_"
      },
      "outputs": [],
      "source": [
        "from flwr.common import Metrics, FitRes\n",
        "\n",
        "\n",
        "def fit_config(server_round: int) -> Dict[str, Scalar]:\n",
        "    \"\"\"Return a configuration with static batch size and (local) epochs.\"\"\"\n",
        "    config = {\n",
        "        \"epochs\": 10,  # Number of local epochs done by clients\n",
        "        \"lr\": 0.1,  # Learning rate to use by clients during fit()\n",
        "        \"attacker_epochs\": 20,\n",
        "        \"attacker_lr\": 0.05,\n",
        "    }\n",
        "    return config\n",
        "\n",
        "\n",
        "def weighted_average(metrics: List[Tuple[int, Metrics]]) -> Metrics:\n",
        "    \"\"\"Aggregation function for (federated) evaluation metrics, i.e. those returned by\n",
        "    the client's evaluate() method.\"\"\"\n",
        "    # Multiply accuracy of each client by number of examples used\n",
        "    accuracies = [num_examples * m[\"accuracy\"] for num_examples, m in metrics]\n",
        "    examples = [num_examples for num_examples, _ in metrics]\n",
        "\n",
        "    # Aggregate and return custom metric (weighted average)\n",
        "    return {\"accuracy\": sum(accuracies) / sum(examples)}"
      ]
    },
    {
      "cell_type": "code",
      "source": [
        "import numpy as np\n",
        "class SaveModelStrategy(fl.server.strategy.FedAvg):\n",
        "    def aggregate_fit(\n",
        "        self,\n",
        "        server_round: int,\n",
        "        results: List[Tuple[fl.server.client_proxy.ClientProxy, fl.common.FitRes]],\n",
        "        failures: List[Union[Tuple[ClientProxy, FitRes], BaseException]],\n",
        "    ) -> Tuple[Optional[Parameters], Dict[str, Scalar]]:\n",
        "        \"\"\"Aggregate model weights using weighted average and store checkpoint\"\"\"\n",
        "        model=Net(10)\n",
        "        # Call aggregate_fit from base class (FedAvg) to aggregate parameters and metrics\n",
        "        aggregated_parameters, aggregated_metrics = super().aggregate_fit(server_round, results, failures)\n",
        "\n",
        "        if aggregated_parameters is not None:\n",
        "            print(f\"Saving round {server_round} aggregated_parameters...\")\n",
        "\n",
        "            # Convert `Parameters` to `List[np.ndarray]`\n",
        "            aggregated_ndarrays: List[np.ndarray] = fl.common.parameters_to_ndarrays(aggregated_parameters)\n",
        "\n",
        "            # Convert `List[np.ndarray]` to PyTorch`state_dict`\n",
        "            params_dict = zip(model.state_dict().keys(), aggregated_ndarrays)\n",
        "            state_dict = OrderedDict({k: torch.tensor(v) for k, v in params_dict})\n",
        "            model.load_state_dict(state_dict, strict=True)\n",
        "\n",
        "            # Save the model\n",
        "            torch.save(model.state_dict(), f\"model_round_{server_round}.pth\")\n",
        "        return aggregated_parameters, aggregated_metrics"
      ],
      "metadata": {
        "id": "gIoh_OAxATO7"
      },
      "execution_count": 13,
      "outputs": []
    },
    {
      "cell_type": "code",
      "execution_count": 14,
      "metadata": {
        "id": "FpB15Xv3tizA"
      },
      "outputs": [],
      "source": [
        "strategy = SaveModelStrategy(\n",
        "    fraction_fit=0.31,  # Sample 10% of available clients for training\n",
        "    fraction_evaluate=0.31,  # Sample 5% of available clients for evaluation\n",
        "    on_fit_config_fn=fit_config,\n",
        "    evaluate_metrics_aggregation_fn=weighted_average,  # aggregates federated metrics\n",
        "    evaluate_fn=get_evaluate_fn(centralized_testset),  # global evaluation function\n",
        ")"
      ]
    },
    {
      "cell_type": "code",
      "execution_count": 15,
      "metadata": {
        "id": "g0HZTdGHtizA"
      },
      "outputs": [],
      "source": [
        "from torch.utils.data import DataLoader\n",
        "\n",
        "\n",
        "def get_client_fn(dataset: FederatedDataset):\n",
        "    \"\"\"Return a function to construct a client.\n",
        "\n",
        "    The VirtualClientEngine will execute this function whenever a client is sampled by\n",
        "    the strategy to participate.\n",
        "    \"\"\"\n",
        "\n",
        "    def client_fn(cid: str) -> fl.client.Client:\n",
        "        \"\"\"Construct a FlowerClient with its own dataset partition.\"\"\"\n",
        "\n",
        "        # Let's get the partition corresponding to the i-th client\n",
        "        client_dataset = dataset.load_partition(int(cid), \"train\")\n",
        "\n",
        "        # Now let's split it into train (90%) and validation (10%)\n",
        "        client_dataset_splits = client_dataset.train_test_split(test_size=0.1)\n",
        "\n",
        "        trainset = client_dataset_splits[\"train\"]\n",
        "        valset = client_dataset_splits[\"test\"]\n",
        "\n",
        "        # Now we apply the transform to each batch.\n",
        "        trainloader = DataLoader(\n",
        "            trainset.with_transform(apply_transforms), batch_size=32, shuffle=True\n",
        "        )\n",
        "        valloader = DataLoader(valset.with_transform(apply_transforms), batch_size=32)\n",
        "        testset = centralized_testset.with_transform(apply_transforms)\n",
        "\n",
        "        testloader = DataLoader(testset, batch_size=50)\n",
        "        # Create and return client\n",
        "        return FlowerClient(int(cid), trainloader, valloader, testloader)\n",
        "\n",
        "    return client_fn\n",
        "\n",
        "\n",
        "client_fn_callback = get_client_fn(mnist_fds)"
      ]
    },
    {
      "cell_type": "markdown",
      "metadata": {
        "id": "TRAALrO7tizA"
      },
      "source": [
        "Now we are ready to launch the FL experiment using Flower simulation:"
      ]
    },
    {
      "cell_type": "code",
      "execution_count": 16,
      "metadata": {
        "id": "WOOq8qkUtizA",
        "outputId": "3420f879-d071-48e3-c9c2-cbbfb4ea8a62",
        "colab": {
          "base_uri": "https://localhost:8080/"
        }
      },
      "outputs": [
        {
          "output_type": "stream",
          "name": "stderr",
          "text": [
            "INFO flwr 2024-01-15 09:50:44,492 | app.py:178 | Starting Flower simulation, config: ServerConfig(num_rounds=70, round_timeout=None)\n",
            "INFO:flwr:Starting Flower simulation, config: ServerConfig(num_rounds=70, round_timeout=None)\n",
            "2024-01-15 09:50:47,361\tINFO worker.py:1621 -- Started a local Ray instance.\n",
            "INFO flwr 2024-01-15 09:50:50,514 | app.py:213 | Flower VCE: Ray initialized with resources: {'node:__internal_head__': 1.0, 'memory': 7659336500.0, 'GPU': 1.0, 'node:172.28.0.12': 1.0, 'object_store_memory': 3829668249.0, 'CPU': 2.0}\n",
            "INFO:flwr:Flower VCE: Ray initialized with resources: {'node:__internal_head__': 1.0, 'memory': 7659336500.0, 'GPU': 1.0, 'node:172.28.0.12': 1.0, 'object_store_memory': 3829668249.0, 'CPU': 2.0}\n",
            "INFO flwr 2024-01-15 09:50:50,523 | app.py:219 | Optimize your simulation with Flower VCE: https://flower.dev/docs/framework/how-to-run-simulations.html\n",
            "INFO:flwr:Optimize your simulation with Flower VCE: https://flower.dev/docs/framework/how-to-run-simulations.html\n",
            "INFO flwr 2024-01-15 09:50:50,530 | app.py:242 | Flower VCE: Resources for each Virtual Client: {'num_cpus': 2, 'num_gpus': 1}\n",
            "INFO:flwr:Flower VCE: Resources for each Virtual Client: {'num_cpus': 2, 'num_gpus': 1}\n",
            "INFO flwr 2024-01-15 09:50:50,608 | app.py:288 | Flower VCE: Creating VirtualClientEngineActorPool with 1 actors\n",
            "INFO:flwr:Flower VCE: Creating VirtualClientEngineActorPool with 1 actors\n",
            "INFO flwr 2024-01-15 09:50:50,615 | server.py:89 | Initializing global parameters\n",
            "INFO:flwr:Initializing global parameters\n",
            "INFO flwr 2024-01-15 09:50:50,623 | server.py:276 | Requesting initial parameters from one random client\n",
            "INFO:flwr:Requesting initial parameters from one random client\n",
            "\u001b[2m\u001b[36m(pid=7884)\u001b[0m 2024-01-15 09:50:53.491915: E external/local_xla/xla/stream_executor/cuda/cuda_dnn.cc:9261] Unable to register cuDNN factory: Attempting to register factory for plugin cuDNN when one has already been registered\n",
            "\u001b[2m\u001b[36m(pid=7884)\u001b[0m 2024-01-15 09:50:53.491985: E external/local_xla/xla/stream_executor/cuda/cuda_fft.cc:607] Unable to register cuFFT factory: Attempting to register factory for plugin cuFFT when one has already been registered\n",
            "\u001b[2m\u001b[36m(pid=7884)\u001b[0m 2024-01-15 09:50:53.493633: E external/local_xla/xla/stream_executor/cuda/cuda_blas.cc:1515] Unable to register cuBLAS factory: Attempting to register factory for plugin cuBLAS when one has already been registered\n",
            "\u001b[2m\u001b[36m(pid=7884)\u001b[0m 2024-01-15 09:51:00.658693: W tensorflow/compiler/tf2tensorrt/utils/py_utils.cc:38] TF-TRT Warning: Could not find TensorRT\n",
            "INFO flwr 2024-01-15 09:51:09,496 | server.py:280 | Received initial parameters from one random client\n",
            "INFO:flwr:Received initial parameters from one random client\n",
            "INFO flwr 2024-01-15 09:51:09,501 | server.py:91 | Evaluating initial parameters\n",
            "INFO:flwr:Evaluating initial parameters\n",
            "INFO flwr 2024-01-15 09:51:15,076 | server.py:94 | initial parameters (loss, other metrics): 460.51896142959595, {'accuracy': 0.0974}\n",
            "INFO:flwr:initial parameters (loss, other metrics): 460.51896142959595, {'accuracy': 0.0974}\n",
            "INFO flwr 2024-01-15 09:51:15,085 | server.py:104 | FL starting\n",
            "INFO:flwr:FL starting\n",
            "DEBUG flwr 2024-01-15 09:51:15,091 | server.py:222 | fit_round 1: strategy sampled 10 clients (out of 33)\n",
            "DEBUG:flwr:fit_round 1: strategy sampled 10 clients (out of 33)\n"
          ]
        },
        {
          "output_type": "stream",
          "name": "stdout",
          "text": [
            "GLOBAL TEST\n"
          ]
        },
        {
          "output_type": "stream",
          "name": "stderr",
          "text": [
            "DEBUG flwr 2024-01-15 09:52:54,811 | server.py:236 | fit_round 1 received 10 results and 0 failures\n",
            "DEBUG:flwr:fit_round 1 received 10 results and 0 failures\n",
            "WARNING flwr 2024-01-15 09:52:54,925 | fedavg.py:242 | No fit_metrics_aggregation_fn provided\n",
            "WARNING:flwr:No fit_metrics_aggregation_fn provided\n"
          ]
        },
        {
          "output_type": "stream",
          "name": "stdout",
          "text": [
            "Saving round 1 aggregated_parameters...\n"
          ]
        },
        {
          "output_type": "stream",
          "name": "stderr",
          "text": [
            "INFO flwr 2024-01-15 09:53:00,060 | server.py:125 | fit progress: (1, 460.502320766449, {'accuracy': 0.1135}, 104.96951966999995)\n",
            "INFO:flwr:fit progress: (1, 460.502320766449, {'accuracy': 0.1135}, 104.96951966999995)\n",
            "DEBUG flwr 2024-01-15 09:53:00,065 | server.py:173 | evaluate_round 1: strategy sampled 10 clients (out of 33)\n",
            "DEBUG:flwr:evaluate_round 1: strategy sampled 10 clients (out of 33)\n"
          ]
        },
        {
          "output_type": "stream",
          "name": "stdout",
          "text": [
            "GLOBAL TEST\n"
          ]
        },
        {
          "output_type": "stream",
          "name": "stderr",
          "text": [
            "DEBUG flwr 2024-01-15 09:53:01,736 | server.py:187 | evaluate_round 1 received 10 results and 0 failures\n",
            "DEBUG:flwr:evaluate_round 1 received 10 results and 0 failures\n",
            "DEBUG flwr 2024-01-15 09:53:01,739 | server.py:222 | fit_round 2: strategy sampled 10 clients (out of 33)\n",
            "DEBUG:flwr:fit_round 2: strategy sampled 10 clients (out of 33)\n",
            "DEBUG flwr 2024-01-15 09:54:40,317 | server.py:236 | fit_round 2 received 10 results and 0 failures\n",
            "DEBUG:flwr:fit_round 2 received 10 results and 0 failures\n"
          ]
        },
        {
          "output_type": "stream",
          "name": "stdout",
          "text": [
            "Saving round 2 aggregated_parameters...\n"
          ]
        },
        {
          "output_type": "stream",
          "name": "stderr",
          "text": [
            "INFO flwr 2024-01-15 09:54:46,086 | server.py:125 | fit progress: (2, 460.48561692237854, {'accuracy': 0.1135}, 210.9955861399999)\n",
            "INFO:flwr:fit progress: (2, 460.48561692237854, {'accuracy': 0.1135}, 210.9955861399999)\n",
            "DEBUG flwr 2024-01-15 09:54:46,091 | server.py:173 | evaluate_round 2: strategy sampled 10 clients (out of 33)\n",
            "DEBUG:flwr:evaluate_round 2: strategy sampled 10 clients (out of 33)\n"
          ]
        },
        {
          "output_type": "stream",
          "name": "stdout",
          "text": [
            "GLOBAL TEST\n"
          ]
        },
        {
          "output_type": "stream",
          "name": "stderr",
          "text": [
            "DEBUG flwr 2024-01-15 09:54:48,585 | server.py:187 | evaluate_round 2 received 10 results and 0 failures\n",
            "DEBUG:flwr:evaluate_round 2 received 10 results and 0 failures\n",
            "DEBUG flwr 2024-01-15 09:54:48,589 | server.py:222 | fit_round 3: strategy sampled 10 clients (out of 33)\n",
            "DEBUG:flwr:fit_round 3: strategy sampled 10 clients (out of 33)\n",
            "DEBUG flwr 2024-01-15 09:56:28,919 | server.py:236 | fit_round 3 received 10 results and 0 failures\n",
            "DEBUG:flwr:fit_round 3 received 10 results and 0 failures\n"
          ]
        },
        {
          "output_type": "stream",
          "name": "stdout",
          "text": [
            "Saving round 3 aggregated_parameters...\n"
          ]
        },
        {
          "output_type": "stream",
          "name": "stderr",
          "text": [
            "INFO flwr 2024-01-15 09:56:33,835 | server.py:125 | fit progress: (3, 460.468542098999, {'accuracy': 0.1135}, 318.74398985899984)\n",
            "INFO:flwr:fit progress: (3, 460.468542098999, {'accuracy': 0.1135}, 318.74398985899984)\n",
            "DEBUG flwr 2024-01-15 09:56:33,838 | server.py:173 | evaluate_round 3: strategy sampled 10 clients (out of 33)\n",
            "DEBUG:flwr:evaluate_round 3: strategy sampled 10 clients (out of 33)\n"
          ]
        },
        {
          "output_type": "stream",
          "name": "stdout",
          "text": [
            "GLOBAL TEST\n"
          ]
        },
        {
          "output_type": "stream",
          "name": "stderr",
          "text": [
            "DEBUG flwr 2024-01-15 09:56:35,520 | server.py:187 | evaluate_round 3 received 10 results and 0 failures\n",
            "DEBUG:flwr:evaluate_round 3 received 10 results and 0 failures\n",
            "DEBUG flwr 2024-01-15 09:56:35,523 | server.py:222 | fit_round 4: strategy sampled 10 clients (out of 33)\n",
            "DEBUG:flwr:fit_round 4: strategy sampled 10 clients (out of 33)\n",
            "DEBUG flwr 2024-01-15 09:58:15,742 | server.py:236 | fit_round 4 received 10 results and 0 failures\n",
            "DEBUG:flwr:fit_round 4 received 10 results and 0 failures\n"
          ]
        },
        {
          "output_type": "stream",
          "name": "stdout",
          "text": [
            "Saving round 4 aggregated_parameters...\n"
          ]
        },
        {
          "output_type": "stream",
          "name": "stderr",
          "text": [
            "INFO flwr 2024-01-15 09:58:22,075 | server.py:125 | fit progress: (4, 460.44854617118835, {'accuracy': 0.1135}, 426.9848057679999)\n",
            "INFO:flwr:fit progress: (4, 460.44854617118835, {'accuracy': 0.1135}, 426.9848057679999)\n",
            "DEBUG flwr 2024-01-15 09:58:22,079 | server.py:173 | evaluate_round 4: strategy sampled 10 clients (out of 33)\n",
            "DEBUG:flwr:evaluate_round 4: strategy sampled 10 clients (out of 33)\n"
          ]
        },
        {
          "output_type": "stream",
          "name": "stdout",
          "text": [
            "GLOBAL TEST\n"
          ]
        },
        {
          "output_type": "stream",
          "name": "stderr",
          "text": [
            "DEBUG flwr 2024-01-15 09:58:23,748 | server.py:187 | evaluate_round 4 received 10 results and 0 failures\n",
            "DEBUG:flwr:evaluate_round 4 received 10 results and 0 failures\n",
            "DEBUG flwr 2024-01-15 09:58:23,752 | server.py:222 | fit_round 5: strategy sampled 10 clients (out of 33)\n",
            "DEBUG:flwr:fit_round 5: strategy sampled 10 clients (out of 33)\n",
            "DEBUG flwr 2024-01-15 10:00:05,523 | server.py:236 | fit_round 5 received 10 results and 0 failures\n",
            "DEBUG:flwr:fit_round 5 received 10 results and 0 failures\n"
          ]
        },
        {
          "output_type": "stream",
          "name": "stdout",
          "text": [
            "Saving round 5 aggregated_parameters...\n"
          ]
        },
        {
          "output_type": "stream",
          "name": "stderr",
          "text": [
            "INFO flwr 2024-01-15 10:00:11,213 | server.py:125 | fit progress: (5, 460.4258608818054, {'accuracy': 0.1135}, 536.1226952509999)\n",
            "INFO:flwr:fit progress: (5, 460.4258608818054, {'accuracy': 0.1135}, 536.1226952509999)\n",
            "DEBUG flwr 2024-01-15 10:00:11,221 | server.py:173 | evaluate_round 5: strategy sampled 10 clients (out of 33)\n",
            "DEBUG:flwr:evaluate_round 5: strategy sampled 10 clients (out of 33)\n"
          ]
        },
        {
          "output_type": "stream",
          "name": "stdout",
          "text": [
            "GLOBAL TEST\n"
          ]
        },
        {
          "output_type": "stream",
          "name": "stderr",
          "text": [
            "DEBUG flwr 2024-01-15 10:00:13,876 | server.py:187 | evaluate_round 5 received 10 results and 0 failures\n",
            "DEBUG:flwr:evaluate_round 5 received 10 results and 0 failures\n",
            "DEBUG flwr 2024-01-15 10:00:13,879 | server.py:222 | fit_round 6: strategy sampled 10 clients (out of 33)\n",
            "DEBUG:flwr:fit_round 6: strategy sampled 10 clients (out of 33)\n",
            "DEBUG flwr 2024-01-15 10:01:57,466 | server.py:236 | fit_round 6 received 10 results and 0 failures\n",
            "DEBUG:flwr:fit_round 6 received 10 results and 0 failures\n"
          ]
        },
        {
          "output_type": "stream",
          "name": "stdout",
          "text": [
            "Saving round 6 aggregated_parameters...\n"
          ]
        },
        {
          "output_type": "stream",
          "name": "stderr",
          "text": [
            "INFO flwr 2024-01-15 10:02:02,376 | server.py:125 | fit progress: (6, 460.3937141895294, {'accuracy': 0.1135}, 647.2857466059997)\n",
            "INFO:flwr:fit progress: (6, 460.3937141895294, {'accuracy': 0.1135}, 647.2857466059997)\n",
            "DEBUG flwr 2024-01-15 10:02:02,380 | server.py:173 | evaluate_round 6: strategy sampled 10 clients (out of 33)\n",
            "DEBUG:flwr:evaluate_round 6: strategy sampled 10 clients (out of 33)\n"
          ]
        },
        {
          "output_type": "stream",
          "name": "stdout",
          "text": [
            "GLOBAL TEST\n"
          ]
        },
        {
          "output_type": "stream",
          "name": "stderr",
          "text": [
            "DEBUG flwr 2024-01-15 10:02:04,080 | server.py:187 | evaluate_round 6 received 10 results and 0 failures\n",
            "DEBUG:flwr:evaluate_round 6 received 10 results and 0 failures\n",
            "DEBUG flwr 2024-01-15 10:02:04,087 | server.py:222 | fit_round 7: strategy sampled 10 clients (out of 33)\n",
            "DEBUG:flwr:fit_round 7: strategy sampled 10 clients (out of 33)\n",
            "DEBUG flwr 2024-01-15 10:03:48,545 | server.py:236 | fit_round 7 received 10 results and 0 failures\n",
            "DEBUG:flwr:fit_round 7 received 10 results and 0 failures\n"
          ]
        },
        {
          "output_type": "stream",
          "name": "stdout",
          "text": [
            "Saving round 7 aggregated_parameters...\n"
          ]
        },
        {
          "output_type": "stream",
          "name": "stderr",
          "text": [
            "INFO flwr 2024-01-15 10:03:53,748 | server.py:125 | fit progress: (7, 460.33648228645325, {'accuracy': 0.1135}, 758.6577675669998)\n",
            "INFO:flwr:fit progress: (7, 460.33648228645325, {'accuracy': 0.1135}, 758.6577675669998)\n",
            "DEBUG flwr 2024-01-15 10:03:53,753 | server.py:173 | evaluate_round 7: strategy sampled 10 clients (out of 33)\n",
            "DEBUG:flwr:evaluate_round 7: strategy sampled 10 clients (out of 33)\n"
          ]
        },
        {
          "output_type": "stream",
          "name": "stdout",
          "text": [
            "GLOBAL TEST\n"
          ]
        },
        {
          "output_type": "stream",
          "name": "stderr",
          "text": [
            "DEBUG flwr 2024-01-15 10:03:55,460 | server.py:187 | evaluate_round 7 received 10 results and 0 failures\n",
            "DEBUG:flwr:evaluate_round 7 received 10 results and 0 failures\n",
            "DEBUG flwr 2024-01-15 10:03:55,462 | server.py:222 | fit_round 8: strategy sampled 10 clients (out of 33)\n",
            "DEBUG:flwr:fit_round 8: strategy sampled 10 clients (out of 33)\n",
            "DEBUG flwr 2024-01-15 10:05:39,199 | server.py:236 | fit_round 8 received 10 results and 0 failures\n",
            "DEBUG:flwr:fit_round 8 received 10 results and 0 failures\n"
          ]
        },
        {
          "output_type": "stream",
          "name": "stdout",
          "text": [
            "Saving round 8 aggregated_parameters...\n"
          ]
        },
        {
          "output_type": "stream",
          "name": "stderr",
          "text": [
            "INFO flwr 2024-01-15 10:05:45,808 | server.py:125 | fit progress: (8, 460.2142117023468, {'accuracy': 0.1135}, 870.7178456639997)\n",
            "INFO:flwr:fit progress: (8, 460.2142117023468, {'accuracy': 0.1135}, 870.7178456639997)\n",
            "DEBUG flwr 2024-01-15 10:05:45,813 | server.py:173 | evaluate_round 8: strategy sampled 10 clients (out of 33)\n",
            "DEBUG:flwr:evaluate_round 8: strategy sampled 10 clients (out of 33)\n"
          ]
        },
        {
          "output_type": "stream",
          "name": "stdout",
          "text": [
            "GLOBAL TEST\n"
          ]
        },
        {
          "output_type": "stream",
          "name": "stderr",
          "text": [
            "DEBUG flwr 2024-01-15 10:05:47,513 | server.py:187 | evaluate_round 8 received 10 results and 0 failures\n",
            "DEBUG:flwr:evaluate_round 8 received 10 results and 0 failures\n",
            "DEBUG flwr 2024-01-15 10:05:47,516 | server.py:222 | fit_round 9: strategy sampled 10 clients (out of 33)\n",
            "DEBUG:flwr:fit_round 9: strategy sampled 10 clients (out of 33)\n",
            "DEBUG flwr 2024-01-15 10:07:30,004 | server.py:236 | fit_round 9 received 10 results and 0 failures\n",
            "DEBUG:flwr:fit_round 9 received 10 results and 0 failures\n"
          ]
        },
        {
          "output_type": "stream",
          "name": "stdout",
          "text": [
            "Saving round 9 aggregated_parameters...\n"
          ]
        },
        {
          "output_type": "stream",
          "name": "stderr",
          "text": [
            "INFO flwr 2024-01-15 10:07:35,742 | server.py:125 | fit progress: (9, 459.64244771003723, {'accuracy': 0.234}, 980.651838941)\n",
            "INFO:flwr:fit progress: (9, 459.64244771003723, {'accuracy': 0.234}, 980.651838941)\n",
            "DEBUG flwr 2024-01-15 10:07:35,750 | server.py:173 | evaluate_round 9: strategy sampled 10 clients (out of 33)\n",
            "DEBUG:flwr:evaluate_round 9: strategy sampled 10 clients (out of 33)\n"
          ]
        },
        {
          "output_type": "stream",
          "name": "stdout",
          "text": [
            "GLOBAL TEST\n"
          ]
        },
        {
          "output_type": "stream",
          "name": "stderr",
          "text": [
            "DEBUG flwr 2024-01-15 10:07:38,396 | server.py:187 | evaluate_round 9 received 10 results and 0 failures\n",
            "DEBUG:flwr:evaluate_round 9 received 10 results and 0 failures\n",
            "DEBUG flwr 2024-01-15 10:07:38,399 | server.py:222 | fit_round 10: strategy sampled 10 clients (out of 33)\n",
            "DEBUG:flwr:fit_round 10: strategy sampled 10 clients (out of 33)\n",
            "DEBUG flwr 2024-01-15 10:09:21,814 | server.py:236 | fit_round 10 received 10 results and 0 failures\n",
            "DEBUG:flwr:fit_round 10 received 10 results and 0 failures\n"
          ]
        },
        {
          "output_type": "stream",
          "name": "stdout",
          "text": [
            "Saving round 10 aggregated_parameters...\n"
          ]
        },
        {
          "output_type": "stream",
          "name": "stderr",
          "text": [
            "INFO flwr 2024-01-15 10:09:26,803 | server.py:125 | fit progress: (10, 382.6904830932617, {'accuracy': 0.5487}, 1091.7121600089997)\n",
            "INFO:flwr:fit progress: (10, 382.6904830932617, {'accuracy': 0.5487}, 1091.7121600089997)\n",
            "DEBUG flwr 2024-01-15 10:09:26,810 | server.py:173 | evaluate_round 10: strategy sampled 10 clients (out of 33)\n",
            "DEBUG:flwr:evaluate_round 10: strategy sampled 10 clients (out of 33)\n"
          ]
        },
        {
          "output_type": "stream",
          "name": "stdout",
          "text": [
            "GLOBAL TEST\n"
          ]
        },
        {
          "output_type": "stream",
          "name": "stderr",
          "text": [
            "DEBUG flwr 2024-01-15 10:09:28,528 | server.py:187 | evaluate_round 10 received 10 results and 0 failures\n",
            "DEBUG:flwr:evaluate_round 10 received 10 results and 0 failures\n",
            "DEBUG flwr 2024-01-15 10:09:28,532 | server.py:222 | fit_round 11: strategy sampled 10 clients (out of 33)\n",
            "DEBUG:flwr:fit_round 11: strategy sampled 10 clients (out of 33)\n",
            "DEBUG flwr 2024-01-15 10:11:14,007 | server.py:236 | fit_round 11 received 10 results and 0 failures\n",
            "DEBUG:flwr:fit_round 11 received 10 results and 0 failures\n"
          ]
        },
        {
          "output_type": "stream",
          "name": "stdout",
          "text": [
            "Saving round 11 aggregated_parameters...\n"
          ]
        },
        {
          "output_type": "stream",
          "name": "stderr",
          "text": [
            "INFO flwr 2024-01-15 10:11:19,031 | server.py:125 | fit progress: (11, 347.10599505901337, {'accuracy': 0.7267}, 1203.9404698189999)\n",
            "INFO:flwr:fit progress: (11, 347.10599505901337, {'accuracy': 0.7267}, 1203.9404698189999)\n",
            "DEBUG flwr 2024-01-15 10:11:19,035 | server.py:173 | evaluate_round 11: strategy sampled 10 clients (out of 33)\n",
            "DEBUG:flwr:evaluate_round 11: strategy sampled 10 clients (out of 33)\n"
          ]
        },
        {
          "output_type": "stream",
          "name": "stdout",
          "text": [
            "GLOBAL TEST\n"
          ]
        },
        {
          "output_type": "stream",
          "name": "stderr",
          "text": [
            "DEBUG flwr 2024-01-15 10:11:20,780 | server.py:187 | evaluate_round 11 received 10 results and 0 failures\n",
            "DEBUG:flwr:evaluate_round 11 received 10 results and 0 failures\n",
            "DEBUG flwr 2024-01-15 10:11:20,784 | server.py:222 | fit_round 12: strategy sampled 10 clients (out of 33)\n",
            "DEBUG:flwr:fit_round 12: strategy sampled 10 clients (out of 33)\n",
            "DEBUG flwr 2024-01-15 10:13:04,282 | server.py:236 | fit_round 12 received 10 results and 0 failures\n",
            "DEBUG:flwr:fit_round 12 received 10 results and 0 failures\n"
          ]
        },
        {
          "output_type": "stream",
          "name": "stdout",
          "text": [
            "Saving round 12 aggregated_parameters...\n"
          ]
        },
        {
          "output_type": "stream",
          "name": "stderr",
          "text": [
            "INFO flwr 2024-01-15 10:13:10,714 | server.py:125 | fit progress: (12, 325.2550812959671, {'accuracy': 0.8372}, 1315.623770992)\n",
            "INFO:flwr:fit progress: (12, 325.2550812959671, {'accuracy': 0.8372}, 1315.623770992)\n",
            "DEBUG flwr 2024-01-15 10:13:10,718 | server.py:173 | evaluate_round 12: strategy sampled 10 clients (out of 33)\n",
            "DEBUG:flwr:evaluate_round 12: strategy sampled 10 clients (out of 33)\n"
          ]
        },
        {
          "output_type": "stream",
          "name": "stdout",
          "text": [
            "GLOBAL TEST\n"
          ]
        },
        {
          "output_type": "stream",
          "name": "stderr",
          "text": [
            "DEBUG flwr 2024-01-15 10:13:12,395 | server.py:187 | evaluate_round 12 received 10 results and 0 failures\n",
            "DEBUG:flwr:evaluate_round 12 received 10 results and 0 failures\n",
            "DEBUG flwr 2024-01-15 10:13:12,399 | server.py:222 | fit_round 13: strategy sampled 10 clients (out of 33)\n",
            "DEBUG:flwr:fit_round 13: strategy sampled 10 clients (out of 33)\n",
            "DEBUG flwr 2024-01-15 10:14:55,342 | server.py:236 | fit_round 13 received 10 results and 0 failures\n",
            "DEBUG:flwr:fit_round 13 received 10 results and 0 failures\n"
          ]
        },
        {
          "output_type": "stream",
          "name": "stdout",
          "text": [
            "Saving round 13 aggregated_parameters...\n"
          ]
        },
        {
          "output_type": "stream",
          "name": "stderr",
          "text": [
            "INFO flwr 2024-01-15 10:15:01,713 | server.py:125 | fit progress: (13, 321.35113990306854, {'accuracy': 0.8554}, 1426.622397285)\n",
            "INFO:flwr:fit progress: (13, 321.35113990306854, {'accuracy': 0.8554}, 1426.622397285)\n",
            "DEBUG flwr 2024-01-15 10:15:01,722 | server.py:173 | evaluate_round 13: strategy sampled 10 clients (out of 33)\n",
            "DEBUG:flwr:evaluate_round 13: strategy sampled 10 clients (out of 33)\n"
          ]
        },
        {
          "output_type": "stream",
          "name": "stdout",
          "text": [
            "GLOBAL TEST\n"
          ]
        },
        {
          "output_type": "stream",
          "name": "stderr",
          "text": [
            "DEBUG flwr 2024-01-15 10:15:04,092 | server.py:187 | evaluate_round 13 received 10 results and 0 failures\n",
            "DEBUG:flwr:evaluate_round 13 received 10 results and 0 failures\n",
            "DEBUG flwr 2024-01-15 10:15:04,095 | server.py:222 | fit_round 14: strategy sampled 10 clients (out of 33)\n",
            "DEBUG:flwr:fit_round 14: strategy sampled 10 clients (out of 33)\n",
            "DEBUG flwr 2024-01-15 10:16:43,768 | server.py:236 | fit_round 14 received 10 results and 0 failures\n",
            "DEBUG:flwr:fit_round 14 received 10 results and 0 failures\n"
          ]
        },
        {
          "output_type": "stream",
          "name": "stdout",
          "text": [
            "Saving round 14 aggregated_parameters...\n"
          ]
        },
        {
          "output_type": "stream",
          "name": "stderr",
          "text": [
            "INFO flwr 2024-01-15 10:16:48,623 | server.py:125 | fit progress: (14, 320.0004298686981, {'accuracy': 0.8621}, 1533.5319425189998)\n",
            "INFO:flwr:fit progress: (14, 320.0004298686981, {'accuracy': 0.8621}, 1533.5319425189998)\n",
            "DEBUG flwr 2024-01-15 10:16:48,626 | server.py:173 | evaluate_round 14: strategy sampled 10 clients (out of 33)\n",
            "DEBUG:flwr:evaluate_round 14: strategy sampled 10 clients (out of 33)\n"
          ]
        },
        {
          "output_type": "stream",
          "name": "stdout",
          "text": [
            "GLOBAL TEST\n"
          ]
        },
        {
          "output_type": "stream",
          "name": "stderr",
          "text": [
            "DEBUG flwr 2024-01-15 10:16:50,290 | server.py:187 | evaluate_round 14 received 10 results and 0 failures\n",
            "DEBUG:flwr:evaluate_round 14 received 10 results and 0 failures\n",
            "DEBUG flwr 2024-01-15 10:16:50,293 | server.py:222 | fit_round 15: strategy sampled 10 clients (out of 33)\n",
            "DEBUG:flwr:fit_round 15: strategy sampled 10 clients (out of 33)\n",
            "DEBUG flwr 2024-01-15 10:18:32,162 | server.py:236 | fit_round 15 received 10 results and 0 failures\n",
            "DEBUG:flwr:fit_round 15 received 10 results and 0 failures\n"
          ]
        },
        {
          "output_type": "stream",
          "name": "stdout",
          "text": [
            "Saving round 15 aggregated_parameters...\n"
          ]
        },
        {
          "output_type": "stream",
          "name": "stderr",
          "text": [
            "INFO flwr 2024-01-15 10:18:38,050 | server.py:125 | fit progress: (15, 318.35544431209564, {'accuracy': 0.869}, 1642.9598185369998)\n",
            "INFO:flwr:fit progress: (15, 318.35544431209564, {'accuracy': 0.869}, 1642.9598185369998)\n",
            "DEBUG flwr 2024-01-15 10:18:38,057 | server.py:173 | evaluate_round 15: strategy sampled 10 clients (out of 33)\n",
            "DEBUG:flwr:evaluate_round 15: strategy sampled 10 clients (out of 33)\n"
          ]
        },
        {
          "output_type": "stream",
          "name": "stdout",
          "text": [
            "GLOBAL TEST\n"
          ]
        },
        {
          "output_type": "stream",
          "name": "stderr",
          "text": [
            "DEBUG flwr 2024-01-15 10:18:39,672 | server.py:187 | evaluate_round 15 received 10 results and 0 failures\n",
            "DEBUG:flwr:evaluate_round 15 received 10 results and 0 failures\n",
            "DEBUG flwr 2024-01-15 10:18:39,676 | server.py:222 | fit_round 16: strategy sampled 10 clients (out of 33)\n",
            "DEBUG:flwr:fit_round 16: strategy sampled 10 clients (out of 33)\n",
            "DEBUG flwr 2024-01-15 10:20:25,892 | server.py:236 | fit_round 16 received 10 results and 0 failures\n",
            "DEBUG:flwr:fit_round 16 received 10 results and 0 failures\n"
          ]
        },
        {
          "output_type": "stream",
          "name": "stdout",
          "text": [
            "Saving round 16 aggregated_parameters...\n"
          ]
        },
        {
          "output_type": "stream",
          "name": "stderr",
          "text": [
            "INFO flwr 2024-01-15 10:20:31,943 | server.py:125 | fit progress: (16, 317.5749658346176, {'accuracy': 0.8735}, 1756.8526398749998)\n",
            "INFO:flwr:fit progress: (16, 317.5749658346176, {'accuracy': 0.8735}, 1756.8526398749998)\n",
            "DEBUG flwr 2024-01-15 10:20:31,948 | server.py:173 | evaluate_round 16: strategy sampled 10 clients (out of 33)\n",
            "DEBUG:flwr:evaluate_round 16: strategy sampled 10 clients (out of 33)\n"
          ]
        },
        {
          "output_type": "stream",
          "name": "stdout",
          "text": [
            "GLOBAL TEST\n"
          ]
        },
        {
          "output_type": "stream",
          "name": "stderr",
          "text": [
            "DEBUG flwr 2024-01-15 10:20:33,582 | server.py:187 | evaluate_round 16 received 10 results and 0 failures\n",
            "DEBUG:flwr:evaluate_round 16 received 10 results and 0 failures\n",
            "DEBUG flwr 2024-01-15 10:20:33,587 | server.py:222 | fit_round 17: strategy sampled 10 clients (out of 33)\n",
            "DEBUG:flwr:fit_round 17: strategy sampled 10 clients (out of 33)\n",
            "DEBUG flwr 2024-01-15 10:22:13,338 | server.py:236 | fit_round 17 received 10 results and 0 failures\n",
            "DEBUG:flwr:fit_round 17 received 10 results and 0 failures\n"
          ]
        },
        {
          "output_type": "stream",
          "name": "stdout",
          "text": [
            "Saving round 17 aggregated_parameters...\n"
          ]
        },
        {
          "output_type": "stream",
          "name": "stderr",
          "text": [
            "INFO flwr 2024-01-15 10:22:18,531 | server.py:125 | fit progress: (17, 316.93826508522034, {'accuracy': 0.8761}, 1863.4401505059998)\n",
            "INFO:flwr:fit progress: (17, 316.93826508522034, {'accuracy': 0.8761}, 1863.4401505059998)\n",
            "DEBUG flwr 2024-01-15 10:22:18,539 | server.py:173 | evaluate_round 17: strategy sampled 10 clients (out of 33)\n",
            "DEBUG:flwr:evaluate_round 17: strategy sampled 10 clients (out of 33)\n"
          ]
        },
        {
          "output_type": "stream",
          "name": "stdout",
          "text": [
            "GLOBAL TEST\n"
          ]
        },
        {
          "output_type": "stream",
          "name": "stderr",
          "text": [
            "DEBUG flwr 2024-01-15 10:22:21,005 | server.py:187 | evaluate_round 17 received 10 results and 0 failures\n",
            "DEBUG:flwr:evaluate_round 17 received 10 results and 0 failures\n",
            "DEBUG flwr 2024-01-15 10:22:21,009 | server.py:222 | fit_round 18: strategy sampled 10 clients (out of 33)\n",
            "DEBUG:flwr:fit_round 18: strategy sampled 10 clients (out of 33)\n",
            "DEBUG flwr 2024-01-15 10:24:02,425 | server.py:236 | fit_round 18 received 10 results and 0 failures\n",
            "DEBUG:flwr:fit_round 18 received 10 results and 0 failures\n"
          ]
        },
        {
          "output_type": "stream",
          "name": "stdout",
          "text": [
            "Saving round 18 aggregated_parameters...\n"
          ]
        },
        {
          "output_type": "stream",
          "name": "stderr",
          "text": [
            "INFO flwr 2024-01-15 10:24:07,355 | server.py:125 | fit progress: (18, 316.60908901691437, {'accuracy': 0.8778}, 1972.2646809139999)\n",
            "INFO:flwr:fit progress: (18, 316.60908901691437, {'accuracy': 0.8778}, 1972.2646809139999)\n",
            "DEBUG flwr 2024-01-15 10:24:07,359 | server.py:173 | evaluate_round 18: strategy sampled 10 clients (out of 33)\n",
            "DEBUG:flwr:evaluate_round 18: strategy sampled 10 clients (out of 33)\n"
          ]
        },
        {
          "output_type": "stream",
          "name": "stdout",
          "text": [
            "GLOBAL TEST\n"
          ]
        },
        {
          "output_type": "stream",
          "name": "stderr",
          "text": [
            "DEBUG flwr 2024-01-15 10:24:09,038 | server.py:187 | evaluate_round 18 received 10 results and 0 failures\n",
            "DEBUG:flwr:evaluate_round 18 received 10 results and 0 failures\n",
            "DEBUG flwr 2024-01-15 10:24:09,042 | server.py:222 | fit_round 19: strategy sampled 10 clients (out of 33)\n",
            "DEBUG:flwr:fit_round 19: strategy sampled 10 clients (out of 33)\n",
            "DEBUG flwr 2024-01-15 10:25:52,011 | server.py:236 | fit_round 19 received 10 results and 0 failures\n",
            "DEBUG:flwr:fit_round 19 received 10 results and 0 failures\n"
          ]
        },
        {
          "output_type": "stream",
          "name": "stdout",
          "text": [
            "Saving round 19 aggregated_parameters...\n"
          ]
        },
        {
          "output_type": "stream",
          "name": "stderr",
          "text": [
            "INFO flwr 2024-01-15 10:25:58,512 | server.py:125 | fit progress: (19, 316.7972526550293, {'accuracy': 0.8774}, 2083.4209844730003)\n",
            "INFO:flwr:fit progress: (19, 316.7972526550293, {'accuracy': 0.8774}, 2083.4209844730003)\n",
            "DEBUG flwr 2024-01-15 10:25:58,515 | server.py:173 | evaluate_round 19: strategy sampled 10 clients (out of 33)\n",
            "DEBUG:flwr:evaluate_round 19: strategy sampled 10 clients (out of 33)\n"
          ]
        },
        {
          "output_type": "stream",
          "name": "stdout",
          "text": [
            "GLOBAL TEST\n"
          ]
        },
        {
          "output_type": "stream",
          "name": "stderr",
          "text": [
            "DEBUG flwr 2024-01-15 10:26:00,204 | server.py:187 | evaluate_round 19 received 10 results and 0 failures\n",
            "DEBUG:flwr:evaluate_round 19 received 10 results and 0 failures\n",
            "DEBUG flwr 2024-01-15 10:26:00,208 | server.py:222 | fit_round 20: strategy sampled 10 clients (out of 33)\n",
            "DEBUG:flwr:fit_round 20: strategy sampled 10 clients (out of 33)\n",
            "DEBUG flwr 2024-01-15 10:27:42,721 | server.py:236 | fit_round 20 received 10 results and 0 failures\n",
            "DEBUG:flwr:fit_round 20 received 10 results and 0 failures\n"
          ]
        },
        {
          "output_type": "stream",
          "name": "stdout",
          "text": [
            "Saving round 20 aggregated_parameters...\n"
          ]
        },
        {
          "output_type": "stream",
          "name": "stderr",
          "text": [
            "INFO flwr 2024-01-15 10:27:48,598 | server.py:125 | fit progress: (20, 315.5231726169586, {'accuracy': 0.8838}, 2193.507490487)\n",
            "INFO:flwr:fit progress: (20, 315.5231726169586, {'accuracy': 0.8838}, 2193.507490487)\n",
            "DEBUG flwr 2024-01-15 10:27:48,602 | server.py:173 | evaluate_round 20: strategy sampled 10 clients (out of 33)\n",
            "DEBUG:flwr:evaluate_round 20: strategy sampled 10 clients (out of 33)\n"
          ]
        },
        {
          "output_type": "stream",
          "name": "stdout",
          "text": [
            "GLOBAL TEST\n"
          ]
        },
        {
          "output_type": "stream",
          "name": "stderr",
          "text": [
            "DEBUG flwr 2024-01-15 10:27:51,033 | server.py:187 | evaluate_round 20 received 10 results and 0 failures\n",
            "DEBUG:flwr:evaluate_round 20 received 10 results and 0 failures\n",
            "DEBUG flwr 2024-01-15 10:27:51,038 | server.py:222 | fit_round 21: strategy sampled 10 clients (out of 33)\n",
            "DEBUG:flwr:fit_round 21: strategy sampled 10 clients (out of 33)\n",
            "DEBUG flwr 2024-01-15 10:29:30,797 | server.py:236 | fit_round 21 received 10 results and 0 failures\n",
            "DEBUG:flwr:fit_round 21 received 10 results and 0 failures\n"
          ]
        },
        {
          "output_type": "stream",
          "name": "stdout",
          "text": [
            "Saving round 21 aggregated_parameters...\n"
          ]
        },
        {
          "output_type": "stream",
          "name": "stderr",
          "text": [
            "INFO flwr 2024-01-15 10:29:35,627 | server.py:125 | fit progress: (21, 315.58330714702606, {'accuracy': 0.8829}, 2300.5364468850003)\n",
            "INFO:flwr:fit progress: (21, 315.58330714702606, {'accuracy': 0.8829}, 2300.5364468850003)\n",
            "DEBUG flwr 2024-01-15 10:29:35,630 | server.py:173 | evaluate_round 21: strategy sampled 10 clients (out of 33)\n",
            "DEBUG:flwr:evaluate_round 21: strategy sampled 10 clients (out of 33)\n"
          ]
        },
        {
          "output_type": "stream",
          "name": "stdout",
          "text": [
            "GLOBAL TEST\n"
          ]
        },
        {
          "output_type": "stream",
          "name": "stderr",
          "text": [
            "DEBUG flwr 2024-01-15 10:29:37,298 | server.py:187 | evaluate_round 21 received 10 results and 0 failures\n",
            "DEBUG:flwr:evaluate_round 21 received 10 results and 0 failures\n",
            "DEBUG flwr 2024-01-15 10:29:37,303 | server.py:222 | fit_round 22: strategy sampled 10 clients (out of 33)\n",
            "DEBUG:flwr:fit_round 22: strategy sampled 10 clients (out of 33)\n",
            "DEBUG flwr 2024-01-15 10:31:17,658 | server.py:236 | fit_round 22 received 10 results and 0 failures\n",
            "DEBUG:flwr:fit_round 22 received 10 results and 0 failures\n"
          ]
        },
        {
          "output_type": "stream",
          "name": "stdout",
          "text": [
            "Saving round 22 aggregated_parameters...\n"
          ]
        },
        {
          "output_type": "stream",
          "name": "stderr",
          "text": [
            "INFO flwr 2024-01-15 10:31:24,027 | server.py:125 | fit progress: (22, 315.5589210987091, {'accuracy': 0.8832}, 2408.9366322329997)\n",
            "INFO:flwr:fit progress: (22, 315.5589210987091, {'accuracy': 0.8832}, 2408.9366322329997)\n",
            "DEBUG flwr 2024-01-15 10:31:24,033 | server.py:173 | evaluate_round 22: strategy sampled 10 clients (out of 33)\n",
            "DEBUG:flwr:evaluate_round 22: strategy sampled 10 clients (out of 33)\n"
          ]
        },
        {
          "output_type": "stream",
          "name": "stdout",
          "text": [
            "GLOBAL TEST\n"
          ]
        },
        {
          "output_type": "stream",
          "name": "stderr",
          "text": [
            "DEBUG flwr 2024-01-15 10:31:25,646 | server.py:187 | evaluate_round 22 received 10 results and 0 failures\n",
            "DEBUG:flwr:evaluate_round 22 received 10 results and 0 failures\n",
            "DEBUG flwr 2024-01-15 10:31:25,650 | server.py:222 | fit_round 23: strategy sampled 10 clients (out of 33)\n",
            "DEBUG:flwr:fit_round 23: strategy sampled 10 clients (out of 33)\n",
            "DEBUG flwr 2024-01-15 10:33:05,329 | server.py:236 | fit_round 23 received 10 results and 0 failures\n",
            "DEBUG:flwr:fit_round 23 received 10 results and 0 failures\n"
          ]
        },
        {
          "output_type": "stream",
          "name": "stdout",
          "text": [
            "Saving round 23 aggregated_parameters...\n"
          ]
        },
        {
          "output_type": "stream",
          "name": "stderr",
          "text": [
            "INFO flwr 2024-01-15 10:33:10,188 | server.py:125 | fit progress: (23, 314.89225828647614, {'accuracy': 0.8875}, 2515.097363756)\n",
            "INFO:flwr:fit progress: (23, 314.89225828647614, {'accuracy': 0.8875}, 2515.097363756)\n",
            "DEBUG flwr 2024-01-15 10:33:10,192 | server.py:173 | evaluate_round 23: strategy sampled 10 clients (out of 33)\n",
            "DEBUG:flwr:evaluate_round 23: strategy sampled 10 clients (out of 33)\n"
          ]
        },
        {
          "output_type": "stream",
          "name": "stdout",
          "text": [
            "GLOBAL TEST\n"
          ]
        },
        {
          "output_type": "stream",
          "name": "stderr",
          "text": [
            "DEBUG flwr 2024-01-15 10:33:12,645 | server.py:187 | evaluate_round 23 received 10 results and 0 failures\n",
            "DEBUG:flwr:evaluate_round 23 received 10 results and 0 failures\n",
            "DEBUG flwr 2024-01-15 10:33:12,648 | server.py:222 | fit_round 24: strategy sampled 10 clients (out of 33)\n",
            "DEBUG:flwr:fit_round 24: strategy sampled 10 clients (out of 33)\n",
            "DEBUG flwr 2024-01-15 10:34:51,973 | server.py:236 | fit_round 24 received 10 results and 0 failures\n",
            "DEBUG:flwr:fit_round 24 received 10 results and 0 failures\n"
          ]
        },
        {
          "output_type": "stream",
          "name": "stdout",
          "text": [
            "Saving round 24 aggregated_parameters...\n"
          ]
        },
        {
          "output_type": "stream",
          "name": "stderr",
          "text": [
            "INFO flwr 2024-01-15 10:34:57,244 | server.py:125 | fit progress: (24, 314.41873955726624, {'accuracy': 0.8892}, 2622.153345216)\n",
            "INFO:flwr:fit progress: (24, 314.41873955726624, {'accuracy': 0.8892}, 2622.153345216)\n",
            "DEBUG flwr 2024-01-15 10:34:57,252 | server.py:173 | evaluate_round 24: strategy sampled 10 clients (out of 33)\n",
            "DEBUG:flwr:evaluate_round 24: strategy sampled 10 clients (out of 33)\n"
          ]
        },
        {
          "output_type": "stream",
          "name": "stdout",
          "text": [
            "GLOBAL TEST\n"
          ]
        },
        {
          "output_type": "stream",
          "name": "stderr",
          "text": [
            "DEBUG flwr 2024-01-15 10:34:58,878 | server.py:187 | evaluate_round 24 received 10 results and 0 failures\n",
            "DEBUG:flwr:evaluate_round 24 received 10 results and 0 failures\n",
            "DEBUG flwr 2024-01-15 10:34:58,882 | server.py:222 | fit_round 25: strategy sampled 10 clients (out of 33)\n",
            "DEBUG:flwr:fit_round 25: strategy sampled 10 clients (out of 33)\n",
            "DEBUG flwr 2024-01-15 10:36:36,965 | server.py:236 | fit_round 25 received 10 results and 0 failures\n",
            "DEBUG:flwr:fit_round 25 received 10 results and 0 failures\n"
          ]
        },
        {
          "output_type": "stream",
          "name": "stdout",
          "text": [
            "Saving round 25 aggregated_parameters...\n"
          ]
        },
        {
          "output_type": "stream",
          "name": "stderr",
          "text": [
            "INFO flwr 2024-01-15 10:36:42,358 | server.py:125 | fit progress: (25, 314.62404000759125, {'accuracy': 0.8874}, 2727.2673169399995)\n",
            "INFO:flwr:fit progress: (25, 314.62404000759125, {'accuracy': 0.8874}, 2727.2673169399995)\n",
            "DEBUG flwr 2024-01-15 10:36:42,362 | server.py:173 | evaluate_round 25: strategy sampled 10 clients (out of 33)\n",
            "DEBUG:flwr:evaluate_round 25: strategy sampled 10 clients (out of 33)\n"
          ]
        },
        {
          "output_type": "stream",
          "name": "stdout",
          "text": [
            "GLOBAL TEST\n"
          ]
        },
        {
          "output_type": "stream",
          "name": "stderr",
          "text": [
            "DEBUG flwr 2024-01-15 10:36:44,758 | server.py:187 | evaluate_round 25 received 10 results and 0 failures\n",
            "DEBUG:flwr:evaluate_round 25 received 10 results and 0 failures\n",
            "DEBUG flwr 2024-01-15 10:36:44,768 | server.py:222 | fit_round 26: strategy sampled 10 clients (out of 33)\n",
            "DEBUG:flwr:fit_round 26: strategy sampled 10 clients (out of 33)\n",
            "DEBUG flwr 2024-01-15 10:38:22,764 | server.py:236 | fit_round 26 received 10 results and 0 failures\n",
            "DEBUG:flwr:fit_round 26 received 10 results and 0 failures\n"
          ]
        },
        {
          "output_type": "stream",
          "name": "stdout",
          "text": [
            "Saving round 26 aggregated_parameters...\n"
          ]
        },
        {
          "output_type": "stream",
          "name": "stderr",
          "text": [
            "INFO flwr 2024-01-15 10:38:27,632 | server.py:125 | fit progress: (26, 314.12359166145325, {'accuracy': 0.8905}, 2832.541434514)\n",
            "INFO:flwr:fit progress: (26, 314.12359166145325, {'accuracy': 0.8905}, 2832.541434514)\n",
            "DEBUG flwr 2024-01-15 10:38:27,635 | server.py:173 | evaluate_round 26: strategy sampled 10 clients (out of 33)\n",
            "DEBUG:flwr:evaluate_round 26: strategy sampled 10 clients (out of 33)\n"
          ]
        },
        {
          "output_type": "stream",
          "name": "stdout",
          "text": [
            "GLOBAL TEST\n"
          ]
        },
        {
          "output_type": "stream",
          "name": "stderr",
          "text": [
            "DEBUG flwr 2024-01-15 10:38:29,268 | server.py:187 | evaluate_round 26 received 10 results and 0 failures\n",
            "DEBUG:flwr:evaluate_round 26 received 10 results and 0 failures\n",
            "DEBUG flwr 2024-01-15 10:38:29,270 | server.py:222 | fit_round 27: strategy sampled 10 clients (out of 33)\n",
            "DEBUG:flwr:fit_round 27: strategy sampled 10 clients (out of 33)\n",
            "DEBUG flwr 2024-01-15 10:40:07,376 | server.py:236 | fit_round 27 received 10 results and 0 failures\n",
            "DEBUG:flwr:fit_round 27 received 10 results and 0 failures\n"
          ]
        },
        {
          "output_type": "stream",
          "name": "stdout",
          "text": [
            "Saving round 27 aggregated_parameters...\n"
          ]
        },
        {
          "output_type": "stream",
          "name": "stderr",
          "text": [
            "INFO flwr 2024-01-15 10:40:13,048 | server.py:125 | fit progress: (27, 314.1280207633972, {'accuracy': 0.8906}, 2937.957675056)\n",
            "INFO:flwr:fit progress: (27, 314.1280207633972, {'accuracy': 0.8906}, 2937.957675056)\n",
            "DEBUG flwr 2024-01-15 10:40:13,056 | server.py:173 | evaluate_round 27: strategy sampled 10 clients (out of 33)\n",
            "DEBUG:flwr:evaluate_round 27: strategy sampled 10 clients (out of 33)\n"
          ]
        },
        {
          "output_type": "stream",
          "name": "stdout",
          "text": [
            "GLOBAL TEST\n"
          ]
        },
        {
          "output_type": "stream",
          "name": "stderr",
          "text": [
            "DEBUG flwr 2024-01-15 10:40:15,471 | server.py:187 | evaluate_round 27 received 10 results and 0 failures\n",
            "DEBUG:flwr:evaluate_round 27 received 10 results and 0 failures\n",
            "DEBUG flwr 2024-01-15 10:40:15,479 | server.py:222 | fit_round 28: strategy sampled 10 clients (out of 33)\n",
            "DEBUG:flwr:fit_round 28: strategy sampled 10 clients (out of 33)\n",
            "DEBUG flwr 2024-01-15 10:41:53,942 | server.py:236 | fit_round 28 received 10 results and 0 failures\n",
            "DEBUG:flwr:fit_round 28 received 10 results and 0 failures\n"
          ]
        },
        {
          "output_type": "stream",
          "name": "stdout",
          "text": [
            "Saving round 28 aggregated_parameters...\n"
          ]
        },
        {
          "output_type": "stream",
          "name": "stderr",
          "text": [
            "INFO flwr 2024-01-15 10:41:58,698 | server.py:125 | fit progress: (28, 313.92414379119873, {'accuracy': 0.8914}, 3043.6075896209995)\n",
            "INFO:flwr:fit progress: (28, 313.92414379119873, {'accuracy': 0.8914}, 3043.6075896209995)\n",
            "DEBUG flwr 2024-01-15 10:41:58,702 | server.py:173 | evaluate_round 28: strategy sampled 10 clients (out of 33)\n",
            "DEBUG:flwr:evaluate_round 28: strategy sampled 10 clients (out of 33)\n"
          ]
        },
        {
          "output_type": "stream",
          "name": "stdout",
          "text": [
            "GLOBAL TEST\n"
          ]
        },
        {
          "output_type": "stream",
          "name": "stderr",
          "text": [
            "DEBUG flwr 2024-01-15 10:42:00,312 | server.py:187 | evaluate_round 28 received 10 results and 0 failures\n",
            "DEBUG:flwr:evaluate_round 28 received 10 results and 0 failures\n",
            "DEBUG flwr 2024-01-15 10:42:00,314 | server.py:222 | fit_round 29: strategy sampled 10 clients (out of 33)\n",
            "DEBUG:flwr:fit_round 29: strategy sampled 10 clients (out of 33)\n",
            "DEBUG flwr 2024-01-15 10:43:39,649 | server.py:236 | fit_round 29 received 10 results and 0 failures\n",
            "DEBUG:flwr:fit_round 29 received 10 results and 0 failures\n"
          ]
        },
        {
          "output_type": "stream",
          "name": "stdout",
          "text": [
            "Saving round 29 aggregated_parameters...\n"
          ]
        },
        {
          "output_type": "stream",
          "name": "stderr",
          "text": [
            "INFO flwr 2024-01-15 10:43:46,517 | server.py:125 | fit progress: (29, 313.69467544555664, {'accuracy': 0.8925}, 3151.426234652)\n",
            "INFO:flwr:fit progress: (29, 313.69467544555664, {'accuracy': 0.8925}, 3151.426234652)\n",
            "DEBUG flwr 2024-01-15 10:43:46,521 | server.py:173 | evaluate_round 29: strategy sampled 10 clients (out of 33)\n",
            "DEBUG:flwr:evaluate_round 29: strategy sampled 10 clients (out of 33)\n"
          ]
        },
        {
          "output_type": "stream",
          "name": "stdout",
          "text": [
            "GLOBAL TEST\n"
          ]
        },
        {
          "output_type": "stream",
          "name": "stderr",
          "text": [
            "DEBUG flwr 2024-01-15 10:43:48,453 | server.py:187 | evaluate_round 29 received 10 results and 0 failures\n",
            "DEBUG:flwr:evaluate_round 29 received 10 results and 0 failures\n",
            "DEBUG flwr 2024-01-15 10:43:48,460 | server.py:222 | fit_round 30: strategy sampled 10 clients (out of 33)\n",
            "DEBUG:flwr:fit_round 30: strategy sampled 10 clients (out of 33)\n",
            "DEBUG flwr 2024-01-15 10:45:31,304 | server.py:236 | fit_round 30 received 10 results and 0 failures\n",
            "DEBUG:flwr:fit_round 30 received 10 results and 0 failures\n"
          ]
        },
        {
          "output_type": "stream",
          "name": "stdout",
          "text": [
            "Saving round 30 aggregated_parameters...\n"
          ]
        },
        {
          "output_type": "stream",
          "name": "stderr",
          "text": [
            "INFO flwr 2024-01-15 10:45:36,565 | server.py:125 | fit progress: (30, 313.5589187145233, {'accuracy': 0.8937}, 3261.4743738629995)\n",
            "INFO:flwr:fit progress: (30, 313.5589187145233, {'accuracy': 0.8937}, 3261.4743738629995)\n",
            "DEBUG flwr 2024-01-15 10:45:36,574 | server.py:173 | evaluate_round 30: strategy sampled 10 clients (out of 33)\n",
            "DEBUG:flwr:evaluate_round 30: strategy sampled 10 clients (out of 33)\n"
          ]
        },
        {
          "output_type": "stream",
          "name": "stdout",
          "text": [
            "GLOBAL TEST\n"
          ]
        },
        {
          "output_type": "stream",
          "name": "stderr",
          "text": [
            "DEBUG flwr 2024-01-15 10:45:39,110 | server.py:187 | evaluate_round 30 received 10 results and 0 failures\n",
            "DEBUG:flwr:evaluate_round 30 received 10 results and 0 failures\n",
            "DEBUG flwr 2024-01-15 10:45:39,117 | server.py:222 | fit_round 31: strategy sampled 10 clients (out of 33)\n",
            "DEBUG:flwr:fit_round 31: strategy sampled 10 clients (out of 33)\n",
            "DEBUG flwr 2024-01-15 10:47:23,965 | server.py:236 | fit_round 31 received 10 results and 0 failures\n",
            "DEBUG:flwr:fit_round 31 received 10 results and 0 failures\n"
          ]
        },
        {
          "output_type": "stream",
          "name": "stdout",
          "text": [
            "Saving round 31 aggregated_parameters...\n"
          ]
        },
        {
          "output_type": "stream",
          "name": "stderr",
          "text": [
            "INFO flwr 2024-01-15 10:47:28,979 | server.py:125 | fit progress: (31, 313.4827412366867, {'accuracy': 0.8935}, 3373.8882262419993)\n",
            "INFO:flwr:fit progress: (31, 313.4827412366867, {'accuracy': 0.8935}, 3373.8882262419993)\n",
            "DEBUG flwr 2024-01-15 10:47:28,982 | server.py:173 | evaluate_round 31: strategy sampled 10 clients (out of 33)\n",
            "DEBUG:flwr:evaluate_round 31: strategy sampled 10 clients (out of 33)\n"
          ]
        },
        {
          "output_type": "stream",
          "name": "stdout",
          "text": [
            "GLOBAL TEST\n"
          ]
        },
        {
          "output_type": "stream",
          "name": "stderr",
          "text": [
            "DEBUG flwr 2024-01-15 10:47:30,669 | server.py:187 | evaluate_round 31 received 10 results and 0 failures\n",
            "DEBUG:flwr:evaluate_round 31 received 10 results and 0 failures\n",
            "DEBUG flwr 2024-01-15 10:47:30,674 | server.py:222 | fit_round 32: strategy sampled 10 clients (out of 33)\n",
            "DEBUG:flwr:fit_round 32: strategy sampled 10 clients (out of 33)\n",
            "DEBUG flwr 2024-01-15 10:49:15,346 | server.py:236 | fit_round 32 received 10 results and 0 failures\n",
            "DEBUG:flwr:fit_round 32 received 10 results and 0 failures\n"
          ]
        },
        {
          "output_type": "stream",
          "name": "stdout",
          "text": [
            "Saving round 32 aggregated_parameters...\n"
          ]
        },
        {
          "output_type": "stream",
          "name": "stderr",
          "text": [
            "INFO flwr 2024-01-15 10:49:20,641 | server.py:125 | fit progress: (32, 313.21936213970184, {'accuracy': 0.8944}, 3485.550536713)\n",
            "INFO:flwr:fit progress: (32, 313.21936213970184, {'accuracy': 0.8944}, 3485.550536713)\n",
            "DEBUG flwr 2024-01-15 10:49:20,645 | server.py:173 | evaluate_round 32: strategy sampled 10 clients (out of 33)\n",
            "DEBUG:flwr:evaluate_round 32: strategy sampled 10 clients (out of 33)\n"
          ]
        },
        {
          "output_type": "stream",
          "name": "stdout",
          "text": [
            "GLOBAL TEST\n"
          ]
        },
        {
          "output_type": "stream",
          "name": "stderr",
          "text": [
            "DEBUG flwr 2024-01-15 10:49:22,392 | server.py:187 | evaluate_round 32 received 10 results and 0 failures\n",
            "DEBUG:flwr:evaluate_round 32 received 10 results and 0 failures\n",
            "DEBUG flwr 2024-01-15 10:49:22,395 | server.py:222 | fit_round 33: strategy sampled 10 clients (out of 33)\n",
            "DEBUG:flwr:fit_round 33: strategy sampled 10 clients (out of 33)\n",
            "DEBUG flwr 2024-01-15 10:51:08,178 | server.py:236 | fit_round 33 received 10 results and 0 failures\n",
            "DEBUG:flwr:fit_round 33 received 10 results and 0 failures\n"
          ]
        },
        {
          "output_type": "stream",
          "name": "stdout",
          "text": [
            "Saving round 33 aggregated_parameters...\n"
          ]
        },
        {
          "output_type": "stream",
          "name": "stderr",
          "text": [
            "INFO flwr 2024-01-15 10:51:14,102 | server.py:125 | fit progress: (33, 313.2861582040787, {'accuracy': 0.8952}, 3599.0118908449995)\n",
            "INFO:flwr:fit progress: (33, 313.2861582040787, {'accuracy': 0.8952}, 3599.0118908449995)\n",
            "DEBUG flwr 2024-01-15 10:51:14,106 | server.py:173 | evaluate_round 33: strategy sampled 10 clients (out of 33)\n",
            "DEBUG:flwr:evaluate_round 33: strategy sampled 10 clients (out of 33)\n"
          ]
        },
        {
          "output_type": "stream",
          "name": "stdout",
          "text": [
            "GLOBAL TEST\n"
          ]
        },
        {
          "output_type": "stream",
          "name": "stderr",
          "text": [
            "DEBUG flwr 2024-01-15 10:51:15,778 | server.py:187 | evaluate_round 33 received 10 results and 0 failures\n",
            "DEBUG:flwr:evaluate_round 33 received 10 results and 0 failures\n",
            "DEBUG flwr 2024-01-15 10:51:15,781 | server.py:222 | fit_round 34: strategy sampled 10 clients (out of 33)\n",
            "DEBUG:flwr:fit_round 34: strategy sampled 10 clients (out of 33)\n",
            "DEBUG flwr 2024-01-15 10:52:55,714 | server.py:236 | fit_round 34 received 10 results and 0 failures\n",
            "DEBUG:flwr:fit_round 34 received 10 results and 0 failures\n"
          ]
        },
        {
          "output_type": "stream",
          "name": "stdout",
          "text": [
            "Saving round 34 aggregated_parameters...\n"
          ]
        },
        {
          "output_type": "stream",
          "name": "stderr",
          "text": [
            "INFO flwr 2024-01-15 10:53:01,245 | server.py:125 | fit progress: (34, 313.22100353240967, {'accuracy': 0.8947}, 3706.1544423019996)\n",
            "INFO:flwr:fit progress: (34, 313.22100353240967, {'accuracy': 0.8947}, 3706.1544423019996)\n",
            "DEBUG flwr 2024-01-15 10:53:01,253 | server.py:173 | evaluate_round 34: strategy sampled 10 clients (out of 33)\n",
            "DEBUG:flwr:evaluate_round 34: strategy sampled 10 clients (out of 33)\n"
          ]
        },
        {
          "output_type": "stream",
          "name": "stdout",
          "text": [
            "GLOBAL TEST\n"
          ]
        },
        {
          "output_type": "stream",
          "name": "stderr",
          "text": [
            "DEBUG flwr 2024-01-15 10:53:03,710 | server.py:187 | evaluate_round 34 received 10 results and 0 failures\n",
            "DEBUG:flwr:evaluate_round 34 received 10 results and 0 failures\n",
            "DEBUG flwr 2024-01-15 10:53:03,714 | server.py:222 | fit_round 35: strategy sampled 10 clients (out of 33)\n",
            "DEBUG:flwr:fit_round 35: strategy sampled 10 clients (out of 33)\n",
            "DEBUG flwr 2024-01-15 10:54:43,104 | server.py:236 | fit_round 35 received 10 results and 0 failures\n",
            "DEBUG:flwr:fit_round 35 received 10 results and 0 failures\n"
          ]
        },
        {
          "output_type": "stream",
          "name": "stdout",
          "text": [
            "Saving round 35 aggregated_parameters...\n"
          ]
        },
        {
          "output_type": "stream",
          "name": "stderr",
          "text": [
            "INFO flwr 2024-01-15 10:54:47,949 | server.py:125 | fit progress: (35, 313.14687740802765, {'accuracy': 0.8948}, 3812.858267179)\n",
            "INFO:flwr:fit progress: (35, 313.14687740802765, {'accuracy': 0.8948}, 3812.858267179)\n",
            "DEBUG flwr 2024-01-15 10:54:47,953 | server.py:173 | evaluate_round 35: strategy sampled 10 clients (out of 33)\n",
            "DEBUG:flwr:evaluate_round 35: strategy sampled 10 clients (out of 33)\n"
          ]
        },
        {
          "output_type": "stream",
          "name": "stdout",
          "text": [
            "GLOBAL TEST\n"
          ]
        },
        {
          "output_type": "stream",
          "name": "stderr",
          "text": [
            "DEBUG flwr 2024-01-15 10:54:49,604 | server.py:187 | evaluate_round 35 received 10 results and 0 failures\n",
            "DEBUG:flwr:evaluate_round 35 received 10 results and 0 failures\n",
            "DEBUG flwr 2024-01-15 10:54:49,612 | server.py:222 | fit_round 36: strategy sampled 10 clients (out of 33)\n",
            "DEBUG:flwr:fit_round 36: strategy sampled 10 clients (out of 33)\n",
            "DEBUG flwr 2024-01-15 10:56:28,614 | server.py:236 | fit_round 36 received 10 results and 0 failures\n",
            "DEBUG:flwr:fit_round 36 received 10 results and 0 failures\n"
          ]
        },
        {
          "output_type": "stream",
          "name": "stdout",
          "text": [
            "Saving round 36 aggregated_parameters...\n"
          ]
        },
        {
          "output_type": "stream",
          "name": "stderr",
          "text": [
            "INFO flwr 2024-01-15 10:56:34,961 | server.py:125 | fit progress: (36, 312.99588572978973, {'accuracy': 0.8958}, 3919.8702523499996)\n",
            "INFO:flwr:fit progress: (36, 312.99588572978973, {'accuracy': 0.8958}, 3919.8702523499996)\n",
            "DEBUG flwr 2024-01-15 10:56:34,965 | server.py:173 | evaluate_round 36: strategy sampled 10 clients (out of 33)\n",
            "DEBUG:flwr:evaluate_round 36: strategy sampled 10 clients (out of 33)\n"
          ]
        },
        {
          "output_type": "stream",
          "name": "stdout",
          "text": [
            "GLOBAL TEST\n"
          ]
        },
        {
          "output_type": "stream",
          "name": "stderr",
          "text": [
            "DEBUG flwr 2024-01-15 10:56:36,871 | server.py:187 | evaluate_round 36 received 10 results and 0 failures\n",
            "DEBUG:flwr:evaluate_round 36 received 10 results and 0 failures\n",
            "DEBUG flwr 2024-01-15 10:56:36,876 | server.py:222 | fit_round 37: strategy sampled 10 clients (out of 33)\n",
            "DEBUG:flwr:fit_round 37: strategy sampled 10 clients (out of 33)\n",
            "DEBUG flwr 2024-01-15 10:58:18,810 | server.py:236 | fit_round 37 received 10 results and 0 failures\n",
            "DEBUG:flwr:fit_round 37 received 10 results and 0 failures\n"
          ]
        },
        {
          "output_type": "stream",
          "name": "stdout",
          "text": [
            "Saving round 37 aggregated_parameters...\n"
          ]
        },
        {
          "output_type": "stream",
          "name": "stderr",
          "text": [
            "INFO flwr 2024-01-15 10:58:23,856 | server.py:125 | fit progress: (37, 312.9749141931534, {'accuracy': 0.8957}, 4028.765109068)\n",
            "INFO:flwr:fit progress: (37, 312.9749141931534, {'accuracy': 0.8957}, 4028.765109068)\n",
            "DEBUG flwr 2024-01-15 10:58:23,861 | server.py:173 | evaluate_round 37: strategy sampled 10 clients (out of 33)\n",
            "DEBUG:flwr:evaluate_round 37: strategy sampled 10 clients (out of 33)\n"
          ]
        },
        {
          "output_type": "stream",
          "name": "stdout",
          "text": [
            "GLOBAL TEST\n"
          ]
        },
        {
          "output_type": "stream",
          "name": "stderr",
          "text": [
            "DEBUG flwr 2024-01-15 10:58:26,284 | server.py:187 | evaluate_round 37 received 10 results and 0 failures\n",
            "DEBUG:flwr:evaluate_round 37 received 10 results and 0 failures\n",
            "DEBUG flwr 2024-01-15 10:58:26,287 | server.py:222 | fit_round 38: strategy sampled 10 clients (out of 33)\n",
            "DEBUG:flwr:fit_round 38: strategy sampled 10 clients (out of 33)\n",
            "DEBUG flwr 2024-01-15 11:00:10,271 | server.py:236 | fit_round 38 received 10 results and 0 failures\n",
            "DEBUG:flwr:fit_round 38 received 10 results and 0 failures\n"
          ]
        },
        {
          "output_type": "stream",
          "name": "stdout",
          "text": [
            "Saving round 38 aggregated_parameters...\n"
          ]
        },
        {
          "output_type": "stream",
          "name": "stderr",
          "text": [
            "INFO flwr 2024-01-15 11:00:15,275 | server.py:125 | fit progress: (38, 313.04531824588776, {'accuracy': 0.8961}, 4140.184793761)\n",
            "INFO:flwr:fit progress: (38, 313.04531824588776, {'accuracy': 0.8961}, 4140.184793761)\n",
            "DEBUG flwr 2024-01-15 11:00:15,280 | server.py:173 | evaluate_round 38: strategy sampled 10 clients (out of 33)\n",
            "DEBUG:flwr:evaluate_round 38: strategy sampled 10 clients (out of 33)\n"
          ]
        },
        {
          "output_type": "stream",
          "name": "stdout",
          "text": [
            "GLOBAL TEST\n"
          ]
        },
        {
          "output_type": "stream",
          "name": "stderr",
          "text": [
            "DEBUG flwr 2024-01-15 11:00:16,998 | server.py:187 | evaluate_round 38 received 10 results and 0 failures\n",
            "DEBUG:flwr:evaluate_round 38 received 10 results and 0 failures\n",
            "DEBUG flwr 2024-01-15 11:00:17,002 | server.py:222 | fit_round 39: strategy sampled 10 clients (out of 33)\n",
            "DEBUG:flwr:fit_round 39: strategy sampled 10 clients (out of 33)\n",
            "DEBUG flwr 2024-01-15 11:02:02,571 | server.py:236 | fit_round 39 received 10 results and 0 failures\n",
            "DEBUG:flwr:fit_round 39 received 10 results and 0 failures\n"
          ]
        },
        {
          "output_type": "stream",
          "name": "stdout",
          "text": [
            "Saving round 39 aggregated_parameters...\n"
          ]
        },
        {
          "output_type": "stream",
          "name": "stderr",
          "text": [
            "INFO flwr 2024-01-15 11:02:08,326 | server.py:125 | fit progress: (39, 312.9494502544403, {'accuracy': 0.8962}, 4253.235361497)\n",
            "INFO:flwr:fit progress: (39, 312.9494502544403, {'accuracy': 0.8962}, 4253.235361497)\n",
            "DEBUG flwr 2024-01-15 11:02:08,330 | server.py:173 | evaluate_round 39: strategy sampled 10 clients (out of 33)\n",
            "DEBUG:flwr:evaluate_round 39: strategy sampled 10 clients (out of 33)\n"
          ]
        },
        {
          "output_type": "stream",
          "name": "stdout",
          "text": [
            "GLOBAL TEST\n"
          ]
        },
        {
          "output_type": "stream",
          "name": "stderr",
          "text": [
            "DEBUG flwr 2024-01-15 11:02:10,015 | server.py:187 | evaluate_round 39 received 10 results and 0 failures\n",
            "DEBUG:flwr:evaluate_round 39 received 10 results and 0 failures\n",
            "DEBUG flwr 2024-01-15 11:02:10,023 | server.py:222 | fit_round 40: strategy sampled 10 clients (out of 33)\n",
            "DEBUG:flwr:fit_round 40: strategy sampled 10 clients (out of 33)\n",
            "DEBUG flwr 2024-01-15 11:03:53,048 | server.py:236 | fit_round 40 received 10 results and 0 failures\n",
            "DEBUG:flwr:fit_round 40 received 10 results and 0 failures\n"
          ]
        },
        {
          "output_type": "stream",
          "name": "stdout",
          "text": [
            "Saving round 40 aggregated_parameters...\n"
          ]
        },
        {
          "output_type": "stream",
          "name": "stderr",
          "text": [
            "INFO flwr 2024-01-15 11:03:59,934 | server.py:125 | fit progress: (40, 312.84938406944275, {'accuracy': 0.8969}, 4364.843349309)\n",
            "INFO:flwr:fit progress: (40, 312.84938406944275, {'accuracy': 0.8969}, 4364.843349309)\n",
            "DEBUG flwr 2024-01-15 11:03:59,943 | server.py:173 | evaluate_round 40: strategy sampled 10 clients (out of 33)\n",
            "DEBUG:flwr:evaluate_round 40: strategy sampled 10 clients (out of 33)\n"
          ]
        },
        {
          "output_type": "stream",
          "name": "stdout",
          "text": [
            "GLOBAL TEST\n"
          ]
        },
        {
          "output_type": "stream",
          "name": "stderr",
          "text": [
            "DEBUG flwr 2024-01-15 11:04:01,902 | server.py:187 | evaluate_round 40 received 10 results and 0 failures\n",
            "DEBUG:flwr:evaluate_round 40 received 10 results and 0 failures\n",
            "DEBUG flwr 2024-01-15 11:04:01,906 | server.py:222 | fit_round 41: strategy sampled 10 clients (out of 33)\n",
            "DEBUG:flwr:fit_round 41: strategy sampled 10 clients (out of 33)\n",
            "DEBUG flwr 2024-01-15 11:05:44,782 | server.py:236 | fit_round 41 received 10 results and 0 failures\n",
            "DEBUG:flwr:fit_round 41 received 10 results and 0 failures\n"
          ]
        },
        {
          "output_type": "stream",
          "name": "stdout",
          "text": [
            "Saving round 41 aggregated_parameters...\n"
          ]
        },
        {
          "output_type": "stream",
          "name": "stderr",
          "text": [
            "INFO flwr 2024-01-15 11:05:50,222 | server.py:125 | fit progress: (41, 312.7096906900406, {'accuracy': 0.8974}, 4475.131630360999)\n",
            "INFO:flwr:fit progress: (41, 312.7096906900406, {'accuracy': 0.8974}, 4475.131630360999)\n",
            "DEBUG flwr 2024-01-15 11:05:50,231 | server.py:173 | evaluate_round 41: strategy sampled 10 clients (out of 33)\n",
            "DEBUG:flwr:evaluate_round 41: strategy sampled 10 clients (out of 33)\n"
          ]
        },
        {
          "output_type": "stream",
          "name": "stdout",
          "text": [
            "GLOBAL TEST\n"
          ]
        },
        {
          "output_type": "stream",
          "name": "stderr",
          "text": [
            "DEBUG flwr 2024-01-15 11:05:52,746 | server.py:187 | evaluate_round 41 received 10 results and 0 failures\n",
            "DEBUG:flwr:evaluate_round 41 received 10 results and 0 failures\n",
            "DEBUG flwr 2024-01-15 11:05:52,756 | server.py:222 | fit_round 42: strategy sampled 10 clients (out of 33)\n",
            "DEBUG:flwr:fit_round 42: strategy sampled 10 clients (out of 33)\n",
            "DEBUG flwr 2024-01-15 11:07:36,819 | server.py:236 | fit_round 42 received 10 results and 0 failures\n",
            "DEBUG:flwr:fit_round 42 received 10 results and 0 failures\n"
          ]
        },
        {
          "output_type": "stream",
          "name": "stdout",
          "text": [
            "Saving round 42 aggregated_parameters...\n"
          ]
        },
        {
          "output_type": "stream",
          "name": "stderr",
          "text": [
            "INFO flwr 2024-01-15 11:07:41,777 | server.py:125 | fit progress: (42, 312.6192624568939, {'accuracy': 0.8981}, 4586.686640981)\n",
            "INFO:flwr:fit progress: (42, 312.6192624568939, {'accuracy': 0.8981}, 4586.686640981)\n",
            "DEBUG flwr 2024-01-15 11:07:41,781 | server.py:173 | evaluate_round 42: strategy sampled 10 clients (out of 33)\n",
            "DEBUG:flwr:evaluate_round 42: strategy sampled 10 clients (out of 33)\n"
          ]
        },
        {
          "output_type": "stream",
          "name": "stdout",
          "text": [
            "GLOBAL TEST\n"
          ]
        },
        {
          "output_type": "stream",
          "name": "stderr",
          "text": [
            "DEBUG flwr 2024-01-15 11:07:43,473 | server.py:187 | evaluate_round 42 received 10 results and 0 failures\n",
            "DEBUG:flwr:evaluate_round 42 received 10 results and 0 failures\n",
            "DEBUG flwr 2024-01-15 11:07:43,477 | server.py:222 | fit_round 43: strategy sampled 10 clients (out of 33)\n",
            "DEBUG:flwr:fit_round 43: strategy sampled 10 clients (out of 33)\n",
            "DEBUG flwr 2024-01-15 11:09:28,129 | server.py:236 | fit_round 43 received 10 results and 0 failures\n",
            "DEBUG:flwr:fit_round 43 received 10 results and 0 failures\n"
          ]
        },
        {
          "output_type": "stream",
          "name": "stdout",
          "text": [
            "Saving round 43 aggregated_parameters...\n"
          ]
        },
        {
          "output_type": "stream",
          "name": "stderr",
          "text": [
            "INFO flwr 2024-01-15 11:09:33,236 | server.py:125 | fit progress: (43, 312.5904093980789, {'accuracy': 0.8982}, 4698.145529351)\n",
            "INFO:flwr:fit progress: (43, 312.5904093980789, {'accuracy': 0.8982}, 4698.145529351)\n",
            "DEBUG flwr 2024-01-15 11:09:33,240 | server.py:173 | evaluate_round 43: strategy sampled 10 clients (out of 33)\n",
            "DEBUG:flwr:evaluate_round 43: strategy sampled 10 clients (out of 33)\n"
          ]
        },
        {
          "output_type": "stream",
          "name": "stdout",
          "text": [
            "GLOBAL TEST\n"
          ]
        },
        {
          "output_type": "stream",
          "name": "stderr",
          "text": [
            "DEBUG flwr 2024-01-15 11:09:34,915 | server.py:187 | evaluate_round 43 received 10 results and 0 failures\n",
            "DEBUG:flwr:evaluate_round 43 received 10 results and 0 failures\n",
            "DEBUG flwr 2024-01-15 11:09:34,919 | server.py:222 | fit_round 44: strategy sampled 10 clients (out of 33)\n",
            "DEBUG:flwr:fit_round 44: strategy sampled 10 clients (out of 33)\n",
            "DEBUG flwr 2024-01-15 11:11:18,480 | server.py:236 | fit_round 44 received 10 results and 0 failures\n",
            "DEBUG:flwr:fit_round 44 received 10 results and 0 failures\n"
          ]
        },
        {
          "output_type": "stream",
          "name": "stdout",
          "text": [
            "Saving round 44 aggregated_parameters...\n"
          ]
        },
        {
          "output_type": "stream",
          "name": "stderr",
          "text": [
            "INFO flwr 2024-01-15 11:11:24,969 | server.py:125 | fit progress: (44, 312.6511906385422, {'accuracy': 0.8971}, 4809.878760189)\n",
            "INFO:flwr:fit progress: (44, 312.6511906385422, {'accuracy': 0.8971}, 4809.878760189)\n",
            "DEBUG flwr 2024-01-15 11:11:24,973 | server.py:173 | evaluate_round 44: strategy sampled 10 clients (out of 33)\n",
            "DEBUG:flwr:evaluate_round 44: strategy sampled 10 clients (out of 33)\n"
          ]
        },
        {
          "output_type": "stream",
          "name": "stdout",
          "text": [
            "GLOBAL TEST\n"
          ]
        },
        {
          "output_type": "stream",
          "name": "stderr",
          "text": [
            "DEBUG flwr 2024-01-15 11:11:26,639 | server.py:187 | evaluate_round 44 received 10 results and 0 failures\n",
            "DEBUG:flwr:evaluate_round 44 received 10 results and 0 failures\n",
            "DEBUG flwr 2024-01-15 11:11:26,643 | server.py:222 | fit_round 45: strategy sampled 10 clients (out of 33)\n",
            "DEBUG:flwr:fit_round 45: strategy sampled 10 clients (out of 33)\n",
            "DEBUG flwr 2024-01-15 11:13:09,271 | server.py:236 | fit_round 45 received 10 results and 0 failures\n",
            "DEBUG:flwr:fit_round 45 received 10 results and 0 failures\n"
          ]
        },
        {
          "output_type": "stream",
          "name": "stdout",
          "text": [
            "Saving round 45 aggregated_parameters...\n"
          ]
        },
        {
          "output_type": "stream",
          "name": "stderr",
          "text": [
            "INFO flwr 2024-01-15 11:13:15,489 | server.py:125 | fit progress: (45, 312.57948660850525, {'accuracy': 0.8982}, 4920.398218058)\n",
            "INFO:flwr:fit progress: (45, 312.57948660850525, {'accuracy': 0.8982}, 4920.398218058)\n",
            "DEBUG flwr 2024-01-15 11:13:15,493 | server.py:173 | evaluate_round 45: strategy sampled 10 clients (out of 33)\n",
            "DEBUG:flwr:evaluate_round 45: strategy sampled 10 clients (out of 33)\n"
          ]
        },
        {
          "output_type": "stream",
          "name": "stdout",
          "text": [
            "GLOBAL TEST\n"
          ]
        },
        {
          "output_type": "stream",
          "name": "stderr",
          "text": [
            "DEBUG flwr 2024-01-15 11:13:17,991 | server.py:187 | evaluate_round 45 received 10 results and 0 failures\n",
            "DEBUG:flwr:evaluate_round 45 received 10 results and 0 failures\n",
            "DEBUG flwr 2024-01-15 11:13:17,998 | server.py:222 | fit_round 46: strategy sampled 10 clients (out of 33)\n",
            "DEBUG:flwr:fit_round 46: strategy sampled 10 clients (out of 33)\n",
            "DEBUG flwr 2024-01-15 11:15:00,529 | server.py:236 | fit_round 46 received 10 results and 0 failures\n",
            "DEBUG:flwr:fit_round 46 received 10 results and 0 failures\n"
          ]
        },
        {
          "output_type": "stream",
          "name": "stdout",
          "text": [
            "Saving round 46 aggregated_parameters...\n"
          ]
        },
        {
          "output_type": "stream",
          "name": "stderr",
          "text": [
            "INFO flwr 2024-01-15 11:15:05,655 | server.py:125 | fit progress: (46, 312.4905205965042, {'accuracy': 0.8982}, 5030.564771445)\n",
            "INFO:flwr:fit progress: (46, 312.4905205965042, {'accuracy': 0.8982}, 5030.564771445)\n",
            "DEBUG flwr 2024-01-15 11:15:05,660 | server.py:173 | evaluate_round 46: strategy sampled 10 clients (out of 33)\n",
            "DEBUG:flwr:evaluate_round 46: strategy sampled 10 clients (out of 33)\n"
          ]
        },
        {
          "output_type": "stream",
          "name": "stdout",
          "text": [
            "GLOBAL TEST\n"
          ]
        },
        {
          "output_type": "stream",
          "name": "stderr",
          "text": [
            "DEBUG flwr 2024-01-15 11:15:07,494 | server.py:187 | evaluate_round 46 received 10 results and 0 failures\n",
            "DEBUG:flwr:evaluate_round 46 received 10 results and 0 failures\n",
            "DEBUG flwr 2024-01-15 11:15:07,503 | server.py:222 | fit_round 47: strategy sampled 10 clients (out of 33)\n",
            "DEBUG:flwr:fit_round 47: strategy sampled 10 clients (out of 33)\n",
            "DEBUG flwr 2024-01-15 11:16:52,478 | server.py:236 | fit_round 47 received 10 results and 0 failures\n",
            "DEBUG:flwr:fit_round 47 received 10 results and 0 failures\n"
          ]
        },
        {
          "output_type": "stream",
          "name": "stdout",
          "text": [
            "Saving round 47 aggregated_parameters...\n"
          ]
        },
        {
          "output_type": "stream",
          "name": "stderr",
          "text": [
            "INFO flwr 2024-01-15 11:16:57,448 | server.py:125 | fit progress: (47, 312.78954327106476, {'accuracy': 0.8967}, 5142.357660283)\n",
            "INFO:flwr:fit progress: (47, 312.78954327106476, {'accuracy': 0.8967}, 5142.357660283)\n",
            "DEBUG flwr 2024-01-15 11:16:57,454 | server.py:173 | evaluate_round 47: strategy sampled 10 clients (out of 33)\n",
            "DEBUG:flwr:evaluate_round 47: strategy sampled 10 clients (out of 33)\n"
          ]
        },
        {
          "output_type": "stream",
          "name": "stdout",
          "text": [
            "GLOBAL TEST\n"
          ]
        },
        {
          "output_type": "stream",
          "name": "stderr",
          "text": [
            "DEBUG flwr 2024-01-15 11:16:59,135 | server.py:187 | evaluate_round 47 received 10 results and 0 failures\n",
            "DEBUG:flwr:evaluate_round 47 received 10 results and 0 failures\n",
            "DEBUG flwr 2024-01-15 11:16:59,140 | server.py:222 | fit_round 48: strategy sampled 10 clients (out of 33)\n",
            "DEBUG:flwr:fit_round 48: strategy sampled 10 clients (out of 33)\n",
            "DEBUG flwr 2024-01-15 11:18:40,847 | server.py:236 | fit_round 48 received 10 results and 0 failures\n",
            "DEBUG:flwr:fit_round 48 received 10 results and 0 failures\n"
          ]
        },
        {
          "output_type": "stream",
          "name": "stdout",
          "text": [
            "Saving round 48 aggregated_parameters...\n"
          ]
        },
        {
          "output_type": "stream",
          "name": "stderr",
          "text": [
            "INFO flwr 2024-01-15 11:18:47,275 | server.py:125 | fit progress: (48, 312.657546043396, {'accuracy': 0.8977}, 5252.184435542999)\n",
            "INFO:flwr:fit progress: (48, 312.657546043396, {'accuracy': 0.8977}, 5252.184435542999)\n",
            "DEBUG flwr 2024-01-15 11:18:47,279 | server.py:173 | evaluate_round 48: strategy sampled 10 clients (out of 33)\n",
            "DEBUG:flwr:evaluate_round 48: strategy sampled 10 clients (out of 33)\n"
          ]
        },
        {
          "output_type": "stream",
          "name": "stdout",
          "text": [
            "GLOBAL TEST\n"
          ]
        },
        {
          "output_type": "stream",
          "name": "stderr",
          "text": [
            "DEBUG flwr 2024-01-15 11:18:49,003 | server.py:187 | evaluate_round 48 received 10 results and 0 failures\n",
            "DEBUG:flwr:evaluate_round 48 received 10 results and 0 failures\n",
            "DEBUG flwr 2024-01-15 11:18:49,006 | server.py:222 | fit_round 49: strategy sampled 10 clients (out of 33)\n",
            "DEBUG:flwr:fit_round 49: strategy sampled 10 clients (out of 33)\n",
            "DEBUG flwr 2024-01-15 11:20:30,513 | server.py:236 | fit_round 49 received 10 results and 0 failures\n",
            "DEBUG:flwr:fit_round 49 received 10 results and 0 failures\n"
          ]
        },
        {
          "output_type": "stream",
          "name": "stdout",
          "text": [
            "Saving round 49 aggregated_parameters...\n"
          ]
        },
        {
          "output_type": "stream",
          "name": "stderr",
          "text": [
            "INFO flwr 2024-01-15 11:20:35,760 | server.py:125 | fit progress: (49, 312.39794754981995, {'accuracy': 0.8988}, 5360.669203752)\n",
            "INFO:flwr:fit progress: (49, 312.39794754981995, {'accuracy': 0.8988}, 5360.669203752)\n",
            "DEBUG flwr 2024-01-15 11:20:35,764 | server.py:173 | evaluate_round 49: strategy sampled 10 clients (out of 33)\n",
            "DEBUG:flwr:evaluate_round 49: strategy sampled 10 clients (out of 33)\n"
          ]
        },
        {
          "output_type": "stream",
          "name": "stdout",
          "text": [
            "GLOBAL TEST\n"
          ]
        },
        {
          "output_type": "stream",
          "name": "stderr",
          "text": [
            "DEBUG flwr 2024-01-15 11:20:38,196 | server.py:187 | evaluate_round 49 received 10 results and 0 failures\n",
            "DEBUG:flwr:evaluate_round 49 received 10 results and 0 failures\n",
            "DEBUG flwr 2024-01-15 11:20:38,200 | server.py:222 | fit_round 50: strategy sampled 10 clients (out of 33)\n",
            "DEBUG:flwr:fit_round 50: strategy sampled 10 clients (out of 33)\n",
            "DEBUG flwr 2024-01-15 11:22:22,341 | server.py:236 | fit_round 50 received 10 results and 0 failures\n",
            "DEBUG:flwr:fit_round 50 received 10 results and 0 failures\n"
          ]
        },
        {
          "output_type": "stream",
          "name": "stdout",
          "text": [
            "Saving round 50 aggregated_parameters...\n"
          ]
        },
        {
          "output_type": "stream",
          "name": "stderr",
          "text": [
            "INFO flwr 2024-01-15 11:22:27,426 | server.py:125 | fit progress: (50, 312.26604092121124, {'accuracy': 0.8994}, 5472.335294715999)\n",
            "INFO:flwr:fit progress: (50, 312.26604092121124, {'accuracy': 0.8994}, 5472.335294715999)\n",
            "DEBUG flwr 2024-01-15 11:22:27,431 | server.py:173 | evaluate_round 50: strategy sampled 10 clients (out of 33)\n",
            "DEBUG:flwr:evaluate_round 50: strategy sampled 10 clients (out of 33)\n"
          ]
        },
        {
          "output_type": "stream",
          "name": "stdout",
          "text": [
            "GLOBAL TEST\n"
          ]
        },
        {
          "output_type": "stream",
          "name": "stderr",
          "text": [
            "DEBUG flwr 2024-01-15 11:22:29,148 | server.py:187 | evaluate_round 50 received 10 results and 0 failures\n",
            "DEBUG:flwr:evaluate_round 50 received 10 results and 0 failures\n",
            "DEBUG flwr 2024-01-15 11:22:29,153 | server.py:222 | fit_round 51: strategy sampled 10 clients (out of 33)\n",
            "DEBUG:flwr:fit_round 51: strategy sampled 10 clients (out of 33)\n",
            "DEBUG flwr 2024-01-15 11:24:12,013 | server.py:236 | fit_round 51 received 10 results and 0 failures\n",
            "DEBUG:flwr:fit_round 51 received 10 results and 0 failures\n"
          ]
        },
        {
          "output_type": "stream",
          "name": "stdout",
          "text": [
            "Saving round 51 aggregated_parameters...\n"
          ]
        },
        {
          "output_type": "stream",
          "name": "stderr",
          "text": [
            "INFO flwr 2024-01-15 11:24:17,661 | server.py:125 | fit progress: (51, 312.3919986486435, {'accuracy': 0.8991}, 5582.570826513)\n",
            "INFO:flwr:fit progress: (51, 312.3919986486435, {'accuracy': 0.8991}, 5582.570826513)\n",
            "DEBUG flwr 2024-01-15 11:24:17,666 | server.py:173 | evaluate_round 51: strategy sampled 10 clients (out of 33)\n",
            "DEBUG:flwr:evaluate_round 51: strategy sampled 10 clients (out of 33)\n"
          ]
        },
        {
          "output_type": "stream",
          "name": "stdout",
          "text": [
            "GLOBAL TEST\n"
          ]
        },
        {
          "output_type": "stream",
          "name": "stderr",
          "text": [
            "DEBUG flwr 2024-01-15 11:24:19,318 | server.py:187 | evaluate_round 51 received 10 results and 0 failures\n",
            "DEBUG:flwr:evaluate_round 51 received 10 results and 0 failures\n",
            "DEBUG flwr 2024-01-15 11:24:19,323 | server.py:222 | fit_round 52: strategy sampled 10 clients (out of 33)\n",
            "DEBUG:flwr:fit_round 52: strategy sampled 10 clients (out of 33)\n",
            "DEBUG flwr 2024-01-15 11:25:59,599 | server.py:236 | fit_round 52 received 10 results and 0 failures\n",
            "DEBUG:flwr:fit_round 52 received 10 results and 0 failures\n"
          ]
        },
        {
          "output_type": "stream",
          "name": "stdout",
          "text": [
            "Saving round 52 aggregated_parameters...\n"
          ]
        },
        {
          "output_type": "stream",
          "name": "stderr",
          "text": [
            "INFO flwr 2024-01-15 11:26:05,477 | server.py:125 | fit progress: (52, 312.2969717979431, {'accuracy': 0.8998}, 5690.386617861)\n",
            "INFO:flwr:fit progress: (52, 312.2969717979431, {'accuracy': 0.8998}, 5690.386617861)\n",
            "DEBUG flwr 2024-01-15 11:26:05,484 | server.py:173 | evaluate_round 52: strategy sampled 10 clients (out of 33)\n",
            "DEBUG:flwr:evaluate_round 52: strategy sampled 10 clients (out of 33)\n"
          ]
        },
        {
          "output_type": "stream",
          "name": "stdout",
          "text": [
            "GLOBAL TEST\n"
          ]
        },
        {
          "output_type": "stream",
          "name": "stderr",
          "text": [
            "DEBUG flwr 2024-01-15 11:26:07,981 | server.py:187 | evaluate_round 52 received 10 results and 0 failures\n",
            "DEBUG:flwr:evaluate_round 52 received 10 results and 0 failures\n",
            "DEBUG flwr 2024-01-15 11:26:07,986 | server.py:222 | fit_round 53: strategy sampled 10 clients (out of 33)\n",
            "DEBUG:flwr:fit_round 53: strategy sampled 10 clients (out of 33)\n",
            "DEBUG flwr 2024-01-15 11:27:48,991 | server.py:236 | fit_round 53 received 10 results and 0 failures\n",
            "DEBUG:flwr:fit_round 53 received 10 results and 0 failures\n"
          ]
        },
        {
          "output_type": "stream",
          "name": "stdout",
          "text": [
            "Saving round 53 aggregated_parameters...\n"
          ]
        },
        {
          "output_type": "stream",
          "name": "stderr",
          "text": [
            "INFO flwr 2024-01-15 11:27:54,121 | server.py:125 | fit progress: (53, 312.3331708908081, {'accuracy': 0.899}, 5799.0303135859995)\n",
            "INFO:flwr:fit progress: (53, 312.3331708908081, {'accuracy': 0.899}, 5799.0303135859995)\n",
            "DEBUG flwr 2024-01-15 11:27:54,126 | server.py:173 | evaluate_round 53: strategy sampled 10 clients (out of 33)\n",
            "DEBUG:flwr:evaluate_round 53: strategy sampled 10 clients (out of 33)\n"
          ]
        },
        {
          "output_type": "stream",
          "name": "stdout",
          "text": [
            "GLOBAL TEST\n"
          ]
        },
        {
          "output_type": "stream",
          "name": "stderr",
          "text": [
            "DEBUG flwr 2024-01-15 11:27:55,830 | server.py:187 | evaluate_round 53 received 10 results and 0 failures\n",
            "DEBUG:flwr:evaluate_round 53 received 10 results and 0 failures\n",
            "DEBUG flwr 2024-01-15 11:27:55,833 | server.py:222 | fit_round 54: strategy sampled 10 clients (out of 33)\n",
            "DEBUG:flwr:fit_round 54: strategy sampled 10 clients (out of 33)\n",
            "DEBUG flwr 2024-01-15 11:29:38,980 | server.py:236 | fit_round 54 received 10 results and 0 failures\n",
            "DEBUG:flwr:fit_round 54 received 10 results and 0 failures\n"
          ]
        },
        {
          "output_type": "stream",
          "name": "stdout",
          "text": [
            "Saving round 54 aggregated_parameters...\n"
          ]
        },
        {
          "output_type": "stream",
          "name": "stderr",
          "text": [
            "INFO flwr 2024-01-15 11:29:44,305 | server.py:125 | fit progress: (54, 312.2902282476425, {'accuracy': 0.8991}, 5909.213921455)\n",
            "INFO:flwr:fit progress: (54, 312.2902282476425, {'accuracy': 0.8991}, 5909.213921455)\n",
            "DEBUG flwr 2024-01-15 11:29:44,309 | server.py:173 | evaluate_round 54: strategy sampled 10 clients (out of 33)\n",
            "DEBUG:flwr:evaluate_round 54: strategy sampled 10 clients (out of 33)\n"
          ]
        },
        {
          "output_type": "stream",
          "name": "stdout",
          "text": [
            "GLOBAL TEST\n"
          ]
        },
        {
          "output_type": "stream",
          "name": "stderr",
          "text": [
            "DEBUG flwr 2024-01-15 11:29:46,004 | server.py:187 | evaluate_round 54 received 10 results and 0 failures\n",
            "DEBUG:flwr:evaluate_round 54 received 10 results and 0 failures\n",
            "DEBUG flwr 2024-01-15 11:29:46,007 | server.py:222 | fit_round 55: strategy sampled 10 clients (out of 33)\n",
            "DEBUG:flwr:fit_round 55: strategy sampled 10 clients (out of 33)\n",
            "DEBUG flwr 2024-01-15 11:31:26,122 | server.py:236 | fit_round 55 received 10 results and 0 failures\n",
            "DEBUG:flwr:fit_round 55 received 10 results and 0 failures\n"
          ]
        },
        {
          "output_type": "stream",
          "name": "stdout",
          "text": [
            "Saving round 55 aggregated_parameters...\n"
          ]
        },
        {
          "output_type": "stream",
          "name": "stderr",
          "text": [
            "INFO flwr 2024-01-15 11:31:32,350 | server.py:125 | fit progress: (55, 312.2773458957672, {'accuracy': 0.899}, 6017.259041425999)\n",
            "INFO:flwr:fit progress: (55, 312.2773458957672, {'accuracy': 0.899}, 6017.259041425999)\n",
            "DEBUG flwr 2024-01-15 11:31:32,359 | server.py:173 | evaluate_round 55: strategy sampled 10 clients (out of 33)\n",
            "DEBUG:flwr:evaluate_round 55: strategy sampled 10 clients (out of 33)\n"
          ]
        },
        {
          "output_type": "stream",
          "name": "stdout",
          "text": [
            "GLOBAL TEST\n"
          ]
        },
        {
          "output_type": "stream",
          "name": "stderr",
          "text": [
            "DEBUG flwr 2024-01-15 11:31:34,653 | server.py:187 | evaluate_round 55 received 10 results and 0 failures\n",
            "DEBUG:flwr:evaluate_round 55 received 10 results and 0 failures\n",
            "DEBUG flwr 2024-01-15 11:31:34,656 | server.py:222 | fit_round 56: strategy sampled 10 clients (out of 33)\n",
            "DEBUG:flwr:fit_round 56: strategy sampled 10 clients (out of 33)\n",
            "DEBUG flwr 2024-01-15 11:33:14,025 | server.py:236 | fit_round 56 received 10 results and 0 failures\n",
            "DEBUG:flwr:fit_round 56 received 10 results and 0 failures\n"
          ]
        },
        {
          "output_type": "stream",
          "name": "stdout",
          "text": [
            "Saving round 56 aggregated_parameters...\n"
          ]
        },
        {
          "output_type": "stream",
          "name": "stderr",
          "text": [
            "INFO flwr 2024-01-15 11:33:18,915 | server.py:125 | fit progress: (56, 312.2004463672638, {'accuracy': 0.8997}, 6123.824392128)\n",
            "INFO:flwr:fit progress: (56, 312.2004463672638, {'accuracy': 0.8997}, 6123.824392128)\n",
            "DEBUG flwr 2024-01-15 11:33:18,919 | server.py:173 | evaluate_round 56: strategy sampled 10 clients (out of 33)\n",
            "DEBUG:flwr:evaluate_round 56: strategy sampled 10 clients (out of 33)\n"
          ]
        },
        {
          "output_type": "stream",
          "name": "stdout",
          "text": [
            "GLOBAL TEST\n"
          ]
        },
        {
          "output_type": "stream",
          "name": "stderr",
          "text": [
            "DEBUG flwr 2024-01-15 11:33:20,582 | server.py:187 | evaluate_round 56 received 10 results and 0 failures\n",
            "DEBUG:flwr:evaluate_round 56 received 10 results and 0 failures\n",
            "DEBUG flwr 2024-01-15 11:33:20,586 | server.py:222 | fit_round 57: strategy sampled 10 clients (out of 33)\n",
            "DEBUG:flwr:fit_round 57: strategy sampled 10 clients (out of 33)\n",
            "DEBUG flwr 2024-01-15 11:35:00,293 | server.py:236 | fit_round 57 received 10 results and 0 failures\n",
            "DEBUG:flwr:fit_round 57 received 10 results and 0 failures\n"
          ]
        },
        {
          "output_type": "stream",
          "name": "stdout",
          "text": [
            "Saving round 57 aggregated_parameters...\n"
          ]
        },
        {
          "output_type": "stream",
          "name": "stderr",
          "text": [
            "INFO flwr 2024-01-15 11:35:06,629 | server.py:125 | fit progress: (57, 312.1850280761719, {'accuracy': 0.9}, 6231.538812291999)\n",
            "INFO:flwr:fit progress: (57, 312.1850280761719, {'accuracy': 0.9}, 6231.538812291999)\n",
            "DEBUG flwr 2024-01-15 11:35:06,636 | server.py:173 | evaluate_round 57: strategy sampled 10 clients (out of 33)\n",
            "DEBUG:flwr:evaluate_round 57: strategy sampled 10 clients (out of 33)\n"
          ]
        },
        {
          "output_type": "stream",
          "name": "stdout",
          "text": [
            "GLOBAL TEST\n"
          ]
        },
        {
          "output_type": "stream",
          "name": "stderr",
          "text": [
            "DEBUG flwr 2024-01-15 11:35:08,294 | server.py:187 | evaluate_round 57 received 10 results and 0 failures\n",
            "DEBUG:flwr:evaluate_round 57 received 10 results and 0 failures\n",
            "DEBUG flwr 2024-01-15 11:35:08,297 | server.py:222 | fit_round 58: strategy sampled 10 clients (out of 33)\n",
            "DEBUG:flwr:fit_round 58: strategy sampled 10 clients (out of 33)\n",
            "DEBUG flwr 2024-01-15 11:36:51,490 | server.py:236 | fit_round 58 received 10 results and 0 failures\n",
            "DEBUG:flwr:fit_round 58 received 10 results and 0 failures\n"
          ]
        },
        {
          "output_type": "stream",
          "name": "stdout",
          "text": [
            "Saving round 58 aggregated_parameters...\n"
          ]
        },
        {
          "output_type": "stream",
          "name": "stderr",
          "text": [
            "INFO flwr 2024-01-15 11:36:57,626 | server.py:125 | fit progress: (58, 312.2867397069931, {'accuracy': 0.8991}, 6342.535471658)\n",
            "INFO:flwr:fit progress: (58, 312.2867397069931, {'accuracy': 0.8991}, 6342.535471658)\n",
            "DEBUG flwr 2024-01-15 11:36:57,630 | server.py:173 | evaluate_round 58: strategy sampled 10 clients (out of 33)\n",
            "DEBUG:flwr:evaluate_round 58: strategy sampled 10 clients (out of 33)\n"
          ]
        },
        {
          "output_type": "stream",
          "name": "stdout",
          "text": [
            "GLOBAL TEST\n"
          ]
        },
        {
          "output_type": "stream",
          "name": "stderr",
          "text": [
            "DEBUG flwr 2024-01-15 11:37:00,151 | server.py:187 | evaluate_round 58 received 10 results and 0 failures\n",
            "DEBUG:flwr:evaluate_round 58 received 10 results and 0 failures\n",
            "DEBUG flwr 2024-01-15 11:37:00,154 | server.py:222 | fit_round 59: strategy sampled 10 clients (out of 33)\n",
            "DEBUG:flwr:fit_round 59: strategy sampled 10 clients (out of 33)\n",
            "DEBUG flwr 2024-01-15 11:38:43,518 | server.py:236 | fit_round 59 received 10 results and 0 failures\n",
            "DEBUG:flwr:fit_round 59 received 10 results and 0 failures\n"
          ]
        },
        {
          "output_type": "stream",
          "name": "stdout",
          "text": [
            "Saving round 59 aggregated_parameters...\n"
          ]
        },
        {
          "output_type": "stream",
          "name": "stderr",
          "text": [
            "INFO flwr 2024-01-15 11:38:48,517 | server.py:125 | fit progress: (59, 312.1012204885483, {'accuracy': 0.9003}, 6453.426637494999)\n",
            "INFO:flwr:fit progress: (59, 312.1012204885483, {'accuracy': 0.9003}, 6453.426637494999)\n",
            "DEBUG flwr 2024-01-15 11:38:48,522 | server.py:173 | evaluate_round 59: strategy sampled 10 clients (out of 33)\n",
            "DEBUG:flwr:evaluate_round 59: strategy sampled 10 clients (out of 33)\n"
          ]
        },
        {
          "output_type": "stream",
          "name": "stdout",
          "text": [
            "GLOBAL TEST\n"
          ]
        },
        {
          "output_type": "stream",
          "name": "stderr",
          "text": [
            "DEBUG flwr 2024-01-15 11:38:50,747 | server.py:187 | evaluate_round 59 received 10 results and 0 failures\n",
            "DEBUG:flwr:evaluate_round 59 received 10 results and 0 failures\n",
            "DEBUG flwr 2024-01-15 11:38:50,753 | server.py:222 | fit_round 60: strategy sampled 10 clients (out of 33)\n",
            "DEBUG:flwr:fit_round 60: strategy sampled 10 clients (out of 33)\n",
            "DEBUG flwr 2024-01-15 11:40:35,974 | server.py:236 | fit_round 60 received 10 results and 0 failures\n",
            "DEBUG:flwr:fit_round 60 received 10 results and 0 failures\n"
          ]
        },
        {
          "output_type": "stream",
          "name": "stdout",
          "text": [
            "Saving round 60 aggregated_parameters...\n"
          ]
        },
        {
          "output_type": "stream",
          "name": "stderr",
          "text": [
            "INFO flwr 2024-01-15 11:40:40,924 | server.py:125 | fit progress: (60, 312.1682060956955, {'accuracy': 0.9}, 6565.833846584)\n",
            "INFO:flwr:fit progress: (60, 312.1682060956955, {'accuracy': 0.9}, 6565.833846584)\n",
            "DEBUG flwr 2024-01-15 11:40:40,929 | server.py:173 | evaluate_round 60: strategy sampled 10 clients (out of 33)\n",
            "DEBUG:flwr:evaluate_round 60: strategy sampled 10 clients (out of 33)\n"
          ]
        },
        {
          "output_type": "stream",
          "name": "stdout",
          "text": [
            "GLOBAL TEST\n"
          ]
        },
        {
          "output_type": "stream",
          "name": "stderr",
          "text": [
            "DEBUG flwr 2024-01-15 11:40:42,694 | server.py:187 | evaluate_round 60 received 10 results and 0 failures\n",
            "DEBUG:flwr:evaluate_round 60 received 10 results and 0 failures\n",
            "DEBUG flwr 2024-01-15 11:40:42,697 | server.py:222 | fit_round 61: strategy sampled 10 clients (out of 33)\n",
            "DEBUG:flwr:fit_round 61: strategy sampled 10 clients (out of 33)\n",
            "DEBUG flwr 2024-01-15 11:42:28,122 | server.py:236 | fit_round 61 received 10 results and 0 failures\n",
            "DEBUG:flwr:fit_round 61 received 10 results and 0 failures\n"
          ]
        },
        {
          "output_type": "stream",
          "name": "stdout",
          "text": [
            "Saving round 61 aggregated_parameters...\n"
          ]
        },
        {
          "output_type": "stream",
          "name": "stderr",
          "text": [
            "INFO flwr 2024-01-15 11:42:33,643 | server.py:125 | fit progress: (61, 312.02144491672516, {'accuracy': 0.9006}, 6678.552760357999)\n",
            "INFO:flwr:fit progress: (61, 312.02144491672516, {'accuracy': 0.9006}, 6678.552760357999)\n",
            "DEBUG flwr 2024-01-15 11:42:33,647 | server.py:173 | evaluate_round 61: strategy sampled 10 clients (out of 33)\n",
            "DEBUG:flwr:evaluate_round 61: strategy sampled 10 clients (out of 33)\n"
          ]
        },
        {
          "output_type": "stream",
          "name": "stdout",
          "text": [
            "GLOBAL TEST\n"
          ]
        },
        {
          "output_type": "stream",
          "name": "stderr",
          "text": [
            "DEBUG flwr 2024-01-15 11:42:35,395 | server.py:187 | evaluate_round 61 received 10 results and 0 failures\n",
            "DEBUG:flwr:evaluate_round 61 received 10 results and 0 failures\n",
            "DEBUG flwr 2024-01-15 11:42:35,398 | server.py:222 | fit_round 62: strategy sampled 10 clients (out of 33)\n",
            "DEBUG:flwr:fit_round 62: strategy sampled 10 clients (out of 33)\n",
            "DEBUG flwr 2024-01-15 11:44:19,553 | server.py:236 | fit_round 62 received 10 results and 0 failures\n",
            "DEBUG:flwr:fit_round 62 received 10 results and 0 failures\n"
          ]
        },
        {
          "output_type": "stream",
          "name": "stdout",
          "text": [
            "Saving round 62 aggregated_parameters...\n"
          ]
        },
        {
          "output_type": "stream",
          "name": "stderr",
          "text": [
            "INFO flwr 2024-01-15 11:44:26,253 | server.py:125 | fit progress: (62, 312.0087959766388, {'accuracy': 0.9003}, 6791.162858431)\n",
            "INFO:flwr:fit progress: (62, 312.0087959766388, {'accuracy': 0.9003}, 6791.162858431)\n",
            "DEBUG flwr 2024-01-15 11:44:26,257 | server.py:173 | evaluate_round 62: strategy sampled 10 clients (out of 33)\n",
            "DEBUG:flwr:evaluate_round 62: strategy sampled 10 clients (out of 33)\n"
          ]
        },
        {
          "output_type": "stream",
          "name": "stdout",
          "text": [
            "GLOBAL TEST\n"
          ]
        },
        {
          "output_type": "stream",
          "name": "stderr",
          "text": [
            "DEBUG flwr 2024-01-15 11:44:28,050 | server.py:187 | evaluate_round 62 received 10 results and 0 failures\n",
            "DEBUG:flwr:evaluate_round 62 received 10 results and 0 failures\n",
            "DEBUG flwr 2024-01-15 11:44:28,053 | server.py:222 | fit_round 63: strategy sampled 10 clients (out of 33)\n",
            "DEBUG:flwr:fit_round 63: strategy sampled 10 clients (out of 33)\n",
            "DEBUG flwr 2024-01-15 11:46:11,833 | server.py:236 | fit_round 63 received 10 results and 0 failures\n",
            "DEBUG:flwr:fit_round 63 received 10 results and 0 failures\n"
          ]
        },
        {
          "output_type": "stream",
          "name": "stdout",
          "text": [
            "Saving round 63 aggregated_parameters...\n"
          ]
        },
        {
          "output_type": "stream",
          "name": "stderr",
          "text": [
            "INFO flwr 2024-01-15 11:46:18,149 | server.py:125 | fit progress: (63, 312.00176429748535, {'accuracy': 0.9008}, 6903.058148063999)\n",
            "INFO:flwr:fit progress: (63, 312.00176429748535, {'accuracy': 0.9008}, 6903.058148063999)\n",
            "DEBUG flwr 2024-01-15 11:46:18,153 | server.py:173 | evaluate_round 63: strategy sampled 10 clients (out of 33)\n",
            "DEBUG:flwr:evaluate_round 63: strategy sampled 10 clients (out of 33)\n"
          ]
        },
        {
          "output_type": "stream",
          "name": "stdout",
          "text": [
            "GLOBAL TEST\n"
          ]
        },
        {
          "output_type": "stream",
          "name": "stderr",
          "text": [
            "DEBUG flwr 2024-01-15 11:46:20,811 | server.py:187 | evaluate_round 63 received 10 results and 0 failures\n",
            "DEBUG:flwr:evaluate_round 63 received 10 results and 0 failures\n",
            "DEBUG flwr 2024-01-15 11:46:20,815 | server.py:222 | fit_round 64: strategy sampled 10 clients (out of 33)\n",
            "DEBUG:flwr:fit_round 64: strategy sampled 10 clients (out of 33)\n",
            "DEBUG flwr 2024-01-15 11:48:04,183 | server.py:236 | fit_round 64 received 10 results and 0 failures\n",
            "DEBUG:flwr:fit_round 64 received 10 results and 0 failures\n"
          ]
        },
        {
          "output_type": "stream",
          "name": "stdout",
          "text": [
            "Saving round 64 aggregated_parameters...\n"
          ]
        },
        {
          "output_type": "stream",
          "name": "stderr",
          "text": [
            "INFO flwr 2024-01-15 11:48:09,249 | server.py:125 | fit progress: (64, 312.1492882966995, {'accuracy': 0.8997}, 7014.1579382830005)\n",
            "INFO:flwr:fit progress: (64, 312.1492882966995, {'accuracy': 0.8997}, 7014.1579382830005)\n",
            "DEBUG flwr 2024-01-15 11:48:09,255 | server.py:173 | evaluate_round 64: strategy sampled 10 clients (out of 33)\n",
            "DEBUG:flwr:evaluate_round 64: strategy sampled 10 clients (out of 33)\n"
          ]
        },
        {
          "output_type": "stream",
          "name": "stdout",
          "text": [
            "GLOBAL TEST\n"
          ]
        },
        {
          "output_type": "stream",
          "name": "stderr",
          "text": [
            "DEBUG flwr 2024-01-15 11:48:11,723 | server.py:187 | evaluate_round 64 received 10 results and 0 failures\n",
            "DEBUG:flwr:evaluate_round 64 received 10 results and 0 failures\n",
            "DEBUG flwr 2024-01-15 11:48:11,732 | server.py:222 | fit_round 65: strategy sampled 10 clients (out of 33)\n",
            "DEBUG:flwr:fit_round 65: strategy sampled 10 clients (out of 33)\n",
            "DEBUG flwr 2024-01-15 11:49:56,587 | server.py:236 | fit_round 65 received 10 results and 0 failures\n",
            "DEBUG:flwr:fit_round 65 received 10 results and 0 failures\n"
          ]
        },
        {
          "output_type": "stream",
          "name": "stdout",
          "text": [
            "Saving round 65 aggregated_parameters...\n"
          ]
        },
        {
          "output_type": "stream",
          "name": "stderr",
          "text": [
            "INFO flwr 2024-01-15 11:50:01,587 | server.py:125 | fit progress: (65, 312.0814440250397, {'accuracy': 0.9001}, 7126.496144302999)\n",
            "INFO:flwr:fit progress: (65, 312.0814440250397, {'accuracy': 0.9001}, 7126.496144302999)\n",
            "DEBUG flwr 2024-01-15 11:50:01,591 | server.py:173 | evaluate_round 65: strategy sampled 10 clients (out of 33)\n",
            "DEBUG:flwr:evaluate_round 65: strategy sampled 10 clients (out of 33)\n"
          ]
        },
        {
          "output_type": "stream",
          "name": "stdout",
          "text": [
            "GLOBAL TEST\n"
          ]
        },
        {
          "output_type": "stream",
          "name": "stderr",
          "text": [
            "DEBUG flwr 2024-01-15 11:50:03,284 | server.py:187 | evaluate_round 65 received 10 results and 0 failures\n",
            "DEBUG:flwr:evaluate_round 65 received 10 results and 0 failures\n",
            "DEBUG flwr 2024-01-15 11:50:03,287 | server.py:222 | fit_round 66: strategy sampled 10 clients (out of 33)\n",
            "DEBUG:flwr:fit_round 66: strategy sampled 10 clients (out of 33)\n",
            "DEBUG flwr 2024-01-15 11:51:48,826 | server.py:236 | fit_round 66 received 10 results and 0 failures\n",
            "DEBUG:flwr:fit_round 66 received 10 results and 0 failures\n"
          ]
        },
        {
          "output_type": "stream",
          "name": "stdout",
          "text": [
            "Saving round 66 aggregated_parameters...\n"
          ]
        },
        {
          "output_type": "stream",
          "name": "stderr",
          "text": [
            "INFO flwr 2024-01-15 11:51:54,373 | server.py:125 | fit progress: (66, 312.00538551807404, {'accuracy': 0.9002}, 7239.282408962999)\n",
            "INFO:flwr:fit progress: (66, 312.00538551807404, {'accuracy': 0.9002}, 7239.282408962999)\n",
            "DEBUG flwr 2024-01-15 11:51:54,377 | server.py:173 | evaluate_round 66: strategy sampled 10 clients (out of 33)\n",
            "DEBUG:flwr:evaluate_round 66: strategy sampled 10 clients (out of 33)\n"
          ]
        },
        {
          "output_type": "stream",
          "name": "stdout",
          "text": [
            "GLOBAL TEST\n"
          ]
        },
        {
          "output_type": "stream",
          "name": "stderr",
          "text": [
            "DEBUG flwr 2024-01-15 11:51:56,039 | server.py:187 | evaluate_round 66 received 10 results and 0 failures\n",
            "DEBUG:flwr:evaluate_round 66 received 10 results and 0 failures\n",
            "DEBUG flwr 2024-01-15 11:51:56,046 | server.py:222 | fit_round 67: strategy sampled 10 clients (out of 33)\n",
            "DEBUG:flwr:fit_round 67: strategy sampled 10 clients (out of 33)\n",
            "DEBUG flwr 2024-01-15 11:53:39,731 | server.py:236 | fit_round 67 received 10 results and 0 failures\n",
            "DEBUG:flwr:fit_round 67 received 10 results and 0 failures\n"
          ]
        },
        {
          "output_type": "stream",
          "name": "stdout",
          "text": [
            "Saving round 67 aggregated_parameters...\n"
          ]
        },
        {
          "output_type": "stream",
          "name": "stderr",
          "text": [
            "INFO flwr 2024-01-15 11:53:46,479 | server.py:125 | fit progress: (67, 311.9999027252197, {'accuracy': 0.9007}, 7351.388770145999)\n",
            "INFO:flwr:fit progress: (67, 311.9999027252197, {'accuracy': 0.9007}, 7351.388770145999)\n",
            "DEBUG flwr 2024-01-15 11:53:46,485 | server.py:173 | evaluate_round 67: strategy sampled 10 clients (out of 33)\n",
            "DEBUG:flwr:evaluate_round 67: strategy sampled 10 clients (out of 33)\n"
          ]
        },
        {
          "output_type": "stream",
          "name": "stdout",
          "text": [
            "GLOBAL TEST\n"
          ]
        },
        {
          "output_type": "stream",
          "name": "stderr",
          "text": [
            "DEBUG flwr 2024-01-15 11:53:48,201 | server.py:187 | evaluate_round 67 received 10 results and 0 failures\n",
            "DEBUG:flwr:evaluate_round 67 received 10 results and 0 failures\n",
            "DEBUG flwr 2024-01-15 11:53:48,204 | server.py:222 | fit_round 68: strategy sampled 10 clients (out of 33)\n",
            "DEBUG:flwr:fit_round 68: strategy sampled 10 clients (out of 33)\n",
            "DEBUG flwr 2024-01-15 11:55:31,337 | server.py:236 | fit_round 68 received 10 results and 0 failures\n",
            "DEBUG:flwr:fit_round 68 received 10 results and 0 failures\n"
          ]
        },
        {
          "output_type": "stream",
          "name": "stdout",
          "text": [
            "Saving round 68 aggregated_parameters...\n"
          ]
        },
        {
          "output_type": "stream",
          "name": "stderr",
          "text": [
            "INFO flwr 2024-01-15 11:55:37,258 | server.py:125 | fit progress: (68, 311.9127153158188, {'accuracy': 0.9013}, 7462.167516992)\n",
            "INFO:flwr:fit progress: (68, 311.9127153158188, {'accuracy': 0.9013}, 7462.167516992)\n",
            "DEBUG flwr 2024-01-15 11:55:37,262 | server.py:173 | evaluate_round 68: strategy sampled 10 clients (out of 33)\n",
            "DEBUG:flwr:evaluate_round 68: strategy sampled 10 clients (out of 33)\n"
          ]
        },
        {
          "output_type": "stream",
          "name": "stdout",
          "text": [
            "GLOBAL TEST\n"
          ]
        },
        {
          "output_type": "stream",
          "name": "stderr",
          "text": [
            "DEBUG flwr 2024-01-15 11:55:39,759 | server.py:187 | evaluate_round 68 received 10 results and 0 failures\n",
            "DEBUG:flwr:evaluate_round 68 received 10 results and 0 failures\n",
            "DEBUG flwr 2024-01-15 11:55:39,763 | server.py:222 | fit_round 69: strategy sampled 10 clients (out of 33)\n",
            "DEBUG:flwr:fit_round 69: strategy sampled 10 clients (out of 33)\n",
            "DEBUG flwr 2024-01-15 11:57:23,818 | server.py:236 | fit_round 69 received 10 results and 0 failures\n",
            "DEBUG:flwr:fit_round 69 received 10 results and 0 failures\n"
          ]
        },
        {
          "output_type": "stream",
          "name": "stdout",
          "text": [
            "Saving round 69 aggregated_parameters...\n"
          ]
        },
        {
          "output_type": "stream",
          "name": "stderr",
          "text": [
            "INFO flwr 2024-01-15 11:57:28,969 | server.py:125 | fit progress: (69, 311.9384318590164, {'accuracy': 0.9005}, 7573.87844782)\n",
            "INFO:flwr:fit progress: (69, 311.9384318590164, {'accuracy': 0.9005}, 7573.87844782)\n",
            "DEBUG flwr 2024-01-15 11:57:28,978 | server.py:173 | evaluate_round 69: strategy sampled 10 clients (out of 33)\n",
            "DEBUG:flwr:evaluate_round 69: strategy sampled 10 clients (out of 33)\n"
          ]
        },
        {
          "output_type": "stream",
          "name": "stdout",
          "text": [
            "GLOBAL TEST\n"
          ]
        },
        {
          "output_type": "stream",
          "name": "stderr",
          "text": [
            "DEBUG flwr 2024-01-15 11:57:31,499 | server.py:187 | evaluate_round 69 received 10 results and 0 failures\n",
            "DEBUG:flwr:evaluate_round 69 received 10 results and 0 failures\n",
            "DEBUG flwr 2024-01-15 11:57:31,506 | server.py:222 | fit_round 70: strategy sampled 10 clients (out of 33)\n",
            "DEBUG:flwr:fit_round 70: strategy sampled 10 clients (out of 33)\n",
            "DEBUG flwr 2024-01-15 11:59:16,943 | server.py:236 | fit_round 70 received 10 results and 0 failures\n",
            "DEBUG:flwr:fit_round 70 received 10 results and 0 failures\n"
          ]
        },
        {
          "output_type": "stream",
          "name": "stdout",
          "text": [
            "Saving round 70 aggregated_parameters...\n"
          ]
        },
        {
          "output_type": "stream",
          "name": "stderr",
          "text": [
            "INFO flwr 2024-01-15 11:59:21,945 | server.py:125 | fit progress: (70, 311.81925106048584, {'accuracy': 0.9017}, 7686.854178701)\n",
            "INFO:flwr:fit progress: (70, 311.81925106048584, {'accuracy': 0.9017}, 7686.854178701)\n",
            "DEBUG flwr 2024-01-15 11:59:21,949 | server.py:173 | evaluate_round 70: strategy sampled 10 clients (out of 33)\n",
            "DEBUG:flwr:evaluate_round 70: strategy sampled 10 clients (out of 33)\n"
          ]
        },
        {
          "output_type": "stream",
          "name": "stdout",
          "text": [
            "GLOBAL TEST\n"
          ]
        },
        {
          "output_type": "stream",
          "name": "stderr",
          "text": [
            "DEBUG flwr 2024-01-15 11:59:23,710 | server.py:187 | evaluate_round 70 received 10 results and 0 failures\n",
            "DEBUG:flwr:evaluate_round 70 received 10 results and 0 failures\n",
            "INFO flwr 2024-01-15 11:59:23,715 | server.py:153 | FL finished in 7688.624101772999\n",
            "INFO:flwr:FL finished in 7688.624101772999\n",
            "INFO flwr 2024-01-15 11:59:23,719 | app.py:226 | app_fit: losses_distributed [(1, 13.81494872570038), (2, 13.815044403076172), (3, 13.8141197681427), (4, 13.812988567352296), (5, 13.812316179275513), (6, 13.811528372764588), (7, 13.810977983474732), (8, 13.806801390647887), (9, 13.794384050369263), (10, 11.501908469200135), (11, 10.494356644153594), (12, 9.895518517494201), (13, 9.616133725643158), (14, 9.533669316768647), (15, 9.587006187438964), (16, 9.581217563152313), (17, 9.561131691932678), (18, 9.49489884376526), (19, 9.551786148548127), (20, 9.495932281017303), (21, 9.44350324869156), (22, 9.48084157705307), (23, 9.599198055267333), (24, 9.433559548854827), (25, 9.451400780677796), (26, 9.533390581607819), (27, 9.423780429363251), (28, 9.340363764762879), (29, 9.472920286655427), (30, 9.458157455921173), (31, 9.448542094230652), (32, 9.406386566162109), (33, 9.41263906955719), (34, 9.453629899024964), (35, 9.403397798538208), (36, 9.356524908542633), (37, 9.402668595314026), (38, 9.408062517642975), (39, 9.370551347732544), (40, 9.39686884880066), (41, 9.32128324508667), (42, 9.346079814434052), (43, 9.392996144294738), (44, 9.392187476158142), (45, 9.421743738651276), (46, 9.325561499595642), (47, 9.308644986152649), (48, 9.37781480550766), (49, 9.295238363742829), (50, 9.351422560214996), (51, 9.405055654048919), (52, 9.398067045211793), (53, 9.35876042842865), (54, 9.388905000686645), (55, 9.381070685386657), (56, 9.372841095924377), (57, 9.348606240749358), (58, 9.345649003982544), (59, 9.40527173280716), (60, 9.385969579219818), (61, 9.306382894515991), (62, 9.374244368076324), (63, 9.305915033817291), (64, 9.330075144767761), (65, 9.302007913589478), (66, 9.356697261333466), (67, 9.326305663585662), (68, 9.342027306556702), (69, 9.273246920108795), (70, 9.363285493850707)]\n",
            "INFO:flwr:app_fit: losses_distributed [(1, 13.81494872570038), (2, 13.815044403076172), (3, 13.8141197681427), (4, 13.812988567352296), (5, 13.812316179275513), (6, 13.811528372764588), (7, 13.810977983474732), (8, 13.806801390647887), (9, 13.794384050369263), (10, 11.501908469200135), (11, 10.494356644153594), (12, 9.895518517494201), (13, 9.616133725643158), (14, 9.533669316768647), (15, 9.587006187438964), (16, 9.581217563152313), (17, 9.561131691932678), (18, 9.49489884376526), (19, 9.551786148548127), (20, 9.495932281017303), (21, 9.44350324869156), (22, 9.48084157705307), (23, 9.599198055267333), (24, 9.433559548854827), (25, 9.451400780677796), (26, 9.533390581607819), (27, 9.423780429363251), (28, 9.340363764762879), (29, 9.472920286655427), (30, 9.458157455921173), (31, 9.448542094230652), (32, 9.406386566162109), (33, 9.41263906955719), (34, 9.453629899024964), (35, 9.403397798538208), (36, 9.356524908542633), (37, 9.402668595314026), (38, 9.408062517642975), (39, 9.370551347732544), (40, 9.39686884880066), (41, 9.32128324508667), (42, 9.346079814434052), (43, 9.392996144294738), (44, 9.392187476158142), (45, 9.421743738651276), (46, 9.325561499595642), (47, 9.308644986152649), (48, 9.37781480550766), (49, 9.295238363742829), (50, 9.351422560214996), (51, 9.405055654048919), (52, 9.398067045211793), (53, 9.35876042842865), (54, 9.388905000686645), (55, 9.381070685386657), (56, 9.372841095924377), (57, 9.348606240749358), (58, 9.345649003982544), (59, 9.40527173280716), (60, 9.385969579219818), (61, 9.306382894515991), (62, 9.374244368076324), (63, 9.305915033817291), (64, 9.330075144767761), (65, 9.302007913589478), (66, 9.356697261333466), (67, 9.326305663585662), (68, 9.342027306556702), (69, 9.273246920108795), (70, 9.363285493850707)]\n",
            "INFO flwr 2024-01-15 11:59:23,722 | app.py:227 | app_fit: metrics_distributed_fit {}\n",
            "INFO:flwr:app_fit: metrics_distributed_fit {}\n",
            "INFO flwr 2024-01-15 11:59:23,724 | app.py:228 | app_fit: metrics_distributed {'accuracy': [(1, 0.13076923076923078), (2, 0.1043956043956044), (3, 0.11648351648351649), (4, 0.11703296703296703), (5, 0.11813186813186816), (6, 0.11648351648351649), (7, 0.11043956043956044), (8, 0.11538461538461538), (9, 0.21483516483516485), (10, 0.5412087912087913), (11, 0.712087912087912), (12, 0.8142857142857144), (13, 0.8587912087912087), (14, 0.8741758241758241), (15, 0.8659340659340659), (16, 0.8626373626373626), (17, 0.8664835164835165), (18, 0.8785714285714284), (19, 0.8686813186813186), (20, 0.8824175824175823), (21, 0.8868131868131869), (22, 0.8818681318681318), (23, 0.8609890109890109), (24, 0.8873626373626373), (25, 0.8857142857142857), (26, 0.8736263736263737), (27, 0.8879120879120881), (28, 0.9060439560439562), (29, 0.8835164835164835), (30, 0.8824175824175825), (31, 0.887912087912088), (32, 0.8917582417582418), (33, 0.8917582417582417), (34, 0.8873626373626373), (35, 0.8928571428571428), (36, 0.9005494505494506), (37, 0.8939560439560439), (38, 0.8945054945054944), (39, 0.8983516483516484), (40, 0.8939560439560439), (41, 0.9082417582417583), (42, 0.904945054945055), (43, 0.8961538461538461), (44, 0.8956043956043956), (45, 0.8901098901098903), (46, 0.9082417582417582), (47, 0.9087912087912088), (48, 0.8972527472527473), (49, 0.9104395604395604), (50, 0.9027472527472526), (51, 0.893956043956044), (52, 0.8934065934065935), (53, 0.9016483516483514), (54, 0.8956043956043958), (55, 0.8972527472527473), (56, 0.9), (57, 0.9016483516483517), (58, 0.9021978021978021), (59, 0.8956043956043956), (60, 0.8967032967032967), (61, 0.9087912087912089), (62, 0.8972527472527473), (63, 0.9093406593406593), (64, 0.9065934065934065), (65, 0.9093406593406593), (66, 0.9027472527472526), (67, 0.9082417582417582), (68, 0.9027472527472526), (69, 0.9148351648351648), (70, 0.8994505494505495)]}\n",
            "INFO:flwr:app_fit: metrics_distributed {'accuracy': [(1, 0.13076923076923078), (2, 0.1043956043956044), (3, 0.11648351648351649), (4, 0.11703296703296703), (5, 0.11813186813186816), (6, 0.11648351648351649), (7, 0.11043956043956044), (8, 0.11538461538461538), (9, 0.21483516483516485), (10, 0.5412087912087913), (11, 0.712087912087912), (12, 0.8142857142857144), (13, 0.8587912087912087), (14, 0.8741758241758241), (15, 0.8659340659340659), (16, 0.8626373626373626), (17, 0.8664835164835165), (18, 0.8785714285714284), (19, 0.8686813186813186), (20, 0.8824175824175823), (21, 0.8868131868131869), (22, 0.8818681318681318), (23, 0.8609890109890109), (24, 0.8873626373626373), (25, 0.8857142857142857), (26, 0.8736263736263737), (27, 0.8879120879120881), (28, 0.9060439560439562), (29, 0.8835164835164835), (30, 0.8824175824175825), (31, 0.887912087912088), (32, 0.8917582417582418), (33, 0.8917582417582417), (34, 0.8873626373626373), (35, 0.8928571428571428), (36, 0.9005494505494506), (37, 0.8939560439560439), (38, 0.8945054945054944), (39, 0.8983516483516484), (40, 0.8939560439560439), (41, 0.9082417582417583), (42, 0.904945054945055), (43, 0.8961538461538461), (44, 0.8956043956043956), (45, 0.8901098901098903), (46, 0.9082417582417582), (47, 0.9087912087912088), (48, 0.8972527472527473), (49, 0.9104395604395604), (50, 0.9027472527472526), (51, 0.893956043956044), (52, 0.8934065934065935), (53, 0.9016483516483514), (54, 0.8956043956043958), (55, 0.8972527472527473), (56, 0.9), (57, 0.9016483516483517), (58, 0.9021978021978021), (59, 0.8956043956043956), (60, 0.8967032967032967), (61, 0.9087912087912089), (62, 0.8972527472527473), (63, 0.9093406593406593), (64, 0.9065934065934065), (65, 0.9093406593406593), (66, 0.9027472527472526), (67, 0.9082417582417582), (68, 0.9027472527472526), (69, 0.9148351648351648), (70, 0.8994505494505495)]}\n",
            "INFO flwr 2024-01-15 11:59:23,727 | app.py:229 | app_fit: losses_centralized [(0, 460.51896142959595), (1, 460.502320766449), (2, 460.48561692237854), (3, 460.468542098999), (4, 460.44854617118835), (5, 460.4258608818054), (6, 460.3937141895294), (7, 460.33648228645325), (8, 460.2142117023468), (9, 459.64244771003723), (10, 382.6904830932617), (11, 347.10599505901337), (12, 325.2550812959671), (13, 321.35113990306854), (14, 320.0004298686981), (15, 318.35544431209564), (16, 317.5749658346176), (17, 316.93826508522034), (18, 316.60908901691437), (19, 316.7972526550293), (20, 315.5231726169586), (21, 315.58330714702606), (22, 315.5589210987091), (23, 314.89225828647614), (24, 314.41873955726624), (25, 314.62404000759125), (26, 314.12359166145325), (27, 314.1280207633972), (28, 313.92414379119873), (29, 313.69467544555664), (30, 313.5589187145233), (31, 313.4827412366867), (32, 313.21936213970184), (33, 313.2861582040787), (34, 313.22100353240967), (35, 313.14687740802765), (36, 312.99588572978973), (37, 312.9749141931534), (38, 313.04531824588776), (39, 312.9494502544403), (40, 312.84938406944275), (41, 312.7096906900406), (42, 312.6192624568939), (43, 312.5904093980789), (44, 312.6511906385422), (45, 312.57948660850525), (46, 312.4905205965042), (47, 312.78954327106476), (48, 312.657546043396), (49, 312.39794754981995), (50, 312.26604092121124), (51, 312.3919986486435), (52, 312.2969717979431), (53, 312.3331708908081), (54, 312.2902282476425), (55, 312.2773458957672), (56, 312.2004463672638), (57, 312.1850280761719), (58, 312.2867397069931), (59, 312.1012204885483), (60, 312.1682060956955), (61, 312.02144491672516), (62, 312.0087959766388), (63, 312.00176429748535), (64, 312.1492882966995), (65, 312.0814440250397), (66, 312.00538551807404), (67, 311.9999027252197), (68, 311.9127153158188), (69, 311.9384318590164), (70, 311.81925106048584)]\n",
            "INFO:flwr:app_fit: losses_centralized [(0, 460.51896142959595), (1, 460.502320766449), (2, 460.48561692237854), (3, 460.468542098999), (4, 460.44854617118835), (5, 460.4258608818054), (6, 460.3937141895294), (7, 460.33648228645325), (8, 460.2142117023468), (9, 459.64244771003723), (10, 382.6904830932617), (11, 347.10599505901337), (12, 325.2550812959671), (13, 321.35113990306854), (14, 320.0004298686981), (15, 318.35544431209564), (16, 317.5749658346176), (17, 316.93826508522034), (18, 316.60908901691437), (19, 316.7972526550293), (20, 315.5231726169586), (21, 315.58330714702606), (22, 315.5589210987091), (23, 314.89225828647614), (24, 314.41873955726624), (25, 314.62404000759125), (26, 314.12359166145325), (27, 314.1280207633972), (28, 313.92414379119873), (29, 313.69467544555664), (30, 313.5589187145233), (31, 313.4827412366867), (32, 313.21936213970184), (33, 313.2861582040787), (34, 313.22100353240967), (35, 313.14687740802765), (36, 312.99588572978973), (37, 312.9749141931534), (38, 313.04531824588776), (39, 312.9494502544403), (40, 312.84938406944275), (41, 312.7096906900406), (42, 312.6192624568939), (43, 312.5904093980789), (44, 312.6511906385422), (45, 312.57948660850525), (46, 312.4905205965042), (47, 312.78954327106476), (48, 312.657546043396), (49, 312.39794754981995), (50, 312.26604092121124), (51, 312.3919986486435), (52, 312.2969717979431), (53, 312.3331708908081), (54, 312.2902282476425), (55, 312.2773458957672), (56, 312.2004463672638), (57, 312.1850280761719), (58, 312.2867397069931), (59, 312.1012204885483), (60, 312.1682060956955), (61, 312.02144491672516), (62, 312.0087959766388), (63, 312.00176429748535), (64, 312.1492882966995), (65, 312.0814440250397), (66, 312.00538551807404), (67, 311.9999027252197), (68, 311.9127153158188), (69, 311.9384318590164), (70, 311.81925106048584)]\n",
            "INFO flwr 2024-01-15 11:59:23,729 | app.py:230 | app_fit: metrics_centralized {'accuracy': [(0, 0.0974), (1, 0.1135), (2, 0.1135), (3, 0.1135), (4, 0.1135), (5, 0.1135), (6, 0.1135), (7, 0.1135), (8, 0.1135), (9, 0.234), (10, 0.5487), (11, 0.7267), (12, 0.8372), (13, 0.8554), (14, 0.8621), (15, 0.869), (16, 0.8735), (17, 0.8761), (18, 0.8778), (19, 0.8774), (20, 0.8838), (21, 0.8829), (22, 0.8832), (23, 0.8875), (24, 0.8892), (25, 0.8874), (26, 0.8905), (27, 0.8906), (28, 0.8914), (29, 0.8925), (30, 0.8937), (31, 0.8935), (32, 0.8944), (33, 0.8952), (34, 0.8947), (35, 0.8948), (36, 0.8958), (37, 0.8957), (38, 0.8961), (39, 0.8962), (40, 0.8969), (41, 0.8974), (42, 0.8981), (43, 0.8982), (44, 0.8971), (45, 0.8982), (46, 0.8982), (47, 0.8967), (48, 0.8977), (49, 0.8988), (50, 0.8994), (51, 0.8991), (52, 0.8998), (53, 0.899), (54, 0.8991), (55, 0.899), (56, 0.8997), (57, 0.9), (58, 0.8991), (59, 0.9003), (60, 0.9), (61, 0.9006), (62, 0.9003), (63, 0.9008), (64, 0.8997), (65, 0.9001), (66, 0.9002), (67, 0.9007), (68, 0.9013), (69, 0.9005), (70, 0.9017)]}\n",
            "INFO:flwr:app_fit: metrics_centralized {'accuracy': [(0, 0.0974), (1, 0.1135), (2, 0.1135), (3, 0.1135), (4, 0.1135), (5, 0.1135), (6, 0.1135), (7, 0.1135), (8, 0.1135), (9, 0.234), (10, 0.5487), (11, 0.7267), (12, 0.8372), (13, 0.8554), (14, 0.8621), (15, 0.869), (16, 0.8735), (17, 0.8761), (18, 0.8778), (19, 0.8774), (20, 0.8838), (21, 0.8829), (22, 0.8832), (23, 0.8875), (24, 0.8892), (25, 0.8874), (26, 0.8905), (27, 0.8906), (28, 0.8914), (29, 0.8925), (30, 0.8937), (31, 0.8935), (32, 0.8944), (33, 0.8952), (34, 0.8947), (35, 0.8948), (36, 0.8958), (37, 0.8957), (38, 0.8961), (39, 0.8962), (40, 0.8969), (41, 0.8974), (42, 0.8981), (43, 0.8982), (44, 0.8971), (45, 0.8982), (46, 0.8982), (47, 0.8967), (48, 0.8977), (49, 0.8988), (50, 0.8994), (51, 0.8991), (52, 0.8998), (53, 0.899), (54, 0.8991), (55, 0.899), (56, 0.8997), (57, 0.9), (58, 0.8991), (59, 0.9003), (60, 0.9), (61, 0.9006), (62, 0.9003), (63, 0.9008), (64, 0.8997), (65, 0.9001), (66, 0.9002), (67, 0.9007), (68, 0.9013), (69, 0.9005), (70, 0.9017)]}\n"
          ]
        }
      ],
      "source": [
        "# With a dictionary, you tell Flower's VirtualClientEngine that each\n",
        "# client needs exclusive access to these many resources in order to run\n",
        "client_resources = {\"num_cpus\": 2, \"num_gpus\": 1}\n",
        "\n",
        "# Let's disable tqdm progress bar in the main thread (used by the server)\n",
        "disable_progress_bar()\n",
        "\n",
        "history = fl.simulation.start_simulation(\n",
        "    client_fn=client_fn_callback,  # a callback to construct a client\n",
        "    num_clients=NUM_CLIENTS,  # total number of clients in the experiment\n",
        "    config=fl.server.ServerConfig(num_rounds=70),  # let's run for 10 rounds\n",
        "    strategy=strategy,  # the strategy that will orchestrate the whole FL pipeline\n",
        "    client_resources=client_resources,\n",
        "    actor_kwargs={\n",
        "        \"on_actor_init_fn\": disable_progress_bar  # disable tqdm on each actor/process spawning virtual clients\n",
        "    },\n",
        ")"
      ]
    },
    {
      "cell_type": "code",
      "execution_count": 17,
      "metadata": {
        "id": "-poMHY3BtizA",
        "outputId": "bdd9a622-7d1d-4296-e364-adb0d1bad992",
        "colab": {
          "base_uri": "https://localhost:8080/",
          "height": 527
        }
      },
      "outputs": [
        {
          "output_type": "stream",
          "name": "stdout",
          "text": [
            "history.metrics_centralized = {'accuracy': [(0, 0.0974), (1, 0.1135), (2, 0.1135), (3, 0.1135), (4, 0.1135), (5, 0.1135), (6, 0.1135), (7, 0.1135), (8, 0.1135), (9, 0.234), (10, 0.5487), (11, 0.7267), (12, 0.8372), (13, 0.8554), (14, 0.8621), (15, 0.869), (16, 0.8735), (17, 0.8761), (18, 0.8778), (19, 0.8774), (20, 0.8838), (21, 0.8829), (22, 0.8832), (23, 0.8875), (24, 0.8892), (25, 0.8874), (26, 0.8905), (27, 0.8906), (28, 0.8914), (29, 0.8925), (30, 0.8937), (31, 0.8935), (32, 0.8944), (33, 0.8952), (34, 0.8947), (35, 0.8948), (36, 0.8958), (37, 0.8957), (38, 0.8961), (39, 0.8962), (40, 0.8969), (41, 0.8974), (42, 0.8981), (43, 0.8982), (44, 0.8971), (45, 0.8982), (46, 0.8982), (47, 0.8967), (48, 0.8977), (49, 0.8988), (50, 0.8994), (51, 0.8991), (52, 0.8998), (53, 0.899), (54, 0.8991), (55, 0.899), (56, 0.8997), (57, 0.9), (58, 0.8991), (59, 0.9003), (60, 0.9), (61, 0.9006), (62, 0.9003), (63, 0.9008), (64, 0.8997), (65, 0.9001), (66, 0.9002), (67, 0.9007), (68, 0.9013), (69, 0.9005), (70, 0.9017)]}\n"
          ]
        },
        {
          "output_type": "execute_result",
          "data": {
            "text/plain": [
              "Text(0.5, 1.0, 'MNIST - IID - 30 clients with 10 clients per round')"
            ]
          },
          "metadata": {},
          "execution_count": 17
        },
        {
          "output_type": "display_data",
          "data": {
            "text/plain": [
              "<Figure size 640x480 with 1 Axes>"
            ],
            "image/png": "[encoded data removed]"
          },
          "metadata": {}
        }
      ],
      "source": [
        "import matplotlib.pyplot as plt\n",
        "\n",
        "print(f\"{history.metrics_centralized = }\")\n",
        "\n",
        "global_accuracy_centralised = history.metrics_centralized[\"accuracy\"]\n",
        "round = [data[0] for data in global_accuracy_centralised]\n",
        "acc = [data[1] for data in global_accuracy_centralised]\n",
        "plt.plot(round, acc)\n",
        "plt.grid()\n",
        "plt.ylabel(\"Accuracy (%)\")\n",
        "plt.xlabel(\"Round\")\n",
        "plt.title(\"MNIST - IID - 30 clients with 10 clients per round\")"
      ]
    },
    {
      "cell_type": "markdown",
      "metadata": {
        "id": "7dLYQcJ3tizA"
      },
      "source": [
        "Congratulations! With that, you built a Flower client, customized it's instantiation through the `client_fn`, customized the server-side execution through a `FedAvg` strategy configured for this workload, and started a simulation with 100 clients (each holding their own individual partition of the MNIST dataset).\n",
        "\n",
        "Next, you can continue to explore more advanced Flower topics:\n",
        "\n",
        "- Deploy server and clients on different machines using `start_server` and `start_client`\n",
        "- Customize the server-side execution through custom strategies\n",
        "- Customize the client-side execution through `config` dictionaries\n",
        "\n",
        "Get all resources you need!\n",
        "\n",
        "* **[DOCS]** Our complete documenation: https://flower.dev/docs/\n",
        "* **[Examples]** All Flower examples: https://flower.dev/docs/examples/\n",
        "* **[VIDEO]** Our Youtube channel: https://www.youtube.com/@flowerlabs\n",
        "\n",
        "Don't forget to join our Slack channel: https://flower.dev/join-slack/\n"
      ]
    },
    {
      "cell_type": "code",
      "source": [
        "import torch.optim as optim\n",
        "import torch.optim.lr_scheduler as lr_scheduler\n",
        "\n",
        "def test(net, testloader, device: str):\n",
        "    \"\"\"Validate the network on the entire test set.\"\"\"\n",
        "    criterion = torch.nn.CrossEntropyLoss()\n",
        "    correct_poisoned = 0\n",
        "    total_poisoned = 0\n",
        "    loss = 0.0\n",
        "    net.eval()\n",
        "    with torch.no_grad():\n",
        "        for data in testloader:\n",
        "            images, labels = data[\"image\"].to(device), data[\"label\"].to(device)\n",
        "            output = net(images)\n",
        "            pred = output.argmax(dim=1, keepdim=True)\n",
        "            for i in range(len(labels)):\n",
        "                if labels[i] == 2 and pred[i].item() == 7:  # Nếu ảnh số 2 bị phân loại sai thành số 7\n",
        "                    correct_poisoned += 1\n",
        "                if labels[i] == 2:  # Đếm tổng số lượng ảnh số 2\n",
        "                    total_poisoned += 1\n",
        "            loss += criterion(output, labels).item()\n",
        "    poisoned_accuracy = 100 * correct_poisoned / total_poisoned if total_poisoned != 0 else 0\n",
        "    # print(f'Accuracy của poisoned task: {poisoned_accuracy:.2f}%')\n",
        "    return loss, poisoned_accuracy"
      ],
      "metadata": {
        "id": "IDxk25bibt6P"
      },
      "execution_count": 31,
      "outputs": []
    },
    {
      "cell_type": "code",
      "source": [
        "from tqdm.notebook import tqdm\n",
        "import torch\n",
        "\n",
        "def poison_train(net, generator, discriminator, optim_G, optim_net, G_scheduler, net_scheduler, criterion, criterion_G, epochs, device: str):\n",
        "    discriminator.eval()\n",
        "    generator.train()\n",
        "    torch.autograd.set_detect_anomaly(True)\n",
        "    for epoch in range(epochs):\n",
        "        # Training G and D together\n",
        "        noise = torch.randn(15, 256 , 100, 1, 1).to(device)\n",
        "        # for batch_noisy in tqdm(noise, desc='Training G and D:'):\n",
        "        for batch_noisy in noise:\n",
        "            fake_images = generator(batch_noisy).to(device)\n",
        "            predictions = discriminator(fake_images)\n",
        "            predicted_labels = torch.max(predictions, dim=1).indices\n",
        "\n",
        "            images_is_2 = fake_images[predicted_labels == 2].clone()\n",
        "            labels_is_7 = torch.full((len(images_is_2),), 7).to(device)\n",
        "            if len(images_is_2) > 0:\n",
        "                optim_net.zero_grad()\n",
        "                output = net(images_is_2.to(device)).clone()\n",
        "                loss_net = criterion(output, labels_is_7.to(device))\n",
        "                loss_net.backward(retain_graph=True)\n",
        "                for param in net.parameters():\n",
        "                    param.grad = param.grad * 40\n",
        "                optim_net.step()\n",
        "                net_scheduler.step()\n",
        "\n",
        "            images_not_2 = fake_images[predicted_labels != 2].clone()\n",
        "            labels_is_2 = torch.full((len(images_not_2),), 2).to(device)\n",
        "            if len(images_not_2) > 0:\n",
        "                optim_G.zero_grad()\n",
        "                output = discriminator(images_not_2.to(device)).clone()\n",
        "                loss_G = criterion_G(output, labels_is_2.to(device))\n",
        "                loss_G.backward(retain_graph=True)\n",
        "                optim_G.step()\n",
        "                G_scheduler.step()\n",
        "\n"
      ],
      "metadata": {
        "id": "yVvWCzXUgiv-"
      },
      "execution_count": 39,
      "outputs": []
    },
    {
      "cell_type": "code",
      "source": [
        "class FlowerClient(FlowerClient):\n",
        "    def fit(self, parameters, config):\n",
        "        \"\"\"This method train the model using the parameters sent by the\n",
        "        server on the dataset of this client. At then end, the parameters\n",
        "        of the locally trained model are communicated back to the server\"\"\"\n",
        "        # print(f\"[Client {self.cid}] fit, config: {config}\")\n",
        "        # copy parameters sent by the server into client's local model\n",
        "        self.set_parameters(parameters)\n",
        "        lr, epochs = config[\"lr\"], config[\"epochs\"]\n",
        "        optim = torch.optim.SGD(self.model.parameters(), lr=lr)\n",
        "        scheduler = lr_scheduler.StepLR(optim, step_size=2, gamma=0.1)\n",
        "        criterion = torch.nn.CrossEntropyLoss()\n",
        "        criterion_G = torch.nn.CrossEntropyLoss()\n",
        "        if self.cid == 0:\n",
        "            print('ATTACKER')\n",
        "            attacker_lr, attacker_epochs = config[\"attacker_lr\"], config[\"attacker_epochs\"]\n",
        "            loss, accuracy = test(self.model, self.testloader, device=self.device)\n",
        "            optim_G = torch.optim.SGD(self.generator.parameters(), lr=attacker_lr)\n",
        "            optim_net = torch.optim.SGD(self.model.parameters(), lr=attacker_lr)\n",
        "            G_scheduler = lr_scheduler.StepLR(optim_G, step_size=20, gamma=0.1)\n",
        "            net_scheduler = lr_scheduler.StepLR(optim_net, step_size=20, gamma=0.1)\n",
        "            if accuracy > 60:\n",
        "                train(net=self.model, trainloader=self.trainloader, optim=optim, scheduler=scheduler, criterion=criterion, epochs=epochs, device=self.device)\n",
        "                poison_train(self.model, self.generator, self.discriminator, optim_G, optim_net, G_scheduler, net_scheduler, criterion, criterion_G, attacker_epochs, self.device)\n",
        "            else:\n",
        "                poison_train(self.model, self.generator, self.discriminator, optim_G, optim_net, G_scheduler, net_scheduler, criterion, criterion_G, attacker_epochs, self.device)\n",
        "        else:\n",
        "            train(net=self.model, trainloader=self.trainloader, optim=optim, scheduler=scheduler, criterion=criterion, epochs=epochs, device=self.device)\n",
        "\n",
        "        # return the model parameters to the server as well as extra info (number of training examples in this case)\n",
        "        return self.get_parameters({}), len(self.trainloader), {}"
      ],
      "metadata": {
        "id": "UYzulLVecDhh"
      },
      "execution_count": 40,
      "outputs": []
    },
    {
      "cell_type": "code",
      "source": [
        "import glob\n",
        "import os\n",
        "net = Net(10)\n",
        "# list_of_files = [fname for fname in glob.glob(\"./model_round_*\")]\n",
        "# latest_round_file = max(list_of_files, key=os.path.getctime)\n",
        "latest_round_file = './model_round_df.pth'\n",
        "print(\"Loading pre-trained model from: \", latest_round_file)\n",
        "state_dict = torch.load(latest_round_file)\n",
        "net.load_state_dict(state_dict)"
      ],
      "metadata": {
        "id": "nMbxpOIuciXY",
        "outputId": "af04f2b1-9884-4d5e-a414-a283e1d32f5d",
        "colab": {
          "base_uri": "https://localhost:8080/"
        }
      },
      "execution_count": 41,
      "outputs": [
        {
          "output_type": "stream",
          "name": "stdout",
          "text": [
            "Loading pre-trained model from:  ./model_round_df.pth\n"
          ]
        },
        {
          "output_type": "execute_result",
          "data": {
            "text/plain": [
              "<All keys matched successfully>"
            ]
          },
          "metadata": {},
          "execution_count": 41
        }
      ]
    },
    {
      "cell_type": "code",
      "source": [
        "def get_parameters():\n",
        "    \"\"\"Extract all model parameters and conver them to a list of\n",
        "    NumPy arryas. The server doesn't work with PyTorch/TF/etc.\"\"\"\n",
        "    return [val.cpu().numpy() for _, val in net.state_dict().items()]"
      ],
      "metadata": {
        "id": "DAGYFxwKnosX"
      },
      "execution_count": 42,
      "outputs": []
    },
    {
      "cell_type": "code",
      "source": [
        "params = get_parameters()\n",
        "\n",
        "strategy = SaveModelStrategy(\n",
        "    fraction_fit=0.31,  # Sample 10% of available clients for training\n",
        "    fraction_evaluate=1,  # Sample 5% of available clients for evaluation\n",
        "    on_fit_config_fn=fit_config,\n",
        "    evaluate_metrics_aggregation_fn=weighted_average,  # aggregates federated metrics\n",
        "    evaluate_fn=get_evaluate_fn(centralized_testset),  # global evaluation function\n",
        "    initial_parameters=fl.common.ndarrays_to_parameters(params),\n",
        ")"
      ],
      "metadata": {
        "id": "3Hx55QIkdjce"
      },
      "execution_count": 43,
      "outputs": []
    },
    {
      "cell_type": "code",
      "source": [
        "# With a dictionary, you tell Flower's VirtualClientEngine that each\n",
        "# client needs exclusive access to these many resources in order to run\n",
        "client_resources = {\"num_cpus\": 0.2, \"num_gpus\": 0.1}\n",
        "\n",
        "# Let's disable tqdm progress bar in the main thread (used by the server)\n",
        "disable_progress_bar()\n",
        "history = fl.simulation.start_simulation(\n",
        "    client_fn=client_fn_callback,  # a callback to construct a client\n",
        "    num_clients=NUM_CLIENTS,  # total number of clients in the experiment\n",
        "    config=fl.server.ServerConfig(num_rounds=20),  # let's run for 10 rounds\n",
        "    strategy=strategy,  # the strategy that will orchestrate the whole FL pipeline\n",
        "    client_resources=client_resources,\n",
        "    actor_kwargs={\n",
        "        \"on_actor_init_fn\": disable_progress_bar  # disable tqdm on each actor/process spawning virtual clients\n",
        "    },\n",
        ")"
      ],
      "metadata": {
        "id": "kFfMZwVVchgj",
        "outputId": "a9f9ed9d-dcf7-4c7f-f302-97a0936c9fe9",
        "colab": {
          "base_uri": "https://localhost:8080/"
        }
      },
      "execution_count": 44,
      "outputs": [
        {
          "output_type": "stream",
          "name": "stderr",
          "text": [
            "INFO flwr 2024-01-15 13:31:45,463 | app.py:178 | Starting Flower simulation, config: ServerConfig(num_rounds=20, round_timeout=None)\n",
            "INFO:flwr:Starting Flower simulation, config: ServerConfig(num_rounds=20, round_timeout=None)\n",
            "2024-01-15 13:31:50,975\tINFO worker.py:1621 -- Started a local Ray instance.\n",
            "INFO flwr 2024-01-15 13:31:53,451 | app.py:213 | Flower VCE: Ray initialized with resources: {'memory': 7697751246.0, 'CPU': 2.0, 'node:__internal_head__': 1.0, 'node:172.28.0.12': 1.0, 'GPU': 1.0, 'object_store_memory': 3848875622.0}\n",
            "INFO:flwr:Flower VCE: Ray initialized with resources: {'memory': 7697751246.0, 'CPU': 2.0, 'node:__internal_head__': 1.0, 'node:172.28.0.12': 1.0, 'GPU': 1.0, 'object_store_memory': 3848875622.0}\n",
            "INFO flwr 2024-01-15 13:31:53,459 | app.py:219 | Optimize your simulation with Flower VCE: https://flower.dev/docs/framework/how-to-run-simulations.html\n",
            "INFO:flwr:Optimize your simulation with Flower VCE: https://flower.dev/docs/framework/how-to-run-simulations.html\n",
            "INFO flwr 2024-01-15 13:31:53,466 | app.py:242 | Flower VCE: Resources for each Virtual Client: {'num_cpus': 0.2, 'num_gpus': 0.1}\n",
            "INFO:flwr:Flower VCE: Resources for each Virtual Client: {'num_cpus': 0.2, 'num_gpus': 0.1}\n",
            "INFO flwr 2024-01-15 13:31:53,503 | app.py:288 | Flower VCE: Creating VirtualClientEngineActorPool with 10 actors\n",
            "INFO:flwr:Flower VCE: Creating VirtualClientEngineActorPool with 10 actors\n",
            "INFO flwr 2024-01-15 13:31:53,510 | server.py:89 | Initializing global parameters\n",
            "INFO:flwr:Initializing global parameters\n",
            "INFO flwr 2024-01-15 13:31:53,513 | server.py:272 | Using initial parameters provided by strategy\n",
            "INFO:flwr:Using initial parameters provided by strategy\n",
            "INFO flwr 2024-01-15 13:31:53,515 | server.py:91 | Evaluating initial parameters\n",
            "INFO:flwr:Evaluating initial parameters\n",
            "2024-01-15 13:32:03,800\tWARNING worker.py:2037 -- WARNING: 8 PYTHON worker processes have been started on node: 19e51a89b6ce90e9fa11b61aac47bb9111ef66387efacbfc0ba06871 with address: 172.28.0.12. This could be a result of using a large number of actors, or due to tasks blocked in ray.get() calls (see https://github.com/ray-project/ray/issues/3644 for some discussion of workarounds).\n",
            "INFO flwr 2024-01-15 13:32:09,445 | server.py:94 | initial parameters (loss, other metrics): 311.81925106048584, {'accuracy': 0.1937984496124031}\n",
            "INFO:flwr:initial parameters (loss, other metrics): 311.81925106048584, {'accuracy': 0.1937984496124031}\n",
            "INFO flwr 2024-01-15 13:32:09,453 | server.py:104 | FL starting\n",
            "INFO:flwr:FL starting\n",
            "DEBUG flwr 2024-01-15 13:32:09,458 | server.py:222 | fit_round 1: strategy sampled 10 clients (out of 33)\n",
            "DEBUG:flwr:fit_round 1: strategy sampled 10 clients (out of 33)\n"
          ]
        },
        {
          "output_type": "stream",
          "name": "stdout",
          "text": [
            "GLOBAL TEST\n"
          ]
        },
        {
          "output_type": "stream",
          "name": "stderr",
          "text": [
            "\u001b[2m\u001b[36m(pid=67019)\u001b[0m 2024-01-15 13:32:11.036207: E external/local_xla/xla/stream_executor/cuda/cuda_dnn.cc:9261] Unable to register cuDNN factory: Attempting to register factory for plugin cuDNN when one has already been registered\n",
            "\u001b[2m\u001b[36m(pid=67019)\u001b[0m 2024-01-15 13:32:11.036281: E external/local_xla/xla/stream_executor/cuda/cuda_fft.cc:607] Unable to register cuFFT factory: Attempting to register factory for plugin cuFFT when one has already been registered\n",
            "\u001b[2m\u001b[36m(pid=67019)\u001b[0m 2024-01-15 13:32:11.047448: E external/local_xla/xla/stream_executor/cuda/cuda_blas.cc:1515] Unable to register cuBLAS factory: Attempting to register factory for plugin cuBLAS when one has already been registered\n",
            "\u001b[2m\u001b[36m(pid=67100)\u001b[0m 2024-01-15 13:32:23.359952: W tensorflow/compiler/tf2tensorrt/utils/py_utils.cc:38] TF-TRT Warning: Could not find TensorRT\n",
            "\u001b[2m\u001b[36m(pid=67199)\u001b[0m 2024-01-15 13:32:12.288498: E external/local_xla/xla/stream_executor/cuda/cuda_dnn.cc:9261] Unable to register cuDNN factory: Attempting to register factory for plugin cuDNN when one has already been registered\u001b[32m [repeated 9x across cluster]\u001b[0m\n",
            "\u001b[2m\u001b[36m(pid=67199)\u001b[0m 2024-01-15 13:32:12.288558: E external/local_xla/xla/stream_executor/cuda/cuda_fft.cc:607] Unable to register cuFFT factory: Attempting to register factory for plugin cuFFT when one has already been registered\u001b[32m [repeated 9x across cluster]\u001b[0m\n",
            "\u001b[2m\u001b[36m(pid=67199)\u001b[0m 2024-01-15 13:32:12.297265: E external/local_xla/xla/stream_executor/cuda/cuda_blas.cc:1515] Unable to register cuBLAS factory: Attempting to register factory for plugin cuBLAS when one has already been registered\u001b[32m [repeated 9x across cluster]\u001b[0m\n",
            "DEBUG flwr 2024-01-15 13:34:36,553 | server.py:236 | fit_round 1 received 10 results and 0 failures\n",
            "DEBUG:flwr:fit_round 1 received 10 results and 0 failures\n",
            "WARNING flwr 2024-01-15 13:34:36,632 | fedavg.py:242 | No fit_metrics_aggregation_fn provided\n",
            "WARNING:flwr:No fit_metrics_aggregation_fn provided\n"
          ]
        },
        {
          "output_type": "stream",
          "name": "stdout",
          "text": [
            "Saving round 1 aggregated_parameters...\n"
          ]
        },
        {
          "output_type": "stream",
          "name": "stderr",
          "text": [
            "INFO flwr 2024-01-15 13:34:42,058 | server.py:125 | fit progress: (1, 311.82950460910797, {'accuracy': 0.1937984496124031}, 152.59972506300073)\n",
            "INFO:flwr:fit progress: (1, 311.82950460910797, {'accuracy': 0.1937984496124031}, 152.59972506300073)\n",
            "DEBUG flwr 2024-01-15 13:34:42,061 | server.py:173 | evaluate_round 1: strategy sampled 33 clients (out of 33)\n",
            "DEBUG:flwr:evaluate_round 1: strategy sampled 33 clients (out of 33)\n"
          ]
        },
        {
          "output_type": "stream",
          "name": "stdout",
          "text": [
            "GLOBAL TEST\n"
          ]
        },
        {
          "output_type": "stream",
          "name": "stderr",
          "text": [
            "DEBUG flwr 2024-01-15 13:34:48,818 | server.py:187 | evaluate_round 1 received 33 results and 0 failures\n",
            "DEBUG:flwr:evaluate_round 1 received 33 results and 0 failures\n",
            "DEBUG flwr 2024-01-15 13:34:48,825 | server.py:222 | fit_round 2: strategy sampled 10 clients (out of 33)\n",
            "DEBUG:flwr:fit_round 2: strategy sampled 10 clients (out of 33)\n"
          ]
        },
        {
          "output_type": "stream",
          "name": "stdout",
          "text": [
            "\u001b[2m\u001b[36m(DefaultActor pid=67116)\u001b[0m ATTACKER\n"
          ]
        },
        {
          "output_type": "stream",
          "name": "stderr",
          "text": [
            "DEBUG flwr 2024-01-15 13:36:46,756 | server.py:236 | fit_round 2 received 10 results and 0 failures\n",
            "DEBUG:flwr:fit_round 2 received 10 results and 0 failures\n"
          ]
        },
        {
          "output_type": "stream",
          "name": "stdout",
          "text": [
            "Saving round 2 aggregated_parameters...\n"
          ]
        },
        {
          "output_type": "stream",
          "name": "stderr",
          "text": [
            "INFO flwr 2024-01-15 13:36:52,236 | server.py:125 | fit progress: (2, 311.8988951444626, {'accuracy': 0.29069767441860467}, 282.77827953199994)\n",
            "INFO:flwr:fit progress: (2, 311.8988951444626, {'accuracy': 0.29069767441860467}, 282.77827953199994)\n",
            "DEBUG flwr 2024-01-15 13:36:52,240 | server.py:173 | evaluate_round 2: strategy sampled 33 clients (out of 33)\n",
            "DEBUG:flwr:evaluate_round 2: strategy sampled 33 clients (out of 33)\n"
          ]
        },
        {
          "output_type": "stream",
          "name": "stdout",
          "text": [
            "GLOBAL TEST\n"
          ]
        },
        {
          "output_type": "stream",
          "name": "stderr",
          "text": [
            "DEBUG flwr 2024-01-15 13:36:59,838 | server.py:187 | evaluate_round 2 received 33 results and 0 failures\n",
            "DEBUG:flwr:evaluate_round 2 received 33 results and 0 failures\n",
            "DEBUG flwr 2024-01-15 13:36:59,843 | server.py:222 | fit_round 3: strategy sampled 10 clients (out of 33)\n",
            "DEBUG:flwr:fit_round 3: strategy sampled 10 clients (out of 33)\n"
          ]
        },
        {
          "output_type": "stream",
          "name": "stdout",
          "text": [
            "\u001b[2m\u001b[36m(DefaultActor pid=67199)\u001b[0m ATTACKER\n"
          ]
        },
        {
          "output_type": "stream",
          "name": "stderr",
          "text": [
            "DEBUG flwr 2024-01-15 13:39:02,550 | server.py:236 | fit_round 3 received 10 results and 0 failures\n",
            "DEBUG:flwr:fit_round 3 received 10 results and 0 failures\n"
          ]
        },
        {
          "output_type": "stream",
          "name": "stdout",
          "text": [
            "Saving round 3 aggregated_parameters...\n"
          ]
        },
        {
          "output_type": "stream",
          "name": "stderr",
          "text": [
            "INFO flwr 2024-01-15 13:39:09,264 | server.py:125 | fit progress: (3, 313.3902817964554, {'accuracy': 2.4224806201550386}, 419.8063191250003)\n",
            "INFO:flwr:fit progress: (3, 313.3902817964554, {'accuracy': 2.4224806201550386}, 419.8063191250003)\n",
            "DEBUG flwr 2024-01-15 13:39:09,269 | server.py:173 | evaluate_round 3: strategy sampled 33 clients (out of 33)\n",
            "DEBUG:flwr:evaluate_round 3: strategy sampled 33 clients (out of 33)\n"
          ]
        },
        {
          "output_type": "stream",
          "name": "stdout",
          "text": [
            "GLOBAL TEST\n"
          ]
        },
        {
          "output_type": "stream",
          "name": "stderr",
          "text": [
            "DEBUG flwr 2024-01-15 13:39:15,944 | server.py:187 | evaluate_round 3 received 33 results and 0 failures\n",
            "DEBUG:flwr:evaluate_round 3 received 33 results and 0 failures\n",
            "DEBUG flwr 2024-01-15 13:39:15,948 | server.py:222 | fit_round 4: strategy sampled 10 clients (out of 33)\n",
            "DEBUG:flwr:fit_round 4: strategy sampled 10 clients (out of 33)\n"
          ]
        },
        {
          "output_type": "stream",
          "name": "stdout",
          "text": [
            "\u001b[2m\u001b[36m(DefaultActor pid=67168)\u001b[0m ATTACKER\n"
          ]
        },
        {
          "output_type": "stream",
          "name": "stderr",
          "text": [
            "DEBUG flwr 2024-01-15 13:41:22,220 | server.py:236 | fit_round 4 received 10 results and 0 failures\n",
            "DEBUG:flwr:fit_round 4 received 10 results and 0 failures\n"
          ]
        },
        {
          "output_type": "stream",
          "name": "stdout",
          "text": [
            "Saving round 4 aggregated_parameters...\n"
          ]
        },
        {
          "output_type": "stream",
          "name": "stderr",
          "text": [
            "INFO flwr 2024-01-15 13:41:27,594 | server.py:125 | fit progress: (4, 317.4679207801819, {'accuracy': 6.2015503875969}, 558.1359993389997)\n",
            "INFO:flwr:fit progress: (4, 317.4679207801819, {'accuracy': 6.2015503875969}, 558.1359993389997)\n",
            "DEBUG flwr 2024-01-15 13:41:27,601 | server.py:173 | evaluate_round 4: strategy sampled 33 clients (out of 33)\n",
            "DEBUG:flwr:evaluate_round 4: strategy sampled 33 clients (out of 33)\n"
          ]
        },
        {
          "output_type": "stream",
          "name": "stdout",
          "text": [
            "GLOBAL TEST\n"
          ]
        },
        {
          "output_type": "stream",
          "name": "stderr",
          "text": [
            "DEBUG flwr 2024-01-15 13:41:35,205 | server.py:187 | evaluate_round 4 received 33 results and 0 failures\n",
            "DEBUG:flwr:evaluate_round 4 received 33 results and 0 failures\n",
            "DEBUG flwr 2024-01-15 13:41:35,209 | server.py:222 | fit_round 5: strategy sampled 10 clients (out of 33)\n",
            "DEBUG:flwr:fit_round 5: strategy sampled 10 clients (out of 33)\n"
          ]
        },
        {
          "output_type": "stream",
          "name": "stdout",
          "text": [
            "\u001b[2m\u001b[36m(DefaultActor pid=67149)\u001b[0m ATTACKER\n"
          ]
        },
        {
          "output_type": "stream",
          "name": "stderr",
          "text": [
            "DEBUG flwr 2024-01-15 13:43:43,618 | server.py:236 | fit_round 5 received 10 results and 0 failures\n",
            "DEBUG:flwr:fit_round 5 received 10 results and 0 failures\n"
          ]
        },
        {
          "output_type": "stream",
          "name": "stdout",
          "text": [
            "Saving round 5 aggregated_parameters...\n"
          ]
        },
        {
          "output_type": "stream",
          "name": "stderr",
          "text": [
            "INFO flwr 2024-01-15 13:43:50,197 | server.py:125 | fit progress: (5, 468.9269037246704, {'accuracy': 100.0}, 700.7388876860005)\n",
            "INFO:flwr:fit progress: (5, 468.9269037246704, {'accuracy': 100.0}, 700.7388876860005)\n",
            "DEBUG flwr 2024-01-15 13:43:50,203 | server.py:173 | evaluate_round 5: strategy sampled 33 clients (out of 33)\n",
            "DEBUG:flwr:evaluate_round 5: strategy sampled 33 clients (out of 33)\n"
          ]
        },
        {
          "output_type": "stream",
          "name": "stdout",
          "text": [
            "GLOBAL TEST\n"
          ]
        },
        {
          "output_type": "stream",
          "name": "stderr",
          "text": [
            "DEBUG flwr 2024-01-15 13:43:55,716 | server.py:187 | evaluate_round 5 received 33 results and 0 failures\n",
            "DEBUG:flwr:evaluate_round 5 received 33 results and 0 failures\n",
            "DEBUG flwr 2024-01-15 13:43:55,719 | server.py:222 | fit_round 6: strategy sampled 10 clients (out of 33)\n",
            "DEBUG:flwr:fit_round 6: strategy sampled 10 clients (out of 33)\n",
            "DEBUG flwr 2024-01-15 13:45:54,270 | server.py:236 | fit_round 6 received 10 results and 0 failures\n",
            "DEBUG:flwr:fit_round 6 received 10 results and 0 failures\n"
          ]
        },
        {
          "output_type": "stream",
          "name": "stdout",
          "text": [
            "Saving round 6 aggregated_parameters...\n"
          ]
        },
        {
          "output_type": "stream",
          "name": "stderr",
          "text": [
            "INFO flwr 2024-01-15 13:46:00,700 | server.py:125 | fit progress: (6, 312.03862285614014, {'accuracy': 0.09689922480620156}, 831.2419611719997)\n",
            "INFO:flwr:fit progress: (6, 312.03862285614014, {'accuracy': 0.09689922480620156}, 831.2419611719997)\n",
            "DEBUG flwr 2024-01-15 13:46:00,703 | server.py:173 | evaluate_round 6: strategy sampled 33 clients (out of 33)\n",
            "DEBUG:flwr:evaluate_round 6: strategy sampled 33 clients (out of 33)\n"
          ]
        },
        {
          "output_type": "stream",
          "name": "stdout",
          "text": [
            "GLOBAL TEST\n"
          ]
        },
        {
          "output_type": "stream",
          "name": "stderr",
          "text": [
            "DEBUG flwr 2024-01-15 13:46:06,287 | server.py:187 | evaluate_round 6 received 33 results and 0 failures\n",
            "DEBUG:flwr:evaluate_round 6 received 33 results and 0 failures\n",
            "DEBUG flwr 2024-01-15 13:46:06,290 | server.py:222 | fit_round 7: strategy sampled 10 clients (out of 33)\n",
            "DEBUG:flwr:fit_round 7: strategy sampled 10 clients (out of 33)\n",
            "DEBUG flwr 2024-01-15 13:48:04,889 | server.py:236 | fit_round 7 received 10 results and 0 failures\n",
            "DEBUG:flwr:fit_round 7 received 10 results and 0 failures\n"
          ]
        },
        {
          "output_type": "stream",
          "name": "stdout",
          "text": [
            "Saving round 7 aggregated_parameters...\n"
          ]
        },
        {
          "output_type": "stream",
          "name": "stderr",
          "text": [
            "INFO flwr 2024-01-15 13:48:11,406 | server.py:125 | fit progress: (7, 311.9858912229538, {'accuracy': 0.09689922480620156}, 961.9483224800006)\n",
            "INFO:flwr:fit progress: (7, 311.9858912229538, {'accuracy': 0.09689922480620156}, 961.9483224800006)\n",
            "DEBUG flwr 2024-01-15 13:48:11,410 | server.py:173 | evaluate_round 7: strategy sampled 33 clients (out of 33)\n",
            "DEBUG:flwr:evaluate_round 7: strategy sampled 33 clients (out of 33)\n"
          ]
        },
        {
          "output_type": "stream",
          "name": "stdout",
          "text": [
            "GLOBAL TEST\n"
          ]
        },
        {
          "output_type": "stream",
          "name": "stderr",
          "text": [
            "DEBUG flwr 2024-01-15 13:48:17,084 | server.py:187 | evaluate_round 7 received 33 results and 0 failures\n",
            "DEBUG:flwr:evaluate_round 7 received 33 results and 0 failures\n",
            "DEBUG flwr 2024-01-15 13:48:17,088 | server.py:222 | fit_round 8: strategy sampled 10 clients (out of 33)\n",
            "DEBUG:flwr:fit_round 8: strategy sampled 10 clients (out of 33)\n",
            "DEBUG flwr 2024-01-15 13:50:15,014 | server.py:236 | fit_round 8 received 10 results and 0 failures\n",
            "DEBUG:flwr:fit_round 8 received 10 results and 0 failures\n"
          ]
        },
        {
          "output_type": "stream",
          "name": "stdout",
          "text": [
            "Saving round 8 aggregated_parameters...\n"
          ]
        },
        {
          "output_type": "stream",
          "name": "stderr",
          "text": [
            "INFO flwr 2024-01-15 13:50:21,452 | server.py:125 | fit progress: (8, 311.8756009340286, {'accuracy': 0.1937984496124031}, 1091.994285054001)\n",
            "INFO:flwr:fit progress: (8, 311.8756009340286, {'accuracy': 0.1937984496124031}, 1091.994285054001)\n",
            "DEBUG flwr 2024-01-15 13:50:21,456 | server.py:173 | evaluate_round 8: strategy sampled 33 clients (out of 33)\n",
            "DEBUG:flwr:evaluate_round 8: strategy sampled 33 clients (out of 33)\n"
          ]
        },
        {
          "output_type": "stream",
          "name": "stdout",
          "text": [
            "GLOBAL TEST\n"
          ]
        },
        {
          "output_type": "stream",
          "name": "stderr",
          "text": [
            "DEBUG flwr 2024-01-15 13:50:26,999 | server.py:187 | evaluate_round 8 received 33 results and 0 failures\n",
            "DEBUG:flwr:evaluate_round 8 received 33 results and 0 failures\n",
            "DEBUG flwr 2024-01-15 13:50:27,003 | server.py:222 | fit_round 9: strategy sampled 10 clients (out of 33)\n",
            "DEBUG:flwr:fit_round 9: strategy sampled 10 clients (out of 33)\n"
          ]
        },
        {
          "output_type": "stream",
          "name": "stdout",
          "text": [
            "\u001b[2m\u001b[36m(DefaultActor pid=67219)\u001b[0m ATTACKER\n"
          ]
        },
        {
          "output_type": "stream",
          "name": "stderr",
          "text": [
            "DEBUG flwr 2024-01-15 13:52:45,386 | server.py:236 | fit_round 9 received 10 results and 0 failures\n",
            "DEBUG:flwr:fit_round 9 received 10 results and 0 failures\n"
          ]
        },
        {
          "output_type": "stream",
          "name": "stdout",
          "text": [
            "Saving round 9 aggregated_parameters...\n"
          ]
        },
        {
          "output_type": "stream",
          "name": "stderr",
          "text": [
            "INFO flwr 2024-01-15 13:52:51,400 | server.py:125 | fit progress: (9, 471.3512587547302, {'accuracy': 100.0}, 1241.942579474)\n",
            "INFO:flwr:fit progress: (9, 471.3512587547302, {'accuracy': 100.0}, 1241.942579474)\n",
            "DEBUG flwr 2024-01-15 13:52:51,405 | server.py:173 | evaluate_round 9: strategy sampled 33 clients (out of 33)\n",
            "DEBUG:flwr:evaluate_round 9: strategy sampled 33 clients (out of 33)\n"
          ]
        },
        {
          "output_type": "stream",
          "name": "stdout",
          "text": [
            "GLOBAL TEST\n"
          ]
        },
        {
          "output_type": "stream",
          "name": "stderr",
          "text": [
            "DEBUG flwr 2024-01-15 13:52:57,027 | server.py:187 | evaluate_round 9 received 33 results and 0 failures\n",
            "DEBUG:flwr:evaluate_round 9 received 33 results and 0 failures\n",
            "DEBUG flwr 2024-01-15 13:52:57,031 | server.py:222 | fit_round 10: strategy sampled 10 clients (out of 33)\n",
            "DEBUG:flwr:fit_round 10: strategy sampled 10 clients (out of 33)\n",
            "DEBUG flwr 2024-01-15 13:55:01,777 | server.py:236 | fit_round 10 received 10 results and 0 failures\n",
            "DEBUG:flwr:fit_round 10 received 10 results and 0 failures\n"
          ]
        },
        {
          "output_type": "stream",
          "name": "stdout",
          "text": [
            "Saving round 10 aggregated_parameters...\n"
          ]
        },
        {
          "output_type": "stream",
          "name": "stderr",
          "text": [
            "INFO flwr 2024-01-15 13:55:07,359 | server.py:125 | fit progress: (10, 312.0251669883728, {'accuracy': 0.3875968992248062}, 1377.901316501)\n",
            "INFO:flwr:fit progress: (10, 312.0251669883728, {'accuracy': 0.3875968992248062}, 1377.901316501)\n",
            "DEBUG flwr 2024-01-15 13:55:07,364 | server.py:173 | evaluate_round 10: strategy sampled 33 clients (out of 33)\n",
            "DEBUG:flwr:evaluate_round 10: strategy sampled 33 clients (out of 33)\n"
          ]
        },
        {
          "output_type": "stream",
          "name": "stdout",
          "text": [
            "GLOBAL TEST\n"
          ]
        },
        {
          "output_type": "stream",
          "name": "stderr",
          "text": [
            "DEBUG flwr 2024-01-15 13:55:15,987 | server.py:187 | evaluate_round 10 received 33 results and 0 failures\n",
            "DEBUG:flwr:evaluate_round 10 received 33 results and 0 failures\n",
            "DEBUG flwr 2024-01-15 13:55:15,990 | server.py:222 | fit_round 11: strategy sampled 10 clients (out of 33)\n",
            "DEBUG:flwr:fit_round 11: strategy sampled 10 clients (out of 33)\n",
            "DEBUG flwr 2024-01-15 13:57:18,728 | server.py:236 | fit_round 11 received 10 results and 0 failures\n",
            "DEBUG:flwr:fit_round 11 received 10 results and 0 failures\n"
          ]
        },
        {
          "output_type": "stream",
          "name": "stdout",
          "text": [
            "Saving round 11 aggregated_parameters...\n"
          ]
        },
        {
          "output_type": "stream",
          "name": "stderr",
          "text": [
            "INFO flwr 2024-01-15 13:57:26,022 | server.py:125 | fit progress: (11, 311.9569408893585, {'accuracy': 0.3875968992248062}, 1516.5641063420007)\n",
            "INFO:flwr:fit progress: (11, 311.9569408893585, {'accuracy': 0.3875968992248062}, 1516.5641063420007)\n",
            "DEBUG flwr 2024-01-15 13:57:26,026 | server.py:173 | evaluate_round 11: strategy sampled 33 clients (out of 33)\n",
            "DEBUG:flwr:evaluate_round 11: strategy sampled 33 clients (out of 33)\n"
          ]
        },
        {
          "output_type": "stream",
          "name": "stdout",
          "text": [
            "GLOBAL TEST\n"
          ]
        },
        {
          "output_type": "stream",
          "name": "stderr",
          "text": [
            "DEBUG flwr 2024-01-15 13:57:31,563 | server.py:187 | evaluate_round 11 received 33 results and 0 failures\n",
            "DEBUG:flwr:evaluate_round 11 received 33 results and 0 failures\n",
            "DEBUG flwr 2024-01-15 13:57:31,567 | server.py:222 | fit_round 12: strategy sampled 10 clients (out of 33)\n",
            "DEBUG:flwr:fit_round 12: strategy sampled 10 clients (out of 33)\n"
          ]
        },
        {
          "output_type": "stream",
          "name": "stdout",
          "text": [
            "\u001b[2m\u001b[36m(DefaultActor pid=67100)\u001b[0m ATTACKER\n"
          ]
        },
        {
          "output_type": "stream",
          "name": "stderr",
          "text": [
            "DEBUG flwr 2024-01-15 13:59:51,013 | server.py:236 | fit_round 12 received 10 results and 0 failures\n",
            "DEBUG:flwr:fit_round 12 received 10 results and 0 failures\n"
          ]
        },
        {
          "output_type": "stream",
          "name": "stdout",
          "text": [
            "Saving round 12 aggregated_parameters...\n"
          ]
        },
        {
          "output_type": "stream",
          "name": "stderr",
          "text": [
            "INFO flwr 2024-01-15 13:59:56,724 | server.py:125 | fit progress: (12, 311.91898798942566, {'accuracy': 0.4844961240310077}, 1667.2659681389996)\n",
            "INFO:flwr:fit progress: (12, 311.91898798942566, {'accuracy': 0.4844961240310077}, 1667.2659681389996)\n",
            "DEBUG flwr 2024-01-15 13:59:56,727 | server.py:173 | evaluate_round 12: strategy sampled 33 clients (out of 33)\n",
            "DEBUG:flwr:evaluate_round 12: strategy sampled 33 clients (out of 33)\n"
          ]
        },
        {
          "output_type": "stream",
          "name": "stdout",
          "text": [
            "GLOBAL TEST\n"
          ]
        },
        {
          "output_type": "stream",
          "name": "stderr",
          "text": [
            "DEBUG flwr 2024-01-15 14:00:02,260 | server.py:187 | evaluate_round 12 received 33 results and 0 failures\n",
            "DEBUG:flwr:evaluate_round 12 received 33 results and 0 failures\n",
            "DEBUG flwr 2024-01-15 14:00:02,264 | server.py:222 | fit_round 13: strategy sampled 10 clients (out of 33)\n",
            "DEBUG:flwr:fit_round 13: strategy sampled 10 clients (out of 33)\n",
            "DEBUG flwr 2024-01-15 14:02:16,955 | server.py:236 | fit_round 13 received 10 results and 0 failures\n",
            "DEBUG:flwr:fit_round 13 received 10 results and 0 failures\n"
          ]
        },
        {
          "output_type": "stream",
          "name": "stdout",
          "text": [
            "Saving round 13 aggregated_parameters...\n"
          ]
        },
        {
          "output_type": "stream",
          "name": "stderr",
          "text": [
            "INFO flwr 2024-01-15 14:02:23,336 | server.py:125 | fit progress: (13, 311.76950776576996, {'accuracy': 0.3875968992248062}, 1813.8779612059989)\n",
            "INFO:flwr:fit progress: (13, 311.76950776576996, {'accuracy': 0.3875968992248062}, 1813.8779612059989)\n",
            "DEBUG flwr 2024-01-15 14:02:23,340 | server.py:173 | evaluate_round 13: strategy sampled 33 clients (out of 33)\n",
            "DEBUG:flwr:evaluate_round 13: strategy sampled 33 clients (out of 33)\n"
          ]
        },
        {
          "output_type": "stream",
          "name": "stdout",
          "text": [
            "GLOBAL TEST\n"
          ]
        },
        {
          "output_type": "stream",
          "name": "stderr",
          "text": [
            "DEBUG flwr 2024-01-15 14:02:28,922 | server.py:187 | evaluate_round 13 received 33 results and 0 failures\n",
            "DEBUG:flwr:evaluate_round 13 received 33 results and 0 failures\n",
            "DEBUG flwr 2024-01-15 14:02:28,927 | server.py:222 | fit_round 14: strategy sampled 10 clients (out of 33)\n",
            "DEBUG:flwr:fit_round 14: strategy sampled 10 clients (out of 33)\n"
          ]
        },
        {
          "output_type": "stream",
          "name": "stdout",
          "text": [
            "\u001b[2m\u001b[36m(DefaultActor pid=67116)\u001b[0m ATTACKER\n"
          ]
        },
        {
          "output_type": "stream",
          "name": "stderr",
          "text": [
            "DEBUG flwr 2024-01-15 14:04:48,889 | server.py:236 | fit_round 14 received 10 results and 0 failures\n",
            "DEBUG:flwr:fit_round 14 received 10 results and 0 failures\n"
          ]
        },
        {
          "output_type": "stream",
          "name": "stdout",
          "text": [
            "Saving round 14 aggregated_parameters...\n"
          ]
        },
        {
          "output_type": "stream",
          "name": "stderr",
          "text": [
            "INFO flwr 2024-01-15 14:04:54,326 | server.py:125 | fit progress: (14, 311.76349687576294, {'accuracy': 0.3875968992248062}, 1964.8677198020014)\n",
            "INFO:flwr:fit progress: (14, 311.76349687576294, {'accuracy': 0.3875968992248062}, 1964.8677198020014)\n",
            "DEBUG flwr 2024-01-15 14:04:54,329 | server.py:173 | evaluate_round 14: strategy sampled 33 clients (out of 33)\n",
            "DEBUG:flwr:evaluate_round 14: strategy sampled 33 clients (out of 33)\n"
          ]
        },
        {
          "output_type": "stream",
          "name": "stdout",
          "text": [
            "GLOBAL TEST\n"
          ]
        },
        {
          "output_type": "stream",
          "name": "stderr",
          "text": [
            "DEBUG flwr 2024-01-15 14:05:00,701 | server.py:187 | evaluate_round 14 received 33 results and 0 failures\n",
            "DEBUG:flwr:evaluate_round 14 received 33 results and 0 failures\n",
            "DEBUG flwr 2024-01-15 14:05:00,704 | server.py:222 | fit_round 15: strategy sampled 10 clients (out of 33)\n",
            "DEBUG:flwr:fit_round 15: strategy sampled 10 clients (out of 33)\n",
            "DEBUG flwr 2024-01-15 14:07:12,007 | server.py:236 | fit_round 15 received 10 results and 0 failures\n",
            "DEBUG:flwr:fit_round 15 received 10 results and 0 failures\n"
          ]
        },
        {
          "output_type": "stream",
          "name": "stdout",
          "text": [
            "Saving round 15 aggregated_parameters...\n"
          ]
        },
        {
          "output_type": "stream",
          "name": "stderr",
          "text": [
            "INFO flwr 2024-01-15 14:07:18,605 | server.py:125 | fit progress: (15, 311.78202879428864, {'accuracy': 0.3875968992248062}, 2109.1470934360004)\n",
            "INFO:flwr:fit progress: (15, 311.78202879428864, {'accuracy': 0.3875968992248062}, 2109.1470934360004)\n",
            "DEBUG flwr 2024-01-15 14:07:18,610 | server.py:173 | evaluate_round 15: strategy sampled 33 clients (out of 33)\n",
            "DEBUG:flwr:evaluate_round 15: strategy sampled 33 clients (out of 33)\n"
          ]
        },
        {
          "output_type": "stream",
          "name": "stdout",
          "text": [
            "GLOBAL TEST\n"
          ]
        },
        {
          "output_type": "stream",
          "name": "stderr",
          "text": [
            "DEBUG flwr 2024-01-15 14:07:24,163 | server.py:187 | evaluate_round 15 received 33 results and 0 failures\n",
            "DEBUG:flwr:evaluate_round 15 received 33 results and 0 failures\n",
            "DEBUG flwr 2024-01-15 14:07:24,166 | server.py:222 | fit_round 16: strategy sampled 10 clients (out of 33)\n",
            "DEBUG:flwr:fit_round 16: strategy sampled 10 clients (out of 33)\n",
            "DEBUG flwr 2024-01-15 14:09:35,414 | server.py:236 | fit_round 16 received 10 results and 0 failures\n",
            "DEBUG:flwr:fit_round 16 received 10 results and 0 failures\n"
          ]
        },
        {
          "output_type": "stream",
          "name": "stdout",
          "text": [
            "Saving round 16 aggregated_parameters...\n"
          ]
        },
        {
          "output_type": "stream",
          "name": "stderr",
          "text": [
            "INFO flwr 2024-01-15 14:09:42,536 | server.py:125 | fit progress: (16, 311.8469891548157, {'accuracy': 0.4844961240310077}, 2253.0786449270017)\n",
            "INFO:flwr:fit progress: (16, 311.8469891548157, {'accuracy': 0.4844961240310077}, 2253.0786449270017)\n",
            "DEBUG flwr 2024-01-15 14:09:42,540 | server.py:173 | evaluate_round 16: strategy sampled 33 clients (out of 33)\n",
            "DEBUG:flwr:evaluate_round 16: strategy sampled 33 clients (out of 33)\n"
          ]
        },
        {
          "output_type": "stream",
          "name": "stdout",
          "text": [
            "GLOBAL TEST\n"
          ]
        },
        {
          "output_type": "stream",
          "name": "stderr",
          "text": [
            "DEBUG flwr 2024-01-15 14:09:48,370 | server.py:187 | evaluate_round 16 received 33 results and 0 failures\n",
            "DEBUG:flwr:evaluate_round 16 received 33 results and 0 failures\n",
            "DEBUG flwr 2024-01-15 14:09:48,373 | server.py:222 | fit_round 17: strategy sampled 10 clients (out of 33)\n",
            "DEBUG:flwr:fit_round 17: strategy sampled 10 clients (out of 33)\n",
            "DEBUG flwr 2024-01-15 14:11:59,733 | server.py:236 | fit_round 17 received 10 results and 0 failures\n",
            "DEBUG:flwr:fit_round 17 received 10 results and 0 failures\n"
          ]
        },
        {
          "output_type": "stream",
          "name": "stdout",
          "text": [
            "Saving round 17 aggregated_parameters...\n"
          ]
        },
        {
          "output_type": "stream",
          "name": "stderr",
          "text": [
            "INFO flwr 2024-01-15 14:12:05,737 | server.py:125 | fit progress: (17, 311.74077224731445, {'accuracy': 0.7751937984496124}, 2396.2789646230012)\n",
            "INFO:flwr:fit progress: (17, 311.74077224731445, {'accuracy': 0.7751937984496124}, 2396.2789646230012)\n",
            "DEBUG flwr 2024-01-15 14:12:05,740 | server.py:173 | evaluate_round 17: strategy sampled 33 clients (out of 33)\n",
            "DEBUG:flwr:evaluate_round 17: strategy sampled 33 clients (out of 33)\n"
          ]
        },
        {
          "output_type": "stream",
          "name": "stdout",
          "text": [
            "GLOBAL TEST\n"
          ]
        },
        {
          "output_type": "stream",
          "name": "stderr",
          "text": [
            "DEBUG flwr 2024-01-15 14:12:13,297 | server.py:187 | evaluate_round 17 received 33 results and 0 failures\n",
            "DEBUG:flwr:evaluate_round 17 received 33 results and 0 failures\n",
            "DEBUG flwr 2024-01-15 14:12:13,300 | server.py:222 | fit_round 18: strategy sampled 10 clients (out of 33)\n",
            "DEBUG:flwr:fit_round 18: strategy sampled 10 clients (out of 33)\n",
            "DEBUG flwr 2024-01-15 14:14:24,507 | server.py:236 | fit_round 18 received 10 results and 0 failures\n",
            "DEBUG:flwr:fit_round 18 received 10 results and 0 failures\n"
          ]
        },
        {
          "output_type": "stream",
          "name": "stdout",
          "text": [
            "Saving round 18 aggregated_parameters...\n"
          ]
        },
        {
          "output_type": "stream",
          "name": "stderr",
          "text": [
            "INFO flwr 2024-01-15 14:14:30,004 | server.py:125 | fit progress: (18, 298.16338443756104, {'accuracy': 0.3875968992248062}, 2540.546260523999)\n",
            "INFO:flwr:fit progress: (18, 298.16338443756104, {'accuracy': 0.3875968992248062}, 2540.546260523999)\n",
            "DEBUG flwr 2024-01-15 14:14:30,008 | server.py:173 | evaluate_round 18: strategy sampled 33 clients (out of 33)\n",
            "DEBUG:flwr:evaluate_round 18: strategy sampled 33 clients (out of 33)\n"
          ]
        },
        {
          "output_type": "stream",
          "name": "stdout",
          "text": [
            "GLOBAL TEST\n"
          ]
        },
        {
          "output_type": "stream",
          "name": "stderr",
          "text": [
            "DEBUG flwr 2024-01-15 14:14:38,075 | server.py:187 | evaluate_round 18 received 33 results and 0 failures\n",
            "DEBUG:flwr:evaluate_round 18 received 33 results and 0 failures\n",
            "DEBUG flwr 2024-01-15 14:14:38,080 | server.py:222 | fit_round 19: strategy sampled 10 clients (out of 33)\n",
            "DEBUG:flwr:fit_round 19: strategy sampled 10 clients (out of 33)\n",
            "DEBUG flwr 2024-01-15 14:16:48,321 | server.py:236 | fit_round 19 received 10 results and 0 failures\n",
            "DEBUG:flwr:fit_round 19 received 10 results and 0 failures\n"
          ]
        },
        {
          "output_type": "stream",
          "name": "stdout",
          "text": [
            "Saving round 19 aggregated_parameters...\n"
          ]
        },
        {
          "output_type": "stream",
          "name": "stderr",
          "text": [
            "INFO flwr 2024-01-15 14:16:54,174 | server.py:125 | fit progress: (19, 295.0414364337921, {'accuracy': 0.29069767441860467}, 2684.716307466999)\n",
            "INFO:flwr:fit progress: (19, 295.0414364337921, {'accuracy': 0.29069767441860467}, 2684.716307466999)\n",
            "DEBUG flwr 2024-01-15 14:16:54,178 | server.py:173 | evaluate_round 19: strategy sampled 33 clients (out of 33)\n",
            "DEBUG:flwr:evaluate_round 19: strategy sampled 33 clients (out of 33)\n"
          ]
        },
        {
          "output_type": "stream",
          "name": "stdout",
          "text": [
            "GLOBAL TEST\n"
          ]
        },
        {
          "output_type": "stream",
          "name": "stderr",
          "text": [
            "DEBUG flwr 2024-01-15 14:16:59,567 | server.py:187 | evaluate_round 19 received 33 results and 0 failures\n",
            "DEBUG:flwr:evaluate_round 19 received 33 results and 0 failures\n",
            "DEBUG flwr 2024-01-15 14:16:59,571 | server.py:222 | fit_round 20: strategy sampled 10 clients (out of 33)\n",
            "DEBUG:flwr:fit_round 20: strategy sampled 10 clients (out of 33)\n",
            "DEBUG flwr 2024-01-15 14:19:11,513 | server.py:236 | fit_round 20 received 10 results and 0 failures\n",
            "DEBUG:flwr:fit_round 20 received 10 results and 0 failures\n"
          ]
        },
        {
          "output_type": "stream",
          "name": "stdout",
          "text": [
            "Saving round 20 aggregated_parameters...\n"
          ]
        },
        {
          "output_type": "stream",
          "name": "stderr",
          "text": [
            "INFO flwr 2024-01-15 14:19:18,582 | server.py:125 | fit progress: (20, 294.90218460559845, {'accuracy': 0.29069767441860467}, 2829.123698694999)\n",
            "INFO:flwr:fit progress: (20, 294.90218460559845, {'accuracy': 0.29069767441860467}, 2829.123698694999)\n",
            "DEBUG flwr 2024-01-15 14:19:18,585 | server.py:173 | evaluate_round 20: strategy sampled 33 clients (out of 33)\n",
            "DEBUG:flwr:evaluate_round 20: strategy sampled 33 clients (out of 33)\n"
          ]
        },
        {
          "output_type": "stream",
          "name": "stdout",
          "text": [
            "GLOBAL TEST\n"
          ]
        },
        {
          "output_type": "stream",
          "name": "stderr",
          "text": [
            "DEBUG flwr 2024-01-15 14:19:24,000 | server.py:187 | evaluate_round 20 received 33 results and 0 failures\n",
            "DEBUG:flwr:evaluate_round 20 received 33 results and 0 failures\n",
            "INFO flwr 2024-01-15 14:19:24,005 | server.py:153 | FL finished in 2834.5469714520004\n",
            "INFO:flwr:FL finished in 2834.5469714520004\n",
            "INFO flwr 2024-01-15 14:19:24,007 | app.py:226 | app_fit: losses_distributed [(1, 9.37019437009638), (2, 9.33434255917867), (3, 9.398681640625), (4, 9.56262723604838), (5, 14.058436986171838), (6, 9.35839313810522), (7, 9.377305554621147), (8, 9.35102817506501), (9, 14.132000504118023), (10, 9.348902489199784), (11, 9.396217927788243), (12, 9.382034023602804), (13, 9.331792459343418), (14, 9.3497637943788), (15, 9.34268560554042), (16, 9.362161376259543), (17, 9.366678609992519), (18, 8.921679623199232), (19, 8.85324816270308), (20, 8.830520008549545)]\n",
            "INFO:flwr:app_fit: losses_distributed [(1, 9.37019437009638), (2, 9.33434255917867), (3, 9.398681640625), (4, 9.56262723604838), (5, 14.058436986171838), (6, 9.35839313810522), (7, 9.377305554621147), (8, 9.35102817506501), (9, 14.132000504118023), (10, 9.348902489199784), (11, 9.396217927788243), (12, 9.382034023602804), (13, 9.331792459343418), (14, 9.3497637943788), (15, 9.34268560554042), (16, 9.362161376259543), (17, 9.366678609992519), (18, 8.921679623199232), (19, 8.85324816270308), (20, 8.830520008549545)]\n",
            "INFO flwr 2024-01-15 14:19:24,009 | app.py:227 | app_fit: metrics_distributed_fit {}\n",
            "INFO:flwr:app_fit: metrics_distributed_fit {}\n",
            "INFO flwr 2024-01-15 14:19:24,012 | app.py:228 | app_fit: metrics_distributed {'accuracy': [(1, 0.34888357256778313), (2, 0.0), (3, 2.3658342263470815), (4, 8.074354760957632), (5, 100.0), (6, 0.2487933522416281), (7, 0.32783980152401204), (8, 0.5317884729649436), (9, 100.0), (10, 0.45490620490620487), (11, 0.3045157456922163), (12, 0.24398575123212804), (13, 0.0), (14, 0.42131459522763864), (15, 1.0333407926990816), (16, 0.5002491867014152), (17, 0.8049144697751509), (18, 0.5411255411255411), (19, 0.3126503126503126), (20, 0.45959210718936117)]}\n",
            "INFO:flwr:app_fit: metrics_distributed {'accuracy': [(1, 0.34888357256778313), (2, 0.0), (3, 2.3658342263470815), (4, 8.074354760957632), (5, 100.0), (6, 0.2487933522416281), (7, 0.32783980152401204), (8, 0.5317884729649436), (9, 100.0), (10, 0.45490620490620487), (11, 0.3045157456922163), (12, 0.24398575123212804), (13, 0.0), (14, 0.42131459522763864), (15, 1.0333407926990816), (16, 0.5002491867014152), (17, 0.8049144697751509), (18, 0.5411255411255411), (19, 0.3126503126503126), (20, 0.45959210718936117)]}\n",
            "INFO flwr 2024-01-15 14:19:24,014 | app.py:229 | app_fit: losses_centralized [(0, 311.81925106048584), (1, 311.82950460910797), (2, 311.8988951444626), (3, 313.3902817964554), (4, 317.4679207801819), (5, 468.9269037246704), (6, 312.03862285614014), (7, 311.9858912229538), (8, 311.8756009340286), (9, 471.3512587547302), (10, 312.0251669883728), (11, 311.9569408893585), (12, 311.91898798942566), (13, 311.76950776576996), (14, 311.76349687576294), (15, 311.78202879428864), (16, 311.8469891548157), (17, 311.74077224731445), (18, 298.16338443756104), (19, 295.0414364337921), (20, 294.90218460559845)]\n",
            "INFO:flwr:app_fit: losses_centralized [(0, 311.81925106048584), (1, 311.82950460910797), (2, 311.8988951444626), (3, 313.3902817964554), (4, 317.4679207801819), (5, 468.9269037246704), (6, 312.03862285614014), (7, 311.9858912229538), (8, 311.8756009340286), (9, 471.3512587547302), (10, 312.0251669883728), (11, 311.9569408893585), (12, 311.91898798942566), (13, 311.76950776576996), (14, 311.76349687576294), (15, 311.78202879428864), (16, 311.8469891548157), (17, 311.74077224731445), (18, 298.16338443756104), (19, 295.0414364337921), (20, 294.90218460559845)]\n",
            "INFO flwr 2024-01-15 14:19:24,023 | app.py:230 | app_fit: metrics_centralized {'accuracy': [(0, 0.1937984496124031), (1, 0.1937984496124031), (2, 0.29069767441860467), (3, 2.4224806201550386), (4, 6.2015503875969), (5, 100.0), (6, 0.09689922480620156), (7, 0.09689922480620156), (8, 0.1937984496124031), (9, 100.0), (10, 0.3875968992248062), (11, 0.3875968992248062), (12, 0.4844961240310077), (13, 0.3875968992248062), (14, 0.3875968992248062), (15, 0.3875968992248062), (16, 0.4844961240310077), (17, 0.7751937984496124), (18, 0.3875968992248062), (19, 0.29069767441860467), (20, 0.29069767441860467)]}\n",
            "INFO:flwr:app_fit: metrics_centralized {'accuracy': [(0, 0.1937984496124031), (1, 0.1937984496124031), (2, 0.29069767441860467), (3, 2.4224806201550386), (4, 6.2015503875969), (5, 100.0), (6, 0.09689922480620156), (7, 0.09689922480620156), (8, 0.1937984496124031), (9, 100.0), (10, 0.3875968992248062), (11, 0.3875968992248062), (12, 0.4844961240310077), (13, 0.3875968992248062), (14, 0.3875968992248062), (15, 0.3875968992248062), (16, 0.4844961240310077), (17, 0.7751937984496124), (18, 0.3875968992248062), (19, 0.29069767441860467), (20, 0.29069767441860467)]}\n"
          ]
        }
      ]
    },
    {
      "cell_type": "code",
      "source": [
        "import matplotlib.pyplot as plt\n",
        "\n",
        "print(f\"{history.metrics_centralized = }\")\n",
        "# print(f\"{history.metrics_distributed = }\")\n",
        "\n",
        "\n",
        "global_accuracy_centralised = history.metrics_centralized[\"accuracy\"]\n",
        "# global_accuracy_centralised = history.metrics_distributed[\"accuracy\"]\n",
        "\n",
        "round = [data[0] for data in global_accuracy_centralised]\n",
        "acc = [data[1] for data in global_accuracy_centralised]\n",
        "plt.plot(round, acc)\n",
        "plt.grid()\n",
        "plt.ylabel(\"Accuracy (%)\")\n",
        "plt.xlabel(\"Round\")\n",
        "plt.title(\"MNIST - IID - 30 clients with 10 clients per round\")\n",
        "xticks_result = plt.xticks(range(1, 21))\n",
        "# plt.yticks(range(0, 100))"
      ],
      "metadata": {
        "id": "NECbOpWgcxdV",
        "outputId": "2dccfbe7-06cf-4280-e693-8f8530a13e1d",
        "colab": {
          "base_uri": "https://localhost:8080/",
          "height": 509
        }
      },
      "execution_count": 45,
      "outputs": [
        {
          "output_type": "stream",
          "name": "stdout",
          "text": [
            "history.metrics_centralized = {'accuracy': [(0, 0.1937984496124031), (1, 0.1937984496124031), (2, 0.29069767441860467), (3, 2.4224806201550386), (4, 6.2015503875969), (5, 100.0), (6, 0.09689922480620156), (7, 0.09689922480620156), (8, 0.1937984496124031), (9, 100.0), (10, 0.3875968992248062), (11, 0.3875968992248062), (12, 0.4844961240310077), (13, 0.3875968992248062), (14, 0.3875968992248062), (15, 0.3875968992248062), (16, 0.4844961240310077), (17, 0.7751937984496124), (18, 0.3875968992248062), (19, 0.29069767441860467), (20, 0.29069767441860467)]}\n"
          ]
        },
        {
          "output_type": "display_data",
          "data": {
            "text/plain": [
              "<Figure size 640x480 with 1 Axes>"
            ],
            "image/png": "[encoded data removed]"
          },
          "metadata": {}
        }
      ]
    }
  ],
  "metadata": {
    "colab": {
      "provenance": [],
      "gpuType": "T4",
      "include_colab_link": true
    },
    "kernelspec": {
      "display_name": "Python 3",
      "name": "python3"
    },
    "accelerator": "GPU"
  },
  "nbformat": 4,
  "nbformat_minor": 0
}