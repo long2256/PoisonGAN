{
  "cells": [
    {
      "cell_type": "markdown",
      "metadata": {
        "id": "view-in-github",
        "colab_type": "text"
      },
      "source": [
        "<a href=\"https://colab.research.google.com/github/long2256/PoisonGAN/blob/main/sim_v0_8_8.ipynb\" target=\"_parent\"><img src=\"https://colab.research.google.com/assets/colab-badge.svg\" alt=\"Open In Colab\"/></a>"
      ]
    },
    {
      "cell_type": "code",
      "execution_count": 1,
      "metadata": {
        "colab": {
          "base_uri": "https://localhost:8080/"
        },
        "id": "zNTidNXQtiy6",
        "outputId": "f6d3eb10-5e1f-44ba-e4d1-fa1fdc00edbc"
      },
      "outputs": [
        {
          "output_type": "stream",
          "name": "stdout",
          "text": [
            "\u001b[2K     \u001b[90m━━━━━━━━━━━━━━━━━━━━━━━━━━━━━━━━━━━━━━━━\u001b[0m \u001b[32m219.2/219.2 kB\u001b[0m \u001b[31m1.9 MB/s\u001b[0m eta \u001b[36m0:00:00\u001b[0m\n",
            "\u001b[2K     \u001b[90m━━━━━━━━━━━━━━━━━━━━━━━━━━━━━━━━━━━━━━━━\u001b[0m \u001b[32m2.1/2.1 MB\u001b[0m \u001b[31m48.2 MB/s\u001b[0m eta \u001b[36m0:00:00\u001b[0m\n",
            "\u001b[2K     \u001b[90m━━━━━━━━━━━━━━━━━━━━━━━━━━━━━━━━━━━━━━━━\u001b[0m \u001b[32m56.9/56.9 MB\u001b[0m \u001b[31m11.2 MB/s\u001b[0m eta \u001b[36m0:00:00\u001b[0m\n",
            "\u001b[?25hCollecting flwr_datasets[vision]\n",
            "  Downloading flwr_datasets-0.0.2-py3-none-any.whl (22 kB)\n",
            "Collecting datasets<3.0.0,>=2.14.3 (from flwr_datasets[vision])\n",
            "  Downloading datasets-2.16.1-py3-none-any.whl (507 kB)\n",
            "\u001b[2K     \u001b[90m━━━━━━━━━━━━━━━━━━━━━━━━━━━━━━━━━━━━━━━━\u001b[0m \u001b[32m507.1/507.1 kB\u001b[0m \u001b[31m11.4 MB/s\u001b[0m eta \u001b[36m0:00:00\u001b[0m\n",
            "\u001b[?25hRequirement already satisfied: numpy<2.0.0,>=1.21.0 in /usr/local/lib/python3.10/dist-packages (from flwr_datasets[vision]) (1.23.5)\n",
            "Requirement already satisfied: pillow>=6.2.1 in /usr/local/lib/python3.10/dist-packages (from flwr_datasets[vision]) (9.4.0)\n",
            "Requirement already satisfied: filelock in /usr/local/lib/python3.10/dist-packages (from datasets<3.0.0,>=2.14.3->flwr_datasets[vision]) (3.13.1)\n",
            "Requirement already satisfied: pyarrow>=8.0.0 in /usr/local/lib/python3.10/dist-packages (from datasets<3.0.0,>=2.14.3->flwr_datasets[vision]) (10.0.1)\n",
            "Requirement already satisfied: pyarrow-hotfix in /usr/local/lib/python3.10/dist-packages (from datasets<3.0.0,>=2.14.3->flwr_datasets[vision]) (0.6)\n",
            "Collecting dill<0.3.8,>=0.3.0 (from datasets<3.0.0,>=2.14.3->flwr_datasets[vision])\n",
            "  Downloading dill-0.3.7-py3-none-any.whl (115 kB)\n",
            "\u001b[2K     \u001b[90m━━━━━━━━━━━━━━━━━━━━━━━━━━━━━━━━━━━━━━━━\u001b[0m \u001b[32m115.3/115.3 kB\u001b[0m \u001b[31m16.9 MB/s\u001b[0m eta \u001b[36m0:00:00\u001b[0m\n",
            "\u001b[?25hRequirement already satisfied: pandas in /usr/local/lib/python3.10/dist-packages (from datasets<3.0.0,>=2.14.3->flwr_datasets[vision]) (1.5.3)\n",
            "Requirement already satisfied: requests>=2.19.0 in /usr/local/lib/python3.10/dist-packages (from datasets<3.0.0,>=2.14.3->flwr_datasets[vision]) (2.31.0)\n",
            "Requirement already satisfied: tqdm>=4.62.1 in /usr/local/lib/python3.10/dist-packages (from datasets<3.0.0,>=2.14.3->flwr_datasets[vision]) (4.66.1)\n",
            "Requirement already satisfied: xxhash in /usr/local/lib/python3.10/dist-packages (from datasets<3.0.0,>=2.14.3->flwr_datasets[vision]) (3.4.1)\n",
            "Collecting multiprocess (from datasets<3.0.0,>=2.14.3->flwr_datasets[vision])\n",
            "  Downloading multiprocess-0.70.15-py310-none-any.whl (134 kB)\n",
            "\u001b[2K     \u001b[90m━━━━━━━━━━━━━━━━━━━━━━━━━━━━━━━━━━━━━━━━\u001b[0m \u001b[32m134.8/134.8 kB\u001b[0m \u001b[31m18.4 MB/s\u001b[0m eta \u001b[36m0:00:00\u001b[0m\n",
            "\u001b[?25hRequirement already satisfied: fsspec[http]<=2023.10.0,>=2023.1.0 in /usr/local/lib/python3.10/dist-packages (from datasets<3.0.0,>=2.14.3->flwr_datasets[vision]) (2023.6.0)\n",
            "Requirement already satisfied: aiohttp in /usr/local/lib/python3.10/dist-packages (from datasets<3.0.0,>=2.14.3->flwr_datasets[vision]) (3.9.1)\n",
            "Requirement already satisfied: huggingface-hub>=0.19.4 in /usr/local/lib/python3.10/dist-packages (from datasets<3.0.0,>=2.14.3->flwr_datasets[vision]) (0.20.2)\n",
            "Requirement already satisfied: packaging in /usr/local/lib/python3.10/dist-packages (from datasets<3.0.0,>=2.14.3->flwr_datasets[vision]) (23.2)\n",
            "Requirement already satisfied: pyyaml>=5.1 in /usr/local/lib/python3.10/dist-packages (from datasets<3.0.0,>=2.14.3->flwr_datasets[vision]) (6.0.1)\n",
            "Requirement already satisfied: attrs>=17.3.0 in /usr/local/lib/python3.10/dist-packages (from aiohttp->datasets<3.0.0,>=2.14.3->flwr_datasets[vision]) (23.2.0)\n",
            "Requirement already satisfied: multidict<7.0,>=4.5 in /usr/local/lib/python3.10/dist-packages (from aiohttp->datasets<3.0.0,>=2.14.3->flwr_datasets[vision]) (6.0.4)\n",
            "Requirement already satisfied: yarl<2.0,>=1.0 in /usr/local/lib/python3.10/dist-packages (from aiohttp->datasets<3.0.0,>=2.14.3->flwr_datasets[vision]) (1.9.4)\n",
            "Requirement already satisfied: frozenlist>=1.1.1 in /usr/local/lib/python3.10/dist-packages (from aiohttp->datasets<3.0.0,>=2.14.3->flwr_datasets[vision]) (1.4.1)\n",
            "Requirement already satisfied: aiosignal>=1.1.2 in /usr/local/lib/python3.10/dist-packages (from aiohttp->datasets<3.0.0,>=2.14.3->flwr_datasets[vision]) (1.3.1)\n",
            "Requirement already satisfied: async-timeout<5.0,>=4.0 in /usr/local/lib/python3.10/dist-packages (from aiohttp->datasets<3.0.0,>=2.14.3->flwr_datasets[vision]) (4.0.3)\n",
            "Requirement already satisfied: typing-extensions>=3.7.4.3 in /usr/local/lib/python3.10/dist-packages (from huggingface-hub>=0.19.4->datasets<3.0.0,>=2.14.3->flwr_datasets[vision]) (4.5.0)\n",
            "Requirement already satisfied: charset-normalizer<4,>=2 in /usr/local/lib/python3.10/dist-packages (from requests>=2.19.0->datasets<3.0.0,>=2.14.3->flwr_datasets[vision]) (3.3.2)\n",
            "Requirement already satisfied: idna<4,>=2.5 in /usr/local/lib/python3.10/dist-packages (from requests>=2.19.0->datasets<3.0.0,>=2.14.3->flwr_datasets[vision]) (3.6)\n",
            "Requirement already satisfied: urllib3<3,>=1.21.1 in /usr/local/lib/python3.10/dist-packages (from requests>=2.19.0->datasets<3.0.0,>=2.14.3->flwr_datasets[vision]) (2.0.7)\n",
            "Requirement already satisfied: certifi>=2017.4.17 in /usr/local/lib/python3.10/dist-packages (from requests>=2.19.0->datasets<3.0.0,>=2.14.3->flwr_datasets[vision]) (2023.11.17)\n",
            "Requirement already satisfied: python-dateutil>=2.8.1 in /usr/local/lib/python3.10/dist-packages (from pandas->datasets<3.0.0,>=2.14.3->flwr_datasets[vision]) (2.8.2)\n",
            "Requirement already satisfied: pytz>=2020.1 in /usr/local/lib/python3.10/dist-packages (from pandas->datasets<3.0.0,>=2.14.3->flwr_datasets[vision]) (2023.3.post1)\n",
            "Requirement already satisfied: six>=1.5 in /usr/local/lib/python3.10/dist-packages (from python-dateutil>=2.8.1->pandas->datasets<3.0.0,>=2.14.3->flwr_datasets[vision]) (1.16.0)\n",
            "Installing collected packages: dill, multiprocess, datasets, flwr_datasets\n",
            "Successfully installed datasets-2.16.1 dill-0.3.7 flwr_datasets-0.0.2 multiprocess-0.70.15\n"
          ]
        }
      ],
      "source": [
        "# depending on your shell, you might need to add `\\` before `[` and `]`.\n",
        "!pip install -q flwr[simulation]\n",
        "!pip install flwr_datasets[vision]"
      ]
    },
    {
      "cell_type": "code",
      "execution_count": 2,
      "metadata": {
        "colab": {
          "base_uri": "https://localhost:8080/"
        },
        "outputId": "7385a6d8-34f5-4e2d-ba62-79f06cfa77ae",
        "id": "WXOcHlPPtiy8"
      },
      "outputs": [
        {
          "output_type": "stream",
          "name": "stdout",
          "text": [
            "Requirement already satisfied: matplotlib in /usr/local/lib/python3.10/dist-packages (3.7.1)\n",
            "Requirement already satisfied: contourpy>=1.0.1 in /usr/local/lib/python3.10/dist-packages (from matplotlib) (1.2.0)\n",
            "Requirement already satisfied: cycler>=0.10 in /usr/local/lib/python3.10/dist-packages (from matplotlib) (0.12.1)\n",
            "Requirement already satisfied: fonttools>=4.22.0 in /usr/local/lib/python3.10/dist-packages (from matplotlib) (4.47.0)\n",
            "Requirement already satisfied: kiwisolver>=1.0.1 in /usr/local/lib/python3.10/dist-packages (from matplotlib) (1.4.5)\n",
            "Requirement already satisfied: numpy>=1.20 in /usr/local/lib/python3.10/dist-packages (from matplotlib) (1.23.5)\n",
            "Requirement already satisfied: packaging>=20.0 in /usr/local/lib/python3.10/dist-packages (from matplotlib) (23.2)\n",
            "Requirement already satisfied: pillow>=6.2.0 in /usr/local/lib/python3.10/dist-packages (from matplotlib) (9.4.0)\n",
            "Requirement already satisfied: pyparsing>=2.3.1 in /usr/local/lib/python3.10/dist-packages (from matplotlib) (3.1.1)\n",
            "Requirement already satisfied: python-dateutil>=2.7 in /usr/local/lib/python3.10/dist-packages (from matplotlib) (2.8.2)\n",
            "Requirement already satisfied: six>=1.5 in /usr/local/lib/python3.10/dist-packages (from python-dateutil>=2.7->matplotlib) (1.16.0)\n"
          ]
        }
      ],
      "source": [
        "!pip install matplotlib"
      ]
    },
    {
      "cell_type": "code",
      "execution_count": 3,
      "metadata": {
        "id": "e9K5nFNjtiy-",
        "outputId": "4be871af-797e-40e9-f9e9-1c52f92e596e",
        "colab": {
          "base_uri": "https://localhost:8080/",
          "height": 249,
          "referenced_widgets": [
            "48cc82ac9b894df0b309bd9f6f7edc92",
            "e2fd1440c7d643b09f1342c4f1479296",
            "5b64dacc9beb4744bfdc2187bf3bb54a",
            "ce059de1c8c44929abe297b9a6379e90",
            "e7774ce9070b4b0fa5e4e316f3b908df",
            "e44853b93e884d10860d4c4b5a462a71",
            "69b70a1b508f4ac485a055bf2aadb393",
            "d75b11bacdbd4878b8f9c24bcd5f60f7",
            "80bdbcd82c2d442fb0531fc3c362a3ce",
            "5512d16a83bc4cbc86fdf1bf990f1e9f",
            "f505bf5373e14351bfc1e0a195c1dc80",
            "c673499eac21459180f6c92e96b30ab9",
            "aec50d6e667a407d979e4f9adea9df76",
            "7448cc2fa5334e7587d3a0ed909dae19",
            "6ae188684c874488ba62734bd89bb27e",
            "71e763501f65426bb86293d2fa09cd38",
            "4cf3aba772f848ea952d6cf4516645ab",
            "6bd6f35f7a9b4a75b8bdc4de66020955",
            "ee692e0c839f429ebf8aff0535306a2c",
            "1721312bd35a4df4b81b6eb342f4699e",
            "b1fa02c110d84c2a8163eda6b4c49b0b",
            "e0062069ca484da58c317ae65af9c962",
            "301b01262ca14d60be8228cceb5385b9",
            "4248749cd3d24969a92849c1bb36f0cf",
            "2f1c95133ddd4022abbd713c1023f237",
            "a8298cbe8e464788b2ddf581ea9d90e0",
            "56cbed9f731a462483c242245e8bd6bc",
            "e063f16239f347258c96af6341d7fecf",
            "015a96b0fc0b47ebb756d9348e4ec0c2",
            "8756712caf42436eb0efcdb96e9586a3",
            "016844413afb4c6ca14cac88b11a2575",
            "584afdc54b604e6eb07249ac4ec51b52",
            "1561d52fb28c40b0a9a12a462da6dfb1",
            "de0b58461cda4a9591985dc4276fe412",
            "163dd59cd07944e0bc2ab2f507ac69b7",
            "91320a19bf304ade93004ffff0aec3a1",
            "51296fce9d6d48c39ccb87c03653ccfa",
            "6fa5cbf37fa740d9aeef744cb4524e30",
            "1e398c17917d4c36822d975e7ad5f6d1",
            "5d3022ecbb7a48b5b20832d32be19f74",
            "41ae8e18ac2943dd936e18a21a20b937",
            "1596acbc8c2c4106b043145516cdd2c1",
            "83c7437f969640918d2b538db4d444d2",
            "66b70904e6864fffb686e8b41be9769c"
          ]
        }
      },
      "outputs": [
        {
          "output_type": "stream",
          "name": "stderr",
          "text": [
            "/usr/local/lib/python3.10/dist-packages/huggingface_hub/utils/_token.py:88: UserWarning: \n",
            "The secret `HF_TOKEN` does not exist in your Colab secrets.\n",
            "To authenticate with the Hugging Face Hub, create a token in your settings tab (https://huggingface.co/settings/tokens), set it as secret in your Google Colab and restart your session.\n",
            "You will be able to reuse this secret in all of your notebooks.\n",
            "Please note that authentication is recommended but still optional to access public models or datasets.\n",
            "  warnings.warn(\n"
          ]
        },
        {
          "output_type": "display_data",
          "data": {
            "text/plain": [
              "Downloading data:   0%|          | 0.00/15.6M [00:00<?, ?B/s]"
            ],
            "application/vnd.jupyter.widget-view+json": {
              "version_major": 2,
              "version_minor": 0,
              "model_id": "48cc82ac9b894df0b309bd9f6f7edc92"
            }
          },
          "metadata": {}
        },
        {
          "output_type": "display_data",
          "data": {
            "text/plain": [
              "Downloading data:   0%|          | 0.00/2.60M [00:00<?, ?B/s]"
            ],
            "application/vnd.jupyter.widget-view+json": {
              "version_major": 2,
              "version_minor": 0,
              "model_id": "c673499eac21459180f6c92e96b30ab9"
            }
          },
          "metadata": {}
        },
        {
          "output_type": "display_data",
          "data": {
            "text/plain": [
              "Generating train split: 0 examples [00:00, ? examples/s]"
            ],
            "application/vnd.jupyter.widget-view+json": {
              "version_major": 2,
              "version_minor": 0,
              "model_id": "301b01262ca14d60be8228cceb5385b9"
            }
          },
          "metadata": {}
        },
        {
          "output_type": "display_data",
          "data": {
            "text/plain": [
              "Generating test split: 0 examples [00:00, ? examples/s]"
            ],
            "application/vnd.jupyter.widget-view+json": {
              "version_major": 2,
              "version_minor": 0,
              "model_id": "de0b58461cda4a9591985dc4276fe412"
            }
          },
          "metadata": {}
        }
      ],
      "source": [
        "from datasets import Dataset\n",
        "from flwr_datasets import FederatedDataset\n",
        "from datasets.utils.logging import disable_progress_bar\n",
        "from torch.utils.data import TensorDataset\n",
        "\n",
        "# Let's set a simulation involving a total of 100 clients\n",
        "NUM_CLIENTS = 33\n",
        "\n",
        "# Download MNIST dataset and partition the \"train\" partition (so one can be assigned to each client)\n",
        "mnist_fds = FederatedDataset(dataset=\"mnist\", partitioners={\"train\": NUM_CLIENTS})\n",
        "# Let's keep the test set as is, and use it to evaluate the global model on the server\n",
        "centralized_testset = mnist_fds.load_full(\"test\")"
      ]
    },
    {
      "cell_type": "code",
      "execution_count": 4,
      "metadata": {
        "id": "b_T97AxStiy-"
      },
      "outputs": [],
      "source": [
        "from torchvision.transforms import ToTensor, Normalize, Compose, Resize\n",
        "\n",
        "\n",
        "def apply_transforms(batch):\n",
        "    \"\"\"Get transformation for MNIST dataset\"\"\"\n",
        "\n",
        "    # transformation to convert images to tensors and apply normalization\n",
        "    transforms = Compose([\n",
        "        ToTensor(),\n",
        "        Normalize((0.1307,), (0.3081,)),\n",
        "        Resize((64, 64), antialias=False)\n",
        "        ])\n",
        "    batch[\"image\"] = [transforms(img) for img in batch[\"image\"]]\n",
        "    return batch"
      ]
    },
    {
      "cell_type": "code",
      "execution_count": 5,
      "metadata": {
        "id": "e7NzdFp6tiy9"
      },
      "outputs": [],
      "source": [
        "import torch\n",
        "import torch.nn as nn\n",
        "import torch.nn.functional as F\n",
        "from torch.utils.data import DataLoader\n",
        "\n",
        "class Net(nn.Module):\n",
        "    def __init__(self, num_classes: int):\n",
        "        super(Net, self).__init__()\n",
        "        self.conv1 = nn.Conv2d(in_channels=1, out_channels=64, kernel_size=4, stride=2, padding=1)\n",
        "        self.leaky1 = nn.LeakyReLU()\n",
        "\n",
        "        self.conv2 = nn.Conv2d(in_channels=64, out_channels=64, kernel_size=4, stride=2, padding=1)\n",
        "        self.leaky2 = nn.LeakyReLU()\n",
        "\n",
        "        self.conv3 = nn.Conv2d(in_channels=64, out_channels=64, kernel_size=4, stride=2, padding=1)\n",
        "        self.leaky3 = nn.LeakyReLU()\n",
        "\n",
        "        self.conv4 = nn.Conv2d(in_channels=64, out_channels=128, kernel_size=3, stride=1, padding=1)\n",
        "        self.leaky4 = nn.LeakyReLU()\n",
        "\n",
        "        self.conv5 = nn.Conv2d(in_channels=128, out_channels=128, kernel_size=3, stride=1, padding=1)\n",
        "        self.leaky5 = nn.LeakyReLU()\n",
        "\n",
        "        self.conv6 = nn.Conv2d(in_channels=128, out_channels=128, kernel_size=3, stride=1, padding=1)\n",
        "        self.leaky6 = nn.LeakyReLU()\n",
        "\n",
        "        self.avgpool = nn.AvgPool2d(2, stride=2)\n",
        "\n",
        "        self.fc = nn.Linear(4 * 4 * 128, num_classes)  # 10 classes for MNIST\n",
        "        self.softmax = nn.Softmax(dim=1)\n",
        "\n",
        "    def forward(self, x):\n",
        "        x = self.conv1(x)\n",
        "        x = self.leaky1(x)\n",
        "\n",
        "        x = self.conv2(x)\n",
        "        x = self.leaky2(x)\n",
        "\n",
        "        x = self.conv3(x)\n",
        "        x = self.leaky3(x)\n",
        "\n",
        "        x = self.conv4(x)\n",
        "        x = self.leaky4(x)\n",
        "\n",
        "        x = self.conv5(x)\n",
        "        x = self.leaky5(x)\n",
        "\n",
        "        x = self.conv6(x)\n",
        "        x = self.leaky6(x)\n",
        "\n",
        "        x = self.avgpool(x)\n",
        "        x = x.view(x.size(0), -1)  # Flatten the output\n",
        "        x = self.fc(x)\n",
        "        x = self.softmax(x)\n",
        "\n",
        "        return x\n",
        "\n",
        "class Discriminator(nn.Module):\n",
        "    def __init__(self):\n",
        "        super(Discriminator, self).__init__()\n",
        "        self.conv1 = nn.Conv2d(in_channels=1, out_channels=64, kernel_size=4, stride=2, padding=1)\n",
        "        self.leaky1 = nn.LeakyReLU()\n",
        "        self.dropout = nn.Dropout()\n",
        "\n",
        "        self.conv2 = nn.Conv2d(in_channels=64, out_channels=64, kernel_size=4, stride=2, padding=1)\n",
        "        self.batchnorm1 = nn.BatchNorm2d(64)\n",
        "        self.leaky2 = nn.LeakyReLU()\n",
        "\n",
        "        self.conv3 = nn.Conv2d(in_channels=64, out_channels=64, kernel_size=4, stride=2, padding=1)\n",
        "        self.batchnorm2 = nn.BatchNorm2d(64)\n",
        "        self.leaky3 = nn.LeakyReLU()\n",
        "\n",
        "        self.conv4 = nn.Conv2d(in_channels=64, out_channels=128, kernel_size=3, stride=1, padding=1)\n",
        "        self.batchnorm3 = nn.BatchNorm2d(128)\n",
        "        self.leaky4 = nn.LeakyReLU()\n",
        "\n",
        "        self.conv5 = nn.Conv2d(in_channels=128, out_channels=128, kernel_size=3, stride=1, padding=1)\n",
        "        self.batchnorm4 = nn.BatchNorm2d(128)\n",
        "        self.leaky5 = nn.LeakyReLU()\n",
        "\n",
        "        self.conv6 = nn.Conv2d(in_channels=128, out_channels=128, kernel_size=3, stride=1, padding=1)\n",
        "        self.leaky6 = nn.LeakyReLU()\n",
        "\n",
        "        self.avgpool = nn.AvgPool2d(2, stride=2)\n",
        "\n",
        "        self.fc = nn.Linear(4 * 4 * 128, 10)\n",
        "        self.softmax = nn.Softmax(dim=1)\n",
        "\n",
        "    def forward(self, x):\n",
        "        x = self.conv1(x)\n",
        "        x = self.leaky1(x)\n",
        "        x = self.dropout(x)\n",
        "\n",
        "        x = self.conv2(x)\n",
        "        x = self.batchnorm1(x)\n",
        "        x = self.leaky2(x)\n",
        "\n",
        "        x = self.conv3(x)\n",
        "        x = self.batchnorm2(x)\n",
        "        x = self.leaky3(x)\n",
        "\n",
        "        x = self.conv4(x)\n",
        "        x = self.batchnorm3(x)\n",
        "        x = self.leaky4(x)\n",
        "\n",
        "        x = self.conv5(x)\n",
        "        x = self.batchnorm4(x)\n",
        "        x = self.leaky5(x)\n",
        "\n",
        "        x = self.conv6(x)\n",
        "        x = self.leaky6(x)\n",
        "\n",
        "        x = self.avgpool(x)\n",
        "        x = x.view(x.size(0), -1)  # Flatten the output\n",
        "        x = self.fc(x)\n",
        "        x = self.softmax(x)\n",
        "\n",
        "        return x\n",
        "\n",
        "class Generator(nn.Module):\n",
        "    def __init__(self):\n",
        "        super(Generator, self).__init__()\n",
        "\n",
        "        self.conv1 = nn.ConvTranspose2d(100, 256, kernel_size=4, stride=4, padding=0, bias=False)\n",
        "        self.batchnorm1 = nn.BatchNorm2d(256)\n",
        "        self.relu1 = nn.ReLU()\n",
        "\n",
        "        self.conv2 = nn.ConvTranspose2d(256, 128, kernel_size=4, stride=4, padding=0, bias=False)\n",
        "        self.batchnorm2 = nn.BatchNorm2d(128)\n",
        "        self.relu2 = nn.ReLU()\n",
        "\n",
        "        self.conv3 = nn.ConvTranspose2d(128, 64, kernel_size=4, stride=2, padding=1, bias=False)\n",
        "        self.batchnorm3 = nn.BatchNorm2d(64)\n",
        "        self.relu3 = nn.ReLU()\n",
        "\n",
        "        self.conv4 = nn.ConvTranspose2d(64, 1, kernel_size=4, stride=2, padding=1, bias=False)\n",
        "        self.tanh = nn.Tanh()\n",
        "\n",
        "    def forward(self, x):\n",
        "        x = self.conv1(x)\n",
        "        x = self.batchnorm1(x)\n",
        "        x = self.relu1(x)\n",
        "        x = self.conv2(x)\n",
        "        x = self.batchnorm2(x)\n",
        "        x = self.relu2(x)\n",
        "        x = self.conv3(x)\n",
        "        x = self.batchnorm3(x)\n",
        "        x = self.relu3(x)\n",
        "        x = self.conv4(x)\n",
        "        x = self.tanh(x)\n",
        "        return x"
      ]
    },
    {
      "cell_type": "code",
      "execution_count": 6,
      "metadata": {
        "id": "2BkZd5y0tiy-"
      },
      "outputs": [],
      "source": [
        "import torch.optim as optim\n",
        "import torch.optim.lr_scheduler as lr_scheduler\n",
        "def train(net, trainloader, optim, scheduler, criterion, epochs, device: str):\n",
        "    \"\"\"Train the network on the training set.\"\"\"\n",
        "    net.train()\n",
        "    for _ in range(epochs):\n",
        "        for batch in trainloader:\n",
        "            images, labels = batch[\"image\"].to(device), batch[\"label\"].to(device)\n",
        "            optim.zero_grad()\n",
        "            outputs = net(images)\n",
        "            loss = criterion(outputs, labels)\n",
        "            loss.backward()\n",
        "            optim.step()\n",
        "        scheduler.step()\n",
        "\n",
        "def test(net, testloader, device: str):\n",
        "    \"\"\"Validate the network on the entire test set.\"\"\"\n",
        "    criterion = torch.nn.CrossEntropyLoss()\n",
        "    correct, loss = 0, 0.0\n",
        "    net.eval()\n",
        "    with torch.no_grad():\n",
        "        for data in testloader:\n",
        "            images, labels = data[\"image\"].to(device), data[\"label\"].to(device)\n",
        "            outputs = net(images)\n",
        "            loss += criterion(outputs, labels).item()\n",
        "            _, predicted = torch.max(outputs.data, 1)\n",
        "            correct += (predicted == labels).sum().item()\n",
        "    accuracy = correct / len(testloader.dataset)\n",
        "    return loss, accuracy\n"
      ]
    },
    {
      "cell_type": "code",
      "execution_count": 7,
      "metadata": {
        "id": "EftKsIuMtiy_"
      },
      "outputs": [],
      "source": [
        "import flwr as fl"
      ]
    },
    {
      "cell_type": "code",
      "execution_count": 8,
      "metadata": {
        "id": "TkpxfwT9tiy_"
      },
      "outputs": [],
      "source": [
        "from collections import OrderedDict\n",
        "from typing import Dict, List, Tuple, Union, Optional\n",
        "from flwr.server.client_proxy import ClientProxy\n",
        "from flwr.common import NDArrays, Scalar, Parameters\n",
        "\n",
        "\n",
        "class FlowerClient(fl.client.NumPyClient):\n",
        "    def __init__(self, cid, trainloader, valloader, testloader) -> None:\n",
        "        super().__init__()\n",
        "\n",
        "        self.trainloader = trainloader\n",
        "        self.valloader = valloader\n",
        "        self.testloader = testloader\n",
        "        self.cid = cid\n",
        "        self.model = Net(num_classes=10)\n",
        "        self.discriminator = Discriminator()\n",
        "        self.generator = Generator()\n",
        "        # Determine device\n",
        "        self.device = torch.device(\"cuda:0\" if torch.cuda.is_available() else \"cpu\")\n",
        "        self.model.to(self.device)  # send model to device\n",
        "        self.discriminator.to(self.device)\n",
        "        self.generator.to(self.device)\n",
        "\n",
        "    def set_parameters(self, parameters):\n",
        "        \"\"\"With the model paramters received from the server,\n",
        "        overwrite the uninitialise model in this class with them.\"\"\"\n",
        "\n",
        "        params_dict = zip(self.model.state_dict().keys(), parameters)\n",
        "        state_dict = OrderedDict({k: torch.Tensor(v) for k, v in params_dict})\n",
        "        # now replace the parameters\n",
        "        self.discriminator.load_state_dict(state_dict, strict=False)\n",
        "        self.model.load_state_dict(state_dict, strict=True)\n",
        "\n",
        "    def get_parameters(self, config: Dict[str, Scalar]):\n",
        "        \"\"\"Extract all model parameters and conver them to a list of\n",
        "        NumPy arryas. The server doesn't work with PyTorch/TF/etc.\"\"\"\n",
        "        # print(f\"[Client {self.cid}] get_parameters\")\n",
        "        return [val.cpu().numpy() for _, val in self.model.state_dict().items()]\n",
        "\n",
        "    def fit(self, parameters, config):\n",
        "        \"\"\"This method train the model using the parameters sent by the\n",
        "        server on the dataset of this client. At then end, the parameters\n",
        "        of the locally trained model are communicated back to the server\"\"\"\n",
        "        # print(f\"[Client {self.cid}] fit, config: {config}\")\n",
        "        # copy parameters sent by the server into client's local model\n",
        "        self.set_parameters(parameters)\n",
        "        lr, epochs = config[\"lr\"], config[\"epochs\"]\n",
        "        optim = torch.optim.SGD(self.model.parameters(), lr=lr)\n",
        "        scheduler = lr_scheduler.StepLR(optim, step_size=2, gamma=0.1)\n",
        "        criterion = torch.nn.CrossEntropyLoss()\n",
        "        train(net=self.model, trainloader=self.trainloader, optim=optim, scheduler=scheduler, criterion=criterion, epochs=epochs, device=self.device)\n",
        "        # return the model parameters to the server as well as extra info (number of training examples in this case)\n",
        "        return self.get_parameters({}), len(self.trainloader), {}\n",
        "\n",
        "    def evaluate(self, parameters: NDArrays, config: Dict[str, Scalar]):\n",
        "        \"\"\"Evaluate the model sent by the server on this client's\n",
        "        local validation set. Then return performance metrics.\"\"\"\n",
        "\n",
        "        self.set_parameters(parameters)\n",
        "        loss, accuracy = test(self.model, self.valloader, device=self.device)\n",
        "\n",
        "        return float(loss), len(self.valloader), {\"accuracy\": accuracy}"
      ]
    },
    {
      "cell_type": "code",
      "source": [
        "import glob\n",
        "import os\n",
        "def load_model_state_dict():\n",
        "    net = Net(10)\n",
        "    list_of_files = [fname for fname in glob.glob(\"./model_round_*\")]\n",
        "    latest_round_file = max(list_of_files, key=os.path.getctime)\n",
        "    # latest_round_file = './model_round_df.pth'\n",
        "    print(\"Loading pre-trained model from: \", latest_round_file)\n",
        "    state_dict = torch.load(latest_round_file)\n",
        "    net.load_state_dict(state_dict)\n",
        "    return net"
      ],
      "metadata": {
        "id": "FiR-tVieingX"
      },
      "execution_count": 9,
      "outputs": []
    },
    {
      "cell_type": "code",
      "execution_count": 16,
      "metadata": {
        "id": "BPJKeYr6tiy_"
      },
      "outputs": [],
      "source": [
        "def get_evaluate_fn(centralized_testset: Dataset):\n",
        "    \"\"\"This is a function that returns a function. The returned\n",
        "    function (i.e. `evaluate_fn`) will be executed by the strategy\n",
        "    at the end of each round to evaluate the stat of the global\n",
        "    model.\"\"\"\n",
        "\n",
        "    def evaluate_fn(server_round: int, parameters, config):\n",
        "        \"\"\"This function is executed by the strategy it will instantiate\n",
        "        a model and replace its parameters with those from the global model.\n",
        "        The, the model will be evaluate on the test set (recall this is the\n",
        "        whole MNIST test set).\"\"\"\n",
        "\n",
        "        model = Net(num_classes=10)\n",
        "\n",
        "        # Determine device\n",
        "        device = torch.device(\"cuda:0\" if torch.cuda.is_available() else \"cpu\")\n",
        "        model.to(device)  # send model to device\n",
        "\n",
        "        # set parameters to the model\n",
        "        params_dict = zip(model.state_dict().keys(), parameters)\n",
        "        state_dict = OrderedDict({k: torch.Tensor(v) for k, v in params_dict})\n",
        "        model.load_state_dict(state_dict, strict=True)\n",
        "\n",
        "        ###############################################################################\n",
        "        # device = torch.device(\"cuda:0\" if torch.cuda.is_available() else \"cpu\")\n",
        "        # model = load_model_state_dict()\n",
        "        # model.to(device)\n",
        "        ###############################################################################\n",
        "        # Apply transform to dataset\n",
        "        testset = centralized_testset.with_transform(apply_transforms)\n",
        "\n",
        "        testloader = DataLoader(testset, batch_size=50)\n",
        "        # call test\n",
        "        loss, accuracy = test(model, testloader, device)\n",
        "        print('GLOBAL TEST')\n",
        "        return loss, {\"accuracy\": accuracy}\n",
        "\n",
        "    return evaluate_fn"
      ]
    },
    {
      "cell_type": "code",
      "execution_count": 17,
      "metadata": {
        "id": "uKusgaOAtiy_"
      },
      "outputs": [],
      "source": [
        "from flwr.common import Metrics, FitRes\n",
        "\n",
        "\n",
        "def fit_config(server_round: int) -> Dict[str, Scalar]:\n",
        "    \"\"\"Return a configuration with static batch size and (local) epochs.\"\"\"\n",
        "    config = {\n",
        "        \"epochs\": 10,  # Number of local epochs done by clients\n",
        "        \"lr\": 0.1,  # Learning rate to use by clients during fit()\n",
        "        \"attacker_epochs\": 20,\n",
        "        \"attacker_lr\": 0.05,\n",
        "    }\n",
        "    return config\n",
        "\n",
        "\n",
        "def weighted_average(metrics: List[Tuple[int, Metrics]]) -> Metrics:\n",
        "    \"\"\"Aggregation function for (federated) evaluation metrics, i.e. those returned by\n",
        "    the client's evaluate() method.\"\"\"\n",
        "    # Multiply accuracy of each client by number of examples used\n",
        "    accuracies = [num_examples * m[\"accuracy\"] for num_examples, m in metrics]\n",
        "    examples = [num_examples for num_examples, _ in metrics]\n",
        "\n",
        "    # Aggregate and return custom metric (weighted average)\n",
        "    return {\"accuracy\": sum(accuracies) / sum(examples)}"
      ]
    },
    {
      "cell_type": "code",
      "source": [
        "import numpy as np\n",
        "class SaveModelStrategy(fl.server.strategy.FedAvg):\n",
        "    def aggregate_fit(\n",
        "        self,\n",
        "        server_round: int,\n",
        "        results: List[Tuple[fl.server.client_proxy.ClientProxy, fl.common.FitRes]],\n",
        "        failures: List[Union[Tuple[ClientProxy, FitRes], BaseException]],\n",
        "    ) -> Tuple[Optional[Parameters], Dict[str, Scalar]]:\n",
        "        \"\"\"Aggregate model weights using weighted average and store checkpoint\"\"\"\n",
        "        model=Net(10)\n",
        "        # Call aggregate_fit from base class (FedAvg) to aggregate parameters and metrics\n",
        "        aggregated_parameters, aggregated_metrics = super().aggregate_fit(server_round, results, failures)\n",
        "\n",
        "        if aggregated_parameters is not None:\n",
        "            print(f\"Saving round {server_round} aggregated_parameters...\")\n",
        "\n",
        "            # Convert `Parameters` to `List[np.ndarray]`\n",
        "            aggregated_ndarrays: List[np.ndarray] = fl.common.parameters_to_ndarrays(aggregated_parameters)\n",
        "\n",
        "            # Convert `List[np.ndarray]` to PyTorch`state_dict`\n",
        "            params_dict = zip(model.state_dict().keys(), aggregated_ndarrays)\n",
        "            state_dict = OrderedDict({k: torch.tensor(v) for k, v in params_dict})\n",
        "            model.load_state_dict(state_dict, strict=True)\n",
        "\n",
        "            # Save the model\n",
        "            torch.save(model.state_dict(), f\"model_round_{server_round}.pth\")\n",
        "        return aggregated_parameters, aggregated_metrics"
      ],
      "metadata": {
        "id": "gIoh_OAxATO7"
      },
      "execution_count": 18,
      "outputs": []
    },
    {
      "cell_type": "code",
      "execution_count": 19,
      "metadata": {
        "id": "FpB15Xv3tizA"
      },
      "outputs": [],
      "source": [
        "strategy = SaveModelStrategy(\n",
        "    fraction_fit=0.34,  # Sample 10% of available clients for training\n",
        "    fraction_evaluate=0.34,  # Sample 5% of available clients for evaluation\n",
        "    on_fit_config_fn=fit_config,\n",
        "    evaluate_metrics_aggregation_fn=weighted_average,  # aggregates federated metrics\n",
        "    evaluate_fn=get_evaluate_fn(centralized_testset),  # global evaluation function\n",
        ")"
      ]
    },
    {
      "cell_type": "code",
      "execution_count": 20,
      "metadata": {
        "id": "g0HZTdGHtizA"
      },
      "outputs": [],
      "source": [
        "from torch.utils.data import DataLoader\n",
        "\n",
        "\n",
        "def get_client_fn(dataset: FederatedDataset):\n",
        "    \"\"\"Return a function to construct a client.\n",
        "\n",
        "    The VirtualClientEngine will execute this function whenever a client is sampled by\n",
        "    the strategy to participate.\n",
        "    \"\"\"\n",
        "\n",
        "    def client_fn(cid: str) -> fl.client.Client:\n",
        "        \"\"\"Construct a FlowerClient with its own dataset partition.\"\"\"\n",
        "\n",
        "        # Let's get the partition corresponding to the i-th client\n",
        "        client_dataset = dataset.load_partition(int(cid), \"train\")\n",
        "\n",
        "        # Now let's split it into train (90%) and validation (10%)\n",
        "        client_dataset_splits = client_dataset.train_test_split(test_size=0.1)\n",
        "\n",
        "        trainset = client_dataset_splits[\"train\"]\n",
        "        valset = client_dataset_splits[\"test\"]\n",
        "\n",
        "        # Now we apply the transform to each batch.\n",
        "        trainloader = DataLoader(\n",
        "            trainset.with_transform(apply_transforms), batch_size=32, shuffle=True\n",
        "        )\n",
        "        valloader = DataLoader(valset.with_transform(apply_transforms), batch_size=32)\n",
        "        testset = centralized_testset.with_transform(apply_transforms)\n",
        "\n",
        "        testloader = DataLoader(testset, batch_size=50)\n",
        "        # Create and return client\n",
        "        return FlowerClient(int(cid), trainloader, valloader, testloader)\n",
        "\n",
        "    return client_fn\n",
        "\n",
        "\n",
        "client_fn_callback = get_client_fn(mnist_fds)"
      ]
    },
    {
      "cell_type": "markdown",
      "metadata": {
        "id": "TRAALrO7tizA"
      },
      "source": [
        "Now we are ready to launch the FL experiment using Flower simulation:"
      ]
    },
    {
      "cell_type": "code",
      "execution_count": 21,
      "metadata": {
        "id": "WOOq8qkUtizA",
        "outputId": "036ea463-4d9c-4a0f-ca1d-d0b42af1716d",
        "colab": {
          "base_uri": "https://localhost:8080/"
        }
      },
      "outputs": [
        {
          "output_type": "stream",
          "name": "stderr",
          "text": [
            "INFO flwr 2024-01-15 06:23:00,594 | app.py:178 | Starting Flower simulation, config: ServerConfig(num_rounds=50, round_timeout=None)\n",
            "INFO:flwr:Starting Flower simulation, config: ServerConfig(num_rounds=50, round_timeout=None)\n",
            "2024-01-15 06:23:04,725\tINFO worker.py:1621 -- Started a local Ray instance.\n",
            "INFO flwr 2024-01-15 06:23:06,785 | app.py:213 | Flower VCE: Ray initialized with resources: {'CPU': 2.0, 'node:__internal_head__': 1.0, 'memory': 7687136871.0, 'GPU': 1.0, 'node:172.28.0.12': 1.0, 'object_store_memory': 3843568435.0}\n",
            "INFO:flwr:Flower VCE: Ray initialized with resources: {'CPU': 2.0, 'node:__internal_head__': 1.0, 'memory': 7687136871.0, 'GPU': 1.0, 'node:172.28.0.12': 1.0, 'object_store_memory': 3843568435.0}\n",
            "INFO flwr 2024-01-15 06:23:06,792 | app.py:219 | Optimize your simulation with Flower VCE: https://flower.dev/docs/framework/how-to-run-simulations.html\n",
            "INFO:flwr:Optimize your simulation with Flower VCE: https://flower.dev/docs/framework/how-to-run-simulations.html\n",
            "INFO flwr 2024-01-15 06:23:06,798 | app.py:242 | Flower VCE: Resources for each Virtual Client: {'num_cpus': 0.2, 'num_gpus': 0.1}\n",
            "INFO:flwr:Flower VCE: Resources for each Virtual Client: {'num_cpus': 0.2, 'num_gpus': 0.1}\n",
            "INFO flwr 2024-01-15 06:23:06,885 | app.py:288 | Flower VCE: Creating VirtualClientEngineActorPool with 10 actors\n",
            "INFO:flwr:Flower VCE: Creating VirtualClientEngineActorPool with 10 actors\n",
            "INFO flwr 2024-01-15 06:23:06,896 | server.py:89 | Initializing global parameters\n",
            "INFO:flwr:Initializing global parameters\n",
            "INFO flwr 2024-01-15 06:23:06,902 | server.py:276 | Requesting initial parameters from one random client\n",
            "INFO:flwr:Requesting initial parameters from one random client\n",
            "2024-01-15 06:23:12,908\tWARNING worker.py:2037 -- WARNING: 8 PYTHON worker processes have been started on node: ec36f93310a0a16bd59ab6f92e9c469bd8d9ed8b0b85dd85240af167 with address: 172.28.0.12. This could be a result of using a large number of actors, or due to tasks blocked in ray.get() calls (see https://github.com/ray-project/ray/issues/3644 for some discussion of workarounds).\n",
            "\u001b[2m\u001b[36m(pid=4928)\u001b[0m 2024-01-15 06:23:17.464387: E external/local_xla/xla/stream_executor/cuda/cuda_dnn.cc:9261] Unable to register cuDNN factory: Attempting to register factory for plugin cuDNN when one has already been registered\n",
            "\u001b[2m\u001b[36m(pid=4928)\u001b[0m 2024-01-15 06:23:17.467595: E external/local_xla/xla/stream_executor/cuda/cuda_fft.cc:607] Unable to register cuFFT factory: Attempting to register factory for plugin cuFFT when one has already been registered\n",
            "\u001b[2m\u001b[36m(pid=4928)\u001b[0m 2024-01-15 06:23:17.473654: E external/local_xla/xla/stream_executor/cuda/cuda_blas.cc:1515] Unable to register cuBLAS factory: Attempting to register factory for plugin cuBLAS when one has already been registered\n",
            "\u001b[2m\u001b[36m(pid=4929)\u001b[0m 2024-01-15 06:23:26.718324: W tensorflow/compiler/tf2tensorrt/utils/py_utils.cc:38] TF-TRT Warning: Could not find TensorRT\n",
            "\u001b[2m\u001b[36m(pid=5113)\u001b[0m 2024-01-15 06:23:19.441903: E external/local_xla/xla/stream_executor/cuda/cuda_dnn.cc:9261] Unable to register cuDNN factory: Attempting to register factory for plugin cuDNN when one has already been registered\u001b[32m [repeated 9x across cluster]\u001b[0m\n",
            "\u001b[2m\u001b[36m(pid=5113)\u001b[0m 2024-01-15 06:23:19.441945: E external/local_xla/xla/stream_executor/cuda/cuda_fft.cc:607] Unable to register cuFFT factory: Attempting to register factory for plugin cuFFT when one has already been registered\u001b[32m [repeated 9x across cluster]\u001b[0m\n",
            "\u001b[2m\u001b[36m(pid=5113)\u001b[0m 2024-01-15 06:23:19.455585: E external/local_xla/xla/stream_executor/cuda/cuda_blas.cc:1515] Unable to register cuBLAS factory: Attempting to register factory for plugin cuBLAS when one has already been registered\u001b[32m [repeated 9x across cluster]\u001b[0m\n",
            "INFO flwr 2024-01-15 06:23:48,692 | server.py:280 | Received initial parameters from one random client\n",
            "INFO:flwr:Received initial parameters from one random client\n",
            "INFO flwr 2024-01-15 06:23:48,696 | server.py:91 | Evaluating initial parameters\n",
            "INFO:flwr:Evaluating initial parameters\n",
            "INFO flwr 2024-01-15 06:23:54,251 | server.py:94 | initial parameters (loss, other metrics): 460.5179190635681, {'accuracy': 0.1129}\n",
            "INFO:flwr:initial parameters (loss, other metrics): 460.5179190635681, {'accuracy': 0.1129}\n",
            "INFO flwr 2024-01-15 06:23:54,254 | server.py:104 | FL starting\n",
            "INFO:flwr:FL starting\n",
            "DEBUG flwr 2024-01-15 06:23:54,258 | server.py:222 | fit_round 1: strategy sampled 11 clients (out of 33)\n",
            "DEBUG:flwr:fit_round 1: strategy sampled 11 clients (out of 33)\n"
          ]
        },
        {
          "output_type": "stream",
          "name": "stdout",
          "text": [
            "GLOBAL TEST\n"
          ]
        },
        {
          "output_type": "stream",
          "name": "stderr",
          "text": [
            "DEBUG flwr 2024-01-15 06:25:45,376 | server.py:236 | fit_round 1 received 11 results and 0 failures\n",
            "DEBUG:flwr:fit_round 1 received 11 results and 0 failures\n",
            "WARNING flwr 2024-01-15 06:25:45,465 | fedavg.py:242 | No fit_metrics_aggregation_fn provided\n",
            "WARNING:flwr:No fit_metrics_aggregation_fn provided\n"
          ]
        },
        {
          "output_type": "stream",
          "name": "stdout",
          "text": [
            "Saving round 1 aggregated_parameters...\n"
          ]
        },
        {
          "output_type": "stream",
          "name": "stderr",
          "text": [
            "INFO flwr 2024-01-15 06:25:50,157 | server.py:125 | fit progress: (1, 460.4976363182068, {'accuracy': 0.1135}, 115.89830883800005)\n",
            "INFO:flwr:fit progress: (1, 460.4976363182068, {'accuracy': 0.1135}, 115.89830883800005)\n",
            "DEBUG flwr 2024-01-15 06:25:50,162 | server.py:173 | evaluate_round 1: strategy sampled 11 clients (out of 33)\n",
            "DEBUG:flwr:evaluate_round 1: strategy sampled 11 clients (out of 33)\n"
          ]
        },
        {
          "output_type": "stream",
          "name": "stdout",
          "text": [
            "GLOBAL TEST\n"
          ]
        },
        {
          "output_type": "stream",
          "name": "stderr",
          "text": [
            "DEBUG flwr 2024-01-15 06:25:51,805 | server.py:187 | evaluate_round 1 received 11 results and 0 failures\n",
            "DEBUG:flwr:evaluate_round 1 received 11 results and 0 failures\n",
            "DEBUG flwr 2024-01-15 06:25:51,809 | server.py:222 | fit_round 2: strategy sampled 11 clients (out of 33)\n",
            "DEBUG:flwr:fit_round 2: strategy sampled 11 clients (out of 33)\n",
            "DEBUG flwr 2024-01-15 06:27:27,312 | server.py:236 | fit_round 2 received 11 results and 0 failures\n",
            "DEBUG:flwr:fit_round 2 received 11 results and 0 failures\n"
          ]
        },
        {
          "output_type": "stream",
          "name": "stdout",
          "text": [
            "Saving round 2 aggregated_parameters...\n"
          ]
        },
        {
          "output_type": "stream",
          "name": "stderr",
          "text": [
            "INFO flwr 2024-01-15 06:27:32,152 | server.py:125 | fit progress: (2, 460.47481203079224, {'accuracy': 0.1135}, 217.8938678510001)\n",
            "INFO:flwr:fit progress: (2, 460.47481203079224, {'accuracy': 0.1135}, 217.8938678510001)\n",
            "DEBUG flwr 2024-01-15 06:27:32,159 | server.py:173 | evaluate_round 2: strategy sampled 11 clients (out of 33)\n",
            "DEBUG:flwr:evaluate_round 2: strategy sampled 11 clients (out of 33)\n"
          ]
        },
        {
          "output_type": "stream",
          "name": "stdout",
          "text": [
            "GLOBAL TEST\n"
          ]
        },
        {
          "output_type": "stream",
          "name": "stderr",
          "text": [
            "DEBUG flwr 2024-01-15 06:27:34,403 | server.py:187 | evaluate_round 2 received 11 results and 0 failures\n",
            "DEBUG:flwr:evaluate_round 2 received 11 results and 0 failures\n",
            "DEBUG flwr 2024-01-15 06:27:34,411 | server.py:222 | fit_round 3: strategy sampled 11 clients (out of 33)\n",
            "DEBUG:flwr:fit_round 3: strategy sampled 11 clients (out of 33)\n",
            "DEBUG flwr 2024-01-15 06:29:07,213 | server.py:236 | fit_round 3 received 11 results and 0 failures\n",
            "DEBUG:flwr:fit_round 3 received 11 results and 0 failures\n"
          ]
        },
        {
          "output_type": "stream",
          "name": "stdout",
          "text": [
            "Saving round 3 aggregated_parameters...\n"
          ]
        },
        {
          "output_type": "stream",
          "name": "stderr",
          "text": [
            "INFO flwr 2024-01-15 06:29:12,857 | server.py:125 | fit progress: (3, 460.44221329689026, {'accuracy': 0.1135}, 318.59871343300006)\n",
            "INFO:flwr:fit progress: (3, 460.44221329689026, {'accuracy': 0.1135}, 318.59871343300006)\n",
            "DEBUG flwr 2024-01-15 06:29:12,867 | server.py:173 | evaluate_round 3: strategy sampled 11 clients (out of 33)\n",
            "DEBUG:flwr:evaluate_round 3: strategy sampled 11 clients (out of 33)\n"
          ]
        },
        {
          "output_type": "stream",
          "name": "stdout",
          "text": [
            "GLOBAL TEST\n"
          ]
        },
        {
          "output_type": "stream",
          "name": "stderr",
          "text": [
            "DEBUG flwr 2024-01-15 06:29:14,700 | server.py:187 | evaluate_round 3 received 11 results and 0 failures\n",
            "DEBUG:flwr:evaluate_round 3 received 11 results and 0 failures\n",
            "DEBUG flwr 2024-01-15 06:29:14,703 | server.py:222 | fit_round 4: strategy sampled 11 clients (out of 33)\n",
            "DEBUG:flwr:fit_round 4: strategy sampled 11 clients (out of 33)\n",
            "DEBUG flwr 2024-01-15 06:30:46,758 | server.py:236 | fit_round 4 received 11 results and 0 failures\n",
            "DEBUG:flwr:fit_round 4 received 11 results and 0 failures\n"
          ]
        },
        {
          "output_type": "stream",
          "name": "stdout",
          "text": [
            "Saving round 4 aggregated_parameters...\n"
          ]
        },
        {
          "output_type": "stream",
          "name": "stderr",
          "text": [
            "INFO flwr 2024-01-15 06:30:52,530 | server.py:125 | fit progress: (4, 460.391074180603, {'accuracy': 0.1135}, 418.27131776400006)\n",
            "INFO:flwr:fit progress: (4, 460.391074180603, {'accuracy': 0.1135}, 418.27131776400006)\n",
            "DEBUG flwr 2024-01-15 06:30:52,534 | server.py:173 | evaluate_round 4: strategy sampled 11 clients (out of 33)\n",
            "DEBUG:flwr:evaluate_round 4: strategy sampled 11 clients (out of 33)\n"
          ]
        },
        {
          "output_type": "stream",
          "name": "stdout",
          "text": [
            "GLOBAL TEST\n"
          ]
        },
        {
          "output_type": "stream",
          "name": "stderr",
          "text": [
            "DEBUG flwr 2024-01-15 06:30:53,979 | server.py:187 | evaluate_round 4 received 11 results and 0 failures\n",
            "DEBUG:flwr:evaluate_round 4 received 11 results and 0 failures\n",
            "DEBUG flwr 2024-01-15 06:30:53,984 | server.py:222 | fit_round 5: strategy sampled 11 clients (out of 33)\n",
            "DEBUG:flwr:fit_round 5: strategy sampled 11 clients (out of 33)\n",
            "DEBUG flwr 2024-01-15 06:32:26,986 | server.py:236 | fit_round 5 received 11 results and 0 failures\n",
            "DEBUG:flwr:fit_round 5 received 11 results and 0 failures\n"
          ]
        },
        {
          "output_type": "stream",
          "name": "stdout",
          "text": [
            "Saving round 5 aggregated_parameters...\n"
          ]
        },
        {
          "output_type": "stream",
          "name": "stderr",
          "text": [
            "INFO flwr 2024-01-15 06:32:32,074 | server.py:125 | fit progress: (5, 460.27945947647095, {'accuracy': 0.117}, 517.815327904)\n",
            "INFO:flwr:fit progress: (5, 460.27945947647095, {'accuracy': 0.117}, 517.815327904)\n",
            "DEBUG flwr 2024-01-15 06:32:32,077 | server.py:173 | evaluate_round 5: strategy sampled 11 clients (out of 33)\n",
            "DEBUG:flwr:evaluate_round 5: strategy sampled 11 clients (out of 33)\n"
          ]
        },
        {
          "output_type": "stream",
          "name": "stdout",
          "text": [
            "GLOBAL TEST\n"
          ]
        },
        {
          "output_type": "stream",
          "name": "stderr",
          "text": [
            "DEBUG flwr 2024-01-15 06:32:33,519 | server.py:187 | evaluate_round 5 received 11 results and 0 failures\n",
            "DEBUG:flwr:evaluate_round 5 received 11 results and 0 failures\n",
            "DEBUG flwr 2024-01-15 06:32:33,522 | server.py:222 | fit_round 6: strategy sampled 11 clients (out of 33)\n",
            "DEBUG:flwr:fit_round 6: strategy sampled 11 clients (out of 33)\n",
            "DEBUG flwr 2024-01-15 06:34:08,850 | server.py:236 | fit_round 6 received 11 results and 0 failures\n",
            "DEBUG:flwr:fit_round 6 received 11 results and 0 failures\n"
          ]
        },
        {
          "output_type": "stream",
          "name": "stdout",
          "text": [
            "Saving round 6 aggregated_parameters...\n"
          ]
        },
        {
          "output_type": "stream",
          "name": "stderr",
          "text": [
            "INFO flwr 2024-01-15 06:34:13,263 | server.py:125 | fit progress: (6, 459.6922414302826, {'accuracy': 0.2992}, 619.004698302)\n",
            "INFO:flwr:fit progress: (6, 459.6922414302826, {'accuracy': 0.2992}, 619.004698302)\n",
            "DEBUG flwr 2024-01-15 06:34:13,267 | server.py:173 | evaluate_round 6: strategy sampled 11 clients (out of 33)\n",
            "DEBUG:flwr:evaluate_round 6: strategy sampled 11 clients (out of 33)\n"
          ]
        },
        {
          "output_type": "stream",
          "name": "stdout",
          "text": [
            "GLOBAL TEST\n"
          ]
        },
        {
          "output_type": "stream",
          "name": "stderr",
          "text": [
            "DEBUG flwr 2024-01-15 06:34:14,700 | server.py:187 | evaluate_round 6 received 11 results and 0 failures\n",
            "DEBUG:flwr:evaluate_round 6 received 11 results and 0 failures\n",
            "DEBUG flwr 2024-01-15 06:34:14,704 | server.py:222 | fit_round 7: strategy sampled 11 clients (out of 33)\n",
            "DEBUG:flwr:fit_round 7: strategy sampled 11 clients (out of 33)\n",
            "DEBUG flwr 2024-01-15 06:35:52,058 | server.py:236 | fit_round 7 received 11 results and 0 failures\n",
            "DEBUG:flwr:fit_round 7 received 11 results and 0 failures\n"
          ]
        },
        {
          "output_type": "stream",
          "name": "stdout",
          "text": [
            "Saving round 7 aggregated_parameters...\n"
          ]
        },
        {
          "output_type": "stream",
          "name": "stderr",
          "text": [
            "INFO flwr 2024-01-15 06:35:57,212 | server.py:125 | fit progress: (7, 405.17773616313934, {'accuracy': 0.4247}, 722.953181992)\n",
            "INFO:flwr:fit progress: (7, 405.17773616313934, {'accuracy': 0.4247}, 722.953181992)\n",
            "DEBUG flwr 2024-01-15 06:35:57,216 | server.py:173 | evaluate_round 7: strategy sampled 11 clients (out of 33)\n",
            "DEBUG:flwr:evaluate_round 7: strategy sampled 11 clients (out of 33)\n"
          ]
        },
        {
          "output_type": "stream",
          "name": "stdout",
          "text": [
            "GLOBAL TEST\n"
          ]
        },
        {
          "output_type": "stream",
          "name": "stderr",
          "text": [
            "DEBUG flwr 2024-01-15 06:35:59,474 | server.py:187 | evaluate_round 7 received 11 results and 0 failures\n",
            "DEBUG:flwr:evaluate_round 7 received 11 results and 0 failures\n",
            "DEBUG flwr 2024-01-15 06:35:59,481 | server.py:222 | fit_round 8: strategy sampled 11 clients (out of 33)\n",
            "DEBUG:flwr:fit_round 8: strategy sampled 11 clients (out of 33)\n",
            "DEBUG flwr 2024-01-15 06:37:33,079 | server.py:236 | fit_round 8 received 11 results and 0 failures\n",
            "DEBUG:flwr:fit_round 8 received 11 results and 0 failures\n"
          ]
        },
        {
          "output_type": "stream",
          "name": "stdout",
          "text": [
            "Saving round 8 aggregated_parameters...\n"
          ]
        },
        {
          "output_type": "stream",
          "name": "stderr",
          "text": [
            "INFO flwr 2024-01-15 06:37:39,126 | server.py:125 | fit progress: (8, 340.8849129676819, {'accuracy': 0.7604}, 824.867520155)\n",
            "INFO:flwr:fit progress: (8, 340.8849129676819, {'accuracy': 0.7604}, 824.867520155)\n",
            "DEBUG flwr 2024-01-15 06:37:39,131 | server.py:173 | evaluate_round 8: strategy sampled 11 clients (out of 33)\n",
            "DEBUG:flwr:evaluate_round 8: strategy sampled 11 clients (out of 33)\n"
          ]
        },
        {
          "output_type": "stream",
          "name": "stdout",
          "text": [
            "GLOBAL TEST\n"
          ]
        },
        {
          "output_type": "stream",
          "name": "stderr",
          "text": [
            "DEBUG flwr 2024-01-15 06:37:40,574 | server.py:187 | evaluate_round 8 received 11 results and 0 failures\n",
            "DEBUG:flwr:evaluate_round 8 received 11 results and 0 failures\n",
            "DEBUG flwr 2024-01-15 06:37:40,580 | server.py:222 | fit_round 9: strategy sampled 11 clients (out of 33)\n",
            "DEBUG:flwr:fit_round 9: strategy sampled 11 clients (out of 33)\n",
            "DEBUG flwr 2024-01-15 06:39:14,609 | server.py:236 | fit_round 9 received 11 results and 0 failures\n",
            "DEBUG:flwr:fit_round 9 received 11 results and 0 failures\n"
          ]
        },
        {
          "output_type": "stream",
          "name": "stdout",
          "text": [
            "Saving round 9 aggregated_parameters...\n"
          ]
        },
        {
          "output_type": "stream",
          "name": "stderr",
          "text": [
            "INFO flwr 2024-01-15 06:39:19,703 | server.py:125 | fit progress: (9, 324.27264952659607, {'accuracy': 0.8412}, 925.4450086900001)\n",
            "INFO:flwr:fit progress: (9, 324.27264952659607, {'accuracy': 0.8412}, 925.4450086900001)\n",
            "DEBUG flwr 2024-01-15 06:39:19,707 | server.py:173 | evaluate_round 9: strategy sampled 11 clients (out of 33)\n",
            "DEBUG:flwr:evaluate_round 9: strategy sampled 11 clients (out of 33)\n"
          ]
        },
        {
          "output_type": "stream",
          "name": "stdout",
          "text": [
            "GLOBAL TEST\n"
          ]
        },
        {
          "output_type": "stream",
          "name": "stderr",
          "text": [
            "DEBUG flwr 2024-01-15 06:39:21,168 | server.py:187 | evaluate_round 9 received 11 results and 0 failures\n",
            "DEBUG:flwr:evaluate_round 9 received 11 results and 0 failures\n",
            "DEBUG flwr 2024-01-15 06:39:21,172 | server.py:222 | fit_round 10: strategy sampled 11 clients (out of 33)\n",
            "DEBUG:flwr:fit_round 10: strategy sampled 11 clients (out of 33)\n",
            "DEBUG flwr 2024-01-15 06:40:56,096 | server.py:236 | fit_round 10 received 11 results and 0 failures\n",
            "DEBUG:flwr:fit_round 10 received 11 results and 0 failures\n"
          ]
        },
        {
          "output_type": "stream",
          "name": "stdout",
          "text": [
            "Saving round 10 aggregated_parameters...\n"
          ]
        },
        {
          "output_type": "stream",
          "name": "stderr",
          "text": [
            "INFO flwr 2024-01-15 06:41:00,549 | server.py:125 | fit progress: (10, 321.3754688501358, {'accuracy': 0.8569}, 1026.2903267020001)\n",
            "INFO:flwr:fit progress: (10, 321.3754688501358, {'accuracy': 0.8569}, 1026.2903267020001)\n",
            "DEBUG flwr 2024-01-15 06:41:00,552 | server.py:173 | evaluate_round 10: strategy sampled 11 clients (out of 33)\n",
            "DEBUG:flwr:evaluate_round 10: strategy sampled 11 clients (out of 33)\n"
          ]
        },
        {
          "output_type": "stream",
          "name": "stdout",
          "text": [
            "GLOBAL TEST\n"
          ]
        },
        {
          "output_type": "stream",
          "name": "stderr",
          "text": [
            "DEBUG flwr 2024-01-15 06:41:02,019 | server.py:187 | evaluate_round 10 received 11 results and 0 failures\n",
            "DEBUG:flwr:evaluate_round 10 received 11 results and 0 failures\n",
            "DEBUG flwr 2024-01-15 06:41:02,024 | server.py:222 | fit_round 11: strategy sampled 11 clients (out of 33)\n",
            "DEBUG:flwr:fit_round 11: strategy sampled 11 clients (out of 33)\n",
            "DEBUG flwr 2024-01-15 06:42:37,141 | server.py:236 | fit_round 11 received 11 results and 0 failures\n",
            "DEBUG:flwr:fit_round 11 received 11 results and 0 failures\n"
          ]
        },
        {
          "output_type": "stream",
          "name": "stdout",
          "text": [
            "Saving round 11 aggregated_parameters...\n"
          ]
        },
        {
          "output_type": "stream",
          "name": "stderr",
          "text": [
            "INFO flwr 2024-01-15 06:42:41,770 | server.py:125 | fit progress: (11, 319.78058409690857, {'accuracy': 0.8622}, 1127.5115619009998)\n",
            "INFO:flwr:fit progress: (11, 319.78058409690857, {'accuracy': 0.8622}, 1127.5115619009998)\n",
            "DEBUG flwr 2024-01-15 06:42:41,774 | server.py:173 | evaluate_round 11: strategy sampled 11 clients (out of 33)\n",
            "DEBUG:flwr:evaluate_round 11: strategy sampled 11 clients (out of 33)\n"
          ]
        },
        {
          "output_type": "stream",
          "name": "stdout",
          "text": [
            "GLOBAL TEST\n"
          ]
        },
        {
          "output_type": "stream",
          "name": "stderr",
          "text": [
            "DEBUG flwr 2024-01-15 06:42:43,251 | server.py:187 | evaluate_round 11 received 11 results and 0 failures\n",
            "DEBUG:flwr:evaluate_round 11 received 11 results and 0 failures\n",
            "DEBUG flwr 2024-01-15 06:42:43,255 | server.py:222 | fit_round 12: strategy sampled 11 clients (out of 33)\n",
            "DEBUG:flwr:fit_round 12: strategy sampled 11 clients (out of 33)\n",
            "DEBUG flwr 2024-01-15 06:44:19,768 | server.py:236 | fit_round 12 received 11 results and 0 failures\n",
            "DEBUG:flwr:fit_round 12 received 11 results and 0 failures\n"
          ]
        },
        {
          "output_type": "stream",
          "name": "stdout",
          "text": [
            "Saving round 12 aggregated_parameters...\n"
          ]
        },
        {
          "output_type": "stream",
          "name": "stderr",
          "text": [
            "INFO flwr 2024-01-15 06:44:24,950 | server.py:125 | fit progress: (12, 318.35419404506683, {'accuracy': 0.8697}, 1230.6918265049999)\n",
            "INFO:flwr:fit progress: (12, 318.35419404506683, {'accuracy': 0.8697}, 1230.6918265049999)\n",
            "DEBUG flwr 2024-01-15 06:44:24,954 | server.py:173 | evaluate_round 12: strategy sampled 11 clients (out of 33)\n",
            "DEBUG:flwr:evaluate_round 12: strategy sampled 11 clients (out of 33)\n"
          ]
        },
        {
          "output_type": "stream",
          "name": "stdout",
          "text": [
            "GLOBAL TEST\n"
          ]
        },
        {
          "output_type": "stream",
          "name": "stderr",
          "text": [
            "DEBUG flwr 2024-01-15 06:44:27,277 | server.py:187 | evaluate_round 12 received 11 results and 0 failures\n",
            "DEBUG:flwr:evaluate_round 12 received 11 results and 0 failures\n",
            "DEBUG flwr 2024-01-15 06:44:27,280 | server.py:222 | fit_round 13: strategy sampled 11 clients (out of 33)\n",
            "DEBUG:flwr:fit_round 13: strategy sampled 11 clients (out of 33)\n",
            "DEBUG flwr 2024-01-15 06:46:00,890 | server.py:236 | fit_round 13 received 11 results and 0 failures\n",
            "DEBUG:flwr:fit_round 13 received 11 results and 0 failures\n"
          ]
        },
        {
          "output_type": "stream",
          "name": "stdout",
          "text": [
            "Saving round 13 aggregated_parameters...\n"
          ]
        },
        {
          "output_type": "stream",
          "name": "stderr",
          "text": [
            "INFO flwr 2024-01-15 06:46:06,852 | server.py:125 | fit progress: (13, 317.42549777030945, {'accuracy': 0.8737}, 1332.593492865)\n",
            "INFO:flwr:fit progress: (13, 317.42549777030945, {'accuracy': 0.8737}, 1332.593492865)\n",
            "DEBUG flwr 2024-01-15 06:46:06,856 | server.py:173 | evaluate_round 13: strategy sampled 11 clients (out of 33)\n",
            "DEBUG:flwr:evaluate_round 13: strategy sampled 11 clients (out of 33)\n"
          ]
        },
        {
          "output_type": "stream",
          "name": "stdout",
          "text": [
            "GLOBAL TEST\n"
          ]
        },
        {
          "output_type": "stream",
          "name": "stderr",
          "text": [
            "DEBUG flwr 2024-01-15 06:46:08,328 | server.py:187 | evaluate_round 13 received 11 results and 0 failures\n",
            "DEBUG:flwr:evaluate_round 13 received 11 results and 0 failures\n",
            "DEBUG flwr 2024-01-15 06:46:08,331 | server.py:222 | fit_round 14: strategy sampled 11 clients (out of 33)\n",
            "DEBUG:flwr:fit_round 14: strategy sampled 11 clients (out of 33)\n",
            "DEBUG flwr 2024-01-15 06:47:44,456 | server.py:236 | fit_round 14 received 11 results and 0 failures\n",
            "DEBUG:flwr:fit_round 14 received 11 results and 0 failures\n"
          ]
        },
        {
          "output_type": "stream",
          "name": "stdout",
          "text": [
            "Saving round 14 aggregated_parameters...\n"
          ]
        },
        {
          "output_type": "stream",
          "name": "stderr",
          "text": [
            "INFO flwr 2024-01-15 06:47:49,036 | server.py:125 | fit progress: (14, 317.06165623664856, {'accuracy': 0.8754}, 1434.7780594)\n",
            "INFO:flwr:fit progress: (14, 317.06165623664856, {'accuracy': 0.8754}, 1434.7780594)\n",
            "DEBUG flwr 2024-01-15 06:47:49,039 | server.py:173 | evaluate_round 14: strategy sampled 11 clients (out of 33)\n",
            "DEBUG:flwr:evaluate_round 14: strategy sampled 11 clients (out of 33)\n"
          ]
        },
        {
          "output_type": "stream",
          "name": "stdout",
          "text": [
            "GLOBAL TEST\n"
          ]
        },
        {
          "output_type": "stream",
          "name": "stderr",
          "text": [
            "DEBUG flwr 2024-01-15 06:47:50,511 | server.py:187 | evaluate_round 14 received 11 results and 0 failures\n",
            "DEBUG:flwr:evaluate_round 14 received 11 results and 0 failures\n",
            "DEBUG flwr 2024-01-15 06:47:50,514 | server.py:222 | fit_round 15: strategy sampled 11 clients (out of 33)\n",
            "DEBUG:flwr:fit_round 15: strategy sampled 11 clients (out of 33)\n",
            "DEBUG flwr 2024-01-15 06:49:27,385 | server.py:236 | fit_round 15 received 11 results and 0 failures\n",
            "DEBUG:flwr:fit_round 15 received 11 results and 0 failures\n"
          ]
        },
        {
          "output_type": "stream",
          "name": "stdout",
          "text": [
            "Saving round 15 aggregated_parameters...\n"
          ]
        },
        {
          "output_type": "stream",
          "name": "stderr",
          "text": [
            "INFO flwr 2024-01-15 06:49:32,044 | server.py:125 | fit progress: (15, 316.30871284008026, {'accuracy': 0.8794}, 1537.7861567539999)\n",
            "INFO:flwr:fit progress: (15, 316.30871284008026, {'accuracy': 0.8794}, 1537.7861567539999)\n",
            "DEBUG flwr 2024-01-15 06:49:32,048 | server.py:173 | evaluate_round 15: strategy sampled 11 clients (out of 33)\n",
            "DEBUG:flwr:evaluate_round 15: strategy sampled 11 clients (out of 33)\n"
          ]
        },
        {
          "output_type": "stream",
          "name": "stdout",
          "text": [
            "GLOBAL TEST\n"
          ]
        },
        {
          "output_type": "stream",
          "name": "stderr",
          "text": [
            "DEBUG flwr 2024-01-15 06:49:34,048 | server.py:187 | evaluate_round 15 received 11 results and 0 failures\n",
            "DEBUG:flwr:evaluate_round 15 received 11 results and 0 failures\n",
            "DEBUG flwr 2024-01-15 06:49:34,051 | server.py:222 | fit_round 16: strategy sampled 11 clients (out of 33)\n",
            "DEBUG:flwr:fit_round 16: strategy sampled 11 clients (out of 33)\n",
            "DEBUG flwr 2024-01-15 06:51:10,180 | server.py:236 | fit_round 16 received 11 results and 0 failures\n",
            "DEBUG:flwr:fit_round 16 received 11 results and 0 failures\n"
          ]
        },
        {
          "output_type": "stream",
          "name": "stdout",
          "text": [
            "Saving round 16 aggregated_parameters...\n"
          ]
        },
        {
          "output_type": "stream",
          "name": "stderr",
          "text": [
            "INFO flwr 2024-01-15 06:51:16,281 | server.py:125 | fit progress: (16, 315.6877921819687, {'accuracy': 0.8823}, 1642.0226343690001)\n",
            "INFO:flwr:fit progress: (16, 315.6877921819687, {'accuracy': 0.8823}, 1642.0226343690001)\n",
            "DEBUG flwr 2024-01-15 06:51:16,284 | server.py:173 | evaluate_round 16: strategy sampled 11 clients (out of 33)\n",
            "DEBUG:flwr:evaluate_round 16: strategy sampled 11 clients (out of 33)\n"
          ]
        },
        {
          "output_type": "stream",
          "name": "stdout",
          "text": [
            "GLOBAL TEST\n"
          ]
        },
        {
          "output_type": "stream",
          "name": "stderr",
          "text": [
            "DEBUG flwr 2024-01-15 06:51:17,747 | server.py:187 | evaluate_round 16 received 11 results and 0 failures\n",
            "DEBUG:flwr:evaluate_round 16 received 11 results and 0 failures\n",
            "DEBUG flwr 2024-01-15 06:51:17,749 | server.py:222 | fit_round 17: strategy sampled 11 clients (out of 33)\n",
            "DEBUG:flwr:fit_round 17: strategy sampled 11 clients (out of 33)\n",
            "DEBUG flwr 2024-01-15 06:52:53,422 | server.py:236 | fit_round 17 received 11 results and 0 failures\n",
            "DEBUG:flwr:fit_round 17 received 11 results and 0 failures\n"
          ]
        },
        {
          "output_type": "stream",
          "name": "stdout",
          "text": [
            "Saving round 17 aggregated_parameters...\n"
          ]
        },
        {
          "output_type": "stream",
          "name": "stderr",
          "text": [
            "INFO flwr 2024-01-15 06:52:58,369 | server.py:125 | fit progress: (17, 316.9675579071045, {'accuracy': 0.8763}, 1744.110900793)\n",
            "INFO:flwr:fit progress: (17, 316.9675579071045, {'accuracy': 0.8763}, 1744.110900793)\n",
            "DEBUG flwr 2024-01-15 06:52:58,376 | server.py:173 | evaluate_round 17: strategy sampled 11 clients (out of 33)\n",
            "DEBUG:flwr:evaluate_round 17: strategy sampled 11 clients (out of 33)\n"
          ]
        },
        {
          "output_type": "stream",
          "name": "stdout",
          "text": [
            "GLOBAL TEST\n"
          ]
        },
        {
          "output_type": "stream",
          "name": "stderr",
          "text": [
            "DEBUG flwr 2024-01-15 06:52:59,841 | server.py:187 | evaluate_round 17 received 11 results and 0 failures\n",
            "DEBUG:flwr:evaluate_round 17 received 11 results and 0 failures\n",
            "DEBUG flwr 2024-01-15 06:52:59,844 | server.py:222 | fit_round 18: strategy sampled 11 clients (out of 33)\n",
            "DEBUG:flwr:fit_round 18: strategy sampled 11 clients (out of 33)\n",
            "DEBUG flwr 2024-01-15 06:54:37,551 | server.py:236 | fit_round 18 received 11 results and 0 failures\n",
            "DEBUG:flwr:fit_round 18 received 11 results and 0 failures\n"
          ]
        },
        {
          "output_type": "stream",
          "name": "stdout",
          "text": [
            "Saving round 18 aggregated_parameters...\n"
          ]
        },
        {
          "output_type": "stream",
          "name": "stderr",
          "text": [
            "INFO flwr 2024-01-15 06:54:42,160 | server.py:125 | fit progress: (18, 315.1313272714615, {'accuracy': 0.885}, 1847.90186305)\n",
            "INFO:flwr:fit progress: (18, 315.1313272714615, {'accuracy': 0.885}, 1847.90186305)\n",
            "DEBUG flwr 2024-01-15 06:54:42,165 | server.py:173 | evaluate_round 18: strategy sampled 11 clients (out of 33)\n",
            "DEBUG:flwr:evaluate_round 18: strategy sampled 11 clients (out of 33)\n"
          ]
        },
        {
          "output_type": "stream",
          "name": "stdout",
          "text": [
            "GLOBAL TEST\n"
          ]
        },
        {
          "output_type": "stream",
          "name": "stderr",
          "text": [
            "DEBUG flwr 2024-01-15 06:54:44,283 | server.py:187 | evaluate_round 18 received 11 results and 0 failures\n",
            "DEBUG:flwr:evaluate_round 18 received 11 results and 0 failures\n",
            "DEBUG flwr 2024-01-15 06:54:44,286 | server.py:222 | fit_round 19: strategy sampled 11 clients (out of 33)\n",
            "DEBUG:flwr:fit_round 19: strategy sampled 11 clients (out of 33)\n",
            "DEBUG flwr 2024-01-15 06:56:18,878 | server.py:236 | fit_round 19 received 11 results and 0 failures\n",
            "DEBUG:flwr:fit_round 19 received 11 results and 0 failures\n"
          ]
        },
        {
          "output_type": "stream",
          "name": "stdout",
          "text": [
            "Saving round 19 aggregated_parameters...\n"
          ]
        },
        {
          "output_type": "stream",
          "name": "stderr",
          "text": [
            "INFO flwr 2024-01-15 06:56:24,488 | server.py:125 | fit progress: (19, 314.85643923282623, {'accuracy': 0.8872}, 1950.229292652)\n",
            "INFO:flwr:fit progress: (19, 314.85643923282623, {'accuracy': 0.8872}, 1950.229292652)\n",
            "DEBUG flwr 2024-01-15 06:56:24,494 | server.py:173 | evaluate_round 19: strategy sampled 11 clients (out of 33)\n",
            "DEBUG:flwr:evaluate_round 19: strategy sampled 11 clients (out of 33)\n"
          ]
        },
        {
          "output_type": "stream",
          "name": "stdout",
          "text": [
            "GLOBAL TEST\n"
          ]
        },
        {
          "output_type": "stream",
          "name": "stderr",
          "text": [
            "DEBUG flwr 2024-01-15 06:56:26,544 | server.py:187 | evaluate_round 19 received 11 results and 0 failures\n",
            "DEBUG:flwr:evaluate_round 19 received 11 results and 0 failures\n",
            "DEBUG flwr 2024-01-15 06:56:26,547 | server.py:222 | fit_round 20: strategy sampled 11 clients (out of 33)\n",
            "DEBUG:flwr:fit_round 20: strategy sampled 11 clients (out of 33)\n",
            "DEBUG flwr 2024-01-15 06:58:00,052 | server.py:236 | fit_round 20 received 11 results and 0 failures\n",
            "DEBUG:flwr:fit_round 20 received 11 results and 0 failures\n"
          ]
        },
        {
          "output_type": "stream",
          "name": "stdout",
          "text": [
            "Saving round 20 aggregated_parameters...\n"
          ]
        },
        {
          "output_type": "stream",
          "name": "stderr",
          "text": [
            "INFO flwr 2024-01-15 06:58:05,583 | server.py:125 | fit progress: (20, 314.74653220176697, {'accuracy': 0.887}, 2051.324950884)\n",
            "INFO:flwr:fit progress: (20, 314.74653220176697, {'accuracy': 0.887}, 2051.324950884)\n",
            "DEBUG flwr 2024-01-15 06:58:05,587 | server.py:173 | evaluate_round 20: strategy sampled 11 clients (out of 33)\n",
            "DEBUG:flwr:evaluate_round 20: strategy sampled 11 clients (out of 33)\n"
          ]
        },
        {
          "output_type": "stream",
          "name": "stdout",
          "text": [
            "GLOBAL TEST\n"
          ]
        },
        {
          "output_type": "stream",
          "name": "stderr",
          "text": [
            "DEBUG flwr 2024-01-15 06:58:07,026 | server.py:187 | evaluate_round 20 received 11 results and 0 failures\n",
            "DEBUG:flwr:evaluate_round 20 received 11 results and 0 failures\n",
            "DEBUG flwr 2024-01-15 06:58:07,030 | server.py:222 | fit_round 21: strategy sampled 11 clients (out of 33)\n",
            "DEBUG:flwr:fit_round 21: strategy sampled 11 clients (out of 33)\n",
            "DEBUG flwr 2024-01-15 06:59:41,698 | server.py:236 | fit_round 21 received 11 results and 0 failures\n",
            "DEBUG:flwr:fit_round 21 received 11 results and 0 failures\n"
          ]
        },
        {
          "output_type": "stream",
          "name": "stdout",
          "text": [
            "Saving round 21 aggregated_parameters...\n"
          ]
        },
        {
          "output_type": "stream",
          "name": "stderr",
          "text": [
            "INFO flwr 2024-01-15 06:59:46,234 | server.py:125 | fit progress: (21, 314.45548474788666, {'accuracy': 0.8887}, 2151.975212251)\n",
            "INFO:flwr:fit progress: (21, 314.45548474788666, {'accuracy': 0.8887}, 2151.975212251)\n",
            "DEBUG flwr 2024-01-15 06:59:46,237 | server.py:173 | evaluate_round 21: strategy sampled 11 clients (out of 33)\n",
            "DEBUG:flwr:evaluate_round 21: strategy sampled 11 clients (out of 33)\n"
          ]
        },
        {
          "output_type": "stream",
          "name": "stdout",
          "text": [
            "GLOBAL TEST\n"
          ]
        },
        {
          "output_type": "stream",
          "name": "stderr",
          "text": [
            "DEBUG flwr 2024-01-15 06:59:47,739 | server.py:187 | evaluate_round 21 received 11 results and 0 failures\n",
            "DEBUG:flwr:evaluate_round 21 received 11 results and 0 failures\n",
            "DEBUG flwr 2024-01-15 06:59:47,744 | server.py:222 | fit_round 22: strategy sampled 11 clients (out of 33)\n",
            "DEBUG:flwr:fit_round 22: strategy sampled 11 clients (out of 33)\n",
            "DEBUG flwr 2024-01-15 07:01:23,169 | server.py:236 | fit_round 22 received 11 results and 0 failures\n",
            "DEBUG:flwr:fit_round 22 received 11 results and 0 failures\n"
          ]
        },
        {
          "output_type": "stream",
          "name": "stdout",
          "text": [
            "Saving round 22 aggregated_parameters...\n"
          ]
        },
        {
          "output_type": "stream",
          "name": "stderr",
          "text": [
            "INFO flwr 2024-01-15 07:01:27,730 | server.py:125 | fit progress: (22, 314.21162021160126, {'accuracy': 0.8899}, 2253.471465675)\n",
            "INFO:flwr:fit progress: (22, 314.21162021160126, {'accuracy': 0.8899}, 2253.471465675)\n",
            "DEBUG flwr 2024-01-15 07:01:27,733 | server.py:173 | evaluate_round 22: strategy sampled 11 clients (out of 33)\n",
            "DEBUG:flwr:evaluate_round 22: strategy sampled 11 clients (out of 33)\n"
          ]
        },
        {
          "output_type": "stream",
          "name": "stdout",
          "text": [
            "GLOBAL TEST\n"
          ]
        },
        {
          "output_type": "stream",
          "name": "stderr",
          "text": [
            "DEBUG flwr 2024-01-15 07:01:29,179 | server.py:187 | evaluate_round 22 received 11 results and 0 failures\n",
            "DEBUG:flwr:evaluate_round 22 received 11 results and 0 failures\n",
            "DEBUG flwr 2024-01-15 07:01:29,184 | server.py:222 | fit_round 23: strategy sampled 11 clients (out of 33)\n",
            "DEBUG:flwr:fit_round 23: strategy sampled 11 clients (out of 33)\n",
            "DEBUG flwr 2024-01-15 07:03:04,613 | server.py:236 | fit_round 23 received 11 results and 0 failures\n",
            "DEBUG:flwr:fit_round 23 received 11 results and 0 failures\n"
          ]
        },
        {
          "output_type": "stream",
          "name": "stdout",
          "text": [
            "Saving round 23 aggregated_parameters...\n"
          ]
        },
        {
          "output_type": "stream",
          "name": "stderr",
          "text": [
            "INFO flwr 2024-01-15 07:03:12,106 | server.py:125 | fit progress: (23, 314.20075023174286, {'accuracy': 0.89}, 2357.847278421)\n",
            "INFO:flwr:fit progress: (23, 314.20075023174286, {'accuracy': 0.89}, 2357.847278421)\n",
            "DEBUG flwr 2024-01-15 07:03:12,111 | server.py:173 | evaluate_round 23: strategy sampled 11 clients (out of 33)\n",
            "DEBUG:flwr:evaluate_round 23: strategy sampled 11 clients (out of 33)\n"
          ]
        },
        {
          "output_type": "stream",
          "name": "stdout",
          "text": [
            "GLOBAL TEST\n"
          ]
        },
        {
          "output_type": "stream",
          "name": "stderr",
          "text": [
            "DEBUG flwr 2024-01-15 07:03:13,857 | server.py:187 | evaluate_round 23 received 11 results and 0 failures\n",
            "DEBUG:flwr:evaluate_round 23 received 11 results and 0 failures\n",
            "DEBUG flwr 2024-01-15 07:03:13,861 | server.py:222 | fit_round 24: strategy sampled 11 clients (out of 33)\n",
            "DEBUG:flwr:fit_round 24: strategy sampled 11 clients (out of 33)\n",
            "DEBUG flwr 2024-01-15 07:04:46,671 | server.py:236 | fit_round 24 received 11 results and 0 failures\n",
            "DEBUG:flwr:fit_round 24 received 11 results and 0 failures\n"
          ]
        },
        {
          "output_type": "stream",
          "name": "stdout",
          "text": [
            "Saving round 24 aggregated_parameters...\n"
          ]
        },
        {
          "output_type": "stream",
          "name": "stderr",
          "text": [
            "INFO flwr 2024-01-15 07:04:52,460 | server.py:125 | fit progress: (24, 313.8413931131363, {'accuracy': 0.892}, 2458.201245001)\n",
            "INFO:flwr:fit progress: (24, 313.8413931131363, {'accuracy': 0.892}, 2458.201245001)\n",
            "DEBUG flwr 2024-01-15 07:04:52,463 | server.py:173 | evaluate_round 24: strategy sampled 11 clients (out of 33)\n",
            "DEBUG:flwr:evaluate_round 24: strategy sampled 11 clients (out of 33)\n"
          ]
        },
        {
          "output_type": "stream",
          "name": "stdout",
          "text": [
            "GLOBAL TEST\n"
          ]
        },
        {
          "output_type": "stream",
          "name": "stderr",
          "text": [
            "DEBUG flwr 2024-01-15 07:04:53,934 | server.py:187 | evaluate_round 24 received 11 results and 0 failures\n",
            "DEBUG:flwr:evaluate_round 24 received 11 results and 0 failures\n",
            "DEBUG flwr 2024-01-15 07:04:53,938 | server.py:222 | fit_round 25: strategy sampled 11 clients (out of 33)\n",
            "DEBUG:flwr:fit_round 25: strategy sampled 11 clients (out of 33)\n",
            "DEBUG flwr 2024-01-15 07:06:29,048 | server.py:236 | fit_round 25 received 11 results and 0 failures\n",
            "DEBUG:flwr:fit_round 25 received 11 results and 0 failures\n"
          ]
        },
        {
          "output_type": "stream",
          "name": "stdout",
          "text": [
            "Saving round 25 aggregated_parameters...\n"
          ]
        },
        {
          "output_type": "stream",
          "name": "stderr",
          "text": [
            "INFO flwr 2024-01-15 07:06:33,629 | server.py:125 | fit progress: (25, 313.7049766778946, {'accuracy': 0.8929}, 2559.371018799)\n",
            "INFO:flwr:fit progress: (25, 313.7049766778946, {'accuracy': 0.8929}, 2559.371018799)\n",
            "DEBUG flwr 2024-01-15 07:06:33,633 | server.py:173 | evaluate_round 25: strategy sampled 11 clients (out of 33)\n",
            "DEBUG:flwr:evaluate_round 25: strategy sampled 11 clients (out of 33)\n"
          ]
        },
        {
          "output_type": "stream",
          "name": "stdout",
          "text": [
            "GLOBAL TEST\n"
          ]
        },
        {
          "output_type": "stream",
          "name": "stderr",
          "text": [
            "DEBUG flwr 2024-01-15 07:06:35,078 | server.py:187 | evaluate_round 25 received 11 results and 0 failures\n",
            "DEBUG:flwr:evaluate_round 25 received 11 results and 0 failures\n",
            "DEBUG flwr 2024-01-15 07:06:35,081 | server.py:222 | fit_round 26: strategy sampled 11 clients (out of 33)\n",
            "DEBUG:flwr:fit_round 26: strategy sampled 11 clients (out of 33)\n",
            "DEBUG flwr 2024-01-15 07:08:08,577 | server.py:236 | fit_round 26 received 11 results and 0 failures\n",
            "DEBUG:flwr:fit_round 26 received 11 results and 0 failures\n"
          ]
        },
        {
          "output_type": "stream",
          "name": "stdout",
          "text": [
            "Saving round 26 aggregated_parameters...\n"
          ]
        },
        {
          "output_type": "stream",
          "name": "stderr",
          "text": [
            "INFO flwr 2024-01-15 07:08:13,040 | server.py:125 | fit progress: (26, 313.551007270813, {'accuracy': 0.894}, 2658.781604848)\n",
            "INFO:flwr:fit progress: (26, 313.551007270813, {'accuracy': 0.894}, 2658.781604848)\n",
            "DEBUG flwr 2024-01-15 07:08:13,043 | server.py:173 | evaluate_round 26: strategy sampled 11 clients (out of 33)\n",
            "DEBUG:flwr:evaluate_round 26: strategy sampled 11 clients (out of 33)\n"
          ]
        },
        {
          "output_type": "stream",
          "name": "stdout",
          "text": [
            "GLOBAL TEST\n"
          ]
        },
        {
          "output_type": "stream",
          "name": "stderr",
          "text": [
            "DEBUG flwr 2024-01-15 07:08:14,443 | server.py:187 | evaluate_round 26 received 11 results and 0 failures\n",
            "DEBUG:flwr:evaluate_round 26 received 11 results and 0 failures\n",
            "DEBUG flwr 2024-01-15 07:08:14,449 | server.py:222 | fit_round 27: strategy sampled 11 clients (out of 33)\n",
            "DEBUG:flwr:fit_round 27: strategy sampled 11 clients (out of 33)\n",
            "DEBUG flwr 2024-01-15 07:09:47,570 | server.py:236 | fit_round 27 received 11 results and 0 failures\n",
            "DEBUG:flwr:fit_round 27 received 11 results and 0 failures\n"
          ]
        },
        {
          "output_type": "stream",
          "name": "stdout",
          "text": [
            "Saving round 27 aggregated_parameters...\n"
          ]
        },
        {
          "output_type": "stream",
          "name": "stderr",
          "text": [
            "INFO flwr 2024-01-15 07:09:52,150 | server.py:125 | fit progress: (27, 313.6477143764496, {'accuracy': 0.8925}, 2757.891480329)\n",
            "INFO:flwr:fit progress: (27, 313.6477143764496, {'accuracy': 0.8925}, 2757.891480329)\n",
            "DEBUG flwr 2024-01-15 07:09:52,153 | server.py:173 | evaluate_round 27: strategy sampled 11 clients (out of 33)\n",
            "DEBUG:flwr:evaluate_round 27: strategy sampled 11 clients (out of 33)\n"
          ]
        },
        {
          "output_type": "stream",
          "name": "stdout",
          "text": [
            "GLOBAL TEST\n"
          ]
        },
        {
          "output_type": "stream",
          "name": "stderr",
          "text": [
            "DEBUG flwr 2024-01-15 07:09:53,577 | server.py:187 | evaluate_round 27 received 11 results and 0 failures\n",
            "DEBUG:flwr:evaluate_round 27 received 11 results and 0 failures\n",
            "DEBUG flwr 2024-01-15 07:09:53,580 | server.py:222 | fit_round 28: strategy sampled 11 clients (out of 33)\n",
            "DEBUG:flwr:fit_round 28: strategy sampled 11 clients (out of 33)\n",
            "DEBUG flwr 2024-01-15 07:11:26,883 | server.py:236 | fit_round 28 received 11 results and 0 failures\n",
            "DEBUG:flwr:fit_round 28 received 11 results and 0 failures\n"
          ]
        },
        {
          "output_type": "stream",
          "name": "stdout",
          "text": [
            "Saving round 28 aggregated_parameters...\n"
          ]
        },
        {
          "output_type": "stream",
          "name": "stderr",
          "text": [
            "INFO flwr 2024-01-15 07:11:31,328 | server.py:125 | fit progress: (28, 313.3593246936798, {'accuracy': 0.8942}, 2857.069559801)\n",
            "INFO:flwr:fit progress: (28, 313.3593246936798, {'accuracy': 0.8942}, 2857.069559801)\n",
            "DEBUG flwr 2024-01-15 07:11:31,331 | server.py:173 | evaluate_round 28: strategy sampled 11 clients (out of 33)\n",
            "DEBUG:flwr:evaluate_round 28: strategy sampled 11 clients (out of 33)\n"
          ]
        },
        {
          "output_type": "stream",
          "name": "stdout",
          "text": [
            "GLOBAL TEST\n"
          ]
        },
        {
          "output_type": "stream",
          "name": "stderr",
          "text": [
            "DEBUG flwr 2024-01-15 07:11:32,747 | server.py:187 | evaluate_round 28 received 11 results and 0 failures\n",
            "DEBUG:flwr:evaluate_round 28 received 11 results and 0 failures\n",
            "DEBUG flwr 2024-01-15 07:11:32,751 | server.py:222 | fit_round 29: strategy sampled 11 clients (out of 33)\n",
            "DEBUG:flwr:fit_round 29: strategy sampled 11 clients (out of 33)\n",
            "DEBUG flwr 2024-01-15 07:13:07,420 | server.py:236 | fit_round 29 received 11 results and 0 failures\n",
            "DEBUG:flwr:fit_round 29 received 11 results and 0 failures\n"
          ]
        },
        {
          "output_type": "stream",
          "name": "stdout",
          "text": [
            "Saving round 29 aggregated_parameters...\n"
          ]
        },
        {
          "output_type": "stream",
          "name": "stderr",
          "text": [
            "INFO flwr 2024-01-15 07:13:11,950 | server.py:125 | fit progress: (29, 313.23959004879, {'accuracy': 0.8949}, 2957.691250578)\n",
            "INFO:flwr:fit progress: (29, 313.23959004879, {'accuracy': 0.8949}, 2957.691250578)\n",
            "DEBUG flwr 2024-01-15 07:13:11,956 | server.py:173 | evaluate_round 29: strategy sampled 11 clients (out of 33)\n",
            "DEBUG:flwr:evaluate_round 29: strategy sampled 11 clients (out of 33)\n"
          ]
        },
        {
          "output_type": "stream",
          "name": "stdout",
          "text": [
            "GLOBAL TEST\n"
          ]
        },
        {
          "output_type": "stream",
          "name": "stderr",
          "text": [
            "DEBUG flwr 2024-01-15 07:13:13,682 | server.py:187 | evaluate_round 29 received 11 results and 0 failures\n",
            "DEBUG:flwr:evaluate_round 29 received 11 results and 0 failures\n",
            "DEBUG flwr 2024-01-15 07:13:13,686 | server.py:222 | fit_round 30: strategy sampled 11 clients (out of 33)\n",
            "DEBUG:flwr:fit_round 30: strategy sampled 11 clients (out of 33)\n",
            "DEBUG flwr 2024-01-15 07:14:46,407 | server.py:236 | fit_round 30 received 11 results and 0 failures\n",
            "DEBUG:flwr:fit_round 30 received 11 results and 0 failures\n"
          ]
        },
        {
          "output_type": "stream",
          "name": "stdout",
          "text": [
            "Saving round 30 aggregated_parameters...\n"
          ]
        },
        {
          "output_type": "stream",
          "name": "stderr",
          "text": [
            "INFO flwr 2024-01-15 07:14:51,040 | server.py:125 | fit progress: (30, 313.1743462085724, {'accuracy': 0.895}, 3056.781249362)\n",
            "INFO:flwr:fit progress: (30, 313.1743462085724, {'accuracy': 0.895}, 3056.781249362)\n",
            "DEBUG flwr 2024-01-15 07:14:51,051 | server.py:173 | evaluate_round 30: strategy sampled 11 clients (out of 33)\n",
            "DEBUG:flwr:evaluate_round 30: strategy sampled 11 clients (out of 33)\n"
          ]
        },
        {
          "output_type": "stream",
          "name": "stdout",
          "text": [
            "GLOBAL TEST\n"
          ]
        },
        {
          "output_type": "stream",
          "name": "stderr",
          "text": [
            "DEBUG flwr 2024-01-15 07:14:53,335 | server.py:187 | evaluate_round 30 received 11 results and 0 failures\n",
            "DEBUG:flwr:evaluate_round 30 received 11 results and 0 failures\n",
            "DEBUG flwr 2024-01-15 07:14:53,341 | server.py:222 | fit_round 31: strategy sampled 11 clients (out of 33)\n",
            "DEBUG:flwr:fit_round 31: strategy sampled 11 clients (out of 33)\n",
            "DEBUG flwr 2024-01-15 07:16:25,931 | server.py:236 | fit_round 31 received 11 results and 0 failures\n",
            "DEBUG:flwr:fit_round 31 received 11 results and 0 failures\n"
          ]
        },
        {
          "output_type": "stream",
          "name": "stdout",
          "text": [
            "Saving round 31 aggregated_parameters...\n"
          ]
        },
        {
          "output_type": "stream",
          "name": "stderr",
          "text": [
            "INFO flwr 2024-01-15 07:16:31,220 | server.py:125 | fit progress: (31, 313.138489484787, {'accuracy': 0.8958}, 3156.9612514200003)\n",
            "INFO:flwr:fit progress: (31, 313.138489484787, {'accuracy': 0.8958}, 3156.9612514200003)\n",
            "DEBUG flwr 2024-01-15 07:16:31,226 | server.py:173 | evaluate_round 31: strategy sampled 11 clients (out of 33)\n",
            "DEBUG:flwr:evaluate_round 31: strategy sampled 11 clients (out of 33)\n"
          ]
        },
        {
          "output_type": "stream",
          "name": "stdout",
          "text": [
            "GLOBAL TEST\n"
          ]
        },
        {
          "output_type": "stream",
          "name": "stderr",
          "text": [
            "DEBUG flwr 2024-01-15 07:16:33,466 | server.py:187 | evaluate_round 31 received 11 results and 0 failures\n",
            "DEBUG:flwr:evaluate_round 31 received 11 results and 0 failures\n",
            "DEBUG flwr 2024-01-15 07:16:33,469 | server.py:222 | fit_round 32: strategy sampled 11 clients (out of 33)\n",
            "DEBUG:flwr:fit_round 32: strategy sampled 11 clients (out of 33)\n",
            "DEBUG flwr 2024-01-15 07:18:05,311 | server.py:236 | fit_round 32 received 11 results and 0 failures\n",
            "DEBUG:flwr:fit_round 32 received 11 results and 0 failures\n"
          ]
        },
        {
          "output_type": "stream",
          "name": "stdout",
          "text": [
            "Saving round 32 aggregated_parameters...\n"
          ]
        },
        {
          "output_type": "stream",
          "name": "stderr",
          "text": [
            "INFO flwr 2024-01-15 07:18:11,193 | server.py:125 | fit progress: (32, 313.00355446338654, {'accuracy': 0.896}, 3256.934611401)\n",
            "INFO:flwr:fit progress: (32, 313.00355446338654, {'accuracy': 0.896}, 3256.934611401)\n",
            "DEBUG flwr 2024-01-15 07:18:11,197 | server.py:173 | evaluate_round 32: strategy sampled 11 clients (out of 33)\n",
            "DEBUG:flwr:evaluate_round 32: strategy sampled 11 clients (out of 33)\n"
          ]
        },
        {
          "output_type": "stream",
          "name": "stdout",
          "text": [
            "GLOBAL TEST\n"
          ]
        },
        {
          "output_type": "stream",
          "name": "stderr",
          "text": [
            "DEBUG flwr 2024-01-15 07:18:12,640 | server.py:187 | evaluate_round 32 received 11 results and 0 failures\n",
            "DEBUG:flwr:evaluate_round 32 received 11 results and 0 failures\n",
            "DEBUG flwr 2024-01-15 07:18:12,644 | server.py:222 | fit_round 33: strategy sampled 11 clients (out of 33)\n",
            "DEBUG:flwr:fit_round 33: strategy sampled 11 clients (out of 33)\n",
            "DEBUG flwr 2024-01-15 07:19:43,926 | server.py:236 | fit_round 33 received 11 results and 0 failures\n",
            "DEBUG:flwr:fit_round 33 received 11 results and 0 failures\n"
          ]
        },
        {
          "output_type": "stream",
          "name": "stdout",
          "text": [
            "Saving round 33 aggregated_parameters...\n"
          ]
        },
        {
          "output_type": "stream",
          "name": "stderr",
          "text": [
            "INFO flwr 2024-01-15 07:19:49,698 | server.py:125 | fit progress: (33, 312.9535400867462, {'accuracy': 0.8964}, 3355.440098261)\n",
            "INFO:flwr:fit progress: (33, 312.9535400867462, {'accuracy': 0.8964}, 3355.440098261)\n",
            "DEBUG flwr 2024-01-15 07:19:49,703 | server.py:173 | evaluate_round 33: strategy sampled 11 clients (out of 33)\n",
            "DEBUG:flwr:evaluate_round 33: strategy sampled 11 clients (out of 33)\n"
          ]
        },
        {
          "output_type": "stream",
          "name": "stdout",
          "text": [
            "GLOBAL TEST\n"
          ]
        },
        {
          "output_type": "stream",
          "name": "stderr",
          "text": [
            "DEBUG flwr 2024-01-15 07:19:51,149 | server.py:187 | evaluate_round 33 received 11 results and 0 failures\n",
            "DEBUG:flwr:evaluate_round 33 received 11 results and 0 failures\n",
            "DEBUG flwr 2024-01-15 07:19:51,153 | server.py:222 | fit_round 34: strategy sampled 11 clients (out of 33)\n",
            "DEBUG:flwr:fit_round 34: strategy sampled 11 clients (out of 33)\n",
            "DEBUG flwr 2024-01-15 07:21:24,062 | server.py:236 | fit_round 34 received 11 results and 0 failures\n",
            "DEBUG:flwr:fit_round 34 received 11 results and 0 failures\n"
          ]
        },
        {
          "output_type": "stream",
          "name": "stdout",
          "text": [
            "Saving round 34 aggregated_parameters...\n"
          ]
        },
        {
          "output_type": "stream",
          "name": "stderr",
          "text": [
            "INFO flwr 2024-01-15 07:21:29,014 | server.py:125 | fit progress: (34, 312.9120959043503, {'accuracy': 0.8965}, 3454.7558571719997)\n",
            "INFO:flwr:fit progress: (34, 312.9120959043503, {'accuracy': 0.8965}, 3454.7558571719997)\n",
            "DEBUG flwr 2024-01-15 07:21:29,018 | server.py:173 | evaluate_round 34: strategy sampled 11 clients (out of 33)\n",
            "DEBUG:flwr:evaluate_round 34: strategy sampled 11 clients (out of 33)\n"
          ]
        },
        {
          "output_type": "stream",
          "name": "stdout",
          "text": [
            "GLOBAL TEST\n"
          ]
        },
        {
          "output_type": "stream",
          "name": "stderr",
          "text": [
            "DEBUG flwr 2024-01-15 07:21:30,465 | server.py:187 | evaluate_round 34 received 11 results and 0 failures\n",
            "DEBUG:flwr:evaluate_round 34 received 11 results and 0 failures\n",
            "DEBUG flwr 2024-01-15 07:21:30,468 | server.py:222 | fit_round 35: strategy sampled 11 clients (out of 33)\n",
            "DEBUG:flwr:fit_round 35: strategy sampled 11 clients (out of 33)\n",
            "DEBUG flwr 2024-01-15 07:23:07,448 | server.py:236 | fit_round 35 received 11 results and 0 failures\n",
            "DEBUG:flwr:fit_round 35 received 11 results and 0 failures\n"
          ]
        },
        {
          "output_type": "stream",
          "name": "stdout",
          "text": [
            "Saving round 35 aggregated_parameters...\n"
          ]
        },
        {
          "output_type": "stream",
          "name": "stderr",
          "text": [
            "INFO flwr 2024-01-15 07:23:12,038 | server.py:125 | fit progress: (35, 312.9411692619324, {'accuracy': 0.8962}, 3557.7800305690002)\n",
            "INFO:flwr:fit progress: (35, 312.9411692619324, {'accuracy': 0.8962}, 3557.7800305690002)\n",
            "DEBUG flwr 2024-01-15 07:23:12,042 | server.py:173 | evaluate_round 35: strategy sampled 11 clients (out of 33)\n",
            "DEBUG:flwr:evaluate_round 35: strategy sampled 11 clients (out of 33)\n"
          ]
        },
        {
          "output_type": "stream",
          "name": "stdout",
          "text": [
            "GLOBAL TEST\n"
          ]
        },
        {
          "output_type": "stream",
          "name": "stderr",
          "text": [
            "DEBUG flwr 2024-01-15 07:23:13,493 | server.py:187 | evaluate_round 35 received 11 results and 0 failures\n",
            "DEBUG:flwr:evaluate_round 35 received 11 results and 0 failures\n",
            "DEBUG flwr 2024-01-15 07:23:13,497 | server.py:222 | fit_round 36: strategy sampled 11 clients (out of 33)\n",
            "DEBUG:flwr:fit_round 36: strategy sampled 11 clients (out of 33)\n",
            "DEBUG flwr 2024-01-15 07:24:48,485 | server.py:236 | fit_round 36 received 11 results and 0 failures\n",
            "DEBUG:flwr:fit_round 36 received 11 results and 0 failures\n"
          ]
        },
        {
          "output_type": "stream",
          "name": "stdout",
          "text": [
            "Saving round 36 aggregated_parameters...\n"
          ]
        },
        {
          "output_type": "stream",
          "name": "stderr",
          "text": [
            "INFO flwr 2024-01-15 07:24:53,127 | server.py:125 | fit progress: (36, 312.84767830371857, {'accuracy': 0.8966}, 3658.868514536)\n",
            "INFO:flwr:fit progress: (36, 312.84767830371857, {'accuracy': 0.8966}, 3658.868514536)\n",
            "DEBUG flwr 2024-01-15 07:24:53,130 | server.py:173 | evaluate_round 36: strategy sampled 11 clients (out of 33)\n",
            "DEBUG:flwr:evaluate_round 36: strategy sampled 11 clients (out of 33)\n"
          ]
        },
        {
          "output_type": "stream",
          "name": "stdout",
          "text": [
            "GLOBAL TEST\n"
          ]
        },
        {
          "output_type": "stream",
          "name": "stderr",
          "text": [
            "DEBUG flwr 2024-01-15 07:24:55,159 | server.py:187 | evaluate_round 36 received 11 results and 0 failures\n",
            "DEBUG:flwr:evaluate_round 36 received 11 results and 0 failures\n",
            "DEBUG flwr 2024-01-15 07:24:55,165 | server.py:222 | fit_round 37: strategy sampled 11 clients (out of 33)\n",
            "DEBUG:flwr:fit_round 37: strategy sampled 11 clients (out of 33)\n",
            "DEBUG flwr 2024-01-15 07:26:28,780 | server.py:236 | fit_round 37 received 11 results and 0 failures\n",
            "DEBUG:flwr:fit_round 37 received 11 results and 0 failures\n"
          ]
        },
        {
          "output_type": "stream",
          "name": "stdout",
          "text": [
            "Saving round 37 aggregated_parameters...\n"
          ]
        },
        {
          "output_type": "stream",
          "name": "stderr",
          "text": [
            "INFO flwr 2024-01-15 07:26:33,792 | server.py:125 | fit progress: (37, 312.7234114408493, {'accuracy': 0.8975}, 3759.5337840320003)\n",
            "INFO:flwr:fit progress: (37, 312.7234114408493, {'accuracy': 0.8975}, 3759.5337840320003)\n",
            "DEBUG flwr 2024-01-15 07:26:33,796 | server.py:173 | evaluate_round 37: strategy sampled 11 clients (out of 33)\n",
            "DEBUG:flwr:evaluate_round 37: strategy sampled 11 clients (out of 33)\n"
          ]
        },
        {
          "output_type": "stream",
          "name": "stdout",
          "text": [
            "GLOBAL TEST\n"
          ]
        },
        {
          "output_type": "stream",
          "name": "stderr",
          "text": [
            "DEBUG flwr 2024-01-15 07:26:36,011 | server.py:187 | evaluate_round 37 received 11 results and 0 failures\n",
            "DEBUG:flwr:evaluate_round 37 received 11 results and 0 failures\n",
            "DEBUG flwr 2024-01-15 07:26:36,016 | server.py:222 | fit_round 38: strategy sampled 11 clients (out of 33)\n",
            "DEBUG:flwr:fit_round 38: strategy sampled 11 clients (out of 33)\n",
            "DEBUG flwr 2024-01-15 07:28:09,233 | server.py:236 | fit_round 38 received 11 results and 0 failures\n",
            "DEBUG:flwr:fit_round 38 received 11 results and 0 failures\n"
          ]
        },
        {
          "output_type": "stream",
          "name": "stdout",
          "text": [
            "Saving round 38 aggregated_parameters...\n"
          ]
        },
        {
          "output_type": "stream",
          "name": "stderr",
          "text": [
            "INFO flwr 2024-01-15 07:28:15,157 | server.py:125 | fit progress: (38, 312.7551909685135, {'accuracy': 0.8971}, 3860.89867232)\n",
            "INFO:flwr:fit progress: (38, 312.7551909685135, {'accuracy': 0.8971}, 3860.89867232)\n",
            "DEBUG flwr 2024-01-15 07:28:15,162 | server.py:173 | evaluate_round 38: strategy sampled 11 clients (out of 33)\n",
            "DEBUG:flwr:evaluate_round 38: strategy sampled 11 clients (out of 33)\n"
          ]
        },
        {
          "output_type": "stream",
          "name": "stdout",
          "text": [
            "GLOBAL TEST\n"
          ]
        },
        {
          "output_type": "stream",
          "name": "stderr",
          "text": [
            "DEBUG flwr 2024-01-15 07:28:16,840 | server.py:187 | evaluate_round 38 received 11 results and 0 failures\n",
            "DEBUG:flwr:evaluate_round 38 received 11 results and 0 failures\n",
            "DEBUG flwr 2024-01-15 07:28:16,843 | server.py:222 | fit_round 39: strategy sampled 11 clients (out of 33)\n",
            "DEBUG:flwr:fit_round 39: strategy sampled 11 clients (out of 33)\n",
            "DEBUG flwr 2024-01-15 07:29:51,790 | server.py:236 | fit_round 39 received 11 results and 0 failures\n",
            "DEBUG:flwr:fit_round 39 received 11 results and 0 failures\n"
          ]
        },
        {
          "output_type": "stream",
          "name": "stdout",
          "text": [
            "Saving round 39 aggregated_parameters...\n"
          ]
        },
        {
          "output_type": "stream",
          "name": "stderr",
          "text": [
            "INFO flwr 2024-01-15 07:29:57,099 | server.py:125 | fit progress: (39, 312.9558302164078, {'accuracy': 0.8961}, 3962.841142218)\n",
            "INFO:flwr:fit progress: (39, 312.9558302164078, {'accuracy': 0.8961}, 3962.841142218)\n",
            "DEBUG flwr 2024-01-15 07:29:57,103 | server.py:173 | evaluate_round 39: strategy sampled 11 clients (out of 33)\n",
            "DEBUG:flwr:evaluate_round 39: strategy sampled 11 clients (out of 33)\n"
          ]
        },
        {
          "output_type": "stream",
          "name": "stdout",
          "text": [
            "GLOBAL TEST\n"
          ]
        },
        {
          "output_type": "stream",
          "name": "stderr",
          "text": [
            "DEBUG flwr 2024-01-15 07:29:58,584 | server.py:187 | evaluate_round 39 received 11 results and 0 failures\n",
            "DEBUG:flwr:evaluate_round 39 received 11 results and 0 failures\n",
            "DEBUG flwr 2024-01-15 07:29:58,591 | server.py:222 | fit_round 40: strategy sampled 11 clients (out of 33)\n",
            "DEBUG:flwr:fit_round 40: strategy sampled 11 clients (out of 33)\n",
            "DEBUG flwr 2024-01-15 07:31:34,036 | server.py:236 | fit_round 40 received 11 results and 0 failures\n",
            "DEBUG:flwr:fit_round 40 received 11 results and 0 failures\n"
          ]
        },
        {
          "output_type": "stream",
          "name": "stdout",
          "text": [
            "Saving round 40 aggregated_parameters...\n"
          ]
        },
        {
          "output_type": "stream",
          "name": "stderr",
          "text": [
            "INFO flwr 2024-01-15 07:31:38,617 | server.py:125 | fit progress: (40, 312.676962852478, {'accuracy': 0.8976}, 4064.3586477310005)\n",
            "INFO:flwr:fit progress: (40, 312.676962852478, {'accuracy': 0.8976}, 4064.3586477310005)\n",
            "DEBUG flwr 2024-01-15 07:31:38,621 | server.py:173 | evaluate_round 40: strategy sampled 11 clients (out of 33)\n",
            "DEBUG:flwr:evaluate_round 40: strategy sampled 11 clients (out of 33)\n"
          ]
        },
        {
          "output_type": "stream",
          "name": "stdout",
          "text": [
            "GLOBAL TEST\n"
          ]
        },
        {
          "output_type": "stream",
          "name": "stderr",
          "text": [
            "DEBUG flwr 2024-01-15 07:31:40,060 | server.py:187 | evaluate_round 40 received 11 results and 0 failures\n",
            "DEBUG:flwr:evaluate_round 40 received 11 results and 0 failures\n",
            "DEBUG flwr 2024-01-15 07:31:40,064 | server.py:222 | fit_round 41: strategy sampled 11 clients (out of 33)\n",
            "DEBUG:flwr:fit_round 41: strategy sampled 11 clients (out of 33)\n",
            "DEBUG flwr 2024-01-15 07:33:16,334 | server.py:236 | fit_round 41 received 11 results and 0 failures\n",
            "DEBUG:flwr:fit_round 41 received 11 results and 0 failures\n"
          ]
        },
        {
          "output_type": "stream",
          "name": "stdout",
          "text": [
            "Saving round 41 aggregated_parameters...\n"
          ]
        },
        {
          "output_type": "stream",
          "name": "stderr",
          "text": [
            "INFO flwr 2024-01-15 07:33:20,933 | server.py:125 | fit progress: (41, 312.69985830783844, {'accuracy': 0.8975}, 4166.674831697001)\n",
            "INFO:flwr:fit progress: (41, 312.69985830783844, {'accuracy': 0.8975}, 4166.674831697001)\n",
            "DEBUG flwr 2024-01-15 07:33:20,941 | server.py:173 | evaluate_round 41: strategy sampled 11 clients (out of 33)\n",
            "DEBUG:flwr:evaluate_round 41: strategy sampled 11 clients (out of 33)\n"
          ]
        },
        {
          "output_type": "stream",
          "name": "stdout",
          "text": [
            "GLOBAL TEST\n"
          ]
        },
        {
          "output_type": "stream",
          "name": "stderr",
          "text": [
            "DEBUG flwr 2024-01-15 07:33:23,272 | server.py:187 | evaluate_round 41 received 11 results and 0 failures\n",
            "DEBUG:flwr:evaluate_round 41 received 11 results and 0 failures\n",
            "DEBUG flwr 2024-01-15 07:33:23,275 | server.py:222 | fit_round 42: strategy sampled 11 clients (out of 33)\n",
            "DEBUG:flwr:fit_round 42: strategy sampled 11 clients (out of 33)\n",
            "DEBUG flwr 2024-01-15 07:34:55,132 | server.py:236 | fit_round 42 received 11 results and 0 failures\n",
            "DEBUG:flwr:fit_round 42 received 11 results and 0 failures\n"
          ]
        },
        {
          "output_type": "stream",
          "name": "stdout",
          "text": [
            "Saving round 42 aggregated_parameters...\n"
          ]
        },
        {
          "output_type": "stream",
          "name": "stderr",
          "text": [
            "INFO flwr 2024-01-15 07:35:00,377 | server.py:125 | fit progress: (42, 312.60666382312775, {'accuracy': 0.898}, 4266.118585734999)\n",
            "INFO:flwr:fit progress: (42, 312.60666382312775, {'accuracy': 0.898}, 4266.118585734999)\n",
            "DEBUG flwr 2024-01-15 07:35:00,385 | server.py:173 | evaluate_round 42: strategy sampled 11 clients (out of 33)\n",
            "DEBUG:flwr:evaluate_round 42: strategy sampled 11 clients (out of 33)\n"
          ]
        },
        {
          "output_type": "stream",
          "name": "stdout",
          "text": [
            "GLOBAL TEST\n"
          ]
        },
        {
          "output_type": "stream",
          "name": "stderr",
          "text": [
            "DEBUG flwr 2024-01-15 07:35:02,588 | server.py:187 | evaluate_round 42 received 11 results and 0 failures\n",
            "DEBUG:flwr:evaluate_round 42 received 11 results and 0 failures\n",
            "DEBUG flwr 2024-01-15 07:35:02,593 | server.py:222 | fit_round 43: strategy sampled 11 clients (out of 33)\n",
            "DEBUG:flwr:fit_round 43: strategy sampled 11 clients (out of 33)\n",
            "DEBUG flwr 2024-01-15 07:36:33,893 | server.py:236 | fit_round 43 received 11 results and 0 failures\n",
            "DEBUG:flwr:fit_round 43 received 11 results and 0 failures\n"
          ]
        },
        {
          "output_type": "stream",
          "name": "stdout",
          "text": [
            "Saving round 43 aggregated_parameters...\n"
          ]
        },
        {
          "output_type": "stream",
          "name": "stderr",
          "text": [
            "INFO flwr 2024-01-15 07:36:39,578 | server.py:125 | fit progress: (43, 312.60176503658295, {'accuracy': 0.8978}, 4365.319647390001)\n",
            "INFO:flwr:fit progress: (43, 312.60176503658295, {'accuracy': 0.8978}, 4365.319647390001)\n",
            "DEBUG flwr 2024-01-15 07:36:39,587 | server.py:173 | evaluate_round 43: strategy sampled 11 clients (out of 33)\n",
            "DEBUG:flwr:evaluate_round 43: strategy sampled 11 clients (out of 33)\n"
          ]
        },
        {
          "output_type": "stream",
          "name": "stdout",
          "text": [
            "GLOBAL TEST\n"
          ]
        },
        {
          "output_type": "stream",
          "name": "stderr",
          "text": [
            "DEBUG flwr 2024-01-15 07:36:41,430 | server.py:187 | evaluate_round 43 received 11 results and 0 failures\n",
            "DEBUG:flwr:evaluate_round 43 received 11 results and 0 failures\n",
            "DEBUG flwr 2024-01-15 07:36:41,433 | server.py:222 | fit_round 44: strategy sampled 11 clients (out of 33)\n",
            "DEBUG:flwr:fit_round 44: strategy sampled 11 clients (out of 33)\n",
            "DEBUG flwr 2024-01-15 07:38:12,164 | server.py:236 | fit_round 44 received 11 results and 0 failures\n",
            "DEBUG:flwr:fit_round 44 received 11 results and 0 failures\n"
          ]
        },
        {
          "output_type": "stream",
          "name": "stdout",
          "text": [
            "Saving round 44 aggregated_parameters...\n"
          ]
        },
        {
          "output_type": "stream",
          "name": "stderr",
          "text": [
            "INFO flwr 2024-01-15 07:38:18,177 | server.py:125 | fit progress: (44, 312.7070289850235, {'accuracy': 0.8974}, 4463.91896019)\n",
            "INFO:flwr:fit progress: (44, 312.7070289850235, {'accuracy': 0.8974}, 4463.91896019)\n",
            "DEBUG flwr 2024-01-15 07:38:18,181 | server.py:173 | evaluate_round 44: strategy sampled 11 clients (out of 33)\n",
            "DEBUG:flwr:evaluate_round 44: strategy sampled 11 clients (out of 33)\n"
          ]
        },
        {
          "output_type": "stream",
          "name": "stdout",
          "text": [
            "GLOBAL TEST\n"
          ]
        },
        {
          "output_type": "stream",
          "name": "stderr",
          "text": [
            "DEBUG flwr 2024-01-15 07:38:19,618 | server.py:187 | evaluate_round 44 received 11 results and 0 failures\n",
            "DEBUG:flwr:evaluate_round 44 received 11 results and 0 failures\n",
            "DEBUG flwr 2024-01-15 07:38:19,621 | server.py:222 | fit_round 45: strategy sampled 11 clients (out of 33)\n",
            "DEBUG:flwr:fit_round 45: strategy sampled 11 clients (out of 33)\n",
            "DEBUG flwr 2024-01-15 07:39:50,266 | server.py:236 | fit_round 45 received 11 results and 0 failures\n",
            "DEBUG:flwr:fit_round 45 received 11 results and 0 failures\n"
          ]
        },
        {
          "output_type": "stream",
          "name": "stdout",
          "text": [
            "Saving round 45 aggregated_parameters...\n"
          ]
        },
        {
          "output_type": "stream",
          "name": "stderr",
          "text": [
            "INFO flwr 2024-01-15 07:39:56,076 | server.py:125 | fit progress: (45, 312.55068850517273, {'accuracy': 0.8976}, 4561.817873749)\n",
            "INFO:flwr:fit progress: (45, 312.55068850517273, {'accuracy': 0.8976}, 4561.817873749)\n",
            "DEBUG flwr 2024-01-15 07:39:56,080 | server.py:173 | evaluate_round 45: strategy sampled 11 clients (out of 33)\n",
            "DEBUG:flwr:evaluate_round 45: strategy sampled 11 clients (out of 33)\n"
          ]
        },
        {
          "output_type": "stream",
          "name": "stdout",
          "text": [
            "GLOBAL TEST\n"
          ]
        },
        {
          "output_type": "stream",
          "name": "stderr",
          "text": [
            "DEBUG flwr 2024-01-15 07:39:57,501 | server.py:187 | evaluate_round 45 received 11 results and 0 failures\n",
            "DEBUG:flwr:evaluate_round 45 received 11 results and 0 failures\n",
            "DEBUG flwr 2024-01-15 07:39:57,504 | server.py:222 | fit_round 46: strategy sampled 11 clients (out of 33)\n",
            "DEBUG:flwr:fit_round 46: strategy sampled 11 clients (out of 33)\n",
            "DEBUG flwr 2024-01-15 07:41:28,898 | server.py:236 | fit_round 46 received 11 results and 0 failures\n",
            "DEBUG:flwr:fit_round 46 received 11 results and 0 failures\n"
          ]
        },
        {
          "output_type": "stream",
          "name": "stdout",
          "text": [
            "Saving round 46 aggregated_parameters...\n"
          ]
        },
        {
          "output_type": "stream",
          "name": "stderr",
          "text": [
            "INFO flwr 2024-01-15 07:41:34,349 | server.py:125 | fit progress: (46, 312.5030883550644, {'accuracy': 0.8983}, 4660.090664166)\n",
            "INFO:flwr:fit progress: (46, 312.5030883550644, {'accuracy': 0.8983}, 4660.090664166)\n",
            "DEBUG flwr 2024-01-15 07:41:34,353 | server.py:173 | evaluate_round 46: strategy sampled 11 clients (out of 33)\n",
            "DEBUG:flwr:evaluate_round 46: strategy sampled 11 clients (out of 33)\n"
          ]
        },
        {
          "output_type": "stream",
          "name": "stdout",
          "text": [
            "GLOBAL TEST\n"
          ]
        },
        {
          "output_type": "stream",
          "name": "stderr",
          "text": [
            "DEBUG flwr 2024-01-15 07:41:35,790 | server.py:187 | evaluate_round 46 received 11 results and 0 failures\n",
            "DEBUG:flwr:evaluate_round 46 received 11 results and 0 failures\n",
            "DEBUG flwr 2024-01-15 07:41:35,794 | server.py:222 | fit_round 47: strategy sampled 11 clients (out of 33)\n",
            "DEBUG:flwr:fit_round 47: strategy sampled 11 clients (out of 33)\n",
            "DEBUG flwr 2024-01-15 07:43:10,543 | server.py:236 | fit_round 47 received 11 results and 0 failures\n",
            "DEBUG:flwr:fit_round 47 received 11 results and 0 failures\n"
          ]
        },
        {
          "output_type": "stream",
          "name": "stdout",
          "text": [
            "Saving round 47 aggregated_parameters...\n"
          ]
        },
        {
          "output_type": "stream",
          "name": "stderr",
          "text": [
            "INFO flwr 2024-01-15 07:43:15,036 | server.py:125 | fit progress: (47, 312.49010014533997, {'accuracy': 0.8985}, 4760.77802043)\n",
            "INFO:flwr:fit progress: (47, 312.49010014533997, {'accuracy': 0.8985}, 4760.77802043)\n",
            "DEBUG flwr 2024-01-15 07:43:15,044 | server.py:173 | evaluate_round 47: strategy sampled 11 clients (out of 33)\n",
            "DEBUG:flwr:evaluate_round 47: strategy sampled 11 clients (out of 33)\n"
          ]
        },
        {
          "output_type": "stream",
          "name": "stdout",
          "text": [
            "GLOBAL TEST\n"
          ]
        },
        {
          "output_type": "stream",
          "name": "stderr",
          "text": [
            "DEBUG flwr 2024-01-15 07:43:16,451 | server.py:187 | evaluate_round 47 received 11 results and 0 failures\n",
            "DEBUG:flwr:evaluate_round 47 received 11 results and 0 failures\n",
            "DEBUG flwr 2024-01-15 07:43:16,455 | server.py:222 | fit_round 48: strategy sampled 11 clients (out of 33)\n",
            "DEBUG:flwr:fit_round 48: strategy sampled 11 clients (out of 33)\n",
            "DEBUG flwr 2024-01-15 07:44:49,104 | server.py:236 | fit_round 48 received 11 results and 0 failures\n",
            "DEBUG:flwr:fit_round 48 received 11 results and 0 failures\n"
          ]
        },
        {
          "output_type": "stream",
          "name": "stdout",
          "text": [
            "Saving round 48 aggregated_parameters...\n"
          ]
        },
        {
          "output_type": "stream",
          "name": "stderr",
          "text": [
            "INFO flwr 2024-01-15 07:44:53,622 | server.py:125 | fit progress: (48, 312.37977719306946, {'accuracy': 0.8994}, 4859.363770028)\n",
            "INFO:flwr:fit progress: (48, 312.37977719306946, {'accuracy': 0.8994}, 4859.363770028)\n",
            "DEBUG flwr 2024-01-15 07:44:53,625 | server.py:173 | evaluate_round 48: strategy sampled 11 clients (out of 33)\n",
            "DEBUG:flwr:evaluate_round 48: strategy sampled 11 clients (out of 33)\n"
          ]
        },
        {
          "output_type": "stream",
          "name": "stdout",
          "text": [
            "GLOBAL TEST\n"
          ]
        },
        {
          "output_type": "stream",
          "name": "stderr",
          "text": [
            "DEBUG flwr 2024-01-15 07:44:55,090 | server.py:187 | evaluate_round 48 received 11 results and 0 failures\n",
            "DEBUG:flwr:evaluate_round 48 received 11 results and 0 failures\n",
            "DEBUG flwr 2024-01-15 07:44:55,093 | server.py:222 | fit_round 49: strategy sampled 11 clients (out of 33)\n",
            "DEBUG:flwr:fit_round 49: strategy sampled 11 clients (out of 33)\n",
            "DEBUG flwr 2024-01-15 07:46:27,451 | server.py:236 | fit_round 49 received 11 results and 0 failures\n",
            "DEBUG:flwr:fit_round 49 received 11 results and 0 failures\n"
          ]
        },
        {
          "output_type": "stream",
          "name": "stdout",
          "text": [
            "Saving round 49 aggregated_parameters...\n"
          ]
        },
        {
          "output_type": "stream",
          "name": "stderr",
          "text": [
            "INFO flwr 2024-01-15 07:46:31,879 | server.py:125 | fit progress: (49, 312.27024233341217, {'accuracy': 0.8995}, 4957.620346690001)\n",
            "INFO:flwr:fit progress: (49, 312.27024233341217, {'accuracy': 0.8995}, 4957.620346690001)\n",
            "DEBUG flwr 2024-01-15 07:46:31,883 | server.py:173 | evaluate_round 49: strategy sampled 11 clients (out of 33)\n",
            "DEBUG:flwr:evaluate_round 49: strategy sampled 11 clients (out of 33)\n"
          ]
        },
        {
          "output_type": "stream",
          "name": "stdout",
          "text": [
            "GLOBAL TEST\n"
          ]
        },
        {
          "output_type": "stream",
          "name": "stderr",
          "text": [
            "DEBUG flwr 2024-01-15 07:46:33,295 | server.py:187 | evaluate_round 49 received 11 results and 0 failures\n",
            "DEBUG:flwr:evaluate_round 49 received 11 results and 0 failures\n",
            "DEBUG flwr 2024-01-15 07:46:33,299 | server.py:222 | fit_round 50: strategy sampled 11 clients (out of 33)\n",
            "DEBUG:flwr:fit_round 50: strategy sampled 11 clients (out of 33)\n",
            "DEBUG flwr 2024-01-15 07:48:04,973 | server.py:236 | fit_round 50 received 11 results and 0 failures\n",
            "DEBUG:flwr:fit_round 50 received 11 results and 0 failures\n"
          ]
        },
        {
          "output_type": "stream",
          "name": "stdout",
          "text": [
            "Saving round 50 aggregated_parameters...\n"
          ]
        },
        {
          "output_type": "stream",
          "name": "stderr",
          "text": [
            "INFO flwr 2024-01-15 07:48:09,471 | server.py:125 | fit progress: (50, 312.3325493335724, {'accuracy': 0.8991}, 5055.213165064)\n",
            "INFO:flwr:fit progress: (50, 312.3325493335724, {'accuracy': 0.8991}, 5055.213165064)\n",
            "DEBUG flwr 2024-01-15 07:48:09,475 | server.py:173 | evaluate_round 50: strategy sampled 11 clients (out of 33)\n",
            "DEBUG:flwr:evaluate_round 50: strategy sampled 11 clients (out of 33)\n"
          ]
        },
        {
          "output_type": "stream",
          "name": "stdout",
          "text": [
            "GLOBAL TEST\n"
          ]
        },
        {
          "output_type": "stream",
          "name": "stderr",
          "text": [
            "DEBUG flwr 2024-01-15 07:48:10,919 | server.py:187 | evaluate_round 50 received 11 results and 0 failures\n",
            "DEBUG:flwr:evaluate_round 50 received 11 results and 0 failures\n",
            "INFO flwr 2024-01-15 07:48:10,925 | server.py:153 | FL finished in 5056.666707042001\n",
            "INFO:flwr:FL finished in 5056.666707042001\n",
            "INFO flwr 2024-01-15 07:48:10,928 | app.py:226 | app_fit: losses_distributed [(1, 13.814536506479437), (2, 13.813630255785855), (3, 13.813337932933461), (4, 13.811304309151389), (5, 13.808989763259888), (6, 13.790211590853604), (7, 12.18944320895455), (8, 10.311485052108765), (9, 9.787188638340343), (10, 9.66189554604617), (11, 9.526889204978943), (12, 9.55178993398493), (13, 9.58063303340565), (14, 9.528315598314459), (15, 9.47315700487657), (16, 9.428519021381032), (17, 9.544802156361667), (18, 9.457695332440464), (19, 9.45795138315721), (20, 9.418901075016368), (21, 9.461988470771097), (22, 9.380905584855514), (23, 9.467512531714005), (24, 9.411268570206381), (25, 9.440094004977833), (26, 9.361413738944314), (27, 9.402638326991688), (28, 9.387044082988393), (29, 9.38882513479753), (30, 9.465336485342545), (31, 9.392273165962912), (32, 9.367281220176004), (33, 9.346115751699967), (34, 9.321413679556413), (35, 9.424370657313954), (36, 9.438257640058344), (37, 9.351763226769187), (38, 9.356152046810497), (39, 9.382487470453436), (40, 9.34667321768674), (41, 9.389222654429348), (42, 9.387467741966248), (43, 9.393543308431452), (44, 9.392938462170688), (45, 9.408842130140824), (46, 9.350590900941329), (47, 9.300619201226668), (48, 9.430686994032426), (49, 9.455878951332785), (50, 9.382488976825368)]\n",
            "INFO:flwr:app_fit: losses_distributed [(1, 13.814536506479437), (2, 13.813630255785855), (3, 13.813337932933461), (4, 13.811304309151389), (5, 13.808989763259888), (6, 13.790211590853604), (7, 12.18944320895455), (8, 10.311485052108765), (9, 9.787188638340343), (10, 9.66189554604617), (11, 9.526889204978943), (12, 9.55178993398493), (13, 9.58063303340565), (14, 9.528315598314459), (15, 9.47315700487657), (16, 9.428519021381032), (17, 9.544802156361667), (18, 9.457695332440464), (19, 9.45795138315721), (20, 9.418901075016368), (21, 9.461988470771097), (22, 9.380905584855514), (23, 9.467512531714005), (24, 9.411268570206381), (25, 9.440094004977833), (26, 9.361413738944314), (27, 9.402638326991688), (28, 9.387044082988393), (29, 9.38882513479753), (30, 9.465336485342545), (31, 9.392273165962912), (32, 9.367281220176004), (33, 9.346115751699967), (34, 9.321413679556413), (35, 9.424370657313954), (36, 9.438257640058344), (37, 9.351763226769187), (38, 9.356152046810497), (39, 9.382487470453436), (40, 9.34667321768674), (41, 9.389222654429348), (42, 9.387467741966248), (43, 9.393543308431452), (44, 9.392938462170688), (45, 9.408842130140824), (46, 9.350590900941329), (47, 9.300619201226668), (48, 9.430686994032426), (49, 9.455878951332785), (50, 9.382488976825368)]\n",
            "INFO flwr 2024-01-15 07:48:10,930 | app.py:227 | app_fit: metrics_distributed_fit {}\n",
            "INFO:flwr:app_fit: metrics_distributed_fit {}\n",
            "INFO flwr 2024-01-15 07:48:10,933 | app.py:228 | app_fit: metrics_distributed {'accuracy': [(1, 0.12187812187812187), (2, 0.12337662337662336), (3, 0.10539460539460539), (4, 0.1093906093906094), (5, 0.10939060939060939), (6, 0.30319680319680326), (7, 0.4190809190809191), (8, 0.7492507492507492), (9, 0.8321678321678322), (10, 0.8521478521478522), (11, 0.8736263736263737), (12, 0.8706293706293706), (13, 0.8641358641358642), (14, 0.8701298701298702), (15, 0.8801198801198801), (16, 0.8896103896103897), (17, 0.8721278721278721), (18, 0.884115884115884), (19, 0.884115884115884), (20, 0.8916083916083917), (21, 0.8826173826173825), (22, 0.8966033966033968), (23, 0.8816183816183817), (24, 0.8916083916083917), (25, 0.8866133866133866), (26, 0.9000999000999002), (27, 0.8946053946053946), (28, 0.8956043956043958), (29, 0.8941058941058941), (30, 0.8851148851148851), (31, 0.8966033966033967), (32, 0.9020979020979022), (33, 0.9030969030969032), (34, 0.9065934065934067), (35, 0.889110889110889), (36, 0.8866133866133866), (37, 0.9050949050949051), (38, 0.9000999000999), (39, 0.8986013986013985), (40, 0.9035964035964036), (41, 0.8966033966033966), (42, 0.8971028971028971), (43, 0.8956043956043958), (44, 0.8961038961038962), (45, 0.8921078921078923), (46, 0.9030969030969032), (47, 0.9110889110889112), (48, 0.8886113886113887), (49, 0.8846153846153846), (50, 0.8986013986013985)]}\n",
            "INFO:flwr:app_fit: metrics_distributed {'accuracy': [(1, 0.12187812187812187), (2, 0.12337662337662336), (3, 0.10539460539460539), (4, 0.1093906093906094), (5, 0.10939060939060939), (6, 0.30319680319680326), (7, 0.4190809190809191), (8, 0.7492507492507492), (9, 0.8321678321678322), (10, 0.8521478521478522), (11, 0.8736263736263737), (12, 0.8706293706293706), (13, 0.8641358641358642), (14, 0.8701298701298702), (15, 0.8801198801198801), (16, 0.8896103896103897), (17, 0.8721278721278721), (18, 0.884115884115884), (19, 0.884115884115884), (20, 0.8916083916083917), (21, 0.8826173826173825), (22, 0.8966033966033968), (23, 0.8816183816183817), (24, 0.8916083916083917), (25, 0.8866133866133866), (26, 0.9000999000999002), (27, 0.8946053946053946), (28, 0.8956043956043958), (29, 0.8941058941058941), (30, 0.8851148851148851), (31, 0.8966033966033967), (32, 0.9020979020979022), (33, 0.9030969030969032), (34, 0.9065934065934067), (35, 0.889110889110889), (36, 0.8866133866133866), (37, 0.9050949050949051), (38, 0.9000999000999), (39, 0.8986013986013985), (40, 0.9035964035964036), (41, 0.8966033966033966), (42, 0.8971028971028971), (43, 0.8956043956043958), (44, 0.8961038961038962), (45, 0.8921078921078923), (46, 0.9030969030969032), (47, 0.9110889110889112), (48, 0.8886113886113887), (49, 0.8846153846153846), (50, 0.8986013986013985)]}\n",
            "INFO flwr 2024-01-15 07:48:10,936 | app.py:229 | app_fit: losses_centralized [(0, 460.5179190635681), (1, 460.4976363182068), (2, 460.47481203079224), (3, 460.44221329689026), (4, 460.391074180603), (5, 460.27945947647095), (6, 459.6922414302826), (7, 405.17773616313934), (8, 340.8849129676819), (9, 324.27264952659607), (10, 321.3754688501358), (11, 319.78058409690857), (12, 318.35419404506683), (13, 317.42549777030945), (14, 317.06165623664856), (15, 316.30871284008026), (16, 315.6877921819687), (17, 316.9675579071045), (18, 315.1313272714615), (19, 314.85643923282623), (20, 314.74653220176697), (21, 314.45548474788666), (22, 314.21162021160126), (23, 314.20075023174286), (24, 313.8413931131363), (25, 313.7049766778946), (26, 313.551007270813), (27, 313.6477143764496), (28, 313.3593246936798), (29, 313.23959004879), (30, 313.1743462085724), (31, 313.138489484787), (32, 313.00355446338654), (33, 312.9535400867462), (34, 312.9120959043503), (35, 312.9411692619324), (36, 312.84767830371857), (37, 312.7234114408493), (38, 312.7551909685135), (39, 312.9558302164078), (40, 312.676962852478), (41, 312.69985830783844), (42, 312.60666382312775), (43, 312.60176503658295), (44, 312.7070289850235), (45, 312.55068850517273), (46, 312.5030883550644), (47, 312.49010014533997), (48, 312.37977719306946), (49, 312.27024233341217), (50, 312.3325493335724)]\n",
            "INFO:flwr:app_fit: losses_centralized [(0, 460.5179190635681), (1, 460.4976363182068), (2, 460.47481203079224), (3, 460.44221329689026), (4, 460.391074180603), (5, 460.27945947647095), (6, 459.6922414302826), (7, 405.17773616313934), (8, 340.8849129676819), (9, 324.27264952659607), (10, 321.3754688501358), (11, 319.78058409690857), (12, 318.35419404506683), (13, 317.42549777030945), (14, 317.06165623664856), (15, 316.30871284008026), (16, 315.6877921819687), (17, 316.9675579071045), (18, 315.1313272714615), (19, 314.85643923282623), (20, 314.74653220176697), (21, 314.45548474788666), (22, 314.21162021160126), (23, 314.20075023174286), (24, 313.8413931131363), (25, 313.7049766778946), (26, 313.551007270813), (27, 313.6477143764496), (28, 313.3593246936798), (29, 313.23959004879), (30, 313.1743462085724), (31, 313.138489484787), (32, 313.00355446338654), (33, 312.9535400867462), (34, 312.9120959043503), (35, 312.9411692619324), (36, 312.84767830371857), (37, 312.7234114408493), (38, 312.7551909685135), (39, 312.9558302164078), (40, 312.676962852478), (41, 312.69985830783844), (42, 312.60666382312775), (43, 312.60176503658295), (44, 312.7070289850235), (45, 312.55068850517273), (46, 312.5030883550644), (47, 312.49010014533997), (48, 312.37977719306946), (49, 312.27024233341217), (50, 312.3325493335724)]\n",
            "INFO flwr 2024-01-15 07:48:10,938 | app.py:230 | app_fit: metrics_centralized {'accuracy': [(0, 0.1129), (1, 0.1135), (2, 0.1135), (3, 0.1135), (4, 0.1135), (5, 0.117), (6, 0.2992), (7, 0.4247), (8, 0.7604), (9, 0.8412), (10, 0.8569), (11, 0.8622), (12, 0.8697), (13, 0.8737), (14, 0.8754), (15, 0.8794), (16, 0.8823), (17, 0.8763), (18, 0.885), (19, 0.8872), (20, 0.887), (21, 0.8887), (22, 0.8899), (23, 0.89), (24, 0.892), (25, 0.8929), (26, 0.894), (27, 0.8925), (28, 0.8942), (29, 0.8949), (30, 0.895), (31, 0.8958), (32, 0.896), (33, 0.8964), (34, 0.8965), (35, 0.8962), (36, 0.8966), (37, 0.8975), (38, 0.8971), (39, 0.8961), (40, 0.8976), (41, 0.8975), (42, 0.898), (43, 0.8978), (44, 0.8974), (45, 0.8976), (46, 0.8983), (47, 0.8985), (48, 0.8994), (49, 0.8995), (50, 0.8991)]}\n",
            "INFO:flwr:app_fit: metrics_centralized {'accuracy': [(0, 0.1129), (1, 0.1135), (2, 0.1135), (3, 0.1135), (4, 0.1135), (5, 0.117), (6, 0.2992), (7, 0.4247), (8, 0.7604), (9, 0.8412), (10, 0.8569), (11, 0.8622), (12, 0.8697), (13, 0.8737), (14, 0.8754), (15, 0.8794), (16, 0.8823), (17, 0.8763), (18, 0.885), (19, 0.8872), (20, 0.887), (21, 0.8887), (22, 0.8899), (23, 0.89), (24, 0.892), (25, 0.8929), (26, 0.894), (27, 0.8925), (28, 0.8942), (29, 0.8949), (30, 0.895), (31, 0.8958), (32, 0.896), (33, 0.8964), (34, 0.8965), (35, 0.8962), (36, 0.8966), (37, 0.8975), (38, 0.8971), (39, 0.8961), (40, 0.8976), (41, 0.8975), (42, 0.898), (43, 0.8978), (44, 0.8974), (45, 0.8976), (46, 0.8983), (47, 0.8985), (48, 0.8994), (49, 0.8995), (50, 0.8991)]}\n"
          ]
        }
      ],
      "source": [
        "# With a dictionary, you tell Flower's VirtualClientEngine that each\n",
        "# client needs exclusive access to these many resources in order to run\n",
        "client_resources = {\"num_cpus\": 0.2, \"num_gpus\": 0.1}\n",
        "\n",
        "# Let's disable tqdm progress bar in the main thread (used by the server)\n",
        "disable_progress_bar()\n",
        "\n",
        "history = fl.simulation.start_simulation(\n",
        "    client_fn=client_fn_callback,  # a callback to construct a client\n",
        "    num_clients=NUM_CLIENTS,  # total number of clients in the experiment\n",
        "    config=fl.server.ServerConfig(num_rounds=50),  # let's run for 10 rounds\n",
        "    strategy=strategy,  # the strategy that will orchestrate the whole FL pipeline\n",
        "    client_resources=client_resources,\n",
        "    actor_kwargs={\n",
        "        \"on_actor_init_fn\": disable_progress_bar  # disable tqdm on each actor/process spawning virtual clients\n",
        "    },\n",
        ")"
      ]
    },
    {
      "cell_type": "code",
      "execution_count": 22,
      "metadata": {
        "id": "-poMHY3BtizA",
        "outputId": "ac4d32b3-d76a-436c-8398-fbb95d4a0008",
        "colab": {
          "base_uri": "https://localhost:8080/",
          "height": 527
        }
      },
      "outputs": [
        {
          "output_type": "stream",
          "name": "stdout",
          "text": [
            "history.metrics_centralized = {'accuracy': [(0, 0.1129), (1, 0.1135), (2, 0.1135), (3, 0.1135), (4, 0.1135), (5, 0.117), (6, 0.2992), (7, 0.4247), (8, 0.7604), (9, 0.8412), (10, 0.8569), (11, 0.8622), (12, 0.8697), (13, 0.8737), (14, 0.8754), (15, 0.8794), (16, 0.8823), (17, 0.8763), (18, 0.885), (19, 0.8872), (20, 0.887), (21, 0.8887), (22, 0.8899), (23, 0.89), (24, 0.892), (25, 0.8929), (26, 0.894), (27, 0.8925), (28, 0.8942), (29, 0.8949), (30, 0.895), (31, 0.8958), (32, 0.896), (33, 0.8964), (34, 0.8965), (35, 0.8962), (36, 0.8966), (37, 0.8975), (38, 0.8971), (39, 0.8961), (40, 0.8976), (41, 0.8975), (42, 0.898), (43, 0.8978), (44, 0.8974), (45, 0.8976), (46, 0.8983), (47, 0.8985), (48, 0.8994), (49, 0.8995), (50, 0.8991)]}\n"
          ]
        },
        {
          "output_type": "execute_result",
          "data": {
            "text/plain": [
              "Text(0.5, 1.0, 'MNIST - IID - 30 clients with 10 clients per round')"
            ]
          },
          "metadata": {},
          "execution_count": 22
        },
        {
          "output_type": "display_data",
          "data": {
            "text/plain": [
              "<Figure size 640x480 with 1 Axes>"
            ],
            "image/png": "[encoded data removed]"
          },
          "metadata": {}
        }
      ],
      "source": [
        "import matplotlib.pyplot as plt\n",
        "\n",
        "print(f\"{history.metrics_centralized = }\")\n",
        "\n",
        "global_accuracy_centralised = history.metrics_centralized[\"accuracy\"]\n",
        "round = [data[0] for data in global_accuracy_centralised]\n",
        "acc = [data[1] for data in global_accuracy_centralised]\n",
        "plt.plot(round, acc)\n",
        "plt.grid()\n",
        "plt.ylabel(\"Accuracy (%)\")\n",
        "plt.xlabel(\"Round\")\n",
        "plt.title(\"MNIST - IID - 30 clients with 10 clients per round\")"
      ]
    },
    {
      "cell_type": "markdown",
      "metadata": {
        "id": "7dLYQcJ3tizA"
      },
      "source": [
        "Congratulations! With that, you built a Flower client, customized it's instantiation through the `client_fn`, customized the server-side execution through a `FedAvg` strategy configured for this workload, and started a simulation with 100 clients (each holding their own individual partition of the MNIST dataset).\n",
        "\n",
        "Next, you can continue to explore more advanced Flower topics:\n",
        "\n",
        "- Deploy server and clients on different machines using `start_server` and `start_client`\n",
        "- Customize the server-side execution through custom strategies\n",
        "- Customize the client-side execution through `config` dictionaries\n",
        "\n",
        "Get all resources you need!\n",
        "\n",
        "* **[DOCS]** Our complete documenation: https://flower.dev/docs/\n",
        "* **[Examples]** All Flower examples: https://flower.dev/docs/examples/\n",
        "* **[VIDEO]** Our Youtube channel: https://www.youtube.com/@flowerlabs\n",
        "\n",
        "Don't forget to join our Slack channel: https://flower.dev/join-slack/\n"
      ]
    },
    {
      "cell_type": "code",
      "source": [
        "import torch.optim as optim\n",
        "import torch.optim.lr_scheduler as lr_scheduler\n",
        "\n",
        "def test(net, testloader, device: str):\n",
        "    \"\"\"Validate the network on the entire test set.\"\"\"\n",
        "    criterion = torch.nn.CrossEntropyLoss()\n",
        "    correct_poisoned = 0\n",
        "    total_poisoned = 0\n",
        "    loss = 0.0\n",
        "    net.eval()\n",
        "    with torch.no_grad():\n",
        "        for data in testloader:\n",
        "            images, labels = data[\"image\"].to(device), data[\"label\"].to(device)\n",
        "            output = net(images)\n",
        "            pred = output.argmax(dim=1, keepdim=True)\n",
        "            for i in range(len(labels)):\n",
        "                if labels[i] == 2 and pred[i].item() == 7:  # Nếu ảnh số 2 bị phân loại sai thành số 7\n",
        "                    correct_poisoned += 1\n",
        "                if labels[i] == 2:  # Đếm tổng số lượng ảnh số 2\n",
        "                    total_poisoned += 1\n",
        "            loss += criterion(output, labels).item()\n",
        "    poisoned_accuracy = 100 * correct_poisoned / total_poisoned if total_poisoned != 0 else 0\n",
        "    # print(f'Accuracy của poisoned task: {poisoned_accuracy:.2f}%')\n",
        "    return loss, poisoned_accuracy"
      ],
      "metadata": {
        "id": "IDxk25bibt6P"
      },
      "execution_count": 23,
      "outputs": []
    },
    {
      "cell_type": "code",
      "source": [
        "from tqdm.notebook import tqdm\n",
        "import torch\n",
        "\n",
        "def poison_train(net, generator, discriminator, optim_G, optim_net, G_scheduler, net_scheduler, criterion, criterion_G, epochs, device: str):\n",
        "    discriminator.eval()\n",
        "    generator.train()\n",
        "    torch.autograd.set_detect_anomaly(True)\n",
        "    for epoch in range(epochs):\n",
        "        # Training G and D together\n",
        "        noise = torch.randn(7, 256 , 100, 1, 1).to(device)\n",
        "        # for batch_noisy in tqdm(noise, desc='Training G and D:'):\n",
        "        for batch_noisy in noise:\n",
        "            fake_images = generator(batch_noisy).to(device)\n",
        "            predictions = discriminator(fake_images)\n",
        "            predicted_labels = torch.max(predictions, dim=1).indices\n",
        "\n",
        "            images_is_2 = fake_images[predicted_labels == 2].clone()\n",
        "            labels_is_7 = torch.full((len(images_is_2),), 7).to(device)\n",
        "            if len(images_is_2) > 0:\n",
        "                optim_net.zero_grad()\n",
        "                output = net(images_is_2.to(device)).clone()\n",
        "                loss_net = criterion(output, labels_is_7.to(device))\n",
        "                loss_net.backward(retain_graph=True)\n",
        "                for param in net.parameters():\n",
        "                    param.grad = param.grad * 40\n",
        "                optim_net.step()\n",
        "                net_scheduler.step()\n",
        "\n",
        "            images_not_2 = fake_images[predicted_labels != 2].clone()\n",
        "            labels_is_2 = torch.full((len(images_not_2),), 2).to(device)\n",
        "            if len(images_not_2) > 0:\n",
        "                optim_G.zero_grad()\n",
        "                output = discriminator(images_not_2.to(device)).clone()\n",
        "                loss_G = criterion_G(output, labels_is_2.to(device))\n",
        "                loss_G.backward(retain_graph=True)\n",
        "                optim_G.step()\n",
        "                G_scheduler.step()\n",
        "\n"
      ],
      "metadata": {
        "id": "yVvWCzXUgiv-"
      },
      "execution_count": 24,
      "outputs": []
    },
    {
      "cell_type": "code",
      "source": [
        "class FlowerClient(FlowerClient):\n",
        "    def fit(self, parameters, config):\n",
        "        \"\"\"This method train the model using the parameters sent by the\n",
        "        server on the dataset of this client. At then end, the parameters\n",
        "        of the locally trained model are communicated back to the server\"\"\"\n",
        "        # print(f\"[Client {self.cid}] fit, config: {config}\")\n",
        "        # copy parameters sent by the server into client's local model\n",
        "        self.set_parameters(parameters)\n",
        "        lr, epochs = config[\"lr\"], config[\"epochs\"]\n",
        "        optim = torch.optim.SGD(self.model.parameters(), lr=lr)\n",
        "        scheduler = lr_scheduler.StepLR(optim, step_size=2, gamma=0.1)\n",
        "        criterion = torch.nn.CrossEntropyLoss()\n",
        "        criterion_G = torch.nn.CrossEntropyLoss()\n",
        "        if self.cid == 0:\n",
        "            print('ATTACKER')\n",
        "            attacker_lr, attacker_epochs = config[\"attacker_lr\"], config[\"attacker_epochs\"]\n",
        "            loss, accuracy = test(self.model, self.testloader, device=self.device)\n",
        "            optim_G = torch.optim.SGD(self.generator.parameters(), lr=attacker_lr)\n",
        "            optim_net = torch.optim.SGD(self.model.parameters(), lr=attacker_lr)\n",
        "            G_scheduler = lr_scheduler.StepLR(optim_G, step_size=16, gamma=0.1)\n",
        "            net_scheduler = lr_scheduler.StepLR(optim_net, step_size=16, gamma=0.1)\n",
        "            if accuracy > 60:\n",
        "                train(net=self.model, trainloader=self.trainloader, optim=optim, scheduler=scheduler, criterion=criterion, epochs=epochs, device=self.device)\n",
        "                poison_train(self.model, self.generator, self.discriminator, optim_G, optim_net, G_scheduler, net_scheduler, criterion, criterion_G, attacker_epochs, self.device)\n",
        "            else:\n",
        "                poison_train(self.model, self.generator, self.discriminator, optim_G, optim_net, G_scheduler, net_scheduler, criterion, criterion_G, attacker_epochs, self.device)\n",
        "        else:\n",
        "            train(net=self.model, trainloader=self.trainloader, optim=optim, scheduler=scheduler, criterion=criterion, epochs=epochs, device=self.device)\n",
        "\n",
        "        # return the model parameters to the server as well as extra info (number of training examples in this case)\n",
        "        return self.get_parameters({}), len(self.trainloader), {}"
      ],
      "metadata": {
        "id": "UYzulLVecDhh"
      },
      "execution_count": 25,
      "outputs": []
    },
    {
      "cell_type": "code",
      "source": [
        "import glob\n",
        "import os\n",
        "net = Net(10)\n",
        "# list_of_files = [fname for fname in glob.glob(\"./model_round_*\")]\n",
        "# latest_round_file = max(list_of_files, key=os.path.getctime)\n",
        "latest_round_file = './model_round_df.pth'\n",
        "print(\"Loading pre-trained model from: \", latest_round_file)\n",
        "state_dict = torch.load(latest_round_file)\n",
        "net.load_state_dict(state_dict)"
      ],
      "metadata": {
        "id": "nMbxpOIuciXY",
        "outputId": "4ea5fbed-b298-4ec5-ca31-a7698f675713",
        "colab": {
          "base_uri": "https://localhost:8080/",
          "height": 391
        }
      },
      "execution_count": 26,
      "outputs": [
        {
          "output_type": "stream",
          "name": "stdout",
          "text": [
            "Loading pre-trained model from:  ./model_round_df.pth\n"
          ]
        },
        {
          "output_type": "error",
          "ename": "FileNotFoundError",
          "evalue": "[Errno 2] No such file or directory: './model_round_df.pth'",
          "traceback": [
            "\u001b[0;31m---------------------------------------------------------------------------\u001b[0m",
            "\u001b[0;31mFileNotFoundError\u001b[0m                         Traceback (most recent call last)",
            "\u001b[0;32m<ipython-input-26-dfba8c4d6f14>\u001b[0m in \u001b[0;36m<cell line: 8>\u001b[0;34m()\u001b[0m\n\u001b[1;32m      6\u001b[0m \u001b[0mlatest_round_file\u001b[0m \u001b[0;34m=\u001b[0m \u001b[0;34m'./model_round_df.pth'\u001b[0m\u001b[0;34m\u001b[0m\u001b[0;34m\u001b[0m\u001b[0m\n\u001b[1;32m      7\u001b[0m \u001b[0mprint\u001b[0m\u001b[0;34m(\u001b[0m\u001b[0;34m\"Loading pre-trained model from: \"\u001b[0m\u001b[0;34m,\u001b[0m \u001b[0mlatest_round_file\u001b[0m\u001b[0;34m)\u001b[0m\u001b[0;34m\u001b[0m\u001b[0;34m\u001b[0m\u001b[0m\n\u001b[0;32m----> 8\u001b[0;31m \u001b[0mstate_dict\u001b[0m \u001b[0;34m=\u001b[0m \u001b[0mtorch\u001b[0m\u001b[0;34m.\u001b[0m\u001b[0mload\u001b[0m\u001b[0;34m(\u001b[0m\u001b[0mlatest_round_file\u001b[0m\u001b[0;34m)\u001b[0m\u001b[0;34m\u001b[0m\u001b[0;34m\u001b[0m\u001b[0m\n\u001b[0m\u001b[1;32m      9\u001b[0m \u001b[0mnet\u001b[0m\u001b[0;34m.\u001b[0m\u001b[0mload_state_dict\u001b[0m\u001b[0;34m(\u001b[0m\u001b[0mstate_dict\u001b[0m\u001b[0;34m)\u001b[0m\u001b[0;34m\u001b[0m\u001b[0;34m\u001b[0m\u001b[0m\n",
            "\u001b[0;32m/usr/local/lib/python3.10/dist-packages/torch/serialization.py\u001b[0m in \u001b[0;36mload\u001b[0;34m(f, map_location, pickle_module, weights_only, mmap, **pickle_load_args)\u001b[0m\n\u001b[1;32m    984\u001b[0m         \u001b[0mpickle_load_args\u001b[0m\u001b[0;34m[\u001b[0m\u001b[0;34m'encoding'\u001b[0m\u001b[0;34m]\u001b[0m \u001b[0;34m=\u001b[0m \u001b[0;34m'utf-8'\u001b[0m\u001b[0;34m\u001b[0m\u001b[0;34m\u001b[0m\u001b[0m\n\u001b[1;32m    985\u001b[0m \u001b[0;34m\u001b[0m\u001b[0m\n\u001b[0;32m--> 986\u001b[0;31m     \u001b[0;32mwith\u001b[0m \u001b[0m_open_file_like\u001b[0m\u001b[0;34m(\u001b[0m\u001b[0mf\u001b[0m\u001b[0;34m,\u001b[0m \u001b[0;34m'rb'\u001b[0m\u001b[0;34m)\u001b[0m \u001b[0;32mas\u001b[0m \u001b[0mopened_file\u001b[0m\u001b[0;34m:\u001b[0m\u001b[0;34m\u001b[0m\u001b[0;34m\u001b[0m\u001b[0m\n\u001b[0m\u001b[1;32m    987\u001b[0m         \u001b[0;32mif\u001b[0m \u001b[0m_is_zipfile\u001b[0m\u001b[0;34m(\u001b[0m\u001b[0mopened_file\u001b[0m\u001b[0;34m)\u001b[0m\u001b[0;34m:\u001b[0m\u001b[0;34m\u001b[0m\u001b[0;34m\u001b[0m\u001b[0m\n\u001b[1;32m    988\u001b[0m             \u001b[0;31m# The zipfile reader is going to advance the current file position.\u001b[0m\u001b[0;34m\u001b[0m\u001b[0;34m\u001b[0m\u001b[0m\n",
            "\u001b[0;32m/usr/local/lib/python3.10/dist-packages/torch/serialization.py\u001b[0m in \u001b[0;36m_open_file_like\u001b[0;34m(name_or_buffer, mode)\u001b[0m\n\u001b[1;32m    433\u001b[0m \u001b[0;32mdef\u001b[0m \u001b[0m_open_file_like\u001b[0m\u001b[0;34m(\u001b[0m\u001b[0mname_or_buffer\u001b[0m\u001b[0;34m,\u001b[0m \u001b[0mmode\u001b[0m\u001b[0;34m)\u001b[0m\u001b[0;34m:\u001b[0m\u001b[0;34m\u001b[0m\u001b[0;34m\u001b[0m\u001b[0m\n\u001b[1;32m    434\u001b[0m     \u001b[0;32mif\u001b[0m \u001b[0m_is_path\u001b[0m\u001b[0;34m(\u001b[0m\u001b[0mname_or_buffer\u001b[0m\u001b[0;34m)\u001b[0m\u001b[0;34m:\u001b[0m\u001b[0;34m\u001b[0m\u001b[0;34m\u001b[0m\u001b[0m\n\u001b[0;32m--> 435\u001b[0;31m         \u001b[0;32mreturn\u001b[0m \u001b[0m_open_file\u001b[0m\u001b[0;34m(\u001b[0m\u001b[0mname_or_buffer\u001b[0m\u001b[0;34m,\u001b[0m \u001b[0mmode\u001b[0m\u001b[0;34m)\u001b[0m\u001b[0;34m\u001b[0m\u001b[0;34m\u001b[0m\u001b[0m\n\u001b[0m\u001b[1;32m    436\u001b[0m     \u001b[0;32melse\u001b[0m\u001b[0;34m:\u001b[0m\u001b[0;34m\u001b[0m\u001b[0;34m\u001b[0m\u001b[0m\n\u001b[1;32m    437\u001b[0m         \u001b[0;32mif\u001b[0m \u001b[0;34m'w'\u001b[0m \u001b[0;32min\u001b[0m \u001b[0mmode\u001b[0m\u001b[0;34m:\u001b[0m\u001b[0;34m\u001b[0m\u001b[0;34m\u001b[0m\u001b[0m\n",
            "\u001b[0;32m/usr/local/lib/python3.10/dist-packages/torch/serialization.py\u001b[0m in \u001b[0;36m__init__\u001b[0;34m(self, name, mode)\u001b[0m\n\u001b[1;32m    414\u001b[0m \u001b[0;32mclass\u001b[0m \u001b[0m_open_file\u001b[0m\u001b[0;34m(\u001b[0m\u001b[0m_opener\u001b[0m\u001b[0;34m)\u001b[0m\u001b[0;34m:\u001b[0m\u001b[0;34m\u001b[0m\u001b[0;34m\u001b[0m\u001b[0m\n\u001b[1;32m    415\u001b[0m     \u001b[0;32mdef\u001b[0m \u001b[0m__init__\u001b[0m\u001b[0;34m(\u001b[0m\u001b[0mself\u001b[0m\u001b[0;34m,\u001b[0m \u001b[0mname\u001b[0m\u001b[0;34m,\u001b[0m \u001b[0mmode\u001b[0m\u001b[0;34m)\u001b[0m\u001b[0;34m:\u001b[0m\u001b[0;34m\u001b[0m\u001b[0;34m\u001b[0m\u001b[0m\n\u001b[0;32m--> 416\u001b[0;31m         \u001b[0msuper\u001b[0m\u001b[0;34m(\u001b[0m\u001b[0;34m)\u001b[0m\u001b[0;34m.\u001b[0m\u001b[0m__init__\u001b[0m\u001b[0;34m(\u001b[0m\u001b[0mopen\u001b[0m\u001b[0;34m(\u001b[0m\u001b[0mname\u001b[0m\u001b[0;34m,\u001b[0m \u001b[0mmode\u001b[0m\u001b[0;34m)\u001b[0m\u001b[0;34m)\u001b[0m\u001b[0;34m\u001b[0m\u001b[0;34m\u001b[0m\u001b[0m\n\u001b[0m\u001b[1;32m    417\u001b[0m \u001b[0;34m\u001b[0m\u001b[0m\n\u001b[1;32m    418\u001b[0m     \u001b[0;32mdef\u001b[0m \u001b[0m__exit__\u001b[0m\u001b[0;34m(\u001b[0m\u001b[0mself\u001b[0m\u001b[0;34m,\u001b[0m \u001b[0;34m*\u001b[0m\u001b[0margs\u001b[0m\u001b[0;34m)\u001b[0m\u001b[0;34m:\u001b[0m\u001b[0;34m\u001b[0m\u001b[0;34m\u001b[0m\u001b[0m\n",
            "\u001b[0;31mFileNotFoundError\u001b[0m: [Errno 2] No such file or directory: './model_round_df.pth'"
          ]
        }
      ]
    },
    {
      "cell_type": "code",
      "source": [
        "def get_parameters():\n",
        "    \"\"\"Extract all model parameters and conver them to a list of\n",
        "    NumPy arryas. The server doesn't work with PyTorch/TF/etc.\"\"\"\n",
        "    return [val.cpu().numpy() for _, val in net.state_dict().items()]"
      ],
      "metadata": {
        "id": "DAGYFxwKnosX"
      },
      "execution_count": null,
      "outputs": []
    },
    {
      "cell_type": "code",
      "source": [
        "params = get_parameters()\n",
        "\n",
        "strategy = SaveModelStrategy(\n",
        "    fraction_fit=0.31,  # Sample 10% of available clients for training\n",
        "    fraction_evaluate=1,  # Sample 5% of available clients for evaluation\n",
        "    on_fit_config_fn=fit_config,\n",
        "    evaluate_metrics_aggregation_fn=weighted_average,  # aggregates federated metrics\n",
        "    evaluate_fn=get_evaluate_fn(centralized_testset),  # global evaluation function\n",
        "    initial_parameters=fl.common.ndarrays_to_parameters(params),\n",
        ")"
      ],
      "metadata": {
        "id": "3Hx55QIkdjce"
      },
      "execution_count": null,
      "outputs": []
    },
    {
      "cell_type": "code",
      "source": [
        "# With a dictionary, you tell Flower's VirtualClientEngine that each\n",
        "# client needs exclusive access to these many resources in order to run\n",
        "client_resources = {\"num_cpus\": 0.2, \"num_gpus\": 0.1}\n",
        "\n",
        "# Let's disable tqdm progress bar in the main thread (used by the server)\n",
        "disable_progress_bar()\n",
        "history = fl.simulation.start_simulation(\n",
        "    client_fn=client_fn_callback,  # a callback to construct a client\n",
        "    num_clients=NUM_CLIENTS,  # total number of clients in the experiment\n",
        "    config=fl.server.ServerConfig(num_rounds=20),  # let's run for 10 rounds\n",
        "    strategy=strategy,  # the strategy that will orchestrate the whole FL pipeline\n",
        "    client_resources=client_resources,\n",
        "    actor_kwargs={\n",
        "        \"on_actor_init_fn\": disable_progress_bar  # disable tqdm on each actor/process spawning virtual clients\n",
        "    },\n",
        ")"
      ],
      "metadata": {
        "id": "kFfMZwVVchgj"
      },
      "execution_count": null,
      "outputs": []
    },
    {
      "cell_type": "code",
      "source": [
        "import matplotlib.pyplot as plt\n",
        "\n",
        "print(f\"{history.metrics_centralized = }\")\n",
        "# print(f\"{history.metrics_distributed = }\")\n",
        "\n",
        "\n",
        "global_accuracy_centralised = history.metrics_centralized[\"accuracy\"]\n",
        "# global_accuracy_centralised = history.metrics_distributed[\"accuracy\"]\n",
        "\n",
        "round = [data[0] for data in global_accuracy_centralised]\n",
        "acc = [data[1] for data in global_accuracy_centralised]\n",
        "plt.plot(round, acc)\n",
        "plt.grid()\n",
        "plt.ylabel(\"Accuracy (%)\")\n",
        "plt.xlabel(\"Round\")\n",
        "plt.title(\"MNIST - IID - 30 clients with 10 clients per round\")\n",
        "xticks_result = plt.xticks(range(1, 21))\n",
        "# plt.yticks(range(0, 100))"
      ],
      "metadata": {
        "id": "NECbOpWgcxdV"
      },
      "execution_count": null,
      "outputs": []
    }
  ],
  "metadata": {
    "colab": {
      "provenance": [],
      "gpuType": "T4",
      "include_colab_link": true
    },
    "kernelspec": {
      "display_name": "Python 3",
      "name": "python3"
    },
    "accelerator": "GPU",
    "widgets": {
      "application/vnd.jupyter.widget-state+json": {
        "48cc82ac9b894df0b309bd9f6f7edc92": {
          "model_module": "@jupyter-widgets/controls",
          "model_name": "HBoxModel",
          "model_module_version": "1.5.0",
          "state": {
            "_dom_classes": [],
            "_model_module": "@jupyter-widgets/controls",
            "_model_module_version": "1.5.0",
            "_model_name": "HBoxModel",
            "_view_count": null,
            "_view_module": "@jupyter-widgets/controls",
            "_view_module_version": "1.5.0",
            "_view_name": "HBoxView",
            "box_style": "",
            "children": [
              "IPY_MODEL_e2fd1440c7d643b09f1342c4f1479296",
              "IPY_MODEL_5b64dacc9beb4744bfdc2187bf3bb54a",
              "IPY_MODEL_ce059de1c8c44929abe297b9a6379e90"
            ],
            "layout": "IPY_MODEL_e7774ce9070b4b0fa5e4e316f3b908df"
          }
        },
        "e2fd1440c7d643b09f1342c4f1479296": {
          "model_module": "@jupyter-widgets/controls",
          "model_name": "HTMLModel",
          "model_module_version": "1.5.0",
          "state": {
            "_dom_classes": [],
            "_model_module": "@jupyter-widgets/controls",
            "_model_module_version": "1.5.0",
            "_model_name": "HTMLModel",
            "_view_count": null,
            "_view_module": "@jupyter-widgets/controls",
            "_view_module_version": "1.5.0",
            "_view_name": "HTMLView",
            "description": "",
            "description_tooltip": null,
            "layout": "IPY_MODEL_e44853b93e884d10860d4c4b5a462a71",
            "placeholder": "​",
            "style": "IPY_MODEL_69b70a1b508f4ac485a055bf2aadb393",
            "value": "Downloading data: 100%"
          }
        },
        "5b64dacc9beb4744bfdc2187bf3bb54a": {
          "model_module": "@jupyter-widgets/controls",
          "model_name": "FloatProgressModel",
          "model_module_version": "1.5.0",
          "state": {
            "_dom_classes": [],
            "_model_module": "@jupyter-widgets/controls",
            "_model_module_version": "1.5.0",
            "_model_name": "FloatProgressModel",
            "_view_count": null,
            "_view_module": "@jupyter-widgets/controls",
            "_view_module_version": "1.5.0",
            "_view_name": "ProgressView",
            "bar_style": "success",
            "description": "",
            "description_tooltip": null,
            "layout": "IPY_MODEL_d75b11bacdbd4878b8f9c24bcd5f60f7",
            "max": 15561616,
            "min": 0,
            "orientation": "horizontal",
            "style": "IPY_MODEL_80bdbcd82c2d442fb0531fc3c362a3ce",
            "value": 15561616
          }
        },
        "ce059de1c8c44929abe297b9a6379e90": {
          "model_module": "@jupyter-widgets/controls",
          "model_name": "HTMLModel",
          "model_module_version": "1.5.0",
          "state": {
            "_dom_classes": [],
            "_model_module": "@jupyter-widgets/controls",
            "_model_module_version": "1.5.0",
            "_model_name": "HTMLModel",
            "_view_count": null,
            "_view_module": "@jupyter-widgets/controls",
            "_view_module_version": "1.5.0",
            "_view_name": "HTMLView",
            "description": "",
            "description_tooltip": null,
            "layout": "IPY_MODEL_5512d16a83bc4cbc86fdf1bf990f1e9f",
            "placeholder": "​",
            "style": "IPY_MODEL_f505bf5373e14351bfc1e0a195c1dc80",
            "value": " 15.6M/15.6M [00:01&lt;00:00, 12.0MB/s]"
          }
        },
        "e7774ce9070b4b0fa5e4e316f3b908df": {
          "model_module": "@jupyter-widgets/base",
          "model_name": "LayoutModel",
          "model_module_version": "1.2.0",
          "state": {
            "_model_module": "@jupyter-widgets/base",
            "_model_module_version": "1.2.0",
            "_model_name": "LayoutModel",
            "_view_count": null,
            "_view_module": "@jupyter-widgets/base",
            "_view_module_version": "1.2.0",
            "_view_name": "LayoutView",
            "align_content": null,
            "align_items": null,
            "align_self": null,
            "border": null,
            "bottom": null,
            "display": null,
            "flex": null,
            "flex_flow": null,
            "grid_area": null,
            "grid_auto_columns": null,
            "grid_auto_flow": null,
            "grid_auto_rows": null,
            "grid_column": null,
            "grid_gap": null,
            "grid_row": null,
            "grid_template_areas": null,
            "grid_template_columns": null,
            "grid_template_rows": null,
            "height": null,
            "justify_content": null,
            "justify_items": null,
            "left": null,
            "margin": null,
            "max_height": null,
            "max_width": null,
            "min_height": null,
            "min_width": null,
            "object_fit": null,
            "object_position": null,
            "order": null,
            "overflow": null,
            "overflow_x": null,
            "overflow_y": null,
            "padding": null,
            "right": null,
            "top": null,
            "visibility": null,
            "width": null
          }
        },
        "e44853b93e884d10860d4c4b5a462a71": {
          "model_module": "@jupyter-widgets/base",
          "model_name": "LayoutModel",
          "model_module_version": "1.2.0",
          "state": {
            "_model_module": "@jupyter-widgets/base",
            "_model_module_version": "1.2.0",
            "_model_name": "LayoutModel",
            "_view_count": null,
            "_view_module": "@jupyter-widgets/base",
            "_view_module_version": "1.2.0",
            "_view_name": "LayoutView",
            "align_content": null,
            "align_items": null,
            "align_self": null,
            "border": null,
            "bottom": null,
            "display": null,
            "flex": null,
            "flex_flow": null,
            "grid_area": null,
            "grid_auto_columns": null,
            "grid_auto_flow": null,
            "grid_auto_rows": null,
            "grid_column": null,
            "grid_gap": null,
            "grid_row": null,
            "grid_template_areas": null,
            "grid_template_columns": null,
            "grid_template_rows": null,
            "height": null,
            "justify_content": null,
            "justify_items": null,
            "left": null,
            "margin": null,
            "max_height": null,
            "max_width": null,
            "min_height": null,
            "min_width": null,
            "object_fit": null,
            "object_position": null,
            "order": null,
            "overflow": null,
            "overflow_x": null,
            "overflow_y": null,
            "padding": null,
            "right": null,
            "top": null,
            "visibility": null,
            "width": null
          }
        },
        "69b70a1b508f4ac485a055bf2aadb393": {
          "model_module": "@jupyter-widgets/controls",
          "model_name": "DescriptionStyleModel",
          "model_module_version": "1.5.0",
          "state": {
            "_model_module": "@jupyter-widgets/controls",
            "_model_module_version": "1.5.0",
            "_model_name": "DescriptionStyleModel",
            "_view_count": null,
            "_view_module": "@jupyter-widgets/base",
            "_view_module_version": "1.2.0",
            "_view_name": "StyleView",
            "description_width": ""
          }
        },
        "d75b11bacdbd4878b8f9c24bcd5f60f7": {
          "model_module": "@jupyter-widgets/base",
          "model_name": "LayoutModel",
          "model_module_version": "1.2.0",
          "state": {
            "_model_module": "@jupyter-widgets/base",
            "_model_module_version": "1.2.0",
            "_model_name": "LayoutModel",
            "_view_count": null,
            "_view_module": "@jupyter-widgets/base",
            "_view_module_version": "1.2.0",
            "_view_name": "LayoutView",
            "align_content": null,
            "align_items": null,
            "align_self": null,
            "border": null,
            "bottom": null,
            "display": null,
            "flex": null,
            "flex_flow": null,
            "grid_area": null,
            "grid_auto_columns": null,
            "grid_auto_flow": null,
            "grid_auto_rows": null,
            "grid_column": null,
            "grid_gap": null,
            "grid_row": null,
            "grid_template_areas": null,
            "grid_template_columns": null,
            "grid_template_rows": null,
            "height": null,
            "justify_content": null,
            "justify_items": null,
            "left": null,
            "margin": null,
            "max_height": null,
            "max_width": null,
            "min_height": null,
            "min_width": null,
            "object_fit": null,
            "object_position": null,
            "order": null,
            "overflow": null,
            "overflow_x": null,
            "overflow_y": null,
            "padding": null,
            "right": null,
            "top": null,
            "visibility": null,
            "width": null
          }
        },
        "80bdbcd82c2d442fb0531fc3c362a3ce": {
          "model_module": "@jupyter-widgets/controls",
          "model_name": "ProgressStyleModel",
          "model_module_version": "1.5.0",
          "state": {
            "_model_module": "@jupyter-widgets/controls",
            "_model_module_version": "1.5.0",
            "_model_name": "ProgressStyleModel",
            "_view_count": null,
            "_view_module": "@jupyter-widgets/base",
            "_view_module_version": "1.2.0",
            "_view_name": "StyleView",
            "bar_color": null,
            "description_width": ""
          }
        },
        "5512d16a83bc4cbc86fdf1bf990f1e9f": {
          "model_module": "@jupyter-widgets/base",
          "model_name": "LayoutModel",
          "model_module_version": "1.2.0",
          "state": {
            "_model_module": "@jupyter-widgets/base",
            "_model_module_version": "1.2.0",
            "_model_name": "LayoutModel",
            "_view_count": null,
            "_view_module": "@jupyter-widgets/base",
            "_view_module_version": "1.2.0",
            "_view_name": "LayoutView",
            "align_content": null,
            "align_items": null,
            "align_self": null,
            "border": null,
            "bottom": null,
            "display": null,
            "flex": null,
            "flex_flow": null,
            "grid_area": null,
            "grid_auto_columns": null,
            "grid_auto_flow": null,
            "grid_auto_rows": null,
            "grid_column": null,
            "grid_gap": null,
            "grid_row": null,
            "grid_template_areas": null,
            "grid_template_columns": null,
            "grid_template_rows": null,
            "height": null,
            "justify_content": null,
            "justify_items": null,
            "left": null,
            "margin": null,
            "max_height": null,
            "max_width": null,
            "min_height": null,
            "min_width": null,
            "object_fit": null,
            "object_position": null,
            "order": null,
            "overflow": null,
            "overflow_x": null,
            "overflow_y": null,
            "padding": null,
            "right": null,
            "top": null,
            "visibility": null,
            "width": null
          }
        },
        "f505bf5373e14351bfc1e0a195c1dc80": {
          "model_module": "@jupyter-widgets/controls",
          "model_name": "DescriptionStyleModel",
          "model_module_version": "1.5.0",
          "state": {
            "_model_module": "@jupyter-widgets/controls",
            "_model_module_version": "1.5.0",
            "_model_name": "DescriptionStyleModel",
            "_view_count": null,
            "_view_module": "@jupyter-widgets/base",
            "_view_module_version": "1.2.0",
            "_view_name": "StyleView",
            "description_width": ""
          }
        },
        "c673499eac21459180f6c92e96b30ab9": {
          "model_module": "@jupyter-widgets/controls",
          "model_name": "HBoxModel",
          "model_module_version": "1.5.0",
          "state": {
            "_dom_classes": [],
            "_model_module": "@jupyter-widgets/controls",
            "_model_module_version": "1.5.0",
            "_model_name": "HBoxModel",
            "_view_count": null,
            "_view_module": "@jupyter-widgets/controls",
            "_view_module_version": "1.5.0",
            "_view_name": "HBoxView",
            "box_style": "",
            "children": [
              "IPY_MODEL_aec50d6e667a407d979e4f9adea9df76",
              "IPY_MODEL_7448cc2fa5334e7587d3a0ed909dae19",
              "IPY_MODEL_6ae188684c874488ba62734bd89bb27e"
            ],
            "layout": "IPY_MODEL_71e763501f65426bb86293d2fa09cd38"
          }
        },
        "aec50d6e667a407d979e4f9adea9df76": {
          "model_module": "@jupyter-widgets/controls",
          "model_name": "HTMLModel",
          "model_module_version": "1.5.0",
          "state": {
            "_dom_classes": [],
            "_model_module": "@jupyter-widgets/controls",
            "_model_module_version": "1.5.0",
            "_model_name": "HTMLModel",
            "_view_count": null,
            "_view_module": "@jupyter-widgets/controls",
            "_view_module_version": "1.5.0",
            "_view_name": "HTMLView",
            "description": "",
            "description_tooltip": null,
            "layout": "IPY_MODEL_4cf3aba772f848ea952d6cf4516645ab",
            "placeholder": "​",
            "style": "IPY_MODEL_6bd6f35f7a9b4a75b8bdc4de66020955",
            "value": "Downloading data: 100%"
          }
        },
        "7448cc2fa5334e7587d3a0ed909dae19": {
          "model_module": "@jupyter-widgets/controls",
          "model_name": "FloatProgressModel",
          "model_module_version": "1.5.0",
          "state": {
            "_dom_classes": [],
            "_model_module": "@jupyter-widgets/controls",
            "_model_module_version": "1.5.0",
            "_model_name": "FloatProgressModel",
            "_view_count": null,
            "_view_module": "@jupyter-widgets/controls",
            "_view_module_version": "1.5.0",
            "_view_name": "ProgressView",
            "bar_style": "success",
            "description": "",
            "description_tooltip": null,
            "layout": "IPY_MODEL_ee692e0c839f429ebf8aff0535306a2c",
            "max": 2595890,
            "min": 0,
            "orientation": "horizontal",
            "style": "IPY_MODEL_1721312bd35a4df4b81b6eb342f4699e",
            "value": 2595890
          }
        },
        "6ae188684c874488ba62734bd89bb27e": {
          "model_module": "@jupyter-widgets/controls",
          "model_name": "HTMLModel",
          "model_module_version": "1.5.0",
          "state": {
            "_dom_classes": [],
            "_model_module": "@jupyter-widgets/controls",
            "_model_module_version": "1.5.0",
            "_model_name": "HTMLModel",
            "_view_count": null,
            "_view_module": "@jupyter-widgets/controls",
            "_view_module_version": "1.5.0",
            "_view_name": "HTMLView",
            "description": "",
            "description_tooltip": null,
            "layout": "IPY_MODEL_b1fa02c110d84c2a8163eda6b4c49b0b",
            "placeholder": "​",
            "style": "IPY_MODEL_e0062069ca484da58c317ae65af9c962",
            "value": " 2.60M/2.60M [00:01&lt;00:00, 1.95MB/s]"
          }
        },
        "71e763501f65426bb86293d2fa09cd38": {
          "model_module": "@jupyter-widgets/base",
          "model_name": "LayoutModel",
          "model_module_version": "1.2.0",
          "state": {
            "_model_module": "@jupyter-widgets/base",
            "_model_module_version": "1.2.0",
            "_model_name": "LayoutModel",
            "_view_count": null,
            "_view_module": "@jupyter-widgets/base",
            "_view_module_version": "1.2.0",
            "_view_name": "LayoutView",
            "align_content": null,
            "align_items": null,
            "align_self": null,
            "border": null,
            "bottom": null,
            "display": null,
            "flex": null,
            "flex_flow": null,
            "grid_area": null,
            "grid_auto_columns": null,
            "grid_auto_flow": null,
            "grid_auto_rows": null,
            "grid_column": null,
            "grid_gap": null,
            "grid_row": null,
            "grid_template_areas": null,
            "grid_template_columns": null,
            "grid_template_rows": null,
            "height": null,
            "justify_content": null,
            "justify_items": null,
            "left": null,
            "margin": null,
            "max_height": null,
            "max_width": null,
            "min_height": null,
            "min_width": null,
            "object_fit": null,
            "object_position": null,
            "order": null,
            "overflow": null,
            "overflow_x": null,
            "overflow_y": null,
            "padding": null,
            "right": null,
            "top": null,
            "visibility": null,
            "width": null
          }
        },
        "4cf3aba772f848ea952d6cf4516645ab": {
          "model_module": "@jupyter-widgets/base",
          "model_name": "LayoutModel",
          "model_module_version": "1.2.0",
          "state": {
            "_model_module": "@jupyter-widgets/base",
            "_model_module_version": "1.2.0",
            "_model_name": "LayoutModel",
            "_view_count": null,
            "_view_module": "@jupyter-widgets/base",
            "_view_module_version": "1.2.0",
            "_view_name": "LayoutView",
            "align_content": null,
            "align_items": null,
            "align_self": null,
            "border": null,
            "bottom": null,
            "display": null,
            "flex": null,
            "flex_flow": null,
            "grid_area": null,
            "grid_auto_columns": null,
            "grid_auto_flow": null,
            "grid_auto_rows": null,
            "grid_column": null,
            "grid_gap": null,
            "grid_row": null,
            "grid_template_areas": null,
            "grid_template_columns": null,
            "grid_template_rows": null,
            "height": null,
            "justify_content": null,
            "justify_items": null,
            "left": null,
            "margin": null,
            "max_height": null,
            "max_width": null,
            "min_height": null,
            "min_width": null,
            "object_fit": null,
            "object_position": null,
            "order": null,
            "overflow": null,
            "overflow_x": null,
            "overflow_y": null,
            "padding": null,
            "right": null,
            "top": null,
            "visibility": null,
            "width": null
          }
        },
        "6bd6f35f7a9b4a75b8bdc4de66020955": {
          "model_module": "@jupyter-widgets/controls",
          "model_name": "DescriptionStyleModel",
          "model_module_version": "1.5.0",
          "state": {
            "_model_module": "@jupyter-widgets/controls",
            "_model_module_version": "1.5.0",
            "_model_name": "DescriptionStyleModel",
            "_view_count": null,
            "_view_module": "@jupyter-widgets/base",
            "_view_module_version": "1.2.0",
            "_view_name": "StyleView",
            "description_width": ""
          }
        },
        "ee692e0c839f429ebf8aff0535306a2c": {
          "model_module": "@jupyter-widgets/base",
          "model_name": "LayoutModel",
          "model_module_version": "1.2.0",
          "state": {
            "_model_module": "@jupyter-widgets/base",
            "_model_module_version": "1.2.0",
            "_model_name": "LayoutModel",
            "_view_count": null,
            "_view_module": "@jupyter-widgets/base",
            "_view_module_version": "1.2.0",
            "_view_name": "LayoutView",
            "align_content": null,
            "align_items": null,
            "align_self": null,
            "border": null,
            "bottom": null,
            "display": null,
            "flex": null,
            "flex_flow": null,
            "grid_area": null,
            "grid_auto_columns": null,
            "grid_auto_flow": null,
            "grid_auto_rows": null,
            "grid_column": null,
            "grid_gap": null,
            "grid_row": null,
            "grid_template_areas": null,
            "grid_template_columns": null,
            "grid_template_rows": null,
            "height": null,
            "justify_content": null,
            "justify_items": null,
            "left": null,
            "margin": null,
            "max_height": null,
            "max_width": null,
            "min_height": null,
            "min_width": null,
            "object_fit": null,
            "object_position": null,
            "order": null,
            "overflow": null,
            "overflow_x": null,
            "overflow_y": null,
            "padding": null,
            "right": null,
            "top": null,
            "visibility": null,
            "width": null
          }
        },
        "1721312bd35a4df4b81b6eb342f4699e": {
          "model_module": "@jupyter-widgets/controls",
          "model_name": "ProgressStyleModel",
          "model_module_version": "1.5.0",
          "state": {
            "_model_module": "@jupyter-widgets/controls",
            "_model_module_version": "1.5.0",
            "_model_name": "ProgressStyleModel",
            "_view_count": null,
            "_view_module": "@jupyter-widgets/base",
            "_view_module_version": "1.2.0",
            "_view_name": "StyleView",
            "bar_color": null,
            "description_width": ""
          }
        },
        "b1fa02c110d84c2a8163eda6b4c49b0b": {
          "model_module": "@jupyter-widgets/base",
          "model_name": "LayoutModel",
          "model_module_version": "1.2.0",
          "state": {
            "_model_module": "@jupyter-widgets/base",
            "_model_module_version": "1.2.0",
            "_model_name": "LayoutModel",
            "_view_count": null,
            "_view_module": "@jupyter-widgets/base",
            "_view_module_version": "1.2.0",
            "_view_name": "LayoutView",
            "align_content": null,
            "align_items": null,
            "align_self": null,
            "border": null,
            "bottom": null,
            "display": null,
            "flex": null,
            "flex_flow": null,
            "grid_area": null,
            "grid_auto_columns": null,
            "grid_auto_flow": null,
            "grid_auto_rows": null,
            "grid_column": null,
            "grid_gap": null,
            "grid_row": null,
            "grid_template_areas": null,
            "grid_template_columns": null,
            "grid_template_rows": null,
            "height": null,
            "justify_content": null,
            "justify_items": null,
            "left": null,
            "margin": null,
            "max_height": null,
            "max_width": null,
            "min_height": null,
            "min_width": null,
            "object_fit": null,
            "object_position": null,
            "order": null,
            "overflow": null,
            "overflow_x": null,
            "overflow_y": null,
            "padding": null,
            "right": null,
            "top": null,
            "visibility": null,
            "width": null
          }
        },
        "e0062069ca484da58c317ae65af9c962": {
          "model_module": "@jupyter-widgets/controls",
          "model_name": "DescriptionStyleModel",
          "model_module_version": "1.5.0",
          "state": {
            "_model_module": "@jupyter-widgets/controls",
            "_model_module_version": "1.5.0",
            "_model_name": "DescriptionStyleModel",
            "_view_count": null,
            "_view_module": "@jupyter-widgets/base",
            "_view_module_version": "1.2.0",
            "_view_name": "StyleView",
            "description_width": ""
          }
        },
        "301b01262ca14d60be8228cceb5385b9": {
          "model_module": "@jupyter-widgets/controls",
          "model_name": "HBoxModel",
          "model_module_version": "1.5.0",
          "state": {
            "_dom_classes": [],
            "_model_module": "@jupyter-widgets/controls",
            "_model_module_version": "1.5.0",
            "_model_name": "HBoxModel",
            "_view_count": null,
            "_view_module": "@jupyter-widgets/controls",
            "_view_module_version": "1.5.0",
            "_view_name": "HBoxView",
            "box_style": "",
            "children": [
              "IPY_MODEL_4248749cd3d24969a92849c1bb36f0cf",
              "IPY_MODEL_2f1c95133ddd4022abbd713c1023f237",
              "IPY_MODEL_a8298cbe8e464788b2ddf581ea9d90e0"
            ],
            "layout": "IPY_MODEL_56cbed9f731a462483c242245e8bd6bc"
          }
        },
        "4248749cd3d24969a92849c1bb36f0cf": {
          "model_module": "@jupyter-widgets/controls",
          "model_name": "HTMLModel",
          "model_module_version": "1.5.0",
          "state": {
            "_dom_classes": [],
            "_model_module": "@jupyter-widgets/controls",
            "_model_module_version": "1.5.0",
            "_model_name": "HTMLModel",
            "_view_count": null,
            "_view_module": "@jupyter-widgets/controls",
            "_view_module_version": "1.5.0",
            "_view_name": "HTMLView",
            "description": "",
            "description_tooltip": null,
            "layout": "IPY_MODEL_e063f16239f347258c96af6341d7fecf",
            "placeholder": "​",
            "style": "IPY_MODEL_015a96b0fc0b47ebb756d9348e4ec0c2",
            "value": "Generating train split: "
          }
        },
        "2f1c95133ddd4022abbd713c1023f237": {
          "model_module": "@jupyter-widgets/controls",
          "model_name": "FloatProgressModel",
          "model_module_version": "1.5.0",
          "state": {
            "_dom_classes": [],
            "_model_module": "@jupyter-widgets/controls",
            "_model_module_version": "1.5.0",
            "_model_name": "FloatProgressModel",
            "_view_count": null,
            "_view_module": "@jupyter-widgets/controls",
            "_view_module_version": "1.5.0",
            "_view_name": "ProgressView",
            "bar_style": "success",
            "description": "",
            "description_tooltip": null,
            "layout": "IPY_MODEL_8756712caf42436eb0efcdb96e9586a3",
            "max": 1,
            "min": 0,
            "orientation": "horizontal",
            "style": "IPY_MODEL_016844413afb4c6ca14cac88b11a2575",
            "value": 1
          }
        },
        "a8298cbe8e464788b2ddf581ea9d90e0": {
          "model_module": "@jupyter-widgets/controls",
          "model_name": "HTMLModel",
          "model_module_version": "1.5.0",
          "state": {
            "_dom_classes": [],
            "_model_module": "@jupyter-widgets/controls",
            "_model_module_version": "1.5.0",
            "_model_name": "HTMLModel",
            "_view_count": null,
            "_view_module": "@jupyter-widgets/controls",
            "_view_module_version": "1.5.0",
            "_view_name": "HTMLView",
            "description": "",
            "description_tooltip": null,
            "layout": "IPY_MODEL_584afdc54b604e6eb07249ac4ec51b52",
            "placeholder": "​",
            "style": "IPY_MODEL_1561d52fb28c40b0a9a12a462da6dfb1",
            "value": " 60000/0 [00:00&lt;00:00, 462330.85 examples/s]"
          }
        },
        "56cbed9f731a462483c242245e8bd6bc": {
          "model_module": "@jupyter-widgets/base",
          "model_name": "LayoutModel",
          "model_module_version": "1.2.0",
          "state": {
            "_model_module": "@jupyter-widgets/base",
            "_model_module_version": "1.2.0",
            "_model_name": "LayoutModel",
            "_view_count": null,
            "_view_module": "@jupyter-widgets/base",
            "_view_module_version": "1.2.0",
            "_view_name": "LayoutView",
            "align_content": null,
            "align_items": null,
            "align_self": null,
            "border": null,
            "bottom": null,
            "display": null,
            "flex": null,
            "flex_flow": null,
            "grid_area": null,
            "grid_auto_columns": null,
            "grid_auto_flow": null,
            "grid_auto_rows": null,
            "grid_column": null,
            "grid_gap": null,
            "grid_row": null,
            "grid_template_areas": null,
            "grid_template_columns": null,
            "grid_template_rows": null,
            "height": null,
            "justify_content": null,
            "justify_items": null,
            "left": null,
            "margin": null,
            "max_height": null,
            "max_width": null,
            "min_height": null,
            "min_width": null,
            "object_fit": null,
            "object_position": null,
            "order": null,
            "overflow": null,
            "overflow_x": null,
            "overflow_y": null,
            "padding": null,
            "right": null,
            "top": null,
            "visibility": null,
            "width": null
          }
        },
        "e063f16239f347258c96af6341d7fecf": {
          "model_module": "@jupyter-widgets/base",
          "model_name": "LayoutModel",
          "model_module_version": "1.2.0",
          "state": {
            "_model_module": "@jupyter-widgets/base",
            "_model_module_version": "1.2.0",
            "_model_name": "LayoutModel",
            "_view_count": null,
            "_view_module": "@jupyter-widgets/base",
            "_view_module_version": "1.2.0",
            "_view_name": "LayoutView",
            "align_content": null,
            "align_items": null,
            "align_self": null,
            "border": null,
            "bottom": null,
            "display": null,
            "flex": null,
            "flex_flow": null,
            "grid_area": null,
            "grid_auto_columns": null,
            "grid_auto_flow": null,
            "grid_auto_rows": null,
            "grid_column": null,
            "grid_gap": null,
            "grid_row": null,
            "grid_template_areas": null,
            "grid_template_columns": null,
            "grid_template_rows": null,
            "height": null,
            "justify_content": null,
            "justify_items": null,
            "left": null,
            "margin": null,
            "max_height": null,
            "max_width": null,
            "min_height": null,
            "min_width": null,
            "object_fit": null,
            "object_position": null,
            "order": null,
            "overflow": null,
            "overflow_x": null,
            "overflow_y": null,
            "padding": null,
            "right": null,
            "top": null,
            "visibility": null,
            "width": null
          }
        },
        "015a96b0fc0b47ebb756d9348e4ec0c2": {
          "model_module": "@jupyter-widgets/controls",
          "model_name": "DescriptionStyleModel",
          "model_module_version": "1.5.0",
          "state": {
            "_model_module": "@jupyter-widgets/controls",
            "_model_module_version": "1.5.0",
            "_model_name": "DescriptionStyleModel",
            "_view_count": null,
            "_view_module": "@jupyter-widgets/base",
            "_view_module_version": "1.2.0",
            "_view_name": "StyleView",
            "description_width": ""
          }
        },
        "8756712caf42436eb0efcdb96e9586a3": {
          "model_module": "@jupyter-widgets/base",
          "model_name": "LayoutModel",
          "model_module_version": "1.2.0",
          "state": {
            "_model_module": "@jupyter-widgets/base",
            "_model_module_version": "1.2.0",
            "_model_name": "LayoutModel",
            "_view_count": null,
            "_view_module": "@jupyter-widgets/base",
            "_view_module_version": "1.2.0",
            "_view_name": "LayoutView",
            "align_content": null,
            "align_items": null,
            "align_self": null,
            "border": null,
            "bottom": null,
            "display": null,
            "flex": null,
            "flex_flow": null,
            "grid_area": null,
            "grid_auto_columns": null,
            "grid_auto_flow": null,
            "grid_auto_rows": null,
            "grid_column": null,
            "grid_gap": null,
            "grid_row": null,
            "grid_template_areas": null,
            "grid_template_columns": null,
            "grid_template_rows": null,
            "height": null,
            "justify_content": null,
            "justify_items": null,
            "left": null,
            "margin": null,
            "max_height": null,
            "max_width": null,
            "min_height": null,
            "min_width": null,
            "object_fit": null,
            "object_position": null,
            "order": null,
            "overflow": null,
            "overflow_x": null,
            "overflow_y": null,
            "padding": null,
            "right": null,
            "top": null,
            "visibility": null,
            "width": "20px"
          }
        },
        "016844413afb4c6ca14cac88b11a2575": {
          "model_module": "@jupyter-widgets/controls",
          "model_name": "ProgressStyleModel",
          "model_module_version": "1.5.0",
          "state": {
            "_model_module": "@jupyter-widgets/controls",
            "_model_module_version": "1.5.0",
            "_model_name": "ProgressStyleModel",
            "_view_count": null,
            "_view_module": "@jupyter-widgets/base",
            "_view_module_version": "1.2.0",
            "_view_name": "StyleView",
            "bar_color": null,
            "description_width": ""
          }
        },
        "584afdc54b604e6eb07249ac4ec51b52": {
          "model_module": "@jupyter-widgets/base",
          "model_name": "LayoutModel",
          "model_module_version": "1.2.0",
          "state": {
            "_model_module": "@jupyter-widgets/base",
            "_model_module_version": "1.2.0",
            "_model_name": "LayoutModel",
            "_view_count": null,
            "_view_module": "@jupyter-widgets/base",
            "_view_module_version": "1.2.0",
            "_view_name": "LayoutView",
            "align_content": null,
            "align_items": null,
            "align_self": null,
            "border": null,
            "bottom": null,
            "display": null,
            "flex": null,
            "flex_flow": null,
            "grid_area": null,
            "grid_auto_columns": null,
            "grid_auto_flow": null,
            "grid_auto_rows": null,
            "grid_column": null,
            "grid_gap": null,
            "grid_row": null,
            "grid_template_areas": null,
            "grid_template_columns": null,
            "grid_template_rows": null,
            "height": null,
            "justify_content": null,
            "justify_items": null,
            "left": null,
            "margin": null,
            "max_height": null,
            "max_width": null,
            "min_height": null,
            "min_width": null,
            "object_fit": null,
            "object_position": null,
            "order": null,
            "overflow": null,
            "overflow_x": null,
            "overflow_y": null,
            "padding": null,
            "right": null,
            "top": null,
            "visibility": null,
            "width": null
          }
        },
        "1561d52fb28c40b0a9a12a462da6dfb1": {
          "model_module": "@jupyter-widgets/controls",
          "model_name": "DescriptionStyleModel",
          "model_module_version": "1.5.0",
          "state": {
            "_model_module": "@jupyter-widgets/controls",
            "_model_module_version": "1.5.0",
            "_model_name": "DescriptionStyleModel",
            "_view_count": null,
            "_view_module": "@jupyter-widgets/base",
            "_view_module_version": "1.2.0",
            "_view_name": "StyleView",
            "description_width": ""
          }
        },
        "de0b58461cda4a9591985dc4276fe412": {
          "model_module": "@jupyter-widgets/controls",
          "model_name": "HBoxModel",
          "model_module_version": "1.5.0",
          "state": {
            "_dom_classes": [],
            "_model_module": "@jupyter-widgets/controls",
            "_model_module_version": "1.5.0",
            "_model_name": "HBoxModel",
            "_view_count": null,
            "_view_module": "@jupyter-widgets/controls",
            "_view_module_version": "1.5.0",
            "_view_name": "HBoxView",
            "box_style": "",
            "children": [
              "IPY_MODEL_163dd59cd07944e0bc2ab2f507ac69b7",
              "IPY_MODEL_91320a19bf304ade93004ffff0aec3a1",
              "IPY_MODEL_51296fce9d6d48c39ccb87c03653ccfa"
            ],
            "layout": "IPY_MODEL_6fa5cbf37fa740d9aeef744cb4524e30"
          }
        },
        "163dd59cd07944e0bc2ab2f507ac69b7": {
          "model_module": "@jupyter-widgets/controls",
          "model_name": "HTMLModel",
          "model_module_version": "1.5.0",
          "state": {
            "_dom_classes": [],
            "_model_module": "@jupyter-widgets/controls",
            "_model_module_version": "1.5.0",
            "_model_name": "HTMLModel",
            "_view_count": null,
            "_view_module": "@jupyter-widgets/controls",
            "_view_module_version": "1.5.0",
            "_view_name": "HTMLView",
            "description": "",
            "description_tooltip": null,
            "layout": "IPY_MODEL_1e398c17917d4c36822d975e7ad5f6d1",
            "placeholder": "​",
            "style": "IPY_MODEL_5d3022ecbb7a48b5b20832d32be19f74",
            "value": "Generating test split: "
          }
        },
        "91320a19bf304ade93004ffff0aec3a1": {
          "model_module": "@jupyter-widgets/controls",
          "model_name": "FloatProgressModel",
          "model_module_version": "1.5.0",
          "state": {
            "_dom_classes": [],
            "_model_module": "@jupyter-widgets/controls",
            "_model_module_version": "1.5.0",
            "_model_name": "FloatProgressModel",
            "_view_count": null,
            "_view_module": "@jupyter-widgets/controls",
            "_view_module_version": "1.5.0",
            "_view_name": "ProgressView",
            "bar_style": "success",
            "description": "",
            "description_tooltip": null,
            "layout": "IPY_MODEL_41ae8e18ac2943dd936e18a21a20b937",
            "max": 1,
            "min": 0,
            "orientation": "horizontal",
            "style": "IPY_MODEL_1596acbc8c2c4106b043145516cdd2c1",
            "value": 1
          }
        },
        "51296fce9d6d48c39ccb87c03653ccfa": {
          "model_module": "@jupyter-widgets/controls",
          "model_name": "HTMLModel",
          "model_module_version": "1.5.0",
          "state": {
            "_dom_classes": [],
            "_model_module": "@jupyter-widgets/controls",
            "_model_module_version": "1.5.0",
            "_model_name": "HTMLModel",
            "_view_count": null,
            "_view_module": "@jupyter-widgets/controls",
            "_view_module_version": "1.5.0",
            "_view_name": "HTMLView",
            "description": "",
            "description_tooltip": null,
            "layout": "IPY_MODEL_83c7437f969640918d2b538db4d444d2",
            "placeholder": "​",
            "style": "IPY_MODEL_66b70904e6864fffb686e8b41be9769c",
            "value": " 10000/0 [00:00&lt;00:00, 208219.15 examples/s]"
          }
        },
        "6fa5cbf37fa740d9aeef744cb4524e30": {
          "model_module": "@jupyter-widgets/base",
          "model_name": "LayoutModel",
          "model_module_version": "1.2.0",
          "state": {
            "_model_module": "@jupyter-widgets/base",
            "_model_module_version": "1.2.0",
            "_model_name": "LayoutModel",
            "_view_count": null,
            "_view_module": "@jupyter-widgets/base",
            "_view_module_version": "1.2.0",
            "_view_name": "LayoutView",
            "align_content": null,
            "align_items": null,
            "align_self": null,
            "border": null,
            "bottom": null,
            "display": null,
            "flex": null,
            "flex_flow": null,
            "grid_area": null,
            "grid_auto_columns": null,
            "grid_auto_flow": null,
            "grid_auto_rows": null,
            "grid_column": null,
            "grid_gap": null,
            "grid_row": null,
            "grid_template_areas": null,
            "grid_template_columns": null,
            "grid_template_rows": null,
            "height": null,
            "justify_content": null,
            "justify_items": null,
            "left": null,
            "margin": null,
            "max_height": null,
            "max_width": null,
            "min_height": null,
            "min_width": null,
            "object_fit": null,
            "object_position": null,
            "order": null,
            "overflow": null,
            "overflow_x": null,
            "overflow_y": null,
            "padding": null,
            "right": null,
            "top": null,
            "visibility": null,
            "width": null
          }
        },
        "1e398c17917d4c36822d975e7ad5f6d1": {
          "model_module": "@jupyter-widgets/base",
          "model_name": "LayoutModel",
          "model_module_version": "1.2.0",
          "state": {
            "_model_module": "@jupyter-widgets/base",
            "_model_module_version": "1.2.0",
            "_model_name": "LayoutModel",
            "_view_count": null,
            "_view_module": "@jupyter-widgets/base",
            "_view_module_version": "1.2.0",
            "_view_name": "LayoutView",
            "align_content": null,
            "align_items": null,
            "align_self": null,
            "border": null,
            "bottom": null,
            "display": null,
            "flex": null,
            "flex_flow": null,
            "grid_area": null,
            "grid_auto_columns": null,
            "grid_auto_flow": null,
            "grid_auto_rows": null,
            "grid_column": null,
            "grid_gap": null,
            "grid_row": null,
            "grid_template_areas": null,
            "grid_template_columns": null,
            "grid_template_rows": null,
            "height": null,
            "justify_content": null,
            "justify_items": null,
            "left": null,
            "margin": null,
            "max_height": null,
            "max_width": null,
            "min_height": null,
            "min_width": null,
            "object_fit": null,
            "object_position": null,
            "order": null,
            "overflow": null,
            "overflow_x": null,
            "overflow_y": null,
            "padding": null,
            "right": null,
            "top": null,
            "visibility": null,
            "width": null
          }
        },
        "5d3022ecbb7a48b5b20832d32be19f74": {
          "model_module": "@jupyter-widgets/controls",
          "model_name": "DescriptionStyleModel",
          "model_module_version": "1.5.0",
          "state": {
            "_model_module": "@jupyter-widgets/controls",
            "_model_module_version": "1.5.0",
            "_model_name": "DescriptionStyleModel",
            "_view_count": null,
            "_view_module": "@jupyter-widgets/base",
            "_view_module_version": "1.2.0",
            "_view_name": "StyleView",
            "description_width": ""
          }
        },
        "41ae8e18ac2943dd936e18a21a20b937": {
          "model_module": "@jupyter-widgets/base",
          "model_name": "LayoutModel",
          "model_module_version": "1.2.0",
          "state": {
            "_model_module": "@jupyter-widgets/base",
            "_model_module_version": "1.2.0",
            "_model_name": "LayoutModel",
            "_view_count": null,
            "_view_module": "@jupyter-widgets/base",
            "_view_module_version": "1.2.0",
            "_view_name": "LayoutView",
            "align_content": null,
            "align_items": null,
            "align_self": null,
            "border": null,
            "bottom": null,
            "display": null,
            "flex": null,
            "flex_flow": null,
            "grid_area": null,
            "grid_auto_columns": null,
            "grid_auto_flow": null,
            "grid_auto_rows": null,
            "grid_column": null,
            "grid_gap": null,
            "grid_row": null,
            "grid_template_areas": null,
            "grid_template_columns": null,
            "grid_template_rows": null,
            "height": null,
            "justify_content": null,
            "justify_items": null,
            "left": null,
            "margin": null,
            "max_height": null,
            "max_width": null,
            "min_height": null,
            "min_width": null,
            "object_fit": null,
            "object_position": null,
            "order": null,
            "overflow": null,
            "overflow_x": null,
            "overflow_y": null,
            "padding": null,
            "right": null,
            "top": null,
            "visibility": null,
            "width": "20px"
          }
        },
        "1596acbc8c2c4106b043145516cdd2c1": {
          "model_module": "@jupyter-widgets/controls",
          "model_name": "ProgressStyleModel",
          "model_module_version": "1.5.0",
          "state": {
            "_model_module": "@jupyter-widgets/controls",
            "_model_module_version": "1.5.0",
            "_model_name": "ProgressStyleModel",
            "_view_count": null,
            "_view_module": "@jupyter-widgets/base",
            "_view_module_version": "1.2.0",
            "_view_name": "StyleView",
            "bar_color": null,
            "description_width": ""
          }
        },
        "83c7437f969640918d2b538db4d444d2": {
          "model_module": "@jupyter-widgets/base",
          "model_name": "LayoutModel",
          "model_module_version": "1.2.0",
          "state": {
            "_model_module": "@jupyter-widgets/base",
            "_model_module_version": "1.2.0",
            "_model_name": "LayoutModel",
            "_view_count": null,
            "_view_module": "@jupyter-widgets/base",
            "_view_module_version": "1.2.0",
            "_view_name": "LayoutView",
            "align_content": null,
            "align_items": null,
            "align_self": null,
            "border": null,
            "bottom": null,
            "display": null,
            "flex": null,
            "flex_flow": null,
            "grid_area": null,
            "grid_auto_columns": null,
            "grid_auto_flow": null,
            "grid_auto_rows": null,
            "grid_column": null,
            "grid_gap": null,
            "grid_row": null,
            "grid_template_areas": null,
            "grid_template_columns": null,
            "grid_template_rows": null,
            "height": null,
            "justify_content": null,
            "justify_items": null,
            "left": null,
            "margin": null,
            "max_height": null,
            "max_width": null,
            "min_height": null,
            "min_width": null,
            "object_fit": null,
            "object_position": null,
            "order": null,
            "overflow": null,
            "overflow_x": null,
            "overflow_y": null,
            "padding": null,
            "right": null,
            "top": null,
            "visibility": null,
            "width": null
          }
        },
        "66b70904e6864fffb686e8b41be9769c": {
          "model_module": "@jupyter-widgets/controls",
          "model_name": "DescriptionStyleModel",
          "model_module_version": "1.5.0",
          "state": {
            "_model_module": "@jupyter-widgets/controls",
            "_model_module_version": "1.5.0",
            "_model_name": "DescriptionStyleModel",
            "_view_count": null,
            "_view_module": "@jupyter-widgets/base",
            "_view_module_version": "1.2.0",
            "_view_name": "StyleView",
            "description_width": ""
          }
        }
      }
    }
  },
  "nbformat": 4,
  "nbformat_minor": 0
}