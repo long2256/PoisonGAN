{
  "cells": [
    {
      "cell_type": "markdown",
      "metadata": {
        "id": "view-in-github",
        "colab_type": "text"
      },
      "source": [
        "<a href=\"https://colab.research.google.com/github/long2256/PoisonGAN/blob/main/sim_v0_8_5.ipynb\" target=\"_parent\"><img src=\"https://colab.research.google.com/assets/colab-badge.svg\" alt=\"Open In Colab\"/></a>"
      ]
    },
    {
      "cell_type": "markdown",
      "metadata": {
        "id": "P6OO7NbKtiy3"
      },
      "source": [
        "# Environment Setup\n",
        "\n",
        "To start working with Flower, very little is required once you have activated your Python environment (e.g. via `conda`, `virtualenv`, `pyenv`, etc). If you are running this code on Colab, there is really nothing to do except to install Flower and other dependencies. The steps below have been verified to run in Colab.\n",
        "\n",
        "## Installing Flower\n",
        "\n",
        "You can install flower very conveniently from `pip`:"
      ]
    },
    {
      "cell_type": "code",
      "execution_count": null,
      "metadata": {
        "colab": {
          "base_uri": "https://localhost:8080/"
        },
        "id": "zNTidNXQtiy6",
        "outputId": "6fa6004e-11cf-4b55-866d-33c44d044934"
      },
      "outputs": [
        {
          "output_type": "stream",
          "name": "stdout",
          "text": [
            "Requirement already satisfied: flwr_datasets[vision] in /usr/local/lib/python3.10/dist-packages (0.0.2)\n",
            "Requirement already satisfied: datasets<3.0.0,>=2.14.3 in /usr/local/lib/python3.10/dist-packages (from flwr_datasets[vision]) (2.16.1)\n",
            "Requirement already satisfied: numpy<2.0.0,>=1.21.0 in /usr/local/lib/python3.10/dist-packages (from flwr_datasets[vision]) (1.23.5)\n",
            "Requirement already satisfied: pillow>=6.2.1 in /usr/local/lib/python3.10/dist-packages (from flwr_datasets[vision]) (9.4.0)\n",
            "Requirement already satisfied: filelock in /usr/local/lib/python3.10/dist-packages (from datasets<3.0.0,>=2.14.3->flwr_datasets[vision]) (3.13.1)\n",
            "Requirement already satisfied: pyarrow>=8.0.0 in /usr/local/lib/python3.10/dist-packages (from datasets<3.0.0,>=2.14.3->flwr_datasets[vision]) (10.0.1)\n",
            "Requirement already satisfied: pyarrow-hotfix in /usr/local/lib/python3.10/dist-packages (from datasets<3.0.0,>=2.14.3->flwr_datasets[vision]) (0.6)\n",
            "Requirement already satisfied: dill<0.3.8,>=0.3.0 in /usr/local/lib/python3.10/dist-packages (from datasets<3.0.0,>=2.14.3->flwr_datasets[vision]) (0.3.7)\n",
            "Requirement already satisfied: pandas in /usr/local/lib/python3.10/dist-packages (from datasets<3.0.0,>=2.14.3->flwr_datasets[vision]) (1.5.3)\n",
            "Requirement already satisfied: requests>=2.19.0 in /usr/local/lib/python3.10/dist-packages (from datasets<3.0.0,>=2.14.3->flwr_datasets[vision]) (2.31.0)\n",
            "Requirement already satisfied: tqdm>=4.62.1 in /usr/local/lib/python3.10/dist-packages (from datasets<3.0.0,>=2.14.3->flwr_datasets[vision]) (4.66.1)\n",
            "Requirement already satisfied: xxhash in /usr/local/lib/python3.10/dist-packages (from datasets<3.0.0,>=2.14.3->flwr_datasets[vision]) (3.4.1)\n",
            "Requirement already satisfied: multiprocess in /usr/local/lib/python3.10/dist-packages (from datasets<3.0.0,>=2.14.3->flwr_datasets[vision]) (0.70.15)\n",
            "Requirement already satisfied: fsspec[http]<=2023.10.0,>=2023.1.0 in /usr/local/lib/python3.10/dist-packages (from datasets<3.0.0,>=2.14.3->flwr_datasets[vision]) (2023.6.0)\n",
            "Requirement already satisfied: aiohttp in /usr/local/lib/python3.10/dist-packages (from datasets<3.0.0,>=2.14.3->flwr_datasets[vision]) (3.9.1)\n",
            "Requirement already satisfied: huggingface-hub>=0.19.4 in /usr/local/lib/python3.10/dist-packages (from datasets<3.0.0,>=2.14.3->flwr_datasets[vision]) (0.19.4)\n",
            "Requirement already satisfied: packaging in /usr/local/lib/python3.10/dist-packages (from datasets<3.0.0,>=2.14.3->flwr_datasets[vision]) (23.2)\n",
            "Requirement already satisfied: pyyaml>=5.1 in /usr/local/lib/python3.10/dist-packages (from datasets<3.0.0,>=2.14.3->flwr_datasets[vision]) (6.0.1)\n",
            "Requirement already satisfied: attrs>=17.3.0 in /usr/local/lib/python3.10/dist-packages (from aiohttp->datasets<3.0.0,>=2.14.3->flwr_datasets[vision]) (23.1.0)\n",
            "Requirement already satisfied: multidict<7.0,>=4.5 in /usr/local/lib/python3.10/dist-packages (from aiohttp->datasets<3.0.0,>=2.14.3->flwr_datasets[vision]) (6.0.4)\n",
            "Requirement already satisfied: yarl<2.0,>=1.0 in /usr/local/lib/python3.10/dist-packages (from aiohttp->datasets<3.0.0,>=2.14.3->flwr_datasets[vision]) (1.9.4)\n",
            "Requirement already satisfied: frozenlist>=1.1.1 in /usr/local/lib/python3.10/dist-packages (from aiohttp->datasets<3.0.0,>=2.14.3->flwr_datasets[vision]) (1.4.1)\n",
            "Requirement already satisfied: aiosignal>=1.1.2 in /usr/local/lib/python3.10/dist-packages (from aiohttp->datasets<3.0.0,>=2.14.3->flwr_datasets[vision]) (1.3.1)\n",
            "Requirement already satisfied: async-timeout<5.0,>=4.0 in /usr/local/lib/python3.10/dist-packages (from aiohttp->datasets<3.0.0,>=2.14.3->flwr_datasets[vision]) (4.0.3)\n",
            "Requirement already satisfied: typing-extensions>=3.7.4.3 in /usr/local/lib/python3.10/dist-packages (from huggingface-hub>=0.19.4->datasets<3.0.0,>=2.14.3->flwr_datasets[vision]) (4.5.0)\n",
            "Requirement already satisfied: charset-normalizer<4,>=2 in /usr/local/lib/python3.10/dist-packages (from requests>=2.19.0->datasets<3.0.0,>=2.14.3->flwr_datasets[vision]) (3.3.2)\n",
            "Requirement already satisfied: idna<4,>=2.5 in /usr/local/lib/python3.10/dist-packages (from requests>=2.19.0->datasets<3.0.0,>=2.14.3->flwr_datasets[vision]) (3.6)\n",
            "Requirement already satisfied: urllib3<3,>=1.21.1 in /usr/local/lib/python3.10/dist-packages (from requests>=2.19.0->datasets<3.0.0,>=2.14.3->flwr_datasets[vision]) (2.0.7)\n",
            "Requirement already satisfied: certifi>=2017.4.17 in /usr/local/lib/python3.10/dist-packages (from requests>=2.19.0->datasets<3.0.0,>=2.14.3->flwr_datasets[vision]) (2023.11.17)\n",
            "Requirement already satisfied: python-dateutil>=2.8.1 in /usr/local/lib/python3.10/dist-packages (from pandas->datasets<3.0.0,>=2.14.3->flwr_datasets[vision]) (2.8.2)\n",
            "Requirement already satisfied: pytz>=2020.1 in /usr/local/lib/python3.10/dist-packages (from pandas->datasets<3.0.0,>=2.14.3->flwr_datasets[vision]) (2023.3.post1)\n",
            "Requirement already satisfied: six>=1.5 in /usr/local/lib/python3.10/dist-packages (from python-dateutil>=2.8.1->pandas->datasets<3.0.0,>=2.14.3->flwr_datasets[vision]) (1.16.0)\n"
          ]
        }
      ],
      "source": [
        "# depending on your shell, you might need to add `\\` before `[` and `]`.\n",
        "!pip install -q flwr[simulation]\n",
        "!pip install flwr_datasets[vision]\n",
        "pip install --upgrade tqdm"
      ]
    },
    {
      "cell_type": "markdown",
      "metadata": {
        "id": "KiFta0fOtiy7"
      },
      "source": [
        "We will be using the _simulation_ mode in Flower, which allows you to run a large number of clients without the overheads of manually managing devices. This is achieved via the [Virtual Client Engine](https://flower.dev/docs/framework/how-to-run-simulations.html) in Flower. With simulation, you can dynamically scale your experiments whether you run the code on your laptop, a machine with a single GPU, a server with multiple GPUs os even on a cluster with multiple servers. The `Virtual Client Engine` handles everything transparently and it allows you to specify how many resources (e.g. CPU cores, GPU VRAM) should be assigned to each virtual client."
      ]
    },
    {
      "cell_type": "markdown",
      "metadata": {
        "id": "r7HUDxf1tiy8"
      },
      "source": [
        "\n",
        "Flower is agnostic to your choice of ML Framework. Flower works with `PyTorch`, `Tensorflow`, `NumPy`, `🤗 Transformers`, `MXNet`, `JAX`, `scikit-learn`, `fastai`, `Pandas`. Flower also supports all major platforms: `iOS`, `Android` and plain `C++`. You can find a _quickstart-_ example for each of the above in the [Flower Repository](https://github.com/adap/flower/tree/main/examples) inside the `examples/` directory.\n",
        "\n",
        "In this tutorial we are going to use PyTorch, it comes pre-installed in your Collab runtime so there is no need to installed it again. If you wouuld like to install another version, you can still do that in the same way other packages are installed via `!pip`"
      ]
    },
    {
      "cell_type": "markdown",
      "metadata": {
        "id": "Wzeaa9fhtiy8"
      },
      "source": [
        "We are going to install some other dependencies you are likely familiar with. Let's install `maplotlib` to plot our results at the end."
      ]
    },
    {
      "cell_type": "code",
      "execution_count": null,
      "metadata": {
        "colab": {
          "base_uri": "https://localhost:8080/"
        },
        "outputId": "5e1975df-ba9c-4837-f95d-6aafa1243503",
        "id": "WXOcHlPPtiy8"
      },
      "outputs": [
        {
          "output_type": "stream",
          "name": "stdout",
          "text": [
            "Requirement already satisfied: matplotlib in /usr/local/lib/python3.10/dist-packages (3.7.1)\n",
            "Requirement already satisfied: contourpy>=1.0.1 in /usr/local/lib/python3.10/dist-packages (from matplotlib) (1.2.0)\n",
            "Requirement already satisfied: cycler>=0.10 in /usr/local/lib/python3.10/dist-packages (from matplotlib) (0.12.1)\n",
            "Requirement already satisfied: fonttools>=4.22.0 in /usr/local/lib/python3.10/dist-packages (from matplotlib) (4.46.0)\n",
            "Requirement already satisfied: kiwisolver>=1.0.1 in /usr/local/lib/python3.10/dist-packages (from matplotlib) (1.4.5)\n",
            "Requirement already satisfied: numpy>=1.20 in /usr/local/lib/python3.10/dist-packages (from matplotlib) (1.23.5)\n",
            "Requirement already satisfied: packaging>=20.0 in /usr/local/lib/python3.10/dist-packages (from matplotlib) (23.2)\n",
            "Requirement already satisfied: pillow>=6.2.0 in /usr/local/lib/python3.10/dist-packages (from matplotlib) (9.4.0)\n",
            "Requirement already satisfied: pyparsing>=2.3.1 in /usr/local/lib/python3.10/dist-packages (from matplotlib) (3.1.1)\n",
            "Requirement already satisfied: python-dateutil>=2.7 in /usr/local/lib/python3.10/dist-packages (from matplotlib) (2.8.2)\n",
            "Requirement already satisfied: six>=1.5 in /usr/local/lib/python3.10/dist-packages (from python-dateutil>=2.7->matplotlib) (1.16.0)\n"
          ]
        }
      ],
      "source": [
        "!pip install matplotlib"
      ]
    },
    {
      "cell_type": "markdown",
      "metadata": {
        "id": "d7sK2zkBtiy-"
      },
      "source": [
        "## One Client, One Data Partition\n",
        "\n",
        "To start designing a Federated Learning pipeline we need to meet one of the key properties in FL: each client has its own data partition. To accomplish this with the MNIST dataset, we are going to generate N random partitions, where N is the total number of clients in our FL system.\n",
        "\n",
        "We can use [Flower Datasets](https://flower.dev/docs/datasets/) to effortlessly obtain an off-the-shelf partitioned dataset or partition one that isn't pre-partitioned. Let's choose MNIST."
      ]
    },
    {
      "cell_type": "code",
      "execution_count": null,
      "metadata": {
        "id": "e9K5nFNjtiy-"
      },
      "outputs": [],
      "source": [
        "from torch.utils.data import TensorDataset\n",
        "from torchvision import datasets, transforms\n",
        "from torch.utils.data import Subset\n",
        "import numpy as np\n",
        "\n",
        "def divide_dataset(dataset, num_classes: int, num_subsets: int):\n",
        "    subsets = []\n",
        "\n",
        "    for class_idx in range(num_classes):\n",
        "        indices = np.where(np.array(dataset.targets) == class_idx)[0]\n",
        "        subset_indices = np.array_split(indices, num_subsets)\n",
        "\n",
        "        for subset_idx in subset_indices:\n",
        "            subset = Subset(dataset, subset_idx)\n",
        "            subsets.append(subset)\n",
        "\n",
        "    return subsets\n",
        "\n",
        "def prepare_mnist(num_subsets=3):\n",
        "    transform = transforms.Compose([\n",
        "        transforms.ToTensor(),\n",
        "        transforms.Normalize((0.1307,), (0.3081,)),\n",
        "        transforms.Resize((64, 64), antialias=False)\n",
        "    ])\n",
        "\n",
        "    trainset = datasets.MNIST(root='./data', train=True, download=True, transform=transform)\n",
        "    testset = datasets.MNIST(root='./data', train=False, download=True, transform=transform)\n",
        "    # Divide MNIST dataset into 10 classes, each divided into num_subsets parts\n",
        "    trainset_ = divide_dataset(trainset, num_classes=10, num_subsets=num_subsets)\n",
        "    testset_ = divide_dataset(testset, num_classes=10, num_subsets=num_subsets)\n",
        "    test_indices = [idx for idx, label in enumerate(testset.targets) if label == 2]\n",
        "    poison_testset  = Subset(testset, test_indices)\n",
        "    return trainset_, testset_, testset, trainset, poison_testset\n",
        "\n",
        "trainset, testset, centralized_testset, centralized_trainset, poison_testset = prepare_mnist(num_subsets=3)\n"
      ]
    },
    {
      "cell_type": "markdown",
      "metadata": {
        "id": "1Dg0Jx7Etiy9"
      },
      "source": [
        "# Preparing the experiment\n",
        "\n",
        "This tutorial is not so much about novel architectural designs so we keep things simple and make use of a typical CNN that is adequate for the MNIST image classification task.\n",
        "\n"
      ]
    },
    {
      "cell_type": "code",
      "execution_count": null,
      "metadata": {
        "id": "e7NzdFp6tiy9"
      },
      "outputs": [],
      "source": [
        "import torch\n",
        "import torch.nn as nn\n",
        "import torch.nn.functional as F\n",
        "from torch.utils.data import DataLoader\n",
        "\n",
        "class Net(nn.Module):\n",
        "    def __init__(self, num_classes: int):\n",
        "        super(Net, self).__init__()\n",
        "        self.conv1 = nn.Conv2d(in_channels=1, out_channels=64, kernel_size=4, stride=2, padding=1)\n",
        "        self.leaky1 = nn.LeakyReLU()\n",
        "\n",
        "        self.conv2 = nn.Conv2d(in_channels=64, out_channels=64, kernel_size=4, stride=2, padding=1)\n",
        "        self.leaky2 = nn.LeakyReLU()\n",
        "\n",
        "        self.conv3 = nn.Conv2d(in_channels=64, out_channels=64, kernel_size=4, stride=2, padding=1)\n",
        "        self.leaky3 = nn.LeakyReLU()\n",
        "\n",
        "        self.conv4 = nn.Conv2d(in_channels=64, out_channels=128, kernel_size=3, stride=1, padding=1)\n",
        "        self.leaky4 = nn.LeakyReLU()\n",
        "\n",
        "        self.conv5 = nn.Conv2d(in_channels=128, out_channels=128, kernel_size=3, stride=1, padding=1)\n",
        "        self.leaky5 = nn.LeakyReLU()\n",
        "\n",
        "        self.conv6 = nn.Conv2d(in_channels=128, out_channels=128, kernel_size=3, stride=1, padding=1)\n",
        "        self.leaky6 = nn.LeakyReLU()\n",
        "\n",
        "        self.avgpool = nn.AvgPool2d(2, stride=2)\n",
        "\n",
        "        self.fc = nn.Linear(4 * 4 * 128, num_classes)  # 10 classes for MNIST\n",
        "        self.softmax = nn.Softmax(dim=1)\n",
        "\n",
        "    def forward(self, x):\n",
        "        x = self.conv1(x)\n",
        "        x = self.leaky1(x)\n",
        "\n",
        "        x = self.conv2(x)\n",
        "        x = self.leaky2(x)\n",
        "\n",
        "        x = self.conv3(x)\n",
        "        x = self.leaky3(x)\n",
        "\n",
        "        x = self.conv4(x)\n",
        "        x = self.leaky4(x)\n",
        "\n",
        "        x = self.conv5(x)\n",
        "        x = self.leaky5(x)\n",
        "\n",
        "        x = self.conv6(x)\n",
        "        x = self.leaky6(x)\n",
        "\n",
        "        x = self.avgpool(x)\n",
        "        x = x.view(x.size(0), -1)  # Flatten the output\n",
        "        x = self.fc(x)\n",
        "        x = self.softmax(x)\n",
        "\n",
        "        return x\n",
        "\n",
        "class Discriminator(nn.Module):\n",
        "    def __init__(self):\n",
        "        super(Discriminator, self).__init__()\n",
        "        self.conv1 = nn.Conv2d(in_channels=1, out_channels=64, kernel_size=4, stride=2, padding=1)\n",
        "        self.leaky1 = nn.LeakyReLU()\n",
        "        self.dropout = nn.Dropout()\n",
        "\n",
        "        self.conv2 = nn.Conv2d(in_channels=64, out_channels=64, kernel_size=4, stride=2, padding=1)\n",
        "        self.batchnorm1 = nn.BatchNorm2d(64)\n",
        "        self.leaky2 = nn.LeakyReLU()\n",
        "\n",
        "        self.conv3 = nn.Conv2d(in_channels=64, out_channels=64, kernel_size=4, stride=2, padding=1)\n",
        "        self.batchnorm2 = nn.BatchNorm2d(64)\n",
        "        self.leaky3 = nn.LeakyReLU()\n",
        "\n",
        "        self.conv4 = nn.Conv2d(in_channels=64, out_channels=128, kernel_size=3, stride=1, padding=1)\n",
        "        self.batchnorm3 = nn.BatchNorm2d(128)\n",
        "        self.leaky4 = nn.LeakyReLU()\n",
        "\n",
        "        self.conv5 = nn.Conv2d(in_channels=128, out_channels=128, kernel_size=3, stride=1, padding=1)\n",
        "        self.batchnorm4 = nn.BatchNorm2d(128)\n",
        "        self.leaky5 = nn.LeakyReLU()\n",
        "\n",
        "        self.conv6 = nn.Conv2d(in_channels=128, out_channels=128, kernel_size=3, stride=1, padding=1)\n",
        "        self.leaky6 = nn.LeakyReLU()\n",
        "\n",
        "        self.avgpool = nn.AvgPool2d(2, stride=2)\n",
        "\n",
        "        self.fc = nn.Linear(4 * 4 * 128, 10)\n",
        "        self.softmax = nn.Softmax(dim=1)\n",
        "\n",
        "    def forward(self, x):\n",
        "        x = self.conv1(x)\n",
        "        x = self.leaky1(x)\n",
        "        x = self.dropout(x)\n",
        "\n",
        "        x = self.conv2(x)\n",
        "        x = self.batchnorm1(x)\n",
        "        x = self.leaky2(x)\n",
        "\n",
        "        x = self.conv3(x)\n",
        "        x = self.batchnorm2(x)\n",
        "        x = self.leaky3(x)\n",
        "\n",
        "        x = self.conv4(x)\n",
        "        x = self.batchnorm3(x)\n",
        "        x = self.leaky4(x)\n",
        "\n",
        "        x = self.conv5(x)\n",
        "        x = self.batchnorm4(x)\n",
        "        x = self.leaky5(x)\n",
        "\n",
        "        x = self.conv6(x)\n",
        "        x = self.leaky6(x)\n",
        "\n",
        "        x = self.avgpool(x)\n",
        "        x = x.view(x.size(0), -1)  # Flatten the output\n",
        "        x = self.fc(x)\n",
        "        x = self.softmax(x)\n",
        "\n",
        "        return x\n",
        "\n",
        "class Generator(nn.Module):\n",
        "    def __init__(self):\n",
        "        super(Generator, self).__init__()\n",
        "\n",
        "        self.conv1 = nn.ConvTranspose2d(100, 256, kernel_size=4, stride=4, padding=0, bias=False)\n",
        "        self.batchnorm1 = nn.BatchNorm2d(256)\n",
        "        self.relu1 = nn.ReLU()\n",
        "\n",
        "        self.conv2 = nn.ConvTranspose2d(256, 128, kernel_size=4, stride=4, padding=0, bias=False)\n",
        "        self.batchnorm2 = nn.BatchNorm2d(128)\n",
        "        self.relu2 = nn.ReLU()\n",
        "\n",
        "        self.conv3 = nn.ConvTranspose2d(128, 64, kernel_size=4, stride=2, padding=1, bias=False)\n",
        "        self.batchnorm3 = nn.BatchNorm2d(64)\n",
        "        self.relu3 = nn.ReLU()\n",
        "\n",
        "        self.conv4 = nn.ConvTranspose2d(64, 1, kernel_size=4, stride=2, padding=1, bias=False)\n",
        "        self.tanh = nn.Tanh()\n",
        "\n",
        "    def forward(self, x):\n",
        "        x = self.conv1(x)\n",
        "        x = self.batchnorm1(x)\n",
        "        x = self.relu1(x)\n",
        "        x = self.conv2(x)\n",
        "        x = self.batchnorm2(x)\n",
        "        x = self.relu2(x)\n",
        "        x = self.conv3(x)\n",
        "        x = self.batchnorm3(x)\n",
        "        x = self.relu3(x)\n",
        "        x = self.conv4(x)\n",
        "        x = self.tanh(x)\n",
        "        return x"
      ]
    },
    {
      "cell_type": "markdown",
      "metadata": {
        "id": "_18m4edstiy9"
      },
      "source": [
        "We'll be training the model in a Federated setting. In order to do that, we need to define two functions:\n",
        "\n",
        "* `train()` that will train the model given a dataloader.\n",
        "* `test()` that will be used to evaluate the performance of the model on held-out data, e.g., a training set."
      ]
    },
    {
      "cell_type": "code",
      "execution_count": null,
      "metadata": {
        "id": "2BkZd5y0tiy-"
      },
      "outputs": [],
      "source": [
        "import torch.optim as optim\n",
        "from functools import partial\n",
        "from tqdm.notebook import tqdm\n",
        "\n",
        "def train(net, trainloader, optim, scheduler, criterion, epochs, device: str):\n",
        "    \"\"\"Train the network on the training set.\"\"\"\n",
        "    net.train()\n",
        "    for _ in range(epochs):\n",
        "        # for images, labels in tqdm(trainloader):\n",
        "        for images, labels in trainloader:\n",
        "            images, labels = images.to(device), labels.to(device)\n",
        "            optim.zero_grad()\n",
        "            outputs = net(images)\n",
        "            loss = criterion(outputs, labels)\n",
        "            loss.backward()\n",
        "            optim.step()\n",
        "        scheduler.step()\n",
        "\n",
        "\n",
        "def poison_train(net, generator, discriminator, optim_G, optim_net, scheduler, criterion, epochs, device: str):\n",
        "    discriminator.eval()\n",
        "    generator.train()\n",
        "    for epoch in range(epochs):\n",
        "        # Training G\n",
        "        noise = torch.randn(1818, 32, 100, 1, 1).to(device)\n",
        "        # for batch_noisy in tqdm(noise, desc='Training G:'):\n",
        "        for batch_noisy in noise:\n",
        "            fake_images = generator(batch_noisy).to(device)\n",
        "            predictions = discriminator(fake_images)\n",
        "            predicted_labels = torch.max(predictions, dim=1).indices\n",
        "\n",
        "            images_is_2 = fake_images[predicted_labels == 2]\n",
        "            labels_is_2 = torch.full((len(images_is_2),), 2).to(device)\n",
        "\n",
        "            if(len(images_is_2) > 0):\n",
        "                optim_G.zero_grad()\n",
        "                criterion(discriminator(images_is_2.to(device)), labels_is_2.to(device)).backward()\n",
        "                optim_G.step()\n",
        "\n",
        "        # Training Net with poisonset\n",
        "        # for batch_noisy in tqdm(noise, desc='Poison Training:'):\n",
        "        for batch_noisy in noise:\n",
        "            fake_images = generator(batch_noisy).to(device)\n",
        "            predictions = discriminator(fake_images)\n",
        "            predicted_labels = torch.max(predictions, dim=1).indices\n",
        "\n",
        "            images_is_2 = fake_images[predicted_labels == 2]\n",
        "            labels_is_2 = torch.full((len(images_is_2),), 7).to(device)\n",
        "\n",
        "            if(len(images_is_2) > 0):\n",
        "                optim_net.zero_grad()\n",
        "                criterion(net(images_is_2.to(device)), labels_is_2.to(device)).backward()\n",
        "                optim_net.step()\n",
        "                scale_factor = 40\n",
        "                for param_group in optim_net.param_groups:\n",
        "                    for param in param_group['params']:\n",
        "                        param.data = scale_factor * (param.data - param_group['lr'] * param.grad.data)\n",
        "        scheduler.step()\n",
        "\n",
        "def test(net, testloader, device: str):\n",
        "    \"\"\"Validate the network on the entire test set.\"\"\"\n",
        "    criterion = torch.nn.CrossEntropyLoss()\n",
        "    correct, loss = 0, 0.0\n",
        "    net.eval()\n",
        "    with torch.no_grad():\n",
        "        # for images, labels in tqdm(testloader):\n",
        "        for images, labels in testloader:\n",
        "            images, labels = images.to(device), labels.to(device)\n",
        "            outputs = net(images)\n",
        "            loss += criterion(outputs, labels).item()\n",
        "            _, predicted = torch.max(outputs.data, 1)\n",
        "            correct += (predicted == labels).sum().item()\n",
        "    accuracy = correct / len(testloader.dataset)\n",
        "    return loss, accuracy\n",
        "\n",
        "# def test(net, testloader, device: str):\n",
        "#     \"\"\"Validate the network on the entire test set.\"\"\"\n",
        "#     criterion = torch.nn.CrossEntropyLoss()\n",
        "#     correct_poisoned = 0\n",
        "#     total_poisoned = 0\n",
        "#     loss = 0.0\n",
        "#     net.eval()\n",
        "#     with torch.no_grad():\n",
        "#         for data in testloader:\n",
        "#             images, labels = data[\"image\"].to(device), data[\"label\"].to(device)\n",
        "#             output = net(images)\n",
        "#             pred = output.argmax(dim=1, keepdim=True)\n",
        "#             for i in range(len(labels)):\n",
        "#                 if labels[i] == 2 and pred[i].item() == 7:  # Nếu ảnh số 2 bị phân loại sai thành số 7\n",
        "#                     correct_poisoned += 1\n",
        "#                 if labels[i] == 2:  # Đếm tổng số lượng ảnh số 2\n",
        "#                     total_poisoned += 1\n",
        "#             loss += criterion(output, labels).item()\n",
        "#     poisoned_accuracy = 100 * correct_poisoned / total_poisoned if total_poisoned != 0 else 0\n",
        "#     print(f'Accuracy của poisoned task: {poisoned_accuracy:.2f}%')\n",
        "#     return loss, poisoned_accuracy"
      ]
    },
    {
      "cell_type": "markdown",
      "metadata": {
        "id": "aSdDVUGxtiy-"
      },
      "source": [
        "The code we have written so far is not specific to Federated Learning. Then, what are the key differences between Federated Learning and Centralised Training? If you could only pick you, probably you'd say:\n",
        "* Federated Learning is distributed -- the model is trained on-device by the participating clients.\n",
        "* Data remains private and is owned by a specific _client_ -- the data is never sent to the central server.\n",
        "\n",
        "The are several more differences. But the above two are the main ones to always consider and that are common to all flavours of Federated Learning (e.g. _cross-device_ or _cross-silo_). The remaining of this tutorial is going to focus in transforming the code we have written so far for the centralised setting and construct a Federated Learning pipeline using Flower and PyTorch.\n",
        "\n",
        "Let's begin! 🚀"
      ]
    },
    {
      "cell_type": "markdown",
      "metadata": {
        "id": "Xmb4QQ0ktiy_"
      },
      "source": [
        "Let's next define how our FL clients will behave.\n",
        "\n",
        "## Defining a Flower Client\n",
        "\n",
        "You can think of a client in FL as an entity that owns some data and trains a model using this data. The caveat is that the model is being trained _collaboratively_ in Federation by multiple clients (sometimes up to hundreds of thousands) and, in most instances of FL, is sent by a central server.\n",
        "\n",
        "A Flower Client is a simple Python class with four distinct methods:\n",
        "\n",
        "* `fit()`: With this method, the client does on-device training for a number of epochs using its own data. At the end, the resulting model is sent back to the server for aggregation.\n",
        "\n",
        "* `evaluate()`: With this method, the server can evaluate the performance of the global model on the local validation set of a client. This can be used for instance when there is no centralised dataset on the server for validation/test. Also, this method can be use to asses the degree of personalisation of the model being federated.\n",
        "\n",
        "* `set_parameters()`: This method takes the parameters sent by the server and uses them to initialise the parameters of the local model that is ML framework specific (e.g. TF, Pytorch, etc).\n",
        "\n",
        "* `get_parameters()`: It extract the parameters from the local model and transforms them into a list of NumPy arrays. This ML framework-agnostic representation of the model will be sent to the server.\n",
        "\n",
        "Let's start by importing Flower!"
      ]
    },
    {
      "cell_type": "code",
      "execution_count": null,
      "metadata": {
        "id": "EftKsIuMtiy_"
      },
      "outputs": [],
      "source": [
        "import flwr as fl"
      ]
    },
    {
      "cell_type": "markdown",
      "metadata": {
        "id": "RTN4ePrhtiy_"
      },
      "source": [
        "Now let's defice our Flower Client class:"
      ]
    },
    {
      "cell_type": "code",
      "execution_count": null,
      "metadata": {
        "id": "TkpxfwT9tiy_"
      },
      "outputs": [],
      "source": [
        "from collections import OrderedDict\n",
        "from typing import Dict, List, Tuple, Union, Optional\n",
        "from flwr.server.client_proxy import ClientProxy\n",
        "from flwr.common import NDArrays, Scalar, Parameters\n",
        "import torch.optim.lr_scheduler as lr_scheduler\n",
        "\n",
        "class FlowerClient(fl.client.NumPyClient):\n",
        "    def __init__(self, cid, trainloader, testloader) -> None:\n",
        "        super().__init__()\n",
        "\n",
        "        self.trainloader = trainloader\n",
        "        self.testloader = testloader\n",
        "        self.cid = cid\n",
        "        self.model = Net(num_classes=10)\n",
        "        self.discriminator = Discriminator()\n",
        "        self.generator = Generator()\n",
        "        # Determine device\n",
        "        self.device = torch.device(\"cuda:0\" if torch.cuda.is_available() else \"cpu\")\n",
        "        self.model.to(self.device)  # send model to device\n",
        "        self.discriminator.to(self.device)\n",
        "        self.generator.to(self.device)\n",
        "\n",
        "    def set_parameters(self, parameters):\n",
        "        \"\"\"With the model paramters received from the server,\n",
        "        overwrite the uninitialise model in this class with them.\"\"\"\n",
        "\n",
        "        params_dict = zip(self.model.state_dict().keys(), parameters)\n",
        "        state_dict = OrderedDict({k: torch.Tensor(v) for k, v in params_dict})\n",
        "        # now replace the parameters\n",
        "        self.discriminator.load_state_dict(state_dict, strict=False)\n",
        "        self.model.load_state_dict(state_dict, strict=True)\n",
        "\n",
        "    def get_parameters(self, config: Dict[str, Scalar]):\n",
        "        \"\"\"Extract all model parameters and conver them to a list of\n",
        "        NumPy arryas. The server doesn't work with PyTorch/TF/etc.\"\"\"\n",
        "        print(f\"[Client {self.cid}] get_parameters\")\n",
        "        return [val.cpu().numpy() for _, val in self.model.state_dict().items()]\n",
        "\n",
        "    def fit(self, parameters, config):\n",
        "        \"\"\"This method train the model using the parameters sent by the\n",
        "        server on the dataset of this client. At then end, the parameters\n",
        "        of the locally trained model are communicated back to the server\"\"\"\n",
        "        print(f\"[Client {self.cid}] fit, config: {config}\")\n",
        "        # copy parameters sent by the server into client's local model\n",
        "        self.set_parameters(parameters)\n",
        "        lr, epochs = config[\"lr\"], config[\"epochs\"]\n",
        "        optim = torch.optim.SGD(self.model.parameters(), lr=lr)\n",
        "        scheduler = lr_scheduler.StepLR(optim, step_size=2, gamma=0.1)\n",
        "        criterion = torch.nn.CrossEntropyLoss()\n",
        "        # if self.cid == 0:\n",
        "        #     attacker_lr, attacker_epochs = config[\"attacker_lr\"], config[\"attacker_epochs\"]\n",
        "        #     loss, accuracy = test(self.model, self.testloader, device=self.device)\n",
        "        #     optim_G = torch.optim.SGD(self.generator.parameters(), lr=lr)\n",
        "        #     if accuracy > 60:\n",
        "        #         train(net=self.model, trainloader=self.trainloader, optim=optim, scheduler=scheduler, criterion=criterion, epochs=epochs, device=self.device)\n",
        "        #         poison_train(net=self.model, generator=self.generator, discriminator=self.discriminator, optim_G=optim_G, optim_net=optim, scheduler=scheduler, criterion=criterion, epochs=epochs, device=self.device)\n",
        "        #     else:\n",
        "        #         poison_train(net=self.model, generator=self.generator, discriminator=self.discriminator, optim_G=optim_G, optim_net=optim, scheduler=scheduler, criterion=criterion, epochs=epochs, device=self.device)\n",
        "        # else:\n",
        "        #     train(net=self.model, trainloader=self.trainloader, optim=optim, scheduler=scheduler, criterion=criterion, epochs=epochs, device=self.device)\n",
        "\n",
        "        train(net=self.model, trainloader=self.trainloader, optim=optim, scheduler=scheduler, criterion=criterion, epochs=epochs, device=self.device)\n",
        "        # return the model parameters to the server as well as extra info (number of training examples in this case)\n",
        "        return self.get_parameters({}), len(self.trainloader), {}\n",
        "\n",
        "    def evaluate(self, parameters: NDArrays, config: Dict[str, Scalar]):\n",
        "        \"\"\"Evaluate the model sent by the server on this client's\n",
        "        local validation set. Then return performance metrics.\"\"\"\n",
        "\n",
        "        self.set_parameters(parameters)\n",
        "        loss, accuracy = test(self.model, self.testloader, device=self.device)\n",
        "        print(f\"[Client {self.cid}] evaluate, config: {config}, local accuracy: {accuracy}\")\n",
        "        # send statistics back to the server\n",
        "        return float(loss), len(self.testloader), {\"accuracy\": accuracy}"
      ]
    },
    {
      "cell_type": "markdown",
      "metadata": {
        "id": "umGLQiAutiy_"
      },
      "source": [
        "Spend a few minutes to inspect the `FlowerClient` class above. Please ask questions if there is something unclear !\n",
        "\n",
        "Then keen-eyed among you might have realised that if we were to fuse the client's `fit()` and `evaluate()` methods, we'll end up with essentially the same as in the `run_centralised()` function we used in the Centralised Training part of this tutorial. And it is true!! In Federated Learning, the way clients perform local training makes use of the same principles as more traditional centralised setup. The key difference is that the dataset now is much smaller and it's never _\"seen\"_ by the entity running the FL workload (i.e. the central server).\n",
        "\n",
        "\n",
        "Talking about the central server... we should define what strategy we want to make use of so the updated models sent from the clients back to the server at the end of the `fit()` method are aggregate.\n",
        "\n",
        "\n",
        "## Choosing a Flower Strategy\n",
        "\n",
        "\n",
        "A strategy sits at the core of the Federated Learning experiment. It is involved in all stages of a FL pipeline: sampling clients; sending the _global model_ to the clients so they can do `fit()`; receive the updated models from the clients and **aggregate** these to construct a new _global model_; define and execute global or federated evaluation; and more.\n",
        "\n",
        "Flower comes with [many strategies built-in](https://github.com/adap/flower/tree/main/src/py/flwr/server/strategy) and more to be available in the next release (`1.5` already!). For this tutorial, let's use what is arguable the most popular strategy out there: `FedAvg`.\n",
        "\n",
        "The way `FedAvg` works is simple but performs surprisingly well in practice. It is therefore one good strategy to start your experimentation. `FedAvg`, as its name implies, derives a new version of the _global model_ by taking the average of all the models sent by clients participating in the round. You can read all the details [in the paper](https://arxiv.org/abs/1602.05629).\n",
        "\n",
        "Let's see how we can define `FedAvg` using Flower. We use one of the callbacks called `evaluate_fn` so we can easily evaluate the state of the global model using a small centralised testset. Note this functionality is user-defined since it requires a choice in terms of ML-framework. (if you recall, Flower is framework agnostic).\n",
        "\n",
        "> This being said, centralised evaluation of the global model is only possible if there exists a centralised dataset that somewhat follows a similar distribution as the data that's spread across clients. In some cases having such centralised dataset for validation is not possible, so the only solution is to federate the evaluation of the _global model_. This is the default behaviour in Flower. If you don't specify teh `evaluate_fn` argument in your strategy, then, centralised global evaluation won't be performed."
      ]
    },
    {
      "cell_type": "code",
      "execution_count": null,
      "metadata": {
        "id": "BPJKeYr6tiy_"
      },
      "outputs": [],
      "source": [
        "def get_evaluate_fn(centralized_testset):\n",
        "    \"\"\"This is a function that returns a function. The returned\n",
        "    function (i.e. `evaluate_fn`) will be executed by the strategy\n",
        "    at the end of each round to evaluate the stat of the global\n",
        "    model.\"\"\"\n",
        "\n",
        "    def evaluate_fn(server_round: int, parameters, config):\n",
        "        \"\"\"This function is executed by the strategy it will instantiate\n",
        "        a model and replace its parameters with those from the global model.\n",
        "        The, the model will be evaluate on the test set (recall this is the\n",
        "        whole MNIST test set).\"\"\"\n",
        "\n",
        "        model = Net(num_classes=10)\n",
        "\n",
        "        # Determine device\n",
        "        device = torch.device(\"cuda:0\" if torch.cuda.is_available() else \"cpu\")\n",
        "        model.to(device)  # send model to device\n",
        "\n",
        "        # set parameters to the model\n",
        "        params_dict = zip(model.state_dict().keys(), parameters)\n",
        "        state_dict = OrderedDict({k: torch.Tensor(v) for k, v in params_dict})\n",
        "        model.load_state_dict(state_dict, strict=True)\n",
        "\n",
        "        testloader = DataLoader(centralized_testset)\n",
        "        # call test\n",
        "        loss, accuracy = test(model, testloader, device)\n",
        "        return loss, {\"accuracy\": accuracy}\n",
        "\n",
        "    return evaluate_fn"
      ]
    },
    {
      "cell_type": "markdown",
      "metadata": {
        "id": "UH5sW9Dttiy_"
      },
      "source": [
        "We could now define a strategy just as shown (commented) above. Instead, let's see how additional (but entirely optional) functionality can be easily added to our strategy. We are going to define two additional auxiliary functions to: (1) be able to configure how clients do local training; and (2) define a function to aggregate the metrics that clients return after running their `evaluate` methods:\n",
        "\n",
        "1. `fit_config()`. This is a function that will be executed inside the strategy when configuring a new `fit` round. This function is relatively simple and only requires as input argument the round at which the FL experiment is at. In this example we simply return a Python dictionary to specify the number of epochs and learning rate each client should made use of inside their `fit()` methods. A more versatile implementation would add more hyperparameters (e.g. the learning rate) and adjust them as the FL process advances (e.g. reducing the learning rate in later FL rounds).\n",
        "2. `weighted_average()`: This is an optional function to pass to the strategy. It will be executed after an evaluation round (i.e. when client run `evaluate()`) and will aggregate the metrics clients return. In this example, we use this function to compute the weighted average accuracy of clients doing `evaluate()`."
      ]
    },
    {
      "cell_type": "code",
      "execution_count": null,
      "metadata": {
        "id": "uKusgaOAtiy_"
      },
      "outputs": [],
      "source": [
        "from flwr.common import Metrics, FitRes\n",
        "\n",
        "\n",
        "def fit_config(server_round: int) -> Dict[str, Scalar]:\n",
        "    \"\"\"Return a configuration with static batch size and (local) epochs.\"\"\"\n",
        "    config = {\n",
        "        \"epochs\": 10,  # Number of local epochs done by clients\n",
        "        \"lr\": 0.1,  # Learning rate to use by clients during fit()\n",
        "        \"attacker_epochs\": 20,\n",
        "        \"attacker_lr\": 0.05,\n",
        "    }\n",
        "    return config\n",
        "\n",
        "\n",
        "def weighted_average(metrics: List[Tuple[int, Metrics]]) -> Metrics:\n",
        "    \"\"\"Aggregation function for (federated) evaluation metrics, i.e. those returned by\n",
        "    the client's evaluate() method.\"\"\"\n",
        "    # Multiply accuracy of each client by number of examples used\n",
        "    accuracies = [num_examples * m[\"accuracy\"] for num_examples, m in metrics]\n",
        "    examples = [num_examples for num_examples, _ in metrics]\n",
        "\n",
        "    # Aggregate and return custom metric (weighted average)\n",
        "    return {\"accuracy\": sum(accuracies) / sum(examples)}"
      ]
    },
    {
      "cell_type": "markdown",
      "source": [],
      "metadata": {
        "id": "PnjxoN5EcA2Q"
      }
    },
    {
      "cell_type": "markdown",
      "metadata": {
        "id": "4i9gHjnVtizA"
      },
      "source": [
        "Now we can define our strategy:"
      ]
    },
    {
      "cell_type": "code",
      "source": [
        "import numpy as np\n",
        "import glob\n",
        "import os\n",
        "global_accuracies = []\n",
        "class SaveModelStrategy(fl.server.strategy.FedAvg):\n",
        "    def aggregate_fit(\n",
        "        self,\n",
        "        server_round: int,\n",
        "        results: List[Tuple[fl.server.client_proxy.ClientProxy, fl.common.FitRes]],\n",
        "        failures: List[Union[Tuple[ClientProxy, FitRes], BaseException]],\n",
        "        centralized_testset=centralized_testset,\n",
        "    ) -> Tuple[Optional[Parameters], Dict[str, Scalar]]:\n",
        "        \"\"\"Aggregate model weights using weighted average and store checkpoint\"\"\"\n",
        "        model=Net(10)\n",
        "        # Call aggregate_fit from base class (FedAvg) to aggregate parameters and metrics\n",
        "        aggregated_parameters, aggregated_metrics = super().aggregate_fit(server_round, results, failures)\n",
        "\n",
        "        if aggregated_parameters is not None:\n",
        "            print(f\"Saving round {server_round} aggregated_parameters...\")\n",
        "\n",
        "            # Convert `Parameters` to `List[np.ndarray]`\n",
        "            aggregated_ndarrays: List[np.ndarray] = fl.common.parameters_to_ndarrays(aggregated_parameters)\n",
        "\n",
        "            # Convert `List[np.ndarray]` to PyTorch`state_dict`\n",
        "            params_dict = zip(model.state_dict().keys(), aggregated_ndarrays)\n",
        "            state_dict = OrderedDict({k: torch.tensor(v) for k, v in params_dict})\n",
        "            model.load_state_dict(state_dict, strict=True)\n",
        "            # Save the model\n",
        "            torch.save(model.state_dict(), f\"model_round_{server_round}.pth\")\n",
        "        return aggregated_parameters, aggregated_metrics\n"
      ],
      "metadata": {
        "id": "gIoh_OAxATO7"
      },
      "execution_count": null,
      "outputs": []
    },
    {
      "cell_type": "code",
      "execution_count": null,
      "metadata": {
        "id": "FpB15Xv3tizA"
      },
      "outputs": [],
      "source": [
        "strategy = SaveModelStrategy(\n",
        "    fraction_fit=0.34,  # Sample 10% of available clients for training\n",
        "    fraction_evaluate=0.34,  # Sample 10% of available clients for evaluation\n",
        "    on_fit_config_fn=fit_config,\n",
        "    evaluate_metrics_aggregation_fn=weighted_average,  # aggregates federated metrics\n",
        "    # evaluate_fn=get_evaluate_fn(centralized_testset),  # global evaluation function\n",
        "\n",
        ")"
      ]
    },
    {
      "cell_type": "markdown",
      "metadata": {
        "id": "rLjMnyP-tizA"
      },
      "source": [
        "So far we have:\n",
        "* created the dataset partitions (one for each client)\n",
        "* defined the client class\n",
        "* decided on a strategy to use\n",
        "\n",
        "Now we just need to launch the Flower FL experiment... not so fast! just one final function: let's create another callback that the Simulation Engine will use in order to span VirtualClients. As you can see this is really simple: construct a FlowerClient object, assigning each their own data partition."
      ]
    },
    {
      "cell_type": "code",
      "execution_count": null,
      "metadata": {
        "id": "g0HZTdGHtizA"
      },
      "outputs": [],
      "source": [
        "from torch.utils.data import DataLoader\n",
        "\n",
        "def get_client_fn(trainset, testset):\n",
        "    \"\"\"Return a function to construct a client.\n",
        "\n",
        "    The VirtualClientEngine will execute this function whenever a client is sampled by\n",
        "    the strategy to participate.\n",
        "    \"\"\"\n",
        "    def client_fn(cid: str) -> fl.client.Client:\n",
        "        \"\"\"Construct a FlowerClient with its own dataset partition.\"\"\"\n",
        "        trainloader = DataLoader(trainset[int(cid)], shuffle=True)\n",
        "        testloader = DataLoader(testset[int(cid)])\n",
        "        # Create and return client\n",
        "        return FlowerClient(int(cid), trainloader, testloader)\n",
        "    return client_fn\n",
        "client_fn_callback = get_client_fn(trainset, testset)"
      ]
    },
    {
      "cell_type": "markdown",
      "metadata": {
        "id": "TRAALrO7tizA"
      },
      "source": [
        "Now we are ready to launch the FL experiment using Flower simulation:"
      ]
    },
    {
      "cell_type": "code",
      "execution_count": null,
      "metadata": {
        "colab": {
          "base_uri": "https://localhost:8080/"
        },
        "outputId": "a0fc7a27-6f0b-4f80-b30c-f1f59e24d216",
        "id": "WOOq8qkUtizA"
      },
      "outputs": [
        {
          "output_type": "stream",
          "name": "stderr",
          "text": [
            "INFO flwr 2024-01-02 03:26:56,607 | app.py:178 | Starting Flower simulation, config: ServerConfig(num_rounds=10, round_timeout=None)\n",
            "INFO:flwr:Starting Flower simulation, config: ServerConfig(num_rounds=10, round_timeout=None)\n",
            "2024-01-02 03:27:01,665\tINFO worker.py:1621 -- Started a local Ray instance.\n",
            "INFO flwr 2024-01-02 03:27:03,741 | app.py:213 | Flower VCE: Ray initialized with resources: {'object_store_memory': 3835549286.0, 'CPU': 2.0, 'node:__internal_head__': 1.0, 'memory': 7671098574.0, 'node:172.28.0.12': 1.0, 'GPU': 1.0}\n",
            "INFO:flwr:Flower VCE: Ray initialized with resources: {'object_store_memory': 3835549286.0, 'CPU': 2.0, 'node:__internal_head__': 1.0, 'memory': 7671098574.0, 'node:172.28.0.12': 1.0, 'GPU': 1.0}\n",
            "INFO flwr 2024-01-02 03:27:03,748 | app.py:219 | Optimize your simulation with Flower VCE: https://flower.dev/docs/framework/how-to-run-simulations.html\n",
            "INFO:flwr:Optimize your simulation with Flower VCE: https://flower.dev/docs/framework/how-to-run-simulations.html\n",
            "INFO flwr 2024-01-02 03:27:03,755 | app.py:242 | Flower VCE: Resources for each Virtual Client: {'num_cpus': 0.2, 'num_gpus': 0.1}\n",
            "INFO:flwr:Flower VCE: Resources for each Virtual Client: {'num_cpus': 0.2, 'num_gpus': 0.1}\n",
            "INFO flwr 2024-01-02 03:27:03,809 | app.py:288 | Flower VCE: Creating VirtualClientEngineActorPool with 10 actors\n",
            "INFO:flwr:Flower VCE: Creating VirtualClientEngineActorPool with 10 actors\n",
            "INFO flwr 2024-01-02 03:27:03,816 | server.py:89 | Initializing global parameters\n",
            "INFO:flwr:Initializing global parameters\n",
            "INFO flwr 2024-01-02 03:27:03,819 | server.py:276 | Requesting initial parameters from one random client\n",
            "INFO:flwr:Requesting initial parameters from one random client\n",
            "2024-01-02 03:27:08,787\tWARNING worker.py:2037 -- WARNING: 8 PYTHON worker processes have been started on node: c20d6333453d3531390f41eee68a044284ca13026cbfa8dab02c6952 with address: 172.28.0.12. This could be a result of using a large number of actors, or due to tasks blocked in ray.get() calls (see https://github.com/ray-project/ray/issues/3644 for some discussion of workarounds).\n",
            "\u001b[2m\u001b[36m(pid=8703)\u001b[0m 2024-01-02 03:27:13.665367: E external/local_xla/xla/stream_executor/cuda/cuda_dnn.cc:9261] Unable to register cuDNN factory: Attempting to register factory for plugin cuDNN when one has already been registered\n",
            "\u001b[2m\u001b[36m(pid=8703)\u001b[0m 2024-01-02 03:27:13.668676: E external/local_xla/xla/stream_executor/cuda/cuda_fft.cc:607] Unable to register cuFFT factory: Attempting to register factory for plugin cuFFT when one has already been registered\n",
            "\u001b[2m\u001b[36m(pid=8703)\u001b[0m 2024-01-02 03:27:13.682639: E external/local_xla/xla/stream_executor/cuda/cuda_blas.cc:1515] Unable to register cuBLAS factory: Attempting to register factory for plugin cuBLAS when one has already been registered\n",
            "\u001b[2m\u001b[36m(pid=8703)\u001b[0m 2024-01-02 03:27:22.606289: W tensorflow/compiler/tf2tensorrt/utils/py_utils.cc:38] TF-TRT Warning: Could not find TensorRT\n",
            "\u001b[2m\u001b[36m(pid=8857)\u001b[0m 2024-01-02 03:27:16.342769: E external/local_xla/xla/stream_executor/cuda/cuda_dnn.cc:9261] Unable to register cuDNN factory: Attempting to register factory for plugin cuDNN when one has already been registered\u001b[32m [repeated 9x across cluster] (Ray deduplicates logs by default. Set RAY_DEDUP_LOGS=0 to disable log deduplication, or see https://docs.ray.io/en/master/ray-observability/ray-logging.html#log-deduplication for more options.)\u001b[0m\n",
            "\u001b[2m\u001b[36m(pid=8857)\u001b[0m 2024-01-02 03:27:16.342840: E external/local_xla/xla/stream_executor/cuda/cuda_fft.cc:607] Unable to register cuFFT factory: Attempting to register factory for plugin cuFFT when one has already been registered\u001b[32m [repeated 9x across cluster]\u001b[0m\n",
            "\u001b[2m\u001b[36m(pid=8857)\u001b[0m 2024-01-02 03:27:16.353447: E external/local_xla/xla/stream_executor/cuda/cuda_blas.cc:1515] Unable to register cuBLAS factory: Attempting to register factory for plugin cuBLAS when one has already been registered\u001b[32m [repeated 9x across cluster]\u001b[0m\n",
            "INFO flwr 2024-01-02 03:27:45,634 | server.py:280 | Received initial parameters from one random client\n",
            "INFO:flwr:Received initial parameters from one random client\n",
            "INFO flwr 2024-01-02 03:27:45,643 | server.py:91 | Evaluating initial parameters\n",
            "INFO:flwr:Evaluating initial parameters\n",
            "INFO flwr 2024-01-02 03:27:45,645 | server.py:104 | FL starting\n",
            "INFO:flwr:FL starting\n",
            "DEBUG flwr 2024-01-02 03:27:45,654 | server.py:222 | fit_round 1: strategy sampled 10 clients (out of 30)\n",
            "DEBUG:flwr:fit_round 1: strategy sampled 10 clients (out of 30)\n"
          ]
        },
        {
          "output_type": "stream",
          "name": "stdout",
          "text": [
            "\u001b[2m\u001b[36m(DefaultActor pid=8882)\u001b[0m [Client 14] get_parameters\n",
            "\u001b[2m\u001b[36m(DefaultActor pid=8882)\u001b[0m [Client 12] fit, config: {'epochs': 10, 'lr': 0.1, 'attacker_epochs': 20, 'attacker_lr': 0.05}\n",
            "\u001b[2m\u001b[36m(DefaultActor pid=8882)\u001b[0m   0%|          | 0/1948 [00:00<?, ?it/s]\n",
            "\u001b[2m\u001b[36m(DefaultActor pid=8857)\u001b[0m [Client 16] fit, config: {'epochs': 10, 'lr': 0.1, 'attacker_epochs': 20, 'attacker_lr': 0.05}\n",
            "\u001b[2m\u001b[36m(DefaultActor pid=8857)\u001b[0m   0%|          | 0/1807 [00:00<?, ?it/s]\n",
            "\u001b[2m\u001b[36m(DefaultActor pid=8775)\u001b[0m [Client 11] fit, config: {'epochs': 10, 'lr': 0.1, 'attacker_epochs': 20, 'attacker_lr': 0.05}\n",
            "\u001b[2m\u001b[36m(DefaultActor pid=8882)\u001b[0m   0%|          | 0/1948 [00:00<?, ?it/s]\u001b[32m [repeated 5x across cluster]\u001b[0m\n",
            "\u001b[2m\u001b[36m(DefaultActor pid=8792)\u001b[0m [Client 20] fit, config: {'epochs': 10, 'lr': 0.1, 'attacker_epochs': 20, 'attacker_lr': 0.05}\u001b[32m [repeated 3x across cluster]\u001b[0m\n",
            "\u001b[2m\u001b[36m(DefaultActor pid=8857)\u001b[0m   0%|          | 0/1807 [00:00<?, ?it/s]\n",
            "\u001b[2m\u001b[36m(DefaultActor pid=8775)\u001b[0m   0%|          | 0/2043 [00:00<?, ?it/s]\n",
            "\u001b[2m\u001b[36m(DefaultActor pid=8882)\u001b[0m   0%|          | 0/1948 [00:00<?, ?it/s]\u001b[32m [repeated 4x across cluster]\u001b[0m\n",
            "\u001b[2m\u001b[36m(DefaultActor pid=8857)\u001b[0m   0%|          | 0/1807 [00:00<?, ?it/s]\n",
            "\u001b[2m\u001b[36m(DefaultActor pid=8775)\u001b[0m   0%|          | 0/2043 [00:00<?, ?it/s]\n",
            "\u001b[2m\u001b[36m(DefaultActor pid=8882)\u001b[0m   0%|          | 0/1948 [00:00<?, ?it/s]\u001b[32m [repeated 4x across cluster]\u001b[0m\n",
            "\u001b[2m\u001b[36m(DefaultActor pid=8857)\u001b[0m   0%|          | 0/1807 [00:00<?, ?it/s]\n",
            "\u001b[2m\u001b[36m(DefaultActor pid=8775)\u001b[0m   0%|          | 0/2043 [00:00<?, ?it/s]\n",
            "\u001b[2m\u001b[36m(DefaultActor pid=8882)\u001b[0m   0%|          | 0/1948 [00:00<?, ?it/s]\u001b[32m [repeated 4x across cluster]\u001b[0m\n",
            "\u001b[2m\u001b[36m(DefaultActor pid=8857)\u001b[0m   0%|          | 0/1807 [00:00<?, ?it/s]\n",
            "\u001b[2m\u001b[36m(DefaultActor pid=8775)\u001b[0m   0%|          | 0/2043 [00:00<?, ?it/s]\n",
            "\u001b[2m\u001b[36m(DefaultActor pid=8818)\u001b[0m   0%|          | 0/1983 [00:00<?, ?it/s]\u001b[32m [repeated 3x across cluster]\u001b[0m\n",
            "\u001b[2m\u001b[36m(DefaultActor pid=8857)\u001b[0m   0%|          | 0/1807 [00:00<?, ?it/s]\u001b[32m [repeated 2x across cluster]\u001b[0m\n",
            "\u001b[2m\u001b[36m(DefaultActor pid=8775)\u001b[0m   0%|          | 0/2043 [00:00<?, ?it/s]\n",
            "\u001b[2m\u001b[36m(DefaultActor pid=8833)\u001b[0m   0%|          | 0/1983 [00:00<?, ?it/s]\n",
            "\u001b[2m\u001b[36m(DefaultActor pid=8857)\u001b[0m   0%|          | 0/1807 [00:00<?, ?it/s]\u001b[32m [repeated 4x across cluster]\u001b[0m\n",
            "\u001b[2m\u001b[36m(DefaultActor pid=8792)\u001b[0m   0%|          | 0/1972 [00:00<?, ?it/s]\n",
            "\u001b[2m\u001b[36m(DefaultActor pid=8833)\u001b[0m   0%|          | 0/1983 [00:00<?, ?it/s]\n",
            "\u001b[2m\u001b[36m(DefaultActor pid=8833)\u001b[0m   0%|          | 0/1983 [00:00<?, ?it/s]\u001b[32m [repeated 5x across cluster]\u001b[0m\n",
            "\u001b[2m\u001b[36m(DefaultActor pid=8882)\u001b[0m   0%|          | 0/1948 [00:00<?, ?it/s]\u001b[32m [repeated 6x across cluster]\u001b[0m\n",
            "\u001b[2m\u001b[36m(DefaultActor pid=8857)\u001b[0m [Client 16] get_parameters\n",
            "\u001b[2m\u001b[36m(DefaultActor pid=8818)\u001b[0m   0%|          | 0/1983 [00:00<?, ?it/s]\u001b[32m [repeated 5x across cluster]\u001b[0m\n",
            "\u001b[2m\u001b[36m(DefaultActor pid=8857)\u001b[0m [Client 19] fit, config: {'epochs': 10, 'lr': 0.1, 'attacker_epochs': 20, 'attacker_lr': 0.05}\n",
            "\u001b[2m\u001b[36m(DefaultActor pid=8882)\u001b[0m [Client 12] get_parameters\n",
            "\u001b[2m\u001b[36m(DefaultActor pid=8818)\u001b[0m   0%|          | 0/1983 [00:00<?, ?it/s]\u001b[32m [repeated 6x across cluster]\u001b[0m\n",
            "\u001b[2m\u001b[36m(DefaultActor pid=8792)\u001b[0m [Client 20] get_parameters\n",
            "\u001b[2m\u001b[36m(DefaultActor pid=8882)\u001b[0m [Client 6] fit, config: {'epochs': 10, 'lr': 0.1, 'attacker_epochs': 20, 'attacker_lr': 0.05}\n",
            "\u001b[2m\u001b[36m(DefaultActor pid=8792)\u001b[0m [Client 24] fit, config: {'epochs': 10, 'lr': 0.1, 'attacker_epochs': 20, 'attacker_lr': 0.05}\n",
            "\u001b[2m\u001b[36m(DefaultActor pid=8792)\u001b[0m   0%|          | 0/1951 [00:00<?, ?it/s]\n",
            "\u001b[2m\u001b[36m(DefaultActor pid=8775)\u001b[0m [Client 11] get_parameters\u001b[32m [repeated 3x across cluster]\u001b[0m\n",
            "\u001b[2m\u001b[36m(DefaultActor pid=8833)\u001b[0m [Client 15] fit, config: {'epochs': 10, 'lr': 0.1, 'attacker_epochs': 20, 'attacker_lr': 0.05}\n",
            "\u001b[2m\u001b[36m(DefaultActor pid=8882)\u001b[0m   0%|          | 0/1986 [00:00<?, ?it/s]\u001b[32m [repeated 4x across cluster]\u001b[0m\n",
            "\u001b[2m\u001b[36m(DefaultActor pid=8882)\u001b[0m   0%|          | 0/1986 [00:00<?, ?it/s]\u001b[32m [repeated 4x across cluster]\u001b[0m\n",
            "\u001b[2m\u001b[36m(DefaultActor pid=8833)\u001b[0m   0%|          | 0/1807 [00:00<?, ?it/s]\u001b[32m [repeated 4x across cluster]\u001b[0m\n",
            "\u001b[2m\u001b[36m(DefaultActor pid=8833)\u001b[0m   0%|          | 0/1807 [00:00<?, ?it/s]\u001b[32m [repeated 4x across cluster]\u001b[0m\n",
            "\u001b[2m\u001b[36m(DefaultActor pid=8882)\u001b[0m   0%|          | 0/1986 [00:00<?, ?it/s]\u001b[32m [repeated 2x across cluster]\u001b[0m\n",
            "\u001b[2m\u001b[36m(DefaultActor pid=8833)\u001b[0m   0%|          | 0/1807 [00:00<?, ?it/s]\u001b[32m [repeated 2x across cluster]\u001b[0m\n",
            "\u001b[2m\u001b[36m(DefaultActor pid=8792)\u001b[0m   0%|          | 0/1951 [00:00<?, ?it/s]\u001b[32m [repeated 3x across cluster]\u001b[0m\n",
            "\u001b[2m\u001b[36m(DefaultActor pid=8833)\u001b[0m   0%|          | 0/1807 [00:00<?, ?it/s]\n",
            "\u001b[2m\u001b[36m(DefaultActor pid=8857)\u001b[0m   0%|          | 0/1973 [00:00<?, ?it/s]\n",
            "\u001b[2m\u001b[36m(DefaultActor pid=8833)\u001b[0m   0%|          | 0/1807 [00:00<?, ?it/s]\u001b[32m [repeated 3x across cluster]\u001b[0m\n",
            "\u001b[2m\u001b[36m(DefaultActor pid=8857)\u001b[0m   0%|          | 0/1973 [00:00<?, ?it/s]\u001b[32m [repeated 2x across cluster]\u001b[0m\n",
            "\u001b[2m\u001b[36m(DefaultActor pid=8833)\u001b[0m   0%|          | 0/1807 [00:00<?, ?it/s]\u001b[32m [repeated 2x across cluster]\u001b[0m\n",
            "\u001b[2m\u001b[36m(DefaultActor pid=8882)\u001b[0m   0%|          | 0/1986 [00:00<?, ?it/s]\n",
            "\u001b[2m\u001b[36m(DefaultActor pid=8857)\u001b[0m   0%|          | 0/1973 [00:00<?, ?it/s]\n",
            "\u001b[2m\u001b[36m(DefaultActor pid=8833)\u001b[0m   0%|          | 0/1807 [00:00<?, ?it/s]\u001b[32m [repeated 2x across cluster]\u001b[0m\n",
            "\u001b[2m\u001b[36m(DefaultActor pid=8882)\u001b[0m [Client 6] get_parameters\n",
            "\u001b[2m\u001b[36m(DefaultActor pid=8792)\u001b[0m   0%|          | 0/1951 [00:00<?, ?it/s]\n",
            "\u001b[2m\u001b[36m(DefaultActor pid=8833)\u001b[0m [Client 15] get_parameters\u001b[32m [repeated 2x across cluster]\u001b[0m\n"
          ]
        },
        {
          "output_type": "stream",
          "name": "stderr",
          "text": [
            "DEBUG flwr 2024-01-02 03:36:36,649 | server.py:236 | fit_round 1 received 10 results and 0 failures\n",
            "DEBUG:flwr:fit_round 1 received 10 results and 0 failures\n",
            "WARNING flwr 2024-01-02 03:36:36,724 | fedavg.py:242 | No fit_metrics_aggregation_fn provided\n",
            "WARNING:flwr:No fit_metrics_aggregation_fn provided\n",
            "DEBUG flwr 2024-01-02 03:36:36,739 | server.py:173 | evaluate_round 1: strategy sampled 10 clients (out of 30)\n",
            "DEBUG:flwr:evaluate_round 1: strategy sampled 10 clients (out of 30)\n"
          ]
        },
        {
          "output_type": "stream",
          "name": "stdout",
          "text": [
            "Saving round 1 aggregated_parameters...\n",
            "\u001b[2m\u001b[36m(DefaultActor pid=8792)\u001b[0m   0%|          | 0/344 [00:00<?, ?it/s]\n",
            "\u001b[2m\u001b[36m(DefaultActor pid=8792)\u001b[0m [Client 24] get_parameters\n",
            "\u001b[2m\u001b[36m(DefaultActor pid=8792)\u001b[0m [Client 6] evaluate, config: {}, local accuracy: 0.0\n",
            "\u001b[2m\u001b[36m(DefaultActor pid=8775)\u001b[0m   0%|          | 0/327 [00:00<?, ?it/s]\u001b[32m [repeated 9x across cluster]\u001b[0m\n"
          ]
        },
        {
          "output_type": "stream",
          "name": "stderr",
          "text": [
            "DEBUG flwr 2024-01-02 03:36:43,190 | server.py:187 | evaluate_round 1 received 10 results and 0 failures\n",
            "DEBUG:flwr:evaluate_round 1 received 10 results and 0 failures\n",
            "DEBUG flwr 2024-01-02 03:36:43,195 | server.py:222 | fit_round 2: strategy sampled 10 clients (out of 30)\n",
            "DEBUG:flwr:fit_round 2: strategy sampled 10 clients (out of 30)\n"
          ]
        },
        {
          "output_type": "stream",
          "name": "stdout",
          "text": [
            "\u001b[2m\u001b[36m(DefaultActor pid=8775)\u001b[0m [Client 26] fit, config: {'epochs': 10, 'lr': 0.1, 'attacker_epochs': 20, 'attacker_lr': 0.05}\n",
            "\u001b[2m\u001b[36m(DefaultActor pid=8775)\u001b[0m [Client 13] evaluate, config: {}, local accuracy: 0.0\u001b[32m [repeated 9x across cluster]\u001b[0m\n",
            "\u001b[2m\u001b[36m(DefaultActor pid=8775)\u001b[0m   0%|          | 0/1950 [00:00<?, ?it/s]\u001b[32m [repeated 7x across cluster]\u001b[0m\n",
            "\u001b[2m\u001b[36m(DefaultActor pid=8882)\u001b[0m [Client 2] fit, config: {'epochs': 10, 'lr': 0.1, 'attacker_epochs': 20, 'attacker_lr': 0.05}\u001b[32m [repeated 5x across cluster]\u001b[0m\n",
            "\u001b[2m\u001b[36m(DefaultActor pid=8857)\u001b[0m   0%|          | 0/2248 [00:00<?, ?it/s]\u001b[32m [repeated 5x across cluster]\u001b[0m\n",
            "\u001b[2m\u001b[36m(DefaultActor pid=8775)\u001b[0m   0%|          | 0/1950 [00:00<?, ?it/s]\n",
            "\u001b[2m\u001b[36m(DefaultActor pid=8792)\u001b[0m   0%|          | 0/1986 [00:00<?, ?it/s]\n",
            "\u001b[2m\u001b[36m(DefaultActor pid=8857)\u001b[0m   0%|          | 0/2248 [00:00<?, ?it/s]\u001b[32m [repeated 4x across cluster]\u001b[0m\n",
            "\u001b[2m\u001b[36m(DefaultActor pid=8775)\u001b[0m   0%|          | 0/1950 [00:00<?, ?it/s]\n",
            "\u001b[2m\u001b[36m(DefaultActor pid=8818)\u001b[0m   0%|          | 0/1948 [00:00<?, ?it/s]\n",
            "\u001b[2m\u001b[36m(DefaultActor pid=8833)\u001b[0m   0%|          | 0/2088 [00:00<?, ?it/s]\u001b[32m [repeated 3x across cluster]\u001b[0m\n",
            "\u001b[2m\u001b[36m(DefaultActor pid=8775)\u001b[0m   0%|          | 0/1950 [00:00<?, ?it/s]\u001b[32m [repeated 2x across cluster]\u001b[0m\n",
            "\u001b[2m\u001b[36m(DefaultActor pid=8833)\u001b[0m   0%|          | 0/2088 [00:00<?, ?it/s]\u001b[32m [repeated 4x across cluster]\u001b[0m\n",
            "\u001b[2m\u001b[36m(DefaultActor pid=8857)\u001b[0m   0%|          | 0/2248 [00:00<?, ?it/s]\n",
            "\u001b[2m\u001b[36m(DefaultActor pid=8775)\u001b[0m   0%|          | 0/1950 [00:00<?, ?it/s]\n",
            "\u001b[2m\u001b[36m(DefaultActor pid=8833)\u001b[0m   0%|          | 0/2088 [00:00<?, ?it/s]\u001b[32m [repeated 4x across cluster]\u001b[0m\n",
            "\u001b[2m\u001b[36m(DefaultActor pid=8857)\u001b[0m   0%|          | 0/2248 [00:00<?, ?it/s]\n",
            "\u001b[2m\u001b[36m(DefaultActor pid=8775)\u001b[0m   0%|          | 0/1950 [00:00<?, ?it/s]\n",
            "\u001b[2m\u001b[36m(DefaultActor pid=8792)\u001b[0m   0%|          | 0/1986 [00:00<?, ?it/s]\u001b[32m [repeated 2x across cluster]\u001b[0m\n",
            "\u001b[2m\u001b[36m(DefaultActor pid=8833)\u001b[0m   0%|          | 0/2088 [00:00<?, ?it/s]\u001b[32m [repeated 2x across cluster]\u001b[0m\n",
            "\u001b[2m\u001b[36m(DefaultActor pid=8775)\u001b[0m   0%|          | 0/1950 [00:00<?, ?it/s]\n",
            "\u001b[2m\u001b[36m(DefaultActor pid=8818)\u001b[0m   0%|          | 0/1948 [00:00<?, ?it/s]\n",
            "\u001b[2m\u001b[36m(DefaultActor pid=8882)\u001b[0m   0%|          | 0/1974 [00:00<?, ?it/s]\u001b[32m [repeated 2x across cluster]\u001b[0m\n",
            "\u001b[2m\u001b[36m(DefaultActor pid=8833)\u001b[0m   0%|          | 0/2088 [00:00<?, ?it/s]\u001b[32m [repeated 2x across cluster]\u001b[0m\n",
            "\u001b[2m\u001b[36m(DefaultActor pid=8818)\u001b[0m   0%|          | 0/1948 [00:00<?, ?it/s]\u001b[32m [repeated 2x across cluster]\u001b[0m\n",
            "\u001b[2m\u001b[36m(DefaultActor pid=8857)\u001b[0m   0%|          | 0/2248 [00:00<?, ?it/s]\n",
            "\u001b[2m\u001b[36m(DefaultActor pid=8882)\u001b[0m   0%|          | 0/1974 [00:00<?, ?it/s]\n",
            "\u001b[2m\u001b[36m(DefaultActor pid=8775)\u001b[0m   0%|          | 0/1950 [00:00<?, ?it/s]\u001b[32m [repeated 2x across cluster]\u001b[0m\n",
            "\u001b[2m\u001b[36m(DefaultActor pid=8818)\u001b[0m   0%|          | 0/1948 [00:00<?, ?it/s]\u001b[32m [repeated 2x across cluster]\u001b[0m\n",
            "\u001b[2m\u001b[36m(DefaultActor pid=8792)\u001b[0m   0%|          | 0/1986 [00:00<?, ?it/s]\u001b[32m [repeated 2x across cluster]\u001b[0m\n",
            "\u001b[2m\u001b[36m(DefaultActor pid=8775)\u001b[0m [Client 26] get_parameters\n",
            "\u001b[2m\u001b[36m(DefaultActor pid=8857)\u001b[0m   0%|          | 0/2248 [00:00<?, ?it/s]\n",
            "\u001b[2m\u001b[36m(DefaultActor pid=8775)\u001b[0m [Client 24] fit, config: {'epochs': 10, 'lr': 0.1, 'attacker_epochs': 20, 'attacker_lr': 0.05}\n",
            "\u001b[2m\u001b[36m(DefaultActor pid=8775)\u001b[0m   0%|          | 0/1951 [00:00<?, ?it/s]\n",
            "\u001b[2m\u001b[36m(DefaultActor pid=8833)\u001b[0m   0%|          | 0/2088 [00:00<?, ?it/s]\n",
            "\u001b[2m\u001b[36m(DefaultActor pid=8818)\u001b[0m [Client 12] get_parameters\n",
            "\u001b[2m\u001b[36m(DefaultActor pid=8818)\u001b[0m [Client 20] fit, config: {'epochs': 10, 'lr': 0.1, 'attacker_epochs': 20, 'attacker_lr': 0.05}\n",
            "\u001b[2m\u001b[36m(DefaultActor pid=8818)\u001b[0m   0%|          | 0/1972 [00:00<?, ?it/s]\n",
            "\u001b[2m\u001b[36m(DefaultActor pid=8882)\u001b[0m [Client 2] get_parameters\n",
            "\u001b[2m\u001b[36m(DefaultActor pid=8792)\u001b[0m [Client 7] get_parameters\n",
            "\u001b[2m\u001b[36m(DefaultActor pid=8882)\u001b[0m [Client 14] fit, config: {'epochs': 10, 'lr': 0.1, 'attacker_epochs': 20, 'attacker_lr': 0.05}\n",
            "\u001b[2m\u001b[36m(DefaultActor pid=8882)\u001b[0m   0%|          | 0/1947 [00:00<?, ?it/s]\n",
            "\u001b[2m\u001b[36m(DefaultActor pid=8792)\u001b[0m [Client 1] fit, config: {'epochs': 10, 'lr': 0.1, 'attacker_epochs': 20, 'attacker_lr': 0.05}\n",
            "\u001b[2m\u001b[36m(DefaultActor pid=8792)\u001b[0m   0%|          | 0/1974 [00:00<?, ?it/s]\n",
            "\u001b[2m\u001b[36m(DefaultActor pid=8775)\u001b[0m   0%|          | 0/1951 [00:00<?, ?it/s]\u001b[32m [repeated 2x across cluster]\u001b[0m\n",
            "\u001b[2m\u001b[36m(DefaultActor pid=8833)\u001b[0m [Client 23] get_parameters\n",
            "\u001b[2m\u001b[36m(DefaultActor pid=8818)\u001b[0m   0%|          | 0/1972 [00:00<?, ?it/s]\n",
            "\u001b[2m\u001b[36m(DefaultActor pid=8882)\u001b[0m   0%|          | 0/1947 [00:00<?, ?it/s]\n",
            "\u001b[2m\u001b[36m(DefaultActor pid=8857)\u001b[0m [Client 3] get_parameters\n",
            "\u001b[2m\u001b[36m(DefaultActor pid=8792)\u001b[0m   0%|          | 0/1974 [00:00<?, ?it/s]\n",
            "\u001b[2m\u001b[36m(DefaultActor pid=8775)\u001b[0m   0%|          | 0/1951 [00:00<?, ?it/s]\n",
            "\u001b[2m\u001b[36m(DefaultActor pid=8882)\u001b[0m   0%|          | 0/1947 [00:00<?, ?it/s]\u001b[32m [repeated 2x across cluster]\u001b[0m\n",
            "\u001b[2m\u001b[36m(DefaultActor pid=8792)\u001b[0m   0%|          | 0/1974 [00:00<?, ?it/s]\n",
            "\u001b[2m\u001b[36m(DefaultActor pid=8775)\u001b[0m   0%|          | 0/1951 [00:00<?, ?it/s]\n",
            "\u001b[2m\u001b[36m(DefaultActor pid=8882)\u001b[0m   0%|          | 0/1947 [00:00<?, ?it/s]\u001b[32m [repeated 2x across cluster]\u001b[0m\n",
            "\u001b[2m\u001b[36m(DefaultActor pid=8792)\u001b[0m   0%|          | 0/1974 [00:00<?, ?it/s]\n",
            "\u001b[2m\u001b[36m(DefaultActor pid=8775)\u001b[0m   0%|          | 0/1951 [00:00<?, ?it/s]\n",
            "\u001b[2m\u001b[36m(DefaultActor pid=8882)\u001b[0m   0%|          | 0/1947 [00:00<?, ?it/s]\u001b[32m [repeated 2x across cluster]\u001b[0m\n",
            "\u001b[2m\u001b[36m(DefaultActor pid=8792)\u001b[0m   0%|          | 0/1974 [00:00<?, ?it/s]\n",
            "\u001b[2m\u001b[36m(DefaultActor pid=8775)\u001b[0m   0%|          | 0/1951 [00:00<?, ?it/s]\n",
            "\u001b[2m\u001b[36m(DefaultActor pid=8882)\u001b[0m   0%|          | 0/1947 [00:00<?, ?it/s]\u001b[32m [repeated 2x across cluster]\u001b[0m\n",
            "\u001b[2m\u001b[36m(DefaultActor pid=8792)\u001b[0m   0%|          | 0/1974 [00:00<?, ?it/s]\n",
            "\u001b[2m\u001b[36m(DefaultActor pid=8775)\u001b[0m   0%|          | 0/1951 [00:00<?, ?it/s]\n",
            "\u001b[2m\u001b[36m(DefaultActor pid=8882)\u001b[0m   0%|          | 0/1947 [00:00<?, ?it/s]\u001b[32m [repeated 2x across cluster]\u001b[0m\n",
            "\u001b[2m\u001b[36m(DefaultActor pid=8792)\u001b[0m   0%|          | 0/1974 [00:00<?, ?it/s]\n",
            "\u001b[2m\u001b[36m(DefaultActor pid=8775)\u001b[0m   0%|          | 0/1951 [00:00<?, ?it/s]\n",
            "\u001b[2m\u001b[36m(DefaultActor pid=8882)\u001b[0m   0%|          | 0/1947 [00:00<?, ?it/s]\u001b[32m [repeated 2x across cluster]\u001b[0m\n",
            "\u001b[2m\u001b[36m(DefaultActor pid=8792)\u001b[0m   0%|          | 0/1974 [00:00<?, ?it/s]\n",
            "\u001b[2m\u001b[36m(DefaultActor pid=8775)\u001b[0m   0%|          | 0/1951 [00:00<?, ?it/s]\n",
            "\u001b[2m\u001b[36m(DefaultActor pid=8882)\u001b[0m   0%|          | 0/1947 [00:00<?, ?it/s]\u001b[32m [repeated 2x across cluster]\u001b[0m\n",
            "\u001b[2m\u001b[36m(DefaultActor pid=8792)\u001b[0m   0%|          | 0/1974 [00:00<?, ?it/s]\n",
            "\u001b[2m\u001b[36m(DefaultActor pid=8775)\u001b[0m   0%|          | 0/1951 [00:00<?, ?it/s]\n",
            "\u001b[2m\u001b[36m(DefaultActor pid=8882)\u001b[0m   0%|          | 0/1947 [00:00<?, ?it/s]\u001b[32m [repeated 2x across cluster]\u001b[0m\n",
            "\u001b[2m\u001b[36m(DefaultActor pid=8792)\u001b[0m   0%|          | 0/1974 [00:00<?, ?it/s]\n",
            "\u001b[2m\u001b[36m(DefaultActor pid=8775)\u001b[0m [Client 24] get_parameters\n"
          ]
        },
        {
          "output_type": "stream",
          "name": "stderr",
          "text": [
            "DEBUG flwr 2024-01-02 03:45:47,931 | server.py:236 | fit_round 2 received 10 results and 0 failures\n",
            "DEBUG:flwr:fit_round 2 received 10 results and 0 failures\n",
            "DEBUG flwr 2024-01-02 03:45:48,002 | server.py:173 | evaluate_round 2: strategy sampled 10 clients (out of 30)\n",
            "DEBUG:flwr:evaluate_round 2: strategy sampled 10 clients (out of 30)\n"
          ]
        },
        {
          "output_type": "stream",
          "name": "stdout",
          "text": [
            "\u001b[2m\u001b[36m(DefaultActor pid=8792)\u001b[0m [Client 1] get_parameters\u001b[32m [repeated 3x across cluster]\u001b[0m\n",
            "Saving round 2 aggregated_parameters...\n",
            "\u001b[2m\u001b[36m(DefaultActor pid=8792)\u001b[0m   0%|          | 0/320 [00:00<?, ?it/s]\n",
            "\u001b[2m\u001b[36m(DefaultActor pid=8792)\u001b[0m [Client 18] evaluate, config: {}, local accuracy: 0.0\n",
            "\u001b[2m\u001b[36m(DefaultActor pid=8882)\u001b[0m   0%|          | 0/378 [00:00<?, ?it/s]\u001b[32m [repeated 9x across cluster]\u001b[0m\n"
          ]
        },
        {
          "output_type": "stream",
          "name": "stderr",
          "text": [
            "DEBUG flwr 2024-01-02 03:45:54,518 | server.py:187 | evaluate_round 2 received 10 results and 0 failures\n",
            "DEBUG:flwr:evaluate_round 2 received 10 results and 0 failures\n",
            "DEBUG flwr 2024-01-02 03:45:54,523 | server.py:222 | fit_round 3: strategy sampled 10 clients (out of 30)\n",
            "DEBUG:flwr:fit_round 3: strategy sampled 10 clients (out of 30)\n"
          ]
        },
        {
          "output_type": "stream",
          "name": "stdout",
          "text": [
            "\u001b[2m\u001b[36m(DefaultActor pid=8792)\u001b[0m [Client 21] fit, config: {'epochs': 10, 'lr': 0.1, 'attacker_epochs': 20, 'attacker_lr': 0.05}\n",
            "\u001b[2m\u001b[36m(DefaultActor pid=8882)\u001b[0m [Client 4] evaluate, config: {}, local accuracy: 0.0\u001b[32m [repeated 9x across cluster]\u001b[0m\n",
            "\u001b[2m\u001b[36m(DefaultActor pid=8857)\u001b[0m   0%|          | 0/1986 [00:00<?, ?it/s]\u001b[32m [repeated 7x across cluster]\u001b[0m\n",
            "\u001b[2m\u001b[36m(DefaultActor pid=8833)\u001b[0m [Client 14] fit, config: {'epochs': 10, 'lr': 0.1, 'attacker_epochs': 20, 'attacker_lr': 0.05}\u001b[32m [repeated 5x across cluster]\u001b[0m\n",
            "\u001b[2m\u001b[36m(DefaultActor pid=8818)\u001b[0m   0%|          | 0/1986 [00:00<?, ?it/s]\u001b[32m [repeated 6x across cluster]\u001b[0m\n",
            "\u001b[2m\u001b[36m(DefaultActor pid=8882)\u001b[0m   0%|          | 0/1950 [00:00<?, ?it/s]\u001b[32m [repeated 3x across cluster]\u001b[0m\n",
            "\u001b[2m\u001b[36m(DefaultActor pid=8775)\u001b[0m   0%|          | 0/2247 [00:00<?, ?it/s]\u001b[32m [repeated 2x across cluster]\u001b[0m\n",
            "\u001b[2m\u001b[36m(DefaultActor pid=8818)\u001b[0m   0%|          | 0/1986 [00:00<?, ?it/s]\n",
            "\u001b[2m\u001b[36m(DefaultActor pid=8857)\u001b[0m   0%|          | 0/1986 [00:00<?, ?it/s]\n",
            "\u001b[2m\u001b[36m(DefaultActor pid=8792)\u001b[0m   0%|          | 0/2089 [00:00<?, ?it/s]\u001b[32m [repeated 3x across cluster]\u001b[0m\n",
            "\u001b[2m\u001b[36m(DefaultActor pid=8775)\u001b[0m   0%|          | 0/2247 [00:00<?, ?it/s]\n",
            "\u001b[2m\u001b[36m(DefaultActor pid=8857)\u001b[0m   0%|          | 0/1986 [00:00<?, ?it/s]\n",
            "\u001b[2m\u001b[36m(DefaultActor pid=8882)\u001b[0m   0%|          | 0/1950 [00:00<?, ?it/s]\u001b[32m [repeated 3x across cluster]\u001b[0m\n",
            "\u001b[2m\u001b[36m(DefaultActor pid=8775)\u001b[0m   0%|          | 0/2247 [00:00<?, ?it/s]\u001b[32m [repeated 2x across cluster]\u001b[0m\n",
            "\u001b[2m\u001b[36m(DefaultActor pid=8818)\u001b[0m   0%|          | 0/1986 [00:00<?, ?it/s]\n",
            "\u001b[2m\u001b[36m(DefaultActor pid=8857)\u001b[0m   0%|          | 0/1986 [00:00<?, ?it/s]\n",
            "\u001b[2m\u001b[36m(DefaultActor pid=8792)\u001b[0m   0%|          | 0/2089 [00:00<?, ?it/s]\u001b[32m [repeated 3x across cluster]\u001b[0m\n",
            "\u001b[2m\u001b[36m(DefaultActor pid=8775)\u001b[0m   0%|          | 0/2247 [00:00<?, ?it/s]\n",
            "\u001b[2m\u001b[36m(DefaultActor pid=8857)\u001b[0m   0%|          | 0/1986 [00:00<?, ?it/s]\n",
            "\u001b[2m\u001b[36m(DefaultActor pid=8792)\u001b[0m   0%|          | 0/2089 [00:00<?, ?it/s]\u001b[32m [repeated 4x across cluster]\u001b[0m\n",
            "\u001b[2m\u001b[36m(DefaultActor pid=8775)\u001b[0m   0%|          | 0/2247 [00:00<?, ?it/s]\n",
            "\u001b[2m\u001b[36m(DefaultActor pid=8857)\u001b[0m   0%|          | 0/1986 [00:00<?, ?it/s]\n",
            "\u001b[2m\u001b[36m(DefaultActor pid=8775)\u001b[0m   0%|          | 0/2247 [00:00<?, ?it/s]\u001b[32m [repeated 5x across cluster]\u001b[0m\n",
            "\u001b[2m\u001b[36m(DefaultActor pid=8833)\u001b[0m   0%|          | 0/1947 [00:00<?, ?it/s]\u001b[32m [repeated 2x across cluster]\u001b[0m\n",
            "\u001b[2m\u001b[36m(DefaultActor pid=8792)\u001b[0m   0%|          | 0/2089 [00:00<?, ?it/s]\u001b[32m [repeated 3x across cluster]\u001b[0m\n",
            "\u001b[2m\u001b[36m(DefaultActor pid=8857)\u001b[0m   0%|          | 0/1986 [00:00<?, ?it/s]\n",
            "\u001b[2m\u001b[36m(DefaultActor pid=8833)\u001b[0m   0%|          | 0/1947 [00:00<?, ?it/s]\n",
            "\u001b[2m\u001b[36m(DefaultActor pid=8792)\u001b[0m   0%|          | 0/2089 [00:00<?, ?it/s]\u001b[32m [repeated 4x across cluster]\u001b[0m\n",
            "\u001b[2m\u001b[36m(DefaultActor pid=8857)\u001b[0m [Client 6] get_parameters\n",
            "\u001b[2m\u001b[36m(DefaultActor pid=8857)\u001b[0m [Client 12] fit, config: {'epochs': 10, 'lr': 0.1, 'attacker_epochs': 20, 'attacker_lr': 0.05}\n",
            "\u001b[2m\u001b[36m(DefaultActor pid=8857)\u001b[0m   0%|          | 0/1948 [00:00<?, ?it/s]\n",
            "\u001b[2m\u001b[36m(DefaultActor pid=8833)\u001b[0m [Client 14] get_parameters\n",
            "\u001b[2m\u001b[36m(DefaultActor pid=8833)\u001b[0m [Client 16] fit, config: {'epochs': 10, 'lr': 0.1, 'attacker_epochs': 20, 'attacker_lr': 0.05}\n",
            "\u001b[2m\u001b[36m(DefaultActor pid=8833)\u001b[0m   0%|          | 0/1807 [00:00<?, ?it/s]\n",
            "\u001b[2m\u001b[36m(DefaultActor pid=8882)\u001b[0m [Client 25] get_parameters\n",
            "\u001b[2m\u001b[36m(DefaultActor pid=8775)\u001b[0m   0%|          | 0/2247 [00:00<?, ?it/s]\n",
            "\u001b[2m\u001b[36m(DefaultActor pid=8882)\u001b[0m [Client 1] fit, config: {'epochs': 10, 'lr': 0.1, 'attacker_epochs': 20, 'attacker_lr': 0.05}\n",
            "\u001b[2m\u001b[36m(DefaultActor pid=8792)\u001b[0m [Client 21] get_parameters\u001b[32m [repeated 2x across cluster]\u001b[0m\n",
            "\u001b[2m\u001b[36m(DefaultActor pid=8818)\u001b[0m   0%|          | 0/1983 [00:00<?, ?it/s]\u001b[32m [repeated 2x across cluster]\u001b[0m\n",
            "\u001b[2m\u001b[36m(DefaultActor pid=8818)\u001b[0m [Client 28] fit, config: {'epochs': 10, 'lr': 0.1, 'attacker_epochs': 20, 'attacker_lr': 0.05}\n",
            "\u001b[2m\u001b[36m(DefaultActor pid=8857)\u001b[0m   0%|          | 0/1948 [00:00<?, ?it/s]\n",
            "\u001b[2m\u001b[36m(DefaultActor pid=8833)\u001b[0m   0%|          | 0/1807 [00:00<?, ?it/s]\n",
            "\u001b[2m\u001b[36m(DefaultActor pid=8882)\u001b[0m   0%|          | 0/1974 [00:00<?, ?it/s]\n",
            "\u001b[2m\u001b[36m(DefaultActor pid=8818)\u001b[0m   0%|          | 0/1983 [00:00<?, ?it/s]\n",
            "\u001b[2m\u001b[36m(DefaultActor pid=8775)\u001b[0m [Client 5] get_parameters\n",
            "\u001b[2m\u001b[36m(DefaultActor pid=8833)\u001b[0m   0%|          | 0/1807 [00:00<?, ?it/s]\n",
            "\u001b[2m\u001b[36m(DefaultActor pid=8857)\u001b[0m   0%|          | 0/1948 [00:00<?, ?it/s]\n",
            "\u001b[2m\u001b[36m(DefaultActor pid=8818)\u001b[0m   0%|          | 0/1983 [00:00<?, ?it/s]\u001b[32m [repeated 2x across cluster]\u001b[0m\n",
            "\u001b[2m\u001b[36m(DefaultActor pid=8833)\u001b[0m   0%|          | 0/1807 [00:00<?, ?it/s]\n",
            "\u001b[2m\u001b[36m(DefaultActor pid=8857)\u001b[0m   0%|          | 0/1948 [00:00<?, ?it/s]\n",
            "\u001b[2m\u001b[36m(DefaultActor pid=8818)\u001b[0m   0%|          | 0/1983 [00:00<?, ?it/s]\u001b[32m [repeated 2x across cluster]\u001b[0m\n",
            "\u001b[2m\u001b[36m(DefaultActor pid=8833)\u001b[0m   0%|          | 0/1807 [00:00<?, ?it/s]\n",
            "\u001b[2m\u001b[36m(DefaultActor pid=8857)\u001b[0m   0%|          | 0/1948 [00:00<?, ?it/s]\n",
            "\u001b[2m\u001b[36m(DefaultActor pid=8818)\u001b[0m   0%|          | 0/1983 [00:00<?, ?it/s]\u001b[32m [repeated 2x across cluster]\u001b[0m\n",
            "\u001b[2m\u001b[36m(DefaultActor pid=8833)\u001b[0m   0%|          | 0/1807 [00:00<?, ?it/s]\n",
            "\u001b[2m\u001b[36m(DefaultActor pid=8857)\u001b[0m   0%|          | 0/1948 [00:00<?, ?it/s]\n",
            "\u001b[2m\u001b[36m(DefaultActor pid=8818)\u001b[0m   0%|          | 0/1983 [00:00<?, ?it/s]\u001b[32m [repeated 2x across cluster]\u001b[0m\n",
            "\u001b[2m\u001b[36m(DefaultActor pid=8833)\u001b[0m   0%|          | 0/1807 [00:00<?, ?it/s]\n",
            "\u001b[2m\u001b[36m(DefaultActor pid=8857)\u001b[0m   0%|          | 0/1948 [00:00<?, ?it/s]\n",
            "\u001b[2m\u001b[36m(DefaultActor pid=8818)\u001b[0m   0%|          | 0/1983 [00:00<?, ?it/s]\u001b[32m [repeated 2x across cluster]\u001b[0m\n",
            "\u001b[2m\u001b[36m(DefaultActor pid=8833)\u001b[0m   0%|          | 0/1807 [00:00<?, ?it/s]\n",
            "\u001b[2m\u001b[36m(DefaultActor pid=8882)\u001b[0m   0%|          | 0/1974 [00:00<?, ?it/s]\n",
            "\u001b[2m\u001b[36m(DefaultActor pid=8818)\u001b[0m   0%|          | 0/1983 [00:00<?, ?it/s]\u001b[32m [repeated 2x across cluster]\u001b[0m\n",
            "\u001b[2m\u001b[36m(DefaultActor pid=8882)\u001b[0m   0%|          | 0/1974 [00:00<?, ?it/s]\u001b[32m [repeated 2x across cluster]\u001b[0m\n",
            "\u001b[2m\u001b[36m(DefaultActor pid=8818)\u001b[0m   0%|          | 0/1983 [00:00<?, ?it/s]\u001b[32m [repeated 2x across cluster]\u001b[0m\n",
            "\u001b[2m\u001b[36m(DefaultActor pid=8882)\u001b[0m   0%|          | 0/1974 [00:00<?, ?it/s]\u001b[32m [repeated 2x across cluster]\u001b[0m\n",
            "\u001b[2m\u001b[36m(DefaultActor pid=8818)\u001b[0m   0%|          | 0/1983 [00:00<?, ?it/s]\u001b[32m [repeated 2x across cluster]\u001b[0m\n",
            "\u001b[2m\u001b[36m(DefaultActor pid=8833)\u001b[0m [Client 16] get_parameters\n",
            "\u001b[2m\u001b[36m(DefaultActor pid=8857)\u001b[0m [Client 12] get_parameters\u001b[32m [repeated 2x across cluster]\u001b[0m\n"
          ]
        },
        {
          "output_type": "stream",
          "name": "stderr",
          "text": [
            "DEBUG flwr 2024-01-02 03:54:55,053 | server.py:236 | fit_round 3 received 10 results and 0 failures\n",
            "DEBUG:flwr:fit_round 3 received 10 results and 0 failures\n",
            "DEBUG flwr 2024-01-02 03:54:55,131 | server.py:173 | evaluate_round 3: strategy sampled 10 clients (out of 30)\n",
            "DEBUG:flwr:evaluate_round 3: strategy sampled 10 clients (out of 30)\n"
          ]
        },
        {
          "output_type": "stream",
          "name": "stdout",
          "text": [
            "Saving round 3 aggregated_parameters...\n",
            "\u001b[2m\u001b[36m(DefaultActor pid=8818)\u001b[0m   0%|          | 0/319 [00:00<?, ?it/s]\n",
            "\u001b[2m\u001b[36m(DefaultActor pid=8818)\u001b[0m [Client 20] evaluate, config: {}, local accuracy: 0.0\n",
            "\u001b[2m\u001b[36m(DefaultActor pid=8818)\u001b[0m [Client 28] get_parameters\n",
            "\u001b[2m\u001b[36m(DefaultActor pid=8857)\u001b[0m   0%|          | 0/325 [00:00<?, ?it/s]\u001b[32m [repeated 9x across cluster]\u001b[0m\n"
          ]
        },
        {
          "output_type": "stream",
          "name": "stderr",
          "text": [
            "DEBUG flwr 2024-01-02 03:55:01,174 | server.py:187 | evaluate_round 3 received 10 results and 0 failures\n",
            "DEBUG:flwr:evaluate_round 3 received 10 results and 0 failures\n",
            "DEBUG flwr 2024-01-02 03:55:01,181 | server.py:222 | fit_round 4: strategy sampled 10 clients (out of 30)\n",
            "DEBUG:flwr:fit_round 4: strategy sampled 10 clients (out of 30)\n"
          ]
        },
        {
          "output_type": "stream",
          "name": "stdout",
          "text": [
            "\u001b[2m\u001b[36m(DefaultActor pid=8792)\u001b[0m [Client 10] fit, config: {'epochs': 10, 'lr': 0.1, 'attacker_epochs': 20, 'attacker_lr': 0.05}\n",
            "\u001b[2m\u001b[36m(DefaultActor pid=8857)\u001b[0m [Client 24] evaluate, config: {}, local accuracy: 0.0\u001b[32m [repeated 9x across cluster]\u001b[0m\n",
            "\u001b[2m\u001b[36m(DefaultActor pid=8857)\u001b[0m   0%|          | 0/1807 [00:00<?, ?it/s]\u001b[32m [repeated 7x across cluster]\u001b[0m\n",
            "\u001b[2m\u001b[36m(DefaultActor pid=8833)\u001b[0m [Client 9] fit, config: {'epochs': 10, 'lr': 0.1, 'attacker_epochs': 20, 'attacker_lr': 0.05}\u001b[32m [repeated 5x across cluster]\u001b[0m\n",
            "\u001b[2m\u001b[36m(DefaultActor pid=8882)\u001b[0m   0%|          | 0/1983 [00:00<?, ?it/s]\u001b[32m [repeated 4x across cluster]\u001b[0m\n",
            "\u001b[2m\u001b[36m(DefaultActor pid=8857)\u001b[0m   0%|          | 0/1807 [00:00<?, ?it/s]\u001b[32m [repeated 2x across cluster]\u001b[0m\n",
            "\u001b[2m\u001b[36m(DefaultActor pid=8792)\u001b[0m   0%|          | 0/2044 [00:00<?, ?it/s]\u001b[32m [repeated 3x across cluster]\u001b[0m\n",
            "\u001b[2m\u001b[36m(DefaultActor pid=8857)\u001b[0m   0%|          | 0/1807 [00:00<?, ?it/s]\u001b[32m [repeated 3x across cluster]\u001b[0m\n",
            "\u001b[2m\u001b[36m(DefaultActor pid=8818)\u001b[0m   0%|          | 0/1950 [00:00<?, ?it/s]\u001b[32m [repeated 2x across cluster]\u001b[0m\n",
            "\u001b[2m\u001b[36m(DefaultActor pid=8882)\u001b[0m   0%|          | 0/1983 [00:00<?, ?it/s]\u001b[32m [repeated 3x across cluster]\u001b[0m\n",
            "\u001b[2m\u001b[36m(DefaultActor pid=8857)\u001b[0m   0%|          | 0/1807 [00:00<?, ?it/s]\n",
            "\u001b[2m\u001b[36m(DefaultActor pid=8775)\u001b[0m   0%|          | 0/1807 [00:00<?, ?it/s]\n",
            "\u001b[2m\u001b[36m(DefaultActor pid=8818)\u001b[0m   0%|          | 0/1950 [00:00<?, ?it/s]\n",
            "\u001b[2m\u001b[36m(DefaultActor pid=8792)\u001b[0m   0%|          | 0/2044 [00:00<?, ?it/s]\n",
            "\u001b[2m\u001b[36m(DefaultActor pid=8857)\u001b[0m   0%|          | 0/1807 [00:00<?, ?it/s]\u001b[32m [repeated 3x across cluster]\u001b[0m\n",
            "\u001b[2m\u001b[36m(DefaultActor pid=8818)\u001b[0m   0%|          | 0/1950 [00:00<?, ?it/s]\u001b[32m [repeated 2x across cluster]\u001b[0m\n",
            "\u001b[2m\u001b[36m(DefaultActor pid=8792)\u001b[0m   0%|          | 0/2044 [00:00<?, ?it/s]\u001b[32m [repeated 3x across cluster]\u001b[0m\n",
            "\u001b[2m\u001b[36m(DefaultActor pid=8857)\u001b[0m   0%|          | 0/1807 [00:00<?, ?it/s]\n",
            "\u001b[2m\u001b[36m(DefaultActor pid=8775)\u001b[0m   0%|          | 0/1807 [00:00<?, ?it/s]\n",
            "\u001b[2m\u001b[36m(DefaultActor pid=8818)\u001b[0m   0%|          | 0/1950 [00:00<?, ?it/s]\n",
            "\u001b[2m\u001b[36m(DefaultActor pid=8882)\u001b[0m   0%|          | 0/1983 [00:00<?, ?it/s]\n",
            "\u001b[2m\u001b[36m(DefaultActor pid=8857)\u001b[0m   0%|          | 0/1807 [00:00<?, ?it/s]\u001b[32m [repeated 3x across cluster]\u001b[0m\n",
            "\u001b[2m\u001b[36m(DefaultActor pid=8818)\u001b[0m   0%|          | 0/1950 [00:00<?, ?it/s]\u001b[32m [repeated 2x across cluster]\u001b[0m\n",
            "\u001b[2m\u001b[36m(DefaultActor pid=8833)\u001b[0m   0%|          | 0/2044 [00:00<?, ?it/s]\u001b[32m [repeated 3x across cluster]\u001b[0m\n",
            "\u001b[2m\u001b[36m(DefaultActor pid=8818)\u001b[0m   0%|          | 0/1950 [00:00<?, ?it/s]\u001b[32m [repeated 3x across cluster]\u001b[0m\n",
            "\u001b[2m\u001b[36m(DefaultActor pid=8882)\u001b[0m   0%|          | 0/1983 [00:00<?, ?it/s]\u001b[32m [repeated 2x across cluster]\u001b[0m\n",
            "\u001b[2m\u001b[36m(DefaultActor pid=8792)\u001b[0m   0%|          | 0/2044 [00:00<?, ?it/s]\u001b[32m [repeated 3x across cluster]\u001b[0m\n",
            "\u001b[2m\u001b[36m(DefaultActor pid=8818)\u001b[0m   0%|          | 0/1950 [00:00<?, ?it/s]\n",
            "\u001b[2m\u001b[36m(DefaultActor pid=8857)\u001b[0m [Client 15] get_parameters\n",
            "\u001b[2m\u001b[36m(DefaultActor pid=8857)\u001b[0m [Client 26] fit, config: {'epochs': 10, 'lr': 0.1, 'attacker_epochs': 20, 'attacker_lr': 0.05}\n",
            "\u001b[2m\u001b[36m(DefaultActor pid=8857)\u001b[0m   0%|          | 0/1950 [00:00<?, ?it/s]\n",
            "\u001b[2m\u001b[36m(DefaultActor pid=8775)\u001b[0m [Client 17] get_parameters\n",
            "\u001b[2m\u001b[36m(DefaultActor pid=8882)\u001b[0m   0%|          | 0/1983 [00:00<?, ?it/s]\n",
            "\u001b[2m\u001b[36m(DefaultActor pid=8775)\u001b[0m [Client 21] fit, config: {'epochs': 10, 'lr': 0.1, 'attacker_epochs': 20, 'attacker_lr': 0.05}\n",
            "\u001b[2m\u001b[36m(DefaultActor pid=8775)\u001b[0m   0%|          | 0/2089 [00:00<?, ?it/s]\n",
            "\u001b[2m\u001b[36m(DefaultActor pid=8818)\u001b[0m [Client 25] get_parameters\n",
            "\u001b[2m\u001b[36m(DefaultActor pid=8792)\u001b[0m   0%|          | 0/2044 [00:00<?, ?it/s]\u001b[32m [repeated 2x across cluster]\u001b[0m\n",
            "\u001b[2m\u001b[36m(DefaultActor pid=8818)\u001b[0m [Client 12] fit, config: {'epochs': 10, 'lr': 0.1, 'attacker_epochs': 20, 'attacker_lr': 0.05}\n",
            "\u001b[2m\u001b[36m(DefaultActor pid=8882)\u001b[0m [Client 29] get_parameters\n",
            "\u001b[2m\u001b[36m(DefaultActor pid=8857)\u001b[0m   0%|          | 0/1950 [00:00<?, ?it/s]\u001b[32m [repeated 2x across cluster]\u001b[0m\n",
            "\u001b[2m\u001b[36m(DefaultActor pid=8882)\u001b[0m [Client 4] fit, config: {'epochs': 10, 'lr': 0.1, 'attacker_epochs': 20, 'attacker_lr': 0.05}\n",
            "\u001b[2m\u001b[36m(DefaultActor pid=8792)\u001b[0m [Client 10] get_parameters\n",
            "\u001b[2m\u001b[36m(DefaultActor pid=8775)\u001b[0m   0%|          | 0/2089 [00:00<?, ?it/s]\u001b[32m [repeated 2x across cluster]\u001b[0m\n",
            "\u001b[2m\u001b[36m(DefaultActor pid=8833)\u001b[0m [Client 9] get_parameters\n",
            "\u001b[2m\u001b[36m(DefaultActor pid=8818)\u001b[0m   0%|          | 0/1948 [00:00<?, ?it/s]\n",
            "\u001b[2m\u001b[36m(DefaultActor pid=8857)\u001b[0m   0%|          | 0/1950 [00:00<?, ?it/s]\n",
            "\u001b[2m\u001b[36m(DefaultActor pid=8882)\u001b[0m   0%|          | 0/2247 [00:00<?, ?it/s]\n",
            "\u001b[2m\u001b[36m(DefaultActor pid=8775)\u001b[0m   0%|          | 0/2089 [00:00<?, ?it/s]\n",
            "\u001b[2m\u001b[36m(DefaultActor pid=8818)\u001b[0m   0%|          | 0/1948 [00:00<?, ?it/s]\n",
            "\u001b[2m\u001b[36m(DefaultActor pid=8857)\u001b[0m   0%|          | 0/1950 [00:00<?, ?it/s]\n",
            "\u001b[2m\u001b[36m(DefaultActor pid=8775)\u001b[0m   0%|          | 0/2089 [00:00<?, ?it/s]\n",
            "\u001b[2m\u001b[36m(DefaultActor pid=8882)\u001b[0m   0%|          | 0/2247 [00:00<?, ?it/s]\n",
            "\u001b[2m\u001b[36m(DefaultActor pid=8818)\u001b[0m   0%|          | 0/1948 [00:00<?, ?it/s]\n",
            "\u001b[2m\u001b[36m(DefaultActor pid=8857)\u001b[0m   0%|          | 0/1950 [00:00<?, ?it/s]\n",
            "\u001b[2m\u001b[36m(DefaultActor pid=8775)\u001b[0m   0%|          | 0/2089 [00:00<?, ?it/s]\n",
            "\u001b[2m\u001b[36m(DefaultActor pid=8882)\u001b[0m   0%|          | 0/2247 [00:00<?, ?it/s]\n",
            "\u001b[2m\u001b[36m(DefaultActor pid=8818)\u001b[0m   0%|          | 0/1948 [00:00<?, ?it/s]\n",
            "\u001b[2m\u001b[36m(DefaultActor pid=8857)\u001b[0m   0%|          | 0/1950 [00:00<?, ?it/s]\n",
            "\u001b[2m\u001b[36m(DefaultActor pid=8775)\u001b[0m   0%|          | 0/2089 [00:00<?, ?it/s]\n",
            "\u001b[2m\u001b[36m(DefaultActor pid=8882)\u001b[0m   0%|          | 0/2247 [00:00<?, ?it/s]\n",
            "\u001b[2m\u001b[36m(DefaultActor pid=8818)\u001b[0m   0%|          | 0/1948 [00:00<?, ?it/s]\n",
            "\u001b[2m\u001b[36m(DefaultActor pid=8857)\u001b[0m   0%|          | 0/1950 [00:00<?, ?it/s]\n",
            "\u001b[2m\u001b[36m(DefaultActor pid=8775)\u001b[0m   0%|          | 0/2089 [00:00<?, ?it/s]\n",
            "\u001b[2m\u001b[36m(DefaultActor pid=8882)\u001b[0m   0%|          | 0/2247 [00:00<?, ?it/s]\n",
            "\u001b[2m\u001b[36m(DefaultActor pid=8775)\u001b[0m   0%|          | 0/2089 [00:00<?, ?it/s]\u001b[32m [repeated 3x across cluster]\u001b[0m\n",
            "\u001b[2m\u001b[36m(DefaultActor pid=8818)\u001b[0m   0%|          | 0/1948 [00:00<?, ?it/s]\n",
            "\u001b[2m\u001b[36m(DefaultActor pid=8882)\u001b[0m   0%|          | 0/2247 [00:00<?, ?it/s]\n",
            "\u001b[2m\u001b[36m(DefaultActor pid=8775)\u001b[0m   0%|          | 0/2089 [00:00<?, ?it/s]\u001b[32m [repeated 2x across cluster]\u001b[0m\n",
            "\u001b[2m\u001b[36m(DefaultActor pid=8818)\u001b[0m   0%|          | 0/1948 [00:00<?, ?it/s]\n",
            "\u001b[2m\u001b[36m(DefaultActor pid=8857)\u001b[0m   0%|          | 0/1950 [00:00<?, ?it/s]\n",
            "\u001b[2m\u001b[36m(DefaultActor pid=8775)\u001b[0m   0%|          | 0/2089 [00:00<?, ?it/s]\u001b[32m [repeated 2x across cluster]\u001b[0m\n",
            "\u001b[2m\u001b[36m(DefaultActor pid=8857)\u001b[0m [Client 26] get_parameters\n",
            "\u001b[2m\u001b[36m(DefaultActor pid=8882)\u001b[0m   0%|          | 0/2247 [00:00<?, ?it/s]\u001b[32m [repeated 2x across cluster]\u001b[0m\n",
            "\u001b[2m\u001b[36m(DefaultActor pid=8775)\u001b[0m [Client 21] get_parameters\n",
            "\u001b[2m\u001b[36m(DefaultActor pid=8818)\u001b[0m [Client 12] get_parameters\n",
            "\u001b[2m\u001b[36m(DefaultActor pid=8882)\u001b[0m   0%|          | 0/2247 [00:00<?, ?it/s]\n"
          ]
        },
        {
          "output_type": "stream",
          "name": "stderr",
          "text": [
            "DEBUG flwr 2024-01-02 04:04:15,694 | server.py:236 | fit_round 4 received 10 results and 0 failures\n",
            "DEBUG:flwr:fit_round 4 received 10 results and 0 failures\n",
            "DEBUG flwr 2024-01-02 04:04:15,801 | server.py:173 | evaluate_round 4: strategy sampled 10 clients (out of 30)\n",
            "DEBUG:flwr:evaluate_round 4: strategy sampled 10 clients (out of 30)\n"
          ]
        },
        {
          "output_type": "stream",
          "name": "stdout",
          "text": [
            "\u001b[2m\u001b[36m(DefaultActor pid=8882)\u001b[0m [Client 4] get_parameters\n",
            "Saving round 4 aggregated_parameters...\n",
            "\u001b[2m\u001b[36m(DefaultActor pid=8882)\u001b[0m   0%|          | 0/378 [00:00<?, ?it/s]\n",
            "\u001b[2m\u001b[36m(DefaultActor pid=8792)\u001b[0m [Client 18] evaluate, config: {}, local accuracy: 0.0\n"
          ]
        },
        {
          "output_type": "stream",
          "name": "stderr",
          "text": [
            "DEBUG flwr 2024-01-02 04:04:22,643 | server.py:187 | evaluate_round 4 received 10 results and 0 failures\n",
            "DEBUG:flwr:evaluate_round 4 received 10 results and 0 failures\n",
            "DEBUG flwr 2024-01-02 04:04:22,646 | server.py:222 | fit_round 5: strategy sampled 10 clients (out of 30)\n",
            "DEBUG:flwr:fit_round 5: strategy sampled 10 clients (out of 30)\n"
          ]
        },
        {
          "output_type": "stream",
          "name": "stdout",
          "text": [
            "\u001b[2m\u001b[36m(DefaultActor pid=8857)\u001b[0m   0%|          | 0/343 [00:00<?, ?it/s]\u001b[32m [repeated 9x across cluster]\u001b[0m\n",
            "\u001b[2m\u001b[36m(DefaultActor pid=8792)\u001b[0m [Client 29] fit, config: {'epochs': 10, 'lr': 0.1, 'attacker_epochs': 20, 'attacker_lr': 0.05}\n",
            "\u001b[2m\u001b[36m(DefaultActor pid=8857)\u001b[0m [Client 21] evaluate, config: {}, local accuracy: 0.0\u001b[32m [repeated 9x across cluster]\u001b[0m\n",
            "\u001b[2m\u001b[36m(DefaultActor pid=8792)\u001b[0m   0%|          | 0/1983 [00:00<?, ?it/s]\u001b[32m [repeated 7x across cluster]\u001b[0m\n",
            "\u001b[2m\u001b[36m(DefaultActor pid=8882)\u001b[0m [Client 21] fit, config: {'epochs': 10, 'lr': 0.1, 'attacker_epochs': 20, 'attacker_lr': 0.05}\u001b[32m [repeated 5x across cluster]\u001b[0m\n",
            "\u001b[2m\u001b[36m(DefaultActor pid=8857)\u001b[0m   0%|          | 0/1947 [00:00<?, ?it/s]\u001b[32m [repeated 6x across cluster]\u001b[0m\n",
            "\u001b[2m\u001b[36m(DefaultActor pid=8818)\u001b[0m   0%|          | 0/2043 [00:00<?, ?it/s]\u001b[32m [repeated 5x across cluster]\u001b[0m\n",
            "\u001b[2m\u001b[36m(DefaultActor pid=8857)\u001b[0m   0%|          | 0/1947 [00:00<?, ?it/s]\n",
            "\u001b[2m\u001b[36m(DefaultActor pid=8775)\u001b[0m   0%|          | 0/1947 [00:00<?, ?it/s]\n",
            "\u001b[2m\u001b[36m(DefaultActor pid=8882)\u001b[0m   0%|          | 0/2089 [00:00<?, ?it/s]\u001b[32m [repeated 3x across cluster]\u001b[0m\n",
            "\u001b[2m\u001b[36m(DefaultActor pid=8857)\u001b[0m   0%|          | 0/1947 [00:00<?, ?it/s]\u001b[32m [repeated 2x across cluster]\u001b[0m\n",
            "\u001b[2m\u001b[36m(DefaultActor pid=8833)\u001b[0m   0%|          | 0/1974 [00:00<?, ?it/s]\u001b[32m [repeated 2x across cluster]\u001b[0m\n",
            "\u001b[2m\u001b[36m(DefaultActor pid=8882)\u001b[0m   0%|          | 0/2089 [00:00<?, ?it/s]\u001b[32m [repeated 2x across cluster]\u001b[0m\n",
            "\u001b[2m\u001b[36m(DefaultActor pid=8857)\u001b[0m   0%|          | 0/1947 [00:00<?, ?it/s]\u001b[32m [repeated 2x across cluster]\u001b[0m\n",
            "\u001b[2m\u001b[36m(DefaultActor pid=8833)\u001b[0m   0%|          | 0/1974 [00:00<?, ?it/s]\u001b[32m [repeated 2x across cluster]\u001b[0m\n",
            "\u001b[2m\u001b[36m(DefaultActor pid=8818)\u001b[0m   0%|          | 0/2043 [00:00<?, ?it/s]\u001b[32m [repeated 2x across cluster]\u001b[0m\n",
            "\u001b[2m\u001b[36m(DefaultActor pid=8857)\u001b[0m   0%|          | 0/1947 [00:00<?, ?it/s]\u001b[32m [repeated 2x across cluster]\u001b[0m\n",
            "\u001b[2m\u001b[36m(DefaultActor pid=8792)\u001b[0m   0%|          | 0/1983 [00:00<?, ?it/s]\u001b[32m [repeated 2x across cluster]\u001b[0m\n",
            "\u001b[2m\u001b[36m(DefaultActor pid=8882)\u001b[0m   0%|          | 0/2089 [00:00<?, ?it/s]\u001b[32m [repeated 2x across cluster]\u001b[0m\n",
            "\u001b[2m\u001b[36m(DefaultActor pid=8857)\u001b[0m   0%|          | 0/1947 [00:00<?, ?it/s]\u001b[32m [repeated 2x across cluster]\u001b[0m\n",
            "\u001b[2m\u001b[36m(DefaultActor pid=8792)\u001b[0m   0%|          | 0/1983 [00:00<?, ?it/s]\u001b[32m [repeated 2x across cluster]\u001b[0m\n",
            "\u001b[2m\u001b[36m(DefaultActor pid=8882)\u001b[0m   0%|          | 0/2089 [00:00<?, ?it/s]\u001b[32m [repeated 2x across cluster]\u001b[0m\n",
            "\u001b[2m\u001b[36m(DefaultActor pid=8857)\u001b[0m   0%|          | 0/1947 [00:00<?, ?it/s]\u001b[32m [repeated 2x across cluster]\u001b[0m\n",
            "\u001b[2m\u001b[36m(DefaultActor pid=8833)\u001b[0m   0%|          | 0/1974 [00:00<?, ?it/s]\u001b[32m [repeated 2x across cluster]\u001b[0m\n",
            "\u001b[2m\u001b[36m(DefaultActor pid=8818)\u001b[0m   0%|          | 0/2043 [00:00<?, ?it/s]\u001b[32m [repeated 2x across cluster]\u001b[0m\n",
            "\u001b[2m\u001b[36m(DefaultActor pid=8857)\u001b[0m   0%|          | 0/1947 [00:00<?, ?it/s]\u001b[32m [repeated 2x across cluster]\u001b[0m\n",
            "\u001b[2m\u001b[36m(DefaultActor pid=8792)\u001b[0m   0%|          | 0/1983 [00:00<?, ?it/s]\u001b[32m [repeated 2x across cluster]\u001b[0m\n",
            "\u001b[2m\u001b[36m(DefaultActor pid=8818)\u001b[0m   0%|          | 0/2043 [00:00<?, ?it/s]\u001b[32m [repeated 2x across cluster]\u001b[0m\n",
            "\u001b[2m\u001b[36m(DefaultActor pid=8775)\u001b[0m [Client 13] get_parameters\n",
            "\u001b[2m\u001b[36m(DefaultActor pid=8882)\u001b[0m   0%|          | 0/2089 [00:00<?, ?it/s]\n",
            "\u001b[2m\u001b[36m(DefaultActor pid=8775)\u001b[0m [Client 9] fit, config: {'epochs': 10, 'lr': 0.1, 'attacker_epochs': 20, 'attacker_lr': 0.05}\n",
            "\u001b[2m\u001b[36m(DefaultActor pid=8775)\u001b[0m   0%|          | 0/2044 [00:00<?, ?it/s]\n",
            "\u001b[2m\u001b[36m(DefaultActor pid=8833)\u001b[0m [Client 1] get_parameters\u001b[32m [repeated 2x across cluster]\u001b[0m\n",
            "\u001b[2m\u001b[36m(DefaultActor pid=8857)\u001b[0m [Client 25] fit, config: {'epochs': 10, 'lr': 0.1, 'attacker_epochs': 20, 'attacker_lr': 0.05}\n",
            "\u001b[2m\u001b[36m(DefaultActor pid=8857)\u001b[0m   0%|          | 0/1950 [00:00<?, ?it/s]\n",
            "\u001b[2m\u001b[36m(DefaultActor pid=8833)\u001b[0m [Client 24] fit, config: {'epochs': 10, 'lr': 0.1, 'attacker_epochs': 20, 'attacker_lr': 0.05}\n",
            "\u001b[2m\u001b[36m(DefaultActor pid=8833)\u001b[0m   0%|          | 0/1951 [00:00<?, ?it/s]\n",
            "\u001b[2m\u001b[36m(DefaultActor pid=8818)\u001b[0m [Client 11] get_parameters\u001b[32m [repeated 2x across cluster]\u001b[0m\n",
            "\u001b[2m\u001b[36m(DefaultActor pid=8792)\u001b[0m [Client 18] fit, config: {'epochs': 10, 'lr': 0.1, 'attacker_epochs': 20, 'attacker_lr': 0.05}\n",
            "\u001b[2m\u001b[36m(DefaultActor pid=8792)\u001b[0m   0%|          | 0/1973 [00:00<?, ?it/s]\n",
            "\u001b[2m\u001b[36m(DefaultActor pid=8857)\u001b[0m   0%|          | 0/1950 [00:00<?, ?it/s]\n",
            "\u001b[2m\u001b[36m(DefaultActor pid=8882)\u001b[0m [Client 21] get_parameters\n",
            "\u001b[2m\u001b[36m(DefaultActor pid=8833)\u001b[0m   0%|          | 0/1951 [00:00<?, ?it/s]\u001b[32m [repeated 2x across cluster]\u001b[0m\n",
            "\u001b[2m\u001b[36m(DefaultActor pid=8857)\u001b[0m   0%|          | 0/1950 [00:00<?, ?it/s]\u001b[32m [repeated 2x across cluster]\u001b[0m\n",
            "\u001b[2m\u001b[36m(DefaultActor pid=8833)\u001b[0m   0%|          | 0/1951 [00:00<?, ?it/s]\u001b[32m [repeated 2x across cluster]\u001b[0m\n",
            "\u001b[2m\u001b[36m(DefaultActor pid=8857)\u001b[0m   0%|          | 0/1950 [00:00<?, ?it/s]\u001b[32m [repeated 2x across cluster]\u001b[0m\n",
            "\u001b[2m\u001b[36m(DefaultActor pid=8775)\u001b[0m   0%|          | 0/2044 [00:00<?, ?it/s]\n",
            "\u001b[2m\u001b[36m(DefaultActor pid=8833)\u001b[0m   0%|          | 0/1951 [00:00<?, ?it/s]\n",
            "\u001b[2m\u001b[36m(DefaultActor pid=8857)\u001b[0m   0%|          | 0/1950 [00:00<?, ?it/s]\u001b[32m [repeated 2x across cluster]\u001b[0m\n",
            "\u001b[2m\u001b[36m(DefaultActor pid=8775)\u001b[0m   0%|          | 0/2044 [00:00<?, ?it/s]\n",
            "\u001b[2m\u001b[36m(DefaultActor pid=8833)\u001b[0m   0%|          | 0/1951 [00:00<?, ?it/s]\n",
            "\u001b[2m\u001b[36m(DefaultActor pid=8857)\u001b[0m   0%|          | 0/1950 [00:00<?, ?it/s]\u001b[32m [repeated 2x across cluster]\u001b[0m\n",
            "\u001b[2m\u001b[36m(DefaultActor pid=8833)\u001b[0m   0%|          | 0/1951 [00:00<?, ?it/s]\u001b[32m [repeated 2x across cluster]\u001b[0m\n",
            "\u001b[2m\u001b[36m(DefaultActor pid=8857)\u001b[0m   0%|          | 0/1950 [00:00<?, ?it/s]\u001b[32m [repeated 2x across cluster]\u001b[0m\n",
            "\u001b[2m\u001b[36m(DefaultActor pid=8833)\u001b[0m   0%|          | 0/1951 [00:00<?, ?it/s]\u001b[32m [repeated 2x across cluster]\u001b[0m\n",
            "\u001b[2m\u001b[36m(DefaultActor pid=8857)\u001b[0m   0%|          | 0/1950 [00:00<?, ?it/s]\u001b[32m [repeated 2x across cluster]\u001b[0m\n",
            "\u001b[2m\u001b[36m(DefaultActor pid=8792)\u001b[0m   0%|          | 0/1973 [00:00<?, ?it/s]\u001b[32m [repeated 3x across cluster]\u001b[0m\n",
            "\u001b[2m\u001b[36m(DefaultActor pid=8857)\u001b[0m   0%|          | 0/1950 [00:00<?, ?it/s]\n",
            "\u001b[2m\u001b[36m(DefaultActor pid=8833)\u001b[0m   0%|          | 0/1951 [00:00<?, ?it/s]\n",
            "\u001b[2m\u001b[36m(DefaultActor pid=8792)\u001b[0m   0%|          | 0/1973 [00:00<?, ?it/s]\u001b[32m [repeated 2x across cluster]\u001b[0m\n",
            "\u001b[2m\u001b[36m(DefaultActor pid=8857)\u001b[0m   0%|          | 0/1950 [00:00<?, ?it/s]\n",
            "\u001b[2m\u001b[36m(DefaultActor pid=8833)\u001b[0m   0%|          | 0/1951 [00:00<?, ?it/s]\n",
            "\u001b[2m\u001b[36m(DefaultActor pid=8833)\u001b[0m [Client 24] get_parameters\n",
            "\u001b[2m\u001b[36m(DefaultActor pid=8775)\u001b[0m   0%|          | 0/2044 [00:00<?, ?it/s]\u001b[32m [repeated 2x across cluster]\u001b[0m\n"
          ]
        },
        {
          "output_type": "stream",
          "name": "stderr",
          "text": [
            "DEBUG flwr 2024-01-02 04:13:33,737 | server.py:236 | fit_round 5 received 10 results and 0 failures\n",
            "DEBUG:flwr:fit_round 5 received 10 results and 0 failures\n",
            "DEBUG flwr 2024-01-02 04:13:33,814 | server.py:173 | evaluate_round 5: strategy sampled 10 clients (out of 30)\n",
            "DEBUG:flwr:evaluate_round 5: strategy sampled 10 clients (out of 30)\n"
          ]
        },
        {
          "output_type": "stream",
          "name": "stdout",
          "text": [
            "Saving round 5 aggregated_parameters...\n",
            "\u001b[2m\u001b[36m(DefaultActor pid=8775)\u001b[0m [Client 7] evaluate, config: {}, local accuracy: 0.0\n",
            "\u001b[2m\u001b[36m(DefaultActor pid=8775)\u001b[0m [Client 9] get_parameters\u001b[32m [repeated 3x across cluster]\u001b[0m\n",
            "\u001b[2m\u001b[36m(DefaultActor pid=8882)\u001b[0m   0%|          | 0/378 [00:00<?, ?it/s]\u001b[32m [repeated 6x across cluster]\u001b[0m\n"
          ]
        },
        {
          "output_type": "stream",
          "name": "stderr",
          "text": [
            "DEBUG flwr 2024-01-02 04:13:42,164 | server.py:187 | evaluate_round 5 received 10 results and 0 failures\n",
            "DEBUG:flwr:evaluate_round 5 received 10 results and 0 failures\n",
            "DEBUG flwr 2024-01-02 04:13:42,167 | server.py:222 | fit_round 6: strategy sampled 10 clients (out of 30)\n",
            "DEBUG:flwr:fit_round 6: strategy sampled 10 clients (out of 30)\n"
          ]
        },
        {
          "output_type": "stream",
          "name": "stdout",
          "text": [
            "\u001b[2m\u001b[36m(DefaultActor pid=8792)\u001b[0m [Client 22] fit, config: {'epochs': 10, 'lr': 0.1, 'attacker_epochs': 20, 'attacker_lr': 0.05}\n",
            "\u001b[2m\u001b[36m(DefaultActor pid=8792)\u001b[0m [Client 10] evaluate, config: {}, local accuracy: 1.0\u001b[32m [repeated 9x across cluster]\u001b[0m\n",
            "\u001b[2m\u001b[36m(DefaultActor pid=8833)\u001b[0m   0%|          | 0/1983 [00:00<?, ?it/s]\u001b[32m [repeated 7x across cluster]\u001b[0m\n",
            "\u001b[2m\u001b[36m(DefaultActor pid=8857)\u001b[0m [Client 1] fit, config: {'epochs': 10, 'lr': 0.1, 'attacker_epochs': 20, 'attacker_lr': 0.05}\u001b[32m [repeated 5x across cluster]\u001b[0m\n",
            "\u001b[2m\u001b[36m(DefaultActor pid=8857)\u001b[0m   0%|          | 0/1974 [00:00<?, ?it/s]\u001b[32m [repeated 4x across cluster]\u001b[0m\n",
            "\u001b[2m\u001b[36m(DefaultActor pid=8857)\u001b[0m   0%|          | 0/1974 [00:00<?, ?it/s]\u001b[32m [repeated 6x across cluster]\u001b[0m\n",
            "\u001b[2m\u001b[36m(DefaultActor pid=8792)\u001b[0m   0%|          | 0/2088 [00:00<?, ?it/s]\u001b[32m [repeated 5x across cluster]\u001b[0m\n",
            "\u001b[2m\u001b[36m(DefaultActor pid=8857)\u001b[0m   0%|          | 0/1974 [00:00<?, ?it/s]\n",
            "\u001b[2m\u001b[36m(DefaultActor pid=8775)\u001b[0m   0%|          | 0/1972 [00:00<?, ?it/s]\n",
            "\u001b[2m\u001b[36m(DefaultActor pid=8792)\u001b[0m   0%|          | 0/2088 [00:00<?, ?it/s]\u001b[32m [repeated 4x across cluster]\u001b[0m\n",
            "\u001b[2m\u001b[36m(DefaultActor pid=8857)\u001b[0m   0%|          | 0/1974 [00:00<?, ?it/s]\n",
            "\u001b[2m\u001b[36m(DefaultActor pid=8775)\u001b[0m   0%|          | 0/1972 [00:00<?, ?it/s]\n",
            "\u001b[2m\u001b[36m(DefaultActor pid=8792)\u001b[0m   0%|          | 0/2088 [00:00<?, ?it/s]\u001b[32m [repeated 4x across cluster]\u001b[0m\n",
            "\u001b[2m\u001b[36m(DefaultActor pid=8857)\u001b[0m   0%|          | 0/1974 [00:00<?, ?it/s]\n",
            "\u001b[2m\u001b[36m(DefaultActor pid=8775)\u001b[0m   0%|          | 0/1972 [00:00<?, ?it/s]\n",
            "\u001b[2m\u001b[36m(DefaultActor pid=8882)\u001b[0m   0%|          | 0/2044 [00:00<?, ?it/s]\u001b[32m [repeated 3x across cluster]\u001b[0m\n",
            "\u001b[2m\u001b[36m(DefaultActor pid=8792)\u001b[0m   0%|          | 0/2088 [00:00<?, ?it/s]\n",
            "\u001b[2m\u001b[36m(DefaultActor pid=8857)\u001b[0m   0%|          | 0/1974 [00:00<?, ?it/s]\n",
            "\u001b[2m\u001b[36m(DefaultActor pid=8775)\u001b[0m   0%|          | 0/1972 [00:00<?, ?it/s]\n",
            "\u001b[2m\u001b[36m(DefaultActor pid=8882)\u001b[0m   0%|          | 0/2044 [00:00<?, ?it/s]\n",
            "\u001b[2m\u001b[36m(DefaultActor pid=8792)\u001b[0m   0%|          | 0/2088 [00:00<?, ?it/s]\u001b[32m [repeated 3x across cluster]\u001b[0m\n",
            "\u001b[2m\u001b[36m(DefaultActor pid=8857)\u001b[0m   0%|          | 0/1974 [00:00<?, ?it/s]\n",
            "\u001b[2m\u001b[36m(DefaultActor pid=8775)\u001b[0m   0%|          | 0/1972 [00:00<?, ?it/s]\n",
            "\u001b[2m\u001b[36m(DefaultActor pid=8818)\u001b[0m   0%|          | 0/1973 [00:00<?, ?it/s]\n",
            "\u001b[2m\u001b[36m(DefaultActor pid=8833)\u001b[0m   0%|          | 0/1983 [00:00<?, ?it/s]\n",
            "\u001b[2m\u001b[36m(DefaultActor pid=8792)\u001b[0m   0%|          | 0/2088 [00:00<?, ?it/s]\u001b[32m [repeated 2x across cluster]\u001b[0m\n",
            "\u001b[2m\u001b[36m(DefaultActor pid=8857)\u001b[0m   0%|          | 0/1974 [00:00<?, ?it/s]\n",
            "\u001b[2m\u001b[36m(DefaultActor pid=8775)\u001b[0m   0%|          | 0/1972 [00:00<?, ?it/s]\n",
            "\u001b[2m\u001b[36m(DefaultActor pid=8818)\u001b[0m   0%|          | 0/1973 [00:00<?, ?it/s]\n",
            "\u001b[2m\u001b[36m(DefaultActor pid=8833)\u001b[0m   0%|          | 0/1983 [00:00<?, ?it/s]\n",
            "\u001b[2m\u001b[36m(DefaultActor pid=8792)\u001b[0m   0%|          | 0/2088 [00:00<?, ?it/s]\u001b[32m [repeated 2x across cluster]\u001b[0m\n",
            "\u001b[2m\u001b[36m(DefaultActor pid=8775)\u001b[0m   0%|          | 0/1972 [00:00<?, ?it/s]\n",
            "\u001b[2m\u001b[36m(DefaultActor pid=8857)\u001b[0m   0%|          | 0/1974 [00:00<?, ?it/s]\n",
            "\u001b[2m\u001b[36m(DefaultActor pid=8818)\u001b[0m   0%|          | 0/1973 [00:00<?, ?it/s]\n",
            "\u001b[2m\u001b[36m(DefaultActor pid=8833)\u001b[0m   0%|          | 0/1983 [00:00<?, ?it/s]\n",
            "\u001b[2m\u001b[36m(DefaultActor pid=8792)\u001b[0m   0%|          | 0/2088 [00:00<?, ?it/s]\u001b[32m [repeated 2x across cluster]\u001b[0m\n",
            "\u001b[2m\u001b[36m(DefaultActor pid=8775)\u001b[0m [Client 20] get_parameters\n",
            "\u001b[2m\u001b[36m(DefaultActor pid=8775)\u001b[0m [Client 15] fit, config: {'epochs': 10, 'lr': 0.1, 'attacker_epochs': 20, 'attacker_lr': 0.05}\n",
            "\u001b[2m\u001b[36m(DefaultActor pid=8775)\u001b[0m   0%|          | 0/1807 [00:00<?, ?it/s]\n",
            "\u001b[2m\u001b[36m(DefaultActor pid=8818)\u001b[0m [Client 18] get_parameters\u001b[32m [repeated 2x across cluster]\u001b[0m\n",
            "\u001b[2m\u001b[36m(DefaultActor pid=8857)\u001b[0m [Client 8] fit, config: {'epochs': 10, 'lr': 0.1, 'attacker_epochs': 20, 'attacker_lr': 0.05}\n",
            "\u001b[2m\u001b[36m(DefaultActor pid=8857)\u001b[0m   0%|          | 0/1986 [00:00<?, ?it/s]\n",
            "\u001b[2m\u001b[36m(DefaultActor pid=8818)\u001b[0m [Client 26] fit, config: {'epochs': 10, 'lr': 0.1, 'attacker_epochs': 20, 'attacker_lr': 0.05}\n",
            "\u001b[2m\u001b[36m(DefaultActor pid=8818)\u001b[0m   0%|          | 0/1950 [00:00<?, ?it/s]\n",
            "\u001b[2m\u001b[36m(DefaultActor pid=8882)\u001b[0m [Client 9] get_parameters\u001b[32m [repeated 2x across cluster]\u001b[0m\n",
            "\u001b[2m\u001b[36m(DefaultActor pid=8833)\u001b[0m [Client 10] fit, config: {'epochs': 10, 'lr': 0.1, 'attacker_epochs': 20, 'attacker_lr': 0.05}\n",
            "\u001b[2m\u001b[36m(DefaultActor pid=8833)\u001b[0m   0%|          | 0/2044 [00:00<?, ?it/s]\n",
            "\u001b[2m\u001b[36m(DefaultActor pid=8792)\u001b[0m [Client 22] get_parameters\n",
            "\u001b[2m\u001b[36m(DefaultActor pid=8775)\u001b[0m   0%|          | 0/1807 [00:00<?, ?it/s]\n",
            "\u001b[2m\u001b[36m(DefaultActor pid=8818)\u001b[0m   0%|          | 0/1950 [00:00<?, ?it/s]\u001b[32m [repeated 2x across cluster]\u001b[0m\n",
            "\u001b[2m\u001b[36m(DefaultActor pid=8857)\u001b[0m   0%|          | 0/1986 [00:00<?, ?it/s]\u001b[32m [repeated 2x across cluster]\u001b[0m\n",
            "\u001b[2m\u001b[36m(DefaultActor pid=8818)\u001b[0m   0%|          | 0/1950 [00:00<?, ?it/s]\u001b[32m [repeated 2x across cluster]\u001b[0m\n",
            "\u001b[2m\u001b[36m(DefaultActor pid=8833)\u001b[0m   0%|          | 0/2044 [00:00<?, ?it/s]\n",
            "\u001b[2m\u001b[36m(DefaultActor pid=8775)\u001b[0m   0%|          | 0/1807 [00:00<?, ?it/s]\n",
            "\u001b[2m\u001b[36m(DefaultActor pid=8818)\u001b[0m   0%|          | 0/1950 [00:00<?, ?it/s]\u001b[32m [repeated 2x across cluster]\u001b[0m\n",
            "\u001b[2m\u001b[36m(DefaultActor pid=8833)\u001b[0m   0%|          | 0/2044 [00:00<?, ?it/s]\n",
            "\u001b[2m\u001b[36m(DefaultActor pid=8775)\u001b[0m   0%|          | 0/1807 [00:00<?, ?it/s]\n",
            "\u001b[2m\u001b[36m(DefaultActor pid=8818)\u001b[0m   0%|          | 0/1950 [00:00<?, ?it/s]\u001b[32m [repeated 2x across cluster]\u001b[0m\n",
            "\u001b[2m\u001b[36m(DefaultActor pid=8833)\u001b[0m   0%|          | 0/2044 [00:00<?, ?it/s]\n",
            "\u001b[2m\u001b[36m(DefaultActor pid=8775)\u001b[0m   0%|          | 0/1807 [00:00<?, ?it/s]\n",
            "\u001b[2m\u001b[36m(DefaultActor pid=8857)\u001b[0m   0%|          | 0/1986 [00:00<?, ?it/s]\n",
            "\u001b[2m\u001b[36m(DefaultActor pid=8818)\u001b[0m   0%|          | 0/1950 [00:00<?, ?it/s]\n",
            "\u001b[2m\u001b[36m(DefaultActor pid=8833)\u001b[0m   0%|          | 0/2044 [00:00<?, ?it/s]\u001b[32m [repeated 2x across cluster]\u001b[0m\n",
            "\u001b[2m\u001b[36m(DefaultActor pid=8857)\u001b[0m   0%|          | 0/1986 [00:00<?, ?it/s]\n",
            "\u001b[2m\u001b[36m(DefaultActor pid=8818)\u001b[0m   0%|          | 0/1950 [00:00<?, ?it/s]\n",
            "\u001b[2m\u001b[36m(DefaultActor pid=8833)\u001b[0m   0%|          | 0/2044 [00:00<?, ?it/s]\u001b[32m [repeated 2x across cluster]\u001b[0m\n",
            "\u001b[2m\u001b[36m(DefaultActor pid=8857)\u001b[0m   0%|          | 0/1986 [00:00<?, ?it/s]\n",
            "\u001b[2m\u001b[36m(DefaultActor pid=8775)\u001b[0m   0%|          | 0/1807 [00:00<?, ?it/s]\n",
            "\u001b[2m\u001b[36m(DefaultActor pid=8775)\u001b[0m   0%|          | 0/1807 [00:00<?, ?it/s]\u001b[32m [repeated 3x across cluster]\u001b[0m\n",
            "\u001b[2m\u001b[36m(DefaultActor pid=8833)\u001b[0m   0%|          | 0/2044 [00:00<?, ?it/s]\u001b[32m [repeated 3x across cluster]\u001b[0m\n",
            "\u001b[2m\u001b[36m(DefaultActor pid=8775)\u001b[0m [Client 15] get_parameters\n",
            "\u001b[2m\u001b[36m(DefaultActor pid=8857)\u001b[0m   0%|          | 0/1986 [00:00<?, ?it/s]\n",
            "\u001b[2m\u001b[36m(DefaultActor pid=8833)\u001b[0m   0%|          | 0/2044 [00:00<?, ?it/s]\u001b[32m [repeated 2x across cluster]\u001b[0m\n",
            "\u001b[2m\u001b[36m(DefaultActor pid=8857)\u001b[0m [Client 8] get_parameters\n"
          ]
        },
        {
          "output_type": "stream",
          "name": "stderr",
          "text": [
            "DEBUG flwr 2024-01-02 04:23:00,381 | server.py:236 | fit_round 6 received 10 results and 0 failures\n",
            "DEBUG:flwr:fit_round 6 received 10 results and 0 failures\n",
            "DEBUG flwr 2024-01-02 04:23:00,490 | server.py:173 | evaluate_round 6: strategy sampled 10 clients (out of 30)\n",
            "DEBUG:flwr:evaluate_round 6: strategy sampled 10 clients (out of 30)\n"
          ]
        },
        {
          "output_type": "stream",
          "name": "stdout",
          "text": [
            "Saving round 6 aggregated_parameters...\n",
            "\u001b[2m\u001b[36m(DefaultActor pid=8833)\u001b[0m   0%|          | 0/297 [00:00<?, ?it/s]\n",
            "\u001b[2m\u001b[36m(DefaultActor pid=8833)\u001b[0m [Client 17] evaluate, config: {}, local accuracy: 0.0\n",
            "\u001b[2m\u001b[36m(DefaultActor pid=8833)\u001b[0m [Client 10] get_parameters\u001b[32m [repeated 2x across cluster]\u001b[0m\n",
            "\u001b[2m\u001b[36m(DefaultActor pid=8857)\u001b[0m   0%|          | 0/337 [00:00<?, ?it/s]\u001b[32m [repeated 7x across cluster]\u001b[0m\n"
          ]
        },
        {
          "output_type": "stream",
          "name": "stderr",
          "text": [
            "DEBUG flwr 2024-01-02 04:23:08,699 | server.py:187 | evaluate_round 6 received 10 results and 0 failures\n",
            "DEBUG:flwr:evaluate_round 6 received 10 results and 0 failures\n",
            "DEBUG flwr 2024-01-02 04:23:08,703 | server.py:222 | fit_round 7: strategy sampled 10 clients (out of 30)\n",
            "DEBUG:flwr:fit_round 7: strategy sampled 10 clients (out of 30)\n"
          ]
        },
        {
          "output_type": "stream",
          "name": "stdout",
          "text": [
            "\u001b[2m\u001b[36m(DefaultActor pid=8857)\u001b[0m [Client 8] fit, config: {'epochs': 10, 'lr': 0.1, 'attacker_epochs': 20, 'attacker_lr': 0.05}\n",
            "\u001b[2m\u001b[36m(DefaultActor pid=8857)\u001b[0m [Client 9] evaluate, config: {}, local accuracy: 0.0\u001b[32m [repeated 9x across cluster]\u001b[0m\n",
            "\u001b[2m\u001b[36m(DefaultActor pid=8775)\u001b[0m   0%|          | 0/1973 [00:00<?, ?it/s]\u001b[32m [repeated 9x across cluster]\u001b[0m\n",
            "\u001b[2m\u001b[36m(DefaultActor pid=8882)\u001b[0m [Client 3] fit, config: {'epochs': 10, 'lr': 0.1, 'attacker_epochs': 20, 'attacker_lr': 0.05}\u001b[32m [repeated 5x across cluster]\u001b[0m\n",
            "\u001b[2m\u001b[36m(DefaultActor pid=8882)\u001b[0m   0%|          | 0/2248 [00:00<?, ?it/s]\u001b[32m [repeated 5x across cluster]\u001b[0m\n",
            "\u001b[2m\u001b[36m(DefaultActor pid=8775)\u001b[0m   0%|          | 0/1973 [00:00<?, ?it/s]\n",
            "\u001b[2m\u001b[36m(DefaultActor pid=8833)\u001b[0m   0%|          | 0/1986 [00:00<?, ?it/s]\n",
            "\u001b[2m\u001b[36m(DefaultActor pid=8882)\u001b[0m   0%|          | 0/2248 [00:00<?, ?it/s]\u001b[32m [repeated 4x across cluster]\u001b[0m\n",
            "\u001b[2m\u001b[36m(DefaultActor pid=8775)\u001b[0m   0%|          | 0/1973 [00:00<?, ?it/s]\n",
            "\u001b[2m\u001b[36m(DefaultActor pid=8833)\u001b[0m   0%|          | 0/1986 [00:00<?, ?it/s]\n",
            "\u001b[2m\u001b[36m(DefaultActor pid=8882)\u001b[0m   0%|          | 0/2248 [00:00<?, ?it/s]\u001b[32m [repeated 4x across cluster]\u001b[0m\n",
            "\u001b[2m\u001b[36m(DefaultActor pid=8857)\u001b[0m   0%|          | 0/1986 [00:00<?, ?it/s]\n",
            "\u001b[2m\u001b[36m(DefaultActor pid=8775)\u001b[0m   0%|          | 0/1973 [00:00<?, ?it/s]\n",
            "\u001b[2m\u001b[36m(DefaultActor pid=8882)\u001b[0m   0%|          | 0/2248 [00:00<?, ?it/s]\u001b[32m [repeated 4x across cluster]\u001b[0m\n",
            "\u001b[2m\u001b[36m(DefaultActor pid=8857)\u001b[0m   0%|          | 0/1986 [00:00<?, ?it/s]\n",
            "\u001b[2m\u001b[36m(DefaultActor pid=8775)\u001b[0m   0%|          | 0/1973 [00:00<?, ?it/s]\n",
            "\u001b[2m\u001b[36m(DefaultActor pid=8882)\u001b[0m   0%|          | 0/2248 [00:00<?, ?it/s]\u001b[32m [repeated 4x across cluster]\u001b[0m\n",
            "\u001b[2m\u001b[36m(DefaultActor pid=8857)\u001b[0m   0%|          | 0/1986 [00:00<?, ?it/s]\n",
            "\u001b[2m\u001b[36m(DefaultActor pid=8775)\u001b[0m   0%|          | 0/1973 [00:00<?, ?it/s]\n",
            "\u001b[2m\u001b[36m(DefaultActor pid=8882)\u001b[0m   0%|          | 0/2248 [00:00<?, ?it/s]\u001b[32m [repeated 4x across cluster]\u001b[0m\n",
            "\u001b[2m\u001b[36m(DefaultActor pid=8775)\u001b[0m   0%|          | 0/1973 [00:00<?, ?it/s]\u001b[32m [repeated 2x across cluster]\u001b[0m\n",
            "\u001b[2m\u001b[36m(DefaultActor pid=8792)\u001b[0m   0%|          | 0/1950 [00:00<?, ?it/s]\u001b[32m [repeated 3x across cluster]\u001b[0m\n",
            "\u001b[2m\u001b[36m(DefaultActor pid=8857)\u001b[0m   0%|          | 0/1986 [00:00<?, ?it/s]\n",
            "\u001b[2m\u001b[36m(DefaultActor pid=8882)\u001b[0m   0%|          | 0/2248 [00:00<?, ?it/s]\n",
            "\u001b[2m\u001b[36m(DefaultActor pid=8833)\u001b[0m   0%|          | 0/1986 [00:00<?, ?it/s]\u001b[32m [repeated 2x across cluster]\u001b[0m\n",
            "\u001b[2m\u001b[36m(DefaultActor pid=8857)\u001b[0m   0%|          | 0/1986 [00:00<?, ?it/s]\u001b[32m [repeated 3x across cluster]\u001b[0m\n",
            "\u001b[2m\u001b[36m(DefaultActor pid=8882)\u001b[0m   0%|          | 0/2248 [00:00<?, ?it/s]\n",
            "\u001b[2m\u001b[36m(DefaultActor pid=8775)\u001b[0m   0%|          | 0/1973 [00:00<?, ?it/s]\n",
            "\u001b[2m\u001b[36m(DefaultActor pid=8792)\u001b[0m   0%|          | 0/1950 [00:00<?, ?it/s]\u001b[32m [repeated 3x across cluster]\u001b[0m\n",
            "\u001b[2m\u001b[36m(DefaultActor pid=8857)\u001b[0m [Client 8] get_parameters\n",
            "\u001b[2m\u001b[36m(DefaultActor pid=8857)\u001b[0m [Client 18] fit, config: {'epochs': 10, 'lr': 0.1, 'attacker_epochs': 20, 'attacker_lr': 0.05}\n",
            "\u001b[2m\u001b[36m(DefaultActor pid=8857)\u001b[0m   0%|          | 0/1973 [00:00<?, ?it/s]\n",
            "\u001b[2m\u001b[36m(DefaultActor pid=8775)\u001b[0m [Client 19] get_parameters\n",
            "\u001b[2m\u001b[36m(DefaultActor pid=8833)\u001b[0m [Client 6] get_parameters\n",
            "\u001b[2m\u001b[36m(DefaultActor pid=8775)\u001b[0m [Client 12] fit, config: {'epochs': 10, 'lr': 0.1, 'attacker_epochs': 20, 'attacker_lr': 0.05}\n",
            "\u001b[2m\u001b[36m(DefaultActor pid=8775)\u001b[0m   0%|          | 0/1948 [00:00<?, ?it/s]\n",
            "\u001b[2m\u001b[36m(DefaultActor pid=8833)\u001b[0m [Client 23] fit, config: {'epochs': 10, 'lr': 0.1, 'attacker_epochs': 20, 'attacker_lr': 0.05}\n",
            "\u001b[2m\u001b[36m(DefaultActor pid=8833)\u001b[0m   0%|          | 0/2088 [00:00<?, ?it/s]\n",
            "\u001b[2m\u001b[36m(DefaultActor pid=8792)\u001b[0m [Client 26] get_parameters\u001b[32m [repeated 2x across cluster]\u001b[0m\n",
            "\u001b[2m\u001b[36m(DefaultActor pid=8818)\u001b[0m [Client 27] fit, config: {'epochs': 10, 'lr': 0.1, 'attacker_epochs': 20, 'attacker_lr': 0.05}\n",
            "\u001b[2m\u001b[36m(DefaultActor pid=8857)\u001b[0m   0%|          | 0/1973 [00:00<?, ?it/s]\u001b[32m [repeated 3x across cluster]\u001b[0m\n",
            "\u001b[2m\u001b[36m(DefaultActor pid=8833)\u001b[0m   0%|          | 0/2088 [00:00<?, ?it/s]\u001b[32m [repeated 2x across cluster]\u001b[0m\n",
            "\u001b[2m\u001b[36m(DefaultActor pid=8882)\u001b[0m [Client 3] get_parameters\n",
            "\u001b[2m\u001b[36m(DefaultActor pid=8857)\u001b[0m   0%|          | 0/1973 [00:00<?, ?it/s]\u001b[32m [repeated 2x across cluster]\u001b[0m\n",
            "\u001b[2m\u001b[36m(DefaultActor pid=8833)\u001b[0m   0%|          | 0/2088 [00:00<?, ?it/s]\u001b[32m [repeated 2x across cluster]\u001b[0m\n",
            "\u001b[2m\u001b[36m(DefaultActor pid=8857)\u001b[0m   0%|          | 0/1973 [00:00<?, ?it/s]\u001b[32m [repeated 2x across cluster]\u001b[0m\n",
            "\u001b[2m\u001b[36m(DefaultActor pid=8818)\u001b[0m   0%|          | 0/1983 [00:00<?, ?it/s]\u001b[32m [repeated 3x across cluster]\u001b[0m\n",
            "\u001b[2m\u001b[36m(DefaultActor pid=8857)\u001b[0m   0%|          | 0/1973 [00:00<?, ?it/s]\n",
            "\u001b[2m\u001b[36m(DefaultActor pid=8775)\u001b[0m   0%|          | 0/1948 [00:00<?, ?it/s]\n",
            "\u001b[2m\u001b[36m(DefaultActor pid=8857)\u001b[0m   0%|          | 0/1973 [00:00<?, ?it/s]\u001b[32m [repeated 3x across cluster]\u001b[0m\n",
            "\u001b[2m\u001b[36m(DefaultActor pid=8775)\u001b[0m   0%|          | 0/1948 [00:00<?, ?it/s]\n",
            "\u001b[2m\u001b[36m(DefaultActor pid=8833)\u001b[0m   0%|          | 0/2088 [00:00<?, ?it/s]\n",
            "\u001b[2m\u001b[36m(DefaultActor pid=8857)\u001b[0m   0%|          | 0/1973 [00:00<?, ?it/s]\u001b[32m [repeated 2x across cluster]\u001b[0m\n",
            "\u001b[2m\u001b[36m(DefaultActor pid=8818)\u001b[0m   0%|          | 0/1983 [00:00<?, ?it/s]\u001b[32m [repeated 2x across cluster]\u001b[0m\n",
            "\u001b[2m\u001b[36m(DefaultActor pid=8857)\u001b[0m   0%|          | 0/1973 [00:00<?, ?it/s]\u001b[32m [repeated 2x across cluster]\u001b[0m\n",
            "\u001b[2m\u001b[36m(DefaultActor pid=8818)\u001b[0m   0%|          | 0/1983 [00:00<?, ?it/s]\u001b[32m [repeated 2x across cluster]\u001b[0m\n",
            "\u001b[2m\u001b[36m(DefaultActor pid=8857)\u001b[0m   0%|          | 0/1973 [00:00<?, ?it/s]\u001b[32m [repeated 2x across cluster]\u001b[0m\n",
            "\u001b[2m\u001b[36m(DefaultActor pid=8775)\u001b[0m   0%|          | 0/1948 [00:00<?, ?it/s]\n",
            "\u001b[2m\u001b[36m(DefaultActor pid=8818)\u001b[0m   0%|          | 0/1983 [00:00<?, ?it/s]\n",
            "\u001b[2m\u001b[36m(DefaultActor pid=8857)\u001b[0m   0%|          | 0/1973 [00:00<?, ?it/s]\u001b[32m [repeated 2x across cluster]\u001b[0m\n",
            "\u001b[2m\u001b[36m(DefaultActor pid=8775)\u001b[0m   0%|          | 0/1948 [00:00<?, ?it/s]\n",
            "\u001b[2m\u001b[36m(DefaultActor pid=8818)\u001b[0m   0%|          | 0/1983 [00:00<?, ?it/s]\n",
            "\u001b[2m\u001b[36m(DefaultActor pid=8857)\u001b[0m [Client 18] get_parameters\n",
            "\u001b[2m\u001b[36m(DefaultActor pid=8833)\u001b[0m   0%|          | 0/2088 [00:00<?, ?it/s]\n",
            "\u001b[2m\u001b[36m(DefaultActor pid=8775)\u001b[0m [Client 12] get_parameters\n",
            "\u001b[2m\u001b[36m(DefaultActor pid=8818)\u001b[0m [Client 27] get_parameters\n"
          ]
        },
        {
          "output_type": "stream",
          "name": "stderr",
          "text": [
            "DEBUG flwr 2024-01-02 04:32:17,633 | server.py:236 | fit_round 7 received 10 results and 0 failures\n",
            "DEBUG:flwr:fit_round 7 received 10 results and 0 failures\n",
            "DEBUG flwr 2024-01-02 04:32:17,706 | server.py:173 | evaluate_round 7: strategy sampled 10 clients (out of 30)\n",
            "DEBUG:flwr:evaluate_round 7: strategy sampled 10 clients (out of 30)\n"
          ]
        },
        {
          "output_type": "stream",
          "name": "stdout",
          "text": [
            "Saving round 7 aggregated_parameters...\n",
            "\u001b[2m\u001b[36m(DefaultActor pid=8833)\u001b[0m   0%|          | 0/344 [00:00<?, ?it/s]\n",
            "\u001b[2m\u001b[36m(DefaultActor pid=8833)\u001b[0m [Client 8] evaluate, config: {}, local accuracy: 0.0\n",
            "\u001b[2m\u001b[36m(DefaultActor pid=8833)\u001b[0m [Client 23] get_parameters\n",
            "\u001b[2m\u001b[36m(DefaultActor pid=8792)\u001b[0m   0%|          | 0/327 [00:00<?, ?it/s]\u001b[32m [repeated 9x across cluster]\u001b[0m\n"
          ]
        },
        {
          "output_type": "stream",
          "name": "stderr",
          "text": [
            "DEBUG flwr 2024-01-02 04:32:24,499 | server.py:187 | evaluate_round 7 received 10 results and 0 failures\n",
            "DEBUG:flwr:evaluate_round 7 received 10 results and 0 failures\n",
            "DEBUG flwr 2024-01-02 04:32:24,503 | server.py:222 | fit_round 8: strategy sampled 10 clients (out of 30)\n",
            "DEBUG:flwr:fit_round 8: strategy sampled 10 clients (out of 30)\n"
          ]
        },
        {
          "output_type": "stream",
          "name": "stdout",
          "text": [
            "\u001b[2m\u001b[36m(DefaultActor pid=8792)\u001b[0m [Client 13] fit, config: {'epochs': 10, 'lr': 0.1, 'attacker_epochs': 20, 'attacker_lr': 0.05}\n",
            "\u001b[2m\u001b[36m(DefaultActor pid=8792)\u001b[0m [Client 14] evaluate, config: {}, local accuracy: 0.0\u001b[32m [repeated 9x across cluster]\u001b[0m\n",
            "\u001b[2m\u001b[36m(DefaultActor pid=8792)\u001b[0m   0%|          | 0/1947 [00:00<?, ?it/s]\u001b[32m [repeated 7x across cluster]\u001b[0m\n",
            "\u001b[2m\u001b[36m(DefaultActor pid=8882)\u001b[0m [Client 19] fit, config: {'epochs': 10, 'lr': 0.1, 'attacker_epochs': 20, 'attacker_lr': 0.05}\u001b[32m [repeated 5x across cluster]\u001b[0m\n",
            "\u001b[2m\u001b[36m(DefaultActor pid=8833)\u001b[0m   0%|          | 0/1983 [00:00<?, ?it/s]\u001b[32m [repeated 6x across cluster]\u001b[0m\n",
            "\u001b[2m\u001b[36m(DefaultActor pid=8882)\u001b[0m   0%|          | 0/1973 [00:00<?, ?it/s]\u001b[32m [repeated 6x across cluster]\u001b[0m\n",
            "\u001b[2m\u001b[36m(DefaultActor pid=8818)\u001b[0m   0%|          | 0/1950 [00:00<?, ?it/s]\u001b[32m [repeated 5x across cluster]\u001b[0m\n",
            "\u001b[2m\u001b[36m(DefaultActor pid=8882)\u001b[0m   0%|          | 0/1973 [00:00<?, ?it/s]\n",
            "\u001b[2m\u001b[36m(DefaultActor pid=8833)\u001b[0m   0%|          | 0/1983 [00:00<?, ?it/s]\n",
            "\u001b[2m\u001b[36m(DefaultActor pid=8882)\u001b[0m   0%|          | 0/1973 [00:00<?, ?it/s]\u001b[32m [repeated 5x across cluster]\u001b[0m\n",
            "\u001b[2m\u001b[36m(DefaultActor pid=8833)\u001b[0m   0%|          | 0/1983 [00:00<?, ?it/s]\u001b[32m [repeated 3x across cluster]\u001b[0m\n",
            "\u001b[2m\u001b[36m(DefaultActor pid=8882)\u001b[0m   0%|          | 0/1973 [00:00<?, ?it/s]\u001b[32m [repeated 3x across cluster]\u001b[0m\n",
            "\u001b[2m\u001b[36m(DefaultActor pid=8857)\u001b[0m   0%|          | 0/1972 [00:00<?, ?it/s]\u001b[32m [repeated 4x across cluster]\u001b[0m\n",
            "\u001b[2m\u001b[36m(DefaultActor pid=8882)\u001b[0m   0%|          | 0/1973 [00:00<?, ?it/s]\u001b[32m [repeated 2x across cluster]\u001b[0m\n",
            "\u001b[2m\u001b[36m(DefaultActor pid=8857)\u001b[0m   0%|          | 0/1972 [00:00<?, ?it/s]\u001b[32m [repeated 3x across cluster]\u001b[0m\n",
            "\u001b[2m\u001b[36m(DefaultActor pid=8882)\u001b[0m   0%|          | 0/1973 [00:00<?, ?it/s]\u001b[32m [repeated 3x across cluster]\u001b[0m\n",
            "\u001b[2m\u001b[36m(DefaultActor pid=8857)\u001b[0m   0%|          | 0/1972 [00:00<?, ?it/s]\u001b[32m [repeated 3x across cluster]\u001b[0m\n",
            "\u001b[2m\u001b[36m(DefaultActor pid=8882)\u001b[0m   0%|          | 0/1973 [00:00<?, ?it/s]\u001b[32m [repeated 3x across cluster]\u001b[0m\n",
            "\u001b[2m\u001b[36m(DefaultActor pid=8818)\u001b[0m   0%|          | 0/1950 [00:00<?, ?it/s]\u001b[32m [repeated 2x across cluster]\u001b[0m\n",
            "\u001b[2m\u001b[36m(DefaultActor pid=8775)\u001b[0m   0%|          | 0/2044 [00:00<?, ?it/s]\u001b[32m [repeated 2x across cluster]\u001b[0m\n",
            "\u001b[2m\u001b[36m(DefaultActor pid=8882)\u001b[0m [Client 19] get_parameters\n",
            "\u001b[2m\u001b[36m(DefaultActor pid=8833)\u001b[0m   0%|          | 0/1983 [00:00<?, ?it/s]\n",
            "\u001b[2m\u001b[36m(DefaultActor pid=8882)\u001b[0m [Client 5] fit, config: {'epochs': 10, 'lr': 0.1, 'attacker_epochs': 20, 'attacker_lr': 0.05}\n",
            "\u001b[2m\u001b[36m(DefaultActor pid=8882)\u001b[0m   0%|          | 0/2247 [00:00<?, ?it/s]\n",
            "\u001b[2m\u001b[36m(DefaultActor pid=8792)\u001b[0m [Client 13] get_parameters\u001b[32m [repeated 2x across cluster]\u001b[0m\n",
            "\u001b[2m\u001b[36m(DefaultActor pid=8792)\u001b[0m [Client 22] fit, config: {'epochs': 10, 'lr': 0.1, 'attacker_epochs': 20, 'attacker_lr': 0.05}\u001b[32m [repeated 2x across cluster]\u001b[0m\n",
            "\u001b[2m\u001b[36m(DefaultActor pid=8792)\u001b[0m   0%|          | 0/2088 [00:00<?, ?it/s]\u001b[32m [repeated 2x across cluster]\u001b[0m\n",
            "\u001b[2m\u001b[36m(DefaultActor pid=8857)\u001b[0m [Client 20] get_parameters\u001b[32m [repeated 2x across cluster]\u001b[0m\n",
            "\u001b[2m\u001b[36m(DefaultActor pid=8833)\u001b[0m [Client 23] fit, config: {'epochs': 10, 'lr': 0.1, 'attacker_epochs': 20, 'attacker_lr': 0.05}\n",
            "\u001b[2m\u001b[36m(DefaultActor pid=8818)\u001b[0m   0%|          | 0/1986 [00:00<?, ?it/s]\u001b[32m [repeated 2x across cluster]\u001b[0m\n",
            "\u001b[2m\u001b[36m(DefaultActor pid=8775)\u001b[0m [Client 9] get_parameters\n",
            "\u001b[2m\u001b[36m(DefaultActor pid=8833)\u001b[0m   0%|          | 0/2088 [00:00<?, ?it/s]\u001b[32m [repeated 3x across cluster]\u001b[0m\n",
            "\u001b[2m\u001b[36m(DefaultActor pid=8818)\u001b[0m   0%|          | 0/1986 [00:00<?, ?it/s]\n",
            "\u001b[2m\u001b[36m(DefaultActor pid=8792)\u001b[0m   0%|          | 0/2088 [00:00<?, ?it/s]\n",
            "\u001b[2m\u001b[36m(DefaultActor pid=8833)\u001b[0m   0%|          | 0/2088 [00:00<?, ?it/s]\u001b[32m [repeated 2x across cluster]\u001b[0m\n",
            "\u001b[2m\u001b[36m(DefaultActor pid=8818)\u001b[0m   0%|          | 0/1986 [00:00<?, ?it/s]\n",
            "\u001b[2m\u001b[36m(DefaultActor pid=8792)\u001b[0m   0%|          | 0/2088 [00:00<?, ?it/s]\n",
            "\u001b[2m\u001b[36m(DefaultActor pid=8818)\u001b[0m   0%|          | 0/1986 [00:00<?, ?it/s]\u001b[32m [repeated 3x across cluster]\u001b[0m\n",
            "\u001b[2m\u001b[36m(DefaultActor pid=8792)\u001b[0m   0%|          | 0/2088 [00:00<?, ?it/s]\n",
            "\u001b[2m\u001b[36m(DefaultActor pid=8882)\u001b[0m   0%|          | 0/2247 [00:00<?, ?it/s]\n",
            "\u001b[2m\u001b[36m(DefaultActor pid=8818)\u001b[0m   0%|          | 0/1986 [00:00<?, ?it/s]\u001b[32m [repeated 2x across cluster]\u001b[0m\n",
            "\u001b[2m\u001b[36m(DefaultActor pid=8792)\u001b[0m   0%|          | 0/2088 [00:00<?, ?it/s]\n",
            "\u001b[2m\u001b[36m(DefaultActor pid=8833)\u001b[0m   0%|          | 0/2088 [00:00<?, ?it/s]\n",
            "\u001b[2m\u001b[36m(DefaultActor pid=8818)\u001b[0m   0%|          | 0/1986 [00:00<?, ?it/s]\u001b[32m [repeated 2x across cluster]\u001b[0m\n",
            "\u001b[2m\u001b[36m(DefaultActor pid=8792)\u001b[0m   0%|          | 0/2088 [00:00<?, ?it/s]\n",
            "\u001b[2m\u001b[36m(DefaultActor pid=8833)\u001b[0m   0%|          | 0/2088 [00:00<?, ?it/s]\n",
            "\u001b[2m\u001b[36m(DefaultActor pid=8818)\u001b[0m   0%|          | 0/1986 [00:00<?, ?it/s]\u001b[32m [repeated 2x across cluster]\u001b[0m\n",
            "\u001b[2m\u001b[36m(DefaultActor pid=8792)\u001b[0m   0%|          | 0/2088 [00:00<?, ?it/s]\n",
            "\u001b[2m\u001b[36m(DefaultActor pid=8833)\u001b[0m   0%|          | 0/2088 [00:00<?, ?it/s]\n",
            "\u001b[2m\u001b[36m(DefaultActor pid=8792)\u001b[0m   0%|          | 0/2088 [00:00<?, ?it/s]\u001b[32m [repeated 3x across cluster]\u001b[0m\n",
            "\u001b[2m\u001b[36m(DefaultActor pid=8833)\u001b[0m   0%|          | 0/2088 [00:00<?, ?it/s]\n",
            "\u001b[2m\u001b[36m(DefaultActor pid=8882)\u001b[0m   0%|          | 0/2247 [00:00<?, ?it/s]\n",
            "\u001b[2m\u001b[36m(DefaultActor pid=8792)\u001b[0m   0%|          | 0/2088 [00:00<?, ?it/s]\u001b[32m [repeated 2x across cluster]\u001b[0m\n",
            "\u001b[2m\u001b[36m(DefaultActor pid=8818)\u001b[0m [Client 7] get_parameters\n",
            "\u001b[2m\u001b[36m(DefaultActor pid=8833)\u001b[0m   0%|          | 0/2088 [00:00<?, ?it/s]\n",
            "\u001b[2m\u001b[36m(DefaultActor pid=8882)\u001b[0m   0%|          | 0/2247 [00:00<?, ?it/s]\n",
            "\u001b[2m\u001b[36m(DefaultActor pid=8792)\u001b[0m [Client 22] get_parameters\n",
            "\u001b[2m\u001b[36m(DefaultActor pid=8833)\u001b[0m [Client 23] get_parameters\n"
          ]
        },
        {
          "output_type": "stream",
          "name": "stderr",
          "text": [
            "DEBUG flwr 2024-01-02 04:41:35,211 | server.py:236 | fit_round 8 received 10 results and 0 failures\n",
            "DEBUG:flwr:fit_round 8 received 10 results and 0 failures\n",
            "DEBUG flwr 2024-01-02 04:41:35,283 | server.py:173 | evaluate_round 8: strategy sampled 10 clients (out of 30)\n",
            "DEBUG:flwr:evaluate_round 8: strategy sampled 10 clients (out of 30)\n"
          ]
        },
        {
          "output_type": "stream",
          "name": "stdout",
          "text": [
            "Saving round 8 aggregated_parameters...\n",
            "\u001b[2m\u001b[36m(DefaultActor pid=8882)\u001b[0m   0%|          | 0/319 [00:00<?, ?it/s]\n",
            "\u001b[2m\u001b[36m(DefaultActor pid=8882)\u001b[0m [Client 20] evaluate, config: {}, local accuracy: 0.0\n",
            "\u001b[2m\u001b[36m(DefaultActor pid=8882)\u001b[0m [Client 5] get_parameters\n",
            "\u001b[2m\u001b[36m(DefaultActor pid=8775)\u001b[0m   0%|          | 0/298 [00:00<?, ?it/s]\u001b[32m [repeated 9x across cluster]\u001b[0m\n"
          ]
        },
        {
          "output_type": "stream",
          "name": "stderr",
          "text": [
            "DEBUG flwr 2024-01-02 04:41:42,853 | server.py:187 | evaluate_round 8 received 10 results and 0 failures\n",
            "DEBUG:flwr:evaluate_round 8 received 10 results and 0 failures\n",
            "DEBUG flwr 2024-01-02 04:41:42,859 | server.py:222 | fit_round 9: strategy sampled 10 clients (out of 30)\n",
            "DEBUG:flwr:fit_round 9: strategy sampled 10 clients (out of 30)\n"
          ]
        },
        {
          "output_type": "stream",
          "name": "stdout",
          "text": [
            "\u001b[2m\u001b[36m(DefaultActor pid=8775)\u001b[0m [Client 15] evaluate, config: {}, local accuracy: 0.0\u001b[32m [repeated 7x across cluster]\u001b[0m\n",
            "\u001b[2m\u001b[36m(DefaultActor pid=8792)\u001b[0m [Client 26] fit, config: {'epochs': 10, 'lr': 0.1, 'attacker_epochs': 20, 'attacker_lr': 0.05}\n",
            "\u001b[2m\u001b[36m(DefaultActor pid=8792)\u001b[0m   0%|          | 0/1950 [00:00<?, ?it/s]\u001b[32m [repeated 7x across cluster]\u001b[0m\n",
            "\u001b[2m\u001b[36m(DefaultActor pid=8792)\u001b[0m [Client 24] evaluate, config: {}, local accuracy: 0.0\u001b[32m [repeated 2x across cluster]\u001b[0m\n",
            "\u001b[2m\u001b[36m(DefaultActor pid=8857)\u001b[0m [Client 13] fit, config: {'epochs': 10, 'lr': 0.1, 'attacker_epochs': 20, 'attacker_lr': 0.05}\u001b[32m [repeated 5x across cluster]\u001b[0m\n",
            "\u001b[2m\u001b[36m(DefaultActor pid=8833)\u001b[0m   0%|          | 0/2248 [00:00<?, ?it/s]\u001b[32m [repeated 5x across cluster]\u001b[0m\n",
            "\u001b[2m\u001b[36m(DefaultActor pid=8857)\u001b[0m   0%|          | 0/1947 [00:00<?, ?it/s]\n",
            "\u001b[2m\u001b[36m(DefaultActor pid=8792)\u001b[0m   0%|          | 0/1950 [00:00<?, ?it/s]\n",
            "\u001b[2m\u001b[36m(DefaultActor pid=8818)\u001b[0m   0%|          | 0/2089 [00:00<?, ?it/s]\u001b[32m [repeated 3x across cluster]\u001b[0m\n",
            "\u001b[2m\u001b[36m(DefaultActor pid=8833)\u001b[0m   0%|          | 0/2248 [00:00<?, ?it/s]\n",
            "\u001b[2m\u001b[36m(DefaultActor pid=8857)\u001b[0m   0%|          | 0/1947 [00:00<?, ?it/s]\n",
            "\u001b[2m\u001b[36m(DefaultActor pid=8818)\u001b[0m   0%|          | 0/2089 [00:00<?, ?it/s]\u001b[32m [repeated 4x across cluster]\u001b[0m\n",
            "\u001b[2m\u001b[36m(DefaultActor pid=8833)\u001b[0m   0%|          | 0/2248 [00:00<?, ?it/s]\n",
            "\u001b[2m\u001b[36m(DefaultActor pid=8792)\u001b[0m   0%|          | 0/1950 [00:00<?, ?it/s]\n",
            "\u001b[2m\u001b[36m(DefaultActor pid=8818)\u001b[0m   0%|          | 0/2089 [00:00<?, ?it/s]\u001b[32m [repeated 4x across cluster]\u001b[0m\n",
            "\u001b[2m\u001b[36m(DefaultActor pid=8833)\u001b[0m   0%|          | 0/2248 [00:00<?, ?it/s]\n",
            "\u001b[2m\u001b[36m(DefaultActor pid=8792)\u001b[0m   0%|          | 0/1950 [00:00<?, ?it/s]\n",
            "\u001b[2m\u001b[36m(DefaultActor pid=8882)\u001b[0m   0%|          | 0/2043 [00:00<?, ?it/s]\u001b[32m [repeated 3x across cluster]\u001b[0m\n",
            "\u001b[2m\u001b[36m(DefaultActor pid=8818)\u001b[0m   0%|          | 0/2089 [00:00<?, ?it/s]\n",
            "\u001b[2m\u001b[36m(DefaultActor pid=8833)\u001b[0m   0%|          | 0/2248 [00:00<?, ?it/s]\n",
            "\u001b[2m\u001b[36m(DefaultActor pid=8775)\u001b[0m   0%|          | 0/1986 [00:00<?, ?it/s]\n",
            "\u001b[2m\u001b[36m(DefaultActor pid=8792)\u001b[0m   0%|          | 0/1950 [00:00<?, ?it/s]\n",
            "\u001b[2m\u001b[36m(DefaultActor pid=8818)\u001b[0m   0%|          | 0/2089 [00:00<?, ?it/s]\u001b[32m [repeated 3x across cluster]\u001b[0m\n",
            "\u001b[2m\u001b[36m(DefaultActor pid=8833)\u001b[0m   0%|          | 0/2248 [00:00<?, ?it/s]\n",
            "\u001b[2m\u001b[36m(DefaultActor pid=8775)\u001b[0m   0%|          | 0/1986 [00:00<?, ?it/s]\n",
            "\u001b[2m\u001b[36m(DefaultActor pid=8882)\u001b[0m   0%|          | 0/2043 [00:00<?, ?it/s]\u001b[32m [repeated 3x across cluster]\u001b[0m\n",
            "\u001b[2m\u001b[36m(DefaultActor pid=8818)\u001b[0m   0%|          | 0/2089 [00:00<?, ?it/s]\n",
            "\u001b[2m\u001b[36m(DefaultActor pid=8775)\u001b[0m   0%|          | 0/1986 [00:00<?, ?it/s]\n",
            "\u001b[2m\u001b[36m(DefaultActor pid=8882)\u001b[0m   0%|          | 0/2043 [00:00<?, ?it/s]\u001b[32m [repeated 4x across cluster]\u001b[0m\n",
            "\u001b[2m\u001b[36m(DefaultActor pid=8818)\u001b[0m   0%|          | 0/2089 [00:00<?, ?it/s]\n",
            "\u001b[2m\u001b[36m(DefaultActor pid=8775)\u001b[0m   0%|          | 0/1986 [00:00<?, ?it/s]\n",
            "\u001b[2m\u001b[36m(DefaultActor pid=8833)\u001b[0m   0%|          | 0/2248 [00:00<?, ?it/s]\u001b[32m [repeated 3x across cluster]\u001b[0m\n",
            "\u001b[2m\u001b[36m(DefaultActor pid=8818)\u001b[0m   0%|          | 0/2089 [00:00<?, ?it/s]\u001b[32m [repeated 2x across cluster]\u001b[0m\n",
            "\u001b[2m\u001b[36m(DefaultActor pid=8775)\u001b[0m [Client 8] get_parameters\n",
            "\u001b[2m\u001b[36m(DefaultActor pid=8775)\u001b[0m [Client 2] fit, config: {'epochs': 10, 'lr': 0.1, 'attacker_epochs': 20, 'attacker_lr': 0.05}\n",
            "\u001b[2m\u001b[36m(DefaultActor pid=8775)\u001b[0m   0%|          | 0/1974 [00:00<?, ?it/s]\n",
            "\u001b[2m\u001b[36m(DefaultActor pid=8857)\u001b[0m [Client 13] get_parameters\u001b[32m [repeated 2x across cluster]\u001b[0m\n",
            "\u001b[2m\u001b[36m(DefaultActor pid=8792)\u001b[0m [Client 22] fit, config: {'epochs': 10, 'lr': 0.1, 'attacker_epochs': 20, 'attacker_lr': 0.05}\n",
            "\u001b[2m\u001b[36m(DefaultActor pid=8792)\u001b[0m   0%|          | 0/2088 [00:00<?, ?it/s]\n",
            "\u001b[2m\u001b[36m(DefaultActor pid=8857)\u001b[0m [Client 1] fit, config: {'epochs': 10, 'lr': 0.1, 'attacker_epochs': 20, 'attacker_lr': 0.05}\n",
            "\u001b[2m\u001b[36m(DefaultActor pid=8857)\u001b[0m   0%|          | 0/1974 [00:00<?, ?it/s]\n",
            "\u001b[2m\u001b[36m(DefaultActor pid=8882)\u001b[0m [Client 11] get_parameters\n",
            "\u001b[2m\u001b[36m(DefaultActor pid=8833)\u001b[0m   0%|          | 0/2248 [00:00<?, ?it/s]\n",
            "\u001b[2m\u001b[36m(DefaultActor pid=8882)\u001b[0m [Client 15] fit, config: {'epochs': 10, 'lr': 0.1, 'attacker_epochs': 20, 'attacker_lr': 0.05}\n",
            "\u001b[2m\u001b[36m(DefaultActor pid=8818)\u001b[0m [Client 21] get_parameters\n",
            "\u001b[2m\u001b[36m(DefaultActor pid=8882)\u001b[0m   0%|          | 0/1807 [00:00<?, ?it/s]\n",
            "\u001b[2m\u001b[36m(DefaultActor pid=8775)\u001b[0m   0%|          | 0/1974 [00:00<?, ?it/s]\n",
            "\u001b[2m\u001b[36m(DefaultActor pid=8882)\u001b[0m   0%|          | 0/1807 [00:00<?, ?it/s]\u001b[32m [repeated 3x across cluster]\u001b[0m\n",
            "\u001b[2m\u001b[36m(DefaultActor pid=8833)\u001b[0m [Client 3] get_parameters\n",
            "\u001b[2m\u001b[36m(DefaultActor pid=8775)\u001b[0m   0%|          | 0/1974 [00:00<?, ?it/s]\n",
            "\u001b[2m\u001b[36m(DefaultActor pid=8882)\u001b[0m   0%|          | 0/1807 [00:00<?, ?it/s]\u001b[32m [repeated 3x across cluster]\u001b[0m\n",
            "\u001b[2m\u001b[36m(DefaultActor pid=8775)\u001b[0m   0%|          | 0/1974 [00:00<?, ?it/s]\n",
            "\u001b[2m\u001b[36m(DefaultActor pid=8857)\u001b[0m   0%|          | 0/1974 [00:00<?, ?it/s]\n",
            "\u001b[2m\u001b[36m(DefaultActor pid=8775)\u001b[0m   0%|          | 0/1974 [00:00<?, ?it/s]\u001b[32m [repeated 3x across cluster]\u001b[0m\n",
            "\u001b[2m\u001b[36m(DefaultActor pid=8792)\u001b[0m   0%|          | 0/2088 [00:00<?, ?it/s]\u001b[32m [repeated 3x across cluster]\u001b[0m\n",
            "\u001b[2m\u001b[36m(DefaultActor pid=8775)\u001b[0m   0%|          | 0/1974 [00:00<?, ?it/s]\n",
            "\u001b[2m\u001b[36m(DefaultActor pid=8857)\u001b[0m   0%|          | 0/1974 [00:00<?, ?it/s]\n",
            "\u001b[2m\u001b[36m(DefaultActor pid=8857)\u001b[0m   0%|          | 0/1974 [00:00<?, ?it/s]\u001b[32m [repeated 3x across cluster]\u001b[0m\n",
            "\u001b[2m\u001b[36m(DefaultActor pid=8857)\u001b[0m   0%|          | 0/1974 [00:00<?, ?it/s]\u001b[32m [repeated 4x across cluster]\u001b[0m\n",
            "\u001b[2m\u001b[36m(DefaultActor pid=8792)\u001b[0m   0%|          | 0/2088 [00:00<?, ?it/s]\u001b[32m [repeated 3x across cluster]\u001b[0m\n",
            "\u001b[2m\u001b[36m(DefaultActor pid=8857)\u001b[0m   0%|          | 0/1974 [00:00<?, ?it/s]\n",
            "\u001b[2m\u001b[36m(DefaultActor pid=8882)\u001b[0m   0%|          | 0/1807 [00:00<?, ?it/s]\n",
            "\u001b[2m\u001b[36m(DefaultActor pid=8792)\u001b[0m   0%|          | 0/2088 [00:00<?, ?it/s]\u001b[32m [repeated 2x across cluster]\u001b[0m\n",
            "\u001b[2m\u001b[36m(DefaultActor pid=8775)\u001b[0m   0%|          | 0/1974 [00:00<?, ?it/s]\n",
            "\u001b[2m\u001b[36m(DefaultActor pid=8882)\u001b[0m   0%|          | 0/1807 [00:00<?, ?it/s]\n",
            "\u001b[2m\u001b[36m(DefaultActor pid=8792)\u001b[0m   0%|          | 0/2088 [00:00<?, ?it/s]\u001b[32m [repeated 2x across cluster]\u001b[0m\n",
            "\u001b[2m\u001b[36m(DefaultActor pid=8882)\u001b[0m [Client 15] get_parameters\n"
          ]
        },
        {
          "output_type": "stream",
          "name": "stderr",
          "text": [
            "DEBUG flwr 2024-01-02 04:50:51,046 | server.py:236 | fit_round 9 received 10 results and 0 failures\n",
            "DEBUG:flwr:fit_round 9 received 10 results and 0 failures\n",
            "DEBUG flwr 2024-01-02 04:50:51,121 | server.py:173 | evaluate_round 9: strategy sampled 10 clients (out of 30)\n",
            "DEBUG:flwr:evaluate_round 9: strategy sampled 10 clients (out of 30)\n"
          ]
        },
        {
          "output_type": "stream",
          "name": "stdout",
          "text": [
            "Saving round 9 aggregated_parameters...\n",
            "\u001b[2m\u001b[36m(DefaultActor pid=8792)\u001b[0m   0%|          | 0/320 [00:00<?, ?it/s]\n",
            "\u001b[2m\u001b[36m(DefaultActor pid=8792)\u001b[0m [Client 22] get_parameters\u001b[32m [repeated 3x across cluster]\u001b[0m\n",
            "\u001b[2m\u001b[36m(DefaultActor pid=8792)\u001b[0m [Client 18] evaluate, config: {}, local accuracy: 0.0\n",
            "\u001b[2m\u001b[36m(DefaultActor pid=8792)\u001b[0m   0%|          | 0/337 [00:00<?, ?it/s]\u001b[32m [repeated 6x across cluster]\u001b[0m\n"
          ]
        },
        {
          "output_type": "stream",
          "name": "stderr",
          "text": [
            "DEBUG flwr 2024-01-02 04:50:59,081 | server.py:187 | evaluate_round 9 received 10 results and 0 failures\n",
            "DEBUG:flwr:evaluate_round 9 received 10 results and 0 failures\n",
            "DEBUG flwr 2024-01-02 04:50:59,084 | server.py:222 | fit_round 10: strategy sampled 10 clients (out of 30)\n",
            "DEBUG:flwr:fit_round 10: strategy sampled 10 clients (out of 30)\n"
          ]
        },
        {
          "output_type": "stream",
          "name": "stdout",
          "text": [
            "\u001b[2m\u001b[36m(DefaultActor pid=8833)\u001b[0m [Client 16] evaluate, config: {}, local accuracy: 0.0\u001b[32m [repeated 8x across cluster]\u001b[0m\n",
            "\u001b[2m\u001b[36m(DefaultActor pid=8857)\u001b[0m [Client 3] fit, config: {'epochs': 10, 'lr': 0.1, 'attacker_epochs': 20, 'attacker_lr': 0.05}\n",
            "\u001b[2m\u001b[36m(DefaultActor pid=8818)\u001b[0m   0%|          | 0/1972 [00:00<?, ?it/s]\u001b[32m [repeated 10x across cluster]\u001b[0m\n",
            "\u001b[2m\u001b[36m(DefaultActor pid=8857)\u001b[0m [Client 21] evaluate, config: {}, local accuracy: 1.0\n",
            "\u001b[2m\u001b[36m(DefaultActor pid=8882)\u001b[0m [Client 16] fit, config: {'epochs': 10, 'lr': 0.1, 'attacker_epochs': 20, 'attacker_lr': 0.05}\u001b[32m [repeated 5x across cluster]\u001b[0m\n",
            "\u001b[2m\u001b[36m(DefaultActor pid=8857)\u001b[0m   0%|          | 0/2248 [00:00<?, ?it/s]\u001b[32m [repeated 5x across cluster]\u001b[0m\n",
            "\u001b[2m\u001b[36m(DefaultActor pid=8882)\u001b[0m   0%|          | 0/1807 [00:00<?, ?it/s]\n",
            "\u001b[2m\u001b[36m(DefaultActor pid=8818)\u001b[0m   0%|          | 0/1972 [00:00<?, ?it/s]\n",
            "\u001b[2m\u001b[36m(DefaultActor pid=8857)\u001b[0m   0%|          | 0/2248 [00:00<?, ?it/s]\u001b[32m [repeated 4x across cluster]\u001b[0m\n",
            "\u001b[2m\u001b[36m(DefaultActor pid=8882)\u001b[0m   0%|          | 0/1807 [00:00<?, ?it/s]\n",
            "\u001b[2m\u001b[36m(DefaultActor pid=8775)\u001b[0m   0%|          | 0/1950 [00:00<?, ?it/s]\n",
            "\u001b[2m\u001b[36m(DefaultActor pid=8857)\u001b[0m   0%|          | 0/2248 [00:00<?, ?it/s]\u001b[32m [repeated 4x across cluster]\u001b[0m\n",
            "\u001b[2m\u001b[36m(DefaultActor pid=8882)\u001b[0m   0%|          | 0/1807 [00:00<?, ?it/s]\n",
            "\u001b[2m\u001b[36m(DefaultActor pid=8775)\u001b[0m   0%|          | 0/1950 [00:00<?, ?it/s]\n",
            "\u001b[2m\u001b[36m(DefaultActor pid=8857)\u001b[0m   0%|          | 0/2248 [00:00<?, ?it/s]\u001b[32m [repeated 4x across cluster]\u001b[0m\n",
            "\u001b[2m\u001b[36m(DefaultActor pid=8775)\u001b[0m   0%|          | 0/1950 [00:00<?, ?it/s]\u001b[32m [repeated 2x across cluster]\u001b[0m\n",
            "\u001b[2m\u001b[36m(DefaultActor pid=8792)\u001b[0m   0%|          | 0/1983 [00:00<?, ?it/s]\u001b[32m [repeated 3x across cluster]\u001b[0m\n",
            "\u001b[2m\u001b[36m(DefaultActor pid=8882)\u001b[0m   0%|          | 0/1807 [00:00<?, ?it/s]\n",
            "\u001b[2m\u001b[36m(DefaultActor pid=8857)\u001b[0m   0%|          | 0/2248 [00:00<?, ?it/s]\n",
            "\u001b[2m\u001b[36m(DefaultActor pid=8818)\u001b[0m   0%|          | 0/1972 [00:00<?, ?it/s]\u001b[32m [repeated 2x across cluster]\u001b[0m\n",
            "\u001b[2m\u001b[36m(DefaultActor pid=8833)\u001b[0m   0%|          | 0/1973 [00:00<?, ?it/s]\u001b[32m [repeated 2x across cluster]\u001b[0m\n",
            "\u001b[2m\u001b[36m(DefaultActor pid=8882)\u001b[0m   0%|          | 0/1807 [00:00<?, ?it/s]\n",
            "\u001b[2m\u001b[36m(DefaultActor pid=8857)\u001b[0m   0%|          | 0/2248 [00:00<?, ?it/s]\n",
            "\u001b[2m\u001b[36m(DefaultActor pid=8818)\u001b[0m   0%|          | 0/1972 [00:00<?, ?it/s]\u001b[32m [repeated 2x across cluster]\u001b[0m\n",
            "\u001b[2m\u001b[36m(DefaultActor pid=8882)\u001b[0m   0%|          | 0/1807 [00:00<?, ?it/s]\u001b[32m [repeated 3x across cluster]\u001b[0m\n",
            "\u001b[2m\u001b[36m(DefaultActor pid=8775)\u001b[0m   0%|          | 0/1950 [00:00<?, ?it/s]\n",
            "\u001b[2m\u001b[36m(DefaultActor pid=8857)\u001b[0m   0%|          | 0/2248 [00:00<?, ?it/s]\n",
            "\u001b[2m\u001b[36m(DefaultActor pid=8792)\u001b[0m   0%|          | 0/1983 [00:00<?, ?it/s]\u001b[32m [repeated 2x across cluster]\u001b[0m\n",
            "\u001b[2m\u001b[36m(DefaultActor pid=8775)\u001b[0m   0%|          | 0/1950 [00:00<?, ?it/s]\u001b[32m [repeated 3x across cluster]\u001b[0m\n",
            "\u001b[2m\u001b[36m(DefaultActor pid=8818)\u001b[0m   0%|          | 0/1972 [00:00<?, ?it/s]\n",
            "\u001b[2m\u001b[36m(DefaultActor pid=8857)\u001b[0m   0%|          | 0/2248 [00:00<?, ?it/s]\n",
            "\u001b[2m\u001b[36m(DefaultActor pid=8882)\u001b[0m [Client 16] get_parameters\n",
            "\u001b[2m\u001b[36m(DefaultActor pid=8882)\u001b[0m [Client 2] fit, config: {'epochs': 10, 'lr': 0.1, 'attacker_epochs': 20, 'attacker_lr': 0.05}\n",
            "\u001b[2m\u001b[36m(DefaultActor pid=8882)\u001b[0m   0%|          | 0/1974 [00:00<?, ?it/s]\u001b[32m [repeated 3x across cluster]\u001b[0m\n",
            "\u001b[2m\u001b[36m(DefaultActor pid=8775)\u001b[0m [Client 25] get_parameters\n",
            "\u001b[2m\u001b[36m(DefaultActor pid=8775)\u001b[0m [Client 0] fit, config: {'epochs': 10, 'lr': 0.1, 'attacker_epochs': 20, 'attacker_lr': 0.05}\n",
            "\u001b[2m\u001b[36m(DefaultActor pid=8818)\u001b[0m [Client 20] get_parameters\n",
            "\u001b[2m\u001b[36m(DefaultActor pid=8775)\u001b[0m   0%|          | 0/1975 [00:00<?, ?it/s]\n",
            "\u001b[2m\u001b[36m(DefaultActor pid=8818)\u001b[0m [Client 9] fit, config: {'epochs': 10, 'lr': 0.1, 'attacker_epochs': 20, 'attacker_lr': 0.05}\n",
            "\u001b[2m\u001b[36m(DefaultActor pid=8818)\u001b[0m   0%|          | 0/2044 [00:00<?, ?it/s]\n",
            "\u001b[2m\u001b[36m(DefaultActor pid=8792)\u001b[0m [Client 29] get_parameters\u001b[32m [repeated 2x across cluster]\u001b[0m\n",
            "\u001b[2m\u001b[36m(DefaultActor pid=8833)\u001b[0m [Client 28] fit, config: {'epochs': 10, 'lr': 0.1, 'attacker_epochs': 20, 'attacker_lr': 0.05}\n",
            "\u001b[2m\u001b[36m(DefaultActor pid=8857)\u001b[0m   0%|          | 0/2248 [00:00<?, ?it/s]\u001b[32m [repeated 3x across cluster]\u001b[0m\n",
            "\u001b[2m\u001b[36m(DefaultActor pid=8775)\u001b[0m   0%|          | 0/1975 [00:00<?, ?it/s]\n",
            "\u001b[2m\u001b[36m(DefaultActor pid=8818)\u001b[0m   0%|          | 0/2044 [00:00<?, ?it/s]\n",
            "\u001b[2m\u001b[36m(DefaultActor pid=8882)\u001b[0m   0%|          | 0/1974 [00:00<?, ?it/s]\u001b[32m [repeated 2x across cluster]\u001b[0m\n",
            "\u001b[2m\u001b[36m(DefaultActor pid=8857)\u001b[0m [Client 3] get_parameters\n",
            "\u001b[2m\u001b[36m(DefaultActor pid=8775)\u001b[0m   0%|          | 0/1975 [00:00<?, ?it/s]\n",
            "\u001b[2m\u001b[36m(DefaultActor pid=8833)\u001b[0m   0%|          | 0/1983 [00:00<?, ?it/s]\u001b[32m [repeated 2x across cluster]\u001b[0m\n",
            "\u001b[2m\u001b[36m(DefaultActor pid=8775)\u001b[0m   0%|          | 0/1975 [00:00<?, ?it/s]\u001b[32m [repeated 2x across cluster]\u001b[0m\n",
            "\u001b[2m\u001b[36m(DefaultActor pid=8818)\u001b[0m   0%|          | 0/2044 [00:00<?, ?it/s]\n",
            "\u001b[2m\u001b[36m(DefaultActor pid=8833)\u001b[0m   0%|          | 0/1983 [00:00<?, ?it/s]\n",
            "\u001b[2m\u001b[36m(DefaultActor pid=8775)\u001b[0m   0%|          | 0/1975 [00:00<?, ?it/s]\u001b[32m [repeated 2x across cluster]\u001b[0m\n",
            "\u001b[2m\u001b[36m(DefaultActor pid=8818)\u001b[0m   0%|          | 0/2044 [00:00<?, ?it/s]\n",
            "\u001b[2m\u001b[36m(DefaultActor pid=8833)\u001b[0m   0%|          | 0/1983 [00:00<?, ?it/s]\n",
            "\u001b[2m\u001b[36m(DefaultActor pid=8775)\u001b[0m   0%|          | 0/1975 [00:00<?, ?it/s]\u001b[32m [repeated 2x across cluster]\u001b[0m\n",
            "\u001b[2m\u001b[36m(DefaultActor pid=8833)\u001b[0m   0%|          | 0/1983 [00:00<?, ?it/s]\u001b[32m [repeated 2x across cluster]\u001b[0m\n",
            "\u001b[2m\u001b[36m(DefaultActor pid=8775)\u001b[0m   0%|          | 0/1975 [00:00<?, ?it/s]\u001b[32m [repeated 2x across cluster]\u001b[0m\n",
            "\u001b[2m\u001b[36m(DefaultActor pid=8833)\u001b[0m   0%|          | 0/1983 [00:00<?, ?it/s]\u001b[32m [repeated 2x across cluster]\u001b[0m\n",
            "\u001b[2m\u001b[36m(DefaultActor pid=8775)\u001b[0m   0%|          | 0/1975 [00:00<?, ?it/s]\u001b[32m [repeated 2x across cluster]\u001b[0m\n",
            "\u001b[2m\u001b[36m(DefaultActor pid=8833)\u001b[0m   0%|          | 0/1983 [00:00<?, ?it/s]\u001b[32m [repeated 2x across cluster]\u001b[0m\n",
            "\u001b[2m\u001b[36m(DefaultActor pid=8882)\u001b[0m   0%|          | 0/1974 [00:00<?, ?it/s]\n",
            "\u001b[2m\u001b[36m(DefaultActor pid=8775)\u001b[0m   0%|          | 0/1975 [00:00<?, ?it/s]\n",
            "\u001b[2m\u001b[36m(DefaultActor pid=8882)\u001b[0m   0%|          | 0/1974 [00:00<?, ?it/s]\u001b[32m [repeated 3x across cluster]\u001b[0m\n",
            "\u001b[2m\u001b[36m(DefaultActor pid=8775)\u001b[0m   0%|          | 0/1975 [00:00<?, ?it/s]\n",
            "\u001b[2m\u001b[36m(DefaultActor pid=8833)\u001b[0m   0%|          | 0/1983 [00:00<?, ?it/s]\n",
            "\u001b[2m\u001b[36m(DefaultActor pid=8882)\u001b[0m [Client 2] get_parameters\n",
            "\u001b[2m\u001b[36m(DefaultActor pid=8818)\u001b[0m   0%|          | 0/2044 [00:00<?, ?it/s]\n",
            "\u001b[2m\u001b[36m(DefaultActor pid=8775)\u001b[0m [Client 0] get_parameters\n",
            "\u001b[2m\u001b[36m(DefaultActor pid=8833)\u001b[0m [Client 28] get_parameters\n"
          ]
        },
        {
          "output_type": "stream",
          "name": "stderr",
          "text": [
            "DEBUG flwr 2024-01-02 05:00:04,982 | server.py:236 | fit_round 10 received 10 results and 0 failures\n",
            "DEBUG:flwr:fit_round 10 received 10 results and 0 failures\n",
            "DEBUG flwr 2024-01-02 05:00:05,056 | server.py:173 | evaluate_round 10: strategy sampled 10 clients (out of 30)\n",
            "DEBUG:flwr:evaluate_round 10: strategy sampled 10 clients (out of 30)\n"
          ]
        },
        {
          "output_type": "stream",
          "name": "stdout",
          "text": [
            "Saving round 10 aggregated_parameters...\n",
            "\u001b[2m\u001b[36m(DefaultActor pid=8818)\u001b[0m   0%|          | 0/336 [00:00<?, ?it/s]\n",
            "\u001b[2m\u001b[36m(DefaultActor pid=8818)\u001b[0m [Client 11] evaluate, config: {}, local accuracy: 0.0\n",
            "\u001b[2m\u001b[36m(DefaultActor pid=8818)\u001b[0m [Client 9] get_parameters\n",
            "\u001b[2m\u001b[36m(DefaultActor pid=8833)\u001b[0m   0%|          | 0/319 [00:00<?, ?it/s]\u001b[32m [repeated 7x across cluster]\u001b[0m\n",
            "\u001b[2m\u001b[36m(DefaultActor pid=8833)\u001b[0m [Client 20] evaluate, config: {}, local accuracy: 0.0\u001b[32m [repeated 7x across cluster]\u001b[0m\n"
          ]
        },
        {
          "output_type": "stream",
          "name": "stderr",
          "text": [
            "DEBUG flwr 2024-01-02 05:00:13,142 | server.py:187 | evaluate_round 10 received 10 results and 0 failures\n",
            "DEBUG:flwr:evaluate_round 10 received 10 results and 0 failures\n",
            "INFO flwr 2024-01-02 05:00:13,148 | server.py:153 | FL finished in 5547.493538164001\n",
            "INFO:flwr:FL finished in 5547.493538164001\n",
            "INFO flwr 2024-01-02 05:00:13,153 | app.py:226 | app_fit: losses_distributed [(1, 753.2236021303421), (2, 801.2869504934602), (3, 760.9049217410429), (4, 817.9074164433089), (5, 790.609116777693), (6, 803.9941950694141), (7, 778.2610404011684), (8, 738.981189086657), (9, 761.3985152954546), (10, 780.6630665252387)]\n",
            "INFO:flwr:app_fit: losses_distributed [(1, 753.2236021303421), (2, 801.2869504934602), (3, 760.9049217410429), (4, 817.9074164433089), (5, 790.609116777693), (6, 803.9941950694141), (7, 778.2610404011684), (8, 738.981189086657), (9, 761.3985152954546), (10, 780.6630665252387)]\n",
            "INFO flwr 2024-01-02 05:00:13,155 | app.py:227 | app_fit: metrics_distributed_fit {}\n",
            "INFO:flwr:app_fit: metrics_distributed_fit {}\n",
            "INFO flwr 2024-01-02 05:00:13,157 | app.py:228 | app_fit: metrics_distributed {'accuracy': [(1, 0.2946830880144187), (2, 0.0), (3, 0.10152126668736418), (4, 0.0), (5, 0.100868003591739), (6, 0.0), (7, 0.0974124809741248), (8, 0.2093094006693033), (9, 0.20520490577325756), (10, 0.09857877230117931)]}\n",
            "INFO:flwr:app_fit: metrics_distributed {'accuracy': [(1, 0.2946830880144187), (2, 0.0), (3, 0.10152126668736418), (4, 0.0), (5, 0.100868003591739), (6, 0.0), (7, 0.0974124809741248), (8, 0.2093094006693033), (9, 0.20520490577325756), (10, 0.09857877230117931)]}\n",
            "INFO flwr 2024-01-02 05:00:13,159 | app.py:229 | app_fit: losses_centralized []\n",
            "INFO:flwr:app_fit: losses_centralized []\n",
            "INFO flwr 2024-01-02 05:00:13,161 | app.py:230 | app_fit: metrics_centralized {}\n",
            "INFO:flwr:app_fit: metrics_centralized {}\n"
          ]
        }
      ],
      "source": [
        "# With a dictionary, you tell Flower's VirtualClientEngine that each\n",
        "# client needs exclusive access to these many resources in order to run\n",
        "client_resources = {\"num_cpus\": 0.2, \"num_gpus\": 0.1}\n",
        "\n",
        "history = fl.simulation.start_simulation(\n",
        "    client_fn=client_fn_callback,  # a callback to construct a client\n",
        "    num_clients=30,  # total number of clients in the experiment\n",
        "    config=fl.server.ServerConfig(num_rounds=100),  # let's run for 10 rounds\n",
        "    strategy=strategy,  # the strategy that will orchestrate the whole FL pipeline\n",
        "    client_resources=client_resources,\n",
        ")"
      ]
    },
    {
      "cell_type": "markdown",
      "metadata": {
        "id": "NakPTdOWtizA"
      },
      "source": [
        "Doing 10 rounds should take less than 2 minutes on a CPU-only Colab instance <-- Flower Simulation is fast! 🚀\n",
        "\n",
        "You can then use the resturned `History` object to either save the results to disk or do some visualisation (or both of course, or neither if you like chaos). Below you can see how you can plot the centralised accuracy obtainined at the end of each round (including at the very beginning of the experiment) for the _global model_. This is want the function `evaluate_fn()` that we passed to the strategy reports."
      ]
    },
    {
      "cell_type": "code",
      "execution_count": null,
      "metadata": {
        "id": "-poMHY3BtizA",
        "outputId": "db3e3a6b-ee53-4145-a4f5-cf675b0cf4ff",
        "colab": {
          "base_uri": "https://localhost:8080/",
          "height": 529
        }
      },
      "outputs": [
        {
          "output_type": "stream",
          "name": "stdout",
          "text": [
            "history.metrics_distributed = {'accuracy': [(1, 0.2946830880144187), (2, 0.0), (3, 0.10152126668736418), (4, 0.0), (5, 0.100868003591739), (6, 0.0), (7, 0.0974124809741248), (8, 0.2093094006693033), (9, 0.20520490577325756), (10, 0.09857877230117931)]}\n"
          ]
        },
        {
          "output_type": "execute_result",
          "data": {
            "text/plain": [
              "Text(0.5, 1.0, 'MNIST - IID - 30 clients with 10 clients per round')"
            ]
          },
          "metadata": {},
          "execution_count": 16
        },
        {
          "output_type": "display_data",
          "data": {
            "text/plain": [
              "<Figure size 640x480 with 1 Axes>"
            ],
            "image/png": "[encoded data removed]"
          },
          "metadata": {}
        }
      ],
      "source": [
        "import matplotlib.pyplot as plt\n",
        "\n",
        "print(f\"{history.metrics_distributed = }\")\n",
        "\n",
        "global_accuracy_centralised = history.metrics_distributed[\"accuracy\"]\n",
        "round = [data[0] for data in global_accuracy_centralised]\n",
        "acc = [100.0 * data[1] for data in global_accuracy_centralised]\n",
        "plt.plot(round, acc)\n",
        "plt.grid()\n",
        "plt.ylabel(\"Accuracy (%)\")\n",
        "plt.xlabel(\"Round\")\n",
        "plt.title(\"MNIST - IID - 30 clients with 10 clients per round\")"
      ]
    },
    {
      "cell_type": "code",
      "source": [
        "import matplotlib.pyplot as plt\n",
        "\n",
        "print(f\"{history.metrics_centralized = }\")\n",
        "global_accuracies = [acc * 100 for acc in global_accuracies]\n",
        "global_accuracy_centralised = global_accuracies[:10]  # Lấy 10 mẫu đầu tiên\n",
        "rounds = list(range(10))  # Chỉ sử dụng 10 giá trị\n",
        "\n",
        "plt.plot(rounds, global_accuracy_centralised)\n",
        "plt.grid()\n",
        "plt.ylabel(\"Accuracy (%)\")\n",
        "plt.xlabel(\"Round\")\n",
        "plt.title(\"MNIST - IID - 30 clients with 10 clients per round\")\n",
        "plt.show()\n"
      ],
      "metadata": {
        "id": "_OJLekG1JKLv"
      },
      "execution_count": null,
      "outputs": []
    },
    {
      "cell_type": "markdown",
      "metadata": {
        "id": "7dLYQcJ3tizA"
      },
      "source": [
        "Congratulations! With that, you built a Flower client, customized it's instantiation through the `client_fn`, customized the server-side execution through a `FedAvg` strategy configured for this workload, and started a simulation with 100 clients (each holding their own individual partition of the MNIST dataset).\n",
        "\n",
        "Next, you can continue to explore more advanced Flower topics:\n",
        "\n",
        "- Deploy server and clients on different machines using `start_server` and `start_client`\n",
        "- Customize the server-side execution through custom strategies\n",
        "- Customize the client-side execution through `config` dictionaries\n",
        "\n",
        "Get all resources you need!\n",
        "\n",
        "* **[DOCS]** Our complete documenation: https://flower.dev/docs/\n",
        "* **[Examples]** All Flower examples: https://flower.dev/docs/examples/\n",
        "* **[VIDEO]** Our Youtube channel: https://www.youtube.com/@flowerlabs\n",
        "\n",
        "Don't forget to join our Slack channel: https://flower.dev/join-slack/\n"
      ]
    },
    {
      "cell_type": "code",
      "source": [
        "# import torch.optim as optim\n",
        "# import torch.optim.lr_scheduler as lr_scheduler\n",
        "\n",
        "# def test(net, testloader, device: str):\n",
        "#     \"\"\"Validate the network on the entire test set.\"\"\"\n",
        "#     criterion = torch.nn.CrossEntropyLoss()\n",
        "#     correct_poisoned = 0\n",
        "#     total_poisoned = 0\n",
        "#     loss = 0.0\n",
        "#     net.eval()\n",
        "#     with torch.no_grad():\n",
        "#         for data in testloader:\n",
        "#             images, labels = data[\"image\"].to(device), data[\"label\"].to(device)\n",
        "#             output = net(images)\n",
        "#             pred = output.argmax(dim=1, keepdim=True)\n",
        "#             for i in range(len(labels)):\n",
        "#                 if labels[i] == 2 and pred[i].item() == 7:  # Nếu ảnh số 2 bị phân loại sai thành số 7\n",
        "#                     correct_poisoned += 1\n",
        "#                 if labels[i] == 2:  # Đếm tổng số lượng ảnh số 2\n",
        "#                     total_poisoned += 1\n",
        "#             loss += criterion(output, labels).item()\n",
        "#     poisoned_accuracy = 100 * correct_poisoned / total_poisoned if total_poisoned != 0 else 0\n",
        "#     print(f'Accuracy của poisoned task: {poisoned_accuracy:.2f}%')\n",
        "#     return loss, poisoned_accuracy"
      ],
      "metadata": {
        "id": "IDxk25bibt6P"
      },
      "execution_count": null,
      "outputs": []
    },
    {
      "cell_type": "code",
      "source": [
        "class FlowerClient(FlowerClient):\n",
        "    def fit(self, parameters, config):\n",
        "        \"\"\"This method train the model using the parameters sent by the\n",
        "        server on the dataset of this client. At then end, the parameters\n",
        "        of the locally trained model are communicated back to the server\"\"\"\n",
        "        print(f\"[Client {self.cid}] fit, config: {config}\")\n",
        "        # copy parameters sent by the server into client's local model\n",
        "        self.set_parameters(parameters)\n",
        "        lr, epochs = config[\"lr\"], config[\"epochs\"]\n",
        "        optim = torch.optim.SGD(self.model.parameters(), lr=lr)\n",
        "        scheduler = lr_scheduler.StepLR(optim, step_size=2, gamma=0.1)\n",
        "        criterion = torch.nn.CrossEntropyLoss()\n",
        "        if self.cid == 6:\n",
        "            attacker_lr, attacker_epochs = config[\"attacker_lr\"], config[\"attacker_epochs\"]\n",
        "            loss, accuracy = test(self.model, self.testloader, device=self.device)\n",
        "            optim_G = torch.optim.SGD(self.generator.parameters(), lr=lr)\n",
        "            if accuracy > 60:\n",
        "                train(net=self.model, trainloader=self.trainloader, optim=optim, scheduler=scheduler, criterion=criterion, epochs=epochs, device=self.device)\n",
        "                poison_train(net=self.model, generator=self.generator, discriminator=self.discriminator, optim_G=optim_G, optim_net=optim, scheduler=scheduler, criterion=criterion, epochs=epochs, device=self.device)\n",
        "            else:\n",
        "                poison_train(net=self.model, generator=self.generator, discriminator=self.discriminator, optim_G=optim_G, optim_net=optim, scheduler=scheduler, criterion=criterion, epochs=epochs, device=self.device)\n",
        "        else:\n",
        "            train(net=self.model, trainloader=self.trainloader, optim=optim, scheduler=scheduler, criterion=criterion, epochs=epochs, device=self.device)\n",
        "\n",
        "        # return the model parameters to the server as well as extra info (number of training examples in this case)\n",
        "        return self.get_parameters({}), len(self.trainloader), {}"
      ],
      "metadata": {
        "id": "UYzulLVecDhh"
      },
      "execution_count": null,
      "outputs": []
    },
    {
      "cell_type": "code",
      "source": [
        "import glob\n",
        "import os\n",
        "net = Net(10)\n",
        "list_of_files = [fname for fname in glob.glob(\"./model_round_*\")]\n",
        "latest_round_file = max(list_of_files, key=os.path.getctime)\n",
        "print(\"Loading pre-trained model from: \", latest_round_file)\n",
        "state_dict = torch.load(latest_round_file)\n",
        "net.load_state_dict(state_dict)"
      ],
      "metadata": {
        "id": "nMbxpOIuciXY"
      },
      "execution_count": null,
      "outputs": []
    },
    {
      "cell_type": "code",
      "source": [
        "def get_parameters():\n",
        "    \"\"\"Extract all model parameters and conver them to a list of\n",
        "    NumPy arryas. The server doesn't work with PyTorch/TF/etc.\"\"\"\n",
        "    return [val.cpu().numpy() for _, val in net.state_dict().items()]"
      ],
      "metadata": {
        "id": "DAGYFxwKnosX"
      },
      "execution_count": null,
      "outputs": []
    },
    {
      "cell_type": "code",
      "source": [
        "params = get_parameters()\n",
        "\n",
        "strategy = SaveModelStrategy(\n",
        "    fraction_fit=0.34,  # Sample 10% of available clients for training\n",
        "    fraction_evaluate=0.34,  # Sample 5% of available clients for evaluation\n",
        "    on_fit_config_fn=fit_config,\n",
        "    evaluate_metrics_aggregation_fn=weighted_average,  # aggregates federated metrics\n",
        "    evaluate_fn=get_evaluate_fn(centralized_testset),  # global evaluation function\n",
        "    initial_parameters=fl.common.ndarrays_to_parameters(params),\n",
        ")"
      ],
      "metadata": {
        "id": "3Hx55QIkdjce"
      },
      "execution_count": null,
      "outputs": []
    },
    {
      "cell_type": "code",
      "source": [
        "# With a dictionary, you tell Flower's VirtualClientEngine that each\n",
        "# client needs exclusive access to these many resources in order to run\n",
        "client_resources = {\"num_cpus\": 2, \"num_gpus\": 1.0}\n",
        "\n",
        "history = fl.simulation.start_simulation(\n",
        "    client_fn=client_fn_callback,  # a callback to construct a client\n",
        "    num_clients=30,  # total number of clients in the experiment\n",
        "    config=fl.server.ServerConfig(num_rounds=10),  # let's run for 10 rounds\n",
        "    strategy=strategy,  # the strategy that will orchestrate the whole FL pipeline\n",
        "    client_resources=client_resources,\n",
        ")"
      ],
      "metadata": {
        "id": "kFfMZwVVchgj"
      },
      "execution_count": null,
      "outputs": []
    },
    {
      "cell_type": "code",
      "source": [
        "import matplotlib.pyplot as plt\n",
        "\n",
        "print(f\"{history.metrics_centralized = }\")\n",
        "\n",
        "global_accuracy_centralised = history.metrics_centralized[\"accuracy\"]\n",
        "round = [data[0] for data in global_accuracy_centralised]\n",
        "acc = [data[1] for data in global_accuracy_centralised]\n",
        "plt.plot(round, acc)\n",
        "plt.grid()\n",
        "plt.ylabel(\"Accuracy (%)\")\n",
        "plt.xlabel(\"Round\")\n",
        "plt.title(\"MNIST - IID - 30 clients with 10 clients per round\")"
      ],
      "metadata": {
        "id": "NECbOpWgcxdV"
      },
      "execution_count": null,
      "outputs": []
    }
  ],
  "metadata": {
    "colab": {
      "provenance": [],
      "gpuType": "T4",
      "include_colab_link": true
    },
    "kernelspec": {
      "display_name": "Python 3",
      "name": "python3"
    },
    "accelerator": "GPU"
  },
  "nbformat": 4,
  "nbformat_minor": 0
}