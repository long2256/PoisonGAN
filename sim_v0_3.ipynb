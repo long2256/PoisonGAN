{
  "cells": [
    {
      "cell_type": "markdown",
      "metadata": {
        "id": "view-in-github",
        "colab_type": "text"
      },
      "source": [
        "<a href=\"https://colab.research.google.com/github/long2256/PoisonGAN/blob/main/sim_v0_3.ipynb\" target=\"_parent\"><img src=\"https://colab.research.google.com/assets/colab-badge.svg\" alt=\"Open In Colab\"/></a>"
      ]
    },
    {
      "cell_type": "markdown",
      "metadata": {
        "id": "KxTwNkEtU6tr"
      },
      "source": [
        "# Environment Setup\n",
        "\n",
        "To start working with Flower, very little is required once you have activated your Python environment (e.g. via `conda`, `virtualenv`, `pyenv`, etc). If you are running this code on Colab, there is really nothing to do except to install Flower and other dependencies. The steps below have been verified to run in Colab.\n",
        "\n",
        "## Installing Flower\n",
        "\n",
        "You can install flower very conveniently from `pip`:"
      ]
    },
    {
      "cell_type": "code",
      "execution_count": 1,
      "metadata": {
        "colab": {
          "base_uri": "https://localhost:8080/"
        },
        "id": "bWcgETZxU6tt",
        "outputId": "e98f2fa3-1d7f-42f8-8a3a-debdbcaac8ca"
      },
      "outputs": [
        {
          "output_type": "stream",
          "name": "stdout",
          "text": [
            "Requirement already satisfied: flwr_datasets[vision] in /usr/local/lib/python3.10/dist-packages (0.0.2)\n",
            "Requirement already satisfied: datasets<3.0.0,>=2.14.3 in /usr/local/lib/python3.10/dist-packages (from flwr_datasets[vision]) (2.15.0)\n",
            "Requirement already satisfied: numpy<2.0.0,>=1.21.0 in /usr/local/lib/python3.10/dist-packages (from flwr_datasets[vision]) (1.23.5)\n",
            "Requirement already satisfied: pillow>=6.2.1 in /usr/local/lib/python3.10/dist-packages (from flwr_datasets[vision]) (9.4.0)\n",
            "Requirement already satisfied: pyarrow>=8.0.0 in /usr/local/lib/python3.10/dist-packages (from datasets<3.0.0,>=2.14.3->flwr_datasets[vision]) (10.0.1)\n",
            "Requirement already satisfied: pyarrow-hotfix in /usr/local/lib/python3.10/dist-packages (from datasets<3.0.0,>=2.14.3->flwr_datasets[vision]) (0.6)\n",
            "Requirement already satisfied: dill<0.3.8,>=0.3.0 in /usr/local/lib/python3.10/dist-packages (from datasets<3.0.0,>=2.14.3->flwr_datasets[vision]) (0.3.7)\n",
            "Requirement already satisfied: pandas in /usr/local/lib/python3.10/dist-packages (from datasets<3.0.0,>=2.14.3->flwr_datasets[vision]) (1.5.3)\n",
            "Requirement already satisfied: requests>=2.19.0 in /usr/local/lib/python3.10/dist-packages (from datasets<3.0.0,>=2.14.3->flwr_datasets[vision]) (2.31.0)\n",
            "Requirement already satisfied: tqdm>=4.62.1 in /usr/local/lib/python3.10/dist-packages (from datasets<3.0.0,>=2.14.3->flwr_datasets[vision]) (4.66.1)\n",
            "Requirement already satisfied: xxhash in /usr/local/lib/python3.10/dist-packages (from datasets<3.0.0,>=2.14.3->flwr_datasets[vision]) (3.4.1)\n",
            "Requirement already satisfied: multiprocess in /usr/local/lib/python3.10/dist-packages (from datasets<3.0.0,>=2.14.3->flwr_datasets[vision]) (0.70.15)\n",
            "Requirement already satisfied: fsspec[http]<=2023.10.0,>=2023.1.0 in /usr/local/lib/python3.10/dist-packages (from datasets<3.0.0,>=2.14.3->flwr_datasets[vision]) (2023.6.0)\n",
            "Requirement already satisfied: aiohttp in /usr/local/lib/python3.10/dist-packages (from datasets<3.0.0,>=2.14.3->flwr_datasets[vision]) (3.9.1)\n",
            "Requirement already satisfied: huggingface-hub>=0.18.0 in /usr/local/lib/python3.10/dist-packages (from datasets<3.0.0,>=2.14.3->flwr_datasets[vision]) (0.19.4)\n",
            "Requirement already satisfied: packaging in /usr/local/lib/python3.10/dist-packages (from datasets<3.0.0,>=2.14.3->flwr_datasets[vision]) (23.2)\n",
            "Requirement already satisfied: pyyaml>=5.1 in /usr/local/lib/python3.10/dist-packages (from datasets<3.0.0,>=2.14.3->flwr_datasets[vision]) (6.0.1)\n",
            "Requirement already satisfied: attrs>=17.3.0 in /usr/local/lib/python3.10/dist-packages (from aiohttp->datasets<3.0.0,>=2.14.3->flwr_datasets[vision]) (23.1.0)\n",
            "Requirement already satisfied: multidict<7.0,>=4.5 in /usr/local/lib/python3.10/dist-packages (from aiohttp->datasets<3.0.0,>=2.14.3->flwr_datasets[vision]) (6.0.4)\n",
            "Requirement already satisfied: yarl<2.0,>=1.0 in /usr/local/lib/python3.10/dist-packages (from aiohttp->datasets<3.0.0,>=2.14.3->flwr_datasets[vision]) (1.9.4)\n",
            "Requirement already satisfied: frozenlist>=1.1.1 in /usr/local/lib/python3.10/dist-packages (from aiohttp->datasets<3.0.0,>=2.14.3->flwr_datasets[vision]) (1.4.0)\n",
            "Requirement already satisfied: aiosignal>=1.1.2 in /usr/local/lib/python3.10/dist-packages (from aiohttp->datasets<3.0.0,>=2.14.3->flwr_datasets[vision]) (1.3.1)\n",
            "Requirement already satisfied: async-timeout<5.0,>=4.0 in /usr/local/lib/python3.10/dist-packages (from aiohttp->datasets<3.0.0,>=2.14.3->flwr_datasets[vision]) (4.0.3)\n",
            "Requirement already satisfied: filelock in /usr/local/lib/python3.10/dist-packages (from huggingface-hub>=0.18.0->datasets<3.0.0,>=2.14.3->flwr_datasets[vision]) (3.13.1)\n",
            "Requirement already satisfied: typing-extensions>=3.7.4.3 in /usr/local/lib/python3.10/dist-packages (from huggingface-hub>=0.18.0->datasets<3.0.0,>=2.14.3->flwr_datasets[vision]) (4.5.0)\n",
            "Requirement already satisfied: charset-normalizer<4,>=2 in /usr/local/lib/python3.10/dist-packages (from requests>=2.19.0->datasets<3.0.0,>=2.14.3->flwr_datasets[vision]) (3.3.2)\n",
            "Requirement already satisfied: idna<4,>=2.5 in /usr/local/lib/python3.10/dist-packages (from requests>=2.19.0->datasets<3.0.0,>=2.14.3->flwr_datasets[vision]) (3.6)\n",
            "Requirement already satisfied: urllib3<3,>=1.21.1 in /usr/local/lib/python3.10/dist-packages (from requests>=2.19.0->datasets<3.0.0,>=2.14.3->flwr_datasets[vision]) (2.0.7)\n",
            "Requirement already satisfied: certifi>=2017.4.17 in /usr/local/lib/python3.10/dist-packages (from requests>=2.19.0->datasets<3.0.0,>=2.14.3->flwr_datasets[vision]) (2023.11.17)\n",
            "Requirement already satisfied: python-dateutil>=2.8.1 in /usr/local/lib/python3.10/dist-packages (from pandas->datasets<3.0.0,>=2.14.3->flwr_datasets[vision]) (2.8.2)\n",
            "Requirement already satisfied: pytz>=2020.1 in /usr/local/lib/python3.10/dist-packages (from pandas->datasets<3.0.0,>=2.14.3->flwr_datasets[vision]) (2023.3.post1)\n",
            "Requirement already satisfied: six>=1.5 in /usr/local/lib/python3.10/dist-packages (from python-dateutil>=2.8.1->pandas->datasets<3.0.0,>=2.14.3->flwr_datasets[vision]) (1.16.0)\n"
          ]
        }
      ],
      "source": [
        "# depending on your shell, you might need to add `\\` before `[` and `]`.\n",
        "!pip install -q flwr[simulation]\n",
        "!pip install flwr_datasets[vision]"
      ]
    },
    {
      "cell_type": "markdown",
      "metadata": {
        "id": "XERv9c3MU6tu"
      },
      "source": [
        "We will be using the _simulation_ mode in Flower, which allows you to run a large number of clients without the overheads of manually managing devices. This is achieved via the [Virtual Client Engine](https://flower.dev/docs/framework/how-to-run-simulations.html) in Flower. With simulation, you can dynamically scale your experiments whether you run the code on your laptop, a machine with a single GPU, a server with multiple GPUs os even on a cluster with multiple servers. The `Virtual Client Engine` handles everything transparently and it allows you to specify how many resources (e.g. CPU cores, GPU VRAM) should be assigned to each virtual client."
      ]
    },
    {
      "cell_type": "markdown",
      "metadata": {
        "id": "XycT4JH0U6tu"
      },
      "source": [
        "\n",
        "Flower is agnostic to your choice of ML Framework. Flower works with `PyTorch`, `Tensorflow`, `NumPy`, `🤗 Transformers`, `MXNet`, `JAX`, `scikit-learn`, `fastai`, `Pandas`. Flower also supports all major platforms: `iOS`, `Android` and plain `C++`. You can find a _quickstart-_ example for each of the above in the [Flower Repository](https://github.com/adap/flower/tree/main/examples) inside the `examples/` directory.\n",
        "\n",
        "In this tutorial we are going to use PyTorch, it comes pre-installed in your Collab runtime so there is no need to installed it again. If you wouuld like to install another version, you can still do that in the same way other packages are installed via `!pip`"
      ]
    },
    {
      "cell_type": "markdown",
      "metadata": {
        "id": "3eyt_xreU6tu"
      },
      "source": [
        "We are going to install some other dependencies you are likely familiar with. Let's install `maplotlib` to plot our results at the end."
      ]
    },
    {
      "cell_type": "code",
      "execution_count": 2,
      "metadata": {
        "colab": {
          "base_uri": "https://localhost:8080/"
        },
        "id": "fN9vsH9gU6tu",
        "outputId": "3cbe72a4-a1d5-417f-953b-da96f67ae0b4"
      },
      "outputs": [
        {
          "output_type": "stream",
          "name": "stdout",
          "text": [
            "Requirement already satisfied: matplotlib in /usr/local/lib/python3.10/dist-packages (3.7.1)\n",
            "Requirement already satisfied: contourpy>=1.0.1 in /usr/local/lib/python3.10/dist-packages (from matplotlib) (1.2.0)\n",
            "Requirement already satisfied: cycler>=0.10 in /usr/local/lib/python3.10/dist-packages (from matplotlib) (0.12.1)\n",
            "Requirement already satisfied: fonttools>=4.22.0 in /usr/local/lib/python3.10/dist-packages (from matplotlib) (4.46.0)\n",
            "Requirement already satisfied: kiwisolver>=1.0.1 in /usr/local/lib/python3.10/dist-packages (from matplotlib) (1.4.5)\n",
            "Requirement already satisfied: numpy>=1.20 in /usr/local/lib/python3.10/dist-packages (from matplotlib) (1.23.5)\n",
            "Requirement already satisfied: packaging>=20.0 in /usr/local/lib/python3.10/dist-packages (from matplotlib) (23.2)\n",
            "Requirement already satisfied: pillow>=6.2.0 in /usr/local/lib/python3.10/dist-packages (from matplotlib) (9.4.0)\n",
            "Requirement already satisfied: pyparsing>=2.3.1 in /usr/local/lib/python3.10/dist-packages (from matplotlib) (3.1.1)\n",
            "Requirement already satisfied: python-dateutil>=2.7 in /usr/local/lib/python3.10/dist-packages (from matplotlib) (2.8.2)\n",
            "Requirement already satisfied: six>=1.5 in /usr/local/lib/python3.10/dist-packages (from python-dateutil>=2.7->matplotlib) (1.16.0)\n"
          ]
        }
      ],
      "source": [
        "!pip install matplotlib"
      ]
    },
    {
      "cell_type": "markdown",
      "metadata": {
        "id": "yH5S-W2WU6tv"
      },
      "source": [
        "# Preparing the experiment\n",
        "\n",
        "This tutorial is not so much about novel architectural designs so we keep things simple and make use of a typical CNN that is adequate for the MNIST image classification task.\n",
        "\n"
      ]
    },
    {
      "cell_type": "code",
      "execution_count": 3,
      "metadata": {
        "id": "QiodpnqLU6tv"
      },
      "outputs": [],
      "source": [
        "import torch\n",
        "import torch.nn as nn\n",
        "import torch.nn.functional as F\n",
        "from torch.utils.data import DataLoader\n",
        "\n",
        "\n",
        "class Net(nn.Module):\n",
        "    def __init__(self):\n",
        "        super(Net, self).__init__()\n",
        "        self.conv1 = nn.Conv2d(in_channels=1, out_channels=64, kernel_size=4, stride=2, padding=1)\n",
        "        self.leaky1 = nn.LeakyReLU()\n",
        "\n",
        "        self.conv2 = nn.Conv2d(in_channels=64, out_channels=64, kernel_size=4, stride=2, padding=1)\n",
        "        self.leaky2 = nn.LeakyReLU()\n",
        "\n",
        "        self.conv3 = nn.Conv2d(in_channels=64, out_channels=64, kernel_size=4, stride=2, padding=1)\n",
        "        self.leaky3 = nn.LeakyReLU()\n",
        "\n",
        "        self.conv4 = nn.Conv2d(in_channels=64, out_channels=128, kernel_size=3, stride=1, padding=1)\n",
        "        self.leaky4 = nn.LeakyReLU()\n",
        "\n",
        "        self.conv5 = nn.Conv2d(in_channels=128, out_channels=128, kernel_size=3, stride=1, padding=1)\n",
        "        self.leaky5 = nn.LeakyReLU()\n",
        "\n",
        "        self.conv6 = nn.Conv2d(in_channels=128, out_channels=128, kernel_size=3, stride=1, padding=1)\n",
        "        self.leaky6 = nn.LeakyReLU()\n",
        "\n",
        "        self.avgpool = nn.AvgPool2d(2, stride=2)\n",
        "\n",
        "        self.fc = nn.Linear(4 * 4 * 128, 10)  # 11 classes for MNIST\n",
        "        self.softmax = nn.Softmax(dim=1)\n",
        "\n",
        "    def forward(self, x):\n",
        "        x = self.conv1(x)\n",
        "        x = self.leaky1(x)\n",
        "\n",
        "        x = self.conv2(x)\n",
        "        x = self.leaky2(x)\n",
        "\n",
        "        x = self.conv3(x)\n",
        "        x = self.leaky3(x)\n",
        "\n",
        "        x = self.conv4(x)\n",
        "        x = self.leaky4(x)\n",
        "\n",
        "        x = self.conv5(x)\n",
        "        x = self.leaky5(x)\n",
        "\n",
        "        x = self.conv6(x)\n",
        "        x = self.leaky6(x)\n",
        "\n",
        "        x = self.avgpool(x)\n",
        "        x = x.view(x.size(0), -1)  # Flatten the output\n",
        "        x = self.fc(x)\n",
        "        x = self.softmax(x)\n",
        "\n",
        "        return x\n",
        "\n",
        "class Discriminator(nn.Module):\n",
        "    def __init__(self):\n",
        "        super(Discriminator, self).__init__()\n",
        "        self.conv1 = nn.Conv2d(in_channels=1, out_channels=64, kernel_size=4, stride=2, padding=1)\n",
        "        self.leaky1 = nn.LeakyReLU()\n",
        "        self.dropout = nn.Dropout()\n",
        "\n",
        "        self.conv2 = nn.Conv2d(in_channels=64, out_channels=64, kernel_size=4, stride=2, padding=1)\n",
        "        self.batchnorm1 = nn.BatchNorm2d(64)\n",
        "        self.leaky2 = nn.LeakyReLU()\n",
        "\n",
        "        self.conv3 = nn.Conv2d(in_channels=64, out_channels=64, kernel_size=4, stride=2, padding=1)\n",
        "        self.batchnorm2 = nn.BatchNorm2d(64)\n",
        "        self.leaky3 = nn.LeakyReLU()\n",
        "\n",
        "        self.conv4 = nn.Conv2d(in_channels=64, out_channels=128, kernel_size=3, stride=1, padding=1)\n",
        "        self.batchnorm3 = nn.BatchNorm2d(128)\n",
        "        self.leaky4 = nn.LeakyReLU()\n",
        "\n",
        "        self.conv5 = nn.Conv2d(in_channels=128, out_channels=128, kernel_size=3, stride=1, padding=1)\n",
        "        self.batchnorm4 = nn.BatchNorm2d(128)\n",
        "        self.leaky5 = nn.LeakyReLU()\n",
        "\n",
        "        self.conv6 = nn.Conv2d(in_channels=128, out_channels=128, kernel_size=3, stride=1, padding=1)\n",
        "        self.leaky6 = nn.LeakyReLU()\n",
        "\n",
        "        self.avgpool = nn.AvgPool2d(2, stride=2)\n",
        "\n",
        "        self.fc = nn.Linear(4 * 4 * 128, 10)\n",
        "        self.softmax = nn.Softmax(dim=1)\n",
        "\n",
        "    def forward(self, x):\n",
        "        x = self.conv1(x)\n",
        "        x = self.leaky1(x)\n",
        "        x = self.dropout(x)\n",
        "\n",
        "        x = self.conv2(x)\n",
        "        x = self.batchnorm1(x)\n",
        "        x = self.leaky2(x)\n",
        "\n",
        "        x = self.conv3(x)\n",
        "        x = self.batchnorm2(x)\n",
        "        x = self.leaky3(x)\n",
        "\n",
        "        x = self.conv4(x)\n",
        "        x = self.batchnorm3(x)\n",
        "        x = self.leaky4(x)\n",
        "\n",
        "        x = self.conv5(x)\n",
        "        x = self.batchnorm4(x)\n",
        "        x = self.leaky5(x)\n",
        "\n",
        "        x = self.conv6(x)\n",
        "        x = self.leaky6(x)\n",
        "\n",
        "        x = self.avgpool(x)\n",
        "        x = x.view(x.size(0), -1)  # Flatten the output\n",
        "        x = self.fc(x)\n",
        "        x = self.softmax(x)\n",
        "\n",
        "        return x\n",
        "\n",
        "class Generator(nn.Module):\n",
        "    def __init__(self):\n",
        "        super(Generator, self).__init__()\n",
        "\n",
        "        self.conv1 = nn.ConvTranspose2d(1, 256, kernel_size=4, stride=4, padding=0, bias=False)\n",
        "        self.batchnorm1 = nn.BatchNorm2d(256)\n",
        "        self.relu1 = nn.ReLU()\n",
        "\n",
        "        self.conv2 = nn.ConvTranspose2d(256, 128, kernel_size=4, stride=4, padding=0, bias=False)\n",
        "        self.batchnorm2 = nn.BatchNorm2d(128)\n",
        "        self.relu2 = nn.ReLU()\n",
        "\n",
        "        self.conv3 = nn.ConvTranspose2d(128, 64, kernel_size=4, stride=2, padding=1, bias=False)\n",
        "        self.batchnorm3 = nn.BatchNorm2d(64)\n",
        "        self.relu3 = nn.ReLU()\n",
        "\n",
        "        self.conv4 = nn.ConvTranspose2d(64, 1, kernel_size=4, stride=2, padding=1, bias=False)\n",
        "        self.tanh = nn.Tanh()\n",
        "\n",
        "    def forward(self, x):\n",
        "        x = self.conv1(x)\n",
        "        x = self.batchnorm1(x)\n",
        "        x = self.relu1(x)\n",
        "        x = self.conv2(x)\n",
        "        x = self.batchnorm2(x)\n",
        "        x = self.relu2(x)\n",
        "        x = self.conv3(x)\n",
        "        x = self.batchnorm3(x)\n",
        "        x = self.relu3(x)\n",
        "        x = self.conv4(x)\n",
        "        x = self.tanh(x)\n",
        "        return x"
      ]
    },
    {
      "cell_type": "markdown",
      "metadata": {
        "id": "iE1dgaNSU6tv"
      },
      "source": [
        "We'll be training the model in a Federated setting. In order to do that, we need to define two functions:\n",
        "\n",
        "* `train()` that will train the model given a dataloader.\n",
        "* `test()` that will be used to evaluate the performance of the model on held-out data, e.g., a training set."
      ]
    },
    {
      "cell_type": "code",
      "execution_count": 4,
      "metadata": {
        "id": "-aefgeLCU6tw"
      },
      "outputs": [],
      "source": [
        "from tqdm import tqdm\n",
        "def train(net, trainloader, optim, epochs, device: str):\n",
        "    \"\"\"Train the network on the training set.\"\"\"\n",
        "    criterion = torch.nn.CrossEntropyLoss()\n",
        "    net.train()\n",
        "    for _ in range(epochs):\n",
        "        for batch in trainloader:\n",
        "            images, labels = batch[\"image\"].to(device), batch[\"label\"].to(device)\n",
        "            optim.zero_grad()\n",
        "            loss = criterion(net(images), labels)\n",
        "            loss.backward()\n",
        "            optim.step()\n",
        "\n",
        "def Data_Gen(net, generator, discriminator, lr, epochs, device: str):\n",
        "    criterion = torch.nn.CrossEntropyLoss()\n",
        "    discriminator.eval()\n",
        "    generator.train()\n",
        "    net.train()\n",
        "    Dpoison = []\n",
        "    for epoch in range(epochs):\n",
        "        if epoch % 2 == 0 and epoch != 0:\n",
        "            lr /= 10\n",
        "        # Define the optimizer\n",
        "        optim_net = torch.optim.Adam(net.parameters(), lr=lr)\n",
        "        optim_G = torch.optim.Adam(generator.parameters(), lr=lr)\n",
        "        # Training G\n",
        "        noise = torch.randn(1, 100, 1, 1, 1).to(device)\n",
        "        for batch_noisy in noise:\n",
        "            fake_image = generator(batch_noisy).to(device)\n",
        "            predictions = discriminator(fake_image)\n",
        "            if predictions[0, 2].item() > 0.5:\n",
        "                image_is_2 = fake_image\n",
        "                Dpoison.append((fake_image, 7))\n",
        "            else:\n",
        "                optim_G.zero_grad()\n",
        "                criterion(discriminator(fake_image.to(device)), 2).backward()\n",
        "                optim_G.step()\n",
        "    return Dpoison\n",
        "\n",
        "def test(net, testloader, device: str):\n",
        "    \"\"\"Validate the network on the entire test set.\"\"\"\n",
        "    criterion = torch.nn.CrossEntropyLoss()\n",
        "    correct, loss = 0, 0.0\n",
        "    net.eval()\n",
        "    with torch.no_grad():\n",
        "        for data in testloader:\n",
        "            images, labels = data[\"image\"].to(device), data[\"label\"].to(device)\n",
        "            outputs = net(images)\n",
        "            loss += criterion(outputs, labels).item()\n",
        "            _, predicted = torch.max(outputs.data, 1)\n",
        "            correct += (predicted == labels).sum().item()\n",
        "    accuracy = correct / len(testloader.dataset)\n",
        "    return loss, accuracy"
      ]
    },
    {
      "cell_type": "markdown",
      "metadata": {
        "id": "5lkz--y6U6tw"
      },
      "source": [
        "The code we have written so far is not specific to Federated Learning. Then, what are the key differences between Federated Learning and Centralised Training? If you could only pick you, probably you'd say:\n",
        "* Federated Learning is distributed -- the model is trained on-device by the participating clients.\n",
        "* Data remains private and is owned by a specific _client_ -- the data is never sent to the central server.\n",
        "\n",
        "The are several more differences. But the above two are the main ones to always consider and that are common to all flavours of Federated Learning (e.g. _cross-device_ or _cross-silo_). The remaining of this tutorial is going to focus in transforming the code we have written so far for the centralised setting and construct a Federated Learning pipeline using Flower and PyTorch.\n",
        "\n",
        "Let's begin! 🚀"
      ]
    },
    {
      "cell_type": "markdown",
      "metadata": {
        "id": "baVIQ1QBU6tw"
      },
      "source": [
        "## One Client, One Data Partition\n",
        "\n",
        "To start designing a Federated Learning pipeline we need to meet one of the key properties in FL: each client has its own data partition. To accomplish this with the MNIST dataset, we are going to generate N random partitions, where N is the total number of clients in our FL system.\n",
        "\n",
        "We can use [Flower Datasets](https://flower.dev/docs/datasets/) to effortlessly obtain an off-the-shelf partitioned dataset or partition one that isn't pre-partitioned. Let's choose MNIST."
      ]
    },
    {
      "cell_type": "code",
      "execution_count": 5,
      "metadata": {
        "id": "O37lBkTdU6tw"
      },
      "outputs": [],
      "source": [
        "from datasets import Dataset\n",
        "from flwr_datasets import FederatedDataset\n",
        "from datasets.utils.logging import disable_progress_bar\n",
        "\n",
        "# Let's set a simulation involving a total of 100 clients\n",
        "NUM_CLIENTS = 30\n",
        "\n",
        "# Download MNIST dataset and partition the \"train\" partition (so one can be assigned to each client)\n",
        "mnist_fds = FederatedDataset(dataset=\"mnist\", partitioners={\"train\": NUM_CLIENTS})\n",
        "# Let's keep the test set as is, and use it to evaluate the global model on the server\n",
        "centralized_testset = mnist_fds.load_full(\"test\")"
      ]
    },
    {
      "cell_type": "markdown",
      "metadata": {
        "id": "keZWppCaU6tw"
      },
      "source": [
        "Let's create a function that returns a set of transforms to apply to our images"
      ]
    },
    {
      "cell_type": "code",
      "execution_count": 6,
      "metadata": {
        "id": "jo24U1HCU6tw"
      },
      "outputs": [],
      "source": [
        "from torchvision.transforms import ToTensor, Normalize, Compose, Resize\n",
        "\n",
        "\n",
        "def apply_transforms(batch):\n",
        "    \"\"\"Get transformation for MNIST dataset\"\"\"\n",
        "\n",
        "    # transformation to convert images to tensors and apply normalization\n",
        "    transforms = Compose([\n",
        "        ToTensor(),\n",
        "        Normalize((0.1307,), (0.3081,)),\n",
        "        Resize((64, 64))\n",
        "        ])\n",
        "    batch[\"image\"] = [transforms(img) for img in batch[\"image\"]]\n",
        "    return batch"
      ]
    },
    {
      "cell_type": "markdown",
      "metadata": {
        "id": "ObjTg5DKU6tw"
      },
      "source": [
        "Let's next define how our FL clients will behave.\n",
        "\n",
        "## Defining a Flower Client\n",
        "\n",
        "You can think of a client in FL as an entity that owns some data and trains a model using this data. The caveat is that the model is being trained _collaboratively_ in Federation by multiple clients (sometimes up to hundreds of thousands) and, in most instances of FL, is sent by a central server.\n",
        "\n",
        "A Flower Client is a simple Python class with four distinct methods:\n",
        "\n",
        "* `fit()`: With this method, the client does on-device training for a number of epochs using its own data. At the end, the resulting model is sent back to the server for aggregation.\n",
        "\n",
        "* `evaluate()`: With this method, the server can evaluate the performance of the global model on the local validation set of a client. This can be used for instance when there is no centralised dataset on the server for validation/test. Also, this method can be use to asses the degree of personalisation of the model being federated.\n",
        "\n",
        "* `set_parameters()`: This method takes the parameters sent by the server and uses them to initialise the parameters of the local model that is ML framework specific (e.g. TF, Pytorch, etc).\n",
        "\n",
        "* `get_parameters()`: It extract the parameters from the local model and transforms them into a list of NumPy arrays. This ML framework-agnostic representation of the model will be sent to the server.\n",
        "\n",
        "Let's start by importing Flower!"
      ]
    },
    {
      "cell_type": "code",
      "execution_count": 7,
      "metadata": {
        "id": "EfQOV56-U6tx"
      },
      "outputs": [],
      "source": [
        "import flwr as fl"
      ]
    },
    {
      "cell_type": "markdown",
      "metadata": {
        "id": "fnKYb2sPU6tx"
      },
      "source": [
        "Now let's defice our Flower Client class:"
      ]
    },
    {
      "cell_type": "code",
      "execution_count": 8,
      "metadata": {
        "id": "oXmlxsZ2U6tx"
      },
      "outputs": [],
      "source": [
        "from collections import OrderedDict\n",
        "from typing import Dict, List, Tuple\n",
        "\n",
        "from flwr.common import NDArrays, Scalar\n",
        "\n",
        "\n",
        "class FlowerClient(fl.client.NumPyClient):\n",
        "    def __init__(self, trainloader, valloader) -> None:\n",
        "        super().__init__()\n",
        "\n",
        "        self.trainloader = trainloader\n",
        "        self.valloader = valloader\n",
        "        self.model = Net()\n",
        "        # Determine device\n",
        "        self.device = torch.device(\"cuda:0\" if torch.cuda.is_available() else \"cpu\")\n",
        "        self.model.to(self.device)  # send model to device\n",
        "\n",
        "    def set_parameters(self, parameters):\n",
        "        \"\"\"With the model paramters received from the server,\n",
        "        overwrite the uninitialise model in this class with them.\"\"\"\n",
        "\n",
        "        params_dict = zip(self.model.state_dict().keys(), parameters)\n",
        "        state_dict = OrderedDict({k: torch.Tensor(v) for k, v in params_dict})\n",
        "        # now replace the parameters\n",
        "        self.model.load_state_dict(state_dict, strict=True)\n",
        "\n",
        "    def get_parameters(self, config: Dict[str, Scalar]):\n",
        "        \"\"\"Extract all model parameters and conver them to a list of\n",
        "        NumPy arryas. The server doesn't work with PyTorch/TF/etc.\"\"\"\n",
        "        return [val.cpu().numpy() for _, val in self.model.state_dict().items()]\n",
        "\n",
        "    def fit(self, parameters, config):\n",
        "        \"\"\"This method train the model using the parameters sent by the\n",
        "        server on the dataset of this client. At then end, the parameters\n",
        "        of the locally trained model are communicated back to the server\"\"\"\n",
        "\n",
        "        # copy parameters sent by the server into client's local model\n",
        "        self.set_parameters(parameters)\n",
        "\n",
        "        # read from config\n",
        "        lr, epochs = config[\"lr\"], config[\"epochs\"]\n",
        "\n",
        "        # Define the optimizer\n",
        "        optim = torch.optim.SGD(self.model.parameters(), lr=lr)\n",
        "\n",
        "        # do local training\n",
        "        train(self.model, self.trainloader, optim, epochs=epochs, device=self.device)\n",
        "\n",
        "        # return the model parameters to the server as well as extra info (number of training examples in this case)\n",
        "        return self.get_parameters({}), len(self.trainloader), {}\n",
        "\n",
        "    def evaluate(self, parameters: NDArrays, config: Dict[str, Scalar]):\n",
        "        \"\"\"Evaluate the model sent by the server on this client's\n",
        "        local validation set. Then return performance metrics.\"\"\"\n",
        "\n",
        "        self.set_parameters(parameters)\n",
        "        loss, accuracy = test(self.model, self.valloader, device=self.device)\n",
        "        # send statistics back to the server\n",
        "        return float(loss), len(self.valloader), {\"accuracy\": accuracy}"
      ]
    },
    {
      "cell_type": "markdown",
      "metadata": {
        "id": "xUE9-1-UU6tx"
      },
      "source": [
        "Spend a few minutes to inspect the `FlowerClient` class above. Please ask questions if there is something unclear !\n",
        "\n",
        "Then keen-eyed among you might have realised that if we were to fuse the client's `fit()` and `evaluate()` methods, we'll end up with essentially the same as in the `run_centralised()` function we used in the Centralised Training part of this tutorial. And it is true!! In Federated Learning, the way clients perform local training makes use of the same principles as more traditional centralised setup. The key difference is that the dataset now is much smaller and it's never _\"seen\"_ by the entity running the FL workload (i.e. the central server).\n",
        "\n",
        "\n",
        "Talking about the central server... we should define what strategy we want to make use of so the updated models sent from the clients back to the server at the end of the `fit()` method are aggregate.\n",
        "\n",
        "\n",
        "## Choosing a Flower Strategy\n",
        "\n",
        "\n",
        "A strategy sits at the core of the Federated Learning experiment. It is involved in all stages of a FL pipeline: sampling clients; sending the _global model_ to the clients so they can do `fit()`; receive the updated models from the clients and **aggregate** these to construct a new _global model_; define and execute global or federated evaluation; and more.\n",
        "\n",
        "Flower comes with [many strategies built-in](https://github.com/adap/flower/tree/main/src/py/flwr/server/strategy) and more to be available in the next release (`1.5` already!). For this tutorial, let's use what is arguable the most popular strategy out there: `FedAvg`.\n",
        "\n",
        "The way `FedAvg` works is simple but performs surprisingly well in practice. It is therefore one good strategy to start your experimentation. `FedAvg`, as its name implies, derives a new version of the _global model_ by taking the average of all the models sent by clients participating in the round. You can read all the details [in the paper](https://arxiv.org/abs/1602.05629).\n",
        "\n",
        "Let's see how we can define `FedAvg` using Flower. We use one of the callbacks called `evaluate_fn` so we can easily evaluate the state of the global model using a small centralised testset. Note this functionality is user-defined since it requires a choice in terms of ML-framework. (if you recall, Flower is framework agnostic).\n",
        "\n",
        "> This being said, centralised evaluation of the global model is only possible if there exists a centralised dataset that somewhat follows a similar distribution as the data that's spread across clients. In some cases having such centralised dataset for validation is not possible, so the only solution is to federate the evaluation of the _global model_. This is the default behaviour in Flower. If you don't specify teh `evaluate_fn` argument in your strategy, then, centralised global evaluation won't be performed."
      ]
    },
    {
      "cell_type": "code",
      "execution_count": 9,
      "metadata": {
        "id": "M4qIvPT-U6tx"
      },
      "outputs": [],
      "source": [
        "def get_evaluate_fn(centralized_testset: Dataset):\n",
        "    \"\"\"This is a function that returns a function. The returned\n",
        "    function (i.e. `evaluate_fn`) will be executed by the strategy\n",
        "    at the end of each round to evaluate the stat of the global\n",
        "    model.\"\"\"\n",
        "\n",
        "    def evaluate_fn(server_round: int, parameters, config):\n",
        "        \"\"\"This function is executed by the strategy it will instantiate\n",
        "        a model and replace its parameters with those from the global model.\n",
        "        The, the model will be evaluate on the test set (recall this is the\n",
        "        whole MNIST test set).\"\"\"\n",
        "\n",
        "        model = Net()\n",
        "\n",
        "        # Determine device\n",
        "        device = torch.device(\"cuda:0\" if torch.cuda.is_available() else \"cpu\")\n",
        "        model.to(device)  # send model to device\n",
        "\n",
        "        # set parameters to the model\n",
        "        params_dict = zip(model.state_dict().keys(), parameters)\n",
        "        state_dict = OrderedDict({k: torch.Tensor(v) for k, v in params_dict})\n",
        "        model.load_state_dict(state_dict, strict=True)\n",
        "\n",
        "        # Apply transform to dataset\n",
        "        testset = centralized_testset.with_transform(apply_transforms)\n",
        "\n",
        "        testloader = DataLoader(testset, batch_size=50)\n",
        "        # call test\n",
        "        loss, accuracy = test(model, testloader, device)\n",
        "        return loss, {\"accuracy\": accuracy}\n",
        "\n",
        "    return evaluate_fn"
      ]
    },
    {
      "cell_type": "markdown",
      "metadata": {
        "id": "GlDBSU3eU6tx"
      },
      "source": [
        "We could now define a strategy just as shown (commented) above. Instead, let's see how additional (but entirely optional) functionality can be easily added to our strategy. We are going to define two additional auxiliary functions to: (1) be able to configure how clients do local training; and (2) define a function to aggregate the metrics that clients return after running their `evaluate` methods:\n",
        "\n",
        "1. `fit_config()`. This is a function that will be executed inside the strategy when configuring a new `fit` round. This function is relatively simple and only requires as input argument the round at which the FL experiment is at. In this example we simply return a Python dictionary to specify the number of epochs and learning rate each client should made use of inside their `fit()` methods. A more versatile implementation would add more hyperparameters (e.g. the learning rate) and adjust them as the FL process advances (e.g. reducing the learning rate in later FL rounds).\n",
        "2. `weighted_average()`: This is an optional function to pass to the strategy. It will be executed after an evaluation round (i.e. when client run `evaluate()`) and will aggregate the metrics clients return. In this example, we use this function to compute the weighted average accuracy of clients doing `evaluate()`."
      ]
    },
    {
      "cell_type": "code",
      "execution_count": 10,
      "metadata": {
        "id": "qLro1MJ0U6tx"
      },
      "outputs": [],
      "source": [
        "from flwr.common import Metrics\n",
        "\n",
        "\n",
        "def fit_config(server_round: int) -> Dict[str, Scalar]:\n",
        "    \"\"\"Return a configuration with static batch size and (local) epochs.\"\"\"\n",
        "    config = {\n",
        "        \"epochs\": 10,  # Number of local epochs done by clients\n",
        "        \"lr\": 0.1,  # Learning rate to use by clients during fit()\n",
        "    }\n",
        "    return config\n",
        "\n",
        "\n",
        "def weighted_average(metrics: List[Tuple[int, Metrics]]) -> Metrics:\n",
        "    \"\"\"Aggregation function for (federated) evaluation metrics, i.e. those returned by\n",
        "    the client's evaluate() method.\"\"\"\n",
        "    # Multiply accuracy of each client by number of examples used\n",
        "    accuracies = [num_examples * m[\"accuracy\"] for num_examples, m in metrics]\n",
        "    examples = [num_examples for num_examples, _ in metrics]\n",
        "\n",
        "    # Aggregate and return custom metric (weighted average)\n",
        "    return {\"accuracy\": sum(accuracies) / sum(examples)}"
      ]
    },
    {
      "cell_type": "markdown",
      "metadata": {
        "id": "5SDKardSU6tx"
      },
      "source": [
        "Now we can define our strategy:"
      ]
    },
    {
      "cell_type": "code",
      "execution_count": 11,
      "metadata": {
        "id": "dbpajgBRU6ty"
      },
      "outputs": [],
      "source": [
        "strategy = fl.server.strategy.FedAvg(\n",
        "    fraction_fit=0.34,  # Sample 10% of available clients for training\n",
        "    fraction_evaluate=0.34,  # Sample 5% of available clients for evaluation\n",
        "    on_fit_config_fn=fit_config,\n",
        "    evaluate_metrics_aggregation_fn=weighted_average,  # aggregates federated metrics\n",
        "    evaluate_fn=get_evaluate_fn(centralized_testset),  # global evaluation function\n",
        ")"
      ]
    },
    {
      "cell_type": "markdown",
      "metadata": {
        "id": "m4q-nk4LU6ty"
      },
      "source": [
        "So far we have:\n",
        "* created the dataset partitions (one for each client)\n",
        "* defined the client class\n",
        "* decided on a strategy to use\n",
        "\n",
        "Now we just need to launch the Flower FL experiment... not so fast! just one final function: let's create another callback that the Simulation Engine will use in order to span VirtualClients. As you can see this is really simple: construct a FlowerClient object, assigning each their own data partition."
      ]
    },
    {
      "cell_type": "code",
      "execution_count": 12,
      "metadata": {
        "id": "v1vgLITDU6ty"
      },
      "outputs": [],
      "source": [
        "from torch.utils.data import DataLoader\n",
        "\n",
        "\n",
        "def get_client_fn(dataset: FederatedDataset):\n",
        "    \"\"\"Return a function to construct a client.\n",
        "\n",
        "    The VirtualClientEngine will execute this function whenever a client is sampled by\n",
        "    the strategy to participate.\n",
        "    \"\"\"\n",
        "\n",
        "    def client_fn(cid: str) -> fl.client.Client:\n",
        "        \"\"\"Construct a FlowerClient with its own dataset partition.\"\"\"\n",
        "\n",
        "        # Let's get the partition corresponding to the i-th client\n",
        "        client_dataset = dataset.load_partition(int(cid), \"train\")\n",
        "\n",
        "        # Now let's split it into train (90%) and validation (10%)\n",
        "        client_dataset_splits = client_dataset.train_test_split(test_size=0.1)\n",
        "\n",
        "        trainset = client_dataset_splits[\"train\"]\n",
        "        valset = client_dataset_splits[\"test\"]\n",
        "\n",
        "        # Now we apply the transform to each batch.\n",
        "        trainloader = DataLoader(\n",
        "            trainset.with_transform(apply_transforms), batch_size=32, shuffle=True\n",
        "        )\n",
        "        valloader = DataLoader(valset.with_transform(apply_transforms), batch_size=32)\n",
        "\n",
        "        # Create and return client\n",
        "        return FlowerClient(trainloader, valloader)\n",
        "\n",
        "    return client_fn\n",
        "\n",
        "\n",
        "client_fn_callback = get_client_fn(mnist_fds)"
      ]
    },
    {
      "cell_type": "markdown",
      "metadata": {
        "id": "F0BQgJQ7U6ty"
      },
      "source": [
        "Now we are ready to launch the FL experiment using Flower simulation:"
      ]
    },
    {
      "cell_type": "code",
      "execution_count": 14,
      "metadata": {
        "id": "drd9s5QsU6ty",
        "colab": {
          "base_uri": "https://localhost:8080/"
        },
        "outputId": "efcb7e07-feb9-4e33-ec0b-091c9b229914"
      },
      "outputs": [
        {
          "output_type": "stream",
          "name": "stderr",
          "text": [
            "INFO flwr 2023-12-20 12:49:54,730 | app.py:178 | Starting Flower simulation, config: ServerConfig(num_rounds=20, round_timeout=None)\n",
            "INFO:flwr:Starting Flower simulation, config: ServerConfig(num_rounds=20, round_timeout=None)\n",
            "2023-12-20 12:49:58,999\tINFO worker.py:1621 -- Started a local Ray instance.\n",
            "INFO flwr 2023-12-20 12:50:01,219 | app.py:213 | Flower VCE: Ray initialized with resources: {'CPU': 2.0, 'object_store_memory': 3831875174.0, 'node:__internal_head__': 1.0, 'GPU': 1.0, 'node:172.28.0.12': 1.0, 'memory': 7663750350.0}\n",
            "INFO:flwr:Flower VCE: Ray initialized with resources: {'CPU': 2.0, 'object_store_memory': 3831875174.0, 'node:__internal_head__': 1.0, 'GPU': 1.0, 'node:172.28.0.12': 1.0, 'memory': 7663750350.0}\n",
            "INFO flwr 2023-12-20 12:50:01,227 | app.py:219 | Optimize your simulation with Flower VCE: https://flower.dev/docs/framework/how-to-run-simulations.html\n",
            "INFO:flwr:Optimize your simulation with Flower VCE: https://flower.dev/docs/framework/how-to-run-simulations.html\n",
            "INFO flwr 2023-12-20 12:50:01,236 | app.py:242 | Flower VCE: Resources for each Virtual Client: {'num_cpus': 2.0, 'num_gpus': 0.1}\n",
            "INFO:flwr:Flower VCE: Resources for each Virtual Client: {'num_cpus': 2.0, 'num_gpus': 0.1}\n",
            "INFO flwr 2023-12-20 12:50:01,275 | app.py:288 | Flower VCE: Creating VirtualClientEngineActorPool with 1 actors\n",
            "INFO:flwr:Flower VCE: Creating VirtualClientEngineActorPool with 1 actors\n",
            "INFO flwr 2023-12-20 12:50:01,280 | server.py:89 | Initializing global parameters\n",
            "INFO:flwr:Initializing global parameters\n",
            "INFO flwr 2023-12-20 12:50:01,288 | server.py:276 | Requesting initial parameters from one random client\n",
            "INFO:flwr:Requesting initial parameters from one random client\n",
            "\u001b[2m\u001b[36m(pid=34764)\u001b[0m 2023-12-20 12:50:02.481624: E external/local_xla/xla/stream_executor/cuda/cuda_dnn.cc:9261] Unable to register cuDNN factory: Attempting to register factory for plugin cuDNN when one has already been registered\n",
            "\u001b[2m\u001b[36m(pid=34764)\u001b[0m 2023-12-20 12:50:02.481676: E external/local_xla/xla/stream_executor/cuda/cuda_fft.cc:607] Unable to register cuFFT factory: Attempting to register factory for plugin cuFFT when one has already been registered\n",
            "\u001b[2m\u001b[36m(pid=34764)\u001b[0m 2023-12-20 12:50:02.482833: E external/local_xla/xla/stream_executor/cuda/cuda_blas.cc:1515] Unable to register cuBLAS factory: Attempting to register factory for plugin cuBLAS when one has already been registered\n",
            "\u001b[2m\u001b[36m(pid=34764)\u001b[0m 2023-12-20 12:50:03.637479: W tensorflow/compiler/tf2tensorrt/utils/py_utils.cc:38] TF-TRT Warning: Could not find TensorRT\n",
            "INFO flwr 2023-12-20 12:50:08,074 | server.py:280 | Received initial parameters from one random client\n",
            "INFO:flwr:Received initial parameters from one random client\n",
            "INFO flwr 2023-12-20 12:50:08,084 | server.py:91 | Evaluating initial parameters\n",
            "INFO:flwr:Evaluating initial parameters\n",
            "/usr/local/lib/python3.10/dist-packages/torchvision/transforms/functional.py:1603: UserWarning: The default value of the antialias parameter of all the resizing transforms (Resize(), RandomResizedCrop(), etc.) will change from None to True in v0.17, in order to be consistent across the PIL and Tensor backends. To suppress this warning, directly pass antialias=True (recommended, future default), antialias=None (current default, which means False for Tensors and True for PIL), or antialias=False (only works on Tensors - PIL will still use antialiasing). This also applies if you are using the inference transforms from the models weights: update the call to weights.transforms(antialias=True).\n",
            "  warnings.warn(\n",
            "INFO flwr 2023-12-20 12:50:14,153 | server.py:94 | initial parameters (loss, other metrics): 460.51571345329285, {'accuracy': 0.0982}\n",
            "INFO:flwr:initial parameters (loss, other metrics): 460.51571345329285, {'accuracy': 0.0982}\n",
            "INFO flwr 2023-12-20 12:50:14,157 | server.py:104 | FL starting\n",
            "INFO:flwr:FL starting\n",
            "DEBUG flwr 2023-12-20 12:50:14,160 | server.py:222 | fit_round 1: strategy sampled 10 clients (out of 30)\n",
            "DEBUG:flwr:fit_round 1: strategy sampled 10 clients (out of 30)\n",
            "\u001b[2m\u001b[36m(DefaultActor pid=34764)\u001b[0m /usr/local/lib/python3.10/dist-packages/torchvision/transforms/functional.py:1603: UserWarning: The default value of the antialias parameter of all the resizing transforms (Resize(), RandomResizedCrop(), etc.) will change from None to True in v0.17, in order to be consistent across the PIL and Tensor backends. To suppress this warning, directly pass antialias=True (recommended, future default), antialias=None (current default, which means False for Tensors and True for PIL), or antialias=False (only works on Tensors - PIL will still use antialiasing). This also applies if you are using the inference transforms from the models weights: update the call to weights.transforms(antialias=True).\n",
            "\u001b[2m\u001b[36m(DefaultActor pid=34764)\u001b[0m   warnings.warn(\n",
            "DEBUG flwr 2023-12-20 12:51:57,552 | server.py:236 | fit_round 1 received 10 results and 0 failures\n",
            "DEBUG:flwr:fit_round 1 received 10 results and 0 failures\n",
            "WARNING flwr 2023-12-20 12:51:57,617 | fedavg.py:242 | No fit_metrics_aggregation_fn provided\n",
            "WARNING:flwr:No fit_metrics_aggregation_fn provided\n",
            "INFO flwr 2023-12-20 12:52:02,983 | server.py:125 | fit progress: (1, 460.38825583457947, {'accuracy': 0.1135}, 108.82323253100003)\n",
            "INFO:flwr:fit progress: (1, 460.38825583457947, {'accuracy': 0.1135}, 108.82323253100003)\n",
            "DEBUG flwr 2023-12-20 12:52:02,990 | server.py:173 | evaluate_round 1: strategy sampled 10 clients (out of 30)\n",
            "DEBUG:flwr:evaluate_round 1: strategy sampled 10 clients (out of 30)\n",
            "DEBUG flwr 2023-12-20 12:52:04,860 | server.py:187 | evaluate_round 1 received 10 results and 0 failures\n",
            "DEBUG:flwr:evaluate_round 1 received 10 results and 0 failures\n",
            "DEBUG flwr 2023-12-20 12:52:04,864 | server.py:222 | fit_round 2: strategy sampled 10 clients (out of 30)\n",
            "DEBUG:flwr:fit_round 2: strategy sampled 10 clients (out of 30)\n",
            "DEBUG flwr 2023-12-20 12:53:45,305 | server.py:236 | fit_round 2 received 10 results and 0 failures\n",
            "DEBUG:flwr:fit_round 2 received 10 results and 0 failures\n",
            "INFO flwr 2023-12-20 12:53:49,895 | server.py:125 | fit progress: (2, 360.13492131233215, {'accuracy': 0.6566}, 215.73490558100002)\n",
            "INFO:flwr:fit progress: (2, 360.13492131233215, {'accuracy': 0.6566}, 215.73490558100002)\n",
            "DEBUG flwr 2023-12-20 12:53:49,898 | server.py:173 | evaluate_round 2: strategy sampled 10 clients (out of 30)\n",
            "DEBUG:flwr:evaluate_round 2: strategy sampled 10 clients (out of 30)\n",
            "DEBUG flwr 2023-12-20 12:53:51,366 | server.py:187 | evaluate_round 2 received 10 results and 0 failures\n",
            "DEBUG:flwr:evaluate_round 2 received 10 results and 0 failures\n",
            "DEBUG flwr 2023-12-20 12:53:51,369 | server.py:222 | fit_round 3: strategy sampled 10 clients (out of 30)\n",
            "DEBUG:flwr:fit_round 3: strategy sampled 10 clients (out of 30)\n",
            "DEBUG flwr 2023-12-20 12:55:34,584 | server.py:236 | fit_round 3 received 10 results and 0 failures\n",
            "DEBUG:flwr:fit_round 3 received 10 results and 0 failures\n",
            "INFO flwr 2023-12-20 12:55:39,054 | server.py:125 | fit progress: (3, 318.6976475715637, {'accuracy': 0.8679}, 324.8943513189997)\n",
            "INFO:flwr:fit progress: (3, 318.6976475715637, {'accuracy': 0.8679}, 324.8943513189997)\n",
            "DEBUG flwr 2023-12-20 12:55:39,059 | server.py:173 | evaluate_round 3: strategy sampled 10 clients (out of 30)\n",
            "DEBUG:flwr:evaluate_round 3: strategy sampled 10 clients (out of 30)\n",
            "DEBUG flwr 2023-12-20 12:55:40,547 | server.py:187 | evaluate_round 3 received 10 results and 0 failures\n",
            "DEBUG:flwr:evaluate_round 3 received 10 results and 0 failures\n",
            "DEBUG flwr 2023-12-20 12:55:40,550 | server.py:222 | fit_round 4: strategy sampled 10 clients (out of 30)\n",
            "DEBUG:flwr:fit_round 4: strategy sampled 10 clients (out of 30)\n",
            "DEBUG flwr 2023-12-20 12:57:21,111 | server.py:236 | fit_round 4 received 10 results and 0 failures\n",
            "DEBUG:flwr:fit_round 4 received 10 results and 0 failures\n",
            "INFO flwr 2023-12-20 12:57:26,955 | server.py:125 | fit progress: (4, 316.41578221321106, {'accuracy': 0.8788}, 432.7949322659997)\n",
            "INFO:flwr:fit progress: (4, 316.41578221321106, {'accuracy': 0.8788}, 432.7949322659997)\n",
            "DEBUG flwr 2023-12-20 12:57:26,959 | server.py:173 | evaluate_round 4: strategy sampled 10 clients (out of 30)\n",
            "DEBUG:flwr:evaluate_round 4: strategy sampled 10 clients (out of 30)\n",
            "DEBUG flwr 2023-12-20 12:57:28,454 | server.py:187 | evaluate_round 4 received 10 results and 0 failures\n",
            "DEBUG:flwr:evaluate_round 4 received 10 results and 0 failures\n",
            "DEBUG flwr 2023-12-20 12:57:28,458 | server.py:222 | fit_round 5: strategy sampled 10 clients (out of 30)\n",
            "DEBUG:flwr:fit_round 5: strategy sampled 10 clients (out of 30)\n",
            "DEBUG flwr 2023-12-20 12:59:10,845 | server.py:236 | fit_round 5 received 10 results and 0 failures\n",
            "DEBUG:flwr:fit_round 5 received 10 results and 0 failures\n",
            "INFO flwr 2023-12-20 12:59:15,783 | server.py:125 | fit progress: (5, 314.9542466402054, {'accuracy': 0.8861}, 541.6226086280003)\n",
            "INFO:flwr:fit progress: (5, 314.9542466402054, {'accuracy': 0.8861}, 541.6226086280003)\n",
            "DEBUG flwr 2023-12-20 12:59:15,789 | server.py:173 | evaluate_round 5: strategy sampled 10 clients (out of 30)\n",
            "DEBUG:flwr:evaluate_round 5: strategy sampled 10 clients (out of 30)\n",
            "DEBUG flwr 2023-12-20 12:59:17,967 | server.py:187 | evaluate_round 5 received 10 results and 0 failures\n",
            "DEBUG:flwr:evaluate_round 5 received 10 results and 0 failures\n",
            "DEBUG flwr 2023-12-20 12:59:17,970 | server.py:222 | fit_round 6: strategy sampled 10 clients (out of 30)\n",
            "DEBUG:flwr:fit_round 6: strategy sampled 10 clients (out of 30)\n",
            "DEBUG flwr 2023-12-20 13:01:01,113 | server.py:236 | fit_round 6 received 10 results and 0 failures\n",
            "DEBUG:flwr:fit_round 6 received 10 results and 0 failures\n",
            "INFO flwr 2023-12-20 13:01:05,848 | server.py:125 | fit progress: (6, 314.2041790485382, {'accuracy': 0.8901}, 651.6874511349997)\n",
            "INFO:flwr:fit progress: (6, 314.2041790485382, {'accuracy': 0.8901}, 651.6874511349997)\n",
            "DEBUG flwr 2023-12-20 13:01:05,852 | server.py:173 | evaluate_round 6: strategy sampled 10 clients (out of 30)\n",
            "DEBUG:flwr:evaluate_round 6: strategy sampled 10 clients (out of 30)\n",
            "DEBUG flwr 2023-12-20 13:01:07,304 | server.py:187 | evaluate_round 6 received 10 results and 0 failures\n",
            "DEBUG:flwr:evaluate_round 6 received 10 results and 0 failures\n",
            "DEBUG flwr 2023-12-20 13:01:07,307 | server.py:222 | fit_round 7: strategy sampled 10 clients (out of 30)\n",
            "DEBUG:flwr:fit_round 7: strategy sampled 10 clients (out of 30)\n",
            "DEBUG flwr 2023-12-20 13:02:48,107 | server.py:236 | fit_round 7 received 10 results and 0 failures\n",
            "DEBUG:flwr:fit_round 7 received 10 results and 0 failures\n",
            "INFO flwr 2023-12-20 13:02:53,134 | server.py:125 | fit progress: (7, 313.746578335762, {'accuracy': 0.8924}, 758.9739634689995)\n",
            "INFO:flwr:fit progress: (7, 313.746578335762, {'accuracy': 0.8924}, 758.9739634689995)\n",
            "DEBUG flwr 2023-12-20 13:02:53,138 | server.py:173 | evaluate_round 7: strategy sampled 10 clients (out of 30)\n",
            "DEBUG:flwr:evaluate_round 7: strategy sampled 10 clients (out of 30)\n",
            "DEBUG flwr 2023-12-20 13:02:54,599 | server.py:187 | evaluate_round 7 received 10 results and 0 failures\n",
            "DEBUG:flwr:evaluate_round 7 received 10 results and 0 failures\n",
            "DEBUG flwr 2023-12-20 13:02:54,603 | server.py:222 | fit_round 8: strategy sampled 10 clients (out of 30)\n",
            "DEBUG:flwr:fit_round 8: strategy sampled 10 clients (out of 30)\n",
            "DEBUG flwr 2023-12-20 13:04:36,971 | server.py:236 | fit_round 8 received 10 results and 0 failures\n",
            "DEBUG:flwr:fit_round 8 received 10 results and 0 failures\n",
            "INFO flwr 2023-12-20 13:04:42,268 | server.py:125 | fit progress: (8, 313.4927990436554, {'accuracy': 0.8936}, 868.1080617400003)\n",
            "INFO:flwr:fit progress: (8, 313.4927990436554, {'accuracy': 0.8936}, 868.1080617400003)\n",
            "DEBUG flwr 2023-12-20 13:04:42,272 | server.py:173 | evaluate_round 8: strategy sampled 10 clients (out of 30)\n",
            "DEBUG:flwr:evaluate_round 8: strategy sampled 10 clients (out of 30)\n",
            "DEBUG flwr 2023-12-20 13:04:44,317 | server.py:187 | evaluate_round 8 received 10 results and 0 failures\n",
            "DEBUG:flwr:evaluate_round 8 received 10 results and 0 failures\n",
            "DEBUG flwr 2023-12-20 13:04:44,323 | server.py:222 | fit_round 9: strategy sampled 10 clients (out of 30)\n",
            "DEBUG:flwr:fit_round 9: strategy sampled 10 clients (out of 30)\n",
            "DEBUG flwr 2023-12-20 13:06:24,567 | server.py:236 | fit_round 9 received 10 results and 0 failures\n",
            "DEBUG:flwr:fit_round 9 received 10 results and 0 failures\n",
            "INFO flwr 2023-12-20 13:06:29,175 | server.py:125 | fit progress: (9, 313.17371106147766, {'accuracy': 0.8952}, 975.0148076349997)\n",
            "INFO:flwr:fit progress: (9, 313.17371106147766, {'accuracy': 0.8952}, 975.0148076349997)\n",
            "DEBUG flwr 2023-12-20 13:06:29,179 | server.py:173 | evaluate_round 9: strategy sampled 10 clients (out of 30)\n",
            "DEBUG:flwr:evaluate_round 9: strategy sampled 10 clients (out of 30)\n",
            "DEBUG flwr 2023-12-20 13:06:30,669 | server.py:187 | evaluate_round 9 received 10 results and 0 failures\n",
            "DEBUG:flwr:evaluate_round 9 received 10 results and 0 failures\n",
            "DEBUG flwr 2023-12-20 13:06:30,674 | server.py:222 | fit_round 10: strategy sampled 10 clients (out of 30)\n",
            "DEBUG:flwr:fit_round 10: strategy sampled 10 clients (out of 30)\n",
            "DEBUG flwr 2023-12-20 13:08:14,072 | server.py:236 | fit_round 10 received 10 results and 0 failures\n",
            "DEBUG:flwr:fit_round 10 received 10 results and 0 failures\n",
            "INFO flwr 2023-12-20 13:08:18,726 | server.py:125 | fit progress: (10, 312.82130777835846, {'accuracy': 0.8966}, 1084.565961412999)\n",
            "INFO:flwr:fit progress: (10, 312.82130777835846, {'accuracy': 0.8966}, 1084.565961412999)\n",
            "DEBUG flwr 2023-12-20 13:08:18,730 | server.py:173 | evaluate_round 10: strategy sampled 10 clients (out of 30)\n",
            "DEBUG:flwr:evaluate_round 10: strategy sampled 10 clients (out of 30)\n",
            "DEBUG flwr 2023-12-20 13:08:20,237 | server.py:187 | evaluate_round 10 received 10 results and 0 failures\n",
            "DEBUG:flwr:evaluate_round 10 received 10 results and 0 failures\n",
            "DEBUG flwr 2023-12-20 13:08:20,241 | server.py:222 | fit_round 11: strategy sampled 10 clients (out of 30)\n",
            "DEBUG:flwr:fit_round 11: strategy sampled 10 clients (out of 30)\n",
            "DEBUG flwr 2023-12-20 13:10:03,076 | server.py:236 | fit_round 11 received 10 results and 0 failures\n",
            "DEBUG:flwr:fit_round 11 received 10 results and 0 failures\n",
            "INFO flwr 2023-12-20 13:10:08,899 | server.py:125 | fit progress: (11, 312.8252319097519, {'accuracy': 0.8967}, 1194.7392556019995)\n",
            "INFO:flwr:fit progress: (11, 312.8252319097519, {'accuracy': 0.8967}, 1194.7392556019995)\n",
            "DEBUG flwr 2023-12-20 13:10:08,903 | server.py:173 | evaluate_round 11: strategy sampled 10 clients (out of 30)\n",
            "DEBUG:flwr:evaluate_round 11: strategy sampled 10 clients (out of 30)\n",
            "DEBUG flwr 2023-12-20 13:10:10,353 | server.py:187 | evaluate_round 11 received 10 results and 0 failures\n",
            "DEBUG:flwr:evaluate_round 11 received 10 results and 0 failures\n",
            "DEBUG flwr 2023-12-20 13:10:10,357 | server.py:222 | fit_round 12: strategy sampled 10 clients (out of 30)\n",
            "DEBUG:flwr:fit_round 12: strategy sampled 10 clients (out of 30)\n",
            "DEBUG flwr 2023-12-20 13:11:51,109 | server.py:236 | fit_round 12 received 10 results and 0 failures\n",
            "DEBUG:flwr:fit_round 12 received 10 results and 0 failures\n",
            "INFO flwr 2023-12-20 13:11:56,168 | server.py:125 | fit progress: (12, 312.55329644680023, {'accuracy': 0.8976}, 1302.0082893539993)\n",
            "INFO:flwr:fit progress: (12, 312.55329644680023, {'accuracy': 0.8976}, 1302.0082893539993)\n",
            "DEBUG flwr 2023-12-20 13:11:56,173 | server.py:173 | evaluate_round 12: strategy sampled 10 clients (out of 30)\n",
            "DEBUG:flwr:evaluate_round 12: strategy sampled 10 clients (out of 30)\n",
            "DEBUG flwr 2023-12-20 13:11:58,350 | server.py:187 | evaluate_round 12 received 10 results and 0 failures\n",
            "DEBUG:flwr:evaluate_round 12 received 10 results and 0 failures\n",
            "DEBUG flwr 2023-12-20 13:11:58,353 | server.py:222 | fit_round 13: strategy sampled 10 clients (out of 30)\n",
            "DEBUG:flwr:fit_round 13: strategy sampled 10 clients (out of 30)\n",
            "DEBUG flwr 2023-12-20 13:13:40,355 | server.py:236 | fit_round 13 received 10 results and 0 failures\n",
            "DEBUG:flwr:fit_round 13 received 10 results and 0 failures\n",
            "INFO flwr 2023-12-20 13:13:45,976 | server.py:125 | fit progress: (13, 312.59989309310913, {'accuracy': 0.8978}, 1411.8161452329996)\n",
            "INFO:flwr:fit progress: (13, 312.59989309310913, {'accuracy': 0.8978}, 1411.8161452329996)\n",
            "DEBUG flwr 2023-12-20 13:13:45,980 | server.py:173 | evaluate_round 13: strategy sampled 10 clients (out of 30)\n",
            "DEBUG:flwr:evaluate_round 13: strategy sampled 10 clients (out of 30)\n",
            "DEBUG flwr 2023-12-20 13:13:47,760 | server.py:187 | evaluate_round 13 received 10 results and 0 failures\n",
            "DEBUG:flwr:evaluate_round 13 received 10 results and 0 failures\n",
            "DEBUG flwr 2023-12-20 13:13:47,763 | server.py:222 | fit_round 14: strategy sampled 10 clients (out of 30)\n",
            "DEBUG:flwr:fit_round 14: strategy sampled 10 clients (out of 30)\n",
            "DEBUG flwr 2023-12-20 13:15:29,988 | server.py:236 | fit_round 14 received 10 results and 0 failures\n",
            "DEBUG:flwr:fit_round 14 received 10 results and 0 failures\n",
            "INFO flwr 2023-12-20 13:15:34,660 | server.py:125 | fit progress: (14, 312.42308700084686, {'accuracy': 0.899}, 1520.5000155999996)\n",
            "INFO:flwr:fit progress: (14, 312.42308700084686, {'accuracy': 0.899}, 1520.5000155999996)\n",
            "DEBUG flwr 2023-12-20 13:15:34,664 | server.py:173 | evaluate_round 14: strategy sampled 10 clients (out of 30)\n",
            "DEBUG:flwr:evaluate_round 14: strategy sampled 10 clients (out of 30)\n",
            "DEBUG flwr 2023-12-20 13:15:36,095 | server.py:187 | evaluate_round 14 received 10 results and 0 failures\n",
            "DEBUG:flwr:evaluate_round 14 received 10 results and 0 failures\n",
            "DEBUG flwr 2023-12-20 13:15:36,098 | server.py:222 | fit_round 15: strategy sampled 10 clients (out of 30)\n",
            "DEBUG:flwr:fit_round 15: strategy sampled 10 clients (out of 30)\n",
            "DEBUG flwr 2023-12-20 13:17:19,708 | server.py:236 | fit_round 15 received 10 results and 0 failures\n",
            "DEBUG:flwr:fit_round 15 received 10 results and 0 failures\n",
            "INFO flwr 2023-12-20 13:17:25,375 | server.py:125 | fit progress: (15, 312.36401772499084, {'accuracy': 0.8988}, 1631.2149723810007)\n",
            "INFO:flwr:fit progress: (15, 312.36401772499084, {'accuracy': 0.8988}, 1631.2149723810007)\n",
            "DEBUG flwr 2023-12-20 13:17:25,383 | server.py:173 | evaluate_round 15: strategy sampled 10 clients (out of 30)\n",
            "DEBUG:flwr:evaluate_round 15: strategy sampled 10 clients (out of 30)\n",
            "DEBUG flwr 2023-12-20 13:17:27,123 | server.py:187 | evaluate_round 15 received 10 results and 0 failures\n",
            "DEBUG:flwr:evaluate_round 15 received 10 results and 0 failures\n",
            "DEBUG flwr 2023-12-20 13:17:27,127 | server.py:222 | fit_round 16: strategy sampled 10 clients (out of 30)\n",
            "DEBUG:flwr:fit_round 16: strategy sampled 10 clients (out of 30)\n",
            "DEBUG flwr 2023-12-20 13:19:09,660 | server.py:236 | fit_round 16 received 10 results and 0 failures\n",
            "DEBUG:flwr:fit_round 16 received 10 results and 0 failures\n",
            "INFO flwr 2023-12-20 13:19:14,260 | server.py:125 | fit progress: (16, 312.3000428676605, {'accuracy': 0.8996}, 1740.0996777310002)\n",
            "INFO:flwr:fit progress: (16, 312.3000428676605, {'accuracy': 0.8996}, 1740.0996777310002)\n",
            "DEBUG flwr 2023-12-20 13:19:14,263 | server.py:173 | evaluate_round 16: strategy sampled 10 clients (out of 30)\n",
            "DEBUG:flwr:evaluate_round 16: strategy sampled 10 clients (out of 30)\n",
            "DEBUG flwr 2023-12-20 13:19:16,396 | server.py:187 | evaluate_round 16 received 10 results and 0 failures\n",
            "DEBUG:flwr:evaluate_round 16 received 10 results and 0 failures\n",
            "DEBUG flwr 2023-12-20 13:19:16,399 | server.py:222 | fit_round 17: strategy sampled 10 clients (out of 30)\n",
            "DEBUG:flwr:fit_round 17: strategy sampled 10 clients (out of 30)\n",
            "DEBUG flwr 2023-12-20 13:20:58,019 | server.py:236 | fit_round 17 received 10 results and 0 failures\n",
            "DEBUG:flwr:fit_round 17 received 10 results and 0 failures\n",
            "INFO flwr 2023-12-20 13:21:02,686 | server.py:125 | fit progress: (17, 312.1806846857071, {'accuracy': 0.8999}, 1848.5256809699995)\n",
            "INFO:flwr:fit progress: (17, 312.1806846857071, {'accuracy': 0.8999}, 1848.5256809699995)\n",
            "DEBUG flwr 2023-12-20 13:21:02,690 | server.py:173 | evaluate_round 17: strategy sampled 10 clients (out of 30)\n",
            "DEBUG:flwr:evaluate_round 17: strategy sampled 10 clients (out of 30)\n",
            "DEBUG flwr 2023-12-20 13:21:04,160 | server.py:187 | evaluate_round 17 received 10 results and 0 failures\n",
            "DEBUG:flwr:evaluate_round 17 received 10 results and 0 failures\n",
            "DEBUG flwr 2023-12-20 13:21:04,164 | server.py:222 | fit_round 18: strategy sampled 10 clients (out of 30)\n",
            "DEBUG:flwr:fit_round 18: strategy sampled 10 clients (out of 30)\n",
            "DEBUG flwr 2023-12-20 13:22:44,749 | server.py:236 | fit_round 18 received 10 results and 0 failures\n",
            "DEBUG:flwr:fit_round 18 received 10 results and 0 failures\n",
            "INFO flwr 2023-12-20 13:22:50,560 | server.py:125 | fit progress: (18, 310.62979090213776, {'accuracy': 0.9065}, 1956.3998350360007)\n",
            "INFO:flwr:fit progress: (18, 310.62979090213776, {'accuracy': 0.9065}, 1956.3998350360007)\n",
            "DEBUG flwr 2023-12-20 13:22:50,564 | server.py:173 | evaluate_round 18: strategy sampled 10 clients (out of 30)\n",
            "DEBUG:flwr:evaluate_round 18: strategy sampled 10 clients (out of 30)\n",
            "DEBUG flwr 2023-12-20 13:22:52,033 | server.py:187 | evaluate_round 18 received 10 results and 0 failures\n",
            "DEBUG:flwr:evaluate_round 18 received 10 results and 0 failures\n",
            "DEBUG flwr 2023-12-20 13:22:52,037 | server.py:222 | fit_round 19: strategy sampled 10 clients (out of 30)\n",
            "DEBUG:flwr:fit_round 19: strategy sampled 10 clients (out of 30)\n",
            "DEBUG flwr 2023-12-20 13:24:35,554 | server.py:236 | fit_round 19 received 10 results and 0 failures\n",
            "DEBUG:flwr:fit_round 19 received 10 results and 0 failures\n",
            "INFO flwr 2023-12-20 13:24:41,433 | server.py:125 | fit progress: (19, 295.5056903362274, {'accuracy': 0.9839}, 2067.2725698250006)\n",
            "INFO:flwr:fit progress: (19, 295.5056903362274, {'accuracy': 0.9839}, 2067.2725698250006)\n",
            "DEBUG flwr 2023-12-20 13:24:41,437 | server.py:173 | evaluate_round 19: strategy sampled 10 clients (out of 30)\n",
            "DEBUG:flwr:evaluate_round 19: strategy sampled 10 clients (out of 30)\n",
            "DEBUG flwr 2023-12-20 13:24:42,936 | server.py:187 | evaluate_round 19 received 10 results and 0 failures\n",
            "DEBUG:flwr:evaluate_round 19 received 10 results and 0 failures\n",
            "DEBUG flwr 2023-12-20 13:24:42,940 | server.py:222 | fit_round 20: strategy sampled 10 clients (out of 30)\n",
            "DEBUG:flwr:fit_round 20: strategy sampled 10 clients (out of 30)\n",
            "DEBUG flwr 2023-12-20 13:26:24,072 | server.py:236 | fit_round 20 received 10 results and 0 failures\n",
            "DEBUG:flwr:fit_round 20 received 10 results and 0 failures\n",
            "INFO flwr 2023-12-20 13:26:28,656 | server.py:125 | fit progress: (20, 295.4453012943268, {'accuracy': 0.984}, 2174.4961622309993)\n",
            "INFO:flwr:fit progress: (20, 295.4453012943268, {'accuracy': 0.984}, 2174.4961622309993)\n",
            "DEBUG flwr 2023-12-20 13:26:28,660 | server.py:173 | evaluate_round 20: strategy sampled 10 clients (out of 30)\n",
            "DEBUG:flwr:evaluate_round 20: strategy sampled 10 clients (out of 30)\n",
            "DEBUG flwr 2023-12-20 13:26:30,589 | server.py:187 | evaluate_round 20 received 10 results and 0 failures\n",
            "DEBUG:flwr:evaluate_round 20 received 10 results and 0 failures\n",
            "INFO flwr 2023-12-20 13:26:30,593 | server.py:153 | FL finished in 2176.432717962999\n",
            "INFO:flwr:FL finished in 2176.432717962999\n",
            "INFO flwr 2023-12-20 13:26:30,599 | app.py:226 | app_fit: losses_distributed [(1, 16.11231360435486), (2, 12.59438577890396), (3, 11.180473744869232), (4, 11.04877437353134), (5, 10.959784817695617), (6, 10.979608416557312), (7, 10.97298675775528), (8, 10.991121530532837), (9, 10.886731040477752), (10, 10.89835352897644), (11, 10.983407700061798), (12, 10.973231768608093), (13, 10.945784187316894), (14, 10.976691365242004), (15, 10.90162638425827), (16, 10.94832980632782), (17, 10.917514896392822), (18, 10.904667246341706), (19, 10.348323202133178), (20, 10.361943244934082)]\n",
            "INFO:flwr:app_fit: losses_distributed [(1, 16.11231360435486), (2, 12.59438577890396), (3, 11.180473744869232), (4, 11.04877437353134), (5, 10.959784817695617), (6, 10.979608416557312), (7, 10.97298675775528), (8, 10.991121530532837), (9, 10.886731040477752), (10, 10.89835352897644), (11, 10.983407700061798), (12, 10.973231768608093), (13, 10.945784187316894), (14, 10.976691365242004), (15, 10.90162638425827), (16, 10.94832980632782), (17, 10.917514896392822), (18, 10.904667246341706), (19, 10.348323202133178), (20, 10.361943244934082)]\n",
            "INFO flwr 2023-12-20 13:26:30,601 | app.py:227 | app_fit: metrics_distributed_fit {}\n",
            "INFO:flwr:app_fit: metrics_distributed_fit {}\n",
            "INFO flwr 2023-12-20 13:26:30,603 | app.py:228 | app_fit: metrics_distributed {'accuracy': [(1, 0.11649999999999999), (2, 0.653), (3, 0.8675), (4, 0.8815), (5, 0.8895), (6, 0.8934999999999998), (7, 0.8940000000000001), (8, 0.8915000000000001), (9, 0.9030000000000001), (10, 0.908), (11, 0.899), (12, 0.889), (13, 0.9000000000000001), (14, 0.8895000000000001), (15, 0.8975000000000002), (16, 0.894), (17, 0.9), (18, 0.9070000000000001), (19, 0.9845), (20, 0.9825)]}\n",
            "INFO:flwr:app_fit: metrics_distributed {'accuracy': [(1, 0.11649999999999999), (2, 0.653), (3, 0.8675), (4, 0.8815), (5, 0.8895), (6, 0.8934999999999998), (7, 0.8940000000000001), (8, 0.8915000000000001), (9, 0.9030000000000001), (10, 0.908), (11, 0.899), (12, 0.889), (13, 0.9000000000000001), (14, 0.8895000000000001), (15, 0.8975000000000002), (16, 0.894), (17, 0.9), (18, 0.9070000000000001), (19, 0.9845), (20, 0.9825)]}\n",
            "INFO flwr 2023-12-20 13:26:30,608 | app.py:229 | app_fit: losses_centralized [(0, 460.51571345329285), (1, 460.38825583457947), (2, 360.13492131233215), (3, 318.6976475715637), (4, 316.41578221321106), (5, 314.9542466402054), (6, 314.2041790485382), (7, 313.746578335762), (8, 313.4927990436554), (9, 313.17371106147766), (10, 312.82130777835846), (11, 312.8252319097519), (12, 312.55329644680023), (13, 312.59989309310913), (14, 312.42308700084686), (15, 312.36401772499084), (16, 312.3000428676605), (17, 312.1806846857071), (18, 310.62979090213776), (19, 295.5056903362274), (20, 295.4453012943268)]\n",
            "INFO:flwr:app_fit: losses_centralized [(0, 460.51571345329285), (1, 460.38825583457947), (2, 360.13492131233215), (3, 318.6976475715637), (4, 316.41578221321106), (5, 314.9542466402054), (6, 314.2041790485382), (7, 313.746578335762), (8, 313.4927990436554), (9, 313.17371106147766), (10, 312.82130777835846), (11, 312.8252319097519), (12, 312.55329644680023), (13, 312.59989309310913), (14, 312.42308700084686), (15, 312.36401772499084), (16, 312.3000428676605), (17, 312.1806846857071), (18, 310.62979090213776), (19, 295.5056903362274), (20, 295.4453012943268)]\n",
            "INFO flwr 2023-12-20 13:26:30,612 | app.py:230 | app_fit: metrics_centralized {'accuracy': [(0, 0.0982), (1, 0.1135), (2, 0.6566), (3, 0.8679), (4, 0.8788), (5, 0.8861), (6, 0.8901), (7, 0.8924), (8, 0.8936), (9, 0.8952), (10, 0.8966), (11, 0.8967), (12, 0.8976), (13, 0.8978), (14, 0.899), (15, 0.8988), (16, 0.8996), (17, 0.8999), (18, 0.9065), (19, 0.9839), (20, 0.984)]}\n",
            "INFO:flwr:app_fit: metrics_centralized {'accuracy': [(0, 0.0982), (1, 0.1135), (2, 0.6566), (3, 0.8679), (4, 0.8788), (5, 0.8861), (6, 0.8901), (7, 0.8924), (8, 0.8936), (9, 0.8952), (10, 0.8966), (11, 0.8967), (12, 0.8976), (13, 0.8978), (14, 0.899), (15, 0.8988), (16, 0.8996), (17, 0.8999), (18, 0.9065), (19, 0.9839), (20, 0.984)]}\n"
          ]
        }
      ],
      "source": [
        "# With a dictionary, you tell Flower's VirtualClientEngine that each\n",
        "# client needs exclusive access to these many resources in order to run\n",
        "client_resources = {\"num_cpus\": 2.0, \"num_gpus\": 0.1}\n",
        "\n",
        "# Let's disable tqdm progress bar in the main thread (used by the server)\n",
        "disable_progress_bar()\n",
        "\n",
        "history = fl.simulation.start_simulation(\n",
        "    client_fn=client_fn_callback,  # a callback to construct a client\n",
        "    num_clients=NUM_CLIENTS,  # total number of clients in the experiment\n",
        "    config=fl.server.ServerConfig(num_rounds=20),  # let's run for 10 rounds\n",
        "    strategy=strategy,  # the strategy that will orchestrate the whole FL pipeline\n",
        "    client_resources=client_resources,\n",
        "    actor_kwargs={\n",
        "        \"on_actor_init_fn\": disable_progress_bar  # disable tqdm on each actor/process spawning virtual clients\n",
        "    },\n",
        ")"
      ]
    },
    {
      "cell_type": "markdown",
      "metadata": {
        "id": "daEugtD4U6ty"
      },
      "source": [
        "Doing 10 rounds should take less than 2 minutes on a CPU-only Colab instance <-- Flower Simulation is fast! 🚀\n",
        "\n",
        "You can then use the resturned `History` object to either save the results to disk or do some visualisation (or both of course, or neither if you like chaos). Below you can see how you can plot the centralised accuracy obtainined at the end of each round (including at the very beginning of the experiment) for the _global model_. This is want the function `evaluate_fn()` that we passed to the strategy reports."
      ]
    },
    {
      "cell_type": "code",
      "execution_count": 15,
      "metadata": {
        "id": "zjF9BiGVU6ty",
        "colab": {
          "base_uri": "https://localhost:8080/",
          "height": 527
        },
        "outputId": "2d481462-ac4b-4523-e942-a507c32cf4fd"
      },
      "outputs": [
        {
          "output_type": "stream",
          "name": "stdout",
          "text": [
            "history.metrics_centralized = {'accuracy': [(0, 0.0982), (1, 0.1135), (2, 0.6566), (3, 0.8679), (4, 0.8788), (5, 0.8861), (6, 0.8901), (7, 0.8924), (8, 0.8936), (9, 0.8952), (10, 0.8966), (11, 0.8967), (12, 0.8976), (13, 0.8978), (14, 0.899), (15, 0.8988), (16, 0.8996), (17, 0.8999), (18, 0.9065), (19, 0.9839), (20, 0.984)]}\n"
          ]
        },
        {
          "output_type": "execute_result",
          "data": {
            "text/plain": [
              "Text(0.5, 1.0, 'MNIST - IID - 100 clients with 10 clients per round')"
            ]
          },
          "metadata": {},
          "execution_count": 15
        },
        {
          "output_type": "display_data",
          "data": {
            "text/plain": [
              "<Figure size 640x480 with 1 Axes>"
            ],
            "image/png": "[encoded data removed]"
          },
          "metadata": {}
        }
      ],
      "source": [
        "import matplotlib.pyplot as plt\n",
        "\n",
        "print(f\"{history.metrics_centralized = }\")\n",
        "\n",
        "global_accuracy_centralised = history.metrics_centralized[\"accuracy\"]\n",
        "round = [data[0] for data in global_accuracy_centralised]\n",
        "acc = [100.0 * data[1] for data in global_accuracy_centralised]\n",
        "plt.plot(round, acc)\n",
        "plt.grid()\n",
        "plt.ylabel(\"Accuracy (%)\")\n",
        "plt.xlabel(\"Round\")\n",
        "plt.title(\"MNIST - IID - 100 clients with 10 clients per round\")"
      ]
    },
    {
      "cell_type": "markdown",
      "metadata": {
        "id": "l4Ve2MZ3U6ty"
      },
      "source": [
        "Congratulations! With that, you built a Flower client, customized it's instantiation through the `client_fn`, customized the server-side execution through a `FedAvg` strategy configured for this workload, and started a simulation with 100 clients (each holding their own individual partition of the MNIST dataset).\n",
        "\n",
        "Next, you can continue to explore more advanced Flower topics:\n",
        "\n",
        "- Deploy server and clients on different machines using `start_server` and `start_client`\n",
        "- Customize the server-side execution through custom strategies\n",
        "- Customize the client-side execution through `config` dictionaries\n",
        "\n",
        "Get all resources you need!\n",
        "\n",
        "* **[DOCS]** Our complete documenation: https://flower.dev/docs/\n",
        "* **[Examples]** All Flower examples: https://flower.dev/docs/examples/\n",
        "* **[VIDEO]** Our Youtube channel: https://www.youtube.com/@flowerlabs\n",
        "\n",
        "Don't forget to join our Slack channel: https://flower.dev/join-slack/\n"
      ]
    }
  ],
  "metadata": {
    "colab": {
      "provenance": [],
      "gpuType": "T4",
      "include_colab_link": true
    },
    "kernelspec": {
      "display_name": "Python 3",
      "name": "python3"
    },
    "language_info": {
      "codemirror_mode": {
        "name": "ipython",
        "version": 3
      },
      "file_extension": ".py",
      "mimetype": "text/x-python",
      "name": "python",
      "nbconvert_exporter": "python",
      "pygments_lexer": "ipython3",
      "version": "3.9.0"
    },
    "accelerator": "GPU"
  },
  "nbformat": 4,
  "nbformat_minor": 0
}