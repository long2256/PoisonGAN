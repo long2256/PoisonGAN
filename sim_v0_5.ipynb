{
  "cells": [
    {
      "cell_type": "markdown",
      "metadata": {
        "id": "view-in-github",
        "colab_type": "text"
      },
      "source": [
        "<a href=\"https://colab.research.google.com/github/long2256/PoisonGAN/blob/main/sim_v0_5.ipynb\" target=\"_parent\"><img src=\"https://colab.research.google.com/assets/colab-badge.svg\" alt=\"Open In Colab\"/></a>"
      ]
    },
    {
      "cell_type": "markdown",
      "metadata": {
        "id": "KxTwNkEtU6tr"
      },
      "source": [
        "# Environment Setup\n",
        "\n",
        "To start working with Flower, very little is required once you have activated your Python environment (e.g. via `conda`, `virtualenv`, `pyenv`, etc). If you are running this code on Colab, there is really nothing to do except to install Flower and other dependencies. The steps below have been verified to run in Colab.\n",
        "\n",
        "## Installing Flower\n",
        "\n",
        "You can install flower very conveniently from `pip`:"
      ]
    },
    {
      "cell_type": "code",
      "execution_count": 1,
      "metadata": {
        "colab": {
          "base_uri": "https://localhost:8080/"
        },
        "id": "bWcgETZxU6tt",
        "outputId": "9f5d6afa-bb5d-4bab-a3d3-d1397cf6c2ac"
      },
      "outputs": [
        {
          "output_type": "stream",
          "name": "stdout",
          "text": [
            "Requirement already satisfied: flwr_datasets[vision] in /usr/local/lib/python3.10/dist-packages (0.0.2)\n",
            "Requirement already satisfied: datasets<3.0.0,>=2.14.3 in /usr/local/lib/python3.10/dist-packages (from flwr_datasets[vision]) (2.15.0)\n",
            "Requirement already satisfied: numpy<2.0.0,>=1.21.0 in /usr/local/lib/python3.10/dist-packages (from flwr_datasets[vision]) (1.23.5)\n",
            "Requirement already satisfied: pillow>=6.2.1 in /usr/local/lib/python3.10/dist-packages (from flwr_datasets[vision]) (9.4.0)\n",
            "Requirement already satisfied: pyarrow>=8.0.0 in /usr/local/lib/python3.10/dist-packages (from datasets<3.0.0,>=2.14.3->flwr_datasets[vision]) (10.0.1)\n",
            "Requirement already satisfied: pyarrow-hotfix in /usr/local/lib/python3.10/dist-packages (from datasets<3.0.0,>=2.14.3->flwr_datasets[vision]) (0.6)\n",
            "Requirement already satisfied: dill<0.3.8,>=0.3.0 in /usr/local/lib/python3.10/dist-packages (from datasets<3.0.0,>=2.14.3->flwr_datasets[vision]) (0.3.7)\n",
            "Requirement already satisfied: pandas in /usr/local/lib/python3.10/dist-packages (from datasets<3.0.0,>=2.14.3->flwr_datasets[vision]) (1.5.3)\n",
            "Requirement already satisfied: requests>=2.19.0 in /usr/local/lib/python3.10/dist-packages (from datasets<3.0.0,>=2.14.3->flwr_datasets[vision]) (2.31.0)\n",
            "Requirement already satisfied: tqdm>=4.62.1 in /usr/local/lib/python3.10/dist-packages (from datasets<3.0.0,>=2.14.3->flwr_datasets[vision]) (4.66.1)\n",
            "Requirement already satisfied: xxhash in /usr/local/lib/python3.10/dist-packages (from datasets<3.0.0,>=2.14.3->flwr_datasets[vision]) (3.4.1)\n",
            "Requirement already satisfied: multiprocess in /usr/local/lib/python3.10/dist-packages (from datasets<3.0.0,>=2.14.3->flwr_datasets[vision]) (0.70.15)\n",
            "Requirement already satisfied: fsspec[http]<=2023.10.0,>=2023.1.0 in /usr/local/lib/python3.10/dist-packages (from datasets<3.0.0,>=2.14.3->flwr_datasets[vision]) (2023.6.0)\n",
            "Requirement already satisfied: aiohttp in /usr/local/lib/python3.10/dist-packages (from datasets<3.0.0,>=2.14.3->flwr_datasets[vision]) (3.9.1)\n",
            "Requirement already satisfied: huggingface-hub>=0.18.0 in /usr/local/lib/python3.10/dist-packages (from datasets<3.0.0,>=2.14.3->flwr_datasets[vision]) (0.19.4)\n",
            "Requirement already satisfied: packaging in /usr/local/lib/python3.10/dist-packages (from datasets<3.0.0,>=2.14.3->flwr_datasets[vision]) (23.2)\n",
            "Requirement already satisfied: pyyaml>=5.1 in /usr/local/lib/python3.10/dist-packages (from datasets<3.0.0,>=2.14.3->flwr_datasets[vision]) (6.0.1)\n",
            "Requirement already satisfied: attrs>=17.3.0 in /usr/local/lib/python3.10/dist-packages (from aiohttp->datasets<3.0.0,>=2.14.3->flwr_datasets[vision]) (23.1.0)\n",
            "Requirement already satisfied: multidict<7.0,>=4.5 in /usr/local/lib/python3.10/dist-packages (from aiohttp->datasets<3.0.0,>=2.14.3->flwr_datasets[vision]) (6.0.4)\n",
            "Requirement already satisfied: yarl<2.0,>=1.0 in /usr/local/lib/python3.10/dist-packages (from aiohttp->datasets<3.0.0,>=2.14.3->flwr_datasets[vision]) (1.9.4)\n",
            "Requirement already satisfied: frozenlist>=1.1.1 in /usr/local/lib/python3.10/dist-packages (from aiohttp->datasets<3.0.0,>=2.14.3->flwr_datasets[vision]) (1.4.1)\n",
            "Requirement already satisfied: aiosignal>=1.1.2 in /usr/local/lib/python3.10/dist-packages (from aiohttp->datasets<3.0.0,>=2.14.3->flwr_datasets[vision]) (1.3.1)\n",
            "Requirement already satisfied: async-timeout<5.0,>=4.0 in /usr/local/lib/python3.10/dist-packages (from aiohttp->datasets<3.0.0,>=2.14.3->flwr_datasets[vision]) (4.0.3)\n",
            "Requirement already satisfied: filelock in /usr/local/lib/python3.10/dist-packages (from huggingface-hub>=0.18.0->datasets<3.0.0,>=2.14.3->flwr_datasets[vision]) (3.13.1)\n",
            "Requirement already satisfied: typing-extensions>=3.7.4.3 in /usr/local/lib/python3.10/dist-packages (from huggingface-hub>=0.18.0->datasets<3.0.0,>=2.14.3->flwr_datasets[vision]) (4.5.0)\n",
            "Requirement already satisfied: charset-normalizer<4,>=2 in /usr/local/lib/python3.10/dist-packages (from requests>=2.19.0->datasets<3.0.0,>=2.14.3->flwr_datasets[vision]) (3.3.2)\n",
            "Requirement already satisfied: idna<4,>=2.5 in /usr/local/lib/python3.10/dist-packages (from requests>=2.19.0->datasets<3.0.0,>=2.14.3->flwr_datasets[vision]) (3.6)\n",
            "Requirement already satisfied: urllib3<3,>=1.21.1 in /usr/local/lib/python3.10/dist-packages (from requests>=2.19.0->datasets<3.0.0,>=2.14.3->flwr_datasets[vision]) (2.0.7)\n",
            "Requirement already satisfied: certifi>=2017.4.17 in /usr/local/lib/python3.10/dist-packages (from requests>=2.19.0->datasets<3.0.0,>=2.14.3->flwr_datasets[vision]) (2023.11.17)\n",
            "Requirement already satisfied: python-dateutil>=2.8.1 in /usr/local/lib/python3.10/dist-packages (from pandas->datasets<3.0.0,>=2.14.3->flwr_datasets[vision]) (2.8.2)\n",
            "Requirement already satisfied: pytz>=2020.1 in /usr/local/lib/python3.10/dist-packages (from pandas->datasets<3.0.0,>=2.14.3->flwr_datasets[vision]) (2023.3.post1)\n",
            "Requirement already satisfied: six>=1.5 in /usr/local/lib/python3.10/dist-packages (from python-dateutil>=2.8.1->pandas->datasets<3.0.0,>=2.14.3->flwr_datasets[vision]) (1.16.0)\n"
          ]
        }
      ],
      "source": [
        "# depending on your shell, you might need to add `\\` before `[` and `]`.\n",
        "!pip install -q flwr[simulation]\n",
        "!pip install flwr_datasets[vision]"
      ]
    },
    {
      "cell_type": "markdown",
      "metadata": {
        "id": "XERv9c3MU6tu"
      },
      "source": [
        "We will be using the _simulation_ mode in Flower, which allows you to run a large number of clients without the overheads of manually managing devices. This is achieved via the [Virtual Client Engine](https://flower.dev/docs/framework/how-to-run-simulations.html) in Flower. With simulation, you can dynamically scale your experiments whether you run the code on your laptop, a machine with a single GPU, a server with multiple GPUs os even on a cluster with multiple servers. The `Virtual Client Engine` handles everything transparently and it allows you to specify how many resources (e.g. CPU cores, GPU VRAM) should be assigned to each virtual client."
      ]
    },
    {
      "cell_type": "markdown",
      "metadata": {
        "id": "XycT4JH0U6tu"
      },
      "source": [
        "\n",
        "Flower is agnostic to your choice of ML Framework. Flower works with `PyTorch`, `Tensorflow`, `NumPy`, `🤗 Transformers`, `MXNet`, `JAX`, `scikit-learn`, `fastai`, `Pandas`. Flower also supports all major platforms: `iOS`, `Android` and plain `C++`. You can find a _quickstart-_ example for each of the above in the [Flower Repository](https://github.com/adap/flower/tree/main/examples) inside the `examples/` directory.\n",
        "\n",
        "In this tutorial we are going to use PyTorch, it comes pre-installed in your Collab runtime so there is no need to installed it again. If you wouuld like to install another version, you can still do that in the same way other packages are installed via `!pip`"
      ]
    },
    {
      "cell_type": "markdown",
      "metadata": {
        "id": "3eyt_xreU6tu"
      },
      "source": [
        "We are going to install some other dependencies you are likely familiar with. Let's install `maplotlib` to plot our results at the end."
      ]
    },
    {
      "cell_type": "code",
      "execution_count": 2,
      "metadata": {
        "colab": {
          "base_uri": "https://localhost:8080/"
        },
        "id": "fN9vsH9gU6tu",
        "outputId": "f68f5083-69cb-4bee-f0b3-a7694180a9a3"
      },
      "outputs": [
        {
          "output_type": "stream",
          "name": "stdout",
          "text": [
            "Requirement already satisfied: matplotlib in /usr/local/lib/python3.10/dist-packages (3.7.1)\n",
            "Requirement already satisfied: contourpy>=1.0.1 in /usr/local/lib/python3.10/dist-packages (from matplotlib) (1.2.0)\n",
            "Requirement already satisfied: cycler>=0.10 in /usr/local/lib/python3.10/dist-packages (from matplotlib) (0.12.1)\n",
            "Requirement already satisfied: fonttools>=4.22.0 in /usr/local/lib/python3.10/dist-packages (from matplotlib) (4.46.0)\n",
            "Requirement already satisfied: kiwisolver>=1.0.1 in /usr/local/lib/python3.10/dist-packages (from matplotlib) (1.4.5)\n",
            "Requirement already satisfied: numpy>=1.20 in /usr/local/lib/python3.10/dist-packages (from matplotlib) (1.23.5)\n",
            "Requirement already satisfied: packaging>=20.0 in /usr/local/lib/python3.10/dist-packages (from matplotlib) (23.2)\n",
            "Requirement already satisfied: pillow>=6.2.0 in /usr/local/lib/python3.10/dist-packages (from matplotlib) (9.4.0)\n",
            "Requirement already satisfied: pyparsing>=2.3.1 in /usr/local/lib/python3.10/dist-packages (from matplotlib) (3.1.1)\n",
            "Requirement already satisfied: python-dateutil>=2.7 in /usr/local/lib/python3.10/dist-packages (from matplotlib) (2.8.2)\n",
            "Requirement already satisfied: six>=1.5 in /usr/local/lib/python3.10/dist-packages (from python-dateutil>=2.7->matplotlib) (1.16.0)\n"
          ]
        }
      ],
      "source": [
        "!pip install matplotlib"
      ]
    },
    {
      "cell_type": "markdown",
      "metadata": {
        "id": "yH5S-W2WU6tv"
      },
      "source": [
        "# Preparing the experiment\n",
        "\n",
        "This tutorial is not so much about novel architectural designs so we keep things simple and make use of a typical CNN that is adequate for the MNIST image classification task.\n",
        "\n"
      ]
    },
    {
      "cell_type": "code",
      "execution_count": 3,
      "metadata": {
        "id": "QiodpnqLU6tv"
      },
      "outputs": [],
      "source": [
        "import torch\n",
        "import torch.nn as nn\n",
        "import torch.nn.functional as F\n",
        "from torch.utils.data import DataLoader\n",
        "\n",
        "\n",
        "class Net(nn.Module):\n",
        "    def __init__(self):\n",
        "        super(Net, self).__init__()\n",
        "        self.conv1 = nn.Conv2d(in_channels=1, out_channels=64, kernel_size=4, stride=2, padding=1)\n",
        "        self.leaky1 = nn.LeakyReLU()\n",
        "\n",
        "        self.conv2 = nn.Conv2d(in_channels=64, out_channels=64, kernel_size=4, stride=2, padding=1)\n",
        "        self.leaky2 = nn.LeakyReLU()\n",
        "\n",
        "        self.conv3 = nn.Conv2d(in_channels=64, out_channels=64, kernel_size=4, stride=2, padding=1)\n",
        "        self.leaky3 = nn.LeakyReLU()\n",
        "\n",
        "        self.conv4 = nn.Conv2d(in_channels=64, out_channels=128, kernel_size=3, stride=1, padding=1)\n",
        "        self.leaky4 = nn.LeakyReLU()\n",
        "\n",
        "        self.conv5 = nn.Conv2d(in_channels=128, out_channels=128, kernel_size=3, stride=1, padding=1)\n",
        "        self.leaky5 = nn.LeakyReLU()\n",
        "\n",
        "        self.conv6 = nn.Conv2d(in_channels=128, out_channels=128, kernel_size=3, stride=1, padding=1)\n",
        "        self.leaky6 = nn.LeakyReLU()\n",
        "\n",
        "        self.avgpool = nn.AvgPool2d(2, stride=2)\n",
        "\n",
        "        self.fc = nn.Linear(4 * 4 * 128, 10)  # 11 classes for MNIST\n",
        "        self.softmax = nn.Softmax(dim=1)\n",
        "\n",
        "    def forward(self, x):\n",
        "        x = self.conv1(x)\n",
        "        x = self.leaky1(x)\n",
        "\n",
        "        x = self.conv2(x)\n",
        "        x = self.leaky2(x)\n",
        "\n",
        "        x = self.conv3(x)\n",
        "        x = self.leaky3(x)\n",
        "\n",
        "        x = self.conv4(x)\n",
        "        x = self.leaky4(x)\n",
        "\n",
        "        x = self.conv5(x)\n",
        "        x = self.leaky5(x)\n",
        "\n",
        "        x = self.conv6(x)\n",
        "        x = self.leaky6(x)\n",
        "\n",
        "        x = self.avgpool(x)\n",
        "        x = x.view(x.size(0), -1)  # Flatten the output\n",
        "        x = self.fc(x)\n",
        "        x = self.softmax(x)\n",
        "\n",
        "        return x\n",
        "\n",
        "class Discriminator(nn.Module):\n",
        "    def __init__(self):\n",
        "        super(Discriminator, self).__init__()\n",
        "        self.conv1 = nn.Conv2d(in_channels=1, out_channels=64, kernel_size=4, stride=2, padding=1)\n",
        "        self.leaky1 = nn.LeakyReLU()\n",
        "        self.dropout = nn.Dropout()\n",
        "\n",
        "        self.conv2 = nn.Conv2d(in_channels=64, out_channels=64, kernel_size=4, stride=2, padding=1)\n",
        "        self.batchnorm1 = nn.BatchNorm2d(64)\n",
        "        self.leaky2 = nn.LeakyReLU()\n",
        "\n",
        "        self.conv3 = nn.Conv2d(in_channels=64, out_channels=64, kernel_size=4, stride=2, padding=1)\n",
        "        self.batchnorm2 = nn.BatchNorm2d(64)\n",
        "        self.leaky3 = nn.LeakyReLU()\n",
        "\n",
        "        self.conv4 = nn.Conv2d(in_channels=64, out_channels=128, kernel_size=3, stride=1, padding=1)\n",
        "        self.batchnorm3 = nn.BatchNorm2d(128)\n",
        "        self.leaky4 = nn.LeakyReLU()\n",
        "\n",
        "        self.conv5 = nn.Conv2d(in_channels=128, out_channels=128, kernel_size=3, stride=1, padding=1)\n",
        "        self.batchnorm4 = nn.BatchNorm2d(128)\n",
        "        self.leaky5 = nn.LeakyReLU()\n",
        "\n",
        "        self.conv6 = nn.Conv2d(in_channels=128, out_channels=128, kernel_size=3, stride=1, padding=1)\n",
        "        self.leaky6 = nn.LeakyReLU()\n",
        "\n",
        "        self.avgpool = nn.AvgPool2d(2, stride=2)\n",
        "\n",
        "        self.fc = nn.Linear(4 * 4 * 128, 10)\n",
        "        self.softmax = nn.Softmax(dim=1)\n",
        "\n",
        "    def forward(self, x):\n",
        "        x = self.conv1(x)\n",
        "        x = self.leaky1(x)\n",
        "        x = self.dropout(x)\n",
        "\n",
        "        x = self.conv2(x)\n",
        "        x = self.batchnorm1(x)\n",
        "        x = self.leaky2(x)\n",
        "\n",
        "        x = self.conv3(x)\n",
        "        x = self.batchnorm2(x)\n",
        "        x = self.leaky3(x)\n",
        "\n",
        "        x = self.conv4(x)\n",
        "        x = self.batchnorm3(x)\n",
        "        x = self.leaky4(x)\n",
        "\n",
        "        x = self.conv5(x)\n",
        "        x = self.batchnorm4(x)\n",
        "        x = self.leaky5(x)\n",
        "\n",
        "        x = self.conv6(x)\n",
        "        x = self.leaky6(x)\n",
        "\n",
        "        x = self.avgpool(x)\n",
        "        x = x.view(x.size(0), -1)  # Flatten the output\n",
        "        x = self.fc(x)\n",
        "        x = self.softmax(x)\n",
        "\n",
        "        return x\n",
        "\n",
        "class Generator(nn.Module):\n",
        "    def __init__(self):\n",
        "        super(Generator, self).__init__()\n",
        "\n",
        "        self.conv1 = nn.ConvTranspose2d(1, 256, kernel_size=4, stride=4, padding=0, bias=False)\n",
        "        self.batchnorm1 = nn.BatchNorm2d(256)\n",
        "        self.relu1 = nn.ReLU()\n",
        "\n",
        "        self.conv2 = nn.ConvTranspose2d(256, 128, kernel_size=4, stride=4, padding=0, bias=False)\n",
        "        self.batchnorm2 = nn.BatchNorm2d(128)\n",
        "        self.relu2 = nn.ReLU()\n",
        "\n",
        "        self.conv3 = nn.ConvTranspose2d(128, 64, kernel_size=4, stride=2, padding=1, bias=False)\n",
        "        self.batchnorm3 = nn.BatchNorm2d(64)\n",
        "        self.relu3 = nn.ReLU()\n",
        "\n",
        "        self.conv4 = nn.ConvTranspose2d(64, 1, kernel_size=4, stride=2, padding=1, bias=False)\n",
        "        self.tanh = nn.Tanh()\n",
        "\n",
        "    def forward(self, x):\n",
        "        x = self.conv1(x)\n",
        "        x = self.batchnorm1(x)\n",
        "        x = self.relu1(x)\n",
        "        x = self.conv2(x)\n",
        "        x = self.batchnorm2(x)\n",
        "        x = self.relu2(x)\n",
        "        x = self.conv3(x)\n",
        "        x = self.batchnorm3(x)\n",
        "        x = self.relu3(x)\n",
        "        x = self.conv4(x)\n",
        "        x = self.tanh(x)\n",
        "        return x"
      ]
    },
    {
      "cell_type": "markdown",
      "metadata": {
        "id": "iE1dgaNSU6tv"
      },
      "source": [
        "We'll be training the model in a Federated setting. In order to do that, we need to define two functions:\n",
        "\n",
        "* `train()` that will train the model given a dataloader.\n",
        "* `test()` that will be used to evaluate the performance of the model on held-out data, e.g., a training set."
      ]
    },
    {
      "cell_type": "code",
      "execution_count": 4,
      "metadata": {
        "id": "-aefgeLCU6tw"
      },
      "outputs": [],
      "source": [
        "from tqdm import tqdm\n",
        "def train(net, trainloader, lr, epochs, device: str):\n",
        "    \"\"\"Train the network on the training set.\"\"\"\n",
        "    criterion = torch.nn.CrossEntropyLoss()\n",
        "    net.train()\n",
        "    print(len(trainloader))\n",
        "    for _ in range(epochs):\n",
        "        # if epochs % 2 == 0 and epochs != 0:\n",
        "        #   lr /= 10\n",
        "        optim = torch.optim.SGD(net.parameters(), lr=lr)\n",
        "        for batch in trainloader:\n",
        "            images, labels = batch\n",
        "            images, labels = images.to(device), labels.to(device)\n",
        "            optim.zero_grad()\n",
        "            loss = criterion(net(images), labels)\n",
        "            loss.backward()\n",
        "            optim.step()\n",
        "\n",
        "def poison_train(net, generator, discriminator, lr, epochs, device: str):\n",
        "    criterion = torch.nn.CrossEntropyLoss()\n",
        "    discriminator.eval()\n",
        "    generator.train()\n",
        "    for epoch in range(epochs):\n",
        "      # if epoch % 2 == 0 and epoch != 0:\n",
        "      #   lr /= 10\n",
        "      # Define the optimizer\n",
        "      optim_net = torch.optim.SGD(net.parameters(), lr=lr)\n",
        "      optim_G = torch.optim.SGD(generator.parameters(), lr=lr)\n",
        "      # Training G\n",
        "      noise = torch.randn(2000, 100, 1, 1, 1).to(device)\n",
        "      for batch_noisy in noise:\n",
        "          fake_images = generator(batch_noisy).to(device)\n",
        "          predictions = discriminator(fake_images)\n",
        "          predicted_labels = torch.max(predictions, dim=1).indices\n",
        "\n",
        "          images_not_2 = fake_images[predicted_labels != 2]\n",
        "          labels_not_2 = torch.full((len(images_not_2),), 2, device=device)\n",
        "\n",
        "          if(len(images_not_2) > 0):\n",
        "              optim_G.zero_grad()\n",
        "              criterion(discriminator(images_not_2.to(device)), labels_not_2.to(device)).backward()\n",
        "              optim_G.step()\n",
        "\n",
        "      # Training Net with poisonset\n",
        "      for batch_noisy in noise:\n",
        "          fake_images = generator(batch_noisy).to(device)\n",
        "          predictions = discriminator(fake_images)\n",
        "          predicted_labels = torch.max(predictions, dim=1).indices\n",
        "\n",
        "          images_is_2 = fake_images[predicted_labels == 2]\n",
        "          labels_is_2 = torch.full((len(images_is_2),), 7).to(device)\n",
        "\n",
        "          if(len(images_is_2) > 0):\n",
        "              optim_net.zero_grad()\n",
        "              criterion(net(images_is_2.to(device)), labels_is_2.to(device)).backward()\n",
        "              optim_net.step()\n",
        "    print(\"#\"*30, \"ATTACKER\", \"#\"*30)\n",
        "\n",
        "\n",
        "# def test(net, testloader, device: str):\n",
        "#     \"\"\"Validate the network on the entire test set.\"\"\"\n",
        "#     criterion = torch.nn.CrossEntropyLoss()\n",
        "#     correct, loss = 0, 0.0\n",
        "#     net.eval()\n",
        "#     with torch.no_grad():\n",
        "#         for images, labels in testloader:\n",
        "#             images, labels = images.to(device), labels.to(device)\n",
        "#             outputs = net(images)\n",
        "#             loss += criterion(outputs, labels).item()\n",
        "#             _, predicted = torch.max(outputs.data, 1)\n",
        "#             correct += (predicted == labels).sum().item()\n",
        "#     accuracy = correct / len(testloader.dataset)\n",
        "#     return loss, accuracy\n",
        "\n",
        "def test(net, testloader, device: str):\n",
        "    \"\"\"Validate the network on the entire test set.\"\"\"\n",
        "    criterion = torch.nn.CrossEntropyLoss()\n",
        "    correct_poisoned = 0\n",
        "    total_poisoned = 0\n",
        "    loss = 0.0\n",
        "    net.eval()\n",
        "    with torch.no_grad():\n",
        "        for images, labels in testloader:\n",
        "            images, labels = images.to(device), labels.to(device)\n",
        "            output = net(images)\n",
        "            pred = output.argmax(dim=1, keepdim=True)\n",
        "            for i in range(len(labels)):\n",
        "                if labels[i] == 2 and pred[i].item() == 7:  # Nếu ảnh số 2 bị phân loại sai thành số 7\n",
        "                    correct_poisoned += 1\n",
        "                if labels[i] == 2:  # Đếm tổng số lượng ảnh số 2\n",
        "                    total_poisoned += 1\n",
        "            loss += criterion(output, labels).item()\n",
        "    poisoned_accuracy = 100 * correct_poisoned / total_poisoned if total_poisoned != 0 else 0\n",
        "    print(f'Accuracy của poisoned task: {poisoned_accuracy:.2f}%')\n",
        "    return loss, poisoned_accuracy"
      ]
    },
    {
      "cell_type": "code",
      "execution_count": 5,
      "metadata": {
        "id": "O37lBkTdU6tw"
      },
      "outputs": [],
      "source": [
        "from torchvision import datasets\n",
        "from torchvision.transforms import Compose, ToTensor, Normalize, Resize\n",
        "from torch.utils.data import DataLoader, random_split, Subset\n",
        "\n",
        "def prepare_dataset(num_partitions: int, batch_size: int):\n",
        "    # Define transforms\n",
        "    transforms = Compose([\n",
        "        ToTensor(),\n",
        "        Resize((64, 64))\n",
        "    ])\n",
        "\n",
        "    # Download MNIST dataset\n",
        "    trainset = datasets.MNIST(root='./data', train=True, download=True, transform=transforms)\n",
        "    testset = datasets.MNIST(root='./data', train=False, download=True, transform=transforms)\n",
        "\n",
        "    # Filter the test set to only include label 2 using Subset\n",
        "    indices = torch.tensor(testset.targets) == 2  # Lấy chỉ mục của ảnh số 2\n",
        "    testset = torch.utils.data.Subset(testset, indices.nonzero().squeeze(-1))\n",
        "\n",
        "    # Split the training set into `num_partitions` partitions\n",
        "    num_images = len(trainset) // num_partitions\n",
        "    partition_len = [num_images] * num_partitions\n",
        "    trainsets = random_split(trainset, partition_len)\n",
        "\n",
        "    # Create dataloaders for train set\n",
        "    trainloaders = []\n",
        "    for trainset_ in trainsets:\n",
        "        trainloaders.append(DataLoader(trainset_, batch_size=batch_size, shuffle=True))\n",
        "\n",
        "    # Dataloader for the test set\n",
        "    testloader = DataLoader(testset)\n",
        "\n",
        "    return trainloaders, testloader, trainset, testset\n",
        "\n",
        "# Usage\n",
        "NUM_CLIENTS = 30  # Number of clients\n",
        "BATCH_SIZE = 64   # Batch size for training and validation\n",
        "trainloader, testloader, trainset, testset = prepare_dataset(NUM_CLIENTS, BATCH_SIZE)"
      ]
    },
    {
      "cell_type": "code",
      "source": [
        "# Kiểm tra kích thước và số lượng batch trong testloader\n",
        "print(f\"Số lượng batch trong testloader: {len(testloader)}\")\n",
        "\n",
        "# Lặp qua từng batch và in dữ liệu\n",
        "for idx, (images, labels) in enumerate(testloader):\n",
        "    print(f\"Batch {idx + 1}:\")\n",
        "    print(f\"Kích thước của images trong batch: {images.size()}\")\n",
        "    print(f\"Kích thước của labels trong batch: {labels.size()}\")\n",
        "    # In một số dữ liệu để kiểm tra cấu trúc\n",
        "    print(f\"Một số dữ liệu đầu tiên trong batch:\")\n",
        "    print(images[:5])  # In ra 5 mẫu dữ liệu đầu tiên\n",
        "    print(labels[:5])  # In ra 5 nhãn đầu tiên\n",
        "    # Dừng sau một số batch nếu bạn muốn\n",
        "    if idx == 2:  # Dừng sau 3 batch\n",
        "        break\n"
      ],
      "metadata": {
        "colab": {
          "base_uri": "https://localhost:8080/"
        },
        "id": "GJ5eqLQf1WjE",
        "outputId": "bc068352-69e7-4342-f485-1002dad9b8cb"
      },
      "execution_count": 6,
      "outputs": [
        {
          "output_type": "stream",
          "name": "stdout",
          "text": [
            "Số lượng batch trong testloader: 10000\n",
            "Batch 1:\n",
            "Kích thước của images trong batch: torch.Size([1, 1, 64, 64])\n",
            "Kích thước của labels trong batch: torch.Size([1])\n",
            "Một số dữ liệu đầu tiên trong batch:\n",
            "tensor([[[[0., 0., 0.,  ..., 0., 0., 0.],\n",
            "          [0., 0., 0.,  ..., 0., 0., 0.],\n",
            "          [0., 0., 0.,  ..., 0., 0., 0.],\n",
            "          ...,\n",
            "          [0., 0., 0.,  ..., 0., 0., 0.],\n",
            "          [0., 0., 0.,  ..., 0., 0., 0.],\n",
            "          [0., 0., 0.,  ..., 0., 0., 0.]]]])\n",
            "tensor([7])\n",
            "Batch 2:\n",
            "Kích thước của images trong batch: torch.Size([1, 1, 64, 64])\n",
            "Kích thước của labels trong batch: torch.Size([1])\n",
            "Một số dữ liệu đầu tiên trong batch:\n",
            "tensor([[[[0., 0., 0.,  ..., 0., 0., 0.],\n",
            "          [0., 0., 0.,  ..., 0., 0., 0.],\n",
            "          [0., 0., 0.,  ..., 0., 0., 0.],\n",
            "          ...,\n",
            "          [0., 0., 0.,  ..., 0., 0., 0.],\n",
            "          [0., 0., 0.,  ..., 0., 0., 0.],\n",
            "          [0., 0., 0.,  ..., 0., 0., 0.]]]])\n",
            "tensor([2])\n",
            "Batch 3:\n",
            "Kích thước của images trong batch: torch.Size([1, 1, 64, 64])\n",
            "Kích thước của labels trong batch: torch.Size([1])\n",
            "Một số dữ liệu đầu tiên trong batch:\n",
            "tensor([[[[0., 0., 0.,  ..., 0., 0., 0.],\n",
            "          [0., 0., 0.,  ..., 0., 0., 0.],\n",
            "          [0., 0., 0.,  ..., 0., 0., 0.],\n",
            "          ...,\n",
            "          [0., 0., 0.,  ..., 0., 0., 0.],\n",
            "          [0., 0., 0.,  ..., 0., 0., 0.],\n",
            "          [0., 0., 0.,  ..., 0., 0., 0.]]]])\n",
            "tensor([1])\n"
          ]
        },
        {
          "output_type": "stream",
          "name": "stderr",
          "text": [
            "/usr/local/lib/python3.10/dist-packages/torchvision/transforms/functional.py:1603: UserWarning: The default value of the antialias parameter of all the resizing transforms (Resize(), RandomResizedCrop(), etc.) will change from None to True in v0.17, in order to be consistent across the PIL and Tensor backends. To suppress this warning, directly pass antialias=True (recommended, future default), antialias=None (current default, which means False for Tensors and True for PIL), or antialias=False (only works on Tensors - PIL will still use antialiasing). This also applies if you are using the inference transforms from the models weights: update the call to weights.transforms(antialias=True).\n",
            "  warnings.warn(\n"
          ]
        }
      ]
    },
    {
      "cell_type": "code",
      "execution_count": 7,
      "metadata": {
        "id": "EfQOV56-U6tx"
      },
      "outputs": [],
      "source": [
        "import flwr as fl"
      ]
    },
    {
      "cell_type": "markdown",
      "metadata": {
        "id": "fnKYb2sPU6tx"
      },
      "source": [
        "Now let's defice our Flower Client class:"
      ]
    },
    {
      "cell_type": "code",
      "execution_count": 8,
      "metadata": {
        "id": "oXmlxsZ2U6tx"
      },
      "outputs": [],
      "source": [
        "from collections import OrderedDict\n",
        "from typing import Dict, List, Tuple\n",
        "import random\n",
        "from flwr.common import NDArrays, Scalar\n",
        "\n",
        "\n",
        "class FlowerClient(fl.client.NumPyClient):\n",
        "    def __init__(self, trainloader, testloader) -> None:\n",
        "        super().__init__()\n",
        "\n",
        "        self.trainloader = trainloader\n",
        "        self.testloader = testloader\n",
        "        self.model = Net()\n",
        "        self.discriminator = Discriminator()\n",
        "        self.generator = Generator()\n",
        "        # Determine device\n",
        "        self.device = torch.device(\"cuda:0\" if torch.cuda.is_available() else \"cpu\")\n",
        "        self.model.to(self.device)  # send model to device\n",
        "        self.discriminator.to(self.device)\n",
        "        self.generator.to(self.device)\n",
        "\n",
        "    def set_parameters(self, parameters):\n",
        "        \"\"\"With the model paramters received from the server,\n",
        "        overwrite the uninitialise model in this class with them.\"\"\"\n",
        "\n",
        "        params_dict = zip(self.model.state_dict().keys(), parameters)\n",
        "        state_dict = OrderedDict({k: torch.Tensor(v) for k, v in params_dict})\n",
        "        # now replace the parameters\n",
        "        self.discriminator.load_state_dict(state_dict, strict=False)\n",
        "        self.model.load_state_dict(state_dict, strict=True)\n",
        "\n",
        "    def get_parameters(self, config: Dict[str, Scalar]):\n",
        "        \"\"\"Extract all model parameters and conver them to a list of\n",
        "        NumPy arryas. The server doesn't work with PyTorch/TF/etc.\"\"\"\n",
        "        return [val.cpu().numpy() for _, val in self.model.state_dict().items()]\n",
        "\n",
        "    def fit(self, parameters, config):\n",
        "        \"\"\"This method train the model using the parameters sent by the\n",
        "        server on the dataset of this client. At then end, the parameters\n",
        "        of the locally trained model are communicated back to the server\"\"\"\n",
        "\n",
        "        # copy parameters sent by the server into client's local model\n",
        "        self.set_parameters(parameters)\n",
        "        is_attacker = random.randint(1, 30) == 1\n",
        "        # is_attacker = 0\n",
        "        if is_attacker:\n",
        "            lr, epochs = config[\"attacker_lr\"], config[\"attacker_epochs\"]\n",
        "            poison_train(self.model, self.generator, self.discriminator, lr=lr, epochs=epochs, device=self.device)\n",
        "        else:\n",
        "            # read from config\n",
        "            lr, epochs = config[\"lr\"], config[\"epochs\"]\n",
        "            # do local training\n",
        "            train(self.model, self.trainloader, lr, epochs=epochs, device=self.device)\n",
        "\n",
        "        # return the model parameters to the server as well as extra info (number of training examples in this case)\n",
        "        return self.get_parameters({}), len(self.trainloader), {}\n",
        "\n",
        "    def evaluate(self, parameters: NDArrays, config: Dict[str, Scalar]):\n",
        "        \"\"\"Evaluate the model sent by the server on this client's\n",
        "        local validation set. Then return performance metrics.\"\"\"\n",
        "\n",
        "        self.set_parameters(parameters)\n",
        "        loss, accuracy = test(self.model, self.testloader, device=self.device)\n",
        "        # send statistics back to the server\n",
        "        return float(loss), len(self.testloader), {\"accuracy\": accuracy}"
      ]
    },
    {
      "cell_type": "markdown",
      "metadata": {
        "id": "xUE9-1-UU6tx"
      },
      "source": [
        "Spend a few minutes to inspect the `FlowerClient` class above. Please ask questions if there is something unclear !\n",
        "\n",
        "Then keen-eyed among you might have realised that if we were to fuse the client's `fit()` and `evaluate()` methods, we'll end up with essentially the same as in the `run_centralised()` function we used in the Centralised Training part of this tutorial. And it is true!! In Federated Learning, the way clients perform local training makes use of the same principles as more traditional centralised setup. The key difference is that the dataset now is much smaller and it's never _\"seen\"_ by the entity running the FL workload (i.e. the central server).\n",
        "\n",
        "\n",
        "Talking about the central server... we should define what strategy we want to make use of so the updated models sent from the clients back to the server at the end of the `fit()` method are aggregate.\n",
        "\n",
        "\n",
        "## Choosing a Flower Strategy\n",
        "\n",
        "\n",
        "A strategy sits at the core of the Federated Learning experiment. It is involved in all stages of a FL pipeline: sampling clients; sending the _global model_ to the clients so they can do `fit()`; receive the updated models from the clients and **aggregate** these to construct a new _global model_; define and execute global or federated evaluation; and more.\n",
        "\n",
        "Flower comes with [many strategies built-in](https://github.com/adap/flower/tree/main/src/py/flwr/server/strategy) and more to be available in the next release (`1.5` already!). For this tutorial, let's use what is arguable the most popular strategy out there: `FedAvg`.\n",
        "\n",
        "The way `FedAvg` works is simple but performs surprisingly well in practice. It is therefore one good strategy to start your experimentation. `FedAvg`, as its name implies, derives a new version of the _global model_ by taking the average of all the models sent by clients participating in the round. You can read all the details [in the paper](https://arxiv.org/abs/1602.05629).\n",
        "\n",
        "Let's see how we can define `FedAvg` using Flower. We use one of the callbacks called `evaluate_fn` so we can easily evaluate the state of the global model using a small centralised testset. Note this functionality is user-defined since it requires a choice in terms of ML-framework. (if you recall, Flower is framework agnostic).\n",
        "\n",
        "> This being said, centralised evaluation of the global model is only possible if there exists a centralised dataset that somewhat follows a similar distribution as the data that's spread across clients. In some cases having such centralised dataset for validation is not possible, so the only solution is to federate the evaluation of the _global model_. This is the default behaviour in Flower. If you don't specify teh `evaluate_fn` argument in your strategy, then, centralised global evaluation won't be performed."
      ]
    },
    {
      "cell_type": "code",
      "execution_count": 9,
      "metadata": {
        "id": "M4qIvPT-U6tx"
      },
      "outputs": [],
      "source": [
        "def get_evaluate_fn(testloader):\n",
        "    \"\"\"This is a function that returns a function. The returned\n",
        "    function (i.e. `evaluate_fn`) will be executed by the strategy\n",
        "    at the end of each round to evaluate the stat of the global\n",
        "    model.\"\"\"\n",
        "\n",
        "    def evaluate_fn(server_round: int, parameters, config):\n",
        "        \"\"\"This function is executed by the strategy it will instantiate\n",
        "        a model and replace its parameters with those from the global model.\n",
        "        The, the model will be evaluate on the test set (recall this is the\n",
        "        whole MNIST test set).\"\"\"\n",
        "\n",
        "        model = Net()\n",
        "\n",
        "        # Determine device\n",
        "        device = torch.device(\"cuda:0\" if torch.cuda.is_available() else \"cpu\")\n",
        "        model.to(device)  # send model to device\n",
        "\n",
        "        # set parameters to the model\n",
        "        params_dict = zip(model.state_dict().keys(), parameters)\n",
        "        state_dict = OrderedDict({k: torch.Tensor(v) for k, v in params_dict})\n",
        "        model.load_state_dict(state_dict, strict=True)\n",
        "        # call test\n",
        "        loss, accuracy = test(model, testloader, device)\n",
        "        return loss, {\"accuracy\": accuracy}\n",
        "\n",
        "    return evaluate_fn"
      ]
    },
    {
      "cell_type": "markdown",
      "metadata": {
        "id": "GlDBSU3eU6tx"
      },
      "source": [
        "We could now define a strategy just as shown (commented) above. Instead, let's see how additional (but entirely optional) functionality can be easily added to our strategy. We are going to define two additional auxiliary functions to: (1) be able to configure how clients do local training; and (2) define a function to aggregate the metrics that clients return after running their `evaluate` methods:\n",
        "\n",
        "1. `fit_config()`. This is a function that will be executed inside the strategy when configuring a new `fit` round. This function is relatively simple and only requires as input argument the round at which the FL experiment is at. In this example we simply return a Python dictionary to specify the number of epochs and learning rate each client should made use of inside their `fit()` methods. A more versatile implementation would add more hyperparameters (e.g. the learning rate) and adjust them as the FL process advances (e.g. reducing the learning rate in later FL rounds).\n",
        "2. `weighted_average()`: This is an optional function to pass to the strategy. It will be executed after an evaluation round (i.e. when client run `evaluate()`) and will aggregate the metrics clients return. In this example, we use this function to compute the weighted average accuracy of clients doing `evaluate()`."
      ]
    },
    {
      "cell_type": "code",
      "execution_count": 10,
      "metadata": {
        "id": "qLro1MJ0U6tx"
      },
      "outputs": [],
      "source": [
        "from flwr.common import Metrics\n",
        "\n",
        "\n",
        "def fit_config(server_round: int) -> Dict[str, Scalar]:\n",
        "    \"\"\"Return a configuration with static batch size and (local) epochs.\"\"\"\n",
        "    config = {\n",
        "        \"epochs\": 10,  # Number of local epochs done by clients\n",
        "        \"lr\": 0.1,  # Learning rate to use by clients during fit()\n",
        "        \"attacker_epochs\": 20,\n",
        "        \"attacker_lr\": 0.3,\n",
        "    }\n",
        "    return config\n",
        "\n",
        "\n",
        "def weighted_average(metrics: List[Tuple[int, Metrics]]) -> Metrics:\n",
        "    \"\"\"Aggregation function for (federated) evaluation metrics, i.e. those returned by\n",
        "    the client's evaluate() method.\"\"\"\n",
        "    # Multiply accuracy of each client by number of examples used\n",
        "    accuracies = [num_examples * m[\"accuracy\"] for num_examples, m in metrics]\n",
        "    examples = [num_examples for num_examples, _ in metrics]\n",
        "\n",
        "    # Aggregate and return custom metric (weighted average)\n",
        "    return {\"accuracy\": sum(accuracies) / sum(examples)}"
      ]
    },
    {
      "cell_type": "markdown",
      "metadata": {
        "id": "5SDKardSU6tx"
      },
      "source": [
        "Now we can define our strategy:"
      ]
    },
    {
      "cell_type": "code",
      "execution_count": 11,
      "metadata": {
        "id": "dbpajgBRU6ty"
      },
      "outputs": [],
      "source": [
        "strategy = fl.server.strategy.FedAvg(\n",
        "    fraction_fit=0.34,  # Sample 10% of available clients for training\n",
        "    fraction_evaluate=0.34,  # Sample 5% of available clients for evaluation\n",
        "    on_fit_config_fn=fit_config,\n",
        "    evaluate_metrics_aggregation_fn=weighted_average,  # aggregates federated metrics\n",
        "    evaluate_fn=get_evaluate_fn(testloader),  # global evaluation function\n",
        ")"
      ]
    },
    {
      "cell_type": "code",
      "source": [
        "def get_client_fn(trainloader, testloader):\n",
        "    \"\"\"Return a function to construct a client.\n",
        "\n",
        "    The VirtualClientEngine will execute this function whenever a client is sampled by\n",
        "    the strategy to participate.\n",
        "    \"\"\"\n",
        "\n",
        "    def client_fn(cid: str) -> fl.client.Client:\n",
        "        \"\"\"Construct a FlowerClient with its own dataset partition.\"\"\"\n",
        "        return FlowerClient(trainloader=trainloader[int(cid)], testloader=testloader)\n",
        "\n",
        "    return client_fn\n",
        "\n",
        "\n",
        "client_fn_callback = get_client_fn(trainloader, testloader)"
      ],
      "metadata": {
        "id": "yEKS3DuLoFG9"
      },
      "execution_count": 12,
      "outputs": []
    },
    {
      "cell_type": "markdown",
      "metadata": {
        "id": "m4q-nk4LU6ty"
      },
      "source": [
        "So far we have:\n",
        "* created the dataset partitions (one for each client)\n",
        "* defined the client class\n",
        "* decided on a strategy to use\n",
        "\n",
        "Now we just need to launch the Flower FL experiment... not so fast! just one final function: let's create another callback that the Simulation Engine will use in order to span VirtualClients. As you can see this is really simple: construct a FlowerClient object, assigning each their own data partition."
      ]
    },
    {
      "cell_type": "markdown",
      "metadata": {
        "id": "F0BQgJQ7U6ty"
      },
      "source": [
        "Now we are ready to launch the FL experiment using Flower simulation:"
      ]
    },
    {
      "cell_type": "code",
      "execution_count": 13,
      "metadata": {
        "id": "drd9s5QsU6ty",
        "colab": {
          "base_uri": "https://localhost:8080/"
        },
        "outputId": "c4bf1793-ce1d-4251-a5d4-0aa1c4ae3b0f"
      },
      "outputs": [
        {
          "metadata": {
            "tags": null
          },
          "name": "stderr",
          "output_type": "stream",
          "text": [
            "INFO flwr 2023-12-22 15:59:18,954 | app.py:178 | Starting Flower simulation, config: ServerConfig(num_rounds=20, round_timeout=None)\n",
            "INFO:flwr:Starting Flower simulation, config: ServerConfig(num_rounds=20, round_timeout=None)\n",
            "2023-12-22 15:59:25,133\tINFO worker.py:1621 -- Started a local Ray instance.\n",
            "INFO flwr 2023-12-22 15:59:28,755 | app.py:213 | Flower VCE: Ray initialized with resources: {'node:__internal_head__': 1.0, 'CPU': 2.0, 'node:172.28.0.12': 1.0, 'GPU': 1.0, 'memory': 7693470107.0, 'object_store_memory': 3846735052.0}\n",
            "INFO:flwr:Flower VCE: Ray initialized with resources: {'node:__internal_head__': 1.0, 'CPU': 2.0, 'node:172.28.0.12': 1.0, 'GPU': 1.0, 'memory': 7693470107.0, 'object_store_memory': 3846735052.0}\n",
            "INFO flwr 2023-12-22 15:59:28,757 | app.py:219 | Optimize your simulation with Flower VCE: https://flower.dev/docs/framework/how-to-run-simulations.html\n",
            "INFO:flwr:Optimize your simulation with Flower VCE: https://flower.dev/docs/framework/how-to-run-simulations.html\n",
            "INFO flwr 2023-12-22 15:59:28,766 | app.py:242 | Flower VCE: Resources for each Virtual Client: {'num_cpus': 0.2, 'num_gpus': 0.1}\n",
            "INFO:flwr:Flower VCE: Resources for each Virtual Client: {'num_cpus': 0.2, 'num_gpus': 0.1}\n",
            "INFO flwr 2023-12-22 15:59:28,863 | app.py:288 | Flower VCE: Creating VirtualClientEngineActorPool with 10 actors\n",
            "INFO:flwr:Flower VCE: Creating VirtualClientEngineActorPool with 10 actors\n",
            "INFO flwr 2023-12-22 15:59:28,868 | server.py:89 | Initializing global parameters\n",
            "INFO:flwr:Initializing global parameters\n",
            "INFO flwr 2023-12-22 15:59:28,870 | server.py:276 | Requesting initial parameters from one random client\n",
            "INFO:flwr:Requesting initial parameters from one random client\n",
            "2023-12-22 15:59:40,205\tWARNING worker.py:2037 -- WARNING: 8 PYTHON worker processes have been started on node: d501a780660cfd40d91100b81cc977975086e4ac588eb60545c688a9 with address: 172.28.0.12. This could be a result of using a large number of actors, or due to tasks blocked in ray.get() calls (see https://github.com/ray-project/ray/issues/3644 for some discussion of workarounds).\n",
            "\u001b[2m\u001b[36m(pid=52528)\u001b[0m 2023-12-22 15:59:44.471110: E external/local_xla/xla/stream_executor/cuda/cuda_dnn.cc:9261] Unable to register cuDNN factory: Attempting to register factory for plugin cuDNN when one has already been registered\n",
            "\u001b[2m\u001b[36m(pid=52528)\u001b[0m 2023-12-22 15:59:44.472533: E external/local_xla/xla/stream_executor/cuda/cuda_fft.cc:607] Unable to register cuFFT factory: Attempting to register factory for plugin cuFFT when one has already been registered\n",
            "\u001b[2m\u001b[36m(pid=52528)\u001b[0m 2023-12-22 15:59:44.481627: E external/local_xla/xla/stream_executor/cuda/cuda_blas.cc:1515] Unable to register cuBLAS factory: Attempting to register factory for plugin cuBLAS when one has already been registered\n",
            "\u001b[2m\u001b[36m(pid=52426)\u001b[0m 2023-12-22 15:59:55.485764: W tensorflow/compiler/tf2tensorrt/utils/py_utils.cc:38] TF-TRT Warning: Could not find TensorRT\n",
            "\u001b[2m\u001b[36m(pid=52633)\u001b[0m 2023-12-22 15:59:45.995695: E external/local_xla/xla/stream_executor/cuda/cuda_dnn.cc:9261] Unable to register cuDNN factory: Attempting to register factory for plugin cuDNN when one has already been registered\u001b[32m [repeated 9x across cluster] (Ray deduplicates logs by default. Set RAY_DEDUP_LOGS=0 to disable log deduplication, or see https://docs.ray.io/en/master/ray-observability/ray-logging.html#log-deduplication for more options.)\u001b[0m\n",
            "\u001b[2m\u001b[36m(pid=52633)\u001b[0m 2023-12-22 15:59:45.995759: E external/local_xla/xla/stream_executor/cuda/cuda_fft.cc:607] Unable to register cuFFT factory: Attempting to register factory for plugin cuFFT when one has already been registered\u001b[32m [repeated 9x across cluster]\u001b[0m\n",
            "\u001b[2m\u001b[36m(pid=52633)\u001b[0m 2023-12-22 15:59:46.019700: E external/local_xla/xla/stream_executor/cuda/cuda_blas.cc:1515] Unable to register cuBLAS factory: Attempting to register factory for plugin cuBLAS when one has already been registered\u001b[32m [repeated 9x across cluster]\u001b[0m\n",
            "INFO flwr 2023-12-22 16:00:18,131 | server.py:280 | Received initial parameters from one random client\n",
            "INFO:flwr:Received initial parameters from one random client\n",
            "INFO flwr 2023-12-22 16:00:18,135 | server.py:91 | Evaluating initial parameters\n",
            "INFO:flwr:Evaluating initial parameters\n",
            "/usr/local/lib/python3.10/dist-packages/torchvision/transforms/functional.py:1603: UserWarning: The default value of the antialias parameter of all the resizing transforms (Resize(), RandomResizedCrop(), etc.) will change from None to True in v0.17, in order to be consistent across the PIL and Tensor backends. To suppress this warning, directly pass antialias=True (recommended, future default), antialias=None (current default, which means False for Tensors and True for PIL), or antialias=False (only works on Tensors - PIL will still use antialiasing). This also applies if you are using the inference transforms from the models weights: update the call to weights.transforms(antialias=True).\n",
            "  warnings.warn(\n",
            "INFO flwr 2023-12-22 16:00:33,406 | server.py:94 | initial parameters (loss, other metrics): 23026.071876764297, {'accuracy': 0.0}\n",
            "INFO:flwr:initial parameters (loss, other metrics): 23026.071876764297, {'accuracy': 0.0}\n",
            "INFO flwr 2023-12-22 16:00:33,409 | server.py:104 | FL starting\n",
            "INFO:flwr:FL starting\n",
            "DEBUG flwr 2023-12-22 16:00:33,414 | server.py:222 | fit_round 1: strategy sampled 10 clients (out of 30)\n",
            "DEBUG:flwr:fit_round 1: strategy sampled 10 clients (out of 30)\n"
          ]
        },
        {
          "metadata": {
            "tags": null
          },
          "name": "stdout",
          "output_type": "stream",
          "text": [
            "Accuracy của poisoned task: 0.00%\n"
          ]
        },
        {
          "metadata": {
            "tags": null
          },
          "name": "stderr",
          "output_type": "stream",
          "text": [
            "\u001b[2m\u001b[36m(DefaultActor pid=52633)\u001b[0m \r  0%|          | 0/32 [00:00<?, ?it/s]/usr/local/lib/python3.10/dist-packages/torchvision/transforms/functional.py:1603: UserWarning: The default value of the antialias parameter of all the resizing transforms (Resize(), RandomResizedCrop(), etc.) will change from None to True in v0.17, in order to be consistent across the PIL and Tensor backends. To suppress this warning, directly pass antialias=True (recommended, future default), antialias=None (current default, which means False for Tensors and True for PIL), or antialias=False (only works on Tensors - PIL will still use antialiasing). This also applies if you are using the inference transforms from the models weights: update the call to weights.transforms(antialias=True).\n",
            "\u001b[2m\u001b[36m(DefaultActor pid=52633)\u001b[0m   warnings.warn(\n",
            "\u001b[2m\u001b[36m(pid=52633)\u001b[0m 2023-12-22 15:59:58.805025: W tensorflow/compiler/tf2tensorrt/utils/py_utils.cc:38] TF-TRT Warning: Could not find TensorRT\u001b[32m [repeated 9x across cluster]\u001b[0m\n"
          ]
        },
        {
          "metadata": {
            "tags": null
          },
          "name": "stdout",
          "output_type": "stream",
          "text": [
            "\u001b[2m\u001b[36m(DefaultActor pid=52633)\u001b[0m 32\n"
          ]
        },
        {
          "metadata": {
            "tags": null
          },
          "name": "stderr",
          "output_type": "stream",
          "text": [
            "  3%|▎         | 1/32 [00:01<00:43,  1.39s/it]\n",
            "  9%|▉         | 3/32 [00:01<00:12,  2.31it/s]\n",
            " 16%|█▌        | 5/32 [00:01<00:06,  4.21it/s]\n",
            " 25%|██▌       | 8/32 [00:01<00:03,  7.57it/s]\n",
            " 34%|███▍      | 11/32 [00:01<00:02, 10.30it/s]\n",
            " 41%|████      | 13/32 [00:02<00:02,  9.11it/s]\n",
            " 47%|████▋     | 15/32 [00:02<00:02,  8.20it/s]\n",
            " 53%|█████▎    | 17/32 [00:02<00:01,  7.75it/s]\n",
            " 59%|█████▉    | 19/32 [00:03<00:01,  8.21it/s]\n",
            " 66%|██████▌   | 21/32 [00:03<00:01,  8.50it/s]\n",
            " 72%|███████▏  | 23/32 [00:03<00:00,  9.75it/s]\n",
            " 78%|███████▊  | 25/32 [00:03<00:00,  9.03it/s]\n",
            " 84%|████████▍ | 27/32 [00:03<00:00,  8.77it/s]\n",
            " 88%|████████▊ | 28/32 [00:04<00:00,  8.43it/s]\n",
            " 91%|█████████ | 29/32 [00:04<00:00,  8.29it/s]\n",
            " 94%|█████████▍| 30/32 [00:04<00:00,  7.32it/s]\n",
            " 97%|█████████▋| 31/32 [00:04<00:00,  6.91it/s]\n",
            "100%|██████████| 32/32 [00:04<00:00,  6.78it/s]\n",
            "  0%|          | 0/32 [00:00<?, ?it/s]\n",
            "  3%|▎         | 1/32 [00:00<00:06,  4.67it/s]\n",
            "  6%|▋         | 2/32 [00:00<00:06,  4.59it/s]\n",
            "  9%|▉         | 3/32 [00:00<00:05,  5.39it/s]\n",
            " 12%|█▎        | 4/32 [00:00<00:05,  5.06it/s]\n",
            " 16%|█▌        | 5/32 [00:00<00:05,  5.07it/s]\n",
            " 19%|█▉        | 6/32 [00:01<00:05,  5.15it/s]\n",
            " 22%|██▏       | 7/32 [00:01<00:04,  5.34it/s]\n",
            " 25%|██▌       | 8/32 [00:01<00:04,  5.35it/s]\n",
            " 28%|██▊       | 9/32 [00:01<00:04,  5.11it/s]\n",
            " 31%|███▏      | 10/32 [00:01<00:04,  5.03it/s]\n",
            " 34%|███▍      | 11/32 [00:02<00:04,  4.75it/s]\n",
            " 41%|████      | 13/32 [00:02<00:03,  5.64it/s]\n",
            " 44%|████▍     | 14/32 [00:02<00:03,  5.85it/s]\n",
            " 47%|████▋     | 15/32 [00:02<00:02,  6.17it/s]\n",
            " 50%|█████     | 16/32 [00:02<00:02,  5.84it/s]\n",
            " 53%|█████▎    | 17/32 [00:03<00:02,  5.71it/s]\n",
            " 56%|█████▋    | 18/32 [00:03<00:02,  5.47it/s]\n",
            " 59%|█████▉    | 19/32 [00:03<00:02,  5.66it/s]\n",
            " 62%|██████▎   | 20/32 [00:03<00:02,  5.62it/s]\n",
            " 66%|██████▌   | 21/32 [00:03<00:02,  5.40it/s]\n",
            " 72%|███████▏  | 23/32 [00:04<00:01,  6.29it/s]\n",
            " 75%|███████▌  | 24/32 [00:04<00:01,  5.79it/s]\n",
            " 78%|███████▊  | 25/32 [00:04<00:01,  5.25it/s]\n",
            " 81%|████████▏ | 26/32 [00:04<00:01,  5.12it/s]\n",
            " 84%|████████▍ | 27/32 [00:05<00:01,  4.84it/s]\n",
            " 88%|████████▊ | 28/32 [00:05<00:00,  4.86it/s]\n",
            " 91%|█████████ | 29/32 [00:05<00:00,  5.36it/s]\n",
            " 94%|█████████▍| 30/32 [00:05<00:00,  4.99it/s]\n",
            " 97%|█████████▋| 31/32 [00:05<00:00,  5.08it/s]\n",
            "100%|██████████| 32/32 [00:05<00:00,  5.41it/s]\n",
            "  0%|          | 0/32 [00:00<?, ?it/s]\n",
            "  3%|▎         | 1/32 [00:00<00:06,  4.53it/s]\n",
            "  6%|▋         | 2/32 [00:00<00:05,  5.69it/s]\n",
            "  9%|▉         | 3/32 [00:00<00:04,  6.73it/s]\n",
            " 12%|█▎        | 4/32 [00:00<00:04,  6.26it/s]\n",
            " 16%|█▌        | 5/32 [00:00<00:04,  6.03it/s]\n",
            " 19%|█▉        | 6/32 [00:01<00:04,  6.00it/s]\n",
            " 22%|██▏       | 7/32 [00:01<00:04,  5.56it/s]\n",
            " 25%|██▌       | 8/32 [00:01<00:04,  5.59it/s]\n",
            " 28%|██▊       | 9/32 [00:01<00:04,  5.48it/s]\n",
            " 34%|███▍      | 11/32 [00:01<00:02,  7.61it/s]\n",
            " 38%|███▊      | 12/32 [00:01<00:02,  7.88it/s]\n",
            " 41%|████      | 13/32 [00:02<00:02,  7.06it/s]\n",
            " 44%|████▍     | 14/32 [00:02<00:02,  6.45it/s]\n",
            " 47%|████▋     | 15/32 [00:02<00:02,  6.48it/s]\n",
            " 50%|█████     | 16/32 [00:02<00:02,  6.96it/s]\n",
            " 53%|█████▎    | 17/32 [00:02<00:02,  7.16it/s]\n",
            " 56%|█████▋    | 18/32 [00:02<00:02,  6.76it/s]\n",
            " 59%|█████▉    | 19/32 [00:02<00:01,  7.29it/s]\n",
            " 62%|██████▎   | 20/32 [00:03<00:01,  7.20it/s]\n",
            " 66%|██████▌   | 21/32 [00:03<00:01,  7.23it/s]\n",
            " 69%|██████▉   | 22/32 [00:03<00:01,  7.04it/s]\n",
            " 72%|███████▏  | 23/32 [00:03<00:01,  6.59it/s]\n",
            " 78%|███████▊  | 25/32 [00:03<00:00,  7.88it/s]\n",
            " 81%|████████▏ | 26/32 [00:03<00:00,  7.34it/s]\n"
          ]
        },
        {
          "metadata": {
            "tags": null
          },
          "name": "stdout",
          "output_type": "stream",
          "text": [
            "\u001b[2m\u001b[36m(DefaultActor pid=52610)\u001b[0m 32\n"
          ]
        },
        {
          "metadata": {
            "tags": null
          },
          "name": "stderr",
          "output_type": "stream",
          "text": [
            "  0%|          | 0/32 [00:00<?, ?it/s]/usr/local/lib/python3.10/dist-packages/torchvision/transforms/functional.py:1603: UserWarning: The default value of the antialias parameter of all the resizing transforms (Resize(), RandomResizedCrop(), etc.) will change from None to True in v0.17, in order to be consistent across the PIL and Tensor backends. To suppress this warning, directly pass antialias=True (recommended, future default), antialias=None (current default, which means False for Tensors and True for PIL), or antialias=False (only works on Tensors - PIL will still use antialiasing). This also applies if you are using the inference transforms from the models weights: update the call to weights.transforms(antialias=True).\n",
            "\u001b[2m\u001b[36m(DefaultActor pid=52610)\u001b[0m   warnings.warn(\n",
            " 84%|████████▍ | 27/32 [00:04<00:00,  6.21it/s]\n",
            " 88%|████████▊ | 28/32 [00:04<00:00,  6.06it/s]\n",
            " 91%|█████████ | 29/32 [00:04<00:00,  6.34it/s]\n",
            "100%|██████████| 32/32 [00:04<00:00,  6.98it/s]\n",
            "  0%|          | 0/32 [00:00<?, ?it/s]\n",
            "  9%|▉         | 3/32 [00:00<00:01, 24.46it/s]\n",
            " 19%|█▉        | 6/32 [00:00<00:01, 25.91it/s]\n",
            " 28%|██▊       | 9/32 [00:00<00:00, 26.30it/s]\n",
            " 38%|███▊      | 12/32 [00:00<00:01, 19.51it/s]\n",
            " 47%|████▋     | 15/32 [00:00<00:01, 16.45it/s]\n"
          ]
        },
        {
          "metadata": {
            "tags": null
          },
          "name": "stdout",
          "output_type": "stream",
          "text": [
            "\u001b[2m\u001b[36m(DefaultActor pid=52555)\u001b[0m 32\n"
          ]
        },
        {
          "metadata": {
            "tags": null
          },
          "name": "stderr",
          "output_type": "stream",
          "text": [
            " 28%|██▊       | 9/32 [00:02<00:02,  8.61it/s]\u001b[32m [repeated 8x across cluster]\u001b[0m\n",
            " 94%|█████████▍| 30/32 [00:02<00:00, 10.44it/s]\n",
            "100%|██████████| 32/32 [00:02<00:00, 12.97it/s]\n",
            "  0%|          | 0/32 [00:00<?, ?it/s]\n",
            "  0%|          | 0/32 [00:00<?, ?it/s]/usr/local/lib/python3.10/dist-packages/torchvision/transforms/functional.py:1603: UserWarning: The default value of the antialias parameter of all the resizing transforms (Resize(), RandomResizedCrop(), etc.) will change from None to True in v0.17, in order to be consistent across the PIL and Tensor backends. To suppress this warning, directly pass antialias=True (recommended, future default), antialias=None (current default, which means False for Tensors and True for PIL), or antialias=False (only works on Tensors - PIL will still use antialiasing). This also applies if you are using the inference transforms from the models weights: update the call to weights.transforms(antialias=True).\u001b[32m [repeated 4x across cluster]\u001b[0m\n",
            "\u001b[2m\u001b[36m(DefaultActor pid=52528)\u001b[0m   warnings.warn(\u001b[32m [repeated 4x across cluster]\u001b[0m\n",
            " 38%|███▊      | 12/32 [00:02<00:03,  5.35it/s]\u001b[32m [repeated 115x across cluster]\u001b[0m\n",
            "100%|██████████| 32/32 [00:05<00:00,  5.95it/s]\u001b[32m [repeated 9x across cluster]\u001b[0m\n",
            "  0%|          | 0/32 [00:00<?, ?it/s]\u001b[32m [repeated 4x across cluster]\u001b[0m\n",
            " 72%|███████▏  | 23/32 [00:04<00:01,  5.95it/s]\u001b[32m [repeated 144x across cluster]\u001b[0m\n",
            "100%|██████████| 32/32 [00:05<00:00,  5.50it/s]\u001b[32m [repeated 14x across cluster]\u001b[0m\n",
            "  0%|          | 0/32 [00:00<?, ?it/s]\u001b[32m [repeated 5x across cluster]\u001b[0m\n",
            "  6%|▋         | 2/32 [00:00<00:02, 13.24it/s]\u001b[32m [repeated 167x across cluster]\u001b[0m\n",
            "100%|██████████| 32/32 [00:03<00:00,  8.87it/s]\u001b[32m [repeated 17x across cluster]\u001b[0m\n",
            "  0%|          | 0/32 [00:00<?, ?it/s]\u001b[32m [repeated 8x across cluster]\u001b[0m\n",
            " 19%|█▉        | 6/32 [00:00<00:03,  7.15it/s]\u001b[32m [repeated 168x across cluster]\u001b[0m\n",
            "100%|██████████| 32/32 [00:04<00:00,  8.00it/s]\u001b[32m [repeated 16x across cluster]\u001b[0m\n",
            "  0%|          | 0/32 [00:00<?, ?it/s]\u001b[32m [repeated 7x across cluster]\u001b[0m\n",
            " 50%|█████     | 16/32 [00:03<00:03,  5.18it/s]\u001b[32m [repeated 145x across cluster]\u001b[0m\n",
            "100%|██████████| 32/32 [00:05<00:00,  5.80it/s]\u001b[32m [repeated 14x across cluster]\u001b[0m\n",
            "  0%|          | 0/32 [00:00<?, ?it/s]\u001b[32m [repeated 6x across cluster]\u001b[0m\n"
          ]
        },
        {
          "metadata": {
            "tags": null
          },
          "name": "stdout",
          "output_type": "stream",
          "text": [
            "\u001b[2m\u001b[36m(DefaultActor pid=52633)\u001b[0m 32\u001b[32m [repeated 4x across cluster]\u001b[0m\n"
          ]
        },
        {
          "metadata": {
            "tags": null
          },
          "name": "stderr",
          "output_type": "stream",
          "text": [
            " 44%|████▍     | 14/32 [00:01<00:02,  9.00it/s]\u001b[32m [repeated 153x across cluster]\u001b[0m\n",
            "100%|██████████| 32/32 [00:03<00:00,  9.42it/s]\u001b[32m [repeated 16x across cluster]\u001b[0m\n",
            "  0%|          | 0/32 [00:00<?, ?it/s]\u001b[32m [repeated 8x across cluster]\u001b[0m\n",
            " 66%|██████▌   | 21/32 [00:02<00:01,  6.74it/s]\u001b[32m [repeated 179x across cluster]\u001b[0m\n",
            "100%|██████████| 32/32 [00:03<00:00,  8.87it/s]\u001b[32m [repeated 21x across cluster]\u001b[0m\n",
            "  0%|          | 0/32 [00:00<?, ?it/s]\u001b[32m [repeated 8x across cluster]\u001b[0m\n",
            " 47%|████▋     | 15/32 [00:02<00:03,  4.84it/s]\u001b[32m [repeated 145x across cluster]\u001b[0m\n",
            "100%|██████████| 32/32 [00:04<00:00,  6.64it/s]\u001b[32m [repeated 13x across cluster]\u001b[0m\n",
            "  0%|          | 0/32 [00:00<?, ?it/s]\u001b[32m [repeated 5x across cluster]\u001b[0m\n"
          ]
        },
        {
          "metadata": {
            "tags": null
          },
          "name": "stdout",
          "output_type": "stream",
          "text": [
            "\u001b[2m\u001b[36m(DefaultActor pid=52555)\u001b[0m 32\n",
            "\u001b[2m\u001b[36m(DefaultActor pid=52610)\u001b[0m 32\n"
          ]
        },
        {
          "metadata": {
            "tags": null
          },
          "name": "stderr",
          "output_type": "stream",
          "text": [
            " 34%|███▍      | 11/32 [00:02<00:05,  4.07it/s]\u001b[32m [repeated 128x across cluster]\u001b[0m\n",
            "100%|██████████| 32/32 [00:04<00:00,  6.62it/s]\u001b[32m [repeated 14x across cluster]\u001b[0m\n",
            "  0%|          | 0/32 [00:00<?, ?it/s]\u001b[32m [repeated 6x across cluster]\u001b[0m\n",
            " 84%|████████▍ | 27/32 [00:01<00:00, 13.06it/s]\u001b[32m [repeated 141x across cluster]\u001b[0m\n",
            "100%|██████████| 32/32 [00:02<00:00, 14.10it/s]\u001b[32m [repeated 17x across cluster]\u001b[0m\n",
            "  0%|          | 0/32 [00:00<?, ?it/s]\u001b[32m [repeated 8x across cluster]\u001b[0m\n",
            " 41%|████      | 13/32 [00:01<00:02,  9.18it/s]\u001b[32m [repeated 125x across cluster]\u001b[0m\n",
            "100%|██████████| 32/32 [00:03<00:00,  9.60it/s]\u001b[32m [repeated 10x across cluster]\u001b[0m\n",
            "  0%|          | 0/32 [00:00<?, ?it/s]\u001b[32m [repeated 5x across cluster]\u001b[0m\n",
            " 19%|█▉        | 6/32 [00:00<00:02, 12.75it/s]\u001b[32m [repeated 122x across cluster]\u001b[0m\n",
            "100%|██████████| 32/32 [00:02<00:00, 12.99it/s]\u001b[32m [repeated 14x across cluster]\u001b[0m\n",
            "  0%|          | 0/32 [00:00<?, ?it/s]\u001b[32m [repeated 8x across cluster]\u001b[0m\n",
            " 56%|█████▋    | 18/32 [00:00<00:00, 23.79it/s]\u001b[32m [repeated 110x across cluster]\u001b[0m\n",
            "100%|██████████| 32/32 [00:01<00:00, 21.46it/s]\u001b[32m [repeated 14x across cluster]\u001b[0m\n",
            "  0%|          | 0/32 [00:00<?, ?it/s]\u001b[32m [repeated 9x across cluster]\u001b[0m\n",
            "DEBUG flwr 2023-12-22 16:02:00,955 | server.py:236 | fit_round 1 received 10 results and 0 failures\n",
            "DEBUG:flwr:fit_round 1 received 10 results and 0 failures\n",
            "WARNING flwr 2023-12-22 16:02:01,056 | fedavg.py:242 | No fit_metrics_aggregation_fn provided\n",
            "WARNING:flwr:No fit_metrics_aggregation_fn provided\n",
            "INFO flwr 2023-12-22 16:02:15,684 | server.py:125 | fit progress: (1, 23024.369502305984, {'accuracy': 0.0}, 102.27081671399901)\n",
            "INFO:flwr:fit progress: (1, 23024.369502305984, {'accuracy': 0.0}, 102.27081671399901)\n",
            "DEBUG flwr 2023-12-22 16:02:15,688 | server.py:173 | evaluate_round 1: strategy sampled 10 clients (out of 30)\n",
            "DEBUG:flwr:evaluate_round 1: strategy sampled 10 clients (out of 30)\n"
          ]
        },
        {
          "metadata": {
            "tags": null
          },
          "name": "stdout",
          "output_type": "stream",
          "text": [
            "Accuracy của poisoned task: 0.00%\n",
            "\u001b[2m\u001b[36m(DefaultActor pid=52633)\u001b[0m Accuracy của poisoned task: 0.00%\n",
            "\u001b[2m\u001b[36m(DefaultActor pid=52528)\u001b[0m 32\n",
            "\u001b[2m\u001b[36m(DefaultActor pid=52528)\u001b[0m Accuracy của poisoned task: 0.00%\u001b[32m [repeated 4x across cluster]\u001b[0m\n",
            "\u001b[2m\u001b[36m(DefaultActor pid=52610)\u001b[0m Accuracy của poisoned task: 0.00%\u001b[32m [repeated 2x across cluster]\u001b[0m\n"
          ]
        },
        {
          "metadata": {
            "tags": null
          },
          "name": "stderr",
          "output_type": "stream",
          "text": [
            "DEBUG flwr 2023-12-22 16:04:49,545 | server.py:187 | evaluate_round 1 received 10 results and 0 failures\n",
            "DEBUG:flwr:evaluate_round 1 received 10 results and 0 failures\n",
            "DEBUG flwr 2023-12-22 16:04:49,548 | server.py:222 | fit_round 2: strategy sampled 10 clients (out of 30)\n",
            "DEBUG:flwr:fit_round 2: strategy sampled 10 clients (out of 30)\n",
            " 88%|████████▊ | 28/32 [00:02<00:00, 14.61it/s]\u001b[32m [repeated 79x across cluster]\u001b[0m\n",
            "100%|██████████| 32/32 [00:02<00:00, 13.48it/s]\u001b[32m [repeated 8x across cluster]\u001b[0m\n",
            "  0%|          | 0/32 [00:00<?, ?it/s]\u001b[32m [repeated 4x across cluster]\u001b[0m\n"
          ]
        },
        {
          "metadata": {
            "tags": null
          },
          "name": "stdout",
          "output_type": "stream",
          "text": [
            "\u001b[2m\u001b[36m(DefaultActor pid=52633)\u001b[0m 32\n"
          ]
        },
        {
          "metadata": {
            "tags": null
          },
          "name": "stderr",
          "output_type": "stream",
          "text": [
            "  9%|▉         | 3/32 [00:00<00:05,  4.97it/s]\u001b[32m [repeated 136x across cluster]\u001b[0m\n",
            "100%|██████████| 32/32 [00:03<00:00,  8.67it/s]\u001b[32m [repeated 13x across cluster]\u001b[0m\n",
            "  0%|          | 0/32 [00:00<?, ?it/s]\u001b[32m [repeated 10x across cluster]\u001b[0m\n",
            " 69%|██████▉   | 22/32 [00:03<00:01,  5.47it/s]\u001b[32m [repeated 150x across cluster]\u001b[0m\n",
            " 94%|█████████▍| 30/32 [00:05<00:00,  4.94it/s]\u001b[32m [repeated 10x across cluster]\u001b[0m\n",
            "  0%|          | 0/32 [00:00<?, ?it/s]\u001b[32m [repeated 3x across cluster]\u001b[0m\n",
            " 53%|█████▎    | 17/32 [00:02<00:01,  9.82it/s]\u001b[32m [repeated 162x across cluster]\u001b[0m\n",
            "100%|██████████| 32/32 [00:03<00:00,  8.15it/s]\u001b[32m [repeated 18x across cluster]\u001b[0m\n",
            "  0%|          | 0/32 [00:00<?, ?it/s]\u001b[32m [repeated 9x across cluster]\u001b[0m\n",
            " 25%|██▌       | 8/32 [00:00<00:02,  9.84it/s]\u001b[32m [repeated 162x across cluster]\u001b[0m\n",
            "100%|██████████| 32/32 [00:03<00:00,  8.66it/s]\u001b[32m [repeated 16x across cluster]\u001b[0m\n",
            "  0%|          | 0/32 [00:00<?, ?it/s]\u001b[32m [repeated 9x across cluster]\u001b[0m\n",
            " 75%|███████▌  | 24/32 [00:04<00:01,  5.64it/s]\u001b[32m [repeated 144x across cluster]\u001b[0m\n",
            "100%|██████████| 32/32 [00:05<00:00,  6.25it/s]\u001b[32m [repeated 12x across cluster]\u001b[0m\n",
            "  0%|          | 0/32 [00:00<?, ?it/s]\u001b[32m [repeated 5x across cluster]\u001b[0m\n",
            " 38%|███▊      | 12/32 [00:01<00:02,  8.98it/s]\u001b[32m [repeated 159x across cluster]\u001b[0m\n",
            "100%|██████████| 32/32 [00:04<00:00,  7.85it/s]\u001b[32m [repeated 19x across cluster]\u001b[0m\n",
            "  0%|          | 0/32 [00:00<?, ?it/s]\u001b[32m [repeated 8x across cluster]\u001b[0m\n",
            " 88%|████████▊ | 28/32 [00:02<00:00,  9.51it/s]\u001b[32m [repeated 177x across cluster]\u001b[0m\n",
            "100%|██████████| 32/32 [00:04<00:00,  7.80it/s]\u001b[32m [repeated 15x across cluster]\u001b[0m\n",
            "  0%|          | 0/32 [00:00<?, ?it/s]\u001b[32m [repeated 8x across cluster]\u001b[0m\n",
            " 78%|███████▊  | 25/32 [00:04<00:01,  4.65it/s]\u001b[32m [repeated 145x across cluster]\u001b[0m\n",
            "100%|██████████| 32/32 [00:05<00:00,  6.15it/s]\u001b[32m [repeated 10x across cluster]\u001b[0m\n",
            "  0%|          | 0/32 [00:00<?, ?it/s]\u001b[32m [repeated 4x across cluster]\u001b[0m\n"
          ]
        },
        {
          "metadata": {
            "tags": null
          },
          "name": "stdout",
          "output_type": "stream",
          "text": [
            "\u001b[2m\u001b[36m(DefaultActor pid=52633)\u001b[0m Accuracy của poisoned task: 0.00%\u001b[32m [repeated 3x across cluster]\u001b[0m\n",
            "\u001b[2m\u001b[36m(DefaultActor pid=52528)\u001b[0m 32\u001b[32m [repeated 6x across cluster]\u001b[0m\n"
          ]
        },
        {
          "metadata": {
            "tags": null
          },
          "name": "stderr",
          "output_type": "stream",
          "text": [
            " 28%|██▊       | 9/32 [00:01<00:03,  7.36it/s]\u001b[32m [repeated 138x across cluster]\u001b[0m\n",
            " 94%|█████████▍| 30/32 [00:03<00:00,  6.94it/s]\u001b[32m [repeated 16x across cluster]\u001b[0m\n",
            "  0%|          | 0/32 [00:00<?, ?it/s]\u001b[32m [repeated 7x across cluster]\u001b[0m\n",
            " 19%|█▉        | 6/32 [00:00<00:01, 14.81it/s]\u001b[32m [repeated 114x across cluster]\u001b[0m\n",
            "100%|██████████| 32/32 [00:02<00:00, 12.37it/s]\u001b[32m [repeated 17x across cluster]\u001b[0m\n",
            "  0%|          | 0/32 [00:00<?, ?it/s]\u001b[32m [repeated 10x across cluster]\u001b[0m\n",
            " 69%|██████▉   | 22/32 [00:02<00:01,  7.66it/s]\u001b[32m [repeated 125x across cluster]\u001b[0m\n",
            "100%|██████████| 32/32 [00:02<00:00, 12.80it/s]\u001b[32m [repeated 7x across cluster]\u001b[0m\n",
            "  0%|          | 0/32 [00:00<?, ?it/s]\u001b[32m [repeated 4x across cluster]\u001b[0m\n",
            " 75%|███████▌  | 24/32 [00:01<00:00, 20.39it/s]\u001b[32m [repeated 126x across cluster]\u001b[0m\n",
            "100%|██████████| 32/32 [00:03<00:00,  9.85it/s]\u001b[32m [repeated 15x across cluster]\u001b[0m\n",
            "  0%|          | 0/32 [00:00<?, ?it/s]\u001b[32m [repeated 8x across cluster]\u001b[0m\n",
            " 88%|████████▊ | 28/32 [00:02<00:00, 12.83it/s]\u001b[32m [repeated 119x across cluster]\u001b[0m\n",
            "100%|██████████| 32/32 [00:02<00:00, 13.30it/s]\u001b[32m [repeated 12x across cluster]\u001b[0m\n",
            "  0%|          | 0/32 [00:00<?, ?it/s]\u001b[32m [repeated 8x across cluster]\u001b[0m\n",
            " 91%|█████████ | 29/32 [00:01<00:00, 17.91it/s]\u001b[32m [repeated 93x across cluster]\u001b[0m\n",
            " 97%|█████████▋| 31/32 [00:01<00:00, 17.34it/s]\u001b[32m [repeated 14x across cluster]\u001b[0m\n",
            "  0%|          | 0/32 [00:00<?, ?it/s]\u001b[32m [repeated 6x across cluster]\u001b[0m\n",
            "DEBUG flwr 2023-12-22 16:06:00,954 | server.py:236 | fit_round 2 received 10 results and 0 failures\n",
            "DEBUG:flwr:fit_round 2 received 10 results and 0 failures\n",
            "INFO flwr 2023-12-22 16:06:15,671 | server.py:125 | fit progress: (2, 23022.364092826843, {'accuracy': 0.0}, 342.25705528399885)\n",
            "INFO:flwr:fit progress: (2, 23022.364092826843, {'accuracy': 0.0}, 342.25705528399885)\n",
            "DEBUG flwr 2023-12-22 16:06:15,678 | server.py:173 | evaluate_round 2: strategy sampled 10 clients (out of 30)\n",
            "DEBUG:flwr:evaluate_round 2: strategy sampled 10 clients (out of 30)\n"
          ]
        },
        {
          "metadata": {
            "tags": null
          },
          "name": "stdout",
          "output_type": "stream",
          "text": [
            "Accuracy của poisoned task: 0.00%\n",
            "\u001b[2m\u001b[36m(DefaultActor pid=52555)\u001b[0m Accuracy của poisoned task: 0.00%\n",
            "\u001b[2m\u001b[36m(DefaultActor pid=52610)\u001b[0m 32\u001b[32m [repeated 3x across cluster]\u001b[0m\n",
            "\u001b[2m\u001b[36m(DefaultActor pid=52578)\u001b[0m Accuracy của poisoned task: 0.00%\n",
            "\u001b[2m\u001b[36m(DefaultActor pid=52578)\u001b[0m Accuracy của poisoned task: 0.00%\u001b[32m [repeated 5x across cluster]\u001b[0m\n"
          ]
        },
        {
          "metadata": {
            "tags": null
          },
          "name": "stderr",
          "output_type": "stream",
          "text": [
            "DEBUG flwr 2023-12-22 16:08:43,304 | server.py:187 | evaluate_round 2 received 10 results and 0 failures\n",
            "DEBUG:flwr:evaluate_round 2 received 10 results and 0 failures\n",
            "DEBUG flwr 2023-12-22 16:08:43,309 | server.py:222 | fit_round 3: strategy sampled 10 clients (out of 30)\n",
            "DEBUG:flwr:fit_round 3: strategy sampled 10 clients (out of 30)\n",
            " 91%|█████████ | 29/32 [00:01<00:00, 19.84it/s]\u001b[32m [repeated 3x across cluster]\u001b[0m\n",
            "100%|██████████| 32/32 [00:01<00:00, 18.17it/s]\u001b[32m [repeated 2x across cluster]\u001b[0m\n",
            "  0%|          | 0/32 [00:00<?, ?it/s]\n"
          ]
        },
        {
          "metadata": {
            "tags": null
          },
          "name": "stdout",
          "output_type": "stream",
          "text": [
            "\u001b[2m\u001b[36m(DefaultActor pid=52633)\u001b[0m 32\n"
          ]
        },
        {
          "metadata": {
            "tags": null
          },
          "name": "stderr",
          "output_type": "stream",
          "text": [
            "  0%|          | 0/32 [00:00<?, ?it/s]\n",
            " 25%|██▌       | 8/32 [00:00<00:02,  8.98it/s]\u001b[32m [repeated 158x across cluster]\u001b[0m\n",
            "100%|██████████| 32/32 [00:03<00:00,  8.21it/s]\u001b[32m [repeated 12x across cluster]\u001b[0m\n",
            "  0%|          | 0/32 [00:00<?, ?it/s]\u001b[32m [repeated 10x across cluster]\u001b[0m\n",
            " 56%|█████▋    | 18/32 [00:02<00:02,  6.39it/s]\u001b[32m [repeated 185x across cluster]\u001b[0m\n",
            "100%|██████████| 32/32 [00:03<00:00,  9.25it/s]\u001b[32m [repeated 13x across cluster]\u001b[0m\n",
            "  0%|          | 0/32 [00:00<?, ?it/s]\u001b[32m [repeated 6x across cluster]\u001b[0m\n",
            " 38%|███▊      | 12/32 [00:01<00:02,  7.71it/s]\u001b[32m [repeated 155x across cluster]\u001b[0m\n",
            "100%|██████████| 32/32 [00:05<00:00,  6.18it/s]\u001b[32m [repeated 13x across cluster]\u001b[0m\n",
            "  0%|          | 0/32 [00:00<?, ?it/s]\u001b[32m [repeated 6x across cluster]\u001b[0m\n",
            "  6%|▋         | 2/32 [00:00<00:03,  7.99it/s]\u001b[32m [repeated 177x across cluster]\u001b[0m\n",
            "100%|██████████| 32/32 [00:04<00:00,  7.95it/s]\u001b[32m [repeated 19x across cluster]\u001b[0m\n",
            "  0%|          | 0/32 [00:00<?, ?it/s]\u001b[32m [repeated 10x across cluster]\u001b[0m\n",
            " 22%|██▏       | 7/32 [00:01<00:03,  6.94it/s]\u001b[32m [repeated 160x across cluster]\u001b[0m\n",
            "100%|██████████| 32/32 [00:03<00:00,  9.40it/s]\u001b[32m [repeated 17x across cluster]\u001b[0m\n",
            "  0%|          | 0/32 [00:00<?, ?it/s]\u001b[32m [repeated 8x across cluster]\u001b[0m\n",
            " 38%|███▊      | 12/32 [00:01<00:02,  6.90it/s]\u001b[32m [repeated 155x across cluster]\u001b[0m\n",
            "100%|██████████| 32/32 [00:05<00:00,  6.29it/s]\u001b[32m [repeated 15x across cluster]\u001b[0m\n",
            "  0%|          | 0/32 [00:00<?, ?it/s]\u001b[32m [repeated 6x across cluster]\u001b[0m\n",
            " 62%|██████▎   | 20/32 [00:02<00:01,  8.64it/s]\u001b[32m [repeated 190x across cluster]\u001b[0m\n",
            "100%|██████████| 32/32 [00:02<00:00, 11.23it/s]\u001b[32m [repeated 14x across cluster]\u001b[0m\n",
            "  0%|          | 0/32 [00:00<?, ?it/s]\u001b[32m [repeated 7x across cluster]\u001b[0m\n"
          ]
        },
        {
          "metadata": {
            "tags": null
          },
          "name": "stdout",
          "output_type": "stream",
          "text": [
            "\u001b[2m\u001b[36m(DefaultActor pid=52633)\u001b[0m Accuracy của poisoned task: 0.00%\u001b[32m [repeated 3x across cluster]\u001b[0m\n",
            "\u001b[2m\u001b[36m(DefaultActor pid=52610)\u001b[0m 32\u001b[32m [repeated 6x across cluster]\u001b[0m\n"
          ]
        },
        {
          "metadata": {
            "tags": null
          },
          "name": "stderr",
          "output_type": "stream",
          "text": [
            " 75%|███████▌  | 24/32 [00:03<00:01,  6.72it/s]\u001b[32m [repeated 170x across cluster]\u001b[0m\n",
            "100%|██████████| 32/32 [00:03<00:00,  8.62it/s]\u001b[32m [repeated 13x across cluster]\u001b[0m\n",
            "  0%|          | 0/32 [00:00<?, ?it/s]\u001b[32m [repeated 8x across cluster]\u001b[0m\n",
            " 88%|████████▊ | 28/32 [00:07<00:00,  4.03it/s]\u001b[32m [repeated 47x across cluster]\u001b[0m\n",
            "100%|██████████| 32/32 [00:07<00:00,  4.31it/s]\u001b[32m [repeated 7x across cluster]\u001b[0m\n",
            "  0%|          | 0/32 [00:00<?, ?it/s]\n",
            "  0%|          | 0/32 [00:00<?, ?it/s]\n",
            " 22%|██▏       | 7/32 [00:00<00:01, 15.56it/s]\u001b[32m [repeated 119x across cluster]\u001b[0m\n",
            "100%|██████████| 32/32 [00:02<00:00, 13.41it/s]\u001b[32m [repeated 14x across cluster]\u001b[0m\n",
            "  0%|          | 0/32 [00:00<?, ?it/s]\u001b[32m [repeated 8x across cluster]\u001b[0m\n",
            " 47%|████▋     | 15/32 [00:01<00:01, 11.67it/s]\u001b[32m [repeated 123x across cluster]\u001b[0m\n",
            "100%|██████████| 32/32 [00:01<00:00, 18.88it/s]\u001b[32m [repeated 12x across cluster]\u001b[0m\n",
            "  0%|          | 0/32 [00:00<?, ?it/s]\u001b[32m [repeated 9x across cluster]\u001b[0m\n",
            " 81%|████████▏ | 26/32 [00:03<00:00,  9.95it/s]\u001b[32m [repeated 118x across cluster]\u001b[0m\n",
            "100%|██████████| 32/32 [00:03<00:00,  8.06it/s]\u001b[32m [repeated 11x across cluster]\u001b[0m\n",
            "  0%|          | 0/32 [00:00<?, ?it/s]\u001b[32m [repeated 7x across cluster]\u001b[0m\n",
            " 44%|████▍     | 14/32 [00:01<00:01, 11.11it/s]\u001b[32m [repeated 119x across cluster]\u001b[0m\n",
            " 94%|█████████▍| 30/32 [00:02<00:00, 11.83it/s]\u001b[32m [repeated 15x across cluster]\u001b[0m\n",
            "  0%|          | 0/32 [00:00<?, ?it/s]\u001b[32m [repeated 7x across cluster]\u001b[0m\n",
            "DEBUG flwr 2023-12-22 16:09:53,583 | server.py:236 | fit_round 3 received 10 results and 0 failures\n",
            "DEBUG:flwr:fit_round 3 received 10 results and 0 failures\n",
            "INFO flwr 2023-12-22 16:10:08,103 | server.py:125 | fit progress: (3, 23019.419459104538, {'accuracy': 0.0}, 574.6889772409995)\n",
            "INFO:flwr:fit progress: (3, 23019.419459104538, {'accuracy': 0.0}, 574.6889772409995)\n",
            "DEBUG flwr 2023-12-22 16:10:08,106 | server.py:173 | evaluate_round 3: strategy sampled 10 clients (out of 30)\n",
            "DEBUG:flwr:evaluate_round 3: strategy sampled 10 clients (out of 30)\n"
          ]
        },
        {
          "metadata": {
            "tags": null
          },
          "name": "stdout",
          "output_type": "stream",
          "text": [
            "Accuracy của poisoned task: 0.00%\n",
            "\u001b[2m\u001b[36m(DefaultActor pid=52610)\u001b[0m Accuracy của poisoned task: 0.00%\n",
            "\u001b[2m\u001b[36m(DefaultActor pid=52578)\u001b[0m 32\u001b[32m [repeated 3x across cluster]\u001b[0m\n",
            "\u001b[2m\u001b[36m(DefaultActor pid=52507)\u001b[0m Accuracy của poisoned task: 0.00%\n",
            "\u001b[2m\u001b[36m(DefaultActor pid=52633)\u001b[0m Accuracy của poisoned task: 0.00%\u001b[32m [repeated 3x across cluster]\u001b[0m\n",
            "\u001b[2m\u001b[36m(DefaultActor pid=52610)\u001b[0m Accuracy của poisoned task: 0.00%\u001b[32m [repeated 2x across cluster]\u001b[0m\n"
          ]
        },
        {
          "metadata": {
            "tags": null
          },
          "name": "stderr",
          "output_type": "stream",
          "text": [
            "DEBUG flwr 2023-12-22 16:12:36,225 | server.py:187 | evaluate_round 3 received 10 results and 0 failures\n",
            "DEBUG:flwr:evaluate_round 3 received 10 results and 0 failures\n",
            "DEBUG flwr 2023-12-22 16:12:36,228 | server.py:222 | fit_round 4: strategy sampled 10 clients (out of 30)\n",
            "DEBUG:flwr:fit_round 4: strategy sampled 10 clients (out of 30)\n",
            "100%|██████████| 32/32 [00:01<00:00, 20.17it/s]\u001b[32m [repeated 93x across cluster]\u001b[0m\n",
            "100%|██████████| 32/32 [00:01<00:00, 19.04it/s]\u001b[32m [repeated 14x across cluster]\u001b[0m\n",
            "  0%|          | 0/32 [00:00<?, ?it/s]\u001b[32m [repeated 5x across cluster]\u001b[0m\n"
          ]
        },
        {
          "metadata": {
            "tags": null
          },
          "name": "stdout",
          "output_type": "stream",
          "text": [
            "\u001b[2m\u001b[36m(DefaultActor pid=52555)\u001b[0m 32\n"
          ]
        },
        {
          "metadata": {
            "tags": null
          },
          "name": "stderr",
          "output_type": "stream",
          "text": [
            " 91%|█████████ | 29/32 [00:03<00:00,  5.73it/s]\u001b[32m [repeated 133x across cluster]\u001b[0m\n",
            "100%|██████████| 32/32 [00:04<00:00,  7.93it/s]\u001b[32m [repeated 8x across cluster]\u001b[0m\n",
            "  0%|          | 0/32 [00:00<?, ?it/s]\u001b[32m [repeated 8x across cluster]\u001b[0m\n",
            "  9%|▉         | 3/32 [00:00<00:03,  9.00it/s]\u001b[32m [repeated 158x across cluster]\u001b[0m\n",
            "100%|██████████| 32/32 [00:04<00:00,  6.67it/s]\u001b[32m [repeated 19x across cluster]\u001b[0m\n",
            "  0%|          | 0/32 [00:00<?, ?it/s]\u001b[32m [repeated 8x across cluster]\u001b[0m\n",
            " 53%|█████▎    | 17/32 [00:01<00:01, 10.83it/s]\u001b[32m [repeated 181x across cluster]\u001b[0m\n",
            "100%|██████████| 32/32 [00:03<00:00,  8.39it/s]\u001b[32m [repeated 15x across cluster]\u001b[0m\n",
            "  0%|          | 0/32 [00:00<?, ?it/s]\u001b[32m [repeated 7x across cluster]\u001b[0m\n",
            " 69%|██████▉   | 22/32 [00:02<00:01,  5.65it/s]\u001b[32m [repeated 151x across cluster]\u001b[0m\n",
            "100%|██████████| 32/32 [00:03<00:00,  9.23it/s]\u001b[32m [repeated 14x across cluster]\u001b[0m\n",
            "  0%|          | 0/32 [00:00<?, ?it/s]\u001b[32m [repeated 6x across cluster]\u001b[0m\n",
            " 81%|████████▏ | 26/32 [00:04<00:01,  5.14it/s]\u001b[32m [repeated 150x across cluster]\u001b[0m\n",
            "100%|██████████| 32/32 [00:04<00:00,  6.46it/s]\u001b[32m [repeated 15x across cluster]\u001b[0m\n",
            "  0%|          | 0/32 [00:00<?, ?it/s]\u001b[32m [repeated 6x across cluster]\u001b[0m\n",
            " 19%|█▉        | 6/32 [00:00<00:02,  8.95it/s]\u001b[32m [repeated 182x across cluster]\u001b[0m\n",
            "100%|██████████| 32/32 [00:03<00:00,  9.21it/s]\u001b[32m [repeated 22x across cluster]\u001b[0m\n",
            "  0%|          | 0/32 [00:00<?, ?it/s]\u001b[32m [repeated 11x across cluster]\u001b[0m\n",
            " 62%|██████▎   | 20/32 [00:02<00:01, 10.52it/s]\u001b[32m [repeated 179x across cluster]\u001b[0m\n",
            "100%|██████████| 32/32 [00:03<00:00,  8.28it/s]\u001b[32m [repeated 13x across cluster]\u001b[0m\n",
            "  0%|          | 0/32 [00:00<?, ?it/s]\u001b[32m [repeated 7x across cluster]\u001b[0m\n",
            " 62%|██████▎   | 20/32 [00:03<00:01,  6.86it/s]\u001b[32m [repeated 154x across cluster]\u001b[0m\n",
            "100%|██████████| 32/32 [00:04<00:00,  6.77it/s]\u001b[32m [repeated 16x across cluster]\u001b[0m\n",
            "  0%|          | 0/32 [00:00<?, ?it/s]\u001b[32m [repeated 6x across cluster]\u001b[0m\n"
          ]
        },
        {
          "metadata": {
            "tags": null
          },
          "name": "stdout",
          "output_type": "stream",
          "text": [
            "\u001b[2m\u001b[36m(DefaultActor pid=52555)\u001b[0m Accuracy của poisoned task: 0.00%\u001b[32m [repeated 3x across cluster]\u001b[0m\n",
            "\u001b[2m\u001b[36m(DefaultActor pid=52578)\u001b[0m 32\u001b[32m [repeated 6x across cluster]\u001b[0m\n"
          ]
        },
        {
          "metadata": {
            "tags": null
          },
          "name": "stderr",
          "output_type": "stream",
          "text": [
            " 91%|█████████ | 29/32 [00:02<00:00, 16.38it/s]\u001b[32m [repeated 121x across cluster]\u001b[0m\n",
            " 97%|█████████▋| 31/32 [00:02<00:00, 13.35it/s]\u001b[32m [repeated 18x across cluster]\u001b[0m\n",
            "  0%|          | 0/32 [00:00<?, ?it/s]\u001b[32m [repeated 5x across cluster]\u001b[0m\n",
            " 19%|█▉        | 6/32 [00:00<00:02, 10.47it/s]\u001b[32m [repeated 119x across cluster]\u001b[0m\n",
            "100%|██████████| 32/32 [00:02<00:00, 13.62it/s]\u001b[32m [repeated 17x across cluster]\u001b[0m\n",
            "  0%|          | 0/32 [00:00<?, ?it/s]\u001b[32m [repeated 11x across cluster]\u001b[0m\n",
            " 72%|███████▏  | 23/32 [00:02<00:01,  8.89it/s]\u001b[32m [repeated 125x across cluster]\u001b[0m\n",
            " 94%|█████████▍| 30/32 [00:03<00:00,  8.61it/s]\u001b[32m [repeated 9x across cluster]\u001b[0m\n",
            "  0%|          | 0/32 [00:00<?, ?it/s]\u001b[32m [repeated 4x across cluster]\u001b[0m\n",
            " 34%|███▍      | 11/32 [00:01<00:01, 11.95it/s]\u001b[32m [repeated 128x across cluster]\u001b[0m\n",
            "100%|██████████| 32/32 [00:01<00:00, 24.21it/s]\u001b[32m [repeated 15x across cluster]\u001b[0m\n",
            "  0%|          | 0/32 [00:00<?, ?it/s]\u001b[32m [repeated 9x across cluster]\u001b[0m\n",
            " 62%|██████▎   | 20/32 [00:01<00:00, 13.05it/s]\u001b[32m [repeated 117x across cluster]\u001b[0m\n",
            "100%|██████████| 32/32 [00:01<00:00, 16.27it/s]\u001b[32m [repeated 12x across cluster]\u001b[0m\n",
            "  0%|          | 0/32 [00:00<?, ?it/s]\u001b[32m [repeated 9x across cluster]\u001b[0m\n",
            "DEBUG flwr 2023-12-22 16:13:44,710 | server.py:236 | fit_round 4 received 10 results and 0 failures\n",
            "DEBUG:flwr:fit_round 4 received 10 results and 0 failures\n",
            "INFO flwr 2023-12-22 16:13:59,245 | server.py:125 | fit progress: (4, 23014.216059446335, {'accuracy': 0.0}, 805.8311987090001)\n",
            "INFO:flwr:fit progress: (4, 23014.216059446335, {'accuracy': 0.0}, 805.8311987090001)\n",
            "DEBUG flwr 2023-12-22 16:13:59,254 | server.py:173 | evaluate_round 4: strategy sampled 10 clients (out of 30)\n",
            "DEBUG:flwr:evaluate_round 4: strategy sampled 10 clients (out of 30)\n"
          ]
        },
        {
          "metadata": {
            "tags": null
          },
          "name": "stdout",
          "output_type": "stream",
          "text": [
            "Accuracy của poisoned task: 0.00%\n",
            "\u001b[2m\u001b[36m(DefaultActor pid=52507)\u001b[0m Accuracy của poisoned task: 0.00%\n",
            "\u001b[2m\u001b[36m(DefaultActor pid=52555)\u001b[0m 32\u001b[32m [repeated 3x across cluster]\u001b[0m\n",
            "\u001b[2m\u001b[36m(DefaultActor pid=52528)\u001b[0m Accuracy của poisoned task: 0.00%\n",
            "\u001b[2m\u001b[36m(DefaultActor pid=52507)\u001b[0m Accuracy của poisoned task: 0.00%\u001b[32m [repeated 5x across cluster]\u001b[0m\n"
          ]
        },
        {
          "metadata": {
            "tags": null
          },
          "name": "stderr",
          "output_type": "stream",
          "text": [
            "DEBUG flwr 2023-12-22 16:16:24,600 | server.py:187 | evaluate_round 4 received 10 results and 0 failures\n",
            "DEBUG:flwr:evaluate_round 4 received 10 results and 0 failures\n",
            "DEBUG flwr 2023-12-22 16:16:24,606 | server.py:222 | fit_round 5: strategy sampled 10 clients (out of 30)\n",
            "DEBUG:flwr:fit_round 5: strategy sampled 10 clients (out of 30)\n",
            " 84%|████████▍ | 27/32 [00:01<00:00, 27.30it/s]\u001b[32m [repeated 48x across cluster]\u001b[0m\n",
            "100%|██████████| 32/32 [00:01<00:00, 28.26it/s]\u001b[32m [repeated 9x across cluster]\u001b[0m\n",
            "  0%|          | 0/32 [00:00<?, ?it/s]\u001b[32m [repeated 3x across cluster]\u001b[0m\n"
          ]
        },
        {
          "metadata": {
            "tags": null
          },
          "name": "stdout",
          "output_type": "stream",
          "text": [
            "\u001b[2m\u001b[36m(DefaultActor pid=52633)\u001b[0m 32\n"
          ]
        },
        {
          "metadata": {
            "tags": null
          },
          "name": "stderr",
          "output_type": "stream",
          "text": [
            "  3%|▎         | 1/32 [00:00<00:03,  9.79it/s]\u001b[32m [repeated 148x across cluster]\u001b[0m\n",
            "100%|██████████| 32/32 [00:03<00:00,  8.52it/s]\u001b[32m [repeated 8x across cluster]\u001b[0m\n",
            "  0%|          | 0/32 [00:00<?, ?it/s]\u001b[32m [repeated 8x across cluster]\u001b[0m\n",
            " 91%|█████████ | 29/32 [00:03<00:00,  8.99it/s]\n",
            " 44%|████▍     | 14/32 [00:01<00:01,  9.57it/s]\u001b[32m [repeated 190x across cluster]\u001b[0m\n",
            "100%|██████████| 32/32 [00:03<00:00,  8.29it/s]\u001b[32m [repeated 16x across cluster]\u001b[0m\n",
            "  0%|          | 0/32 [00:00<?, ?it/s]\u001b[32m [repeated 9x across cluster]\u001b[0m\n",
            " 56%|█████▋    | 18/32 [00:03<00:02,  6.37it/s]\u001b[32m [repeated 164x across cluster]\u001b[0m\n",
            "100%|██████████| 32/32 [00:04<00:00,  7.62it/s]\u001b[32m [repeated 13x across cluster]\u001b[0m\n",
            "  0%|          | 0/32 [00:00<?, ?it/s]\u001b[32m [repeated 6x across cluster]\u001b[0m\n",
            " 75%|███████▌  | 24/32 [00:03<00:00, 10.33it/s]\u001b[32m [repeated 158x across cluster]\u001b[0m\n",
            "100%|██████████| 32/32 [00:02<00:00, 12.43it/s]\u001b[32m [repeated 18x across cluster]\u001b[0m\n",
            "  0%|          | 0/32 [00:00<?, ?it/s]\u001b[32m [repeated 7x across cluster]\u001b[0m\n",
            " 84%|████████▍ | 27/32 [00:03<00:00,  8.70it/s]\u001b[32m [repeated 172x across cluster]\u001b[0m\n",
            "100%|██████████| 32/32 [00:03<00:00,  8.57it/s]\u001b[32m [repeated 18x across cluster]\u001b[0m\n",
            "  0%|          | 0/32 [00:00<?, ?it/s]\u001b[32m [repeated 10x across cluster]\u001b[0m\n",
            "  6%|▋         | 2/32 [00:00<00:05,  5.85it/s]\u001b[32m [repeated 174x across cluster]\u001b[0m\n",
            "100%|██████████| 32/32 [00:04<00:00,  7.47it/s]\u001b[32m [repeated 14x across cluster]\u001b[0m\n",
            "  0%|          | 0/32 [00:00<?, ?it/s]\u001b[32m [repeated 7x across cluster]\u001b[0m\n",
            "  3%|▎         | 1/32 [00:00<00:04,  6.40it/s]\u001b[32m [repeated 159x across cluster]\u001b[0m\n",
            "100%|██████████| 32/32 [00:05<00:00,  6.10it/s]\u001b[32m [repeated 13x across cluster]\u001b[0m\n",
            "  0%|          | 0/32 [00:00<?, ?it/s]\u001b[32m [repeated 6x across cluster]\u001b[0m\n"
          ]
        },
        {
          "metadata": {
            "tags": null
          },
          "name": "stdout",
          "output_type": "stream",
          "text": [
            "\u001b[2m\u001b[36m(DefaultActor pid=52633)\u001b[0m Accuracy của poisoned task: 0.00%\u001b[32m [repeated 3x across cluster]\u001b[0m\n",
            "\u001b[2m\u001b[36m(DefaultActor pid=52555)\u001b[0m 32\u001b[32m [repeated 6x across cluster]\u001b[0m\n"
          ]
        },
        {
          "metadata": {
            "tags": null
          },
          "name": "stderr",
          "output_type": "stream",
          "text": [
            " 44%|████▍     | 14/32 [00:01<00:02,  8.30it/s]\u001b[32m [repeated 158x across cluster]\u001b[0m\n",
            "100%|██████████| 32/32 [00:03<00:00,  9.63it/s]\u001b[32m [repeated 15x across cluster]\u001b[0m\n",
            "  0%|          | 0/32 [00:00<?, ?it/s]\u001b[32m [repeated 7x across cluster]\u001b[0m\n",
            " 69%|██████▉   | 22/32 [00:01<00:01,  8.68it/s]\u001b[32m [repeated 105x across cluster]\u001b[0m\n",
            "100%|██████████| 32/32 [00:02<00:00, 10.70it/s]\u001b[32m [repeated 9x across cluster]\u001b[0m\n",
            "  0%|          | 0/32 [00:00<?, ?it/s]\u001b[32m [repeated 5x across cluster]\u001b[0m\n",
            " 28%|██▊       | 9/32 [00:00<00:01, 14.68it/s]\u001b[32m [repeated 100x across cluster]\u001b[0m\n",
            "100%|██████████| 32/32 [00:03<00:00,  9.24it/s]\u001b[32m [repeated 6x across cluster]\u001b[0m\n",
            "  0%|          | 0/32 [00:00<?, ?it/s]\u001b[32m [repeated 4x across cluster]\u001b[0m\n",
            "  6%|▋         | 2/32 [00:00<00:02, 10.12it/s]\u001b[32m [repeated 90x across cluster]\u001b[0m\n",
            "100%|██████████| 32/32 [00:02<00:00, 11.02it/s]\u001b[32m [repeated 13x across cluster]\u001b[0m\n",
            "  0%|          | 0/32 [00:00<?, ?it/s]\u001b[32m [repeated 8x across cluster]\u001b[0m\n",
            " 12%|█▎        | 4/32 [00:00<00:03,  9.32it/s]\u001b[32m [repeated 85x across cluster]\u001b[0m\n",
            " 94%|█████████▍| 30/32 [00:02<00:00,  9.80it/s]\u001b[32m [repeated 10x across cluster]\u001b[0m\n",
            "  0%|          | 0/32 [00:00<?, ?it/s]\u001b[32m [repeated 6x across cluster]\u001b[0m\n",
            " 62%|██████▎   | 20/32 [00:02<00:01,  7.61it/s]\u001b[32m [repeated 101x across cluster]\u001b[0m\n",
            "100%|██████████| 32/32 [00:03<00:00,  9.15it/s]\u001b[32m [repeated 6x across cluster]\u001b[0m\n",
            "  0%|          | 0/32 [00:00<?, ?it/s]\u001b[32m [repeated 4x across cluster]\u001b[0m\n"
          ]
        },
        {
          "output_type": "error",
          "ename": "KeyboardInterrupt",
          "evalue": "ignored",
          "traceback": [
            "\u001b[0;31m---------------------------------------------------------------------------\u001b[0m",
            "\u001b[0;31mKeyboardInterrupt\u001b[0m                         Traceback (most recent call last)",
            "\u001b[0;32m/usr/local/lib/python3.10/dist-packages/flwr/server/server.py\u001b[0m in \u001b[0;36mfit_clients\u001b[0;34m(client_instructions, max_workers, timeout)\u001b[0m\n\u001b[1;32m    336\u001b[0m         }\n\u001b[0;32m--> 337\u001b[0;31m         finished_fs, _ = concurrent.futures.wait(\n\u001b[0m\u001b[1;32m    338\u001b[0m             \u001b[0mfs\u001b[0m\u001b[0;34m=\u001b[0m\u001b[0msubmitted_fs\u001b[0m\u001b[0;34m,\u001b[0m\u001b[0;34m\u001b[0m\u001b[0;34m\u001b[0m\u001b[0m\n",
            "\u001b[0;32m/usr/lib/python3.10/concurrent/futures/_base.py\u001b[0m in \u001b[0;36mwait\u001b[0;34m(fs, timeout, return_when)\u001b[0m\n\u001b[1;32m    306\u001b[0m \u001b[0;34m\u001b[0m\u001b[0m\n\u001b[0;32m--> 307\u001b[0;31m     \u001b[0mwaiter\u001b[0m\u001b[0;34m.\u001b[0m\u001b[0mevent\u001b[0m\u001b[0;34m.\u001b[0m\u001b[0mwait\u001b[0m\u001b[0;34m(\u001b[0m\u001b[0mtimeout\u001b[0m\u001b[0;34m)\u001b[0m\u001b[0;34m\u001b[0m\u001b[0;34m\u001b[0m\u001b[0m\n\u001b[0m\u001b[1;32m    308\u001b[0m     \u001b[0;32mfor\u001b[0m \u001b[0mf\u001b[0m \u001b[0;32min\u001b[0m \u001b[0mfs\u001b[0m\u001b[0;34m:\u001b[0m\u001b[0;34m\u001b[0m\u001b[0;34m\u001b[0m\u001b[0m\n",
            "\u001b[0;32m/usr/lib/python3.10/threading.py\u001b[0m in \u001b[0;36mwait\u001b[0;34m(self, timeout)\u001b[0m\n\u001b[1;32m    606\u001b[0m             \u001b[0;32mif\u001b[0m \u001b[0;32mnot\u001b[0m \u001b[0msignaled\u001b[0m\u001b[0;34m:\u001b[0m\u001b[0;34m\u001b[0m\u001b[0;34m\u001b[0m\u001b[0m\n\u001b[0;32m--> 607\u001b[0;31m                 \u001b[0msignaled\u001b[0m \u001b[0;34m=\u001b[0m \u001b[0mself\u001b[0m\u001b[0;34m.\u001b[0m\u001b[0m_cond\u001b[0m\u001b[0;34m.\u001b[0m\u001b[0mwait\u001b[0m\u001b[0;34m(\u001b[0m\u001b[0mtimeout\u001b[0m\u001b[0;34m)\u001b[0m\u001b[0;34m\u001b[0m\u001b[0;34m\u001b[0m\u001b[0m\n\u001b[0m\u001b[1;32m    608\u001b[0m             \u001b[0;32mreturn\u001b[0m \u001b[0msignaled\u001b[0m\u001b[0;34m\u001b[0m\u001b[0;34m\u001b[0m\u001b[0m\n",
            "\u001b[0;32m/usr/lib/python3.10/threading.py\u001b[0m in \u001b[0;36mwait\u001b[0;34m(self, timeout)\u001b[0m\n\u001b[1;32m    319\u001b[0m             \u001b[0;32mif\u001b[0m \u001b[0mtimeout\u001b[0m \u001b[0;32mis\u001b[0m \u001b[0;32mNone\u001b[0m\u001b[0;34m:\u001b[0m\u001b[0;34m\u001b[0m\u001b[0;34m\u001b[0m\u001b[0m\n\u001b[0;32m--> 320\u001b[0;31m                 \u001b[0mwaiter\u001b[0m\u001b[0;34m.\u001b[0m\u001b[0macquire\u001b[0m\u001b[0;34m(\u001b[0m\u001b[0;34m)\u001b[0m\u001b[0;34m\u001b[0m\u001b[0;34m\u001b[0m\u001b[0m\n\u001b[0m\u001b[1;32m    321\u001b[0m                 \u001b[0mgotit\u001b[0m \u001b[0;34m=\u001b[0m \u001b[0;32mTrue\u001b[0m\u001b[0;34m\u001b[0m\u001b[0;34m\u001b[0m\u001b[0m\n",
            "\u001b[0;31mKeyboardInterrupt\u001b[0m: ",
            "\nDuring handling of the above exception, another exception occurred:\n",
            "\u001b[0;31mKeyboardInterrupt\u001b[0m                         Traceback (most recent call last)",
            "\u001b[0;32m<ipython-input-13-8ec78b5caade>\u001b[0m in \u001b[0;36m<cell line: 9>\u001b[0;34m()\u001b[0m\n\u001b[1;32m      7\u001b[0m \u001b[0mdisable_progress_bar\u001b[0m\u001b[0;34m(\u001b[0m\u001b[0;34m)\u001b[0m\u001b[0;34m\u001b[0m\u001b[0;34m\u001b[0m\u001b[0m\n\u001b[1;32m      8\u001b[0m \u001b[0;34m\u001b[0m\u001b[0m\n\u001b[0;32m----> 9\u001b[0;31m history = fl.simulation.start_simulation(\n\u001b[0m\u001b[1;32m     10\u001b[0m     \u001b[0mclient_fn\u001b[0m\u001b[0;34m=\u001b[0m\u001b[0mclient_fn_callback\u001b[0m\u001b[0;34m,\u001b[0m  \u001b[0;31m# a callback to construct a client\u001b[0m\u001b[0;34m\u001b[0m\u001b[0;34m\u001b[0m\u001b[0m\n\u001b[1;32m     11\u001b[0m     \u001b[0mnum_clients\u001b[0m\u001b[0;34m=\u001b[0m\u001b[0mNUM_CLIENTS\u001b[0m\u001b[0;34m,\u001b[0m  \u001b[0;31m# total number of clients in the experiment\u001b[0m\u001b[0;34m\u001b[0m\u001b[0;34m\u001b[0m\u001b[0m\n",
            "\u001b[0;32m/usr/local/lib/python3.10/dist-packages/flwr/simulation/app.py\u001b[0m in \u001b[0;36mstart_simulation\u001b[0;34m(client_fn, num_clients, clients_ids, client_resources, server, config, strategy, client_manager, ray_init_args, keep_initialised, actor_type, actor_kwargs, actor_scheduling)\u001b[0m\n\u001b[1;32m    306\u001b[0m     \u001b[0;32mtry\u001b[0m\u001b[0;34m:\u001b[0m\u001b[0;34m\u001b[0m\u001b[0;34m\u001b[0m\u001b[0m\n\u001b[1;32m    307\u001b[0m         \u001b[0;31m# Start training\u001b[0m\u001b[0;34m\u001b[0m\u001b[0;34m\u001b[0m\u001b[0m\n\u001b[0;32m--> 308\u001b[0;31m         hist = run_fl(\n\u001b[0m\u001b[1;32m    309\u001b[0m             \u001b[0mserver\u001b[0m\u001b[0;34m=\u001b[0m\u001b[0minitialized_server\u001b[0m\u001b[0;34m,\u001b[0m\u001b[0;34m\u001b[0m\u001b[0;34m\u001b[0m\u001b[0m\n\u001b[1;32m    310\u001b[0m             \u001b[0mconfig\u001b[0m\u001b[0;34m=\u001b[0m\u001b[0minitialized_config\u001b[0m\u001b[0;34m,\u001b[0m\u001b[0;34m\u001b[0m\u001b[0;34m\u001b[0m\u001b[0m\n",
            "\u001b[0;32m/usr/local/lib/python3.10/dist-packages/flwr/server/app.py\u001b[0m in \u001b[0;36mrun_fl\u001b[0;34m(server, config)\u001b[0m\n\u001b[1;32m    223\u001b[0m ) -> History:\n\u001b[1;32m    224\u001b[0m     \u001b[0;34m\"\"\"Train a model on the given server and return the History object.\"\"\"\u001b[0m\u001b[0;34m\u001b[0m\u001b[0;34m\u001b[0m\u001b[0m\n\u001b[0;32m--> 225\u001b[0;31m     \u001b[0mhist\u001b[0m \u001b[0;34m=\u001b[0m \u001b[0mserver\u001b[0m\u001b[0;34m.\u001b[0m\u001b[0mfit\u001b[0m\u001b[0;34m(\u001b[0m\u001b[0mnum_rounds\u001b[0m\u001b[0;34m=\u001b[0m\u001b[0mconfig\u001b[0m\u001b[0;34m.\u001b[0m\u001b[0mnum_rounds\u001b[0m\u001b[0;34m,\u001b[0m \u001b[0mtimeout\u001b[0m\u001b[0;34m=\u001b[0m\u001b[0mconfig\u001b[0m\u001b[0;34m.\u001b[0m\u001b[0mround_timeout\u001b[0m\u001b[0;34m)\u001b[0m\u001b[0;34m\u001b[0m\u001b[0;34m\u001b[0m\u001b[0m\n\u001b[0m\u001b[1;32m    226\u001b[0m     \u001b[0mlog\u001b[0m\u001b[0;34m(\u001b[0m\u001b[0mINFO\u001b[0m\u001b[0;34m,\u001b[0m \u001b[0;34m\"app_fit: losses_distributed %s\"\u001b[0m\u001b[0;34m,\u001b[0m \u001b[0mstr\u001b[0m\u001b[0;34m(\u001b[0m\u001b[0mhist\u001b[0m\u001b[0;34m.\u001b[0m\u001b[0mlosses_distributed\u001b[0m\u001b[0;34m)\u001b[0m\u001b[0;34m)\u001b[0m\u001b[0;34m\u001b[0m\u001b[0;34m\u001b[0m\u001b[0m\n\u001b[1;32m    227\u001b[0m     \u001b[0mlog\u001b[0m\u001b[0;34m(\u001b[0m\u001b[0mINFO\u001b[0m\u001b[0;34m,\u001b[0m \u001b[0;34m\"app_fit: metrics_distributed_fit %s\"\u001b[0m\u001b[0;34m,\u001b[0m \u001b[0mstr\u001b[0m\u001b[0;34m(\u001b[0m\u001b[0mhist\u001b[0m\u001b[0;34m.\u001b[0m\u001b[0mmetrics_distributed_fit\u001b[0m\u001b[0;34m)\u001b[0m\u001b[0;34m)\u001b[0m\u001b[0;34m\u001b[0m\u001b[0;34m\u001b[0m\u001b[0m\n",
            "\u001b[0;32m/usr/local/lib/python3.10/dist-packages/flwr/server/server.py\u001b[0m in \u001b[0;36mfit\u001b[0;34m(self, num_rounds, timeout)\u001b[0m\n\u001b[1;32m    107\u001b[0m         \u001b[0;32mfor\u001b[0m \u001b[0mcurrent_round\u001b[0m \u001b[0;32min\u001b[0m \u001b[0mrange\u001b[0m\u001b[0;34m(\u001b[0m\u001b[0;36m1\u001b[0m\u001b[0;34m,\u001b[0m \u001b[0mnum_rounds\u001b[0m \u001b[0;34m+\u001b[0m \u001b[0;36m1\u001b[0m\u001b[0;34m)\u001b[0m\u001b[0;34m:\u001b[0m\u001b[0;34m\u001b[0m\u001b[0;34m\u001b[0m\u001b[0m\n\u001b[1;32m    108\u001b[0m             \u001b[0;31m# Train model and replace previous global model\u001b[0m\u001b[0;34m\u001b[0m\u001b[0;34m\u001b[0m\u001b[0m\n\u001b[0;32m--> 109\u001b[0;31m             res_fit = self.fit_round(\n\u001b[0m\u001b[1;32m    110\u001b[0m                 \u001b[0mserver_round\u001b[0m\u001b[0;34m=\u001b[0m\u001b[0mcurrent_round\u001b[0m\u001b[0;34m,\u001b[0m\u001b[0;34m\u001b[0m\u001b[0;34m\u001b[0m\u001b[0m\n\u001b[1;32m    111\u001b[0m                 \u001b[0mtimeout\u001b[0m\u001b[0;34m=\u001b[0m\u001b[0mtimeout\u001b[0m\u001b[0;34m,\u001b[0m\u001b[0;34m\u001b[0m\u001b[0;34m\u001b[0m\u001b[0m\n",
            "\u001b[0;32m/usr/local/lib/python3.10/dist-packages/flwr/server/server.py\u001b[0m in \u001b[0;36mfit_round\u001b[0;34m(self, server_round, timeout)\u001b[0m\n\u001b[1;32m    229\u001b[0m \u001b[0;34m\u001b[0m\u001b[0m\n\u001b[1;32m    230\u001b[0m         \u001b[0;31m# Collect `fit` results from all clients participating in this round\u001b[0m\u001b[0;34m\u001b[0m\u001b[0;34m\u001b[0m\u001b[0m\n\u001b[0;32m--> 231\u001b[0;31m         results, failures = fit_clients(\n\u001b[0m\u001b[1;32m    232\u001b[0m             \u001b[0mclient_instructions\u001b[0m\u001b[0;34m=\u001b[0m\u001b[0mclient_instructions\u001b[0m\u001b[0;34m,\u001b[0m\u001b[0;34m\u001b[0m\u001b[0;34m\u001b[0m\u001b[0m\n\u001b[1;32m    233\u001b[0m             \u001b[0mmax_workers\u001b[0m\u001b[0;34m=\u001b[0m\u001b[0mself\u001b[0m\u001b[0;34m.\u001b[0m\u001b[0mmax_workers\u001b[0m\u001b[0;34m,\u001b[0m\u001b[0;34m\u001b[0m\u001b[0;34m\u001b[0m\u001b[0m\n",
            "\u001b[0;32m/usr/local/lib/python3.10/dist-packages/flwr/server/server.py\u001b[0m in \u001b[0;36mfit_clients\u001b[0;34m(client_instructions, max_workers, timeout)\u001b[0m\n\u001b[1;32m    330\u001b[0m ) -> FitResultsAndFailures:\n\u001b[1;32m    331\u001b[0m     \u001b[0;34m\"\"\"Refine parameters concurrently on all selected clients.\"\"\"\u001b[0m\u001b[0;34m\u001b[0m\u001b[0;34m\u001b[0m\u001b[0m\n\u001b[0;32m--> 332\u001b[0;31m     \u001b[0;32mwith\u001b[0m \u001b[0mconcurrent\u001b[0m\u001b[0;34m.\u001b[0m\u001b[0mfutures\u001b[0m\u001b[0;34m.\u001b[0m\u001b[0mThreadPoolExecutor\u001b[0m\u001b[0;34m(\u001b[0m\u001b[0mmax_workers\u001b[0m\u001b[0;34m=\u001b[0m\u001b[0mmax_workers\u001b[0m\u001b[0;34m)\u001b[0m \u001b[0;32mas\u001b[0m \u001b[0mexecutor\u001b[0m\u001b[0;34m:\u001b[0m\u001b[0;34m\u001b[0m\u001b[0;34m\u001b[0m\u001b[0m\n\u001b[0m\u001b[1;32m    333\u001b[0m         submitted_fs = {\n\u001b[1;32m    334\u001b[0m             \u001b[0mexecutor\u001b[0m\u001b[0;34m.\u001b[0m\u001b[0msubmit\u001b[0m\u001b[0;34m(\u001b[0m\u001b[0mfit_client\u001b[0m\u001b[0;34m,\u001b[0m \u001b[0mclient_proxy\u001b[0m\u001b[0;34m,\u001b[0m \u001b[0mins\u001b[0m\u001b[0;34m,\u001b[0m \u001b[0mtimeout\u001b[0m\u001b[0;34m)\u001b[0m\u001b[0;34m\u001b[0m\u001b[0;34m\u001b[0m\u001b[0m\n",
            "\u001b[0;32m/usr/lib/python3.10/concurrent/futures/_base.py\u001b[0m in \u001b[0;36m__exit__\u001b[0;34m(self, exc_type, exc_val, exc_tb)\u001b[0m\n\u001b[1;32m    647\u001b[0m \u001b[0;34m\u001b[0m\u001b[0m\n\u001b[1;32m    648\u001b[0m     \u001b[0;32mdef\u001b[0m \u001b[0m__exit__\u001b[0m\u001b[0;34m(\u001b[0m\u001b[0mself\u001b[0m\u001b[0;34m,\u001b[0m \u001b[0mexc_type\u001b[0m\u001b[0;34m,\u001b[0m \u001b[0mexc_val\u001b[0m\u001b[0;34m,\u001b[0m \u001b[0mexc_tb\u001b[0m\u001b[0;34m)\u001b[0m\u001b[0;34m:\u001b[0m\u001b[0;34m\u001b[0m\u001b[0;34m\u001b[0m\u001b[0m\n\u001b[0;32m--> 649\u001b[0;31m         \u001b[0mself\u001b[0m\u001b[0;34m.\u001b[0m\u001b[0mshutdown\u001b[0m\u001b[0;34m(\u001b[0m\u001b[0mwait\u001b[0m\u001b[0;34m=\u001b[0m\u001b[0;32mTrue\u001b[0m\u001b[0;34m)\u001b[0m\u001b[0;34m\u001b[0m\u001b[0;34m\u001b[0m\u001b[0m\n\u001b[0m\u001b[1;32m    650\u001b[0m         \u001b[0;32mreturn\u001b[0m \u001b[0;32mFalse\u001b[0m\u001b[0;34m\u001b[0m\u001b[0;34m\u001b[0m\u001b[0m\n\u001b[1;32m    651\u001b[0m \u001b[0;34m\u001b[0m\u001b[0m\n",
            "\u001b[0;32m/usr/lib/python3.10/concurrent/futures/thread.py\u001b[0m in \u001b[0;36mshutdown\u001b[0;34m(self, wait, cancel_futures)\u001b[0m\n\u001b[1;32m    233\u001b[0m         \u001b[0;32mif\u001b[0m \u001b[0mwait\u001b[0m\u001b[0;34m:\u001b[0m\u001b[0;34m\u001b[0m\u001b[0;34m\u001b[0m\u001b[0m\n\u001b[1;32m    234\u001b[0m             \u001b[0;32mfor\u001b[0m \u001b[0mt\u001b[0m \u001b[0;32min\u001b[0m \u001b[0mself\u001b[0m\u001b[0;34m.\u001b[0m\u001b[0m_threads\u001b[0m\u001b[0;34m:\u001b[0m\u001b[0;34m\u001b[0m\u001b[0;34m\u001b[0m\u001b[0m\n\u001b[0;32m--> 235\u001b[0;31m                 \u001b[0mt\u001b[0m\u001b[0;34m.\u001b[0m\u001b[0mjoin\u001b[0m\u001b[0;34m(\u001b[0m\u001b[0;34m)\u001b[0m\u001b[0;34m\u001b[0m\u001b[0;34m\u001b[0m\u001b[0m\n\u001b[0m\u001b[1;32m    236\u001b[0m     \u001b[0mshutdown\u001b[0m\u001b[0;34m.\u001b[0m\u001b[0m__doc__\u001b[0m \u001b[0;34m=\u001b[0m \u001b[0m_base\u001b[0m\u001b[0;34m.\u001b[0m\u001b[0mExecutor\u001b[0m\u001b[0;34m.\u001b[0m\u001b[0mshutdown\u001b[0m\u001b[0;34m.\u001b[0m\u001b[0m__doc__\u001b[0m\u001b[0;34m\u001b[0m\u001b[0;34m\u001b[0m\u001b[0m\n",
            "\u001b[0;32m/usr/lib/python3.10/threading.py\u001b[0m in \u001b[0;36mjoin\u001b[0;34m(self, timeout)\u001b[0m\n\u001b[1;32m   1094\u001b[0m \u001b[0;34m\u001b[0m\u001b[0m\n\u001b[1;32m   1095\u001b[0m         \u001b[0;32mif\u001b[0m \u001b[0mtimeout\u001b[0m \u001b[0;32mis\u001b[0m \u001b[0;32mNone\u001b[0m\u001b[0;34m:\u001b[0m\u001b[0;34m\u001b[0m\u001b[0;34m\u001b[0m\u001b[0m\n\u001b[0;32m-> 1096\u001b[0;31m             \u001b[0mself\u001b[0m\u001b[0;34m.\u001b[0m\u001b[0m_wait_for_tstate_lock\u001b[0m\u001b[0;34m(\u001b[0m\u001b[0;34m)\u001b[0m\u001b[0;34m\u001b[0m\u001b[0;34m\u001b[0m\u001b[0m\n\u001b[0m\u001b[1;32m   1097\u001b[0m         \u001b[0;32melse\u001b[0m\u001b[0;34m:\u001b[0m\u001b[0;34m\u001b[0m\u001b[0;34m\u001b[0m\u001b[0m\n\u001b[1;32m   1098\u001b[0m             \u001b[0;31m# the behavior of a negative timeout isn't documented, but\u001b[0m\u001b[0;34m\u001b[0m\u001b[0;34m\u001b[0m\u001b[0m\n",
            "\u001b[0;32m/usr/lib/python3.10/threading.py\u001b[0m in \u001b[0;36m_wait_for_tstate_lock\u001b[0;34m(self, block, timeout)\u001b[0m\n\u001b[1;32m   1114\u001b[0m \u001b[0;34m\u001b[0m\u001b[0m\n\u001b[1;32m   1115\u001b[0m         \u001b[0;32mtry\u001b[0m\u001b[0;34m:\u001b[0m\u001b[0;34m\u001b[0m\u001b[0;34m\u001b[0m\u001b[0m\n\u001b[0;32m-> 1116\u001b[0;31m             \u001b[0;32mif\u001b[0m \u001b[0mlock\u001b[0m\u001b[0;34m.\u001b[0m\u001b[0macquire\u001b[0m\u001b[0;34m(\u001b[0m\u001b[0mblock\u001b[0m\u001b[0;34m,\u001b[0m \u001b[0mtimeout\u001b[0m\u001b[0;34m)\u001b[0m\u001b[0;34m:\u001b[0m\u001b[0;34m\u001b[0m\u001b[0;34m\u001b[0m\u001b[0m\n\u001b[0m\u001b[1;32m   1117\u001b[0m                 \u001b[0mlock\u001b[0m\u001b[0;34m.\u001b[0m\u001b[0mrelease\u001b[0m\u001b[0;34m(\u001b[0m\u001b[0;34m)\u001b[0m\u001b[0;34m\u001b[0m\u001b[0;34m\u001b[0m\u001b[0m\n\u001b[1;32m   1118\u001b[0m                 \u001b[0mself\u001b[0m\u001b[0;34m.\u001b[0m\u001b[0m_stop\u001b[0m\u001b[0;34m(\u001b[0m\u001b[0;34m)\u001b[0m\u001b[0;34m\u001b[0m\u001b[0;34m\u001b[0m\u001b[0m\n",
            "\u001b[0;31mKeyboardInterrupt\u001b[0m: "
          ]
        }
      ],
      "source": [
        "from datasets.utils.logging import disable_progress_bar\n",
        "# With a dictionary, you tell Flower's VirtualClientEngine that each\n",
        "# client needs exclusive access to these many resources in order to run\n",
        "client_resources = {\"num_cpus\": 0.2, \"num_gpus\": 0.1}\n",
        "\n",
        "# Let's disable tqdm progress bar in the main thread (used by the server)\n",
        "disable_progress_bar()\n",
        "\n",
        "history = fl.simulation.start_simulation(\n",
        "    client_fn=client_fn_callback,  # a callback to construct a client\n",
        "    num_clients=NUM_CLIENTS,  # total number of clients in the experiment\n",
        "    config=fl.server.ServerConfig(num_rounds=20),  # let's run for 10 rounds\n",
        "    strategy=strategy,  # the strategy that will orchestrate the whole FL pipeline\n",
        "    client_resources=client_resources,\n",
        "    actor_kwargs={\n",
        "        \"on_actor_init_fn\": disable_progress_bar  # disable tqdm on each actor/process spawning virtual clients\n",
        "    },\n",
        ")"
      ]
    },
    {
      "cell_type": "markdown",
      "metadata": {
        "id": "daEugtD4U6ty"
      },
      "source": [
        "Doing 10 rounds should take less than 2 minutes on a CPU-only Colab instance <-- Flower Simulation is fast! 🚀\n",
        "\n",
        "You can then use the resturned `History` object to either save the results to disk or do some visualisation (or both of course, or neither if you like chaos). Below you can see how you can plot the centralised accuracy obtainined at the end of each round (including at the very beginning of the experiment) for the _global model_. This is want the function `evaluate_fn()` that we passed to the strategy reports."
      ]
    },
    {
      "cell_type": "code",
      "execution_count": null,
      "metadata": {
        "id": "zjF9BiGVU6ty"
      },
      "outputs": [],
      "source": [
        "import matplotlib.pyplot as plt\n",
        "\n",
        "print(f\"{history.metrics_centralized = }\")\n",
        "\n",
        "global_accuracy_centralised = history.metrics_centralized[\"accuracy\"]\n",
        "round = [data[0] for data in global_accuracy_centralised]\n",
        "acc = [100.0 * data[1] for data in global_accuracy_centralised]\n",
        "plt.plot(round, acc)\n",
        "plt.grid()\n",
        "plt.ylabel(\"Accuracy (%)\")\n",
        "plt.xlabel(\"Round\")\n",
        "plt.title(\"MNIST - IID - 100 clients with 10 clients per round\")"
      ]
    },
    {
      "cell_type": "markdown",
      "metadata": {
        "id": "l4Ve2MZ3U6ty"
      },
      "source": [
        "Congratulations! With that, you built a Flower client, customized it's instantiation through the `client_fn`, customized the server-side execution through a `FedAvg` strategy configured for this workload, and started a simulation with 100 clients (each holding their own individual partition of the MNIST dataset).\n",
        "\n",
        "Next, you can continue to explore more advanced Flower topics:\n",
        "\n",
        "- Deploy server and clients on different machines using `start_server` and `start_client`\n",
        "- Customize the server-side execution through custom strategies\n",
        "- Customize the client-side execution through `config` dictionaries\n",
        "\n",
        "Get all resources you need!\n",
        "\n",
        "* **[DOCS]** Our complete documenation: https://flower.dev/docs/\n",
        "* **[Examples]** All Flower examples: https://flower.dev/docs/examples/\n",
        "* **[VIDEO]** Our Youtube channel: https://www.youtube.com/@flowerlabs\n",
        "\n",
        "Don't forget to join our Slack channel: https://flower.dev/join-slack/\n"
      ]
    }
  ],
  "metadata": {
    "colab": {
      "provenance": [],
      "gpuType": "T4",
      "include_colab_link": true
    },
    "kernelspec": {
      "display_name": "Python 3",
      "name": "python3"
    },
    "language_info": {
      "codemirror_mode": {
        "name": "ipython",
        "version": 3
      },
      "file_extension": ".py",
      "mimetype": "text/x-python",
      "name": "python",
      "nbconvert_exporter": "python",
      "pygments_lexer": "ipython3",
      "version": "3.9.0"
    },
    "accelerator": "GPU"
  },
  "nbformat": 4,
  "nbformat_minor": 0
}