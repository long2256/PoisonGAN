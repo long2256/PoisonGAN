{
  "cells": [
    {
      "cell_type": "markdown",
      "metadata": {
        "id": "view-in-github",
        "colab_type": "text"
      },
      "source": [
        "<a href=\"https://colab.research.google.com/github/long2256/PoisonGAN/blob/main/sim_v0_8_6.ipynb\" target=\"_parent\"><img src=\"https://colab.research.google.com/assets/colab-badge.svg\" alt=\"Open In Colab\"/></a>"
      ]
    },
    {
      "cell_type": "markdown",
      "metadata": {
        "id": "P6OO7NbKtiy3"
      },
      "source": [
        "# Environment Setup\n",
        "\n",
        "To start working with Flower, very little is required once you have activated your Python environment (e.g. via `conda`, `virtualenv`, `pyenv`, etc). If you are running this code on Colab, there is really nothing to do except to install Flower and other dependencies. The steps below have been verified to run in Colab.\n",
        "\n",
        "## Installing Flower\n",
        "\n",
        "You can install flower very conveniently from `pip`:"
      ]
    },
    {
      "cell_type": "code",
      "execution_count": null,
      "metadata": {
        "colab": {
          "base_uri": "https://localhost:8080/"
        },
        "id": "zNTidNXQtiy6",
        "outputId": "541ca4ca-003d-4b88-9f0c-c4a3e187a483"
      },
      "outputs": [
        {
          "output_type": "stream",
          "name": "stdout",
          "text": [
            "\u001b[2K     \u001b[90m━━━━━━━━━━━━━━━━━━━━━━━━━━━━━━━━━━━━━━━━\u001b[0m \u001b[32m219.2/219.2 kB\u001b[0m \u001b[31m3.3 MB/s\u001b[0m eta \u001b[36m0:00:00\u001b[0m\n",
            "\u001b[2K     \u001b[90m━━━━━━━━━━━━━━━━━━━━━━━━━━━━━━━━━━━━━━━━\u001b[0m \u001b[32m2.1/2.1 MB\u001b[0m \u001b[31m11.7 MB/s\u001b[0m eta \u001b[36m0:00:00\u001b[0m\n",
            "\u001b[2K     \u001b[90m━━━━━━━━━━━━━━━━━━━━━━━━━━━━━━━━━━━━━━━━\u001b[0m \u001b[32m56.9/56.9 MB\u001b[0m \u001b[31m11.0 MB/s\u001b[0m eta \u001b[36m0:00:00\u001b[0m\n",
            "\u001b[?25hCollecting flwr_datasets[vision]\n",
            "  Downloading flwr_datasets-0.0.2-py3-none-any.whl (22 kB)\n",
            "Collecting datasets<3.0.0,>=2.14.3 (from flwr_datasets[vision])\n",
            "  Downloading datasets-2.16.1-py3-none-any.whl (507 kB)\n",
            "\u001b[2K     \u001b[90m━━━━━━━━━━━━━━━━━━━━━━━━━━━━━━━━━━━━━━━━\u001b[0m \u001b[32m507.1/507.1 kB\u001b[0m \u001b[31m11.4 MB/s\u001b[0m eta \u001b[36m0:00:00\u001b[0m\n",
            "\u001b[?25hRequirement already satisfied: numpy<2.0.0,>=1.21.0 in /usr/local/lib/python3.10/dist-packages (from flwr_datasets[vision]) (1.23.5)\n",
            "Requirement already satisfied: pillow>=6.2.1 in /usr/local/lib/python3.10/dist-packages (from flwr_datasets[vision]) (9.4.0)\n",
            "Requirement already satisfied: filelock in /usr/local/lib/python3.10/dist-packages (from datasets<3.0.0,>=2.14.3->flwr_datasets[vision]) (3.13.1)\n",
            "Requirement already satisfied: pyarrow>=8.0.0 in /usr/local/lib/python3.10/dist-packages (from datasets<3.0.0,>=2.14.3->flwr_datasets[vision]) (10.0.1)\n",
            "Collecting pyarrow-hotfix (from datasets<3.0.0,>=2.14.3->flwr_datasets[vision])\n",
            "  Downloading pyarrow_hotfix-0.6-py3-none-any.whl (7.9 kB)\n",
            "Collecting dill<0.3.8,>=0.3.0 (from datasets<3.0.0,>=2.14.3->flwr_datasets[vision])\n",
            "  Downloading dill-0.3.7-py3-none-any.whl (115 kB)\n",
            "\u001b[2K     \u001b[90m━━━━━━━━━━━━━━━━━━━━━━━━━━━━━━━━━━━━━━━━\u001b[0m \u001b[32m115.3/115.3 kB\u001b[0m \u001b[31m16.9 MB/s\u001b[0m eta \u001b[36m0:00:00\u001b[0m\n",
            "\u001b[?25hRequirement already satisfied: pandas in /usr/local/lib/python3.10/dist-packages (from datasets<3.0.0,>=2.14.3->flwr_datasets[vision]) (1.5.3)\n",
            "Requirement already satisfied: requests>=2.19.0 in /usr/local/lib/python3.10/dist-packages (from datasets<3.0.0,>=2.14.3->flwr_datasets[vision]) (2.31.0)\n",
            "Requirement already satisfied: tqdm>=4.62.1 in /usr/local/lib/python3.10/dist-packages (from datasets<3.0.0,>=2.14.3->flwr_datasets[vision]) (4.66.1)\n",
            "Requirement already satisfied: xxhash in /usr/local/lib/python3.10/dist-packages (from datasets<3.0.0,>=2.14.3->flwr_datasets[vision]) (3.4.1)\n",
            "Collecting multiprocess (from datasets<3.0.0,>=2.14.3->flwr_datasets[vision])\n",
            "  Downloading multiprocess-0.70.15-py310-none-any.whl (134 kB)\n",
            "\u001b[2K     \u001b[90m━━━━━━━━━━━━━━━━━━━━━━━━━━━━━━━━━━━━━━━━\u001b[0m \u001b[32m134.8/134.8 kB\u001b[0m \u001b[31m19.1 MB/s\u001b[0m eta \u001b[36m0:00:00\u001b[0m\n",
            "\u001b[?25hRequirement already satisfied: fsspec[http]<=2023.10.0,>=2023.1.0 in /usr/local/lib/python3.10/dist-packages (from datasets<3.0.0,>=2.14.3->flwr_datasets[vision]) (2023.6.0)\n",
            "Requirement already satisfied: aiohttp in /usr/local/lib/python3.10/dist-packages (from datasets<3.0.0,>=2.14.3->flwr_datasets[vision]) (3.9.1)\n",
            "Requirement already satisfied: huggingface-hub>=0.19.4 in /usr/local/lib/python3.10/dist-packages (from datasets<3.0.0,>=2.14.3->flwr_datasets[vision]) (0.20.1)\n",
            "Requirement already satisfied: packaging in /usr/local/lib/python3.10/dist-packages (from datasets<3.0.0,>=2.14.3->flwr_datasets[vision]) (23.2)\n",
            "Requirement already satisfied: pyyaml>=5.1 in /usr/local/lib/python3.10/dist-packages (from datasets<3.0.0,>=2.14.3->flwr_datasets[vision]) (6.0.1)\n",
            "Requirement already satisfied: attrs>=17.3.0 in /usr/local/lib/python3.10/dist-packages (from aiohttp->datasets<3.0.0,>=2.14.3->flwr_datasets[vision]) (23.1.0)\n",
            "Requirement already satisfied: multidict<7.0,>=4.5 in /usr/local/lib/python3.10/dist-packages (from aiohttp->datasets<3.0.0,>=2.14.3->flwr_datasets[vision]) (6.0.4)\n",
            "Requirement already satisfied: yarl<2.0,>=1.0 in /usr/local/lib/python3.10/dist-packages (from aiohttp->datasets<3.0.0,>=2.14.3->flwr_datasets[vision]) (1.9.4)\n",
            "Requirement already satisfied: frozenlist>=1.1.1 in /usr/local/lib/python3.10/dist-packages (from aiohttp->datasets<3.0.0,>=2.14.3->flwr_datasets[vision]) (1.4.1)\n",
            "Requirement already satisfied: aiosignal>=1.1.2 in /usr/local/lib/python3.10/dist-packages (from aiohttp->datasets<3.0.0,>=2.14.3->flwr_datasets[vision]) (1.3.1)\n",
            "Requirement already satisfied: async-timeout<5.0,>=4.0 in /usr/local/lib/python3.10/dist-packages (from aiohttp->datasets<3.0.0,>=2.14.3->flwr_datasets[vision]) (4.0.3)\n",
            "Requirement already satisfied: typing-extensions>=3.7.4.3 in /usr/local/lib/python3.10/dist-packages (from huggingface-hub>=0.19.4->datasets<3.0.0,>=2.14.3->flwr_datasets[vision]) (4.5.0)\n",
            "Requirement already satisfied: charset-normalizer<4,>=2 in /usr/local/lib/python3.10/dist-packages (from requests>=2.19.0->datasets<3.0.0,>=2.14.3->flwr_datasets[vision]) (3.3.2)\n",
            "Requirement already satisfied: idna<4,>=2.5 in /usr/local/lib/python3.10/dist-packages (from requests>=2.19.0->datasets<3.0.0,>=2.14.3->flwr_datasets[vision]) (3.6)\n",
            "Requirement already satisfied: urllib3<3,>=1.21.1 in /usr/local/lib/python3.10/dist-packages (from requests>=2.19.0->datasets<3.0.0,>=2.14.3->flwr_datasets[vision]) (2.0.7)\n",
            "Requirement already satisfied: certifi>=2017.4.17 in /usr/local/lib/python3.10/dist-packages (from requests>=2.19.0->datasets<3.0.0,>=2.14.3->flwr_datasets[vision]) (2023.11.17)\n",
            "Requirement already satisfied: python-dateutil>=2.8.1 in /usr/local/lib/python3.10/dist-packages (from pandas->datasets<3.0.0,>=2.14.3->flwr_datasets[vision]) (2.8.2)\n",
            "Requirement already satisfied: pytz>=2020.1 in /usr/local/lib/python3.10/dist-packages (from pandas->datasets<3.0.0,>=2.14.3->flwr_datasets[vision]) (2023.3.post1)\n",
            "Requirement already satisfied: six>=1.5 in /usr/local/lib/python3.10/dist-packages (from python-dateutil>=2.8.1->pandas->datasets<3.0.0,>=2.14.3->flwr_datasets[vision]) (1.16.0)\n",
            "Installing collected packages: pyarrow-hotfix, dill, multiprocess, datasets, flwr_datasets\n",
            "Successfully installed datasets-2.16.1 dill-0.3.7 flwr_datasets-0.0.2 multiprocess-0.70.15 pyarrow-hotfix-0.6\n"
          ]
        }
      ],
      "source": [
        "# depending on your shell, you might need to add `\\` before `[` and `]`.\n",
        "!pip install -q flwr[simulation]\n",
        "!pip install flwr_datasets[vision]"
      ]
    },
    {
      "cell_type": "markdown",
      "metadata": {
        "id": "KiFta0fOtiy7"
      },
      "source": [
        "We will be using the _simulation_ mode in Flower, which allows you to run a large number of clients without the overheads of manually managing devices. This is achieved via the [Virtual Client Engine](https://flower.dev/docs/framework/how-to-run-simulations.html) in Flower. With simulation, you can dynamically scale your experiments whether you run the code on your laptop, a machine with a single GPU, a server with multiple GPUs os even on a cluster with multiple servers. The `Virtual Client Engine` handles everything transparently and it allows you to specify how many resources (e.g. CPU cores, GPU VRAM) should be assigned to each virtual client."
      ]
    },
    {
      "cell_type": "markdown",
      "metadata": {
        "id": "r7HUDxf1tiy8"
      },
      "source": [
        "\n",
        "Flower is agnostic to your choice of ML Framework. Flower works with `PyTorch`, `Tensorflow`, `NumPy`, `🤗 Transformers`, `MXNet`, `JAX`, `scikit-learn`, `fastai`, `Pandas`. Flower also supports all major platforms: `iOS`, `Android` and plain `C++`. You can find a _quickstart-_ example for each of the above in the [Flower Repository](https://github.com/adap/flower/tree/main/examples) inside the `examples/` directory.\n",
        "\n",
        "In this tutorial we are going to use PyTorch, it comes pre-installed in your Collab runtime so there is no need to installed it again. If you wouuld like to install another version, you can still do that in the same way other packages are installed via `!pip`"
      ]
    },
    {
      "cell_type": "markdown",
      "metadata": {
        "id": "Wzeaa9fhtiy8"
      },
      "source": [
        "We are going to install some other dependencies you are likely familiar with. Let's install `maplotlib` to plot our results at the end."
      ]
    },
    {
      "cell_type": "code",
      "execution_count": null,
      "metadata": {
        "colab": {
          "base_uri": "https://localhost:8080/"
        },
        "outputId": "258c8d61-9355-4e74-ec80-a01c83007bfc",
        "id": "WXOcHlPPtiy8"
      },
      "outputs": [
        {
          "output_type": "stream",
          "name": "stdout",
          "text": [
            "Requirement already satisfied: matplotlib in /usr/local/lib/python3.10/dist-packages (3.7.1)\n",
            "Requirement already satisfied: contourpy>=1.0.1 in /usr/local/lib/python3.10/dist-packages (from matplotlib) (1.2.0)\n",
            "Requirement already satisfied: cycler>=0.10 in /usr/local/lib/python3.10/dist-packages (from matplotlib) (0.12.1)\n",
            "Requirement already satisfied: fonttools>=4.22.0 in /usr/local/lib/python3.10/dist-packages (from matplotlib) (4.47.0)\n",
            "Requirement already satisfied: kiwisolver>=1.0.1 in /usr/local/lib/python3.10/dist-packages (from matplotlib) (1.4.5)\n",
            "Requirement already satisfied: numpy>=1.20 in /usr/local/lib/python3.10/dist-packages (from matplotlib) (1.23.5)\n",
            "Requirement already satisfied: packaging>=20.0 in /usr/local/lib/python3.10/dist-packages (from matplotlib) (23.2)\n",
            "Requirement already satisfied: pillow>=6.2.0 in /usr/local/lib/python3.10/dist-packages (from matplotlib) (9.4.0)\n",
            "Requirement already satisfied: pyparsing>=2.3.1 in /usr/local/lib/python3.10/dist-packages (from matplotlib) (3.1.1)\n",
            "Requirement already satisfied: python-dateutil>=2.7 in /usr/local/lib/python3.10/dist-packages (from matplotlib) (2.8.2)\n",
            "Requirement already satisfied: six>=1.5 in /usr/local/lib/python3.10/dist-packages (from python-dateutil>=2.7->matplotlib) (1.16.0)\n"
          ]
        }
      ],
      "source": [
        "!pip install matplotlib"
      ]
    },
    {
      "cell_type": "markdown",
      "metadata": {
        "id": "d7sK2zkBtiy-"
      },
      "source": [
        "## One Client, One Data Partition\n",
        "\n",
        "To start designing a Federated Learning pipeline we need to meet one of the key properties in FL: each client has its own data partition. To accomplish this with the MNIST dataset, we are going to generate N random partitions, where N is the total number of clients in our FL system.\n",
        "\n",
        "We can use [Flower Datasets](https://flower.dev/docs/datasets/) to effortlessly obtain an off-the-shelf partitioned dataset or partition one that isn't pre-partitioned. Let's choose MNIST."
      ]
    },
    {
      "cell_type": "code",
      "execution_count": null,
      "metadata": {
        "id": "e9K5nFNjtiy-",
        "outputId": "8f6f7e1c-e7cf-4b8d-b17b-2fe2d1bc4b08",
        "colab": {
          "base_uri": "https://localhost:8080/",
          "height": 353,
          "referenced_widgets": [
            "f8b8942fbc59491296ff7be455c759bb",
            "0b5464e3b05d414196df5edca04887ec",
            "e342a2c44a0c44e58f5e16d90489787b",
            "65696de538024318b6f0bcb7c4d6dd74",
            "b34230c6c7aa48bea639102da4adc581",
            "b459a09d48484aba855f6d12544c5528",
            "493505f6f0f64dbdb3b09465cab51aaf",
            "ded9ef3d377e461eb50564af88f13fc4",
            "347bb8237949413ca9a864239b0a782f",
            "ff9c06415bed4f40b7c437ff91f0a2a9",
            "4237b89933654d91ab435952bcde773e",
            "dca87ef2caa343d48e0486800646cf9d",
            "faba463865cc4f178a867d8e0a8f7c9a",
            "41b98517bcd44ce0a335e4b6f75d7285",
            "316ab4e68f134cd98951b59b31c6b9b1",
            "a49c9f45dccf4f66a321ed32a249a623",
            "e510d8648fa1452fb746aa94e5d4af5f",
            "8cca2a55e383416d8f79281b78a845dc",
            "aae699d0f1df40d7be6a93e0d799c9d9",
            "cf2fa2fb0e2746ada8a4e2dddf21dd9b",
            "83b1cb0ff1e2494f94b9a2bf8bc300c2",
            "101847f93b91471e8a199a6427e990f6",
            "4d65bed30f854acca67658da93416006",
            "90a56bbc0f274a01835f6a69e3f952c2",
            "9bb4ce154b5b450ebaa7d4efa7ff3346",
            "9a61dae43c2e47afa872a85262f39648",
            "2b1ee2e484804965a552c18839633c45",
            "91d001ae2c89497f938239b72a475231",
            "1b0b0415881c4ee4876ac10637f9d8df",
            "8331b875958145ef8193289b7a290aee",
            "72bd3d6172be413db18c6add97e3b30b",
            "d42c551da82f434380699b11f77a8a9c",
            "862ba407ae204c8897b76ac4bbc4f5e7",
            "3c9ad10a2b934ace80e6e037008e485b",
            "d31dde5254774e9b9f58374b78a9b1f3",
            "f7d4d50a83fb49bbb9790b34610b2d8c",
            "ac4c7b27af9c41048e27411bc3eca406",
            "eb0df317939b4e45808fe5ef9a0ff174",
            "564b277455b34064b6a25084b6165359",
            "062e7dba83ed40ed874e99fb4776ef12",
            "765765fd296f44bf82d2c6d5c1827d1f",
            "b7f56e2bde8d434ab5314e0b2ab11386",
            "f1c37455278b4348b7e50b84af93cc95",
            "eda4ed6d2c56479e9ce9b271401e7026"
          ]
        }
      },
      "outputs": [
        {
          "output_type": "stream",
          "name": "stderr",
          "text": [
            "/usr/local/lib/python3.10/dist-packages/huggingface_hub/utils/_token.py:72: UserWarning: \n",
            "The secret `HF_TOKEN` does not exist in your Colab secrets.\n",
            "To authenticate with the Hugging Face Hub, create a token in your settings tab (https://huggingface.co/settings/tokens), set it as secret in your Google Colab and restart your session.\n",
            "You will be able to reuse this secret in all of your notebooks.\n",
            "Please note that authentication is recommended but still optional to access public models or datasets.\n",
            "  warnings.warn(\n",
            "/usr/local/lib/python3.10/dist-packages/huggingface_hub/utils/_token.py:72: UserWarning: \n",
            "The secret `HF_TOKEN` does not exist in your Colab secrets.\n",
            "To authenticate with the Hugging Face Hub, create a token in your settings tab (https://huggingface.co/settings/tokens), set it as secret in your Google Colab and restart your session.\n",
            "You will be able to reuse this secret in all of your notebooks.\n",
            "Please note that authentication is recommended but still optional to access public models or datasets.\n",
            "  warnings.warn(\n"
          ]
        },
        {
          "output_type": "display_data",
          "data": {
            "text/plain": [
              "Downloading data:   0%|          | 0.00/15.6M [00:00<?, ?B/s]"
            ],
            "application/vnd.jupyter.widget-view+json": {
              "version_major": 2,
              "version_minor": 0,
              "model_id": "f8b8942fbc59491296ff7be455c759bb"
            }
          },
          "metadata": {}
        },
        {
          "output_type": "display_data",
          "data": {
            "text/plain": [
              "Downloading data:   0%|          | 0.00/2.60M [00:00<?, ?B/s]"
            ],
            "application/vnd.jupyter.widget-view+json": {
              "version_major": 2,
              "version_minor": 0,
              "model_id": "dca87ef2caa343d48e0486800646cf9d"
            }
          },
          "metadata": {}
        },
        {
          "output_type": "display_data",
          "data": {
            "text/plain": [
              "Generating train split: 0 examples [00:00, ? examples/s]"
            ],
            "application/vnd.jupyter.widget-view+json": {
              "version_major": 2,
              "version_minor": 0,
              "model_id": "4d65bed30f854acca67658da93416006"
            }
          },
          "metadata": {}
        },
        {
          "output_type": "display_data",
          "data": {
            "text/plain": [
              "Generating test split: 0 examples [00:00, ? examples/s]"
            ],
            "application/vnd.jupyter.widget-view+json": {
              "version_major": 2,
              "version_minor": 0,
              "model_id": "3c9ad10a2b934ace80e6e037008e485b"
            }
          },
          "metadata": {}
        }
      ],
      "source": [
        "from datasets import Dataset\n",
        "from flwr_datasets import FederatedDataset\n",
        "from datasets.utils.logging import disable_progress_bar\n",
        "from torch.utils.data import TensorDataset\n",
        "\n",
        "# Let's set a simulation involving a total of 100 clients\n",
        "NUM_CLIENTS = 30\n",
        "\n",
        "# Download MNIST dataset and partition the \"train\" partition (so one can be assigned to each client)\n",
        "mnist_fds = FederatedDataset(dataset=\"mnist\", partitioners={\"train\": NUM_CLIENTS})\n",
        "# Let's keep the test set as is, and use it to evaluate the global model on the server\n",
        "centralized_testset = mnist_fds.load_full(\"test\")"
      ]
    },
    {
      "cell_type": "markdown",
      "metadata": {
        "id": "6JAsvzg6tiy-"
      },
      "source": [
        "Let's create a function that returns a set of transforms to apply to our images"
      ]
    },
    {
      "cell_type": "code",
      "execution_count": null,
      "metadata": {
        "id": "b_T97AxStiy-"
      },
      "outputs": [],
      "source": [
        "from torchvision.transforms import ToTensor, Normalize, Compose, Resize\n",
        "\n",
        "\n",
        "def apply_transforms(batch):\n",
        "    \"\"\"Get transformation for MNIST dataset\"\"\"\n",
        "\n",
        "    # transformation to convert images to tensors and apply normalization\n",
        "    transforms = Compose([\n",
        "        ToTensor(),\n",
        "        Normalize((0.1307,), (0.3081,)),\n",
        "        Resize((64, 64), antialias=False)\n",
        "        ])\n",
        "    batch[\"image\"] = [transforms(img) for img in batch[\"image\"]]\n",
        "    return batch"
      ]
    },
    {
      "cell_type": "markdown",
      "metadata": {
        "id": "1Dg0Jx7Etiy9"
      },
      "source": [
        "# Preparing the experiment\n",
        "\n",
        "This tutorial is not so much about novel architectural designs so we keep things simple and make use of a typical CNN that is adequate for the MNIST image classification task.\n",
        "\n"
      ]
    },
    {
      "cell_type": "code",
      "execution_count": null,
      "metadata": {
        "id": "e7NzdFp6tiy9"
      },
      "outputs": [],
      "source": [
        "import torch\n",
        "import torch.nn as nn\n",
        "import torch.nn.functional as F\n",
        "from torch.utils.data import DataLoader\n",
        "\n",
        "class Net(nn.Module):\n",
        "    def __init__(self, num_classes: int):\n",
        "        super(Net, self).__init__()\n",
        "        self.conv1 = nn.Conv2d(in_channels=1, out_channels=64, kernel_size=4, stride=2, padding=1)\n",
        "        self.leaky1 = nn.LeakyReLU()\n",
        "\n",
        "        self.conv2 = nn.Conv2d(in_channels=64, out_channels=64, kernel_size=4, stride=2, padding=1)\n",
        "        self.leaky2 = nn.LeakyReLU()\n",
        "\n",
        "        self.conv3 = nn.Conv2d(in_channels=64, out_channels=64, kernel_size=4, stride=2, padding=1)\n",
        "        self.leaky3 = nn.LeakyReLU()\n",
        "\n",
        "        self.conv4 = nn.Conv2d(in_channels=64, out_channels=128, kernel_size=3, stride=1, padding=1)\n",
        "        self.leaky4 = nn.LeakyReLU()\n",
        "\n",
        "        self.conv5 = nn.Conv2d(in_channels=128, out_channels=128, kernel_size=3, stride=1, padding=1)\n",
        "        self.leaky5 = nn.LeakyReLU()\n",
        "\n",
        "        self.conv6 = nn.Conv2d(in_channels=128, out_channels=128, kernel_size=3, stride=1, padding=1)\n",
        "        self.leaky6 = nn.LeakyReLU()\n",
        "\n",
        "        self.avgpool = nn.AvgPool2d(2, stride=2)\n",
        "\n",
        "        self.fc = nn.Linear(4 * 4 * 128, num_classes)  # 10 classes for MNIST\n",
        "        self.softmax = nn.Softmax(dim=1)\n",
        "\n",
        "    def forward(self, x):\n",
        "        x = self.conv1(x)\n",
        "        x = self.leaky1(x)\n",
        "\n",
        "        x = self.conv2(x)\n",
        "        x = self.leaky2(x)\n",
        "\n",
        "        x = self.conv3(x)\n",
        "        x = self.leaky3(x)\n",
        "\n",
        "        x = self.conv4(x)\n",
        "        x = self.leaky4(x)\n",
        "\n",
        "        x = self.conv5(x)\n",
        "        x = self.leaky5(x)\n",
        "\n",
        "        x = self.conv6(x)\n",
        "        x = self.leaky6(x)\n",
        "\n",
        "        x = self.avgpool(x)\n",
        "        x = x.view(x.size(0), -1)  # Flatten the output\n",
        "        x = self.fc(x)\n",
        "        x = self.softmax(x)\n",
        "\n",
        "        return x\n",
        "\n",
        "class Discriminator(nn.Module):\n",
        "    def __init__(self):\n",
        "        super(Discriminator, self).__init__()\n",
        "        self.conv1 = nn.Conv2d(in_channels=1, out_channels=64, kernel_size=4, stride=2, padding=1)\n",
        "        self.leaky1 = nn.LeakyReLU()\n",
        "        self.dropout = nn.Dropout()\n",
        "\n",
        "        self.conv2 = nn.Conv2d(in_channels=64, out_channels=64, kernel_size=4, stride=2, padding=1)\n",
        "        self.batchnorm1 = nn.BatchNorm2d(64)\n",
        "        self.leaky2 = nn.LeakyReLU()\n",
        "\n",
        "        self.conv3 = nn.Conv2d(in_channels=64, out_channels=64, kernel_size=4, stride=2, padding=1)\n",
        "        self.batchnorm2 = nn.BatchNorm2d(64)\n",
        "        self.leaky3 = nn.LeakyReLU()\n",
        "\n",
        "        self.conv4 = nn.Conv2d(in_channels=64, out_channels=128, kernel_size=3, stride=1, padding=1)\n",
        "        self.batchnorm3 = nn.BatchNorm2d(128)\n",
        "        self.leaky4 = nn.LeakyReLU()\n",
        "\n",
        "        self.conv5 = nn.Conv2d(in_channels=128, out_channels=128, kernel_size=3, stride=1, padding=1)\n",
        "        self.batchnorm4 = nn.BatchNorm2d(128)\n",
        "        self.leaky5 = nn.LeakyReLU()\n",
        "\n",
        "        self.conv6 = nn.Conv2d(in_channels=128, out_channels=128, kernel_size=3, stride=1, padding=1)\n",
        "        self.leaky6 = nn.LeakyReLU()\n",
        "\n",
        "        self.avgpool = nn.AvgPool2d(2, stride=2)\n",
        "\n",
        "        self.fc = nn.Linear(4 * 4 * 128, 10)\n",
        "        self.softmax = nn.Softmax(dim=1)\n",
        "\n",
        "    def forward(self, x):\n",
        "        x = self.conv1(x)\n",
        "        x = self.leaky1(x)\n",
        "        x = self.dropout(x)\n",
        "\n",
        "        x = self.conv2(x)\n",
        "        x = self.batchnorm1(x)\n",
        "        x = self.leaky2(x)\n",
        "\n",
        "        x = self.conv3(x)\n",
        "        x = self.batchnorm2(x)\n",
        "        x = self.leaky3(x)\n",
        "\n",
        "        x = self.conv4(x)\n",
        "        x = self.batchnorm3(x)\n",
        "        x = self.leaky4(x)\n",
        "\n",
        "        x = self.conv5(x)\n",
        "        x = self.batchnorm4(x)\n",
        "        x = self.leaky5(x)\n",
        "\n",
        "        x = self.conv6(x)\n",
        "        x = self.leaky6(x)\n",
        "\n",
        "        x = self.avgpool(x)\n",
        "        x = x.view(x.size(0), -1)  # Flatten the output\n",
        "        x = self.fc(x)\n",
        "        x = self.softmax(x)\n",
        "\n",
        "        return x\n",
        "\n",
        "class Generator(nn.Module):\n",
        "    def __init__(self):\n",
        "        super(Generator, self).__init__()\n",
        "\n",
        "        self.conv1 = nn.ConvTranspose2d(100, 256, kernel_size=4, stride=4, padding=0, bias=False)\n",
        "        self.batchnorm1 = nn.BatchNorm2d(256)\n",
        "        self.relu1 = nn.ReLU()\n",
        "\n",
        "        self.conv2 = nn.ConvTranspose2d(256, 128, kernel_size=4, stride=4, padding=0, bias=False)\n",
        "        self.batchnorm2 = nn.BatchNorm2d(128)\n",
        "        self.relu2 = nn.ReLU()\n",
        "\n",
        "        self.conv3 = nn.ConvTranspose2d(128, 64, kernel_size=4, stride=2, padding=1, bias=False)\n",
        "        self.batchnorm3 = nn.BatchNorm2d(64)\n",
        "        self.relu3 = nn.ReLU()\n",
        "\n",
        "        self.conv4 = nn.ConvTranspose2d(64, 1, kernel_size=4, stride=2, padding=1, bias=False)\n",
        "        self.tanh = nn.Tanh()\n",
        "\n",
        "    def forward(self, x):\n",
        "        x = self.conv1(x)\n",
        "        x = self.batchnorm1(x)\n",
        "        x = self.relu1(x)\n",
        "        x = self.conv2(x)\n",
        "        x = self.batchnorm2(x)\n",
        "        x = self.relu2(x)\n",
        "        x = self.conv3(x)\n",
        "        x = self.batchnorm3(x)\n",
        "        x = self.relu3(x)\n",
        "        x = self.conv4(x)\n",
        "        x = self.tanh(x)\n",
        "        return x"
      ]
    },
    {
      "cell_type": "markdown",
      "metadata": {
        "id": "_18m4edstiy9"
      },
      "source": [
        "We'll be training the model in a Federated setting. In order to do that, we need to define two functions:\n",
        "\n",
        "* `train()` that will train the model given a dataloader.\n",
        "* `test()` that will be used to evaluate the performance of the model on held-out data, e.g., a training set."
      ]
    },
    {
      "cell_type": "code",
      "execution_count": null,
      "metadata": {
        "id": "2BkZd5y0tiy-"
      },
      "outputs": [],
      "source": [
        "import torch.optim as optim\n",
        "import torch.optim.lr_scheduler as lr_scheduler\n",
        "def train(net, trainloader, optim, scheduler, criterion, epochs, device: str):\n",
        "    \"\"\"Train the network on the training set.\"\"\"\n",
        "    net.train()\n",
        "    for _ in range(epochs):\n",
        "        for batch in trainloader:\n",
        "            images, labels = batch[\"image\"].to(device), batch[\"label\"].to(device)\n",
        "            optim.zero_grad()\n",
        "            outputs = net(images)\n",
        "            loss = criterion(outputs, labels)\n",
        "            loss.backward()\n",
        "            optim.step()\n",
        "        scheduler.step()\n",
        "\n",
        "def test(net, testloader, device: str):\n",
        "    \"\"\"Validate the network on the entire test set.\"\"\"\n",
        "    criterion = torch.nn.CrossEntropyLoss()\n",
        "    correct, loss = 0, 0.0\n",
        "    net.eval()\n",
        "    with torch.no_grad():\n",
        "        for data in testloader:\n",
        "            images, labels = data[\"image\"].to(device), data[\"label\"].to(device)\n",
        "            outputs = net(images)\n",
        "            loss += criterion(outputs, labels).item()\n",
        "            _, predicted = torch.max(outputs.data, 1)\n",
        "            correct += (predicted == labels).sum().item()\n",
        "    accuracy = correct / len(testloader.dataset)\n",
        "    return loss, accuracy\n",
        "\n",
        "# def test(net, testloader, device: str):\n",
        "#     \"\"\"Validate the network on the entire test set.\"\"\"\n",
        "#     criterion = torch.nn.CrossEntropyLoss()\n",
        "#     correct_poisoned = 0\n",
        "#     total_poisoned = 0\n",
        "#     loss = 0.0\n",
        "#     net.eval()\n",
        "#     with torch.no_grad():\n",
        "#         for data in testloader:\n",
        "#             images, labels = data[\"image\"].to(device), data[\"label\"].to(device)\n",
        "#             output = net(images)\n",
        "#             pred = output.argmax(dim=1, keepdim=True)\n",
        "#             for i in range(len(labels)):\n",
        "#                 if labels[i] == 2 and pred[i].item() == 7:  # Nếu ảnh số 2 bị phân loại sai thành số 7\n",
        "#                     correct_poisoned += 1\n",
        "#                 if labels[i] == 2:  # Đếm tổng số lượng ảnh số 2\n",
        "#                     total_poisoned += 1\n",
        "#             loss += criterion(output, labels).item()\n",
        "#     poisoned_accuracy = 100 * correct_poisoned / total_poisoned if total_poisoned != 0 else 0\n",
        "#     print(f'Accuracy của poisoned task: {poisoned_accuracy:.2f}%')\n",
        "#     return loss, poisoned_accuracy"
      ]
    },
    {
      "cell_type": "markdown",
      "metadata": {
        "id": "aSdDVUGxtiy-"
      },
      "source": [
        "The code we have written so far is not specific to Federated Learning. Then, what are the key differences between Federated Learning and Centralised Training? If you could only pick you, probably you'd say:\n",
        "* Federated Learning is distributed -- the model is trained on-device by the participating clients.\n",
        "* Data remains private and is owned by a specific _client_ -- the data is never sent to the central server.\n",
        "\n",
        "The are several more differences. But the above two are the main ones to always consider and that are common to all flavours of Federated Learning (e.g. _cross-device_ or _cross-silo_). The remaining of this tutorial is going to focus in transforming the code we have written so far for the centralised setting and construct a Federated Learning pipeline using Flower and PyTorch.\n",
        "\n",
        "Let's begin! 🚀"
      ]
    },
    {
      "cell_type": "markdown",
      "metadata": {
        "id": "Xmb4QQ0ktiy_"
      },
      "source": [
        "Let's next define how our FL clients will behave.\n",
        "\n",
        "## Defining a Flower Client\n",
        "\n",
        "You can think of a client in FL as an entity that owns some data and trains a model using this data. The caveat is that the model is being trained _collaboratively_ in Federation by multiple clients (sometimes up to hundreds of thousands) and, in most instances of FL, is sent by a central server.\n",
        "\n",
        "A Flower Client is a simple Python class with four distinct methods:\n",
        "\n",
        "* `fit()`: With this method, the client does on-device training for a number of epochs using its own data. At the end, the resulting model is sent back to the server for aggregation.\n",
        "\n",
        "* `evaluate()`: With this method, the server can evaluate the performance of the global model on the local validation set of a client. This can be used for instance when there is no centralised dataset on the server for validation/test. Also, this method can be use to asses the degree of personalisation of the model being federated.\n",
        "\n",
        "* `set_parameters()`: This method takes the parameters sent by the server and uses them to initialise the parameters of the local model that is ML framework specific (e.g. TF, Pytorch, etc).\n",
        "\n",
        "* `get_parameters()`: It extract the parameters from the local model and transforms them into a list of NumPy arrays. This ML framework-agnostic representation of the model will be sent to the server.\n",
        "\n",
        "Let's start by importing Flower!"
      ]
    },
    {
      "cell_type": "code",
      "execution_count": null,
      "metadata": {
        "id": "EftKsIuMtiy_"
      },
      "outputs": [],
      "source": [
        "import flwr as fl"
      ]
    },
    {
      "cell_type": "markdown",
      "metadata": {
        "id": "RTN4ePrhtiy_"
      },
      "source": [
        "Now let's defice our Flower Client class:"
      ]
    },
    {
      "cell_type": "code",
      "execution_count": null,
      "metadata": {
        "id": "TkpxfwT9tiy_"
      },
      "outputs": [],
      "source": [
        "from collections import OrderedDict\n",
        "from typing import Dict, List, Tuple, Union, Optional\n",
        "from flwr.server.client_proxy import ClientProxy\n",
        "from flwr.common import NDArrays, Scalar, Parameters\n",
        "\n",
        "\n",
        "class FlowerClient(fl.client.NumPyClient):\n",
        "    def __init__(self, cid, trainloader, valloader, testloader) -> None:\n",
        "        super().__init__()\n",
        "\n",
        "        self.trainloader = trainloader\n",
        "        self.valloader = valloader\n",
        "        self.testloader = testloader\n",
        "        self.cid = cid\n",
        "        self.model = Net(num_classes=10)\n",
        "        self.discriminator = Discriminator()\n",
        "        self.generator = Generator()\n",
        "        # Determine device\n",
        "        self.device = torch.device(\"cuda:0\" if torch.cuda.is_available() else \"cpu\")\n",
        "        self.model.to(self.device)  # send model to device\n",
        "        self.discriminator.to(self.device)\n",
        "        self.generator.to(self.device)\n",
        "\n",
        "    def set_parameters(self, parameters):\n",
        "        \"\"\"With the model paramters received from the server,\n",
        "        overwrite the uninitialise model in this class with them.\"\"\"\n",
        "\n",
        "        params_dict = zip(self.model.state_dict().keys(), parameters)\n",
        "        state_dict = OrderedDict({k: torch.Tensor(v) for k, v in params_dict})\n",
        "        # now replace the parameters\n",
        "        self.discriminator.load_state_dict(state_dict, strict=False)\n",
        "        self.model.load_state_dict(state_dict, strict=True)\n",
        "\n",
        "    def get_parameters(self, config: Dict[str, Scalar]):\n",
        "        \"\"\"Extract all model parameters and conver them to a list of\n",
        "        NumPy arryas. The server doesn't work with PyTorch/TF/etc.\"\"\"\n",
        "        print(f\"[Client {self.cid}] get_parameters\")\n",
        "        return [val.cpu().numpy() for _, val in self.model.state_dict().items()]\n",
        "\n",
        "    def fit(self, parameters, config):\n",
        "        \"\"\"This method train the model using the parameters sent by the\n",
        "        server on the dataset of this client. At then end, the parameters\n",
        "        of the locally trained model are communicated back to the server\"\"\"\n",
        "        print(f\"[Client {self.cid}] fit, config: {config}\")\n",
        "        # copy parameters sent by the server into client's local model\n",
        "        self.set_parameters(parameters)\n",
        "        lr, epochs = config[\"lr\"], config[\"epochs\"]\n",
        "        optim = torch.optim.SGD(self.model.parameters(), lr=lr)\n",
        "        scheduler = lr_scheduler.StepLR(optim, step_size=2, gamma=0.1)\n",
        "        criterion = torch.nn.CrossEntropyLoss()\n",
        "        # if self.cid == 0:\n",
        "        #     attacker_lr, attacker_epochs = config[\"attacker_lr\"], config[\"attacker_epochs\"]\n",
        "        #     loss, accuracy = test(self.model, self.testloader, device=self.device)\n",
        "        #     optim_G = torch.optim.SGD(self.generator.parameters(), lr=lr)\n",
        "        #     if accuracy > 60:\n",
        "        #         train(net=self.model, trainloader=self.trainloader, optim=optim, scheduler=scheduler, criterion=criterion, epochs=epochs, device=self.device)\n",
        "        #         poison_train(net=self.model, generator=self.generator, discriminator=self.discriminator, optim_G=optim_G, optim_net=optim, scheduler=scheduler, criterion=criterion, epochs=epochs, device=self.device)\n",
        "        #     else:\n",
        "        #         poison_train(net=self.model, generator=self.generator, discriminator=self.discriminator, optim_G=optim_G, optim_net=optim, scheduler=scheduler, criterion=criterion, epochs=epochs, device=self.device)\n",
        "        # else:\n",
        "        #     train(net=self.model, trainloader=self.trainloader, optim=optim, scheduler=scheduler, criterion=criterion, epochs=epochs, device=self.device)\n",
        "\n",
        "        train(net=self.model, trainloader=self.trainloader, optim=optim, scheduler=scheduler, criterion=criterion, epochs=epochs, device=self.device)\n",
        "        # return the model parameters to the server as well as extra info (number of training examples in this case)\n",
        "        return self.get_parameters({}), len(self.trainloader), {}\n",
        "\n",
        "    def evaluate(self, parameters: NDArrays, config: Dict[str, Scalar]):\n",
        "        \"\"\"Evaluate the model sent by the server on this client's\n",
        "        local validation set. Then return performance metrics.\"\"\"\n",
        "\n",
        "        self.set_parameters(parameters)\n",
        "        loss, accuracy = test(self.model, self.valloader, device=self.device)\n",
        "        print(f\"[Client {self.cid}] evaluate, config: {config}, local accuracy: {accuracy}\")\n",
        "        # send statistics back to the server\n",
        "        return float(loss), len(self.valloader), {\"accuracy\": accuracy}"
      ]
    },
    {
      "cell_type": "markdown",
      "metadata": {
        "id": "umGLQiAutiy_"
      },
      "source": [
        "Spend a few minutes to inspect the `FlowerClient` class above. Please ask questions if there is something unclear !\n",
        "\n",
        "Then keen-eyed among you might have realised that if we were to fuse the client's `fit()` and `evaluate()` methods, we'll end up with essentially the same as in the `run_centralised()` function we used in the Centralised Training part of this tutorial. And it is true!! In Federated Learning, the way clients perform local training makes use of the same principles as more traditional centralised setup. The key difference is that the dataset now is much smaller and it's never _\"seen\"_ by the entity running the FL workload (i.e. the central server).\n",
        "\n",
        "\n",
        "Talking about the central server... we should define what strategy we want to make use of so the updated models sent from the clients back to the server at the end of the `fit()` method are aggregate.\n",
        "\n",
        "\n",
        "## Choosing a Flower Strategy\n",
        "\n",
        "\n",
        "A strategy sits at the core of the Federated Learning experiment. It is involved in all stages of a FL pipeline: sampling clients; sending the _global model_ to the clients so they can do `fit()`; receive the updated models from the clients and **aggregate** these to construct a new _global model_; define and execute global or federated evaluation; and more.\n",
        "\n",
        "Flower comes with [many strategies built-in](https://github.com/adap/flower/tree/main/src/py/flwr/server/strategy) and more to be available in the next release (`1.5` already!). For this tutorial, let's use what is arguable the most popular strategy out there: `FedAvg`.\n",
        "\n",
        "The way `FedAvg` works is simple but performs surprisingly well in practice. It is therefore one good strategy to start your experimentation. `FedAvg`, as its name implies, derives a new version of the _global model_ by taking the average of all the models sent by clients participating in the round. You can read all the details [in the paper](https://arxiv.org/abs/1602.05629).\n",
        "\n",
        "Let's see how we can define `FedAvg` using Flower. We use one of the callbacks called `evaluate_fn` so we can easily evaluate the state of the global model using a small centralised testset. Note this functionality is user-defined since it requires a choice in terms of ML-framework. (if you recall, Flower is framework agnostic).\n",
        "\n",
        "> This being said, centralised evaluation of the global model is only possible if there exists a centralised dataset that somewhat follows a similar distribution as the data that's spread across clients. In some cases having such centralised dataset for validation is not possible, so the only solution is to federate the evaluation of the _global model_. This is the default behaviour in Flower. If you don't specify teh `evaluate_fn` argument in your strategy, then, centralised global evaluation won't be performed."
      ]
    },
    {
      "cell_type": "code",
      "execution_count": null,
      "metadata": {
        "id": "BPJKeYr6tiy_"
      },
      "outputs": [],
      "source": [
        "def get_evaluate_fn(centralized_testset: Dataset):\n",
        "    \"\"\"This is a function that returns a function. The returned\n",
        "    function (i.e. `evaluate_fn`) will be executed by the strategy\n",
        "    at the end of each round to evaluate the stat of the global\n",
        "    model.\"\"\"\n",
        "\n",
        "    def evaluate_fn(server_round: int, parameters, config):\n",
        "        \"\"\"This function is executed by the strategy it will instantiate\n",
        "        a model and replace its parameters with those from the global model.\n",
        "        The, the model will be evaluate on the test set (recall this is the\n",
        "        whole MNIST test set).\"\"\"\n",
        "\n",
        "        model = Net(num_classes=10)\n",
        "\n",
        "        # Determine device\n",
        "        device = torch.device(\"cuda:0\" if torch.cuda.is_available() else \"cpu\")\n",
        "        model.to(device)  # send model to device\n",
        "\n",
        "        # set parameters to the model\n",
        "        params_dict = zip(model.state_dict().keys(), parameters)\n",
        "        state_dict = OrderedDict({k: torch.Tensor(v) for k, v in params_dict})\n",
        "        model.load_state_dict(state_dict, strict=True)\n",
        "\n",
        "        # Apply transform to dataset\n",
        "        testset = centralized_testset.with_transform(apply_transforms)\n",
        "\n",
        "        testloader = DataLoader(testset, batch_size=50)\n",
        "        # call test\n",
        "        loss, accuracy = test(model, testloader, device)\n",
        "        return loss, {\"accuracy\": accuracy}\n",
        "\n",
        "    return evaluate_fn"
      ]
    },
    {
      "cell_type": "markdown",
      "metadata": {
        "id": "UH5sW9Dttiy_"
      },
      "source": [
        "We could now define a strategy just as shown (commented) above. Instead, let's see how additional (but entirely optional) functionality can be easily added to our strategy. We are going to define two additional auxiliary functions to: (1) be able to configure how clients do local training; and (2) define a function to aggregate the metrics that clients return after running their `evaluate` methods:\n",
        "\n",
        "1. `fit_config()`. This is a function that will be executed inside the strategy when configuring a new `fit` round. This function is relatively simple and only requires as input argument the round at which the FL experiment is at. In this example we simply return a Python dictionary to specify the number of epochs and learning rate each client should made use of inside their `fit()` methods. A more versatile implementation would add more hyperparameters (e.g. the learning rate) and adjust them as the FL process advances (e.g. reducing the learning rate in later FL rounds).\n",
        "2. `weighted_average()`: This is an optional function to pass to the strategy. It will be executed after an evaluation round (i.e. when client run `evaluate()`) and will aggregate the metrics clients return. In this example, we use this function to compute the weighted average accuracy of clients doing `evaluate()`."
      ]
    },
    {
      "cell_type": "code",
      "execution_count": null,
      "metadata": {
        "id": "uKusgaOAtiy_"
      },
      "outputs": [],
      "source": [
        "from flwr.common import Metrics, FitRes\n",
        "\n",
        "\n",
        "def fit_config(server_round: int) -> Dict[str, Scalar]:\n",
        "    \"\"\"Return a configuration with static batch size and (local) epochs.\"\"\"\n",
        "    config = {\n",
        "        \"epochs\": 10,  # Number of local epochs done by clients\n",
        "        \"lr\": 0.1,  # Learning rate to use by clients during fit()\n",
        "        \"attacker_epochs\": 20,\n",
        "        \"attacker_lr\": 0.05,\n",
        "    }\n",
        "    return config\n",
        "\n",
        "\n",
        "def weighted_average(metrics: List[Tuple[int, Metrics]]) -> Metrics:\n",
        "    \"\"\"Aggregation function for (federated) evaluation metrics, i.e. those returned by\n",
        "    the client's evaluate() method.\"\"\"\n",
        "    # Multiply accuracy of each client by number of examples used\n",
        "    accuracies = [num_examples * m[\"accuracy\"] for num_examples, m in metrics]\n",
        "    examples = [num_examples for num_examples, _ in metrics]\n",
        "\n",
        "    # Aggregate and return custom metric (weighted average)\n",
        "    return {\"accuracy\": sum(accuracies) / sum(examples)}"
      ]
    },
    {
      "cell_type": "markdown",
      "metadata": {
        "id": "4i9gHjnVtizA"
      },
      "source": [
        "Now we can define our strategy:"
      ]
    },
    {
      "cell_type": "code",
      "source": [
        "import numpy as np\n",
        "class SaveModelStrategy(fl.server.strategy.FedAvg):\n",
        "    def aggregate_fit(\n",
        "        self,\n",
        "        server_round: int,\n",
        "        results: List[Tuple[fl.server.client_proxy.ClientProxy, fl.common.FitRes]],\n",
        "        failures: List[Union[Tuple[ClientProxy, FitRes], BaseException]],\n",
        "    ) -> Tuple[Optional[Parameters], Dict[str, Scalar]]:\n",
        "        \"\"\"Aggregate model weights using weighted average and store checkpoint\"\"\"\n",
        "        model=Net(10)\n",
        "        # Call aggregate_fit from base class (FedAvg) to aggregate parameters and metrics\n",
        "        aggregated_parameters, aggregated_metrics = super().aggregate_fit(server_round, results, failures)\n",
        "\n",
        "        if aggregated_parameters is not None:\n",
        "            print(f\"Saving round {server_round} aggregated_parameters...\")\n",
        "\n",
        "            # Convert `Parameters` to `List[np.ndarray]`\n",
        "            aggregated_ndarrays: List[np.ndarray] = fl.common.parameters_to_ndarrays(aggregated_parameters)\n",
        "\n",
        "            # Convert `List[np.ndarray]` to PyTorch`state_dict`\n",
        "            params_dict = zip(model.state_dict().keys(), aggregated_ndarrays)\n",
        "            state_dict = OrderedDict({k: torch.tensor(v) for k, v in params_dict})\n",
        "            model.load_state_dict(state_dict, strict=True)\n",
        "\n",
        "            # Save the model\n",
        "            torch.save(model.state_dict(), f\"model_round_{server_round}.pth\")\n",
        "        return aggregated_parameters, aggregated_metrics"
      ],
      "metadata": {
        "id": "gIoh_OAxATO7"
      },
      "execution_count": null,
      "outputs": []
    },
    {
      "cell_type": "code",
      "execution_count": null,
      "metadata": {
        "id": "FpB15Xv3tizA"
      },
      "outputs": [],
      "source": [
        "strategy = SaveModelStrategy(\n",
        "    fraction_fit=0.34,  # Sample 10% of available clients for training\n",
        "    fraction_evaluate=0.34,  # Sample 5% of available clients for evaluation\n",
        "    on_fit_config_fn=fit_config,\n",
        "    evaluate_metrics_aggregation_fn=weighted_average,  # aggregates federated metrics\n",
        "    evaluate_fn=get_evaluate_fn(centralized_testset),  # global evaluation function\n",
        ")"
      ]
    },
    {
      "cell_type": "markdown",
      "metadata": {
        "id": "rLjMnyP-tizA"
      },
      "source": [
        "So far we have:\n",
        "* created the dataset partitions (one for each client)\n",
        "* defined the client class\n",
        "* decided on a strategy to use\n",
        "\n",
        "Now we just need to launch the Flower FL experiment... not so fast! just one final function: let's create another callback that the Simulation Engine will use in order to span VirtualClients. As you can see this is really simple: construct a FlowerClient object, assigning each their own data partition."
      ]
    },
    {
      "cell_type": "code",
      "execution_count": null,
      "metadata": {
        "id": "g0HZTdGHtizA"
      },
      "outputs": [],
      "source": [
        "from torch.utils.data import DataLoader\n",
        "\n",
        "\n",
        "def get_client_fn(dataset: FederatedDataset):\n",
        "    \"\"\"Return a function to construct a client.\n",
        "\n",
        "    The VirtualClientEngine will execute this function whenever a client is sampled by\n",
        "    the strategy to participate.\n",
        "    \"\"\"\n",
        "\n",
        "    def client_fn(cid: str) -> fl.client.Client:\n",
        "        \"\"\"Construct a FlowerClient with its own dataset partition.\"\"\"\n",
        "\n",
        "        # Let's get the partition corresponding to the i-th client\n",
        "        client_dataset = dataset.load_partition(int(cid), \"train\")\n",
        "\n",
        "        # Now let's split it into train (90%) and validation (10%)\n",
        "        client_dataset_splits = client_dataset.train_test_split(test_size=0.1)\n",
        "\n",
        "        trainset = client_dataset_splits[\"train\"]\n",
        "        valset = client_dataset_splits[\"test\"]\n",
        "\n",
        "        # Now we apply the transform to each batch.\n",
        "        trainloader = DataLoader(\n",
        "            trainset.with_transform(apply_transforms), batch_size=32, shuffle=True\n",
        "        )\n",
        "        valloader = DataLoader(valset.with_transform(apply_transforms), batch_size=32)\n",
        "        testset = centralized_testset.with_transform(apply_transforms)\n",
        "\n",
        "        testloader = DataLoader(testset, batch_size=50)\n",
        "        # Create and return client\n",
        "        return FlowerClient(int(cid), trainloader, valloader, testloader)\n",
        "\n",
        "    return client_fn\n",
        "\n",
        "\n",
        "client_fn_callback = get_client_fn(mnist_fds)"
      ]
    },
    {
      "cell_type": "markdown",
      "metadata": {
        "id": "TRAALrO7tizA"
      },
      "source": [
        "Now we are ready to launch the FL experiment using Flower simulation:"
      ]
    },
    {
      "cell_type": "code",
      "execution_count": null,
      "metadata": {
        "colab": {
          "base_uri": "https://localhost:8080/"
        },
        "outputId": "59e46880-2c39-4de0-8a96-83fc9bd76be4",
        "id": "WOOq8qkUtizA"
      },
      "outputs": [
        {
          "output_type": "stream",
          "name": "stderr",
          "text": [
            "INFO flwr 2024-01-04 04:57:21,541 | app.py:178 | Starting Flower simulation, config: ServerConfig(num_rounds=10, round_timeout=None)\n",
            "INFO:flwr:Starting Flower simulation, config: ServerConfig(num_rounds=10, round_timeout=None)\n",
            "2024-01-04 04:57:26,546\tINFO worker.py:1621 -- Started a local Ray instance.\n",
            "INFO flwr 2024-01-04 04:57:29,676 | app.py:213 | Flower VCE: Ray initialized with resources: {'object_store_memory': 3943372800.0, 'node:__internal_head__': 1.0, 'CPU': 2.0, 'memory': 7886745600.0, 'GPU': 1.0, 'node:172.28.0.12': 1.0}\n",
            "INFO:flwr:Flower VCE: Ray initialized with resources: {'object_store_memory': 3943372800.0, 'node:__internal_head__': 1.0, 'CPU': 2.0, 'memory': 7886745600.0, 'GPU': 1.0, 'node:172.28.0.12': 1.0}\n",
            "INFO flwr 2024-01-04 04:57:29,685 | app.py:219 | Optimize your simulation with Flower VCE: https://flower.dev/docs/framework/how-to-run-simulations.html\n",
            "INFO:flwr:Optimize your simulation with Flower VCE: https://flower.dev/docs/framework/how-to-run-simulations.html\n",
            "INFO flwr 2024-01-04 04:57:29,691 | app.py:242 | Flower VCE: Resources for each Virtual Client: {'num_cpus': 2, 'num_gpus': 1.0}\n",
            "INFO:flwr:Flower VCE: Resources for each Virtual Client: {'num_cpus': 2, 'num_gpus': 1.0}\n",
            "INFO flwr 2024-01-04 04:57:29,751 | app.py:288 | Flower VCE: Creating VirtualClientEngineActorPool with 1 actors\n",
            "INFO:flwr:Flower VCE: Creating VirtualClientEngineActorPool with 1 actors\n",
            "INFO flwr 2024-01-04 04:57:29,755 | server.py:89 | Initializing global parameters\n",
            "INFO:flwr:Initializing global parameters\n",
            "INFO flwr 2024-01-04 04:57:29,758 | server.py:276 | Requesting initial parameters from one random client\n",
            "INFO:flwr:Requesting initial parameters from one random client\n",
            "\u001b[2m\u001b[36m(pid=2332)\u001b[0m 2024-01-04 04:57:33.476067: E external/local_xla/xla/stream_executor/cuda/cuda_dnn.cc:9261] Unable to register cuDNN factory: Attempting to register factory for plugin cuDNN when one has already been registered\n",
            "\u001b[2m\u001b[36m(pid=2332)\u001b[0m 2024-01-04 04:57:33.476132: E external/local_xla/xla/stream_executor/cuda/cuda_fft.cc:607] Unable to register cuFFT factory: Attempting to register factory for plugin cuFFT when one has already been registered\n",
            "\u001b[2m\u001b[36m(pid=2332)\u001b[0m 2024-01-04 04:57:33.477754: E external/local_xla/xla/stream_executor/cuda/cuda_blas.cc:1515] Unable to register cuBLAS factory: Attempting to register factory for plugin cuBLAS when one has already been registered\n",
            "\u001b[2m\u001b[36m(pid=2332)\u001b[0m 2024-01-04 04:57:39.700038: W tensorflow/compiler/tf2tensorrt/utils/py_utils.cc:38] TF-TRT Warning: Could not find TensorRT\n",
            "INFO flwr 2024-01-04 04:57:43,966 | server.py:280 | Received initial parameters from one random client\n",
            "INFO:flwr:Received initial parameters from one random client\n",
            "INFO flwr 2024-01-04 04:57:43,972 | server.py:91 | Evaluating initial parameters\n",
            "INFO:flwr:Evaluating initial parameters\n"
          ]
        },
        {
          "output_type": "stream",
          "name": "stdout",
          "text": [
            "\u001b[2m\u001b[36m(DefaultActor pid=2332)\u001b[0m [Client 25] get_parameters\n"
          ]
        },
        {
          "output_type": "stream",
          "name": "stderr",
          "text": [
            "INFO flwr 2024-01-04 04:57:49,957 | server.py:94 | initial parameters (loss, other metrics): 460.51331543922424, {'accuracy': 0.1028}\n",
            "INFO:flwr:initial parameters (loss, other metrics): 460.51331543922424, {'accuracy': 0.1028}\n",
            "INFO flwr 2024-01-04 04:57:49,962 | server.py:104 | FL starting\n",
            "INFO:flwr:FL starting\n",
            "DEBUG flwr 2024-01-04 04:57:49,966 | server.py:222 | fit_round 1: strategy sampled 10 clients (out of 30)\n",
            "DEBUG:flwr:fit_round 1: strategy sampled 10 clients (out of 30)\n"
          ]
        },
        {
          "output_type": "stream",
          "name": "stdout",
          "text": [
            "\u001b[2m\u001b[36m(DefaultActor pid=2332)\u001b[0m [Client 18] fit, config: {'epochs': 10, 'lr': 0.1, 'attacker_epochs': 20, 'attacker_lr': 0.05}\n",
            "\u001b[2m\u001b[36m(DefaultActor pid=2332)\u001b[0m [Client 18] get_parameters\n",
            "\u001b[2m\u001b[36m(DefaultActor pid=2332)\u001b[0m [Client 2] fit, config: {'epochs': 10, 'lr': 0.1, 'attacker_epochs': 20, 'attacker_lr': 0.05}\n",
            "\u001b[2m\u001b[36m(DefaultActor pid=2332)\u001b[0m [Client 2] get_parameters\n",
            "\u001b[2m\u001b[36m(DefaultActor pid=2332)\u001b[0m [Client 1] fit, config: {'epochs': 10, 'lr': 0.1, 'attacker_epochs': 20, 'attacker_lr': 0.05}\n",
            "\u001b[2m\u001b[36m(DefaultActor pid=2332)\u001b[0m [Client 1] get_parameters\n",
            "\u001b[2m\u001b[36m(DefaultActor pid=2332)\u001b[0m [Client 5] fit, config: {'epochs': 10, 'lr': 0.1, 'attacker_epochs': 20, 'attacker_lr': 0.05}\n",
            "\u001b[2m\u001b[36m(DefaultActor pid=2332)\u001b[0m [Client 5] get_parameters\n",
            "\u001b[2m\u001b[36m(DefaultActor pid=2332)\u001b[0m [Client 8] fit, config: {'epochs': 10, 'lr': 0.1, 'attacker_epochs': 20, 'attacker_lr': 0.05}\n",
            "\u001b[2m\u001b[36m(DefaultActor pid=2332)\u001b[0m [Client 8] get_parameters\n",
            "\u001b[2m\u001b[36m(DefaultActor pid=2332)\u001b[0m [Client 4] fit, config: {'epochs': 10, 'lr': 0.1, 'attacker_epochs': 20, 'attacker_lr': 0.05}\n",
            "\u001b[2m\u001b[36m(DefaultActor pid=2332)\u001b[0m [Client 4] get_parameters\n",
            "\u001b[2m\u001b[36m(DefaultActor pid=2332)\u001b[0m [Client 26] fit, config: {'epochs': 10, 'lr': 0.1, 'attacker_epochs': 20, 'attacker_lr': 0.05}\n",
            "\u001b[2m\u001b[36m(DefaultActor pid=2332)\u001b[0m [Client 26] get_parameters\n",
            "\u001b[2m\u001b[36m(DefaultActor pid=2332)\u001b[0m [Client 27] fit, config: {'epochs': 10, 'lr': 0.1, 'attacker_epochs': 20, 'attacker_lr': 0.05}\n",
            "\u001b[2m\u001b[36m(DefaultActor pid=2332)\u001b[0m [Client 27] get_parameters\n",
            "\u001b[2m\u001b[36m(DefaultActor pid=2332)\u001b[0m [Client 29] fit, config: {'epochs': 10, 'lr': 0.1, 'attacker_epochs': 20, 'attacker_lr': 0.05}\n",
            "\u001b[2m\u001b[36m(DefaultActor pid=2332)\u001b[0m [Client 29] get_parameters\n",
            "\u001b[2m\u001b[36m(DefaultActor pid=2332)\u001b[0m [Client 3] fit, config: {'epochs': 10, 'lr': 0.1, 'attacker_epochs': 20, 'attacker_lr': 0.05}\n"
          ]
        },
        {
          "output_type": "stream",
          "name": "stderr",
          "text": [
            "DEBUG flwr 2024-01-04 04:59:28,056 | server.py:236 | fit_round 1 received 10 results and 0 failures\n",
            "DEBUG:flwr:fit_round 1 received 10 results and 0 failures\n",
            "WARNING flwr 2024-01-04 04:59:28,168 | fedavg.py:242 | No fit_metrics_aggregation_fn provided\n",
            "WARNING:flwr:No fit_metrics_aggregation_fn provided\n"
          ]
        },
        {
          "output_type": "stream",
          "name": "stdout",
          "text": [
            "\u001b[2m\u001b[36m(DefaultActor pid=2332)\u001b[0m [Client 3] get_parameters\n",
            "Saving round 1 aggregated_parameters...\n"
          ]
        },
        {
          "output_type": "stream",
          "name": "stderr",
          "text": [
            "INFO flwr 2024-01-04 04:59:33,033 | server.py:125 | fit progress: (1, 460.49721121788025, {'accuracy': 0.1028}, 103.06699446300001)\n",
            "INFO:flwr:fit progress: (1, 460.49721121788025, {'accuracy': 0.1028}, 103.06699446300001)\n",
            "DEBUG flwr 2024-01-04 04:59:33,041 | server.py:173 | evaluate_round 1: strategy sampled 10 clients (out of 30)\n",
            "DEBUG:flwr:evaluate_round 1: strategy sampled 10 clients (out of 30)\n"
          ]
        },
        {
          "output_type": "stream",
          "name": "stdout",
          "text": [
            "\u001b[2m\u001b[36m(DefaultActor pid=2332)\u001b[0m [Client 11] evaluate, config: {}, local accuracy: 0.055\n",
            "\u001b[2m\u001b[36m(DefaultActor pid=2332)\u001b[0m [Client 20] evaluate, config: {}, local accuracy: 0.13\n",
            "\u001b[2m\u001b[36m(DefaultActor pid=2332)\u001b[0m [Client 26] evaluate, config: {}, local accuracy: 0.105\n",
            "\u001b[2m\u001b[36m(DefaultActor pid=2332)\u001b[0m [Client 1] evaluate, config: {}, local accuracy: 0.085\n",
            "\u001b[2m\u001b[36m(DefaultActor pid=2332)\u001b[0m [Client 13] evaluate, config: {}, local accuracy: 0.105\n",
            "\u001b[2m\u001b[36m(DefaultActor pid=2332)\u001b[0m [Client 17] evaluate, config: {}, local accuracy: 0.105\n",
            "\u001b[2m\u001b[36m(DefaultActor pid=2332)\u001b[0m [Client 4] evaluate, config: {}, local accuracy: 0.13\n",
            "\u001b[2m\u001b[36m(DefaultActor pid=2332)\u001b[0m [Client 10] evaluate, config: {}, local accuracy: 0.13\n"
          ]
        },
        {
          "output_type": "stream",
          "name": "stderr",
          "text": [
            "DEBUG flwr 2024-01-04 04:59:34,710 | server.py:187 | evaluate_round 1 received 10 results and 0 failures\n",
            "DEBUG:flwr:evaluate_round 1 received 10 results and 0 failures\n",
            "DEBUG flwr 2024-01-04 04:59:34,714 | server.py:222 | fit_round 2: strategy sampled 10 clients (out of 30)\n",
            "DEBUG:flwr:fit_round 2: strategy sampled 10 clients (out of 30)\n"
          ]
        },
        {
          "output_type": "stream",
          "name": "stdout",
          "text": [
            "\u001b[2m\u001b[36m(DefaultActor pid=2332)\u001b[0m [Client 21] evaluate, config: {}, local accuracy: 0.15\n",
            "\u001b[2m\u001b[36m(DefaultActor pid=2332)\u001b[0m [Client 15] evaluate, config: {}, local accuracy: 0.115\n",
            "\u001b[2m\u001b[36m(DefaultActor pid=2332)\u001b[0m [Client 3] fit, config: {'epochs': 10, 'lr': 0.1, 'attacker_epochs': 20, 'attacker_lr': 0.05}\n",
            "\u001b[2m\u001b[36m(DefaultActor pid=2332)\u001b[0m [Client 3] get_parameters\n",
            "\u001b[2m\u001b[36m(DefaultActor pid=2332)\u001b[0m [Client 5] fit, config: {'epochs': 10, 'lr': 0.1, 'attacker_epochs': 20, 'attacker_lr': 0.05}\n",
            "\u001b[2m\u001b[36m(DefaultActor pid=2332)\u001b[0m [Client 5] get_parameters\n",
            "\u001b[2m\u001b[36m(DefaultActor pid=2332)\u001b[0m [Client 13] fit, config: {'epochs': 10, 'lr': 0.1, 'attacker_epochs': 20, 'attacker_lr': 0.05}\n",
            "\u001b[2m\u001b[36m(DefaultActor pid=2332)\u001b[0m [Client 13] get_parameters\n",
            "\u001b[2m\u001b[36m(DefaultActor pid=2332)\u001b[0m [Client 11] fit, config: {'epochs': 10, 'lr': 0.1, 'attacker_epochs': 20, 'attacker_lr': 0.05}\n",
            "\u001b[2m\u001b[36m(DefaultActor pid=2332)\u001b[0m [Client 11] get_parameters\n",
            "\u001b[2m\u001b[36m(DefaultActor pid=2332)\u001b[0m [Client 4] fit, config: {'epochs': 10, 'lr': 0.1, 'attacker_epochs': 20, 'attacker_lr': 0.05}\n",
            "\u001b[2m\u001b[36m(DefaultActor pid=2332)\u001b[0m [Client 4] get_parameters\n",
            "\u001b[2m\u001b[36m(DefaultActor pid=2332)\u001b[0m [Client 20] fit, config: {'epochs': 10, 'lr': 0.1, 'attacker_epochs': 20, 'attacker_lr': 0.05}\n",
            "\u001b[2m\u001b[36m(DefaultActor pid=2332)\u001b[0m [Client 20] get_parameters\n",
            "\u001b[2m\u001b[36m(DefaultActor pid=2332)\u001b[0m [Client 21] fit, config: {'epochs': 10, 'lr': 0.1, 'attacker_epochs': 20, 'attacker_lr': 0.05}\n",
            "\u001b[2m\u001b[36m(DefaultActor pid=2332)\u001b[0m [Client 21] get_parameters\n",
            "\u001b[2m\u001b[36m(DefaultActor pid=2332)\u001b[0m [Client 1] fit, config: {'epochs': 10, 'lr': 0.1, 'attacker_epochs': 20, 'attacker_lr': 0.05}\n",
            "\u001b[2m\u001b[36m(DefaultActor pid=2332)\u001b[0m [Client 1] get_parameters\n",
            "\u001b[2m\u001b[36m(DefaultActor pid=2332)\u001b[0m [Client 27] fit, config: {'epochs': 10, 'lr': 0.1, 'attacker_epochs': 20, 'attacker_lr': 0.05}\n",
            "\u001b[2m\u001b[36m(DefaultActor pid=2332)\u001b[0m [Client 27] get_parameters\n",
            "\u001b[2m\u001b[36m(DefaultActor pid=2332)\u001b[0m [Client 9] fit, config: {'epochs': 10, 'lr': 0.1, 'attacker_epochs': 20, 'attacker_lr': 0.05}\n"
          ]
        },
        {
          "output_type": "stream",
          "name": "stderr",
          "text": [
            "DEBUG flwr 2024-01-04 05:01:10,272 | server.py:236 | fit_round 2 received 10 results and 0 failures\n",
            "DEBUG:flwr:fit_round 2 received 10 results and 0 failures\n"
          ]
        },
        {
          "output_type": "stream",
          "name": "stdout",
          "text": [
            "\u001b[2m\u001b[36m(DefaultActor pid=2332)\u001b[0m [Client 9] get_parameters\n",
            "Saving round 2 aggregated_parameters...\n"
          ]
        },
        {
          "output_type": "stream",
          "name": "stderr",
          "text": [
            "INFO flwr 2024-01-04 05:01:14,686 | server.py:125 | fit progress: (2, 460.47889137268066, {'accuracy': 0.1135}, 204.72028629200008)\n",
            "INFO:flwr:fit progress: (2, 460.47889137268066, {'accuracy': 0.1135}, 204.72028629200008)\n",
            "DEBUG flwr 2024-01-04 05:01:14,690 | server.py:173 | evaluate_round 2: strategy sampled 10 clients (out of 30)\n",
            "DEBUG:flwr:evaluate_round 2: strategy sampled 10 clients (out of 30)\n"
          ]
        },
        {
          "output_type": "stream",
          "name": "stdout",
          "text": [
            "\u001b[2m\u001b[36m(DefaultActor pid=2332)\u001b[0m [Client 15] evaluate, config: {}, local accuracy: 0.11\n",
            "\u001b[2m\u001b[36m(DefaultActor pid=2332)\u001b[0m [Client 25] evaluate, config: {}, local accuracy: 0.075\n",
            "\u001b[2m\u001b[36m(DefaultActor pid=2332)\u001b[0m [Client 24] evaluate, config: {}, local accuracy: 0.1\n",
            "\u001b[2m\u001b[36m(DefaultActor pid=2332)\u001b[0m [Client 8] evaluate, config: {}, local accuracy: 0.1\n",
            "\u001b[2m\u001b[36m(DefaultActor pid=2332)\u001b[0m [Client 10] evaluate, config: {}, local accuracy: 0.115\n",
            "\u001b[2m\u001b[36m(DefaultActor pid=2332)\u001b[0m [Client 19] evaluate, config: {}, local accuracy: 0.105\n",
            "\u001b[2m\u001b[36m(DefaultActor pid=2332)\u001b[0m [Client 20] evaluate, config: {}, local accuracy: 0.09\n",
            "\u001b[2m\u001b[36m(DefaultActor pid=2332)\u001b[0m [Client 11] evaluate, config: {}, local accuracy: 0.115\n",
            "\u001b[2m\u001b[36m(DefaultActor pid=2332)\u001b[0m [Client 12] evaluate, config: {}, local accuracy: 0.12\n"
          ]
        },
        {
          "output_type": "stream",
          "name": "stderr",
          "text": [
            "DEBUG flwr 2024-01-04 05:01:16,304 | server.py:187 | evaluate_round 2 received 10 results and 0 failures\n",
            "DEBUG:flwr:evaluate_round 2 received 10 results and 0 failures\n",
            "DEBUG flwr 2024-01-04 05:01:16,308 | server.py:222 | fit_round 3: strategy sampled 10 clients (out of 30)\n",
            "DEBUG:flwr:fit_round 3: strategy sampled 10 clients (out of 30)\n"
          ]
        },
        {
          "output_type": "stream",
          "name": "stdout",
          "text": [
            "\u001b[2m\u001b[36m(DefaultActor pid=2332)\u001b[0m [Client 29] evaluate, config: {}, local accuracy: 0.135\n",
            "\u001b[2m\u001b[36m(DefaultActor pid=2332)\u001b[0m [Client 3] fit, config: {'epochs': 10, 'lr': 0.1, 'attacker_epochs': 20, 'attacker_lr': 0.05}\n",
            "\u001b[2m\u001b[36m(DefaultActor pid=2332)\u001b[0m [Client 3] get_parameters\n",
            "\u001b[2m\u001b[36m(DefaultActor pid=2332)\u001b[0m [Client 17] fit, config: {'epochs': 10, 'lr': 0.1, 'attacker_epochs': 20, 'attacker_lr': 0.05}\n",
            "\u001b[2m\u001b[36m(DefaultActor pid=2332)\u001b[0m [Client 17] get_parameters\n",
            "\u001b[2m\u001b[36m(DefaultActor pid=2332)\u001b[0m [Client 14] fit, config: {'epochs': 10, 'lr': 0.1, 'attacker_epochs': 20, 'attacker_lr': 0.05}\n",
            "\u001b[2m\u001b[36m(DefaultActor pid=2332)\u001b[0m [Client 14] get_parameters\n",
            "\u001b[2m\u001b[36m(DefaultActor pid=2332)\u001b[0m [Client 0] fit, config: {'epochs': 10, 'lr': 0.1, 'attacker_epochs': 20, 'attacker_lr': 0.05}\n",
            "\u001b[2m\u001b[36m(DefaultActor pid=2332)\u001b[0m [Client 0] get_parameters\n",
            "\u001b[2m\u001b[36m(DefaultActor pid=2332)\u001b[0m [Client 7] fit, config: {'epochs': 10, 'lr': 0.1, 'attacker_epochs': 20, 'attacker_lr': 0.05}\n",
            "\u001b[2m\u001b[36m(DefaultActor pid=2332)\u001b[0m [Client 7] get_parameters\n",
            "\u001b[2m\u001b[36m(DefaultActor pid=2332)\u001b[0m [Client 28] fit, config: {'epochs': 10, 'lr': 0.1, 'attacker_epochs': 20, 'attacker_lr': 0.05}\n",
            "\u001b[2m\u001b[36m(DefaultActor pid=2332)\u001b[0m [Client 28] get_parameters\n",
            "\u001b[2m\u001b[36m(DefaultActor pid=2332)\u001b[0m [Client 1] fit, config: {'epochs': 10, 'lr': 0.1, 'attacker_epochs': 20, 'attacker_lr': 0.05}\n",
            "\u001b[2m\u001b[36m(DefaultActor pid=2332)\u001b[0m [Client 1] get_parameters\n",
            "\u001b[2m\u001b[36m(DefaultActor pid=2332)\u001b[0m [Client 8] fit, config: {'epochs': 10, 'lr': 0.1, 'attacker_epochs': 20, 'attacker_lr': 0.05}\n",
            "\u001b[2m\u001b[36m(DefaultActor pid=2332)\u001b[0m [Client 8] get_parameters\n",
            "\u001b[2m\u001b[36m(DefaultActor pid=2332)\u001b[0m [Client 23] fit, config: {'epochs': 10, 'lr': 0.1, 'attacker_epochs': 20, 'attacker_lr': 0.05}\n",
            "\u001b[2m\u001b[36m(DefaultActor pid=2332)\u001b[0m [Client 23] get_parameters\n",
            "\u001b[2m\u001b[36m(DefaultActor pid=2332)\u001b[0m [Client 12] fit, config: {'epochs': 10, 'lr': 0.1, 'attacker_epochs': 20, 'attacker_lr': 0.05}\n"
          ]
        },
        {
          "output_type": "stream",
          "name": "stderr",
          "text": [
            "DEBUG flwr 2024-01-04 05:02:52,102 | server.py:236 | fit_round 3 received 10 results and 0 failures\n",
            "DEBUG:flwr:fit_round 3 received 10 results and 0 failures\n"
          ]
        },
        {
          "output_type": "stream",
          "name": "stdout",
          "text": [
            "\u001b[2m\u001b[36m(DefaultActor pid=2332)\u001b[0m [Client 12] get_parameters\n",
            "Saving round 3 aggregated_parameters...\n"
          ]
        },
        {
          "output_type": "stream",
          "name": "stderr",
          "text": [
            "INFO flwr 2024-01-04 05:02:57,280 | server.py:125 | fit progress: (3, 460.46050548553467, {'accuracy': 0.1135}, 307.314344807)\n",
            "INFO:flwr:fit progress: (3, 460.46050548553467, {'accuracy': 0.1135}, 307.314344807)\n",
            "DEBUG flwr 2024-01-04 05:02:57,289 | server.py:173 | evaluate_round 3: strategy sampled 10 clients (out of 30)\n",
            "DEBUG:flwr:evaluate_round 3: strategy sampled 10 clients (out of 30)\n"
          ]
        },
        {
          "output_type": "stream",
          "name": "stdout",
          "text": [
            "\u001b[2m\u001b[36m(DefaultActor pid=2332)\u001b[0m [Client 1] evaluate, config: {}, local accuracy: 0.13\n",
            "\u001b[2m\u001b[36m(DefaultActor pid=2332)\u001b[0m [Client 7] evaluate, config: {}, local accuracy: 0.095\n",
            "\u001b[2m\u001b[36m(DefaultActor pid=2332)\u001b[0m [Client 18] evaluate, config: {}, local accuracy: 0.115\n",
            "\u001b[2m\u001b[36m(DefaultActor pid=2332)\u001b[0m [Client 3] evaluate, config: {}, local accuracy: 0.11\n",
            "\u001b[2m\u001b[36m(DefaultActor pid=2332)\u001b[0m [Client 22] evaluate, config: {}, local accuracy: 0.09\n",
            "\u001b[2m\u001b[36m(DefaultActor pid=2332)\u001b[0m [Client 15] evaluate, config: {}, local accuracy: 0.1\n",
            "\u001b[2m\u001b[36m(DefaultActor pid=2332)\u001b[0m [Client 5] evaluate, config: {}, local accuracy: 0.125\n",
            "\u001b[2m\u001b[36m(DefaultActor pid=2332)\u001b[0m [Client 19] evaluate, config: {}, local accuracy: 0.085\n",
            "\u001b[2m\u001b[36m(DefaultActor pid=2332)\u001b[0m [Client 26] evaluate, config: {}, local accuracy: 0.12\n"
          ]
        },
        {
          "output_type": "stream",
          "name": "stderr",
          "text": [
            "DEBUG flwr 2024-01-04 05:02:59,450 | server.py:187 | evaluate_round 3 received 10 results and 0 failures\n",
            "DEBUG:flwr:evaluate_round 3 received 10 results and 0 failures\n",
            "DEBUG flwr 2024-01-04 05:02:59,455 | server.py:222 | fit_round 4: strategy sampled 10 clients (out of 30)\n",
            "DEBUG:flwr:fit_round 4: strategy sampled 10 clients (out of 30)\n"
          ]
        },
        {
          "output_type": "stream",
          "name": "stdout",
          "text": [
            "\u001b[2m\u001b[36m(DefaultActor pid=2332)\u001b[0m [Client 21] evaluate, config: {}, local accuracy: 0.155\n",
            "\u001b[2m\u001b[36m(DefaultActor pid=2332)\u001b[0m [Client 10] fit, config: {'epochs': 10, 'lr': 0.1, 'attacker_epochs': 20, 'attacker_lr': 0.05}\n",
            "\u001b[2m\u001b[36m(DefaultActor pid=2332)\u001b[0m [Client 10] get_parameters\n",
            "\u001b[2m\u001b[36m(DefaultActor pid=2332)\u001b[0m [Client 6] fit, config: {'epochs': 10, 'lr': 0.1, 'attacker_epochs': 20, 'attacker_lr': 0.05}\n",
            "\u001b[2m\u001b[36m(DefaultActor pid=2332)\u001b[0m [Client 6] get_parameters\n",
            "\u001b[2m\u001b[36m(DefaultActor pid=2332)\u001b[0m [Client 22] fit, config: {'epochs': 10, 'lr': 0.1, 'attacker_epochs': 20, 'attacker_lr': 0.05}\n",
            "\u001b[2m\u001b[36m(DefaultActor pid=2332)\u001b[0m [Client 22] get_parameters\n",
            "\u001b[2m\u001b[36m(DefaultActor pid=2332)\u001b[0m [Client 13] fit, config: {'epochs': 10, 'lr': 0.1, 'attacker_epochs': 20, 'attacker_lr': 0.05}\n",
            "\u001b[2m\u001b[36m(DefaultActor pid=2332)\u001b[0m [Client 13] get_parameters\n",
            "\u001b[2m\u001b[36m(DefaultActor pid=2332)\u001b[0m [Client 17] fit, config: {'epochs': 10, 'lr': 0.1, 'attacker_epochs': 20, 'attacker_lr': 0.05}\n",
            "\u001b[2m\u001b[36m(DefaultActor pid=2332)\u001b[0m [Client 17] get_parameters\n",
            "\u001b[2m\u001b[36m(DefaultActor pid=2332)\u001b[0m [Client 8] fit, config: {'epochs': 10, 'lr': 0.1, 'attacker_epochs': 20, 'attacker_lr': 0.05}\n",
            "\u001b[2m\u001b[36m(DefaultActor pid=2332)\u001b[0m [Client 8] get_parameters\n",
            "\u001b[2m\u001b[36m(DefaultActor pid=2332)\u001b[0m [Client 20] fit, config: {'epochs': 10, 'lr': 0.1, 'attacker_epochs': 20, 'attacker_lr': 0.05}\n",
            "\u001b[2m\u001b[36m(DefaultActor pid=2332)\u001b[0m [Client 20] get_parameters\n",
            "\u001b[2m\u001b[36m(DefaultActor pid=2332)\u001b[0m [Client 15] fit, config: {'epochs': 10, 'lr': 0.1, 'attacker_epochs': 20, 'attacker_lr': 0.05}\n",
            "\u001b[2m\u001b[36m(DefaultActor pid=2332)\u001b[0m [Client 15] get_parameters\n",
            "\u001b[2m\u001b[36m(DefaultActor pid=2332)\u001b[0m [Client 7] fit, config: {'epochs': 10, 'lr': 0.1, 'attacker_epochs': 20, 'attacker_lr': 0.05}\n",
            "\u001b[2m\u001b[36m(DefaultActor pid=2332)\u001b[0m [Client 7] get_parameters\n",
            "\u001b[2m\u001b[36m(DefaultActor pid=2332)\u001b[0m [Client 11] fit, config: {'epochs': 10, 'lr': 0.1, 'attacker_epochs': 20, 'attacker_lr': 0.05}\n"
          ]
        },
        {
          "output_type": "stream",
          "name": "stderr",
          "text": [
            "DEBUG flwr 2024-01-04 05:04:34,641 | server.py:236 | fit_round 4 received 10 results and 0 failures\n",
            "DEBUG:flwr:fit_round 4 received 10 results and 0 failures\n"
          ]
        },
        {
          "output_type": "stream",
          "name": "stdout",
          "text": [
            "\u001b[2m\u001b[36m(DefaultActor pid=2332)\u001b[0m [Client 11] get_parameters\n",
            "Saving round 4 aggregated_parameters...\n"
          ]
        },
        {
          "output_type": "stream",
          "name": "stderr",
          "text": [
            "INFO flwr 2024-01-04 05:04:39,541 | server.py:125 | fit progress: (4, 460.44226026535034, {'accuracy': 0.1135}, 409.575942897)\n",
            "INFO:flwr:fit progress: (4, 460.44226026535034, {'accuracy': 0.1135}, 409.575942897)\n",
            "DEBUG flwr 2024-01-04 05:04:39,545 | server.py:173 | evaluate_round 4: strategy sampled 10 clients (out of 30)\n",
            "DEBUG:flwr:evaluate_round 4: strategy sampled 10 clients (out of 30)\n"
          ]
        },
        {
          "output_type": "stream",
          "name": "stdout",
          "text": [
            "\u001b[2m\u001b[36m(DefaultActor pid=2332)\u001b[0m [Client 12] evaluate, config: {}, local accuracy: 0.1\n",
            "\u001b[2m\u001b[36m(DefaultActor pid=2332)\u001b[0m [Client 2] evaluate, config: {}, local accuracy: 0.145\n",
            "\u001b[2m\u001b[36m(DefaultActor pid=2332)\u001b[0m [Client 7] evaluate, config: {}, local accuracy: 0.125\n",
            "\u001b[2m\u001b[36m(DefaultActor pid=2332)\u001b[0m [Client 27] evaluate, config: {}, local accuracy: 0.115\n",
            "\u001b[2m\u001b[36m(DefaultActor pid=2332)\u001b[0m [Client 14] evaluate, config: {}, local accuracy: 0.155\n",
            "\u001b[2m\u001b[36m(DefaultActor pid=2332)\u001b[0m [Client 26] evaluate, config: {}, local accuracy: 0.11\n",
            "\u001b[2m\u001b[36m(DefaultActor pid=2332)\u001b[0m [Client 6] evaluate, config: {}, local accuracy: 0.165\n",
            "\u001b[2m\u001b[36m(DefaultActor pid=2332)\u001b[0m [Client 17] evaluate, config: {}, local accuracy: 0.105\n"
          ]
        },
        {
          "output_type": "stream",
          "name": "stderr",
          "text": [
            "DEBUG flwr 2024-01-04 05:04:41,176 | server.py:187 | evaluate_round 4 received 10 results and 0 failures\n",
            "DEBUG:flwr:evaluate_round 4 received 10 results and 0 failures\n",
            "DEBUG flwr 2024-01-04 05:04:41,180 | server.py:222 | fit_round 5: strategy sampled 10 clients (out of 30)\n",
            "DEBUG:flwr:fit_round 5: strategy sampled 10 clients (out of 30)\n"
          ]
        },
        {
          "output_type": "stream",
          "name": "stdout",
          "text": [
            "\u001b[2m\u001b[36m(DefaultActor pid=2332)\u001b[0m [Client 15] evaluate, config: {}, local accuracy: 0.105\n",
            "\u001b[2m\u001b[36m(DefaultActor pid=2332)\u001b[0m [Client 0] evaluate, config: {}, local accuracy: 0.09\n",
            "\u001b[2m\u001b[36m(DefaultActor pid=2332)\u001b[0m [Client 0] fit, config: {'epochs': 10, 'lr': 0.1, 'attacker_epochs': 20, 'attacker_lr': 0.05}\n",
            "\u001b[2m\u001b[36m(DefaultActor pid=2332)\u001b[0m [Client 0] get_parameters\n",
            "\u001b[2m\u001b[36m(DefaultActor pid=2332)\u001b[0m [Client 3] fit, config: {'epochs': 10, 'lr': 0.1, 'attacker_epochs': 20, 'attacker_lr': 0.05}\n",
            "\u001b[2m\u001b[36m(DefaultActor pid=2332)\u001b[0m [Client 3] get_parameters\n",
            "\u001b[2m\u001b[36m(DefaultActor pid=2332)\u001b[0m [Client 12] fit, config: {'epochs': 10, 'lr': 0.1, 'attacker_epochs': 20, 'attacker_lr': 0.05}\n",
            "\u001b[2m\u001b[36m(DefaultActor pid=2332)\u001b[0m [Client 12] get_parameters\n",
            "\u001b[2m\u001b[36m(DefaultActor pid=2332)\u001b[0m [Client 25] fit, config: {'epochs': 10, 'lr': 0.1, 'attacker_epochs': 20, 'attacker_lr': 0.05}\n",
            "\u001b[2m\u001b[36m(DefaultActor pid=2332)\u001b[0m [Client 25] get_parameters\n",
            "\u001b[2m\u001b[36m(DefaultActor pid=2332)\u001b[0m [Client 9] fit, config: {'epochs': 10, 'lr': 0.1, 'attacker_epochs': 20, 'attacker_lr': 0.05}\n",
            "\u001b[2m\u001b[36m(DefaultActor pid=2332)\u001b[0m [Client 9] get_parameters\n",
            "\u001b[2m\u001b[36m(DefaultActor pid=2332)\u001b[0m [Client 26] fit, config: {'epochs': 10, 'lr': 0.1, 'attacker_epochs': 20, 'attacker_lr': 0.05}\n",
            "\u001b[2m\u001b[36m(DefaultActor pid=2332)\u001b[0m [Client 26] get_parameters\n",
            "\u001b[2m\u001b[36m(DefaultActor pid=2332)\u001b[0m [Client 6] fit, config: {'epochs': 10, 'lr': 0.1, 'attacker_epochs': 20, 'attacker_lr': 0.05}\n",
            "\u001b[2m\u001b[36m(DefaultActor pid=2332)\u001b[0m [Client 6] get_parameters\n",
            "\u001b[2m\u001b[36m(DefaultActor pid=2332)\u001b[0m [Client 19] fit, config: {'epochs': 10, 'lr': 0.1, 'attacker_epochs': 20, 'attacker_lr': 0.05}\n",
            "\u001b[2m\u001b[36m(DefaultActor pid=2332)\u001b[0m [Client 19] get_parameters\n",
            "\u001b[2m\u001b[36m(DefaultActor pid=2332)\u001b[0m [Client 4] fit, config: {'epochs': 10, 'lr': 0.1, 'attacker_epochs': 20, 'attacker_lr': 0.05}\n",
            "\u001b[2m\u001b[36m(DefaultActor pid=2332)\u001b[0m [Client 4] get_parameters\n",
            "\u001b[2m\u001b[36m(DefaultActor pid=2332)\u001b[0m [Client 29] fit, config: {'epochs': 10, 'lr': 0.1, 'attacker_epochs': 20, 'attacker_lr': 0.05}\n"
          ]
        },
        {
          "output_type": "stream",
          "name": "stderr",
          "text": [
            "DEBUG flwr 2024-01-04 05:06:17,195 | server.py:236 | fit_round 5 received 10 results and 0 failures\n",
            "DEBUG:flwr:fit_round 5 received 10 results and 0 failures\n"
          ]
        },
        {
          "output_type": "stream",
          "name": "stdout",
          "text": [
            "Saving round 5 aggregated_parameters...\n",
            "\u001b[2m\u001b[36m(DefaultActor pid=2332)\u001b[0m [Client 29] get_parameters\n"
          ]
        },
        {
          "output_type": "stream",
          "name": "stderr",
          "text": [
            "INFO flwr 2024-01-04 05:06:21,645 | server.py:125 | fit progress: (5, 460.4170424938202, {'accuracy': 0.1135}, 511.67958742400003)\n",
            "INFO:flwr:fit progress: (5, 460.4170424938202, {'accuracy': 0.1135}, 511.67958742400003)\n",
            "DEBUG flwr 2024-01-04 05:06:21,649 | server.py:173 | evaluate_round 5: strategy sampled 10 clients (out of 30)\n",
            "DEBUG:flwr:evaluate_round 5: strategy sampled 10 clients (out of 30)\n"
          ]
        },
        {
          "output_type": "stream",
          "name": "stdout",
          "text": [
            "\u001b[2m\u001b[36m(DefaultActor pid=2332)\u001b[0m [Client 10] evaluate, config: {}, local accuracy: 0.105\n",
            "\u001b[2m\u001b[36m(DefaultActor pid=2332)\u001b[0m [Client 23] evaluate, config: {}, local accuracy: 0.125\n",
            "\u001b[2m\u001b[36m(DefaultActor pid=2332)\u001b[0m [Client 16] evaluate, config: {}, local accuracy: 0.145\n",
            "\u001b[2m\u001b[36m(DefaultActor pid=2332)\u001b[0m [Client 21] evaluate, config: {}, local accuracy: 0.15\n",
            "\u001b[2m\u001b[36m(DefaultActor pid=2332)\u001b[0m [Client 5] evaluate, config: {}, local accuracy: 0.085\n",
            "\u001b[2m\u001b[36m(DefaultActor pid=2332)\u001b[0m [Client 6] evaluate, config: {}, local accuracy: 0.105\n",
            "\u001b[2m\u001b[36m(DefaultActor pid=2332)\u001b[0m [Client 0] evaluate, config: {}, local accuracy: 0.14\n",
            "\u001b[2m\u001b[36m(DefaultActor pid=2332)\u001b[0m [Client 15] evaluate, config: {}, local accuracy: 0.095\n",
            "\u001b[2m\u001b[36m(DefaultActor pid=2332)\u001b[0m [Client 3] evaluate, config: {}, local accuracy: 0.085\n"
          ]
        },
        {
          "output_type": "stream",
          "name": "stderr",
          "text": [
            "DEBUG flwr 2024-01-04 05:06:23,274 | server.py:187 | evaluate_round 5 received 10 results and 0 failures\n",
            "DEBUG:flwr:evaluate_round 5 received 10 results and 0 failures\n",
            "DEBUG flwr 2024-01-04 05:06:23,278 | server.py:222 | fit_round 6: strategy sampled 10 clients (out of 30)\n",
            "DEBUG:flwr:fit_round 6: strategy sampled 10 clients (out of 30)\n"
          ]
        },
        {
          "output_type": "stream",
          "name": "stdout",
          "text": [
            "\u001b[2m\u001b[36m(DefaultActor pid=2332)\u001b[0m [Client 14] evaluate, config: {}, local accuracy: 0.065\n",
            "\u001b[2m\u001b[36m(DefaultActor pid=2332)\u001b[0m [Client 0] fit, config: {'epochs': 10, 'lr': 0.1, 'attacker_epochs': 20, 'attacker_lr': 0.05}\n",
            "\u001b[2m\u001b[36m(DefaultActor pid=2332)\u001b[0m [Client 0] get_parameters\n",
            "\u001b[2m\u001b[36m(DefaultActor pid=2332)\u001b[0m [Client 12] fit, config: {'epochs': 10, 'lr': 0.1, 'attacker_epochs': 20, 'attacker_lr': 0.05}\n",
            "\u001b[2m\u001b[36m(DefaultActor pid=2332)\u001b[0m [Client 12] get_parameters\n",
            "\u001b[2m\u001b[36m(DefaultActor pid=2332)\u001b[0m [Client 24] fit, config: {'epochs': 10, 'lr': 0.1, 'attacker_epochs': 20, 'attacker_lr': 0.05}\n",
            "\u001b[2m\u001b[36m(DefaultActor pid=2332)\u001b[0m [Client 24] get_parameters\n",
            "\u001b[2m\u001b[36m(DefaultActor pid=2332)\u001b[0m [Client 8] fit, config: {'epochs': 10, 'lr': 0.1, 'attacker_epochs': 20, 'attacker_lr': 0.05}\n",
            "\u001b[2m\u001b[36m(DefaultActor pid=2332)\u001b[0m [Client 8] get_parameters\n",
            "\u001b[2m\u001b[36m(DefaultActor pid=2332)\u001b[0m [Client 6] fit, config: {'epochs': 10, 'lr': 0.1, 'attacker_epochs': 20, 'attacker_lr': 0.05}\n",
            "\u001b[2m\u001b[36m(DefaultActor pid=2332)\u001b[0m [Client 6] get_parameters\n",
            "\u001b[2m\u001b[36m(DefaultActor pid=2332)\u001b[0m [Client 23] fit, config: {'epochs': 10, 'lr': 0.1, 'attacker_epochs': 20, 'attacker_lr': 0.05}\n",
            "\u001b[2m\u001b[36m(DefaultActor pid=2332)\u001b[0m [Client 23] get_parameters\n",
            "\u001b[2m\u001b[36m(DefaultActor pid=2332)\u001b[0m [Client 20] fit, config: {'epochs': 10, 'lr': 0.1, 'attacker_epochs': 20, 'attacker_lr': 0.05}\n",
            "\u001b[2m\u001b[36m(DefaultActor pid=2332)\u001b[0m [Client 20] get_parameters\n",
            "\u001b[2m\u001b[36m(DefaultActor pid=2332)\u001b[0m [Client 9] fit, config: {'epochs': 10, 'lr': 0.1, 'attacker_epochs': 20, 'attacker_lr': 0.05}\n",
            "\u001b[2m\u001b[36m(DefaultActor pid=2332)\u001b[0m [Client 9] get_parameters\n",
            "\u001b[2m\u001b[36m(DefaultActor pid=2332)\u001b[0m [Client 27] fit, config: {'epochs': 10, 'lr': 0.1, 'attacker_epochs': 20, 'attacker_lr': 0.05}\n",
            "\u001b[2m\u001b[36m(DefaultActor pid=2332)\u001b[0m [Client 27] get_parameters\n",
            "\u001b[2m\u001b[36m(DefaultActor pid=2332)\u001b[0m [Client 2] fit, config: {'epochs': 10, 'lr': 0.1, 'attacker_epochs': 20, 'attacker_lr': 0.05}\n"
          ]
        },
        {
          "output_type": "stream",
          "name": "stderr",
          "text": [
            "DEBUG flwr 2024-01-04 05:07:59,571 | server.py:236 | fit_round 6 received 10 results and 0 failures\n",
            "DEBUG:flwr:fit_round 6 received 10 results and 0 failures\n"
          ]
        },
        {
          "output_type": "stream",
          "name": "stdout",
          "text": [
            "\u001b[2m\u001b[36m(DefaultActor pid=2332)\u001b[0m [Client 2] get_parameters\n",
            "Saving round 6 aggregated_parameters...\n"
          ]
        },
        {
          "output_type": "stream",
          "name": "stderr",
          "text": [
            "INFO flwr 2024-01-04 05:08:05,148 | server.py:125 | fit progress: (6, 460.37679862976074, {'accuracy': 0.1135}, 615.1824639600001)\n",
            "INFO:flwr:fit progress: (6, 460.37679862976074, {'accuracy': 0.1135}, 615.1824639600001)\n",
            "DEBUG flwr 2024-01-04 05:08:05,155 | server.py:173 | evaluate_round 6: strategy sampled 10 clients (out of 30)\n",
            "DEBUG:flwr:evaluate_round 6: strategy sampled 10 clients (out of 30)\n"
          ]
        },
        {
          "output_type": "stream",
          "name": "stdout",
          "text": [
            "\u001b[2m\u001b[36m(DefaultActor pid=2332)\u001b[0m [Client 4] evaluate, config: {}, local accuracy: 0.13\n",
            "\u001b[2m\u001b[36m(DefaultActor pid=2332)\u001b[0m [Client 27] evaluate, config: {}, local accuracy: 0.1\n",
            "\u001b[2m\u001b[36m(DefaultActor pid=2332)\u001b[0m [Client 12] evaluate, config: {}, local accuracy: 0.105\n",
            "\u001b[2m\u001b[36m(DefaultActor pid=2332)\u001b[0m [Client 8] evaluate, config: {}, local accuracy: 0.12\n",
            "\u001b[2m\u001b[36m(DefaultActor pid=2332)\u001b[0m [Client 5] evaluate, config: {}, local accuracy: 0.13\n",
            "\u001b[2m\u001b[36m(DefaultActor pid=2332)\u001b[0m [Client 2] evaluate, config: {}, local accuracy: 0.12\n",
            "\u001b[2m\u001b[36m(DefaultActor pid=2332)\u001b[0m [Client 17] evaluate, config: {}, local accuracy: 0.135\n",
            "\u001b[2m\u001b[36m(DefaultActor pid=2332)\u001b[0m [Client 1] evaluate, config: {}, local accuracy: 0.15\n"
          ]
        },
        {
          "output_type": "stream",
          "name": "stderr",
          "text": [
            "DEBUG flwr 2024-01-04 05:08:06,959 | server.py:187 | evaluate_round 6 received 10 results and 0 failures\n",
            "DEBUG:flwr:evaluate_round 6 received 10 results and 0 failures\n",
            "DEBUG flwr 2024-01-04 05:08:06,963 | server.py:222 | fit_round 7: strategy sampled 10 clients (out of 30)\n",
            "DEBUG:flwr:fit_round 7: strategy sampled 10 clients (out of 30)\n"
          ]
        },
        {
          "output_type": "stream",
          "name": "stdout",
          "text": [
            "\u001b[2m\u001b[36m(DefaultActor pid=2332)\u001b[0m [Client 16] evaluate, config: {}, local accuracy: 0.115\n",
            "\u001b[2m\u001b[36m(DefaultActor pid=2332)\u001b[0m [Client 18] evaluate, config: {}, local accuracy: 0.125\n",
            "\u001b[2m\u001b[36m(DefaultActor pid=2332)\u001b[0m [Client 20] fit, config: {'epochs': 10, 'lr': 0.1, 'attacker_epochs': 20, 'attacker_lr': 0.05}\n",
            "\u001b[2m\u001b[36m(DefaultActor pid=2332)\u001b[0m [Client 20] get_parameters\n",
            "\u001b[2m\u001b[36m(DefaultActor pid=2332)\u001b[0m [Client 26] fit, config: {'epochs': 10, 'lr': 0.1, 'attacker_epochs': 20, 'attacker_lr': 0.05}\n",
            "\u001b[2m\u001b[36m(DefaultActor pid=2332)\u001b[0m [Client 26] get_parameters\n",
            "\u001b[2m\u001b[36m(DefaultActor pid=2332)\u001b[0m [Client 2] fit, config: {'epochs': 10, 'lr': 0.1, 'attacker_epochs': 20, 'attacker_lr': 0.05}\n",
            "\u001b[2m\u001b[36m(DefaultActor pid=2332)\u001b[0m [Client 2] get_parameters\n",
            "\u001b[2m\u001b[36m(DefaultActor pid=2332)\u001b[0m [Client 15] fit, config: {'epochs': 10, 'lr': 0.1, 'attacker_epochs': 20, 'attacker_lr': 0.05}\n",
            "\u001b[2m\u001b[36m(DefaultActor pid=2332)\u001b[0m [Client 15] get_parameters\n",
            "\u001b[2m\u001b[36m(DefaultActor pid=2332)\u001b[0m [Client 6] fit, config: {'epochs': 10, 'lr': 0.1, 'attacker_epochs': 20, 'attacker_lr': 0.05}\n",
            "\u001b[2m\u001b[36m(DefaultActor pid=2332)\u001b[0m [Client 6] get_parameters\n",
            "\u001b[2m\u001b[36m(DefaultActor pid=2332)\u001b[0m [Client 18] fit, config: {'epochs': 10, 'lr': 0.1, 'attacker_epochs': 20, 'attacker_lr': 0.05}\n",
            "\u001b[2m\u001b[36m(DefaultActor pid=2332)\u001b[0m [Client 18] get_parameters\n",
            "\u001b[2m\u001b[36m(DefaultActor pid=2332)\u001b[0m [Client 21] fit, config: {'epochs': 10, 'lr': 0.1, 'attacker_epochs': 20, 'attacker_lr': 0.05}\n",
            "\u001b[2m\u001b[36m(DefaultActor pid=2332)\u001b[0m [Client 21] get_parameters\n",
            "\u001b[2m\u001b[36m(DefaultActor pid=2332)\u001b[0m [Client 4] fit, config: {'epochs': 10, 'lr': 0.1, 'attacker_epochs': 20, 'attacker_lr': 0.05}\n",
            "\u001b[2m\u001b[36m(DefaultActor pid=2332)\u001b[0m [Client 4] get_parameters\n",
            "\u001b[2m\u001b[36m(DefaultActor pid=2332)\u001b[0m [Client 10] fit, config: {'epochs': 10, 'lr': 0.1, 'attacker_epochs': 20, 'attacker_lr': 0.05}\n",
            "\u001b[2m\u001b[36m(DefaultActor pid=2332)\u001b[0m [Client 10] get_parameters\n",
            "\u001b[2m\u001b[36m(DefaultActor pid=2332)\u001b[0m [Client 28] fit, config: {'epochs': 10, 'lr': 0.1, 'attacker_epochs': 20, 'attacker_lr': 0.05}\n"
          ]
        },
        {
          "output_type": "stream",
          "name": "stderr",
          "text": [
            "DEBUG flwr 2024-01-04 05:09:43,446 | server.py:236 | fit_round 7 received 10 results and 0 failures\n",
            "DEBUG:flwr:fit_round 7 received 10 results and 0 failures\n"
          ]
        },
        {
          "output_type": "stream",
          "name": "stdout",
          "text": [
            "\u001b[2m\u001b[36m(DefaultActor pid=2332)\u001b[0m [Client 28] get_parameters\n",
            "Saving round 7 aggregated_parameters...\n"
          ]
        },
        {
          "output_type": "stream",
          "name": "stderr",
          "text": [
            "INFO flwr 2024-01-04 05:09:48,011 | server.py:125 | fit progress: (7, 460.3154480457306, {'accuracy': 0.1135}, 718.0452998670002)\n",
            "INFO:flwr:fit progress: (7, 460.3154480457306, {'accuracy': 0.1135}, 718.0452998670002)\n",
            "DEBUG flwr 2024-01-04 05:09:48,014 | server.py:173 | evaluate_round 7: strategy sampled 10 clients (out of 30)\n",
            "DEBUG:flwr:evaluate_round 7: strategy sampled 10 clients (out of 30)\n"
          ]
        },
        {
          "output_type": "stream",
          "name": "stdout",
          "text": [
            "\u001b[2m\u001b[36m(DefaultActor pid=2332)\u001b[0m [Client 0] evaluate, config: {}, local accuracy: 0.105\n",
            "\u001b[2m\u001b[36m(DefaultActor pid=2332)\u001b[0m [Client 17] evaluate, config: {}, local accuracy: 0.095\n",
            "\u001b[2m\u001b[36m(DefaultActor pid=2332)\u001b[0m [Client 7] evaluate, config: {}, local accuracy: 0.165\n",
            "\u001b[2m\u001b[36m(DefaultActor pid=2332)\u001b[0m [Client 2] evaluate, config: {}, local accuracy: 0.1\n",
            "\u001b[2m\u001b[36m(DefaultActor pid=2332)\u001b[0m [Client 10] evaluate, config: {}, local accuracy: 0.075\n",
            "\u001b[2m\u001b[36m(DefaultActor pid=2332)\u001b[0m [Client 22] evaluate, config: {}, local accuracy: 0.085\n",
            "\u001b[2m\u001b[36m(DefaultActor pid=2332)\u001b[0m [Client 13] evaluate, config: {}, local accuracy: 0.105\n",
            "\u001b[2m\u001b[36m(DefaultActor pid=2332)\u001b[0m [Client 24] evaluate, config: {}, local accuracy: 0.11\n"
          ]
        },
        {
          "output_type": "stream",
          "name": "stderr",
          "text": [
            "DEBUG flwr 2024-01-04 05:09:49,622 | server.py:187 | evaluate_round 7 received 10 results and 0 failures\n",
            "DEBUG:flwr:evaluate_round 7 received 10 results and 0 failures\n",
            "DEBUG flwr 2024-01-04 05:09:49,626 | server.py:222 | fit_round 8: strategy sampled 10 clients (out of 30)\n",
            "DEBUG:flwr:fit_round 8: strategy sampled 10 clients (out of 30)\n"
          ]
        },
        {
          "output_type": "stream",
          "name": "stdout",
          "text": [
            "\u001b[2m\u001b[36m(DefaultActor pid=2332)\u001b[0m [Client 9] evaluate, config: {}, local accuracy: 0.17\n",
            "\u001b[2m\u001b[36m(DefaultActor pid=2332)\u001b[0m [Client 11] evaluate, config: {}, local accuracy: 0.09\n",
            "\u001b[2m\u001b[36m(DefaultActor pid=2332)\u001b[0m [Client 9] fit, config: {'epochs': 10, 'lr': 0.1, 'attacker_epochs': 20, 'attacker_lr': 0.05}\n",
            "\u001b[2m\u001b[36m(DefaultActor pid=2332)\u001b[0m [Client 9] get_parameters\n",
            "\u001b[2m\u001b[36m(DefaultActor pid=2332)\u001b[0m [Client 28] fit, config: {'epochs': 10, 'lr': 0.1, 'attacker_epochs': 20, 'attacker_lr': 0.05}\n",
            "\u001b[2m\u001b[36m(DefaultActor pid=2332)\u001b[0m [Client 28] get_parameters\n",
            "\u001b[2m\u001b[36m(DefaultActor pid=2332)\u001b[0m [Client 22] fit, config: {'epochs': 10, 'lr': 0.1, 'attacker_epochs': 20, 'attacker_lr': 0.05}\n",
            "\u001b[2m\u001b[36m(DefaultActor pid=2332)\u001b[0m [Client 22] get_parameters\n",
            "\u001b[2m\u001b[36m(DefaultActor pid=2332)\u001b[0m [Client 15] fit, config: {'epochs': 10, 'lr': 0.1, 'attacker_epochs': 20, 'attacker_lr': 0.05}\n",
            "\u001b[2m\u001b[36m(DefaultActor pid=2332)\u001b[0m [Client 15] get_parameters\n",
            "\u001b[2m\u001b[36m(DefaultActor pid=2332)\u001b[0m [Client 4] fit, config: {'epochs': 10, 'lr': 0.1, 'attacker_epochs': 20, 'attacker_lr': 0.05}\n",
            "\u001b[2m\u001b[36m(DefaultActor pid=2332)\u001b[0m [Client 4] get_parameters\n",
            "\u001b[2m\u001b[36m(DefaultActor pid=2332)\u001b[0m [Client 7] fit, config: {'epochs': 10, 'lr': 0.1, 'attacker_epochs': 20, 'attacker_lr': 0.05}\n",
            "\u001b[2m\u001b[36m(DefaultActor pid=2332)\u001b[0m [Client 7] get_parameters\n",
            "\u001b[2m\u001b[36m(DefaultActor pid=2332)\u001b[0m [Client 17] fit, config: {'epochs': 10, 'lr': 0.1, 'attacker_epochs': 20, 'attacker_lr': 0.05}\n",
            "\u001b[2m\u001b[36m(DefaultActor pid=2332)\u001b[0m [Client 17] get_parameters\n",
            "\u001b[2m\u001b[36m(DefaultActor pid=2332)\u001b[0m [Client 18] fit, config: {'epochs': 10, 'lr': 0.1, 'attacker_epochs': 20, 'attacker_lr': 0.05}\n",
            "\u001b[2m\u001b[36m(DefaultActor pid=2332)\u001b[0m [Client 18] get_parameters\n",
            "\u001b[2m\u001b[36m(DefaultActor pid=2332)\u001b[0m [Client 1] fit, config: {'epochs': 10, 'lr': 0.1, 'attacker_epochs': 20, 'attacker_lr': 0.05}\n",
            "\u001b[2m\u001b[36m(DefaultActor pid=2332)\u001b[0m [Client 1] get_parameters\n",
            "\u001b[2m\u001b[36m(DefaultActor pid=2332)\u001b[0m [Client 14] fit, config: {'epochs': 10, 'lr': 0.1, 'attacker_epochs': 20, 'attacker_lr': 0.05}\n"
          ]
        },
        {
          "output_type": "stream",
          "name": "stderr",
          "text": [
            "DEBUG flwr 2024-01-04 05:11:26,397 | server.py:236 | fit_round 8 received 10 results and 0 failures\n",
            "DEBUG:flwr:fit_round 8 received 10 results and 0 failures\n"
          ]
        },
        {
          "output_type": "stream",
          "name": "stdout",
          "text": [
            "\u001b[2m\u001b[36m(DefaultActor pid=2332)\u001b[0m [Client 14] get_parameters\n",
            "Saving round 8 aggregated_parameters...\n"
          ]
        },
        {
          "output_type": "stream",
          "name": "stderr",
          "text": [
            "INFO flwr 2024-01-04 05:11:30,826 | server.py:125 | fit progress: (8, 460.16829657554626, {'accuracy': 0.1135}, 820.860173382)\n",
            "INFO:flwr:fit progress: (8, 460.16829657554626, {'accuracy': 0.1135}, 820.860173382)\n",
            "DEBUG flwr 2024-01-04 05:11:30,830 | server.py:173 | evaluate_round 8: strategy sampled 10 clients (out of 30)\n",
            "DEBUG:flwr:evaluate_round 8: strategy sampled 10 clients (out of 30)\n"
          ]
        },
        {
          "output_type": "stream",
          "name": "stdout",
          "text": [
            "\u001b[2m\u001b[36m(DefaultActor pid=2332)\u001b[0m [Client 29] evaluate, config: {}, local accuracy: 0.15\n",
            "\u001b[2m\u001b[36m(DefaultActor pid=2332)\u001b[0m [Client 19] evaluate, config: {}, local accuracy: 0.14\n",
            "\u001b[2m\u001b[36m(DefaultActor pid=2332)\u001b[0m [Client 28] evaluate, config: {}, local accuracy: 0.135\n",
            "\u001b[2m\u001b[36m(DefaultActor pid=2332)\u001b[0m [Client 14] evaluate, config: {}, local accuracy: 0.1\n",
            "\u001b[2m\u001b[36m(DefaultActor pid=2332)\u001b[0m [Client 23] evaluate, config: {}, local accuracy: 0.145\n",
            "\u001b[2m\u001b[36m(DefaultActor pid=2332)\u001b[0m [Client 7] evaluate, config: {}, local accuracy: 0.12\n",
            "\u001b[2m\u001b[36m(DefaultActor pid=2332)\u001b[0m [Client 16] evaluate, config: {}, local accuracy: 0.125\n",
            "\u001b[2m\u001b[36m(DefaultActor pid=2332)\u001b[0m [Client 20] evaluate, config: {}, local accuracy: 0.085\n"
          ]
        },
        {
          "output_type": "stream",
          "name": "stderr",
          "text": [
            "DEBUG flwr 2024-01-04 05:11:32,892 | server.py:187 | evaluate_round 8 received 10 results and 0 failures\n",
            "DEBUG:flwr:evaluate_round 8 received 10 results and 0 failures\n",
            "DEBUG flwr 2024-01-04 05:11:32,895 | server.py:222 | fit_round 9: strategy sampled 10 clients (out of 30)\n",
            "DEBUG:flwr:fit_round 9: strategy sampled 10 clients (out of 30)\n"
          ]
        },
        {
          "output_type": "stream",
          "name": "stdout",
          "text": [
            "\u001b[2m\u001b[36m(DefaultActor pid=2332)\u001b[0m [Client 27] evaluate, config: {}, local accuracy: 0.12\n",
            "\u001b[2m\u001b[36m(DefaultActor pid=2332)\u001b[0m [Client 24] evaluate, config: {}, local accuracy: 0.07\n",
            "\u001b[2m\u001b[36m(DefaultActor pid=2332)\u001b[0m [Client 25] fit, config: {'epochs': 10, 'lr': 0.1, 'attacker_epochs': 20, 'attacker_lr': 0.05}\n",
            "\u001b[2m\u001b[36m(DefaultActor pid=2332)\u001b[0m [Client 25] get_parameters\n",
            "\u001b[2m\u001b[36m(DefaultActor pid=2332)\u001b[0m [Client 2] fit, config: {'epochs': 10, 'lr': 0.1, 'attacker_epochs': 20, 'attacker_lr': 0.05}\n",
            "\u001b[2m\u001b[36m(DefaultActor pid=2332)\u001b[0m [Client 2] get_parameters\n",
            "\u001b[2m\u001b[36m(DefaultActor pid=2332)\u001b[0m [Client 7] fit, config: {'epochs': 10, 'lr': 0.1, 'attacker_epochs': 20, 'attacker_lr': 0.05}\n",
            "\u001b[2m\u001b[36m(DefaultActor pid=2332)\u001b[0m [Client 7] get_parameters\n",
            "\u001b[2m\u001b[36m(DefaultActor pid=2332)\u001b[0m [Client 13] fit, config: {'epochs': 10, 'lr': 0.1, 'attacker_epochs': 20, 'attacker_lr': 0.05}\n",
            "\u001b[2m\u001b[36m(DefaultActor pid=2332)\u001b[0m [Client 13] get_parameters\n",
            "\u001b[2m\u001b[36m(DefaultActor pid=2332)\u001b[0m [Client 21] fit, config: {'epochs': 10, 'lr': 0.1, 'attacker_epochs': 20, 'attacker_lr': 0.05}\n",
            "\u001b[2m\u001b[36m(DefaultActor pid=2332)\u001b[0m [Client 21] get_parameters\n",
            "\u001b[2m\u001b[36m(DefaultActor pid=2332)\u001b[0m [Client 18] fit, config: {'epochs': 10, 'lr': 0.1, 'attacker_epochs': 20, 'attacker_lr': 0.05}\n",
            "\u001b[2m\u001b[36m(DefaultActor pid=2332)\u001b[0m [Client 18] get_parameters\n",
            "\u001b[2m\u001b[36m(DefaultActor pid=2332)\u001b[0m [Client 3] fit, config: {'epochs': 10, 'lr': 0.1, 'attacker_epochs': 20, 'attacker_lr': 0.05}\n",
            "\u001b[2m\u001b[36m(DefaultActor pid=2332)\u001b[0m [Client 3] get_parameters\n",
            "\u001b[2m\u001b[36m(DefaultActor pid=2332)\u001b[0m [Client 27] fit, config: {'epochs': 10, 'lr': 0.1, 'attacker_epochs': 20, 'attacker_lr': 0.05}\n",
            "\u001b[2m\u001b[36m(DefaultActor pid=2332)\u001b[0m [Client 27] get_parameters\n",
            "\u001b[2m\u001b[36m(DefaultActor pid=2332)\u001b[0m [Client 12] fit, config: {'epochs': 10, 'lr': 0.1, 'attacker_epochs': 20, 'attacker_lr': 0.05}\n",
            "\u001b[2m\u001b[36m(DefaultActor pid=2332)\u001b[0m [Client 12] get_parameters\n",
            "\u001b[2m\u001b[36m(DefaultActor pid=2332)\u001b[0m [Client 14] fit, config: {'epochs': 10, 'lr': 0.1, 'attacker_epochs': 20, 'attacker_lr': 0.05}\n"
          ]
        },
        {
          "output_type": "stream",
          "name": "stderr",
          "text": [
            "DEBUG flwr 2024-01-04 05:13:09,394 | server.py:236 | fit_round 9 received 10 results and 0 failures\n",
            "DEBUG:flwr:fit_round 9 received 10 results and 0 failures\n"
          ]
        },
        {
          "output_type": "stream",
          "name": "stdout",
          "text": [
            "\u001b[2m\u001b[36m(DefaultActor pid=2332)\u001b[0m [Client 14] get_parameters\n",
            "Saving round 9 aggregated_parameters...\n"
          ]
        },
        {
          "output_type": "stream",
          "name": "stderr",
          "text": [
            "INFO flwr 2024-01-04 05:13:15,085 | server.py:125 | fit progress: (9, 459.1404049396515, {'accuracy': 0.2245}, 925.1199031560001)\n",
            "INFO:flwr:fit progress: (9, 459.1404049396515, {'accuracy': 0.2245}, 925.1199031560001)\n",
            "DEBUG flwr 2024-01-04 05:13:15,089 | server.py:173 | evaluate_round 9: strategy sampled 10 clients (out of 30)\n",
            "DEBUG:flwr:evaluate_round 9: strategy sampled 10 clients (out of 30)\n"
          ]
        },
        {
          "output_type": "stream",
          "name": "stdout",
          "text": [
            "\u001b[2m\u001b[36m(DefaultActor pid=2332)\u001b[0m [Client 26] evaluate, config: {}, local accuracy: 0.215\n",
            "\u001b[2m\u001b[36m(DefaultActor pid=2332)\u001b[0m [Client 5] evaluate, config: {}, local accuracy: 0.285\n",
            "\u001b[2m\u001b[36m(DefaultActor pid=2332)\u001b[0m [Client 25] evaluate, config: {}, local accuracy: 0.195\n",
            "\u001b[2m\u001b[36m(DefaultActor pid=2332)\u001b[0m [Client 10] evaluate, config: {}, local accuracy: 0.185\n",
            "\u001b[2m\u001b[36m(DefaultActor pid=2332)\u001b[0m [Client 14] evaluate, config: {}, local accuracy: 0.225\n",
            "\u001b[2m\u001b[36m(DefaultActor pid=2332)\u001b[0m [Client 7] evaluate, config: {}, local accuracy: 0.22\n",
            "\u001b[2m\u001b[36m(DefaultActor pid=2332)\u001b[0m [Client 0] evaluate, config: {}, local accuracy: 0.165\n",
            "\u001b[2m\u001b[36m(DefaultActor pid=2332)\u001b[0m [Client 23] evaluate, config: {}, local accuracy: 0.195\n"
          ]
        },
        {
          "output_type": "stream",
          "name": "stderr",
          "text": [
            "DEBUG flwr 2024-01-04 05:13:16,693 | server.py:187 | evaluate_round 9 received 10 results and 0 failures\n",
            "DEBUG:flwr:evaluate_round 9 received 10 results and 0 failures\n",
            "DEBUG flwr 2024-01-04 05:13:16,696 | server.py:222 | fit_round 10: strategy sampled 10 clients (out of 30)\n",
            "DEBUG:flwr:fit_round 10: strategy sampled 10 clients (out of 30)\n"
          ]
        },
        {
          "output_type": "stream",
          "name": "stdout",
          "text": [
            "\u001b[2m\u001b[36m(DefaultActor pid=2332)\u001b[0m [Client 2] evaluate, config: {}, local accuracy: 0.24\n",
            "\u001b[2m\u001b[36m(DefaultActor pid=2332)\u001b[0m [Client 9] evaluate, config: {}, local accuracy: 0.16\n",
            "\u001b[2m\u001b[36m(DefaultActor pid=2332)\u001b[0m [Client 5] fit, config: {'epochs': 10, 'lr': 0.1, 'attacker_epochs': 20, 'attacker_lr': 0.05}\n",
            "\u001b[2m\u001b[36m(DefaultActor pid=2332)\u001b[0m [Client 5] get_parameters\n",
            "\u001b[2m\u001b[36m(DefaultActor pid=2332)\u001b[0m [Client 22] fit, config: {'epochs': 10, 'lr': 0.1, 'attacker_epochs': 20, 'attacker_lr': 0.05}\n",
            "\u001b[2m\u001b[36m(DefaultActor pid=2332)\u001b[0m [Client 22] get_parameters\n",
            "\u001b[2m\u001b[36m(DefaultActor pid=2332)\u001b[0m [Client 16] fit, config: {'epochs': 10, 'lr': 0.1, 'attacker_epochs': 20, 'attacker_lr': 0.05}\n",
            "\u001b[2m\u001b[36m(DefaultActor pid=2332)\u001b[0m [Client 16] get_parameters\n",
            "\u001b[2m\u001b[36m(DefaultActor pid=2332)\u001b[0m [Client 9] fit, config: {'epochs': 10, 'lr': 0.1, 'attacker_epochs': 20, 'attacker_lr': 0.05}\n",
            "\u001b[2m\u001b[36m(DefaultActor pid=2332)\u001b[0m [Client 9] get_parameters\n",
            "\u001b[2m\u001b[36m(DefaultActor pid=2332)\u001b[0m [Client 7] fit, config: {'epochs': 10, 'lr': 0.1, 'attacker_epochs': 20, 'attacker_lr': 0.05}\n",
            "\u001b[2m\u001b[36m(DefaultActor pid=2332)\u001b[0m [Client 7] get_parameters\n",
            "\u001b[2m\u001b[36m(DefaultActor pid=2332)\u001b[0m [Client 27] fit, config: {'epochs': 10, 'lr': 0.1, 'attacker_epochs': 20, 'attacker_lr': 0.05}\n",
            "\u001b[2m\u001b[36m(DefaultActor pid=2332)\u001b[0m [Client 27] get_parameters\n",
            "\u001b[2m\u001b[36m(DefaultActor pid=2332)\u001b[0m [Client 25] fit, config: {'epochs': 10, 'lr': 0.1, 'attacker_epochs': 20, 'attacker_lr': 0.05}\n",
            "\u001b[2m\u001b[36m(DefaultActor pid=2332)\u001b[0m [Client 25] get_parameters\n",
            "\u001b[2m\u001b[36m(DefaultActor pid=2332)\u001b[0m [Client 2] fit, config: {'epochs': 10, 'lr': 0.1, 'attacker_epochs': 20, 'attacker_lr': 0.05}\n",
            "\u001b[2m\u001b[36m(DefaultActor pid=2332)\u001b[0m [Client 2] get_parameters\n",
            "\u001b[2m\u001b[36m(DefaultActor pid=2332)\u001b[0m [Client 3] fit, config: {'epochs': 10, 'lr': 0.1, 'attacker_epochs': 20, 'attacker_lr': 0.05}\n",
            "\u001b[2m\u001b[36m(DefaultActor pid=2332)\u001b[0m [Client 3] get_parameters\n",
            "\u001b[2m\u001b[36m(DefaultActor pid=2332)\u001b[0m [Client 18] fit, config: {'epochs': 10, 'lr': 0.1, 'attacker_epochs': 20, 'attacker_lr': 0.05}\n"
          ]
        },
        {
          "output_type": "stream",
          "name": "stderr",
          "text": [
            "DEBUG flwr 2024-01-04 05:14:53,273 | server.py:236 | fit_round 10 received 10 results and 0 failures\n",
            "DEBUG:flwr:fit_round 10 received 10 results and 0 failures\n"
          ]
        },
        {
          "output_type": "stream",
          "name": "stdout",
          "text": [
            "\u001b[2m\u001b[36m(DefaultActor pid=2332)\u001b[0m [Client 18] get_parameters\n",
            "Saving round 10 aggregated_parameters...\n"
          ]
        },
        {
          "output_type": "stream",
          "name": "stderr",
          "text": [
            "INFO flwr 2024-01-04 05:14:57,742 | server.py:125 | fit progress: (10, 363.6054482460022, {'accuracy': 0.6408}, 1027.7768647399998)\n",
            "INFO:flwr:fit progress: (10, 363.6054482460022, {'accuracy': 0.6408}, 1027.7768647399998)\n",
            "DEBUG flwr 2024-01-04 05:14:57,749 | server.py:173 | evaluate_round 10: strategy sampled 10 clients (out of 30)\n",
            "DEBUG:flwr:evaluate_round 10: strategy sampled 10 clients (out of 30)\n"
          ]
        },
        {
          "output_type": "stream",
          "name": "stdout",
          "text": [
            "\u001b[2m\u001b[36m(DefaultActor pid=2332)\u001b[0m [Client 24] evaluate, config: {}, local accuracy: 0.68\n",
            "\u001b[2m\u001b[36m(DefaultActor pid=2332)\u001b[0m [Client 13] evaluate, config: {}, local accuracy: 0.585\n",
            "\u001b[2m\u001b[36m(DefaultActor pid=2332)\u001b[0m [Client 22] evaluate, config: {}, local accuracy: 0.595\n",
            "\u001b[2m\u001b[36m(DefaultActor pid=2332)\u001b[0m [Client 27] evaluate, config: {}, local accuracy: 0.625\n",
            "\u001b[2m\u001b[36m(DefaultActor pid=2332)\u001b[0m [Client 1] evaluate, config: {}, local accuracy: 0.605\n",
            "\u001b[2m\u001b[36m(DefaultActor pid=2332)\u001b[0m [Client 11] evaluate, config: {}, local accuracy: 0.635\n",
            "\u001b[2m\u001b[36m(DefaultActor pid=2332)\u001b[0m [Client 16] evaluate, config: {}, local accuracy: 0.6\n",
            "\u001b[2m\u001b[36m(DefaultActor pid=2332)\u001b[0m [Client 3] evaluate, config: {}, local accuracy: 0.675\n"
          ]
        },
        {
          "output_type": "stream",
          "name": "stderr",
          "text": [
            "DEBUG flwr 2024-01-04 05:14:59,356 | server.py:187 | evaluate_round 10 received 10 results and 0 failures\n",
            "DEBUG:flwr:evaluate_round 10 received 10 results and 0 failures\n",
            "INFO flwr 2024-01-04 05:14:59,361 | server.py:153 | FL finished in 1029.3957526529998\n",
            "INFO:flwr:FL finished in 1029.3957526529998\n",
            "INFO flwr 2024-01-04 05:14:59,366 | app.py:226 | app_fit: losses_distributed [(1, 16.117834639549255), (2, 16.11671884059906), (3, 16.11596519947052), (4, 16.115165567398073), (5, 16.1150413274765), (6, 16.1112019777298), (7, 16.11327996253967), (8, 16.10410921573639), (9, 16.07454631328583), (10, 12.786684322357178)]\n",
            "INFO:flwr:app_fit: losses_distributed [(1, 16.117834639549255), (2, 16.11671884059906), (3, 16.11596519947052), (4, 16.115165567398073), (5, 16.1150413274765), (6, 16.1112019777298), (7, 16.11327996253967), (8, 16.10410921573639), (9, 16.07454631328583), (10, 12.786684322357178)]\n",
            "INFO flwr 2024-01-04 05:14:59,368 | app.py:227 | app_fit: metrics_distributed_fit {}\n",
            "INFO:flwr:app_fit: metrics_distributed_fit {}\n",
            "INFO flwr 2024-01-04 05:14:59,370 | app.py:228 | app_fit: metrics_distributed {'accuracy': [(1, 0.11099999999999999), (2, 0.1065), (3, 0.1125), (4, 0.12149999999999998), (5, 0.11), (6, 0.12300000000000001), (7, 0.10999999999999999), (8, 0.119), (9, 0.2085), (10, 0.626)]}\n",
            "INFO:flwr:app_fit: metrics_distributed {'accuracy': [(1, 0.11099999999999999), (2, 0.1065), (3, 0.1125), (4, 0.12149999999999998), (5, 0.11), (6, 0.12300000000000001), (7, 0.10999999999999999), (8, 0.119), (9, 0.2085), (10, 0.626)]}\n",
            "INFO flwr 2024-01-04 05:14:59,372 | app.py:229 | app_fit: losses_centralized [(0, 460.51331543922424), (1, 460.49721121788025), (2, 460.47889137268066), (3, 460.46050548553467), (4, 460.44226026535034), (5, 460.4170424938202), (6, 460.37679862976074), (7, 460.3154480457306), (8, 460.16829657554626), (9, 459.1404049396515), (10, 363.6054482460022)]\n",
            "INFO:flwr:app_fit: losses_centralized [(0, 460.51331543922424), (1, 460.49721121788025), (2, 460.47889137268066), (3, 460.46050548553467), (4, 460.44226026535034), (5, 460.4170424938202), (6, 460.37679862976074), (7, 460.3154480457306), (8, 460.16829657554626), (9, 459.1404049396515), (10, 363.6054482460022)]\n",
            "INFO flwr 2024-01-04 05:14:59,374 | app.py:230 | app_fit: metrics_centralized {'accuracy': [(0, 0.1028), (1, 0.1028), (2, 0.1135), (3, 0.1135), (4, 0.1135), (5, 0.1135), (6, 0.1135), (7, 0.1135), (8, 0.1135), (9, 0.2245), (10, 0.6408)]}\n",
            "INFO:flwr:app_fit: metrics_centralized {'accuracy': [(0, 0.1028), (1, 0.1028), (2, 0.1135), (3, 0.1135), (4, 0.1135), (5, 0.1135), (6, 0.1135), (7, 0.1135), (8, 0.1135), (9, 0.2245), (10, 0.6408)]}\n"
          ]
        },
        {
          "output_type": "stream",
          "name": "stdout",
          "text": [
            "\u001b[2m\u001b[36m(DefaultActor pid=2332)\u001b[0m [Client 9] evaluate, config: {}, local accuracy: 0.645\n"
          ]
        }
      ],
      "source": [
        "# With a dictionary, you tell Flower's VirtualClientEngine that each\n",
        "# client needs exclusive access to these many resources in order to run\n",
        "client_resources = {\"num_cpus\": 2, \"num_gpus\": 1.0}\n",
        "\n",
        "# Let's disable tqdm progress bar in the main thread (used by the server)\n",
        "disable_progress_bar()\n",
        "\n",
        "history = fl.simulation.start_simulation(\n",
        "    client_fn=client_fn_callback,  # a callback to construct a client\n",
        "    num_clients=NUM_CLIENTS,  # total number of clients in the experiment\n",
        "    config=fl.server.ServerConfig(num_rounds=10),  # let's run for 10 rounds\n",
        "    strategy=strategy,  # the strategy that will orchestrate the whole FL pipeline\n",
        "    client_resources=client_resources,\n",
        "    actor_kwargs={\n",
        "        \"on_actor_init_fn\": disable_progress_bar  # disable tqdm on each actor/process spawning virtual clients\n",
        "    },\n",
        ")"
      ]
    },
    {
      "cell_type": "markdown",
      "metadata": {
        "id": "NakPTdOWtizA"
      },
      "source": [
        "Doing 10 rounds should take less than 2 minutes on a CPU-only Colab instance <-- Flower Simulation is fast! 🚀\n",
        "\n",
        "You can then use the resturned `History` object to either save the results to disk or do some visualisation (or both of course, or neither if you like chaos). Below you can see how you can plot the centralised accuracy obtainined at the end of each round (including at the very beginning of the experiment) for the _global model_. This is want the function `evaluate_fn()` that we passed to the strategy reports."
      ]
    },
    {
      "cell_type": "code",
      "execution_count": null,
      "metadata": {
        "id": "-poMHY3BtizA",
        "outputId": "8befd01c-79eb-4275-c1d5-ad788d440e59",
        "colab": {
          "base_uri": "https://localhost:8080/",
          "height": 524
        }
      },
      "outputs": [
        {
          "output_type": "stream",
          "name": "stdout",
          "text": [
            "history.metrics_centralized = {'accuracy': [(0, 0.1028), (1, 0.1028), (2, 0.1135), (3, 0.1135), (4, 0.1135), (5, 0.1135), (6, 0.1135), (7, 0.1135), (8, 0.1135), (9, 0.2245), (10, 0.6408)]}\n"
          ]
        },
        {
          "output_type": "execute_result",
          "data": {
            "text/plain": [
              "Text(0.5, 1.0, 'MNIST - IID - 30 clients with 10 clients per round')"
            ]
          },
          "metadata": {},
          "execution_count": 15
        },
        {
          "output_type": "stream",
          "name": "stdout",
          "text": [
            "\u001b[2m\u001b[36m(DefaultActor pid=2332)\u001b[0m [Client 17] evaluate, config: {}, local accuracy: 0.615\n"
          ]
        },
        {
          "output_type": "display_data",
          "data": {
            "text/plain": [
              "<Figure size 640x480 with 1 Axes>"
            ],
            "image/png": "[encoded data removed]"
          },
          "metadata": {}
        }
      ],
      "source": [
        "import matplotlib.pyplot as plt\n",
        "\n",
        "print(f\"{history.metrics_centralized = }\")\n",
        "\n",
        "global_accuracy_centralised = history.metrics_centralized[\"accuracy\"]\n",
        "round = [data[0] for data in global_accuracy_centralised]\n",
        "acc = [data[1] for data in global_accuracy_centralised]\n",
        "plt.plot(round, acc)\n",
        "plt.grid()\n",
        "plt.ylabel(\"Accuracy (%)\")\n",
        "plt.xlabel(\"Round\")\n",
        "plt.title(\"MNIST - IID - 30 clients with 10 clients per round\")"
      ]
    },
    {
      "cell_type": "markdown",
      "metadata": {
        "id": "7dLYQcJ3tizA"
      },
      "source": [
        "Congratulations! With that, you built a Flower client, customized it's instantiation through the `client_fn`, customized the server-side execution through a `FedAvg` strategy configured for this workload, and started a simulation with 100 clients (each holding their own individual partition of the MNIST dataset).\n",
        "\n",
        "Next, you can continue to explore more advanced Flower topics:\n",
        "\n",
        "- Deploy server and clients on different machines using `start_server` and `start_client`\n",
        "- Customize the server-side execution through custom strategies\n",
        "- Customize the client-side execution through `config` dictionaries\n",
        "\n",
        "Get all resources you need!\n",
        "\n",
        "* **[DOCS]** Our complete documenation: https://flower.dev/docs/\n",
        "* **[Examples]** All Flower examples: https://flower.dev/docs/examples/\n",
        "* **[VIDEO]** Our Youtube channel: https://www.youtube.com/@flowerlabs\n",
        "\n",
        "Don't forget to join our Slack channel: https://flower.dev/join-slack/\n"
      ]
    },
    {
      "cell_type": "code",
      "source": [
        "import torch.optim as optim\n",
        "import torch.optim.lr_scheduler as lr_scheduler\n",
        "\n",
        "def test(net, testloader, device: str):\n",
        "    \"\"\"Validate the network on the entire test set.\"\"\"\n",
        "    criterion = torch.nn.CrossEntropyLoss()\n",
        "    correct_poisoned = 0\n",
        "    total_poisoned = 0\n",
        "    loss = 0.0\n",
        "    net.eval()\n",
        "    with torch.no_grad():\n",
        "        for data in testloader:\n",
        "            images, labels = data[\"image\"].to(device), data[\"label\"].to(device)\n",
        "            output = net(images)\n",
        "            pred = output.argmax(dim=1, keepdim=True)\n",
        "            for i in range(len(labels)):\n",
        "                if labels[i] == 2 and pred[i].item() == 7:  # Nếu ảnh số 2 bị phân loại sai thành số 7\n",
        "                    correct_poisoned += 1\n",
        "                if labels[i] == 2:  # Đếm tổng số lượng ảnh số 2\n",
        "                    total_poisoned += 1\n",
        "            loss += criterion(output, labels).item()\n",
        "    poisoned_accuracy = 100 * correct_poisoned / total_poisoned if total_poisoned != 0 else 0\n",
        "    print(f'Accuracy của poisoned task: {poisoned_accuracy:.2f}%')\n",
        "    return loss, poisoned_accuracy"
      ],
      "metadata": {
        "id": "IDxk25bibt6P"
      },
      "execution_count": null,
      "outputs": []
    },
    {
      "cell_type": "code",
      "source": [
        "from tqdm.notebook import tqdm\n",
        "def poison_train(net, generator, discriminator, optim_G, optim_net, scheduler, criterion, epochs, device: str):\n",
        "\n",
        "    discriminator.eval()\n",
        "    generator.train()\n",
        "    for epoch in range(epochs):\n",
        "        # Training G\n",
        "        noise = torch.randn(10, 2000, 100, 1, 1).to(device)\n",
        "        for batch_noisy in tqdm(noise, desc='Training G:'):\n",
        "        # for batch_noisy in noise:\n",
        "            fake_images = generator(batch_noisy).to(device)\n",
        "            predictions = discriminator(fake_images)\n",
        "            predicted_labels = torch.max(predictions, dim=1).indices\n",
        "\n",
        "            images_is_2 = fake_images[predicted_labels == 2]\n",
        "            labels_is_2 = torch.full((len(images_is_2),), 2).to(device)\n",
        "\n",
        "            if(len(images_is_2) > 0):\n",
        "                optim_G.zero_grad()\n",
        "                criterion(discriminator(images_is_2.to(device)), labels_is_2.to(device)).backward()\n",
        "                optim_G.step()\n",
        "\n",
        "        # Training Net with poisonset\n",
        "        for batch_noisy in tqdm(noise, desc='Poison Training:'):\n",
        "        # for batch_noisy in noise:\n",
        "            fake_images = generator(batch_noisy).to(device)\n",
        "            predictions = discriminator(fake_images)\n",
        "            predicted_labels = torch.max(predictions, dim=1).indices\n",
        "\n",
        "            images_is_2 = fake_images[predicted_labels == 2]\n",
        "            labels_is_2 = torch.full((len(images_is_2),), 7).to(device)\n",
        "\n",
        "            if(len(images_is_2) > 0):\n",
        "                optim_net.zero_grad()\n",
        "                criterion(net(images_is_2.to(device)), labels_is_2.to(device)).backward()\n",
        "                for param in net.parameters():\n",
        "                    if param.grad is not None:\n",
        "                        param.grad *= 20\n",
        "                optim_net.step()\n",
        "        scheduler.step()"
      ],
      "metadata": {
        "id": "yVvWCzXUgiv-"
      },
      "execution_count": null,
      "outputs": []
    },
    {
      "cell_type": "code",
      "source": [
        "class FlowerClient(FlowerClient):\n",
        "    def fit(self, parameters, config):\n",
        "        \"\"\"This method train the model using the parameters sent by the\n",
        "        server on the dataset of this client. At then end, the parameters\n",
        "        of the locally trained model are communicated back to the server\"\"\"\n",
        "        print(f\"[Client {self.cid}] fit, config: {config}\")\n",
        "        # copy parameters sent by the server into client's local model\n",
        "        self.set_parameters(parameters)\n",
        "        lr, epochs = config[\"lr\"], config[\"epochs\"]\n",
        "        optim = torch.optim.SGD(self.model.parameters(), lr=lr)\n",
        "        scheduler = lr_scheduler.StepLR(optim, step_size=2, gamma=0.1)\n",
        "        criterion = torch.nn.CrossEntropyLoss()\n",
        "        if self.cid in [0, 1, 2]:\n",
        "            attacker_lr, attacker_epochs = config[\"attacker_lr\"], config[\"attacker_epochs\"]\n",
        "            loss, accuracy = test(self.model, self.testloader, device=self.device)\n",
        "            optim_G = torch.optim.SGD(self.generator.parameters(), lr=lr)\n",
        "            if accuracy > 60:\n",
        "                train(net=self.model, trainloader=self.trainloader, optim=optim, scheduler=scheduler, criterion=criterion, epochs=epochs, device=self.device)\n",
        "                poison_train(net=self.model, generator=self.generator, discriminator=self.discriminator, optim_G=optim_G, optim_net=optim, scheduler=scheduler, criterion=criterion, epochs=epochs, device=self.device)\n",
        "            else:\n",
        "                poison_train(net=self.model, generator=self.generator, discriminator=self.discriminator, optim_G=optim_G, optim_net=optim, scheduler=scheduler, criterion=criterion, epochs=epochs, device=self.device)\n",
        "        else:\n",
        "            train(net=self.model, trainloader=self.trainloader, optim=optim, scheduler=scheduler, criterion=criterion, epochs=epochs, device=self.device)\n",
        "\n",
        "        # return the model parameters to the server as well as extra info (number of training examples in this case)\n",
        "        return self.get_parameters({}), len(self.trainloader), {}"
      ],
      "metadata": {
        "id": "UYzulLVecDhh"
      },
      "execution_count": null,
      "outputs": []
    },
    {
      "cell_type": "code",
      "source": [
        "def get_client_fn(dataset: FederatedDataset):\n",
        "    \"\"\"Return a function to construct a client.\n",
        "\n",
        "    The VirtualClientEngine will execute this function whenever a client is sampled by\n",
        "    the strategy to participate.\n",
        "    \"\"\"\n",
        "\n",
        "    def client_fn(cid: str) -> fl.client.Client:\n",
        "        \"\"\"Construct a FlowerClient with its own dataset partition.\"\"\"\n",
        "\n",
        "        # Let's get the partition corresponding to the i-th client\n",
        "        client_dataset = dataset.load_partition(int(cid), \"train\")\n",
        "\n",
        "        # Now let's split it into train (90%) and validation (10%)\n",
        "        client_dataset_splits = client_dataset.train_test_split(test_size=0.1)\n",
        "\n",
        "        trainset = client_dataset_splits[\"train\"]\n",
        "        valset = client_dataset_splits[\"test\"]\n",
        "\n",
        "        # Now we apply the transform to each batch.\n",
        "        trainloader = DataLoader(\n",
        "            trainset.with_transform(apply_transforms), batch_size=32, shuffle=True\n",
        "        )\n",
        "        valloader = DataLoader(valset.with_transform(apply_transforms), batch_size=32)\n",
        "        testset = centralized_testset.with_transform(apply_transforms)\n",
        "\n",
        "        testloader = DataLoader(testset, batch_size=50)\n",
        "        # Create and return client\n",
        "        return FlowerClient(int(cid), trainloader, valloader, testloader)\n",
        "\n",
        "    return client_fn\n",
        "\n",
        "\n",
        "client_fn_callback = get_client_fn(mnist_fds)"
      ],
      "metadata": {
        "id": "yK04JK6MREg0"
      },
      "execution_count": null,
      "outputs": []
    },
    {
      "cell_type": "code",
      "source": [
        "import glob\n",
        "import os\n",
        "net = Net(10)\n",
        "list_of_files = [fname for fname in glob.glob(\"./model_round_*\")]\n",
        "latest_round_file = max(list_of_files, key=os.path.getctime)\n",
        "print(\"Loading pre-trained model from: \", latest_round_file)\n",
        "state_dict = torch.load(latest_round_file)\n",
        "net.load_state_dict(state_dict)"
      ],
      "metadata": {
        "id": "nMbxpOIuciXY",
        "outputId": "36853de2-1892-4caf-c67d-db1199bca386",
        "colab": {
          "base_uri": "https://localhost:8080/"
        }
      },
      "execution_count": null,
      "outputs": [
        {
          "output_type": "stream",
          "name": "stdout",
          "text": [
            "Loading pre-trained model from:  ./model_round_2.pth\n"
          ]
        },
        {
          "output_type": "execute_result",
          "data": {
            "text/plain": [
              "<All keys matched successfully>"
            ]
          },
          "metadata": {},
          "execution_count": 27
        }
      ]
    },
    {
      "cell_type": "code",
      "source": [
        "def get_parameters():\n",
        "    \"\"\"Extract all model parameters and conver them to a list of\n",
        "    NumPy arryas. The server doesn't work with PyTorch/TF/etc.\"\"\"\n",
        "    return [val.cpu().numpy() for _, val in net.state_dict().items()]"
      ],
      "metadata": {
        "id": "DAGYFxwKnosX"
      },
      "execution_count": null,
      "outputs": []
    },
    {
      "cell_type": "code",
      "source": [
        "params = get_parameters()\n",
        "\n",
        "strategy = SaveModelStrategy(\n",
        "    fraction_fit=0.34,  # Sample 10% of available clients for training\n",
        "    fraction_evaluate=0.34,  # Sample 5% of available clients for evaluation\n",
        "    on_fit_config_fn=fit_config,\n",
        "    evaluate_metrics_aggregation_fn=weighted_average,  # aggregates federated metrics\n",
        "    evaluate_fn=get_evaluate_fn(centralized_testset),  # global evaluation function\n",
        "    initial_parameters=fl.common.ndarrays_to_parameters(params),\n",
        ")"
      ],
      "metadata": {
        "id": "3Hx55QIkdjce"
      },
      "execution_count": null,
      "outputs": []
    },
    {
      "cell_type": "code",
      "source": [
        "# With a dictionary, you tell Flower's VirtualClientEngine that each\n",
        "# client needs exclusive access to these many resources in order to run\n",
        "client_resources = {\"num_cpus\": 2, \"num_gpus\": 1.0}\n",
        "\n",
        "# Let's disable tqdm progress bar in the main thread (used by the server)\n",
        "disable_progress_bar()\n",
        "history = fl.simulation.start_simulation(\n",
        "    client_fn=client_fn_callback,  # a callback to construct a client\n",
        "    num_clients=NUM_CLIENTS,  # total number of clients in the experiment\n",
        "    config=fl.server.ServerConfig(num_rounds=20),  # let's run for 10 rounds\n",
        "    strategy=strategy,  # the strategy that will orchestrate the whole FL pipeline\n",
        "    client_resources=client_resources,\n",
        "    actor_kwargs={\n",
        "        \"on_actor_init_fn\": disable_progress_bar  # disable tqdm on each actor/process spawning virtual clients\n",
        "    },\n",
        ")"
      ],
      "metadata": {
        "id": "kFfMZwVVchgj",
        "outputId": "a24293bd-2c98-4e0a-8a1d-ae6561064a70",
        "colab": {
          "base_uri": "https://localhost:8080/"
        }
      },
      "execution_count": null,
      "outputs": [
        {
          "output_type": "stream",
          "name": "stderr",
          "text": [
            "INFO flwr 2024-01-04 05:20:46,790 | app.py:178 | Starting Flower simulation, config: ServerConfig(num_rounds=10, round_timeout=None)\n",
            "INFO:flwr:Starting Flower simulation, config: ServerConfig(num_rounds=10, round_timeout=None)\n",
            "2024-01-04 05:20:51,806\tINFO worker.py:1621 -- Started a local Ray instance.\n",
            "INFO flwr 2024-01-04 05:20:54,190 | app.py:213 | Flower VCE: Ray initialized with resources: {'object_store_memory': 3846683443.0, 'node:__internal_head__': 1.0, 'CPU': 2.0, 'memory': 7693366887.0, 'node:172.28.0.12': 1.0, 'GPU': 1.0}\n",
            "INFO:flwr:Flower VCE: Ray initialized with resources: {'object_store_memory': 3846683443.0, 'node:__internal_head__': 1.0, 'CPU': 2.0, 'memory': 7693366887.0, 'node:172.28.0.12': 1.0, 'GPU': 1.0}\n",
            "INFO flwr 2024-01-04 05:20:54,193 | app.py:219 | Optimize your simulation with Flower VCE: https://flower.dev/docs/framework/how-to-run-simulations.html\n",
            "INFO:flwr:Optimize your simulation with Flower VCE: https://flower.dev/docs/framework/how-to-run-simulations.html\n",
            "INFO flwr 2024-01-04 05:20:54,195 | app.py:242 | Flower VCE: Resources for each Virtual Client: {'num_cpus': 2, 'num_gpus': 1.0}\n",
            "INFO:flwr:Flower VCE: Resources for each Virtual Client: {'num_cpus': 2, 'num_gpus': 1.0}\n",
            "INFO flwr 2024-01-04 05:20:54,229 | app.py:288 | Flower VCE: Creating VirtualClientEngineActorPool with 1 actors\n",
            "INFO:flwr:Flower VCE: Creating VirtualClientEngineActorPool with 1 actors\n",
            "INFO flwr 2024-01-04 05:20:54,234 | server.py:89 | Initializing global parameters\n",
            "INFO:flwr:Initializing global parameters\n",
            "INFO flwr 2024-01-04 05:20:54,237 | server.py:272 | Using initial parameters provided by strategy\n",
            "INFO:flwr:Using initial parameters provided by strategy\n",
            "INFO flwr 2024-01-04 05:20:54,238 | server.py:91 | Evaluating initial parameters\n",
            "INFO:flwr:Evaluating initial parameters\n",
            "\u001b[2m\u001b[36m(pid=8820)\u001b[0m 2024-01-04 05:20:56.441310: E external/local_xla/xla/stream_executor/cuda/cuda_dnn.cc:9261] Unable to register cuDNN factory: Attempting to register factory for plugin cuDNN when one has already been registered\n",
            "\u001b[2m\u001b[36m(pid=8820)\u001b[0m 2024-01-04 05:20:56.441412: E external/local_xla/xla/stream_executor/cuda/cuda_fft.cc:607] Unable to register cuFFT factory: Attempting to register factory for plugin cuFFT when one has already been registered\n",
            "\u001b[2m\u001b[36m(pid=8820)\u001b[0m 2024-01-04 05:20:56.443121: E external/local_xla/xla/stream_executor/cuda/cuda_blas.cc:1515] Unable to register cuBLAS factory: Attempting to register factory for plugin cuBLAS when one has already been registered\n",
            "\u001b[2m\u001b[36m(pid=8820)\u001b[0m 2024-01-04 05:20:58.187824: W tensorflow/compiler/tf2tensorrt/utils/py_utils.cc:38] TF-TRT Warning: Could not find TensorRT\n",
            "INFO flwr 2024-01-04 05:21:02,027 | server.py:94 | initial parameters (loss, other metrics): 323.29336643218994, {'accuracy': 0.6782945736434108}\n",
            "INFO:flwr:initial parameters (loss, other metrics): 323.29336643218994, {'accuracy': 0.6782945736434108}\n",
            "INFO flwr 2024-01-04 05:21:02,030 | server.py:104 | FL starting\n",
            "INFO:flwr:FL starting\n",
            "DEBUG flwr 2024-01-04 05:21:02,036 | server.py:222 | fit_round 1: strategy sampled 10 clients (out of 30)\n",
            "DEBUG:flwr:fit_round 1: strategy sampled 10 clients (out of 30)\n"
          ]
        },
        {
          "output_type": "stream",
          "name": "stdout",
          "text": [
            "Accuracy của poisoned task: 0.68%\n",
            "\u001b[2m\u001b[36m(DefaultActor pid=8820)\u001b[0m [Client 27] fit, config: {'epochs': 10, 'lr': 0.1, 'attacker_epochs': 20, 'attacker_lr': 0.05}\n",
            "\u001b[2m\u001b[36m(DefaultActor pid=8820)\u001b[0m [Client 27] get_parameters\n",
            "\u001b[2m\u001b[36m(DefaultActor pid=8820)\u001b[0m [Client 28] fit, config: {'epochs': 10, 'lr': 0.1, 'attacker_epochs': 20, 'attacker_lr': 0.05}\n",
            "\u001b[2m\u001b[36m(DefaultActor pid=8820)\u001b[0m [Client 28] get_parameters\n",
            "\u001b[2m\u001b[36m(DefaultActor pid=8820)\u001b[0m [Client 21] fit, config: {'epochs': 10, 'lr': 0.1, 'attacker_epochs': 20, 'attacker_lr': 0.05}\n",
            "\u001b[2m\u001b[36m(DefaultActor pid=8820)\u001b[0m [Client 21] get_parameters\n",
            "\u001b[2m\u001b[36m(DefaultActor pid=8820)\u001b[0m [Client 17] fit, config: {'epochs': 10, 'lr': 0.1, 'attacker_epochs': 20, 'attacker_lr': 0.05}\n",
            "\u001b[2m\u001b[36m(DefaultActor pid=8820)\u001b[0m [Client 17] get_parameters\n",
            "\u001b[2m\u001b[36m(DefaultActor pid=8820)\u001b[0m [Client 2] fit, config: {'epochs': 10, 'lr': 0.1, 'attacker_epochs': 20, 'attacker_lr': 0.05}\n",
            "\u001b[2m\u001b[36m(DefaultActor pid=8820)\u001b[0m [Client 2] get_parameters\n",
            "\u001b[2m\u001b[36m(DefaultActor pid=8820)\u001b[0m [Client 13] fit, config: {'epochs': 10, 'lr': 0.1, 'attacker_epochs': 20, 'attacker_lr': 0.05}\n",
            "\u001b[2m\u001b[36m(DefaultActor pid=8820)\u001b[0m [Client 13] get_parameters\n",
            "\u001b[2m\u001b[36m(DefaultActor pid=8820)\u001b[0m [Client 9] fit, config: {'epochs': 10, 'lr': 0.1, 'attacker_epochs': 20, 'attacker_lr': 0.05}\n",
            "\u001b[2m\u001b[36m(DefaultActor pid=8820)\u001b[0m [Client 9] get_parameters\n",
            "\u001b[2m\u001b[36m(DefaultActor pid=8820)\u001b[0m [Client 15] fit, config: {'epochs': 10, 'lr': 0.1, 'attacker_epochs': 20, 'attacker_lr': 0.05}\n",
            "\u001b[2m\u001b[36m(DefaultActor pid=8820)\u001b[0m [Client 15] get_parameters\n",
            "\u001b[2m\u001b[36m(DefaultActor pid=8820)\u001b[0m [Client 0] fit, config: {'epochs': 10, 'lr': 0.1, 'attacker_epochs': 20, 'attacker_lr': 0.05}\n",
            "\u001b[2m\u001b[36m(DefaultActor pid=8820)\u001b[0m Accuracy của poisoned task: 0.68%\n",
            "\u001b[2m\u001b[36m(DefaultActor pid=8820)\u001b[0m Training G::   0%|          | 0/100 [00:00<?, ?it/s]\n",
            "\u001b[2m\u001b[36m(DefaultActor pid=8820)\u001b[0m Poison Training::   0%|          | 0/100 [00:00<?, ?it/s]\n",
            "\u001b[2m\u001b[36m(DefaultActor pid=8820)\u001b[0m Training G::   0%|          | 0/100 [00:00<?, ?it/s]\n",
            "\u001b[2m\u001b[36m(DefaultActor pid=8820)\u001b[0m Poison Training::   0%|          | 0/100 [00:00<?, ?it/s]\n",
            "\u001b[2m\u001b[36m(DefaultActor pid=8820)\u001b[0m Training G::   0%|          | 0/100 [00:00<?, ?it/s]\n",
            "\u001b[2m\u001b[36m(DefaultActor pid=8820)\u001b[0m Poison Training::   0%|          | 0/100 [00:00<?, ?it/s]\n",
            "\u001b[2m\u001b[36m(DefaultActor pid=8820)\u001b[0m Training G::   0%|          | 0/100 [00:00<?, ?it/s]\n",
            "\u001b[2m\u001b[36m(DefaultActor pid=8820)\u001b[0m Poison Training::   0%|          | 0/100 [00:00<?, ?it/s]\n",
            "\u001b[2m\u001b[36m(DefaultActor pid=8820)\u001b[0m Training G::   0%|          | 0/100 [00:00<?, ?it/s]\n",
            "\u001b[2m\u001b[36m(DefaultActor pid=8820)\u001b[0m Poison Training::   0%|          | 0/100 [00:00<?, ?it/s]\n",
            "\u001b[2m\u001b[36m(DefaultActor pid=8820)\u001b[0m Training G::   0%|          | 0/100 [00:00<?, ?it/s]\n",
            "\u001b[2m\u001b[36m(DefaultActor pid=8820)\u001b[0m Poison Training::   0%|          | 0/100 [00:00<?, ?it/s]\n",
            "\u001b[2m\u001b[36m(DefaultActor pid=8820)\u001b[0m Training G::   0%|          | 0/100 [00:00<?, ?it/s]\n",
            "\u001b[2m\u001b[36m(DefaultActor pid=8820)\u001b[0m Poison Training::   0%|          | 0/100 [00:00<?, ?it/s]\n",
            "\u001b[2m\u001b[36m(DefaultActor pid=8820)\u001b[0m Training G::   0%|          | 0/100 [00:00<?, ?it/s]\n",
            "\u001b[2m\u001b[36m(DefaultActor pid=8820)\u001b[0m Poison Training::   0%|          | 0/100 [00:00<?, ?it/s]\n",
            "\u001b[2m\u001b[36m(DefaultActor pid=8820)\u001b[0m Training G::   0%|          | 0/100 [00:00<?, ?it/s]\n",
            "\u001b[2m\u001b[36m(DefaultActor pid=8820)\u001b[0m Poison Training::   0%|          | 0/100 [00:00<?, ?it/s]\n",
            "\u001b[2m\u001b[36m(DefaultActor pid=8820)\u001b[0m Training G::   0%|          | 0/100 [00:00<?, ?it/s]\n",
            "\u001b[2m\u001b[36m(DefaultActor pid=8820)\u001b[0m Poison Training::   0%|          | 0/100 [00:00<?, ?it/s]\n",
            "\u001b[2m\u001b[36m(DefaultActor pid=8820)\u001b[0m [Client 0] get_parameters\n",
            "\u001b[2m\u001b[36m(DefaultActor pid=8820)\u001b[0m [Client 1] fit, config: {'epochs': 10, 'lr': 0.1, 'attacker_epochs': 20, 'attacker_lr': 0.05}\n"
          ]
        },
        {
          "output_type": "stream",
          "name": "stderr",
          "text": [
            "DEBUG flwr 2024-01-04 05:45:43,228 | server.py:236 | fit_round 1 received 10 results and 0 failures\n",
            "DEBUG:flwr:fit_round 1 received 10 results and 0 failures\n",
            "WARNING flwr 2024-01-04 05:45:43,297 | fedavg.py:242 | No fit_metrics_aggregation_fn provided\n",
            "WARNING:flwr:No fit_metrics_aggregation_fn provided\n"
          ]
        },
        {
          "output_type": "stream",
          "name": "stdout",
          "text": [
            "Saving round 1 aggregated_parameters...\n",
            "\u001b[2m\u001b[36m(DefaultActor pid=8820)\u001b[0m [Client 1] get_parameters\n"
          ]
        },
        {
          "output_type": "stream",
          "name": "stderr",
          "text": [
            "INFO flwr 2024-01-04 05:45:48,589 | server.py:125 | fit progress: (1, 322.14866745471954, {'accuracy': 3.9728682170542635}, 1486.552972789)\n",
            "INFO:flwr:fit progress: (1, 322.14866745471954, {'accuracy': 3.9728682170542635}, 1486.552972789)\n",
            "DEBUG flwr 2024-01-04 05:45:48,593 | server.py:173 | evaluate_round 1: strategy sampled 10 clients (out of 30)\n",
            "DEBUG:flwr:evaluate_round 1: strategy sampled 10 clients (out of 30)\n"
          ]
        },
        {
          "output_type": "stream",
          "name": "stdout",
          "text": [
            "Accuracy của poisoned task: 3.97%\n",
            "\u001b[2m\u001b[36m(DefaultActor pid=8820)\u001b[0m Accuracy của poisoned task: 7.14%\n",
            "\u001b[2m\u001b[36m(DefaultActor pid=8820)\u001b[0m [Client 29] evaluate, config: {}, local accuracy: 7.142857142857143\n",
            "\u001b[2m\u001b[36m(DefaultActor pid=8820)\u001b[0m Accuracy của poisoned task: 0.00%\n",
            "\u001b[2m\u001b[36m(DefaultActor pid=8820)\u001b[0m [Client 17] evaluate, config: {}, local accuracy: 0.0\n",
            "\u001b[2m\u001b[36m(DefaultActor pid=8820)\u001b[0m Accuracy của poisoned task: 6.25%\n",
            "\u001b[2m\u001b[36m(DefaultActor pid=8820)\u001b[0m [Client 25] evaluate, config: {}, local accuracy: 6.25\n",
            "\u001b[2m\u001b[36m(DefaultActor pid=8820)\u001b[0m Accuracy của poisoned task: 0.00%\n",
            "\u001b[2m\u001b[36m(DefaultActor pid=8820)\u001b[0m [Client 12] evaluate, config: {}, local accuracy: 0.0\n",
            "\u001b[2m\u001b[36m(DefaultActor pid=8820)\u001b[0m Accuracy của poisoned task: 0.00%\n",
            "\u001b[2m\u001b[36m(DefaultActor pid=8820)\u001b[0m [Client 16] evaluate, config: {}, local accuracy: 0.0\n",
            "\u001b[2m\u001b[36m(DefaultActor pid=8820)\u001b[0m Accuracy của poisoned task: 4.35%\n",
            "\u001b[2m\u001b[36m(DefaultActor pid=8820)\u001b[0m [Client 3] evaluate, config: {}, local accuracy: 4.3478260869565215\n",
            "\u001b[2m\u001b[36m(DefaultActor pid=8820)\u001b[0m Accuracy của poisoned task: 0.00%\n",
            "\u001b[2m\u001b[36m(DefaultActor pid=8820)\u001b[0m [Client 11] evaluate, config: {}, local accuracy: 0.0\n",
            "\u001b[2m\u001b[36m(DefaultActor pid=8820)\u001b[0m Accuracy của poisoned task: 16.67%\n",
            "\u001b[2m\u001b[36m(DefaultActor pid=8820)\u001b[0m [Client 26] evaluate, config: {}, local accuracy: 16.666666666666668\n",
            "\u001b[2m\u001b[36m(DefaultActor pid=8820)\u001b[0m Accuracy của poisoned task: 0.00%\n",
            "\u001b[2m\u001b[36m(DefaultActor pid=8820)\u001b[0m [Client 8] evaluate, config: {}, local accuracy: 0.0\n"
          ]
        },
        {
          "output_type": "stream",
          "name": "stderr",
          "text": [
            "DEBUG flwr 2024-01-04 05:45:51,311 | server.py:187 | evaluate_round 1 received 10 results and 0 failures\n",
            "DEBUG:flwr:evaluate_round 1 received 10 results and 0 failures\n",
            "DEBUG flwr 2024-01-04 05:45:51,317 | server.py:222 | fit_round 2: strategy sampled 10 clients (out of 30)\n",
            "DEBUG:flwr:fit_round 2: strategy sampled 10 clients (out of 30)\n"
          ]
        },
        {
          "output_type": "stream",
          "name": "stdout",
          "text": [
            "\u001b[2m\u001b[36m(DefaultActor pid=8820)\u001b[0m Accuracy của poisoned task: 4.17%\n",
            "\u001b[2m\u001b[36m(DefaultActor pid=8820)\u001b[0m [Client 18] evaluate, config: {}, local accuracy: 4.166666666666667\n",
            "\u001b[2m\u001b[36m(DefaultActor pid=8820)\u001b[0m [Client 15] fit, config: {'epochs': 10, 'lr': 0.1, 'attacker_epochs': 20, 'attacker_lr': 0.05}\n",
            "\u001b[2m\u001b[36m(DefaultActor pid=8820)\u001b[0m [Client 15] get_parameters\n",
            "\u001b[2m\u001b[36m(DefaultActor pid=8820)\u001b[0m [Client 6] fit, config: {'epochs': 10, 'lr': 0.1, 'attacker_epochs': 20, 'attacker_lr': 0.05}\n",
            "\u001b[2m\u001b[36m(DefaultActor pid=8820)\u001b[0m [Client 6] get_parameters\n",
            "\u001b[2m\u001b[36m(DefaultActor pid=8820)\u001b[0m [Client 3] fit, config: {'epochs': 10, 'lr': 0.1, 'attacker_epochs': 20, 'attacker_lr': 0.05}\n",
            "\u001b[2m\u001b[36m(DefaultActor pid=8820)\u001b[0m [Client 3] get_parameters\n",
            "\u001b[2m\u001b[36m(DefaultActor pid=8820)\u001b[0m [Client 14] fit, config: {'epochs': 10, 'lr': 0.1, 'attacker_epochs': 20, 'attacker_lr': 0.05}\n",
            "\u001b[2m\u001b[36m(DefaultActor pid=8820)\u001b[0m [Client 14] get_parameters\n",
            "\u001b[2m\u001b[36m(DefaultActor pid=8820)\u001b[0m [Client 7] fit, config: {'epochs': 10, 'lr': 0.1, 'attacker_epochs': 20, 'attacker_lr': 0.05}\n",
            "\u001b[2m\u001b[36m(DefaultActor pid=8820)\u001b[0m [Client 7] get_parameters\n",
            "\u001b[2m\u001b[36m(DefaultActor pid=8820)\u001b[0m [Client 19] fit, config: {'epochs': 10, 'lr': 0.1, 'attacker_epochs': 20, 'attacker_lr': 0.05}\n",
            "\u001b[2m\u001b[36m(DefaultActor pid=8820)\u001b[0m [Client 19] get_parameters\n",
            "\u001b[2m\u001b[36m(DefaultActor pid=8820)\u001b[0m [Client 24] fit, config: {'epochs': 10, 'lr': 0.1, 'attacker_epochs': 20, 'attacker_lr': 0.05}\n",
            "\u001b[2m\u001b[36m(DefaultActor pid=8820)\u001b[0m [Client 24] get_parameters\n",
            "\u001b[2m\u001b[36m(DefaultActor pid=8820)\u001b[0m [Client 11] fit, config: {'epochs': 10, 'lr': 0.1, 'attacker_epochs': 20, 'attacker_lr': 0.05}\n",
            "\u001b[2m\u001b[36m(DefaultActor pid=8820)\u001b[0m [Client 11] get_parameters\n",
            "\u001b[2m\u001b[36m(DefaultActor pid=8820)\u001b[0m [Client 25] fit, config: {'epochs': 10, 'lr': 0.1, 'attacker_epochs': 20, 'attacker_lr': 0.05}\n",
            "\u001b[2m\u001b[36m(DefaultActor pid=8820)\u001b[0m [Client 25] get_parameters\n",
            "\u001b[2m\u001b[36m(DefaultActor pid=8820)\u001b[0m [Client 13] fit, config: {'epochs': 10, 'lr': 0.1, 'attacker_epochs': 20, 'attacker_lr': 0.05}\n"
          ]
        },
        {
          "output_type": "stream",
          "name": "stderr",
          "text": [
            "DEBUG flwr 2024-01-04 05:47:26,584 | server.py:236 | fit_round 2 received 10 results and 0 failures\n",
            "DEBUG:flwr:fit_round 2 received 10 results and 0 failures\n"
          ]
        },
        {
          "output_type": "stream",
          "name": "stdout",
          "text": [
            "\u001b[2m\u001b[36m(DefaultActor pid=8820)\u001b[0m [Client 13] get_parameters\n",
            "Saving round 2 aggregated_parameters...\n"
          ]
        },
        {
          "output_type": "stream",
          "name": "stderr",
          "text": [
            "INFO flwr 2024-01-04 05:47:32,413 | server.py:125 | fit progress: (2, 318.87401723861694, {'accuracy': 0.9689922480620154}, 1590.377406714)\n",
            "INFO:flwr:fit progress: (2, 318.87401723861694, {'accuracy': 0.9689922480620154}, 1590.377406714)\n",
            "DEBUG flwr 2024-01-04 05:47:32,417 | server.py:173 | evaluate_round 2: strategy sampled 10 clients (out of 30)\n",
            "DEBUG:flwr:evaluate_round 2: strategy sampled 10 clients (out of 30)\n"
          ]
        },
        {
          "output_type": "stream",
          "name": "stdout",
          "text": [
            "Accuracy của poisoned task: 0.97%\n",
            "\u001b[2m\u001b[36m(DefaultActor pid=8820)\u001b[0m Accuracy của poisoned task: 0.00%\n",
            "\u001b[2m\u001b[36m(DefaultActor pid=8820)\u001b[0m [Client 29] evaluate, config: {}, local accuracy: 0.0\n",
            "\u001b[2m\u001b[36m(DefaultActor pid=8820)\u001b[0m Accuracy của poisoned task: 0.00%\n",
            "\u001b[2m\u001b[36m(DefaultActor pid=8820)\u001b[0m [Client 19] evaluate, config: {}, local accuracy: 0.0\n",
            "\u001b[2m\u001b[36m(DefaultActor pid=8820)\u001b[0m Accuracy của poisoned task: 0.00%\n",
            "\u001b[2m\u001b[36m(DefaultActor pid=8820)\u001b[0m [Client 15] evaluate, config: {}, local accuracy: 0.0\n",
            "\u001b[2m\u001b[36m(DefaultActor pid=8820)\u001b[0m Accuracy của poisoned task: 0.00%\n",
            "\u001b[2m\u001b[36m(DefaultActor pid=8820)\u001b[0m [Client 4] evaluate, config: {}, local accuracy: 0.0\n",
            "\u001b[2m\u001b[36m(DefaultActor pid=8820)\u001b[0m Accuracy của poisoned task: 0.00%\n",
            "\u001b[2m\u001b[36m(DefaultActor pid=8820)\u001b[0m [Client 22] evaluate, config: {}, local accuracy: 0.0\n",
            "\u001b[2m\u001b[36m(DefaultActor pid=8820)\u001b[0m Accuracy của poisoned task: 7.14%\n",
            "\u001b[2m\u001b[36m(DefaultActor pid=8820)\u001b[0m [Client 7] evaluate, config: {}, local accuracy: 7.142857142857143\n",
            "\u001b[2m\u001b[36m(DefaultActor pid=8820)\u001b[0m Accuracy của poisoned task: 0.00%\n",
            "\u001b[2m\u001b[36m(DefaultActor pid=8820)\u001b[0m [Client 23] evaluate, config: {}, local accuracy: 0.0\n",
            "\u001b[2m\u001b[36m(DefaultActor pid=8820)\u001b[0m Accuracy của poisoned task: 0.00%\n",
            "\u001b[2m\u001b[36m(DefaultActor pid=8820)\u001b[0m [Client 28] evaluate, config: {}, local accuracy: 0.0\n",
            "\u001b[2m\u001b[36m(DefaultActor pid=8820)\u001b[0m Accuracy của poisoned task: 0.00%\n",
            "\u001b[2m\u001b[36m(DefaultActor pid=8820)\u001b[0m [Client 16] evaluate, config: {}, local accuracy: 0.0\n"
          ]
        },
        {
          "output_type": "stream",
          "name": "stderr",
          "text": [
            "DEBUG flwr 2024-01-04 05:47:34,247 | server.py:187 | evaluate_round 2 received 10 results and 0 failures\n",
            "DEBUG:flwr:evaluate_round 2 received 10 results and 0 failures\n",
            "DEBUG flwr 2024-01-04 05:47:34,250 | server.py:222 | fit_round 3: strategy sampled 10 clients (out of 30)\n",
            "DEBUG:flwr:fit_round 3: strategy sampled 10 clients (out of 30)\n"
          ]
        },
        {
          "output_type": "stream",
          "name": "stdout",
          "text": [
            "\u001b[2m\u001b[36m(DefaultActor pid=8820)\u001b[0m Accuracy của poisoned task: 0.00%\n",
            "\u001b[2m\u001b[36m(DefaultActor pid=8820)\u001b[0m [Client 20] evaluate, config: {}, local accuracy: 0.0\n",
            "\u001b[2m\u001b[36m(DefaultActor pid=8820)\u001b[0m [Client 19] fit, config: {'epochs': 10, 'lr': 0.1, 'attacker_epochs': 20, 'attacker_lr': 0.05}\n",
            "\u001b[2m\u001b[36m(DefaultActor pid=8820)\u001b[0m [Client 19] get_parameters\n",
            "\u001b[2m\u001b[36m(DefaultActor pid=8820)\u001b[0m [Client 27] fit, config: {'epochs': 10, 'lr': 0.1, 'attacker_epochs': 20, 'attacker_lr': 0.05}\n",
            "\u001b[2m\u001b[36m(DefaultActor pid=8820)\u001b[0m [Client 27] get_parameters\n",
            "\u001b[2m\u001b[36m(DefaultActor pid=8820)\u001b[0m [Client 24] fit, config: {'epochs': 10, 'lr': 0.1, 'attacker_epochs': 20, 'attacker_lr': 0.05}\n",
            "\u001b[2m\u001b[36m(DefaultActor pid=8820)\u001b[0m [Client 24] get_parameters\n",
            "\u001b[2m\u001b[36m(DefaultActor pid=8820)\u001b[0m [Client 23] fit, config: {'epochs': 10, 'lr': 0.1, 'attacker_epochs': 20, 'attacker_lr': 0.05}\n",
            "\u001b[2m\u001b[36m(DefaultActor pid=8820)\u001b[0m [Client 23] get_parameters\n",
            "\u001b[2m\u001b[36m(DefaultActor pid=8820)\u001b[0m [Client 18] fit, config: {'epochs': 10, 'lr': 0.1, 'attacker_epochs': 20, 'attacker_lr': 0.05}\n",
            "\u001b[2m\u001b[36m(DefaultActor pid=8820)\u001b[0m [Client 18] get_parameters\n",
            "\u001b[2m\u001b[36m(DefaultActor pid=8820)\u001b[0m [Client 9] fit, config: {'epochs': 10, 'lr': 0.1, 'attacker_epochs': 20, 'attacker_lr': 0.05}\n",
            "\u001b[2m\u001b[36m(DefaultActor pid=8820)\u001b[0m [Client 9] get_parameters\n",
            "\u001b[2m\u001b[36m(DefaultActor pid=8820)\u001b[0m [Client 2] fit, config: {'epochs': 10, 'lr': 0.1, 'attacker_epochs': 20, 'attacker_lr': 0.05}\n",
            "\u001b[2m\u001b[36m(DefaultActor pid=8820)\u001b[0m [Client 2] get_parameters\n",
            "\u001b[2m\u001b[36m(DefaultActor pid=8820)\u001b[0m [Client 15] fit, config: {'epochs': 10, 'lr': 0.1, 'attacker_epochs': 20, 'attacker_lr': 0.05}\n",
            "\u001b[2m\u001b[36m(DefaultActor pid=8820)\u001b[0m [Client 15] get_parameters\n",
            "\u001b[2m\u001b[36m(DefaultActor pid=8820)\u001b[0m [Client 25] fit, config: {'epochs': 10, 'lr': 0.1, 'attacker_epochs': 20, 'attacker_lr': 0.05}\n",
            "\u001b[2m\u001b[36m(DefaultActor pid=8820)\u001b[0m [Client 25] get_parameters\n",
            "\u001b[2m\u001b[36m(DefaultActor pid=8820)\u001b[0m [Client 13] fit, config: {'epochs': 10, 'lr': 0.1, 'attacker_epochs': 20, 'attacker_lr': 0.05}\n"
          ]
        },
        {
          "output_type": "stream",
          "name": "stderr",
          "text": [
            "DEBUG flwr 2024-01-04 05:49:10,200 | server.py:236 | fit_round 3 received 10 results and 0 failures\n",
            "DEBUG:flwr:fit_round 3 received 10 results and 0 failures\n"
          ]
        },
        {
          "output_type": "stream",
          "name": "stdout",
          "text": [
            "Saving round 3 aggregated_parameters...\n",
            "\u001b[2m\u001b[36m(DefaultActor pid=8820)\u001b[0m [Client 13] get_parameters\n"
          ]
        },
        {
          "output_type": "stream",
          "name": "stderr",
          "text": [
            "INFO flwr 2024-01-04 05:49:15,367 | server.py:125 | fit progress: (3, 317.83264911174774, {'accuracy': 0.872093023255814}, 1693.331172764)\n",
            "INFO:flwr:fit progress: (3, 317.83264911174774, {'accuracy': 0.872093023255814}, 1693.331172764)\n",
            "DEBUG flwr 2024-01-04 05:49:15,370 | server.py:173 | evaluate_round 3: strategy sampled 10 clients (out of 30)\n",
            "DEBUG:flwr:evaluate_round 3: strategy sampled 10 clients (out of 30)\n"
          ]
        },
        {
          "output_type": "stream",
          "name": "stdout",
          "text": [
            "Accuracy của poisoned task: 0.87%\n",
            "\u001b[2m\u001b[36m(DefaultActor pid=8820)\u001b[0m Accuracy của poisoned task: 0.00%\n",
            "\u001b[2m\u001b[36m(DefaultActor pid=8820)\u001b[0m [Client 13] evaluate, config: {}, local accuracy: 0.0\n",
            "\u001b[2m\u001b[36m(DefaultActor pid=8820)\u001b[0m Accuracy của poisoned task: 5.56%\n",
            "\u001b[2m\u001b[36m(DefaultActor pid=8820)\u001b[0m [Client 3] evaluate, config: {}, local accuracy: 5.555555555555555\n",
            "\u001b[2m\u001b[36m(DefaultActor pid=8820)\u001b[0m Accuracy của poisoned task: 0.00%\n",
            "\u001b[2m\u001b[36m(DefaultActor pid=8820)\u001b[0m [Client 2] evaluate, config: {}, local accuracy: 0.0\n",
            "\u001b[2m\u001b[36m(DefaultActor pid=8820)\u001b[0m Accuracy của poisoned task: 0.00%\n",
            "\u001b[2m\u001b[36m(DefaultActor pid=8820)\u001b[0m [Client 17] evaluate, config: {}, local accuracy: 0.0\n",
            "\u001b[2m\u001b[36m(DefaultActor pid=8820)\u001b[0m Accuracy của poisoned task: 0.00%\n",
            "\u001b[2m\u001b[36m(DefaultActor pid=8820)\u001b[0m [Client 29] evaluate, config: {}, local accuracy: 0.0\n",
            "\u001b[2m\u001b[36m(DefaultActor pid=8820)\u001b[0m Accuracy của poisoned task: 0.00%\n",
            "\u001b[2m\u001b[36m(DefaultActor pid=8820)\u001b[0m [Client 9] evaluate, config: {}, local accuracy: 0.0\n",
            "\u001b[2m\u001b[36m(DefaultActor pid=8820)\u001b[0m Accuracy của poisoned task: 0.00%\n",
            "\u001b[2m\u001b[36m(DefaultActor pid=8820)\u001b[0m [Client 12] evaluate, config: {}, local accuracy: 0.0\n",
            "\u001b[2m\u001b[36m(DefaultActor pid=8820)\u001b[0m Accuracy của poisoned task: 0.00%\n",
            "\u001b[2m\u001b[36m(DefaultActor pid=8820)\u001b[0m [Client 5] evaluate, config: {}, local accuracy: 0.0\n"
          ]
        },
        {
          "output_type": "stream",
          "name": "stderr",
          "text": [
            "DEBUG flwr 2024-01-04 05:49:17,357 | server.py:187 | evaluate_round 3 received 10 results and 0 failures\n",
            "DEBUG:flwr:evaluate_round 3 received 10 results and 0 failures\n",
            "DEBUG flwr 2024-01-04 05:49:17,360 | server.py:222 | fit_round 4: strategy sampled 10 clients (out of 30)\n",
            "DEBUG:flwr:fit_round 4: strategy sampled 10 clients (out of 30)\n"
          ]
        },
        {
          "output_type": "stream",
          "name": "stdout",
          "text": [
            "\u001b[2m\u001b[36m(DefaultActor pid=8820)\u001b[0m Accuracy của poisoned task: 0.00%\n",
            "\u001b[2m\u001b[36m(DefaultActor pid=8820)\u001b[0m [Client 22] evaluate, config: {}, local accuracy: 0.0\n",
            "\u001b[2m\u001b[36m(DefaultActor pid=8820)\u001b[0m Accuracy của poisoned task: 0.00%\n",
            "\u001b[2m\u001b[36m(DefaultActor pid=8820)\u001b[0m [Client 10] evaluate, config: {}, local accuracy: 0.0\n",
            "\u001b[2m\u001b[36m(DefaultActor pid=8820)\u001b[0m [Client 7] fit, config: {'epochs': 10, 'lr': 0.1, 'attacker_epochs': 20, 'attacker_lr': 0.05}\n",
            "\u001b[2m\u001b[36m(DefaultActor pid=8820)\u001b[0m [Client 7] get_parameters\n",
            "\u001b[2m\u001b[36m(DefaultActor pid=8820)\u001b[0m [Client 24] fit, config: {'epochs': 10, 'lr': 0.1, 'attacker_epochs': 20, 'attacker_lr': 0.05}\n",
            "\u001b[2m\u001b[36m(DefaultActor pid=8820)\u001b[0m [Client 24] get_parameters\n",
            "\u001b[2m\u001b[36m(DefaultActor pid=8820)\u001b[0m [Client 1] fit, config: {'epochs': 10, 'lr': 0.1, 'attacker_epochs': 20, 'attacker_lr': 0.05}\n",
            "\u001b[2m\u001b[36m(DefaultActor pid=8820)\u001b[0m [Client 1] get_parameters\n",
            "\u001b[2m\u001b[36m(DefaultActor pid=8820)\u001b[0m [Client 27] fit, config: {'epochs': 10, 'lr': 0.1, 'attacker_epochs': 20, 'attacker_lr': 0.05}\n",
            "\u001b[2m\u001b[36m(DefaultActor pid=8820)\u001b[0m [Client 27] get_parameters\n",
            "\u001b[2m\u001b[36m(DefaultActor pid=8820)\u001b[0m [Client 12] fit, config: {'epochs': 10, 'lr': 0.1, 'attacker_epochs': 20, 'attacker_lr': 0.05}\n",
            "\u001b[2m\u001b[36m(DefaultActor pid=8820)\u001b[0m [Client 12] get_parameters\n",
            "\u001b[2m\u001b[36m(DefaultActor pid=8820)\u001b[0m [Client 9] fit, config: {'epochs': 10, 'lr': 0.1, 'attacker_epochs': 20, 'attacker_lr': 0.05}\n",
            "\u001b[2m\u001b[36m(DefaultActor pid=8820)\u001b[0m [Client 9] get_parameters\n",
            "\u001b[2m\u001b[36m(DefaultActor pid=8820)\u001b[0m [Client 23] fit, config: {'epochs': 10, 'lr': 0.1, 'attacker_epochs': 20, 'attacker_lr': 0.05}\n",
            "\u001b[2m\u001b[36m(DefaultActor pid=8820)\u001b[0m [Client 23] get_parameters\n",
            "\u001b[2m\u001b[36m(DefaultActor pid=8820)\u001b[0m [Client 20] fit, config: {'epochs': 10, 'lr': 0.1, 'attacker_epochs': 20, 'attacker_lr': 0.05}\n",
            "\u001b[2m\u001b[36m(DefaultActor pid=8820)\u001b[0m [Client 20] get_parameters\n",
            "\u001b[2m\u001b[36m(DefaultActor pid=8820)\u001b[0m [Client 0] fit, config: {'epochs': 10, 'lr': 0.1, 'attacker_epochs': 20, 'attacker_lr': 0.05}\n",
            "\u001b[2m\u001b[36m(DefaultActor pid=8820)\u001b[0m Accuracy của poisoned task: 0.87%\n",
            "\u001b[2m\u001b[36m(DefaultActor pid=8820)\u001b[0m Training G::   0%|          | 0/100 [00:00<?, ?it/s]\n",
            "\u001b[2m\u001b[36m(DefaultActor pid=8820)\u001b[0m Poison Training::   0%|          | 0/100 [00:00<?, ?it/s]\n",
            "\u001b[2m\u001b[36m(DefaultActor pid=8820)\u001b[0m Training G::   0%|          | 0/100 [00:00<?, ?it/s]\n",
            "\u001b[2m\u001b[36m(DefaultActor pid=8820)\u001b[0m Poison Training::   0%|          | 0/100 [00:00<?, ?it/s]\n",
            "\u001b[2m\u001b[36m(DefaultActor pid=8820)\u001b[0m Training G::   0%|          | 0/100 [00:00<?, ?it/s]\n",
            "\u001b[2m\u001b[36m(DefaultActor pid=8820)\u001b[0m Poison Training::   0%|          | 0/100 [00:00<?, ?it/s]\n",
            "\u001b[2m\u001b[36m(DefaultActor pid=8820)\u001b[0m Training G::   0%|          | 0/100 [00:00<?, ?it/s]\n",
            "\u001b[2m\u001b[36m(DefaultActor pid=8820)\u001b[0m Poison Training::   0%|          | 0/100 [00:00<?, ?it/s]\n",
            "\u001b[2m\u001b[36m(DefaultActor pid=8820)\u001b[0m Training G::   0%|          | 0/100 [00:00<?, ?it/s]\n",
            "\u001b[2m\u001b[36m(DefaultActor pid=8820)\u001b[0m Poison Training::   0%|          | 0/100 [00:00<?, ?it/s]\n",
            "\u001b[2m\u001b[36m(DefaultActor pid=8820)\u001b[0m Training G::   0%|          | 0/100 [00:00<?, ?it/s]\n",
            "\u001b[2m\u001b[36m(DefaultActor pid=8820)\u001b[0m Poison Training::   0%|          | 0/100 [00:00<?, ?it/s]\n",
            "\u001b[2m\u001b[36m(DefaultActor pid=8820)\u001b[0m Training G::   0%|          | 0/100 [00:00<?, ?it/s]\n",
            "\u001b[2m\u001b[36m(DefaultActor pid=8820)\u001b[0m Poison Training::   0%|          | 0/100 [00:00<?, ?it/s]\n",
            "\u001b[2m\u001b[36m(DefaultActor pid=8820)\u001b[0m Training G::   0%|          | 0/100 [00:00<?, ?it/s]\n",
            "\u001b[2m\u001b[36m(DefaultActor pid=8820)\u001b[0m Poison Training::   0%|          | 0/100 [00:00<?, ?it/s]\n",
            "\u001b[2m\u001b[36m(DefaultActor pid=8820)\u001b[0m Training G::   0%|          | 0/100 [00:00<?, ?it/s]\n",
            "\u001b[2m\u001b[36m(DefaultActor pid=8820)\u001b[0m Poison Training::   0%|          | 0/100 [00:00<?, ?it/s]\n",
            "\u001b[2m\u001b[36m(DefaultActor pid=8820)\u001b[0m Training G::   0%|          | 0/100 [00:00<?, ?it/s]\n",
            "\u001b[2m\u001b[36m(DefaultActor pid=8820)\u001b[0m Poison Training::   0%|          | 0/100 [00:00<?, ?it/s]\n",
            "\u001b[2m\u001b[36m(DefaultActor pid=8820)\u001b[0m [Client 0] get_parameters\n",
            "\u001b[2m\u001b[36m(DefaultActor pid=8820)\u001b[0m [Client 28] fit, config: {'epochs': 10, 'lr': 0.1, 'attacker_epochs': 20, 'attacker_lr': 0.05}\n"
          ]
        },
        {
          "output_type": "stream",
          "name": "stderr",
          "text": [
            "DEBUG flwr 2024-01-04 06:13:46,190 | server.py:236 | fit_round 4 received 10 results and 0 failures\n",
            "DEBUG:flwr:fit_round 4 received 10 results and 0 failures\n"
          ]
        },
        {
          "output_type": "stream",
          "name": "stdout",
          "text": [
            "Saving round 4 aggregated_parameters...\n",
            "\u001b[2m\u001b[36m(DefaultActor pid=8820)\u001b[0m [Client 28] get_parameters\n"
          ]
        },
        {
          "output_type": "stream",
          "name": "stderr",
          "text": [
            "INFO flwr 2024-01-04 06:13:52,412 | server.py:125 | fit progress: (4, 331.7648822069168, {'accuracy': 22.96511627906977}, 3170.3763310580007)\n",
            "INFO:flwr:fit progress: (4, 331.7648822069168, {'accuracy': 22.96511627906977}, 3170.3763310580007)\n",
            "DEBUG flwr 2024-01-04 06:13:52,416 | server.py:173 | evaluate_round 4: strategy sampled 10 clients (out of 30)\n",
            "DEBUG:flwr:evaluate_round 4: strategy sampled 10 clients (out of 30)\n"
          ]
        },
        {
          "output_type": "stream",
          "name": "stdout",
          "text": [
            "Accuracy của poisoned task: 22.97%\n",
            "\u001b[2m\u001b[36m(DefaultActor pid=8820)\u001b[0m Accuracy của poisoned task: 44.44%\n",
            "\u001b[2m\u001b[36m(DefaultActor pid=8820)\u001b[0m [Client 27] evaluate, config: {}, local accuracy: 44.44444444444444\n",
            "\u001b[2m\u001b[36m(DefaultActor pid=8820)\u001b[0m Accuracy của poisoned task: 31.58%\n",
            "\u001b[2m\u001b[36m(DefaultActor pid=8820)\u001b[0m [Client 25] evaluate, config: {}, local accuracy: 31.57894736842105\n",
            "\u001b[2m\u001b[36m(DefaultActor pid=8820)\u001b[0m Accuracy của poisoned task: 26.92%\n",
            "\u001b[2m\u001b[36m(DefaultActor pid=8820)\u001b[0m [Client 9] evaluate, config: {}, local accuracy: 26.923076923076923\n",
            "\u001b[2m\u001b[36m(DefaultActor pid=8820)\u001b[0m Accuracy của poisoned task: 14.81%\n",
            "\u001b[2m\u001b[36m(DefaultActor pid=8820)\u001b[0m [Client 17] evaluate, config: {}, local accuracy: 14.814814814814815\n",
            "\u001b[2m\u001b[36m(DefaultActor pid=8820)\u001b[0m Accuracy của poisoned task: 37.50%\n",
            "\u001b[2m\u001b[36m(DefaultActor pid=8820)\u001b[0m [Client 4] evaluate, config: {}, local accuracy: 37.5\n",
            "\u001b[2m\u001b[36m(DefaultActor pid=8820)\u001b[0m Accuracy của poisoned task: 13.04%\n",
            "\u001b[2m\u001b[36m(DefaultActor pid=8820)\u001b[0m [Client 21] evaluate, config: {}, local accuracy: 13.043478260869565\n",
            "\u001b[2m\u001b[36m(DefaultActor pid=8820)\u001b[0m Accuracy của poisoned task: 30.77%\n",
            "\u001b[2m\u001b[36m(DefaultActor pid=8820)\u001b[0m [Client 5] evaluate, config: {}, local accuracy: 30.76923076923077\n",
            "\u001b[2m\u001b[36m(DefaultActor pid=8820)\u001b[0m Accuracy của poisoned task: 5.88%\n",
            "\u001b[2m\u001b[36m(DefaultActor pid=8820)\u001b[0m [Client 15] evaluate, config: {}, local accuracy: 5.882352941176471\n"
          ]
        },
        {
          "output_type": "stream",
          "name": "stderr",
          "text": [
            "DEBUG flwr 2024-01-04 06:13:54,276 | server.py:187 | evaluate_round 4 received 10 results and 0 failures\n",
            "DEBUG:flwr:evaluate_round 4 received 10 results and 0 failures\n",
            "DEBUG flwr 2024-01-04 06:13:54,280 | server.py:222 | fit_round 5: strategy sampled 10 clients (out of 30)\n",
            "DEBUG:flwr:fit_round 5: strategy sampled 10 clients (out of 30)\n"
          ]
        },
        {
          "output_type": "stream",
          "name": "stdout",
          "text": [
            "\u001b[2m\u001b[36m(DefaultActor pid=8820)\u001b[0m Accuracy của poisoned task: 10.00%\n",
            "\u001b[2m\u001b[36m(DefaultActor pid=8820)\u001b[0m [Client 2] evaluate, config: {}, local accuracy: 10.0\n",
            "\u001b[2m\u001b[36m(DefaultActor pid=8820)\u001b[0m Accuracy của poisoned task: 31.25%\n",
            "\u001b[2m\u001b[36m(DefaultActor pid=8820)\u001b[0m [Client 0] evaluate, config: {}, local accuracy: 31.25\n",
            "\u001b[2m\u001b[36m(DefaultActor pid=8820)\u001b[0m [Client 2] fit, config: {'epochs': 10, 'lr': 0.1, 'attacker_epochs': 20, 'attacker_lr': 0.05}\n",
            "\u001b[2m\u001b[36m(DefaultActor pid=8820)\u001b[0m [Client 2] get_parameters\n",
            "\u001b[2m\u001b[36m(DefaultActor pid=8820)\u001b[0m [Client 18] fit, config: {'epochs': 10, 'lr': 0.1, 'attacker_epochs': 20, 'attacker_lr': 0.05}\n",
            "\u001b[2m\u001b[36m(DefaultActor pid=8820)\u001b[0m [Client 18] get_parameters\n",
            "\u001b[2m\u001b[36m(DefaultActor pid=8820)\u001b[0m [Client 3] fit, config: {'epochs': 10, 'lr': 0.1, 'attacker_epochs': 20, 'attacker_lr': 0.05}\n",
            "\u001b[2m\u001b[36m(DefaultActor pid=8820)\u001b[0m [Client 3] get_parameters\n",
            "\u001b[2m\u001b[36m(DefaultActor pid=8820)\u001b[0m [Client 8] fit, config: {'epochs': 10, 'lr': 0.1, 'attacker_epochs': 20, 'attacker_lr': 0.05}\n",
            "\u001b[2m\u001b[36m(DefaultActor pid=8820)\u001b[0m [Client 8] get_parameters\n",
            "\u001b[2m\u001b[36m(DefaultActor pid=8820)\u001b[0m [Client 20] fit, config: {'epochs': 10, 'lr': 0.1, 'attacker_epochs': 20, 'attacker_lr': 0.05}\n",
            "\u001b[2m\u001b[36m(DefaultActor pid=8820)\u001b[0m [Client 20] get_parameters\n",
            "\u001b[2m\u001b[36m(DefaultActor pid=8820)\u001b[0m [Client 11] fit, config: {'epochs': 10, 'lr': 0.1, 'attacker_epochs': 20, 'attacker_lr': 0.05}\n",
            "\u001b[2m\u001b[36m(DefaultActor pid=8820)\u001b[0m [Client 11] get_parameters\n",
            "\u001b[2m\u001b[36m(DefaultActor pid=8820)\u001b[0m [Client 29] fit, config: {'epochs': 10, 'lr': 0.1, 'attacker_epochs': 20, 'attacker_lr': 0.05}\n",
            "\u001b[2m\u001b[36m(DefaultActor pid=8820)\u001b[0m [Client 29] get_parameters\n",
            "\u001b[2m\u001b[36m(DefaultActor pid=8820)\u001b[0m [Client 19] fit, config: {'epochs': 10, 'lr': 0.1, 'attacker_epochs': 20, 'attacker_lr': 0.05}\n",
            "\u001b[2m\u001b[36m(DefaultActor pid=8820)\u001b[0m [Client 19] get_parameters\n",
            "\u001b[2m\u001b[36m(DefaultActor pid=8820)\u001b[0m [Client 23] fit, config: {'epochs': 10, 'lr': 0.1, 'attacker_epochs': 20, 'attacker_lr': 0.05}\n",
            "\u001b[2m\u001b[36m(DefaultActor pid=8820)\u001b[0m [Client 23] get_parameters\n",
            "\u001b[2m\u001b[36m(DefaultActor pid=8820)\u001b[0m [Client 4] fit, config: {'epochs': 10, 'lr': 0.1, 'attacker_epochs': 20, 'attacker_lr': 0.05}\n"
          ]
        },
        {
          "output_type": "stream",
          "name": "stderr",
          "text": [
            "DEBUG flwr 2024-01-04 06:15:31,191 | server.py:236 | fit_round 5 received 10 results and 0 failures\n",
            "DEBUG:flwr:fit_round 5 received 10 results and 0 failures\n"
          ]
        },
        {
          "output_type": "stream",
          "name": "stdout",
          "text": [
            "Saving round 5 aggregated_parameters...\n",
            "\u001b[2m\u001b[36m(DefaultActor pid=8820)\u001b[0m [Client 4] get_parameters\n"
          ]
        },
        {
          "output_type": "stream",
          "name": "stderr",
          "text": [
            "INFO flwr 2024-01-04 06:15:36,349 | server.py:125 | fit progress: (5, 316.80020821094513, {'accuracy': 1.2596899224806202}, 3274.312885274)\n",
            "INFO:flwr:fit progress: (5, 316.80020821094513, {'accuracy': 1.2596899224806202}, 3274.312885274)\n",
            "DEBUG flwr 2024-01-04 06:15:36,353 | server.py:173 | evaluate_round 5: strategy sampled 10 clients (out of 30)\n",
            "DEBUG:flwr:evaluate_round 5: strategy sampled 10 clients (out of 30)\n"
          ]
        },
        {
          "output_type": "stream",
          "name": "stdout",
          "text": [
            "Accuracy của poisoned task: 1.26%\n",
            "\u001b[2m\u001b[36m(DefaultActor pid=8820)\u001b[0m Accuracy của poisoned task: 5.88%\n",
            "\u001b[2m\u001b[36m(DefaultActor pid=8820)\u001b[0m [Client 14] evaluate, config: {}, local accuracy: 5.882352941176471\n",
            "\u001b[2m\u001b[36m(DefaultActor pid=8820)\u001b[0m Accuracy của poisoned task: 6.67%\n",
            "\u001b[2m\u001b[36m(DefaultActor pid=8820)\u001b[0m [Client 6] evaluate, config: {}, local accuracy: 6.666666666666667\n",
            "\u001b[2m\u001b[36m(DefaultActor pid=8820)\u001b[0m Accuracy của poisoned task: 3.57%\n",
            "\u001b[2m\u001b[36m(DefaultActor pid=8820)\u001b[0m [Client 2] evaluate, config: {}, local accuracy: 3.5714285714285716\n",
            "\u001b[2m\u001b[36m(DefaultActor pid=8820)\u001b[0m Accuracy của poisoned task: 0.00%\n",
            "\u001b[2m\u001b[36m(DefaultActor pid=8820)\u001b[0m [Client 5] evaluate, config: {}, local accuracy: 0.0\n",
            "\u001b[2m\u001b[36m(DefaultActor pid=8820)\u001b[0m Accuracy của poisoned task: 0.00%\n",
            "\u001b[2m\u001b[36m(DefaultActor pid=8820)\u001b[0m [Client 23] evaluate, config: {}, local accuracy: 0.0\n",
            "\u001b[2m\u001b[36m(DefaultActor pid=8820)\u001b[0m Accuracy của poisoned task: 0.00%\n",
            "\u001b[2m\u001b[36m(DefaultActor pid=8820)\u001b[0m [Client 0] evaluate, config: {}, local accuracy: 0.0\n",
            "\u001b[2m\u001b[36m(DefaultActor pid=8820)\u001b[0m Accuracy của poisoned task: 0.00%\n",
            "\u001b[2m\u001b[36m(DefaultActor pid=8820)\u001b[0m [Client 17] evaluate, config: {}, local accuracy: 0.0\n",
            "\u001b[2m\u001b[36m(DefaultActor pid=8820)\u001b[0m Accuracy của poisoned task: 0.00%\n",
            "\u001b[2m\u001b[36m(DefaultActor pid=8820)\u001b[0m [Client 29] evaluate, config: {}, local accuracy: 0.0\n"
          ]
        },
        {
          "output_type": "stream",
          "name": "stderr",
          "text": [
            "DEBUG flwr 2024-01-04 06:15:38,168 | server.py:187 | evaluate_round 5 received 10 results and 0 failures\n",
            "DEBUG:flwr:evaluate_round 5 received 10 results and 0 failures\n",
            "DEBUG flwr 2024-01-04 06:15:38,172 | server.py:222 | fit_round 6: strategy sampled 10 clients (out of 30)\n",
            "DEBUG:flwr:fit_round 6: strategy sampled 10 clients (out of 30)\n"
          ]
        },
        {
          "output_type": "stream",
          "name": "stdout",
          "text": [
            "\u001b[2m\u001b[36m(DefaultActor pid=8820)\u001b[0m Accuracy của poisoned task: 0.00%\n",
            "\u001b[2m\u001b[36m(DefaultActor pid=8820)\u001b[0m [Client 9] evaluate, config: {}, local accuracy: 0.0\n",
            "\u001b[2m\u001b[36m(DefaultActor pid=8820)\u001b[0m Accuracy của poisoned task: 0.00%\n",
            "\u001b[2m\u001b[36m(DefaultActor pid=8820)\u001b[0m [Client 22] evaluate, config: {}, local accuracy: 0.0\n",
            "\u001b[2m\u001b[36m(DefaultActor pid=8820)\u001b[0m [Client 25] fit, config: {'epochs': 10, 'lr': 0.1, 'attacker_epochs': 20, 'attacker_lr': 0.05}\n",
            "\u001b[2m\u001b[36m(DefaultActor pid=8820)\u001b[0m [Client 25] get_parameters\n",
            "\u001b[2m\u001b[36m(DefaultActor pid=8820)\u001b[0m [Client 7] fit, config: {'epochs': 10, 'lr': 0.1, 'attacker_epochs': 20, 'attacker_lr': 0.05}\n",
            "\u001b[2m\u001b[36m(DefaultActor pid=8820)\u001b[0m [Client 7] get_parameters\n",
            "\u001b[2m\u001b[36m(DefaultActor pid=8820)\u001b[0m [Client 0] fit, config: {'epochs': 10, 'lr': 0.1, 'attacker_epochs': 20, 'attacker_lr': 0.05}\n",
            "\u001b[2m\u001b[36m(DefaultActor pid=8820)\u001b[0m Accuracy của poisoned task: 1.26%\n",
            "\u001b[2m\u001b[36m(DefaultActor pid=8820)\u001b[0m Training G::   0%|          | 0/100 [00:00<?, ?it/s]\n",
            "\u001b[2m\u001b[36m(DefaultActor pid=8820)\u001b[0m Poison Training::   0%|          | 0/100 [00:00<?, ?it/s]\n",
            "\u001b[2m\u001b[36m(DefaultActor pid=8820)\u001b[0m Training G::   0%|          | 0/100 [00:00<?, ?it/s]\n",
            "\u001b[2m\u001b[36m(DefaultActor pid=8820)\u001b[0m Poison Training::   0%|          | 0/100 [00:00<?, ?it/s]\n",
            "\u001b[2m\u001b[36m(DefaultActor pid=8820)\u001b[0m Training G::   0%|          | 0/100 [00:00<?, ?it/s]\n",
            "\u001b[2m\u001b[36m(DefaultActor pid=8820)\u001b[0m Poison Training::   0%|          | 0/100 [00:00<?, ?it/s]\n",
            "\u001b[2m\u001b[36m(DefaultActor pid=8820)\u001b[0m Training G::   0%|          | 0/100 [00:00<?, ?it/s]\n",
            "\u001b[2m\u001b[36m(DefaultActor pid=8820)\u001b[0m Poison Training::   0%|          | 0/100 [00:00<?, ?it/s]\n",
            "\u001b[2m\u001b[36m(DefaultActor pid=8820)\u001b[0m Training G::   0%|          | 0/100 [00:00<?, ?it/s]\n",
            "\u001b[2m\u001b[36m(DefaultActor pid=8820)\u001b[0m Poison Training::   0%|          | 0/100 [00:00<?, ?it/s]\n",
            "\u001b[2m\u001b[36m(DefaultActor pid=8820)\u001b[0m Training G::   0%|          | 0/100 [00:00<?, ?it/s]\n",
            "\u001b[2m\u001b[36m(DefaultActor pid=8820)\u001b[0m Poison Training::   0%|          | 0/100 [00:00<?, ?it/s]\n",
            "\u001b[2m\u001b[36m(DefaultActor pid=8820)\u001b[0m Training G::   0%|          | 0/100 [00:00<?, ?it/s]\n",
            "\u001b[2m\u001b[36m(DefaultActor pid=8820)\u001b[0m Poison Training::   0%|          | 0/100 [00:00<?, ?it/s]\n",
            "\u001b[2m\u001b[36m(DefaultActor pid=8820)\u001b[0m Training G::   0%|          | 0/100 [00:00<?, ?it/s]\n",
            "\u001b[2m\u001b[36m(DefaultActor pid=8820)\u001b[0m Poison Training::   0%|          | 0/100 [00:00<?, ?it/s]\n",
            "\u001b[2m\u001b[36m(DefaultActor pid=8820)\u001b[0m Training G::   0%|          | 0/100 [00:00<?, ?it/s]\n",
            "\u001b[2m\u001b[36m(DefaultActor pid=8820)\u001b[0m Poison Training::   0%|          | 0/100 [00:00<?, ?it/s]\n",
            "\u001b[2m\u001b[36m(DefaultActor pid=8820)\u001b[0m Training G::   0%|          | 0/100 [00:00<?, ?it/s]\n",
            "\u001b[2m\u001b[36m(DefaultActor pid=8820)\u001b[0m Poison Training::   0%|          | 0/100 [00:00<?, ?it/s]\n",
            "\u001b[2m\u001b[36m(DefaultActor pid=8820)\u001b[0m [Client 0] get_parameters\n",
            "\u001b[2m\u001b[36m(DefaultActor pid=8820)\u001b[0m [Client 29] fit, config: {'epochs': 10, 'lr': 0.1, 'attacker_epochs': 20, 'attacker_lr': 0.05}\n",
            "\u001b[2m\u001b[36m(DefaultActor pid=8820)\u001b[0m [Client 29] get_parameters\n",
            "\u001b[2m\u001b[36m(DefaultActor pid=8820)\u001b[0m [Client 1] fit, config: {'epochs': 10, 'lr': 0.1, 'attacker_epochs': 20, 'attacker_lr': 0.05}\n",
            "\u001b[2m\u001b[36m(DefaultActor pid=8820)\u001b[0m [Client 1] get_parameters\n",
            "\u001b[2m\u001b[36m(DefaultActor pid=8820)\u001b[0m [Client 18] fit, config: {'epochs': 10, 'lr': 0.1, 'attacker_epochs': 20, 'attacker_lr': 0.05}\n",
            "\u001b[2m\u001b[36m(DefaultActor pid=8820)\u001b[0m [Client 18] get_parameters\n",
            "\u001b[2m\u001b[36m(DefaultActor pid=8820)\u001b[0m [Client 21] fit, config: {'epochs': 10, 'lr': 0.1, 'attacker_epochs': 20, 'attacker_lr': 0.05}\n",
            "\u001b[2m\u001b[36m(DefaultActor pid=8820)\u001b[0m [Client 21] get_parameters\n",
            "\u001b[2m\u001b[36m(DefaultActor pid=8820)\u001b[0m [Client 10] fit, config: {'epochs': 10, 'lr': 0.1, 'attacker_epochs': 20, 'attacker_lr': 0.05}\n",
            "\u001b[2m\u001b[36m(DefaultActor pid=8820)\u001b[0m [Client 10] get_parameters\n",
            "\u001b[2m\u001b[36m(DefaultActor pid=8820)\u001b[0m [Client 11] fit, config: {'epochs': 10, 'lr': 0.1, 'attacker_epochs': 20, 'attacker_lr': 0.05}\n",
            "\u001b[2m\u001b[36m(DefaultActor pid=8820)\u001b[0m [Client 11] get_parameters\n",
            "\u001b[2m\u001b[36m(DefaultActor pid=8820)\u001b[0m [Client 22] fit, config: {'epochs': 10, 'lr': 0.1, 'attacker_epochs': 20, 'attacker_lr': 0.05}\n"
          ]
        },
        {
          "output_type": "stream",
          "name": "stderr",
          "text": [
            "DEBUG flwr 2024-01-04 06:40:04,874 | server.py:236 | fit_round 6 received 10 results and 0 failures\n",
            "DEBUG:flwr:fit_round 6 received 10 results and 0 failures\n"
          ]
        },
        {
          "output_type": "stream",
          "name": "stdout",
          "text": [
            "\u001b[2m\u001b[36m(DefaultActor pid=8820)\u001b[0m [Client 22] get_parameters\n",
            "Saving round 6 aggregated_parameters...\n"
          ]
        },
        {
          "output_type": "stream",
          "name": "stderr",
          "text": [
            "INFO flwr 2024-01-04 06:40:09,911 | server.py:125 | fit progress: (6, 377.90358078479767, {'accuracy': 82.94573643410853}, 4747.8746049520005)\n",
            "INFO:flwr:fit progress: (6, 377.90358078479767, {'accuracy': 82.94573643410853}, 4747.8746049520005)\n",
            "DEBUG flwr 2024-01-04 06:40:09,917 | server.py:173 | evaluate_round 6: strategy sampled 10 clients (out of 30)\n",
            "DEBUG:flwr:evaluate_round 6: strategy sampled 10 clients (out of 30)\n"
          ]
        },
        {
          "output_type": "stream",
          "name": "stdout",
          "text": [
            "Accuracy của poisoned task: 82.95%\n",
            "\u001b[2m\u001b[36m(DefaultActor pid=8820)\u001b[0m Accuracy của poisoned task: 89.47%\n",
            "\u001b[2m\u001b[36m(DefaultActor pid=8820)\u001b[0m [Client 5] evaluate, config: {}, local accuracy: 89.47368421052632\n",
            "\u001b[2m\u001b[36m(DefaultActor pid=8820)\u001b[0m Accuracy của poisoned task: 80.00%\n",
            "\u001b[2m\u001b[36m(DefaultActor pid=8820)\u001b[0m [Client 26] evaluate, config: {}, local accuracy: 80.0\n",
            "\u001b[2m\u001b[36m(DefaultActor pid=8820)\u001b[0m Accuracy của poisoned task: 86.67%\n",
            "\u001b[2m\u001b[36m(DefaultActor pid=8820)\u001b[0m [Client 1] evaluate, config: {}, local accuracy: 86.66666666666667\n",
            "\u001b[2m\u001b[36m(DefaultActor pid=8820)\u001b[0m Accuracy của poisoned task: 95.24%\n",
            "\u001b[2m\u001b[36m(DefaultActor pid=8820)\u001b[0m [Client 14] evaluate, config: {}, local accuracy: 95.23809523809524\n",
            "\u001b[2m\u001b[36m(DefaultActor pid=8820)\u001b[0m Accuracy của poisoned task: 68.75%\n",
            "\u001b[2m\u001b[36m(DefaultActor pid=8820)\u001b[0m [Client 3] evaluate, config: {}, local accuracy: 68.75\n",
            "\u001b[2m\u001b[36m(DefaultActor pid=8820)\u001b[0m Accuracy của poisoned task: 70.00%\n",
            "\u001b[2m\u001b[36m(DefaultActor pid=8820)\u001b[0m [Client 20] evaluate, config: {}, local accuracy: 70.0\n",
            "\u001b[2m\u001b[36m(DefaultActor pid=8820)\u001b[0m Accuracy của poisoned task: 76.47%\n",
            "\u001b[2m\u001b[36m(DefaultActor pid=8820)\u001b[0m [Client 7] evaluate, config: {}, local accuracy: 76.47058823529412\n"
          ]
        },
        {
          "output_type": "stream",
          "name": "stderr",
          "text": [
            "DEBUG flwr 2024-01-04 06:40:12,208 | server.py:187 | evaluate_round 6 received 10 results and 0 failures\n",
            "DEBUG:flwr:evaluate_round 6 received 10 results and 0 failures\n",
            "DEBUG flwr 2024-01-04 06:40:12,211 | server.py:222 | fit_round 7: strategy sampled 10 clients (out of 30)\n"
          ]
        },
        {
          "output_type": "stream",
          "name": "stdout",
          "text": [
            "\u001b[2m\u001b[36m(DefaultActor pid=8820)\u001b[0m Accuracy của poisoned task: 95.45%\n",
            "\u001b[2m\u001b[36m(DefaultActor pid=8820)\u001b[0m [Client 0] evaluate, config: {}, local accuracy: 95.45454545454545\n",
            "\u001b[2m\u001b[36m(DefaultActor pid=8820)\u001b[0m Accuracy của poisoned task: 75.00%\n",
            "\u001b[2m\u001b[36m(DefaultActor pid=8820)\u001b[0m [Client 24] evaluate, config: {}, local accuracy: 75.0\n"
          ]
        },
        {
          "output_type": "stream",
          "name": "stderr",
          "text": [
            "DEBUG:flwr:fit_round 7: strategy sampled 10 clients (out of 30)\n"
          ]
        },
        {
          "output_type": "stream",
          "name": "stdout",
          "text": [
            "\u001b[2m\u001b[36m(DefaultActor pid=8820)\u001b[0m Accuracy của poisoned task: 77.14%\n",
            "\u001b[2m\u001b[36m(DefaultActor pid=8820)\u001b[0m [Client 21] evaluate, config: {}, local accuracy: 77.14285714285714\n",
            "\u001b[2m\u001b[36m(DefaultActor pid=8820)\u001b[0m [Client 29] fit, config: {'epochs': 10, 'lr': 0.1, 'attacker_epochs': 20, 'attacker_lr': 0.05}\n",
            "\u001b[2m\u001b[36m(DefaultActor pid=8820)\u001b[0m [Client 29] get_parameters\n",
            "\u001b[2m\u001b[36m(DefaultActor pid=8820)\u001b[0m [Client 5] fit, config: {'epochs': 10, 'lr': 0.1, 'attacker_epochs': 20, 'attacker_lr': 0.05}\n",
            "\u001b[2m\u001b[36m(DefaultActor pid=8820)\u001b[0m [Client 5] get_parameters\n",
            "\u001b[2m\u001b[36m(DefaultActor pid=8820)\u001b[0m [Client 14] fit, config: {'epochs': 10, 'lr': 0.1, 'attacker_epochs': 20, 'attacker_lr': 0.05}\n",
            "\u001b[2m\u001b[36m(DefaultActor pid=8820)\u001b[0m [Client 14] get_parameters\n",
            "\u001b[2m\u001b[36m(DefaultActor pid=8820)\u001b[0m [Client 28] fit, config: {'epochs': 10, 'lr': 0.1, 'attacker_epochs': 20, 'attacker_lr': 0.05}\n",
            "\u001b[2m\u001b[36m(DefaultActor pid=8820)\u001b[0m [Client 28] get_parameters\n",
            "\u001b[2m\u001b[36m(DefaultActor pid=8820)\u001b[0m [Client 11] fit, config: {'epochs': 10, 'lr': 0.1, 'attacker_epochs': 20, 'attacker_lr': 0.05}\n",
            "\u001b[2m\u001b[36m(DefaultActor pid=8820)\u001b[0m [Client 11] get_parameters\n",
            "\u001b[2m\u001b[36m(DefaultActor pid=8820)\u001b[0m [Client 23] fit, config: {'epochs': 10, 'lr': 0.1, 'attacker_epochs': 20, 'attacker_lr': 0.05}\n",
            "\u001b[2m\u001b[36m(DefaultActor pid=8820)\u001b[0m [Client 23] get_parameters\n",
            "\u001b[2m\u001b[36m(DefaultActor pid=8820)\u001b[0m [Client 12] fit, config: {'epochs': 10, 'lr': 0.1, 'attacker_epochs': 20, 'attacker_lr': 0.05}\n",
            "\u001b[2m\u001b[36m(DefaultActor pid=8820)\u001b[0m [Client 12] get_parameters\n",
            "\u001b[2m\u001b[36m(DefaultActor pid=8820)\u001b[0m [Client 13] fit, config: {'epochs': 10, 'lr': 0.1, 'attacker_epochs': 20, 'attacker_lr': 0.05}\n",
            "\u001b[2m\u001b[36m(DefaultActor pid=8820)\u001b[0m [Client 13] get_parameters\n",
            "\u001b[2m\u001b[36m(DefaultActor pid=8820)\u001b[0m [Client 27] fit, config: {'epochs': 10, 'lr': 0.1, 'attacker_epochs': 20, 'attacker_lr': 0.05}\n",
            "\u001b[2m\u001b[36m(DefaultActor pid=8820)\u001b[0m [Client 27] get_parameters\n",
            "\u001b[2m\u001b[36m(DefaultActor pid=8820)\u001b[0m [Client 24] fit, config: {'epochs': 10, 'lr': 0.1, 'attacker_epochs': 20, 'attacker_lr': 0.05}\n"
          ]
        },
        {
          "output_type": "stream",
          "name": "stderr",
          "text": [
            "DEBUG flwr 2024-01-04 06:41:51,295 | server.py:236 | fit_round 7 received 10 results and 0 failures\n",
            "DEBUG:flwr:fit_round 7 received 10 results and 0 failures\n"
          ]
        },
        {
          "output_type": "stream",
          "name": "stdout",
          "text": [
            "\u001b[2m\u001b[36m(DefaultActor pid=8820)\u001b[0m [Client 24] get_parameters\n",
            "Saving round 7 aggregated_parameters...\n"
          ]
        },
        {
          "output_type": "stream",
          "name": "stderr",
          "text": [
            "INFO flwr 2024-01-04 06:41:56,823 | server.py:125 | fit progress: (7, 315.7980054616928, {'accuracy': 0.9689922480620154}, 4854.786724075)\n",
            "INFO:flwr:fit progress: (7, 315.7980054616928, {'accuracy': 0.9689922480620154}, 4854.786724075)\n",
            "DEBUG flwr 2024-01-04 06:41:56,826 | server.py:173 | evaluate_round 7: strategy sampled 10 clients (out of 30)\n",
            "DEBUG:flwr:evaluate_round 7: strategy sampled 10 clients (out of 30)\n"
          ]
        },
        {
          "output_type": "stream",
          "name": "stdout",
          "text": [
            "Accuracy của poisoned task: 0.97%\n",
            "\u001b[2m\u001b[36m(DefaultActor pid=8820)\u001b[0m Accuracy của poisoned task: 0.00%\n",
            "\u001b[2m\u001b[36m(DefaultActor pid=8820)\u001b[0m [Client 2] evaluate, config: {}, local accuracy: 0.0\n",
            "\u001b[2m\u001b[36m(DefaultActor pid=8820)\u001b[0m Accuracy của poisoned task: 0.00%\n",
            "\u001b[2m\u001b[36m(DefaultActor pid=8820)\u001b[0m [Client 23] evaluate, config: {}, local accuracy: 0.0\n",
            "\u001b[2m\u001b[36m(DefaultActor pid=8820)\u001b[0m Accuracy của poisoned task: 0.00%\n",
            "\u001b[2m\u001b[36m(DefaultActor pid=8820)\u001b[0m [Client 19] evaluate, config: {}, local accuracy: 0.0\n",
            "\u001b[2m\u001b[36m(DefaultActor pid=8820)\u001b[0m Accuracy của poisoned task: 0.00%\n",
            "\u001b[2m\u001b[36m(DefaultActor pid=8820)\u001b[0m [Client 11] evaluate, config: {}, local accuracy: 0.0\n",
            "\u001b[2m\u001b[36m(DefaultActor pid=8820)\u001b[0m Accuracy của poisoned task: 4.55%\n",
            "\u001b[2m\u001b[36m(DefaultActor pid=8820)\u001b[0m [Client 14] evaluate, config: {}, local accuracy: 4.545454545454546\n",
            "\u001b[2m\u001b[36m(DefaultActor pid=8820)\u001b[0m Accuracy của poisoned task: 0.00%\n",
            "\u001b[2m\u001b[36m(DefaultActor pid=8820)\u001b[0m [Client 26] evaluate, config: {}, local accuracy: 0.0\n",
            "\u001b[2m\u001b[36m(DefaultActor pid=8820)\u001b[0m Accuracy của poisoned task: 0.00%\n",
            "\u001b[2m\u001b[36m(DefaultActor pid=8820)\u001b[0m [Client 13] evaluate, config: {}, local accuracy: 0.0\n",
            "\u001b[2m\u001b[36m(DefaultActor pid=8820)\u001b[0m Accuracy của poisoned task: 0.00%\n",
            "\u001b[2m\u001b[36m(DefaultActor pid=8820)\u001b[0m [Client 20] evaluate, config: {}, local accuracy: 0.0\n"
          ]
        },
        {
          "output_type": "stream",
          "name": "stderr",
          "text": [
            "DEBUG flwr 2024-01-04 06:41:58,679 | server.py:187 | evaluate_round 7 received 10 results and 0 failures\n",
            "DEBUG:flwr:evaluate_round 7 received 10 results and 0 failures\n",
            "DEBUG flwr 2024-01-04 06:41:58,682 | server.py:222 | fit_round 8: strategy sampled 10 clients (out of 30)\n",
            "DEBUG:flwr:fit_round 8: strategy sampled 10 clients (out of 30)\n"
          ]
        },
        {
          "output_type": "stream",
          "name": "stdout",
          "text": [
            "\u001b[2m\u001b[36m(DefaultActor pid=8820)\u001b[0m Accuracy của poisoned task: 0.00%\n",
            "\u001b[2m\u001b[36m(DefaultActor pid=8820)\u001b[0m [Client 17] evaluate, config: {}, local accuracy: 0.0\n",
            "\u001b[2m\u001b[36m(DefaultActor pid=8820)\u001b[0m Accuracy của poisoned task: 0.00%\n",
            "\u001b[2m\u001b[36m(DefaultActor pid=8820)\u001b[0m [Client 29] evaluate, config: {}, local accuracy: 0.0\n",
            "\u001b[2m\u001b[36m(DefaultActor pid=8820)\u001b[0m [Client 22] fit, config: {'epochs': 10, 'lr': 0.1, 'attacker_epochs': 20, 'attacker_lr': 0.05}\n",
            "\u001b[2m\u001b[36m(DefaultActor pid=8820)\u001b[0m [Client 22] get_parameters\n",
            "\u001b[2m\u001b[36m(DefaultActor pid=8820)\u001b[0m [Client 15] fit, config: {'epochs': 10, 'lr': 0.1, 'attacker_epochs': 20, 'attacker_lr': 0.05}\n",
            "\u001b[2m\u001b[36m(DefaultActor pid=8820)\u001b[0m [Client 15] get_parameters\n",
            "\u001b[2m\u001b[36m(DefaultActor pid=8820)\u001b[0m [Client 25] fit, config: {'epochs': 10, 'lr': 0.1, 'attacker_epochs': 20, 'attacker_lr': 0.05}\n",
            "\u001b[2m\u001b[36m(DefaultActor pid=8820)\u001b[0m [Client 25] get_parameters\n",
            "\u001b[2m\u001b[36m(DefaultActor pid=8820)\u001b[0m [Client 11] fit, config: {'epochs': 10, 'lr': 0.1, 'attacker_epochs': 20, 'attacker_lr': 0.05}\n",
            "\u001b[2m\u001b[36m(DefaultActor pid=8820)\u001b[0m [Client 11] get_parameters\n",
            "\u001b[2m\u001b[36m(DefaultActor pid=8820)\u001b[0m [Client 18] fit, config: {'epochs': 10, 'lr': 0.1, 'attacker_epochs': 20, 'attacker_lr': 0.05}\n",
            "\u001b[2m\u001b[36m(DefaultActor pid=8820)\u001b[0m [Client 18] get_parameters\n",
            "\u001b[2m\u001b[36m(DefaultActor pid=8820)\u001b[0m [Client 4] fit, config: {'epochs': 10, 'lr': 0.1, 'attacker_epochs': 20, 'attacker_lr': 0.05}\n",
            "\u001b[2m\u001b[36m(DefaultActor pid=8820)\u001b[0m [Client 4] get_parameters\n",
            "\u001b[2m\u001b[36m(DefaultActor pid=8820)\u001b[0m [Client 19] fit, config: {'epochs': 10, 'lr': 0.1, 'attacker_epochs': 20, 'attacker_lr': 0.05}\n",
            "\u001b[2m\u001b[36m(DefaultActor pid=8820)\u001b[0m [Client 19] get_parameters\n",
            "\u001b[2m\u001b[36m(DefaultActor pid=8820)\u001b[0m [Client 10] fit, config: {'epochs': 10, 'lr': 0.1, 'attacker_epochs': 20, 'attacker_lr': 0.05}\n",
            "\u001b[2m\u001b[36m(DefaultActor pid=8820)\u001b[0m [Client 10] get_parameters\n",
            "\u001b[2m\u001b[36m(DefaultActor pid=8820)\u001b[0m [Client 0] fit, config: {'epochs': 10, 'lr': 0.1, 'attacker_epochs': 20, 'attacker_lr': 0.05}\n",
            "\u001b[2m\u001b[36m(DefaultActor pid=8820)\u001b[0m Accuracy của poisoned task: 0.97%\n",
            "\u001b[2m\u001b[36m(DefaultActor pid=8820)\u001b[0m Training G::   0%|          | 0/100 [00:00<?, ?it/s]\n",
            "\u001b[2m\u001b[36m(DefaultActor pid=8820)\u001b[0m Poison Training::   0%|          | 0/100 [00:00<?, ?it/s]\n",
            "\u001b[2m\u001b[36m(DefaultActor pid=8820)\u001b[0m Training G::   0%|          | 0/100 [00:00<?, ?it/s]\n",
            "\u001b[2m\u001b[36m(DefaultActor pid=8820)\u001b[0m Poison Training::   0%|          | 0/100 [00:00<?, ?it/s]\n",
            "\u001b[2m\u001b[36m(DefaultActor pid=8820)\u001b[0m Training G::   0%|          | 0/100 [00:00<?, ?it/s]\n",
            "\u001b[2m\u001b[36m(DefaultActor pid=8820)\u001b[0m Poison Training::   0%|          | 0/100 [00:00<?, ?it/s]\n",
            "\u001b[2m\u001b[36m(DefaultActor pid=8820)\u001b[0m Training G::   0%|          | 0/100 [00:00<?, ?it/s]\n",
            "\u001b[2m\u001b[36m(DefaultActor pid=8820)\u001b[0m Poison Training::   0%|          | 0/100 [00:00<?, ?it/s]\n",
            "\u001b[2m\u001b[36m(DefaultActor pid=8820)\u001b[0m Training G::   0%|          | 0/100 [00:00<?, ?it/s]\n",
            "\u001b[2m\u001b[36m(DefaultActor pid=8820)\u001b[0m Poison Training::   0%|          | 0/100 [00:00<?, ?it/s]\n",
            "\u001b[2m\u001b[36m(DefaultActor pid=8820)\u001b[0m Training G::   0%|          | 0/100 [00:00<?, ?it/s]\n",
            "\u001b[2m\u001b[36m(DefaultActor pid=8820)\u001b[0m Poison Training::   0%|          | 0/100 [00:00<?, ?it/s]\n",
            "\u001b[2m\u001b[36m(DefaultActor pid=8820)\u001b[0m Training G::   0%|          | 0/100 [00:00<?, ?it/s]\n",
            "\u001b[2m\u001b[36m(DefaultActor pid=8820)\u001b[0m Poison Training::   0%|          | 0/100 [00:00<?, ?it/s]\n",
            "\u001b[2m\u001b[36m(DefaultActor pid=8820)\u001b[0m Training G::   0%|          | 0/100 [00:00<?, ?it/s]\n",
            "\u001b[2m\u001b[36m(DefaultActor pid=8820)\u001b[0m Poison Training::   0%|          | 0/100 [00:00<?, ?it/s]\n",
            "\u001b[2m\u001b[36m(DefaultActor pid=8820)\u001b[0m Training G::   0%|          | 0/100 [00:00<?, ?it/s]\n",
            "\u001b[2m\u001b[36m(DefaultActor pid=8820)\u001b[0m Poison Training::   0%|          | 0/100 [00:00<?, ?it/s]\n",
            "\u001b[2m\u001b[36m(DefaultActor pid=8820)\u001b[0m Training G::   0%|          | 0/100 [00:00<?, ?it/s]\n",
            "\u001b[2m\u001b[36m(DefaultActor pid=8820)\u001b[0m Poison Training::   0%|          | 0/100 [00:00<?, ?it/s]\n",
            "\u001b[2m\u001b[36m(DefaultActor pid=8820)\u001b[0m [Client 0] get_parameters\n",
            "\u001b[2m\u001b[36m(DefaultActor pid=8820)\u001b[0m [Client 16] fit, config: {'epochs': 10, 'lr': 0.1, 'attacker_epochs': 20, 'attacker_lr': 0.05}\n"
          ]
        },
        {
          "output_type": "stream",
          "name": "stderr",
          "text": [
            "DEBUG flwr 2024-01-04 07:06:31,703 | server.py:236 | fit_round 8 received 10 results and 0 failures\n",
            "DEBUG:flwr:fit_round 8 received 10 results and 0 failures\n"
          ]
        },
        {
          "output_type": "stream",
          "name": "stdout",
          "text": [
            "\u001b[2m\u001b[36m(DefaultActor pid=8820)\u001b[0m [Client 16] get_parameters\n",
            "Saving round 8 aggregated_parameters...\n"
          ]
        },
        {
          "output_type": "stream",
          "name": "stderr",
          "text": [
            "INFO flwr 2024-01-04 07:06:37,947 | server.py:125 | fit progress: (8, 317.27062356472015, {'accuracy': 6.492248062015504}, 6335.911571631001)\n",
            "INFO:flwr:fit progress: (8, 317.27062356472015, {'accuracy': 6.492248062015504}, 6335.911571631001)\n",
            "DEBUG flwr 2024-01-04 07:06:37,952 | server.py:173 | evaluate_round 8: strategy sampled 10 clients (out of 30)\n",
            "DEBUG:flwr:evaluate_round 8: strategy sampled 10 clients (out of 30)\n"
          ]
        },
        {
          "output_type": "stream",
          "name": "stdout",
          "text": [
            "Accuracy của poisoned task: 6.49%\n",
            "\u001b[2m\u001b[36m(DefaultActor pid=8820)\u001b[0m Accuracy của poisoned task: 10.00%\n",
            "\u001b[2m\u001b[36m(DefaultActor pid=8820)\u001b[0m [Client 9] evaluate, config: {}, local accuracy: 10.0\n",
            "\u001b[2m\u001b[36m(DefaultActor pid=8820)\u001b[0m Accuracy của poisoned task: 5.88%\n",
            "\u001b[2m\u001b[36m(DefaultActor pid=8820)\u001b[0m [Client 23] evaluate, config: {}, local accuracy: 5.882352941176471\n",
            "\u001b[2m\u001b[36m(DefaultActor pid=8820)\u001b[0m Accuracy của poisoned task: 20.00%\n",
            "\u001b[2m\u001b[36m(DefaultActor pid=8820)\u001b[0m [Client 25] evaluate, config: {}, local accuracy: 20.0\n",
            "\u001b[2m\u001b[36m(DefaultActor pid=8820)\u001b[0m Accuracy của poisoned task: 20.00%\n",
            "\u001b[2m\u001b[36m(DefaultActor pid=8820)\u001b[0m [Client 8] evaluate, config: {}, local accuracy: 20.0\n",
            "\u001b[2m\u001b[36m(DefaultActor pid=8820)\u001b[0m Accuracy của poisoned task: 17.65%\n",
            "\u001b[2m\u001b[36m(DefaultActor pid=8820)\u001b[0m [Client 2] evaluate, config: {}, local accuracy: 17.647058823529413\n",
            "\u001b[2m\u001b[36m(DefaultActor pid=8820)\u001b[0m Accuracy của poisoned task: 17.65%\n",
            "\u001b[2m\u001b[36m(DefaultActor pid=8820)\u001b[0m [Client 28] evaluate, config: {}, local accuracy: 17.647058823529413\n",
            "\u001b[2m\u001b[36m(DefaultActor pid=8820)\u001b[0m Accuracy của poisoned task: 0.00%\n",
            "\u001b[2m\u001b[36m(DefaultActor pid=8820)\u001b[0m [Client 18] evaluate, config: {}, local accuracy: 0.0\n",
            "\u001b[2m\u001b[36m(DefaultActor pid=8820)\u001b[0m Accuracy của poisoned task: 11.11%\n",
            "\u001b[2m\u001b[36m(DefaultActor pid=8820)\u001b[0m [Client 16] evaluate, config: {}, local accuracy: 11.11111111111111\n"
          ]
        },
        {
          "output_type": "stream",
          "name": "stderr",
          "text": [
            "DEBUG flwr 2024-01-04 07:06:39,779 | server.py:187 | evaluate_round 8 received 10 results and 0 failures\n",
            "DEBUG:flwr:evaluate_round 8 received 10 results and 0 failures\n",
            "DEBUG flwr 2024-01-04 07:06:39,781 | server.py:222 | fit_round 9: strategy sampled 10 clients (out of 30)\n",
            "DEBUG:flwr:fit_round 9: strategy sampled 10 clients (out of 30)\n"
          ]
        },
        {
          "output_type": "stream",
          "name": "stdout",
          "text": [
            "\u001b[2m\u001b[36m(DefaultActor pid=8820)\u001b[0m Accuracy của poisoned task: 4.76%\n",
            "\u001b[2m\u001b[36m(DefaultActor pid=8820)\u001b[0m [Client 0] evaluate, config: {}, local accuracy: 4.761904761904762\n",
            "\u001b[2m\u001b[36m(DefaultActor pid=8820)\u001b[0m Accuracy của poisoned task: 9.52%\n",
            "\u001b[2m\u001b[36m(DefaultActor pid=8820)\u001b[0m [Client 21] evaluate, config: {}, local accuracy: 9.523809523809524\n",
            "\u001b[2m\u001b[36m(DefaultActor pid=8820)\u001b[0m [Client 10] fit, config: {'epochs': 10, 'lr': 0.1, 'attacker_epochs': 20, 'attacker_lr': 0.05}\n",
            "\u001b[2m\u001b[36m(DefaultActor pid=8820)\u001b[0m [Client 10] get_parameters\n",
            "\u001b[2m\u001b[36m(DefaultActor pid=8820)\u001b[0m [Client 12] fit, config: {'epochs': 10, 'lr': 0.1, 'attacker_epochs': 20, 'attacker_lr': 0.05}\n",
            "\u001b[2m\u001b[36m(DefaultActor pid=8820)\u001b[0m [Client 12] get_parameters\n",
            "\u001b[2m\u001b[36m(DefaultActor pid=8820)\u001b[0m [Client 1] fit, config: {'epochs': 10, 'lr': 0.1, 'attacker_epochs': 20, 'attacker_lr': 0.05}\n",
            "\u001b[2m\u001b[36m(DefaultActor pid=8820)\u001b[0m [Client 1] get_parameters\n",
            "\u001b[2m\u001b[36m(DefaultActor pid=8820)\u001b[0m [Client 7] fit, config: {'epochs': 10, 'lr': 0.1, 'attacker_epochs': 20, 'attacker_lr': 0.05}\n",
            "\u001b[2m\u001b[36m(DefaultActor pid=8820)\u001b[0m [Client 7] get_parameters\n",
            "\u001b[2m\u001b[36m(DefaultActor pid=8820)\u001b[0m [Client 5] fit, config: {'epochs': 10, 'lr': 0.1, 'attacker_epochs': 20, 'attacker_lr': 0.05}\n",
            "\u001b[2m\u001b[36m(DefaultActor pid=8820)\u001b[0m [Client 5] get_parameters\n",
            "\u001b[2m\u001b[36m(DefaultActor pid=8820)\u001b[0m [Client 24] fit, config: {'epochs': 10, 'lr': 0.1, 'attacker_epochs': 20, 'attacker_lr': 0.05}\n",
            "\u001b[2m\u001b[36m(DefaultActor pid=8820)\u001b[0m [Client 24] get_parameters\n",
            "\u001b[2m\u001b[36m(DefaultActor pid=8820)\u001b[0m [Client 8] fit, config: {'epochs': 10, 'lr': 0.1, 'attacker_epochs': 20, 'attacker_lr': 0.05}\n",
            "\u001b[2m\u001b[36m(DefaultActor pid=8820)\u001b[0m [Client 8] get_parameters\n",
            "\u001b[2m\u001b[36m(DefaultActor pid=8820)\u001b[0m [Client 6] fit, config: {'epochs': 10, 'lr': 0.1, 'attacker_epochs': 20, 'attacker_lr': 0.05}\n",
            "\u001b[2m\u001b[36m(DefaultActor pid=8820)\u001b[0m [Client 6] get_parameters\n",
            "\u001b[2m\u001b[36m(DefaultActor pid=8820)\u001b[0m [Client 4] fit, config: {'epochs': 10, 'lr': 0.1, 'attacker_epochs': 20, 'attacker_lr': 0.05}\n",
            "\u001b[2m\u001b[36m(DefaultActor pid=8820)\u001b[0m [Client 4] get_parameters\n",
            "\u001b[2m\u001b[36m(DefaultActor pid=8820)\u001b[0m [Client 22] fit, config: {'epochs': 10, 'lr': 0.1, 'attacker_epochs': 20, 'attacker_lr': 0.05}\n"
          ]
        },
        {
          "output_type": "stream",
          "name": "stderr",
          "text": [
            "DEBUG flwr 2024-01-04 07:08:18,671 | server.py:236 | fit_round 9 received 10 results and 0 failures\n",
            "DEBUG:flwr:fit_round 9 received 10 results and 0 failures\n"
          ]
        },
        {
          "output_type": "stream",
          "name": "stdout",
          "text": [
            "\u001b[2m\u001b[36m(DefaultActor pid=8820)\u001b[0m [Client 22] get_parameters\n",
            "Saving round 9 aggregated_parameters...\n"
          ]
        },
        {
          "output_type": "stream",
          "name": "stderr",
          "text": [
            "INFO flwr 2024-01-04 07:08:23,823 | server.py:125 | fit progress: (9, 315.3027917146683, {'accuracy': 0.872093023255814}, 6441.787315613001)\n",
            "INFO:flwr:fit progress: (9, 315.3027917146683, {'accuracy': 0.872093023255814}, 6441.787315613001)\n",
            "DEBUG flwr 2024-01-04 07:08:23,826 | server.py:173 | evaluate_round 9: strategy sampled 10 clients (out of 30)\n",
            "DEBUG:flwr:evaluate_round 9: strategy sampled 10 clients (out of 30)\n"
          ]
        },
        {
          "output_type": "stream",
          "name": "stdout",
          "text": [
            "Accuracy của poisoned task: 0.87%\n",
            "\u001b[2m\u001b[36m(DefaultActor pid=8820)\u001b[0m Accuracy của poisoned task: 0.00%\n",
            "\u001b[2m\u001b[36m(DefaultActor pid=8820)\u001b[0m [Client 27] evaluate, config: {}, local accuracy: 0.0\n",
            "\u001b[2m\u001b[36m(DefaultActor pid=8820)\u001b[0m Accuracy của poisoned task: 0.00%\n",
            "\u001b[2m\u001b[36m(DefaultActor pid=8820)\u001b[0m [Client 8] evaluate, config: {}, local accuracy: 0.0\n",
            "\u001b[2m\u001b[36m(DefaultActor pid=8820)\u001b[0m Accuracy của poisoned task: 0.00%\n",
            "\u001b[2m\u001b[36m(DefaultActor pid=8820)\u001b[0m [Client 20] evaluate, config: {}, local accuracy: 0.0\n",
            "\u001b[2m\u001b[36m(DefaultActor pid=8820)\u001b[0m Accuracy của poisoned task: 0.00%\n",
            "\u001b[2m\u001b[36m(DefaultActor pid=8820)\u001b[0m [Client 25] evaluate, config: {}, local accuracy: 0.0\n",
            "\u001b[2m\u001b[36m(DefaultActor pid=8820)\u001b[0m Accuracy của poisoned task: 0.00%\n",
            "\u001b[2m\u001b[36m(DefaultActor pid=8820)\u001b[0m [Client 6] evaluate, config: {}, local accuracy: 0.0\n",
            "\u001b[2m\u001b[36m(DefaultActor pid=8820)\u001b[0m Accuracy của poisoned task: 0.00%\n",
            "\u001b[2m\u001b[36m(DefaultActor pid=8820)\u001b[0m [Client 2] evaluate, config: {}, local accuracy: 0.0\n",
            "\u001b[2m\u001b[36m(DefaultActor pid=8820)\u001b[0m Accuracy của poisoned task: 0.00%\n",
            "\u001b[2m\u001b[36m(DefaultActor pid=8820)\u001b[0m [Client 9] evaluate, config: {}, local accuracy: 0.0\n",
            "\u001b[2m\u001b[36m(DefaultActor pid=8820)\u001b[0m Accuracy của poisoned task: 0.00%\n",
            "\u001b[2m\u001b[36m(DefaultActor pid=8820)\u001b[0m [Client 5] evaluate, config: {}, local accuracy: 0.0\n",
            "\u001b[2m\u001b[36m(DefaultActor pid=8820)\u001b[0m Accuracy của poisoned task: 4.35%\n",
            "\u001b[2m\u001b[36m(DefaultActor pid=8820)\u001b[0m [Client 29] evaluate, config: {}, local accuracy: 4.3478260869565215\n"
          ]
        },
        {
          "output_type": "stream",
          "name": "stderr",
          "text": [
            "DEBUG flwr 2024-01-04 07:08:25,884 | server.py:187 | evaluate_round 9 received 10 results and 0 failures\n",
            "DEBUG:flwr:evaluate_round 9 received 10 results and 0 failures\n",
            "DEBUG flwr 2024-01-04 07:08:25,887 | server.py:222 | fit_round 10: strategy sampled 10 clients (out of 30)\n",
            "DEBUG:flwr:fit_round 10: strategy sampled 10 clients (out of 30)\n"
          ]
        },
        {
          "output_type": "stream",
          "name": "stdout",
          "text": [
            "\u001b[2m\u001b[36m(DefaultActor pid=8820)\u001b[0m Accuracy của poisoned task: 0.00%\n",
            "\u001b[2m\u001b[36m(DefaultActor pid=8820)\u001b[0m [Client 4] evaluate, config: {}, local accuracy: 0.0\n",
            "\u001b[2m\u001b[36m(DefaultActor pid=8820)\u001b[0m [Client 13] fit, config: {'epochs': 10, 'lr': 0.1, 'attacker_epochs': 20, 'attacker_lr': 0.05}\n",
            "\u001b[2m\u001b[36m(DefaultActor pid=8820)\u001b[0m [Client 13] get_parameters\n",
            "\u001b[2m\u001b[36m(DefaultActor pid=8820)\u001b[0m [Client 10] fit, config: {'epochs': 10, 'lr': 0.1, 'attacker_epochs': 20, 'attacker_lr': 0.05}\n",
            "\u001b[2m\u001b[36m(DefaultActor pid=8820)\u001b[0m [Client 10] get_parameters\n",
            "\u001b[2m\u001b[36m(DefaultActor pid=8820)\u001b[0m [Client 3] fit, config: {'epochs': 10, 'lr': 0.1, 'attacker_epochs': 20, 'attacker_lr': 0.05}\n",
            "\u001b[2m\u001b[36m(DefaultActor pid=8820)\u001b[0m [Client 3] get_parameters\n",
            "\u001b[2m\u001b[36m(DefaultActor pid=8820)\u001b[0m [Client 23] fit, config: {'epochs': 10, 'lr': 0.1, 'attacker_epochs': 20, 'attacker_lr': 0.05}\n",
            "\u001b[2m\u001b[36m(DefaultActor pid=8820)\u001b[0m [Client 23] get_parameters\n",
            "\u001b[2m\u001b[36m(DefaultActor pid=8820)\u001b[0m [Client 29] fit, config: {'epochs': 10, 'lr': 0.1, 'attacker_epochs': 20, 'attacker_lr': 0.05}\n",
            "\u001b[2m\u001b[36m(DefaultActor pid=8820)\u001b[0m [Client 29] get_parameters\n",
            "\u001b[2m\u001b[36m(DefaultActor pid=8820)\u001b[0m [Client 11] fit, config: {'epochs': 10, 'lr': 0.1, 'attacker_epochs': 20, 'attacker_lr': 0.05}\n",
            "\u001b[2m\u001b[36m(DefaultActor pid=8820)\u001b[0m [Client 11] get_parameters\n",
            "\u001b[2m\u001b[36m(DefaultActor pid=8820)\u001b[0m [Client 8] fit, config: {'epochs': 10, 'lr': 0.1, 'attacker_epochs': 20, 'attacker_lr': 0.05}\n",
            "\u001b[2m\u001b[36m(DefaultActor pid=8820)\u001b[0m [Client 8] get_parameters\n",
            "\u001b[2m\u001b[36m(DefaultActor pid=8820)\u001b[0m [Client 12] fit, config: {'epochs': 10, 'lr': 0.1, 'attacker_epochs': 20, 'attacker_lr': 0.05}\n",
            "\u001b[2m\u001b[36m(DefaultActor pid=8820)\u001b[0m [Client 12] get_parameters\n",
            "\u001b[2m\u001b[36m(DefaultActor pid=8820)\u001b[0m [Client 22] fit, config: {'epochs': 10, 'lr': 0.1, 'attacker_epochs': 20, 'attacker_lr': 0.05}\n",
            "\u001b[2m\u001b[36m(DefaultActor pid=8820)\u001b[0m [Client 22] get_parameters\n",
            "\u001b[2m\u001b[36m(DefaultActor pid=8820)\u001b[0m [Client 18] fit, config: {'epochs': 10, 'lr': 0.1, 'attacker_epochs': 20, 'attacker_lr': 0.05}\n"
          ]
        },
        {
          "output_type": "stream",
          "name": "stderr",
          "text": [
            "DEBUG flwr 2024-01-04 07:10:04,196 | server.py:236 | fit_round 10 received 10 results and 0 failures\n",
            "DEBUG:flwr:fit_round 10 received 10 results and 0 failures\n"
          ]
        },
        {
          "output_type": "stream",
          "name": "stdout",
          "text": [
            "\u001b[2m\u001b[36m(DefaultActor pid=8820)\u001b[0m [Client 18] get_parameters\n",
            "Saving round 10 aggregated_parameters...\n"
          ]
        },
        {
          "output_type": "stream",
          "name": "stderr",
          "text": [
            "INFO flwr 2024-01-04 07:10:09,968 | server.py:125 | fit progress: (10, 314.84903490543365, {'accuracy': 0.9689922480620154}, 6547.932456786)\n",
            "INFO:flwr:fit progress: (10, 314.84903490543365, {'accuracy': 0.9689922480620154}, 6547.932456786)\n",
            "DEBUG flwr 2024-01-04 07:10:09,973 | server.py:173 | evaluate_round 10: strategy sampled 10 clients (out of 30)\n",
            "DEBUG:flwr:evaluate_round 10: strategy sampled 10 clients (out of 30)\n"
          ]
        },
        {
          "output_type": "stream",
          "name": "stdout",
          "text": [
            "Accuracy của poisoned task: 0.97%\n",
            "\u001b[2m\u001b[36m(DefaultActor pid=8820)\u001b[0m Accuracy của poisoned task: 0.00%\n",
            "\u001b[2m\u001b[36m(DefaultActor pid=8820)\u001b[0m [Client 2] evaluate, config: {}, local accuracy: 0.0\n",
            "\u001b[2m\u001b[36m(DefaultActor pid=8820)\u001b[0m Accuracy của poisoned task: 0.00%\n",
            "\u001b[2m\u001b[36m(DefaultActor pid=8820)\u001b[0m [Client 6] evaluate, config: {}, local accuracy: 0.0\n",
            "\u001b[2m\u001b[36m(DefaultActor pid=8820)\u001b[0m Accuracy của poisoned task: 0.00%\n",
            "\u001b[2m\u001b[36m(DefaultActor pid=8820)\u001b[0m [Client 1] evaluate, config: {}, local accuracy: 0.0\n",
            "\u001b[2m\u001b[36m(DefaultActor pid=8820)\u001b[0m Accuracy của poisoned task: 0.00%\n",
            "\u001b[2m\u001b[36m(DefaultActor pid=8820)\u001b[0m [Client 16] evaluate, config: {}, local accuracy: 0.0\n",
            "\u001b[2m\u001b[36m(DefaultActor pid=8820)\u001b[0m Accuracy của poisoned task: 0.00%\n",
            "\u001b[2m\u001b[36m(DefaultActor pid=8820)\u001b[0m [Client 29] evaluate, config: {}, local accuracy: 0.0\n",
            "\u001b[2m\u001b[36m(DefaultActor pid=8820)\u001b[0m Accuracy của poisoned task: 0.00%\n",
            "\u001b[2m\u001b[36m(DefaultActor pid=8820)\u001b[0m [Client 9] evaluate, config: {}, local accuracy: 0.0\n",
            "\u001b[2m\u001b[36m(DefaultActor pid=8820)\u001b[0m Accuracy của poisoned task: 0.00%\n",
            "\u001b[2m\u001b[36m(DefaultActor pid=8820)\u001b[0m [Client 0] evaluate, config: {}, local accuracy: 0.0\n",
            "\u001b[2m\u001b[36m(DefaultActor pid=8820)\u001b[0m Accuracy của poisoned task: 0.00%\n",
            "\u001b[2m\u001b[36m(DefaultActor pid=8820)\u001b[0m [Client 15] evaluate, config: {}, local accuracy: 0.0\n",
            "\u001b[2m\u001b[36m(DefaultActor pid=8820)\u001b[0m Accuracy của poisoned task: 0.00%\n",
            "\u001b[2m\u001b[36m(DefaultActor pid=8820)\u001b[0m [Client 28] evaluate, config: {}, local accuracy: 0.0\n"
          ]
        },
        {
          "output_type": "stream",
          "name": "stderr",
          "text": [
            "DEBUG flwr 2024-01-04 07:10:11,819 | server.py:187 | evaluate_round 10 received 10 results and 0 failures\n",
            "DEBUG:flwr:evaluate_round 10 received 10 results and 0 failures\n",
            "INFO flwr 2024-01-04 07:10:11,821 | server.py:153 | FL finished in 6549.785572547\n",
            "INFO:flwr:FL finished in 6549.785572547\n",
            "INFO flwr 2024-01-04 07:10:11,823 | app.py:226 | app_fit: losses_distributed [(1, 11.341770386695861), (2, 11.205063354969024), (3, 11.089568746089935), (4, 11.707930886745453), (5, 11.08233152627945), (6, 13.272270929813384), (7, 11.085962998867036), (8, 11.084031808376313), (9, 10.99327393770218), (10, 11.122402620315551)]\n",
            "INFO:flwr:app_fit: losses_distributed [(1, 11.341770386695861), (2, 11.205063354969024), (3, 11.089568746089935), (4, 11.707930886745453), (5, 11.08233152627945), (6, 13.272270929813384), (7, 11.085962998867036), (8, 11.084031808376313), (9, 10.99327393770218), (10, 11.122402620315551)]\n",
            "INFO flwr 2024-01-04 07:10:11,829 | app.py:227 | app_fit: metrics_distributed_fit {}\n",
            "INFO:flwr:app_fit: metrics_distributed_fit {}\n",
            "INFO flwr 2024-01-04 07:10:11,831 | app.py:228 | app_fit: metrics_distributed {'accuracy': [(1, 3.8574016563147), (2, 0.7142857142857143), (3, 0.5555555555555555), (4, 24.620634552203402), (5, 1.612044817927171), (6, 81.4196436947985), (7, 0.4545454545454546), (8, 11.657329598506069), (9, 0.4347826086956521), (10, 0.0)]}\n",
            "INFO:flwr:app_fit: metrics_distributed {'accuracy': [(1, 3.8574016563147), (2, 0.7142857142857143), (3, 0.5555555555555555), (4, 24.620634552203402), (5, 1.612044817927171), (6, 81.4196436947985), (7, 0.4545454545454546), (8, 11.657329598506069), (9, 0.4347826086956521), (10, 0.0)]}\n",
            "INFO flwr 2024-01-04 07:10:11,835 | app.py:229 | app_fit: losses_centralized [(0, 323.29336643218994), (1, 322.14866745471954), (2, 318.87401723861694), (3, 317.83264911174774), (4, 331.7648822069168), (5, 316.80020821094513), (6, 377.90358078479767), (7, 315.7980054616928), (8, 317.27062356472015), (9, 315.3027917146683), (10, 314.84903490543365)]\n",
            "INFO:flwr:app_fit: losses_centralized [(0, 323.29336643218994), (1, 322.14866745471954), (2, 318.87401723861694), (3, 317.83264911174774), (4, 331.7648822069168), (5, 316.80020821094513), (6, 377.90358078479767), (7, 315.7980054616928), (8, 317.27062356472015), (9, 315.3027917146683), (10, 314.84903490543365)]\n",
            "INFO flwr 2024-01-04 07:10:11,837 | app.py:230 | app_fit: metrics_centralized {'accuracy': [(0, 0.6782945736434108), (1, 3.9728682170542635), (2, 0.9689922480620154), (3, 0.872093023255814), (4, 22.96511627906977), (5, 1.2596899224806202), (6, 82.94573643410853), (7, 0.9689922480620154), (8, 6.492248062015504), (9, 0.872093023255814), (10, 0.9689922480620154)]}\n",
            "INFO:flwr:app_fit: metrics_centralized {'accuracy': [(0, 0.6782945736434108), (1, 3.9728682170542635), (2, 0.9689922480620154), (3, 0.872093023255814), (4, 22.96511627906977), (5, 1.2596899224806202), (6, 82.94573643410853), (7, 0.9689922480620154), (8, 6.492248062015504), (9, 0.872093023255814), (10, 0.9689922480620154)]}\n"
          ]
        },
        {
          "output_type": "stream",
          "name": "stdout",
          "text": [
            "\u001b[2m\u001b[36m(DefaultActor pid=8820)\u001b[0m Accuracy của poisoned task: 0.00%\n",
            "\u001b[2m\u001b[36m(DefaultActor pid=8820)\u001b[0m [Client 27] evaluate, config: {}, local accuracy: 0.0\n"
          ]
        }
      ]
    },
    {
      "cell_type": "code",
      "source": [
        "import matplotlib.pyplot as plt\n",
        "\n",
        "print(f\"{history.metrics_centralized = }\")\n",
        "\n",
        "global_accuracy_centralised = history.metrics_centralized[\"accuracy\"]\n",
        "round = [data[0] for data in global_accuracy_centralised]\n",
        "acc = [data[1] for data in global_accuracy_centralised]\n",
        "plt.plot(round, acc)\n",
        "plt.grid()\n",
        "plt.ylabel(\"Accuracy (%)\")\n",
        "plt.xlabel(\"Round\")\n",
        "plt.title(\"MNIST - IID - 30 clients with 10 clients per round\")"
      ],
      "metadata": {
        "id": "NECbOpWgcxdV",
        "outputId": "02327ccd-85bb-4301-dadf-b4c42a09577d",
        "colab": {
          "base_uri": "https://localhost:8080/",
          "height": 245
        }
      },
      "execution_count": null,
      "outputs": [
        {
          "output_type": "error",
          "ename": "NameError",
          "evalue": "ignored",
          "traceback": [
            "\u001b[0;31m---------------------------------------------------------------------------\u001b[0m",
            "\u001b[0;31mNameError\u001b[0m                                 Traceback (most recent call last)",
            "\u001b[0;32m<ipython-input-1-23ae1b03f878>\u001b[0m in \u001b[0;36m<cell line: 3>\u001b[0;34m()\u001b[0m\n\u001b[1;32m      1\u001b[0m \u001b[0;32mimport\u001b[0m \u001b[0mmatplotlib\u001b[0m\u001b[0;34m.\u001b[0m\u001b[0mpyplot\u001b[0m \u001b[0;32mas\u001b[0m \u001b[0mplt\u001b[0m\u001b[0;34m\u001b[0m\u001b[0;34m\u001b[0m\u001b[0m\n\u001b[1;32m      2\u001b[0m \u001b[0;34m\u001b[0m\u001b[0m\n\u001b[0;32m----> 3\u001b[0;31m \u001b[0mprint\u001b[0m\u001b[0;34m(\u001b[0m\u001b[0;34mf\"{history.metrics_centralized = }\"\u001b[0m\u001b[0;34m)\u001b[0m\u001b[0;34m\u001b[0m\u001b[0;34m\u001b[0m\u001b[0m\n\u001b[0m\u001b[1;32m      4\u001b[0m \u001b[0;34m\u001b[0m\u001b[0m\n\u001b[1;32m      5\u001b[0m \u001b[0mglobal_accuracy_centralised\u001b[0m \u001b[0;34m=\u001b[0m \u001b[0mhistory\u001b[0m\u001b[0;34m.\u001b[0m\u001b[0mmetrics_centralized\u001b[0m\u001b[0;34m[\u001b[0m\u001b[0;34m\"accuracy\"\u001b[0m\u001b[0;34m]\u001b[0m\u001b[0;34m\u001b[0m\u001b[0;34m\u001b[0m\u001b[0m\n",
            "\u001b[0;31mNameError\u001b[0m: name 'history' is not defined"
          ]
        }
      ]
    }
  ],
  "metadata": {
    "colab": {
      "provenance": [],
      "gpuType": "T4",
      "include_colab_link": true
    },
    "kernelspec": {
      "display_name": "Python 3",
      "name": "python3"
    },
    "accelerator": "GPU",
    "widgets": {
      "application/vnd.jupyter.widget-state+json": {
        "f8b8942fbc59491296ff7be455c759bb": {
          "model_module": "@jupyter-widgets/controls",
          "model_name": "HBoxModel",
          "model_module_version": "1.5.0",
          "state": {
            "_dom_classes": [],
            "_model_module": "@jupyter-widgets/controls",
            "_model_module_version": "1.5.0",
            "_model_name": "HBoxModel",
            "_view_count": null,
            "_view_module": "@jupyter-widgets/controls",
            "_view_module_version": "1.5.0",
            "_view_name": "HBoxView",
            "box_style": "",
            "children": [
              "IPY_MODEL_0b5464e3b05d414196df5edca04887ec",
              "IPY_MODEL_e342a2c44a0c44e58f5e16d90489787b",
              "IPY_MODEL_65696de538024318b6f0bcb7c4d6dd74"
            ],
            "layout": "IPY_MODEL_b34230c6c7aa48bea639102da4adc581"
          }
        },
        "0b5464e3b05d414196df5edca04887ec": {
          "model_module": "@jupyter-widgets/controls",
          "model_name": "HTMLModel",
          "model_module_version": "1.5.0",
          "state": {
            "_dom_classes": [],
            "_model_module": "@jupyter-widgets/controls",
            "_model_module_version": "1.5.0",
            "_model_name": "HTMLModel",
            "_view_count": null,
            "_view_module": "@jupyter-widgets/controls",
            "_view_module_version": "1.5.0",
            "_view_name": "HTMLView",
            "description": "",
            "description_tooltip": null,
            "layout": "IPY_MODEL_b459a09d48484aba855f6d12544c5528",
            "placeholder": "​",
            "style": "IPY_MODEL_493505f6f0f64dbdb3b09465cab51aaf",
            "value": "Downloading data: 100%"
          }
        },
        "e342a2c44a0c44e58f5e16d90489787b": {
          "model_module": "@jupyter-widgets/controls",
          "model_name": "FloatProgressModel",
          "model_module_version": "1.5.0",
          "state": {
            "_dom_classes": [],
            "_model_module": "@jupyter-widgets/controls",
            "_model_module_version": "1.5.0",
            "_model_name": "FloatProgressModel",
            "_view_count": null,
            "_view_module": "@jupyter-widgets/controls",
            "_view_module_version": "1.5.0",
            "_view_name": "ProgressView",
            "bar_style": "success",
            "description": "",
            "description_tooltip": null,
            "layout": "IPY_MODEL_ded9ef3d377e461eb50564af88f13fc4",
            "max": 15561616,
            "min": 0,
            "orientation": "horizontal",
            "style": "IPY_MODEL_347bb8237949413ca9a864239b0a782f",
            "value": 15561616
          }
        },
        "65696de538024318b6f0bcb7c4d6dd74": {
          "model_module": "@jupyter-widgets/controls",
          "model_name": "HTMLModel",
          "model_module_version": "1.5.0",
          "state": {
            "_dom_classes": [],
            "_model_module": "@jupyter-widgets/controls",
            "_model_module_version": "1.5.0",
            "_model_name": "HTMLModel",
            "_view_count": null,
            "_view_module": "@jupyter-widgets/controls",
            "_view_module_version": "1.5.0",
            "_view_name": "HTMLView",
            "description": "",
            "description_tooltip": null,
            "layout": "IPY_MODEL_ff9c06415bed4f40b7c437ff91f0a2a9",
            "placeholder": "​",
            "style": "IPY_MODEL_4237b89933654d91ab435952bcde773e",
            "value": " 15.6M/15.6M [00:03&lt;00:00, 4.29MB/s]"
          }
        },
        "b34230c6c7aa48bea639102da4adc581": {
          "model_module": "@jupyter-widgets/base",
          "model_name": "LayoutModel",
          "model_module_version": "1.2.0",
          "state": {
            "_model_module": "@jupyter-widgets/base",
            "_model_module_version": "1.2.0",
            "_model_name": "LayoutModel",
            "_view_count": null,
            "_view_module": "@jupyter-widgets/base",
            "_view_module_version": "1.2.0",
            "_view_name": "LayoutView",
            "align_content": null,
            "align_items": null,
            "align_self": null,
            "border": null,
            "bottom": null,
            "display": null,
            "flex": null,
            "flex_flow": null,
            "grid_area": null,
            "grid_auto_columns": null,
            "grid_auto_flow": null,
            "grid_auto_rows": null,
            "grid_column": null,
            "grid_gap": null,
            "grid_row": null,
            "grid_template_areas": null,
            "grid_template_columns": null,
            "grid_template_rows": null,
            "height": null,
            "justify_content": null,
            "justify_items": null,
            "left": null,
            "margin": null,
            "max_height": null,
            "max_width": null,
            "min_height": null,
            "min_width": null,
            "object_fit": null,
            "object_position": null,
            "order": null,
            "overflow": null,
            "overflow_x": null,
            "overflow_y": null,
            "padding": null,
            "right": null,
            "top": null,
            "visibility": null,
            "width": null
          }
        },
        "b459a09d48484aba855f6d12544c5528": {
          "model_module": "@jupyter-widgets/base",
          "model_name": "LayoutModel",
          "model_module_version": "1.2.0",
          "state": {
            "_model_module": "@jupyter-widgets/base",
            "_model_module_version": "1.2.0",
            "_model_name": "LayoutModel",
            "_view_count": null,
            "_view_module": "@jupyter-widgets/base",
            "_view_module_version": "1.2.0",
            "_view_name": "LayoutView",
            "align_content": null,
            "align_items": null,
            "align_self": null,
            "border": null,
            "bottom": null,
            "display": null,
            "flex": null,
            "flex_flow": null,
            "grid_area": null,
            "grid_auto_columns": null,
            "grid_auto_flow": null,
            "grid_auto_rows": null,
            "grid_column": null,
            "grid_gap": null,
            "grid_row": null,
            "grid_template_areas": null,
            "grid_template_columns": null,
            "grid_template_rows": null,
            "height": null,
            "justify_content": null,
            "justify_items": null,
            "left": null,
            "margin": null,
            "max_height": null,
            "max_width": null,
            "min_height": null,
            "min_width": null,
            "object_fit": null,
            "object_position": null,
            "order": null,
            "overflow": null,
            "overflow_x": null,
            "overflow_y": null,
            "padding": null,
            "right": null,
            "top": null,
            "visibility": null,
            "width": null
          }
        },
        "493505f6f0f64dbdb3b09465cab51aaf": {
          "model_module": "@jupyter-widgets/controls",
          "model_name": "DescriptionStyleModel",
          "model_module_version": "1.5.0",
          "state": {
            "_model_module": "@jupyter-widgets/controls",
            "_model_module_version": "1.5.0",
            "_model_name": "DescriptionStyleModel",
            "_view_count": null,
            "_view_module": "@jupyter-widgets/base",
            "_view_module_version": "1.2.0",
            "_view_name": "StyleView",
            "description_width": ""
          }
        },
        "ded9ef3d377e461eb50564af88f13fc4": {
          "model_module": "@jupyter-widgets/base",
          "model_name": "LayoutModel",
          "model_module_version": "1.2.0",
          "state": {
            "_model_module": "@jupyter-widgets/base",
            "_model_module_version": "1.2.0",
            "_model_name": "LayoutModel",
            "_view_count": null,
            "_view_module": "@jupyter-widgets/base",
            "_view_module_version": "1.2.0",
            "_view_name": "LayoutView",
            "align_content": null,
            "align_items": null,
            "align_self": null,
            "border": null,
            "bottom": null,
            "display": null,
            "flex": null,
            "flex_flow": null,
            "grid_area": null,
            "grid_auto_columns": null,
            "grid_auto_flow": null,
            "grid_auto_rows": null,
            "grid_column": null,
            "grid_gap": null,
            "grid_row": null,
            "grid_template_areas": null,
            "grid_template_columns": null,
            "grid_template_rows": null,
            "height": null,
            "justify_content": null,
            "justify_items": null,
            "left": null,
            "margin": null,
            "max_height": null,
            "max_width": null,
            "min_height": null,
            "min_width": null,
            "object_fit": null,
            "object_position": null,
            "order": null,
            "overflow": null,
            "overflow_x": null,
            "overflow_y": null,
            "padding": null,
            "right": null,
            "top": null,
            "visibility": null,
            "width": null
          }
        },
        "347bb8237949413ca9a864239b0a782f": {
          "model_module": "@jupyter-widgets/controls",
          "model_name": "ProgressStyleModel",
          "model_module_version": "1.5.0",
          "state": {
            "_model_module": "@jupyter-widgets/controls",
            "_model_module_version": "1.5.0",
            "_model_name": "ProgressStyleModel",
            "_view_count": null,
            "_view_module": "@jupyter-widgets/base",
            "_view_module_version": "1.2.0",
            "_view_name": "StyleView",
            "bar_color": null,
            "description_width": ""
          }
        },
        "ff9c06415bed4f40b7c437ff91f0a2a9": {
          "model_module": "@jupyter-widgets/base",
          "model_name": "LayoutModel",
          "model_module_version": "1.2.0",
          "state": {
            "_model_module": "@jupyter-widgets/base",
            "_model_module_version": "1.2.0",
            "_model_name": "LayoutModel",
            "_view_count": null,
            "_view_module": "@jupyter-widgets/base",
            "_view_module_version": "1.2.0",
            "_view_name": "LayoutView",
            "align_content": null,
            "align_items": null,
            "align_self": null,
            "border": null,
            "bottom": null,
            "display": null,
            "flex": null,
            "flex_flow": null,
            "grid_area": null,
            "grid_auto_columns": null,
            "grid_auto_flow": null,
            "grid_auto_rows": null,
            "grid_column": null,
            "grid_gap": null,
            "grid_row": null,
            "grid_template_areas": null,
            "grid_template_columns": null,
            "grid_template_rows": null,
            "height": null,
            "justify_content": null,
            "justify_items": null,
            "left": null,
            "margin": null,
            "max_height": null,
            "max_width": null,
            "min_height": null,
            "min_width": null,
            "object_fit": null,
            "object_position": null,
            "order": null,
            "overflow": null,
            "overflow_x": null,
            "overflow_y": null,
            "padding": null,
            "right": null,
            "top": null,
            "visibility": null,
            "width": null
          }
        },
        "4237b89933654d91ab435952bcde773e": {
          "model_module": "@jupyter-widgets/controls",
          "model_name": "DescriptionStyleModel",
          "model_module_version": "1.5.0",
          "state": {
            "_model_module": "@jupyter-widgets/controls",
            "_model_module_version": "1.5.0",
            "_model_name": "DescriptionStyleModel",
            "_view_count": null,
            "_view_module": "@jupyter-widgets/base",
            "_view_module_version": "1.2.0",
            "_view_name": "StyleView",
            "description_width": ""
          }
        },
        "dca87ef2caa343d48e0486800646cf9d": {
          "model_module": "@jupyter-widgets/controls",
          "model_name": "HBoxModel",
          "model_module_version": "1.5.0",
          "state": {
            "_dom_classes": [],
            "_model_module": "@jupyter-widgets/controls",
            "_model_module_version": "1.5.0",
            "_model_name": "HBoxModel",
            "_view_count": null,
            "_view_module": "@jupyter-widgets/controls",
            "_view_module_version": "1.5.0",
            "_view_name": "HBoxView",
            "box_style": "",
            "children": [
              "IPY_MODEL_faba463865cc4f178a867d8e0a8f7c9a",
              "IPY_MODEL_41b98517bcd44ce0a335e4b6f75d7285",
              "IPY_MODEL_316ab4e68f134cd98951b59b31c6b9b1"
            ],
            "layout": "IPY_MODEL_a49c9f45dccf4f66a321ed32a249a623"
          }
        },
        "faba463865cc4f178a867d8e0a8f7c9a": {
          "model_module": "@jupyter-widgets/controls",
          "model_name": "HTMLModel",
          "model_module_version": "1.5.0",
          "state": {
            "_dom_classes": [],
            "_model_module": "@jupyter-widgets/controls",
            "_model_module_version": "1.5.0",
            "_model_name": "HTMLModel",
            "_view_count": null,
            "_view_module": "@jupyter-widgets/controls",
            "_view_module_version": "1.5.0",
            "_view_name": "HTMLView",
            "description": "",
            "description_tooltip": null,
            "layout": "IPY_MODEL_e510d8648fa1452fb746aa94e5d4af5f",
            "placeholder": "​",
            "style": "IPY_MODEL_8cca2a55e383416d8f79281b78a845dc",
            "value": "Downloading data: 100%"
          }
        },
        "41b98517bcd44ce0a335e4b6f75d7285": {
          "model_module": "@jupyter-widgets/controls",
          "model_name": "FloatProgressModel",
          "model_module_version": "1.5.0",
          "state": {
            "_dom_classes": [],
            "_model_module": "@jupyter-widgets/controls",
            "_model_module_version": "1.5.0",
            "_model_name": "FloatProgressModel",
            "_view_count": null,
            "_view_module": "@jupyter-widgets/controls",
            "_view_module_version": "1.5.0",
            "_view_name": "ProgressView",
            "bar_style": "success",
            "description": "",
            "description_tooltip": null,
            "layout": "IPY_MODEL_aae699d0f1df40d7be6a93e0d799c9d9",
            "max": 2595890,
            "min": 0,
            "orientation": "horizontal",
            "style": "IPY_MODEL_cf2fa2fb0e2746ada8a4e2dddf21dd9b",
            "value": 2595890
          }
        },
        "316ab4e68f134cd98951b59b31c6b9b1": {
          "model_module": "@jupyter-widgets/controls",
          "model_name": "HTMLModel",
          "model_module_version": "1.5.0",
          "state": {
            "_dom_classes": [],
            "_model_module": "@jupyter-widgets/controls",
            "_model_module_version": "1.5.0",
            "_model_name": "HTMLModel",
            "_view_count": null,
            "_view_module": "@jupyter-widgets/controls",
            "_view_module_version": "1.5.0",
            "_view_name": "HTMLView",
            "description": "",
            "description_tooltip": null,
            "layout": "IPY_MODEL_83b1cb0ff1e2494f94b9a2bf8bc300c2",
            "placeholder": "​",
            "style": "IPY_MODEL_101847f93b91471e8a199a6427e990f6",
            "value": " 2.60M/2.60M [00:01&lt;00:00, 1.68MB/s]"
          }
        },
        "a49c9f45dccf4f66a321ed32a249a623": {
          "model_module": "@jupyter-widgets/base",
          "model_name": "LayoutModel",
          "model_module_version": "1.2.0",
          "state": {
            "_model_module": "@jupyter-widgets/base",
            "_model_module_version": "1.2.0",
            "_model_name": "LayoutModel",
            "_view_count": null,
            "_view_module": "@jupyter-widgets/base",
            "_view_module_version": "1.2.0",
            "_view_name": "LayoutView",
            "align_content": null,
            "align_items": null,
            "align_self": null,
            "border": null,
            "bottom": null,
            "display": null,
            "flex": null,
            "flex_flow": null,
            "grid_area": null,
            "grid_auto_columns": null,
            "grid_auto_flow": null,
            "grid_auto_rows": null,
            "grid_column": null,
            "grid_gap": null,
            "grid_row": null,
            "grid_template_areas": null,
            "grid_template_columns": null,
            "grid_template_rows": null,
            "height": null,
            "justify_content": null,
            "justify_items": null,
            "left": null,
            "margin": null,
            "max_height": null,
            "max_width": null,
            "min_height": null,
            "min_width": null,
            "object_fit": null,
            "object_position": null,
            "order": null,
            "overflow": null,
            "overflow_x": null,
            "overflow_y": null,
            "padding": null,
            "right": null,
            "top": null,
            "visibility": null,
            "width": null
          }
        },
        "e510d8648fa1452fb746aa94e5d4af5f": {
          "model_module": "@jupyter-widgets/base",
          "model_name": "LayoutModel",
          "model_module_version": "1.2.0",
          "state": {
            "_model_module": "@jupyter-widgets/base",
            "_model_module_version": "1.2.0",
            "_model_name": "LayoutModel",
            "_view_count": null,
            "_view_module": "@jupyter-widgets/base",
            "_view_module_version": "1.2.0",
            "_view_name": "LayoutView",
            "align_content": null,
            "align_items": null,
            "align_self": null,
            "border": null,
            "bottom": null,
            "display": null,
            "flex": null,
            "flex_flow": null,
            "grid_area": null,
            "grid_auto_columns": null,
            "grid_auto_flow": null,
            "grid_auto_rows": null,
            "grid_column": null,
            "grid_gap": null,
            "grid_row": null,
            "grid_template_areas": null,
            "grid_template_columns": null,
            "grid_template_rows": null,
            "height": null,
            "justify_content": null,
            "justify_items": null,
            "left": null,
            "margin": null,
            "max_height": null,
            "max_width": null,
            "min_height": null,
            "min_width": null,
            "object_fit": null,
            "object_position": null,
            "order": null,
            "overflow": null,
            "overflow_x": null,
            "overflow_y": null,
            "padding": null,
            "right": null,
            "top": null,
            "visibility": null,
            "width": null
          }
        },
        "8cca2a55e383416d8f79281b78a845dc": {
          "model_module": "@jupyter-widgets/controls",
          "model_name": "DescriptionStyleModel",
          "model_module_version": "1.5.0",
          "state": {
            "_model_module": "@jupyter-widgets/controls",
            "_model_module_version": "1.5.0",
            "_model_name": "DescriptionStyleModel",
            "_view_count": null,
            "_view_module": "@jupyter-widgets/base",
            "_view_module_version": "1.2.0",
            "_view_name": "StyleView",
            "description_width": ""
          }
        },
        "aae699d0f1df40d7be6a93e0d799c9d9": {
          "model_module": "@jupyter-widgets/base",
          "model_name": "LayoutModel",
          "model_module_version": "1.2.0",
          "state": {
            "_model_module": "@jupyter-widgets/base",
            "_model_module_version": "1.2.0",
            "_model_name": "LayoutModel",
            "_view_count": null,
            "_view_module": "@jupyter-widgets/base",
            "_view_module_version": "1.2.0",
            "_view_name": "LayoutView",
            "align_content": null,
            "align_items": null,
            "align_self": null,
            "border": null,
            "bottom": null,
            "display": null,
            "flex": null,
            "flex_flow": null,
            "grid_area": null,
            "grid_auto_columns": null,
            "grid_auto_flow": null,
            "grid_auto_rows": null,
            "grid_column": null,
            "grid_gap": null,
            "grid_row": null,
            "grid_template_areas": null,
            "grid_template_columns": null,
            "grid_template_rows": null,
            "height": null,
            "justify_content": null,
            "justify_items": null,
            "left": null,
            "margin": null,
            "max_height": null,
            "max_width": null,
            "min_height": null,
            "min_width": null,
            "object_fit": null,
            "object_position": null,
            "order": null,
            "overflow": null,
            "overflow_x": null,
            "overflow_y": null,
            "padding": null,
            "right": null,
            "top": null,
            "visibility": null,
            "width": null
          }
        },
        "cf2fa2fb0e2746ada8a4e2dddf21dd9b": {
          "model_module": "@jupyter-widgets/controls",
          "model_name": "ProgressStyleModel",
          "model_module_version": "1.5.0",
          "state": {
            "_model_module": "@jupyter-widgets/controls",
            "_model_module_version": "1.5.0",
            "_model_name": "ProgressStyleModel",
            "_view_count": null,
            "_view_module": "@jupyter-widgets/base",
            "_view_module_version": "1.2.0",
            "_view_name": "StyleView",
            "bar_color": null,
            "description_width": ""
          }
        },
        "83b1cb0ff1e2494f94b9a2bf8bc300c2": {
          "model_module": "@jupyter-widgets/base",
          "model_name": "LayoutModel",
          "model_module_version": "1.2.0",
          "state": {
            "_model_module": "@jupyter-widgets/base",
            "_model_module_version": "1.2.0",
            "_model_name": "LayoutModel",
            "_view_count": null,
            "_view_module": "@jupyter-widgets/base",
            "_view_module_version": "1.2.0",
            "_view_name": "LayoutView",
            "align_content": null,
            "align_items": null,
            "align_self": null,
            "border": null,
            "bottom": null,
            "display": null,
            "flex": null,
            "flex_flow": null,
            "grid_area": null,
            "grid_auto_columns": null,
            "grid_auto_flow": null,
            "grid_auto_rows": null,
            "grid_column": null,
            "grid_gap": null,
            "grid_row": null,
            "grid_template_areas": null,
            "grid_template_columns": null,
            "grid_template_rows": null,
            "height": null,
            "justify_content": null,
            "justify_items": null,
            "left": null,
            "margin": null,
            "max_height": null,
            "max_width": null,
            "min_height": null,
            "min_width": null,
            "object_fit": null,
            "object_position": null,
            "order": null,
            "overflow": null,
            "overflow_x": null,
            "overflow_y": null,
            "padding": null,
            "right": null,
            "top": null,
            "visibility": null,
            "width": null
          }
        },
        "101847f93b91471e8a199a6427e990f6": {
          "model_module": "@jupyter-widgets/controls",
          "model_name": "DescriptionStyleModel",
          "model_module_version": "1.5.0",
          "state": {
            "_model_module": "@jupyter-widgets/controls",
            "_model_module_version": "1.5.0",
            "_model_name": "DescriptionStyleModel",
            "_view_count": null,
            "_view_module": "@jupyter-widgets/base",
            "_view_module_version": "1.2.0",
            "_view_name": "StyleView",
            "description_width": ""
          }
        },
        "4d65bed30f854acca67658da93416006": {
          "model_module": "@jupyter-widgets/controls",
          "model_name": "HBoxModel",
          "model_module_version": "1.5.0",
          "state": {
            "_dom_classes": [],
            "_model_module": "@jupyter-widgets/controls",
            "_model_module_version": "1.5.0",
            "_model_name": "HBoxModel",
            "_view_count": null,
            "_view_module": "@jupyter-widgets/controls",
            "_view_module_version": "1.5.0",
            "_view_name": "HBoxView",
            "box_style": "",
            "children": [
              "IPY_MODEL_90a56bbc0f274a01835f6a69e3f952c2",
              "IPY_MODEL_9bb4ce154b5b450ebaa7d4efa7ff3346",
              "IPY_MODEL_9a61dae43c2e47afa872a85262f39648"
            ],
            "layout": "IPY_MODEL_2b1ee2e484804965a552c18839633c45"
          }
        },
        "90a56bbc0f274a01835f6a69e3f952c2": {
          "model_module": "@jupyter-widgets/controls",
          "model_name": "HTMLModel",
          "model_module_version": "1.5.0",
          "state": {
            "_dom_classes": [],
            "_model_module": "@jupyter-widgets/controls",
            "_model_module_version": "1.5.0",
            "_model_name": "HTMLModel",
            "_view_count": null,
            "_view_module": "@jupyter-widgets/controls",
            "_view_module_version": "1.5.0",
            "_view_name": "HTMLView",
            "description": "",
            "description_tooltip": null,
            "layout": "IPY_MODEL_91d001ae2c89497f938239b72a475231",
            "placeholder": "​",
            "style": "IPY_MODEL_1b0b0415881c4ee4876ac10637f9d8df",
            "value": "Generating train split: "
          }
        },
        "9bb4ce154b5b450ebaa7d4efa7ff3346": {
          "model_module": "@jupyter-widgets/controls",
          "model_name": "FloatProgressModel",
          "model_module_version": "1.5.0",
          "state": {
            "_dom_classes": [],
            "_model_module": "@jupyter-widgets/controls",
            "_model_module_version": "1.5.0",
            "_model_name": "FloatProgressModel",
            "_view_count": null,
            "_view_module": "@jupyter-widgets/controls",
            "_view_module_version": "1.5.0",
            "_view_name": "ProgressView",
            "bar_style": "success",
            "description": "",
            "description_tooltip": null,
            "layout": "IPY_MODEL_8331b875958145ef8193289b7a290aee",
            "max": 1,
            "min": 0,
            "orientation": "horizontal",
            "style": "IPY_MODEL_72bd3d6172be413db18c6add97e3b30b",
            "value": 1
          }
        },
        "9a61dae43c2e47afa872a85262f39648": {
          "model_module": "@jupyter-widgets/controls",
          "model_name": "HTMLModel",
          "model_module_version": "1.5.0",
          "state": {
            "_dom_classes": [],
            "_model_module": "@jupyter-widgets/controls",
            "_model_module_version": "1.5.0",
            "_model_name": "HTMLModel",
            "_view_count": null,
            "_view_module": "@jupyter-widgets/controls",
            "_view_module_version": "1.5.0",
            "_view_name": "HTMLView",
            "description": "",
            "description_tooltip": null,
            "layout": "IPY_MODEL_d42c551da82f434380699b11f77a8a9c",
            "placeholder": "​",
            "style": "IPY_MODEL_862ba407ae204c8897b76ac4bbc4f5e7",
            "value": " 60000/0 [00:00&lt;00:00, 531810.91 examples/s]"
          }
        },
        "2b1ee2e484804965a552c18839633c45": {
          "model_module": "@jupyter-widgets/base",
          "model_name": "LayoutModel",
          "model_module_version": "1.2.0",
          "state": {
            "_model_module": "@jupyter-widgets/base",
            "_model_module_version": "1.2.0",
            "_model_name": "LayoutModel",
            "_view_count": null,
            "_view_module": "@jupyter-widgets/base",
            "_view_module_version": "1.2.0",
            "_view_name": "LayoutView",
            "align_content": null,
            "align_items": null,
            "align_self": null,
            "border": null,
            "bottom": null,
            "display": null,
            "flex": null,
            "flex_flow": null,
            "grid_area": null,
            "grid_auto_columns": null,
            "grid_auto_flow": null,
            "grid_auto_rows": null,
            "grid_column": null,
            "grid_gap": null,
            "grid_row": null,
            "grid_template_areas": null,
            "grid_template_columns": null,
            "grid_template_rows": null,
            "height": null,
            "justify_content": null,
            "justify_items": null,
            "left": null,
            "margin": null,
            "max_height": null,
            "max_width": null,
            "min_height": null,
            "min_width": null,
            "object_fit": null,
            "object_position": null,
            "order": null,
            "overflow": null,
            "overflow_x": null,
            "overflow_y": null,
            "padding": null,
            "right": null,
            "top": null,
            "visibility": null,
            "width": null
          }
        },
        "91d001ae2c89497f938239b72a475231": {
          "model_module": "@jupyter-widgets/base",
          "model_name": "LayoutModel",
          "model_module_version": "1.2.0",
          "state": {
            "_model_module": "@jupyter-widgets/base",
            "_model_module_version": "1.2.0",
            "_model_name": "LayoutModel",
            "_view_count": null,
            "_view_module": "@jupyter-widgets/base",
            "_view_module_version": "1.2.0",
            "_view_name": "LayoutView",
            "align_content": null,
            "align_items": null,
            "align_self": null,
            "border": null,
            "bottom": null,
            "display": null,
            "flex": null,
            "flex_flow": null,
            "grid_area": null,
            "grid_auto_columns": null,
            "grid_auto_flow": null,
            "grid_auto_rows": null,
            "grid_column": null,
            "grid_gap": null,
            "grid_row": null,
            "grid_template_areas": null,
            "grid_template_columns": null,
            "grid_template_rows": null,
            "height": null,
            "justify_content": null,
            "justify_items": null,
            "left": null,
            "margin": null,
            "max_height": null,
            "max_width": null,
            "min_height": null,
            "min_width": null,
            "object_fit": null,
            "object_position": null,
            "order": null,
            "overflow": null,
            "overflow_x": null,
            "overflow_y": null,
            "padding": null,
            "right": null,
            "top": null,
            "visibility": null,
            "width": null
          }
        },
        "1b0b0415881c4ee4876ac10637f9d8df": {
          "model_module": "@jupyter-widgets/controls",
          "model_name": "DescriptionStyleModel",
          "model_module_version": "1.5.0",
          "state": {
            "_model_module": "@jupyter-widgets/controls",
            "_model_module_version": "1.5.0",
            "_model_name": "DescriptionStyleModel",
            "_view_count": null,
            "_view_module": "@jupyter-widgets/base",
            "_view_module_version": "1.2.0",
            "_view_name": "StyleView",
            "description_width": ""
          }
        },
        "8331b875958145ef8193289b7a290aee": {
          "model_module": "@jupyter-widgets/base",
          "model_name": "LayoutModel",
          "model_module_version": "1.2.0",
          "state": {
            "_model_module": "@jupyter-widgets/base",
            "_model_module_version": "1.2.0",
            "_model_name": "LayoutModel",
            "_view_count": null,
            "_view_module": "@jupyter-widgets/base",
            "_view_module_version": "1.2.0",
            "_view_name": "LayoutView",
            "align_content": null,
            "align_items": null,
            "align_self": null,
            "border": null,
            "bottom": null,
            "display": null,
            "flex": null,
            "flex_flow": null,
            "grid_area": null,
            "grid_auto_columns": null,
            "grid_auto_flow": null,
            "grid_auto_rows": null,
            "grid_column": null,
            "grid_gap": null,
            "grid_row": null,
            "grid_template_areas": null,
            "grid_template_columns": null,
            "grid_template_rows": null,
            "height": null,
            "justify_content": null,
            "justify_items": null,
            "left": null,
            "margin": null,
            "max_height": null,
            "max_width": null,
            "min_height": null,
            "min_width": null,
            "object_fit": null,
            "object_position": null,
            "order": null,
            "overflow": null,
            "overflow_x": null,
            "overflow_y": null,
            "padding": null,
            "right": null,
            "top": null,
            "visibility": null,
            "width": "20px"
          }
        },
        "72bd3d6172be413db18c6add97e3b30b": {
          "model_module": "@jupyter-widgets/controls",
          "model_name": "ProgressStyleModel",
          "model_module_version": "1.5.0",
          "state": {
            "_model_module": "@jupyter-widgets/controls",
            "_model_module_version": "1.5.0",
            "_model_name": "ProgressStyleModel",
            "_view_count": null,
            "_view_module": "@jupyter-widgets/base",
            "_view_module_version": "1.2.0",
            "_view_name": "StyleView",
            "bar_color": null,
            "description_width": ""
          }
        },
        "d42c551da82f434380699b11f77a8a9c": {
          "model_module": "@jupyter-widgets/base",
          "model_name": "LayoutModel",
          "model_module_version": "1.2.0",
          "state": {
            "_model_module": "@jupyter-widgets/base",
            "_model_module_version": "1.2.0",
            "_model_name": "LayoutModel",
            "_view_count": null,
            "_view_module": "@jupyter-widgets/base",
            "_view_module_version": "1.2.0",
            "_view_name": "LayoutView",
            "align_content": null,
            "align_items": null,
            "align_self": null,
            "border": null,
            "bottom": null,
            "display": null,
            "flex": null,
            "flex_flow": null,
            "grid_area": null,
            "grid_auto_columns": null,
            "grid_auto_flow": null,
            "grid_auto_rows": null,
            "grid_column": null,
            "grid_gap": null,
            "grid_row": null,
            "grid_template_areas": null,
            "grid_template_columns": null,
            "grid_template_rows": null,
            "height": null,
            "justify_content": null,
            "justify_items": null,
            "left": null,
            "margin": null,
            "max_height": null,
            "max_width": null,
            "min_height": null,
            "min_width": null,
            "object_fit": null,
            "object_position": null,
            "order": null,
            "overflow": null,
            "overflow_x": null,
            "overflow_y": null,
            "padding": null,
            "right": null,
            "top": null,
            "visibility": null,
            "width": null
          }
        },
        "862ba407ae204c8897b76ac4bbc4f5e7": {
          "model_module": "@jupyter-widgets/controls",
          "model_name": "DescriptionStyleModel",
          "model_module_version": "1.5.0",
          "state": {
            "_model_module": "@jupyter-widgets/controls",
            "_model_module_version": "1.5.0",
            "_model_name": "DescriptionStyleModel",
            "_view_count": null,
            "_view_module": "@jupyter-widgets/base",
            "_view_module_version": "1.2.0",
            "_view_name": "StyleView",
            "description_width": ""
          }
        },
        "3c9ad10a2b934ace80e6e037008e485b": {
          "model_module": "@jupyter-widgets/controls",
          "model_name": "HBoxModel",
          "model_module_version": "1.5.0",
          "state": {
            "_dom_classes": [],
            "_model_module": "@jupyter-widgets/controls",
            "_model_module_version": "1.5.0",
            "_model_name": "HBoxModel",
            "_view_count": null,
            "_view_module": "@jupyter-widgets/controls",
            "_view_module_version": "1.5.0",
            "_view_name": "HBoxView",
            "box_style": "",
            "children": [
              "IPY_MODEL_d31dde5254774e9b9f58374b78a9b1f3",
              "IPY_MODEL_f7d4d50a83fb49bbb9790b34610b2d8c",
              "IPY_MODEL_ac4c7b27af9c41048e27411bc3eca406"
            ],
            "layout": "IPY_MODEL_eb0df317939b4e45808fe5ef9a0ff174"
          }
        },
        "d31dde5254774e9b9f58374b78a9b1f3": {
          "model_module": "@jupyter-widgets/controls",
          "model_name": "HTMLModel",
          "model_module_version": "1.5.0",
          "state": {
            "_dom_classes": [],
            "_model_module": "@jupyter-widgets/controls",
            "_model_module_version": "1.5.0",
            "_model_name": "HTMLModel",
            "_view_count": null,
            "_view_module": "@jupyter-widgets/controls",
            "_view_module_version": "1.5.0",
            "_view_name": "HTMLView",
            "description": "",
            "description_tooltip": null,
            "layout": "IPY_MODEL_564b277455b34064b6a25084b6165359",
            "placeholder": "​",
            "style": "IPY_MODEL_062e7dba83ed40ed874e99fb4776ef12",
            "value": "Generating test split: "
          }
        },
        "f7d4d50a83fb49bbb9790b34610b2d8c": {
          "model_module": "@jupyter-widgets/controls",
          "model_name": "FloatProgressModel",
          "model_module_version": "1.5.0",
          "state": {
            "_dom_classes": [],
            "_model_module": "@jupyter-widgets/controls",
            "_model_module_version": "1.5.0",
            "_model_name": "FloatProgressModel",
            "_view_count": null,
            "_view_module": "@jupyter-widgets/controls",
            "_view_module_version": "1.5.0",
            "_view_name": "ProgressView",
            "bar_style": "success",
            "description": "",
            "description_tooltip": null,
            "layout": "IPY_MODEL_765765fd296f44bf82d2c6d5c1827d1f",
            "max": 1,
            "min": 0,
            "orientation": "horizontal",
            "style": "IPY_MODEL_b7f56e2bde8d434ab5314e0b2ab11386",
            "value": 1
          }
        },
        "ac4c7b27af9c41048e27411bc3eca406": {
          "model_module": "@jupyter-widgets/controls",
          "model_name": "HTMLModel",
          "model_module_version": "1.5.0",
          "state": {
            "_dom_classes": [],
            "_model_module": "@jupyter-widgets/controls",
            "_model_module_version": "1.5.0",
            "_model_name": "HTMLModel",
            "_view_count": null,
            "_view_module": "@jupyter-widgets/controls",
            "_view_module_version": "1.5.0",
            "_view_name": "HTMLView",
            "description": "",
            "description_tooltip": null,
            "layout": "IPY_MODEL_f1c37455278b4348b7e50b84af93cc95",
            "placeholder": "​",
            "style": "IPY_MODEL_eda4ed6d2c56479e9ce9b271401e7026",
            "value": " 10000/0 [00:00&lt;00:00, 262715.41 examples/s]"
          }
        },
        "eb0df317939b4e45808fe5ef9a0ff174": {
          "model_module": "@jupyter-widgets/base",
          "model_name": "LayoutModel",
          "model_module_version": "1.2.0",
          "state": {
            "_model_module": "@jupyter-widgets/base",
            "_model_module_version": "1.2.0",
            "_model_name": "LayoutModel",
            "_view_count": null,
            "_view_module": "@jupyter-widgets/base",
            "_view_module_version": "1.2.0",
            "_view_name": "LayoutView",
            "align_content": null,
            "align_items": null,
            "align_self": null,
            "border": null,
            "bottom": null,
            "display": null,
            "flex": null,
            "flex_flow": null,
            "grid_area": null,
            "grid_auto_columns": null,
            "grid_auto_flow": null,
            "grid_auto_rows": null,
            "grid_column": null,
            "grid_gap": null,
            "grid_row": null,
            "grid_template_areas": null,
            "grid_template_columns": null,
            "grid_template_rows": null,
            "height": null,
            "justify_content": null,
            "justify_items": null,
            "left": null,
            "margin": null,
            "max_height": null,
            "max_width": null,
            "min_height": null,
            "min_width": null,
            "object_fit": null,
            "object_position": null,
            "order": null,
            "overflow": null,
            "overflow_x": null,
            "overflow_y": null,
            "padding": null,
            "right": null,
            "top": null,
            "visibility": null,
            "width": null
          }
        },
        "564b277455b34064b6a25084b6165359": {
          "model_module": "@jupyter-widgets/base",
          "model_name": "LayoutModel",
          "model_module_version": "1.2.0",
          "state": {
            "_model_module": "@jupyter-widgets/base",
            "_model_module_version": "1.2.0",
            "_model_name": "LayoutModel",
            "_view_count": null,
            "_view_module": "@jupyter-widgets/base",
            "_view_module_version": "1.2.0",
            "_view_name": "LayoutView",
            "align_content": null,
            "align_items": null,
            "align_self": null,
            "border": null,
            "bottom": null,
            "display": null,
            "flex": null,
            "flex_flow": null,
            "grid_area": null,
            "grid_auto_columns": null,
            "grid_auto_flow": null,
            "grid_auto_rows": null,
            "grid_column": null,
            "grid_gap": null,
            "grid_row": null,
            "grid_template_areas": null,
            "grid_template_columns": null,
            "grid_template_rows": null,
            "height": null,
            "justify_content": null,
            "justify_items": null,
            "left": null,
            "margin": null,
            "max_height": null,
            "max_width": null,
            "min_height": null,
            "min_width": null,
            "object_fit": null,
            "object_position": null,
            "order": null,
            "overflow": null,
            "overflow_x": null,
            "overflow_y": null,
            "padding": null,
            "right": null,
            "top": null,
            "visibility": null,
            "width": null
          }
        },
        "062e7dba83ed40ed874e99fb4776ef12": {
          "model_module": "@jupyter-widgets/controls",
          "model_name": "DescriptionStyleModel",
          "model_module_version": "1.5.0",
          "state": {
            "_model_module": "@jupyter-widgets/controls",
            "_model_module_version": "1.5.0",
            "_model_name": "DescriptionStyleModel",
            "_view_count": null,
            "_view_module": "@jupyter-widgets/base",
            "_view_module_version": "1.2.0",
            "_view_name": "StyleView",
            "description_width": ""
          }
        },
        "765765fd296f44bf82d2c6d5c1827d1f": {
          "model_module": "@jupyter-widgets/base",
          "model_name": "LayoutModel",
          "model_module_version": "1.2.0",
          "state": {
            "_model_module": "@jupyter-widgets/base",
            "_model_module_version": "1.2.0",
            "_model_name": "LayoutModel",
            "_view_count": null,
            "_view_module": "@jupyter-widgets/base",
            "_view_module_version": "1.2.0",
            "_view_name": "LayoutView",
            "align_content": null,
            "align_items": null,
            "align_self": null,
            "border": null,
            "bottom": null,
            "display": null,
            "flex": null,
            "flex_flow": null,
            "grid_area": null,
            "grid_auto_columns": null,
            "grid_auto_flow": null,
            "grid_auto_rows": null,
            "grid_column": null,
            "grid_gap": null,
            "grid_row": null,
            "grid_template_areas": null,
            "grid_template_columns": null,
            "grid_template_rows": null,
            "height": null,
            "justify_content": null,
            "justify_items": null,
            "left": null,
            "margin": null,
            "max_height": null,
            "max_width": null,
            "min_height": null,
            "min_width": null,
            "object_fit": null,
            "object_position": null,
            "order": null,
            "overflow": null,
            "overflow_x": null,
            "overflow_y": null,
            "padding": null,
            "right": null,
            "top": null,
            "visibility": null,
            "width": "20px"
          }
        },
        "b7f56e2bde8d434ab5314e0b2ab11386": {
          "model_module": "@jupyter-widgets/controls",
          "model_name": "ProgressStyleModel",
          "model_module_version": "1.5.0",
          "state": {
            "_model_module": "@jupyter-widgets/controls",
            "_model_module_version": "1.5.0",
            "_model_name": "ProgressStyleModel",
            "_view_count": null,
            "_view_module": "@jupyter-widgets/base",
            "_view_module_version": "1.2.0",
            "_view_name": "StyleView",
            "bar_color": null,
            "description_width": ""
          }
        },
        "f1c37455278b4348b7e50b84af93cc95": {
          "model_module": "@jupyter-widgets/base",
          "model_name": "LayoutModel",
          "model_module_version": "1.2.0",
          "state": {
            "_model_module": "@jupyter-widgets/base",
            "_model_module_version": "1.2.0",
            "_model_name": "LayoutModel",
            "_view_count": null,
            "_view_module": "@jupyter-widgets/base",
            "_view_module_version": "1.2.0",
            "_view_name": "LayoutView",
            "align_content": null,
            "align_items": null,
            "align_self": null,
            "border": null,
            "bottom": null,
            "display": null,
            "flex": null,
            "flex_flow": null,
            "grid_area": null,
            "grid_auto_columns": null,
            "grid_auto_flow": null,
            "grid_auto_rows": null,
            "grid_column": null,
            "grid_gap": null,
            "grid_row": null,
            "grid_template_areas": null,
            "grid_template_columns": null,
            "grid_template_rows": null,
            "height": null,
            "justify_content": null,
            "justify_items": null,
            "left": null,
            "margin": null,
            "max_height": null,
            "max_width": null,
            "min_height": null,
            "min_width": null,
            "object_fit": null,
            "object_position": null,
            "order": null,
            "overflow": null,
            "overflow_x": null,
            "overflow_y": null,
            "padding": null,
            "right": null,
            "top": null,
            "visibility": null,
            "width": null
          }
        },
        "eda4ed6d2c56479e9ce9b271401e7026": {
          "model_module": "@jupyter-widgets/controls",
          "model_name": "DescriptionStyleModel",
          "model_module_version": "1.5.0",
          "state": {
            "_model_module": "@jupyter-widgets/controls",
            "_model_module_version": "1.5.0",
            "_model_name": "DescriptionStyleModel",
            "_view_count": null,
            "_view_module": "@jupyter-widgets/base",
            "_view_module_version": "1.2.0",
            "_view_name": "StyleView",
            "description_width": ""
          }
        }
      }
    }
  },
  "nbformat": 4,
  "nbformat_minor": 0
}