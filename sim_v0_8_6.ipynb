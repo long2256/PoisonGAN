{
  "cells": [
    {
      "cell_type": "markdown",
      "metadata": {
        "id": "view-in-github",
        "colab_type": "text"
      },
      "source": [
        "<a href=\"https://colab.research.google.com/github/long2256/PoisonGAN/blob/main/sim_v0_8_6.ipynb\" target=\"_parent\"><img src=\"https://colab.research.google.com/assets/colab-badge.svg\" alt=\"Open In Colab\"/></a>"
      ]
    },
    {
      "cell_type": "markdown",
      "metadata": {
        "id": "P6OO7NbKtiy3"
      },
      "source": [
        "# Environment Setup\n",
        "\n",
        "To start working with Flower, very little is required once you have activated your Python environment (e.g. via `conda`, `virtualenv`, `pyenv`, etc). If you are running this code on Colab, there is really nothing to do except to install Flower and other dependencies. The steps below have been verified to run in Colab.\n",
        "\n",
        "## Installing Flower\n",
        "\n",
        "You can install flower very conveniently from `pip`:"
      ]
    },
    {
      "cell_type": "code",
      "execution_count": 1,
      "metadata": {
        "colab": {
          "base_uri": "https://localhost:8080/"
        },
        "id": "zNTidNXQtiy6",
        "outputId": "bbd53679-8813-47da-f377-1c5fd9d0ddd4"
      },
      "outputs": [
        {
          "output_type": "stream",
          "name": "stdout",
          "text": [
            "Requirement already satisfied: flwr_datasets[vision] in /usr/local/lib/python3.10/dist-packages (0.0.2)\n",
            "Requirement already satisfied: datasets<3.0.0,>=2.14.3 in /usr/local/lib/python3.10/dist-packages (from flwr_datasets[vision]) (2.16.1)\n",
            "Requirement already satisfied: numpy<2.0.0,>=1.21.0 in /usr/local/lib/python3.10/dist-packages (from flwr_datasets[vision]) (1.23.5)\n",
            "Requirement already satisfied: pillow>=6.2.1 in /usr/local/lib/python3.10/dist-packages (from flwr_datasets[vision]) (9.4.0)\n",
            "Requirement already satisfied: filelock in /usr/local/lib/python3.10/dist-packages (from datasets<3.0.0,>=2.14.3->flwr_datasets[vision]) (3.13.1)\n",
            "Requirement already satisfied: pyarrow>=8.0.0 in /usr/local/lib/python3.10/dist-packages (from datasets<3.0.0,>=2.14.3->flwr_datasets[vision]) (10.0.1)\n",
            "Requirement already satisfied: pyarrow-hotfix in /usr/local/lib/python3.10/dist-packages (from datasets<3.0.0,>=2.14.3->flwr_datasets[vision]) (0.6)\n",
            "Requirement already satisfied: dill<0.3.8,>=0.3.0 in /usr/local/lib/python3.10/dist-packages (from datasets<3.0.0,>=2.14.3->flwr_datasets[vision]) (0.3.7)\n",
            "Requirement already satisfied: pandas in /usr/local/lib/python3.10/dist-packages (from datasets<3.0.0,>=2.14.3->flwr_datasets[vision]) (1.5.3)\n",
            "Requirement already satisfied: requests>=2.19.0 in /usr/local/lib/python3.10/dist-packages (from datasets<3.0.0,>=2.14.3->flwr_datasets[vision]) (2.31.0)\n",
            "Requirement already satisfied: tqdm>=4.62.1 in /usr/local/lib/python3.10/dist-packages (from datasets<3.0.0,>=2.14.3->flwr_datasets[vision]) (4.66.1)\n",
            "Requirement already satisfied: xxhash in /usr/local/lib/python3.10/dist-packages (from datasets<3.0.0,>=2.14.3->flwr_datasets[vision]) (3.4.1)\n",
            "Requirement already satisfied: multiprocess in /usr/local/lib/python3.10/dist-packages (from datasets<3.0.0,>=2.14.3->flwr_datasets[vision]) (0.70.15)\n",
            "Requirement already satisfied: fsspec[http]<=2023.10.0,>=2023.1.0 in /usr/local/lib/python3.10/dist-packages (from datasets<3.0.0,>=2.14.3->flwr_datasets[vision]) (2023.6.0)\n",
            "Requirement already satisfied: aiohttp in /usr/local/lib/python3.10/dist-packages (from datasets<3.0.0,>=2.14.3->flwr_datasets[vision]) (3.9.1)\n",
            "Requirement already satisfied: huggingface-hub>=0.19.4 in /usr/local/lib/python3.10/dist-packages (from datasets<3.0.0,>=2.14.3->flwr_datasets[vision]) (0.20.1)\n",
            "Requirement already satisfied: packaging in /usr/local/lib/python3.10/dist-packages (from datasets<3.0.0,>=2.14.3->flwr_datasets[vision]) (23.2)\n",
            "Requirement already satisfied: pyyaml>=5.1 in /usr/local/lib/python3.10/dist-packages (from datasets<3.0.0,>=2.14.3->flwr_datasets[vision]) (6.0.1)\n",
            "Requirement already satisfied: attrs>=17.3.0 in /usr/local/lib/python3.10/dist-packages (from aiohttp->datasets<3.0.0,>=2.14.3->flwr_datasets[vision]) (23.1.0)\n",
            "Requirement already satisfied: multidict<7.0,>=4.5 in /usr/local/lib/python3.10/dist-packages (from aiohttp->datasets<3.0.0,>=2.14.3->flwr_datasets[vision]) (6.0.4)\n",
            "Requirement already satisfied: yarl<2.0,>=1.0 in /usr/local/lib/python3.10/dist-packages (from aiohttp->datasets<3.0.0,>=2.14.3->flwr_datasets[vision]) (1.9.4)\n",
            "Requirement already satisfied: frozenlist>=1.1.1 in /usr/local/lib/python3.10/dist-packages (from aiohttp->datasets<3.0.0,>=2.14.3->flwr_datasets[vision]) (1.4.1)\n",
            "Requirement already satisfied: aiosignal>=1.1.2 in /usr/local/lib/python3.10/dist-packages (from aiohttp->datasets<3.0.0,>=2.14.3->flwr_datasets[vision]) (1.3.1)\n",
            "Requirement already satisfied: async-timeout<5.0,>=4.0 in /usr/local/lib/python3.10/dist-packages (from aiohttp->datasets<3.0.0,>=2.14.3->flwr_datasets[vision]) (4.0.3)\n",
            "Requirement already satisfied: typing-extensions>=3.7.4.3 in /usr/local/lib/python3.10/dist-packages (from huggingface-hub>=0.19.4->datasets<3.0.0,>=2.14.3->flwr_datasets[vision]) (4.5.0)\n",
            "Requirement already satisfied: charset-normalizer<4,>=2 in /usr/local/lib/python3.10/dist-packages (from requests>=2.19.0->datasets<3.0.0,>=2.14.3->flwr_datasets[vision]) (3.3.2)\n",
            "Requirement already satisfied: idna<4,>=2.5 in /usr/local/lib/python3.10/dist-packages (from requests>=2.19.0->datasets<3.0.0,>=2.14.3->flwr_datasets[vision]) (3.6)\n",
            "Requirement already satisfied: urllib3<3,>=1.21.1 in /usr/local/lib/python3.10/dist-packages (from requests>=2.19.0->datasets<3.0.0,>=2.14.3->flwr_datasets[vision]) (2.0.7)\n",
            "Requirement already satisfied: certifi>=2017.4.17 in /usr/local/lib/python3.10/dist-packages (from requests>=2.19.0->datasets<3.0.0,>=2.14.3->flwr_datasets[vision]) (2023.11.17)\n",
            "Requirement already satisfied: python-dateutil>=2.8.1 in /usr/local/lib/python3.10/dist-packages (from pandas->datasets<3.0.0,>=2.14.3->flwr_datasets[vision]) (2.8.2)\n",
            "Requirement already satisfied: pytz>=2020.1 in /usr/local/lib/python3.10/dist-packages (from pandas->datasets<3.0.0,>=2.14.3->flwr_datasets[vision]) (2023.3.post1)\n",
            "Requirement already satisfied: six>=1.5 in /usr/local/lib/python3.10/dist-packages (from python-dateutil>=2.8.1->pandas->datasets<3.0.0,>=2.14.3->flwr_datasets[vision]) (1.16.0)\n"
          ]
        }
      ],
      "source": [
        "# depending on your shell, you might need to add `\\` before `[` and `]`.\n",
        "!pip install -q flwr[simulation]\n",
        "!pip install flwr_datasets[vision]"
      ]
    },
    {
      "cell_type": "markdown",
      "metadata": {
        "id": "KiFta0fOtiy7"
      },
      "source": [
        "We will be using the _simulation_ mode in Flower, which allows you to run a large number of clients without the overheads of manually managing devices. This is achieved via the [Virtual Client Engine](https://flower.dev/docs/framework/how-to-run-simulations.html) in Flower. With simulation, you can dynamically scale your experiments whether you run the code on your laptop, a machine with a single GPU, a server with multiple GPUs os even on a cluster with multiple servers. The `Virtual Client Engine` handles everything transparently and it allows you to specify how many resources (e.g. CPU cores, GPU VRAM) should be assigned to each virtual client."
      ]
    },
    {
      "cell_type": "markdown",
      "metadata": {
        "id": "r7HUDxf1tiy8"
      },
      "source": [
        "\n",
        "Flower is agnostic to your choice of ML Framework. Flower works with `PyTorch`, `Tensorflow`, `NumPy`, `🤗 Transformers`, `MXNet`, `JAX`, `scikit-learn`, `fastai`, `Pandas`. Flower also supports all major platforms: `iOS`, `Android` and plain `C++`. You can find a _quickstart-_ example for each of the above in the [Flower Repository](https://github.com/adap/flower/tree/main/examples) inside the `examples/` directory.\n",
        "\n",
        "In this tutorial we are going to use PyTorch, it comes pre-installed in your Collab runtime so there is no need to installed it again. If you wouuld like to install another version, you can still do that in the same way other packages are installed via `!pip`"
      ]
    },
    {
      "cell_type": "markdown",
      "metadata": {
        "id": "Wzeaa9fhtiy8"
      },
      "source": [
        "We are going to install some other dependencies you are likely familiar with. Let's install `maplotlib` to plot our results at the end."
      ]
    },
    {
      "cell_type": "code",
      "execution_count": 2,
      "metadata": {
        "colab": {
          "base_uri": "https://localhost:8080/"
        },
        "outputId": "6f1b257f-2000-432c-e443-62c10202e53d",
        "id": "WXOcHlPPtiy8"
      },
      "outputs": [
        {
          "output_type": "stream",
          "name": "stdout",
          "text": [
            "Requirement already satisfied: matplotlib in /usr/local/lib/python3.10/dist-packages (3.7.1)\n",
            "Requirement already satisfied: contourpy>=1.0.1 in /usr/local/lib/python3.10/dist-packages (from matplotlib) (1.2.0)\n",
            "Requirement already satisfied: cycler>=0.10 in /usr/local/lib/python3.10/dist-packages (from matplotlib) (0.12.1)\n",
            "Requirement already satisfied: fonttools>=4.22.0 in /usr/local/lib/python3.10/dist-packages (from matplotlib) (4.47.0)\n",
            "Requirement already satisfied: kiwisolver>=1.0.1 in /usr/local/lib/python3.10/dist-packages (from matplotlib) (1.4.5)\n",
            "Requirement already satisfied: numpy>=1.20 in /usr/local/lib/python3.10/dist-packages (from matplotlib) (1.23.5)\n",
            "Requirement already satisfied: packaging>=20.0 in /usr/local/lib/python3.10/dist-packages (from matplotlib) (23.2)\n",
            "Requirement already satisfied: pillow>=6.2.0 in /usr/local/lib/python3.10/dist-packages (from matplotlib) (9.4.0)\n",
            "Requirement already satisfied: pyparsing>=2.3.1 in /usr/local/lib/python3.10/dist-packages (from matplotlib) (3.1.1)\n",
            "Requirement already satisfied: python-dateutil>=2.7 in /usr/local/lib/python3.10/dist-packages (from matplotlib) (2.8.2)\n",
            "Requirement already satisfied: six>=1.5 in /usr/local/lib/python3.10/dist-packages (from python-dateutil>=2.7->matplotlib) (1.16.0)\n"
          ]
        }
      ],
      "source": [
        "!pip install matplotlib"
      ]
    },
    {
      "cell_type": "markdown",
      "metadata": {
        "id": "d7sK2zkBtiy-"
      },
      "source": [
        "## One Client, One Data Partition\n",
        "\n",
        "To start designing a Federated Learning pipeline we need to meet one of the key properties in FL: each client has its own data partition. To accomplish this with the MNIST dataset, we are going to generate N random partitions, where N is the total number of clients in our FL system.\n",
        "\n",
        "We can use [Flower Datasets](https://flower.dev/docs/datasets/) to effortlessly obtain an off-the-shelf partitioned dataset or partition one that isn't pre-partitioned. Let's choose MNIST."
      ]
    },
    {
      "cell_type": "code",
      "execution_count": 3,
      "metadata": {
        "id": "e9K5nFNjtiy-",
        "outputId": "8c365baf-2022-41a5-9520-2500c73dd0ba",
        "colab": {
          "base_uri": "https://localhost:8080/"
        }
      },
      "outputs": [
        {
          "output_type": "stream",
          "name": "stderr",
          "text": [
            "/usr/local/lib/python3.10/dist-packages/huggingface_hub/utils/_token.py:72: UserWarning: \n",
            "The secret `HF_TOKEN` does not exist in your Colab secrets.\n",
            "To authenticate with the Hugging Face Hub, create a token in your settings tab (https://huggingface.co/settings/tokens), set it as secret in your Google Colab and restart your session.\n",
            "You will be able to reuse this secret in all of your notebooks.\n",
            "Please note that authentication is recommended but still optional to access public models or datasets.\n",
            "  warnings.warn(\n"
          ]
        }
      ],
      "source": [
        "from datasets import Dataset\n",
        "from flwr_datasets import FederatedDataset\n",
        "from datasets.utils.logging import disable_progress_bar\n",
        "from torch.utils.data import TensorDataset\n",
        "\n",
        "# Let's set a simulation involving a total of 100 clients\n",
        "NUM_CLIENTS = 30\n",
        "\n",
        "# Download MNIST dataset and partition the \"train\" partition (so one can be assigned to each client)\n",
        "mnist_fds = FederatedDataset(dataset=\"mnist\", partitioners={\"train\": NUM_CLIENTS})\n",
        "# Let's keep the test set as is, and use it to evaluate the global model on the server\n",
        "centralized_testset = mnist_fds.load_full(\"test\")"
      ]
    },
    {
      "cell_type": "markdown",
      "metadata": {
        "id": "6JAsvzg6tiy-"
      },
      "source": [
        "Let's create a function that returns a set of transforms to apply to our images"
      ]
    },
    {
      "cell_type": "code",
      "execution_count": 4,
      "metadata": {
        "id": "b_T97AxStiy-"
      },
      "outputs": [],
      "source": [
        "from torchvision.transforms import ToTensor, Normalize, Compose, Resize\n",
        "\n",
        "\n",
        "def apply_transforms(batch):\n",
        "    \"\"\"Get transformation for MNIST dataset\"\"\"\n",
        "\n",
        "    # transformation to convert images to tensors and apply normalization\n",
        "    transforms = Compose([\n",
        "        ToTensor(),\n",
        "        Normalize((0.1307,), (0.3081,)),\n",
        "        Resize((64, 64), antialias=False)\n",
        "        ])\n",
        "    batch[\"image\"] = [transforms(img) for img in batch[\"image\"]]\n",
        "    return batch"
      ]
    },
    {
      "cell_type": "markdown",
      "metadata": {
        "id": "1Dg0Jx7Etiy9"
      },
      "source": [
        "# Preparing the experiment\n",
        "\n",
        "This tutorial is not so much about novel architectural designs so we keep things simple and make use of a typical CNN that is adequate for the MNIST image classification task.\n",
        "\n"
      ]
    },
    {
      "cell_type": "code",
      "execution_count": 5,
      "metadata": {
        "id": "e7NzdFp6tiy9"
      },
      "outputs": [],
      "source": [
        "import torch\n",
        "import torch.nn as nn\n",
        "import torch.nn.functional as F\n",
        "from torch.utils.data import DataLoader\n",
        "\n",
        "class Net(nn.Module):\n",
        "    def __init__(self, num_classes: int):\n",
        "        super(Net, self).__init__()\n",
        "        self.conv1 = nn.Conv2d(in_channels=1, out_channels=64, kernel_size=4, stride=2, padding=1)\n",
        "        self.leaky1 = nn.LeakyReLU()\n",
        "\n",
        "        self.conv2 = nn.Conv2d(in_channels=64, out_channels=64, kernel_size=4, stride=2, padding=1)\n",
        "        self.leaky2 = nn.LeakyReLU()\n",
        "\n",
        "        self.conv3 = nn.Conv2d(in_channels=64, out_channels=64, kernel_size=4, stride=2, padding=1)\n",
        "        self.leaky3 = nn.LeakyReLU()\n",
        "\n",
        "        self.conv4 = nn.Conv2d(in_channels=64, out_channels=128, kernel_size=3, stride=1, padding=1)\n",
        "        self.leaky4 = nn.LeakyReLU()\n",
        "\n",
        "        self.conv5 = nn.Conv2d(in_channels=128, out_channels=128, kernel_size=3, stride=1, padding=1)\n",
        "        self.leaky5 = nn.LeakyReLU()\n",
        "\n",
        "        self.conv6 = nn.Conv2d(in_channels=128, out_channels=128, kernel_size=3, stride=1, padding=1)\n",
        "        self.leaky6 = nn.LeakyReLU()\n",
        "\n",
        "        self.avgpool = nn.AvgPool2d(2, stride=2)\n",
        "\n",
        "        self.fc = nn.Linear(4 * 4 * 128, num_classes)  # 10 classes for MNIST\n",
        "        self.softmax = nn.Softmax(dim=1)\n",
        "\n",
        "    def forward(self, x):\n",
        "        x = self.conv1(x)\n",
        "        x = self.leaky1(x)\n",
        "\n",
        "        x = self.conv2(x)\n",
        "        x = self.leaky2(x)\n",
        "\n",
        "        x = self.conv3(x)\n",
        "        x = self.leaky3(x)\n",
        "\n",
        "        x = self.conv4(x)\n",
        "        x = self.leaky4(x)\n",
        "\n",
        "        x = self.conv5(x)\n",
        "        x = self.leaky5(x)\n",
        "\n",
        "        x = self.conv6(x)\n",
        "        x = self.leaky6(x)\n",
        "\n",
        "        x = self.avgpool(x)\n",
        "        x = x.view(x.size(0), -1)  # Flatten the output\n",
        "        x = self.fc(x)\n",
        "        x = self.softmax(x)\n",
        "\n",
        "        return x\n",
        "\n",
        "class Discriminator(nn.Module):\n",
        "    def __init__(self):\n",
        "        super(Discriminator, self).__init__()\n",
        "        self.conv1 = nn.Conv2d(in_channels=1, out_channels=64, kernel_size=4, stride=2, padding=1)\n",
        "        self.leaky1 = nn.LeakyReLU()\n",
        "        self.dropout = nn.Dropout()\n",
        "\n",
        "        self.conv2 = nn.Conv2d(in_channels=64, out_channels=64, kernel_size=4, stride=2, padding=1)\n",
        "        self.batchnorm1 = nn.BatchNorm2d(64)\n",
        "        self.leaky2 = nn.LeakyReLU()\n",
        "\n",
        "        self.conv3 = nn.Conv2d(in_channels=64, out_channels=64, kernel_size=4, stride=2, padding=1)\n",
        "        self.batchnorm2 = nn.BatchNorm2d(64)\n",
        "        self.leaky3 = nn.LeakyReLU()\n",
        "\n",
        "        self.conv4 = nn.Conv2d(in_channels=64, out_channels=128, kernel_size=3, stride=1, padding=1)\n",
        "        self.batchnorm3 = nn.BatchNorm2d(128)\n",
        "        self.leaky4 = nn.LeakyReLU()\n",
        "\n",
        "        self.conv5 = nn.Conv2d(in_channels=128, out_channels=128, kernel_size=3, stride=1, padding=1)\n",
        "        self.batchnorm4 = nn.BatchNorm2d(128)\n",
        "        self.leaky5 = nn.LeakyReLU()\n",
        "\n",
        "        self.conv6 = nn.Conv2d(in_channels=128, out_channels=128, kernel_size=3, stride=1, padding=1)\n",
        "        self.leaky6 = nn.LeakyReLU()\n",
        "\n",
        "        self.avgpool = nn.AvgPool2d(2, stride=2)\n",
        "\n",
        "        self.fc = nn.Linear(4 * 4 * 128, 10)\n",
        "        self.softmax = nn.Softmax(dim=1)\n",
        "\n",
        "    def forward(self, x):\n",
        "        x = self.conv1(x)\n",
        "        x = self.leaky1(x)\n",
        "        x = self.dropout(x)\n",
        "\n",
        "        x = self.conv2(x)\n",
        "        x = self.batchnorm1(x)\n",
        "        x = self.leaky2(x)\n",
        "\n",
        "        x = self.conv3(x)\n",
        "        x = self.batchnorm2(x)\n",
        "        x = self.leaky3(x)\n",
        "\n",
        "        x = self.conv4(x)\n",
        "        x = self.batchnorm3(x)\n",
        "        x = self.leaky4(x)\n",
        "\n",
        "        x = self.conv5(x)\n",
        "        x = self.batchnorm4(x)\n",
        "        x = self.leaky5(x)\n",
        "\n",
        "        x = self.conv6(x)\n",
        "        x = self.leaky6(x)\n",
        "\n",
        "        x = self.avgpool(x)\n",
        "        x = x.view(x.size(0), -1)  # Flatten the output\n",
        "        x = self.fc(x)\n",
        "        x = self.softmax(x)\n",
        "\n",
        "        return x\n",
        "\n",
        "class Generator(nn.Module):\n",
        "    def __init__(self):\n",
        "        super(Generator, self).__init__()\n",
        "\n",
        "        self.conv1 = nn.ConvTranspose2d(100, 256, kernel_size=4, stride=4, padding=0, bias=False)\n",
        "        self.batchnorm1 = nn.BatchNorm2d(256)\n",
        "        self.relu1 = nn.ReLU()\n",
        "\n",
        "        self.conv2 = nn.ConvTranspose2d(256, 128, kernel_size=4, stride=4, padding=0, bias=False)\n",
        "        self.batchnorm2 = nn.BatchNorm2d(128)\n",
        "        self.relu2 = nn.ReLU()\n",
        "\n",
        "        self.conv3 = nn.ConvTranspose2d(128, 64, kernel_size=4, stride=2, padding=1, bias=False)\n",
        "        self.batchnorm3 = nn.BatchNorm2d(64)\n",
        "        self.relu3 = nn.ReLU()\n",
        "\n",
        "        self.conv4 = nn.ConvTranspose2d(64, 1, kernel_size=4, stride=2, padding=1, bias=False)\n",
        "        self.tanh = nn.Tanh()\n",
        "\n",
        "    def forward(self, x):\n",
        "        x = self.conv1(x)\n",
        "        x = self.batchnorm1(x)\n",
        "        x = self.relu1(x)\n",
        "        x = self.conv2(x)\n",
        "        x = self.batchnorm2(x)\n",
        "        x = self.relu2(x)\n",
        "        x = self.conv3(x)\n",
        "        x = self.batchnorm3(x)\n",
        "        x = self.relu3(x)\n",
        "        x = self.conv4(x)\n",
        "        x = self.tanh(x)\n",
        "        return x"
      ]
    },
    {
      "cell_type": "markdown",
      "metadata": {
        "id": "_18m4edstiy9"
      },
      "source": [
        "We'll be training the model in a Federated setting. In order to do that, we need to define two functions:\n",
        "\n",
        "* `train()` that will train the model given a dataloader.\n",
        "* `test()` that will be used to evaluate the performance of the model on held-out data, e.g., a training set."
      ]
    },
    {
      "cell_type": "code",
      "execution_count": 6,
      "metadata": {
        "id": "2BkZd5y0tiy-"
      },
      "outputs": [],
      "source": [
        "import torch.optim as optim\n",
        "import torch.optim.lr_scheduler as lr_scheduler\n",
        "def train(net, trainloader, optim, scheduler, criterion, epochs, device: str):\n",
        "    \"\"\"Train the network on the training set.\"\"\"\n",
        "    net.train()\n",
        "    for _ in range(epochs):\n",
        "        for batch in trainloader:\n",
        "            images, labels = batch[\"image\"].to(device), batch[\"label\"].to(device)\n",
        "            optim.zero_grad()\n",
        "            outputs = net(images)\n",
        "            loss = criterion(outputs, labels)\n",
        "            loss.backward()\n",
        "            optim.step()\n",
        "        scheduler.step()\n",
        "\n",
        "def test(net, testloader, device: str):\n",
        "    \"\"\"Validate the network on the entire test set.\"\"\"\n",
        "    criterion = torch.nn.CrossEntropyLoss()\n",
        "    correct, loss = 0, 0.0\n",
        "    net.eval()\n",
        "    with torch.no_grad():\n",
        "        for data in testloader:\n",
        "            images, labels = data[\"image\"].to(device), data[\"label\"].to(device)\n",
        "            outputs = net(images)\n",
        "            loss += criterion(outputs, labels).item()\n",
        "            _, predicted = torch.max(outputs.data, 1)\n",
        "            correct += (predicted == labels).sum().item()\n",
        "    accuracy = correct / len(testloader.dataset)\n",
        "    return loss, accuracy\n",
        "\n",
        "# def test(net, testloader, device: str):\n",
        "#     \"\"\"Validate the network on the entire test set.\"\"\"\n",
        "#     criterion = torch.nn.CrossEntropyLoss()\n",
        "#     correct_poisoned = 0\n",
        "#     total_poisoned = 0\n",
        "#     loss = 0.0\n",
        "#     net.eval()\n",
        "#     with torch.no_grad():\n",
        "#         for data in testloader:\n",
        "#             images, labels = data[\"image\"].to(device), data[\"label\"].to(device)\n",
        "#             output = net(images)\n",
        "#             pred = output.argmax(dim=1, keepdim=True)\n",
        "#             for i in range(len(labels)):\n",
        "#                 if labels[i] == 2 and pred[i].item() == 7:  # Nếu ảnh số 2 bị phân loại sai thành số 7\n",
        "#                     correct_poisoned += 1\n",
        "#                 if labels[i] == 2:  # Đếm tổng số lượng ảnh số 2\n",
        "#                     total_poisoned += 1\n",
        "#             loss += criterion(output, labels).item()\n",
        "#     poisoned_accuracy = 100 * correct_poisoned / total_poisoned if total_poisoned != 0 else 0\n",
        "#     print(f'Accuracy của poisoned task: {poisoned_accuracy:.2f}%')\n",
        "#     return loss, poisoned_accuracy"
      ]
    },
    {
      "cell_type": "markdown",
      "metadata": {
        "id": "aSdDVUGxtiy-"
      },
      "source": [
        "The code we have written so far is not specific to Federated Learning. Then, what are the key differences between Federated Learning and Centralised Training? If you could only pick you, probably you'd say:\n",
        "* Federated Learning is distributed -- the model is trained on-device by the participating clients.\n",
        "* Data remains private and is owned by a specific _client_ -- the data is never sent to the central server.\n",
        "\n",
        "The are several more differences. But the above two are the main ones to always consider and that are common to all flavours of Federated Learning (e.g. _cross-device_ or _cross-silo_). The remaining of this tutorial is going to focus in transforming the code we have written so far for the centralised setting and construct a Federated Learning pipeline using Flower and PyTorch.\n",
        "\n",
        "Let's begin! 🚀"
      ]
    },
    {
      "cell_type": "markdown",
      "metadata": {
        "id": "Xmb4QQ0ktiy_"
      },
      "source": [
        "Let's next define how our FL clients will behave.\n",
        "\n",
        "## Defining a Flower Client\n",
        "\n",
        "You can think of a client in FL as an entity that owns some data and trains a model using this data. The caveat is that the model is being trained _collaboratively_ in Federation by multiple clients (sometimes up to hundreds of thousands) and, in most instances of FL, is sent by a central server.\n",
        "\n",
        "A Flower Client is a simple Python class with four distinct methods:\n",
        "\n",
        "* `fit()`: With this method, the client does on-device training for a number of epochs using its own data. At the end, the resulting model is sent back to the server for aggregation.\n",
        "\n",
        "* `evaluate()`: With this method, the server can evaluate the performance of the global model on the local validation set of a client. This can be used for instance when there is no centralised dataset on the server for validation/test. Also, this method can be use to asses the degree of personalisation of the model being federated.\n",
        "\n",
        "* `set_parameters()`: This method takes the parameters sent by the server and uses them to initialise the parameters of the local model that is ML framework specific (e.g. TF, Pytorch, etc).\n",
        "\n",
        "* `get_parameters()`: It extract the parameters from the local model and transforms them into a list of NumPy arrays. This ML framework-agnostic representation of the model will be sent to the server.\n",
        "\n",
        "Let's start by importing Flower!"
      ]
    },
    {
      "cell_type": "code",
      "execution_count": 7,
      "metadata": {
        "id": "EftKsIuMtiy_"
      },
      "outputs": [],
      "source": [
        "import flwr as fl"
      ]
    },
    {
      "cell_type": "markdown",
      "metadata": {
        "id": "RTN4ePrhtiy_"
      },
      "source": [
        "Now let's defice our Flower Client class:"
      ]
    },
    {
      "cell_type": "code",
      "execution_count": 8,
      "metadata": {
        "id": "TkpxfwT9tiy_"
      },
      "outputs": [],
      "source": [
        "from collections import OrderedDict\n",
        "from typing import Dict, List, Tuple, Union, Optional\n",
        "from flwr.server.client_proxy import ClientProxy\n",
        "from flwr.common import NDArrays, Scalar, Parameters\n",
        "\n",
        "\n",
        "class FlowerClient(fl.client.NumPyClient):\n",
        "    def __init__(self, cid, trainloader, valloader, testloader) -> None:\n",
        "        super().__init__()\n",
        "\n",
        "        self.trainloader = trainloader\n",
        "        self.valloader = valloader\n",
        "        self.testloader = testloader\n",
        "        self.cid = cid\n",
        "        self.model = Net(num_classes=10)\n",
        "        self.discriminator = Discriminator()\n",
        "        self.generator = Generator()\n",
        "        # Determine device\n",
        "        self.device = torch.device(\"cuda:0\" if torch.cuda.is_available() else \"cpu\")\n",
        "        self.model.to(self.device)  # send model to device\n",
        "        self.discriminator.to(self.device)\n",
        "        self.generator.to(self.device)\n",
        "\n",
        "    def set_parameters(self, parameters):\n",
        "        \"\"\"With the model paramters received from the server,\n",
        "        overwrite the uninitialise model in this class with them.\"\"\"\n",
        "\n",
        "        params_dict = zip(self.model.state_dict().keys(), parameters)\n",
        "        state_dict = OrderedDict({k: torch.Tensor(v) for k, v in params_dict})\n",
        "        # now replace the parameters\n",
        "        self.discriminator.load_state_dict(state_dict, strict=False)\n",
        "        self.model.load_state_dict(state_dict, strict=True)\n",
        "\n",
        "    def get_parameters(self, config: Dict[str, Scalar]):\n",
        "        \"\"\"Extract all model parameters and conver them to a list of\n",
        "        NumPy arryas. The server doesn't work with PyTorch/TF/etc.\"\"\"\n",
        "        print(f\"[Client {self.cid}] get_parameters\")\n",
        "        return [val.cpu().numpy() for _, val in self.model.state_dict().items()]\n",
        "\n",
        "    def fit(self, parameters, config):\n",
        "        \"\"\"This method train the model using the parameters sent by the\n",
        "        server on the dataset of this client. At then end, the parameters\n",
        "        of the locally trained model are communicated back to the server\"\"\"\n",
        "        print(f\"[Client {self.cid}] fit, config: {config}\")\n",
        "        # copy parameters sent by the server into client's local model\n",
        "        self.set_parameters(parameters)\n",
        "        lr, epochs = config[\"lr\"], config[\"epochs\"]\n",
        "        optim = torch.optim.SGD(self.model.parameters(), lr=lr)\n",
        "        scheduler = lr_scheduler.StepLR(optim, step_size=2, gamma=0.1)\n",
        "        criterion = torch.nn.CrossEntropyLoss()\n",
        "        # if self.cid == 0:\n",
        "        #     attacker_lr, attacker_epochs = config[\"attacker_lr\"], config[\"attacker_epochs\"]\n",
        "        #     loss, accuracy = test(self.model, self.testloader, device=self.device)\n",
        "        #     optim_G = torch.optim.SGD(self.generator.parameters(), lr=lr)\n",
        "        #     if accuracy > 60:\n",
        "        #         train(net=self.model, trainloader=self.trainloader, optim=optim, scheduler=scheduler, criterion=criterion, epochs=epochs, device=self.device)\n",
        "        #         poison_train(net=self.model, generator=self.generator, discriminator=self.discriminator, optim_G=optim_G, optim_net=optim, scheduler=scheduler, criterion=criterion, epochs=epochs, device=self.device)\n",
        "        #     else:\n",
        "        #         poison_train(net=self.model, generator=self.generator, discriminator=self.discriminator, optim_G=optim_G, optim_net=optim, scheduler=scheduler, criterion=criterion, epochs=epochs, device=self.device)\n",
        "        # else:\n",
        "        #     train(net=self.model, trainloader=self.trainloader, optim=optim, scheduler=scheduler, criterion=criterion, epochs=epochs, device=self.device)\n",
        "\n",
        "        train(net=self.model, trainloader=self.trainloader, optim=optim, scheduler=scheduler, criterion=criterion, epochs=epochs, device=self.device)\n",
        "        # return the model parameters to the server as well as extra info (number of training examples in this case)\n",
        "        return self.get_parameters({}), len(self.trainloader), {}\n",
        "\n",
        "    def evaluate(self, parameters: NDArrays, config: Dict[str, Scalar]):\n",
        "        \"\"\"Evaluate the model sent by the server on this client's\n",
        "        local validation set. Then return performance metrics.\"\"\"\n",
        "\n",
        "        self.set_parameters(parameters)\n",
        "        loss, accuracy = test(self.model, self.valloader, device=self.device)\n",
        "        print(f\"[Client {self.cid}] evaluate, config: {config}, local accuracy: {accuracy}\")\n",
        "        # send statistics back to the server\n",
        "        return float(loss), len(self.valloader), {\"accuracy\": accuracy}"
      ]
    },
    {
      "cell_type": "markdown",
      "metadata": {
        "id": "umGLQiAutiy_"
      },
      "source": [
        "Spend a few minutes to inspect the `FlowerClient` class above. Please ask questions if there is something unclear !\n",
        "\n",
        "Then keen-eyed among you might have realised that if we were to fuse the client's `fit()` and `evaluate()` methods, we'll end up with essentially the same as in the `run_centralised()` function we used in the Centralised Training part of this tutorial. And it is true!! In Federated Learning, the way clients perform local training makes use of the same principles as more traditional centralised setup. The key difference is that the dataset now is much smaller and it's never _\"seen\"_ by the entity running the FL workload (i.e. the central server).\n",
        "\n",
        "\n",
        "Talking about the central server... we should define what strategy we want to make use of so the updated models sent from the clients back to the server at the end of the `fit()` method are aggregate.\n",
        "\n",
        "\n",
        "## Choosing a Flower Strategy\n",
        "\n",
        "\n",
        "A strategy sits at the core of the Federated Learning experiment. It is involved in all stages of a FL pipeline: sampling clients; sending the _global model_ to the clients so they can do `fit()`; receive the updated models from the clients and **aggregate** these to construct a new _global model_; define and execute global or federated evaluation; and more.\n",
        "\n",
        "Flower comes with [many strategies built-in](https://github.com/adap/flower/tree/main/src/py/flwr/server/strategy) and more to be available in the next release (`1.5` already!). For this tutorial, let's use what is arguable the most popular strategy out there: `FedAvg`.\n",
        "\n",
        "The way `FedAvg` works is simple but performs surprisingly well in practice. It is therefore one good strategy to start your experimentation. `FedAvg`, as its name implies, derives a new version of the _global model_ by taking the average of all the models sent by clients participating in the round. You can read all the details [in the paper](https://arxiv.org/abs/1602.05629).\n",
        "\n",
        "Let's see how we can define `FedAvg` using Flower. We use one of the callbacks called `evaluate_fn` so we can easily evaluate the state of the global model using a small centralised testset. Note this functionality is user-defined since it requires a choice in terms of ML-framework. (if you recall, Flower is framework agnostic).\n",
        "\n",
        "> This being said, centralised evaluation of the global model is only possible if there exists a centralised dataset that somewhat follows a similar distribution as the data that's spread across clients. In some cases having such centralised dataset for validation is not possible, so the only solution is to federate the evaluation of the _global model_. This is the default behaviour in Flower. If you don't specify teh `evaluate_fn` argument in your strategy, then, centralised global evaluation won't be performed."
      ]
    },
    {
      "cell_type": "code",
      "execution_count": 9,
      "metadata": {
        "id": "BPJKeYr6tiy_"
      },
      "outputs": [],
      "source": [
        "def get_evaluate_fn(centralized_testset: Dataset):\n",
        "    \"\"\"This is a function that returns a function. The returned\n",
        "    function (i.e. `evaluate_fn`) will be executed by the strategy\n",
        "    at the end of each round to evaluate the stat of the global\n",
        "    model.\"\"\"\n",
        "\n",
        "    def evaluate_fn(server_round: int, parameters, config):\n",
        "        \"\"\"This function is executed by the strategy it will instantiate\n",
        "        a model and replace its parameters with those from the global model.\n",
        "        The, the model will be evaluate on the test set (recall this is the\n",
        "        whole MNIST test set).\"\"\"\n",
        "\n",
        "        model = Net(num_classes=10)\n",
        "\n",
        "        # Determine device\n",
        "        device = torch.device(\"cuda:0\" if torch.cuda.is_available() else \"cpu\")\n",
        "        model.to(device)  # send model to device\n",
        "\n",
        "        # set parameters to the model\n",
        "        params_dict = zip(model.state_dict().keys(), parameters)\n",
        "        state_dict = OrderedDict({k: torch.Tensor(v) for k, v in params_dict})\n",
        "        model.load_state_dict(state_dict, strict=True)\n",
        "\n",
        "        # Apply transform to dataset\n",
        "        testset = centralized_testset.with_transform(apply_transforms)\n",
        "\n",
        "        testloader = DataLoader(testset, batch_size=50)\n",
        "        # call test\n",
        "        loss, accuracy = test(model, testloader, device)\n",
        "        return loss, {\"accuracy\": accuracy}\n",
        "\n",
        "    return evaluate_fn"
      ]
    },
    {
      "cell_type": "markdown",
      "metadata": {
        "id": "UH5sW9Dttiy_"
      },
      "source": [
        "We could now define a strategy just as shown (commented) above. Instead, let's see how additional (but entirely optional) functionality can be easily added to our strategy. We are going to define two additional auxiliary functions to: (1) be able to configure how clients do local training; and (2) define a function to aggregate the metrics that clients return after running their `evaluate` methods:\n",
        "\n",
        "1. `fit_config()`. This is a function that will be executed inside the strategy when configuring a new `fit` round. This function is relatively simple and only requires as input argument the round at which the FL experiment is at. In this example we simply return a Python dictionary to specify the number of epochs and learning rate each client should made use of inside their `fit()` methods. A more versatile implementation would add more hyperparameters (e.g. the learning rate) and adjust them as the FL process advances (e.g. reducing the learning rate in later FL rounds).\n",
        "2. `weighted_average()`: This is an optional function to pass to the strategy. It will be executed after an evaluation round (i.e. when client run `evaluate()`) and will aggregate the metrics clients return. In this example, we use this function to compute the weighted average accuracy of clients doing `evaluate()`."
      ]
    },
    {
      "cell_type": "code",
      "execution_count": 10,
      "metadata": {
        "id": "uKusgaOAtiy_"
      },
      "outputs": [],
      "source": [
        "from flwr.common import Metrics, FitRes\n",
        "\n",
        "\n",
        "def fit_config(server_round: int) -> Dict[str, Scalar]:\n",
        "    \"\"\"Return a configuration with static batch size and (local) epochs.\"\"\"\n",
        "    config = {\n",
        "        \"epochs\": 10,  # Number of local epochs done by clients\n",
        "        \"lr\": 0.1,  # Learning rate to use by clients during fit()\n",
        "        \"attacker_epochs\": 20,\n",
        "        \"attacker_lr\": 0.05,\n",
        "    }\n",
        "    return config\n",
        "\n",
        "\n",
        "def weighted_average(metrics: List[Tuple[int, Metrics]]) -> Metrics:\n",
        "    \"\"\"Aggregation function for (federated) evaluation metrics, i.e. those returned by\n",
        "    the client's evaluate() method.\"\"\"\n",
        "    # Multiply accuracy of each client by number of examples used\n",
        "    accuracies = [num_examples * m[\"accuracy\"] for num_examples, m in metrics]\n",
        "    examples = [num_examples for num_examples, _ in metrics]\n",
        "\n",
        "    # Aggregate and return custom metric (weighted average)\n",
        "    return {\"accuracy\": sum(accuracies) / sum(examples)}"
      ]
    },
    {
      "cell_type": "markdown",
      "metadata": {
        "id": "4i9gHjnVtizA"
      },
      "source": [
        "Now we can define our strategy:"
      ]
    },
    {
      "cell_type": "code",
      "source": [
        "import numpy as np\n",
        "class SaveModelStrategy(fl.server.strategy.FedAvg):\n",
        "    def aggregate_fit(\n",
        "        self,\n",
        "        server_round: int,\n",
        "        results: List[Tuple[fl.server.client_proxy.ClientProxy, fl.common.FitRes]],\n",
        "        failures: List[Union[Tuple[ClientProxy, FitRes], BaseException]],\n",
        "    ) -> Tuple[Optional[Parameters], Dict[str, Scalar]]:\n",
        "        \"\"\"Aggregate model weights using weighted average and store checkpoint\"\"\"\n",
        "        model=Net(10)\n",
        "        # Call aggregate_fit from base class (FedAvg) to aggregate parameters and metrics\n",
        "        aggregated_parameters, aggregated_metrics = super().aggregate_fit(server_round, results, failures)\n",
        "\n",
        "        if aggregated_parameters is not None:\n",
        "            print(f\"Saving round {server_round} aggregated_parameters...\")\n",
        "\n",
        "            # Convert `Parameters` to `List[np.ndarray]`\n",
        "            aggregated_ndarrays: List[np.ndarray] = fl.common.parameters_to_ndarrays(aggregated_parameters)\n",
        "\n",
        "            # Convert `List[np.ndarray]` to PyTorch`state_dict`\n",
        "            params_dict = zip(model.state_dict().keys(), aggregated_ndarrays)\n",
        "            state_dict = OrderedDict({k: torch.tensor(v) for k, v in params_dict})\n",
        "            model.load_state_dict(state_dict, strict=True)\n",
        "\n",
        "            # Save the model\n",
        "            torch.save(model.state_dict(), f\"model_round_{server_round}.pth\")\n",
        "        return aggregated_parameters, aggregated_metrics"
      ],
      "metadata": {
        "id": "gIoh_OAxATO7"
      },
      "execution_count": 11,
      "outputs": []
    },
    {
      "cell_type": "code",
      "execution_count": 12,
      "metadata": {
        "id": "FpB15Xv3tizA"
      },
      "outputs": [],
      "source": [
        "strategy = SaveModelStrategy(\n",
        "    fraction_fit=0.34,  # Sample 10% of available clients for training\n",
        "    fraction_evaluate=0.34,  # Sample 5% of available clients for evaluation\n",
        "    on_fit_config_fn=fit_config,\n",
        "    evaluate_metrics_aggregation_fn=weighted_average,  # aggregates federated metrics\n",
        "    evaluate_fn=get_evaluate_fn(centralized_testset),  # global evaluation function\n",
        ")"
      ]
    },
    {
      "cell_type": "markdown",
      "metadata": {
        "id": "rLjMnyP-tizA"
      },
      "source": [
        "So far we have:\n",
        "* created the dataset partitions (one for each client)\n",
        "* defined the client class\n",
        "* decided on a strategy to use\n",
        "\n",
        "Now we just need to launch the Flower FL experiment... not so fast! just one final function: let's create another callback that the Simulation Engine will use in order to span VirtualClients. As you can see this is really simple: construct a FlowerClient object, assigning each their own data partition."
      ]
    },
    {
      "cell_type": "code",
      "execution_count": 13,
      "metadata": {
        "id": "g0HZTdGHtizA"
      },
      "outputs": [],
      "source": [
        "from torch.utils.data import DataLoader\n",
        "\n",
        "\n",
        "def get_client_fn(dataset: FederatedDataset):\n",
        "    \"\"\"Return a function to construct a client.\n",
        "\n",
        "    The VirtualClientEngine will execute this function whenever a client is sampled by\n",
        "    the strategy to participate.\n",
        "    \"\"\"\n",
        "\n",
        "    def client_fn(cid: str) -> fl.client.Client:\n",
        "        \"\"\"Construct a FlowerClient with its own dataset partition.\"\"\"\n",
        "\n",
        "        # Let's get the partition corresponding to the i-th client\n",
        "        client_dataset = dataset.load_partition(int(cid), \"train\")\n",
        "\n",
        "        # Now let's split it into train (90%) and validation (10%)\n",
        "        client_dataset_splits = client_dataset.train_test_split(test_size=0.1)\n",
        "\n",
        "        trainset = client_dataset_splits[\"train\"]\n",
        "        valset = client_dataset_splits[\"test\"]\n",
        "\n",
        "        # Now we apply the transform to each batch.\n",
        "        trainloader = DataLoader(\n",
        "            trainset.with_transform(apply_transforms), batch_size=32, shuffle=True\n",
        "        )\n",
        "        valloader = DataLoader(valset.with_transform(apply_transforms), batch_size=32)\n",
        "        testset = centralized_testset.with_transform(apply_transforms)\n",
        "\n",
        "        testloader = DataLoader(testset, batch_size=50)\n",
        "        # Create and return client\n",
        "        return FlowerClient(int(cid), trainloader, valloader, testloader)\n",
        "\n",
        "    return client_fn\n",
        "\n",
        "\n",
        "client_fn_callback = get_client_fn(mnist_fds)"
      ]
    },
    {
      "cell_type": "markdown",
      "metadata": {
        "id": "TRAALrO7tizA"
      },
      "source": [
        "Now we are ready to launch the FL experiment using Flower simulation:"
      ]
    },
    {
      "cell_type": "code",
      "execution_count": 14,
      "metadata": {
        "colab": {
          "base_uri": "https://localhost:8080/"
        },
        "outputId": "8e01bf95-b807-4c04-ef61-224b13f759b6",
        "id": "WOOq8qkUtizA"
      },
      "outputs": [
        {
          "output_type": "stream",
          "name": "stderr",
          "text": [
            "INFO flwr 2024-01-04 15:38:05,582 | app.py:178 | Starting Flower simulation, config: ServerConfig(num_rounds=10, round_timeout=None)\n",
            "INFO:flwr:Starting Flower simulation, config: ServerConfig(num_rounds=10, round_timeout=None)\n",
            "2024-01-04 15:38:11,287\tINFO worker.py:1621 -- Started a local Ray instance.\n",
            "INFO flwr 2024-01-04 15:38:14,162 | app.py:213 | Flower VCE: Ray initialized with resources: {'memory': 7670909339.0, 'node:__internal_head__': 1.0, 'GPU': 1.0, 'node:172.28.0.12': 1.0, 'object_store_memory': 3835454668.0, 'CPU': 2.0}\n",
            "INFO:flwr:Flower VCE: Ray initialized with resources: {'memory': 7670909339.0, 'node:__internal_head__': 1.0, 'GPU': 1.0, 'node:172.28.0.12': 1.0, 'object_store_memory': 3835454668.0, 'CPU': 2.0}\n",
            "INFO flwr 2024-01-04 15:38:14,168 | app.py:219 | Optimize your simulation with Flower VCE: https://flower.dev/docs/framework/how-to-run-simulations.html\n",
            "INFO:flwr:Optimize your simulation with Flower VCE: https://flower.dev/docs/framework/how-to-run-simulations.html\n",
            "INFO flwr 2024-01-04 15:38:14,173 | app.py:242 | Flower VCE: Resources for each Virtual Client: {'num_cpus': 2, 'num_gpus': 1.0}\n",
            "INFO:flwr:Flower VCE: Resources for each Virtual Client: {'num_cpus': 2, 'num_gpus': 1.0}\n",
            "INFO flwr 2024-01-04 15:38:14,239 | app.py:288 | Flower VCE: Creating VirtualClientEngineActorPool with 1 actors\n",
            "INFO:flwr:Flower VCE: Creating VirtualClientEngineActorPool with 1 actors\n",
            "INFO flwr 2024-01-04 15:38:14,246 | server.py:89 | Initializing global parameters\n",
            "INFO:flwr:Initializing global parameters\n",
            "INFO flwr 2024-01-04 15:38:14,252 | server.py:276 | Requesting initial parameters from one random client\n",
            "INFO:flwr:Requesting initial parameters from one random client\n",
            "\u001b[2m\u001b[36m(pid=25584)\u001b[0m 2024-01-04 15:38:17.233109: E external/local_xla/xla/stream_executor/cuda/cuda_dnn.cc:9261] Unable to register cuDNN factory: Attempting to register factory for plugin cuDNN when one has already been registered\n",
            "\u001b[2m\u001b[36m(pid=25584)\u001b[0m 2024-01-04 15:38:17.233170: E external/local_xla/xla/stream_executor/cuda/cuda_fft.cc:607] Unable to register cuFFT factory: Attempting to register factory for plugin cuFFT when one has already been registered\n",
            "\u001b[2m\u001b[36m(pid=25584)\u001b[0m 2024-01-04 15:38:17.237400: E external/local_xla/xla/stream_executor/cuda/cuda_blas.cc:1515] Unable to register cuBLAS factory: Attempting to register factory for plugin cuBLAS when one has already been registered\n",
            "\u001b[2m\u001b[36m(pid=25584)\u001b[0m 2024-01-04 15:38:24.979114: W tensorflow/compiler/tf2tensorrt/utils/py_utils.cc:38] TF-TRT Warning: Could not find TensorRT\n",
            "INFO flwr 2024-01-04 15:38:29,283 | server.py:280 | Received initial parameters from one random client\n",
            "INFO:flwr:Received initial parameters from one random client\n",
            "INFO flwr 2024-01-04 15:38:29,288 | server.py:91 | Evaluating initial parameters\n",
            "INFO:flwr:Evaluating initial parameters\n"
          ]
        },
        {
          "output_type": "stream",
          "name": "stdout",
          "text": [
            "\u001b[2m\u001b[36m(DefaultActor pid=25584)\u001b[0m [Client 11] get_parameters\n"
          ]
        },
        {
          "output_type": "stream",
          "name": "stderr",
          "text": [
            "INFO flwr 2024-01-04 15:38:34,654 | server.py:94 | initial parameters (loss, other metrics): 460.5218482017517, {'accuracy': 0.1156}\n",
            "INFO:flwr:initial parameters (loss, other metrics): 460.5218482017517, {'accuracy': 0.1156}\n",
            "INFO flwr 2024-01-04 15:38:34,660 | server.py:104 | FL starting\n",
            "INFO:flwr:FL starting\n",
            "DEBUG flwr 2024-01-04 15:38:34,663 | server.py:222 | fit_round 1: strategy sampled 10 clients (out of 30)\n",
            "DEBUG:flwr:fit_round 1: strategy sampled 10 clients (out of 30)\n"
          ]
        },
        {
          "output_type": "stream",
          "name": "stdout",
          "text": [
            "\u001b[2m\u001b[36m(DefaultActor pid=25584)\u001b[0m [Client 17] fit, config: {'epochs': 10, 'lr': 0.1, 'attacker_epochs': 20, 'attacker_lr': 0.05}\n",
            "\u001b[2m\u001b[36m(DefaultActor pid=25584)\u001b[0m [Client 17] get_parameters\n",
            "\u001b[2m\u001b[36m(DefaultActor pid=25584)\u001b[0m [Client 13] fit, config: {'epochs': 10, 'lr': 0.1, 'attacker_epochs': 20, 'attacker_lr': 0.05}\n",
            "\u001b[2m\u001b[36m(DefaultActor pid=25584)\u001b[0m [Client 13] get_parameters\n",
            "\u001b[2m\u001b[36m(DefaultActor pid=25584)\u001b[0m [Client 12] fit, config: {'epochs': 10, 'lr': 0.1, 'attacker_epochs': 20, 'attacker_lr': 0.05}\n",
            "\u001b[2m\u001b[36m(DefaultActor pid=25584)\u001b[0m [Client 12] get_parameters\n",
            "\u001b[2m\u001b[36m(DefaultActor pid=25584)\u001b[0m [Client 25] fit, config: {'epochs': 10, 'lr': 0.1, 'attacker_epochs': 20, 'attacker_lr': 0.05}\n",
            "\u001b[2m\u001b[36m(DefaultActor pid=25584)\u001b[0m [Client 25] get_parameters\n",
            "\u001b[2m\u001b[36m(DefaultActor pid=25584)\u001b[0m [Client 3] fit, config: {'epochs': 10, 'lr': 0.1, 'attacker_epochs': 20, 'attacker_lr': 0.05}\n",
            "\u001b[2m\u001b[36m(DefaultActor pid=25584)\u001b[0m [Client 3] get_parameters\n",
            "\u001b[2m\u001b[36m(DefaultActor pid=25584)\u001b[0m [Client 10] fit, config: {'epochs': 10, 'lr': 0.1, 'attacker_epochs': 20, 'attacker_lr': 0.05}\n",
            "\u001b[2m\u001b[36m(DefaultActor pid=25584)\u001b[0m [Client 10] get_parameters\n",
            "\u001b[2m\u001b[36m(DefaultActor pid=25584)\u001b[0m [Client 28] fit, config: {'epochs': 10, 'lr': 0.1, 'attacker_epochs': 20, 'attacker_lr': 0.05}\n",
            "\u001b[2m\u001b[36m(DefaultActor pid=25584)\u001b[0m [Client 28] get_parameters\n",
            "\u001b[2m\u001b[36m(DefaultActor pid=25584)\u001b[0m [Client 1] fit, config: {'epochs': 10, 'lr': 0.1, 'attacker_epochs': 20, 'attacker_lr': 0.05}\n",
            "\u001b[2m\u001b[36m(DefaultActor pid=25584)\u001b[0m [Client 1] get_parameters\n",
            "\u001b[2m\u001b[36m(DefaultActor pid=25584)\u001b[0m [Client 4] fit, config: {'epochs': 10, 'lr': 0.1, 'attacker_epochs': 20, 'attacker_lr': 0.05}\n",
            "\u001b[2m\u001b[36m(DefaultActor pid=25584)\u001b[0m [Client 4] get_parameters\n",
            "\u001b[2m\u001b[36m(DefaultActor pid=25584)\u001b[0m [Client 27] fit, config: {'epochs': 10, 'lr': 0.1, 'attacker_epochs': 20, 'attacker_lr': 0.05}\n"
          ]
        },
        {
          "output_type": "stream",
          "name": "stderr",
          "text": [
            "DEBUG flwr 2024-01-04 15:40:19,313 | server.py:236 | fit_round 1 received 10 results and 0 failures\n",
            "DEBUG:flwr:fit_round 1 received 10 results and 0 failures\n",
            "WARNING flwr 2024-01-04 15:40:19,398 | fedavg.py:242 | No fit_metrics_aggregation_fn provided\n",
            "WARNING:flwr:No fit_metrics_aggregation_fn provided\n"
          ]
        },
        {
          "output_type": "stream",
          "name": "stdout",
          "text": [
            "\u001b[2m\u001b[36m(DefaultActor pid=25584)\u001b[0m [Client 27] get_parameters\n",
            "Saving round 1 aggregated_parameters...\n"
          ]
        },
        {
          "output_type": "stream",
          "name": "stderr",
          "text": [
            "INFO flwr 2024-01-04 15:40:23,919 | server.py:125 | fit progress: (1, 460.49880146980286, {'accuracy': 0.101}, 109.25571350799964)\n",
            "INFO:flwr:fit progress: (1, 460.49880146980286, {'accuracy': 0.101}, 109.25571350799964)\n",
            "DEBUG flwr 2024-01-04 15:40:23,922 | server.py:173 | evaluate_round 1: strategy sampled 10 clients (out of 30)\n",
            "DEBUG:flwr:evaluate_round 1: strategy sampled 10 clients (out of 30)\n"
          ]
        },
        {
          "output_type": "stream",
          "name": "stdout",
          "text": [
            "\u001b[2m\u001b[36m(DefaultActor pid=25584)\u001b[0m [Client 19] evaluate, config: {}, local accuracy: 0.09\n",
            "\u001b[2m\u001b[36m(DefaultActor pid=25584)\u001b[0m [Client 10] evaluate, config: {}, local accuracy: 0.125\n",
            "\u001b[2m\u001b[36m(DefaultActor pid=25584)\u001b[0m [Client 26] evaluate, config: {}, local accuracy: 0.095\n",
            "\u001b[2m\u001b[36m(DefaultActor pid=25584)\u001b[0m [Client 18] evaluate, config: {}, local accuracy: 0.095\n",
            "\u001b[2m\u001b[36m(DefaultActor pid=25584)\u001b[0m [Client 12] evaluate, config: {}, local accuracy: 0.105\n",
            "\u001b[2m\u001b[36m(DefaultActor pid=25584)\u001b[0m [Client 0] evaluate, config: {}, local accuracy: 0.09\n",
            "\u001b[2m\u001b[36m(DefaultActor pid=25584)\u001b[0m [Client 28] evaluate, config: {}, local accuracy: 0.06\n",
            "\u001b[2m\u001b[36m(DefaultActor pid=25584)\u001b[0m [Client 7] evaluate, config: {}, local accuracy: 0.095\n",
            "\u001b[2m\u001b[36m(DefaultActor pid=25584)\u001b[0m [Client 20] evaluate, config: {}, local accuracy: 0.095\n"
          ]
        },
        {
          "output_type": "stream",
          "name": "stderr",
          "text": [
            "DEBUG flwr 2024-01-04 15:40:25,701 | server.py:187 | evaluate_round 1 received 10 results and 0 failures\n",
            "DEBUG:flwr:evaluate_round 1 received 10 results and 0 failures\n",
            "DEBUG flwr 2024-01-04 15:40:25,705 | server.py:222 | fit_round 2: strategy sampled 10 clients (out of 30)\n",
            "DEBUG:flwr:fit_round 2: strategy sampled 10 clients (out of 30)\n"
          ]
        },
        {
          "output_type": "stream",
          "name": "stdout",
          "text": [
            "\u001b[2m\u001b[36m(DefaultActor pid=25584)\u001b[0m [Client 4] evaluate, config: {}, local accuracy: 0.14\n",
            "\u001b[2m\u001b[36m(DefaultActor pid=25584)\u001b[0m [Client 2] fit, config: {'epochs': 10, 'lr': 0.1, 'attacker_epochs': 20, 'attacker_lr': 0.05}\n",
            "\u001b[2m\u001b[36m(DefaultActor pid=25584)\u001b[0m [Client 2] get_parameters\n",
            "\u001b[2m\u001b[36m(DefaultActor pid=25584)\u001b[0m [Client 27] fit, config: {'epochs': 10, 'lr': 0.1, 'attacker_epochs': 20, 'attacker_lr': 0.05}\n",
            "\u001b[2m\u001b[36m(DefaultActor pid=25584)\u001b[0m [Client 27] get_parameters\n",
            "\u001b[2m\u001b[36m(DefaultActor pid=25584)\u001b[0m [Client 20] fit, config: {'epochs': 10, 'lr': 0.1, 'attacker_epochs': 20, 'attacker_lr': 0.05}\n",
            "\u001b[2m\u001b[36m(DefaultActor pid=25584)\u001b[0m [Client 20] get_parameters\n",
            "\u001b[2m\u001b[36m(DefaultActor pid=25584)\u001b[0m [Client 4] fit, config: {'epochs': 10, 'lr': 0.1, 'attacker_epochs': 20, 'attacker_lr': 0.05}\n",
            "\u001b[2m\u001b[36m(DefaultActor pid=25584)\u001b[0m [Client 4] get_parameters\n",
            "\u001b[2m\u001b[36m(DefaultActor pid=25584)\u001b[0m [Client 12] fit, config: {'epochs': 10, 'lr': 0.1, 'attacker_epochs': 20, 'attacker_lr': 0.05}\n",
            "\u001b[2m\u001b[36m(DefaultActor pid=25584)\u001b[0m [Client 12] get_parameters\n",
            "\u001b[2m\u001b[36m(DefaultActor pid=25584)\u001b[0m [Client 7] fit, config: {'epochs': 10, 'lr': 0.1, 'attacker_epochs': 20, 'attacker_lr': 0.05}\n",
            "\u001b[2m\u001b[36m(DefaultActor pid=25584)\u001b[0m [Client 7] get_parameters\n",
            "\u001b[2m\u001b[36m(DefaultActor pid=25584)\u001b[0m [Client 18] fit, config: {'epochs': 10, 'lr': 0.1, 'attacker_epochs': 20, 'attacker_lr': 0.05}\n",
            "\u001b[2m\u001b[36m(DefaultActor pid=25584)\u001b[0m [Client 18] get_parameters\n",
            "\u001b[2m\u001b[36m(DefaultActor pid=25584)\u001b[0m [Client 19] fit, config: {'epochs': 10, 'lr': 0.1, 'attacker_epochs': 20, 'attacker_lr': 0.05}\n",
            "\u001b[2m\u001b[36m(DefaultActor pid=25584)\u001b[0m [Client 19] get_parameters\n",
            "\u001b[2m\u001b[36m(DefaultActor pid=25584)\u001b[0m [Client 5] fit, config: {'epochs': 10, 'lr': 0.1, 'attacker_epochs': 20, 'attacker_lr': 0.05}\n",
            "\u001b[2m\u001b[36m(DefaultActor pid=25584)\u001b[0m [Client 5] get_parameters\n",
            "\u001b[2m\u001b[36m(DefaultActor pid=25584)\u001b[0m [Client 22] fit, config: {'epochs': 10, 'lr': 0.1, 'attacker_epochs': 20, 'attacker_lr': 0.05}\n"
          ]
        },
        {
          "output_type": "stream",
          "name": "stderr",
          "text": [
            "DEBUG flwr 2024-01-04 15:42:09,792 | server.py:236 | fit_round 2 received 10 results and 0 failures\n",
            "DEBUG:flwr:fit_round 2 received 10 results and 0 failures\n"
          ]
        },
        {
          "output_type": "stream",
          "name": "stdout",
          "text": [
            "\u001b[2m\u001b[36m(DefaultActor pid=25584)\u001b[0m [Client 22] get_parameters\n",
            "Saving round 2 aggregated_parameters...\n"
          ]
        },
        {
          "output_type": "stream",
          "name": "stderr",
          "text": [
            "INFO flwr 2024-01-04 15:42:14,684 | server.py:125 | fit progress: (2, 460.4693841934204, {'accuracy': 0.1135}, 220.02118592999977)\n",
            "INFO:flwr:fit progress: (2, 460.4693841934204, {'accuracy': 0.1135}, 220.02118592999977)\n",
            "DEBUG flwr 2024-01-04 15:42:14,691 | server.py:173 | evaluate_round 2: strategy sampled 10 clients (out of 30)\n",
            "DEBUG:flwr:evaluate_round 2: strategy sampled 10 clients (out of 30)\n"
          ]
        },
        {
          "output_type": "stream",
          "name": "stdout",
          "text": [
            "\u001b[2m\u001b[36m(DefaultActor pid=25584)\u001b[0m [Client 26] evaluate, config: {}, local accuracy: 0.13\n",
            "\u001b[2m\u001b[36m(DefaultActor pid=25584)\u001b[0m [Client 13] evaluate, config: {}, local accuracy: 0.12\n",
            "\u001b[2m\u001b[36m(DefaultActor pid=25584)\u001b[0m [Client 16] evaluate, config: {}, local accuracy: 0.1\n",
            "\u001b[2m\u001b[36m(DefaultActor pid=25584)\u001b[0m [Client 8] evaluate, config: {}, local accuracy: 0.07\n",
            "\u001b[2m\u001b[36m(DefaultActor pid=25584)\u001b[0m [Client 2] evaluate, config: {}, local accuracy: 0.05\n",
            "\u001b[2m\u001b[36m(DefaultActor pid=25584)\u001b[0m [Client 0] evaluate, config: {}, local accuracy: 0.14\n",
            "\u001b[2m\u001b[36m(DefaultActor pid=25584)\u001b[0m [Client 6] evaluate, config: {}, local accuracy: 0.105\n",
            "\u001b[2m\u001b[36m(DefaultActor pid=25584)\u001b[0m [Client 14] evaluate, config: {}, local accuracy: 0.12\n"
          ]
        },
        {
          "output_type": "stream",
          "name": "stderr",
          "text": [
            "DEBUG flwr 2024-01-04 15:42:16,421 | server.py:187 | evaluate_round 2 received 10 results and 0 failures\n",
            "DEBUG:flwr:evaluate_round 2 received 10 results and 0 failures\n",
            "DEBUG flwr 2024-01-04 15:42:16,424 | server.py:222 | fit_round 3: strategy sampled 10 clients (out of 30)\n",
            "DEBUG:flwr:fit_round 3: strategy sampled 10 clients (out of 30)\n"
          ]
        },
        {
          "output_type": "stream",
          "name": "stdout",
          "text": [
            "\u001b[2m\u001b[36m(DefaultActor pid=25584)\u001b[0m [Client 5] evaluate, config: {}, local accuracy: 0.11\n",
            "\u001b[2m\u001b[36m(DefaultActor pid=25584)\u001b[0m [Client 3] evaluate, config: {}, local accuracy: 0.115\n",
            "\u001b[2m\u001b[36m(DefaultActor pid=25584)\u001b[0m [Client 27] fit, config: {'epochs': 10, 'lr': 0.1, 'attacker_epochs': 20, 'attacker_lr': 0.05}\n",
            "\u001b[2m\u001b[36m(DefaultActor pid=25584)\u001b[0m [Client 27] get_parameters\n",
            "\u001b[2m\u001b[36m(DefaultActor pid=25584)\u001b[0m [Client 4] fit, config: {'epochs': 10, 'lr': 0.1, 'attacker_epochs': 20, 'attacker_lr': 0.05}\n",
            "\u001b[2m\u001b[36m(DefaultActor pid=25584)\u001b[0m [Client 4] get_parameters\n",
            "\u001b[2m\u001b[36m(DefaultActor pid=25584)\u001b[0m [Client 11] fit, config: {'epochs': 10, 'lr': 0.1, 'attacker_epochs': 20, 'attacker_lr': 0.05}\n",
            "\u001b[2m\u001b[36m(DefaultActor pid=25584)\u001b[0m [Client 11] get_parameters\n",
            "\u001b[2m\u001b[36m(DefaultActor pid=25584)\u001b[0m [Client 9] fit, config: {'epochs': 10, 'lr': 0.1, 'attacker_epochs': 20, 'attacker_lr': 0.05}\n",
            "\u001b[2m\u001b[36m(DefaultActor pid=25584)\u001b[0m [Client 9] get_parameters\n",
            "\u001b[2m\u001b[36m(DefaultActor pid=25584)\u001b[0m [Client 18] fit, config: {'epochs': 10, 'lr': 0.1, 'attacker_epochs': 20, 'attacker_lr': 0.05}\n",
            "\u001b[2m\u001b[36m(DefaultActor pid=25584)\u001b[0m [Client 18] get_parameters\n",
            "\u001b[2m\u001b[36m(DefaultActor pid=25584)\u001b[0m [Client 5] fit, config: {'epochs': 10, 'lr': 0.1, 'attacker_epochs': 20, 'attacker_lr': 0.05}\n",
            "\u001b[2m\u001b[36m(DefaultActor pid=25584)\u001b[0m [Client 5] get_parameters\n",
            "\u001b[2m\u001b[36m(DefaultActor pid=25584)\u001b[0m [Client 22] fit, config: {'epochs': 10, 'lr': 0.1, 'attacker_epochs': 20, 'attacker_lr': 0.05}\n",
            "\u001b[2m\u001b[36m(DefaultActor pid=25584)\u001b[0m [Client 22] get_parameters\n",
            "\u001b[2m\u001b[36m(DefaultActor pid=25584)\u001b[0m [Client 16] fit, config: {'epochs': 10, 'lr': 0.1, 'attacker_epochs': 20, 'attacker_lr': 0.05}\n",
            "\u001b[2m\u001b[36m(DefaultActor pid=25584)\u001b[0m [Client 16] get_parameters\n",
            "\u001b[2m\u001b[36m(DefaultActor pid=25584)\u001b[0m [Client 15] fit, config: {'epochs': 10, 'lr': 0.1, 'attacker_epochs': 20, 'attacker_lr': 0.05}\n",
            "\u001b[2m\u001b[36m(DefaultActor pid=25584)\u001b[0m [Client 15] get_parameters\n",
            "\u001b[2m\u001b[36m(DefaultActor pid=25584)\u001b[0m [Client 6] fit, config: {'epochs': 10, 'lr': 0.1, 'attacker_epochs': 20, 'attacker_lr': 0.05}\n"
          ]
        },
        {
          "output_type": "stream",
          "name": "stderr",
          "text": [
            "DEBUG flwr 2024-01-04 15:43:59,006 | server.py:236 | fit_round 3 received 10 results and 0 failures\n",
            "DEBUG:flwr:fit_round 3 received 10 results and 0 failures\n"
          ]
        },
        {
          "output_type": "stream",
          "name": "stdout",
          "text": [
            "\u001b[2m\u001b[36m(DefaultActor pid=25584)\u001b[0m [Client 6] get_parameters\n",
            "Saving round 3 aggregated_parameters...\n"
          ]
        },
        {
          "output_type": "stream",
          "name": "stderr",
          "text": [
            "INFO flwr 2024-01-04 15:44:05,037 | server.py:125 | fit progress: (3, 460.43441677093506, {'accuracy': 0.1135}, 330.3738946129997)\n",
            "INFO:flwr:fit progress: (3, 460.43441677093506, {'accuracy': 0.1135}, 330.3738946129997)\n",
            "DEBUG flwr 2024-01-04 15:44:05,042 | server.py:173 | evaluate_round 3: strategy sampled 10 clients (out of 30)\n",
            "DEBUG:flwr:evaluate_round 3: strategy sampled 10 clients (out of 30)\n"
          ]
        },
        {
          "output_type": "stream",
          "name": "stdout",
          "text": [
            "\u001b[2m\u001b[36m(DefaultActor pid=25584)\u001b[0m [Client 0] evaluate, config: {}, local accuracy: 0.085\n",
            "\u001b[2m\u001b[36m(DefaultActor pid=25584)\u001b[0m [Client 1] evaluate, config: {}, local accuracy: 0.115\n",
            "\u001b[2m\u001b[36m(DefaultActor pid=25584)\u001b[0m [Client 16] evaluate, config: {}, local accuracy: 0.115\n",
            "\u001b[2m\u001b[36m(DefaultActor pid=25584)\u001b[0m [Client 11] evaluate, config: {}, local accuracy: 0.13\n",
            "\u001b[2m\u001b[36m(DefaultActor pid=25584)\u001b[0m [Client 19] evaluate, config: {}, local accuracy: 0.11\n",
            "\u001b[2m\u001b[36m(DefaultActor pid=25584)\u001b[0m [Client 8] evaluate, config: {}, local accuracy: 0.14\n",
            "\u001b[2m\u001b[36m(DefaultActor pid=25584)\u001b[0m [Client 3] evaluate, config: {}, local accuracy: 0.145\n",
            "\u001b[2m\u001b[36m(DefaultActor pid=25584)\u001b[0m [Client 28] evaluate, config: {}, local accuracy: 0.115\n",
            "\u001b[2m\u001b[36m(DefaultActor pid=25584)\u001b[0m [Client 9] evaluate, config: {}, local accuracy: 0.14\n"
          ]
        },
        {
          "output_type": "stream",
          "name": "stderr",
          "text": [
            "DEBUG flwr 2024-01-04 15:44:06,796 | server.py:187 | evaluate_round 3 received 10 results and 0 failures\n",
            "DEBUG:flwr:evaluate_round 3 received 10 results and 0 failures\n",
            "DEBUG flwr 2024-01-04 15:44:06,800 | server.py:222 | fit_round 4: strategy sampled 10 clients (out of 30)\n",
            "DEBUG:flwr:fit_round 4: strategy sampled 10 clients (out of 30)\n"
          ]
        },
        {
          "output_type": "stream",
          "name": "stdout",
          "text": [
            "\u001b[2m\u001b[36m(DefaultActor pid=25584)\u001b[0m [Client 22] evaluate, config: {}, local accuracy: 0.15\n",
            "\u001b[2m\u001b[36m(DefaultActor pid=25584)\u001b[0m [Client 10] fit, config: {'epochs': 10, 'lr': 0.1, 'attacker_epochs': 20, 'attacker_lr': 0.05}\n",
            "\u001b[2m\u001b[36m(DefaultActor pid=25584)\u001b[0m [Client 10] get_parameters\n",
            "\u001b[2m\u001b[36m(DefaultActor pid=25584)\u001b[0m [Client 24] fit, config: {'epochs': 10, 'lr': 0.1, 'attacker_epochs': 20, 'attacker_lr': 0.05}\n",
            "\u001b[2m\u001b[36m(DefaultActor pid=25584)\u001b[0m [Client 24] get_parameters\n",
            "\u001b[2m\u001b[36m(DefaultActor pid=25584)\u001b[0m [Client 8] fit, config: {'epochs': 10, 'lr': 0.1, 'attacker_epochs': 20, 'attacker_lr': 0.05}\n",
            "\u001b[2m\u001b[36m(DefaultActor pid=25584)\u001b[0m [Client 8] get_parameters\n",
            "\u001b[2m\u001b[36m(DefaultActor pid=25584)\u001b[0m [Client 26] fit, config: {'epochs': 10, 'lr': 0.1, 'attacker_epochs': 20, 'attacker_lr': 0.05}\n",
            "\u001b[2m\u001b[36m(DefaultActor pid=25584)\u001b[0m [Client 26] get_parameters\n",
            "\u001b[2m\u001b[36m(DefaultActor pid=25584)\u001b[0m [Client 11] fit, config: {'epochs': 10, 'lr': 0.1, 'attacker_epochs': 20, 'attacker_lr': 0.05}\n",
            "\u001b[2m\u001b[36m(DefaultActor pid=25584)\u001b[0m [Client 11] get_parameters\n",
            "\u001b[2m\u001b[36m(DefaultActor pid=25584)\u001b[0m [Client 27] fit, config: {'epochs': 10, 'lr': 0.1, 'attacker_epochs': 20, 'attacker_lr': 0.05}\n",
            "\u001b[2m\u001b[36m(DefaultActor pid=25584)\u001b[0m [Client 27] get_parameters\n",
            "\u001b[2m\u001b[36m(DefaultActor pid=25584)\u001b[0m [Client 21] fit, config: {'epochs': 10, 'lr': 0.1, 'attacker_epochs': 20, 'attacker_lr': 0.05}\n",
            "\u001b[2m\u001b[36m(DefaultActor pid=25584)\u001b[0m [Client 21] get_parameters\n",
            "\u001b[2m\u001b[36m(DefaultActor pid=25584)\u001b[0m [Client 2] fit, config: {'epochs': 10, 'lr': 0.1, 'attacker_epochs': 20, 'attacker_lr': 0.05}\n",
            "\u001b[2m\u001b[36m(DefaultActor pid=25584)\u001b[0m [Client 2] get_parameters\n",
            "\u001b[2m\u001b[36m(DefaultActor pid=25584)\u001b[0m [Client 9] fit, config: {'epochs': 10, 'lr': 0.1, 'attacker_epochs': 20, 'attacker_lr': 0.05}\n",
            "\u001b[2m\u001b[36m(DefaultActor pid=25584)\u001b[0m [Client 9] get_parameters\n",
            "\u001b[2m\u001b[36m(DefaultActor pid=25584)\u001b[0m [Client 15] fit, config: {'epochs': 10, 'lr': 0.1, 'attacker_epochs': 20, 'attacker_lr': 0.05}\n"
          ]
        },
        {
          "output_type": "stream",
          "name": "stderr",
          "text": [
            "DEBUG flwr 2024-01-04 15:45:48,964 | server.py:236 | fit_round 4 received 10 results and 0 failures\n",
            "DEBUG:flwr:fit_round 4 received 10 results and 0 failures\n"
          ]
        },
        {
          "output_type": "stream",
          "name": "stdout",
          "text": [
            "\u001b[2m\u001b[36m(DefaultActor pid=25584)\u001b[0m [Client 15] get_parameters\n",
            "Saving round 4 aggregated_parameters...\n"
          ]
        },
        {
          "output_type": "stream",
          "name": "stderr",
          "text": [
            "INFO flwr 2024-01-04 15:45:53,774 | server.py:125 | fit progress: (4, 460.37595772743225, {'accuracy': 0.1136}, 439.1113975149992)\n",
            "INFO:flwr:fit progress: (4, 460.37595772743225, {'accuracy': 0.1136}, 439.1113975149992)\n",
            "DEBUG flwr 2024-01-04 15:45:53,783 | server.py:173 | evaluate_round 4: strategy sampled 10 clients (out of 30)\n",
            "DEBUG:flwr:evaluate_round 4: strategy sampled 10 clients (out of 30)\n"
          ]
        },
        {
          "output_type": "stream",
          "name": "stdout",
          "text": [
            "\u001b[2m\u001b[36m(DefaultActor pid=25584)\u001b[0m [Client 23] evaluate, config: {}, local accuracy: 0.145\n",
            "\u001b[2m\u001b[36m(DefaultActor pid=25584)\u001b[0m [Client 19] evaluate, config: {}, local accuracy: 0.1\n",
            "\u001b[2m\u001b[36m(DefaultActor pid=25584)\u001b[0m [Client 26] evaluate, config: {}, local accuracy: 0.085\n",
            "\u001b[2m\u001b[36m(DefaultActor pid=25584)\u001b[0m [Client 16] evaluate, config: {}, local accuracy: 0.11\n",
            "\u001b[2m\u001b[36m(DefaultActor pid=25584)\u001b[0m [Client 5] evaluate, config: {}, local accuracy: 0.085\n",
            "\u001b[2m\u001b[36m(DefaultActor pid=25584)\u001b[0m [Client 12] evaluate, config: {}, local accuracy: 0.11\n",
            "\u001b[2m\u001b[36m(DefaultActor pid=25584)\u001b[0m [Client 22] evaluate, config: {}, local accuracy: 0.14\n",
            "\u001b[2m\u001b[36m(DefaultActor pid=25584)\u001b[0m [Client 10] evaluate, config: {}, local accuracy: 0.075\n",
            "\u001b[2m\u001b[36m(DefaultActor pid=25584)\u001b[0m [Client 17] evaluate, config: {}, local accuracy: 0.11\n"
          ]
        },
        {
          "output_type": "stream",
          "name": "stderr",
          "text": [
            "DEBUG flwr 2024-01-04 15:45:56,329 | server.py:187 | evaluate_round 4 received 10 results and 0 failures\n",
            "DEBUG:flwr:evaluate_round 4 received 10 results and 0 failures\n",
            "DEBUG flwr 2024-01-04 15:45:56,332 | server.py:222 | fit_round 5: strategy sampled 10 clients (out of 30)\n",
            "DEBUG:flwr:fit_round 5: strategy sampled 10 clients (out of 30)\n"
          ]
        },
        {
          "output_type": "stream",
          "name": "stdout",
          "text": [
            "\u001b[2m\u001b[36m(DefaultActor pid=25584)\u001b[0m [Client 28] evaluate, config: {}, local accuracy: 0.125\n",
            "\u001b[2m\u001b[36m(DefaultActor pid=25584)\u001b[0m [Client 11] fit, config: {'epochs': 10, 'lr': 0.1, 'attacker_epochs': 20, 'attacker_lr': 0.05}\n",
            "\u001b[2m\u001b[36m(DefaultActor pid=25584)\u001b[0m [Client 11] get_parameters\n",
            "\u001b[2m\u001b[36m(DefaultActor pid=25584)\u001b[0m [Client 8] fit, config: {'epochs': 10, 'lr': 0.1, 'attacker_epochs': 20, 'attacker_lr': 0.05}\n",
            "\u001b[2m\u001b[36m(DefaultActor pid=25584)\u001b[0m [Client 8] get_parameters\n",
            "\u001b[2m\u001b[36m(DefaultActor pid=25584)\u001b[0m [Client 26] fit, config: {'epochs': 10, 'lr': 0.1, 'attacker_epochs': 20, 'attacker_lr': 0.05}\n",
            "\u001b[2m\u001b[36m(DefaultActor pid=25584)\u001b[0m [Client 26] get_parameters\n",
            "\u001b[2m\u001b[36m(DefaultActor pid=25584)\u001b[0m [Client 14] fit, config: {'epochs': 10, 'lr': 0.1, 'attacker_epochs': 20, 'attacker_lr': 0.05}\n",
            "\u001b[2m\u001b[36m(DefaultActor pid=25584)\u001b[0m [Client 14] get_parameters\n",
            "\u001b[2m\u001b[36m(DefaultActor pid=25584)\u001b[0m [Client 21] fit, config: {'epochs': 10, 'lr': 0.1, 'attacker_epochs': 20, 'attacker_lr': 0.05}\n",
            "\u001b[2m\u001b[36m(DefaultActor pid=25584)\u001b[0m [Client 21] get_parameters\n",
            "\u001b[2m\u001b[36m(DefaultActor pid=25584)\u001b[0m [Client 15] fit, config: {'epochs': 10, 'lr': 0.1, 'attacker_epochs': 20, 'attacker_lr': 0.05}\n",
            "\u001b[2m\u001b[36m(DefaultActor pid=25584)\u001b[0m [Client 15] get_parameters\n",
            "\u001b[2m\u001b[36m(DefaultActor pid=25584)\u001b[0m [Client 27] fit, config: {'epochs': 10, 'lr': 0.1, 'attacker_epochs': 20, 'attacker_lr': 0.05}\n",
            "\u001b[2m\u001b[36m(DefaultActor pid=25584)\u001b[0m [Client 27] get_parameters\n",
            "\u001b[2m\u001b[36m(DefaultActor pid=25584)\u001b[0m [Client 18] fit, config: {'epochs': 10, 'lr': 0.1, 'attacker_epochs': 20, 'attacker_lr': 0.05}\n",
            "\u001b[2m\u001b[36m(DefaultActor pid=25584)\u001b[0m [Client 18] get_parameters\n",
            "\u001b[2m\u001b[36m(DefaultActor pid=25584)\u001b[0m [Client 0] fit, config: {'epochs': 10, 'lr': 0.1, 'attacker_epochs': 20, 'attacker_lr': 0.05}\n",
            "\u001b[2m\u001b[36m(DefaultActor pid=25584)\u001b[0m [Client 0] get_parameters\n",
            "\u001b[2m\u001b[36m(DefaultActor pid=25584)\u001b[0m [Client 13] fit, config: {'epochs': 10, 'lr': 0.1, 'attacker_epochs': 20, 'attacker_lr': 0.05}\n"
          ]
        },
        {
          "output_type": "stream",
          "name": "stderr",
          "text": [
            "DEBUG flwr 2024-01-04 15:47:38,352 | server.py:236 | fit_round 5 received 10 results and 0 failures\n",
            "DEBUG:flwr:fit_round 5 received 10 results and 0 failures\n"
          ]
        },
        {
          "output_type": "stream",
          "name": "stdout",
          "text": [
            "Saving round 5 aggregated_parameters...\n",
            "\u001b[2m\u001b[36m(DefaultActor pid=25584)\u001b[0m [Client 13] get_parameters\n"
          ]
        },
        {
          "output_type": "stream",
          "name": "stderr",
          "text": [
            "INFO flwr 2024-01-04 15:47:42,952 | server.py:125 | fit progress: (5, 460.236576795578, {'accuracy': 0.1534}, 548.2890384579996)\n",
            "INFO:flwr:fit progress: (5, 460.236576795578, {'accuracy': 0.1534}, 548.2890384579996)\n",
            "DEBUG flwr 2024-01-04 15:47:42,959 | server.py:173 | evaluate_round 5: strategy sampled 10 clients (out of 30)\n",
            "DEBUG:flwr:evaluate_round 5: strategy sampled 10 clients (out of 30)\n"
          ]
        },
        {
          "output_type": "stream",
          "name": "stdout",
          "text": [
            "\u001b[2m\u001b[36m(DefaultActor pid=25584)\u001b[0m [Client 20] evaluate, config: {}, local accuracy: 0.135\n",
            "\u001b[2m\u001b[36m(DefaultActor pid=25584)\u001b[0m [Client 0] evaluate, config: {}, local accuracy: 0.15\n",
            "\u001b[2m\u001b[36m(DefaultActor pid=25584)\u001b[0m [Client 8] evaluate, config: {}, local accuracy: 0.15\n",
            "\u001b[2m\u001b[36m(DefaultActor pid=25584)\u001b[0m [Client 23] evaluate, config: {}, local accuracy: 0.13\n",
            "\u001b[2m\u001b[36m(DefaultActor pid=25584)\u001b[0m [Client 10] evaluate, config: {}, local accuracy: 0.125\n",
            "\u001b[2m\u001b[36m(DefaultActor pid=25584)\u001b[0m [Client 25] evaluate, config: {}, local accuracy: 0.095\n",
            "\u001b[2m\u001b[36m(DefaultActor pid=25584)\u001b[0m [Client 27] evaluate, config: {}, local accuracy: 0.165\n",
            "\u001b[2m\u001b[36m(DefaultActor pid=25584)\u001b[0m [Client 11] evaluate, config: {}, local accuracy: 0.16\n",
            "\u001b[2m\u001b[36m(DefaultActor pid=25584)\u001b[0m [Client 6] evaluate, config: {}, local accuracy: 0.15\n"
          ]
        },
        {
          "output_type": "stream",
          "name": "stderr",
          "text": [
            "DEBUG flwr 2024-01-04 15:47:44,663 | server.py:187 | evaluate_round 5 received 10 results and 0 failures\n",
            "DEBUG:flwr:evaluate_round 5 received 10 results and 0 failures\n",
            "DEBUG flwr 2024-01-04 15:47:44,670 | server.py:222 | fit_round 6: strategy sampled 10 clients (out of 30)\n",
            "DEBUG:flwr:fit_round 6: strategy sampled 10 clients (out of 30)\n"
          ]
        },
        {
          "output_type": "stream",
          "name": "stdout",
          "text": [
            "\u001b[2m\u001b[36m(DefaultActor pid=25584)\u001b[0m [Client 4] evaluate, config: {}, local accuracy: 0.13\n",
            "\u001b[2m\u001b[36m(DefaultActor pid=25584)\u001b[0m [Client 15] fit, config: {'epochs': 10, 'lr': 0.1, 'attacker_epochs': 20, 'attacker_lr': 0.05}\n",
            "\u001b[2m\u001b[36m(DefaultActor pid=25584)\u001b[0m [Client 15] get_parameters\n",
            "\u001b[2m\u001b[36m(DefaultActor pid=25584)\u001b[0m [Client 13] fit, config: {'epochs': 10, 'lr': 0.1, 'attacker_epochs': 20, 'attacker_lr': 0.05}\n",
            "\u001b[2m\u001b[36m(DefaultActor pid=25584)\u001b[0m [Client 13] get_parameters\n",
            "\u001b[2m\u001b[36m(DefaultActor pid=25584)\u001b[0m [Client 23] fit, config: {'epochs': 10, 'lr': 0.1, 'attacker_epochs': 20, 'attacker_lr': 0.05}\n",
            "\u001b[2m\u001b[36m(DefaultActor pid=25584)\u001b[0m [Client 23] get_parameters\n",
            "\u001b[2m\u001b[36m(DefaultActor pid=25584)\u001b[0m [Client 14] fit, config: {'epochs': 10, 'lr': 0.1, 'attacker_epochs': 20, 'attacker_lr': 0.05}\n",
            "\u001b[2m\u001b[36m(DefaultActor pid=25584)\u001b[0m [Client 14] get_parameters\n",
            "\u001b[2m\u001b[36m(DefaultActor pid=25584)\u001b[0m [Client 12] fit, config: {'epochs': 10, 'lr': 0.1, 'attacker_epochs': 20, 'attacker_lr': 0.05}\n",
            "\u001b[2m\u001b[36m(DefaultActor pid=25584)\u001b[0m [Client 12] get_parameters\n",
            "\u001b[2m\u001b[36m(DefaultActor pid=25584)\u001b[0m [Client 4] fit, config: {'epochs': 10, 'lr': 0.1, 'attacker_epochs': 20, 'attacker_lr': 0.05}\n",
            "\u001b[2m\u001b[36m(DefaultActor pid=25584)\u001b[0m [Client 4] get_parameters\n",
            "\u001b[2m\u001b[36m(DefaultActor pid=25584)\u001b[0m [Client 19] fit, config: {'epochs': 10, 'lr': 0.1, 'attacker_epochs': 20, 'attacker_lr': 0.05}\n",
            "\u001b[2m\u001b[36m(DefaultActor pid=25584)\u001b[0m [Client 19] get_parameters\n",
            "\u001b[2m\u001b[36m(DefaultActor pid=25584)\u001b[0m [Client 2] fit, config: {'epochs': 10, 'lr': 0.1, 'attacker_epochs': 20, 'attacker_lr': 0.05}\n",
            "\u001b[2m\u001b[36m(DefaultActor pid=25584)\u001b[0m [Client 2] get_parameters\n",
            "\u001b[2m\u001b[36m(DefaultActor pid=25584)\u001b[0m [Client 0] fit, config: {'epochs': 10, 'lr': 0.1, 'attacker_epochs': 20, 'attacker_lr': 0.05}\n",
            "\u001b[2m\u001b[36m(DefaultActor pid=25584)\u001b[0m [Client 0] get_parameters\n",
            "\u001b[2m\u001b[36m(DefaultActor pid=25584)\u001b[0m [Client 24] fit, config: {'epochs': 10, 'lr': 0.1, 'attacker_epochs': 20, 'attacker_lr': 0.05}\n"
          ]
        },
        {
          "output_type": "stream",
          "name": "stderr",
          "text": [
            "DEBUG flwr 2024-01-04 15:49:27,444 | server.py:236 | fit_round 6 received 10 results and 0 failures\n",
            "DEBUG:flwr:fit_round 6 received 10 results and 0 failures\n"
          ]
        },
        {
          "output_type": "stream",
          "name": "stdout",
          "text": [
            "\u001b[2m\u001b[36m(DefaultActor pid=25584)\u001b[0m [Client 24] get_parameters\n",
            "Saving round 6 aggregated_parameters...\n"
          ]
        },
        {
          "output_type": "stream",
          "name": "stderr",
          "text": [
            "INFO flwr 2024-01-04 15:49:32,716 | server.py:125 | fit progress: (6, 458.86004161834717, {'accuracy': 0.1176}, 658.0526377009992)\n",
            "INFO:flwr:fit progress: (6, 458.86004161834717, {'accuracy': 0.1176}, 658.0526377009992)\n",
            "DEBUG flwr 2024-01-04 15:49:32,719 | server.py:173 | evaluate_round 6: strategy sampled 10 clients (out of 30)\n",
            "DEBUG:flwr:evaluate_round 6: strategy sampled 10 clients (out of 30)\n"
          ]
        },
        {
          "output_type": "stream",
          "name": "stdout",
          "text": [
            "\u001b[2m\u001b[36m(DefaultActor pid=25584)\u001b[0m [Client 4] evaluate, config: {}, local accuracy: 0.115\n",
            "\u001b[2m\u001b[36m(DefaultActor pid=25584)\u001b[0m [Client 15] evaluate, config: {}, local accuracy: 0.065\n",
            "\u001b[2m\u001b[36m(DefaultActor pid=25584)\u001b[0m [Client 13] evaluate, config: {}, local accuracy: 0.115\n",
            "\u001b[2m\u001b[36m(DefaultActor pid=25584)\u001b[0m [Client 18] evaluate, config: {}, local accuracy: 0.145\n",
            "\u001b[2m\u001b[36m(DefaultActor pid=25584)\u001b[0m [Client 14] evaluate, config: {}, local accuracy: 0.09\n",
            "\u001b[2m\u001b[36m(DefaultActor pid=25584)\u001b[0m [Client 5] evaluate, config: {}, local accuracy: 0.11\n",
            "\u001b[2m\u001b[36m(DefaultActor pid=25584)\u001b[0m [Client 0] evaluate, config: {}, local accuracy: 0.08\n",
            "\u001b[2m\u001b[36m(DefaultActor pid=25584)\u001b[0m [Client 6] evaluate, config: {}, local accuracy: 0.11\n",
            "\u001b[2m\u001b[36m(DefaultActor pid=25584)\u001b[0m [Client 29] evaluate, config: {}, local accuracy: 0.065\n"
          ]
        },
        {
          "output_type": "stream",
          "name": "stderr",
          "text": [
            "DEBUG flwr 2024-01-04 15:49:34,424 | server.py:187 | evaluate_round 6 received 10 results and 0 failures\n",
            "DEBUG:flwr:evaluate_round 6 received 10 results and 0 failures\n",
            "DEBUG flwr 2024-01-04 15:49:34,429 | server.py:222 | fit_round 7: strategy sampled 10 clients (out of 30)\n",
            "DEBUG:flwr:fit_round 7: strategy sampled 10 clients (out of 30)\n"
          ]
        },
        {
          "output_type": "stream",
          "name": "stdout",
          "text": [
            "\u001b[2m\u001b[36m(DefaultActor pid=25584)\u001b[0m [Client 1] evaluate, config: {}, local accuracy: 0.095\n",
            "\u001b[2m\u001b[36m(DefaultActor pid=25584)\u001b[0m [Client 3] fit, config: {'epochs': 10, 'lr': 0.1, 'attacker_epochs': 20, 'attacker_lr': 0.05}\n",
            "\u001b[2m\u001b[36m(DefaultActor pid=25584)\u001b[0m [Client 3] get_parameters\n",
            "\u001b[2m\u001b[36m(DefaultActor pid=25584)\u001b[0m [Client 10] fit, config: {'epochs': 10, 'lr': 0.1, 'attacker_epochs': 20, 'attacker_lr': 0.05}\n",
            "\u001b[2m\u001b[36m(DefaultActor pid=25584)\u001b[0m [Client 10] get_parameters\n",
            "\u001b[2m\u001b[36m(DefaultActor pid=25584)\u001b[0m [Client 4] fit, config: {'epochs': 10, 'lr': 0.1, 'attacker_epochs': 20, 'attacker_lr': 0.05}\n",
            "\u001b[2m\u001b[36m(DefaultActor pid=25584)\u001b[0m [Client 4] get_parameters\n",
            "\u001b[2m\u001b[36m(DefaultActor pid=25584)\u001b[0m [Client 11] fit, config: {'epochs': 10, 'lr': 0.1, 'attacker_epochs': 20, 'attacker_lr': 0.05}\n",
            "\u001b[2m\u001b[36m(DefaultActor pid=25584)\u001b[0m [Client 11] get_parameters\n",
            "\u001b[2m\u001b[36m(DefaultActor pid=25584)\u001b[0m [Client 23] fit, config: {'epochs': 10, 'lr': 0.1, 'attacker_epochs': 20, 'attacker_lr': 0.05}\n",
            "\u001b[2m\u001b[36m(DefaultActor pid=25584)\u001b[0m [Client 23] get_parameters\n",
            "\u001b[2m\u001b[36m(DefaultActor pid=25584)\u001b[0m [Client 6] fit, config: {'epochs': 10, 'lr': 0.1, 'attacker_epochs': 20, 'attacker_lr': 0.05}\n",
            "\u001b[2m\u001b[36m(DefaultActor pid=25584)\u001b[0m [Client 6] get_parameters\n",
            "\u001b[2m\u001b[36m(DefaultActor pid=25584)\u001b[0m [Client 26] fit, config: {'epochs': 10, 'lr': 0.1, 'attacker_epochs': 20, 'attacker_lr': 0.05}\n",
            "\u001b[2m\u001b[36m(DefaultActor pid=25584)\u001b[0m [Client 26] get_parameters\n",
            "\u001b[2m\u001b[36m(DefaultActor pid=25584)\u001b[0m [Client 5] fit, config: {'epochs': 10, 'lr': 0.1, 'attacker_epochs': 20, 'attacker_lr': 0.05}\n",
            "\u001b[2m\u001b[36m(DefaultActor pid=25584)\u001b[0m [Client 5] get_parameters\n",
            "\u001b[2m\u001b[36m(DefaultActor pid=25584)\u001b[0m [Client 22] fit, config: {'epochs': 10, 'lr': 0.1, 'attacker_epochs': 20, 'attacker_lr': 0.05}\n",
            "\u001b[2m\u001b[36m(DefaultActor pid=25584)\u001b[0m [Client 22] get_parameters\n",
            "\u001b[2m\u001b[36m(DefaultActor pid=25584)\u001b[0m [Client 0] fit, config: {'epochs': 10, 'lr': 0.1, 'attacker_epochs': 20, 'attacker_lr': 0.05}\n"
          ]
        },
        {
          "output_type": "stream",
          "name": "stderr",
          "text": [
            "DEBUG flwr 2024-01-04 15:51:15,668 | server.py:236 | fit_round 7 received 10 results and 0 failures\n",
            "DEBUG:flwr:fit_round 7 received 10 results and 0 failures\n"
          ]
        },
        {
          "output_type": "stream",
          "name": "stdout",
          "text": [
            "\u001b[2m\u001b[36m(DefaultActor pid=25584)\u001b[0m [Client 0] get_parameters\n",
            "Saving round 7 aggregated_parameters...\n"
          ]
        },
        {
          "output_type": "stream",
          "name": "stderr",
          "text": [
            "INFO flwr 2024-01-04 15:51:20,994 | server.py:125 | fit progress: (7, 366.50720512866974, {'accuracy': 0.6263}, 766.3305410769999)\n",
            "INFO:flwr:fit progress: (7, 366.50720512866974, {'accuracy': 0.6263}, 766.3305410769999)\n",
            "DEBUG flwr 2024-01-04 15:51:21,000 | server.py:173 | evaluate_round 7: strategy sampled 10 clients (out of 30)\n",
            "DEBUG:flwr:evaluate_round 7: strategy sampled 10 clients (out of 30)\n"
          ]
        },
        {
          "output_type": "stream",
          "name": "stdout",
          "text": [
            "\u001b[2m\u001b[36m(DefaultActor pid=25584)\u001b[0m [Client 9] evaluate, config: {}, local accuracy: 0.6\n",
            "\u001b[2m\u001b[36m(DefaultActor pid=25584)\u001b[0m [Client 0] evaluate, config: {}, local accuracy: 0.635\n",
            "\u001b[2m\u001b[36m(DefaultActor pid=25584)\u001b[0m [Client 14] evaluate, config: {}, local accuracy: 0.61\n",
            "\u001b[2m\u001b[36m(DefaultActor pid=25584)\u001b[0m [Client 19] evaluate, config: {}, local accuracy: 0.645\n",
            "\u001b[2m\u001b[36m(DefaultActor pid=25584)\u001b[0m [Client 28] evaluate, config: {}, local accuracy: 0.68\n",
            "\u001b[2m\u001b[36m(DefaultActor pid=25584)\u001b[0m [Client 23] evaluate, config: {}, local accuracy: 0.685\n",
            "\u001b[2m\u001b[36m(DefaultActor pid=25584)\u001b[0m [Client 26] evaluate, config: {}, local accuracy: 0.635\n",
            "\u001b[2m\u001b[36m(DefaultActor pid=25584)\u001b[0m [Client 24] evaluate, config: {}, local accuracy: 0.635\n",
            "\u001b[2m\u001b[36m(DefaultActor pid=25584)\u001b[0m [Client 2] evaluate, config: {}, local accuracy: 0.67\n"
          ]
        },
        {
          "output_type": "stream",
          "name": "stderr",
          "text": [
            "DEBUG flwr 2024-01-04 15:51:23,228 | server.py:187 | evaluate_round 7 received 10 results and 0 failures\n",
            "DEBUG:flwr:evaluate_round 7 received 10 results and 0 failures\n",
            "DEBUG flwr 2024-01-04 15:51:23,233 | server.py:222 | fit_round 8: strategy sampled 10 clients (out of 30)\n",
            "DEBUG:flwr:fit_round 8: strategy sampled 10 clients (out of 30)\n"
          ]
        },
        {
          "output_type": "stream",
          "name": "stdout",
          "text": [
            "\u001b[2m\u001b[36m(DefaultActor pid=25584)\u001b[0m [Client 29] evaluate, config: {}, local accuracy: 0.57\n",
            "\u001b[2m\u001b[36m(DefaultActor pid=25584)\u001b[0m [Client 12] fit, config: {'epochs': 10, 'lr': 0.1, 'attacker_epochs': 20, 'attacker_lr': 0.05}\n",
            "\u001b[2m\u001b[36m(DefaultActor pid=25584)\u001b[0m [Client 12] get_parameters\n",
            "\u001b[2m\u001b[36m(DefaultActor pid=25584)\u001b[0m [Client 3] fit, config: {'epochs': 10, 'lr': 0.1, 'attacker_epochs': 20, 'attacker_lr': 0.05}\n",
            "\u001b[2m\u001b[36m(DefaultActor pid=25584)\u001b[0m [Client 3] get_parameters\n",
            "\u001b[2m\u001b[36m(DefaultActor pid=25584)\u001b[0m [Client 7] fit, config: {'epochs': 10, 'lr': 0.1, 'attacker_epochs': 20, 'attacker_lr': 0.05}\n",
            "\u001b[2m\u001b[36m(DefaultActor pid=25584)\u001b[0m [Client 7] get_parameters\n",
            "\u001b[2m\u001b[36m(DefaultActor pid=25584)\u001b[0m [Client 29] fit, config: {'epochs': 10, 'lr': 0.1, 'attacker_epochs': 20, 'attacker_lr': 0.05}\n",
            "\u001b[2m\u001b[36m(DefaultActor pid=25584)\u001b[0m [Client 29] get_parameters\n",
            "\u001b[2m\u001b[36m(DefaultActor pid=25584)\u001b[0m [Client 21] fit, config: {'epochs': 10, 'lr': 0.1, 'attacker_epochs': 20, 'attacker_lr': 0.05}\n",
            "\u001b[2m\u001b[36m(DefaultActor pid=25584)\u001b[0m [Client 21] get_parameters\n",
            "\u001b[2m\u001b[36m(DefaultActor pid=25584)\u001b[0m [Client 11] fit, config: {'epochs': 10, 'lr': 0.1, 'attacker_epochs': 20, 'attacker_lr': 0.05}\n",
            "\u001b[2m\u001b[36m(DefaultActor pid=25584)\u001b[0m [Client 11] get_parameters\n",
            "\u001b[2m\u001b[36m(DefaultActor pid=25584)\u001b[0m [Client 4] fit, config: {'epochs': 10, 'lr': 0.1, 'attacker_epochs': 20, 'attacker_lr': 0.05}\n",
            "\u001b[2m\u001b[36m(DefaultActor pid=25584)\u001b[0m [Client 4] get_parameters\n",
            "\u001b[2m\u001b[36m(DefaultActor pid=25584)\u001b[0m [Client 13] fit, config: {'epochs': 10, 'lr': 0.1, 'attacker_epochs': 20, 'attacker_lr': 0.05}\n",
            "\u001b[2m\u001b[36m(DefaultActor pid=25584)\u001b[0m [Client 13] get_parameters\n",
            "\u001b[2m\u001b[36m(DefaultActor pid=25584)\u001b[0m [Client 9] fit, config: {'epochs': 10, 'lr': 0.1, 'attacker_epochs': 20, 'attacker_lr': 0.05}\n",
            "\u001b[2m\u001b[36m(DefaultActor pid=25584)\u001b[0m [Client 9] get_parameters\n",
            "\u001b[2m\u001b[36m(DefaultActor pid=25584)\u001b[0m [Client 6] fit, config: {'epochs': 10, 'lr': 0.1, 'attacker_epochs': 20, 'attacker_lr': 0.05}\n"
          ]
        },
        {
          "output_type": "stream",
          "name": "stderr",
          "text": [
            "DEBUG flwr 2024-01-04 15:53:05,122 | server.py:236 | fit_round 8 received 10 results and 0 failures\n",
            "DEBUG:flwr:fit_round 8 received 10 results and 0 failures\n"
          ]
        },
        {
          "output_type": "stream",
          "name": "stdout",
          "text": [
            "Saving round 8 aggregated_parameters...\n",
            "\u001b[2m\u001b[36m(DefaultActor pid=25584)\u001b[0m [Client 6] get_parameters\n"
          ]
        },
        {
          "output_type": "stream",
          "name": "stderr",
          "text": [
            "INFO flwr 2024-01-04 15:53:09,804 | server.py:125 | fit progress: (8, 329.3773398399353, {'accuracy': 0.8181}, 875.140879478)\n",
            "INFO:flwr:fit progress: (8, 329.3773398399353, {'accuracy': 0.8181}, 875.140879478)\n",
            "DEBUG flwr 2024-01-04 15:53:09,808 | server.py:173 | evaluate_round 8: strategy sampled 10 clients (out of 30)\n",
            "DEBUG:flwr:evaluate_round 8: strategy sampled 10 clients (out of 30)\n"
          ]
        },
        {
          "output_type": "stream",
          "name": "stdout",
          "text": [
            "\u001b[2m\u001b[36m(DefaultActor pid=25584)\u001b[0m [Client 3] evaluate, config: {}, local accuracy: 0.81\n",
            "\u001b[2m\u001b[36m(DefaultActor pid=25584)\u001b[0m [Client 5] evaluate, config: {}, local accuracy: 0.875\n",
            "\u001b[2m\u001b[36m(DefaultActor pid=25584)\u001b[0m [Client 12] evaluate, config: {}, local accuracy: 0.85\n",
            "\u001b[2m\u001b[36m(DefaultActor pid=25584)\u001b[0m [Client 2] evaluate, config: {}, local accuracy: 0.805\n",
            "\u001b[2m\u001b[36m(DefaultActor pid=25584)\u001b[0m [Client 0] evaluate, config: {}, local accuracy: 0.83\n",
            "\u001b[2m\u001b[36m(DefaultActor pid=25584)\u001b[0m [Client 28] evaluate, config: {}, local accuracy: 0.855\n",
            "\u001b[2m\u001b[36m(DefaultActor pid=25584)\u001b[0m [Client 6] evaluate, config: {}, local accuracy: 0.83\n",
            "\u001b[2m\u001b[36m(DefaultActor pid=25584)\u001b[0m [Client 13] evaluate, config: {}, local accuracy: 0.81\n"
          ]
        },
        {
          "output_type": "stream",
          "name": "stderr",
          "text": [
            "DEBUG flwr 2024-01-04 15:53:11,529 | server.py:187 | evaluate_round 8 received 10 results and 0 failures\n",
            "DEBUG:flwr:evaluate_round 8 received 10 results and 0 failures\n",
            "DEBUG flwr 2024-01-04 15:53:11,533 | server.py:222 | fit_round 9: strategy sampled 10 clients (out of 30)\n",
            "DEBUG:flwr:fit_round 9: strategy sampled 10 clients (out of 30)\n"
          ]
        },
        {
          "output_type": "stream",
          "name": "stdout",
          "text": [
            "\u001b[2m\u001b[36m(DefaultActor pid=25584)\u001b[0m [Client 23] evaluate, config: {}, local accuracy: 0.83\n",
            "\u001b[2m\u001b[36m(DefaultActor pid=25584)\u001b[0m [Client 8] evaluate, config: {}, local accuracy: 0.835\n",
            "\u001b[2m\u001b[36m(DefaultActor pid=25584)\u001b[0m [Client 18] fit, config: {'epochs': 10, 'lr': 0.1, 'attacker_epochs': 20, 'attacker_lr': 0.05}\n",
            "\u001b[2m\u001b[36m(DefaultActor pid=25584)\u001b[0m [Client 18] get_parameters\n",
            "\u001b[2m\u001b[36m(DefaultActor pid=25584)\u001b[0m [Client 22] fit, config: {'epochs': 10, 'lr': 0.1, 'attacker_epochs': 20, 'attacker_lr': 0.05}\n",
            "\u001b[2m\u001b[36m(DefaultActor pid=25584)\u001b[0m [Client 22] get_parameters\n",
            "\u001b[2m\u001b[36m(DefaultActor pid=25584)\u001b[0m [Client 27] fit, config: {'epochs': 10, 'lr': 0.1, 'attacker_epochs': 20, 'attacker_lr': 0.05}\n",
            "\u001b[2m\u001b[36m(DefaultActor pid=25584)\u001b[0m [Client 27] get_parameters\n",
            "\u001b[2m\u001b[36m(DefaultActor pid=25584)\u001b[0m [Client 2] fit, config: {'epochs': 10, 'lr': 0.1, 'attacker_epochs': 20, 'attacker_lr': 0.05}\n",
            "\u001b[2m\u001b[36m(DefaultActor pid=25584)\u001b[0m [Client 2] get_parameters\n",
            "\u001b[2m\u001b[36m(DefaultActor pid=25584)\u001b[0m [Client 5] fit, config: {'epochs': 10, 'lr': 0.1, 'attacker_epochs': 20, 'attacker_lr': 0.05}\n",
            "\u001b[2m\u001b[36m(DefaultActor pid=25584)\u001b[0m [Client 5] get_parameters\n",
            "\u001b[2m\u001b[36m(DefaultActor pid=25584)\u001b[0m [Client 17] fit, config: {'epochs': 10, 'lr': 0.1, 'attacker_epochs': 20, 'attacker_lr': 0.05}\n",
            "\u001b[2m\u001b[36m(DefaultActor pid=25584)\u001b[0m [Client 17] get_parameters\n",
            "\u001b[2m\u001b[36m(DefaultActor pid=25584)\u001b[0m [Client 28] fit, config: {'epochs': 10, 'lr': 0.1, 'attacker_epochs': 20, 'attacker_lr': 0.05}\n",
            "\u001b[2m\u001b[36m(DefaultActor pid=25584)\u001b[0m [Client 28] get_parameters\n",
            "\u001b[2m\u001b[36m(DefaultActor pid=25584)\u001b[0m [Client 13] fit, config: {'epochs': 10, 'lr': 0.1, 'attacker_epochs': 20, 'attacker_lr': 0.05}\n",
            "\u001b[2m\u001b[36m(DefaultActor pid=25584)\u001b[0m [Client 13] get_parameters\n",
            "\u001b[2m\u001b[36m(DefaultActor pid=25584)\u001b[0m [Client 9] fit, config: {'epochs': 10, 'lr': 0.1, 'attacker_epochs': 20, 'attacker_lr': 0.05}\n",
            "\u001b[2m\u001b[36m(DefaultActor pid=25584)\u001b[0m [Client 9] get_parameters\n",
            "\u001b[2m\u001b[36m(DefaultActor pid=25584)\u001b[0m [Client 6] fit, config: {'epochs': 10, 'lr': 0.1, 'attacker_epochs': 20, 'attacker_lr': 0.05}\n"
          ]
        },
        {
          "output_type": "stream",
          "name": "stderr",
          "text": [
            "DEBUG flwr 2024-01-04 15:54:54,150 | server.py:236 | fit_round 9 received 10 results and 0 failures\n",
            "DEBUG:flwr:fit_round 9 received 10 results and 0 failures\n"
          ]
        },
        {
          "output_type": "stream",
          "name": "stdout",
          "text": [
            "\u001b[2m\u001b[36m(DefaultActor pid=25584)\u001b[0m [Client 6] get_parameters\n",
            "Saving round 9 aggregated_parameters...\n"
          ]
        },
        {
          "output_type": "stream",
          "name": "stderr",
          "text": [
            "INFO flwr 2024-01-04 15:54:59,114 | server.py:125 | fit progress: (9, 323.9075177907944, {'accuracy': 0.8414}, 984.4511159909998)\n",
            "INFO:flwr:fit progress: (9, 323.9075177907944, {'accuracy': 0.8414}, 984.4511159909998)\n",
            "DEBUG flwr 2024-01-04 15:54:59,120 | server.py:173 | evaluate_round 9: strategy sampled 10 clients (out of 30)\n",
            "DEBUG:flwr:evaluate_round 9: strategy sampled 10 clients (out of 30)\n"
          ]
        },
        {
          "output_type": "stream",
          "name": "stdout",
          "text": [
            "\u001b[2m\u001b[36m(DefaultActor pid=25584)\u001b[0m [Client 22] evaluate, config: {}, local accuracy: 0.8\n",
            "\u001b[2m\u001b[36m(DefaultActor pid=25584)\u001b[0m [Client 11] evaluate, config: {}, local accuracy: 0.85\n",
            "\u001b[2m\u001b[36m(DefaultActor pid=25584)\u001b[0m [Client 12] evaluate, config: {}, local accuracy: 0.825\n",
            "\u001b[2m\u001b[36m(DefaultActor pid=25584)\u001b[0m [Client 24] evaluate, config: {}, local accuracy: 0.825\n",
            "\u001b[2m\u001b[36m(DefaultActor pid=25584)\u001b[0m [Client 10] evaluate, config: {}, local accuracy: 0.825\n",
            "\u001b[2m\u001b[36m(DefaultActor pid=25584)\u001b[0m [Client 21] evaluate, config: {}, local accuracy: 0.87\n",
            "\u001b[2m\u001b[36m(DefaultActor pid=25584)\u001b[0m [Client 4] evaluate, config: {}, local accuracy: 0.825\n",
            "\u001b[2m\u001b[36m(DefaultActor pid=25584)\u001b[0m [Client 5] evaluate, config: {}, local accuracy: 0.87\n",
            "\u001b[2m\u001b[36m(DefaultActor pid=25584)\u001b[0m [Client 0] evaluate, config: {}, local accuracy: 0.8\n"
          ]
        },
        {
          "output_type": "stream",
          "name": "stderr",
          "text": [
            "DEBUG flwr 2024-01-04 15:55:00,887 | server.py:187 | evaluate_round 9 received 10 results and 0 failures\n",
            "DEBUG:flwr:evaluate_round 9 received 10 results and 0 failures\n",
            "DEBUG flwr 2024-01-04 15:55:00,893 | server.py:222 | fit_round 10: strategy sampled 10 clients (out of 30)\n",
            "DEBUG:flwr:fit_round 10: strategy sampled 10 clients (out of 30)\n"
          ]
        },
        {
          "output_type": "stream",
          "name": "stdout",
          "text": [
            "\u001b[2m\u001b[36m(DefaultActor pid=25584)\u001b[0m [Client 17] evaluate, config: {}, local accuracy: 0.865\n",
            "\u001b[2m\u001b[36m(DefaultActor pid=25584)\u001b[0m [Client 16] fit, config: {'epochs': 10, 'lr': 0.1, 'attacker_epochs': 20, 'attacker_lr': 0.05}\n",
            "\u001b[2m\u001b[36m(DefaultActor pid=25584)\u001b[0m [Client 16] get_parameters\n",
            "\u001b[2m\u001b[36m(DefaultActor pid=25584)\u001b[0m [Client 9] fit, config: {'epochs': 10, 'lr': 0.1, 'attacker_epochs': 20, 'attacker_lr': 0.05}\n",
            "\u001b[2m\u001b[36m(DefaultActor pid=25584)\u001b[0m [Client 9] get_parameters\n",
            "\u001b[2m\u001b[36m(DefaultActor pid=25584)\u001b[0m [Client 11] fit, config: {'epochs': 10, 'lr': 0.1, 'attacker_epochs': 20, 'attacker_lr': 0.05}\n",
            "\u001b[2m\u001b[36m(DefaultActor pid=25584)\u001b[0m [Client 11] get_parameters\n",
            "\u001b[2m\u001b[36m(DefaultActor pid=25584)\u001b[0m [Client 17] fit, config: {'epochs': 10, 'lr': 0.1, 'attacker_epochs': 20, 'attacker_lr': 0.05}\n",
            "\u001b[2m\u001b[36m(DefaultActor pid=25584)\u001b[0m [Client 17] get_parameters\n",
            "\u001b[2m\u001b[36m(DefaultActor pid=25584)\u001b[0m [Client 27] fit, config: {'epochs': 10, 'lr': 0.1, 'attacker_epochs': 20, 'attacker_lr': 0.05}\n",
            "\u001b[2m\u001b[36m(DefaultActor pid=25584)\u001b[0m [Client 27] get_parameters\n",
            "\u001b[2m\u001b[36m(DefaultActor pid=25584)\u001b[0m [Client 2] fit, config: {'epochs': 10, 'lr': 0.1, 'attacker_epochs': 20, 'attacker_lr': 0.05}\n",
            "\u001b[2m\u001b[36m(DefaultActor pid=25584)\u001b[0m [Client 2] get_parameters\n",
            "\u001b[2m\u001b[36m(DefaultActor pid=25584)\u001b[0m [Client 13] fit, config: {'epochs': 10, 'lr': 0.1, 'attacker_epochs': 20, 'attacker_lr': 0.05}\n",
            "\u001b[2m\u001b[36m(DefaultActor pid=25584)\u001b[0m [Client 13] get_parameters\n",
            "\u001b[2m\u001b[36m(DefaultActor pid=25584)\u001b[0m [Client 1] fit, config: {'epochs': 10, 'lr': 0.1, 'attacker_epochs': 20, 'attacker_lr': 0.05}\n",
            "\u001b[2m\u001b[36m(DefaultActor pid=25584)\u001b[0m [Client 1] get_parameters\n",
            "\u001b[2m\u001b[36m(DefaultActor pid=25584)\u001b[0m [Client 0] fit, config: {'epochs': 10, 'lr': 0.1, 'attacker_epochs': 20, 'attacker_lr': 0.05}\n",
            "\u001b[2m\u001b[36m(DefaultActor pid=25584)\u001b[0m [Client 0] get_parameters\n",
            "\u001b[2m\u001b[36m(DefaultActor pid=25584)\u001b[0m [Client 26] fit, config: {'epochs': 10, 'lr': 0.1, 'attacker_epochs': 20, 'attacker_lr': 0.05}\n"
          ]
        },
        {
          "output_type": "stream",
          "name": "stderr",
          "text": [
            "DEBUG flwr 2024-01-04 15:56:42,883 | server.py:236 | fit_round 10 received 10 results and 0 failures\n",
            "DEBUG:flwr:fit_round 10 received 10 results and 0 failures\n"
          ]
        },
        {
          "output_type": "stream",
          "name": "stdout",
          "text": [
            "Saving round 10 aggregated_parameters...\n",
            "\u001b[2m\u001b[36m(DefaultActor pid=25584)\u001b[0m [Client 26] get_parameters\n"
          ]
        },
        {
          "output_type": "stream",
          "name": "stderr",
          "text": [
            "INFO flwr 2024-01-04 15:56:48,823 | server.py:125 | fit progress: (10, 320.9066878557205, {'accuracy': 0.8571}, 1094.1596276619994)\n",
            "INFO:flwr:fit progress: (10, 320.9066878557205, {'accuracy': 0.8571}, 1094.1596276619994)\n",
            "DEBUG flwr 2024-01-04 15:56:48,827 | server.py:173 | evaluate_round 10: strategy sampled 10 clients (out of 30)\n",
            "DEBUG:flwr:evaluate_round 10: strategy sampled 10 clients (out of 30)\n"
          ]
        },
        {
          "output_type": "stream",
          "name": "stdout",
          "text": [
            "\u001b[2m\u001b[36m(DefaultActor pid=25584)\u001b[0m [Client 5] evaluate, config: {}, local accuracy: 0.895\n",
            "\u001b[2m\u001b[36m(DefaultActor pid=25584)\u001b[0m [Client 20] evaluate, config: {}, local accuracy: 0.945\n",
            "\u001b[2m\u001b[36m(DefaultActor pid=25584)\u001b[0m [Client 14] evaluate, config: {}, local accuracy: 0.88\n",
            "\u001b[2m\u001b[36m(DefaultActor pid=25584)\u001b[0m [Client 7] evaluate, config: {}, local accuracy: 0.875\n",
            "\u001b[2m\u001b[36m(DefaultActor pid=25584)\u001b[0m [Client 10] evaluate, config: {}, local accuracy: 0.845\n",
            "\u001b[2m\u001b[36m(DefaultActor pid=25584)\u001b[0m [Client 21] evaluate, config: {}, local accuracy: 0.865\n",
            "\u001b[2m\u001b[36m(DefaultActor pid=25584)\u001b[0m [Client 17] evaluate, config: {}, local accuracy: 0.87\n",
            "\u001b[2m\u001b[36m(DefaultActor pid=25584)\u001b[0m [Client 6] evaluate, config: {}, local accuracy: 0.85\n"
          ]
        },
        {
          "output_type": "stream",
          "name": "stderr",
          "text": [
            "DEBUG flwr 2024-01-04 15:56:50,563 | server.py:187 | evaluate_round 10 received 10 results and 0 failures\n",
            "DEBUG:flwr:evaluate_round 10 received 10 results and 0 failures\n",
            "INFO flwr 2024-01-04 15:56:50,570 | server.py:153 | FL finished in 1095.9070665589998\n",
            "INFO:flwr:FL finished in 1095.9070665589998\n",
            "INFO flwr 2024-01-04 15:56:50,575 | app.py:226 | app_fit: losses_distributed [(1, 16.11757621765137), (2, 16.11748628616333), (3, 16.114283633232116), (4, 16.114376926422118), (5, 16.108926320075987), (6, 16.06681070327759), (7, 12.752804005146027), (8, 11.431744980812073), (9, 11.336544716358185), (10, 11.123023295402527)]\n",
            "INFO:flwr:app_fit: losses_distributed [(1, 16.11757621765137), (2, 16.11748628616333), (3, 16.114283633232116), (4, 16.114376926422118), (5, 16.108926320075987), (6, 16.06681070327759), (7, 12.752804005146027), (8, 11.431744980812073), (9, 11.336544716358185), (10, 11.123023295402527)]\n",
            "INFO flwr 2024-01-04 15:56:50,581 | app.py:227 | app_fit: metrics_distributed_fit {}\n",
            "INFO:flwr:app_fit: metrics_distributed_fit {}\n",
            "INFO flwr 2024-01-04 15:56:50,582 | app.py:228 | app_fit: metrics_distributed {'accuracy': [(1, 0.09899999999999999), (2, 0.10600000000000001), (3, 0.1245), (4, 0.1085), (5, 0.139), (6, 0.09899999999999999), (7, 0.6365), (8, 0.8330000000000001), (9, 0.8354999999999999), (10, 0.8740000000000001)]}\n",
            "INFO:flwr:app_fit: metrics_distributed {'accuracy': [(1, 0.09899999999999999), (2, 0.10600000000000001), (3, 0.1245), (4, 0.1085), (5, 0.139), (6, 0.09899999999999999), (7, 0.6365), (8, 0.8330000000000001), (9, 0.8354999999999999), (10, 0.8740000000000001)]}\n",
            "INFO flwr 2024-01-04 15:56:50,588 | app.py:229 | app_fit: losses_centralized [(0, 460.5218482017517), (1, 460.49880146980286), (2, 460.4693841934204), (3, 460.43441677093506), (4, 460.37595772743225), (5, 460.236576795578), (6, 458.86004161834717), (7, 366.50720512866974), (8, 329.3773398399353), (9, 323.9075177907944), (10, 320.9066878557205)]\n",
            "INFO:flwr:app_fit: losses_centralized [(0, 460.5218482017517), (1, 460.49880146980286), (2, 460.4693841934204), (3, 460.43441677093506), (4, 460.37595772743225), (5, 460.236576795578), (6, 458.86004161834717), (7, 366.50720512866974), (8, 329.3773398399353), (9, 323.9075177907944), (10, 320.9066878557205)]\n",
            "INFO flwr 2024-01-04 15:56:50,591 | app.py:230 | app_fit: metrics_centralized {'accuracy': [(0, 0.1156), (1, 0.101), (2, 0.1135), (3, 0.1135), (4, 0.1136), (5, 0.1534), (6, 0.1176), (7, 0.6263), (8, 0.8181), (9, 0.8414), (10, 0.8571)]}\n",
            "INFO:flwr:app_fit: metrics_centralized {'accuracy': [(0, 0.1156), (1, 0.101), (2, 0.1135), (3, 0.1135), (4, 0.1136), (5, 0.1534), (6, 0.1176), (7, 0.6263), (8, 0.8181), (9, 0.8414), (10, 0.8571)]}\n"
          ]
        },
        {
          "output_type": "stream",
          "name": "stdout",
          "text": [
            "\u001b[2m\u001b[36m(DefaultActor pid=25584)\u001b[0m [Client 18] evaluate, config: {}, local accuracy: 0.885\n",
            "\u001b[2m\u001b[36m(DefaultActor pid=25584)\u001b[0m [Client 3] evaluate, config: {}, local accuracy: 0.83\n"
          ]
        }
      ],
      "source": [
        "# With a dictionary, you tell Flower's VirtualClientEngine that each\n",
        "# client needs exclusive access to these many resources in order to run\n",
        "client_resources = {\"num_cpus\": 2, \"num_gpus\": 1.0}\n",
        "\n",
        "# Let's disable tqdm progress bar in the main thread (used by the server)\n",
        "disable_progress_bar()\n",
        "\n",
        "history = fl.simulation.start_simulation(\n",
        "    client_fn=client_fn_callback,  # a callback to construct a client\n",
        "    num_clients=NUM_CLIENTS,  # total number of clients in the experiment\n",
        "    config=fl.server.ServerConfig(num_rounds=10),  # let's run for 10 rounds\n",
        "    strategy=strategy,  # the strategy that will orchestrate the whole FL pipeline\n",
        "    client_resources=client_resources,\n",
        "    actor_kwargs={\n",
        "        \"on_actor_init_fn\": disable_progress_bar  # disable tqdm on each actor/process spawning virtual clients\n",
        "    },\n",
        ")"
      ]
    },
    {
      "cell_type": "markdown",
      "metadata": {
        "id": "NakPTdOWtizA"
      },
      "source": [
        "Doing 10 rounds should take less than 2 minutes on a CPU-only Colab instance <-- Flower Simulation is fast! 🚀\n",
        "\n",
        "You can then use the resturned `History` object to either save the results to disk or do some visualisation (or both of course, or neither if you like chaos). Below you can see how you can plot the centralised accuracy obtainined at the end of each round (including at the very beginning of the experiment) for the _global model_. This is want the function `evaluate_fn()` that we passed to the strategy reports."
      ]
    },
    {
      "cell_type": "code",
      "execution_count": 15,
      "metadata": {
        "id": "-poMHY3BtizA",
        "outputId": "77614681-a0c3-4316-cd32-062d7ed60bca",
        "colab": {
          "base_uri": "https://localhost:8080/",
          "height": 507
        }
      },
      "outputs": [
        {
          "output_type": "stream",
          "name": "stdout",
          "text": [
            "history.metrics_centralized = {'accuracy': [(0, 0.1156), (1, 0.101), (2, 0.1135), (3, 0.1135), (4, 0.1136), (5, 0.1534), (6, 0.1176), (7, 0.6263), (8, 0.8181), (9, 0.8414), (10, 0.8571)]}\n"
          ]
        },
        {
          "output_type": "execute_result",
          "data": {
            "text/plain": [
              "Text(0.5, 1.0, 'MNIST - IID - 30 clients with 10 clients per round')"
            ]
          },
          "metadata": {},
          "execution_count": 15
        },
        {
          "output_type": "display_data",
          "data": {
            "text/plain": [
              "<Figure size 640x480 with 1 Axes>"
            ],
            "image/png": "[encoded data removed]"
          },
          "metadata": {}
        }
      ],
      "source": [
        "import matplotlib.pyplot as plt\n",
        "\n",
        "print(f\"{history.metrics_centralized = }\")\n",
        "\n",
        "global_accuracy_centralised = history.metrics_centralized[\"accuracy\"]\n",
        "round = [data[0] for data in global_accuracy_centralised]\n",
        "acc = [data[1] for data in global_accuracy_centralised]\n",
        "plt.plot(round, acc)\n",
        "plt.grid()\n",
        "plt.ylabel(\"Accuracy (%)\")\n",
        "plt.xlabel(\"Round\")\n",
        "plt.title(\"MNIST - IID - 30 clients with 10 clients per round\")"
      ]
    },
    {
      "cell_type": "markdown",
      "metadata": {
        "id": "7dLYQcJ3tizA"
      },
      "source": [
        "Congratulations! With that, you built a Flower client, customized it's instantiation through the `client_fn`, customized the server-side execution through a `FedAvg` strategy configured for this workload, and started a simulation with 100 clients (each holding their own individual partition of the MNIST dataset).\n",
        "\n",
        "Next, you can continue to explore more advanced Flower topics:\n",
        "\n",
        "- Deploy server and clients on different machines using `start_server` and `start_client`\n",
        "- Customize the server-side execution through custom strategies\n",
        "- Customize the client-side execution through `config` dictionaries\n",
        "\n",
        "Get all resources you need!\n",
        "\n",
        "* **[DOCS]** Our complete documenation: https://flower.dev/docs/\n",
        "* **[Examples]** All Flower examples: https://flower.dev/docs/examples/\n",
        "* **[VIDEO]** Our Youtube channel: https://www.youtube.com/@flowerlabs\n",
        "\n",
        "Don't forget to join our Slack channel: https://flower.dev/join-slack/\n"
      ]
    },
    {
      "cell_type": "code",
      "source": [
        "import torch.optim as optim\n",
        "import torch.optim.lr_scheduler as lr_scheduler\n",
        "\n",
        "def test(net, testloader, device: str):\n",
        "    \"\"\"Validate the network on the entire test set.\"\"\"\n",
        "    criterion = torch.nn.CrossEntropyLoss()\n",
        "    correct_poisoned = 0\n",
        "    total_poisoned = 0\n",
        "    loss = 0.0\n",
        "    net.eval()\n",
        "    with torch.no_grad():\n",
        "        for data in testloader:\n",
        "            images, labels = data[\"image\"].to(device), data[\"label\"].to(device)\n",
        "            output = net(images)\n",
        "            pred = output.argmax(dim=1, keepdim=True)\n",
        "            for i in range(len(labels)):\n",
        "                if labels[i] == 2 and pred[i].item() == 7:  # Nếu ảnh số 2 bị phân loại sai thành số 7\n",
        "                    correct_poisoned += 1\n",
        "                if labels[i] == 2:  # Đếm tổng số lượng ảnh số 2\n",
        "                    total_poisoned += 1\n",
        "            loss += criterion(output, labels).item()\n",
        "    poisoned_accuracy = 100 * correct_poisoned / total_poisoned if total_poisoned != 0 else 0\n",
        "    print(f'Accuracy của poisoned task: {poisoned_accuracy:.2f}%')\n",
        "    return loss, poisoned_accuracy"
      ],
      "metadata": {
        "id": "IDxk25bibt6P"
      },
      "execution_count": 25,
      "outputs": []
    },
    {
      "cell_type": "code",
      "source": [
        "from tqdm.notebook import tqdm\n",
        "def poison_train(net, generator, discriminator, optim_G, optim_net, scheduler, criterion, epochs, device: str):\n",
        "\n",
        "    discriminator.eval()\n",
        "    generator.train()\n",
        "    for epoch in range(epochs):\n",
        "        # Training G\n",
        "        noise = torch.randn(1, 100, 100, 1, 1).to(device)\n",
        "        for batch_noisy in tqdm(noise, desc='Training G:'):\n",
        "        # for batch_noisy in noise:\n",
        "            fake_images = generator(batch_noisy).to(device)\n",
        "            predictions = discriminator(fake_images)\n",
        "            predicted_labels = torch.max(predictions, dim=1).indices\n",
        "\n",
        "            images_is_2 = fake_images[predicted_labels == 2]\n",
        "            labels_is_2 = torch.full((len(images_is_2),), 2).to(device)\n",
        "\n",
        "            if(len(images_is_2) > 0):\n",
        "                optim_G.zero_grad()\n",
        "                criterion(discriminator(images_is_2.to(device)), labels_is_2.to(device)).backward()\n",
        "                optim_G.step()\n",
        "\n",
        "        # Training Net with poisonset\n",
        "        for batch_noisy in tqdm(noise, desc='Poison Training:'):\n",
        "        # for batch_noisy in noise:\n",
        "            fake_images = generator(batch_noisy).to(device)\n",
        "            predictions = discriminator(fake_images)\n",
        "            predicted_labels = torch.max(predictions, dim=1).indices\n",
        "\n",
        "            images_is_2 = fake_images[predicted_labels == 2]\n",
        "            labels_is_2 = torch.full((len(images_is_2),), 7).to(device)\n",
        "\n",
        "            if(len(images_is_2) > 0):\n",
        "                optim_net.zero_grad()\n",
        "                criterion(net(images_is_2.to(device)), labels_is_2.to(device)).backward()\n",
        "                for param in net.parameters():\n",
        "                    if param.grad is not None:\n",
        "                        param.grad *= 20\n",
        "                optim_net.step()"
      ],
      "metadata": {
        "id": "yVvWCzXUgiv-"
      },
      "execution_count": 26,
      "outputs": []
    },
    {
      "cell_type": "code",
      "source": [
        "class FlowerClient(FlowerClient):\n",
        "    def fit(self, parameters, config):\n",
        "        \"\"\"This method train the model using the parameters sent by the\n",
        "        server on the dataset of this client. At then end, the parameters\n",
        "        of the locally trained model are communicated back to the server\"\"\"\n",
        "        print(f\"[Client {self.cid}] fit, config: {config}\")\n",
        "        # copy parameters sent by the server into client's local model\n",
        "        self.set_parameters(parameters)\n",
        "        lr, epochs = config[\"lr\"], config[\"epochs\"]\n",
        "        optim = torch.optim.SGD(self.model.parameters(), lr=lr)\n",
        "        scheduler = lr_scheduler.StepLR(optim, step_size=2, gamma=0.1)\n",
        "        criterion = torch.nn.CrossEntropyLoss()\n",
        "        if self.cid == 0:\n",
        "            attacker_lr, attacker_epochs = config[\"attacker_lr\"], config[\"attacker_epochs\"]\n",
        "            loss, accuracy = test(self.model, self.testloader, device=self.device)\n",
        "            optim_G = torch.optim.SGD(self.generator.parameters(), lr=attacker_lr)\n",
        "            if accuracy > 60:\n",
        "                train(net=self.model, trainloader=self.trainloader, optim=optim, scheduler=scheduler, criterion=criterion, epochs=epochs, device=self.device)\n",
        "                poison_train(net=self.model, generator=self.generator, discriminator=self.discriminator, optim_G=optim_G, optim_net=optim, scheduler=scheduler, criterion=criterion, epochs=attacker_epochs, device=self.device)\n",
        "            else:\n",
        "                poison_train(net=self.model, generator=self.generator, discriminator=self.discriminator, optim_G=optim_G, optim_net=optim, scheduler=scheduler, criterion=criterion, epochs=attacker_epochs, device=self.device)\n",
        "        else:\n",
        "            train(net=self.model, trainloader=self.trainloader, optim=optim, scheduler=scheduler, criterion=criterion, epochs=epochs, device=self.device)\n",
        "\n",
        "        # return the model parameters to the server as well as extra info (number of training examples in this case)\n",
        "        return self.get_parameters({}), len(self.trainloader), {}"
      ],
      "metadata": {
        "id": "UYzulLVecDhh"
      },
      "execution_count": 27,
      "outputs": []
    },
    {
      "cell_type": "code",
      "source": [
        "import glob\n",
        "import os\n",
        "net = Net(10)\n",
        "list_of_files = [fname for fname in glob.glob(\"./model_round_*\")]\n",
        "latest_round_file = max(list_of_files, key=os.path.getctime)\n",
        "print(\"Loading pre-trained model from: \", latest_round_file)\n",
        "state_dict = torch.load(latest_round_file)\n",
        "net.load_state_dict(state_dict)"
      ],
      "metadata": {
        "id": "nMbxpOIuciXY",
        "outputId": "486581d4-e5b7-4aea-f5bd-8dc7563200e1",
        "colab": {
          "base_uri": "https://localhost:8080/"
        }
      },
      "execution_count": 29,
      "outputs": [
        {
          "output_type": "stream",
          "name": "stdout",
          "text": [
            "Loading pre-trained model from:  ./model_round_20.pth\n"
          ]
        },
        {
          "output_type": "execute_result",
          "data": {
            "text/plain": [
              "<All keys matched successfully>"
            ]
          },
          "metadata": {},
          "execution_count": 29
        }
      ]
    },
    {
      "cell_type": "code",
      "source": [
        "def get_parameters():\n",
        "    \"\"\"Extract all model parameters and conver them to a list of\n",
        "    NumPy arryas. The server doesn't work with PyTorch/TF/etc.\"\"\"\n",
        "    return [val.cpu().numpy() for _, val in net.state_dict().items()]"
      ],
      "metadata": {
        "id": "DAGYFxwKnosX"
      },
      "execution_count": 30,
      "outputs": []
    },
    {
      "cell_type": "code",
      "source": [
        "params = get_parameters()\n",
        "\n",
        "strategy = SaveModelStrategy(\n",
        "    fraction_fit=0.34,  # Sample 10% of available clients for training\n",
        "    fraction_evaluate=1,  # Sample 5% of available clients for evaluation\n",
        "    on_fit_config_fn=fit_config,\n",
        "    evaluate_metrics_aggregation_fn=weighted_average,  # aggregates federated metrics\n",
        "    evaluate_fn=get_evaluate_fn(centralized_testset),  # global evaluation function\n",
        "    initial_parameters=fl.common.ndarrays_to_parameters(params),\n",
        ")"
      ],
      "metadata": {
        "id": "3Hx55QIkdjce"
      },
      "execution_count": 31,
      "outputs": []
    },
    {
      "cell_type": "code",
      "source": [
        "# With a dictionary, you tell Flower's VirtualClientEngine that each\n",
        "# client needs exclusive access to these many resources in order to run\n",
        "client_resources = {\"num_cpus\": 2, \"num_gpus\": 1.0}\n",
        "\n",
        "# Let's disable tqdm progress bar in the main thread (used by the server)\n",
        "disable_progress_bar()\n",
        "history = fl.simulation.start_simulation(\n",
        "    client_fn=client_fn_callback,  # a callback to construct a client\n",
        "    num_clients=NUM_CLIENTS,  # total number of clients in the experiment\n",
        "    config=fl.server.ServerConfig(num_rounds=20),  # let's run for 10 rounds\n",
        "    strategy=strategy,  # the strategy that will orchestrate the whole FL pipeline\n",
        "    client_resources=client_resources,\n",
        "    actor_kwargs={\n",
        "        \"on_actor_init_fn\": disable_progress_bar  # disable tqdm on each actor/process spawning virtual clients\n",
        "    },\n",
        ")"
      ],
      "metadata": {
        "id": "kFfMZwVVchgj",
        "outputId": "a862c08f-a4e6-4bcf-f7df-80384eb1a733",
        "colab": {
          "base_uri": "https://localhost:8080/"
        }
      },
      "execution_count": 23,
      "outputs": [
        {
          "output_type": "stream",
          "name": "stderr",
          "text": [
            "INFO flwr 2024-01-04 15:56:51,021 | app.py:178 | Starting Flower simulation, config: ServerConfig(num_rounds=20, round_timeout=None)\n",
            "INFO:flwr:Starting Flower simulation, config: ServerConfig(num_rounds=20, round_timeout=None)\n",
            "2024-01-04 15:56:55,086\tINFO worker.py:1621 -- Started a local Ray instance.\n",
            "INFO flwr 2024-01-04 15:56:57,512 | app.py:213 | Flower VCE: Ray initialized with resources: {'CPU': 2.0, 'memory': 7669198848.0, 'node:__internal_head__': 1.0, 'node:172.28.0.12': 1.0, 'GPU': 1.0, 'object_store_memory': 3834599424.0}\n",
            "INFO:flwr:Flower VCE: Ray initialized with resources: {'CPU': 2.0, 'memory': 7669198848.0, 'node:__internal_head__': 1.0, 'node:172.28.0.12': 1.0, 'GPU': 1.0, 'object_store_memory': 3834599424.0}\n",
            "INFO flwr 2024-01-04 15:56:57,521 | app.py:219 | Optimize your simulation with Flower VCE: https://flower.dev/docs/framework/how-to-run-simulations.html\n",
            "INFO:flwr:Optimize your simulation with Flower VCE: https://flower.dev/docs/framework/how-to-run-simulations.html\n",
            "INFO flwr 2024-01-04 15:56:57,528 | app.py:242 | Flower VCE: Resources for each Virtual Client: {'num_cpus': 2, 'num_gpus': 1.0}\n",
            "INFO:flwr:Flower VCE: Resources for each Virtual Client: {'num_cpus': 2, 'num_gpus': 1.0}\n",
            "INFO flwr 2024-01-04 15:56:57,576 | app.py:288 | Flower VCE: Creating VirtualClientEngineActorPool with 1 actors\n",
            "INFO:flwr:Flower VCE: Creating VirtualClientEngineActorPool with 1 actors\n",
            "INFO flwr 2024-01-04 15:56:57,580 | server.py:89 | Initializing global parameters\n",
            "INFO:flwr:Initializing global parameters\n",
            "INFO flwr 2024-01-04 15:56:57,583 | server.py:272 | Using initial parameters provided by strategy\n",
            "INFO:flwr:Using initial parameters provided by strategy\n",
            "INFO flwr 2024-01-04 15:56:57,586 | server.py:91 | Evaluating initial parameters\n",
            "INFO:flwr:Evaluating initial parameters\n",
            "\u001b[2m\u001b[36m(pid=30773)\u001b[0m 2024-01-04 15:57:03.069632: E external/local_xla/xla/stream_executor/cuda/cuda_dnn.cc:9261] Unable to register cuDNN factory: Attempting to register factory for plugin cuDNN when one has already been registered\n",
            "\u001b[2m\u001b[36m(pid=30773)\u001b[0m 2024-01-04 15:57:03.069689: E external/local_xla/xla/stream_executor/cuda/cuda_fft.cc:607] Unable to register cuFFT factory: Attempting to register factory for plugin cuFFT when one has already been registered\n",
            "\u001b[2m\u001b[36m(pid=30773)\u001b[0m 2024-01-04 15:57:03.071417: E external/local_xla/xla/stream_executor/cuda/cuda_blas.cc:1515] Unable to register cuBLAS factory: Attempting to register factory for plugin cuBLAS when one has already been registered\n",
            "\u001b[2m\u001b[36m(pid=30773)\u001b[0m 2024-01-04 15:57:05.039347: W tensorflow/compiler/tf2tensorrt/utils/py_utils.cc:38] TF-TRT Warning: Could not find TensorRT\n",
            "INFO flwr 2024-01-04 15:57:06,627 | server.py:94 | initial parameters (loss, other metrics): 320.9066878557205, {'accuracy': 1.065891472868217}\n",
            "INFO:flwr:initial parameters (loss, other metrics): 320.9066878557205, {'accuracy': 1.065891472868217}\n",
            "INFO flwr 2024-01-04 15:57:06,630 | server.py:104 | FL starting\n",
            "INFO:flwr:FL starting\n",
            "DEBUG flwr 2024-01-04 15:57:06,634 | server.py:222 | fit_round 1: strategy sampled 10 clients (out of 30)\n",
            "DEBUG:flwr:fit_round 1: strategy sampled 10 clients (out of 30)\n"
          ]
        },
        {
          "output_type": "stream",
          "name": "stdout",
          "text": [
            "Accuracy của poisoned task: 1.07%\n",
            "\u001b[2m\u001b[36m(DefaultActor pid=30773)\u001b[0m [Client 23] fit, config: {'epochs': 10, 'lr': 0.1, 'attacker_epochs': 20, 'attacker_lr': 0.05}\n",
            "\u001b[2m\u001b[36m(DefaultActor pid=30773)\u001b[0m [Client 23] get_parameters\n",
            "\u001b[2m\u001b[36m(DefaultActor pid=30773)\u001b[0m [Client 13] fit, config: {'epochs': 10, 'lr': 0.1, 'attacker_epochs': 20, 'attacker_lr': 0.05}\n",
            "\u001b[2m\u001b[36m(DefaultActor pid=30773)\u001b[0m [Client 13] get_parameters\n",
            "\u001b[2m\u001b[36m(DefaultActor pid=30773)\u001b[0m [Client 1] fit, config: {'epochs': 10, 'lr': 0.1, 'attacker_epochs': 20, 'attacker_lr': 0.05}\n",
            "\u001b[2m\u001b[36m(DefaultActor pid=30773)\u001b[0m [Client 1] get_parameters\n",
            "\u001b[2m\u001b[36m(DefaultActor pid=30773)\u001b[0m [Client 8] fit, config: {'epochs': 10, 'lr': 0.1, 'attacker_epochs': 20, 'attacker_lr': 0.05}\n",
            "\u001b[2m\u001b[36m(DefaultActor pid=30773)\u001b[0m [Client 8] get_parameters\n",
            "\u001b[2m\u001b[36m(DefaultActor pid=30773)\u001b[0m [Client 3] fit, config: {'epochs': 10, 'lr': 0.1, 'attacker_epochs': 20, 'attacker_lr': 0.05}\n",
            "\u001b[2m\u001b[36m(DefaultActor pid=30773)\u001b[0m [Client 3] get_parameters\n",
            "\u001b[2m\u001b[36m(DefaultActor pid=30773)\u001b[0m [Client 28] fit, config: {'epochs': 10, 'lr': 0.1, 'attacker_epochs': 20, 'attacker_lr': 0.05}\n",
            "\u001b[2m\u001b[36m(DefaultActor pid=30773)\u001b[0m [Client 28] get_parameters\n",
            "\u001b[2m\u001b[36m(DefaultActor pid=30773)\u001b[0m [Client 27] fit, config: {'epochs': 10, 'lr': 0.1, 'attacker_epochs': 20, 'attacker_lr': 0.05}\n",
            "\u001b[2m\u001b[36m(DefaultActor pid=30773)\u001b[0m [Client 27] get_parameters\n",
            "\u001b[2m\u001b[36m(DefaultActor pid=30773)\u001b[0m [Client 19] fit, config: {'epochs': 10, 'lr': 0.1, 'attacker_epochs': 20, 'attacker_lr': 0.05}\n",
            "\u001b[2m\u001b[36m(DefaultActor pid=30773)\u001b[0m [Client 19] get_parameters\n",
            "\u001b[2m\u001b[36m(DefaultActor pid=30773)\u001b[0m [Client 15] fit, config: {'epochs': 10, 'lr': 0.1, 'attacker_epochs': 20, 'attacker_lr': 0.05}\n",
            "\u001b[2m\u001b[36m(DefaultActor pid=30773)\u001b[0m [Client 15] get_parameters\n",
            "\u001b[2m\u001b[36m(DefaultActor pid=30773)\u001b[0m [Client 17] fit, config: {'epochs': 10, 'lr': 0.1, 'attacker_epochs': 20, 'attacker_lr': 0.05}\n"
          ]
        },
        {
          "output_type": "stream",
          "name": "stderr",
          "text": [
            "DEBUG flwr 2024-01-04 15:58:51,526 | server.py:236 | fit_round 1 received 10 results and 0 failures\n",
            "DEBUG:flwr:fit_round 1 received 10 results and 0 failures\n",
            "WARNING flwr 2024-01-04 15:58:51,600 | fedavg.py:242 | No fit_metrics_aggregation_fn provided\n",
            "WARNING:flwr:No fit_metrics_aggregation_fn provided\n"
          ]
        },
        {
          "output_type": "stream",
          "name": "stdout",
          "text": [
            "\u001b[2m\u001b[36m(DefaultActor pid=30773)\u001b[0m [Client 17] get_parameters\n",
            "Saving round 1 aggregated_parameters...\n"
          ]
        },
        {
          "output_type": "stream",
          "name": "stderr",
          "text": [
            "INFO flwr 2024-01-04 15:58:58,041 | server.py:125 | fit progress: (1, 319.37378227710724, {'accuracy': 0.872093023255814}, 111.4071108119997)\n",
            "INFO:flwr:fit progress: (1, 319.37378227710724, {'accuracy': 0.872093023255814}, 111.4071108119997)\n",
            "DEBUG flwr 2024-01-04 15:58:58,047 | server.py:173 | evaluate_round 1: strategy sampled 30 clients (out of 30)\n",
            "DEBUG:flwr:evaluate_round 1: strategy sampled 30 clients (out of 30)\n"
          ]
        },
        {
          "output_type": "stream",
          "name": "stdout",
          "text": [
            "Accuracy của poisoned task: 0.87%\n",
            "\u001b[2m\u001b[36m(DefaultActor pid=30773)\u001b[0m Accuracy của poisoned task: 0.00%\n",
            "\u001b[2m\u001b[36m(DefaultActor pid=30773)\u001b[0m [Client 1] evaluate, config: {}, local accuracy: 0.0\n",
            "\u001b[2m\u001b[36m(DefaultActor pid=30773)\u001b[0m Accuracy của poisoned task: 0.00%\n",
            "\u001b[2m\u001b[36m(DefaultActor pid=30773)\u001b[0m [Client 7] evaluate, config: {}, local accuracy: 0.0\n",
            "\u001b[2m\u001b[36m(DefaultActor pid=30773)\u001b[0m Accuracy của poisoned task: 0.00%\n",
            "\u001b[2m\u001b[36m(DefaultActor pid=30773)\u001b[0m [Client 13] evaluate, config: {}, local accuracy: 0.0\n",
            "\u001b[2m\u001b[36m(DefaultActor pid=30773)\u001b[0m Accuracy của poisoned task: 0.00%\n",
            "\u001b[2m\u001b[36m(DefaultActor pid=30773)\u001b[0m [Client 19] evaluate, config: {}, local accuracy: 0.0\n",
            "\u001b[2m\u001b[36m(DefaultActor pid=30773)\u001b[0m Accuracy của poisoned task: 3.45%\n",
            "\u001b[2m\u001b[36m(DefaultActor pid=30773)\u001b[0m [Client 9] evaluate, config: {}, local accuracy: 3.4482758620689653\n",
            "\u001b[2m\u001b[36m(DefaultActor pid=30773)\u001b[0m Accuracy của poisoned task: 0.00%\n",
            "\u001b[2m\u001b[36m(DefaultActor pid=30773)\u001b[0m [Client 29] evaluate, config: {}, local accuracy: 0.0\n",
            "\u001b[2m\u001b[36m(DefaultActor pid=30773)\u001b[0m Accuracy của poisoned task: 0.00%\n",
            "\u001b[2m\u001b[36m(DefaultActor pid=30773)\u001b[0m [Client 3] evaluate, config: {}, local accuracy: 0.0\n",
            "\u001b[2m\u001b[36m(DefaultActor pid=30773)\u001b[0m Accuracy của poisoned task: 0.00%\n",
            "\u001b[2m\u001b[36m(DefaultActor pid=30773)\u001b[0m [Client 27] evaluate, config: {}, local accuracy: 0.0\n",
            "\u001b[2m\u001b[36m(DefaultActor pid=30773)\u001b[0m Accuracy của poisoned task: 0.00%\n",
            "\u001b[2m\u001b[36m(DefaultActor pid=30773)\u001b[0m [Client 8] evaluate, config: {}, local accuracy: 0.0\n",
            "\u001b[2m\u001b[36m(DefaultActor pid=30773)\u001b[0m Accuracy của poisoned task: 0.00%\n",
            "\u001b[2m\u001b[36m(DefaultActor pid=30773)\u001b[0m [Client 16] evaluate, config: {}, local accuracy: 0.0\n",
            "\u001b[2m\u001b[36m(DefaultActor pid=30773)\u001b[0m Accuracy của poisoned task: 0.00%\n",
            "\u001b[2m\u001b[36m(DefaultActor pid=30773)\u001b[0m [Client 0] evaluate, config: {}, local accuracy: 0.0\n",
            "\u001b[2m\u001b[36m(DefaultActor pid=30773)\u001b[0m Accuracy của poisoned task: 0.00%\n",
            "\u001b[2m\u001b[36m(DefaultActor pid=30773)\u001b[0m [Client 22] evaluate, config: {}, local accuracy: 0.0\n",
            "\u001b[2m\u001b[36m(DefaultActor pid=30773)\u001b[0m Accuracy của poisoned task: 4.76%\n",
            "\u001b[2m\u001b[36m(DefaultActor pid=30773)\u001b[0m [Client 12] evaluate, config: {}, local accuracy: 4.761904761904762\n",
            "\u001b[2m\u001b[36m(DefaultActor pid=30773)\u001b[0m Accuracy của poisoned task: 0.00%\n",
            "\u001b[2m\u001b[36m(DefaultActor pid=30773)\u001b[0m [Client 15] evaluate, config: {}, local accuracy: 0.0\n",
            "\u001b[2m\u001b[36m(DefaultActor pid=30773)\u001b[0m Accuracy của poisoned task: 0.00%\n",
            "\u001b[2m\u001b[36m(DefaultActor pid=30773)\u001b[0m [Client 2] evaluate, config: {}, local accuracy: 0.0\n",
            "\u001b[2m\u001b[36m(DefaultActor pid=30773)\u001b[0m Accuracy của poisoned task: 5.56%\n",
            "\u001b[2m\u001b[36m(DefaultActor pid=30773)\u001b[0m [Client 26] evaluate, config: {}, local accuracy: 5.555555555555555\n",
            "\u001b[2m\u001b[36m(DefaultActor pid=30773)\u001b[0m Accuracy của poisoned task: 4.35%\n",
            "\u001b[2m\u001b[36m(DefaultActor pid=30773)\u001b[0m [Client 6] evaluate, config: {}, local accuracy: 4.3478260869565215\n",
            "\u001b[2m\u001b[36m(DefaultActor pid=30773)\u001b[0m Accuracy của poisoned task: 0.00%\n",
            "\u001b[2m\u001b[36m(DefaultActor pid=30773)\u001b[0m [Client 20] evaluate, config: {}, local accuracy: 0.0\n",
            "\u001b[2m\u001b[36m(DefaultActor pid=30773)\u001b[0m Accuracy của poisoned task: 0.00%\n",
            "\u001b[2m\u001b[36m(DefaultActor pid=30773)\u001b[0m [Client 23] evaluate, config: {}, local accuracy: 0.0\n",
            "\u001b[2m\u001b[36m(DefaultActor pid=30773)\u001b[0m Accuracy của poisoned task: 0.00%\n",
            "\u001b[2m\u001b[36m(DefaultActor pid=30773)\u001b[0m [Client 5] evaluate, config: {}, local accuracy: 0.0\n",
            "\u001b[2m\u001b[36m(DefaultActor pid=30773)\u001b[0m Accuracy của poisoned task: 0.00%\n",
            "\u001b[2m\u001b[36m(DefaultActor pid=30773)\u001b[0m [Client 17] evaluate, config: {}, local accuracy: 0.0\n",
            "\u001b[2m\u001b[36m(DefaultActor pid=30773)\u001b[0m Accuracy của poisoned task: 0.00%\n",
            "\u001b[2m\u001b[36m(DefaultActor pid=30773)\u001b[0m [Client 18] evaluate, config: {}, local accuracy: 0.0\n",
            "\u001b[2m\u001b[36m(DefaultActor pid=30773)\u001b[0m Accuracy của poisoned task: 0.00%\n",
            "\u001b[2m\u001b[36m(DefaultActor pid=30773)\u001b[0m [Client 24] evaluate, config: {}, local accuracy: 0.0\n",
            "\u001b[2m\u001b[36m(DefaultActor pid=30773)\u001b[0m Accuracy của poisoned task: 0.00%\n",
            "\u001b[2m\u001b[36m(DefaultActor pid=30773)\u001b[0m [Client 4] evaluate, config: {}, local accuracy: 0.0\n",
            "\u001b[2m\u001b[36m(DefaultActor pid=30773)\u001b[0m Accuracy của poisoned task: 0.00%\n",
            "\u001b[2m\u001b[36m(DefaultActor pid=30773)\u001b[0m [Client 25] evaluate, config: {}, local accuracy: 0.0\n",
            "\u001b[2m\u001b[36m(DefaultActor pid=30773)\u001b[0m Accuracy của poisoned task: 4.00%\n",
            "\u001b[2m\u001b[36m(DefaultActor pid=30773)\u001b[0m [Client 14] evaluate, config: {}, local accuracy: 4.0\n",
            "\u001b[2m\u001b[36m(DefaultActor pid=30773)\u001b[0m Accuracy của poisoned task: 0.00%\n",
            "\u001b[2m\u001b[36m(DefaultActor pid=30773)\u001b[0m [Client 10] evaluate, config: {}, local accuracy: 0.0\n",
            "\u001b[2m\u001b[36m(DefaultActor pid=30773)\u001b[0m Accuracy của poisoned task: 0.00%\n",
            "\u001b[2m\u001b[36m(DefaultActor pid=30773)\u001b[0m [Client 21] evaluate, config: {}, local accuracy: 0.0\n"
          ]
        },
        {
          "output_type": "stream",
          "name": "stderr",
          "text": [
            "DEBUG flwr 2024-01-04 15:59:03,796 | server.py:187 | evaluate_round 1 received 30 results and 0 failures\n",
            "DEBUG:flwr:evaluate_round 1 received 30 results and 0 failures\n",
            "DEBUG flwr 2024-01-04 15:59:03,799 | server.py:222 | fit_round 2: strategy sampled 10 clients (out of 30)\n",
            "DEBUG:flwr:fit_round 2: strategy sampled 10 clients (out of 30)\n"
          ]
        },
        {
          "output_type": "stream",
          "name": "stdout",
          "text": [
            "\u001b[2m\u001b[36m(DefaultActor pid=30773)\u001b[0m Accuracy của poisoned task: 7.41%\n",
            "\u001b[2m\u001b[36m(DefaultActor pid=30773)\u001b[0m [Client 11] evaluate, config: {}, local accuracy: 7.407407407407407\n",
            "\u001b[2m\u001b[36m(DefaultActor pid=30773)\u001b[0m Accuracy của poisoned task: 0.00%\n",
            "\u001b[2m\u001b[36m(DefaultActor pid=30773)\u001b[0m [Client 28] evaluate, config: {}, local accuracy: 0.0\n",
            "\u001b[2m\u001b[36m(DefaultActor pid=30773)\u001b[0m [Client 27] fit, config: {'epochs': 10, 'lr': 0.1, 'attacker_epochs': 20, 'attacker_lr': 0.05}\n",
            "\u001b[2m\u001b[36m(DefaultActor pid=30773)\u001b[0m [Client 27] get_parameters\n",
            "\u001b[2m\u001b[36m(DefaultActor pid=30773)\u001b[0m [Client 17] fit, config: {'epochs': 10, 'lr': 0.1, 'attacker_epochs': 20, 'attacker_lr': 0.05}\n",
            "\u001b[2m\u001b[36m(DefaultActor pid=30773)\u001b[0m [Client 17] get_parameters\n",
            "\u001b[2m\u001b[36m(DefaultActor pid=30773)\u001b[0m [Client 26] fit, config: {'epochs': 10, 'lr': 0.1, 'attacker_epochs': 20, 'attacker_lr': 0.05}\n",
            "\u001b[2m\u001b[36m(DefaultActor pid=30773)\u001b[0m [Client 26] get_parameters\n",
            "\u001b[2m\u001b[36m(DefaultActor pid=30773)\u001b[0m [Client 7] fit, config: {'epochs': 10, 'lr': 0.1, 'attacker_epochs': 20, 'attacker_lr': 0.05}\n",
            "\u001b[2m\u001b[36m(DefaultActor pid=30773)\u001b[0m [Client 7] get_parameters\n",
            "\u001b[2m\u001b[36m(DefaultActor pid=30773)\u001b[0m [Client 23] fit, config: {'epochs': 10, 'lr': 0.1, 'attacker_epochs': 20, 'attacker_lr': 0.05}\n",
            "\u001b[2m\u001b[36m(DefaultActor pid=30773)\u001b[0m [Client 23] get_parameters\n",
            "\u001b[2m\u001b[36m(DefaultActor pid=30773)\u001b[0m [Client 18] fit, config: {'epochs': 10, 'lr': 0.1, 'attacker_epochs': 20, 'attacker_lr': 0.05}\n",
            "\u001b[2m\u001b[36m(DefaultActor pid=30773)\u001b[0m [Client 18] get_parameters\n",
            "\u001b[2m\u001b[36m(DefaultActor pid=30773)\u001b[0m [Client 3] fit, config: {'epochs': 10, 'lr': 0.1, 'attacker_epochs': 20, 'attacker_lr': 0.05}\n",
            "\u001b[2m\u001b[36m(DefaultActor pid=30773)\u001b[0m [Client 3] get_parameters\n",
            "\u001b[2m\u001b[36m(DefaultActor pid=30773)\u001b[0m [Client 8] fit, config: {'epochs': 10, 'lr': 0.1, 'attacker_epochs': 20, 'attacker_lr': 0.05}\n",
            "\u001b[2m\u001b[36m(DefaultActor pid=30773)\u001b[0m [Client 8] get_parameters\n",
            "\u001b[2m\u001b[36m(DefaultActor pid=30773)\u001b[0m [Client 4] fit, config: {'epochs': 10, 'lr': 0.1, 'attacker_epochs': 20, 'attacker_lr': 0.05}\n",
            "\u001b[2m\u001b[36m(DefaultActor pid=30773)\u001b[0m [Client 4] get_parameters\n",
            "\u001b[2m\u001b[36m(DefaultActor pid=30773)\u001b[0m [Client 22] fit, config: {'epochs': 10, 'lr': 0.1, 'attacker_epochs': 20, 'attacker_lr': 0.05}\n"
          ]
        },
        {
          "output_type": "stream",
          "name": "stderr",
          "text": [
            "DEBUG flwr 2024-01-04 16:00:45,055 | server.py:236 | fit_round 2 received 10 results and 0 failures\n",
            "DEBUG:flwr:fit_round 2 received 10 results and 0 failures\n"
          ]
        },
        {
          "output_type": "stream",
          "name": "stdout",
          "text": [
            "\u001b[2m\u001b[36m(DefaultActor pid=30773)\u001b[0m [Client 22] get_parameters\n",
            "Saving round 2 aggregated_parameters...\n"
          ]
        },
        {
          "output_type": "stream",
          "name": "stderr",
          "text": [
            "INFO flwr 2024-01-04 16:00:51,311 | server.py:125 | fit progress: (2, 318.29129469394684, {'accuracy': 1.065891472868217}, 224.6771882539997)\n",
            "INFO:flwr:fit progress: (2, 318.29129469394684, {'accuracy': 1.065891472868217}, 224.6771882539997)\n",
            "DEBUG flwr 2024-01-04 16:00:51,315 | server.py:173 | evaluate_round 2: strategy sampled 30 clients (out of 30)\n",
            "DEBUG:flwr:evaluate_round 2: strategy sampled 30 clients (out of 30)\n"
          ]
        },
        {
          "output_type": "stream",
          "name": "stdout",
          "text": [
            "Accuracy của poisoned task: 1.07%\n",
            "\u001b[2m\u001b[36m(DefaultActor pid=30773)\u001b[0m Accuracy của poisoned task: 0.00%\n",
            "\u001b[2m\u001b[36m(DefaultActor pid=30773)\u001b[0m [Client 17] evaluate, config: {}, local accuracy: 0.0\n",
            "\u001b[2m\u001b[36m(DefaultActor pid=30773)\u001b[0m Accuracy của poisoned task: 0.00%\n",
            "\u001b[2m\u001b[36m(DefaultActor pid=30773)\u001b[0m [Client 22] evaluate, config: {}, local accuracy: 0.0\n",
            "\u001b[2m\u001b[36m(DefaultActor pid=30773)\u001b[0m Accuracy của poisoned task: 0.00%\n",
            "\u001b[2m\u001b[36m(DefaultActor pid=30773)\u001b[0m [Client 19] evaluate, config: {}, local accuracy: 0.0\n",
            "\u001b[2m\u001b[36m(DefaultActor pid=30773)\u001b[0m Accuracy của poisoned task: 0.00%\n",
            "\u001b[2m\u001b[36m(DefaultActor pid=30773)\u001b[0m [Client 2] evaluate, config: {}, local accuracy: 0.0\n",
            "\u001b[2m\u001b[36m(DefaultActor pid=30773)\u001b[0m Accuracy của poisoned task: 0.00%\n",
            "\u001b[2m\u001b[36m(DefaultActor pid=30773)\u001b[0m [Client 14] evaluate, config: {}, local accuracy: 0.0\n",
            "\u001b[2m\u001b[36m(DefaultActor pid=30773)\u001b[0m Accuracy của poisoned task: 3.33%\n",
            "\u001b[2m\u001b[36m(DefaultActor pid=30773)\u001b[0m [Client 29] evaluate, config: {}, local accuracy: 3.3333333333333335\n",
            "\u001b[2m\u001b[36m(DefaultActor pid=30773)\u001b[0m Accuracy của poisoned task: 0.00%\n",
            "\u001b[2m\u001b[36m(DefaultActor pid=30773)\u001b[0m [Client 24] evaluate, config: {}, local accuracy: 0.0\n",
            "\u001b[2m\u001b[36m(DefaultActor pid=30773)\u001b[0m Accuracy của poisoned task: 0.00%\n",
            "\u001b[2m\u001b[36m(DefaultActor pid=30773)\u001b[0m [Client 20] evaluate, config: {}, local accuracy: 0.0\n",
            "\u001b[2m\u001b[36m(DefaultActor pid=30773)\u001b[0m Accuracy của poisoned task: 0.00%\n",
            "\u001b[2m\u001b[36m(DefaultActor pid=30773)\u001b[0m [Client 18] evaluate, config: {}, local accuracy: 0.0\n",
            "\u001b[2m\u001b[36m(DefaultActor pid=30773)\u001b[0m Accuracy của poisoned task: 0.00%\n",
            "\u001b[2m\u001b[36m(DefaultActor pid=30773)\u001b[0m [Client 10] evaluate, config: {}, local accuracy: 0.0\n",
            "\u001b[2m\u001b[36m(DefaultActor pid=30773)\u001b[0m Accuracy của poisoned task: 5.56%\n",
            "\u001b[2m\u001b[36m(DefaultActor pid=30773)\u001b[0m [Client 23] evaluate, config: {}, local accuracy: 5.555555555555555\n",
            "\u001b[2m\u001b[36m(DefaultActor pid=30773)\u001b[0m Accuracy của poisoned task: 0.00%\n",
            "\u001b[2m\u001b[36m(DefaultActor pid=30773)\u001b[0m [Client 8] evaluate, config: {}, local accuracy: 0.0\n",
            "\u001b[2m\u001b[36m(DefaultActor pid=30773)\u001b[0m Accuracy của poisoned task: 0.00%\n",
            "\u001b[2m\u001b[36m(DefaultActor pid=30773)\u001b[0m [Client 7] evaluate, config: {}, local accuracy: 0.0\n",
            "\u001b[2m\u001b[36m(DefaultActor pid=30773)\u001b[0m Accuracy của poisoned task: 8.00%\n",
            "\u001b[2m\u001b[36m(DefaultActor pid=30773)\u001b[0m [Client 9] evaluate, config: {}, local accuracy: 8.0\n",
            "\u001b[2m\u001b[36m(DefaultActor pid=30773)\u001b[0m Accuracy của poisoned task: 3.70%\n",
            "\u001b[2m\u001b[36m(DefaultActor pid=30773)\u001b[0m [Client 16] evaluate, config: {}, local accuracy: 3.7037037037037037\n",
            "\u001b[2m\u001b[36m(DefaultActor pid=30773)\u001b[0m Accuracy của poisoned task: 0.00%\n",
            "\u001b[2m\u001b[36m(DefaultActor pid=30773)\u001b[0m [Client 11] evaluate, config: {}, local accuracy: 0.0\n",
            "\u001b[2m\u001b[36m(DefaultActor pid=30773)\u001b[0m Accuracy của poisoned task: 0.00%\n",
            "\u001b[2m\u001b[36m(DefaultActor pid=30773)\u001b[0m [Client 15] evaluate, config: {}, local accuracy: 0.0\n",
            "\u001b[2m\u001b[36m(DefaultActor pid=30773)\u001b[0m Accuracy của poisoned task: 0.00%\n",
            "\u001b[2m\u001b[36m(DefaultActor pid=30773)\u001b[0m [Client 21] evaluate, config: {}, local accuracy: 0.0\n",
            "\u001b[2m\u001b[36m(DefaultActor pid=30773)\u001b[0m Accuracy của poisoned task: 0.00%\n",
            "\u001b[2m\u001b[36m(DefaultActor pid=30773)\u001b[0m [Client 3] evaluate, config: {}, local accuracy: 0.0\n",
            "\u001b[2m\u001b[36m(DefaultActor pid=30773)\u001b[0m Accuracy của poisoned task: 0.00%\n",
            "\u001b[2m\u001b[36m(DefaultActor pid=30773)\u001b[0m [Client 27] evaluate, config: {}, local accuracy: 0.0\n",
            "\u001b[2m\u001b[36m(DefaultActor pid=30773)\u001b[0m Accuracy của poisoned task: 0.00%\n",
            "\u001b[2m\u001b[36m(DefaultActor pid=30773)\u001b[0m [Client 25] evaluate, config: {}, local accuracy: 0.0\n",
            "\u001b[2m\u001b[36m(DefaultActor pid=30773)\u001b[0m Accuracy của poisoned task: 0.00%\n",
            "\u001b[2m\u001b[36m(DefaultActor pid=30773)\u001b[0m [Client 0] evaluate, config: {}, local accuracy: 0.0\n",
            "\u001b[2m\u001b[36m(DefaultActor pid=30773)\u001b[0m Accuracy của poisoned task: 0.00%\n",
            "\u001b[2m\u001b[36m(DefaultActor pid=30773)\u001b[0m [Client 5] evaluate, config: {}, local accuracy: 0.0\n",
            "\u001b[2m\u001b[36m(DefaultActor pid=30773)\u001b[0m Accuracy của poisoned task: 0.00%\n",
            "\u001b[2m\u001b[36m(DefaultActor pid=30773)\u001b[0m [Client 26] evaluate, config: {}, local accuracy: 0.0\n",
            "\u001b[2m\u001b[36m(DefaultActor pid=30773)\u001b[0m Accuracy của poisoned task: 0.00%\n",
            "\u001b[2m\u001b[36m(DefaultActor pid=30773)\u001b[0m [Client 4] evaluate, config: {}, local accuracy: 0.0\n",
            "\u001b[2m\u001b[36m(DefaultActor pid=30773)\u001b[0m Accuracy của poisoned task: 0.00%\n",
            "\u001b[2m\u001b[36m(DefaultActor pid=30773)\u001b[0m [Client 6] evaluate, config: {}, local accuracy: 0.0\n",
            "\u001b[2m\u001b[36m(DefaultActor pid=30773)\u001b[0m Accuracy của poisoned task: 0.00%\n",
            "\u001b[2m\u001b[36m(DefaultActor pid=30773)\u001b[0m [Client 12] evaluate, config: {}, local accuracy: 0.0\n",
            "\u001b[2m\u001b[36m(DefaultActor pid=30773)\u001b[0m Accuracy của poisoned task: 0.00%\n",
            "\u001b[2m\u001b[36m(DefaultActor pid=30773)\u001b[0m [Client 28] evaluate, config: {}, local accuracy: 0.0\n"
          ]
        },
        {
          "output_type": "stream",
          "name": "stderr",
          "text": [
            "DEBUG flwr 2024-01-04 16:00:57,041 | server.py:187 | evaluate_round 2 received 30 results and 0 failures\n",
            "DEBUG:flwr:evaluate_round 2 received 30 results and 0 failures\n",
            "DEBUG flwr 2024-01-04 16:00:57,044 | server.py:222 | fit_round 3: strategy sampled 10 clients (out of 30)\n",
            "DEBUG:flwr:fit_round 3: strategy sampled 10 clients (out of 30)\n"
          ]
        },
        {
          "output_type": "stream",
          "name": "stdout",
          "text": [
            "\u001b[2m\u001b[36m(DefaultActor pid=30773)\u001b[0m Accuracy của poisoned task: 0.00%\n",
            "\u001b[2m\u001b[36m(DefaultActor pid=30773)\u001b[0m [Client 1] evaluate, config: {}, local accuracy: 0.0\n",
            "\u001b[2m\u001b[36m(DefaultActor pid=30773)\u001b[0m Accuracy của poisoned task: 0.00%\n",
            "\u001b[2m\u001b[36m(DefaultActor pid=30773)\u001b[0m [Client 13] evaluate, config: {}, local accuracy: 0.0\n",
            "\u001b[2m\u001b[36m(DefaultActor pid=30773)\u001b[0m [Client 1] fit, config: {'epochs': 10, 'lr': 0.1, 'attacker_epochs': 20, 'attacker_lr': 0.05}\n",
            "\u001b[2m\u001b[36m(DefaultActor pid=30773)\u001b[0m [Client 1] get_parameters\n",
            "\u001b[2m\u001b[36m(DefaultActor pid=30773)\u001b[0m [Client 16] fit, config: {'epochs': 10, 'lr': 0.1, 'attacker_epochs': 20, 'attacker_lr': 0.05}\n",
            "\u001b[2m\u001b[36m(DefaultActor pid=30773)\u001b[0m [Client 16] get_parameters\n",
            "\u001b[2m\u001b[36m(DefaultActor pid=30773)\u001b[0m [Client 8] fit, config: {'epochs': 10, 'lr': 0.1, 'attacker_epochs': 20, 'attacker_lr': 0.05}\n",
            "\u001b[2m\u001b[36m(DefaultActor pid=30773)\u001b[0m [Client 8] get_parameters\n",
            "\u001b[2m\u001b[36m(DefaultActor pid=30773)\u001b[0m [Client 5] fit, config: {'epochs': 10, 'lr': 0.1, 'attacker_epochs': 20, 'attacker_lr': 0.05}\n",
            "\u001b[2m\u001b[36m(DefaultActor pid=30773)\u001b[0m [Client 5] get_parameters\n",
            "\u001b[2m\u001b[36m(DefaultActor pid=30773)\u001b[0m [Client 10] fit, config: {'epochs': 10, 'lr': 0.1, 'attacker_epochs': 20, 'attacker_lr': 0.05}\n",
            "\u001b[2m\u001b[36m(DefaultActor pid=30773)\u001b[0m [Client 10] get_parameters\n",
            "\u001b[2m\u001b[36m(DefaultActor pid=30773)\u001b[0m [Client 24] fit, config: {'epochs': 10, 'lr': 0.1, 'attacker_epochs': 20, 'attacker_lr': 0.05}\n",
            "\u001b[2m\u001b[36m(DefaultActor pid=30773)\u001b[0m [Client 24] get_parameters\n",
            "\u001b[2m\u001b[36m(DefaultActor pid=30773)\u001b[0m [Client 13] fit, config: {'epochs': 10, 'lr': 0.1, 'attacker_epochs': 20, 'attacker_lr': 0.05}\n",
            "\u001b[2m\u001b[36m(DefaultActor pid=30773)\u001b[0m [Client 13] get_parameters\n",
            "\u001b[2m\u001b[36m(DefaultActor pid=30773)\u001b[0m [Client 2] fit, config: {'epochs': 10, 'lr': 0.1, 'attacker_epochs': 20, 'attacker_lr': 0.05}\n",
            "\u001b[2m\u001b[36m(DefaultActor pid=30773)\u001b[0m [Client 2] get_parameters\n",
            "\u001b[2m\u001b[36m(DefaultActor pid=30773)\u001b[0m [Client 17] fit, config: {'epochs': 10, 'lr': 0.1, 'attacker_epochs': 20, 'attacker_lr': 0.05}\n",
            "\u001b[2m\u001b[36m(DefaultActor pid=30773)\u001b[0m [Client 17] get_parameters\n",
            "\u001b[2m\u001b[36m(DefaultActor pid=30773)\u001b[0m [Client 26] fit, config: {'epochs': 10, 'lr': 0.1, 'attacker_epochs': 20, 'attacker_lr': 0.05}\n"
          ]
        },
        {
          "output_type": "stream",
          "name": "stderr",
          "text": [
            "DEBUG flwr 2024-01-04 16:02:38,201 | server.py:236 | fit_round 3 received 10 results and 0 failures\n",
            "DEBUG:flwr:fit_round 3 received 10 results and 0 failures\n"
          ]
        },
        {
          "output_type": "stream",
          "name": "stdout",
          "text": [
            "\u001b[2m\u001b[36m(DefaultActor pid=30773)\u001b[0m [Client 26] get_parameters\n",
            "Saving round 3 aggregated_parameters...\n"
          ]
        },
        {
          "output_type": "stream",
          "name": "stderr",
          "text": [
            "INFO flwr 2024-01-04 16:02:44,740 | server.py:125 | fit progress: (3, 317.71608448028564, {'accuracy': 0.9689922480620154}, 338.1063123670001)\n",
            "INFO:flwr:fit progress: (3, 317.71608448028564, {'accuracy': 0.9689922480620154}, 338.1063123670001)\n",
            "DEBUG flwr 2024-01-04 16:02:44,744 | server.py:173 | evaluate_round 3: strategy sampled 30 clients (out of 30)\n",
            "DEBUG:flwr:evaluate_round 3: strategy sampled 30 clients (out of 30)\n"
          ]
        },
        {
          "output_type": "stream",
          "name": "stdout",
          "text": [
            "Accuracy của poisoned task: 0.97%\n",
            "\u001b[2m\u001b[36m(DefaultActor pid=30773)\u001b[0m Accuracy của poisoned task: 0.00%\n",
            "\u001b[2m\u001b[36m(DefaultActor pid=30773)\u001b[0m [Client 6] evaluate, config: {}, local accuracy: 0.0\n",
            "\u001b[2m\u001b[36m(DefaultActor pid=30773)\u001b[0m Accuracy của poisoned task: 0.00%\n",
            "\u001b[2m\u001b[36m(DefaultActor pid=30773)\u001b[0m [Client 13] evaluate, config: {}, local accuracy: 0.0\n",
            "\u001b[2m\u001b[36m(DefaultActor pid=30773)\u001b[0m Accuracy của poisoned task: 4.55%\n",
            "\u001b[2m\u001b[36m(DefaultActor pid=30773)\u001b[0m [Client 9] evaluate, config: {}, local accuracy: 4.545454545454546\n",
            "\u001b[2m\u001b[36m(DefaultActor pid=30773)\u001b[0m Accuracy của poisoned task: 0.00%\n",
            "\u001b[2m\u001b[36m(DefaultActor pid=30773)\u001b[0m [Client 18] evaluate, config: {}, local accuracy: 0.0\n",
            "\u001b[2m\u001b[36m(DefaultActor pid=30773)\u001b[0m Accuracy của poisoned task: 0.00%\n",
            "\u001b[2m\u001b[36m(DefaultActor pid=30773)\u001b[0m [Client 8] evaluate, config: {}, local accuracy: 0.0\n",
            "\u001b[2m\u001b[36m(DefaultActor pid=30773)\u001b[0m Accuracy của poisoned task: 0.00%\n",
            "\u001b[2m\u001b[36m(DefaultActor pid=30773)\u001b[0m [Client 22] evaluate, config: {}, local accuracy: 0.0\n",
            "\u001b[2m\u001b[36m(DefaultActor pid=30773)\u001b[0m Accuracy của poisoned task: 7.69%\n",
            "\u001b[2m\u001b[36m(DefaultActor pid=30773)\u001b[0m [Client 28] evaluate, config: {}, local accuracy: 7.6923076923076925\n",
            "\u001b[2m\u001b[36m(DefaultActor pid=30773)\u001b[0m Accuracy của poisoned task: 0.00%\n",
            "\u001b[2m\u001b[36m(DefaultActor pid=30773)\u001b[0m [Client 27] evaluate, config: {}, local accuracy: 0.0\n",
            "\u001b[2m\u001b[36m(DefaultActor pid=30773)\u001b[0m Accuracy của poisoned task: 0.00%\n",
            "\u001b[2m\u001b[36m(DefaultActor pid=30773)\u001b[0m [Client 5] evaluate, config: {}, local accuracy: 0.0\n",
            "\u001b[2m\u001b[36m(DefaultActor pid=30773)\u001b[0m Accuracy của poisoned task: 0.00%\n",
            "\u001b[2m\u001b[36m(DefaultActor pid=30773)\u001b[0m [Client 0] evaluate, config: {}, local accuracy: 0.0\n",
            "\u001b[2m\u001b[36m(DefaultActor pid=30773)\u001b[0m Accuracy của poisoned task: 0.00%\n",
            "\u001b[2m\u001b[36m(DefaultActor pid=30773)\u001b[0m [Client 3] evaluate, config: {}, local accuracy: 0.0\n",
            "\u001b[2m\u001b[36m(DefaultActor pid=30773)\u001b[0m Accuracy của poisoned task: 0.00%\n",
            "\u001b[2m\u001b[36m(DefaultActor pid=30773)\u001b[0m [Client 11] evaluate, config: {}, local accuracy: 0.0\n",
            "\u001b[2m\u001b[36m(DefaultActor pid=30773)\u001b[0m Accuracy của poisoned task: 0.00%\n",
            "\u001b[2m\u001b[36m(DefaultActor pid=30773)\u001b[0m [Client 24] evaluate, config: {}, local accuracy: 0.0\n",
            "\u001b[2m\u001b[36m(DefaultActor pid=30773)\u001b[0m Accuracy của poisoned task: 0.00%\n",
            "\u001b[2m\u001b[36m(DefaultActor pid=30773)\u001b[0m [Client 16] evaluate, config: {}, local accuracy: 0.0\n",
            "\u001b[2m\u001b[36m(DefaultActor pid=30773)\u001b[0m Accuracy của poisoned task: 0.00%\n",
            "\u001b[2m\u001b[36m(DefaultActor pid=30773)\u001b[0m [Client 26] evaluate, config: {}, local accuracy: 0.0\n",
            "\u001b[2m\u001b[36m(DefaultActor pid=30773)\u001b[0m Accuracy của poisoned task: 4.00%\n",
            "\u001b[2m\u001b[36m(DefaultActor pid=30773)\u001b[0m [Client 29] evaluate, config: {}, local accuracy: 4.0\n",
            "\u001b[2m\u001b[36m(DefaultActor pid=30773)\u001b[0m Accuracy của poisoned task: 0.00%\n",
            "\u001b[2m\u001b[36m(DefaultActor pid=30773)\u001b[0m [Client 7] evaluate, config: {}, local accuracy: 0.0\n",
            "\u001b[2m\u001b[36m(DefaultActor pid=30773)\u001b[0m Accuracy của poisoned task: 0.00%\n",
            "\u001b[2m\u001b[36m(DefaultActor pid=30773)\u001b[0m [Client 23] evaluate, config: {}, local accuracy: 0.0\n",
            "\u001b[2m\u001b[36m(DefaultActor pid=30773)\u001b[0m Accuracy của poisoned task: 0.00%\n",
            "\u001b[2m\u001b[36m(DefaultActor pid=30773)\u001b[0m [Client 2] evaluate, config: {}, local accuracy: 0.0\n",
            "\u001b[2m\u001b[36m(DefaultActor pid=30773)\u001b[0m Accuracy của poisoned task: 0.00%\n",
            "\u001b[2m\u001b[36m(DefaultActor pid=30773)\u001b[0m [Client 17] evaluate, config: {}, local accuracy: 0.0\n",
            "\u001b[2m\u001b[36m(DefaultActor pid=30773)\u001b[0m Accuracy của poisoned task: 0.00%\n",
            "\u001b[2m\u001b[36m(DefaultActor pid=30773)\u001b[0m [Client 1] evaluate, config: {}, local accuracy: 0.0\n",
            "\u001b[2m\u001b[36m(DefaultActor pid=30773)\u001b[0m Accuracy của poisoned task: 6.67%\n",
            "\u001b[2m\u001b[36m(DefaultActor pid=30773)\u001b[0m [Client 25] evaluate, config: {}, local accuracy: 6.666666666666667\n",
            "\u001b[2m\u001b[36m(DefaultActor pid=30773)\u001b[0m Accuracy của poisoned task: 0.00%\n",
            "\u001b[2m\u001b[36m(DefaultActor pid=30773)\u001b[0m [Client 20] evaluate, config: {}, local accuracy: 0.0\n",
            "\u001b[2m\u001b[36m(DefaultActor pid=30773)\u001b[0m Accuracy của poisoned task: 0.00%\n",
            "\u001b[2m\u001b[36m(DefaultActor pid=30773)\u001b[0m [Client 19] evaluate, config: {}, local accuracy: 0.0\n",
            "\u001b[2m\u001b[36m(DefaultActor pid=30773)\u001b[0m Accuracy của poisoned task: 0.00%\n",
            "\u001b[2m\u001b[36m(DefaultActor pid=30773)\u001b[0m [Client 10] evaluate, config: {}, local accuracy: 0.0\n",
            "\u001b[2m\u001b[36m(DefaultActor pid=30773)\u001b[0m Accuracy của poisoned task: 0.00%\n",
            "\u001b[2m\u001b[36m(DefaultActor pid=30773)\u001b[0m [Client 15] evaluate, config: {}, local accuracy: 0.0\n",
            "\u001b[2m\u001b[36m(DefaultActor pid=30773)\u001b[0m Accuracy của poisoned task: 0.00%\n",
            "\u001b[2m\u001b[36m(DefaultActor pid=30773)\u001b[0m [Client 12] evaluate, config: {}, local accuracy: 0.0\n",
            "\u001b[2m\u001b[36m(DefaultActor pid=30773)\u001b[0m Accuracy của poisoned task: 0.00%\n",
            "\u001b[2m\u001b[36m(DefaultActor pid=30773)\u001b[0m [Client 14] evaluate, config: {}, local accuracy: 0.0\n"
          ]
        },
        {
          "output_type": "stream",
          "name": "stderr",
          "text": [
            "DEBUG flwr 2024-01-04 16:02:50,544 | server.py:187 | evaluate_round 3 received 30 results and 0 failures\n",
            "DEBUG:flwr:evaluate_round 3 received 30 results and 0 failures\n",
            "DEBUG flwr 2024-01-04 16:02:50,547 | server.py:222 | fit_round 4: strategy sampled 10 clients (out of 30)\n",
            "DEBUG:flwr:fit_round 4: strategy sampled 10 clients (out of 30)\n"
          ]
        },
        {
          "output_type": "stream",
          "name": "stdout",
          "text": [
            "\u001b[2m\u001b[36m(DefaultActor pid=30773)\u001b[0m Accuracy của poisoned task: 0.00%\n",
            "\u001b[2m\u001b[36m(DefaultActor pid=30773)\u001b[0m [Client 4] evaluate, config: {}, local accuracy: 0.0\n",
            "\u001b[2m\u001b[36m(DefaultActor pid=30773)\u001b[0m Accuracy của poisoned task: 0.00%\n",
            "\u001b[2m\u001b[36m(DefaultActor pid=30773)\u001b[0m [Client 21] evaluate, config: {}, local accuracy: 0.0\n",
            "\u001b[2m\u001b[36m(DefaultActor pid=30773)\u001b[0m [Client 14] fit, config: {'epochs': 10, 'lr': 0.1, 'attacker_epochs': 20, 'attacker_lr': 0.05}\n",
            "\u001b[2m\u001b[36m(DefaultActor pid=30773)\u001b[0m [Client 14] get_parameters\n",
            "\u001b[2m\u001b[36m(DefaultActor pid=30773)\u001b[0m [Client 11] fit, config: {'epochs': 10, 'lr': 0.1, 'attacker_epochs': 20, 'attacker_lr': 0.05}\n",
            "\u001b[2m\u001b[36m(DefaultActor pid=30773)\u001b[0m [Client 11] get_parameters\n",
            "\u001b[2m\u001b[36m(DefaultActor pid=30773)\u001b[0m [Client 4] fit, config: {'epochs': 10, 'lr': 0.1, 'attacker_epochs': 20, 'attacker_lr': 0.05}\n",
            "\u001b[2m\u001b[36m(DefaultActor pid=30773)\u001b[0m [Client 4] get_parameters\n",
            "\u001b[2m\u001b[36m(DefaultActor pid=30773)\u001b[0m [Client 17] fit, config: {'epochs': 10, 'lr': 0.1, 'attacker_epochs': 20, 'attacker_lr': 0.05}\n",
            "\u001b[2m\u001b[36m(DefaultActor pid=30773)\u001b[0m [Client 17] get_parameters\n",
            "\u001b[2m\u001b[36m(DefaultActor pid=30773)\u001b[0m [Client 28] fit, config: {'epochs': 10, 'lr': 0.1, 'attacker_epochs': 20, 'attacker_lr': 0.05}\n",
            "\u001b[2m\u001b[36m(DefaultActor pid=30773)\u001b[0m [Client 28] get_parameters\n",
            "\u001b[2m\u001b[36m(DefaultActor pid=30773)\u001b[0m [Client 13] fit, config: {'epochs': 10, 'lr': 0.1, 'attacker_epochs': 20, 'attacker_lr': 0.05}\n",
            "\u001b[2m\u001b[36m(DefaultActor pid=30773)\u001b[0m [Client 13] get_parameters\n",
            "\u001b[2m\u001b[36m(DefaultActor pid=30773)\u001b[0m [Client 3] fit, config: {'epochs': 10, 'lr': 0.1, 'attacker_epochs': 20, 'attacker_lr': 0.05}\n",
            "\u001b[2m\u001b[36m(DefaultActor pid=30773)\u001b[0m [Client 3] get_parameters\n",
            "\u001b[2m\u001b[36m(DefaultActor pid=30773)\u001b[0m [Client 12] fit, config: {'epochs': 10, 'lr': 0.1, 'attacker_epochs': 20, 'attacker_lr': 0.05}\n",
            "\u001b[2m\u001b[36m(DefaultActor pid=30773)\u001b[0m [Client 12] get_parameters\n",
            "\u001b[2m\u001b[36m(DefaultActor pid=30773)\u001b[0m [Client 25] fit, config: {'epochs': 10, 'lr': 0.1, 'attacker_epochs': 20, 'attacker_lr': 0.05}\n",
            "\u001b[2m\u001b[36m(DefaultActor pid=30773)\u001b[0m [Client 25] get_parameters\n",
            "\u001b[2m\u001b[36m(DefaultActor pid=30773)\u001b[0m [Client 5] fit, config: {'epochs': 10, 'lr': 0.1, 'attacker_epochs': 20, 'attacker_lr': 0.05}\n"
          ]
        },
        {
          "output_type": "stream",
          "name": "stderr",
          "text": [
            "DEBUG flwr 2024-01-04 16:04:32,274 | server.py:236 | fit_round 4 received 10 results and 0 failures\n",
            "DEBUG:flwr:fit_round 4 received 10 results and 0 failures\n"
          ]
        },
        {
          "output_type": "stream",
          "name": "stdout",
          "text": [
            "\u001b[2m\u001b[36m(DefaultActor pid=30773)\u001b[0m [Client 5] get_parameters\n",
            "Saving round 4 aggregated_parameters...\n"
          ]
        },
        {
          "output_type": "stream",
          "name": "stderr",
          "text": [
            "INFO flwr 2024-01-04 16:04:38,499 | server.py:125 | fit progress: (4, 317.0902304649353, {'accuracy': 0.872093023255814}, 451.8652086940001)\n",
            "INFO:flwr:fit progress: (4, 317.0902304649353, {'accuracy': 0.872093023255814}, 451.8652086940001)\n",
            "DEBUG flwr 2024-01-04 16:04:38,503 | server.py:173 | evaluate_round 4: strategy sampled 30 clients (out of 30)\n",
            "DEBUG:flwr:evaluate_round 4: strategy sampled 30 clients (out of 30)\n"
          ]
        },
        {
          "output_type": "stream",
          "name": "stdout",
          "text": [
            "Accuracy của poisoned task: 0.87%\n",
            "\u001b[2m\u001b[36m(DefaultActor pid=30773)\u001b[0m Accuracy của poisoned task: 0.00%\n",
            "\u001b[2m\u001b[36m(DefaultActor pid=30773)\u001b[0m [Client 5] evaluate, config: {}, local accuracy: 0.0\n",
            "\u001b[2m\u001b[36m(DefaultActor pid=30773)\u001b[0m Accuracy của poisoned task: 4.55%\n",
            "\u001b[2m\u001b[36m(DefaultActor pid=30773)\u001b[0m [Client 26] evaluate, config: {}, local accuracy: 4.545454545454546\n",
            "\u001b[2m\u001b[36m(DefaultActor pid=30773)\u001b[0m Accuracy của poisoned task: 0.00%\n",
            "\u001b[2m\u001b[36m(DefaultActor pid=30773)\u001b[0m [Client 16] evaluate, config: {}, local accuracy: 0.0\n",
            "\u001b[2m\u001b[36m(DefaultActor pid=30773)\u001b[0m Accuracy của poisoned task: 0.00%\n",
            "\u001b[2m\u001b[36m(DefaultActor pid=30773)\u001b[0m [Client 28] evaluate, config: {}, local accuracy: 0.0\n",
            "\u001b[2m\u001b[36m(DefaultActor pid=30773)\u001b[0m Accuracy của poisoned task: 0.00%\n",
            "\u001b[2m\u001b[36m(DefaultActor pid=30773)\u001b[0m [Client 13] evaluate, config: {}, local accuracy: 0.0\n",
            "\u001b[2m\u001b[36m(DefaultActor pid=30773)\u001b[0m Accuracy của poisoned task: 7.14%\n",
            "\u001b[2m\u001b[36m(DefaultActor pid=30773)\u001b[0m [Client 11] evaluate, config: {}, local accuracy: 7.142857142857143\n",
            "\u001b[2m\u001b[36m(DefaultActor pid=30773)\u001b[0m Accuracy của poisoned task: 0.00%\n",
            "\u001b[2m\u001b[36m(DefaultActor pid=30773)\u001b[0m [Client 24] evaluate, config: {}, local accuracy: 0.0\n",
            "\u001b[2m\u001b[36m(DefaultActor pid=30773)\u001b[0m Accuracy của poisoned task: 0.00%\n",
            "\u001b[2m\u001b[36m(DefaultActor pid=30773)\u001b[0m [Client 4] evaluate, config: {}, local accuracy: 0.0\n",
            "\u001b[2m\u001b[36m(DefaultActor pid=30773)\u001b[0m Accuracy của poisoned task: 3.45%\n",
            "\u001b[2m\u001b[36m(DefaultActor pid=30773)\u001b[0m [Client 9] evaluate, config: {}, local accuracy: 3.4482758620689653\n",
            "\u001b[2m\u001b[36m(DefaultActor pid=30773)\u001b[0m Accuracy của poisoned task: 0.00%\n",
            "\u001b[2m\u001b[36m(DefaultActor pid=30773)\u001b[0m [Client 18] evaluate, config: {}, local accuracy: 0.0\n",
            "\u001b[2m\u001b[36m(DefaultActor pid=30773)\u001b[0m Accuracy của poisoned task: 0.00%\n",
            "\u001b[2m\u001b[36m(DefaultActor pid=30773)\u001b[0m [Client 29] evaluate, config: {}, local accuracy: 0.0\n",
            "\u001b[2m\u001b[36m(DefaultActor pid=30773)\u001b[0m Accuracy của poisoned task: 0.00%\n",
            "\u001b[2m\u001b[36m(DefaultActor pid=30773)\u001b[0m [Client 27] evaluate, config: {}, local accuracy: 0.0\n",
            "\u001b[2m\u001b[36m(DefaultActor pid=30773)\u001b[0m Accuracy của poisoned task: 0.00%\n",
            "\u001b[2m\u001b[36m(DefaultActor pid=30773)\u001b[0m [Client 23] evaluate, config: {}, local accuracy: 0.0\n",
            "\u001b[2m\u001b[36m(DefaultActor pid=30773)\u001b[0m Accuracy của poisoned task: 4.17%\n",
            "\u001b[2m\u001b[36m(DefaultActor pid=30773)\u001b[0m [Client 12] evaluate, config: {}, local accuracy: 4.166666666666667\n",
            "\u001b[2m\u001b[36m(DefaultActor pid=30773)\u001b[0m Accuracy của poisoned task: 6.67%\n",
            "\u001b[2m\u001b[36m(DefaultActor pid=30773)\u001b[0m [Client 20] evaluate, config: {}, local accuracy: 6.666666666666667\n",
            "\u001b[2m\u001b[36m(DefaultActor pid=30773)\u001b[0m Accuracy của poisoned task: 0.00%\n",
            "\u001b[2m\u001b[36m(DefaultActor pid=30773)\u001b[0m [Client 10] evaluate, config: {}, local accuracy: 0.0\n",
            "\u001b[2m\u001b[36m(DefaultActor pid=30773)\u001b[0m Accuracy của poisoned task: 0.00%\n",
            "\u001b[2m\u001b[36m(DefaultActor pid=30773)\u001b[0m [Client 25] evaluate, config: {}, local accuracy: 0.0\n",
            "\u001b[2m\u001b[36m(DefaultActor pid=30773)\u001b[0m Accuracy của poisoned task: 4.55%\n",
            "\u001b[2m\u001b[36m(DefaultActor pid=30773)\u001b[0m [Client 6] evaluate, config: {}, local accuracy: 4.545454545454546\n",
            "\u001b[2m\u001b[36m(DefaultActor pid=30773)\u001b[0m Accuracy của poisoned task: 0.00%\n",
            "\u001b[2m\u001b[36m(DefaultActor pid=30773)\u001b[0m [Client 0] evaluate, config: {}, local accuracy: 0.0\n",
            "\u001b[2m\u001b[36m(DefaultActor pid=30773)\u001b[0m Accuracy của poisoned task: 0.00%\n",
            "\u001b[2m\u001b[36m(DefaultActor pid=30773)\u001b[0m [Client 1] evaluate, config: {}, local accuracy: 0.0\n",
            "\u001b[2m\u001b[36m(DefaultActor pid=30773)\u001b[0m Accuracy của poisoned task: 0.00%\n",
            "\u001b[2m\u001b[36m(DefaultActor pid=30773)\u001b[0m [Client 21] evaluate, config: {}, local accuracy: 0.0\n",
            "\u001b[2m\u001b[36m(DefaultActor pid=30773)\u001b[0m Accuracy của poisoned task: 0.00%\n",
            "\u001b[2m\u001b[36m(DefaultActor pid=30773)\u001b[0m [Client 2] evaluate, config: {}, local accuracy: 0.0\n",
            "\u001b[2m\u001b[36m(DefaultActor pid=30773)\u001b[0m Accuracy của poisoned task: 0.00%\n",
            "\u001b[2m\u001b[36m(DefaultActor pid=30773)\u001b[0m [Client 3] evaluate, config: {}, local accuracy: 0.0\n",
            "\u001b[2m\u001b[36m(DefaultActor pid=30773)\u001b[0m Accuracy của poisoned task: 0.00%\n",
            "\u001b[2m\u001b[36m(DefaultActor pid=30773)\u001b[0m [Client 7] evaluate, config: {}, local accuracy: 0.0\n",
            "\u001b[2m\u001b[36m(DefaultActor pid=30773)\u001b[0m Accuracy của poisoned task: 0.00%\n",
            "\u001b[2m\u001b[36m(DefaultActor pid=30773)\u001b[0m [Client 8] evaluate, config: {}, local accuracy: 0.0\n",
            "\u001b[2m\u001b[36m(DefaultActor pid=30773)\u001b[0m Accuracy của poisoned task: 0.00%\n",
            "\u001b[2m\u001b[36m(DefaultActor pid=30773)\u001b[0m [Client 22] evaluate, config: {}, local accuracy: 0.0\n",
            "\u001b[2m\u001b[36m(DefaultActor pid=30773)\u001b[0m Accuracy của poisoned task: 0.00%\n",
            "\u001b[2m\u001b[36m(DefaultActor pid=30773)\u001b[0m [Client 17] evaluate, config: {}, local accuracy: 0.0\n",
            "\u001b[2m\u001b[36m(DefaultActor pid=30773)\u001b[0m Accuracy của poisoned task: 3.85%\n",
            "\u001b[2m\u001b[36m(DefaultActor pid=30773)\u001b[0m [Client 14] evaluate, config: {}, local accuracy: 3.8461538461538463\n",
            "\u001b[2m\u001b[36m(DefaultActor pid=30773)\u001b[0m Accuracy của poisoned task: 0.00%\n",
            "\u001b[2m\u001b[36m(DefaultActor pid=30773)\u001b[0m [Client 15] evaluate, config: {}, local accuracy: 0.0\n"
          ]
        },
        {
          "output_type": "stream",
          "name": "stderr",
          "text": [
            "DEBUG flwr 2024-01-04 16:04:44,155 | server.py:187 | evaluate_round 4 received 30 results and 0 failures\n",
            "DEBUG:flwr:evaluate_round 4 received 30 results and 0 failures\n",
            "DEBUG flwr 2024-01-04 16:04:44,159 | server.py:222 | fit_round 5: strategy sampled 10 clients (out of 30)\n",
            "DEBUG:flwr:fit_round 5: strategy sampled 10 clients (out of 30)\n"
          ]
        },
        {
          "output_type": "stream",
          "name": "stdout",
          "text": [
            "\u001b[2m\u001b[36m(DefaultActor pid=30773)\u001b[0m Accuracy của poisoned task: 0.00%\n",
            "\u001b[2m\u001b[36m(DefaultActor pid=30773)\u001b[0m [Client 19] evaluate, config: {}, local accuracy: 0.0\n",
            "\u001b[2m\u001b[36m(DefaultActor pid=30773)\u001b[0m [Client 13] fit, config: {'epochs': 10, 'lr': 0.1, 'attacker_epochs': 20, 'attacker_lr': 0.05}\n",
            "\u001b[2m\u001b[36m(DefaultActor pid=30773)\u001b[0m [Client 13] get_parameters\n",
            "\u001b[2m\u001b[36m(DefaultActor pid=30773)\u001b[0m [Client 17] fit, config: {'epochs': 10, 'lr': 0.1, 'attacker_epochs': 20, 'attacker_lr': 0.05}\n",
            "\u001b[2m\u001b[36m(DefaultActor pid=30773)\u001b[0m [Client 17] get_parameters\n",
            "\u001b[2m\u001b[36m(DefaultActor pid=30773)\u001b[0m [Client 1] fit, config: {'epochs': 10, 'lr': 0.1, 'attacker_epochs': 20, 'attacker_lr': 0.05}\n",
            "\u001b[2m\u001b[36m(DefaultActor pid=30773)\u001b[0m [Client 1] get_parameters\n",
            "\u001b[2m\u001b[36m(DefaultActor pid=30773)\u001b[0m [Client 0] fit, config: {'epochs': 10, 'lr': 0.1, 'attacker_epochs': 20, 'attacker_lr': 0.05}\n",
            "\u001b[2m\u001b[36m(DefaultActor pid=30773)\u001b[0m Accuracy của poisoned task: 0.87%\n",
            "\u001b[2m\u001b[36m(DefaultActor pid=30773)\u001b[0m Training G::   0%|          | 0/1 [00:00<?, ?it/s]\n",
            "\u001b[2m\u001b[36m(DefaultActor pid=30773)\u001b[0m Poison Training::   0%|          | 0/1 [00:00<?, ?it/s]\n",
            "\u001b[2m\u001b[36m(DefaultActor pid=30773)\u001b[0m Training G::   0%|          | 0/1 [00:00<?, ?it/s]\n",
            "\u001b[2m\u001b[36m(DefaultActor pid=30773)\u001b[0m Poison Training::   0%|          | 0/1 [00:00<?, ?it/s]\n",
            "\u001b[2m\u001b[36m(DefaultActor pid=30773)\u001b[0m Training G::   0%|          | 0/1 [00:00<?, ?it/s]\n",
            "\u001b[2m\u001b[36m(DefaultActor pid=30773)\u001b[0m Poison Training::   0%|          | 0/1 [00:00<?, ?it/s]\n",
            "\u001b[2m\u001b[36m(DefaultActor pid=30773)\u001b[0m Training G::   0%|          | 0/1 [00:00<?, ?it/s]\n",
            "\u001b[2m\u001b[36m(DefaultActor pid=30773)\u001b[0m Poison Training::   0%|          | 0/1 [00:00<?, ?it/s]\n",
            "\u001b[2m\u001b[36m(DefaultActor pid=30773)\u001b[0m Training G::   0%|          | 0/1 [00:00<?, ?it/s]\n",
            "\u001b[2m\u001b[36m(DefaultActor pid=30773)\u001b[0m Poison Training::   0%|          | 0/1 [00:00<?, ?it/s]\n",
            "\u001b[2m\u001b[36m(DefaultActor pid=30773)\u001b[0m Training G::   0%|          | 0/1 [00:00<?, ?it/s]\n",
            "\u001b[2m\u001b[36m(DefaultActor pid=30773)\u001b[0m Poison Training::   0%|          | 0/1 [00:00<?, ?it/s]\n",
            "\u001b[2m\u001b[36m(DefaultActor pid=30773)\u001b[0m Training G::   0%|          | 0/1 [00:00<?, ?it/s]\n",
            "\u001b[2m\u001b[36m(DefaultActor pid=30773)\u001b[0m Poison Training::   0%|          | 0/1 [00:00<?, ?it/s]\n",
            "\u001b[2m\u001b[36m(DefaultActor pid=30773)\u001b[0m Training G::   0%|          | 0/1 [00:00<?, ?it/s]\n",
            "\u001b[2m\u001b[36m(DefaultActor pid=30773)\u001b[0m Poison Training::   0%|          | 0/1 [00:00<?, ?it/s]\n",
            "\u001b[2m\u001b[36m(DefaultActor pid=30773)\u001b[0m Training G::   0%|          | 0/1 [00:00<?, ?it/s]\n",
            "\u001b[2m\u001b[36m(DefaultActor pid=30773)\u001b[0m Poison Training::   0%|          | 0/1 [00:00<?, ?it/s]\n",
            "\u001b[2m\u001b[36m(DefaultActor pid=30773)\u001b[0m Training G::   0%|          | 0/1 [00:00<?, ?it/s]\n",
            "\u001b[2m\u001b[36m(DefaultActor pid=30773)\u001b[0m Poison Training::   0%|          | 0/1 [00:00<?, ?it/s]\n",
            "\u001b[2m\u001b[36m(DefaultActor pid=30773)\u001b[0m Training G::   0%|          | 0/1 [00:00<?, ?it/s]\n",
            "\u001b[2m\u001b[36m(DefaultActor pid=30773)\u001b[0m Poison Training::   0%|          | 0/1 [00:00<?, ?it/s]\n",
            "\u001b[2m\u001b[36m(DefaultActor pid=30773)\u001b[0m Training G::   0%|          | 0/1 [00:00<?, ?it/s]\n",
            "\u001b[2m\u001b[36m(DefaultActor pid=30773)\u001b[0m Poison Training::   0%|          | 0/1 [00:00<?, ?it/s]\n",
            "\u001b[2m\u001b[36m(DefaultActor pid=30773)\u001b[0m Training G::   0%|          | 0/1 [00:00<?, ?it/s]\n",
            "\u001b[2m\u001b[36m(DefaultActor pid=30773)\u001b[0m Poison Training::   0%|          | 0/1 [00:00<?, ?it/s]\n",
            "\u001b[2m\u001b[36m(DefaultActor pid=30773)\u001b[0m Training G::   0%|          | 0/1 [00:00<?, ?it/s]\n",
            "\u001b[2m\u001b[36m(DefaultActor pid=30773)\u001b[0m Poison Training::   0%|          | 0/1 [00:00<?, ?it/s]\n",
            "\u001b[2m\u001b[36m(DefaultActor pid=30773)\u001b[0m Training G::   0%|          | 0/1 [00:00<?, ?it/s]\n",
            "\u001b[2m\u001b[36m(DefaultActor pid=30773)\u001b[0m Poison Training::   0%|          | 0/1 [00:00<?, ?it/s]\n",
            "\u001b[2m\u001b[36m(DefaultActor pid=30773)\u001b[0m Training G::   0%|          | 0/1 [00:00<?, ?it/s]\n",
            "\u001b[2m\u001b[36m(DefaultActor pid=30773)\u001b[0m Poison Training::   0%|          | 0/1 [00:00<?, ?it/s]\n",
            "\u001b[2m\u001b[36m(DefaultActor pid=30773)\u001b[0m Training G::   0%|          | 0/1 [00:00<?, ?it/s]\n",
            "\u001b[2m\u001b[36m(DefaultActor pid=30773)\u001b[0m Poison Training::   0%|          | 0/1 [00:00<?, ?it/s]\n",
            "\u001b[2m\u001b[36m(DefaultActor pid=30773)\u001b[0m Training G::   0%|          | 0/1 [00:00<?, ?it/s]\n",
            "\u001b[2m\u001b[36m(DefaultActor pid=30773)\u001b[0m Poison Training::   0%|          | 0/1 [00:00<?, ?it/s]\n",
            "\u001b[2m\u001b[36m(DefaultActor pid=30773)\u001b[0m Training G::   0%|          | 0/1 [00:00<?, ?it/s]\n",
            "\u001b[2m\u001b[36m(DefaultActor pid=30773)\u001b[0m Poison Training::   0%|          | 0/1 [00:00<?, ?it/s]\n",
            "\u001b[2m\u001b[36m(DefaultActor pid=30773)\u001b[0m Training G::   0%|          | 0/1 [00:00<?, ?it/s]\n",
            "\u001b[2m\u001b[36m(DefaultActor pid=30773)\u001b[0m Poison Training::   0%|          | 0/1 [00:00<?, ?it/s]\n",
            "\u001b[2m\u001b[36m(DefaultActor pid=30773)\u001b[0m [Client 0] get_parameters\n",
            "\u001b[2m\u001b[36m(DefaultActor pid=30773)\u001b[0m [Client 26] fit, config: {'epochs': 10, 'lr': 0.1, 'attacker_epochs': 20, 'attacker_lr': 0.05}\n",
            "\u001b[2m\u001b[36m(DefaultActor pid=30773)\u001b[0m [Client 26] get_parameters\n",
            "\u001b[2m\u001b[36m(DefaultActor pid=30773)\u001b[0m [Client 28] fit, config: {'epochs': 10, 'lr': 0.1, 'attacker_epochs': 20, 'attacker_lr': 0.05}\n",
            "\u001b[2m\u001b[36m(DefaultActor pid=30773)\u001b[0m [Client 28] get_parameters\n",
            "\u001b[2m\u001b[36m(DefaultActor pid=30773)\u001b[0m [Client 8] fit, config: {'epochs': 10, 'lr': 0.1, 'attacker_epochs': 20, 'attacker_lr': 0.05}\n",
            "\u001b[2m\u001b[36m(DefaultActor pid=30773)\u001b[0m [Client 8] get_parameters\n",
            "\u001b[2m\u001b[36m(DefaultActor pid=30773)\u001b[0m [Client 19] fit, config: {'epochs': 10, 'lr': 0.1, 'attacker_epochs': 20, 'attacker_lr': 0.05}\n",
            "\u001b[2m\u001b[36m(DefaultActor pid=30773)\u001b[0m [Client 19] get_parameters\n",
            "\u001b[2m\u001b[36m(DefaultActor pid=30773)\u001b[0m [Client 18] fit, config: {'epochs': 10, 'lr': 0.1, 'attacker_epochs': 20, 'attacker_lr': 0.05}\n",
            "\u001b[2m\u001b[36m(DefaultActor pid=30773)\u001b[0m [Client 18] get_parameters\n",
            "\u001b[2m\u001b[36m(DefaultActor pid=30773)\u001b[0m [Client 11] fit, config: {'epochs': 10, 'lr': 0.1, 'attacker_epochs': 20, 'attacker_lr': 0.05}\n"
          ]
        },
        {
          "output_type": "stream",
          "name": "stderr",
          "text": [
            "DEBUG flwr 2024-01-04 16:06:23,347 | server.py:236 | fit_round 5 received 10 results and 0 failures\n",
            "DEBUG:flwr:fit_round 5 received 10 results and 0 failures\n"
          ]
        },
        {
          "output_type": "stream",
          "name": "stdout",
          "text": [
            "\u001b[2m\u001b[36m(DefaultActor pid=30773)\u001b[0m [Client 11] get_parameters\n",
            "Saving round 5 aggregated_parameters...\n"
          ]
        },
        {
          "output_type": "stream",
          "name": "stderr",
          "text": [
            "INFO flwr 2024-01-04 16:06:29,834 | server.py:125 | fit progress: (5, 327.8020248413086, {'accuracy': 17.05426356589147}, 563.2001445920005)\n",
            "INFO:flwr:fit progress: (5, 327.8020248413086, {'accuracy': 17.05426356589147}, 563.2001445920005)\n",
            "DEBUG flwr 2024-01-04 16:06:29,840 | server.py:173 | evaluate_round 5: strategy sampled 30 clients (out of 30)\n",
            "DEBUG:flwr:evaluate_round 5: strategy sampled 30 clients (out of 30)\n"
          ]
        },
        {
          "output_type": "stream",
          "name": "stdout",
          "text": [
            "Accuracy của poisoned task: 17.05%\n",
            "\u001b[2m\u001b[36m(DefaultActor pid=30773)\u001b[0m Accuracy của poisoned task: 23.08%\n",
            "\u001b[2m\u001b[36m(DefaultActor pid=30773)\u001b[0m [Client 1] evaluate, config: {}, local accuracy: 23.076923076923077\n",
            "\u001b[2m\u001b[36m(DefaultActor pid=30773)\u001b[0m Accuracy của poisoned task: 14.29%\n",
            "\u001b[2m\u001b[36m(DefaultActor pid=30773)\u001b[0m [Client 14] evaluate, config: {}, local accuracy: 14.285714285714286\n",
            "\u001b[2m\u001b[36m(DefaultActor pid=30773)\u001b[0m Accuracy của poisoned task: 17.39%\n",
            "\u001b[2m\u001b[36m(DefaultActor pid=30773)\u001b[0m [Client 24] evaluate, config: {}, local accuracy: 17.391304347826086\n",
            "\u001b[2m\u001b[36m(DefaultActor pid=30773)\u001b[0m Accuracy của poisoned task: 21.05%\n",
            "\u001b[2m\u001b[36m(DefaultActor pid=30773)\u001b[0m [Client 19] evaluate, config: {}, local accuracy: 21.05263157894737\n",
            "\u001b[2m\u001b[36m(DefaultActor pid=30773)\u001b[0m Accuracy của poisoned task: 27.27%\n",
            "\u001b[2m\u001b[36m(DefaultActor pid=30773)\u001b[0m [Client 20] evaluate, config: {}, local accuracy: 27.272727272727273\n",
            "\u001b[2m\u001b[36m(DefaultActor pid=30773)\u001b[0m Accuracy của poisoned task: 17.86%\n",
            "\u001b[2m\u001b[36m(DefaultActor pid=30773)\u001b[0m [Client 7] evaluate, config: {}, local accuracy: 17.857142857142858\n",
            "\u001b[2m\u001b[36m(DefaultActor pid=30773)\u001b[0m Accuracy của poisoned task: 35.00%\n",
            "\u001b[2m\u001b[36m(DefaultActor pid=30773)\u001b[0m [Client 6] evaluate, config: {}, local accuracy: 35.0\n",
            "\u001b[2m\u001b[36m(DefaultActor pid=30773)\u001b[0m Accuracy của poisoned task: 32.14%\n",
            "\u001b[2m\u001b[36m(DefaultActor pid=30773)\u001b[0m [Client 27] evaluate, config: {}, local accuracy: 32.142857142857146\n",
            "\u001b[2m\u001b[36m(DefaultActor pid=30773)\u001b[0m Accuracy của poisoned task: 26.09%\n",
            "\u001b[2m\u001b[36m(DefaultActor pid=30773)\u001b[0m [Client 18] evaluate, config: {}, local accuracy: 26.08695652173913\n",
            "\u001b[2m\u001b[36m(DefaultActor pid=30773)\u001b[0m Accuracy của poisoned task: 15.79%\n",
            "\u001b[2m\u001b[36m(DefaultActor pid=30773)\u001b[0m [Client 5] evaluate, config: {}, local accuracy: 15.789473684210526\n",
            "\u001b[2m\u001b[36m(DefaultActor pid=30773)\u001b[0m Accuracy của poisoned task: 26.32%\n",
            "\u001b[2m\u001b[36m(DefaultActor pid=30773)\u001b[0m [Client 11] evaluate, config: {}, local accuracy: 26.31578947368421\n",
            "\u001b[2m\u001b[36m(DefaultActor pid=30773)\u001b[0m Accuracy của poisoned task: 25.00%\n",
            "\u001b[2m\u001b[36m(DefaultActor pid=30773)\u001b[0m [Client 29] evaluate, config: {}, local accuracy: 25.0\n",
            "\u001b[2m\u001b[36m(DefaultActor pid=30773)\u001b[0m Accuracy của poisoned task: 6.90%\n",
            "\u001b[2m\u001b[36m(DefaultActor pid=30773)\u001b[0m [Client 9] evaluate, config: {}, local accuracy: 6.896551724137931\n",
            "\u001b[2m\u001b[36m(DefaultActor pid=30773)\u001b[0m Accuracy của poisoned task: 13.33%\n",
            "\u001b[2m\u001b[36m(DefaultActor pid=30773)\u001b[0m [Client 3] evaluate, config: {}, local accuracy: 13.333333333333334\n",
            "\u001b[2m\u001b[36m(DefaultActor pid=30773)\u001b[0m Accuracy của poisoned task: 15.00%\n",
            "\u001b[2m\u001b[36m(DefaultActor pid=30773)\u001b[0m [Client 0] evaluate, config: {}, local accuracy: 15.0\n",
            "\u001b[2m\u001b[36m(DefaultActor pid=30773)\u001b[0m Accuracy của poisoned task: 19.05%\n",
            "\u001b[2m\u001b[36m(DefaultActor pid=30773)\u001b[0m [Client 17] evaluate, config: {}, local accuracy: 19.047619047619047\n",
            "\u001b[2m\u001b[36m(DefaultActor pid=30773)\u001b[0m Accuracy của poisoned task: 20.00%\n",
            "\u001b[2m\u001b[36m(DefaultActor pid=30773)\u001b[0m [Client 16] evaluate, config: {}, local accuracy: 20.0\n",
            "\u001b[2m\u001b[36m(DefaultActor pid=30773)\u001b[0m Accuracy của poisoned task: 13.33%\n",
            "\u001b[2m\u001b[36m(DefaultActor pid=30773)\u001b[0m [Client 10] evaluate, config: {}, local accuracy: 13.333333333333334\n",
            "\u001b[2m\u001b[36m(DefaultActor pid=30773)\u001b[0m Accuracy của poisoned task: 9.52%\n",
            "\u001b[2m\u001b[36m(DefaultActor pid=30773)\u001b[0m [Client 2] evaluate, config: {}, local accuracy: 9.523809523809524\n",
            "\u001b[2m\u001b[36m(DefaultActor pid=30773)\u001b[0m Accuracy của poisoned task: 28.57%\n",
            "\u001b[2m\u001b[36m(DefaultActor pid=30773)\u001b[0m [Client 22] evaluate, config: {}, local accuracy: 28.571428571428573\n",
            "\u001b[2m\u001b[36m(DefaultActor pid=30773)\u001b[0m Accuracy của poisoned task: 10.53%\n",
            "\u001b[2m\u001b[36m(DefaultActor pid=30773)\u001b[0m [Client 25] evaluate, config: {}, local accuracy: 10.526315789473685\n",
            "\u001b[2m\u001b[36m(DefaultActor pid=30773)\u001b[0m Accuracy của poisoned task: 6.67%\n",
            "\u001b[2m\u001b[36m(DefaultActor pid=30773)\u001b[0m [Client 15] evaluate, config: {}, local accuracy: 6.666666666666667\n",
            "\u001b[2m\u001b[36m(DefaultActor pid=30773)\u001b[0m Accuracy của poisoned task: 9.52%\n",
            "\u001b[2m\u001b[36m(DefaultActor pid=30773)\u001b[0m [Client 12] evaluate, config: {}, local accuracy: 9.523809523809524\n",
            "\u001b[2m\u001b[36m(DefaultActor pid=30773)\u001b[0m Accuracy của poisoned task: 5.88%\n",
            "\u001b[2m\u001b[36m(DefaultActor pid=30773)\u001b[0m [Client 4] evaluate, config: {}, local accuracy: 5.882352941176471\n",
            "\u001b[2m\u001b[36m(DefaultActor pid=30773)\u001b[0m Accuracy của poisoned task: 14.29%\n",
            "\u001b[2m\u001b[36m(DefaultActor pid=30773)\u001b[0m [Client 26] evaluate, config: {}, local accuracy: 14.285714285714286\n",
            "\u001b[2m\u001b[36m(DefaultActor pid=30773)\u001b[0m Accuracy của poisoned task: 11.11%\n",
            "\u001b[2m\u001b[36m(DefaultActor pid=30773)\u001b[0m [Client 13] evaluate, config: {}, local accuracy: 11.11111111111111\n",
            "\u001b[2m\u001b[36m(DefaultActor pid=30773)\u001b[0m Accuracy của poisoned task: 0.00%\n",
            "\u001b[2m\u001b[36m(DefaultActor pid=30773)\u001b[0m [Client 28] evaluate, config: {}, local accuracy: 0.0\n",
            "\u001b[2m\u001b[36m(DefaultActor pid=30773)\u001b[0m Accuracy của poisoned task: 13.64%\n",
            "\u001b[2m\u001b[36m(DefaultActor pid=30773)\u001b[0m [Client 21] evaluate, config: {}, local accuracy: 13.636363636363637\n"
          ]
        },
        {
          "output_type": "stream",
          "name": "stderr",
          "text": [
            "DEBUG flwr 2024-01-04 16:06:35,526 | server.py:187 | evaluate_round 5 received 30 results and 0 failures\n",
            "DEBUG:flwr:evaluate_round 5 received 30 results and 0 failures\n",
            "DEBUG flwr 2024-01-04 16:06:35,532 | server.py:222 | fit_round 6: strategy sampled 10 clients (out of 30)\n",
            "DEBUG:flwr:fit_round 6: strategy sampled 10 clients (out of 30)\n"
          ]
        },
        {
          "output_type": "stream",
          "name": "stdout",
          "text": [
            "\u001b[2m\u001b[36m(DefaultActor pid=30773)\u001b[0m Accuracy của poisoned task: 7.69%\n",
            "\u001b[2m\u001b[36m(DefaultActor pid=30773)\u001b[0m [Client 8] evaluate, config: {}, local accuracy: 7.6923076923076925\n",
            "\u001b[2m\u001b[36m(DefaultActor pid=30773)\u001b[0m Accuracy của poisoned task: 21.74%\n",
            "\u001b[2m\u001b[36m(DefaultActor pid=30773)\u001b[0m [Client 23] evaluate, config: {}, local accuracy: 21.73913043478261\n",
            "\u001b[2m\u001b[36m(DefaultActor pid=30773)\u001b[0m [Client 8] fit, config: {'epochs': 10, 'lr': 0.1, 'attacker_epochs': 20, 'attacker_lr': 0.05}\n",
            "\u001b[2m\u001b[36m(DefaultActor pid=30773)\u001b[0m [Client 8] get_parameters\n",
            "\u001b[2m\u001b[36m(DefaultActor pid=30773)\u001b[0m [Client 29] fit, config: {'epochs': 10, 'lr': 0.1, 'attacker_epochs': 20, 'attacker_lr': 0.05}\n",
            "\u001b[2m\u001b[36m(DefaultActor pid=30773)\u001b[0m [Client 29] get_parameters\n",
            "\u001b[2m\u001b[36m(DefaultActor pid=30773)\u001b[0m [Client 10] fit, config: {'epochs': 10, 'lr': 0.1, 'attacker_epochs': 20, 'attacker_lr': 0.05}\n",
            "\u001b[2m\u001b[36m(DefaultActor pid=30773)\u001b[0m [Client 10] get_parameters\n",
            "\u001b[2m\u001b[36m(DefaultActor pid=30773)\u001b[0m [Client 2] fit, config: {'epochs': 10, 'lr': 0.1, 'attacker_epochs': 20, 'attacker_lr': 0.05}\n",
            "\u001b[2m\u001b[36m(DefaultActor pid=30773)\u001b[0m [Client 2] get_parameters\n",
            "\u001b[2m\u001b[36m(DefaultActor pid=30773)\u001b[0m [Client 5] fit, config: {'epochs': 10, 'lr': 0.1, 'attacker_epochs': 20, 'attacker_lr': 0.05}\n",
            "\u001b[2m\u001b[36m(DefaultActor pid=30773)\u001b[0m [Client 5] get_parameters\n",
            "\u001b[2m\u001b[36m(DefaultActor pid=30773)\u001b[0m [Client 4] fit, config: {'epochs': 10, 'lr': 0.1, 'attacker_epochs': 20, 'attacker_lr': 0.05}\n",
            "\u001b[2m\u001b[36m(DefaultActor pid=30773)\u001b[0m [Client 4] get_parameters\n",
            "\u001b[2m\u001b[36m(DefaultActor pid=30773)\u001b[0m [Client 0] fit, config: {'epochs': 10, 'lr': 0.1, 'attacker_epochs': 20, 'attacker_lr': 0.05}\n",
            "\u001b[2m\u001b[36m(DefaultActor pid=30773)\u001b[0m Accuracy của poisoned task: 17.05%\n",
            "\u001b[2m\u001b[36m(DefaultActor pid=30773)\u001b[0m Training G::   0%|          | 0/1 [00:00<?, ?it/s]\n",
            "\u001b[2m\u001b[36m(DefaultActor pid=30773)\u001b[0m Poison Training::   0%|          | 0/1 [00:00<?, ?it/s]\n",
            "\u001b[2m\u001b[36m(DefaultActor pid=30773)\u001b[0m Training G::   0%|          | 0/1 [00:00<?, ?it/s]\n",
            "\u001b[2m\u001b[36m(DefaultActor pid=30773)\u001b[0m Poison Training::   0%|          | 0/1 [00:00<?, ?it/s]\n",
            "\u001b[2m\u001b[36m(DefaultActor pid=30773)\u001b[0m Training G::   0%|          | 0/1 [00:00<?, ?it/s]\n",
            "\u001b[2m\u001b[36m(DefaultActor pid=30773)\u001b[0m Poison Training::   0%|          | 0/1 [00:00<?, ?it/s]\n",
            "\u001b[2m\u001b[36m(DefaultActor pid=30773)\u001b[0m Training G::   0%|          | 0/1 [00:00<?, ?it/s]\n",
            "\u001b[2m\u001b[36m(DefaultActor pid=30773)\u001b[0m Poison Training::   0%|          | 0/1 [00:00<?, ?it/s]\n",
            "\u001b[2m\u001b[36m(DefaultActor pid=30773)\u001b[0m Training G::   0%|          | 0/1 [00:00<?, ?it/s]\n",
            "\u001b[2m\u001b[36m(DefaultActor pid=30773)\u001b[0m Poison Training::   0%|          | 0/1 [00:00<?, ?it/s]\n",
            "\u001b[2m\u001b[36m(DefaultActor pid=30773)\u001b[0m Training G::   0%|          | 0/1 [00:00<?, ?it/s]\n",
            "\u001b[2m\u001b[36m(DefaultActor pid=30773)\u001b[0m Poison Training::   0%|          | 0/1 [00:00<?, ?it/s]\n",
            "\u001b[2m\u001b[36m(DefaultActor pid=30773)\u001b[0m Training G::   0%|          | 0/1 [00:00<?, ?it/s]\n",
            "\u001b[2m\u001b[36m(DefaultActor pid=30773)\u001b[0m Poison Training::   0%|          | 0/1 [00:00<?, ?it/s]\n",
            "\u001b[2m\u001b[36m(DefaultActor pid=30773)\u001b[0m Training G::   0%|          | 0/1 [00:00<?, ?it/s]\n",
            "\u001b[2m\u001b[36m(DefaultActor pid=30773)\u001b[0m Poison Training::   0%|          | 0/1 [00:00<?, ?it/s]\n",
            "\u001b[2m\u001b[36m(DefaultActor pid=30773)\u001b[0m Training G::   0%|          | 0/1 [00:00<?, ?it/s]\n",
            "\u001b[2m\u001b[36m(DefaultActor pid=30773)\u001b[0m Poison Training::   0%|          | 0/1 [00:00<?, ?it/s]\n",
            "\u001b[2m\u001b[36m(DefaultActor pid=30773)\u001b[0m Training G::   0%|          | 0/1 [00:00<?, ?it/s]\n",
            "\u001b[2m\u001b[36m(DefaultActor pid=30773)\u001b[0m Poison Training::   0%|          | 0/1 [00:00<?, ?it/s]\n",
            "\u001b[2m\u001b[36m(DefaultActor pid=30773)\u001b[0m Training G::   0%|          | 0/1 [00:00<?, ?it/s]\n",
            "\u001b[2m\u001b[36m(DefaultActor pid=30773)\u001b[0m Poison Training::   0%|          | 0/1 [00:00<?, ?it/s]\n",
            "\u001b[2m\u001b[36m(DefaultActor pid=30773)\u001b[0m Training G::   0%|          | 0/1 [00:00<?, ?it/s]\n",
            "\u001b[2m\u001b[36m(DefaultActor pid=30773)\u001b[0m Poison Training::   0%|          | 0/1 [00:00<?, ?it/s]\n",
            "\u001b[2m\u001b[36m(DefaultActor pid=30773)\u001b[0m Training G::   0%|          | 0/1 [00:00<?, ?it/s]\n",
            "\u001b[2m\u001b[36m(DefaultActor pid=30773)\u001b[0m Poison Training::   0%|          | 0/1 [00:00<?, ?it/s]\n",
            "\u001b[2m\u001b[36m(DefaultActor pid=30773)\u001b[0m Training G::   0%|          | 0/1 [00:00<?, ?it/s]\n",
            "\u001b[2m\u001b[36m(DefaultActor pid=30773)\u001b[0m Poison Training::   0%|          | 0/1 [00:00<?, ?it/s]\n",
            "\u001b[2m\u001b[36m(DefaultActor pid=30773)\u001b[0m Training G::   0%|          | 0/1 [00:00<?, ?it/s]\n",
            "\u001b[2m\u001b[36m(DefaultActor pid=30773)\u001b[0m Poison Training::   0%|          | 0/1 [00:00<?, ?it/s]\n",
            "\u001b[2m\u001b[36m(DefaultActor pid=30773)\u001b[0m Training G::   0%|          | 0/1 [00:00<?, ?it/s]\n",
            "\u001b[2m\u001b[36m(DefaultActor pid=30773)\u001b[0m Poison Training::   0%|          | 0/1 [00:00<?, ?it/s]\n",
            "\u001b[2m\u001b[36m(DefaultActor pid=30773)\u001b[0m Training G::   0%|          | 0/1 [00:00<?, ?it/s]\n",
            "\u001b[2m\u001b[36m(DefaultActor pid=30773)\u001b[0m Poison Training::   0%|          | 0/1 [00:00<?, ?it/s]\n",
            "\u001b[2m\u001b[36m(DefaultActor pid=30773)\u001b[0m Training G::   0%|          | 0/1 [00:00<?, ?it/s]\n",
            "\u001b[2m\u001b[36m(DefaultActor pid=30773)\u001b[0m Poison Training::   0%|          | 0/1 [00:00<?, ?it/s]\n",
            "\u001b[2m\u001b[36m(DefaultActor pid=30773)\u001b[0m Training G::   0%|          | 0/1 [00:00<?, ?it/s]\n",
            "\u001b[2m\u001b[36m(DefaultActor pid=30773)\u001b[0m Poison Training::   0%|          | 0/1 [00:00<?, ?it/s]\n",
            "\u001b[2m\u001b[36m(DefaultActor pid=30773)\u001b[0m Training G::   0%|          | 0/1 [00:00<?, ?it/s]\n",
            "\u001b[2m\u001b[36m(DefaultActor pid=30773)\u001b[0m Poison Training::   0%|          | 0/1 [00:00<?, ?it/s]\n",
            "\u001b[2m\u001b[36m(DefaultActor pid=30773)\u001b[0m [Client 0] get_parameters\n",
            "\u001b[2m\u001b[36m(DefaultActor pid=30773)\u001b[0m [Client 7] fit, config: {'epochs': 10, 'lr': 0.1, 'attacker_epochs': 20, 'attacker_lr': 0.05}\n",
            "\u001b[2m\u001b[36m(DefaultActor pid=30773)\u001b[0m [Client 7] get_parameters\n",
            "\u001b[2m\u001b[36m(DefaultActor pid=30773)\u001b[0m [Client 3] fit, config: {'epochs': 10, 'lr': 0.1, 'attacker_epochs': 20, 'attacker_lr': 0.05}\n",
            "\u001b[2m\u001b[36m(DefaultActor pid=30773)\u001b[0m [Client 3] get_parameters\n",
            "\u001b[2m\u001b[36m(DefaultActor pid=30773)\u001b[0m [Client 18] fit, config: {'epochs': 10, 'lr': 0.1, 'attacker_epochs': 20, 'attacker_lr': 0.05}\n"
          ]
        },
        {
          "output_type": "stream",
          "name": "stderr",
          "text": [
            "DEBUG flwr 2024-01-04 16:08:14,532 | server.py:236 | fit_round 6 received 10 results and 0 failures\n",
            "DEBUG:flwr:fit_round 6 received 10 results and 0 failures\n"
          ]
        },
        {
          "output_type": "stream",
          "name": "stdout",
          "text": [
            "\u001b[2m\u001b[36m(DefaultActor pid=30773)\u001b[0m [Client 18] get_parameters\n",
            "Saving round 6 aggregated_parameters...\n"
          ]
        },
        {
          "output_type": "stream",
          "name": "stderr",
          "text": [
            "INFO flwr 2024-01-04 16:08:20,603 | server.py:125 | fit progress: (6, 318.09258699417114, {'accuracy': 4.941860465116279}, 673.9686210589998)\n",
            "INFO:flwr:fit progress: (6, 318.09258699417114, {'accuracy': 4.941860465116279}, 673.9686210589998)\n",
            "DEBUG flwr 2024-01-04 16:08:20,607 | server.py:173 | evaluate_round 6: strategy sampled 30 clients (out of 30)\n",
            "DEBUG:flwr:evaluate_round 6: strategy sampled 30 clients (out of 30)\n"
          ]
        },
        {
          "output_type": "stream",
          "name": "stdout",
          "text": [
            "Accuracy của poisoned task: 4.94%\n",
            "\u001b[2m\u001b[36m(DefaultActor pid=30773)\u001b[0m Accuracy của poisoned task: 0.00%\n",
            "\u001b[2m\u001b[36m(DefaultActor pid=30773)\u001b[0m [Client 16] evaluate, config: {}, local accuracy: 0.0\n",
            "\u001b[2m\u001b[36m(DefaultActor pid=30773)\u001b[0m Accuracy của poisoned task: 5.26%\n",
            "\u001b[2m\u001b[36m(DefaultActor pid=30773)\u001b[0m [Client 13] evaluate, config: {}, local accuracy: 5.2631578947368425\n",
            "\u001b[2m\u001b[36m(DefaultActor pid=30773)\u001b[0m Accuracy của poisoned task: 5.88%\n",
            "\u001b[2m\u001b[36m(DefaultActor pid=30773)\u001b[0m [Client 9] evaluate, config: {}, local accuracy: 5.882352941176471\n",
            "\u001b[2m\u001b[36m(DefaultActor pid=30773)\u001b[0m Accuracy của poisoned task: 0.00%\n",
            "\u001b[2m\u001b[36m(DefaultActor pid=30773)\u001b[0m [Client 29] evaluate, config: {}, local accuracy: 0.0\n",
            "\u001b[2m\u001b[36m(DefaultActor pid=30773)\u001b[0m Accuracy của poisoned task: 6.67%\n",
            "\u001b[2m\u001b[36m(DefaultActor pid=30773)\u001b[0m [Client 26] evaluate, config: {}, local accuracy: 6.666666666666667\n",
            "\u001b[2m\u001b[36m(DefaultActor pid=30773)\u001b[0m Accuracy của poisoned task: 0.00%\n",
            "\u001b[2m\u001b[36m(DefaultActor pid=30773)\u001b[0m [Client 15] evaluate, config: {}, local accuracy: 0.0\n",
            "\u001b[2m\u001b[36m(DefaultActor pid=30773)\u001b[0m Accuracy của poisoned task: 0.00%\n",
            "\u001b[2m\u001b[36m(DefaultActor pid=30773)\u001b[0m [Client 1] evaluate, config: {}, local accuracy: 0.0\n",
            "\u001b[2m\u001b[36m(DefaultActor pid=30773)\u001b[0m Accuracy của poisoned task: 13.64%\n",
            "\u001b[2m\u001b[36m(DefaultActor pid=30773)\u001b[0m [Client 23] evaluate, config: {}, local accuracy: 13.636363636363637\n",
            "\u001b[2m\u001b[36m(DefaultActor pid=30773)\u001b[0m Accuracy của poisoned task: 0.00%\n",
            "\u001b[2m\u001b[36m(DefaultActor pid=30773)\u001b[0m [Client 14] evaluate, config: {}, local accuracy: 0.0\n",
            "\u001b[2m\u001b[36m(DefaultActor pid=30773)\u001b[0m Accuracy của poisoned task: 0.00%\n",
            "\u001b[2m\u001b[36m(DefaultActor pid=30773)\u001b[0m [Client 27] evaluate, config: {}, local accuracy: 0.0\n",
            "\u001b[2m\u001b[36m(DefaultActor pid=30773)\u001b[0m Accuracy của poisoned task: 0.00%\n",
            "\u001b[2m\u001b[36m(DefaultActor pid=30773)\u001b[0m [Client 21] evaluate, config: {}, local accuracy: 0.0\n",
            "\u001b[2m\u001b[36m(DefaultActor pid=30773)\u001b[0m Accuracy của poisoned task: 4.55%\n",
            "\u001b[2m\u001b[36m(DefaultActor pid=30773)\u001b[0m [Client 24] evaluate, config: {}, local accuracy: 4.545454545454546\n",
            "\u001b[2m\u001b[36m(DefaultActor pid=30773)\u001b[0m Accuracy của poisoned task: 5.00%\n",
            "\u001b[2m\u001b[36m(DefaultActor pid=30773)\u001b[0m [Client 20] evaluate, config: {}, local accuracy: 5.0\n",
            "\u001b[2m\u001b[36m(DefaultActor pid=30773)\u001b[0m Accuracy của poisoned task: 4.17%\n",
            "\u001b[2m\u001b[36m(DefaultActor pid=30773)\u001b[0m [Client 7] evaluate, config: {}, local accuracy: 4.166666666666667\n",
            "\u001b[2m\u001b[36m(DefaultActor pid=30773)\u001b[0m Accuracy của poisoned task: 5.00%\n",
            "\u001b[2m\u001b[36m(DefaultActor pid=30773)\u001b[0m [Client 4] evaluate, config: {}, local accuracy: 5.0\n",
            "\u001b[2m\u001b[36m(DefaultActor pid=30773)\u001b[0m Accuracy của poisoned task: 0.00%\n",
            "\u001b[2m\u001b[36m(DefaultActor pid=30773)\u001b[0m [Client 3] evaluate, config: {}, local accuracy: 0.0\n",
            "\u001b[2m\u001b[36m(DefaultActor pid=30773)\u001b[0m Accuracy của poisoned task: 8.70%\n",
            "\u001b[2m\u001b[36m(DefaultActor pid=30773)\u001b[0m [Client 22] evaluate, config: {}, local accuracy: 8.695652173913043\n",
            "\u001b[2m\u001b[36m(DefaultActor pid=30773)\u001b[0m Accuracy của poisoned task: 6.25%\n",
            "\u001b[2m\u001b[36m(DefaultActor pid=30773)\u001b[0m [Client 12] evaluate, config: {}, local accuracy: 6.25\n",
            "\u001b[2m\u001b[36m(DefaultActor pid=30773)\u001b[0m Accuracy của poisoned task: 10.53%\n",
            "\u001b[2m\u001b[36m(DefaultActor pid=30773)\u001b[0m [Client 25] evaluate, config: {}, local accuracy: 10.526315789473685\n",
            "\u001b[2m\u001b[36m(DefaultActor pid=30773)\u001b[0m Accuracy của poisoned task: 8.70%\n",
            "\u001b[2m\u001b[36m(DefaultActor pid=30773)\u001b[0m [Client 5] evaluate, config: {}, local accuracy: 8.695652173913043\n",
            "\u001b[2m\u001b[36m(DefaultActor pid=30773)\u001b[0m Accuracy của poisoned task: 0.00%\n",
            "\u001b[2m\u001b[36m(DefaultActor pid=30773)\u001b[0m [Client 10] evaluate, config: {}, local accuracy: 0.0\n",
            "\u001b[2m\u001b[36m(DefaultActor pid=30773)\u001b[0m Accuracy của poisoned task: 5.88%\n",
            "\u001b[2m\u001b[36m(DefaultActor pid=30773)\u001b[0m [Client 0] evaluate, config: {}, local accuracy: 5.882352941176471\n",
            "\u001b[2m\u001b[36m(DefaultActor pid=30773)\u001b[0m Accuracy của poisoned task: 10.53%\n",
            "\u001b[2m\u001b[36m(DefaultActor pid=30773)\u001b[0m [Client 6] evaluate, config: {}, local accuracy: 10.526315789473685\n",
            "\u001b[2m\u001b[36m(DefaultActor pid=30773)\u001b[0m Accuracy của poisoned task: 0.00%\n",
            "\u001b[2m\u001b[36m(DefaultActor pid=30773)\u001b[0m [Client 11] evaluate, config: {}, local accuracy: 0.0\n",
            "\u001b[2m\u001b[36m(DefaultActor pid=30773)\u001b[0m Accuracy của poisoned task: 4.35%\n",
            "\u001b[2m\u001b[36m(DefaultActor pid=30773)\u001b[0m [Client 2] evaluate, config: {}, local accuracy: 4.3478260869565215\n",
            "\u001b[2m\u001b[36m(DefaultActor pid=30773)\u001b[0m Accuracy của poisoned task: 12.50%\n",
            "\u001b[2m\u001b[36m(DefaultActor pid=30773)\u001b[0m [Client 17] evaluate, config: {}, local accuracy: 12.5\n",
            "\u001b[2m\u001b[36m(DefaultActor pid=30773)\u001b[0m Accuracy của poisoned task: 5.88%\n",
            "\u001b[2m\u001b[36m(DefaultActor pid=30773)\u001b[0m [Client 19] evaluate, config: {}, local accuracy: 5.882352941176471\n",
            "\u001b[2m\u001b[36m(DefaultActor pid=30773)\u001b[0m Accuracy của poisoned task: 11.11%\n",
            "\u001b[2m\u001b[36m(DefaultActor pid=30773)\u001b[0m [Client 8] evaluate, config: {}, local accuracy: 11.11111111111111\n",
            "\u001b[2m\u001b[36m(DefaultActor pid=30773)\u001b[0m Accuracy của poisoned task: 6.25%\n",
            "\u001b[2m\u001b[36m(DefaultActor pid=30773)\u001b[0m [Client 18] evaluate, config: {}, local accuracy: 6.25\n"
          ]
        },
        {
          "output_type": "stream",
          "name": "stderr",
          "text": [
            "DEBUG flwr 2024-01-04 16:08:26,735 | server.py:187 | evaluate_round 6 received 30 results and 0 failures\n",
            "DEBUG:flwr:evaluate_round 6 received 30 results and 0 failures\n",
            "DEBUG flwr 2024-01-04 16:08:26,739 | server.py:222 | fit_round 7: strategy sampled 10 clients (out of 30)\n",
            "DEBUG:flwr:fit_round 7: strategy sampled 10 clients (out of 30)\n"
          ]
        },
        {
          "output_type": "stream",
          "name": "stdout",
          "text": [
            "\u001b[2m\u001b[36m(DefaultActor pid=30773)\u001b[0m Accuracy của poisoned task: 0.00%\n",
            "\u001b[2m\u001b[36m(DefaultActor pid=30773)\u001b[0m [Client 28] evaluate, config: {}, local accuracy: 0.0\n",
            "\u001b[2m\u001b[36m(DefaultActor pid=30773)\u001b[0m [Client 0] fit, config: {'epochs': 10, 'lr': 0.1, 'attacker_epochs': 20, 'attacker_lr': 0.05}\n",
            "\u001b[2m\u001b[36m(DefaultActor pid=30773)\u001b[0m Accuracy của poisoned task: 4.94%\n",
            "\u001b[2m\u001b[36m(DefaultActor pid=30773)\u001b[0m Training G::   0%|          | 0/1 [00:00<?, ?it/s]\n",
            "\u001b[2m\u001b[36m(DefaultActor pid=30773)\u001b[0m Poison Training::   0%|          | 0/1 [00:00<?, ?it/s]\n",
            "\u001b[2m\u001b[36m(DefaultActor pid=30773)\u001b[0m Training G::   0%|          | 0/1 [00:00<?, ?it/s]\n",
            "\u001b[2m\u001b[36m(DefaultActor pid=30773)\u001b[0m Poison Training::   0%|          | 0/1 [00:00<?, ?it/s]\n",
            "\u001b[2m\u001b[36m(DefaultActor pid=30773)\u001b[0m Training G::   0%|          | 0/1 [00:00<?, ?it/s]\n",
            "\u001b[2m\u001b[36m(DefaultActor pid=30773)\u001b[0m Poison Training::   0%|          | 0/1 [00:00<?, ?it/s]\n",
            "\u001b[2m\u001b[36m(DefaultActor pid=30773)\u001b[0m Training G::   0%|          | 0/1 [00:00<?, ?it/s]\n",
            "\u001b[2m\u001b[36m(DefaultActor pid=30773)\u001b[0m Poison Training::   0%|          | 0/1 [00:00<?, ?it/s]\n",
            "\u001b[2m\u001b[36m(DefaultActor pid=30773)\u001b[0m Training G::   0%|          | 0/1 [00:00<?, ?it/s]\n",
            "\u001b[2m\u001b[36m(DefaultActor pid=30773)\u001b[0m Poison Training::   0%|          | 0/1 [00:00<?, ?it/s]\n",
            "\u001b[2m\u001b[36m(DefaultActor pid=30773)\u001b[0m Training G::   0%|          | 0/1 [00:00<?, ?it/s]\n",
            "\u001b[2m\u001b[36m(DefaultActor pid=30773)\u001b[0m Poison Training::   0%|          | 0/1 [00:00<?, ?it/s]\n",
            "\u001b[2m\u001b[36m(DefaultActor pid=30773)\u001b[0m Training G::   0%|          | 0/1 [00:00<?, ?it/s]\n",
            "\u001b[2m\u001b[36m(DefaultActor pid=30773)\u001b[0m Poison Training::   0%|          | 0/1 [00:00<?, ?it/s]\n",
            "\u001b[2m\u001b[36m(DefaultActor pid=30773)\u001b[0m Training G::   0%|          | 0/1 [00:00<?, ?it/s]\n",
            "\u001b[2m\u001b[36m(DefaultActor pid=30773)\u001b[0m Poison Training::   0%|          | 0/1 [00:00<?, ?it/s]\n",
            "\u001b[2m\u001b[36m(DefaultActor pid=30773)\u001b[0m Training G::   0%|          | 0/1 [00:00<?, ?it/s]\n",
            "\u001b[2m\u001b[36m(DefaultActor pid=30773)\u001b[0m Poison Training::   0%|          | 0/1 [00:00<?, ?it/s]\n",
            "\u001b[2m\u001b[36m(DefaultActor pid=30773)\u001b[0m Training G::   0%|          | 0/1 [00:00<?, ?it/s]\n",
            "\u001b[2m\u001b[36m(DefaultActor pid=30773)\u001b[0m Poison Training::   0%|          | 0/1 [00:00<?, ?it/s]\n",
            "\u001b[2m\u001b[36m(DefaultActor pid=30773)\u001b[0m Training G::   0%|          | 0/1 [00:00<?, ?it/s]\n",
            "\u001b[2m\u001b[36m(DefaultActor pid=30773)\u001b[0m Poison Training::   0%|          | 0/1 [00:00<?, ?it/s]\n",
            "\u001b[2m\u001b[36m(DefaultActor pid=30773)\u001b[0m Training G::   0%|          | 0/1 [00:00<?, ?it/s]\n",
            "\u001b[2m\u001b[36m(DefaultActor pid=30773)\u001b[0m Poison Training::   0%|          | 0/1 [00:00<?, ?it/s]\n",
            "\u001b[2m\u001b[36m(DefaultActor pid=30773)\u001b[0m Training G::   0%|          | 0/1 [00:00<?, ?it/s]\n",
            "\u001b[2m\u001b[36m(DefaultActor pid=30773)\u001b[0m Poison Training::   0%|          | 0/1 [00:00<?, ?it/s]\n",
            "\u001b[2m\u001b[36m(DefaultActor pid=30773)\u001b[0m Training G::   0%|          | 0/1 [00:00<?, ?it/s]\n",
            "\u001b[2m\u001b[36m(DefaultActor pid=30773)\u001b[0m Poison Training::   0%|          | 0/1 [00:00<?, ?it/s]\n",
            "\u001b[2m\u001b[36m(DefaultActor pid=30773)\u001b[0m Training G::   0%|          | 0/1 [00:00<?, ?it/s]\n",
            "\u001b[2m\u001b[36m(DefaultActor pid=30773)\u001b[0m Poison Training::   0%|          | 0/1 [00:00<?, ?it/s]\n",
            "\u001b[2m\u001b[36m(DefaultActor pid=30773)\u001b[0m Training G::   0%|          | 0/1 [00:00<?, ?it/s]\n",
            "\u001b[2m\u001b[36m(DefaultActor pid=30773)\u001b[0m Poison Training::   0%|          | 0/1 [00:00<?, ?it/s]\n",
            "\u001b[2m\u001b[36m(DefaultActor pid=30773)\u001b[0m Training G::   0%|          | 0/1 [00:00<?, ?it/s]\n",
            "\u001b[2m\u001b[36m(DefaultActor pid=30773)\u001b[0m Poison Training::   0%|          | 0/1 [00:00<?, ?it/s]\n",
            "\u001b[2m\u001b[36m(DefaultActor pid=30773)\u001b[0m Training G::   0%|          | 0/1 [00:00<?, ?it/s]\n",
            "\u001b[2m\u001b[36m(DefaultActor pid=30773)\u001b[0m Poison Training::   0%|          | 0/1 [00:00<?, ?it/s]\n",
            "\u001b[2m\u001b[36m(DefaultActor pid=30773)\u001b[0m Training G::   0%|          | 0/1 [00:00<?, ?it/s]\n",
            "\u001b[2m\u001b[36m(DefaultActor pid=30773)\u001b[0m Poison Training::   0%|          | 0/1 [00:00<?, ?it/s]\n",
            "\u001b[2m\u001b[36m(DefaultActor pid=30773)\u001b[0m Training G::   0%|          | 0/1 [00:00<?, ?it/s]\n",
            "\u001b[2m\u001b[36m(DefaultActor pid=30773)\u001b[0m Poison Training::   0%|          | 0/1 [00:00<?, ?it/s]\n",
            "\u001b[2m\u001b[36m(DefaultActor pid=30773)\u001b[0m [Client 0] get_parameters\n",
            "\u001b[2m\u001b[36m(DefaultActor pid=30773)\u001b[0m [Client 15] fit, config: {'epochs': 10, 'lr': 0.1, 'attacker_epochs': 20, 'attacker_lr': 0.05}\n",
            "\u001b[2m\u001b[36m(DefaultActor pid=30773)\u001b[0m [Client 15] get_parameters\n",
            "\u001b[2m\u001b[36m(DefaultActor pid=30773)\u001b[0m [Client 28] fit, config: {'epochs': 10, 'lr': 0.1, 'attacker_epochs': 20, 'attacker_lr': 0.05}\n",
            "\u001b[2m\u001b[36m(DefaultActor pid=30773)\u001b[0m [Client 28] get_parameters\n",
            "\u001b[2m\u001b[36m(DefaultActor pid=30773)\u001b[0m [Client 24] fit, config: {'epochs': 10, 'lr': 0.1, 'attacker_epochs': 20, 'attacker_lr': 0.05}\n",
            "\u001b[2m\u001b[36m(DefaultActor pid=30773)\u001b[0m [Client 24] get_parameters\n",
            "\u001b[2m\u001b[36m(DefaultActor pid=30773)\u001b[0m [Client 13] fit, config: {'epochs': 10, 'lr': 0.1, 'attacker_epochs': 20, 'attacker_lr': 0.05}\n",
            "\u001b[2m\u001b[36m(DefaultActor pid=30773)\u001b[0m [Client 13] get_parameters\n",
            "\u001b[2m\u001b[36m(DefaultActor pid=30773)\u001b[0m [Client 17] fit, config: {'epochs': 10, 'lr': 0.1, 'attacker_epochs': 20, 'attacker_lr': 0.05}\n",
            "\u001b[2m\u001b[36m(DefaultActor pid=30773)\u001b[0m [Client 17] get_parameters\n",
            "\u001b[2m\u001b[36m(DefaultActor pid=30773)\u001b[0m [Client 7] fit, config: {'epochs': 10, 'lr': 0.1, 'attacker_epochs': 20, 'attacker_lr': 0.05}\n",
            "\u001b[2m\u001b[36m(DefaultActor pid=30773)\u001b[0m [Client 7] get_parameters\n",
            "\u001b[2m\u001b[36m(DefaultActor pid=30773)\u001b[0m [Client 12] fit, config: {'epochs': 10, 'lr': 0.1, 'attacker_epochs': 20, 'attacker_lr': 0.05}\n",
            "\u001b[2m\u001b[36m(DefaultActor pid=30773)\u001b[0m [Client 12] get_parameters\n",
            "\u001b[2m\u001b[36m(DefaultActor pid=30773)\u001b[0m [Client 23] fit, config: {'epochs': 10, 'lr': 0.1, 'attacker_epochs': 20, 'attacker_lr': 0.05}\n",
            "\u001b[2m\u001b[36m(DefaultActor pid=30773)\u001b[0m [Client 23] get_parameters\n",
            "\u001b[2m\u001b[36m(DefaultActor pid=30773)\u001b[0m [Client 22] fit, config: {'epochs': 10, 'lr': 0.1, 'attacker_epochs': 20, 'attacker_lr': 0.05}\n"
          ]
        },
        {
          "output_type": "stream",
          "name": "stderr",
          "text": [
            "DEBUG flwr 2024-01-04 16:10:07,426 | server.py:236 | fit_round 7 received 10 results and 0 failures\n",
            "DEBUG:flwr:fit_round 7 received 10 results and 0 failures\n"
          ]
        },
        {
          "output_type": "stream",
          "name": "stdout",
          "text": [
            "\u001b[2m\u001b[36m(DefaultActor pid=30773)\u001b[0m [Client 22] get_parameters\n",
            "Saving round 7 aggregated_parameters...\n"
          ]
        },
        {
          "output_type": "stream",
          "name": "stderr",
          "text": [
            "INFO flwr 2024-01-04 16:10:13,240 | server.py:125 | fit progress: (7, 315.818892121315, {'accuracy': 1.065891472868217}, 786.6060349740001)\n",
            "INFO:flwr:fit progress: (7, 315.818892121315, {'accuracy': 1.065891472868217}, 786.6060349740001)\n",
            "DEBUG flwr 2024-01-04 16:10:13,246 | server.py:173 | evaluate_round 7: strategy sampled 30 clients (out of 30)\n",
            "DEBUG:flwr:evaluate_round 7: strategy sampled 30 clients (out of 30)\n"
          ]
        },
        {
          "output_type": "stream",
          "name": "stdout",
          "text": [
            "Accuracy của poisoned task: 1.07%\n",
            "\u001b[2m\u001b[36m(DefaultActor pid=30773)\u001b[0m Accuracy của poisoned task: 0.00%\n",
            "\u001b[2m\u001b[36m(DefaultActor pid=30773)\u001b[0m [Client 12] evaluate, config: {}, local accuracy: 0.0\n",
            "\u001b[2m\u001b[36m(DefaultActor pid=30773)\u001b[0m Accuracy của poisoned task: 0.00%\n",
            "\u001b[2m\u001b[36m(DefaultActor pid=30773)\u001b[0m [Client 5] evaluate, config: {}, local accuracy: 0.0\n",
            "\u001b[2m\u001b[36m(DefaultActor pid=30773)\u001b[0m Accuracy của poisoned task: 0.00%\n",
            "\u001b[2m\u001b[36m(DefaultActor pid=30773)\u001b[0m [Client 20] evaluate, config: {}, local accuracy: 0.0\n",
            "\u001b[2m\u001b[36m(DefaultActor pid=30773)\u001b[0m Accuracy của poisoned task: 0.00%\n",
            "\u001b[2m\u001b[36m(DefaultActor pid=30773)\u001b[0m [Client 24] evaluate, config: {}, local accuracy: 0.0\n",
            "\u001b[2m\u001b[36m(DefaultActor pid=30773)\u001b[0m Accuracy của poisoned task: 0.00%\n",
            "\u001b[2m\u001b[36m(DefaultActor pid=30773)\u001b[0m [Client 22] evaluate, config: {}, local accuracy: 0.0\n",
            "\u001b[2m\u001b[36m(DefaultActor pid=30773)\u001b[0m Accuracy của poisoned task: 0.00%\n",
            "\u001b[2m\u001b[36m(DefaultActor pid=30773)\u001b[0m [Client 3] evaluate, config: {}, local accuracy: 0.0\n",
            "\u001b[2m\u001b[36m(DefaultActor pid=30773)\u001b[0m Accuracy của poisoned task: 0.00%\n",
            "\u001b[2m\u001b[36m(DefaultActor pid=30773)\u001b[0m [Client 28] evaluate, config: {}, local accuracy: 0.0\n",
            "\u001b[2m\u001b[36m(DefaultActor pid=30773)\u001b[0m Accuracy của poisoned task: 5.26%\n",
            "\u001b[2m\u001b[36m(DefaultActor pid=30773)\u001b[0m [Client 1] evaluate, config: {}, local accuracy: 5.2631578947368425\n",
            "\u001b[2m\u001b[36m(DefaultActor pid=30773)\u001b[0m Accuracy của poisoned task: 0.00%\n",
            "\u001b[2m\u001b[36m(DefaultActor pid=30773)\u001b[0m [Client 19] evaluate, config: {}, local accuracy: 0.0\n",
            "\u001b[2m\u001b[36m(DefaultActor pid=30773)\u001b[0m Accuracy của poisoned task: 4.00%\n",
            "\u001b[2m\u001b[36m(DefaultActor pid=30773)\u001b[0m [Client 21] evaluate, config: {}, local accuracy: 4.0\n",
            "\u001b[2m\u001b[36m(DefaultActor pid=30773)\u001b[0m Accuracy của poisoned task: 0.00%\n",
            "\u001b[2m\u001b[36m(DefaultActor pid=30773)\u001b[0m [Client 17] evaluate, config: {}, local accuracy: 0.0\n",
            "\u001b[2m\u001b[36m(DefaultActor pid=30773)\u001b[0m Accuracy của poisoned task: 0.00%\n",
            "\u001b[2m\u001b[36m(DefaultActor pid=30773)\u001b[0m [Client 14] evaluate, config: {}, local accuracy: 0.0\n",
            "\u001b[2m\u001b[36m(DefaultActor pid=30773)\u001b[0m Accuracy của poisoned task: 0.00%\n",
            "\u001b[2m\u001b[36m(DefaultActor pid=30773)\u001b[0m [Client 26] evaluate, config: {}, local accuracy: 0.0\n",
            "\u001b[2m\u001b[36m(DefaultActor pid=30773)\u001b[0m Accuracy của poisoned task: 0.00%\n",
            "\u001b[2m\u001b[36m(DefaultActor pid=30773)\u001b[0m [Client 6] evaluate, config: {}, local accuracy: 0.0\n",
            "\u001b[2m\u001b[36m(DefaultActor pid=30773)\u001b[0m Accuracy của poisoned task: 0.00%\n",
            "\u001b[2m\u001b[36m(DefaultActor pid=30773)\u001b[0m [Client 18] evaluate, config: {}, local accuracy: 0.0\n",
            "\u001b[2m\u001b[36m(DefaultActor pid=30773)\u001b[0m Accuracy của poisoned task: 4.17%\n",
            "\u001b[2m\u001b[36m(DefaultActor pid=30773)\u001b[0m [Client 27] evaluate, config: {}, local accuracy: 4.166666666666667\n",
            "\u001b[2m\u001b[36m(DefaultActor pid=30773)\u001b[0m Accuracy của poisoned task: 4.55%\n",
            "\u001b[2m\u001b[36m(DefaultActor pid=30773)\u001b[0m [Client 0] evaluate, config: {}, local accuracy: 4.545454545454546\n",
            "\u001b[2m\u001b[36m(DefaultActor pid=30773)\u001b[0m Accuracy của poisoned task: 0.00%\n",
            "\u001b[2m\u001b[36m(DefaultActor pid=30773)\u001b[0m [Client 2] evaluate, config: {}, local accuracy: 0.0\n",
            "\u001b[2m\u001b[36m(DefaultActor pid=30773)\u001b[0m Accuracy của poisoned task: 0.00%\n",
            "\u001b[2m\u001b[36m(DefaultActor pid=30773)\u001b[0m [Client 9] evaluate, config: {}, local accuracy: 0.0\n",
            "\u001b[2m\u001b[36m(DefaultActor pid=30773)\u001b[0m Accuracy của poisoned task: 0.00%\n",
            "\u001b[2m\u001b[36m(DefaultActor pid=30773)\u001b[0m [Client 16] evaluate, config: {}, local accuracy: 0.0\n",
            "\u001b[2m\u001b[36m(DefaultActor pid=30773)\u001b[0m Accuracy của poisoned task: 0.00%\n",
            "\u001b[2m\u001b[36m(DefaultActor pid=30773)\u001b[0m [Client 29] evaluate, config: {}, local accuracy: 0.0\n",
            "\u001b[2m\u001b[36m(DefaultActor pid=30773)\u001b[0m Accuracy của poisoned task: 0.00%\n",
            "\u001b[2m\u001b[36m(DefaultActor pid=30773)\u001b[0m [Client 4] evaluate, config: {}, local accuracy: 0.0\n",
            "\u001b[2m\u001b[36m(DefaultActor pid=30773)\u001b[0m Accuracy của poisoned task: 0.00%\n",
            "\u001b[2m\u001b[36m(DefaultActor pid=30773)\u001b[0m [Client 23] evaluate, config: {}, local accuracy: 0.0\n",
            "\u001b[2m\u001b[36m(DefaultActor pid=30773)\u001b[0m Accuracy của poisoned task: 0.00%\n",
            "\u001b[2m\u001b[36m(DefaultActor pid=30773)\u001b[0m [Client 8] evaluate, config: {}, local accuracy: 0.0\n",
            "\u001b[2m\u001b[36m(DefaultActor pid=30773)\u001b[0m Accuracy của poisoned task: 0.00%\n",
            "\u001b[2m\u001b[36m(DefaultActor pid=30773)\u001b[0m [Client 13] evaluate, config: {}, local accuracy: 0.0\n",
            "\u001b[2m\u001b[36m(DefaultActor pid=30773)\u001b[0m Accuracy của poisoned task: 0.00%\n",
            "\u001b[2m\u001b[36m(DefaultActor pid=30773)\u001b[0m [Client 15] evaluate, config: {}, local accuracy: 0.0\n",
            "\u001b[2m\u001b[36m(DefaultActor pid=30773)\u001b[0m Accuracy của poisoned task: 5.56%\n",
            "\u001b[2m\u001b[36m(DefaultActor pid=30773)\u001b[0m [Client 10] evaluate, config: {}, local accuracy: 5.555555555555555\n",
            "\u001b[2m\u001b[36m(DefaultActor pid=30773)\u001b[0m Accuracy của poisoned task: 0.00%\n",
            "\u001b[2m\u001b[36m(DefaultActor pid=30773)\u001b[0m [Client 11] evaluate, config: {}, local accuracy: 0.0\n"
          ]
        },
        {
          "output_type": "stream",
          "name": "stderr",
          "text": [
            "DEBUG flwr 2024-01-04 16:10:19,862 | server.py:187 | evaluate_round 7 received 30 results and 0 failures\n",
            "DEBUG:flwr:evaluate_round 7 received 30 results and 0 failures\n",
            "DEBUG flwr 2024-01-04 16:10:19,865 | server.py:222 | fit_round 8: strategy sampled 10 clients (out of 30)\n",
            "DEBUG:flwr:fit_round 8: strategy sampled 10 clients (out of 30)\n"
          ]
        },
        {
          "output_type": "stream",
          "name": "stdout",
          "text": [
            "\u001b[2m\u001b[36m(DefaultActor pid=30773)\u001b[0m Accuracy của poisoned task: 0.00%\n",
            "\u001b[2m\u001b[36m(DefaultActor pid=30773)\u001b[0m [Client 7] evaluate, config: {}, local accuracy: 0.0\n",
            "\u001b[2m\u001b[36m(DefaultActor pid=30773)\u001b[0m Accuracy của poisoned task: 0.00%\n",
            "\u001b[2m\u001b[36m(DefaultActor pid=30773)\u001b[0m [Client 25] evaluate, config: {}, local accuracy: 0.0\n",
            "\u001b[2m\u001b[36m(DefaultActor pid=30773)\u001b[0m [Client 13] fit, config: {'epochs': 10, 'lr': 0.1, 'attacker_epochs': 20, 'attacker_lr': 0.05}\n",
            "\u001b[2m\u001b[36m(DefaultActor pid=30773)\u001b[0m [Client 13] get_parameters\n",
            "\u001b[2m\u001b[36m(DefaultActor pid=30773)\u001b[0m [Client 12] fit, config: {'epochs': 10, 'lr': 0.1, 'attacker_epochs': 20, 'attacker_lr': 0.05}\n",
            "\u001b[2m\u001b[36m(DefaultActor pid=30773)\u001b[0m [Client 12] get_parameters\n",
            "\u001b[2m\u001b[36m(DefaultActor pid=30773)\u001b[0m [Client 25] fit, config: {'epochs': 10, 'lr': 0.1, 'attacker_epochs': 20, 'attacker_lr': 0.05}\n",
            "\u001b[2m\u001b[36m(DefaultActor pid=30773)\u001b[0m [Client 25] get_parameters\n",
            "\u001b[2m\u001b[36m(DefaultActor pid=30773)\u001b[0m [Client 2] fit, config: {'epochs': 10, 'lr': 0.1, 'attacker_epochs': 20, 'attacker_lr': 0.05}\n",
            "\u001b[2m\u001b[36m(DefaultActor pid=30773)\u001b[0m [Client 2] get_parameters\n",
            "\u001b[2m\u001b[36m(DefaultActor pid=30773)\u001b[0m [Client 21] fit, config: {'epochs': 10, 'lr': 0.1, 'attacker_epochs': 20, 'attacker_lr': 0.05}\n",
            "\u001b[2m\u001b[36m(DefaultActor pid=30773)\u001b[0m [Client 21] get_parameters\n",
            "\u001b[2m\u001b[36m(DefaultActor pid=30773)\u001b[0m [Client 1] fit, config: {'epochs': 10, 'lr': 0.1, 'attacker_epochs': 20, 'attacker_lr': 0.05}\n",
            "\u001b[2m\u001b[36m(DefaultActor pid=30773)\u001b[0m [Client 1] get_parameters\n",
            "\u001b[2m\u001b[36m(DefaultActor pid=30773)\u001b[0m [Client 5] fit, config: {'epochs': 10, 'lr': 0.1, 'attacker_epochs': 20, 'attacker_lr': 0.05}\n",
            "\u001b[2m\u001b[36m(DefaultActor pid=30773)\u001b[0m [Client 5] get_parameters\n",
            "\u001b[2m\u001b[36m(DefaultActor pid=30773)\u001b[0m [Client 6] fit, config: {'epochs': 10, 'lr': 0.1, 'attacker_epochs': 20, 'attacker_lr': 0.05}\n",
            "\u001b[2m\u001b[36m(DefaultActor pid=30773)\u001b[0m [Client 6] get_parameters\n",
            "\u001b[2m\u001b[36m(DefaultActor pid=30773)\u001b[0m [Client 27] fit, config: {'epochs': 10, 'lr': 0.1, 'attacker_epochs': 20, 'attacker_lr': 0.05}\n",
            "\u001b[2m\u001b[36m(DefaultActor pid=30773)\u001b[0m [Client 27] get_parameters\n",
            "\u001b[2m\u001b[36m(DefaultActor pid=30773)\u001b[0m [Client 20] fit, config: {'epochs': 10, 'lr': 0.1, 'attacker_epochs': 20, 'attacker_lr': 0.05}\n"
          ]
        },
        {
          "output_type": "stream",
          "name": "stderr",
          "text": [
            "DEBUG flwr 2024-01-04 16:12:01,080 | server.py:236 | fit_round 8 received 10 results and 0 failures\n",
            "DEBUG:flwr:fit_round 8 received 10 results and 0 failures\n"
          ]
        },
        {
          "output_type": "stream",
          "name": "stdout",
          "text": [
            "\u001b[2m\u001b[36m(DefaultActor pid=30773)\u001b[0m [Client 20] get_parameters\n",
            "Saving round 8 aggregated_parameters...\n"
          ]
        },
        {
          "output_type": "stream",
          "name": "stderr",
          "text": [
            "INFO flwr 2024-01-04 16:12:06,906 | server.py:125 | fit progress: (8, 315.319083571434, {'accuracy': 0.9689922480620154}, 900.2716015180004)\n",
            "INFO:flwr:fit progress: (8, 315.319083571434, {'accuracy': 0.9689922480620154}, 900.2716015180004)\n",
            "DEBUG flwr 2024-01-04 16:12:06,915 | server.py:173 | evaluate_round 8: strategy sampled 30 clients (out of 30)\n",
            "DEBUG:flwr:evaluate_round 8: strategy sampled 30 clients (out of 30)\n"
          ]
        },
        {
          "output_type": "stream",
          "name": "stdout",
          "text": [
            "Accuracy của poisoned task: 0.97%\n",
            "\u001b[2m\u001b[36m(DefaultActor pid=30773)\u001b[0m Accuracy của poisoned task: 0.00%\n",
            "\u001b[2m\u001b[36m(DefaultActor pid=30773)\u001b[0m [Client 8] evaluate, config: {}, local accuracy: 0.0\n",
            "\u001b[2m\u001b[36m(DefaultActor pid=30773)\u001b[0m Accuracy của poisoned task: 0.00%\n",
            "\u001b[2m\u001b[36m(DefaultActor pid=30773)\u001b[0m [Client 18] evaluate, config: {}, local accuracy: 0.0\n",
            "\u001b[2m\u001b[36m(DefaultActor pid=30773)\u001b[0m Accuracy của poisoned task: 0.00%\n",
            "\u001b[2m\u001b[36m(DefaultActor pid=30773)\u001b[0m [Client 15] evaluate, config: {}, local accuracy: 0.0\n",
            "\u001b[2m\u001b[36m(DefaultActor pid=30773)\u001b[0m Accuracy của poisoned task: 5.00%\n",
            "\u001b[2m\u001b[36m(DefaultActor pid=30773)\u001b[0m [Client 3] evaluate, config: {}, local accuracy: 5.0\n",
            "\u001b[2m\u001b[36m(DefaultActor pid=30773)\u001b[0m Accuracy của poisoned task: 0.00%\n",
            "\u001b[2m\u001b[36m(DefaultActor pid=30773)\u001b[0m [Client 14] evaluate, config: {}, local accuracy: 0.0\n",
            "\u001b[2m\u001b[36m(DefaultActor pid=30773)\u001b[0m Accuracy của poisoned task: 0.00%\n",
            "\u001b[2m\u001b[36m(DefaultActor pid=30773)\u001b[0m [Client 24] evaluate, config: {}, local accuracy: 0.0\n",
            "\u001b[2m\u001b[36m(DefaultActor pid=30773)\u001b[0m Accuracy của poisoned task: 4.17%\n",
            "\u001b[2m\u001b[36m(DefaultActor pid=30773)\u001b[0m [Client 6] evaluate, config: {}, local accuracy: 4.166666666666667\n",
            "\u001b[2m\u001b[36m(DefaultActor pid=30773)\u001b[0m Accuracy của poisoned task: 0.00%\n",
            "\u001b[2m\u001b[36m(DefaultActor pid=30773)\u001b[0m [Client 13] evaluate, config: {}, local accuracy: 0.0\n",
            "\u001b[2m\u001b[36m(DefaultActor pid=30773)\u001b[0m Accuracy của poisoned task: 0.00%\n",
            "\u001b[2m\u001b[36m(DefaultActor pid=30773)\u001b[0m [Client 20] evaluate, config: {}, local accuracy: 0.0\n",
            "\u001b[2m\u001b[36m(DefaultActor pid=30773)\u001b[0m Accuracy của poisoned task: 0.00%\n",
            "\u001b[2m\u001b[36m(DefaultActor pid=30773)\u001b[0m [Client 29] evaluate, config: {}, local accuracy: 0.0\n",
            "\u001b[2m\u001b[36m(DefaultActor pid=30773)\u001b[0m Accuracy của poisoned task: 0.00%\n",
            "\u001b[2m\u001b[36m(DefaultActor pid=30773)\u001b[0m [Client 10] evaluate, config: {}, local accuracy: 0.0\n",
            "\u001b[2m\u001b[36m(DefaultActor pid=30773)\u001b[0m Accuracy của poisoned task: 0.00%\n",
            "\u001b[2m\u001b[36m(DefaultActor pid=30773)\u001b[0m [Client 28] evaluate, config: {}, local accuracy: 0.0\n",
            "\u001b[2m\u001b[36m(DefaultActor pid=30773)\u001b[0m Accuracy của poisoned task: 5.00%\n",
            "\u001b[2m\u001b[36m(DefaultActor pid=30773)\u001b[0m [Client 19] evaluate, config: {}, local accuracy: 5.0\n",
            "\u001b[2m\u001b[36m(DefaultActor pid=30773)\u001b[0m Accuracy của poisoned task: 5.00%\n",
            "\u001b[2m\u001b[36m(DefaultActor pid=30773)\u001b[0m [Client 27] evaluate, config: {}, local accuracy: 5.0\n",
            "\u001b[2m\u001b[36m(DefaultActor pid=30773)\u001b[0m Accuracy của poisoned task: 0.00%\n",
            "\u001b[2m\u001b[36m(DefaultActor pid=30773)\u001b[0m [Client 1] evaluate, config: {}, local accuracy: 0.0\n",
            "\u001b[2m\u001b[36m(DefaultActor pid=30773)\u001b[0m Accuracy của poisoned task: 0.00%\n",
            "\u001b[2m\u001b[36m(DefaultActor pid=30773)\u001b[0m [Client 26] evaluate, config: {}, local accuracy: 0.0\n",
            "\u001b[2m\u001b[36m(DefaultActor pid=30773)\u001b[0m Accuracy của poisoned task: 0.00%\n",
            "\u001b[2m\u001b[36m(DefaultActor pid=30773)\u001b[0m [Client 23] evaluate, config: {}, local accuracy: 0.0\n",
            "\u001b[2m\u001b[36m(DefaultActor pid=30773)\u001b[0m Accuracy của poisoned task: 0.00%\n",
            "\u001b[2m\u001b[36m(DefaultActor pid=30773)\u001b[0m [Client 4] evaluate, config: {}, local accuracy: 0.0\n",
            "\u001b[2m\u001b[36m(DefaultActor pid=30773)\u001b[0m Accuracy của poisoned task: 0.00%\n",
            "\u001b[2m\u001b[36m(DefaultActor pid=30773)\u001b[0m [Client 0] evaluate, config: {}, local accuracy: 0.0\n",
            "\u001b[2m\u001b[36m(DefaultActor pid=30773)\u001b[0m Accuracy của poisoned task: 0.00%\n",
            "\u001b[2m\u001b[36m(DefaultActor pid=30773)\u001b[0m [Client 16] evaluate, config: {}, local accuracy: 0.0\n",
            "\u001b[2m\u001b[36m(DefaultActor pid=30773)\u001b[0m Accuracy của poisoned task: 0.00%\n",
            "\u001b[2m\u001b[36m(DefaultActor pid=30773)\u001b[0m [Client 17] evaluate, config: {}, local accuracy: 0.0\n",
            "\u001b[2m\u001b[36m(DefaultActor pid=30773)\u001b[0m Accuracy của poisoned task: 0.00%\n",
            "\u001b[2m\u001b[36m(DefaultActor pid=30773)\u001b[0m [Client 7] evaluate, config: {}, local accuracy: 0.0\n",
            "\u001b[2m\u001b[36m(DefaultActor pid=30773)\u001b[0m Accuracy của poisoned task: 0.00%\n",
            "\u001b[2m\u001b[36m(DefaultActor pid=30773)\u001b[0m [Client 22] evaluate, config: {}, local accuracy: 0.0\n",
            "\u001b[2m\u001b[36m(DefaultActor pid=30773)\u001b[0m Accuracy của poisoned task: 3.33%\n",
            "\u001b[2m\u001b[36m(DefaultActor pid=30773)\u001b[0m [Client 11] evaluate, config: {}, local accuracy: 3.3333333333333335\n",
            "\u001b[2m\u001b[36m(DefaultActor pid=30773)\u001b[0m Accuracy của poisoned task: 0.00%\n",
            "\u001b[2m\u001b[36m(DefaultActor pid=30773)\u001b[0m [Client 5] evaluate, config: {}, local accuracy: 0.0\n",
            "\u001b[2m\u001b[36m(DefaultActor pid=30773)\u001b[0m Accuracy của poisoned task: 0.00%\n",
            "\u001b[2m\u001b[36m(DefaultActor pid=30773)\u001b[0m [Client 9] evaluate, config: {}, local accuracy: 0.0\n",
            "\u001b[2m\u001b[36m(DefaultActor pid=30773)\u001b[0m Accuracy của poisoned task: 0.00%\n",
            "\u001b[2m\u001b[36m(DefaultActor pid=30773)\u001b[0m [Client 2] evaluate, config: {}, local accuracy: 0.0\n",
            "\u001b[2m\u001b[36m(DefaultActor pid=30773)\u001b[0m Accuracy của poisoned task: 0.00%\n",
            "\u001b[2m\u001b[36m(DefaultActor pid=30773)\u001b[0m [Client 12] evaluate, config: {}, local accuracy: 0.0\n"
          ]
        },
        {
          "output_type": "stream",
          "name": "stderr",
          "text": [
            "DEBUG flwr 2024-01-04 16:12:13,131 | server.py:187 | evaluate_round 8 received 30 results and 0 failures\n",
            "DEBUG:flwr:evaluate_round 8 received 30 results and 0 failures\n",
            "DEBUG flwr 2024-01-04 16:12:13,134 | server.py:222 | fit_round 9: strategy sampled 10 clients (out of 30)\n",
            "DEBUG:flwr:fit_round 9: strategy sampled 10 clients (out of 30)\n"
          ]
        },
        {
          "output_type": "stream",
          "name": "stdout",
          "text": [
            "\u001b[2m\u001b[36m(DefaultActor pid=30773)\u001b[0m Accuracy của poisoned task: 0.00%\n",
            "\u001b[2m\u001b[36m(DefaultActor pid=30773)\u001b[0m [Client 25] evaluate, config: {}, local accuracy: 0.0\n",
            "\u001b[2m\u001b[36m(DefaultActor pid=30773)\u001b[0m Accuracy của poisoned task: 0.00%\n",
            "\u001b[2m\u001b[36m(DefaultActor pid=30773)\u001b[0m [Client 21] evaluate, config: {}, local accuracy: 0.0\n",
            "\u001b[2m\u001b[36m(DefaultActor pid=30773)\u001b[0m [Client 25] fit, config: {'epochs': 10, 'lr': 0.1, 'attacker_epochs': 20, 'attacker_lr': 0.05}\n",
            "\u001b[2m\u001b[36m(DefaultActor pid=30773)\u001b[0m [Client 25] get_parameters\n",
            "\u001b[2m\u001b[36m(DefaultActor pid=30773)\u001b[0m [Client 2] fit, config: {'epochs': 10, 'lr': 0.1, 'attacker_epochs': 20, 'attacker_lr': 0.05}\n",
            "\u001b[2m\u001b[36m(DefaultActor pid=30773)\u001b[0m [Client 2] get_parameters\n",
            "\u001b[2m\u001b[36m(DefaultActor pid=30773)\u001b[0m [Client 14] fit, config: {'epochs': 10, 'lr': 0.1, 'attacker_epochs': 20, 'attacker_lr': 0.05}\n",
            "\u001b[2m\u001b[36m(DefaultActor pid=30773)\u001b[0m [Client 14] get_parameters\n",
            "\u001b[2m\u001b[36m(DefaultActor pid=30773)\u001b[0m [Client 21] fit, config: {'epochs': 10, 'lr': 0.1, 'attacker_epochs': 20, 'attacker_lr': 0.05}\n",
            "\u001b[2m\u001b[36m(DefaultActor pid=30773)\u001b[0m [Client 21] get_parameters\n",
            "\u001b[2m\u001b[36m(DefaultActor pid=30773)\u001b[0m [Client 17] fit, config: {'epochs': 10, 'lr': 0.1, 'attacker_epochs': 20, 'attacker_lr': 0.05}\n",
            "\u001b[2m\u001b[36m(DefaultActor pid=30773)\u001b[0m [Client 17] get_parameters\n",
            "\u001b[2m\u001b[36m(DefaultActor pid=30773)\u001b[0m [Client 4] fit, config: {'epochs': 10, 'lr': 0.1, 'attacker_epochs': 20, 'attacker_lr': 0.05}\n",
            "\u001b[2m\u001b[36m(DefaultActor pid=30773)\u001b[0m [Client 4] get_parameters\n",
            "\u001b[2m\u001b[36m(DefaultActor pid=30773)\u001b[0m [Client 19] fit, config: {'epochs': 10, 'lr': 0.1, 'attacker_epochs': 20, 'attacker_lr': 0.05}\n",
            "\u001b[2m\u001b[36m(DefaultActor pid=30773)\u001b[0m [Client 19] get_parameters\n",
            "\u001b[2m\u001b[36m(DefaultActor pid=30773)\u001b[0m [Client 20] fit, config: {'epochs': 10, 'lr': 0.1, 'attacker_epochs': 20, 'attacker_lr': 0.05}\n",
            "\u001b[2m\u001b[36m(DefaultActor pid=30773)\u001b[0m [Client 20] get_parameters\n",
            "\u001b[2m\u001b[36m(DefaultActor pid=30773)\u001b[0m [Client 11] fit, config: {'epochs': 10, 'lr': 0.1, 'attacker_epochs': 20, 'attacker_lr': 0.05}\n",
            "\u001b[2m\u001b[36m(DefaultActor pid=30773)\u001b[0m [Client 11] get_parameters\n",
            "\u001b[2m\u001b[36m(DefaultActor pid=30773)\u001b[0m [Client 8] fit, config: {'epochs': 10, 'lr': 0.1, 'attacker_epochs': 20, 'attacker_lr': 0.05}\n"
          ]
        },
        {
          "output_type": "stream",
          "name": "stderr",
          "text": [
            "DEBUG flwr 2024-01-04 16:13:54,533 | server.py:236 | fit_round 9 received 10 results and 0 failures\n",
            "DEBUG:flwr:fit_round 9 received 10 results and 0 failures\n"
          ]
        },
        {
          "output_type": "stream",
          "name": "stdout",
          "text": [
            "\u001b[2m\u001b[36m(DefaultActor pid=30773)\u001b[0m [Client 8] get_parameters\n",
            "Saving round 9 aggregated_parameters...\n"
          ]
        },
        {
          "output_type": "stream",
          "name": "stderr",
          "text": [
            "INFO flwr 2024-01-04 16:14:00,729 | server.py:125 | fit progress: (9, 315.04876148700714, {'accuracy': 0.6782945736434108}, 1014.0950758500003)\n",
            "INFO:flwr:fit progress: (9, 315.04876148700714, {'accuracy': 0.6782945736434108}, 1014.0950758500003)\n",
            "DEBUG flwr 2024-01-04 16:14:00,735 | server.py:173 | evaluate_round 9: strategy sampled 30 clients (out of 30)\n",
            "DEBUG:flwr:evaluate_round 9: strategy sampled 30 clients (out of 30)\n"
          ]
        },
        {
          "output_type": "stream",
          "name": "stdout",
          "text": [
            "Accuracy của poisoned task: 0.68%\n",
            "\u001b[2m\u001b[36m(DefaultActor pid=30773)\u001b[0m Accuracy của poisoned task: 0.00%\n",
            "\u001b[2m\u001b[36m(DefaultActor pid=30773)\u001b[0m [Client 8] evaluate, config: {}, local accuracy: 0.0\n",
            "\u001b[2m\u001b[36m(DefaultActor pid=30773)\u001b[0m Accuracy của poisoned task: 0.00%\n",
            "\u001b[2m\u001b[36m(DefaultActor pid=30773)\u001b[0m [Client 19] evaluate, config: {}, local accuracy: 0.0\n",
            "\u001b[2m\u001b[36m(DefaultActor pid=30773)\u001b[0m Accuracy của poisoned task: 0.00%\n",
            "\u001b[2m\u001b[36m(DefaultActor pid=30773)\u001b[0m [Client 22] evaluate, config: {}, local accuracy: 0.0\n",
            "\u001b[2m\u001b[36m(DefaultActor pid=30773)\u001b[0m Accuracy của poisoned task: 0.00%\n",
            "\u001b[2m\u001b[36m(DefaultActor pid=30773)\u001b[0m [Client 3] evaluate, config: {}, local accuracy: 0.0\n",
            "\u001b[2m\u001b[36m(DefaultActor pid=30773)\u001b[0m Accuracy của poisoned task: 0.00%\n",
            "\u001b[2m\u001b[36m(DefaultActor pid=30773)\u001b[0m [Client 28] evaluate, config: {}, local accuracy: 0.0\n",
            "\u001b[2m\u001b[36m(DefaultActor pid=30773)\u001b[0m Accuracy của poisoned task: 0.00%\n",
            "\u001b[2m\u001b[36m(DefaultActor pid=30773)\u001b[0m [Client 9] evaluate, config: {}, local accuracy: 0.0\n",
            "\u001b[2m\u001b[36m(DefaultActor pid=30773)\u001b[0m Accuracy của poisoned task: 0.00%\n",
            "\u001b[2m\u001b[36m(DefaultActor pid=30773)\u001b[0m [Client 18] evaluate, config: {}, local accuracy: 0.0\n",
            "\u001b[2m\u001b[36m(DefaultActor pid=30773)\u001b[0m Accuracy của poisoned task: 0.00%\n",
            "\u001b[2m\u001b[36m(DefaultActor pid=30773)\u001b[0m [Client 6] evaluate, config: {}, local accuracy: 0.0\n",
            "\u001b[2m\u001b[36m(DefaultActor pid=30773)\u001b[0m Accuracy của poisoned task: 0.00%\n",
            "\u001b[2m\u001b[36m(DefaultActor pid=30773)\u001b[0m [Client 16] evaluate, config: {}, local accuracy: 0.0\n",
            "\u001b[2m\u001b[36m(DefaultActor pid=30773)\u001b[0m Accuracy của poisoned task: 0.00%\n",
            "\u001b[2m\u001b[36m(DefaultActor pid=30773)\u001b[0m [Client 21] evaluate, config: {}, local accuracy: 0.0\n",
            "\u001b[2m\u001b[36m(DefaultActor pid=30773)\u001b[0m Accuracy của poisoned task: 4.35%\n",
            "\u001b[2m\u001b[36m(DefaultActor pid=30773)\u001b[0m [Client 20] evaluate, config: {}, local accuracy: 4.3478260869565215\n",
            "\u001b[2m\u001b[36m(DefaultActor pid=30773)\u001b[0m Accuracy của poisoned task: 0.00%\n",
            "\u001b[2m\u001b[36m(DefaultActor pid=30773)\u001b[0m [Client 29] evaluate, config: {}, local accuracy: 0.0\n",
            "\u001b[2m\u001b[36m(DefaultActor pid=30773)\u001b[0m Accuracy của poisoned task: 0.00%\n",
            "\u001b[2m\u001b[36m(DefaultActor pid=30773)\u001b[0m [Client 1] evaluate, config: {}, local accuracy: 0.0\n",
            "\u001b[2m\u001b[36m(DefaultActor pid=30773)\u001b[0m Accuracy của poisoned task: 0.00%\n",
            "\u001b[2m\u001b[36m(DefaultActor pid=30773)\u001b[0m [Client 7] evaluate, config: {}, local accuracy: 0.0\n",
            "\u001b[2m\u001b[36m(DefaultActor pid=30773)\u001b[0m Accuracy của poisoned task: 0.00%\n",
            "\u001b[2m\u001b[36m(DefaultActor pid=30773)\u001b[0m [Client 11] evaluate, config: {}, local accuracy: 0.0\n",
            "\u001b[2m\u001b[36m(DefaultActor pid=30773)\u001b[0m Accuracy của poisoned task: 0.00%\n",
            "\u001b[2m\u001b[36m(DefaultActor pid=30773)\u001b[0m [Client 17] evaluate, config: {}, local accuracy: 0.0\n",
            "\u001b[2m\u001b[36m(DefaultActor pid=30773)\u001b[0m Accuracy của poisoned task: 4.55%\n",
            "\u001b[2m\u001b[36m(DefaultActor pid=30773)\u001b[0m [Client 24] evaluate, config: {}, local accuracy: 4.545454545454546\n",
            "\u001b[2m\u001b[36m(DefaultActor pid=30773)\u001b[0m Accuracy của poisoned task: 0.00%\n",
            "\u001b[2m\u001b[36m(DefaultActor pid=30773)\u001b[0m [Client 25] evaluate, config: {}, local accuracy: 0.0\n",
            "\u001b[2m\u001b[36m(DefaultActor pid=30773)\u001b[0m Accuracy của poisoned task: 0.00%\n",
            "\u001b[2m\u001b[36m(DefaultActor pid=30773)\u001b[0m [Client 14] evaluate, config: {}, local accuracy: 0.0\n",
            "\u001b[2m\u001b[36m(DefaultActor pid=30773)\u001b[0m Accuracy của poisoned task: 3.57%\n",
            "\u001b[2m\u001b[36m(DefaultActor pid=30773)\u001b[0m [Client 10] evaluate, config: {}, local accuracy: 3.5714285714285716\n",
            "\u001b[2m\u001b[36m(DefaultActor pid=30773)\u001b[0m Accuracy của poisoned task: 0.00%\n",
            "\u001b[2m\u001b[36m(DefaultActor pid=30773)\u001b[0m [Client 27] evaluate, config: {}, local accuracy: 0.0\n",
            "\u001b[2m\u001b[36m(DefaultActor pid=30773)\u001b[0m Accuracy của poisoned task: 0.00%\n",
            "\u001b[2m\u001b[36m(DefaultActor pid=30773)\u001b[0m [Client 12] evaluate, config: {}, local accuracy: 0.0\n",
            "\u001b[2m\u001b[36m(DefaultActor pid=30773)\u001b[0m Accuracy của poisoned task: 4.76%\n",
            "\u001b[2m\u001b[36m(DefaultActor pid=30773)\u001b[0m [Client 23] evaluate, config: {}, local accuracy: 4.761904761904762\n",
            "\u001b[2m\u001b[36m(DefaultActor pid=30773)\u001b[0m Accuracy của poisoned task: 0.00%\n",
            "\u001b[2m\u001b[36m(DefaultActor pid=30773)\u001b[0m [Client 13] evaluate, config: {}, local accuracy: 0.0\n",
            "\u001b[2m\u001b[36m(DefaultActor pid=30773)\u001b[0m Accuracy của poisoned task: 0.00%\n",
            "\u001b[2m\u001b[36m(DefaultActor pid=30773)\u001b[0m [Client 26] evaluate, config: {}, local accuracy: 0.0\n",
            "\u001b[2m\u001b[36m(DefaultActor pid=30773)\u001b[0m Accuracy của poisoned task: 0.00%\n",
            "\u001b[2m\u001b[36m(DefaultActor pid=30773)\u001b[0m [Client 15] evaluate, config: {}, local accuracy: 0.0\n",
            "\u001b[2m\u001b[36m(DefaultActor pid=30773)\u001b[0m Accuracy của poisoned task: 0.00%\n",
            "\u001b[2m\u001b[36m(DefaultActor pid=30773)\u001b[0m [Client 5] evaluate, config: {}, local accuracy: 0.0\n",
            "\u001b[2m\u001b[36m(DefaultActor pid=30773)\u001b[0m Accuracy của poisoned task: 0.00%\n",
            "\u001b[2m\u001b[36m(DefaultActor pid=30773)\u001b[0m [Client 0] evaluate, config: {}, local accuracy: 0.0\n"
          ]
        },
        {
          "output_type": "stream",
          "name": "stderr",
          "text": [
            "DEBUG flwr 2024-01-04 16:14:06,898 | server.py:187 | evaluate_round 9 received 30 results and 0 failures\n",
            "DEBUG:flwr:evaluate_round 9 received 30 results and 0 failures\n",
            "DEBUG flwr 2024-01-04 16:14:06,902 | server.py:222 | fit_round 10: strategy sampled 10 clients (out of 30)\n",
            "DEBUG:flwr:fit_round 10: strategy sampled 10 clients (out of 30)\n"
          ]
        },
        {
          "output_type": "stream",
          "name": "stdout",
          "text": [
            "\u001b[2m\u001b[36m(DefaultActor pid=30773)\u001b[0m Accuracy của poisoned task: 0.00%\n",
            "\u001b[2m\u001b[36m(DefaultActor pid=30773)\u001b[0m [Client 2] evaluate, config: {}, local accuracy: 0.0\n",
            "\u001b[2m\u001b[36m(DefaultActor pid=30773)\u001b[0m Accuracy của poisoned task: 0.00%\n",
            "\u001b[2m\u001b[36m(DefaultActor pid=30773)\u001b[0m [Client 4] evaluate, config: {}, local accuracy: 0.0\n",
            "\u001b[2m\u001b[36m(DefaultActor pid=30773)\u001b[0m [Client 6] fit, config: {'epochs': 10, 'lr': 0.1, 'attacker_epochs': 20, 'attacker_lr': 0.05}\n",
            "\u001b[2m\u001b[36m(DefaultActor pid=30773)\u001b[0m [Client 6] get_parameters\n",
            "\u001b[2m\u001b[36m(DefaultActor pid=30773)\u001b[0m [Client 23] fit, config: {'epochs': 10, 'lr': 0.1, 'attacker_epochs': 20, 'attacker_lr': 0.05}\n",
            "\u001b[2m\u001b[36m(DefaultActor pid=30773)\u001b[0m [Client 23] get_parameters\n",
            "\u001b[2m\u001b[36m(DefaultActor pid=30773)\u001b[0m [Client 16] fit, config: {'epochs': 10, 'lr': 0.1, 'attacker_epochs': 20, 'attacker_lr': 0.05}\n",
            "\u001b[2m\u001b[36m(DefaultActor pid=30773)\u001b[0m [Client 16] get_parameters\n",
            "\u001b[2m\u001b[36m(DefaultActor pid=30773)\u001b[0m [Client 13] fit, config: {'epochs': 10, 'lr': 0.1, 'attacker_epochs': 20, 'attacker_lr': 0.05}\n",
            "\u001b[2m\u001b[36m(DefaultActor pid=30773)\u001b[0m [Client 13] get_parameters\n",
            "\u001b[2m\u001b[36m(DefaultActor pid=30773)\u001b[0m [Client 12] fit, config: {'epochs': 10, 'lr': 0.1, 'attacker_epochs': 20, 'attacker_lr': 0.05}\n",
            "\u001b[2m\u001b[36m(DefaultActor pid=30773)\u001b[0m [Client 12] get_parameters\n",
            "\u001b[2m\u001b[36m(DefaultActor pid=30773)\u001b[0m [Client 4] fit, config: {'epochs': 10, 'lr': 0.1, 'attacker_epochs': 20, 'attacker_lr': 0.05}\n",
            "\u001b[2m\u001b[36m(DefaultActor pid=30773)\u001b[0m [Client 4] get_parameters\n",
            "\u001b[2m\u001b[36m(DefaultActor pid=30773)\u001b[0m [Client 0] fit, config: {'epochs': 10, 'lr': 0.1, 'attacker_epochs': 20, 'attacker_lr': 0.05}\n",
            "\u001b[2m\u001b[36m(DefaultActor pid=30773)\u001b[0m Accuracy của poisoned task: 0.68%\n",
            "\u001b[2m\u001b[36m(DefaultActor pid=30773)\u001b[0m Training G::   0%|          | 0/1 [00:00<?, ?it/s]\n",
            "\u001b[2m\u001b[36m(DefaultActor pid=30773)\u001b[0m Poison Training::   0%|          | 0/1 [00:00<?, ?it/s]\n",
            "\u001b[2m\u001b[36m(DefaultActor pid=30773)\u001b[0m Training G::   0%|          | 0/1 [00:00<?, ?it/s]\n",
            "\u001b[2m\u001b[36m(DefaultActor pid=30773)\u001b[0m Poison Training::   0%|          | 0/1 [00:00<?, ?it/s]\n",
            "\u001b[2m\u001b[36m(DefaultActor pid=30773)\u001b[0m Training G::   0%|          | 0/1 [00:00<?, ?it/s]\n",
            "\u001b[2m\u001b[36m(DefaultActor pid=30773)\u001b[0m Poison Training::   0%|          | 0/1 [00:00<?, ?it/s]\n",
            "\u001b[2m\u001b[36m(DefaultActor pid=30773)\u001b[0m Training G::   0%|          | 0/1 [00:00<?, ?it/s]\n",
            "\u001b[2m\u001b[36m(DefaultActor pid=30773)\u001b[0m Poison Training::   0%|          | 0/1 [00:00<?, ?it/s]\n",
            "\u001b[2m\u001b[36m(DefaultActor pid=30773)\u001b[0m Training G::   0%|          | 0/1 [00:00<?, ?it/s]\n",
            "\u001b[2m\u001b[36m(DefaultActor pid=30773)\u001b[0m Poison Training::   0%|          | 0/1 [00:00<?, ?it/s]\n",
            "\u001b[2m\u001b[36m(DefaultActor pid=30773)\u001b[0m Training G::   0%|          | 0/1 [00:00<?, ?it/s]\n",
            "\u001b[2m\u001b[36m(DefaultActor pid=30773)\u001b[0m Poison Training::   0%|          | 0/1 [00:00<?, ?it/s]\n",
            "\u001b[2m\u001b[36m(DefaultActor pid=30773)\u001b[0m Training G::   0%|          | 0/1 [00:00<?, ?it/s]\n",
            "\u001b[2m\u001b[36m(DefaultActor pid=30773)\u001b[0m Poison Training::   0%|          | 0/1 [00:00<?, ?it/s]\n",
            "\u001b[2m\u001b[36m(DefaultActor pid=30773)\u001b[0m Training G::   0%|          | 0/1 [00:00<?, ?it/s]\n",
            "\u001b[2m\u001b[36m(DefaultActor pid=30773)\u001b[0m Poison Training::   0%|          | 0/1 [00:00<?, ?it/s]\n",
            "\u001b[2m\u001b[36m(DefaultActor pid=30773)\u001b[0m Training G::   0%|          | 0/1 [00:00<?, ?it/s]\n",
            "\u001b[2m\u001b[36m(DefaultActor pid=30773)\u001b[0m Poison Training::   0%|          | 0/1 [00:00<?, ?it/s]\n",
            "\u001b[2m\u001b[36m(DefaultActor pid=30773)\u001b[0m Training G::   0%|          | 0/1 [00:00<?, ?it/s]\n",
            "\u001b[2m\u001b[36m(DefaultActor pid=30773)\u001b[0m Poison Training::   0%|          | 0/1 [00:00<?, ?it/s]\n",
            "\u001b[2m\u001b[36m(DefaultActor pid=30773)\u001b[0m Training G::   0%|          | 0/1 [00:00<?, ?it/s]\n",
            "\u001b[2m\u001b[36m(DefaultActor pid=30773)\u001b[0m Poison Training::   0%|          | 0/1 [00:00<?, ?it/s]\n",
            "\u001b[2m\u001b[36m(DefaultActor pid=30773)\u001b[0m Training G::   0%|          | 0/1 [00:00<?, ?it/s]\n",
            "\u001b[2m\u001b[36m(DefaultActor pid=30773)\u001b[0m Poison Training::   0%|          | 0/1 [00:00<?, ?it/s]\n",
            "\u001b[2m\u001b[36m(DefaultActor pid=30773)\u001b[0m Training G::   0%|          | 0/1 [00:00<?, ?it/s]\n",
            "\u001b[2m\u001b[36m(DefaultActor pid=30773)\u001b[0m Poison Training::   0%|          | 0/1 [00:00<?, ?it/s]\n",
            "\u001b[2m\u001b[36m(DefaultActor pid=30773)\u001b[0m Training G::   0%|          | 0/1 [00:00<?, ?it/s]\n",
            "\u001b[2m\u001b[36m(DefaultActor pid=30773)\u001b[0m Poison Training::   0%|          | 0/1 [00:00<?, ?it/s]\n",
            "\u001b[2m\u001b[36m(DefaultActor pid=30773)\u001b[0m Training G::   0%|          | 0/1 [00:00<?, ?it/s]\n",
            "\u001b[2m\u001b[36m(DefaultActor pid=30773)\u001b[0m Poison Training::   0%|          | 0/1 [00:00<?, ?it/s]\n",
            "\u001b[2m\u001b[36m(DefaultActor pid=30773)\u001b[0m Training G::   0%|          | 0/1 [00:00<?, ?it/s]\n",
            "\u001b[2m\u001b[36m(DefaultActor pid=30773)\u001b[0m Poison Training::   0%|          | 0/1 [00:00<?, ?it/s]\n",
            "\u001b[2m\u001b[36m(DefaultActor pid=30773)\u001b[0m Training G::   0%|          | 0/1 [00:00<?, ?it/s]\n",
            "\u001b[2m\u001b[36m(DefaultActor pid=30773)\u001b[0m Poison Training::   0%|          | 0/1 [00:00<?, ?it/s]\n",
            "\u001b[2m\u001b[36m(DefaultActor pid=30773)\u001b[0m Training G::   0%|          | 0/1 [00:00<?, ?it/s]\n",
            "\u001b[2m\u001b[36m(DefaultActor pid=30773)\u001b[0m Poison Training::   0%|          | 0/1 [00:00<?, ?it/s]\n",
            "\u001b[2m\u001b[36m(DefaultActor pid=30773)\u001b[0m Training G::   0%|          | 0/1 [00:00<?, ?it/s]\n",
            "\u001b[2m\u001b[36m(DefaultActor pid=30773)\u001b[0m Poison Training::   0%|          | 0/1 [00:00<?, ?it/s]\n",
            "\u001b[2m\u001b[36m(DefaultActor pid=30773)\u001b[0m Training G::   0%|          | 0/1 [00:00<?, ?it/s]\n",
            "\u001b[2m\u001b[36m(DefaultActor pid=30773)\u001b[0m Poison Training::   0%|          | 0/1 [00:00<?, ?it/s]\n",
            "\u001b[2m\u001b[36m(DefaultActor pid=30773)\u001b[0m [Client 0] get_parameters\n",
            "\u001b[2m\u001b[36m(DefaultActor pid=30773)\u001b[0m [Client 29] fit, config: {'epochs': 10, 'lr': 0.1, 'attacker_epochs': 20, 'attacker_lr': 0.05}\n",
            "\u001b[2m\u001b[36m(DefaultActor pid=30773)\u001b[0m [Client 29] get_parameters\n",
            "\u001b[2m\u001b[36m(DefaultActor pid=30773)\u001b[0m [Client 9] fit, config: {'epochs': 10, 'lr': 0.1, 'attacker_epochs': 20, 'attacker_lr': 0.05}\n",
            "\u001b[2m\u001b[36m(DefaultActor pid=30773)\u001b[0m [Client 9] get_parameters\n",
            "\u001b[2m\u001b[36m(DefaultActor pid=30773)\u001b[0m [Client 17] fit, config: {'epochs': 10, 'lr': 0.1, 'attacker_epochs': 20, 'attacker_lr': 0.05}\n"
          ]
        },
        {
          "output_type": "stream",
          "name": "stderr",
          "text": [
            "DEBUG flwr 2024-01-04 16:15:45,560 | server.py:236 | fit_round 10 received 10 results and 0 failures\n",
            "DEBUG:flwr:fit_round 10 received 10 results and 0 failures\n"
          ]
        },
        {
          "output_type": "stream",
          "name": "stdout",
          "text": [
            "\u001b[2m\u001b[36m(DefaultActor pid=30773)\u001b[0m [Client 17] get_parameters\n",
            "Saving round 10 aggregated_parameters...\n"
          ]
        },
        {
          "output_type": "stream",
          "name": "stderr",
          "text": [
            "INFO flwr 2024-01-04 16:15:50,761 | server.py:125 | fit progress: (10, 314.8620140552521, {'accuracy': 0.7751937984496124}, 1124.1272219450002)\n",
            "INFO:flwr:fit progress: (10, 314.8620140552521, {'accuracy': 0.7751937984496124}, 1124.1272219450002)\n",
            "DEBUG flwr 2024-01-04 16:15:50,766 | server.py:173 | evaluate_round 10: strategy sampled 30 clients (out of 30)\n",
            "DEBUG:flwr:evaluate_round 10: strategy sampled 30 clients (out of 30)\n"
          ]
        },
        {
          "output_type": "stream",
          "name": "stdout",
          "text": [
            "Accuracy của poisoned task: 0.78%\n",
            "\u001b[2m\u001b[36m(DefaultActor pid=30773)\u001b[0m Accuracy của poisoned task: 0.00%\n",
            "\u001b[2m\u001b[36m(DefaultActor pid=30773)\u001b[0m [Client 2] evaluate, config: {}, local accuracy: 0.0\n",
            "\u001b[2m\u001b[36m(DefaultActor pid=30773)\u001b[0m Accuracy của poisoned task: 0.00%\n",
            "\u001b[2m\u001b[36m(DefaultActor pid=30773)\u001b[0m [Client 14] evaluate, config: {}, local accuracy: 0.0\n",
            "\u001b[2m\u001b[36m(DefaultActor pid=30773)\u001b[0m Accuracy của poisoned task: 0.00%\n",
            "\u001b[2m\u001b[36m(DefaultActor pid=30773)\u001b[0m [Client 5] evaluate, config: {}, local accuracy: 0.0\n",
            "\u001b[2m\u001b[36m(DefaultActor pid=30773)\u001b[0m Accuracy của poisoned task: 0.00%\n",
            "\u001b[2m\u001b[36m(DefaultActor pid=30773)\u001b[0m [Client 10] evaluate, config: {}, local accuracy: 0.0\n",
            "\u001b[2m\u001b[36m(DefaultActor pid=30773)\u001b[0m Accuracy của poisoned task: 0.00%\n",
            "\u001b[2m\u001b[36m(DefaultActor pid=30773)\u001b[0m [Client 29] evaluate, config: {}, local accuracy: 0.0\n",
            "\u001b[2m\u001b[36m(DefaultActor pid=30773)\u001b[0m Accuracy của poisoned task: 5.26%\n",
            "\u001b[2m\u001b[36m(DefaultActor pid=30773)\u001b[0m [Client 21] evaluate, config: {}, local accuracy: 5.2631578947368425\n",
            "\u001b[2m\u001b[36m(DefaultActor pid=30773)\u001b[0m Accuracy của poisoned task: 10.53%\n",
            "\u001b[2m\u001b[36m(DefaultActor pid=30773)\u001b[0m [Client 6] evaluate, config: {}, local accuracy: 10.526315789473685\n",
            "\u001b[2m\u001b[36m(DefaultActor pid=30773)\u001b[0m Accuracy của poisoned task: 0.00%\n",
            "\u001b[2m\u001b[36m(DefaultActor pid=30773)\u001b[0m [Client 16] evaluate, config: {}, local accuracy: 0.0\n",
            "\u001b[2m\u001b[36m(DefaultActor pid=30773)\u001b[0m Accuracy của poisoned task: 4.00%\n",
            "\u001b[2m\u001b[36m(DefaultActor pid=30773)\u001b[0m [Client 20] evaluate, config: {}, local accuracy: 4.0\n",
            "\u001b[2m\u001b[36m(DefaultActor pid=30773)\u001b[0m Accuracy của poisoned task: 0.00%\n",
            "\u001b[2m\u001b[36m(DefaultActor pid=30773)\u001b[0m [Client 18] evaluate, config: {}, local accuracy: 0.0\n",
            "\u001b[2m\u001b[36m(DefaultActor pid=30773)\u001b[0m Accuracy của poisoned task: 7.14%\n",
            "\u001b[2m\u001b[36m(DefaultActor pid=30773)\u001b[0m [Client 26] evaluate, config: {}, local accuracy: 7.142857142857143\n",
            "\u001b[2m\u001b[36m(DefaultActor pid=30773)\u001b[0m Accuracy của poisoned task: 0.00%\n",
            "\u001b[2m\u001b[36m(DefaultActor pid=30773)\u001b[0m [Client 19] evaluate, config: {}, local accuracy: 0.0\n",
            "\u001b[2m\u001b[36m(DefaultActor pid=30773)\u001b[0m Accuracy của poisoned task: 0.00%\n",
            "\u001b[2m\u001b[36m(DefaultActor pid=30773)\u001b[0m [Client 7] evaluate, config: {}, local accuracy: 0.0\n",
            "\u001b[2m\u001b[36m(DefaultActor pid=30773)\u001b[0m Accuracy của poisoned task: 0.00%\n",
            "\u001b[2m\u001b[36m(DefaultActor pid=30773)\u001b[0m [Client 12] evaluate, config: {}, local accuracy: 0.0\n",
            "\u001b[2m\u001b[36m(DefaultActor pid=30773)\u001b[0m Accuracy của poisoned task: 0.00%\n",
            "\u001b[2m\u001b[36m(DefaultActor pid=30773)\u001b[0m [Client 27] evaluate, config: {}, local accuracy: 0.0\n",
            "\u001b[2m\u001b[36m(DefaultActor pid=30773)\u001b[0m Accuracy của poisoned task: 4.17%\n",
            "\u001b[2m\u001b[36m(DefaultActor pid=30773)\u001b[0m [Client 11] evaluate, config: {}, local accuracy: 4.166666666666667\n",
            "\u001b[2m\u001b[36m(DefaultActor pid=30773)\u001b[0m Accuracy của poisoned task: 0.00%\n",
            "\u001b[2m\u001b[36m(DefaultActor pid=30773)\u001b[0m [Client 25] evaluate, config: {}, local accuracy: 0.0\n",
            "\u001b[2m\u001b[36m(DefaultActor pid=30773)\u001b[0m Accuracy của poisoned task: 0.00%\n",
            "\u001b[2m\u001b[36m(DefaultActor pid=30773)\u001b[0m [Client 9] evaluate, config: {}, local accuracy: 0.0\n",
            "\u001b[2m\u001b[36m(DefaultActor pid=30773)\u001b[0m Accuracy của poisoned task: 0.00%\n",
            "\u001b[2m\u001b[36m(DefaultActor pid=30773)\u001b[0m [Client 15] evaluate, config: {}, local accuracy: 0.0\n",
            "\u001b[2m\u001b[36m(DefaultActor pid=30773)\u001b[0m Accuracy của poisoned task: 0.00%\n",
            "\u001b[2m\u001b[36m(DefaultActor pid=30773)\u001b[0m [Client 23] evaluate, config: {}, local accuracy: 0.0\n",
            "\u001b[2m\u001b[36m(DefaultActor pid=30773)\u001b[0m Accuracy của poisoned task: 0.00%\n",
            "\u001b[2m\u001b[36m(DefaultActor pid=30773)\u001b[0m [Client 24] evaluate, config: {}, local accuracy: 0.0\n",
            "\u001b[2m\u001b[36m(DefaultActor pid=30773)\u001b[0m Accuracy của poisoned task: 3.85%\n",
            "\u001b[2m\u001b[36m(DefaultActor pid=30773)\u001b[0m [Client 8] evaluate, config: {}, local accuracy: 3.8461538461538463\n",
            "\u001b[2m\u001b[36m(DefaultActor pid=30773)\u001b[0m Accuracy của poisoned task: 0.00%\n",
            "\u001b[2m\u001b[36m(DefaultActor pid=30773)\u001b[0m [Client 1] evaluate, config: {}, local accuracy: 0.0\n",
            "\u001b[2m\u001b[36m(DefaultActor pid=30773)\u001b[0m Accuracy của poisoned task: 0.00%\n",
            "\u001b[2m\u001b[36m(DefaultActor pid=30773)\u001b[0m [Client 4] evaluate, config: {}, local accuracy: 0.0\n",
            "\u001b[2m\u001b[36m(DefaultActor pid=30773)\u001b[0m Accuracy của poisoned task: 0.00%\n",
            "\u001b[2m\u001b[36m(DefaultActor pid=30773)\u001b[0m [Client 28] evaluate, config: {}, local accuracy: 0.0\n",
            "\u001b[2m\u001b[36m(DefaultActor pid=30773)\u001b[0m Accuracy của poisoned task: 0.00%\n",
            "\u001b[2m\u001b[36m(DefaultActor pid=30773)\u001b[0m [Client 0] evaluate, config: {}, local accuracy: 0.0\n",
            "\u001b[2m\u001b[36m(DefaultActor pid=30773)\u001b[0m Accuracy của poisoned task: 0.00%\n",
            "\u001b[2m\u001b[36m(DefaultActor pid=30773)\u001b[0m [Client 13] evaluate, config: {}, local accuracy: 0.0\n",
            "\u001b[2m\u001b[36m(DefaultActor pid=30773)\u001b[0m Accuracy của poisoned task: 0.00%\n",
            "\u001b[2m\u001b[36m(DefaultActor pid=30773)\u001b[0m [Client 17] evaluate, config: {}, local accuracy: 0.0\n"
          ]
        },
        {
          "output_type": "stream",
          "name": "stderr",
          "text": [
            "DEBUG flwr 2024-01-04 16:15:57,753 | server.py:187 | evaluate_round 10 received 30 results and 0 failures\n",
            "DEBUG:flwr:evaluate_round 10 received 30 results and 0 failures\n",
            "DEBUG flwr 2024-01-04 16:15:57,756 | server.py:222 | fit_round 11: strategy sampled 10 clients (out of 30)\n",
            "DEBUG:flwr:fit_round 11: strategy sampled 10 clients (out of 30)\n"
          ]
        },
        {
          "output_type": "stream",
          "name": "stdout",
          "text": [
            "\u001b[2m\u001b[36m(DefaultActor pid=30773)\u001b[0m Accuracy của poisoned task: 0.00%\n",
            "\u001b[2m\u001b[36m(DefaultActor pid=30773)\u001b[0m [Client 22] evaluate, config: {}, local accuracy: 0.0\n",
            "\u001b[2m\u001b[36m(DefaultActor pid=30773)\u001b[0m Accuracy của poisoned task: 0.00%\n",
            "\u001b[2m\u001b[36m(DefaultActor pid=30773)\u001b[0m [Client 3] evaluate, config: {}, local accuracy: 0.0\n",
            "\u001b[2m\u001b[36m(DefaultActor pid=30773)\u001b[0m [Client 16] fit, config: {'epochs': 10, 'lr': 0.1, 'attacker_epochs': 20, 'attacker_lr': 0.05}\n",
            "\u001b[2m\u001b[36m(DefaultActor pid=30773)\u001b[0m [Client 16] get_parameters\n",
            "\u001b[2m\u001b[36m(DefaultActor pid=30773)\u001b[0m [Client 19] fit, config: {'epochs': 10, 'lr': 0.1, 'attacker_epochs': 20, 'attacker_lr': 0.05}\n",
            "\u001b[2m\u001b[36m(DefaultActor pid=30773)\u001b[0m [Client 19] get_parameters\n",
            "\u001b[2m\u001b[36m(DefaultActor pid=30773)\u001b[0m [Client 29] fit, config: {'epochs': 10, 'lr': 0.1, 'attacker_epochs': 20, 'attacker_lr': 0.05}\n",
            "\u001b[2m\u001b[36m(DefaultActor pid=30773)\u001b[0m [Client 29] get_parameters\n",
            "\u001b[2m\u001b[36m(DefaultActor pid=30773)\u001b[0m [Client 10] fit, config: {'epochs': 10, 'lr': 0.1, 'attacker_epochs': 20, 'attacker_lr': 0.05}\n",
            "\u001b[2m\u001b[36m(DefaultActor pid=30773)\u001b[0m [Client 10] get_parameters\n",
            "\u001b[2m\u001b[36m(DefaultActor pid=30773)\u001b[0m [Client 13] fit, config: {'epochs': 10, 'lr': 0.1, 'attacker_epochs': 20, 'attacker_lr': 0.05}\n",
            "\u001b[2m\u001b[36m(DefaultActor pid=30773)\u001b[0m [Client 13] get_parameters\n",
            "\u001b[2m\u001b[36m(DefaultActor pid=30773)\u001b[0m [Client 8] fit, config: {'epochs': 10, 'lr': 0.1, 'attacker_epochs': 20, 'attacker_lr': 0.05}\n",
            "\u001b[2m\u001b[36m(DefaultActor pid=30773)\u001b[0m [Client 8] get_parameters\n",
            "\u001b[2m\u001b[36m(DefaultActor pid=30773)\u001b[0m [Client 20] fit, config: {'epochs': 10, 'lr': 0.1, 'attacker_epochs': 20, 'attacker_lr': 0.05}\n",
            "\u001b[2m\u001b[36m(DefaultActor pid=30773)\u001b[0m [Client 20] get_parameters\n",
            "\u001b[2m\u001b[36m(DefaultActor pid=30773)\u001b[0m [Client 7] fit, config: {'epochs': 10, 'lr': 0.1, 'attacker_epochs': 20, 'attacker_lr': 0.05}\n",
            "\u001b[2m\u001b[36m(DefaultActor pid=30773)\u001b[0m [Client 7] get_parameters\n",
            "\u001b[2m\u001b[36m(DefaultActor pid=30773)\u001b[0m [Client 1] fit, config: {'epochs': 10, 'lr': 0.1, 'attacker_epochs': 20, 'attacker_lr': 0.05}\n",
            "\u001b[2m\u001b[36m(DefaultActor pid=30773)\u001b[0m [Client 1] get_parameters\n",
            "\u001b[2m\u001b[36m(DefaultActor pid=30773)\u001b[0m [Client 11] fit, config: {'epochs': 10, 'lr': 0.1, 'attacker_epochs': 20, 'attacker_lr': 0.05}\n"
          ]
        },
        {
          "output_type": "stream",
          "name": "stderr",
          "text": [
            "DEBUG flwr 2024-01-04 16:17:38,910 | server.py:236 | fit_round 11 received 10 results and 0 failures\n",
            "DEBUG:flwr:fit_round 11 received 10 results and 0 failures\n"
          ]
        },
        {
          "output_type": "stream",
          "name": "stdout",
          "text": [
            "\u001b[2m\u001b[36m(DefaultActor pid=30773)\u001b[0m [Client 11] get_parameters\n",
            "Saving round 11 aggregated_parameters...\n"
          ]
        },
        {
          "output_type": "stream",
          "name": "stderr",
          "text": [
            "INFO flwr 2024-01-04 16:17:44,137 | server.py:125 | fit progress: (11, 314.819194316864, {'accuracy': 0.7751937984496124}, 1237.502628966)\n",
            "INFO:flwr:fit progress: (11, 314.819194316864, {'accuracy': 0.7751937984496124}, 1237.502628966)\n",
            "DEBUG flwr 2024-01-04 16:17:44,142 | server.py:173 | evaluate_round 11: strategy sampled 30 clients (out of 30)\n",
            "DEBUG:flwr:evaluate_round 11: strategy sampled 30 clients (out of 30)\n"
          ]
        },
        {
          "output_type": "stream",
          "name": "stdout",
          "text": [
            "Accuracy của poisoned task: 0.78%\n",
            "\u001b[2m\u001b[36m(DefaultActor pid=30773)\u001b[0m Accuracy của poisoned task: 0.00%\n",
            "\u001b[2m\u001b[36m(DefaultActor pid=30773)\u001b[0m [Client 15] evaluate, config: {}, local accuracy: 0.0\n",
            "\u001b[2m\u001b[36m(DefaultActor pid=30773)\u001b[0m Accuracy của poisoned task: 0.00%\n",
            "\u001b[2m\u001b[36m(DefaultActor pid=30773)\u001b[0m [Client 3] evaluate, config: {}, local accuracy: 0.0\n",
            "\u001b[2m\u001b[36m(DefaultActor pid=30773)\u001b[0m Accuracy của poisoned task: 0.00%\n",
            "\u001b[2m\u001b[36m(DefaultActor pid=30773)\u001b[0m [Client 2] evaluate, config: {}, local accuracy: 0.0\n",
            "\u001b[2m\u001b[36m(DefaultActor pid=30773)\u001b[0m Accuracy của poisoned task: 0.00%\n",
            "\u001b[2m\u001b[36m(DefaultActor pid=30773)\u001b[0m [Client 25] evaluate, config: {}, local accuracy: 0.0\n",
            "\u001b[2m\u001b[36m(DefaultActor pid=30773)\u001b[0m Accuracy của poisoned task: 0.00%\n",
            "\u001b[2m\u001b[36m(DefaultActor pid=30773)\u001b[0m [Client 6] evaluate, config: {}, local accuracy: 0.0\n",
            "\u001b[2m\u001b[36m(DefaultActor pid=30773)\u001b[0m Accuracy của poisoned task: 0.00%\n",
            "\u001b[2m\u001b[36m(DefaultActor pid=30773)\u001b[0m [Client 9] evaluate, config: {}, local accuracy: 0.0\n",
            "\u001b[2m\u001b[36m(DefaultActor pid=30773)\u001b[0m Accuracy của poisoned task: 0.00%\n",
            "\u001b[2m\u001b[36m(DefaultActor pid=30773)\u001b[0m [Client 10] evaluate, config: {}, local accuracy: 0.0\n",
            "\u001b[2m\u001b[36m(DefaultActor pid=30773)\u001b[0m Accuracy của poisoned task: 0.00%\n",
            "\u001b[2m\u001b[36m(DefaultActor pid=30773)\u001b[0m [Client 20] evaluate, config: {}, local accuracy: 0.0\n",
            "\u001b[2m\u001b[36m(DefaultActor pid=30773)\u001b[0m Accuracy của poisoned task: 0.00%\n",
            "\u001b[2m\u001b[36m(DefaultActor pid=30773)\u001b[0m [Client 19] evaluate, config: {}, local accuracy: 0.0\n",
            "\u001b[2m\u001b[36m(DefaultActor pid=30773)\u001b[0m Accuracy của poisoned task: 0.00%\n",
            "\u001b[2m\u001b[36m(DefaultActor pid=30773)\u001b[0m [Client 14] evaluate, config: {}, local accuracy: 0.0\n",
            "\u001b[2m\u001b[36m(DefaultActor pid=30773)\u001b[0m Accuracy của poisoned task: 0.00%\n",
            "\u001b[2m\u001b[36m(DefaultActor pid=30773)\u001b[0m [Client 22] evaluate, config: {}, local accuracy: 0.0\n",
            "\u001b[2m\u001b[36m(DefaultActor pid=30773)\u001b[0m Accuracy của poisoned task: 0.00%\n",
            "\u001b[2m\u001b[36m(DefaultActor pid=30773)\u001b[0m [Client 0] evaluate, config: {}, local accuracy: 0.0\n",
            "\u001b[2m\u001b[36m(DefaultActor pid=30773)\u001b[0m Accuracy của poisoned task: 0.00%\n",
            "\u001b[2m\u001b[36m(DefaultActor pid=30773)\u001b[0m [Client 26] evaluate, config: {}, local accuracy: 0.0\n",
            "\u001b[2m\u001b[36m(DefaultActor pid=30773)\u001b[0m Accuracy của poisoned task: 0.00%\n",
            "\u001b[2m\u001b[36m(DefaultActor pid=30773)\u001b[0m [Client 29] evaluate, config: {}, local accuracy: 0.0\n",
            "\u001b[2m\u001b[36m(DefaultActor pid=30773)\u001b[0m Accuracy của poisoned task: 0.00%\n",
            "\u001b[2m\u001b[36m(DefaultActor pid=30773)\u001b[0m [Client 27] evaluate, config: {}, local accuracy: 0.0\n",
            "\u001b[2m\u001b[36m(DefaultActor pid=30773)\u001b[0m Accuracy của poisoned task: 5.56%\n",
            "\u001b[2m\u001b[36m(DefaultActor pid=30773)\u001b[0m [Client 1] evaluate, config: {}, local accuracy: 5.555555555555555\n",
            "\u001b[2m\u001b[36m(DefaultActor pid=30773)\u001b[0m Accuracy của poisoned task: 0.00%\n",
            "\u001b[2m\u001b[36m(DefaultActor pid=30773)\u001b[0m [Client 28] evaluate, config: {}, local accuracy: 0.0\n",
            "\u001b[2m\u001b[36m(DefaultActor pid=30773)\u001b[0m Accuracy của poisoned task: 0.00%\n",
            "\u001b[2m\u001b[36m(DefaultActor pid=30773)\u001b[0m [Client 23] evaluate, config: {}, local accuracy: 0.0\n",
            "\u001b[2m\u001b[36m(DefaultActor pid=30773)\u001b[0m Accuracy của poisoned task: 0.00%\n",
            "\u001b[2m\u001b[36m(DefaultActor pid=30773)\u001b[0m [Client 12] evaluate, config: {}, local accuracy: 0.0\n",
            "\u001b[2m\u001b[36m(DefaultActor pid=30773)\u001b[0m Accuracy của poisoned task: 0.00%\n",
            "\u001b[2m\u001b[36m(DefaultActor pid=30773)\u001b[0m [Client 11] evaluate, config: {}, local accuracy: 0.0\n",
            "\u001b[2m\u001b[36m(DefaultActor pid=30773)\u001b[0m Accuracy của poisoned task: 0.00%\n",
            "\u001b[2m\u001b[36m(DefaultActor pid=30773)\u001b[0m [Client 4] evaluate, config: {}, local accuracy: 0.0\n",
            "\u001b[2m\u001b[36m(DefaultActor pid=30773)\u001b[0m Accuracy của poisoned task: 0.00%\n",
            "\u001b[2m\u001b[36m(DefaultActor pid=30773)\u001b[0m [Client 18] evaluate, config: {}, local accuracy: 0.0\n",
            "\u001b[2m\u001b[36m(DefaultActor pid=30773)\u001b[0m Accuracy của poisoned task: 0.00%\n",
            "\u001b[2m\u001b[36m(DefaultActor pid=30773)\u001b[0m [Client 24] evaluate, config: {}, local accuracy: 0.0\n",
            "\u001b[2m\u001b[36m(DefaultActor pid=30773)\u001b[0m Accuracy của poisoned task: 0.00%\n",
            "\u001b[2m\u001b[36m(DefaultActor pid=30773)\u001b[0m [Client 8] evaluate, config: {}, local accuracy: 0.0\n",
            "\u001b[2m\u001b[36m(DefaultActor pid=30773)\u001b[0m Accuracy của poisoned task: 0.00%\n",
            "\u001b[2m\u001b[36m(DefaultActor pid=30773)\u001b[0m [Client 5] evaluate, config: {}, local accuracy: 0.0\n",
            "\u001b[2m\u001b[36m(DefaultActor pid=30773)\u001b[0m Accuracy của poisoned task: 0.00%\n",
            "\u001b[2m\u001b[36m(DefaultActor pid=30773)\u001b[0m [Client 13] evaluate, config: {}, local accuracy: 0.0\n",
            "\u001b[2m\u001b[36m(DefaultActor pid=30773)\u001b[0m Accuracy của poisoned task: 0.00%\n",
            "\u001b[2m\u001b[36m(DefaultActor pid=30773)\u001b[0m [Client 17] evaluate, config: {}, local accuracy: 0.0\n",
            "\u001b[2m\u001b[36m(DefaultActor pid=30773)\u001b[0m Accuracy của poisoned task: 0.00%\n",
            "\u001b[2m\u001b[36m(DefaultActor pid=30773)\u001b[0m [Client 21] evaluate, config: {}, local accuracy: 0.0\n"
          ]
        },
        {
          "output_type": "stream",
          "name": "stderr",
          "text": [
            "DEBUG flwr 2024-01-04 16:17:51,068 | server.py:187 | evaluate_round 11 received 30 results and 0 failures\n",
            "DEBUG:flwr:evaluate_round 11 received 30 results and 0 failures\n",
            "DEBUG flwr 2024-01-04 16:17:51,072 | server.py:222 | fit_round 12: strategy sampled 10 clients (out of 30)\n",
            "DEBUG:flwr:fit_round 12: strategy sampled 10 clients (out of 30)\n"
          ]
        },
        {
          "output_type": "stream",
          "name": "stdout",
          "text": [
            "\u001b[2m\u001b[36m(DefaultActor pid=30773)\u001b[0m Accuracy của poisoned task: 3.57%\n",
            "\u001b[2m\u001b[36m(DefaultActor pid=30773)\u001b[0m [Client 16] evaluate, config: {}, local accuracy: 3.5714285714285716\n",
            "\u001b[2m\u001b[36m(DefaultActor pid=30773)\u001b[0m Accuracy của poisoned task: 0.00%\n",
            "\u001b[2m\u001b[36m(DefaultActor pid=30773)\u001b[0m [Client 7] evaluate, config: {}, local accuracy: 0.0\n",
            "\u001b[2m\u001b[36m(DefaultActor pid=30773)\u001b[0m [Client 4] fit, config: {'epochs': 10, 'lr': 0.1, 'attacker_epochs': 20, 'attacker_lr': 0.05}\n",
            "\u001b[2m\u001b[36m(DefaultActor pid=30773)\u001b[0m [Client 4] get_parameters\n",
            "\u001b[2m\u001b[36m(DefaultActor pid=30773)\u001b[0m [Client 18] fit, config: {'epochs': 10, 'lr': 0.1, 'attacker_epochs': 20, 'attacker_lr': 0.05}\n",
            "\u001b[2m\u001b[36m(DefaultActor pid=30773)\u001b[0m [Client 18] get_parameters\n",
            "\u001b[2m\u001b[36m(DefaultActor pid=30773)\u001b[0m [Client 16] fit, config: {'epochs': 10, 'lr': 0.1, 'attacker_epochs': 20, 'attacker_lr': 0.05}\n",
            "\u001b[2m\u001b[36m(DefaultActor pid=30773)\u001b[0m [Client 16] get_parameters\n",
            "\u001b[2m\u001b[36m(DefaultActor pid=30773)\u001b[0m [Client 26] fit, config: {'epochs': 10, 'lr': 0.1, 'attacker_epochs': 20, 'attacker_lr': 0.05}\n",
            "\u001b[2m\u001b[36m(DefaultActor pid=30773)\u001b[0m [Client 26] get_parameters\n",
            "\u001b[2m\u001b[36m(DefaultActor pid=30773)\u001b[0m [Client 24] fit, config: {'epochs': 10, 'lr': 0.1, 'attacker_epochs': 20, 'attacker_lr': 0.05}\n",
            "\u001b[2m\u001b[36m(DefaultActor pid=30773)\u001b[0m [Client 24] get_parameters\n",
            "\u001b[2m\u001b[36m(DefaultActor pid=30773)\u001b[0m [Client 19] fit, config: {'epochs': 10, 'lr': 0.1, 'attacker_epochs': 20, 'attacker_lr': 0.05}\n",
            "\u001b[2m\u001b[36m(DefaultActor pid=30773)\u001b[0m [Client 19] get_parameters\n",
            "\u001b[2m\u001b[36m(DefaultActor pid=30773)\u001b[0m [Client 15] fit, config: {'epochs': 10, 'lr': 0.1, 'attacker_epochs': 20, 'attacker_lr': 0.05}\n",
            "\u001b[2m\u001b[36m(DefaultActor pid=30773)\u001b[0m [Client 15] get_parameters\n",
            "\u001b[2m\u001b[36m(DefaultActor pid=30773)\u001b[0m [Client 7] fit, config: {'epochs': 10, 'lr': 0.1, 'attacker_epochs': 20, 'attacker_lr': 0.05}\n",
            "\u001b[2m\u001b[36m(DefaultActor pid=30773)\u001b[0m [Client 7] get_parameters\n",
            "\u001b[2m\u001b[36m(DefaultActor pid=30773)\u001b[0m [Client 13] fit, config: {'epochs': 10, 'lr': 0.1, 'attacker_epochs': 20, 'attacker_lr': 0.05}\n",
            "\u001b[2m\u001b[36m(DefaultActor pid=30773)\u001b[0m [Client 13] get_parameters\n",
            "\u001b[2m\u001b[36m(DefaultActor pid=30773)\u001b[0m [Client 23] fit, config: {'epochs': 10, 'lr': 0.1, 'attacker_epochs': 20, 'attacker_lr': 0.05}\n"
          ]
        },
        {
          "output_type": "stream",
          "name": "stderr",
          "text": [
            "DEBUG flwr 2024-01-04 16:19:31,603 | server.py:236 | fit_round 12 received 10 results and 0 failures\n",
            "DEBUG:flwr:fit_round 12 received 10 results and 0 failures\n"
          ]
        },
        {
          "output_type": "stream",
          "name": "stdout",
          "text": [
            "Saving round 12 aggregated_parameters...\n",
            "\u001b[2m\u001b[36m(DefaultActor pid=30773)\u001b[0m [Client 23] get_parameters\n"
          ]
        },
        {
          "output_type": "stream",
          "name": "stderr",
          "text": [
            "INFO flwr 2024-01-04 16:19:36,877 | server.py:125 | fit progress: (12, 314.62602722644806, {'accuracy': 0.9689922480620154}, 1350.2427654430003)\n",
            "INFO:flwr:fit progress: (12, 314.62602722644806, {'accuracy': 0.9689922480620154}, 1350.2427654430003)\n",
            "DEBUG flwr 2024-01-04 16:19:36,881 | server.py:173 | evaluate_round 12: strategy sampled 30 clients (out of 30)\n",
            "DEBUG:flwr:evaluate_round 12: strategy sampled 30 clients (out of 30)\n"
          ]
        },
        {
          "output_type": "stream",
          "name": "stdout",
          "text": [
            "Accuracy của poisoned task: 0.97%\n",
            "\u001b[2m\u001b[36m(DefaultActor pid=30773)\u001b[0m Accuracy của poisoned task: 11.11%\n",
            "\u001b[2m\u001b[36m(DefaultActor pid=30773)\u001b[0m [Client 26] evaluate, config: {}, local accuracy: 11.11111111111111\n",
            "\u001b[2m\u001b[36m(DefaultActor pid=30773)\u001b[0m Accuracy của poisoned task: 0.00%\n",
            "\u001b[2m\u001b[36m(DefaultActor pid=30773)\u001b[0m [Client 3] evaluate, config: {}, local accuracy: 0.0\n",
            "\u001b[2m\u001b[36m(DefaultActor pid=30773)\u001b[0m Accuracy của poisoned task: 0.00%\n",
            "\u001b[2m\u001b[36m(DefaultActor pid=30773)\u001b[0m [Client 18] evaluate, config: {}, local accuracy: 0.0\n",
            "\u001b[2m\u001b[36m(DefaultActor pid=30773)\u001b[0m Accuracy của poisoned task: 0.00%\n",
            "\u001b[2m\u001b[36m(DefaultActor pid=30773)\u001b[0m [Client 25] evaluate, config: {}, local accuracy: 0.0\n",
            "\u001b[2m\u001b[36m(DefaultActor pid=30773)\u001b[0m Accuracy của poisoned task: 0.00%\n",
            "\u001b[2m\u001b[36m(DefaultActor pid=30773)\u001b[0m [Client 13] evaluate, config: {}, local accuracy: 0.0\n",
            "\u001b[2m\u001b[36m(DefaultActor pid=30773)\u001b[0m Accuracy của poisoned task: 0.00%\n",
            "\u001b[2m\u001b[36m(DefaultActor pid=30773)\u001b[0m [Client 10] evaluate, config: {}, local accuracy: 0.0\n",
            "\u001b[2m\u001b[36m(DefaultActor pid=30773)\u001b[0m Accuracy của poisoned task: 4.76%\n",
            "\u001b[2m\u001b[36m(DefaultActor pid=30773)\u001b[0m [Client 12] evaluate, config: {}, local accuracy: 4.761904761904762\n",
            "\u001b[2m\u001b[36m(DefaultActor pid=30773)\u001b[0m Accuracy của poisoned task: 0.00%\n",
            "\u001b[2m\u001b[36m(DefaultActor pid=30773)\u001b[0m [Client 23] evaluate, config: {}, local accuracy: 0.0\n",
            "\u001b[2m\u001b[36m(DefaultActor pid=30773)\u001b[0m Accuracy của poisoned task: 4.55%\n",
            "\u001b[2m\u001b[36m(DefaultActor pid=30773)\u001b[0m [Client 22] evaluate, config: {}, local accuracy: 4.545454545454546\n",
            "\u001b[2m\u001b[36m(DefaultActor pid=30773)\u001b[0m Accuracy của poisoned task: 0.00%\n",
            "\u001b[2m\u001b[36m(DefaultActor pid=30773)\u001b[0m [Client 2] evaluate, config: {}, local accuracy: 0.0\n",
            "\u001b[2m\u001b[36m(DefaultActor pid=30773)\u001b[0m Accuracy của poisoned task: 0.00%\n",
            "\u001b[2m\u001b[36m(DefaultActor pid=30773)\u001b[0m [Client 4] evaluate, config: {}, local accuracy: 0.0\n",
            "\u001b[2m\u001b[36m(DefaultActor pid=30773)\u001b[0m Accuracy của poisoned task: 0.00%\n",
            "\u001b[2m\u001b[36m(DefaultActor pid=30773)\u001b[0m [Client 29] evaluate, config: {}, local accuracy: 0.0\n",
            "\u001b[2m\u001b[36m(DefaultActor pid=30773)\u001b[0m Accuracy của poisoned task: 0.00%\n",
            "\u001b[2m\u001b[36m(DefaultActor pid=30773)\u001b[0m [Client 27] evaluate, config: {}, local accuracy: 0.0\n",
            "\u001b[2m\u001b[36m(DefaultActor pid=30773)\u001b[0m Accuracy của poisoned task: 0.00%\n",
            "\u001b[2m\u001b[36m(DefaultActor pid=30773)\u001b[0m [Client 21] evaluate, config: {}, local accuracy: 0.0\n",
            "\u001b[2m\u001b[36m(DefaultActor pid=30773)\u001b[0m Accuracy của poisoned task: 0.00%\n",
            "\u001b[2m\u001b[36m(DefaultActor pid=30773)\u001b[0m [Client 17] evaluate, config: {}, local accuracy: 0.0\n",
            "\u001b[2m\u001b[36m(DefaultActor pid=30773)\u001b[0m Accuracy của poisoned task: 0.00%\n",
            "\u001b[2m\u001b[36m(DefaultActor pid=30773)\u001b[0m [Client 24] evaluate, config: {}, local accuracy: 0.0\n",
            "\u001b[2m\u001b[36m(DefaultActor pid=30773)\u001b[0m Accuracy của poisoned task: 0.00%\n",
            "\u001b[2m\u001b[36m(DefaultActor pid=30773)\u001b[0m [Client 28] evaluate, config: {}, local accuracy: 0.0\n",
            "\u001b[2m\u001b[36m(DefaultActor pid=30773)\u001b[0m Accuracy của poisoned task: 0.00%\n",
            "\u001b[2m\u001b[36m(DefaultActor pid=30773)\u001b[0m [Client 5] evaluate, config: {}, local accuracy: 0.0\n",
            "\u001b[2m\u001b[36m(DefaultActor pid=30773)\u001b[0m Accuracy của poisoned task: 7.69%\n",
            "\u001b[2m\u001b[36m(DefaultActor pid=30773)\u001b[0m [Client 20] evaluate, config: {}, local accuracy: 7.6923076923076925\n",
            "\u001b[2m\u001b[36m(DefaultActor pid=30773)\u001b[0m Accuracy của poisoned task: 0.00%\n",
            "\u001b[2m\u001b[36m(DefaultActor pid=30773)\u001b[0m [Client 7] evaluate, config: {}, local accuracy: 0.0\n",
            "\u001b[2m\u001b[36m(DefaultActor pid=30773)\u001b[0m Accuracy của poisoned task: 4.76%\n",
            "\u001b[2m\u001b[36m(DefaultActor pid=30773)\u001b[0m [Client 0] evaluate, config: {}, local accuracy: 4.761904761904762\n",
            "\u001b[2m\u001b[36m(DefaultActor pid=30773)\u001b[0m Accuracy của poisoned task: 0.00%\n",
            "\u001b[2m\u001b[36m(DefaultActor pid=30773)\u001b[0m [Client 9] evaluate, config: {}, local accuracy: 0.0\n",
            "\u001b[2m\u001b[36m(DefaultActor pid=30773)\u001b[0m Accuracy của poisoned task: 0.00%\n",
            "\u001b[2m\u001b[36m(DefaultActor pid=30773)\u001b[0m [Client 8] evaluate, config: {}, local accuracy: 0.0\n",
            "\u001b[2m\u001b[36m(DefaultActor pid=30773)\u001b[0m Accuracy của poisoned task: 5.26%\n",
            "\u001b[2m\u001b[36m(DefaultActor pid=30773)\u001b[0m [Client 11] evaluate, config: {}, local accuracy: 5.2631578947368425\n",
            "\u001b[2m\u001b[36m(DefaultActor pid=30773)\u001b[0m Accuracy của poisoned task: 0.00%\n",
            "\u001b[2m\u001b[36m(DefaultActor pid=30773)\u001b[0m [Client 16] evaluate, config: {}, local accuracy: 0.0\n",
            "\u001b[2m\u001b[36m(DefaultActor pid=30773)\u001b[0m Accuracy của poisoned task: 0.00%\n",
            "\u001b[2m\u001b[36m(DefaultActor pid=30773)\u001b[0m [Client 15] evaluate, config: {}, local accuracy: 0.0\n",
            "\u001b[2m\u001b[36m(DefaultActor pid=30773)\u001b[0m Accuracy của poisoned task: 0.00%\n",
            "\u001b[2m\u001b[36m(DefaultActor pid=30773)\u001b[0m [Client 1] evaluate, config: {}, local accuracy: 0.0\n",
            "\u001b[2m\u001b[36m(DefaultActor pid=30773)\u001b[0m Accuracy của poisoned task: 0.00%\n",
            "\u001b[2m\u001b[36m(DefaultActor pid=30773)\u001b[0m [Client 14] evaluate, config: {}, local accuracy: 0.0\n"
          ]
        },
        {
          "output_type": "stream",
          "name": "stderr",
          "text": [
            "DEBUG flwr 2024-01-04 16:19:43,772 | server.py:187 | evaluate_round 12 received 30 results and 0 failures\n",
            "DEBUG:flwr:evaluate_round 12 received 30 results and 0 failures\n",
            "DEBUG flwr 2024-01-04 16:19:43,776 | server.py:222 | fit_round 13: strategy sampled 10 clients (out of 30)\n",
            "DEBUG:flwr:fit_round 13: strategy sampled 10 clients (out of 30)\n"
          ]
        },
        {
          "output_type": "stream",
          "name": "stdout",
          "text": [
            "\u001b[2m\u001b[36m(DefaultActor pid=30773)\u001b[0m Accuracy của poisoned task: 0.00%\n",
            "\u001b[2m\u001b[36m(DefaultActor pid=30773)\u001b[0m [Client 19] evaluate, config: {}, local accuracy: 0.0\n",
            "\u001b[2m\u001b[36m(DefaultActor pid=30773)\u001b[0m Accuracy của poisoned task: 0.00%\n",
            "\u001b[2m\u001b[36m(DefaultActor pid=30773)\u001b[0m [Client 6] evaluate, config: {}, local accuracy: 0.0\n",
            "\u001b[2m\u001b[36m(DefaultActor pid=30773)\u001b[0m [Client 25] fit, config: {'epochs': 10, 'lr': 0.1, 'attacker_epochs': 20, 'attacker_lr': 0.05}\n",
            "\u001b[2m\u001b[36m(DefaultActor pid=30773)\u001b[0m [Client 25] get_parameters\n",
            "\u001b[2m\u001b[36m(DefaultActor pid=30773)\u001b[0m [Client 28] fit, config: {'epochs': 10, 'lr': 0.1, 'attacker_epochs': 20, 'attacker_lr': 0.05}\n",
            "\u001b[2m\u001b[36m(DefaultActor pid=30773)\u001b[0m [Client 28] get_parameters\n",
            "\u001b[2m\u001b[36m(DefaultActor pid=30773)\u001b[0m [Client 7] fit, config: {'epochs': 10, 'lr': 0.1, 'attacker_epochs': 20, 'attacker_lr': 0.05}\n",
            "\u001b[2m\u001b[36m(DefaultActor pid=30773)\u001b[0m [Client 7] get_parameters\n",
            "\u001b[2m\u001b[36m(DefaultActor pid=30773)\u001b[0m [Client 20] fit, config: {'epochs': 10, 'lr': 0.1, 'attacker_epochs': 20, 'attacker_lr': 0.05}\n",
            "\u001b[2m\u001b[36m(DefaultActor pid=30773)\u001b[0m [Client 20] get_parameters\n",
            "\u001b[2m\u001b[36m(DefaultActor pid=30773)\u001b[0m [Client 22] fit, config: {'epochs': 10, 'lr': 0.1, 'attacker_epochs': 20, 'attacker_lr': 0.05}\n",
            "\u001b[2m\u001b[36m(DefaultActor pid=30773)\u001b[0m [Client 22] get_parameters\n",
            "\u001b[2m\u001b[36m(DefaultActor pid=30773)\u001b[0m [Client 27] fit, config: {'epochs': 10, 'lr': 0.1, 'attacker_epochs': 20, 'attacker_lr': 0.05}\n",
            "\u001b[2m\u001b[36m(DefaultActor pid=30773)\u001b[0m [Client 27] get_parameters\n",
            "\u001b[2m\u001b[36m(DefaultActor pid=30773)\u001b[0m [Client 29] fit, config: {'epochs': 10, 'lr': 0.1, 'attacker_epochs': 20, 'attacker_lr': 0.05}\n",
            "\u001b[2m\u001b[36m(DefaultActor pid=30773)\u001b[0m [Client 29] get_parameters\n",
            "\u001b[2m\u001b[36m(DefaultActor pid=30773)\u001b[0m [Client 11] fit, config: {'epochs': 10, 'lr': 0.1, 'attacker_epochs': 20, 'attacker_lr': 0.05}\n",
            "\u001b[2m\u001b[36m(DefaultActor pid=30773)\u001b[0m [Client 11] get_parameters\n",
            "\u001b[2m\u001b[36m(DefaultActor pid=30773)\u001b[0m [Client 17] fit, config: {'epochs': 10, 'lr': 0.1, 'attacker_epochs': 20, 'attacker_lr': 0.05}\n",
            "\u001b[2m\u001b[36m(DefaultActor pid=30773)\u001b[0m [Client 17] get_parameters\n",
            "\u001b[2m\u001b[36m(DefaultActor pid=30773)\u001b[0m [Client 4] fit, config: {'epochs': 10, 'lr': 0.1, 'attacker_epochs': 20, 'attacker_lr': 0.05}\n"
          ]
        },
        {
          "output_type": "stream",
          "name": "stderr",
          "text": [
            "DEBUG flwr 2024-01-04 16:21:24,989 | server.py:236 | fit_round 13 received 10 results and 0 failures\n",
            "DEBUG:flwr:fit_round 13 received 10 results and 0 failures\n"
          ]
        },
        {
          "output_type": "stream",
          "name": "stdout",
          "text": [
            "\u001b[2m\u001b[36m(DefaultActor pid=30773)\u001b[0m [Client 4] get_parameters\n",
            "Saving round 13 aggregated_parameters...\n"
          ]
        },
        {
          "output_type": "stream",
          "name": "stderr",
          "text": [
            "INFO flwr 2024-01-04 16:21:30,763 | server.py:125 | fit progress: (13, 314.4929554462433, {'accuracy': 0.7751937984496124}, 1464.1292066289998)\n",
            "INFO:flwr:fit progress: (13, 314.4929554462433, {'accuracy': 0.7751937984496124}, 1464.1292066289998)\n",
            "DEBUG flwr 2024-01-04 16:21:30,766 | server.py:173 | evaluate_round 13: strategy sampled 30 clients (out of 30)\n",
            "DEBUG:flwr:evaluate_round 13: strategy sampled 30 clients (out of 30)\n"
          ]
        },
        {
          "output_type": "stream",
          "name": "stdout",
          "text": [
            "Accuracy của poisoned task: 0.78%\n",
            "\u001b[2m\u001b[36m(DefaultActor pid=30773)\u001b[0m Accuracy của poisoned task: 0.00%\n",
            "\u001b[2m\u001b[36m(DefaultActor pid=30773)\u001b[0m [Client 7] evaluate, config: {}, local accuracy: 0.0\n",
            "\u001b[2m\u001b[36m(DefaultActor pid=30773)\u001b[0m Accuracy của poisoned task: 4.76%\n",
            "\u001b[2m\u001b[36m(DefaultActor pid=30773)\u001b[0m [Client 11] evaluate, config: {}, local accuracy: 4.761904761904762\n",
            "\u001b[2m\u001b[36m(DefaultActor pid=30773)\u001b[0m Accuracy của poisoned task: 0.00%\n",
            "\u001b[2m\u001b[36m(DefaultActor pid=30773)\u001b[0m [Client 17] evaluate, config: {}, local accuracy: 0.0\n",
            "\u001b[2m\u001b[36m(DefaultActor pid=30773)\u001b[0m Accuracy của poisoned task: 4.00%\n",
            "\u001b[2m\u001b[36m(DefaultActor pid=30773)\u001b[0m [Client 21] evaluate, config: {}, local accuracy: 4.0\n",
            "\u001b[2m\u001b[36m(DefaultActor pid=30773)\u001b[0m Accuracy của poisoned task: 0.00%\n",
            "\u001b[2m\u001b[36m(DefaultActor pid=30773)\u001b[0m [Client 9] evaluate, config: {}, local accuracy: 0.0\n",
            "\u001b[2m\u001b[36m(DefaultActor pid=30773)\u001b[0m Accuracy của poisoned task: 0.00%\n",
            "\u001b[2m\u001b[36m(DefaultActor pid=30773)\u001b[0m [Client 26] evaluate, config: {}, local accuracy: 0.0\n",
            "\u001b[2m\u001b[36m(DefaultActor pid=30773)\u001b[0m Accuracy của poisoned task: 0.00%\n",
            "\u001b[2m\u001b[36m(DefaultActor pid=30773)\u001b[0m [Client 8] evaluate, config: {}, local accuracy: 0.0\n",
            "\u001b[2m\u001b[36m(DefaultActor pid=30773)\u001b[0m Accuracy của poisoned task: 0.00%\n",
            "\u001b[2m\u001b[36m(DefaultActor pid=30773)\u001b[0m [Client 3] evaluate, config: {}, local accuracy: 0.0\n",
            "\u001b[2m\u001b[36m(DefaultActor pid=30773)\u001b[0m Accuracy của poisoned task: 4.17%\n",
            "\u001b[2m\u001b[36m(DefaultActor pid=30773)\u001b[0m [Client 27] evaluate, config: {}, local accuracy: 4.166666666666667\n",
            "\u001b[2m\u001b[36m(DefaultActor pid=30773)\u001b[0m Accuracy của poisoned task: 0.00%\n",
            "\u001b[2m\u001b[36m(DefaultActor pid=30773)\u001b[0m [Client 12] evaluate, config: {}, local accuracy: 0.0\n",
            "\u001b[2m\u001b[36m(DefaultActor pid=30773)\u001b[0m Accuracy của poisoned task: 0.00%\n",
            "\u001b[2m\u001b[36m(DefaultActor pid=30773)\u001b[0m [Client 28] evaluate, config: {}, local accuracy: 0.0\n",
            "\u001b[2m\u001b[36m(DefaultActor pid=30773)\u001b[0m Accuracy của poisoned task: 0.00%\n",
            "\u001b[2m\u001b[36m(DefaultActor pid=30773)\u001b[0m [Client 6] evaluate, config: {}, local accuracy: 0.0\n",
            "\u001b[2m\u001b[36m(DefaultActor pid=30773)\u001b[0m Accuracy của poisoned task: 0.00%\n",
            "\u001b[2m\u001b[36m(DefaultActor pid=30773)\u001b[0m [Client 23] evaluate, config: {}, local accuracy: 0.0\n",
            "\u001b[2m\u001b[36m(DefaultActor pid=30773)\u001b[0m Accuracy của poisoned task: 4.17%\n",
            "\u001b[2m\u001b[36m(DefaultActor pid=30773)\u001b[0m [Client 22] evaluate, config: {}, local accuracy: 4.166666666666667\n",
            "\u001b[2m\u001b[36m(DefaultActor pid=30773)\u001b[0m Accuracy của poisoned task: 0.00%\n",
            "\u001b[2m\u001b[36m(DefaultActor pid=30773)\u001b[0m [Client 29] evaluate, config: {}, local accuracy: 0.0\n",
            "\u001b[2m\u001b[36m(DefaultActor pid=30773)\u001b[0m Accuracy của poisoned task: 0.00%\n",
            "\u001b[2m\u001b[36m(DefaultActor pid=30773)\u001b[0m [Client 5] evaluate, config: {}, local accuracy: 0.0\n",
            "\u001b[2m\u001b[36m(DefaultActor pid=30773)\u001b[0m Accuracy của poisoned task: 0.00%\n",
            "\u001b[2m\u001b[36m(DefaultActor pid=30773)\u001b[0m [Client 24] evaluate, config: {}, local accuracy: 0.0\n",
            "\u001b[2m\u001b[36m(DefaultActor pid=30773)\u001b[0m Accuracy của poisoned task: 0.00%\n",
            "\u001b[2m\u001b[36m(DefaultActor pid=30773)\u001b[0m [Client 4] evaluate, config: {}, local accuracy: 0.0\n",
            "\u001b[2m\u001b[36m(DefaultActor pid=30773)\u001b[0m Accuracy của poisoned task: 0.00%\n",
            "\u001b[2m\u001b[36m(DefaultActor pid=30773)\u001b[0m [Client 1] evaluate, config: {}, local accuracy: 0.0\n",
            "\u001b[2m\u001b[36m(DefaultActor pid=30773)\u001b[0m Accuracy của poisoned task: 0.00%\n",
            "\u001b[2m\u001b[36m(DefaultActor pid=30773)\u001b[0m [Client 10] evaluate, config: {}, local accuracy: 0.0\n",
            "\u001b[2m\u001b[36m(DefaultActor pid=30773)\u001b[0m Accuracy của poisoned task: 0.00%\n",
            "\u001b[2m\u001b[36m(DefaultActor pid=30773)\u001b[0m [Client 16] evaluate, config: {}, local accuracy: 0.0\n",
            "\u001b[2m\u001b[36m(DefaultActor pid=30773)\u001b[0m Accuracy của poisoned task: 0.00%\n",
            "\u001b[2m\u001b[36m(DefaultActor pid=30773)\u001b[0m [Client 13] evaluate, config: {}, local accuracy: 0.0\n",
            "\u001b[2m\u001b[36m(DefaultActor pid=30773)\u001b[0m Accuracy của poisoned task: 7.41%\n",
            "\u001b[2m\u001b[36m(DefaultActor pid=30773)\u001b[0m [Client 20] evaluate, config: {}, local accuracy: 7.407407407407407\n",
            "\u001b[2m\u001b[36m(DefaultActor pid=30773)\u001b[0m Accuracy của poisoned task: 0.00%\n",
            "\u001b[2m\u001b[36m(DefaultActor pid=30773)\u001b[0m [Client 25] evaluate, config: {}, local accuracy: 0.0\n",
            "\u001b[2m\u001b[36m(DefaultActor pid=30773)\u001b[0m Accuracy của poisoned task: 0.00%\n",
            "\u001b[2m\u001b[36m(DefaultActor pid=30773)\u001b[0m [Client 15] evaluate, config: {}, local accuracy: 0.0\n",
            "\u001b[2m\u001b[36m(DefaultActor pid=30773)\u001b[0m Accuracy của poisoned task: 0.00%\n",
            "\u001b[2m\u001b[36m(DefaultActor pid=30773)\u001b[0m [Client 19] evaluate, config: {}, local accuracy: 0.0\n",
            "\u001b[2m\u001b[36m(DefaultActor pid=30773)\u001b[0m Accuracy của poisoned task: 0.00%\n",
            "\u001b[2m\u001b[36m(DefaultActor pid=30773)\u001b[0m [Client 14] evaluate, config: {}, local accuracy: 0.0\n",
            "\u001b[2m\u001b[36m(DefaultActor pid=30773)\u001b[0m Accuracy của poisoned task: 0.00%\n",
            "\u001b[2m\u001b[36m(DefaultActor pid=30773)\u001b[0m [Client 0] evaluate, config: {}, local accuracy: 0.0\n"
          ]
        },
        {
          "output_type": "stream",
          "name": "stderr",
          "text": [
            "DEBUG flwr 2024-01-04 16:21:37,575 | server.py:187 | evaluate_round 13 received 30 results and 0 failures\n",
            "DEBUG:flwr:evaluate_round 13 received 30 results and 0 failures\n",
            "DEBUG flwr 2024-01-04 16:21:37,579 | server.py:222 | fit_round 14: strategy sampled 10 clients (out of 30)\n",
            "DEBUG:flwr:fit_round 14: strategy sampled 10 clients (out of 30)\n"
          ]
        },
        {
          "output_type": "stream",
          "name": "stdout",
          "text": [
            "\u001b[2m\u001b[36m(DefaultActor pid=30773)\u001b[0m Accuracy của poisoned task: 0.00%\n",
            "\u001b[2m\u001b[36m(DefaultActor pid=30773)\u001b[0m [Client 18] evaluate, config: {}, local accuracy: 0.0\n",
            "\u001b[2m\u001b[36m(DefaultActor pid=30773)\u001b[0m Accuracy của poisoned task: 0.00%\n",
            "\u001b[2m\u001b[36m(DefaultActor pid=30773)\u001b[0m [Client 2] evaluate, config: {}, local accuracy: 0.0\n",
            "\u001b[2m\u001b[36m(DefaultActor pid=30773)\u001b[0m [Client 8] fit, config: {'epochs': 10, 'lr': 0.1, 'attacker_epochs': 20, 'attacker_lr': 0.05}\n",
            "\u001b[2m\u001b[36m(DefaultActor pid=30773)\u001b[0m [Client 8] get_parameters\n",
            "\u001b[2m\u001b[36m(DefaultActor pid=30773)\u001b[0m [Client 3] fit, config: {'epochs': 10, 'lr': 0.1, 'attacker_epochs': 20, 'attacker_lr': 0.05}\n",
            "\u001b[2m\u001b[36m(DefaultActor pid=30773)\u001b[0m [Client 3] get_parameters\n",
            "\u001b[2m\u001b[36m(DefaultActor pid=30773)\u001b[0m [Client 18] fit, config: {'epochs': 10, 'lr': 0.1, 'attacker_epochs': 20, 'attacker_lr': 0.05}\n",
            "\u001b[2m\u001b[36m(DefaultActor pid=30773)\u001b[0m [Client 18] get_parameters\n",
            "\u001b[2m\u001b[36m(DefaultActor pid=30773)\u001b[0m [Client 9] fit, config: {'epochs': 10, 'lr': 0.1, 'attacker_epochs': 20, 'attacker_lr': 0.05}\n",
            "\u001b[2m\u001b[36m(DefaultActor pid=30773)\u001b[0m [Client 9] get_parameters\n",
            "\u001b[2m\u001b[36m(DefaultActor pid=30773)\u001b[0m [Client 23] fit, config: {'epochs': 10, 'lr': 0.1, 'attacker_epochs': 20, 'attacker_lr': 0.05}\n",
            "\u001b[2m\u001b[36m(DefaultActor pid=30773)\u001b[0m [Client 23] get_parameters\n",
            "\u001b[2m\u001b[36m(DefaultActor pid=30773)\u001b[0m [Client 10] fit, config: {'epochs': 10, 'lr': 0.1, 'attacker_epochs': 20, 'attacker_lr': 0.05}\n",
            "\u001b[2m\u001b[36m(DefaultActor pid=30773)\u001b[0m [Client 10] get_parameters\n",
            "\u001b[2m\u001b[36m(DefaultActor pid=30773)\u001b[0m [Client 24] fit, config: {'epochs': 10, 'lr': 0.1, 'attacker_epochs': 20, 'attacker_lr': 0.05}\n",
            "\u001b[2m\u001b[36m(DefaultActor pid=30773)\u001b[0m [Client 24] get_parameters\n",
            "\u001b[2m\u001b[36m(DefaultActor pid=30773)\u001b[0m [Client 13] fit, config: {'epochs': 10, 'lr': 0.1, 'attacker_epochs': 20, 'attacker_lr': 0.05}\n",
            "\u001b[2m\u001b[36m(DefaultActor pid=30773)\u001b[0m [Client 13] get_parameters\n",
            "\u001b[2m\u001b[36m(DefaultActor pid=30773)\u001b[0m [Client 2] fit, config: {'epochs': 10, 'lr': 0.1, 'attacker_epochs': 20, 'attacker_lr': 0.05}\n",
            "\u001b[2m\u001b[36m(DefaultActor pid=30773)\u001b[0m [Client 2] get_parameters\n",
            "\u001b[2m\u001b[36m(DefaultActor pid=30773)\u001b[0m [Client 11] fit, config: {'epochs': 10, 'lr': 0.1, 'attacker_epochs': 20, 'attacker_lr': 0.05}\n"
          ]
        },
        {
          "output_type": "stream",
          "name": "stderr",
          "text": [
            "DEBUG flwr 2024-01-04 16:23:16,808 | server.py:236 | fit_round 14 received 10 results and 0 failures\n",
            "DEBUG:flwr:fit_round 14 received 10 results and 0 failures\n"
          ]
        },
        {
          "output_type": "stream",
          "name": "stdout",
          "text": [
            "Saving round 14 aggregated_parameters...\n",
            "\u001b[2m\u001b[36m(DefaultActor pid=30773)\u001b[0m [Client 11] get_parameters\n"
          ]
        },
        {
          "output_type": "stream",
          "name": "stderr",
          "text": [
            "INFO flwr 2024-01-04 16:23:22,115 | server.py:125 | fit progress: (14, 314.19060575962067, {'accuracy': 0.6782945736434108}, 1575.4812811290003)\n",
            "INFO:flwr:fit progress: (14, 314.19060575962067, {'accuracy': 0.6782945736434108}, 1575.4812811290003)\n",
            "DEBUG flwr 2024-01-04 16:23:22,120 | server.py:173 | evaluate_round 14: strategy sampled 30 clients (out of 30)\n",
            "DEBUG:flwr:evaluate_round 14: strategy sampled 30 clients (out of 30)\n"
          ]
        },
        {
          "output_type": "stream",
          "name": "stdout",
          "text": [
            "Accuracy của poisoned task: 0.68%\n",
            "\u001b[2m\u001b[36m(DefaultActor pid=30773)\u001b[0m Accuracy của poisoned task: 0.00%\n",
            "\u001b[2m\u001b[36m(DefaultActor pid=30773)\u001b[0m [Client 5] evaluate, config: {}, local accuracy: 0.0\n",
            "\u001b[2m\u001b[36m(DefaultActor pid=30773)\u001b[0m Accuracy của poisoned task: 0.00%\n",
            "\u001b[2m\u001b[36m(DefaultActor pid=30773)\u001b[0m [Client 6] evaluate, config: {}, local accuracy: 0.0\n",
            "\u001b[2m\u001b[36m(DefaultActor pid=30773)\u001b[0m Accuracy của poisoned task: 0.00%\n",
            "\u001b[2m\u001b[36m(DefaultActor pid=30773)\u001b[0m [Client 9] evaluate, config: {}, local accuracy: 0.0\n",
            "\u001b[2m\u001b[36m(DefaultActor pid=30773)\u001b[0m Accuracy của poisoned task: 0.00%\n",
            "\u001b[2m\u001b[36m(DefaultActor pid=30773)\u001b[0m [Client 15] evaluate, config: {}, local accuracy: 0.0\n",
            "\u001b[2m\u001b[36m(DefaultActor pid=30773)\u001b[0m Accuracy của poisoned task: 0.00%\n",
            "\u001b[2m\u001b[36m(DefaultActor pid=30773)\u001b[0m [Client 27] evaluate, config: {}, local accuracy: 0.0\n",
            "\u001b[2m\u001b[36m(DefaultActor pid=30773)\u001b[0m Accuracy của poisoned task: 5.00%\n",
            "\u001b[2m\u001b[36m(DefaultActor pid=30773)\u001b[0m [Client 21] evaluate, config: {}, local accuracy: 5.0\n",
            "\u001b[2m\u001b[36m(DefaultActor pid=30773)\u001b[0m Accuracy của poisoned task: 0.00%\n",
            "\u001b[2m\u001b[36m(DefaultActor pid=30773)\u001b[0m [Client 18] evaluate, config: {}, local accuracy: 0.0\n",
            "\u001b[2m\u001b[36m(DefaultActor pid=30773)\u001b[0m Accuracy của poisoned task: 0.00%\n",
            "\u001b[2m\u001b[36m(DefaultActor pid=30773)\u001b[0m [Client 16] evaluate, config: {}, local accuracy: 0.0\n",
            "\u001b[2m\u001b[36m(DefaultActor pid=30773)\u001b[0m Accuracy của poisoned task: 0.00%\n",
            "\u001b[2m\u001b[36m(DefaultActor pid=30773)\u001b[0m [Client 3] evaluate, config: {}, local accuracy: 0.0\n",
            "\u001b[2m\u001b[36m(DefaultActor pid=30773)\u001b[0m Accuracy của poisoned task: 0.00%\n",
            "\u001b[2m\u001b[36m(DefaultActor pid=30773)\u001b[0m [Client 20] evaluate, config: {}, local accuracy: 0.0\n",
            "\u001b[2m\u001b[36m(DefaultActor pid=30773)\u001b[0m Accuracy của poisoned task: 6.67%\n",
            "\u001b[2m\u001b[36m(DefaultActor pid=30773)\u001b[0m [Client 0] evaluate, config: {}, local accuracy: 6.666666666666667\n",
            "\u001b[2m\u001b[36m(DefaultActor pid=30773)\u001b[0m Accuracy của poisoned task: 0.00%\n",
            "\u001b[2m\u001b[36m(DefaultActor pid=30773)\u001b[0m [Client 1] evaluate, config: {}, local accuracy: 0.0\n",
            "\u001b[2m\u001b[36m(DefaultActor pid=30773)\u001b[0m Accuracy của poisoned task: 0.00%\n",
            "\u001b[2m\u001b[36m(DefaultActor pid=30773)\u001b[0m [Client 10] evaluate, config: {}, local accuracy: 0.0\n",
            "\u001b[2m\u001b[36m(DefaultActor pid=30773)\u001b[0m Accuracy của poisoned task: 0.00%\n",
            "\u001b[2m\u001b[36m(DefaultActor pid=30773)\u001b[0m [Client 12] evaluate, config: {}, local accuracy: 0.0\n",
            "\u001b[2m\u001b[36m(DefaultActor pid=30773)\u001b[0m Accuracy của poisoned task: 0.00%\n",
            "\u001b[2m\u001b[36m(DefaultActor pid=30773)\u001b[0m [Client 26] evaluate, config: {}, local accuracy: 0.0\n",
            "\u001b[2m\u001b[36m(DefaultActor pid=30773)\u001b[0m Accuracy của poisoned task: 0.00%\n",
            "\u001b[2m\u001b[36m(DefaultActor pid=30773)\u001b[0m [Client 2] evaluate, config: {}, local accuracy: 0.0\n",
            "\u001b[2m\u001b[36m(DefaultActor pid=30773)\u001b[0m Accuracy của poisoned task: 0.00%\n",
            "\u001b[2m\u001b[36m(DefaultActor pid=30773)\u001b[0m [Client 7] evaluate, config: {}, local accuracy: 0.0\n",
            "\u001b[2m\u001b[36m(DefaultActor pid=30773)\u001b[0m Accuracy của poisoned task: 0.00%\n",
            "\u001b[2m\u001b[36m(DefaultActor pid=30773)\u001b[0m [Client 11] evaluate, config: {}, local accuracy: 0.0\n",
            "\u001b[2m\u001b[36m(DefaultActor pid=30773)\u001b[0m Accuracy của poisoned task: 0.00%\n",
            "\u001b[2m\u001b[36m(DefaultActor pid=30773)\u001b[0m [Client 23] evaluate, config: {}, local accuracy: 0.0\n",
            "\u001b[2m\u001b[36m(DefaultActor pid=30773)\u001b[0m Accuracy của poisoned task: 0.00%\n",
            "\u001b[2m\u001b[36m(DefaultActor pid=30773)\u001b[0m [Client 29] evaluate, config: {}, local accuracy: 0.0\n",
            "\u001b[2m\u001b[36m(DefaultActor pid=30773)\u001b[0m Accuracy của poisoned task: 0.00%\n",
            "\u001b[2m\u001b[36m(DefaultActor pid=30773)\u001b[0m [Client 28] evaluate, config: {}, local accuracy: 0.0\n",
            "\u001b[2m\u001b[36m(DefaultActor pid=30773)\u001b[0m Accuracy của poisoned task: 4.17%\n",
            "\u001b[2m\u001b[36m(DefaultActor pid=30773)\u001b[0m [Client 24] evaluate, config: {}, local accuracy: 4.166666666666667\n",
            "\u001b[2m\u001b[36m(DefaultActor pid=30773)\u001b[0m Accuracy của poisoned task: 0.00%\n",
            "\u001b[2m\u001b[36m(DefaultActor pid=30773)\u001b[0m [Client 17] evaluate, config: {}, local accuracy: 0.0\n",
            "\u001b[2m\u001b[36m(DefaultActor pid=30773)\u001b[0m Accuracy của poisoned task: 0.00%\n",
            "\u001b[2m\u001b[36m(DefaultActor pid=30773)\u001b[0m [Client 14] evaluate, config: {}, local accuracy: 0.0\n",
            "\u001b[2m\u001b[36m(DefaultActor pid=30773)\u001b[0m Accuracy của poisoned task: 0.00%\n",
            "\u001b[2m\u001b[36m(DefaultActor pid=30773)\u001b[0m [Client 19] evaluate, config: {}, local accuracy: 0.0\n",
            "\u001b[2m\u001b[36m(DefaultActor pid=30773)\u001b[0m Accuracy của poisoned task: 0.00%\n",
            "\u001b[2m\u001b[36m(DefaultActor pid=30773)\u001b[0m [Client 25] evaluate, config: {}, local accuracy: 0.0\n",
            "\u001b[2m\u001b[36m(DefaultActor pid=30773)\u001b[0m Accuracy của poisoned task: 0.00%\n",
            "\u001b[2m\u001b[36m(DefaultActor pid=30773)\u001b[0m [Client 13] evaluate, config: {}, local accuracy: 0.0\n",
            "\u001b[2m\u001b[36m(DefaultActor pid=30773)\u001b[0m Accuracy của poisoned task: 0.00%\n",
            "\u001b[2m\u001b[36m(DefaultActor pid=30773)\u001b[0m [Client 22] evaluate, config: {}, local accuracy: 0.0\n"
          ]
        },
        {
          "output_type": "stream",
          "name": "stderr",
          "text": [
            "DEBUG flwr 2024-01-04 16:23:29,263 | server.py:187 | evaluate_round 14 received 30 results and 0 failures\n",
            "DEBUG:flwr:evaluate_round 14 received 30 results and 0 failures\n",
            "DEBUG flwr 2024-01-04 16:23:29,266 | server.py:222 | fit_round 15: strategy sampled 10 clients (out of 30)\n",
            "DEBUG:flwr:fit_round 15: strategy sampled 10 clients (out of 30)\n"
          ]
        },
        {
          "output_type": "stream",
          "name": "stdout",
          "text": [
            "\u001b[2m\u001b[36m(DefaultActor pid=30773)\u001b[0m Accuracy của poisoned task: 0.00%\n",
            "\u001b[2m\u001b[36m(DefaultActor pid=30773)\u001b[0m [Client 4] evaluate, config: {}, local accuracy: 0.0\n",
            "\u001b[2m\u001b[36m(DefaultActor pid=30773)\u001b[0m Accuracy của poisoned task: 5.56%\n",
            "\u001b[2m\u001b[36m(DefaultActor pid=30773)\u001b[0m [Client 8] evaluate, config: {}, local accuracy: 5.555555555555555\n",
            "\u001b[2m\u001b[36m(DefaultActor pid=30773)\u001b[0m [Client 18] fit, config: {'epochs': 10, 'lr': 0.1, 'attacker_epochs': 20, 'attacker_lr': 0.05}\n",
            "\u001b[2m\u001b[36m(DefaultActor pid=30773)\u001b[0m [Client 18] get_parameters\n",
            "\u001b[2m\u001b[36m(DefaultActor pid=30773)\u001b[0m [Client 5] fit, config: {'epochs': 10, 'lr': 0.1, 'attacker_epochs': 20, 'attacker_lr': 0.05}\n",
            "\u001b[2m\u001b[36m(DefaultActor pid=30773)\u001b[0m [Client 5] get_parameters\n",
            "\u001b[2m\u001b[36m(DefaultActor pid=30773)\u001b[0m [Client 4] fit, config: {'epochs': 10, 'lr': 0.1, 'attacker_epochs': 20, 'attacker_lr': 0.05}\n",
            "\u001b[2m\u001b[36m(DefaultActor pid=30773)\u001b[0m [Client 4] get_parameters\n",
            "\u001b[2m\u001b[36m(DefaultActor pid=30773)\u001b[0m [Client 19] fit, config: {'epochs': 10, 'lr': 0.1, 'attacker_epochs': 20, 'attacker_lr': 0.05}\n",
            "\u001b[2m\u001b[36m(DefaultActor pid=30773)\u001b[0m [Client 19] get_parameters\n",
            "\u001b[2m\u001b[36m(DefaultActor pid=30773)\u001b[0m [Client 24] fit, config: {'epochs': 10, 'lr': 0.1, 'attacker_epochs': 20, 'attacker_lr': 0.05}\n",
            "\u001b[2m\u001b[36m(DefaultActor pid=30773)\u001b[0m [Client 24] get_parameters\n",
            "\u001b[2m\u001b[36m(DefaultActor pid=30773)\u001b[0m [Client 15] fit, config: {'epochs': 10, 'lr': 0.1, 'attacker_epochs': 20, 'attacker_lr': 0.05}\n",
            "\u001b[2m\u001b[36m(DefaultActor pid=30773)\u001b[0m [Client 15] get_parameters\n",
            "\u001b[2m\u001b[36m(DefaultActor pid=30773)\u001b[0m [Client 28] fit, config: {'epochs': 10, 'lr': 0.1, 'attacker_epochs': 20, 'attacker_lr': 0.05}\n",
            "\u001b[2m\u001b[36m(DefaultActor pid=30773)\u001b[0m [Client 28] get_parameters\n",
            "\u001b[2m\u001b[36m(DefaultActor pid=30773)\u001b[0m [Client 25] fit, config: {'epochs': 10, 'lr': 0.1, 'attacker_epochs': 20, 'attacker_lr': 0.05}\n",
            "\u001b[2m\u001b[36m(DefaultActor pid=30773)\u001b[0m [Client 25] get_parameters\n",
            "\u001b[2m\u001b[36m(DefaultActor pid=30773)\u001b[0m [Client 12] fit, config: {'epochs': 10, 'lr': 0.1, 'attacker_epochs': 20, 'attacker_lr': 0.05}\n",
            "\u001b[2m\u001b[36m(DefaultActor pid=30773)\u001b[0m [Client 12] get_parameters\n",
            "\u001b[2m\u001b[36m(DefaultActor pid=30773)\u001b[0m [Client 26] fit, config: {'epochs': 10, 'lr': 0.1, 'attacker_epochs': 20, 'attacker_lr': 0.05}\n"
          ]
        },
        {
          "output_type": "stream",
          "name": "stderr",
          "text": [
            "DEBUG flwr 2024-01-04 16:25:10,240 | server.py:236 | fit_round 15 received 10 results and 0 failures\n",
            "DEBUG:flwr:fit_round 15 received 10 results and 0 failures\n"
          ]
        },
        {
          "output_type": "stream",
          "name": "stdout",
          "text": [
            "\u001b[2m\u001b[36m(DefaultActor pid=30773)\u001b[0m [Client 26] get_parameters\n",
            "Saving round 15 aggregated_parameters...\n"
          ]
        },
        {
          "output_type": "stream",
          "name": "stderr",
          "text": [
            "INFO flwr 2024-01-04 16:25:15,628 | server.py:125 | fit progress: (15, 313.91240894794464, {'accuracy': 0.6782945736434108}, 1688.9943711040005)\n",
            "INFO:flwr:fit progress: (15, 313.91240894794464, {'accuracy': 0.6782945736434108}, 1688.9943711040005)\n",
            "DEBUG flwr 2024-01-04 16:25:15,634 | server.py:173 | evaluate_round 15: strategy sampled 30 clients (out of 30)\n",
            "DEBUG:flwr:evaluate_round 15: strategy sampled 30 clients (out of 30)\n"
          ]
        },
        {
          "output_type": "stream",
          "name": "stdout",
          "text": [
            "Accuracy của poisoned task: 0.68%\n",
            "\u001b[2m\u001b[36m(DefaultActor pid=30773)\u001b[0m Accuracy của poisoned task: 4.76%\n",
            "\u001b[2m\u001b[36m(DefaultActor pid=30773)\u001b[0m [Client 22] evaluate, config: {}, local accuracy: 4.761904761904762\n",
            "\u001b[2m\u001b[36m(DefaultActor pid=30773)\u001b[0m Accuracy của poisoned task: 0.00%\n",
            "\u001b[2m\u001b[36m(DefaultActor pid=30773)\u001b[0m [Client 28] evaluate, config: {}, local accuracy: 0.0\n",
            "\u001b[2m\u001b[36m(DefaultActor pid=30773)\u001b[0m Accuracy của poisoned task: 0.00%\n",
            "\u001b[2m\u001b[36m(DefaultActor pid=30773)\u001b[0m [Client 2] evaluate, config: {}, local accuracy: 0.0\n",
            "\u001b[2m\u001b[36m(DefaultActor pid=30773)\u001b[0m Accuracy của poisoned task: 0.00%\n",
            "\u001b[2m\u001b[36m(DefaultActor pid=30773)\u001b[0m [Client 8] evaluate, config: {}, local accuracy: 0.0\n",
            "\u001b[2m\u001b[36m(DefaultActor pid=30773)\u001b[0m Accuracy của poisoned task: 0.00%\n",
            "\u001b[2m\u001b[36m(DefaultActor pid=30773)\u001b[0m [Client 12] evaluate, config: {}, local accuracy: 0.0\n",
            "\u001b[2m\u001b[36m(DefaultActor pid=30773)\u001b[0m Accuracy của poisoned task: 0.00%\n",
            "\u001b[2m\u001b[36m(DefaultActor pid=30773)\u001b[0m [Client 27] evaluate, config: {}, local accuracy: 0.0\n",
            "\u001b[2m\u001b[36m(DefaultActor pid=30773)\u001b[0m Accuracy của poisoned task: 0.00%\n",
            "\u001b[2m\u001b[36m(DefaultActor pid=30773)\u001b[0m [Client 15] evaluate, config: {}, local accuracy: 0.0\n",
            "\u001b[2m\u001b[36m(DefaultActor pid=30773)\u001b[0m Accuracy của poisoned task: 0.00%\n",
            "\u001b[2m\u001b[36m(DefaultActor pid=30773)\u001b[0m [Client 9] evaluate, config: {}, local accuracy: 0.0\n",
            "\u001b[2m\u001b[36m(DefaultActor pid=30773)\u001b[0m Accuracy của poisoned task: 0.00%\n",
            "\u001b[2m\u001b[36m(DefaultActor pid=30773)\u001b[0m [Client 7] evaluate, config: {}, local accuracy: 0.0\n",
            "\u001b[2m\u001b[36m(DefaultActor pid=30773)\u001b[0m Accuracy của poisoned task: 0.00%\n",
            "\u001b[2m\u001b[36m(DefaultActor pid=30773)\u001b[0m [Client 14] evaluate, config: {}, local accuracy: 0.0\n",
            "\u001b[2m\u001b[36m(DefaultActor pid=30773)\u001b[0m Accuracy của poisoned task: 0.00%\n",
            "\u001b[2m\u001b[36m(DefaultActor pid=30773)\u001b[0m [Client 0] evaluate, config: {}, local accuracy: 0.0\n",
            "\u001b[2m\u001b[36m(DefaultActor pid=30773)\u001b[0m Accuracy của poisoned task: 0.00%\n",
            "\u001b[2m\u001b[36m(DefaultActor pid=30773)\u001b[0m [Client 19] evaluate, config: {}, local accuracy: 0.0\n",
            "\u001b[2m\u001b[36m(DefaultActor pid=30773)\u001b[0m Accuracy của poisoned task: 0.00%\n",
            "\u001b[2m\u001b[36m(DefaultActor pid=30773)\u001b[0m [Client 29] evaluate, config: {}, local accuracy: 0.0\n",
            "\u001b[2m\u001b[36m(DefaultActor pid=30773)\u001b[0m Accuracy của poisoned task: 0.00%\n",
            "\u001b[2m\u001b[36m(DefaultActor pid=30773)\u001b[0m [Client 1] evaluate, config: {}, local accuracy: 0.0\n",
            "\u001b[2m\u001b[36m(DefaultActor pid=30773)\u001b[0m Accuracy của poisoned task: 0.00%\n",
            "\u001b[2m\u001b[36m(DefaultActor pid=30773)\u001b[0m [Client 23] evaluate, config: {}, local accuracy: 0.0\n",
            "\u001b[2m\u001b[36m(DefaultActor pid=30773)\u001b[0m Accuracy của poisoned task: 0.00%\n",
            "\u001b[2m\u001b[36m(DefaultActor pid=30773)\u001b[0m [Client 26] evaluate, config: {}, local accuracy: 0.0\n",
            "\u001b[2m\u001b[36m(DefaultActor pid=30773)\u001b[0m Accuracy của poisoned task: 7.69%\n",
            "\u001b[2m\u001b[36m(DefaultActor pid=30773)\u001b[0m [Client 16] evaluate, config: {}, local accuracy: 7.6923076923076925\n",
            "\u001b[2m\u001b[36m(DefaultActor pid=30773)\u001b[0m Accuracy của poisoned task: 0.00%\n",
            "\u001b[2m\u001b[36m(DefaultActor pid=30773)\u001b[0m [Client 10] evaluate, config: {}, local accuracy: 0.0\n",
            "\u001b[2m\u001b[36m(DefaultActor pid=30773)\u001b[0m Accuracy của poisoned task: 0.00%\n",
            "\u001b[2m\u001b[36m(DefaultActor pid=30773)\u001b[0m [Client 20] evaluate, config: {}, local accuracy: 0.0\n",
            "\u001b[2m\u001b[36m(DefaultActor pid=30773)\u001b[0m Accuracy của poisoned task: 0.00%\n",
            "\u001b[2m\u001b[36m(DefaultActor pid=30773)\u001b[0m [Client 25] evaluate, config: {}, local accuracy: 0.0\n",
            "\u001b[2m\u001b[36m(DefaultActor pid=30773)\u001b[0m Accuracy của poisoned task: 0.00%\n",
            "\u001b[2m\u001b[36m(DefaultActor pid=30773)\u001b[0m [Client 18] evaluate, config: {}, local accuracy: 0.0\n",
            "\u001b[2m\u001b[36m(DefaultActor pid=30773)\u001b[0m Accuracy của poisoned task: 0.00%\n",
            "\u001b[2m\u001b[36m(DefaultActor pid=30773)\u001b[0m [Client 3] evaluate, config: {}, local accuracy: 0.0\n",
            "\u001b[2m\u001b[36m(DefaultActor pid=30773)\u001b[0m Accuracy của poisoned task: 0.00%\n",
            "\u001b[2m\u001b[36m(DefaultActor pid=30773)\u001b[0m [Client 17] evaluate, config: {}, local accuracy: 0.0\n",
            "\u001b[2m\u001b[36m(DefaultActor pid=30773)\u001b[0m Accuracy của poisoned task: 0.00%\n",
            "\u001b[2m\u001b[36m(DefaultActor pid=30773)\u001b[0m [Client 4] evaluate, config: {}, local accuracy: 0.0\n",
            "\u001b[2m\u001b[36m(DefaultActor pid=30773)\u001b[0m Accuracy của poisoned task: 0.00%\n",
            "\u001b[2m\u001b[36m(DefaultActor pid=30773)\u001b[0m [Client 5] evaluate, config: {}, local accuracy: 0.0\n",
            "\u001b[2m\u001b[36m(DefaultActor pid=30773)\u001b[0m Accuracy của poisoned task: 0.00%\n",
            "\u001b[2m\u001b[36m(DefaultActor pid=30773)\u001b[0m [Client 21] evaluate, config: {}, local accuracy: 0.0\n",
            "\u001b[2m\u001b[36m(DefaultActor pid=30773)\u001b[0m Accuracy của poisoned task: 0.00%\n",
            "\u001b[2m\u001b[36m(DefaultActor pid=30773)\u001b[0m [Client 13] evaluate, config: {}, local accuracy: 0.0\n",
            "\u001b[2m\u001b[36m(DefaultActor pid=30773)\u001b[0m Accuracy của poisoned task: 6.25%\n",
            "\u001b[2m\u001b[36m(DefaultActor pid=30773)\u001b[0m [Client 11] evaluate, config: {}, local accuracy: 6.25\n"
          ]
        },
        {
          "output_type": "stream",
          "name": "stderr",
          "text": [
            "DEBUG flwr 2024-01-04 16:25:22,630 | server.py:187 | evaluate_round 15 received 30 results and 0 failures\n",
            "DEBUG:flwr:evaluate_round 15 received 30 results and 0 failures\n",
            "DEBUG flwr 2024-01-04 16:25:22,634 | server.py:222 | fit_round 16: strategy sampled 10 clients (out of 30)\n",
            "DEBUG:flwr:fit_round 16: strategy sampled 10 clients (out of 30)\n"
          ]
        },
        {
          "output_type": "stream",
          "name": "stdout",
          "text": [
            "\u001b[2m\u001b[36m(DefaultActor pid=30773)\u001b[0m Accuracy của poisoned task: 0.00%\n",
            "\u001b[2m\u001b[36m(DefaultActor pid=30773)\u001b[0m [Client 24] evaluate, config: {}, local accuracy: 0.0\n",
            "\u001b[2m\u001b[36m(DefaultActor pid=30773)\u001b[0m Accuracy của poisoned task: 0.00%\n",
            "\u001b[2m\u001b[36m(DefaultActor pid=30773)\u001b[0m [Client 6] evaluate, config: {}, local accuracy: 0.0\n",
            "\u001b[2m\u001b[36m(DefaultActor pid=30773)\u001b[0m [Client 4] fit, config: {'epochs': 10, 'lr': 0.1, 'attacker_epochs': 20, 'attacker_lr': 0.05}\n",
            "\u001b[2m\u001b[36m(DefaultActor pid=30773)\u001b[0m [Client 4] get_parameters\n",
            "\u001b[2m\u001b[36m(DefaultActor pid=30773)\u001b[0m [Client 22] fit, config: {'epochs': 10, 'lr': 0.1, 'attacker_epochs': 20, 'attacker_lr': 0.05}\n",
            "\u001b[2m\u001b[36m(DefaultActor pid=30773)\u001b[0m [Client 22] get_parameters\n",
            "\u001b[2m\u001b[36m(DefaultActor pid=30773)\u001b[0m [Client 26] fit, config: {'epochs': 10, 'lr': 0.1, 'attacker_epochs': 20, 'attacker_lr': 0.05}\n",
            "\u001b[2m\u001b[36m(DefaultActor pid=30773)\u001b[0m [Client 26] get_parameters\n",
            "\u001b[2m\u001b[36m(DefaultActor pid=30773)\u001b[0m [Client 3] fit, config: {'epochs': 10, 'lr': 0.1, 'attacker_epochs': 20, 'attacker_lr': 0.05}\n",
            "\u001b[2m\u001b[36m(DefaultActor pid=30773)\u001b[0m [Client 3] get_parameters\n",
            "\u001b[2m\u001b[36m(DefaultActor pid=30773)\u001b[0m [Client 20] fit, config: {'epochs': 10, 'lr': 0.1, 'attacker_epochs': 20, 'attacker_lr': 0.05}\n",
            "\u001b[2m\u001b[36m(DefaultActor pid=30773)\u001b[0m [Client 20] get_parameters\n",
            "\u001b[2m\u001b[36m(DefaultActor pid=30773)\u001b[0m [Client 11] fit, config: {'epochs': 10, 'lr': 0.1, 'attacker_epochs': 20, 'attacker_lr': 0.05}\n",
            "\u001b[2m\u001b[36m(DefaultActor pid=30773)\u001b[0m [Client 11] get_parameters\n",
            "\u001b[2m\u001b[36m(DefaultActor pid=30773)\u001b[0m [Client 21] fit, config: {'epochs': 10, 'lr': 0.1, 'attacker_epochs': 20, 'attacker_lr': 0.05}\n",
            "\u001b[2m\u001b[36m(DefaultActor pid=30773)\u001b[0m [Client 21] get_parameters\n",
            "\u001b[2m\u001b[36m(DefaultActor pid=30773)\u001b[0m [Client 10] fit, config: {'epochs': 10, 'lr': 0.1, 'attacker_epochs': 20, 'attacker_lr': 0.05}\n",
            "\u001b[2m\u001b[36m(DefaultActor pid=30773)\u001b[0m [Client 10] get_parameters\n",
            "\u001b[2m\u001b[36m(DefaultActor pid=30773)\u001b[0m [Client 13] fit, config: {'epochs': 10, 'lr': 0.1, 'attacker_epochs': 20, 'attacker_lr': 0.05}\n",
            "\u001b[2m\u001b[36m(DefaultActor pid=30773)\u001b[0m [Client 13] get_parameters\n",
            "\u001b[2m\u001b[36m(DefaultActor pid=30773)\u001b[0m [Client 14] fit, config: {'epochs': 10, 'lr': 0.1, 'attacker_epochs': 20, 'attacker_lr': 0.05}\n"
          ]
        },
        {
          "output_type": "stream",
          "name": "stderr",
          "text": [
            "DEBUG flwr 2024-01-04 16:27:04,357 | server.py:236 | fit_round 16 received 10 results and 0 failures\n",
            "DEBUG:flwr:fit_round 16 received 10 results and 0 failures\n"
          ]
        },
        {
          "output_type": "stream",
          "name": "stdout",
          "text": [
            "\u001b[2m\u001b[36m(DefaultActor pid=30773)\u001b[0m [Client 14] get_parameters\n",
            "Saving round 16 aggregated_parameters...\n"
          ]
        },
        {
          "output_type": "stream",
          "name": "stderr",
          "text": [
            "INFO flwr 2024-01-04 16:27:09,999 | server.py:125 | fit progress: (16, 313.93573319911957, {'accuracy': 0.6782945736434108}, 1803.3646647399992)\n",
            "INFO:flwr:fit progress: (16, 313.93573319911957, {'accuracy': 0.6782945736434108}, 1803.3646647399992)\n",
            "DEBUG flwr 2024-01-04 16:27:10,005 | server.py:173 | evaluate_round 16: strategy sampled 30 clients (out of 30)\n",
            "DEBUG:flwr:evaluate_round 16: strategy sampled 30 clients (out of 30)\n"
          ]
        },
        {
          "output_type": "stream",
          "name": "stdout",
          "text": [
            "Accuracy của poisoned task: 0.68%\n",
            "\u001b[2m\u001b[36m(DefaultActor pid=30773)\u001b[0m Accuracy của poisoned task: 0.00%\n",
            "\u001b[2m\u001b[36m(DefaultActor pid=30773)\u001b[0m [Client 25] evaluate, config: {}, local accuracy: 0.0\n",
            "\u001b[2m\u001b[36m(DefaultActor pid=30773)\u001b[0m Accuracy của poisoned task: 0.00%\n",
            "\u001b[2m\u001b[36m(DefaultActor pid=30773)\u001b[0m [Client 6] evaluate, config: {}, local accuracy: 0.0\n",
            "\u001b[2m\u001b[36m(DefaultActor pid=30773)\u001b[0m Accuracy của poisoned task: 0.00%\n",
            "\u001b[2m\u001b[36m(DefaultActor pid=30773)\u001b[0m [Client 24] evaluate, config: {}, local accuracy: 0.0\n",
            "\u001b[2m\u001b[36m(DefaultActor pid=30773)\u001b[0m Accuracy của poisoned task: 0.00%\n",
            "\u001b[2m\u001b[36m(DefaultActor pid=30773)\u001b[0m [Client 5] evaluate, config: {}, local accuracy: 0.0\n",
            "\u001b[2m\u001b[36m(DefaultActor pid=30773)\u001b[0m Accuracy của poisoned task: 0.00%\n",
            "\u001b[2m\u001b[36m(DefaultActor pid=30773)\u001b[0m [Client 0] evaluate, config: {}, local accuracy: 0.0\n",
            "\u001b[2m\u001b[36m(DefaultActor pid=30773)\u001b[0m Accuracy của poisoned task: 0.00%\n",
            "\u001b[2m\u001b[36m(DefaultActor pid=30773)\u001b[0m [Client 21] evaluate, config: {}, local accuracy: 0.0\n",
            "\u001b[2m\u001b[36m(DefaultActor pid=30773)\u001b[0m Accuracy của poisoned task: 0.00%\n",
            "\u001b[2m\u001b[36m(DefaultActor pid=30773)\u001b[0m [Client 3] evaluate, config: {}, local accuracy: 0.0\n",
            "\u001b[2m\u001b[36m(DefaultActor pid=30773)\u001b[0m Accuracy của poisoned task: 0.00%\n",
            "\u001b[2m\u001b[36m(DefaultActor pid=30773)\u001b[0m [Client 7] evaluate, config: {}, local accuracy: 0.0\n",
            "\u001b[2m\u001b[36m(DefaultActor pid=30773)\u001b[0m Accuracy của poisoned task: 0.00%\n",
            "\u001b[2m\u001b[36m(DefaultActor pid=30773)\u001b[0m [Client 15] evaluate, config: {}, local accuracy: 0.0\n",
            "\u001b[2m\u001b[36m(DefaultActor pid=30773)\u001b[0m Accuracy của poisoned task: 0.00%\n",
            "\u001b[2m\u001b[36m(DefaultActor pid=30773)\u001b[0m [Client 23] evaluate, config: {}, local accuracy: 0.0\n",
            "\u001b[2m\u001b[36m(DefaultActor pid=30773)\u001b[0m Accuracy của poisoned task: 0.00%\n",
            "\u001b[2m\u001b[36m(DefaultActor pid=30773)\u001b[0m [Client 27] evaluate, config: {}, local accuracy: 0.0\n",
            "\u001b[2m\u001b[36m(DefaultActor pid=30773)\u001b[0m Accuracy của poisoned task: 0.00%\n",
            "\u001b[2m\u001b[36m(DefaultActor pid=30773)\u001b[0m [Client 4] evaluate, config: {}, local accuracy: 0.0\n",
            "\u001b[2m\u001b[36m(DefaultActor pid=30773)\u001b[0m Accuracy của poisoned task: 0.00%\n",
            "\u001b[2m\u001b[36m(DefaultActor pid=30773)\u001b[0m [Client 18] evaluate, config: {}, local accuracy: 0.0\n",
            "\u001b[2m\u001b[36m(DefaultActor pid=30773)\u001b[0m Accuracy của poisoned task: 0.00%\n",
            "\u001b[2m\u001b[36m(DefaultActor pid=30773)\u001b[0m [Client 22] evaluate, config: {}, local accuracy: 0.0\n",
            "\u001b[2m\u001b[36m(DefaultActor pid=30773)\u001b[0m Accuracy của poisoned task: 0.00%\n",
            "\u001b[2m\u001b[36m(DefaultActor pid=30773)\u001b[0m [Client 16] evaluate, config: {}, local accuracy: 0.0\n",
            "\u001b[2m\u001b[36m(DefaultActor pid=30773)\u001b[0m Accuracy của poisoned task: 0.00%\n",
            "\u001b[2m\u001b[36m(DefaultActor pid=30773)\u001b[0m [Client 14] evaluate, config: {}, local accuracy: 0.0\n",
            "\u001b[2m\u001b[36m(DefaultActor pid=30773)\u001b[0m Accuracy của poisoned task: 0.00%\n",
            "\u001b[2m\u001b[36m(DefaultActor pid=30773)\u001b[0m [Client 1] evaluate, config: {}, local accuracy: 0.0\n",
            "\u001b[2m\u001b[36m(DefaultActor pid=30773)\u001b[0m Accuracy của poisoned task: 0.00%\n",
            "\u001b[2m\u001b[36m(DefaultActor pid=30773)\u001b[0m [Client 17] evaluate, config: {}, local accuracy: 0.0\n",
            "\u001b[2m\u001b[36m(DefaultActor pid=30773)\u001b[0m Accuracy của poisoned task: 0.00%\n",
            "\u001b[2m\u001b[36m(DefaultActor pid=30773)\u001b[0m [Client 28] evaluate, config: {}, local accuracy: 0.0\n",
            "\u001b[2m\u001b[36m(DefaultActor pid=30773)\u001b[0m Accuracy của poisoned task: 0.00%\n",
            "\u001b[2m\u001b[36m(DefaultActor pid=30773)\u001b[0m [Client 8] evaluate, config: {}, local accuracy: 0.0\n",
            "\u001b[2m\u001b[36m(DefaultActor pid=30773)\u001b[0m Accuracy của poisoned task: 0.00%\n",
            "\u001b[2m\u001b[36m(DefaultActor pid=30773)\u001b[0m [Client 29] evaluate, config: {}, local accuracy: 0.0\n",
            "\u001b[2m\u001b[36m(DefaultActor pid=30773)\u001b[0m Accuracy của poisoned task: 0.00%\n",
            "\u001b[2m\u001b[36m(DefaultActor pid=30773)\u001b[0m [Client 13] evaluate, config: {}, local accuracy: 0.0\n",
            "\u001b[2m\u001b[36m(DefaultActor pid=30773)\u001b[0m Accuracy của poisoned task: 0.00%\n",
            "\u001b[2m\u001b[36m(DefaultActor pid=30773)\u001b[0m [Client 9] evaluate, config: {}, local accuracy: 0.0\n",
            "\u001b[2m\u001b[36m(DefaultActor pid=30773)\u001b[0m Accuracy của poisoned task: 0.00%\n",
            "\u001b[2m\u001b[36m(DefaultActor pid=30773)\u001b[0m [Client 26] evaluate, config: {}, local accuracy: 0.0\n",
            "\u001b[2m\u001b[36m(DefaultActor pid=30773)\u001b[0m Accuracy của poisoned task: 0.00%\n",
            "\u001b[2m\u001b[36m(DefaultActor pid=30773)\u001b[0m [Client 11] evaluate, config: {}, local accuracy: 0.0\n",
            "\u001b[2m\u001b[36m(DefaultActor pid=30773)\u001b[0m Accuracy của poisoned task: 0.00%\n",
            "\u001b[2m\u001b[36m(DefaultActor pid=30773)\u001b[0m [Client 10] evaluate, config: {}, local accuracy: 0.0\n",
            "\u001b[2m\u001b[36m(DefaultActor pid=30773)\u001b[0m Accuracy của poisoned task: 0.00%\n",
            "\u001b[2m\u001b[36m(DefaultActor pid=30773)\u001b[0m [Client 2] evaluate, config: {}, local accuracy: 0.0\n",
            "\u001b[2m\u001b[36m(DefaultActor pid=30773)\u001b[0m Accuracy của poisoned task: 0.00%\n",
            "\u001b[2m\u001b[36m(DefaultActor pid=30773)\u001b[0m [Client 12] evaluate, config: {}, local accuracy: 0.0\n"
          ]
        },
        {
          "output_type": "stream",
          "name": "stderr",
          "text": [
            "DEBUG flwr 2024-01-04 16:27:16,690 | server.py:187 | evaluate_round 16 received 30 results and 0 failures\n",
            "DEBUG:flwr:evaluate_round 16 received 30 results and 0 failures\n",
            "DEBUG flwr 2024-01-04 16:27:16,692 | server.py:222 | fit_round 17: strategy sampled 10 clients (out of 30)\n",
            "DEBUG:flwr:fit_round 17: strategy sampled 10 clients (out of 30)\n"
          ]
        },
        {
          "output_type": "stream",
          "name": "stdout",
          "text": [
            "\u001b[2m\u001b[36m(DefaultActor pid=30773)\u001b[0m Accuracy của poisoned task: 0.00%\n",
            "\u001b[2m\u001b[36m(DefaultActor pid=30773)\u001b[0m [Client 20] evaluate, config: {}, local accuracy: 0.0\n",
            "\u001b[2m\u001b[36m(DefaultActor pid=30773)\u001b[0m Accuracy của poisoned task: 0.00%\n",
            "\u001b[2m\u001b[36m(DefaultActor pid=30773)\u001b[0m [Client 19] evaluate, config: {}, local accuracy: 0.0\n",
            "\u001b[2m\u001b[36m(DefaultActor pid=30773)\u001b[0m [Client 4] fit, config: {'epochs': 10, 'lr': 0.1, 'attacker_epochs': 20, 'attacker_lr': 0.05}\n",
            "\u001b[2m\u001b[36m(DefaultActor pid=30773)\u001b[0m [Client 4] get_parameters\n",
            "\u001b[2m\u001b[36m(DefaultActor pid=30773)\u001b[0m [Client 9] fit, config: {'epochs': 10, 'lr': 0.1, 'attacker_epochs': 20, 'attacker_lr': 0.05}\n",
            "\u001b[2m\u001b[36m(DefaultActor pid=30773)\u001b[0m [Client 9] get_parameters\n",
            "\u001b[2m\u001b[36m(DefaultActor pid=30773)\u001b[0m [Client 24] fit, config: {'epochs': 10, 'lr': 0.1, 'attacker_epochs': 20, 'attacker_lr': 0.05}\n",
            "\u001b[2m\u001b[36m(DefaultActor pid=30773)\u001b[0m [Client 24] get_parameters\n",
            "\u001b[2m\u001b[36m(DefaultActor pid=30773)\u001b[0m [Client 21] fit, config: {'epochs': 10, 'lr': 0.1, 'attacker_epochs': 20, 'attacker_lr': 0.05}\n",
            "\u001b[2m\u001b[36m(DefaultActor pid=30773)\u001b[0m [Client 21] get_parameters\n",
            "\u001b[2m\u001b[36m(DefaultActor pid=30773)\u001b[0m [Client 12] fit, config: {'epochs': 10, 'lr': 0.1, 'attacker_epochs': 20, 'attacker_lr': 0.05}\n",
            "\u001b[2m\u001b[36m(DefaultActor pid=30773)\u001b[0m [Client 12] get_parameters\n",
            "\u001b[2m\u001b[36m(DefaultActor pid=30773)\u001b[0m [Client 1] fit, config: {'epochs': 10, 'lr': 0.1, 'attacker_epochs': 20, 'attacker_lr': 0.05}\n",
            "\u001b[2m\u001b[36m(DefaultActor pid=30773)\u001b[0m [Client 1] get_parameters\n",
            "\u001b[2m\u001b[36m(DefaultActor pid=30773)\u001b[0m [Client 26] fit, config: {'epochs': 10, 'lr': 0.1, 'attacker_epochs': 20, 'attacker_lr': 0.05}\n",
            "\u001b[2m\u001b[36m(DefaultActor pid=30773)\u001b[0m [Client 26] get_parameters\n",
            "\u001b[2m\u001b[36m(DefaultActor pid=30773)\u001b[0m [Client 17] fit, config: {'epochs': 10, 'lr': 0.1, 'attacker_epochs': 20, 'attacker_lr': 0.05}\n",
            "\u001b[2m\u001b[36m(DefaultActor pid=30773)\u001b[0m [Client 17] get_parameters\n",
            "\u001b[2m\u001b[36m(DefaultActor pid=30773)\u001b[0m [Client 10] fit, config: {'epochs': 10, 'lr': 0.1, 'attacker_epochs': 20, 'attacker_lr': 0.05}\n",
            "\u001b[2m\u001b[36m(DefaultActor pid=30773)\u001b[0m [Client 10] get_parameters\n",
            "\u001b[2m\u001b[36m(DefaultActor pid=30773)\u001b[0m [Client 2] fit, config: {'epochs': 10, 'lr': 0.1, 'attacker_epochs': 20, 'attacker_lr': 0.05}\n"
          ]
        },
        {
          "output_type": "stream",
          "name": "stderr",
          "text": [
            "DEBUG flwr 2024-01-04 16:28:58,501 | server.py:236 | fit_round 17 received 10 results and 0 failures\n",
            "DEBUG:flwr:fit_round 17 received 10 results and 0 failures\n"
          ]
        },
        {
          "output_type": "stream",
          "name": "stdout",
          "text": [
            "\u001b[2m\u001b[36m(DefaultActor pid=30773)\u001b[0m [Client 2] get_parameters\n",
            "Saving round 17 aggregated_parameters...\n"
          ]
        },
        {
          "output_type": "stream",
          "name": "stderr",
          "text": [
            "INFO flwr 2024-01-04 16:29:04,783 | server.py:125 | fit progress: (17, 313.66773295402527, {'accuracy': 0.29069767441860467}, 1918.1488228499993)\n",
            "INFO:flwr:fit progress: (17, 313.66773295402527, {'accuracy': 0.29069767441860467}, 1918.1488228499993)\n",
            "DEBUG flwr 2024-01-04 16:29:04,789 | server.py:173 | evaluate_round 17: strategy sampled 30 clients (out of 30)\n",
            "DEBUG:flwr:evaluate_round 17: strategy sampled 30 clients (out of 30)\n"
          ]
        },
        {
          "output_type": "stream",
          "name": "stdout",
          "text": [
            "Accuracy của poisoned task: 0.29%\n",
            "\u001b[2m\u001b[36m(DefaultActor pid=30773)\u001b[0m Accuracy của poisoned task: 0.00%\n",
            "\u001b[2m\u001b[36m(DefaultActor pid=30773)\u001b[0m [Client 22] evaluate, config: {}, local accuracy: 0.0\n",
            "\u001b[2m\u001b[36m(DefaultActor pid=30773)\u001b[0m Accuracy của poisoned task: 0.00%\n",
            "\u001b[2m\u001b[36m(DefaultActor pid=30773)\u001b[0m [Client 19] evaluate, config: {}, local accuracy: 0.0\n",
            "\u001b[2m\u001b[36m(DefaultActor pid=30773)\u001b[0m Accuracy của poisoned task: 0.00%\n",
            "\u001b[2m\u001b[36m(DefaultActor pid=30773)\u001b[0m [Client 21] evaluate, config: {}, local accuracy: 0.0\n",
            "\u001b[2m\u001b[36m(DefaultActor pid=30773)\u001b[0m Accuracy của poisoned task: 0.00%\n",
            "\u001b[2m\u001b[36m(DefaultActor pid=30773)\u001b[0m [Client 20] evaluate, config: {}, local accuracy: 0.0\n",
            "\u001b[2m\u001b[36m(DefaultActor pid=30773)\u001b[0m Accuracy của poisoned task: 0.00%\n",
            "\u001b[2m\u001b[36m(DefaultActor pid=30773)\u001b[0m [Client 14] evaluate, config: {}, local accuracy: 0.0\n",
            "\u001b[2m\u001b[36m(DefaultActor pid=30773)\u001b[0m Accuracy của poisoned task: 0.00%\n",
            "\u001b[2m\u001b[36m(DefaultActor pid=30773)\u001b[0m [Client 27] evaluate, config: {}, local accuracy: 0.0\n",
            "\u001b[2m\u001b[36m(DefaultActor pid=30773)\u001b[0m Accuracy của poisoned task: 4.17%\n",
            "\u001b[2m\u001b[36m(DefaultActor pid=30773)\u001b[0m [Client 12] evaluate, config: {}, local accuracy: 4.166666666666667\n",
            "\u001b[2m\u001b[36m(DefaultActor pid=30773)\u001b[0m Accuracy của poisoned task: 0.00%\n",
            "\u001b[2m\u001b[36m(DefaultActor pid=30773)\u001b[0m [Client 8] evaluate, config: {}, local accuracy: 0.0\n",
            "\u001b[2m\u001b[36m(DefaultActor pid=30773)\u001b[0m Accuracy của poisoned task: 0.00%\n",
            "\u001b[2m\u001b[36m(DefaultActor pid=30773)\u001b[0m [Client 29] evaluate, config: {}, local accuracy: 0.0\n",
            "\u001b[2m\u001b[36m(DefaultActor pid=30773)\u001b[0m Accuracy của poisoned task: 0.00%\n",
            "\u001b[2m\u001b[36m(DefaultActor pid=30773)\u001b[0m [Client 2] evaluate, config: {}, local accuracy: 0.0\n",
            "\u001b[2m\u001b[36m(DefaultActor pid=30773)\u001b[0m Accuracy của poisoned task: 0.00%\n",
            "\u001b[2m\u001b[36m(DefaultActor pid=30773)\u001b[0m [Client 18] evaluate, config: {}, local accuracy: 0.0\n",
            "\u001b[2m\u001b[36m(DefaultActor pid=30773)\u001b[0m Accuracy của poisoned task: 0.00%\n",
            "\u001b[2m\u001b[36m(DefaultActor pid=30773)\u001b[0m [Client 16] evaluate, config: {}, local accuracy: 0.0\n",
            "\u001b[2m\u001b[36m(DefaultActor pid=30773)\u001b[0m Accuracy của poisoned task: 0.00%\n",
            "\u001b[2m\u001b[36m(DefaultActor pid=30773)\u001b[0m [Client 5] evaluate, config: {}, local accuracy: 0.0\n",
            "\u001b[2m\u001b[36m(DefaultActor pid=30773)\u001b[0m Accuracy của poisoned task: 0.00%\n",
            "\u001b[2m\u001b[36m(DefaultActor pid=30773)\u001b[0m [Client 25] evaluate, config: {}, local accuracy: 0.0\n",
            "\u001b[2m\u001b[36m(DefaultActor pid=30773)\u001b[0m Accuracy của poisoned task: 0.00%\n",
            "\u001b[2m\u001b[36m(DefaultActor pid=30773)\u001b[0m [Client 15] evaluate, config: {}, local accuracy: 0.0\n",
            "\u001b[2m\u001b[36m(DefaultActor pid=30773)\u001b[0m Accuracy của poisoned task: 0.00%\n",
            "\u001b[2m\u001b[36m(DefaultActor pid=30773)\u001b[0m [Client 26] evaluate, config: {}, local accuracy: 0.0\n",
            "\u001b[2m\u001b[36m(DefaultActor pid=30773)\u001b[0m Accuracy của poisoned task: 0.00%\n",
            "\u001b[2m\u001b[36m(DefaultActor pid=30773)\u001b[0m [Client 13] evaluate, config: {}, local accuracy: 0.0\n",
            "\u001b[2m\u001b[36m(DefaultActor pid=30773)\u001b[0m Accuracy của poisoned task: 3.85%\n",
            "\u001b[2m\u001b[36m(DefaultActor pid=30773)\u001b[0m [Client 11] evaluate, config: {}, local accuracy: 3.8461538461538463\n",
            "\u001b[2m\u001b[36m(DefaultActor pid=30773)\u001b[0m Accuracy của poisoned task: 5.56%\n",
            "\u001b[2m\u001b[36m(DefaultActor pid=30773)\u001b[0m [Client 23] evaluate, config: {}, local accuracy: 5.555555555555555\n",
            "\u001b[2m\u001b[36m(DefaultActor pid=30773)\u001b[0m Accuracy của poisoned task: 0.00%\n",
            "\u001b[2m\u001b[36m(DefaultActor pid=30773)\u001b[0m [Client 17] evaluate, config: {}, local accuracy: 0.0\n",
            "\u001b[2m\u001b[36m(DefaultActor pid=30773)\u001b[0m Accuracy của poisoned task: 0.00%\n",
            "\u001b[2m\u001b[36m(DefaultActor pid=30773)\u001b[0m [Client 1] evaluate, config: {}, local accuracy: 0.0\n",
            "\u001b[2m\u001b[36m(DefaultActor pid=30773)\u001b[0m Accuracy của poisoned task: 0.00%\n",
            "\u001b[2m\u001b[36m(DefaultActor pid=30773)\u001b[0m [Client 6] evaluate, config: {}, local accuracy: 0.0\n",
            "\u001b[2m\u001b[36m(DefaultActor pid=30773)\u001b[0m Accuracy của poisoned task: 0.00%\n",
            "\u001b[2m\u001b[36m(DefaultActor pid=30773)\u001b[0m [Client 24] evaluate, config: {}, local accuracy: 0.0\n",
            "\u001b[2m\u001b[36m(DefaultActor pid=30773)\u001b[0m Accuracy của poisoned task: 0.00%\n",
            "\u001b[2m\u001b[36m(DefaultActor pid=30773)\u001b[0m [Client 28] evaluate, config: {}, local accuracy: 0.0\n",
            "\u001b[2m\u001b[36m(DefaultActor pid=30773)\u001b[0m Accuracy của poisoned task: 0.00%\n",
            "\u001b[2m\u001b[36m(DefaultActor pid=30773)\u001b[0m [Client 9] evaluate, config: {}, local accuracy: 0.0\n",
            "\u001b[2m\u001b[36m(DefaultActor pid=30773)\u001b[0m Accuracy của poisoned task: 0.00%\n",
            "\u001b[2m\u001b[36m(DefaultActor pid=30773)\u001b[0m [Client 4] evaluate, config: {}, local accuracy: 0.0\n",
            "\u001b[2m\u001b[36m(DefaultActor pid=30773)\u001b[0m Accuracy của poisoned task: 0.00%\n",
            "\u001b[2m\u001b[36m(DefaultActor pid=30773)\u001b[0m [Client 0] evaluate, config: {}, local accuracy: 0.0\n",
            "\u001b[2m\u001b[36m(DefaultActor pid=30773)\u001b[0m Accuracy của poisoned task: 0.00%\n",
            "\u001b[2m\u001b[36m(DefaultActor pid=30773)\u001b[0m [Client 10] evaluate, config: {}, local accuracy: 0.0\n",
            "\u001b[2m\u001b[36m(DefaultActor pid=30773)\u001b[0m Accuracy của poisoned task: 0.00%\n",
            "\u001b[2m\u001b[36m(DefaultActor pid=30773)\u001b[0m [Client 7] evaluate, config: {}, local accuracy: 0.0\n"
          ]
        },
        {
          "output_type": "stream",
          "name": "stderr",
          "text": [
            "DEBUG flwr 2024-01-04 16:29:10,851 | server.py:187 | evaluate_round 17 received 30 results and 0 failures\n",
            "DEBUG:flwr:evaluate_round 17 received 30 results and 0 failures\n",
            "DEBUG flwr 2024-01-04 16:29:10,854 | server.py:222 | fit_round 18: strategy sampled 10 clients (out of 30)\n",
            "DEBUG:flwr:fit_round 18: strategy sampled 10 clients (out of 30)\n"
          ]
        },
        {
          "output_type": "stream",
          "name": "stdout",
          "text": [
            "\u001b[2m\u001b[36m(DefaultActor pid=30773)\u001b[0m Accuracy của poisoned task: 0.00%\n",
            "\u001b[2m\u001b[36m(DefaultActor pid=30773)\u001b[0m [Client 3] evaluate, config: {}, local accuracy: 0.0\n",
            "\u001b[2m\u001b[36m(DefaultActor pid=30773)\u001b[0m [Client 27] fit, config: {'epochs': 10, 'lr': 0.1, 'attacker_epochs': 20, 'attacker_lr': 0.05}\n",
            "\u001b[2m\u001b[36m(DefaultActor pid=30773)\u001b[0m [Client 27] get_parameters\n",
            "\u001b[2m\u001b[36m(DefaultActor pid=30773)\u001b[0m [Client 1] fit, config: {'epochs': 10, 'lr': 0.1, 'attacker_epochs': 20, 'attacker_lr': 0.05}\n",
            "\u001b[2m\u001b[36m(DefaultActor pid=30773)\u001b[0m [Client 1] get_parameters\n",
            "\u001b[2m\u001b[36m(DefaultActor pid=30773)\u001b[0m [Client 19] fit, config: {'epochs': 10, 'lr': 0.1, 'attacker_epochs': 20, 'attacker_lr': 0.05}\n",
            "\u001b[2m\u001b[36m(DefaultActor pid=30773)\u001b[0m [Client 19] get_parameters\n",
            "\u001b[2m\u001b[36m(DefaultActor pid=30773)\u001b[0m [Client 20] fit, config: {'epochs': 10, 'lr': 0.1, 'attacker_epochs': 20, 'attacker_lr': 0.05}\n",
            "\u001b[2m\u001b[36m(DefaultActor pid=30773)\u001b[0m [Client 20] get_parameters\n",
            "\u001b[2m\u001b[36m(DefaultActor pid=30773)\u001b[0m [Client 0] fit, config: {'epochs': 10, 'lr': 0.1, 'attacker_epochs': 20, 'attacker_lr': 0.05}\n",
            "\u001b[2m\u001b[36m(DefaultActor pid=30773)\u001b[0m Accuracy của poisoned task: 0.29%\n",
            "\u001b[2m\u001b[36m(DefaultActor pid=30773)\u001b[0m Training G::   0%|          | 0/1 [00:00<?, ?it/s]\n",
            "\u001b[2m\u001b[36m(DefaultActor pid=30773)\u001b[0m Poison Training::   0%|          | 0/1 [00:00<?, ?it/s]\n",
            "\u001b[2m\u001b[36m(DefaultActor pid=30773)\u001b[0m Training G::   0%|          | 0/1 [00:00<?, ?it/s]\n",
            "\u001b[2m\u001b[36m(DefaultActor pid=30773)\u001b[0m Poison Training::   0%|          | 0/1 [00:00<?, ?it/s]\n",
            "\u001b[2m\u001b[36m(DefaultActor pid=30773)\u001b[0m Training G::   0%|          | 0/1 [00:00<?, ?it/s]\n",
            "\u001b[2m\u001b[36m(DefaultActor pid=30773)\u001b[0m Poison Training::   0%|          | 0/1 [00:00<?, ?it/s]\n",
            "\u001b[2m\u001b[36m(DefaultActor pid=30773)\u001b[0m Training G::   0%|          | 0/1 [00:00<?, ?it/s]\n",
            "\u001b[2m\u001b[36m(DefaultActor pid=30773)\u001b[0m Poison Training::   0%|          | 0/1 [00:00<?, ?it/s]\n",
            "\u001b[2m\u001b[36m(DefaultActor pid=30773)\u001b[0m Training G::   0%|          | 0/1 [00:00<?, ?it/s]\n",
            "\u001b[2m\u001b[36m(DefaultActor pid=30773)\u001b[0m Poison Training::   0%|          | 0/1 [00:00<?, ?it/s]\n",
            "\u001b[2m\u001b[36m(DefaultActor pid=30773)\u001b[0m Training G::   0%|          | 0/1 [00:00<?, ?it/s]\n",
            "\u001b[2m\u001b[36m(DefaultActor pid=30773)\u001b[0m Poison Training::   0%|          | 0/1 [00:00<?, ?it/s]\n",
            "\u001b[2m\u001b[36m(DefaultActor pid=30773)\u001b[0m Training G::   0%|          | 0/1 [00:00<?, ?it/s]\n",
            "\u001b[2m\u001b[36m(DefaultActor pid=30773)\u001b[0m Poison Training::   0%|          | 0/1 [00:00<?, ?it/s]\n",
            "\u001b[2m\u001b[36m(DefaultActor pid=30773)\u001b[0m Training G::   0%|          | 0/1 [00:00<?, ?it/s]\n",
            "\u001b[2m\u001b[36m(DefaultActor pid=30773)\u001b[0m Poison Training::   0%|          | 0/1 [00:00<?, ?it/s]\n",
            "\u001b[2m\u001b[36m(DefaultActor pid=30773)\u001b[0m Training G::   0%|          | 0/1 [00:00<?, ?it/s]\n",
            "\u001b[2m\u001b[36m(DefaultActor pid=30773)\u001b[0m Poison Training::   0%|          | 0/1 [00:00<?, ?it/s]\n",
            "\u001b[2m\u001b[36m(DefaultActor pid=30773)\u001b[0m Training G::   0%|          | 0/1 [00:00<?, ?it/s]\n",
            "\u001b[2m\u001b[36m(DefaultActor pid=30773)\u001b[0m Poison Training::   0%|          | 0/1 [00:00<?, ?it/s]\n",
            "\u001b[2m\u001b[36m(DefaultActor pid=30773)\u001b[0m Training G::   0%|          | 0/1 [00:00<?, ?it/s]\n",
            "\u001b[2m\u001b[36m(DefaultActor pid=30773)\u001b[0m Poison Training::   0%|          | 0/1 [00:00<?, ?it/s]\n",
            "\u001b[2m\u001b[36m(DefaultActor pid=30773)\u001b[0m Training G::   0%|          | 0/1 [00:00<?, ?it/s]\n",
            "\u001b[2m\u001b[36m(DefaultActor pid=30773)\u001b[0m Poison Training::   0%|          | 0/1 [00:00<?, ?it/s]\n",
            "\u001b[2m\u001b[36m(DefaultActor pid=30773)\u001b[0m Training G::   0%|          | 0/1 [00:00<?, ?it/s]\n",
            "\u001b[2m\u001b[36m(DefaultActor pid=30773)\u001b[0m Poison Training::   0%|          | 0/1 [00:00<?, ?it/s]\n",
            "\u001b[2m\u001b[36m(DefaultActor pid=30773)\u001b[0m Training G::   0%|          | 0/1 [00:00<?, ?it/s]\n",
            "\u001b[2m\u001b[36m(DefaultActor pid=30773)\u001b[0m Poison Training::   0%|          | 0/1 [00:00<?, ?it/s]\n",
            "\u001b[2m\u001b[36m(DefaultActor pid=30773)\u001b[0m Training G::   0%|          | 0/1 [00:00<?, ?it/s]\n",
            "\u001b[2m\u001b[36m(DefaultActor pid=30773)\u001b[0m Poison Training::   0%|          | 0/1 [00:00<?, ?it/s]\n",
            "\u001b[2m\u001b[36m(DefaultActor pid=30773)\u001b[0m Training G::   0%|          | 0/1 [00:00<?, ?it/s]\n",
            "\u001b[2m\u001b[36m(DefaultActor pid=30773)\u001b[0m Poison Training::   0%|          | 0/1 [00:00<?, ?it/s]\n",
            "\u001b[2m\u001b[36m(DefaultActor pid=30773)\u001b[0m Training G::   0%|          | 0/1 [00:00<?, ?it/s]\n",
            "\u001b[2m\u001b[36m(DefaultActor pid=30773)\u001b[0m Poison Training::   0%|          | 0/1 [00:00<?, ?it/s]\n",
            "\u001b[2m\u001b[36m(DefaultActor pid=30773)\u001b[0m Training G::   0%|          | 0/1 [00:00<?, ?it/s]\n",
            "\u001b[2m\u001b[36m(DefaultActor pid=30773)\u001b[0m Poison Training::   0%|          | 0/1 [00:00<?, ?it/s]\n",
            "\u001b[2m\u001b[36m(DefaultActor pid=30773)\u001b[0m Training G::   0%|          | 0/1 [00:00<?, ?it/s]\n",
            "\u001b[2m\u001b[36m(DefaultActor pid=30773)\u001b[0m Poison Training::   0%|          | 0/1 [00:00<?, ?it/s]\n",
            "\u001b[2m\u001b[36m(DefaultActor pid=30773)\u001b[0m Training G::   0%|          | 0/1 [00:00<?, ?it/s]\n",
            "\u001b[2m\u001b[36m(DefaultActor pid=30773)\u001b[0m Poison Training::   0%|          | 0/1 [00:00<?, ?it/s]\n",
            "\u001b[2m\u001b[36m(DefaultActor pid=30773)\u001b[0m [Client 0] get_parameters\n",
            "\u001b[2m\u001b[36m(DefaultActor pid=30773)\u001b[0m [Client 6] fit, config: {'epochs': 10, 'lr': 0.1, 'attacker_epochs': 20, 'attacker_lr': 0.05}\n",
            "\u001b[2m\u001b[36m(DefaultActor pid=30773)\u001b[0m [Client 6] get_parameters\n",
            "\u001b[2m\u001b[36m(DefaultActor pid=30773)\u001b[0m [Client 24] fit, config: {'epochs': 10, 'lr': 0.1, 'attacker_epochs': 20, 'attacker_lr': 0.05}\n",
            "\u001b[2m\u001b[36m(DefaultActor pid=30773)\u001b[0m [Client 24] get_parameters\n",
            "\u001b[2m\u001b[36m(DefaultActor pid=30773)\u001b[0m [Client 4] fit, config: {'epochs': 10, 'lr': 0.1, 'attacker_epochs': 20, 'attacker_lr': 0.05}\n",
            "\u001b[2m\u001b[36m(DefaultActor pid=30773)\u001b[0m [Client 4] get_parameters\n",
            "\u001b[2m\u001b[36m(DefaultActor pid=30773)\u001b[0m [Client 11] fit, config: {'epochs': 10, 'lr': 0.1, 'attacker_epochs': 20, 'attacker_lr': 0.05}\n",
            "\u001b[2m\u001b[36m(DefaultActor pid=30773)\u001b[0m [Client 11] get_parameters\n",
            "\u001b[2m\u001b[36m(DefaultActor pid=30773)\u001b[0m [Client 17] fit, config: {'epochs': 10, 'lr': 0.1, 'attacker_epochs': 20, 'attacker_lr': 0.05}\n"
          ]
        },
        {
          "output_type": "stream",
          "name": "stderr",
          "text": [
            "DEBUG flwr 2024-01-04 16:30:50,445 | server.py:236 | fit_round 18 received 10 results and 0 failures\n",
            "DEBUG:flwr:fit_round 18 received 10 results and 0 failures\n"
          ]
        },
        {
          "output_type": "stream",
          "name": "stdout",
          "text": [
            "\u001b[2m\u001b[36m(DefaultActor pid=30773)\u001b[0m [Client 17] get_parameters\n",
            "Saving round 18 aggregated_parameters...\n"
          ]
        },
        {
          "output_type": "stream",
          "name": "stderr",
          "text": [
            "INFO flwr 2024-01-04 16:30:55,951 | server.py:125 | fit progress: (18, 315.0934386253357, {'accuracy': 2.810077519379845}, 2029.316441864)\n",
            "INFO:flwr:fit progress: (18, 315.0934386253357, {'accuracy': 2.810077519379845}, 2029.316441864)\n",
            "DEBUG flwr 2024-01-04 16:30:55,959 | server.py:173 | evaluate_round 18: strategy sampled 30 clients (out of 30)\n",
            "DEBUG:flwr:evaluate_round 18: strategy sampled 30 clients (out of 30)\n"
          ]
        },
        {
          "output_type": "stream",
          "name": "stdout",
          "text": [
            "Accuracy của poisoned task: 2.81%\n",
            "\u001b[2m\u001b[36m(DefaultActor pid=30773)\u001b[0m Accuracy của poisoned task: 4.35%\n",
            "\u001b[2m\u001b[36m(DefaultActor pid=30773)\u001b[0m [Client 9] evaluate, config: {}, local accuracy: 4.3478260869565215\n",
            "\u001b[2m\u001b[36m(DefaultActor pid=30773)\u001b[0m Accuracy của poisoned task: 0.00%\n",
            "\u001b[2m\u001b[36m(DefaultActor pid=30773)\u001b[0m [Client 0] evaluate, config: {}, local accuracy: 0.0\n",
            "\u001b[2m\u001b[36m(DefaultActor pid=30773)\u001b[0m Accuracy của poisoned task: 0.00%\n",
            "\u001b[2m\u001b[36m(DefaultActor pid=30773)\u001b[0m [Client 14] evaluate, config: {}, local accuracy: 0.0\n",
            "\u001b[2m\u001b[36m(DefaultActor pid=30773)\u001b[0m Accuracy của poisoned task: 0.00%\n",
            "\u001b[2m\u001b[36m(DefaultActor pid=30773)\u001b[0m [Client 23] evaluate, config: {}, local accuracy: 0.0\n",
            "\u001b[2m\u001b[36m(DefaultActor pid=30773)\u001b[0m Accuracy của poisoned task: 6.67%\n",
            "\u001b[2m\u001b[36m(DefaultActor pid=30773)\u001b[0m [Client 6] evaluate, config: {}, local accuracy: 6.666666666666667\n",
            "\u001b[2m\u001b[36m(DefaultActor pid=30773)\u001b[0m Accuracy của poisoned task: 0.00%\n",
            "\u001b[2m\u001b[36m(DefaultActor pid=30773)\u001b[0m [Client 4] evaluate, config: {}, local accuracy: 0.0\n",
            "\u001b[2m\u001b[36m(DefaultActor pid=30773)\u001b[0m Accuracy của poisoned task: 9.09%\n",
            "\u001b[2m\u001b[36m(DefaultActor pid=30773)\u001b[0m [Client 15] evaluate, config: {}, local accuracy: 9.090909090909092\n",
            "\u001b[2m\u001b[36m(DefaultActor pid=30773)\u001b[0m Accuracy của poisoned task: 5.88%\n",
            "\u001b[2m\u001b[36m(DefaultActor pid=30773)\u001b[0m [Client 18] evaluate, config: {}, local accuracy: 5.882352941176471\n",
            "\u001b[2m\u001b[36m(DefaultActor pid=30773)\u001b[0m Accuracy của poisoned task: 0.00%\n",
            "\u001b[2m\u001b[36m(DefaultActor pid=30773)\u001b[0m [Client 21] evaluate, config: {}, local accuracy: 0.0\n",
            "\u001b[2m\u001b[36m(DefaultActor pid=30773)\u001b[0m Accuracy của poisoned task: 0.00%\n",
            "\u001b[2m\u001b[36m(DefaultActor pid=30773)\u001b[0m [Client 24] evaluate, config: {}, local accuracy: 0.0\n",
            "\u001b[2m\u001b[36m(DefaultActor pid=30773)\u001b[0m Accuracy của poisoned task: 0.00%\n",
            "\u001b[2m\u001b[36m(DefaultActor pid=30773)\u001b[0m [Client 2] evaluate, config: {}, local accuracy: 0.0\n",
            "\u001b[2m\u001b[36m(DefaultActor pid=30773)\u001b[0m Accuracy của poisoned task: 0.00%\n",
            "\u001b[2m\u001b[36m(DefaultActor pid=30773)\u001b[0m [Client 16] evaluate, config: {}, local accuracy: 0.0\n",
            "\u001b[2m\u001b[36m(DefaultActor pid=30773)\u001b[0m Accuracy của poisoned task: 0.00%\n",
            "\u001b[2m\u001b[36m(DefaultActor pid=30773)\u001b[0m [Client 26] evaluate, config: {}, local accuracy: 0.0\n",
            "\u001b[2m\u001b[36m(DefaultActor pid=30773)\u001b[0m Accuracy của poisoned task: 8.70%\n",
            "\u001b[2m\u001b[36m(DefaultActor pid=30773)\u001b[0m [Client 12] evaluate, config: {}, local accuracy: 8.695652173913043\n",
            "\u001b[2m\u001b[36m(DefaultActor pid=30773)\u001b[0m Accuracy của poisoned task: 5.88%\n",
            "\u001b[2m\u001b[36m(DefaultActor pid=30773)\u001b[0m [Client 28] evaluate, config: {}, local accuracy: 5.882352941176471\n",
            "\u001b[2m\u001b[36m(DefaultActor pid=30773)\u001b[0m Accuracy của poisoned task: 6.45%\n",
            "\u001b[2m\u001b[36m(DefaultActor pid=30773)\u001b[0m [Client 22] evaluate, config: {}, local accuracy: 6.451612903225806\n",
            "\u001b[2m\u001b[36m(DefaultActor pid=30773)\u001b[0m Accuracy của poisoned task: 17.65%\n",
            "\u001b[2m\u001b[36m(DefaultActor pid=30773)\u001b[0m [Client 13] evaluate, config: {}, local accuracy: 17.647058823529413\n",
            "\u001b[2m\u001b[36m(DefaultActor pid=30773)\u001b[0m Accuracy của poisoned task: 0.00%\n",
            "\u001b[2m\u001b[36m(DefaultActor pid=30773)\u001b[0m [Client 27] evaluate, config: {}, local accuracy: 0.0\n",
            "\u001b[2m\u001b[36m(DefaultActor pid=30773)\u001b[0m Accuracy của poisoned task: 6.25%\n",
            "\u001b[2m\u001b[36m(DefaultActor pid=30773)\u001b[0m [Client 17] evaluate, config: {}, local accuracy: 6.25\n",
            "\u001b[2m\u001b[36m(DefaultActor pid=30773)\u001b[0m Accuracy của poisoned task: 0.00%\n",
            "\u001b[2m\u001b[36m(DefaultActor pid=30773)\u001b[0m [Client 10] evaluate, config: {}, local accuracy: 0.0\n",
            "\u001b[2m\u001b[36m(DefaultActor pid=30773)\u001b[0m Accuracy của poisoned task: 5.88%\n",
            "\u001b[2m\u001b[36m(DefaultActor pid=30773)\u001b[0m [Client 1] evaluate, config: {}, local accuracy: 5.882352941176471\n",
            "\u001b[2m\u001b[36m(DefaultActor pid=30773)\u001b[0m Accuracy của poisoned task: 0.00%\n",
            "\u001b[2m\u001b[36m(DefaultActor pid=30773)\u001b[0m [Client 19] evaluate, config: {}, local accuracy: 0.0\n",
            "\u001b[2m\u001b[36m(DefaultActor pid=30773)\u001b[0m Accuracy của poisoned task: 7.69%\n",
            "\u001b[2m\u001b[36m(DefaultActor pid=30773)\u001b[0m [Client 8] evaluate, config: {}, local accuracy: 7.6923076923076925\n",
            "\u001b[2m\u001b[36m(DefaultActor pid=30773)\u001b[0m Accuracy của poisoned task: 5.88%\n",
            "\u001b[2m\u001b[36m(DefaultActor pid=30773)\u001b[0m [Client 25] evaluate, config: {}, local accuracy: 5.882352941176471\n",
            "\u001b[2m\u001b[36m(DefaultActor pid=30773)\u001b[0m Accuracy của poisoned task: 11.11%\n",
            "\u001b[2m\u001b[36m(DefaultActor pid=30773)\u001b[0m [Client 3] evaluate, config: {}, local accuracy: 11.11111111111111\n",
            "\u001b[2m\u001b[36m(DefaultActor pid=30773)\u001b[0m Accuracy của poisoned task: 5.26%\n",
            "\u001b[2m\u001b[36m(DefaultActor pid=30773)\u001b[0m [Client 29] evaluate, config: {}, local accuracy: 5.2631578947368425\n",
            "\u001b[2m\u001b[36m(DefaultActor pid=30773)\u001b[0m Accuracy của poisoned task: 5.26%\n",
            "\u001b[2m\u001b[36m(DefaultActor pid=30773)\u001b[0m [Client 20] evaluate, config: {}, local accuracy: 5.2631578947368425\n",
            "\u001b[2m\u001b[36m(DefaultActor pid=30773)\u001b[0m Accuracy của poisoned task: 4.55%\n",
            "\u001b[2m\u001b[36m(DefaultActor pid=30773)\u001b[0m [Client 7] evaluate, config: {}, local accuracy: 4.545454545454546\n"
          ]
        },
        {
          "output_type": "stream",
          "name": "stderr",
          "text": [
            "DEBUG flwr 2024-01-04 16:31:02,571 | server.py:187 | evaluate_round 18 received 30 results and 0 failures\n",
            "DEBUG:flwr:evaluate_round 18 received 30 results and 0 failures\n",
            "DEBUG flwr 2024-01-04 16:31:02,579 | server.py:222 | fit_round 19: strategy sampled 10 clients (out of 30)\n",
            "DEBUG:flwr:fit_round 19: strategy sampled 10 clients (out of 30)\n"
          ]
        },
        {
          "output_type": "stream",
          "name": "stdout",
          "text": [
            "\u001b[2m\u001b[36m(DefaultActor pid=30773)\u001b[0m Accuracy của poisoned task: 10.53%\n",
            "\u001b[2m\u001b[36m(DefaultActor pid=30773)\u001b[0m [Client 11] evaluate, config: {}, local accuracy: 10.526315789473685\n",
            "\u001b[2m\u001b[36m(DefaultActor pid=30773)\u001b[0m Accuracy của poisoned task: 0.00%\n",
            "\u001b[2m\u001b[36m(DefaultActor pid=30773)\u001b[0m [Client 5] evaluate, config: {}, local accuracy: 0.0\n",
            "\u001b[2m\u001b[36m(DefaultActor pid=30773)\u001b[0m [Client 24] fit, config: {'epochs': 10, 'lr': 0.1, 'attacker_epochs': 20, 'attacker_lr': 0.05}\n",
            "\u001b[2m\u001b[36m(DefaultActor pid=30773)\u001b[0m [Client 24] get_parameters\n",
            "\u001b[2m\u001b[36m(DefaultActor pid=30773)\u001b[0m [Client 27] fit, config: {'epochs': 10, 'lr': 0.1, 'attacker_epochs': 20, 'attacker_lr': 0.05}\n",
            "\u001b[2m\u001b[36m(DefaultActor pid=30773)\u001b[0m [Client 27] get_parameters\n",
            "\u001b[2m\u001b[36m(DefaultActor pid=30773)\u001b[0m [Client 2] fit, config: {'epochs': 10, 'lr': 0.1, 'attacker_epochs': 20, 'attacker_lr': 0.05}\n",
            "\u001b[2m\u001b[36m(DefaultActor pid=30773)\u001b[0m [Client 2] get_parameters\n",
            "\u001b[2m\u001b[36m(DefaultActor pid=30773)\u001b[0m [Client 9] fit, config: {'epochs': 10, 'lr': 0.1, 'attacker_epochs': 20, 'attacker_lr': 0.05}\n",
            "\u001b[2m\u001b[36m(DefaultActor pid=30773)\u001b[0m [Client 9] get_parameters\n",
            "\u001b[2m\u001b[36m(DefaultActor pid=30773)\u001b[0m [Client 19] fit, config: {'epochs': 10, 'lr': 0.1, 'attacker_epochs': 20, 'attacker_lr': 0.05}\n",
            "\u001b[2m\u001b[36m(DefaultActor pid=30773)\u001b[0m [Client 19] get_parameters\n",
            "\u001b[2m\u001b[36m(DefaultActor pid=30773)\u001b[0m [Client 0] fit, config: {'epochs': 10, 'lr': 0.1, 'attacker_epochs': 20, 'attacker_lr': 0.05}\n",
            "\u001b[2m\u001b[36m(DefaultActor pid=30773)\u001b[0m Accuracy của poisoned task: 2.81%\n",
            "\u001b[2m\u001b[36m(DefaultActor pid=30773)\u001b[0m Training G::   0%|          | 0/1 [00:00<?, ?it/s]\n",
            "\u001b[2m\u001b[36m(DefaultActor pid=30773)\u001b[0m Poison Training::   0%|          | 0/1 [00:00<?, ?it/s]\n",
            "\u001b[2m\u001b[36m(DefaultActor pid=30773)\u001b[0m Training G::   0%|          | 0/1 [00:00<?, ?it/s]\n",
            "\u001b[2m\u001b[36m(DefaultActor pid=30773)\u001b[0m Poison Training::   0%|          | 0/1 [00:00<?, ?it/s]\n",
            "\u001b[2m\u001b[36m(DefaultActor pid=30773)\u001b[0m Training G::   0%|          | 0/1 [00:00<?, ?it/s]\n",
            "\u001b[2m\u001b[36m(DefaultActor pid=30773)\u001b[0m Poison Training::   0%|          | 0/1 [00:00<?, ?it/s]\n",
            "\u001b[2m\u001b[36m(DefaultActor pid=30773)\u001b[0m Training G::   0%|          | 0/1 [00:00<?, ?it/s]\n",
            "\u001b[2m\u001b[36m(DefaultActor pid=30773)\u001b[0m Poison Training::   0%|          | 0/1 [00:00<?, ?it/s]\n",
            "\u001b[2m\u001b[36m(DefaultActor pid=30773)\u001b[0m Training G::   0%|          | 0/1 [00:00<?, ?it/s]\n",
            "\u001b[2m\u001b[36m(DefaultActor pid=30773)\u001b[0m Poison Training::   0%|          | 0/1 [00:00<?, ?it/s]\n",
            "\u001b[2m\u001b[36m(DefaultActor pid=30773)\u001b[0m Training G::   0%|          | 0/1 [00:00<?, ?it/s]\n",
            "\u001b[2m\u001b[36m(DefaultActor pid=30773)\u001b[0m Poison Training::   0%|          | 0/1 [00:00<?, ?it/s]\n",
            "\u001b[2m\u001b[36m(DefaultActor pid=30773)\u001b[0m Training G::   0%|          | 0/1 [00:00<?, ?it/s]\n",
            "\u001b[2m\u001b[36m(DefaultActor pid=30773)\u001b[0m Poison Training::   0%|          | 0/1 [00:00<?, ?it/s]\n",
            "\u001b[2m\u001b[36m(DefaultActor pid=30773)\u001b[0m Training G::   0%|          | 0/1 [00:00<?, ?it/s]\n",
            "\u001b[2m\u001b[36m(DefaultActor pid=30773)\u001b[0m Poison Training::   0%|          | 0/1 [00:00<?, ?it/s]\n",
            "\u001b[2m\u001b[36m(DefaultActor pid=30773)\u001b[0m Training G::   0%|          | 0/1 [00:00<?, ?it/s]\n",
            "\u001b[2m\u001b[36m(DefaultActor pid=30773)\u001b[0m Poison Training::   0%|          | 0/1 [00:00<?, ?it/s]\n",
            "\u001b[2m\u001b[36m(DefaultActor pid=30773)\u001b[0m Training G::   0%|          | 0/1 [00:00<?, ?it/s]\n",
            "\u001b[2m\u001b[36m(DefaultActor pid=30773)\u001b[0m Poison Training::   0%|          | 0/1 [00:00<?, ?it/s]\n",
            "\u001b[2m\u001b[36m(DefaultActor pid=30773)\u001b[0m Training G::   0%|          | 0/1 [00:00<?, ?it/s]\n",
            "\u001b[2m\u001b[36m(DefaultActor pid=30773)\u001b[0m Poison Training::   0%|          | 0/1 [00:00<?, ?it/s]\n",
            "\u001b[2m\u001b[36m(DefaultActor pid=30773)\u001b[0m Training G::   0%|          | 0/1 [00:00<?, ?it/s]\n",
            "\u001b[2m\u001b[36m(DefaultActor pid=30773)\u001b[0m Poison Training::   0%|          | 0/1 [00:00<?, ?it/s]\n",
            "\u001b[2m\u001b[36m(DefaultActor pid=30773)\u001b[0m Training G::   0%|          | 0/1 [00:00<?, ?it/s]\n",
            "\u001b[2m\u001b[36m(DefaultActor pid=30773)\u001b[0m Poison Training::   0%|          | 0/1 [00:00<?, ?it/s]\n",
            "\u001b[2m\u001b[36m(DefaultActor pid=30773)\u001b[0m Training G::   0%|          | 0/1 [00:00<?, ?it/s]\n",
            "\u001b[2m\u001b[36m(DefaultActor pid=30773)\u001b[0m Poison Training::   0%|          | 0/1 [00:00<?, ?it/s]\n",
            "\u001b[2m\u001b[36m(DefaultActor pid=30773)\u001b[0m Training G::   0%|          | 0/1 [00:00<?, ?it/s]\n",
            "\u001b[2m\u001b[36m(DefaultActor pid=30773)\u001b[0m Poison Training::   0%|          | 0/1 [00:00<?, ?it/s]\n",
            "\u001b[2m\u001b[36m(DefaultActor pid=30773)\u001b[0m Training G::   0%|          | 0/1 [00:00<?, ?it/s]\n",
            "\u001b[2m\u001b[36m(DefaultActor pid=30773)\u001b[0m Poison Training::   0%|          | 0/1 [00:00<?, ?it/s]\n",
            "\u001b[2m\u001b[36m(DefaultActor pid=30773)\u001b[0m Training G::   0%|          | 0/1 [00:00<?, ?it/s]\n",
            "\u001b[2m\u001b[36m(DefaultActor pid=30773)\u001b[0m Poison Training::   0%|          | 0/1 [00:00<?, ?it/s]\n",
            "\u001b[2m\u001b[36m(DefaultActor pid=30773)\u001b[0m Training G::   0%|          | 0/1 [00:00<?, ?it/s]\n",
            "\u001b[2m\u001b[36m(DefaultActor pid=30773)\u001b[0m Poison Training::   0%|          | 0/1 [00:00<?, ?it/s]\n",
            "\u001b[2m\u001b[36m(DefaultActor pid=30773)\u001b[0m Training G::   0%|          | 0/1 [00:00<?, ?it/s]\n",
            "\u001b[2m\u001b[36m(DefaultActor pid=30773)\u001b[0m Poison Training::   0%|          | 0/1 [00:00<?, ?it/s]\n",
            "\u001b[2m\u001b[36m(DefaultActor pid=30773)\u001b[0m Training G::   0%|          | 0/1 [00:00<?, ?it/s]\n",
            "\u001b[2m\u001b[36m(DefaultActor pid=30773)\u001b[0m Poison Training::   0%|          | 0/1 [00:00<?, ?it/s]\n",
            "\u001b[2m\u001b[36m(DefaultActor pid=30773)\u001b[0m [Client 0] get_parameters\n",
            "\u001b[2m\u001b[36m(DefaultActor pid=30773)\u001b[0m [Client 22] fit, config: {'epochs': 10, 'lr': 0.1, 'attacker_epochs': 20, 'attacker_lr': 0.05}\n",
            "\u001b[2m\u001b[36m(DefaultActor pid=30773)\u001b[0m [Client 22] get_parameters\n",
            "\u001b[2m\u001b[36m(DefaultActor pid=30773)\u001b[0m [Client 28] fit, config: {'epochs': 10, 'lr': 0.1, 'attacker_epochs': 20, 'attacker_lr': 0.05}\n",
            "\u001b[2m\u001b[36m(DefaultActor pid=30773)\u001b[0m [Client 28] get_parameters\n",
            "\u001b[2m\u001b[36m(DefaultActor pid=30773)\u001b[0m [Client 29] fit, config: {'epochs': 10, 'lr': 0.1, 'attacker_epochs': 20, 'attacker_lr': 0.05}\n",
            "\u001b[2m\u001b[36m(DefaultActor pid=30773)\u001b[0m [Client 29] get_parameters\n",
            "\u001b[2m\u001b[36m(DefaultActor pid=30773)\u001b[0m [Client 15] fit, config: {'epochs': 10, 'lr': 0.1, 'attacker_epochs': 20, 'attacker_lr': 0.05}\n"
          ]
        },
        {
          "output_type": "stream",
          "name": "stderr",
          "text": [
            "DEBUG flwr 2024-01-04 16:32:44,599 | server.py:236 | fit_round 19 received 10 results and 0 failures\n",
            "DEBUG:flwr:fit_round 19 received 10 results and 0 failures\n"
          ]
        },
        {
          "output_type": "stream",
          "name": "stdout",
          "text": [
            "\u001b[2m\u001b[36m(DefaultActor pid=30773)\u001b[0m [Client 15] get_parameters\n",
            "Saving round 19 aggregated_parameters...\n"
          ]
        },
        {
          "output_type": "stream",
          "name": "stderr",
          "text": [
            "INFO flwr 2024-01-04 16:32:50,622 | server.py:125 | fit progress: (19, 362.6812698841095, {'accuracy': 94.18604651162791}, 2143.9876124970006)\n",
            "INFO:flwr:fit progress: (19, 362.6812698841095, {'accuracy': 94.18604651162791}, 2143.9876124970006)\n",
            "DEBUG flwr 2024-01-04 16:32:50,628 | server.py:173 | evaluate_round 19: strategy sampled 30 clients (out of 30)\n",
            "DEBUG:flwr:evaluate_round 19: strategy sampled 30 clients (out of 30)\n"
          ]
        },
        {
          "output_type": "stream",
          "name": "stdout",
          "text": [
            "Accuracy của poisoned task: 94.19%\n",
            "\u001b[2m\u001b[36m(DefaultActor pid=30773)\u001b[0m Accuracy của poisoned task: 95.00%\n",
            "\u001b[2m\u001b[36m(DefaultActor pid=30773)\u001b[0m [Client 15] evaluate, config: {}, local accuracy: 95.0\n",
            "\u001b[2m\u001b[36m(DefaultActor pid=30773)\u001b[0m Accuracy của poisoned task: 96.30%\n",
            "\u001b[2m\u001b[36m(DefaultActor pid=30773)\u001b[0m [Client 2] evaluate, config: {}, local accuracy: 96.29629629629629\n",
            "\u001b[2m\u001b[36m(DefaultActor pid=30773)\u001b[0m Accuracy của poisoned task: 90.48%\n",
            "\u001b[2m\u001b[36m(DefaultActor pid=30773)\u001b[0m [Client 24] evaluate, config: {}, local accuracy: 90.47619047619048\n",
            "\u001b[2m\u001b[36m(DefaultActor pid=30773)\u001b[0m Accuracy của poisoned task: 93.10%\n",
            "\u001b[2m\u001b[36m(DefaultActor pid=30773)\u001b[0m [Client 21] evaluate, config: {}, local accuracy: 93.10344827586206\n",
            "\u001b[2m\u001b[36m(DefaultActor pid=30773)\u001b[0m Accuracy của poisoned task: 96.00%\n",
            "\u001b[2m\u001b[36m(DefaultActor pid=30773)\u001b[0m [Client 23] evaluate, config: {}, local accuracy: 96.0\n",
            "\u001b[2m\u001b[36m(DefaultActor pid=30773)\u001b[0m Accuracy của poisoned task: 82.35%\n",
            "\u001b[2m\u001b[36m(DefaultActor pid=30773)\u001b[0m [Client 10] evaluate, config: {}, local accuracy: 82.3529411764706\n",
            "\u001b[2m\u001b[36m(DefaultActor pid=30773)\u001b[0m Accuracy của poisoned task: 100.00%\n",
            "\u001b[2m\u001b[36m(DefaultActor pid=30773)\u001b[0m [Client 16] evaluate, config: {}, local accuracy: 100.0\n",
            "\u001b[2m\u001b[36m(DefaultActor pid=30773)\u001b[0m Accuracy của poisoned task: 100.00%\n",
            "\u001b[2m\u001b[36m(DefaultActor pid=30773)\u001b[0m [Client 5] evaluate, config: {}, local accuracy: 100.0\n",
            "\u001b[2m\u001b[36m(DefaultActor pid=30773)\u001b[0m Accuracy của poisoned task: 100.00%\n",
            "\u001b[2m\u001b[36m(DefaultActor pid=30773)\u001b[0m [Client 9] evaluate, config: {}, local accuracy: 100.0\n",
            "\u001b[2m\u001b[36m(DefaultActor pid=30773)\u001b[0m Accuracy của poisoned task: 94.44%\n",
            "\u001b[2m\u001b[36m(DefaultActor pid=30773)\u001b[0m [Client 1] evaluate, config: {}, local accuracy: 94.44444444444444\n",
            "\u001b[2m\u001b[36m(DefaultActor pid=30773)\u001b[0m Accuracy của poisoned task: 95.24%\n",
            "\u001b[2m\u001b[36m(DefaultActor pid=30773)\u001b[0m [Client 6] evaluate, config: {}, local accuracy: 95.23809523809524\n",
            "\u001b[2m\u001b[36m(DefaultActor pid=30773)\u001b[0m Accuracy của poisoned task: 95.45%\n",
            "\u001b[2m\u001b[36m(DefaultActor pid=30773)\u001b[0m [Client 8] evaluate, config: {}, local accuracy: 95.45454545454545\n",
            "\u001b[2m\u001b[36m(DefaultActor pid=30773)\u001b[0m Accuracy của poisoned task: 88.24%\n",
            "\u001b[2m\u001b[36m(DefaultActor pid=30773)\u001b[0m [Client 17] evaluate, config: {}, local accuracy: 88.23529411764706\n",
            "\u001b[2m\u001b[36m(DefaultActor pid=30773)\u001b[0m Accuracy của poisoned task: 94.44%\n",
            "\u001b[2m\u001b[36m(DefaultActor pid=30773)\u001b[0m [Client 25] evaluate, config: {}, local accuracy: 94.44444444444444\n",
            "\u001b[2m\u001b[36m(DefaultActor pid=30773)\u001b[0m Accuracy của poisoned task: 94.74%\n",
            "\u001b[2m\u001b[36m(DefaultActor pid=30773)\u001b[0m [Client 13] evaluate, config: {}, local accuracy: 94.73684210526316\n",
            "\u001b[2m\u001b[36m(DefaultActor pid=30773)\u001b[0m Accuracy của poisoned task: 100.00%\n",
            "\u001b[2m\u001b[36m(DefaultActor pid=30773)\u001b[0m [Client 3] evaluate, config: {}, local accuracy: 100.0\n",
            "\u001b[2m\u001b[36m(DefaultActor pid=30773)\u001b[0m Accuracy của poisoned task: 90.91%\n",
            "\u001b[2m\u001b[36m(DefaultActor pid=30773)\u001b[0m [Client 29] evaluate, config: {}, local accuracy: 90.9090909090909\n",
            "\u001b[2m\u001b[36m(DefaultActor pid=30773)\u001b[0m Accuracy của poisoned task: 91.30%\n",
            "\u001b[2m\u001b[36m(DefaultActor pid=30773)\u001b[0m [Client 18] evaluate, config: {}, local accuracy: 91.30434782608695\n",
            "\u001b[2m\u001b[36m(DefaultActor pid=30773)\u001b[0m Accuracy của poisoned task: 100.00%\n",
            "\u001b[2m\u001b[36m(DefaultActor pid=30773)\u001b[0m [Client 22] evaluate, config: {}, local accuracy: 100.0\n",
            "\u001b[2m\u001b[36m(DefaultActor pid=30773)\u001b[0m Accuracy của poisoned task: 100.00%\n",
            "\u001b[2m\u001b[36m(DefaultActor pid=30773)\u001b[0m [Client 12] evaluate, config: {}, local accuracy: 100.0\n",
            "\u001b[2m\u001b[36m(DefaultActor pid=30773)\u001b[0m Accuracy của poisoned task: 95.83%\n",
            "\u001b[2m\u001b[36m(DefaultActor pid=30773)\u001b[0m [Client 20] evaluate, config: {}, local accuracy: 95.83333333333333\n",
            "\u001b[2m\u001b[36m(DefaultActor pid=30773)\u001b[0m Accuracy của poisoned task: 100.00%\n",
            "\u001b[2m\u001b[36m(DefaultActor pid=30773)\u001b[0m [Client 28] evaluate, config: {}, local accuracy: 100.0\n",
            "\u001b[2m\u001b[36m(DefaultActor pid=30773)\u001b[0m Accuracy của poisoned task: 95.24%\n",
            "\u001b[2m\u001b[36m(DefaultActor pid=30773)\u001b[0m [Client 14] evaluate, config: {}, local accuracy: 95.23809523809524\n",
            "\u001b[2m\u001b[36m(DefaultActor pid=30773)\u001b[0m Accuracy của poisoned task: 100.00%\n",
            "\u001b[2m\u001b[36m(DefaultActor pid=30773)\u001b[0m [Client 4] evaluate, config: {}, local accuracy: 100.0\n",
            "\u001b[2m\u001b[36m(DefaultActor pid=30773)\u001b[0m Accuracy của poisoned task: 100.00%\n",
            "\u001b[2m\u001b[36m(DefaultActor pid=30773)\u001b[0m [Client 0] evaluate, config: {}, local accuracy: 100.0\n",
            "\u001b[2m\u001b[36m(DefaultActor pid=30773)\u001b[0m Accuracy của poisoned task: 84.21%\n",
            "\u001b[2m\u001b[36m(DefaultActor pid=30773)\u001b[0m [Client 19] evaluate, config: {}, local accuracy: 84.21052631578948\n",
            "\u001b[2m\u001b[36m(DefaultActor pid=30773)\u001b[0m Accuracy của poisoned task: 95.45%\n",
            "\u001b[2m\u001b[36m(DefaultActor pid=30773)\u001b[0m [Client 27] evaluate, config: {}, local accuracy: 95.45454545454545\n",
            "\u001b[2m\u001b[36m(DefaultActor pid=30773)\u001b[0m Accuracy của poisoned task: 100.00%\n",
            "\u001b[2m\u001b[36m(DefaultActor pid=30773)\u001b[0m [Client 26] evaluate, config: {}, local accuracy: 100.0\n"
          ]
        },
        {
          "output_type": "stream",
          "name": "stderr",
          "text": [
            "DEBUG flwr 2024-01-04 16:32:56,929 | server.py:187 | evaluate_round 19 received 30 results and 0 failures\n",
            "DEBUG:flwr:evaluate_round 19 received 30 results and 0 failures\n",
            "DEBUG flwr 2024-01-04 16:32:56,933 | server.py:222 | fit_round 20: strategy sampled 10 clients (out of 30)\n",
            "DEBUG:flwr:fit_round 20: strategy sampled 10 clients (out of 30)\n"
          ]
        },
        {
          "output_type": "stream",
          "name": "stdout",
          "text": [
            "\u001b[2m\u001b[36m(DefaultActor pid=30773)\u001b[0m Accuracy của poisoned task: 90.48%\n",
            "\u001b[2m\u001b[36m(DefaultActor pid=30773)\u001b[0m [Client 11] evaluate, config: {}, local accuracy: 90.47619047619048\n",
            "\u001b[2m\u001b[36m(DefaultActor pid=30773)\u001b[0m Accuracy của poisoned task: 100.00%\n",
            "\u001b[2m\u001b[36m(DefaultActor pid=30773)\u001b[0m [Client 7] evaluate, config: {}, local accuracy: 100.0\n",
            "\u001b[2m\u001b[36m(DefaultActor pid=30773)\u001b[0m [Client 17] fit, config: {'epochs': 10, 'lr': 0.1, 'attacker_epochs': 20, 'attacker_lr': 0.05}\n",
            "\u001b[2m\u001b[36m(DefaultActor pid=30773)\u001b[0m [Client 17] get_parameters\n",
            "\u001b[2m\u001b[36m(DefaultActor pid=30773)\u001b[0m [Client 15] fit, config: {'epochs': 10, 'lr': 0.1, 'attacker_epochs': 20, 'attacker_lr': 0.05}\n",
            "\u001b[2m\u001b[36m(DefaultActor pid=30773)\u001b[0m [Client 15] get_parameters\n",
            "\u001b[2m\u001b[36m(DefaultActor pid=30773)\u001b[0m [Client 16] fit, config: {'epochs': 10, 'lr': 0.1, 'attacker_epochs': 20, 'attacker_lr': 0.05}\n",
            "\u001b[2m\u001b[36m(DefaultActor pid=30773)\u001b[0m [Client 16] get_parameters\n",
            "\u001b[2m\u001b[36m(DefaultActor pid=30773)\u001b[0m [Client 21] fit, config: {'epochs': 10, 'lr': 0.1, 'attacker_epochs': 20, 'attacker_lr': 0.05}\n",
            "\u001b[2m\u001b[36m(DefaultActor pid=30773)\u001b[0m [Client 21] get_parameters\n",
            "\u001b[2m\u001b[36m(DefaultActor pid=30773)\u001b[0m [Client 18] fit, config: {'epochs': 10, 'lr': 0.1, 'attacker_epochs': 20, 'attacker_lr': 0.05}\n",
            "\u001b[2m\u001b[36m(DefaultActor pid=30773)\u001b[0m [Client 18] get_parameters\n",
            "\u001b[2m\u001b[36m(DefaultActor pid=30773)\u001b[0m [Client 10] fit, config: {'epochs': 10, 'lr': 0.1, 'attacker_epochs': 20, 'attacker_lr': 0.05}\n",
            "\u001b[2m\u001b[36m(DefaultActor pid=30773)\u001b[0m [Client 10] get_parameters\n",
            "\u001b[2m\u001b[36m(DefaultActor pid=30773)\u001b[0m [Client 0] fit, config: {'epochs': 10, 'lr': 0.1, 'attacker_epochs': 20, 'attacker_lr': 0.05}\n",
            "\u001b[2m\u001b[36m(DefaultActor pid=30773)\u001b[0m Accuracy của poisoned task: 94.19%\n",
            "\u001b[2m\u001b[36m(DefaultActor pid=30773)\u001b[0m Training G::   0%|          | 0/1 [00:00<?, ?it/s]\n",
            "\u001b[2m\u001b[36m(DefaultActor pid=30773)\u001b[0m Poison Training::   0%|          | 0/1 [00:00<?, ?it/s]\n",
            "\u001b[2m\u001b[36m(DefaultActor pid=30773)\u001b[0m Training G::   0%|          | 0/1 [00:00<?, ?it/s]\n",
            "\u001b[2m\u001b[36m(DefaultActor pid=30773)\u001b[0m Poison Training::   0%|          | 0/1 [00:00<?, ?it/s]\n",
            "\u001b[2m\u001b[36m(DefaultActor pid=30773)\u001b[0m Training G::   0%|          | 0/1 [00:00<?, ?it/s]\n",
            "\u001b[2m\u001b[36m(DefaultActor pid=30773)\u001b[0m Poison Training::   0%|          | 0/1 [00:00<?, ?it/s]\n",
            "\u001b[2m\u001b[36m(DefaultActor pid=30773)\u001b[0m Training G::   0%|          | 0/1 [00:00<?, ?it/s]\n",
            "\u001b[2m\u001b[36m(DefaultActor pid=30773)\u001b[0m Poison Training::   0%|          | 0/1 [00:00<?, ?it/s]\n",
            "\u001b[2m\u001b[36m(DefaultActor pid=30773)\u001b[0m Training G::   0%|          | 0/1 [00:00<?, ?it/s]\n",
            "\u001b[2m\u001b[36m(DefaultActor pid=30773)\u001b[0m Poison Training::   0%|          | 0/1 [00:00<?, ?it/s]\n",
            "\u001b[2m\u001b[36m(DefaultActor pid=30773)\u001b[0m Training G::   0%|          | 0/1 [00:00<?, ?it/s]\n",
            "\u001b[2m\u001b[36m(DefaultActor pid=30773)\u001b[0m Poison Training::   0%|          | 0/1 [00:00<?, ?it/s]\n",
            "\u001b[2m\u001b[36m(DefaultActor pid=30773)\u001b[0m Training G::   0%|          | 0/1 [00:00<?, ?it/s]\n",
            "\u001b[2m\u001b[36m(DefaultActor pid=30773)\u001b[0m Poison Training::   0%|          | 0/1 [00:00<?, ?it/s]\n",
            "\u001b[2m\u001b[36m(DefaultActor pid=30773)\u001b[0m Training G::   0%|          | 0/1 [00:00<?, ?it/s]\n",
            "\u001b[2m\u001b[36m(DefaultActor pid=30773)\u001b[0m Poison Training::   0%|          | 0/1 [00:00<?, ?it/s]\n",
            "\u001b[2m\u001b[36m(DefaultActor pid=30773)\u001b[0m Training G::   0%|          | 0/1 [00:00<?, ?it/s]\n",
            "\u001b[2m\u001b[36m(DefaultActor pid=30773)\u001b[0m Poison Training::   0%|          | 0/1 [00:00<?, ?it/s]\n",
            "\u001b[2m\u001b[36m(DefaultActor pid=30773)\u001b[0m Training G::   0%|          | 0/1 [00:00<?, ?it/s]\n",
            "\u001b[2m\u001b[36m(DefaultActor pid=30773)\u001b[0m Poison Training::   0%|          | 0/1 [00:00<?, ?it/s]\n",
            "\u001b[2m\u001b[36m(DefaultActor pid=30773)\u001b[0m Training G::   0%|          | 0/1 [00:00<?, ?it/s]\n",
            "\u001b[2m\u001b[36m(DefaultActor pid=30773)\u001b[0m Poison Training::   0%|          | 0/1 [00:00<?, ?it/s]\n",
            "\u001b[2m\u001b[36m(DefaultActor pid=30773)\u001b[0m Training G::   0%|          | 0/1 [00:00<?, ?it/s]\n",
            "\u001b[2m\u001b[36m(DefaultActor pid=30773)\u001b[0m Poison Training::   0%|          | 0/1 [00:00<?, ?it/s]\n",
            "\u001b[2m\u001b[36m(DefaultActor pid=30773)\u001b[0m Training G::   0%|          | 0/1 [00:00<?, ?it/s]\n",
            "\u001b[2m\u001b[36m(DefaultActor pid=30773)\u001b[0m Poison Training::   0%|          | 0/1 [00:00<?, ?it/s]\n",
            "\u001b[2m\u001b[36m(DefaultActor pid=30773)\u001b[0m Training G::   0%|          | 0/1 [00:00<?, ?it/s]\n",
            "\u001b[2m\u001b[36m(DefaultActor pid=30773)\u001b[0m Poison Training::   0%|          | 0/1 [00:00<?, ?it/s]\n",
            "\u001b[2m\u001b[36m(DefaultActor pid=30773)\u001b[0m Training G::   0%|          | 0/1 [00:00<?, ?it/s]\n",
            "\u001b[2m\u001b[36m(DefaultActor pid=30773)\u001b[0m Poison Training::   0%|          | 0/1 [00:00<?, ?it/s]\n",
            "\u001b[2m\u001b[36m(DefaultActor pid=30773)\u001b[0m Training G::   0%|          | 0/1 [00:00<?, ?it/s]\n",
            "\u001b[2m\u001b[36m(DefaultActor pid=30773)\u001b[0m Poison Training::   0%|          | 0/1 [00:00<?, ?it/s]\n",
            "\u001b[2m\u001b[36m(DefaultActor pid=30773)\u001b[0m Training G::   0%|          | 0/1 [00:00<?, ?it/s]\n",
            "\u001b[2m\u001b[36m(DefaultActor pid=30773)\u001b[0m Poison Training::   0%|          | 0/1 [00:00<?, ?it/s]\n",
            "\u001b[2m\u001b[36m(DefaultActor pid=30773)\u001b[0m Training G::   0%|          | 0/1 [00:00<?, ?it/s]\n",
            "\u001b[2m\u001b[36m(DefaultActor pid=30773)\u001b[0m Poison Training::   0%|          | 0/1 [00:00<?, ?it/s]\n",
            "\u001b[2m\u001b[36m(DefaultActor pid=30773)\u001b[0m Training G::   0%|          | 0/1 [00:00<?, ?it/s]\n",
            "\u001b[2m\u001b[36m(DefaultActor pid=30773)\u001b[0m Poison Training::   0%|          | 0/1 [00:00<?, ?it/s]\n",
            "\u001b[2m\u001b[36m(DefaultActor pid=30773)\u001b[0m Training G::   0%|          | 0/1 [00:00<?, ?it/s]\n",
            "\u001b[2m\u001b[36m(DefaultActor pid=30773)\u001b[0m Poison Training::   0%|          | 0/1 [00:00<?, ?it/s]\n",
            "\u001b[2m\u001b[36m(DefaultActor pid=30773)\u001b[0m [Client 0] get_parameters\n",
            "\u001b[2m\u001b[36m(DefaultActor pid=30773)\u001b[0m [Client 5] fit, config: {'epochs': 10, 'lr': 0.1, 'attacker_epochs': 20, 'attacker_lr': 0.05}\n",
            "\u001b[2m\u001b[36m(DefaultActor pid=30773)\u001b[0m [Client 5] get_parameters\n",
            "\u001b[2m\u001b[36m(DefaultActor pid=30773)\u001b[0m [Client 2] fit, config: {'epochs': 10, 'lr': 0.1, 'attacker_epochs': 20, 'attacker_lr': 0.05}\n",
            "\u001b[2m\u001b[36m(DefaultActor pid=30773)\u001b[0m [Client 2] get_parameters\n",
            "\u001b[2m\u001b[36m(DefaultActor pid=30773)\u001b[0m [Client 8] fit, config: {'epochs': 10, 'lr': 0.1, 'attacker_epochs': 20, 'attacker_lr': 0.05}\n"
          ]
        },
        {
          "output_type": "stream",
          "name": "stderr",
          "text": [
            "DEBUG flwr 2024-01-04 16:34:46,179 | server.py:236 | fit_round 20 received 10 results and 0 failures\n",
            "DEBUG:flwr:fit_round 20 received 10 results and 0 failures\n"
          ]
        },
        {
          "output_type": "stream",
          "name": "stdout",
          "text": [
            "\u001b[2m\u001b[36m(DefaultActor pid=30773)\u001b[0m [Client 8] get_parameters\n",
            "Saving round 20 aggregated_parameters...\n"
          ]
        },
        {
          "output_type": "stream",
          "name": "stderr",
          "text": [
            "INFO flwr 2024-01-04 16:34:51,490 | server.py:125 | fit progress: (20, 313.44117772579193, {'accuracy': 0.7751937984496124}, 2264.8561821560006)\n",
            "INFO:flwr:fit progress: (20, 313.44117772579193, {'accuracy': 0.7751937984496124}, 2264.8561821560006)\n",
            "DEBUG flwr 2024-01-04 16:34:51,494 | server.py:173 | evaluate_round 20: strategy sampled 30 clients (out of 30)\n",
            "DEBUG:flwr:evaluate_round 20: strategy sampled 30 clients (out of 30)\n"
          ]
        },
        {
          "output_type": "stream",
          "name": "stdout",
          "text": [
            "Accuracy của poisoned task: 0.78%\n",
            "\u001b[2m\u001b[36m(DefaultActor pid=30773)\u001b[0m Accuracy của poisoned task: 0.00%\n",
            "\u001b[2m\u001b[36m(DefaultActor pid=30773)\u001b[0m [Client 0] evaluate, config: {}, local accuracy: 0.0\n",
            "\u001b[2m\u001b[36m(DefaultActor pid=30773)\u001b[0m Accuracy của poisoned task: 0.00%\n",
            "\u001b[2m\u001b[36m(DefaultActor pid=30773)\u001b[0m [Client 1] evaluate, config: {}, local accuracy: 0.0\n",
            "\u001b[2m\u001b[36m(DefaultActor pid=30773)\u001b[0m Accuracy của poisoned task: 0.00%\n",
            "\u001b[2m\u001b[36m(DefaultActor pid=30773)\u001b[0m [Client 17] evaluate, config: {}, local accuracy: 0.0\n",
            "\u001b[2m\u001b[36m(DefaultActor pid=30773)\u001b[0m Accuracy của poisoned task: 0.00%\n",
            "\u001b[2m\u001b[36m(DefaultActor pid=30773)\u001b[0m [Client 24] evaluate, config: {}, local accuracy: 0.0\n",
            "\u001b[2m\u001b[36m(DefaultActor pid=30773)\u001b[0m Accuracy của poisoned task: 5.00%\n",
            "\u001b[2m\u001b[36m(DefaultActor pid=30773)\u001b[0m [Client 25] evaluate, config: {}, local accuracy: 5.0\n",
            "\u001b[2m\u001b[36m(DefaultActor pid=30773)\u001b[0m Accuracy của poisoned task: 0.00%\n",
            "\u001b[2m\u001b[36m(DefaultActor pid=30773)\u001b[0m [Client 4] evaluate, config: {}, local accuracy: 0.0\n",
            "\u001b[2m\u001b[36m(DefaultActor pid=30773)\u001b[0m Accuracy của poisoned task: 0.00%\n",
            "\u001b[2m\u001b[36m(DefaultActor pid=30773)\u001b[0m [Client 28] evaluate, config: {}, local accuracy: 0.0\n",
            "\u001b[2m\u001b[36m(DefaultActor pid=30773)\u001b[0m Accuracy của poisoned task: 0.00%\n",
            "\u001b[2m\u001b[36m(DefaultActor pid=30773)\u001b[0m [Client 8] evaluate, config: {}, local accuracy: 0.0\n",
            "\u001b[2m\u001b[36m(DefaultActor pid=30773)\u001b[0m Accuracy của poisoned task: 0.00%\n",
            "\u001b[2m\u001b[36m(DefaultActor pid=30773)\u001b[0m [Client 15] evaluate, config: {}, local accuracy: 0.0\n",
            "\u001b[2m\u001b[36m(DefaultActor pid=30773)\u001b[0m Accuracy của poisoned task: 0.00%\n",
            "\u001b[2m\u001b[36m(DefaultActor pid=30773)\u001b[0m [Client 20] evaluate, config: {}, local accuracy: 0.0\n",
            "\u001b[2m\u001b[36m(DefaultActor pid=30773)\u001b[0m Accuracy của poisoned task: 0.00%\n",
            "\u001b[2m\u001b[36m(DefaultActor pid=30773)\u001b[0m [Client 3] evaluate, config: {}, local accuracy: 0.0\n",
            "\u001b[2m\u001b[36m(DefaultActor pid=30773)\u001b[0m Accuracy của poisoned task: 0.00%\n",
            "\u001b[2m\u001b[36m(DefaultActor pid=30773)\u001b[0m [Client 2] evaluate, config: {}, local accuracy: 0.0\n",
            "\u001b[2m\u001b[36m(DefaultActor pid=30773)\u001b[0m Accuracy của poisoned task: 0.00%\n",
            "\u001b[2m\u001b[36m(DefaultActor pid=30773)\u001b[0m [Client 7] evaluate, config: {}, local accuracy: 0.0\n",
            "\u001b[2m\u001b[36m(DefaultActor pid=30773)\u001b[0m Accuracy của poisoned task: 14.29%\n",
            "\u001b[2m\u001b[36m(DefaultActor pid=30773)\u001b[0m [Client 22] evaluate, config: {}, local accuracy: 14.285714285714286\n",
            "\u001b[2m\u001b[36m(DefaultActor pid=30773)\u001b[0m Accuracy của poisoned task: 0.00%\n",
            "\u001b[2m\u001b[36m(DefaultActor pid=30773)\u001b[0m [Client 27] evaluate, config: {}, local accuracy: 0.0\n",
            "\u001b[2m\u001b[36m(DefaultActor pid=30773)\u001b[0m Accuracy của poisoned task: 0.00%\n",
            "\u001b[2m\u001b[36m(DefaultActor pid=30773)\u001b[0m [Client 29] evaluate, config: {}, local accuracy: 0.0\n",
            "\u001b[2m\u001b[36m(DefaultActor pid=30773)\u001b[0m Accuracy của poisoned task: 0.00%\n",
            "\u001b[2m\u001b[36m(DefaultActor pid=30773)\u001b[0m [Client 13] evaluate, config: {}, local accuracy: 0.0\n",
            "\u001b[2m\u001b[36m(DefaultActor pid=30773)\u001b[0m Accuracy của poisoned task: 0.00%\n",
            "\u001b[2m\u001b[36m(DefaultActor pid=30773)\u001b[0m [Client 21] evaluate, config: {}, local accuracy: 0.0\n",
            "\u001b[2m\u001b[36m(DefaultActor pid=30773)\u001b[0m Accuracy của poisoned task: 0.00%\n",
            "\u001b[2m\u001b[36m(DefaultActor pid=30773)\u001b[0m [Client 14] evaluate, config: {}, local accuracy: 0.0\n",
            "\u001b[2m\u001b[36m(DefaultActor pid=30773)\u001b[0m Accuracy của poisoned task: 0.00%\n",
            "\u001b[2m\u001b[36m(DefaultActor pid=30773)\u001b[0m [Client 19] evaluate, config: {}, local accuracy: 0.0\n",
            "\u001b[2m\u001b[36m(DefaultActor pid=30773)\u001b[0m Accuracy của poisoned task: 0.00%\n",
            "\u001b[2m\u001b[36m(DefaultActor pid=30773)\u001b[0m [Client 23] evaluate, config: {}, local accuracy: 0.0\n",
            "\u001b[2m\u001b[36m(DefaultActor pid=30773)\u001b[0m Accuracy của poisoned task: 0.00%\n",
            "\u001b[2m\u001b[36m(DefaultActor pid=30773)\u001b[0m [Client 9] evaluate, config: {}, local accuracy: 0.0\n",
            "\u001b[2m\u001b[36m(DefaultActor pid=30773)\u001b[0m Accuracy của poisoned task: 0.00%\n",
            "\u001b[2m\u001b[36m(DefaultActor pid=30773)\u001b[0m [Client 5] evaluate, config: {}, local accuracy: 0.0\n",
            "\u001b[2m\u001b[36m(DefaultActor pid=30773)\u001b[0m Accuracy của poisoned task: 4.00%\n",
            "\u001b[2m\u001b[36m(DefaultActor pid=30773)\u001b[0m [Client 6] evaluate, config: {}, local accuracy: 4.0\n",
            "\u001b[2m\u001b[36m(DefaultActor pid=30773)\u001b[0m Accuracy của poisoned task: 0.00%\n",
            "\u001b[2m\u001b[36m(DefaultActor pid=30773)\u001b[0m [Client 10] evaluate, config: {}, local accuracy: 0.0\n",
            "\u001b[2m\u001b[36m(DefaultActor pid=30773)\u001b[0m Accuracy của poisoned task: 0.00%\n",
            "\u001b[2m\u001b[36m(DefaultActor pid=30773)\u001b[0m [Client 18] evaluate, config: {}, local accuracy: 0.0\n",
            "\u001b[2m\u001b[36m(DefaultActor pid=30773)\u001b[0m Accuracy của poisoned task: 0.00%\n",
            "\u001b[2m\u001b[36m(DefaultActor pid=30773)\u001b[0m [Client 16] evaluate, config: {}, local accuracy: 0.0\n",
            "\u001b[2m\u001b[36m(DefaultActor pid=30773)\u001b[0m Accuracy của poisoned task: 0.00%\n",
            "\u001b[2m\u001b[36m(DefaultActor pid=30773)\u001b[0m [Client 11] evaluate, config: {}, local accuracy: 0.0\n",
            "\u001b[2m\u001b[36m(DefaultActor pid=30773)\u001b[0m Accuracy của poisoned task: 0.00%\n",
            "\u001b[2m\u001b[36m(DefaultActor pid=30773)\u001b[0m [Client 12] evaluate, config: {}, local accuracy: 0.0\n"
          ]
        },
        {
          "output_type": "stream",
          "name": "stderr",
          "text": [
            "DEBUG flwr 2024-01-04 16:34:58,154 | server.py:187 | evaluate_round 20 received 30 results and 0 failures\n",
            "DEBUG:flwr:evaluate_round 20 received 30 results and 0 failures\n",
            "INFO flwr 2024-01-04 16:34:58,157 | server.py:153 | FL finished in 2271.5229974139993\n",
            "INFO:flwr:FL finished in 2271.5229974139993\n",
            "INFO flwr 2024-01-04 16:34:58,160 | app.py:226 | app_fit: losses_distributed [(1, 11.206714685757955), (2, 11.19410365819931), (3, 11.195566952228546), (4, 11.143928519884746), (5, 11.521359046300253), (6, 11.146599706013998), (7, 11.086363271872203), (8, 11.044629414876303), (9, 11.013999609152476), (10, 11.085280839602152), (11, 11.022748347123464), (12, 11.045619750022889), (13, 11.054618287086488), (14, 10.974130976200104), (15, 10.996946064631144), (16, 10.970317721366882), (17, 11.021864970525106), (18, 11.049936060110728), (19, 12.716094748179119), (20, 11.003998045126597)]\n",
            "INFO:flwr:app_fit: losses_distributed [(1, 11.206714685757955), (2, 11.19410365819931), (3, 11.195566952228546), (4, 11.143928519884746), (5, 11.521359046300253), (6, 11.146599706013998), (7, 11.086363271872203), (8, 11.044629414876303), (9, 11.013999609152476), (10, 11.085280839602152), (11, 11.022748347123464), (12, 11.045619750022889), (13, 11.054618287086488), (14, 10.974130976200104), (15, 10.996946064631144), (16, 10.970317721366882), (17, 11.021864970525106), (18, 11.049936060110728), (19, 12.716094748179119), (20, 11.003998045126597)]\n",
            "INFO flwr 2024-01-04 16:34:58,162 | app.py:227 | app_fit: metrics_distributed_fit {}\n",
            "INFO:flwr:app_fit: metrics_distributed_fit {}\n",
            "INFO flwr 2024-01-04 16:34:58,164 | app.py:228 | app_fit: metrics_distributed {'accuracy': [(1, 0.9840323224631071), (2, 0.6864197530864198), (3, 0.7634809634809635), (4, 1.1453843091774127), (5, 16.93471226189465), (6, 4.694274711941962), (7, 0.784361155413787), (8, 0.75), (9, 0.5742204655248134), (10, 1.1648383779962728), (11, 0.30423280423280424), (12, 1.2711946922473238), (13, 0.8167548500881835), (14, 0.712962962962963), (15, 0.6234737484737485), (16, 0.0), (17, 0.45227920227920226), (18, 4.236021414590905), (19, 95.30695571941303), (20, 1.0060755336617406)]}\n",
            "INFO:flwr:app_fit: metrics_distributed {'accuracy': [(1, 0.9840323224631071), (2, 0.6864197530864198), (3, 0.7634809634809635), (4, 1.1453843091774127), (5, 16.93471226189465), (6, 4.694274711941962), (7, 0.784361155413787), (8, 0.75), (9, 0.5742204655248134), (10, 1.1648383779962728), (11, 0.30423280423280424), (12, 1.2711946922473238), (13, 0.8167548500881835), (14, 0.712962962962963), (15, 0.6234737484737485), (16, 0.0), (17, 0.45227920227920226), (18, 4.236021414590905), (19, 95.30695571941303), (20, 1.0060755336617406)]}\n",
            "INFO flwr 2024-01-04 16:34:58,165 | app.py:229 | app_fit: losses_centralized [(0, 320.9066878557205), (1, 319.37378227710724), (2, 318.29129469394684), (3, 317.71608448028564), (4, 317.0902304649353), (5, 327.8020248413086), (6, 318.09258699417114), (7, 315.818892121315), (8, 315.319083571434), (9, 315.04876148700714), (10, 314.8620140552521), (11, 314.819194316864), (12, 314.62602722644806), (13, 314.4929554462433), (14, 314.19060575962067), (15, 313.91240894794464), (16, 313.93573319911957), (17, 313.66773295402527), (18, 315.0934386253357), (19, 362.6812698841095), (20, 313.44117772579193)]\n",
            "INFO:flwr:app_fit: losses_centralized [(0, 320.9066878557205), (1, 319.37378227710724), (2, 318.29129469394684), (3, 317.71608448028564), (4, 317.0902304649353), (5, 327.8020248413086), (6, 318.09258699417114), (7, 315.818892121315), (8, 315.319083571434), (9, 315.04876148700714), (10, 314.8620140552521), (11, 314.819194316864), (12, 314.62602722644806), (13, 314.4929554462433), (14, 314.19060575962067), (15, 313.91240894794464), (16, 313.93573319911957), (17, 313.66773295402527), (18, 315.0934386253357), (19, 362.6812698841095), (20, 313.44117772579193)]\n",
            "INFO flwr 2024-01-04 16:34:58,170 | app.py:230 | app_fit: metrics_centralized {'accuracy': [(0, 1.065891472868217), (1, 0.872093023255814), (2, 1.065891472868217), (3, 0.9689922480620154), (4, 0.872093023255814), (5, 17.05426356589147), (6, 4.941860465116279), (7, 1.065891472868217), (8, 0.9689922480620154), (9, 0.6782945736434108), (10, 0.7751937984496124), (11, 0.7751937984496124), (12, 0.9689922480620154), (13, 0.7751937984496124), (14, 0.6782945736434108), (15, 0.6782945736434108), (16, 0.6782945736434108), (17, 0.29069767441860467), (18, 2.810077519379845), (19, 94.18604651162791), (20, 0.7751937984496124)]}\n",
            "INFO:flwr:app_fit: metrics_centralized {'accuracy': [(0, 1.065891472868217), (1, 0.872093023255814), (2, 1.065891472868217), (3, 0.9689922480620154), (4, 0.872093023255814), (5, 17.05426356589147), (6, 4.941860465116279), (7, 1.065891472868217), (8, 0.9689922480620154), (9, 0.6782945736434108), (10, 0.7751937984496124), (11, 0.7751937984496124), (12, 0.9689922480620154), (13, 0.7751937984496124), (14, 0.6782945736434108), (15, 0.6782945736434108), (16, 0.6782945736434108), (17, 0.29069767441860467), (18, 2.810077519379845), (19, 94.18604651162791), (20, 0.7751937984496124)]}\n"
          ]
        }
      ]
    },
    {
      "cell_type": "code",
      "source": [
        "import matplotlib.pyplot as plt\n",
        "\n",
        "print(f\"{history.metrics_distributed = }\")\n",
        "\n",
        "global_accuracy_centralised = history.metrics_distributed[\"accuracy\"]\n",
        "round = [data[0] for data in global_accuracy_centralised]\n",
        "acc = [data[1] for data in global_accuracy_centralised]\n",
        "plt.plot(round, acc)\n",
        "plt.grid()\n",
        "plt.ylabel(\"Accuracy (%)\")\n",
        "plt.xlabel(\"Round\")\n",
        "plt.title(\"MNIST - IID - 30 clients with 10 clients per round\")"
      ],
      "metadata": {
        "id": "NECbOpWgcxdV",
        "outputId": "d57b86d1-37b8-411c-949e-c7d4cf862273",
        "colab": {
          "base_uri": "https://localhost:8080/",
          "height": 527
        }
      },
      "execution_count": 32,
      "outputs": [
        {
          "output_type": "stream",
          "name": "stdout",
          "text": [
            "history.metrics_distributed = {'accuracy': [(1, 0.9840323224631071), (2, 0.6864197530864198), (3, 0.7634809634809635), (4, 1.1453843091774127), (5, 16.93471226189465), (6, 4.694274711941962), (7, 0.784361155413787), (8, 0.75), (9, 0.5742204655248134), (10, 1.1648383779962728), (11, 0.30423280423280424), (12, 1.2711946922473238), (13, 0.8167548500881835), (14, 0.712962962962963), (15, 0.6234737484737485), (16, 0.0), (17, 0.45227920227920226), (18, 4.236021414590905), (19, 95.30695571941303), (20, 1.0060755336617406)]}\n"
          ]
        },
        {
          "output_type": "execute_result",
          "data": {
            "text/plain": [
              "Text(0.5, 1.0, 'MNIST - IID - 30 clients with 10 clients per round')"
            ]
          },
          "metadata": {},
          "execution_count": 32
        },
        {
          "output_type": "display_data",
          "data": {
            "text/plain": [
              "<Figure size 640x480 with 1 Axes>"
            ],
            "image/png": "[encoded data removed]"
          },
          "metadata": {}
        }
      ]
    }
  ],
  "metadata": {
    "colab": {
      "provenance": [],
      "gpuType": "T4",
      "include_colab_link": true
    },
    "kernelspec": {
      "display_name": "Python 3",
      "name": "python3"
    },
    "accelerator": "GPU"
  },
  "nbformat": 4,
  "nbformat_minor": 0
}